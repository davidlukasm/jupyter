{
 "cells": [
  {
   "cell_type": "code",
   "execution_count": 1,
   "metadata": {
    "scrolled": false
   },
   "outputs": [
    {
     "data": {
      "text/html": [
       "<h2 style=\"page-break-before: always;\">Akademie der bildenden Künste Wien</h2>"
      ],
      "text/plain": [
       "<IPython.core.display.HTML object>"
      ]
     },
     "metadata": {},
     "output_type": "display_data"
    },
    {
     "data": {
      "text/html": [
       "<h3>Vergleichbare Universitäten in Publikationen- und Drittmittel-Struktur</h3><ul>"
      ],
      "text/plain": [
       "<IPython.core.display.HTML object>"
      ]
     },
     "metadata": {},
     "output_type": "display_data"
    },
    {
     "data": {
      "text/html": [
       "<li style=\"margin-bottom: 5px;\">Universität für angewandte Kunst Wien</li>"
      ],
      "text/plain": [
       "<IPython.core.display.HTML object>"
      ]
     },
     "metadata": {},
     "output_type": "display_data"
    },
    {
     "data": {
      "text/html": [
       "</ul>"
      ],
      "text/plain": [
       "<IPython.core.display.HTML object>"
      ]
     },
     "metadata": {},
     "output_type": "display_data"
    },
    {
     "data": {
      "text/html": [
       "<h4>Vergleichbar bei der Publikationen-Struktur</h4>"
      ],
      "text/plain": [
       "<IPython.core.display.HTML object>"
      ]
     },
     "metadata": {},
     "output_type": "display_data"
    },
    {
     "data": {
      "text/html": [
       "<p><strong>Universität für angewandte Kunst Wien</strong> (53.6%, wegen &auml;hnlicher interner Relevanz von Kunstwissenschaften, Bildende Kunst, Medien- und Kommunikationswissenschaften)</p>"
      ],
      "text/plain": [
       "<IPython.core.display.HTML object>"
      ]
     },
     "metadata": {},
     "output_type": "display_data"
    },
    {
     "data": {
      "text/html": [
       "<h4>Vergleichbar bei der Drittmittel-Struktur</h4>"
      ],
      "text/plain": [
       "<IPython.core.display.HTML object>"
      ]
     },
     "metadata": {},
     "output_type": "display_data"
    },
    {
     "data": {
      "text/html": [
       "<p><strong>Universität für angewandte Kunst Wien</strong> (55.7%, wegen &auml;hnlicher interner Relevanz von Kunstwissenschaften, Architektur, Bildende Kunst)</p>"
      ],
      "text/plain": [
       "<IPython.core.display.HTML object>"
      ]
     },
     "metadata": {},
     "output_type": "display_data"
    },
    {
     "data": {
      "text/html": [
       "<p><small>Universitäten mit einer Ähnlichkeit von weniger als 50% werden nicht angezeigt.</small></p>"
      ],
      "text/plain": [
       "<IPython.core.display.HTML object>"
      ]
     },
     "metadata": {},
     "output_type": "display_data"
    },
    {
     "data": {
      "text/html": [
       "<h3>Publikationen-Struktur der ABW</h3>"
      ],
      "text/plain": [
       "<IPython.core.display.HTML object>"
      ]
     },
     "metadata": {},
     "output_type": "display_data"
    },
    {
     "data": {
      "text/html": [
       "Angezeigt werden WZW, die zusammen 72.0% der Publikationen an der ABW ausmachen. Alle anderen WZW tragen je weniger als 6.1% bei. Die Spalte \"Ranking\" bezieht sich  auf den &ouml;sterreichweiten Vergleich der absoluten Werte pro WZW"
      ],
      "text/plain": [
       "<IPython.core.display.HTML object>"
      ]
     },
     "metadata": {},
     "output_type": "display_data"
    },
    {
     "data": {
      "text/html": [
       "<style  type=\"text/css\" >\n",
       "    #T_cd301610_afd2_11e9_ba46_3791e66294cerow0_col0 {\n",
       "            background-color:  white;\n",
       "        }    #T_cd301610_afd2_11e9_ba46_3791e66294cerow0_col1 {\n",
       "            background-color:  white;\n",
       "        }    #T_cd301610_afd2_11e9_ba46_3791e66294cerow0_col2 {\n",
       "            background-color:  white;\n",
       "        }    #T_cd301610_afd2_11e9_ba46_3791e66294cerow0_col3 {\n",
       "            background-color:  white;\n",
       "        }    #T_cd301610_afd2_11e9_ba46_3791e66294cerow1_col0 {\n",
       "            background-color:  green;\n",
       "        }    #T_cd301610_afd2_11e9_ba46_3791e66294cerow1_col1 {\n",
       "            background-color:  green;\n",
       "        }    #T_cd301610_afd2_11e9_ba46_3791e66294cerow1_col2 {\n",
       "            background-color:  green;\n",
       "        }    #T_cd301610_afd2_11e9_ba46_3791e66294cerow1_col3 {\n",
       "            background-color:  green;\n",
       "        }    #T_cd301610_afd2_11e9_ba46_3791e66294cerow2_col0 {\n",
       "            background-color:  white;\n",
       "        }    #T_cd301610_afd2_11e9_ba46_3791e66294cerow2_col1 {\n",
       "            background-color:  white;\n",
       "        }    #T_cd301610_afd2_11e9_ba46_3791e66294cerow2_col2 {\n",
       "            background-color:  white;\n",
       "        }    #T_cd301610_afd2_11e9_ba46_3791e66294cerow2_col3 {\n",
       "            background-color:  white;\n",
       "        }    #T_cd301610_afd2_11e9_ba46_3791e66294cerow3_col0 {\n",
       "            background-color:  white;\n",
       "        }    #T_cd301610_afd2_11e9_ba46_3791e66294cerow3_col1 {\n",
       "            background-color:  white;\n",
       "        }    #T_cd301610_afd2_11e9_ba46_3791e66294cerow3_col2 {\n",
       "            background-color:  white;\n",
       "        }    #T_cd301610_afd2_11e9_ba46_3791e66294cerow3_col3 {\n",
       "            background-color:  white;\n",
       "        }    #T_cd301610_afd2_11e9_ba46_3791e66294cerow4_col0 {\n",
       "            background-color:  green;\n",
       "        }    #T_cd301610_afd2_11e9_ba46_3791e66294cerow4_col1 {\n",
       "            background-color:  green;\n",
       "        }    #T_cd301610_afd2_11e9_ba46_3791e66294cerow4_col2 {\n",
       "            background-color:  green;\n",
       "        }    #T_cd301610_afd2_11e9_ba46_3791e66294cerow4_col3 {\n",
       "            background-color:  green;\n",
       "        }    #T_cd301610_afd2_11e9_ba46_3791e66294cerow5_col0 {\n",
       "            background-color:  white;\n",
       "        }    #T_cd301610_afd2_11e9_ba46_3791e66294cerow5_col1 {\n",
       "            background-color:  white;\n",
       "        }    #T_cd301610_afd2_11e9_ba46_3791e66294cerow5_col2 {\n",
       "            background-color:  white;\n",
       "        }    #T_cd301610_afd2_11e9_ba46_3791e66294cerow5_col3 {\n",
       "            background-color:  white;\n",
       "        }</style><table id=\"T_cd301610_afd2_11e9_ba46_3791e66294ce\" ><thead>    <tr>        <th class=\"blank level0\" ></th>        <th class=\"col_heading level0 col0\" >Intern</th>        <th class=\"col_heading level0 col1\" >Publikationen</th>        <th class=\"col_heading level0 col2\" >Ranking</th>        <th class=\"col_heading level0 col3\" >Universität im Vergleich</th>    </tr>    <tr>        <th class=\"index_name level0\" >WZW</th>        <th class=\"blank\" ></th>        <th class=\"blank\" ></th>        <th class=\"blank\" ></th>        <th class=\"blank\" ></th>    </tr></thead><tbody>\n",
       "                <tr>\n",
       "                        <th id=\"T_cd301610_afd2_11e9_ba46_3791e66294celevel0_row0\" class=\"row_heading level0 row0\" >Kunstwissenschaften</th>\n",
       "                        <td id=\"T_cd301610_afd2_11e9_ba46_3791e66294cerow0_col0\" class=\"data row0 col0\" >23.48%</td>\n",
       "                        <td id=\"T_cd301610_afd2_11e9_ba46_3791e66294cerow0_col1\" class=\"data row0 col1\" >31 Publikationen</td>\n",
       "                        <td id=\"T_cd301610_afd2_11e9_ba46_3791e66294cerow0_col2\" class=\"data row0 col2\" >9. Platz</td>\n",
       "                        <td id=\"T_cd301610_afd2_11e9_ba46_3791e66294cerow0_col3\" class=\"data row0 col3\" ><img src=\"ABWKunstwissenschaften_Publikationen.png\", width=250, height=200/></td>\n",
       "            </tr>\n",
       "            <tr>\n",
       "                        <th id=\"T_cd301610_afd2_11e9_ba46_3791e66294celevel0_row1\" class=\"row_heading level0 row1\" >Bildende Kunst</th>\n",
       "                        <td id=\"T_cd301610_afd2_11e9_ba46_3791e66294cerow1_col0\" class=\"data row1 col0\" >18.18%</td>\n",
       "                        <td id=\"T_cd301610_afd2_11e9_ba46_3791e66294cerow1_col1\" class=\"data row1 col1\" >24 Publikationen</td>\n",
       "                        <td id=\"T_cd301610_afd2_11e9_ba46_3791e66294cerow1_col2\" class=\"data row1 col2\" >1. Platz</td>\n",
       "                        <td id=\"T_cd301610_afd2_11e9_ba46_3791e66294cerow1_col3\" class=\"data row1 col3\" ><img src=\"ABWBildende_Kunst_Publikationen.png\", width=250, height=200/></td>\n",
       "            </tr>\n",
       "            <tr>\n",
       "                        <th id=\"T_cd301610_afd2_11e9_ba46_3791e66294celevel0_row2\" class=\"row_heading level0 row2\" >Medien- und Kommunikationswissenschaften</th>\n",
       "                        <td id=\"T_cd301610_afd2_11e9_ba46_3791e66294cerow2_col0\" class=\"data row2 col0\" >8.33%</td>\n",
       "                        <td id=\"T_cd301610_afd2_11e9_ba46_3791e66294cerow2_col1\" class=\"data row2 col1\" >11 Publikationen</td>\n",
       "                        <td id=\"T_cd301610_afd2_11e9_ba46_3791e66294cerow2_col2\" class=\"data row2 col2\" >5. Platz</td>\n",
       "                        <td id=\"T_cd301610_afd2_11e9_ba46_3791e66294cerow2_col3\" class=\"data row2 col3\" ><img src=\"ABWMedien-_und_Kommunikationswissenschaften_Publikationen.png\", width=250, height=200/></td>\n",
       "            </tr>\n",
       "            <tr>\n",
       "                        <th id=\"T_cd301610_afd2_11e9_ba46_3791e66294celevel0_row3\" class=\"row_heading level0 row3\" >Soziologie</th>\n",
       "                        <td id=\"T_cd301610_afd2_11e9_ba46_3791e66294cerow3_col0\" class=\"data row3 col0\" >8.33%</td>\n",
       "                        <td id=\"T_cd301610_afd2_11e9_ba46_3791e66294cerow3_col1\" class=\"data row3 col1\" >11 Publikationen</td>\n",
       "                        <td id=\"T_cd301610_afd2_11e9_ba46_3791e66294cerow3_col2\" class=\"data row3 col2\" >12. Platz</td>\n",
       "                        <td id=\"T_cd301610_afd2_11e9_ba46_3791e66294cerow3_col3\" class=\"data row3 col3\" ><img src=\"ABWSoziologie_Publikationen.png\", width=250, height=200/></td>\n",
       "            </tr>\n",
       "            <tr>\n",
       "                        <th id=\"T_cd301610_afd2_11e9_ba46_3791e66294celevel0_row4\" class=\"row_heading level0 row4\" >Film und Fernsehen</th>\n",
       "                        <td id=\"T_cd301610_afd2_11e9_ba46_3791e66294cerow4_col0\" class=\"data row4 col0\" >7.58%</td>\n",
       "                        <td id=\"T_cd301610_afd2_11e9_ba46_3791e66294cerow4_col1\" class=\"data row4 col1\" >10 Publikationen</td>\n",
       "                        <td id=\"T_cd301610_afd2_11e9_ba46_3791e66294cerow4_col2\" class=\"data row4 col2\" >1. Platz</td>\n",
       "                        <td id=\"T_cd301610_afd2_11e9_ba46_3791e66294cerow4_col3\" class=\"data row4 col3\" ><img src=\"ABWFilm_und_Fernsehen_Publikationen.png\", width=250, height=200/></td>\n",
       "            </tr>\n",
       "            <tr>\n",
       "                        <th id=\"T_cd301610_afd2_11e9_ba46_3791e66294celevel0_row5\" class=\"row_heading level0 row5\" >Chemie</th>\n",
       "                        <td id=\"T_cd301610_afd2_11e9_ba46_3791e66294cerow5_col0\" class=\"data row5 col0\" >6.06%</td>\n",
       "                        <td id=\"T_cd301610_afd2_11e9_ba46_3791e66294cerow5_col1\" class=\"data row5 col1\" >8 Publikationen</td>\n",
       "                        <td id=\"T_cd301610_afd2_11e9_ba46_3791e66294cerow5_col2\" class=\"data row5 col2\" >12. Platz</td>\n",
       "                        <td id=\"T_cd301610_afd2_11e9_ba46_3791e66294cerow5_col3\" class=\"data row5 col3\" ><img src=\"ABWChemie_Publikationen.png\", width=250, height=200/></td>\n",
       "            </tr>\n",
       "    </tbody></table>"
      ],
      "text/plain": [
       "<IPython.core.display.HTML object>"
      ]
     },
     "metadata": {},
     "output_type": "display_data"
    },
    {
     "data": {
      "text/html": [
       "<h3>Drittmittel-Struktur der ABW</h3>"
      ],
      "text/plain": [
       "<IPython.core.display.HTML object>"
      ]
     },
     "metadata": {},
     "output_type": "display_data"
    },
    {
     "data": {
      "text/html": [
       "Angezeigt werden WZW, die zusammen 70.4% der Drittmittel an der ABW ausmachen. Alle anderen WZW tragen je weniger als 29.6% bei. Die Spalte \"Ranking\" bezieht sich  auf den &ouml;sterreichweiten Vergleich der absoluten Werte pro WZW"
      ],
      "text/plain": [
       "<IPython.core.display.HTML object>"
      ]
     },
     "metadata": {},
     "output_type": "display_data"
    },
    {
     "data": {
      "text/html": [
       "<style  type=\"text/css\" >\n",
       "    #T_cd4d10bc_afd2_11e9_ba46_3791e66294cerow0_col0 {\n",
       "            background-color:  yellow;\n",
       "        }    #T_cd4d10bc_afd2_11e9_ba46_3791e66294cerow0_col1 {\n",
       "            background-color:  yellow;\n",
       "        }    #T_cd4d10bc_afd2_11e9_ba46_3791e66294cerow0_col2 {\n",
       "            background-color:  yellow;\n",
       "        }    #T_cd4d10bc_afd2_11e9_ba46_3791e66294cerow0_col3 {\n",
       "            background-color:  yellow;\n",
       "        }    #T_cd4d10bc_afd2_11e9_ba46_3791e66294cerow1_col0 {\n",
       "            background-color:  green;\n",
       "        }    #T_cd4d10bc_afd2_11e9_ba46_3791e66294cerow1_col1 {\n",
       "            background-color:  green;\n",
       "        }    #T_cd4d10bc_afd2_11e9_ba46_3791e66294cerow1_col2 {\n",
       "            background-color:  green;\n",
       "        }    #T_cd4d10bc_afd2_11e9_ba46_3791e66294cerow1_col3 {\n",
       "            background-color:  green;\n",
       "        }</style><table id=\"T_cd4d10bc_afd2_11e9_ba46_3791e66294ce\" ><thead>    <tr>        <th class=\"blank level0\" ></th>        <th class=\"col_heading level0 col0\" >Intern</th>        <th class=\"col_heading level0 col1\" >Drittmittel</th>        <th class=\"col_heading level0 col2\" >Ranking</th>        <th class=\"col_heading level0 col3\" >Universität im Vergleich</th>    </tr>    <tr>        <th class=\"index_name level0\" >WZW</th>        <th class=\"blank\" ></th>        <th class=\"blank\" ></th>        <th class=\"blank\" ></th>        <th class=\"blank\" ></th>    </tr></thead><tbody>\n",
       "                <tr>\n",
       "                        <th id=\"T_cd4d10bc_afd2_11e9_ba46_3791e66294celevel0_row0\" class=\"row_heading level0 row0\" >Kunstwissenschaften</th>\n",
       "                        <td id=\"T_cd4d10bc_afd2_11e9_ba46_3791e66294cerow0_col0\" class=\"data row0 col0\" >36.19%</td>\n",
       "                        <td id=\"T_cd4d10bc_afd2_11e9_ba46_3791e66294cerow0_col1\" class=\"data row0 col1\" >587,593 €</td>\n",
       "                        <td id=\"T_cd4d10bc_afd2_11e9_ba46_3791e66294cerow0_col2\" class=\"data row0 col2\" >3. Platz</td>\n",
       "                        <td id=\"T_cd4d10bc_afd2_11e9_ba46_3791e66294cerow0_col3\" class=\"data row0 col3\" ><img src=\"ABWKunstwissenschaften_Drittmittel.png\", width=250, height=200/></td>\n",
       "            </tr>\n",
       "            <tr>\n",
       "                        <th id=\"T_cd4d10bc_afd2_11e9_ba46_3791e66294celevel0_row1\" class=\"row_heading level0 row1\" >Pädagogik / Vermittlung (2)</th>\n",
       "                        <td id=\"T_cd4d10bc_afd2_11e9_ba46_3791e66294cerow1_col0\" class=\"data row1 col0\" >34.23%</td>\n",
       "                        <td id=\"T_cd4d10bc_afd2_11e9_ba46_3791e66294cerow1_col1\" class=\"data row1 col1\" >555,820 €</td>\n",
       "                        <td id=\"T_cd4d10bc_afd2_11e9_ba46_3791e66294cerow1_col2\" class=\"data row1 col2\" >1. Platz</td>\n",
       "                        <td id=\"T_cd4d10bc_afd2_11e9_ba46_3791e66294cerow1_col3\" class=\"data row1 col3\" ><img src=\"ABWPädagogik__Vermittlung_2_Drittmittel.png\", width=250, height=200/></td>\n",
       "            </tr>\n",
       "    </tbody></table>"
      ],
      "text/plain": [
       "<IPython.core.display.HTML object>"
      ]
     },
     "metadata": {},
     "output_type": "display_data"
    },
    {
     "data": {
      "text/html": [
       "<h2 style=\"page-break-before: always;\">Medizinische Universität Graz</h2>"
      ],
      "text/plain": [
       "<IPython.core.display.HTML object>"
      ]
     },
     "metadata": {},
     "output_type": "display_data"
    },
    {
     "data": {
      "text/html": [
       "<h3>Vergleichbare Universitäten in Publikationen- und Drittmittel-Struktur</h3><ul>"
      ],
      "text/plain": [
       "<IPython.core.display.HTML object>"
      ]
     },
     "metadata": {},
     "output_type": "display_data"
    },
    {
     "data": {
      "text/html": [
       "<li><strong>Keine.</strong> Die Medizinische Universität Graz ist stark spezialisiert.</li>"
      ],
      "text/plain": [
       "<IPython.core.display.HTML object>"
      ]
     },
     "metadata": {},
     "output_type": "display_data"
    },
    {
     "data": {
      "text/html": [
       "</ul>"
      ],
      "text/plain": [
       "<IPython.core.display.HTML object>"
      ]
     },
     "metadata": {},
     "output_type": "display_data"
    },
    {
     "data": {
      "text/html": [
       "<h4>Vergleichbar bei der Publikationen-Struktur</h4>"
      ],
      "text/plain": [
       "<IPython.core.display.HTML object>"
      ]
     },
     "metadata": {},
     "output_type": "display_data"
    },
    {
     "data": {
      "text/html": [
       "<p><strong>Medizinische Universität Innsbruck</strong> (87.1%, wegen &auml;hnlicher interner Relevanz von Klinische Medizin, Medizinisch-theoretische Wissenschaften, Pharmazie, Biologie), <strong>Medizinische Universität Wien</strong> (86.3%, wegen &auml;hnlicher interner Relevanz von Klinische Medizin, Medizinisch-theoretische Wissenschaften, Pharmazie, Gesundheitswissenschaften)</p>"
      ],
      "text/plain": [
       "<IPython.core.display.HTML object>"
      ]
     },
     "metadata": {},
     "output_type": "display_data"
    },
    {
     "data": {
      "text/html": [
       "<h4>Vergleichbar bei der Drittmittel-Struktur</h4>"
      ],
      "text/plain": [
       "<IPython.core.display.HTML object>"
      ]
     },
     "metadata": {},
     "output_type": "display_data"
    },
    {
     "data": {
      "text/html": [
       "<p>Die Medizinische Universität Graz ist im Bereich Drittmittel spezialisiert.<br/><strong>Keine</strong> andere Universität ähnelt der Medizinische Universität Graz in der Drittmittel-Struktur in auffälliger Weise.</p>"
      ],
      "text/plain": [
       "<IPython.core.display.HTML object>"
      ]
     },
     "metadata": {},
     "output_type": "display_data"
    },
    {
     "data": {
      "text/html": [
       "<p><small>Universitäten mit einer Ähnlichkeit von weniger als 50% werden nicht angezeigt.</small></p>"
      ],
      "text/plain": [
       "<IPython.core.display.HTML object>"
      ]
     },
     "metadata": {},
     "output_type": "display_data"
    },
    {
     "data": {
      "text/html": [
       "<h3>Publikationen-Struktur der MUG</h3>"
      ],
      "text/plain": [
       "<IPython.core.display.HTML object>"
      ]
     },
     "metadata": {},
     "output_type": "display_data"
    },
    {
     "data": {
      "text/html": [
       "Angezeigt werden WZW, die zusammen 77.8% der Publikationen an der MUG ausmachen. Alle anderen WZW tragen je weniger als 16.9% bei. Die Spalte \"Ranking\" bezieht sich  auf den &ouml;sterreichweiten Vergleich der absoluten Werte pro WZW"
      ],
      "text/plain": [
       "<IPython.core.display.HTML object>"
      ]
     },
     "metadata": {},
     "output_type": "display_data"
    },
    {
     "data": {
      "text/html": [
       "<style  type=\"text/css\" >\n",
       "    #T_cd6d11aa_afd2_11e9_ba46_3791e66294cerow0_col0 {\n",
       "            background-color:  yellow;\n",
       "        }    #T_cd6d11aa_afd2_11e9_ba46_3791e66294cerow0_col1 {\n",
       "            background-color:  yellow;\n",
       "        }    #T_cd6d11aa_afd2_11e9_ba46_3791e66294cerow0_col2 {\n",
       "            background-color:  yellow;\n",
       "        }    #T_cd6d11aa_afd2_11e9_ba46_3791e66294cerow0_col3 {\n",
       "            background-color:  yellow;\n",
       "        }    #T_cd6d11aa_afd2_11e9_ba46_3791e66294cerow1_col0 {\n",
       "            background-color:  yellow;\n",
       "        }    #T_cd6d11aa_afd2_11e9_ba46_3791e66294cerow1_col1 {\n",
       "            background-color:  yellow;\n",
       "        }    #T_cd6d11aa_afd2_11e9_ba46_3791e66294cerow1_col2 {\n",
       "            background-color:  yellow;\n",
       "        }    #T_cd6d11aa_afd2_11e9_ba46_3791e66294cerow1_col3 {\n",
       "            background-color:  yellow;\n",
       "        }</style><table id=\"T_cd6d11aa_afd2_11e9_ba46_3791e66294ce\" ><thead>    <tr>        <th class=\"blank level0\" ></th>        <th class=\"col_heading level0 col0\" >Intern</th>        <th class=\"col_heading level0 col1\" >Publikationen</th>        <th class=\"col_heading level0 col2\" >Ranking</th>        <th class=\"col_heading level0 col3\" >Universität im Vergleich</th>    </tr>    <tr>        <th class=\"index_name level0\" >WZW</th>        <th class=\"blank\" ></th>        <th class=\"blank\" ></th>        <th class=\"blank\" ></th>        <th class=\"blank\" ></th>    </tr></thead><tbody>\n",
       "                <tr>\n",
       "                        <th id=\"T_cd6d11aa_afd2_11e9_ba46_3791e66294celevel0_row0\" class=\"row_heading level0 row0\" >Klinische Medizin</th>\n",
       "                        <td id=\"T_cd6d11aa_afd2_11e9_ba46_3791e66294cerow0_col0\" class=\"data row0 col0\" >60.94%</td>\n",
       "                        <td id=\"T_cd6d11aa_afd2_11e9_ba46_3791e66294cerow0_col1\" class=\"data row0 col1\" >1521 Publikationen</td>\n",
       "                        <td id=\"T_cd6d11aa_afd2_11e9_ba46_3791e66294cerow0_col2\" class=\"data row0 col2\" >2. Platz</td>\n",
       "                        <td id=\"T_cd6d11aa_afd2_11e9_ba46_3791e66294cerow0_col3\" class=\"data row0 col3\" ><img src=\"MUGKlinische_Medizin_Publikationen.png\", width=250, height=200/></td>\n",
       "            </tr>\n",
       "            <tr>\n",
       "                        <th id=\"T_cd6d11aa_afd2_11e9_ba46_3791e66294celevel0_row1\" class=\"row_heading level0 row1\" >Medizinisch-theoretische Wissenschaften, Pharmazie</th>\n",
       "                        <td id=\"T_cd6d11aa_afd2_11e9_ba46_3791e66294cerow1_col0\" class=\"data row1 col0\" >16.91%</td>\n",
       "                        <td id=\"T_cd6d11aa_afd2_11e9_ba46_3791e66294cerow1_col1\" class=\"data row1 col1\" >422 Publikationen</td>\n",
       "                        <td id=\"T_cd6d11aa_afd2_11e9_ba46_3791e66294cerow1_col2\" class=\"data row1 col2\" >2. Platz</td>\n",
       "                        <td id=\"T_cd6d11aa_afd2_11e9_ba46_3791e66294cerow1_col3\" class=\"data row1 col3\" ><img src=\"MUGMedizinisch-theoretische_Wissenschaften_Pharmazie_Publikationen.png\", width=250, height=200/></td>\n",
       "            </tr>\n",
       "    </tbody></table>"
      ],
      "text/plain": [
       "<IPython.core.display.HTML object>"
      ]
     },
     "metadata": {},
     "output_type": "display_data"
    },
    {
     "data": {
      "text/html": [
       "<h3>Drittmittel-Struktur der MUG</h3>"
      ],
      "text/plain": [
       "<IPython.core.display.HTML object>"
      ]
     },
     "metadata": {},
     "output_type": "display_data"
    },
    {
     "data": {
      "text/html": [
       "Angezeigt werden WZW, die zusammen 67.9% der Drittmittel an der MUG ausmachen. Alle anderen WZW tragen je weniger als 32.1% bei. Die Spalte \"Ranking\" bezieht sich  auf den &ouml;sterreichweiten Vergleich der absoluten Werte pro WZW"
      ],
      "text/plain": [
       "<IPython.core.display.HTML object>"
      ]
     },
     "metadata": {},
     "output_type": "display_data"
    },
    {
     "data": {
      "text/html": [
       "<style  type=\"text/css\" >\n",
       "    #T_cd7e69b4_afd2_11e9_ba46_3791e66294cerow0_col0 {\n",
       "            background-color:  green;\n",
       "        }    #T_cd7e69b4_afd2_11e9_ba46_3791e66294cerow0_col1 {\n",
       "            background-color:  green;\n",
       "        }    #T_cd7e69b4_afd2_11e9_ba46_3791e66294cerow0_col2 {\n",
       "            background-color:  green;\n",
       "        }    #T_cd7e69b4_afd2_11e9_ba46_3791e66294cerow0_col3 {\n",
       "            background-color:  green;\n",
       "        }</style><table id=\"T_cd7e69b4_afd2_11e9_ba46_3791e66294ce\" ><thead>    <tr>        <th class=\"blank level0\" ></th>        <th class=\"col_heading level0 col0\" >Intern</th>        <th class=\"col_heading level0 col1\" >Drittmittel</th>        <th class=\"col_heading level0 col2\" >Ranking</th>        <th class=\"col_heading level0 col3\" >Universität im Vergleich</th>    </tr>    <tr>        <th class=\"index_name level0\" >WZW</th>        <th class=\"blank\" ></th>        <th class=\"blank\" ></th>        <th class=\"blank\" ></th>        <th class=\"blank\" ></th>    </tr></thead><tbody>\n",
       "                <tr>\n",
       "                        <th id=\"T_cd7e69b4_afd2_11e9_ba46_3791e66294celevel0_row0\" class=\"row_heading level0 row0\" >Medizinisch-theoretische Wissenschaften, Pharmazie</th>\n",
       "                        <td id=\"T_cd7e69b4_afd2_11e9_ba46_3791e66294cerow0_col0\" class=\"data row0 col0\" >67.87%</td>\n",
       "                        <td id=\"T_cd7e69b4_afd2_11e9_ba46_3791e66294cerow0_col1\" class=\"data row0 col1\" >34,148,791 €</td>\n",
       "                        <td id=\"T_cd7e69b4_afd2_11e9_ba46_3791e66294cerow0_col2\" class=\"data row0 col2\" >1. Platz</td>\n",
       "                        <td id=\"T_cd7e69b4_afd2_11e9_ba46_3791e66294cerow0_col3\" class=\"data row0 col3\" ><img src=\"MUGMedizinisch-theoretische_Wissenschaften_Pharmazie_Drittmittel.png\", width=250, height=200/></td>\n",
       "            </tr>\n",
       "    </tbody></table>"
      ],
      "text/plain": [
       "<IPython.core.display.HTML object>"
      ]
     },
     "metadata": {},
     "output_type": "display_data"
    },
    {
     "data": {
      "text/html": [
       "<h2 style=\"page-break-before: always;\">Medizinische Universität Innsbruck</h2>"
      ],
      "text/plain": [
       "<IPython.core.display.HTML object>"
      ]
     },
     "metadata": {},
     "output_type": "display_data"
    },
    {
     "data": {
      "text/html": [
       "<h3>Vergleichbare Universitäten in Publikationen- und Drittmittel-Struktur</h3><ul>"
      ],
      "text/plain": [
       "<IPython.core.display.HTML object>"
      ]
     },
     "metadata": {},
     "output_type": "display_data"
    },
    {
     "data": {
      "text/html": [
       "<li style=\"margin-bottom: 5px;\">Medizinische Universität Wien</li>"
      ],
      "text/plain": [
       "<IPython.core.display.HTML object>"
      ]
     },
     "metadata": {},
     "output_type": "display_data"
    },
    {
     "data": {
      "text/html": [
       "</ul>"
      ],
      "text/plain": [
       "<IPython.core.display.HTML object>"
      ]
     },
     "metadata": {},
     "output_type": "display_data"
    },
    {
     "data": {
      "text/html": [
       "<h4>Vergleichbar bei der Publikationen-Struktur</h4>"
      ],
      "text/plain": [
       "<IPython.core.display.HTML object>"
      ]
     },
     "metadata": {},
     "output_type": "display_data"
    },
    {
     "data": {
      "text/html": [
       "<p><strong>Medizinische Universität Wien</strong> (91.9%, wegen &auml;hnlicher interner Relevanz von Klinische Medizin, Medizinisch-theoretische Wissenschaften, Pharmazie, Gesundheitswissenschaften), <strong>Medizinische Universität Graz</strong> (87.1%, wegen &auml;hnlicher interner Relevanz von Klinische Medizin, Medizinisch-theoretische Wissenschaften, Pharmazie, Biologie)</p>"
      ],
      "text/plain": [
       "<IPython.core.display.HTML object>"
      ]
     },
     "metadata": {},
     "output_type": "display_data"
    },
    {
     "data": {
      "text/html": [
       "<h4>Vergleichbar bei der Drittmittel-Struktur</h4>"
      ],
      "text/plain": [
       "<IPython.core.display.HTML object>"
      ]
     },
     "metadata": {},
     "output_type": "display_data"
    },
    {
     "data": {
      "text/html": [
       "<p><strong>Medizinische Universität Wien</strong> (60.9%, wegen &auml;hnlicher interner Relevanz von Klinische Medizin, Medizinisch-theoretische Wissenschaften, Pharmazie, Gesundheitswissenschaften)</p>"
      ],
      "text/plain": [
       "<IPython.core.display.HTML object>"
      ]
     },
     "metadata": {},
     "output_type": "display_data"
    },
    {
     "data": {
      "text/html": [
       "<p><small>Universitäten mit einer Ähnlichkeit von weniger als 50% werden nicht angezeigt.</small></p>"
      ],
      "text/plain": [
       "<IPython.core.display.HTML object>"
      ]
     },
     "metadata": {},
     "output_type": "display_data"
    },
    {
     "data": {
      "text/html": [
       "<h3>Publikationen-Struktur der MUI</h3>"
      ],
      "text/plain": [
       "<IPython.core.display.HTML object>"
      ]
     },
     "metadata": {},
     "output_type": "display_data"
    },
    {
     "data": {
      "text/html": [
       "Angezeigt werden WZW, die zusammen 66.9% der Publikationen an der MUI ausmachen. Alle anderen WZW tragen je weniger als 33.1% bei. Die Spalte \"Ranking\" bezieht sich  auf den &ouml;sterreichweiten Vergleich der absoluten Werte pro WZW"
      ],
      "text/plain": [
       "<IPython.core.display.HTML object>"
      ]
     },
     "metadata": {},
     "output_type": "display_data"
    },
    {
     "data": {
      "text/html": [
       "<style  type=\"text/css\" >\n",
       "    #T_cd943866_afd2_11e9_ba46_3791e66294cerow0_col0 {\n",
       "            background-color:  yellow;\n",
       "        }    #T_cd943866_afd2_11e9_ba46_3791e66294cerow0_col1 {\n",
       "            background-color:  yellow;\n",
       "        }    #T_cd943866_afd2_11e9_ba46_3791e66294cerow0_col2 {\n",
       "            background-color:  yellow;\n",
       "        }    #T_cd943866_afd2_11e9_ba46_3791e66294cerow0_col3 {\n",
       "            background-color:  yellow;\n",
       "        }</style><table id=\"T_cd943866_afd2_11e9_ba46_3791e66294ce\" ><thead>    <tr>        <th class=\"blank level0\" ></th>        <th class=\"col_heading level0 col0\" >Intern</th>        <th class=\"col_heading level0 col1\" >Publikationen</th>        <th class=\"col_heading level0 col2\" >Ranking</th>        <th class=\"col_heading level0 col3\" >Universität im Vergleich</th>    </tr>    <tr>        <th class=\"index_name level0\" >WZW</th>        <th class=\"blank\" ></th>        <th class=\"blank\" ></th>        <th class=\"blank\" ></th>        <th class=\"blank\" ></th>    </tr></thead><tbody>\n",
       "                <tr>\n",
       "                        <th id=\"T_cd943866_afd2_11e9_ba46_3791e66294celevel0_row0\" class=\"row_heading level0 row0\" >Klinische Medizin</th>\n",
       "                        <td id=\"T_cd943866_afd2_11e9_ba46_3791e66294cerow0_col0\" class=\"data row0 col0\" >66.93%</td>\n",
       "                        <td id=\"T_cd943866_afd2_11e9_ba46_3791e66294cerow0_col1\" class=\"data row0 col1\" >939 Publikationen</td>\n",
       "                        <td id=\"T_cd943866_afd2_11e9_ba46_3791e66294cerow0_col2\" class=\"data row0 col2\" >3. Platz</td>\n",
       "                        <td id=\"T_cd943866_afd2_11e9_ba46_3791e66294cerow0_col3\" class=\"data row0 col3\" ><img src=\"MUIKlinische_Medizin_Publikationen.png\", width=250, height=200/></td>\n",
       "            </tr>\n",
       "    </tbody></table>"
      ],
      "text/plain": [
       "<IPython.core.display.HTML object>"
      ]
     },
     "metadata": {},
     "output_type": "display_data"
    },
    {
     "data": {
      "text/html": [
       "<h3>Drittmittel-Struktur der MUI</h3>"
      ],
      "text/plain": [
       "<IPython.core.display.HTML object>"
      ]
     },
     "metadata": {},
     "output_type": "display_data"
    },
    {
     "data": {
      "text/html": [
       "Angezeigt werden WZW, die zusammen 76.8% der Drittmittel an der MUI ausmachen. Alle anderen WZW tragen je weniger als 22.5% bei. Die Spalte \"Ranking\" bezieht sich  auf den &ouml;sterreichweiten Vergleich der absoluten Werte pro WZW"
      ],
      "text/plain": [
       "<IPython.core.display.HTML object>"
      ]
     },
     "metadata": {},
     "output_type": "display_data"
    },
    {
     "data": {
      "text/html": [
       "<style  type=\"text/css\" >\n",
       "    #T_cdbb117a_afd2_11e9_ba46_3791e66294cerow0_col0 {\n",
       "            background-color:  yellow;\n",
       "        }    #T_cdbb117a_afd2_11e9_ba46_3791e66294cerow0_col1 {\n",
       "            background-color:  yellow;\n",
       "        }    #T_cdbb117a_afd2_11e9_ba46_3791e66294cerow0_col2 {\n",
       "            background-color:  yellow;\n",
       "        }    #T_cdbb117a_afd2_11e9_ba46_3791e66294cerow0_col3 {\n",
       "            background-color:  yellow;\n",
       "        }    #T_cdbb117a_afd2_11e9_ba46_3791e66294cerow1_col0 {\n",
       "            background-color:  green;\n",
       "        }    #T_cdbb117a_afd2_11e9_ba46_3791e66294cerow1_col1 {\n",
       "            background-color:  green;\n",
       "        }    #T_cdbb117a_afd2_11e9_ba46_3791e66294cerow1_col2 {\n",
       "            background-color:  green;\n",
       "        }    #T_cdbb117a_afd2_11e9_ba46_3791e66294cerow1_col3 {\n",
       "            background-color:  green;\n",
       "        }    #T_cdbb117a_afd2_11e9_ba46_3791e66294cerow2_col0 {\n",
       "            background-color:  yellow;\n",
       "        }    #T_cdbb117a_afd2_11e9_ba46_3791e66294cerow2_col1 {\n",
       "            background-color:  yellow;\n",
       "        }    #T_cdbb117a_afd2_11e9_ba46_3791e66294cerow2_col2 {\n",
       "            background-color:  yellow;\n",
       "        }    #T_cdbb117a_afd2_11e9_ba46_3791e66294cerow2_col3 {\n",
       "            background-color:  yellow;\n",
       "        }</style><table id=\"T_cdbb117a_afd2_11e9_ba46_3791e66294ce\" ><thead>    <tr>        <th class=\"blank level0\" ></th>        <th class=\"col_heading level0 col0\" >Intern</th>        <th class=\"col_heading level0 col1\" >Drittmittel</th>        <th class=\"col_heading level0 col2\" >Ranking</th>        <th class=\"col_heading level0 col3\" >Universität im Vergleich</th>    </tr>    <tr>        <th class=\"index_name level0\" >WZW</th>        <th class=\"blank\" ></th>        <th class=\"blank\" ></th>        <th class=\"blank\" ></th>        <th class=\"blank\" ></th>    </tr></thead><tbody>\n",
       "                <tr>\n",
       "                        <th id=\"T_cdbb117a_afd2_11e9_ba46_3791e66294celevel0_row0\" class=\"row_heading level0 row0\" >Klinische Medizin</th>\n",
       "                        <td id=\"T_cdbb117a_afd2_11e9_ba46_3791e66294cerow0_col0\" class=\"data row0 col0\" >30.75%</td>\n",
       "                        <td id=\"T_cdbb117a_afd2_11e9_ba46_3791e66294cerow0_col1\" class=\"data row0 col1\" >12,965,389 €</td>\n",
       "                        <td id=\"T_cdbb117a_afd2_11e9_ba46_3791e66294cerow0_col2\" class=\"data row0 col2\" >2. Platz</td>\n",
       "                        <td id=\"T_cdbb117a_afd2_11e9_ba46_3791e66294cerow0_col3\" class=\"data row0 col3\" ><img src=\"MUIKlinische_Medizin_Drittmittel.png\", width=250, height=200/></td>\n",
       "            </tr>\n",
       "            <tr>\n",
       "                        <th id=\"T_cdbb117a_afd2_11e9_ba46_3791e66294celevel0_row1\" class=\"row_heading level0 row1\" >Andere Humanmedizin, Gesundheitswissenschaften</th>\n",
       "                        <td id=\"T_cdbb117a_afd2_11e9_ba46_3791e66294cerow1_col0\" class=\"data row1 col0\" >23.53%</td>\n",
       "                        <td id=\"T_cdbb117a_afd2_11e9_ba46_3791e66294cerow1_col1\" class=\"data row1 col1\" >9,920,350 €</td>\n",
       "                        <td id=\"T_cdbb117a_afd2_11e9_ba46_3791e66294cerow1_col2\" class=\"data row1 col2\" >1. Platz</td>\n",
       "                        <td id=\"T_cdbb117a_afd2_11e9_ba46_3791e66294cerow1_col3\" class=\"data row1 col3\" ><img src=\"MUIAndere_Humanmedizin_Gesundheitswissenschaften_Drittmittel.png\", width=250, height=200/></td>\n",
       "            </tr>\n",
       "            <tr>\n",
       "                        <th id=\"T_cdbb117a_afd2_11e9_ba46_3791e66294celevel0_row2\" class=\"row_heading level0 row2\" >Gesundheitswissenschaften</th>\n",
       "                        <td id=\"T_cdbb117a_afd2_11e9_ba46_3791e66294cerow2_col0\" class=\"data row2 col0\" >22.54%</td>\n",
       "                        <td id=\"T_cdbb117a_afd2_11e9_ba46_3791e66294cerow2_col1\" class=\"data row2 col1\" >9,502,940 €</td>\n",
       "                        <td id=\"T_cdbb117a_afd2_11e9_ba46_3791e66294cerow2_col2\" class=\"data row2 col2\" >2. Platz</td>\n",
       "                        <td id=\"T_cdbb117a_afd2_11e9_ba46_3791e66294cerow2_col3\" class=\"data row2 col3\" ><img src=\"MUIGesundheitswissenschaften_Drittmittel.png\", width=250, height=200/></td>\n",
       "            </tr>\n",
       "    </tbody></table>"
      ],
      "text/plain": [
       "<IPython.core.display.HTML object>"
      ]
     },
     "metadata": {},
     "output_type": "display_data"
    },
    {
     "data": {
      "text/html": [
       "<h2 style=\"page-break-before: always;\">Medizinische Universität Wien</h2>"
      ],
      "text/plain": [
       "<IPython.core.display.HTML object>"
      ]
     },
     "metadata": {},
     "output_type": "display_data"
    },
    {
     "data": {
      "text/html": [
       "<h3>Vergleichbare Universitäten in Publikationen- und Drittmittel-Struktur</h3><ul>"
      ],
      "text/plain": [
       "<IPython.core.display.HTML object>"
      ]
     },
     "metadata": {},
     "output_type": "display_data"
    },
    {
     "data": {
      "text/html": [
       "<li style=\"margin-bottom: 5px;\">Medizinische Universität Innsbruck</li>"
      ],
      "text/plain": [
       "<IPython.core.display.HTML object>"
      ]
     },
     "metadata": {},
     "output_type": "display_data"
    },
    {
     "data": {
      "text/html": [
       "</ul>"
      ],
      "text/plain": [
       "<IPython.core.display.HTML object>"
      ]
     },
     "metadata": {},
     "output_type": "display_data"
    },
    {
     "data": {
      "text/html": [
       "<h4>Vergleichbar bei der Publikationen-Struktur</h4>"
      ],
      "text/plain": [
       "<IPython.core.display.HTML object>"
      ]
     },
     "metadata": {},
     "output_type": "display_data"
    },
    {
     "data": {
      "text/html": [
       "<p><strong>Medizinische Universität Innsbruck</strong> (91.9%, wegen &auml;hnlicher interner Relevanz von Klinische Medizin, Medizinisch-theoretische Wissenschaften, Pharmazie, Gesundheitswissenschaften), <strong>Medizinische Universität Graz</strong> (86.3%, wegen &auml;hnlicher interner Relevanz von Klinische Medizin, Medizinisch-theoretische Wissenschaften, Pharmazie, Gesundheitswissenschaften)</p>"
      ],
      "text/plain": [
       "<IPython.core.display.HTML object>"
      ]
     },
     "metadata": {},
     "output_type": "display_data"
    },
    {
     "data": {
      "text/html": [
       "<h4>Vergleichbar bei der Drittmittel-Struktur</h4>"
      ],
      "text/plain": [
       "<IPython.core.display.HTML object>"
      ]
     },
     "metadata": {},
     "output_type": "display_data"
    },
    {
     "data": {
      "text/html": [
       "<p><strong>Medizinische Universität Innsbruck</strong> (60.9%, wegen &auml;hnlicher interner Relevanz von Klinische Medizin, Medizinisch-theoretische Wissenschaften, Pharmazie, Gesundheitswissenschaften)</p>"
      ],
      "text/plain": [
       "<IPython.core.display.HTML object>"
      ]
     },
     "metadata": {},
     "output_type": "display_data"
    },
    {
     "data": {
      "text/html": [
       "<p><small>Universitäten mit einer Ähnlichkeit von weniger als 50% werden nicht angezeigt.</small></p>"
      ],
      "text/plain": [
       "<IPython.core.display.HTML object>"
      ]
     },
     "metadata": {},
     "output_type": "display_data"
    },
    {
     "data": {
      "text/html": [
       "<h3>Publikationen-Struktur der MUW</h3>"
      ],
      "text/plain": [
       "<IPython.core.display.HTML object>"
      ]
     },
     "metadata": {},
     "output_type": "display_data"
    },
    {
     "data": {
      "text/html": [
       "Angezeigt werden WZW, die zusammen 68.4% der Publikationen an der MUW ausmachen. Alle anderen WZW tragen je weniger als 31.6% bei. Die Spalte \"Ranking\" bezieht sich  auf den &ouml;sterreichweiten Vergleich der absoluten Werte pro WZW"
      ],
      "text/plain": [
       "<IPython.core.display.HTML object>"
      ]
     },
     "metadata": {},
     "output_type": "display_data"
    },
    {
     "data": {
      "text/html": [
       "<style  type=\"text/css\" >\n",
       "    #T_cdd17690_afd2_11e9_ba46_3791e66294cerow0_col0 {\n",
       "            background-color:  green;\n",
       "        }    #T_cdd17690_afd2_11e9_ba46_3791e66294cerow0_col1 {\n",
       "            background-color:  green;\n",
       "        }    #T_cdd17690_afd2_11e9_ba46_3791e66294cerow0_col2 {\n",
       "            background-color:  green;\n",
       "        }    #T_cdd17690_afd2_11e9_ba46_3791e66294cerow0_col3 {\n",
       "            background-color:  green;\n",
       "        }</style><table id=\"T_cdd17690_afd2_11e9_ba46_3791e66294ce\" ><thead>    <tr>        <th class=\"blank level0\" ></th>        <th class=\"col_heading level0 col0\" >Intern</th>        <th class=\"col_heading level0 col1\" >Publikationen</th>        <th class=\"col_heading level0 col2\" >Ranking</th>        <th class=\"col_heading level0 col3\" >Universität im Vergleich</th>    </tr>    <tr>        <th class=\"index_name level0\" >WZW</th>        <th class=\"blank\" ></th>        <th class=\"blank\" ></th>        <th class=\"blank\" ></th>        <th class=\"blank\" ></th>    </tr></thead><tbody>\n",
       "                <tr>\n",
       "                        <th id=\"T_cdd17690_afd2_11e9_ba46_3791e66294celevel0_row0\" class=\"row_heading level0 row0\" >Klinische Medizin</th>\n",
       "                        <td id=\"T_cdd17690_afd2_11e9_ba46_3791e66294cerow0_col0\" class=\"data row0 col0\" >68.45%</td>\n",
       "                        <td id=\"T_cdd17690_afd2_11e9_ba46_3791e66294cerow0_col1\" class=\"data row0 col1\" >2701 Publikationen</td>\n",
       "                        <td id=\"T_cdd17690_afd2_11e9_ba46_3791e66294cerow0_col2\" class=\"data row0 col2\" >1. Platz</td>\n",
       "                        <td id=\"T_cdd17690_afd2_11e9_ba46_3791e66294cerow0_col3\" class=\"data row0 col3\" ><img src=\"MUWKlinische_Medizin_Publikationen.png\", width=250, height=200/></td>\n",
       "            </tr>\n",
       "    </tbody></table>"
      ],
      "text/plain": [
       "<IPython.core.display.HTML object>"
      ]
     },
     "metadata": {},
     "output_type": "display_data"
    },
    {
     "data": {
      "text/html": [
       "<h3>Drittmittel-Struktur der MUW</h3>"
      ],
      "text/plain": [
       "<IPython.core.display.HTML object>"
      ]
     },
     "metadata": {},
     "output_type": "display_data"
    },
    {
     "data": {
      "text/html": [
       "Angezeigt werden WZW, die zusammen 81.3% der Drittmittel an der MUW ausmachen. Alle anderen WZW tragen je weniger als 18.7% bei. Die Spalte \"Ranking\" bezieht sich  auf den &ouml;sterreichweiten Vergleich der absoluten Werte pro WZW"
      ],
      "text/plain": [
       "<IPython.core.display.HTML object>"
      ]
     },
     "metadata": {},
     "output_type": "display_data"
    },
    {
     "data": {
      "text/html": [
       "<style  type=\"text/css\" >\n",
       "    #T_cdf4fbf6_afd2_11e9_ba46_3791e66294cerow0_col0 {\n",
       "            background-color:  green;\n",
       "        }    #T_cdf4fbf6_afd2_11e9_ba46_3791e66294cerow0_col1 {\n",
       "            background-color:  green;\n",
       "        }    #T_cdf4fbf6_afd2_11e9_ba46_3791e66294cerow0_col2 {\n",
       "            background-color:  green;\n",
       "        }    #T_cdf4fbf6_afd2_11e9_ba46_3791e66294cerow0_col3 {\n",
       "            background-color:  green;\n",
       "        }    #T_cdf4fbf6_afd2_11e9_ba46_3791e66294cerow1_col0 {\n",
       "            background-color:  yellow;\n",
       "        }    #T_cdf4fbf6_afd2_11e9_ba46_3791e66294cerow1_col1 {\n",
       "            background-color:  yellow;\n",
       "        }    #T_cdf4fbf6_afd2_11e9_ba46_3791e66294cerow1_col2 {\n",
       "            background-color:  yellow;\n",
       "        }    #T_cdf4fbf6_afd2_11e9_ba46_3791e66294cerow1_col3 {\n",
       "            background-color:  yellow;\n",
       "        }</style><table id=\"T_cdf4fbf6_afd2_11e9_ba46_3791e66294ce\" ><thead>    <tr>        <th class=\"blank level0\" ></th>        <th class=\"col_heading level0 col0\" >Intern</th>        <th class=\"col_heading level0 col1\" >Drittmittel</th>        <th class=\"col_heading level0 col2\" >Ranking</th>        <th class=\"col_heading level0 col3\" >Universität im Vergleich</th>    </tr>    <tr>        <th class=\"index_name level0\" >WZW</th>        <th class=\"blank\" ></th>        <th class=\"blank\" ></th>        <th class=\"blank\" ></th>        <th class=\"blank\" ></th>    </tr></thead><tbody>\n",
       "                <tr>\n",
       "                        <th id=\"T_cdf4fbf6_afd2_11e9_ba46_3791e66294celevel0_row0\" class=\"row_heading level0 row0\" >Klinische Medizin</th>\n",
       "                        <td id=\"T_cdf4fbf6_afd2_11e9_ba46_3791e66294cerow0_col0\" class=\"data row0 col0\" >59.00%</td>\n",
       "                        <td id=\"T_cdf4fbf6_afd2_11e9_ba46_3791e66294cerow0_col1\" class=\"data row0 col1\" >58,418,319 €</td>\n",
       "                        <td id=\"T_cdf4fbf6_afd2_11e9_ba46_3791e66294cerow0_col2\" class=\"data row0 col2\" >1. Platz</td>\n",
       "                        <td id=\"T_cdf4fbf6_afd2_11e9_ba46_3791e66294cerow0_col3\" class=\"data row0 col3\" ><img src=\"MUWKlinische_Medizin_Drittmittel.png\", width=250, height=200/></td>\n",
       "            </tr>\n",
       "            <tr>\n",
       "                        <th id=\"T_cdf4fbf6_afd2_11e9_ba46_3791e66294celevel0_row1\" class=\"row_heading level0 row1\" >Medizinisch-theoretische Wissenschaften, Pharmazie</th>\n",
       "                        <td id=\"T_cdf4fbf6_afd2_11e9_ba46_3791e66294cerow1_col0\" class=\"data row1 col0\" >22.27%</td>\n",
       "                        <td id=\"T_cdf4fbf6_afd2_11e9_ba46_3791e66294cerow1_col1\" class=\"data row1 col1\" >22,050,940 €</td>\n",
       "                        <td id=\"T_cdf4fbf6_afd2_11e9_ba46_3791e66294cerow1_col2\" class=\"data row1 col2\" >2. Platz</td>\n",
       "                        <td id=\"T_cdf4fbf6_afd2_11e9_ba46_3791e66294cerow1_col3\" class=\"data row1 col3\" ><img src=\"MUWMedizinisch-theoretische_Wissenschaften_Pharmazie_Drittmittel.png\", width=250, height=200/></td>\n",
       "            </tr>\n",
       "    </tbody></table>"
      ],
      "text/plain": [
       "<IPython.core.display.HTML object>"
      ]
     },
     "metadata": {},
     "output_type": "display_data"
    },
    {
     "data": {
      "text/html": [
       "<h2 style=\"page-break-before: always;\">Montanuniversität Leoben</h2>"
      ],
      "text/plain": [
       "<IPython.core.display.HTML object>"
      ]
     },
     "metadata": {},
     "output_type": "display_data"
    },
    {
     "data": {
      "text/html": [
       "<h3>Vergleichbare Universitäten in Publikationen- und Drittmittel-Struktur</h3><ul>"
      ],
      "text/plain": [
       "<IPython.core.display.HTML object>"
      ]
     },
     "metadata": {},
     "output_type": "display_data"
    },
    {
     "data": {
      "text/html": [
       "<li><strong>Keine.</strong> Die Montanuniversität Leoben ist stark spezialisiert.</li>"
      ],
      "text/plain": [
       "<IPython.core.display.HTML object>"
      ]
     },
     "metadata": {},
     "output_type": "display_data"
    },
    {
     "data": {
      "text/html": [
       "</ul>"
      ],
      "text/plain": [
       "<IPython.core.display.HTML object>"
      ]
     },
     "metadata": {},
     "output_type": "display_data"
    },
    {
     "data": {
      "text/html": [
       "<h4>Vergleichbar bei der Publikationen-Struktur</h4>"
      ],
      "text/plain": [
       "<IPython.core.display.HTML object>"
      ]
     },
     "metadata": {},
     "output_type": "display_data"
    },
    {
     "data": {
      "text/html": [
       "<p>Die Montanuniversität Leoben ist im Bereich Publikationen spezialisiert.<br/><strong>Keine</strong> andere Universität ähnelt der Montanuniversität Leoben in der Publikationen-Struktur in auffälliger Weise.</p>"
      ],
      "text/plain": [
       "<IPython.core.display.HTML object>"
      ]
     },
     "metadata": {},
     "output_type": "display_data"
    },
    {
     "data": {
      "text/html": [
       "<h4>Vergleichbar bei der Drittmittel-Struktur</h4>"
      ],
      "text/plain": [
       "<IPython.core.display.HTML object>"
      ]
     },
     "metadata": {},
     "output_type": "display_data"
    },
    {
     "data": {
      "text/html": [
       "<p>Die Montanuniversität Leoben ist im Bereich Drittmittel spezialisiert.<br/><strong>Keine</strong> andere Universität ähnelt der Montanuniversität Leoben in der Drittmittel-Struktur in auffälliger Weise.</p>"
      ],
      "text/plain": [
       "<IPython.core.display.HTML object>"
      ]
     },
     "metadata": {},
     "output_type": "display_data"
    },
    {
     "data": {
      "text/html": [
       "<p><small>Universitäten mit einer Ähnlichkeit von weniger als 50% werden nicht angezeigt.</small></p>"
      ],
      "text/plain": [
       "<IPython.core.display.HTML object>"
      ]
     },
     "metadata": {},
     "output_type": "display_data"
    },
    {
     "data": {
      "text/html": [
       "<h3>Publikationen-Struktur der MUL</h3>"
      ],
      "text/plain": [
       "<IPython.core.display.HTML object>"
      ]
     },
     "metadata": {},
     "output_type": "display_data"
    },
    {
     "data": {
      "text/html": [
       "Angezeigt werden WZW, die zusammen 73.8% der Publikationen an der MUL ausmachen. Alle anderen WZW tragen je weniger als 9.3% bei. Die Spalte \"Ranking\" bezieht sich  auf den &ouml;sterreichweiten Vergleich der absoluten Werte pro WZW"
      ],
      "text/plain": [
       "<IPython.core.display.HTML object>"
      ]
     },
     "metadata": {},
     "output_type": "display_data"
    },
    {
     "data": {
      "text/html": [
       "<style  type=\"text/css\" >\n",
       "    #T_ce37d390_afd2_11e9_ba46_3791e66294cerow0_col0 {\n",
       "            background-color:  green;\n",
       "        }    #T_ce37d390_afd2_11e9_ba46_3791e66294cerow0_col1 {\n",
       "            background-color:  green;\n",
       "        }    #T_ce37d390_afd2_11e9_ba46_3791e66294cerow0_col2 {\n",
       "            background-color:  green;\n",
       "        }    #T_ce37d390_afd2_11e9_ba46_3791e66294cerow0_col3 {\n",
       "            background-color:  green;\n",
       "        }    #T_ce37d390_afd2_11e9_ba46_3791e66294cerow1_col0 {\n",
       "            background-color:  green;\n",
       "        }    #T_ce37d390_afd2_11e9_ba46_3791e66294cerow1_col1 {\n",
       "            background-color:  green;\n",
       "        }    #T_ce37d390_afd2_11e9_ba46_3791e66294cerow1_col2 {\n",
       "            background-color:  green;\n",
       "        }    #T_ce37d390_afd2_11e9_ba46_3791e66294cerow1_col3 {\n",
       "            background-color:  green;\n",
       "        }    #T_ce37d390_afd2_11e9_ba46_3791e66294cerow2_col0 {\n",
       "            background-color:  yellow;\n",
       "        }    #T_ce37d390_afd2_11e9_ba46_3791e66294cerow2_col1 {\n",
       "            background-color:  yellow;\n",
       "        }    #T_ce37d390_afd2_11e9_ba46_3791e66294cerow2_col2 {\n",
       "            background-color:  yellow;\n",
       "        }    #T_ce37d390_afd2_11e9_ba46_3791e66294cerow2_col3 {\n",
       "            background-color:  yellow;\n",
       "        }    #T_ce37d390_afd2_11e9_ba46_3791e66294cerow3_col0 {\n",
       "            background-color:  white;\n",
       "        }    #T_ce37d390_afd2_11e9_ba46_3791e66294cerow3_col1 {\n",
       "            background-color:  white;\n",
       "        }    #T_ce37d390_afd2_11e9_ba46_3791e66294cerow3_col2 {\n",
       "            background-color:  white;\n",
       "        }    #T_ce37d390_afd2_11e9_ba46_3791e66294cerow3_col3 {\n",
       "            background-color:  white;\n",
       "        }    #T_ce37d390_afd2_11e9_ba46_3791e66294cerow4_col0 {\n",
       "            background-color:  white;\n",
       "        }    #T_ce37d390_afd2_11e9_ba46_3791e66294cerow4_col1 {\n",
       "            background-color:  white;\n",
       "        }    #T_ce37d390_afd2_11e9_ba46_3791e66294cerow4_col2 {\n",
       "            background-color:  white;\n",
       "        }    #T_ce37d390_afd2_11e9_ba46_3791e66294cerow4_col3 {\n",
       "            background-color:  white;\n",
       "        }</style><table id=\"T_ce37d390_afd2_11e9_ba46_3791e66294ce\" ><thead>    <tr>        <th class=\"blank level0\" ></th>        <th class=\"col_heading level0 col0\" >Intern</th>        <th class=\"col_heading level0 col1\" >Publikationen</th>        <th class=\"col_heading level0 col2\" >Ranking</th>        <th class=\"col_heading level0 col3\" >Universität im Vergleich</th>    </tr>    <tr>        <th class=\"index_name level0\" >WZW</th>        <th class=\"blank\" ></th>        <th class=\"blank\" ></th>        <th class=\"blank\" ></th>        <th class=\"blank\" ></th>    </tr></thead><tbody>\n",
       "                <tr>\n",
       "                        <th id=\"T_ce37d390_afd2_11e9_ba46_3791e66294celevel0_row0\" class=\"row_heading level0 row0\" >Werkstofftechnik</th>\n",
       "                        <td id=\"T_ce37d390_afd2_11e9_ba46_3791e66294cerow0_col0\" class=\"data row0 col0\" >19.73%</td>\n",
       "                        <td id=\"T_ce37d390_afd2_11e9_ba46_3791e66294cerow0_col1\" class=\"data row0 col1\" >190 Publikationen</td>\n",
       "                        <td id=\"T_ce37d390_afd2_11e9_ba46_3791e66294cerow0_col2\" class=\"data row0 col2\" >1. Platz</td>\n",
       "                        <td id=\"T_ce37d390_afd2_11e9_ba46_3791e66294cerow0_col3\" class=\"data row0 col3\" ><img src=\"MULWerkstofftechnik_Publikationen.png\", width=250, height=200/></td>\n",
       "            </tr>\n",
       "            <tr>\n",
       "                        <th id=\"T_ce37d390_afd2_11e9_ba46_3791e66294celevel0_row1\" class=\"row_heading level0 row1\" >Andere Technische Wissenschaften</th>\n",
       "                        <td id=\"T_ce37d390_afd2_11e9_ba46_3791e66294cerow1_col0\" class=\"data row1 col0\" >19.00%</td>\n",
       "                        <td id=\"T_ce37d390_afd2_11e9_ba46_3791e66294cerow1_col1\" class=\"data row1 col1\" >183 Publikationen</td>\n",
       "                        <td id=\"T_ce37d390_afd2_11e9_ba46_3791e66294cerow1_col2\" class=\"data row1 col2\" >1. Platz</td>\n",
       "                        <td id=\"T_ce37d390_afd2_11e9_ba46_3791e66294cerow1_col3\" class=\"data row1 col3\" ><img src=\"MULAndere_Technische_Wissenschaften_Publikationen.png\", width=250, height=200/></td>\n",
       "            </tr>\n",
       "            <tr>\n",
       "                        <th id=\"T_ce37d390_afd2_11e9_ba46_3791e66294celevel0_row2\" class=\"row_heading level0 row2\" >Umweltingenieurwesen, Angewandte Geowissenschaften</th>\n",
       "                        <td id=\"T_ce37d390_afd2_11e9_ba46_3791e66294cerow2_col0\" class=\"data row2 col0\" >16.20%</td>\n",
       "                        <td id=\"T_ce37d390_afd2_11e9_ba46_3791e66294cerow2_col1\" class=\"data row2 col1\" >156 Publikationen</td>\n",
       "                        <td id=\"T_ce37d390_afd2_11e9_ba46_3791e66294cerow2_col2\" class=\"data row2 col2\" >2. Platz</td>\n",
       "                        <td id=\"T_ce37d390_afd2_11e9_ba46_3791e66294cerow2_col3\" class=\"data row2 col3\" ><img src=\"MULUmweltingenieurwesen_Angewandte_Geowissenschaften_Publikationen.png\", width=250, height=200/></td>\n",
       "            </tr>\n",
       "            <tr>\n",
       "                        <th id=\"T_ce37d390_afd2_11e9_ba46_3791e66294celevel0_row3\" class=\"row_heading level0 row3\" >Physik, Astronomie</th>\n",
       "                        <td id=\"T_ce37d390_afd2_11e9_ba46_3791e66294cerow3_col0\" class=\"data row3 col0\" >9.55%</td>\n",
       "                        <td id=\"T_ce37d390_afd2_11e9_ba46_3791e66294cerow3_col1\" class=\"data row3 col1\" >92 Publikationen</td>\n",
       "                        <td id=\"T_ce37d390_afd2_11e9_ba46_3791e66294cerow3_col2\" class=\"data row3 col2\" >7. Platz</td>\n",
       "                        <td id=\"T_ce37d390_afd2_11e9_ba46_3791e66294cerow3_col3\" class=\"data row3 col3\" ><img src=\"MULPhysik_Astronomie_Publikationen.png\", width=250, height=200/></td>\n",
       "            </tr>\n",
       "            <tr>\n",
       "                        <th id=\"T_ce37d390_afd2_11e9_ba46_3791e66294celevel0_row4\" class=\"row_heading level0 row4\" >Geowissenschaften</th>\n",
       "                        <td id=\"T_ce37d390_afd2_11e9_ba46_3791e66294cerow4_col0\" class=\"data row4 col0\" >9.35%</td>\n",
       "                        <td id=\"T_ce37d390_afd2_11e9_ba46_3791e66294cerow4_col1\" class=\"data row4 col1\" >90 Publikationen</td>\n",
       "                        <td id=\"T_ce37d390_afd2_11e9_ba46_3791e66294cerow4_col2\" class=\"data row4 col2\" >6. Platz</td>\n",
       "                        <td id=\"T_ce37d390_afd2_11e9_ba46_3791e66294cerow4_col3\" class=\"data row4 col3\" ><img src=\"MULGeowissenschaften_Publikationen.png\", width=250, height=200/></td>\n",
       "            </tr>\n",
       "    </tbody></table>"
      ],
      "text/plain": [
       "<IPython.core.display.HTML object>"
      ]
     },
     "metadata": {},
     "output_type": "display_data"
    },
    {
     "data": {
      "text/html": [
       "<h3>Drittmittel-Struktur der MUL</h3>"
      ],
      "text/plain": [
       "<IPython.core.display.HTML object>"
      ]
     },
     "metadata": {},
     "output_type": "display_data"
    },
    {
     "data": {
      "text/html": [
       "Angezeigt werden WZW, die zusammen 73.5% der Drittmittel an der MUL ausmachen. Alle anderen WZW tragen je weniger als 10.1% bei. Die Spalte \"Ranking\" bezieht sich  auf den &ouml;sterreichweiten Vergleich der absoluten Werte pro WZW"
      ],
      "text/plain": [
       "<IPython.core.display.HTML object>"
      ]
     },
     "metadata": {},
     "output_type": "display_data"
    },
    {
     "data": {
      "text/html": [
       "<style  type=\"text/css\" >\n",
       "    #T_ce671d8a_afd2_11e9_ba46_3791e66294cerow0_col0 {\n",
       "            background-color:  green;\n",
       "        }    #T_ce671d8a_afd2_11e9_ba46_3791e66294cerow0_col1 {\n",
       "            background-color:  green;\n",
       "        }    #T_ce671d8a_afd2_11e9_ba46_3791e66294cerow0_col2 {\n",
       "            background-color:  green;\n",
       "        }    #T_ce671d8a_afd2_11e9_ba46_3791e66294cerow0_col3 {\n",
       "            background-color:  green;\n",
       "        }    #T_ce671d8a_afd2_11e9_ba46_3791e66294cerow1_col0 {\n",
       "            background-color:  green;\n",
       "        }    #T_ce671d8a_afd2_11e9_ba46_3791e66294cerow1_col1 {\n",
       "            background-color:  green;\n",
       "        }    #T_ce671d8a_afd2_11e9_ba46_3791e66294cerow1_col2 {\n",
       "            background-color:  green;\n",
       "        }    #T_ce671d8a_afd2_11e9_ba46_3791e66294cerow1_col3 {\n",
       "            background-color:  green;\n",
       "        }    #T_ce671d8a_afd2_11e9_ba46_3791e66294cerow2_col0 {\n",
       "            background-color:  yellow;\n",
       "        }    #T_ce671d8a_afd2_11e9_ba46_3791e66294cerow2_col1 {\n",
       "            background-color:  yellow;\n",
       "        }    #T_ce671d8a_afd2_11e9_ba46_3791e66294cerow2_col2 {\n",
       "            background-color:  yellow;\n",
       "        }    #T_ce671d8a_afd2_11e9_ba46_3791e66294cerow2_col3 {\n",
       "            background-color:  yellow;\n",
       "        }    #T_ce671d8a_afd2_11e9_ba46_3791e66294cerow3_col0 {\n",
       "            background-color:  green;\n",
       "        }    #T_ce671d8a_afd2_11e9_ba46_3791e66294cerow3_col1 {\n",
       "            background-color:  green;\n",
       "        }    #T_ce671d8a_afd2_11e9_ba46_3791e66294cerow3_col2 {\n",
       "            background-color:  green;\n",
       "        }    #T_ce671d8a_afd2_11e9_ba46_3791e66294cerow3_col3 {\n",
       "            background-color:  green;\n",
       "        }</style><table id=\"T_ce671d8a_afd2_11e9_ba46_3791e66294ce\" ><thead>    <tr>        <th class=\"blank level0\" ></th>        <th class=\"col_heading level0 col0\" >Intern</th>        <th class=\"col_heading level0 col1\" >Drittmittel</th>        <th class=\"col_heading level0 col2\" >Ranking</th>        <th class=\"col_heading level0 col3\" >Universität im Vergleich</th>    </tr>    <tr>        <th class=\"index_name level0\" >WZW</th>        <th class=\"blank\" ></th>        <th class=\"blank\" ></th>        <th class=\"blank\" ></th>        <th class=\"blank\" ></th>    </tr></thead><tbody>\n",
       "                <tr>\n",
       "                        <th id=\"T_ce671d8a_afd2_11e9_ba46_3791e66294celevel0_row0\" class=\"row_heading level0 row0\" >Andere Technische Wissenschaften</th>\n",
       "                        <td id=\"T_ce671d8a_afd2_11e9_ba46_3791e66294cerow0_col0\" class=\"data row0 col0\" >30.78%</td>\n",
       "                        <td id=\"T_ce671d8a_afd2_11e9_ba46_3791e66294cerow0_col1\" class=\"data row0 col1\" >13,513,716 €</td>\n",
       "                        <td id=\"T_ce671d8a_afd2_11e9_ba46_3791e66294cerow0_col2\" class=\"data row0 col2\" >1. Platz</td>\n",
       "                        <td id=\"T_ce671d8a_afd2_11e9_ba46_3791e66294cerow0_col3\" class=\"data row0 col3\" ><img src=\"MULAndere_Technische_Wissenschaften_Drittmittel.png\", width=250, height=200/></td>\n",
       "            </tr>\n",
       "            <tr>\n",
       "                        <th id=\"T_ce671d8a_afd2_11e9_ba46_3791e66294celevel0_row1\" class=\"row_heading level0 row1\" >Umweltingenieurwesen, Angewandte Geowissenschaften</th>\n",
       "                        <td id=\"T_ce671d8a_afd2_11e9_ba46_3791e66294cerow1_col0\" class=\"data row1 col0\" >19.09%</td>\n",
       "                        <td id=\"T_ce671d8a_afd2_11e9_ba46_3791e66294cerow1_col1\" class=\"data row1 col1\" >8,380,922 €</td>\n",
       "                        <td id=\"T_ce671d8a_afd2_11e9_ba46_3791e66294cerow1_col2\" class=\"data row1 col2\" >1. Platz</td>\n",
       "                        <td id=\"T_ce671d8a_afd2_11e9_ba46_3791e66294cerow1_col3\" class=\"data row1 col3\" ><img src=\"MULUmweltingenieurwesen_Angewandte_Geowissenschaften_Drittmittel.png\", width=250, height=200/></td>\n",
       "            </tr>\n",
       "            <tr>\n",
       "                        <th id=\"T_ce671d8a_afd2_11e9_ba46_3791e66294celevel0_row2\" class=\"row_heading level0 row2\" >Bauwesen</th>\n",
       "                        <td id=\"T_ce671d8a_afd2_11e9_ba46_3791e66294cerow2_col0\" class=\"data row2 col0\" >13.49%</td>\n",
       "                        <td id=\"T_ce671d8a_afd2_11e9_ba46_3791e66294cerow2_col1\" class=\"data row2 col1\" >5,923,955 €</td>\n",
       "                        <td id=\"T_ce671d8a_afd2_11e9_ba46_3791e66294cerow2_col2\" class=\"data row2 col2\" >3. Platz</td>\n",
       "                        <td id=\"T_ce671d8a_afd2_11e9_ba46_3791e66294cerow2_col3\" class=\"data row2 col3\" ><img src=\"MULBauwesen_Drittmittel.png\", width=250, height=200/></td>\n",
       "            </tr>\n",
       "            <tr>\n",
       "                        <th id=\"T_ce671d8a_afd2_11e9_ba46_3791e66294celevel0_row3\" class=\"row_heading level0 row3\" >Werkstofftechnik</th>\n",
       "                        <td id=\"T_ce671d8a_afd2_11e9_ba46_3791e66294cerow3_col0\" class=\"data row3 col0\" >10.12%</td>\n",
       "                        <td id=\"T_ce671d8a_afd2_11e9_ba46_3791e66294cerow3_col1\" class=\"data row3 col1\" >4,444,882 €</td>\n",
       "                        <td id=\"T_ce671d8a_afd2_11e9_ba46_3791e66294cerow3_col2\" class=\"data row3 col2\" >1. Platz</td>\n",
       "                        <td id=\"T_ce671d8a_afd2_11e9_ba46_3791e66294cerow3_col3\" class=\"data row3 col3\" ><img src=\"MULWerkstofftechnik_Drittmittel.png\", width=250, height=200/></td>\n",
       "            </tr>\n",
       "    </tbody></table>"
      ],
      "text/plain": [
       "<IPython.core.display.HTML object>"
      ]
     },
     "metadata": {},
     "output_type": "display_data"
    },
    {
     "data": {
      "text/html": [
       "<h2 style=\"page-break-before: always;\">Technische Universität Graz</h2>"
      ],
      "text/plain": [
       "<IPython.core.display.HTML object>"
      ]
     },
     "metadata": {},
     "output_type": "display_data"
    },
    {
     "data": {
      "text/html": [
       "<h3>Vergleichbare Universitäten in Publikationen- und Drittmittel-Struktur</h3><ul>"
      ],
      "text/plain": [
       "<IPython.core.display.HTML object>"
      ]
     },
     "metadata": {},
     "output_type": "display_data"
    },
    {
     "data": {
      "text/html": [
       "<li style=\"margin-bottom: 5px;\">Technische Universität Wien</li>"
      ],
      "text/plain": [
       "<IPython.core.display.HTML object>"
      ]
     },
     "metadata": {},
     "output_type": "display_data"
    },
    {
     "data": {
      "text/html": [
       "</ul>"
      ],
      "text/plain": [
       "<IPython.core.display.HTML object>"
      ]
     },
     "metadata": {},
     "output_type": "display_data"
    },
    {
     "data": {
      "text/html": [
       "<h4>Vergleichbar bei der Publikationen-Struktur</h4>"
      ],
      "text/plain": [
       "<IPython.core.display.HTML object>"
      ]
     },
     "metadata": {},
     "output_type": "display_data"
    },
    {
     "data": {
      "text/html": [
       "<p><strong>Technische Universität Wien</strong> (80.2%, wegen &auml;hnlicher interner Relevanz von Informatik, Elektrotechnik, Elektronik, Informationstechnik, Bauwesen)</p>"
      ],
      "text/plain": [
       "<IPython.core.display.HTML object>"
      ]
     },
     "metadata": {},
     "output_type": "display_data"
    },
    {
     "data": {
      "text/html": [
       "<h4>Vergleichbar bei der Drittmittel-Struktur</h4>"
      ],
      "text/plain": [
       "<IPython.core.display.HTML object>"
      ]
     },
     "metadata": {},
     "output_type": "display_data"
    },
    {
     "data": {
      "text/html": [
       "<p><strong>Technische Universität Wien</strong> (62.4%, wegen &auml;hnlicher interner Relevanz von Elektrotechnik, Elektronik, Informationstechnik, Informatik, Bauwesen), <strong>Universität Linz</strong> (51.1%, wegen &auml;hnlicher interner Relevanz von Elektrotechnik, Elektronik, Informationstechnik, Maschinenbau, Informatik)</p>"
      ],
      "text/plain": [
       "<IPython.core.display.HTML object>"
      ]
     },
     "metadata": {},
     "output_type": "display_data"
    },
    {
     "data": {
      "text/html": [
       "<p><small>Universitäten mit einer Ähnlichkeit von weniger als 50% werden nicht angezeigt.</small></p>"
      ],
      "text/plain": [
       "<IPython.core.display.HTML object>"
      ]
     },
     "metadata": {},
     "output_type": "display_data"
    },
    {
     "data": {
      "text/html": [
       "<h3>Publikationen-Struktur der TUG</h3>"
      ],
      "text/plain": [
       "<IPython.core.display.HTML object>"
      ]
     },
     "metadata": {},
     "output_type": "display_data"
    },
    {
     "data": {
      "text/html": [
       "Angezeigt werden WZW, die zusammen 67.0% der Publikationen an der TUG ausmachen. Alle anderen WZW tragen je weniger als 6.1% bei. Die Spalte \"Ranking\" bezieht sich  auf den &ouml;sterreichweiten Vergleich der absoluten Werte pro WZW"
      ],
      "text/plain": [
       "<IPython.core.display.HTML object>"
      ]
     },
     "metadata": {},
     "output_type": "display_data"
    },
    {
     "data": {
      "text/html": [
       "<style  type=\"text/css\" >\n",
       "    #T_ceba5612_afd2_11e9_ba46_3791e66294cerow0_col0 {\n",
       "            background-color:  yellow;\n",
       "        }    #T_ceba5612_afd2_11e9_ba46_3791e66294cerow0_col1 {\n",
       "            background-color:  yellow;\n",
       "        }    #T_ceba5612_afd2_11e9_ba46_3791e66294cerow0_col2 {\n",
       "            background-color:  yellow;\n",
       "        }    #T_ceba5612_afd2_11e9_ba46_3791e66294cerow0_col3 {\n",
       "            background-color:  yellow;\n",
       "        }    #T_ceba5612_afd2_11e9_ba46_3791e66294cerow1_col0 {\n",
       "            background-color:  yellow;\n",
       "        }    #T_ceba5612_afd2_11e9_ba46_3791e66294cerow1_col1 {\n",
       "            background-color:  yellow;\n",
       "        }    #T_ceba5612_afd2_11e9_ba46_3791e66294cerow1_col2 {\n",
       "            background-color:  yellow;\n",
       "        }    #T_ceba5612_afd2_11e9_ba46_3791e66294cerow1_col3 {\n",
       "            background-color:  yellow;\n",
       "        }    #T_ceba5612_afd2_11e9_ba46_3791e66294cerow2_col0 {\n",
       "            background-color:  green;\n",
       "        }    #T_ceba5612_afd2_11e9_ba46_3791e66294cerow2_col1 {\n",
       "            background-color:  green;\n",
       "        }    #T_ceba5612_afd2_11e9_ba46_3791e66294cerow2_col2 {\n",
       "            background-color:  green;\n",
       "        }    #T_ceba5612_afd2_11e9_ba46_3791e66294cerow2_col3 {\n",
       "            background-color:  green;\n",
       "        }    #T_ceba5612_afd2_11e9_ba46_3791e66294cerow3_col0 {\n",
       "            background-color:  yellow;\n",
       "        }    #T_ceba5612_afd2_11e9_ba46_3791e66294cerow3_col1 {\n",
       "            background-color:  yellow;\n",
       "        }    #T_ceba5612_afd2_11e9_ba46_3791e66294cerow3_col2 {\n",
       "            background-color:  yellow;\n",
       "        }    #T_ceba5612_afd2_11e9_ba46_3791e66294cerow3_col3 {\n",
       "            background-color:  yellow;\n",
       "        }    #T_ceba5612_afd2_11e9_ba46_3791e66294cerow4_col0 {\n",
       "            background-color:  white;\n",
       "        }    #T_ceba5612_afd2_11e9_ba46_3791e66294cerow4_col1 {\n",
       "            background-color:  white;\n",
       "        }    #T_ceba5612_afd2_11e9_ba46_3791e66294cerow4_col2 {\n",
       "            background-color:  white;\n",
       "        }    #T_ceba5612_afd2_11e9_ba46_3791e66294cerow4_col3 {\n",
       "            background-color:  white;\n",
       "        }    #T_ceba5612_afd2_11e9_ba46_3791e66294cerow5_col0 {\n",
       "            background-color:  white;\n",
       "        }    #T_ceba5612_afd2_11e9_ba46_3791e66294cerow5_col1 {\n",
       "            background-color:  white;\n",
       "        }    #T_ceba5612_afd2_11e9_ba46_3791e66294cerow5_col2 {\n",
       "            background-color:  white;\n",
       "        }    #T_ceba5612_afd2_11e9_ba46_3791e66294cerow5_col3 {\n",
       "            background-color:  white;\n",
       "        }</style><table id=\"T_ceba5612_afd2_11e9_ba46_3791e66294ce\" ><thead>    <tr>        <th class=\"blank level0\" ></th>        <th class=\"col_heading level0 col0\" >Intern</th>        <th class=\"col_heading level0 col1\" >Publikationen</th>        <th class=\"col_heading level0 col2\" >Ranking</th>        <th class=\"col_heading level0 col3\" >Universität im Vergleich</th>    </tr>    <tr>        <th class=\"index_name level0\" >WZW</th>        <th class=\"blank\" ></th>        <th class=\"blank\" ></th>        <th class=\"blank\" ></th>        <th class=\"blank\" ></th>    </tr></thead><tbody>\n",
       "                <tr>\n",
       "                        <th id=\"T_ceba5612_afd2_11e9_ba46_3791e66294celevel0_row0\" class=\"row_heading level0 row0\" >Informatik</th>\n",
       "                        <td id=\"T_ceba5612_afd2_11e9_ba46_3791e66294cerow0_col0\" class=\"data row0 col0\" >16.75%</td>\n",
       "                        <td id=\"T_ceba5612_afd2_11e9_ba46_3791e66294cerow0_col1\" class=\"data row0 col1\" >391 Publikationen</td>\n",
       "                        <td id=\"T_ceba5612_afd2_11e9_ba46_3791e66294cerow0_col2\" class=\"data row0 col2\" >2. Platz</td>\n",
       "                        <td id=\"T_ceba5612_afd2_11e9_ba46_3791e66294cerow0_col3\" class=\"data row0 col3\" ><img src=\"TUGInformatik_Publikationen.png\", width=250, height=200/></td>\n",
       "            </tr>\n",
       "            <tr>\n",
       "                        <th id=\"T_ceba5612_afd2_11e9_ba46_3791e66294celevel0_row1\" class=\"row_heading level0 row1\" >Elektrotechnik, Elektronik, Informationstechnik</th>\n",
       "                        <td id=\"T_ceba5612_afd2_11e9_ba46_3791e66294cerow1_col0\" class=\"data row1 col0\" >13.92%</td>\n",
       "                        <td id=\"T_ceba5612_afd2_11e9_ba46_3791e66294cerow1_col1\" class=\"data row1 col1\" >325 Publikationen</td>\n",
       "                        <td id=\"T_ceba5612_afd2_11e9_ba46_3791e66294cerow1_col2\" class=\"data row1 col2\" >2. Platz</td>\n",
       "                        <td id=\"T_ceba5612_afd2_11e9_ba46_3791e66294cerow1_col3\" class=\"data row1 col3\" ><img src=\"TUGElektrotechnik_Elektronik_Informationstechnik_Publikationen.png\", width=250, height=200/></td>\n",
       "            </tr>\n",
       "            <tr>\n",
       "                        <th id=\"T_ceba5612_afd2_11e9_ba46_3791e66294celevel0_row2\" class=\"row_heading level0 row2\" >Maschinenbau</th>\n",
       "                        <td id=\"T_ceba5612_afd2_11e9_ba46_3791e66294cerow2_col0\" class=\"data row2 col0\" >11.70%</td>\n",
       "                        <td id=\"T_ceba5612_afd2_11e9_ba46_3791e66294cerow2_col1\" class=\"data row2 col1\" >273 Publikationen</td>\n",
       "                        <td id=\"T_ceba5612_afd2_11e9_ba46_3791e66294cerow2_col2\" class=\"data row2 col2\" >1. Platz</td>\n",
       "                        <td id=\"T_ceba5612_afd2_11e9_ba46_3791e66294cerow2_col3\" class=\"data row2 col3\" ><img src=\"TUGMaschinenbau_Publikationen.png\", width=250, height=200/></td>\n",
       "            </tr>\n",
       "            <tr>\n",
       "                        <th id=\"T_ceba5612_afd2_11e9_ba46_3791e66294celevel0_row3\" class=\"row_heading level0 row3\" >Bauwesen</th>\n",
       "                        <td id=\"T_ceba5612_afd2_11e9_ba46_3791e66294cerow3_col0\" class=\"data row3 col0\" >10.50%</td>\n",
       "                        <td id=\"T_ceba5612_afd2_11e9_ba46_3791e66294cerow3_col1\" class=\"data row3 col1\" >245 Publikationen</td>\n",
       "                        <td id=\"T_ceba5612_afd2_11e9_ba46_3791e66294cerow3_col2\" class=\"data row3 col2\" >2. Platz</td>\n",
       "                        <td id=\"T_ceba5612_afd2_11e9_ba46_3791e66294cerow3_col3\" class=\"data row3 col3\" ><img src=\"TUGBauwesen_Publikationen.png\", width=250, height=200/></td>\n",
       "            </tr>\n",
       "            <tr>\n",
       "                        <th id=\"T_ceba5612_afd2_11e9_ba46_3791e66294celevel0_row4\" class=\"row_heading level0 row4\" >Chemie</th>\n",
       "                        <td id=\"T_ceba5612_afd2_11e9_ba46_3791e66294cerow4_col0\" class=\"data row4 col0\" >8.01%</td>\n",
       "                        <td id=\"T_ceba5612_afd2_11e9_ba46_3791e66294cerow4_col1\" class=\"data row4 col1\" >187 Publikationen</td>\n",
       "                        <td id=\"T_ceba5612_afd2_11e9_ba46_3791e66294cerow4_col2\" class=\"data row4 col2\" >4. Platz</td>\n",
       "                        <td id=\"T_ceba5612_afd2_11e9_ba46_3791e66294cerow4_col3\" class=\"data row4 col3\" ><img src=\"TUGChemie_Publikationen.png\", width=250, height=200/></td>\n",
       "            </tr>\n",
       "            <tr>\n",
       "                        <th id=\"T_ceba5612_afd2_11e9_ba46_3791e66294celevel0_row5\" class=\"row_heading level0 row5\" >Physik, Astronomie</th>\n",
       "                        <td id=\"T_ceba5612_afd2_11e9_ba46_3791e66294cerow5_col0\" class=\"data row5 col0\" >6.13%</td>\n",
       "                        <td id=\"T_ceba5612_afd2_11e9_ba46_3791e66294cerow5_col1\" class=\"data row5 col1\" >143 Publikationen</td>\n",
       "                        <td id=\"T_ceba5612_afd2_11e9_ba46_3791e66294cerow5_col2\" class=\"data row5 col2\" >5. Platz</td>\n",
       "                        <td id=\"T_ceba5612_afd2_11e9_ba46_3791e66294cerow5_col3\" class=\"data row5 col3\" ><img src=\"TUGPhysik_Astronomie_Publikationen.png\", width=250, height=200/></td>\n",
       "            </tr>\n",
       "    </tbody></table>"
      ],
      "text/plain": [
       "<IPython.core.display.HTML object>"
      ]
     },
     "metadata": {},
     "output_type": "display_data"
    },
    {
     "data": {
      "text/html": [
       "<h3>Drittmittel-Struktur der TUG</h3>"
      ],
      "text/plain": [
       "<IPython.core.display.HTML object>"
      ]
     },
     "metadata": {},
     "output_type": "display_data"
    },
    {
     "data": {
      "text/html": [
       "Angezeigt werden WZW, die zusammen 70.5% der Drittmittel an der TUG ausmachen. Alle anderen WZW tragen je weniger als 8.1% bei. Die Spalte \"Ranking\" bezieht sich  auf den &ouml;sterreichweiten Vergleich der absoluten Werte pro WZW"
      ],
      "text/plain": [
       "<IPython.core.display.HTML object>"
      ]
     },
     "metadata": {},
     "output_type": "display_data"
    },
    {
     "data": {
      "text/html": [
       "<style  type=\"text/css\" >\n",
       "    #T_cef2eb58_afd2_11e9_ba46_3791e66294cerow0_col0 {\n",
       "            background-color:  green;\n",
       "        }    #T_cef2eb58_afd2_11e9_ba46_3791e66294cerow0_col1 {\n",
       "            background-color:  green;\n",
       "        }    #T_cef2eb58_afd2_11e9_ba46_3791e66294cerow0_col2 {\n",
       "            background-color:  green;\n",
       "        }    #T_cef2eb58_afd2_11e9_ba46_3791e66294cerow0_col3 {\n",
       "            background-color:  green;\n",
       "        }    #T_cef2eb58_afd2_11e9_ba46_3791e66294cerow1_col0 {\n",
       "            background-color:  green;\n",
       "        }    #T_cef2eb58_afd2_11e9_ba46_3791e66294cerow1_col1 {\n",
       "            background-color:  green;\n",
       "        }    #T_cef2eb58_afd2_11e9_ba46_3791e66294cerow1_col2 {\n",
       "            background-color:  green;\n",
       "        }    #T_cef2eb58_afd2_11e9_ba46_3791e66294cerow1_col3 {\n",
       "            background-color:  green;\n",
       "        }    #T_cef2eb58_afd2_11e9_ba46_3791e66294cerow2_col0 {\n",
       "            background-color:  yellow;\n",
       "        }    #T_cef2eb58_afd2_11e9_ba46_3791e66294cerow2_col1 {\n",
       "            background-color:  yellow;\n",
       "        }    #T_cef2eb58_afd2_11e9_ba46_3791e66294cerow2_col2 {\n",
       "            background-color:  yellow;\n",
       "        }    #T_cef2eb58_afd2_11e9_ba46_3791e66294cerow2_col3 {\n",
       "            background-color:  yellow;\n",
       "        }    #T_cef2eb58_afd2_11e9_ba46_3791e66294cerow3_col0 {\n",
       "            background-color:  green;\n",
       "        }    #T_cef2eb58_afd2_11e9_ba46_3791e66294cerow3_col1 {\n",
       "            background-color:  green;\n",
       "        }    #T_cef2eb58_afd2_11e9_ba46_3791e66294cerow3_col2 {\n",
       "            background-color:  green;\n",
       "        }    #T_cef2eb58_afd2_11e9_ba46_3791e66294cerow3_col3 {\n",
       "            background-color:  green;\n",
       "        }    #T_cef2eb58_afd2_11e9_ba46_3791e66294cerow4_col0 {\n",
       "            background-color:  yellow;\n",
       "        }    #T_cef2eb58_afd2_11e9_ba46_3791e66294cerow4_col1 {\n",
       "            background-color:  yellow;\n",
       "        }    #T_cef2eb58_afd2_11e9_ba46_3791e66294cerow4_col2 {\n",
       "            background-color:  yellow;\n",
       "        }    #T_cef2eb58_afd2_11e9_ba46_3791e66294cerow4_col3 {\n",
       "            background-color:  yellow;\n",
       "        }</style><table id=\"T_cef2eb58_afd2_11e9_ba46_3791e66294ce\" ><thead>    <tr>        <th class=\"blank level0\" ></th>        <th class=\"col_heading level0 col0\" >Intern</th>        <th class=\"col_heading level0 col1\" >Drittmittel</th>        <th class=\"col_heading level0 col2\" >Ranking</th>        <th class=\"col_heading level0 col3\" >Universität im Vergleich</th>    </tr>    <tr>        <th class=\"index_name level0\" >WZW</th>        <th class=\"blank\" ></th>        <th class=\"blank\" ></th>        <th class=\"blank\" ></th>        <th class=\"blank\" ></th>    </tr></thead><tbody>\n",
       "                <tr>\n",
       "                        <th id=\"T_cef2eb58_afd2_11e9_ba46_3791e66294celevel0_row0\" class=\"row_heading level0 row0\" >Maschinenbau</th>\n",
       "                        <td id=\"T_cef2eb58_afd2_11e9_ba46_3791e66294cerow0_col0\" class=\"data row0 col0\" >27.01%</td>\n",
       "                        <td id=\"T_cef2eb58_afd2_11e9_ba46_3791e66294cerow0_col1\" class=\"data row0 col1\" >21,300,246 €</td>\n",
       "                        <td id=\"T_cef2eb58_afd2_11e9_ba46_3791e66294cerow0_col2\" class=\"data row0 col2\" >1. Platz</td>\n",
       "                        <td id=\"T_cef2eb58_afd2_11e9_ba46_3791e66294cerow0_col3\" class=\"data row0 col3\" ><img src=\"TUGMaschinenbau_Drittmittel.png\", width=250, height=200/></td>\n",
       "            </tr>\n",
       "            <tr>\n",
       "                        <th id=\"T_cef2eb58_afd2_11e9_ba46_3791e66294celevel0_row1\" class=\"row_heading level0 row1\" >Bauwesen</th>\n",
       "                        <td id=\"T_cef2eb58_afd2_11e9_ba46_3791e66294cerow1_col0\" class=\"data row1 col0\" >11.98%</td>\n",
       "                        <td id=\"T_cef2eb58_afd2_11e9_ba46_3791e66294cerow1_col1\" class=\"data row1 col1\" >9,445,236 €</td>\n",
       "                        <td id=\"T_cef2eb58_afd2_11e9_ba46_3791e66294cerow1_col2\" class=\"data row1 col2\" >1. Platz</td>\n",
       "                        <td id=\"T_cef2eb58_afd2_11e9_ba46_3791e66294cerow1_col3\" class=\"data row1 col3\" ><img src=\"TUGBauwesen_Drittmittel.png\", width=250, height=200/></td>\n",
       "            </tr>\n",
       "            <tr>\n",
       "                        <th id=\"T_cef2eb58_afd2_11e9_ba46_3791e66294celevel0_row2\" class=\"row_heading level0 row2\" >Elektrotechnik, Elektronik, Informationstechnik</th>\n",
       "                        <td id=\"T_cef2eb58_afd2_11e9_ba46_3791e66294cerow2_col0\" class=\"data row2 col0\" >11.94%</td>\n",
       "                        <td id=\"T_cef2eb58_afd2_11e9_ba46_3791e66294cerow2_col1\" class=\"data row2 col1\" >9,420,414 €</td>\n",
       "                        <td id=\"T_cef2eb58_afd2_11e9_ba46_3791e66294cerow2_col2\" class=\"data row2 col2\" >2. Platz</td>\n",
       "                        <td id=\"T_cef2eb58_afd2_11e9_ba46_3791e66294cerow2_col3\" class=\"data row2 col3\" ><img src=\"TUGElektrotechnik_Elektronik_Informationstechnik_Drittmittel.png\", width=250, height=200/></td>\n",
       "            </tr>\n",
       "            <tr>\n",
       "                        <th id=\"T_cef2eb58_afd2_11e9_ba46_3791e66294celevel0_row3\" class=\"row_heading level0 row3\" >Chemie</th>\n",
       "                        <td id=\"T_cef2eb58_afd2_11e9_ba46_3791e66294cerow3_col0\" class=\"data row3 col0\" >11.42%</td>\n",
       "                        <td id=\"T_cef2eb58_afd2_11e9_ba46_3791e66294cerow3_col1\" class=\"data row3 col1\" >9,010,776 €</td>\n",
       "                        <td id=\"T_cef2eb58_afd2_11e9_ba46_3791e66294cerow3_col2\" class=\"data row3 col2\" >1. Platz</td>\n",
       "                        <td id=\"T_cef2eb58_afd2_11e9_ba46_3791e66294cerow3_col3\" class=\"data row3 col3\" ><img src=\"TUGChemie_Drittmittel.png\", width=250, height=200/></td>\n",
       "            </tr>\n",
       "            <tr>\n",
       "                        <th id=\"T_cef2eb58_afd2_11e9_ba46_3791e66294celevel0_row4\" class=\"row_heading level0 row4\" >Informatik</th>\n",
       "                        <td id=\"T_cef2eb58_afd2_11e9_ba46_3791e66294cerow4_col0\" class=\"data row4 col0\" >8.12%</td>\n",
       "                        <td id=\"T_cef2eb58_afd2_11e9_ba46_3791e66294cerow4_col1\" class=\"data row4 col1\" >6,408,343 €</td>\n",
       "                        <td id=\"T_cef2eb58_afd2_11e9_ba46_3791e66294cerow4_col2\" class=\"data row4 col2\" >2. Platz</td>\n",
       "                        <td id=\"T_cef2eb58_afd2_11e9_ba46_3791e66294cerow4_col3\" class=\"data row4 col3\" ><img src=\"TUGInformatik_Drittmittel.png\", width=250, height=200/></td>\n",
       "            </tr>\n",
       "    </tbody></table>"
      ],
      "text/plain": [
       "<IPython.core.display.HTML object>"
      ]
     },
     "metadata": {},
     "output_type": "display_data"
    },
    {
     "data": {
      "text/html": [
       "<h2 style=\"page-break-before: always;\">Technische Universität Wien</h2>"
      ],
      "text/plain": [
       "<IPython.core.display.HTML object>"
      ]
     },
     "metadata": {},
     "output_type": "display_data"
    },
    {
     "data": {
      "text/html": [
       "<h3>Vergleichbare Universitäten in Publikationen- und Drittmittel-Struktur</h3><ul>"
      ],
      "text/plain": [
       "<IPython.core.display.HTML object>"
      ]
     },
     "metadata": {},
     "output_type": "display_data"
    },
    {
     "data": {
      "text/html": [
       "<li style=\"margin-bottom: 5px;\">Technische Universität Graz</li>"
      ],
      "text/plain": [
       "<IPython.core.display.HTML object>"
      ]
     },
     "metadata": {},
     "output_type": "display_data"
    },
    {
     "data": {
      "text/html": [
       "</ul>"
      ],
      "text/plain": [
       "<IPython.core.display.HTML object>"
      ]
     },
     "metadata": {},
     "output_type": "display_data"
    },
    {
     "data": {
      "text/html": [
       "<h4>Vergleichbar bei der Publikationen-Struktur</h4>"
      ],
      "text/plain": [
       "<IPython.core.display.HTML object>"
      ]
     },
     "metadata": {},
     "output_type": "display_data"
    },
    {
     "data": {
      "text/html": [
       "<p><strong>Technische Universität Graz</strong> (80.2%, wegen &auml;hnlicher interner Relevanz von Informatik, Elektrotechnik, Elektronik, Informationstechnik, Bauwesen)</p>"
      ],
      "text/plain": [
       "<IPython.core.display.HTML object>"
      ]
     },
     "metadata": {},
     "output_type": "display_data"
    },
    {
     "data": {
      "text/html": [
       "<h4>Vergleichbar bei der Drittmittel-Struktur</h4>"
      ],
      "text/plain": [
       "<IPython.core.display.HTML object>"
      ]
     },
     "metadata": {},
     "output_type": "display_data"
    },
    {
     "data": {
      "text/html": [
       "<p><strong>Universität Linz</strong> (71.0%, wegen &auml;hnlicher interner Relevanz von Elektrotechnik, Elektronik, Informationstechnik, Physik, Astronomie, Informatik), <strong>Technische Universität Graz</strong> (62.4%, wegen &auml;hnlicher interner Relevanz von Elektrotechnik, Elektronik, Informationstechnik, Informatik, Bauwesen)</p>"
      ],
      "text/plain": [
       "<IPython.core.display.HTML object>"
      ]
     },
     "metadata": {},
     "output_type": "display_data"
    },
    {
     "data": {
      "text/html": [
       "<p><small>Universitäten mit einer Ähnlichkeit von weniger als 50% werden nicht angezeigt.</small></p>"
      ],
      "text/plain": [
       "<IPython.core.display.HTML object>"
      ]
     },
     "metadata": {},
     "output_type": "display_data"
    },
    {
     "data": {
      "text/html": [
       "<h3>Publikationen-Struktur der TUW</h3>"
      ],
      "text/plain": [
       "<IPython.core.display.HTML object>"
      ]
     },
     "metadata": {},
     "output_type": "display_data"
    },
    {
     "data": {
      "text/html": [
       "Angezeigt werden WZW, die zusammen 69.5% der Publikationen an der TUW ausmachen. Alle anderen WZW tragen je weniger als 7.5% bei. Die Spalte \"Ranking\" bezieht sich  auf den &ouml;sterreichweiten Vergleich der absoluten Werte pro WZW"
      ],
      "text/plain": [
       "<IPython.core.display.HTML object>"
      ]
     },
     "metadata": {},
     "output_type": "display_data"
    },
    {
     "data": {
      "text/html": [
       "<style  type=\"text/css\" >\n",
       "    #T_cf3ed234_afd2_11e9_ba46_3791e66294cerow0_col0 {\n",
       "            background-color:  green;\n",
       "        }    #T_cf3ed234_afd2_11e9_ba46_3791e66294cerow0_col1 {\n",
       "            background-color:  green;\n",
       "        }    #T_cf3ed234_afd2_11e9_ba46_3791e66294cerow0_col2 {\n",
       "            background-color:  green;\n",
       "        }    #T_cf3ed234_afd2_11e9_ba46_3791e66294cerow0_col3 {\n",
       "            background-color:  green;\n",
       "        }    #T_cf3ed234_afd2_11e9_ba46_3791e66294cerow1_col0 {\n",
       "            background-color:  green;\n",
       "        }    #T_cf3ed234_afd2_11e9_ba46_3791e66294cerow1_col1 {\n",
       "            background-color:  green;\n",
       "        }    #T_cf3ed234_afd2_11e9_ba46_3791e66294cerow1_col2 {\n",
       "            background-color:  green;\n",
       "        }    #T_cf3ed234_afd2_11e9_ba46_3791e66294cerow1_col3 {\n",
       "            background-color:  green;\n",
       "        }    #T_cf3ed234_afd2_11e9_ba46_3791e66294cerow2_col0 {\n",
       "            background-color:  green;\n",
       "        }    #T_cf3ed234_afd2_11e9_ba46_3791e66294cerow2_col1 {\n",
       "            background-color:  green;\n",
       "        }    #T_cf3ed234_afd2_11e9_ba46_3791e66294cerow2_col2 {\n",
       "            background-color:  green;\n",
       "        }    #T_cf3ed234_afd2_11e9_ba46_3791e66294cerow2_col3 {\n",
       "            background-color:  green;\n",
       "        }    #T_cf3ed234_afd2_11e9_ba46_3791e66294cerow3_col0 {\n",
       "            background-color:  yellow;\n",
       "        }    #T_cf3ed234_afd2_11e9_ba46_3791e66294cerow3_col1 {\n",
       "            background-color:  yellow;\n",
       "        }    #T_cf3ed234_afd2_11e9_ba46_3791e66294cerow3_col2 {\n",
       "            background-color:  yellow;\n",
       "        }    #T_cf3ed234_afd2_11e9_ba46_3791e66294cerow3_col3 {\n",
       "            background-color:  yellow;\n",
       "        }    #T_cf3ed234_afd2_11e9_ba46_3791e66294cerow4_col0 {\n",
       "            background-color:  green;\n",
       "        }    #T_cf3ed234_afd2_11e9_ba46_3791e66294cerow4_col1 {\n",
       "            background-color:  green;\n",
       "        }    #T_cf3ed234_afd2_11e9_ba46_3791e66294cerow4_col2 {\n",
       "            background-color:  green;\n",
       "        }    #T_cf3ed234_afd2_11e9_ba46_3791e66294cerow4_col3 {\n",
       "            background-color:  green;\n",
       "        }    #T_cf3ed234_afd2_11e9_ba46_3791e66294cerow5_col0 {\n",
       "            background-color:  green;\n",
       "        }    #T_cf3ed234_afd2_11e9_ba46_3791e66294cerow5_col1 {\n",
       "            background-color:  green;\n",
       "        }    #T_cf3ed234_afd2_11e9_ba46_3791e66294cerow5_col2 {\n",
       "            background-color:  green;\n",
       "        }    #T_cf3ed234_afd2_11e9_ba46_3791e66294cerow5_col3 {\n",
       "            background-color:  green;\n",
       "        }</style><table id=\"T_cf3ed234_afd2_11e9_ba46_3791e66294ce\" ><thead>    <tr>        <th class=\"blank level0\" ></th>        <th class=\"col_heading level0 col0\" >Intern</th>        <th class=\"col_heading level0 col1\" >Publikationen</th>        <th class=\"col_heading level0 col2\" >Ranking</th>        <th class=\"col_heading level0 col3\" >Universität im Vergleich</th>    </tr>    <tr>        <th class=\"index_name level0\" >WZW</th>        <th class=\"blank\" ></th>        <th class=\"blank\" ></th>        <th class=\"blank\" ></th>        <th class=\"blank\" ></th>    </tr></thead><tbody>\n",
       "                <tr>\n",
       "                        <th id=\"T_cf3ed234_afd2_11e9_ba46_3791e66294celevel0_row0\" class=\"row_heading level0 row0\" >Informatik</th>\n",
       "                        <td id=\"T_cf3ed234_afd2_11e9_ba46_3791e66294cerow0_col0\" class=\"data row0 col0\" >16.49%</td>\n",
       "                        <td id=\"T_cf3ed234_afd2_11e9_ba46_3791e66294cerow0_col1\" class=\"data row0 col1\" >769 Publikationen</td>\n",
       "                        <td id=\"T_cf3ed234_afd2_11e9_ba46_3791e66294cerow0_col2\" class=\"data row0 col2\" >1. Platz</td>\n",
       "                        <td id=\"T_cf3ed234_afd2_11e9_ba46_3791e66294cerow0_col3\" class=\"data row0 col3\" ><img src=\"TUWInformatik_Publikationen.png\", width=250, height=200/></td>\n",
       "            </tr>\n",
       "            <tr>\n",
       "                        <th id=\"T_cf3ed234_afd2_11e9_ba46_3791e66294celevel0_row1\" class=\"row_heading level0 row1\" >Elektrotechnik, Elektronik, Informationstechnik</th>\n",
       "                        <td id=\"T_cf3ed234_afd2_11e9_ba46_3791e66294cerow1_col0\" class=\"data row1 col0\" >14.63%</td>\n",
       "                        <td id=\"T_cf3ed234_afd2_11e9_ba46_3791e66294cerow1_col1\" class=\"data row1 col1\" >682 Publikationen</td>\n",
       "                        <td id=\"T_cf3ed234_afd2_11e9_ba46_3791e66294cerow1_col2\" class=\"data row1 col2\" >1. Platz</td>\n",
       "                        <td id=\"T_cf3ed234_afd2_11e9_ba46_3791e66294cerow1_col3\" class=\"data row1 col3\" ><img src=\"TUWElektrotechnik_Elektronik_Informationstechnik_Publikationen.png\", width=250, height=200/></td>\n",
       "            </tr>\n",
       "            <tr>\n",
       "                        <th id=\"T_cf3ed234_afd2_11e9_ba46_3791e66294celevel0_row2\" class=\"row_heading level0 row2\" >Bauwesen</th>\n",
       "                        <td id=\"T_cf3ed234_afd2_11e9_ba46_3791e66294cerow2_col0\" class=\"data row2 col0\" >11.67%</td>\n",
       "                        <td id=\"T_cf3ed234_afd2_11e9_ba46_3791e66294cerow2_col1\" class=\"data row2 col1\" >544 Publikationen</td>\n",
       "                        <td id=\"T_cf3ed234_afd2_11e9_ba46_3791e66294cerow2_col2\" class=\"data row2 col2\" >1. Platz</td>\n",
       "                        <td id=\"T_cf3ed234_afd2_11e9_ba46_3791e66294cerow2_col3\" class=\"data row2 col3\" ><img src=\"TUWBauwesen_Publikationen.png\", width=250, height=200/></td>\n",
       "            </tr>\n",
       "            <tr>\n",
       "                        <th id=\"T_cf3ed234_afd2_11e9_ba46_3791e66294celevel0_row3\" class=\"row_heading level0 row3\" >Physik, Astronomie</th>\n",
       "                        <td id=\"T_cf3ed234_afd2_11e9_ba46_3791e66294cerow3_col0\" class=\"data row3 col0\" >10.47%</td>\n",
       "                        <td id=\"T_cf3ed234_afd2_11e9_ba46_3791e66294cerow3_col1\" class=\"data row3 col1\" >488 Publikationen</td>\n",
       "                        <td id=\"T_cf3ed234_afd2_11e9_ba46_3791e66294cerow3_col2\" class=\"data row3 col2\" >2. Platz</td>\n",
       "                        <td id=\"T_cf3ed234_afd2_11e9_ba46_3791e66294cerow3_col3\" class=\"data row3 col3\" ><img src=\"TUWPhysik_Astronomie_Publikationen.png\", width=250, height=200/></td>\n",
       "            </tr>\n",
       "            <tr>\n",
       "                        <th id=\"T_cf3ed234_afd2_11e9_ba46_3791e66294celevel0_row4\" class=\"row_heading level0 row4\" >Chemie</th>\n",
       "                        <td id=\"T_cf3ed234_afd2_11e9_ba46_3791e66294cerow4_col0\" class=\"data row4 col0\" >8.81%</td>\n",
       "                        <td id=\"T_cf3ed234_afd2_11e9_ba46_3791e66294cerow4_col1\" class=\"data row4 col1\" >411 Publikationen</td>\n",
       "                        <td id=\"T_cf3ed234_afd2_11e9_ba46_3791e66294cerow4_col2\" class=\"data row4 col2\" >1. Platz</td>\n",
       "                        <td id=\"T_cf3ed234_afd2_11e9_ba46_3791e66294cerow4_col3\" class=\"data row4 col3\" ><img src=\"TUWChemie_Publikationen.png\", width=250, height=200/></td>\n",
       "            </tr>\n",
       "            <tr>\n",
       "                        <th id=\"T_cf3ed234_afd2_11e9_ba46_3791e66294celevel0_row5\" class=\"row_heading level0 row5\" >Chemische Verfahrenstechnik</th>\n",
       "                        <td id=\"T_cf3ed234_afd2_11e9_ba46_3791e66294cerow5_col0\" class=\"data row5 col0\" >7.48%</td>\n",
       "                        <td id=\"T_cf3ed234_afd2_11e9_ba46_3791e66294cerow5_col1\" class=\"data row5 col1\" >349 Publikationen</td>\n",
       "                        <td id=\"T_cf3ed234_afd2_11e9_ba46_3791e66294cerow5_col2\" class=\"data row5 col2\" >1. Platz</td>\n",
       "                        <td id=\"T_cf3ed234_afd2_11e9_ba46_3791e66294cerow5_col3\" class=\"data row5 col3\" ><img src=\"TUWChemische_Verfahrenstechnik_Publikationen.png\", width=250, height=200/></td>\n",
       "            </tr>\n",
       "    </tbody></table>"
      ],
      "text/plain": [
       "<IPython.core.display.HTML object>"
      ]
     },
     "metadata": {},
     "output_type": "display_data"
    },
    {
     "data": {
      "text/html": [
       "<h3>Drittmittel-Struktur der TUW</h3>"
      ],
      "text/plain": [
       "<IPython.core.display.HTML object>"
      ]
     },
     "metadata": {},
     "output_type": "display_data"
    },
    {
     "data": {
      "text/html": [
       "Angezeigt werden WZW, die zusammen 67.2% der Drittmittel an der TUW ausmachen. Alle anderen WZW tragen je weniger als 6.3% bei. Die Spalte \"Ranking\" bezieht sich  auf den &ouml;sterreichweiten Vergleich der absoluten Werte pro WZW"
      ],
      "text/plain": [
       "<IPython.core.display.HTML object>"
      ]
     },
     "metadata": {},
     "output_type": "display_data"
    },
    {
     "data": {
      "text/html": [
       "<style  type=\"text/css\" >\n",
       "    #T_cf83eafe_afd2_11e9_ba46_3791e66294cerow0_col0 {\n",
       "            background-color:  green;\n",
       "        }    #T_cf83eafe_afd2_11e9_ba46_3791e66294cerow0_col1 {\n",
       "            background-color:  green;\n",
       "        }    #T_cf83eafe_afd2_11e9_ba46_3791e66294cerow0_col2 {\n",
       "            background-color:  green;\n",
       "        }    #T_cf83eafe_afd2_11e9_ba46_3791e66294cerow0_col3 {\n",
       "            background-color:  green;\n",
       "        }    #T_cf83eafe_afd2_11e9_ba46_3791e66294cerow1_col0 {\n",
       "            background-color:  green;\n",
       "        }    #T_cf83eafe_afd2_11e9_ba46_3791e66294cerow1_col1 {\n",
       "            background-color:  green;\n",
       "        }    #T_cf83eafe_afd2_11e9_ba46_3791e66294cerow1_col2 {\n",
       "            background-color:  green;\n",
       "        }    #T_cf83eafe_afd2_11e9_ba46_3791e66294cerow1_col3 {\n",
       "            background-color:  green;\n",
       "        }    #T_cf83eafe_afd2_11e9_ba46_3791e66294cerow2_col0 {\n",
       "            background-color:  green;\n",
       "        }    #T_cf83eafe_afd2_11e9_ba46_3791e66294cerow2_col1 {\n",
       "            background-color:  green;\n",
       "        }    #T_cf83eafe_afd2_11e9_ba46_3791e66294cerow2_col2 {\n",
       "            background-color:  green;\n",
       "        }    #T_cf83eafe_afd2_11e9_ba46_3791e66294cerow2_col3 {\n",
       "            background-color:  green;\n",
       "        }    #T_cf83eafe_afd2_11e9_ba46_3791e66294cerow3_col0 {\n",
       "            background-color:  yellow;\n",
       "        }    #T_cf83eafe_afd2_11e9_ba46_3791e66294cerow3_col1 {\n",
       "            background-color:  yellow;\n",
       "        }    #T_cf83eafe_afd2_11e9_ba46_3791e66294cerow3_col2 {\n",
       "            background-color:  yellow;\n",
       "        }    #T_cf83eafe_afd2_11e9_ba46_3791e66294cerow3_col3 {\n",
       "            background-color:  yellow;\n",
       "        }    #T_cf83eafe_afd2_11e9_ba46_3791e66294cerow4_col0 {\n",
       "            background-color:  yellow;\n",
       "        }    #T_cf83eafe_afd2_11e9_ba46_3791e66294cerow4_col1 {\n",
       "            background-color:  yellow;\n",
       "        }    #T_cf83eafe_afd2_11e9_ba46_3791e66294cerow4_col2 {\n",
       "            background-color:  yellow;\n",
       "        }    #T_cf83eafe_afd2_11e9_ba46_3791e66294cerow4_col3 {\n",
       "            background-color:  yellow;\n",
       "        }    #T_cf83eafe_afd2_11e9_ba46_3791e66294cerow5_col0 {\n",
       "            background-color:  yellow;\n",
       "        }    #T_cf83eafe_afd2_11e9_ba46_3791e66294cerow5_col1 {\n",
       "            background-color:  yellow;\n",
       "        }    #T_cf83eafe_afd2_11e9_ba46_3791e66294cerow5_col2 {\n",
       "            background-color:  yellow;\n",
       "        }    #T_cf83eafe_afd2_11e9_ba46_3791e66294cerow5_col3 {\n",
       "            background-color:  yellow;\n",
       "        }</style><table id=\"T_cf83eafe_afd2_11e9_ba46_3791e66294ce\" ><thead>    <tr>        <th class=\"blank level0\" ></th>        <th class=\"col_heading level0 col0\" >Intern</th>        <th class=\"col_heading level0 col1\" >Drittmittel</th>        <th class=\"col_heading level0 col2\" >Ranking</th>        <th class=\"col_heading level0 col3\" >Universität im Vergleich</th>    </tr>    <tr>        <th class=\"index_name level0\" >WZW</th>        <th class=\"blank\" ></th>        <th class=\"blank\" ></th>        <th class=\"blank\" ></th>        <th class=\"blank\" ></th>    </tr></thead><tbody>\n",
       "                <tr>\n",
       "                        <th id=\"T_cf83eafe_afd2_11e9_ba46_3791e66294celevel0_row0\" class=\"row_heading level0 row0\" >Elektrotechnik, Elektronik, Informationstechnik</th>\n",
       "                        <td id=\"T_cf83eafe_afd2_11e9_ba46_3791e66294cerow0_col0\" class=\"data row0 col0\" >18.38%</td>\n",
       "                        <td id=\"T_cf83eafe_afd2_11e9_ba46_3791e66294cerow0_col1\" class=\"data row0 col1\" >16,047,928 €</td>\n",
       "                        <td id=\"T_cf83eafe_afd2_11e9_ba46_3791e66294cerow0_col2\" class=\"data row0 col2\" >1. Platz</td>\n",
       "                        <td id=\"T_cf83eafe_afd2_11e9_ba46_3791e66294cerow0_col3\" class=\"data row0 col3\" ><img src=\"TUWElektrotechnik_Elektronik_Informationstechnik_Drittmittel.png\", width=250, height=200/></td>\n",
       "            </tr>\n",
       "            <tr>\n",
       "                        <th id=\"T_cf83eafe_afd2_11e9_ba46_3791e66294celevel0_row1\" class=\"row_heading level0 row1\" >Physik, Astronomie</th>\n",
       "                        <td id=\"T_cf83eafe_afd2_11e9_ba46_3791e66294cerow1_col0\" class=\"data row1 col0\" >15.35%</td>\n",
       "                        <td id=\"T_cf83eafe_afd2_11e9_ba46_3791e66294cerow1_col1\" class=\"data row1 col1\" >13,401,452 €</td>\n",
       "                        <td id=\"T_cf83eafe_afd2_11e9_ba46_3791e66294cerow1_col2\" class=\"data row1 col2\" >1. Platz</td>\n",
       "                        <td id=\"T_cf83eafe_afd2_11e9_ba46_3791e66294cerow1_col3\" class=\"data row1 col3\" ><img src=\"TUWPhysik_Astronomie_Drittmittel.png\", width=250, height=200/></td>\n",
       "            </tr>\n",
       "            <tr>\n",
       "                        <th id=\"T_cf83eafe_afd2_11e9_ba46_3791e66294celevel0_row2\" class=\"row_heading level0 row2\" >Informatik</th>\n",
       "                        <td id=\"T_cf83eafe_afd2_11e9_ba46_3791e66294cerow2_col0\" class=\"data row2 col0\" >12.17%</td>\n",
       "                        <td id=\"T_cf83eafe_afd2_11e9_ba46_3791e66294cerow2_col1\" class=\"data row2 col1\" >10,630,304 €</td>\n",
       "                        <td id=\"T_cf83eafe_afd2_11e9_ba46_3791e66294cerow2_col2\" class=\"data row2 col2\" >1. Platz</td>\n",
       "                        <td id=\"T_cf83eafe_afd2_11e9_ba46_3791e66294cerow2_col3\" class=\"data row2 col3\" ><img src=\"TUWInformatik_Drittmittel.png\", width=250, height=200/></td>\n",
       "            </tr>\n",
       "            <tr>\n",
       "                        <th id=\"T_cf83eafe_afd2_11e9_ba46_3791e66294celevel0_row3\" class=\"row_heading level0 row3\" >Andere Technische Wissenschaften</th>\n",
       "                        <td id=\"T_cf83eafe_afd2_11e9_ba46_3791e66294cerow3_col0\" class=\"data row3 col0\" >7.64%</td>\n",
       "                        <td id=\"T_cf83eafe_afd2_11e9_ba46_3791e66294cerow3_col1\" class=\"data row3 col1\" >6,673,316 €</td>\n",
       "                        <td id=\"T_cf83eafe_afd2_11e9_ba46_3791e66294cerow3_col2\" class=\"data row3 col2\" >2. Platz</td>\n",
       "                        <td id=\"T_cf83eafe_afd2_11e9_ba46_3791e66294cerow3_col3\" class=\"data row3 col3\" ><img src=\"TUWAndere_Technische_Wissenschaften_Drittmittel.png\", width=250, height=200/></td>\n",
       "            </tr>\n",
       "            <tr>\n",
       "                        <th id=\"T_cf83eafe_afd2_11e9_ba46_3791e66294celevel0_row4\" class=\"row_heading level0 row4\" >Bauwesen</th>\n",
       "                        <td id=\"T_cf83eafe_afd2_11e9_ba46_3791e66294cerow4_col0\" class=\"data row4 col0\" >7.32%</td>\n",
       "                        <td id=\"T_cf83eafe_afd2_11e9_ba46_3791e66294cerow4_col1\" class=\"data row4 col1\" >6,392,114 €</td>\n",
       "                        <td id=\"T_cf83eafe_afd2_11e9_ba46_3791e66294cerow4_col2\" class=\"data row4 col2\" >2. Platz</td>\n",
       "                        <td id=\"T_cf83eafe_afd2_11e9_ba46_3791e66294cerow4_col3\" class=\"data row4 col3\" ><img src=\"TUWBauwesen_Drittmittel.png\", width=250, height=200/></td>\n",
       "            </tr>\n",
       "            <tr>\n",
       "                        <th id=\"T_cf83eafe_afd2_11e9_ba46_3791e66294celevel0_row5\" class=\"row_heading level0 row5\" >Mathematik</th>\n",
       "                        <td id=\"T_cf83eafe_afd2_11e9_ba46_3791e66294cerow5_col0\" class=\"data row5 col0\" >6.32%</td>\n",
       "                        <td id=\"T_cf83eafe_afd2_11e9_ba46_3791e66294cerow5_col1\" class=\"data row5 col1\" >5,522,420 €</td>\n",
       "                        <td id=\"T_cf83eafe_afd2_11e9_ba46_3791e66294cerow5_col2\" class=\"data row5 col2\" >3. Platz</td>\n",
       "                        <td id=\"T_cf83eafe_afd2_11e9_ba46_3791e66294cerow5_col3\" class=\"data row5 col3\" ><img src=\"TUWMathematik_Drittmittel.png\", width=250, height=200/></td>\n",
       "            </tr>\n",
       "    </tbody></table>"
      ],
      "text/plain": [
       "<IPython.core.display.HTML object>"
      ]
     },
     "metadata": {},
     "output_type": "display_data"
    },
    {
     "data": {
      "text/html": [
       "<h2 style=\"page-break-before: always;\">Universität Graz</h2>"
      ],
      "text/plain": [
       "<IPython.core.display.HTML object>"
      ]
     },
     "metadata": {},
     "output_type": "display_data"
    },
    {
     "data": {
      "text/html": [
       "<h3>Vergleichbare Universitäten in Publikationen- und Drittmittel-Struktur</h3><ul>"
      ],
      "text/plain": [
       "<IPython.core.display.HTML object>"
      ]
     },
     "metadata": {},
     "output_type": "display_data"
    },
    {
     "data": {
      "text/html": [
       "<li style=\"margin-bottom: 5px;\">Universität Wien</li>"
      ],
      "text/plain": [
       "<IPython.core.display.HTML object>"
      ]
     },
     "metadata": {},
     "output_type": "display_data"
    },
    {
     "data": {
      "text/html": [
       "<li style=\"margin-bottom: 5px;\">Universität Salzburg</li>"
      ],
      "text/plain": [
       "<IPython.core.display.HTML object>"
      ]
     },
     "metadata": {},
     "output_type": "display_data"
    },
    {
     "data": {
      "text/html": [
       "<li style=\"margin-bottom: 5px;\">Universität Innsbruck</li>"
      ],
      "text/plain": [
       "<IPython.core.display.HTML object>"
      ]
     },
     "metadata": {},
     "output_type": "display_data"
    },
    {
     "data": {
      "text/html": [
       "</ul>"
      ],
      "text/plain": [
       "<IPython.core.display.HTML object>"
      ]
     },
     "metadata": {},
     "output_type": "display_data"
    },
    {
     "data": {
      "text/html": [
       "<h4>Vergleichbar bei der Publikationen-Struktur</h4>"
      ],
      "text/plain": [
       "<IPython.core.display.HTML object>"
      ]
     },
     "metadata": {},
     "output_type": "display_data"
    },
    {
     "data": {
      "text/html": [
       "<p><strong>Universität Wien</strong> (79.0%, wegen &auml;hnlicher interner Relevanz von Sprach- und Literaturwissenschaften, Rechtswissenschaften, Biologie), <strong>Universität Innsbruck</strong> (75.0%, wegen &auml;hnlicher interner Relevanz von Rechtswissenschaften, Sprach- und Literaturwissenschaften, Biologie), <strong>Universität Salzburg</strong> (68.7%, wegen &auml;hnlicher interner Relevanz von Rechtswissenschaften, Sprach- und Literaturwissenschaften, Philosophie, Ethik, Religion)</p>"
      ],
      "text/plain": [
       "<IPython.core.display.HTML object>"
      ]
     },
     "metadata": {},
     "output_type": "display_data"
    },
    {
     "data": {
      "text/html": [
       "<h4>Vergleichbar bei der Drittmittel-Struktur</h4>"
      ],
      "text/plain": [
       "<IPython.core.display.HTML object>"
      ]
     },
     "metadata": {},
     "output_type": "display_data"
    },
    {
     "data": {
      "text/html": [
       "<p><strong>Universität Wien</strong> (70.6%, wegen &auml;hnlicher interner Relevanz von Biologie, Physik, Astronomie, Sprach- und Literaturwissenschaften), <strong>Universität Innsbruck</strong> (59.7%, wegen &auml;hnlicher interner Relevanz von Biologie, Chemie, Wirtschaftswissenschaften), <strong>Universität Salzburg</strong> (57.9%, wegen &auml;hnlicher interner Relevanz von Biologie, Physik, Astronomie, Geschichte, Archäologie)</p>"
      ],
      "text/plain": [
       "<IPython.core.display.HTML object>"
      ]
     },
     "metadata": {},
     "output_type": "display_data"
    },
    {
     "data": {
      "text/html": [
       "<p><small>Universitäten mit einer Ähnlichkeit von weniger als 50% werden nicht angezeigt.</small></p>"
      ],
      "text/plain": [
       "<IPython.core.display.HTML object>"
      ]
     },
     "metadata": {},
     "output_type": "display_data"
    },
    {
     "data": {
      "text/html": [
       "<h3>Publikationen-Struktur der UGR</h3>"
      ],
      "text/plain": [
       "<IPython.core.display.HTML object>"
      ]
     },
     "metadata": {},
     "output_type": "display_data"
    },
    {
     "data": {
      "text/html": [
       "Angezeigt werden WZW, die zusammen 70.2% der Publikationen an der UGR ausmachen. Alle anderen WZW tragen je weniger als 5.0% bei. Die Spalte \"Ranking\" bezieht sich  auf den &ouml;sterreichweiten Vergleich der absoluten Werte pro WZW"
      ],
      "text/plain": [
       "<IPython.core.display.HTML object>"
      ]
     },
     "metadata": {},
     "output_type": "display_data"
    },
    {
     "data": {
      "text/html": [
       "<style  type=\"text/css\" >\n",
       "    #T_cff20e62_afd2_11e9_ba46_3791e66294cerow0_col0 {\n",
       "            background-color:  white;\n",
       "        }    #T_cff20e62_afd2_11e9_ba46_3791e66294cerow0_col1 {\n",
       "            background-color:  white;\n",
       "        }    #T_cff20e62_afd2_11e9_ba46_3791e66294cerow0_col2 {\n",
       "            background-color:  white;\n",
       "        }    #T_cff20e62_afd2_11e9_ba46_3791e66294cerow0_col3 {\n",
       "            background-color:  white;\n",
       "        }    #T_cff20e62_afd2_11e9_ba46_3791e66294cerow1_col0 {\n",
       "            background-color:  yellow;\n",
       "        }    #T_cff20e62_afd2_11e9_ba46_3791e66294cerow1_col1 {\n",
       "            background-color:  yellow;\n",
       "        }    #T_cff20e62_afd2_11e9_ba46_3791e66294cerow1_col2 {\n",
       "            background-color:  yellow;\n",
       "        }    #T_cff20e62_afd2_11e9_ba46_3791e66294cerow1_col3 {\n",
       "            background-color:  yellow;\n",
       "        }    #T_cff20e62_afd2_11e9_ba46_3791e66294cerow2_col0 {\n",
       "            background-color:  yellow;\n",
       "        }    #T_cff20e62_afd2_11e9_ba46_3791e66294cerow2_col1 {\n",
       "            background-color:  yellow;\n",
       "        }    #T_cff20e62_afd2_11e9_ba46_3791e66294cerow2_col2 {\n",
       "            background-color:  yellow;\n",
       "        }    #T_cff20e62_afd2_11e9_ba46_3791e66294cerow2_col3 {\n",
       "            background-color:  yellow;\n",
       "        }    #T_cff20e62_afd2_11e9_ba46_3791e66294cerow3_col0 {\n",
       "            background-color:  white;\n",
       "        }    #T_cff20e62_afd2_11e9_ba46_3791e66294cerow3_col1 {\n",
       "            background-color:  white;\n",
       "        }    #T_cff20e62_afd2_11e9_ba46_3791e66294cerow3_col2 {\n",
       "            background-color:  white;\n",
       "        }    #T_cff20e62_afd2_11e9_ba46_3791e66294cerow3_col3 {\n",
       "            background-color:  white;\n",
       "        }    #T_cff20e62_afd2_11e9_ba46_3791e66294cerow4_col0 {\n",
       "            background-color:  yellow;\n",
       "        }    #T_cff20e62_afd2_11e9_ba46_3791e66294cerow4_col1 {\n",
       "            background-color:  yellow;\n",
       "        }    #T_cff20e62_afd2_11e9_ba46_3791e66294cerow4_col2 {\n",
       "            background-color:  yellow;\n",
       "        }    #T_cff20e62_afd2_11e9_ba46_3791e66294cerow4_col3 {\n",
       "            background-color:  yellow;\n",
       "        }    #T_cff20e62_afd2_11e9_ba46_3791e66294cerow5_col0 {\n",
       "            background-color:  yellow;\n",
       "        }    #T_cff20e62_afd2_11e9_ba46_3791e66294cerow5_col1 {\n",
       "            background-color:  yellow;\n",
       "        }    #T_cff20e62_afd2_11e9_ba46_3791e66294cerow5_col2 {\n",
       "            background-color:  yellow;\n",
       "        }    #T_cff20e62_afd2_11e9_ba46_3791e66294cerow5_col3 {\n",
       "            background-color:  yellow;\n",
       "        }    #T_cff20e62_afd2_11e9_ba46_3791e66294cerow6_col0 {\n",
       "            background-color:  white;\n",
       "        }    #T_cff20e62_afd2_11e9_ba46_3791e66294cerow6_col1 {\n",
       "            background-color:  white;\n",
       "        }    #T_cff20e62_afd2_11e9_ba46_3791e66294cerow6_col2 {\n",
       "            background-color:  white;\n",
       "        }    #T_cff20e62_afd2_11e9_ba46_3791e66294cerow6_col3 {\n",
       "            background-color:  white;\n",
       "        }    #T_cff20e62_afd2_11e9_ba46_3791e66294cerow7_col0 {\n",
       "            background-color:  yellow;\n",
       "        }    #T_cff20e62_afd2_11e9_ba46_3791e66294cerow7_col1 {\n",
       "            background-color:  yellow;\n",
       "        }    #T_cff20e62_afd2_11e9_ba46_3791e66294cerow7_col2 {\n",
       "            background-color:  yellow;\n",
       "        }    #T_cff20e62_afd2_11e9_ba46_3791e66294cerow7_col3 {\n",
       "            background-color:  yellow;\n",
       "        }</style><table id=\"T_cff20e62_afd2_11e9_ba46_3791e66294ce\" ><thead>    <tr>        <th class=\"blank level0\" ></th>        <th class=\"col_heading level0 col0\" >Intern</th>        <th class=\"col_heading level0 col1\" >Publikationen</th>        <th class=\"col_heading level0 col2\" >Ranking</th>        <th class=\"col_heading level0 col3\" >Universität im Vergleich</th>    </tr>    <tr>        <th class=\"index_name level0\" >WZW</th>        <th class=\"blank\" ></th>        <th class=\"blank\" ></th>        <th class=\"blank\" ></th>        <th class=\"blank\" ></th>    </tr></thead><tbody>\n",
       "                <tr>\n",
       "                        <th id=\"T_cff20e62_afd2_11e9_ba46_3791e66294celevel0_row0\" class=\"row_heading level0 row0\" >Rechtswissenschaften</th>\n",
       "                        <td id=\"T_cff20e62_afd2_11e9_ba46_3791e66294cerow0_col0\" class=\"data row0 col0\" >15.82%</td>\n",
       "                        <td id=\"T_cff20e62_afd2_11e9_ba46_3791e66294cerow0_col1\" class=\"data row0 col1\" >530 Publikationen</td>\n",
       "                        <td id=\"T_cff20e62_afd2_11e9_ba46_3791e66294cerow0_col2\" class=\"data row0 col2\" >4. Platz</td>\n",
       "                        <td id=\"T_cff20e62_afd2_11e9_ba46_3791e66294cerow0_col3\" class=\"data row0 col3\" ><img src=\"UGRRechtswissenschaften_Publikationen.png\", width=250, height=200/></td>\n",
       "            </tr>\n",
       "            <tr>\n",
       "                        <th id=\"T_cff20e62_afd2_11e9_ba46_3791e66294celevel0_row1\" class=\"row_heading level0 row1\" >Sprach- und Literaturwissenschaften</th>\n",
       "                        <td id=\"T_cff20e62_afd2_11e9_ba46_3791e66294cerow1_col0\" class=\"data row1 col0\" >12.09%</td>\n",
       "                        <td id=\"T_cff20e62_afd2_11e9_ba46_3791e66294cerow1_col1\" class=\"data row1 col1\" >405 Publikationen</td>\n",
       "                        <td id=\"T_cff20e62_afd2_11e9_ba46_3791e66294cerow1_col2\" class=\"data row1 col2\" >2. Platz</td>\n",
       "                        <td id=\"T_cff20e62_afd2_11e9_ba46_3791e66294cerow1_col3\" class=\"data row1 col3\" ><img src=\"UGRSprach-_und_Literaturwissenschaften_Publikationen.png\", width=250, height=200/></td>\n",
       "            </tr>\n",
       "            <tr>\n",
       "                        <th id=\"T_cff20e62_afd2_11e9_ba46_3791e66294celevel0_row2\" class=\"row_heading level0 row2\" >Wirtschaftswissenschaften</th>\n",
       "                        <td id=\"T_cff20e62_afd2_11e9_ba46_3791e66294cerow2_col0\" class=\"data row2 col0\" >8.57%</td>\n",
       "                        <td id=\"T_cff20e62_afd2_11e9_ba46_3791e66294cerow2_col1\" class=\"data row2 col1\" >287 Publikationen</td>\n",
       "                        <td id=\"T_cff20e62_afd2_11e9_ba46_3791e66294cerow2_col2\" class=\"data row2 col2\" >3. Platz</td>\n",
       "                        <td id=\"T_cff20e62_afd2_11e9_ba46_3791e66294cerow2_col3\" class=\"data row2 col3\" ><img src=\"UGRWirtschaftswissenschaften_Publikationen.png\", width=250, height=200/></td>\n",
       "            </tr>\n",
       "            <tr>\n",
       "                        <th id=\"T_cff20e62_afd2_11e9_ba46_3791e66294celevel0_row3\" class=\"row_heading level0 row3\" >Biologie</th>\n",
       "                        <td id=\"T_cff20e62_afd2_11e9_ba46_3791e66294cerow3_col0\" class=\"data row3 col0\" >8.42%</td>\n",
       "                        <td id=\"T_cff20e62_afd2_11e9_ba46_3791e66294cerow3_col1\" class=\"data row3 col1\" >282 Publikationen</td>\n",
       "                        <td id=\"T_cff20e62_afd2_11e9_ba46_3791e66294cerow3_col2\" class=\"data row3 col2\" >4. Platz</td>\n",
       "                        <td id=\"T_cff20e62_afd2_11e9_ba46_3791e66294cerow3_col3\" class=\"data row3 col3\" ><img src=\"UGRBiologie_Publikationen.png\", width=250, height=200/></td>\n",
       "            </tr>\n",
       "            <tr>\n",
       "                        <th id=\"T_cff20e62_afd2_11e9_ba46_3791e66294celevel0_row4\" class=\"row_heading level0 row4\" >Philosophie, Ethik, Religion</th>\n",
       "                        <td id=\"T_cff20e62_afd2_11e9_ba46_3791e66294cerow4_col0\" class=\"data row4 col0\" >8.24%</td>\n",
       "                        <td id=\"T_cff20e62_afd2_11e9_ba46_3791e66294cerow4_col1\" class=\"data row4 col1\" >276 Publikationen</td>\n",
       "                        <td id=\"T_cff20e62_afd2_11e9_ba46_3791e66294cerow4_col2\" class=\"data row4 col2\" >2. Platz</td>\n",
       "                        <td id=\"T_cff20e62_afd2_11e9_ba46_3791e66294cerow4_col3\" class=\"data row4 col3\" ><img src=\"UGRPhilosophie_Ethik_Religion_Publikationen.png\", width=250, height=200/></td>\n",
       "            </tr>\n",
       "            <tr>\n",
       "                        <th id=\"T_cff20e62_afd2_11e9_ba46_3791e66294celevel0_row5\" class=\"row_heading level0 row5\" >Geschichte, Archäologie</th>\n",
       "                        <td id=\"T_cff20e62_afd2_11e9_ba46_3791e66294cerow5_col0\" class=\"data row5 col0\" >6.39%</td>\n",
       "                        <td id=\"T_cff20e62_afd2_11e9_ba46_3791e66294cerow5_col1\" class=\"data row5 col1\" >214 Publikationen</td>\n",
       "                        <td id=\"T_cff20e62_afd2_11e9_ba46_3791e66294cerow5_col2\" class=\"data row5 col2\" >3. Platz</td>\n",
       "                        <td id=\"T_cff20e62_afd2_11e9_ba46_3791e66294cerow5_col3\" class=\"data row5 col3\" ><img src=\"UGRGeschichte_Archäologie_Publikationen.png\", width=250, height=200/></td>\n",
       "            </tr>\n",
       "            <tr>\n",
       "                        <th id=\"T_cff20e62_afd2_11e9_ba46_3791e66294celevel0_row6\" class=\"row_heading level0 row6\" >Physik, Astronomie</th>\n",
       "                        <td id=\"T_cff20e62_afd2_11e9_ba46_3791e66294cerow6_col0\" class=\"data row6 col0\" >5.70%</td>\n",
       "                        <td id=\"T_cff20e62_afd2_11e9_ba46_3791e66294cerow6_col1\" class=\"data row6 col1\" >191 Publikationen</td>\n",
       "                        <td id=\"T_cff20e62_afd2_11e9_ba46_3791e66294cerow6_col2\" class=\"data row6 col2\" >4. Platz</td>\n",
       "                        <td id=\"T_cff20e62_afd2_11e9_ba46_3791e66294cerow6_col3\" class=\"data row6 col3\" ><img src=\"UGRPhysik_Astronomie_Publikationen.png\", width=250, height=200/></td>\n",
       "            </tr>\n",
       "            <tr>\n",
       "                        <th id=\"T_cff20e62_afd2_11e9_ba46_3791e66294celevel0_row7\" class=\"row_heading level0 row7\" >Erziehungswissenschaften</th>\n",
       "                        <td id=\"T_cff20e62_afd2_11e9_ba46_3791e66294cerow7_col0\" class=\"data row7 col0\" >5.01%</td>\n",
       "                        <td id=\"T_cff20e62_afd2_11e9_ba46_3791e66294cerow7_col1\" class=\"data row7 col1\" >168 Publikationen</td>\n",
       "                        <td id=\"T_cff20e62_afd2_11e9_ba46_3791e66294cerow7_col2\" class=\"data row7 col2\" >3. Platz</td>\n",
       "                        <td id=\"T_cff20e62_afd2_11e9_ba46_3791e66294cerow7_col3\" class=\"data row7 col3\" ><img src=\"UGRErziehungswissenschaften_Publikationen.png\", width=250, height=200/></td>\n",
       "            </tr>\n",
       "    </tbody></table>"
      ],
      "text/plain": [
       "<IPython.core.display.HTML object>"
      ]
     },
     "metadata": {},
     "output_type": "display_data"
    },
    {
     "data": {
      "text/html": [
       "<h3>Drittmittel-Struktur der UGR</h3>"
      ],
      "text/plain": [
       "<IPython.core.display.HTML object>"
      ]
     },
     "metadata": {},
     "output_type": "display_data"
    },
    {
     "data": {
      "text/html": [
       "Angezeigt werden WZW, die zusammen 67.5% der Drittmittel an der UGR ausmachen. Alle anderen WZW tragen je weniger als 5.6% bei. Die Spalte \"Ranking\" bezieht sich  auf den &ouml;sterreichweiten Vergleich der absoluten Werte pro WZW"
      ],
      "text/plain": [
       "<IPython.core.display.HTML object>"
      ]
     },
     "metadata": {},
     "output_type": "display_data"
    },
    {
     "data": {
      "text/html": [
       "<style  type=\"text/css\" >\n",
       "    #T_d03969e2_afd2_11e9_ba46_3791e66294cerow0_col0 {\n",
       "            background-color:  yellow;\n",
       "        }    #T_d03969e2_afd2_11e9_ba46_3791e66294cerow0_col1 {\n",
       "            background-color:  yellow;\n",
       "        }    #T_d03969e2_afd2_11e9_ba46_3791e66294cerow0_col2 {\n",
       "            background-color:  yellow;\n",
       "        }    #T_d03969e2_afd2_11e9_ba46_3791e66294cerow0_col3 {\n",
       "            background-color:  yellow;\n",
       "        }    #T_d03969e2_afd2_11e9_ba46_3791e66294cerow1_col0 {\n",
       "            background-color:  yellow;\n",
       "        }    #T_d03969e2_afd2_11e9_ba46_3791e66294cerow1_col1 {\n",
       "            background-color:  yellow;\n",
       "        }    #T_d03969e2_afd2_11e9_ba46_3791e66294cerow1_col2 {\n",
       "            background-color:  yellow;\n",
       "        }    #T_d03969e2_afd2_11e9_ba46_3791e66294cerow1_col3 {\n",
       "            background-color:  yellow;\n",
       "        }    #T_d03969e2_afd2_11e9_ba46_3791e66294cerow2_col0 {\n",
       "            background-color:  yellow;\n",
       "        }    #T_d03969e2_afd2_11e9_ba46_3791e66294cerow2_col1 {\n",
       "            background-color:  yellow;\n",
       "        }    #T_d03969e2_afd2_11e9_ba46_3791e66294cerow2_col2 {\n",
       "            background-color:  yellow;\n",
       "        }    #T_d03969e2_afd2_11e9_ba46_3791e66294cerow2_col3 {\n",
       "            background-color:  yellow;\n",
       "        }    #T_d03969e2_afd2_11e9_ba46_3791e66294cerow3_col0 {\n",
       "            background-color:  white;\n",
       "        }    #T_d03969e2_afd2_11e9_ba46_3791e66294cerow3_col1 {\n",
       "            background-color:  white;\n",
       "        }    #T_d03969e2_afd2_11e9_ba46_3791e66294cerow3_col2 {\n",
       "            background-color:  white;\n",
       "        }    #T_d03969e2_afd2_11e9_ba46_3791e66294cerow3_col3 {\n",
       "            background-color:  white;\n",
       "        }    #T_d03969e2_afd2_11e9_ba46_3791e66294cerow4_col0 {\n",
       "            background-color:  white;\n",
       "        }    #T_d03969e2_afd2_11e9_ba46_3791e66294cerow4_col1 {\n",
       "            background-color:  white;\n",
       "        }    #T_d03969e2_afd2_11e9_ba46_3791e66294cerow4_col2 {\n",
       "            background-color:  white;\n",
       "        }    #T_d03969e2_afd2_11e9_ba46_3791e66294cerow4_col3 {\n",
       "            background-color:  white;\n",
       "        }    #T_d03969e2_afd2_11e9_ba46_3791e66294cerow5_col0 {\n",
       "            background-color:  yellow;\n",
       "        }    #T_d03969e2_afd2_11e9_ba46_3791e66294cerow5_col1 {\n",
       "            background-color:  yellow;\n",
       "        }    #T_d03969e2_afd2_11e9_ba46_3791e66294cerow5_col2 {\n",
       "            background-color:  yellow;\n",
       "        }    #T_d03969e2_afd2_11e9_ba46_3791e66294cerow5_col3 {\n",
       "            background-color:  yellow;\n",
       "        }</style><table id=\"T_d03969e2_afd2_11e9_ba46_3791e66294ce\" ><thead>    <tr>        <th class=\"blank level0\" ></th>        <th class=\"col_heading level0 col0\" >Intern</th>        <th class=\"col_heading level0 col1\" >Drittmittel</th>        <th class=\"col_heading level0 col2\" >Ranking</th>        <th class=\"col_heading level0 col3\" >Universität im Vergleich</th>    </tr>    <tr>        <th class=\"index_name level0\" >WZW</th>        <th class=\"blank\" ></th>        <th class=\"blank\" ></th>        <th class=\"blank\" ></th>        <th class=\"blank\" ></th>    </tr></thead><tbody>\n",
       "                <tr>\n",
       "                        <th id=\"T_d03969e2_afd2_11e9_ba46_3791e66294celevel0_row0\" class=\"row_heading level0 row0\" >Biologie</th>\n",
       "                        <td id=\"T_d03969e2_afd2_11e9_ba46_3791e66294cerow0_col0\" class=\"data row0 col0\" >20.95%</td>\n",
       "                        <td id=\"T_d03969e2_afd2_11e9_ba46_3791e66294cerow0_col1\" class=\"data row0 col1\" >5,870,029 €</td>\n",
       "                        <td id=\"T_d03969e2_afd2_11e9_ba46_3791e66294cerow0_col2\" class=\"data row0 col2\" >3. Platz</td>\n",
       "                        <td id=\"T_d03969e2_afd2_11e9_ba46_3791e66294cerow0_col3\" class=\"data row0 col3\" ><img src=\"UGRBiologie_Drittmittel.png\", width=250, height=200/></td>\n",
       "            </tr>\n",
       "            <tr>\n",
       "                        <th id=\"T_d03969e2_afd2_11e9_ba46_3791e66294celevel0_row1\" class=\"row_heading level0 row1\" >Wirtschaftswissenschaften</th>\n",
       "                        <td id=\"T_d03969e2_afd2_11e9_ba46_3791e66294cerow1_col0\" class=\"data row1 col0\" >11.55%</td>\n",
       "                        <td id=\"T_d03969e2_afd2_11e9_ba46_3791e66294cerow1_col1\" class=\"data row1 col1\" >3,235,473 €</td>\n",
       "                        <td id=\"T_d03969e2_afd2_11e9_ba46_3791e66294cerow1_col2\" class=\"data row1 col2\" >3. Platz</td>\n",
       "                        <td id=\"T_d03969e2_afd2_11e9_ba46_3791e66294cerow1_col3\" class=\"data row1 col3\" ><img src=\"UGRWirtschaftswissenschaften_Drittmittel.png\", width=250, height=200/></td>\n",
       "            </tr>\n",
       "            <tr>\n",
       "                        <th id=\"T_d03969e2_afd2_11e9_ba46_3791e66294celevel0_row2\" class=\"row_heading level0 row2\" >Sprach- und Literaturwissenschaften</th>\n",
       "                        <td id=\"T_d03969e2_afd2_11e9_ba46_3791e66294cerow2_col0\" class=\"data row2 col0\" >10.29%</td>\n",
       "                        <td id=\"T_d03969e2_afd2_11e9_ba46_3791e66294cerow2_col1\" class=\"data row2 col1\" >2,881,945 €</td>\n",
       "                        <td id=\"T_d03969e2_afd2_11e9_ba46_3791e66294cerow2_col2\" class=\"data row2 col2\" >2. Platz</td>\n",
       "                        <td id=\"T_d03969e2_afd2_11e9_ba46_3791e66294cerow2_col3\" class=\"data row2 col3\" ><img src=\"UGRSprach-_und_Literaturwissenschaften_Drittmittel.png\", width=250, height=200/></td>\n",
       "            </tr>\n",
       "            <tr>\n",
       "                        <th id=\"T_d03969e2_afd2_11e9_ba46_3791e66294celevel0_row3\" class=\"row_heading level0 row3\" >Chemie</th>\n",
       "                        <td id=\"T_d03969e2_afd2_11e9_ba46_3791e66294cerow3_col0\" class=\"data row3 col0\" >10.07%</td>\n",
       "                        <td id=\"T_d03969e2_afd2_11e9_ba46_3791e66294cerow3_col1\" class=\"data row3 col1\" >2,820,464 €</td>\n",
       "                        <td id=\"T_d03969e2_afd2_11e9_ba46_3791e66294cerow3_col2\" class=\"data row3 col2\" >6. Platz</td>\n",
       "                        <td id=\"T_d03969e2_afd2_11e9_ba46_3791e66294cerow3_col3\" class=\"data row3 col3\" ><img src=\"UGRChemie_Drittmittel.png\", width=250, height=200/></td>\n",
       "            </tr>\n",
       "            <tr>\n",
       "                        <th id=\"T_d03969e2_afd2_11e9_ba46_3791e66294celevel0_row4\" class=\"row_heading level0 row4\" >Physik, Astronomie</th>\n",
       "                        <td id=\"T_d03969e2_afd2_11e9_ba46_3791e66294cerow4_col0\" class=\"data row4 col0\" >9.06%</td>\n",
       "                        <td id=\"T_d03969e2_afd2_11e9_ba46_3791e66294cerow4_col1\" class=\"data row4 col1\" >2,538,360 €</td>\n",
       "                        <td id=\"T_d03969e2_afd2_11e9_ba46_3791e66294cerow4_col2\" class=\"data row4 col2\" >6. Platz</td>\n",
       "                        <td id=\"T_d03969e2_afd2_11e9_ba46_3791e66294cerow4_col3\" class=\"data row4 col3\" ><img src=\"UGRPhysik_Astronomie_Drittmittel.png\", width=250, height=200/></td>\n",
       "            </tr>\n",
       "            <tr>\n",
       "                        <th id=\"T_d03969e2_afd2_11e9_ba46_3791e66294celevel0_row5\" class=\"row_heading level0 row5\" >Psychologie</th>\n",
       "                        <td id=\"T_d03969e2_afd2_11e9_ba46_3791e66294cerow5_col0\" class=\"data row5 col0\" >5.58%</td>\n",
       "                        <td id=\"T_d03969e2_afd2_11e9_ba46_3791e66294cerow5_col1\" class=\"data row5 col1\" >1,561,844 €</td>\n",
       "                        <td id=\"T_d03969e2_afd2_11e9_ba46_3791e66294cerow5_col2\" class=\"data row5 col2\" >2. Platz</td>\n",
       "                        <td id=\"T_d03969e2_afd2_11e9_ba46_3791e66294cerow5_col3\" class=\"data row5 col3\" ><img src=\"UGRPsychologie_Drittmittel.png\", width=250, height=200/></td>\n",
       "            </tr>\n",
       "    </tbody></table>"
      ],
      "text/plain": [
       "<IPython.core.display.HTML object>"
      ]
     },
     "metadata": {},
     "output_type": "display_data"
    },
    {
     "data": {
      "text/html": [
       "<h2 style=\"page-break-before: always;\">Universität Innsbruck</h2>"
      ],
      "text/plain": [
       "<IPython.core.display.HTML object>"
      ]
     },
     "metadata": {},
     "output_type": "display_data"
    },
    {
     "data": {
      "text/html": [
       "<h3>Vergleichbare Universitäten in Publikationen- und Drittmittel-Struktur</h3><ul>"
      ],
      "text/plain": [
       "<IPython.core.display.HTML object>"
      ]
     },
     "metadata": {},
     "output_type": "display_data"
    },
    {
     "data": {
      "text/html": [
       "<li style=\"margin-bottom: 5px;\">Universität Graz</li>"
      ],
      "text/plain": [
       "<IPython.core.display.HTML object>"
      ]
     },
     "metadata": {},
     "output_type": "display_data"
    },
    {
     "data": {
      "text/html": [
       "<li style=\"margin-bottom: 5px;\">Universität Salzburg</li>"
      ],
      "text/plain": [
       "<IPython.core.display.HTML object>"
      ]
     },
     "metadata": {},
     "output_type": "display_data"
    },
    {
     "data": {
      "text/html": [
       "<li style=\"margin-bottom: 5px;\">Universität Wien</li>"
      ],
      "text/plain": [
       "<IPython.core.display.HTML object>"
      ]
     },
     "metadata": {},
     "output_type": "display_data"
    },
    {
     "data": {
      "text/html": [
       "</ul>"
      ],
      "text/plain": [
       "<IPython.core.display.HTML object>"
      ]
     },
     "metadata": {},
     "output_type": "display_data"
    },
    {
     "data": {
      "text/html": [
       "<h4>Vergleichbar bei der Publikationen-Struktur</h4>"
      ],
      "text/plain": [
       "<IPython.core.display.HTML object>"
      ]
     },
     "metadata": {},
     "output_type": "display_data"
    },
    {
     "data": {
      "text/html": [
       "<p><strong>Universität Graz</strong> (75.0%, wegen &auml;hnlicher interner Relevanz von Rechtswissenschaften, Sprach- und Literaturwissenschaften, Biologie), <strong>Universität Salzburg</strong> (74.7%, wegen &auml;hnlicher interner Relevanz von Rechtswissenschaften, Sprach- und Literaturwissenschaften, Erziehungswissenschaften), <strong>Universität Wien</strong> (73.1%, wegen &auml;hnlicher interner Relevanz von Rechtswissenschaften, Sprach- und Literaturwissenschaften, Biologie), <strong>Universität Linz</strong> (53.2%, wegen &auml;hnlicher interner Relevanz von Rechtswissenschaften, Physik, Astronomie, Erziehungswissenschaften), <strong>Universität für Weiterbildung Krems</strong> (50.5%, wegen &auml;hnlicher interner Relevanz von Rechtswissenschaften, Geschichte, Archäologie, Wirtschaftswissenschaften)</p>"
      ],
      "text/plain": [
       "<IPython.core.display.HTML object>"
      ]
     },
     "metadata": {},
     "output_type": "display_data"
    },
    {
     "data": {
      "text/html": [
       "<h4>Vergleichbar bei der Drittmittel-Struktur</h4>"
      ],
      "text/plain": [
       "<IPython.core.display.HTML object>"
      ]
     },
     "metadata": {},
     "output_type": "display_data"
    },
    {
     "data": {
      "text/html": [
       "<p><strong>Universität Wien</strong> (62.7%, wegen &auml;hnlicher interner Relevanz von Physik, Astronomie, Biologie, Chemie), <strong>Universität Graz</strong> (59.7%, wegen &auml;hnlicher interner Relevanz von Biologie, Chemie, Wirtschaftswissenschaften), <strong>Universität Salzburg</strong> (50.9%, wegen &auml;hnlicher interner Relevanz von Biologie, Geowissenschaften, Informatik)</p>"
      ],
      "text/plain": [
       "<IPython.core.display.HTML object>"
      ]
     },
     "metadata": {},
     "output_type": "display_data"
    },
    {
     "data": {
      "text/html": [
       "<p><small>Universitäten mit einer Ähnlichkeit von weniger als 50% werden nicht angezeigt.</small></p>"
      ],
      "text/plain": [
       "<IPython.core.display.HTML object>"
      ]
     },
     "metadata": {},
     "output_type": "display_data"
    },
    {
     "data": {
      "text/html": [
       "<h3>Publikationen-Struktur der UIN</h3>"
      ],
      "text/plain": [
       "<IPython.core.display.HTML object>"
      ]
     },
     "metadata": {},
     "output_type": "display_data"
    },
    {
     "data": {
      "text/html": [
       "Angezeigt werden WZW, die zusammen 69.3% der Publikationen an der UIN ausmachen. Alle anderen WZW tragen je weniger als 5.1% bei. Die Spalte \"Ranking\" bezieht sich  auf den &ouml;sterreichweiten Vergleich der absoluten Werte pro WZW"
      ],
      "text/plain": [
       "<IPython.core.display.HTML object>"
      ]
     },
     "metadata": {},
     "output_type": "display_data"
    },
    {
     "data": {
      "text/html": [
       "<style  type=\"text/css\" >\n",
       "    #T_d099d67e_afd2_11e9_ba46_3791e66294cerow0_col0 {\n",
       "            background-color:  green;\n",
       "        }    #T_d099d67e_afd2_11e9_ba46_3791e66294cerow0_col1 {\n",
       "            background-color:  green;\n",
       "        }    #T_d099d67e_afd2_11e9_ba46_3791e66294cerow0_col2 {\n",
       "            background-color:  green;\n",
       "        }    #T_d099d67e_afd2_11e9_ba46_3791e66294cerow0_col3 {\n",
       "            background-color:  green;\n",
       "        }    #T_d099d67e_afd2_11e9_ba46_3791e66294cerow1_col0 {\n",
       "            background-color:  yellow;\n",
       "        }    #T_d099d67e_afd2_11e9_ba46_3791e66294cerow1_col1 {\n",
       "            background-color:  yellow;\n",
       "        }    #T_d099d67e_afd2_11e9_ba46_3791e66294cerow1_col2 {\n",
       "            background-color:  yellow;\n",
       "        }    #T_d099d67e_afd2_11e9_ba46_3791e66294cerow1_col3 {\n",
       "            background-color:  yellow;\n",
       "        }    #T_d099d67e_afd2_11e9_ba46_3791e66294cerow2_col0 {\n",
       "            background-color:  yellow;\n",
       "        }    #T_d099d67e_afd2_11e9_ba46_3791e66294cerow2_col1 {\n",
       "            background-color:  yellow;\n",
       "        }    #T_d099d67e_afd2_11e9_ba46_3791e66294cerow2_col2 {\n",
       "            background-color:  yellow;\n",
       "        }    #T_d099d67e_afd2_11e9_ba46_3791e66294cerow2_col3 {\n",
       "            background-color:  yellow;\n",
       "        }    #T_d099d67e_afd2_11e9_ba46_3791e66294cerow3_col0 {\n",
       "            background-color:  yellow;\n",
       "        }    #T_d099d67e_afd2_11e9_ba46_3791e66294cerow3_col1 {\n",
       "            background-color:  yellow;\n",
       "        }    #T_d099d67e_afd2_11e9_ba46_3791e66294cerow3_col2 {\n",
       "            background-color:  yellow;\n",
       "        }    #T_d099d67e_afd2_11e9_ba46_3791e66294cerow3_col3 {\n",
       "            background-color:  yellow;\n",
       "        }    #T_d099d67e_afd2_11e9_ba46_3791e66294cerow4_col0 {\n",
       "            background-color:  yellow;\n",
       "        }    #T_d099d67e_afd2_11e9_ba46_3791e66294cerow4_col1 {\n",
       "            background-color:  yellow;\n",
       "        }    #T_d099d67e_afd2_11e9_ba46_3791e66294cerow4_col2 {\n",
       "            background-color:  yellow;\n",
       "        }    #T_d099d67e_afd2_11e9_ba46_3791e66294cerow4_col3 {\n",
       "            background-color:  yellow;\n",
       "        }    #T_d099d67e_afd2_11e9_ba46_3791e66294cerow5_col0 {\n",
       "            background-color:  yellow;\n",
       "        }    #T_d099d67e_afd2_11e9_ba46_3791e66294cerow5_col1 {\n",
       "            background-color:  yellow;\n",
       "        }    #T_d099d67e_afd2_11e9_ba46_3791e66294cerow5_col2 {\n",
       "            background-color:  yellow;\n",
       "        }    #T_d099d67e_afd2_11e9_ba46_3791e66294cerow5_col3 {\n",
       "            background-color:  yellow;\n",
       "        }    #T_d099d67e_afd2_11e9_ba46_3791e66294cerow6_col0 {\n",
       "            background-color:  yellow;\n",
       "        }    #T_d099d67e_afd2_11e9_ba46_3791e66294cerow6_col1 {\n",
       "            background-color:  yellow;\n",
       "        }    #T_d099d67e_afd2_11e9_ba46_3791e66294cerow6_col2 {\n",
       "            background-color:  yellow;\n",
       "        }    #T_d099d67e_afd2_11e9_ba46_3791e66294cerow6_col3 {\n",
       "            background-color:  yellow;\n",
       "        }    #T_d099d67e_afd2_11e9_ba46_3791e66294cerow7_col0 {\n",
       "            background-color:  yellow;\n",
       "        }    #T_d099d67e_afd2_11e9_ba46_3791e66294cerow7_col1 {\n",
       "            background-color:  yellow;\n",
       "        }    #T_d099d67e_afd2_11e9_ba46_3791e66294cerow7_col2 {\n",
       "            background-color:  yellow;\n",
       "        }    #T_d099d67e_afd2_11e9_ba46_3791e66294cerow7_col3 {\n",
       "            background-color:  yellow;\n",
       "        }</style><table id=\"T_d099d67e_afd2_11e9_ba46_3791e66294ce\" ><thead>    <tr>        <th class=\"blank level0\" ></th>        <th class=\"col_heading level0 col0\" >Intern</th>        <th class=\"col_heading level0 col1\" >Publikationen</th>        <th class=\"col_heading level0 col2\" >Ranking</th>        <th class=\"col_heading level0 col3\" >Universität im Vergleich</th>    </tr>    <tr>        <th class=\"index_name level0\" >WZW</th>        <th class=\"blank\" ></th>        <th class=\"blank\" ></th>        <th class=\"blank\" ></th>        <th class=\"blank\" ></th>    </tr></thead><tbody>\n",
       "                <tr>\n",
       "                        <th id=\"T_d099d67e_afd2_11e9_ba46_3791e66294celevel0_row0\" class=\"row_heading level0 row0\" >Rechtswissenschaften</th>\n",
       "                        <td id=\"T_d099d67e_afd2_11e9_ba46_3791e66294cerow0_col0\" class=\"data row0 col0\" >21.60%</td>\n",
       "                        <td id=\"T_d099d67e_afd2_11e9_ba46_3791e66294cerow0_col1\" class=\"data row0 col1\" >896 Publikationen</td>\n",
       "                        <td id=\"T_d099d67e_afd2_11e9_ba46_3791e66294cerow0_col2\" class=\"data row0 col2\" >1. Platz</td>\n",
       "                        <td id=\"T_d099d67e_afd2_11e9_ba46_3791e66294cerow0_col3\" class=\"data row0 col3\" ><img src=\"UINRechtswissenschaften_Publikationen.png\", width=250, height=200/></td>\n",
       "            </tr>\n",
       "            <tr>\n",
       "                        <th id=\"T_d099d67e_afd2_11e9_ba46_3791e66294celevel0_row1\" class=\"row_heading level0 row1\" >Physik, Astronomie</th>\n",
       "                        <td id=\"T_d099d67e_afd2_11e9_ba46_3791e66294cerow1_col0\" class=\"data row1 col0\" >9.50%</td>\n",
       "                        <td id=\"T_d099d67e_afd2_11e9_ba46_3791e66294cerow1_col1\" class=\"data row1 col1\" >394 Publikationen</td>\n",
       "                        <td id=\"T_d099d67e_afd2_11e9_ba46_3791e66294cerow1_col2\" class=\"data row1 col2\" >3. Platz</td>\n",
       "                        <td id=\"T_d099d67e_afd2_11e9_ba46_3791e66294cerow1_col3\" class=\"data row1 col3\" ><img src=\"UINPhysik_Astronomie_Publikationen.png\", width=250, height=200/></td>\n",
       "            </tr>\n",
       "            <tr>\n",
       "                        <th id=\"T_d099d67e_afd2_11e9_ba46_3791e66294celevel0_row2\" class=\"row_heading level0 row2\" >Sprach- und Literaturwissenschaften</th>\n",
       "                        <td id=\"T_d099d67e_afd2_11e9_ba46_3791e66294cerow2_col0\" class=\"data row2 col0\" >8.58%</td>\n",
       "                        <td id=\"T_d099d67e_afd2_11e9_ba46_3791e66294cerow2_col1\" class=\"data row2 col1\" >356 Publikationen</td>\n",
       "                        <td id=\"T_d099d67e_afd2_11e9_ba46_3791e66294cerow2_col2\" class=\"data row2 col2\" >3. Platz</td>\n",
       "                        <td id=\"T_d099d67e_afd2_11e9_ba46_3791e66294cerow2_col3\" class=\"data row2 col3\" ><img src=\"UINSprach-_und_Literaturwissenschaften_Publikationen.png\", width=250, height=200/></td>\n",
       "            </tr>\n",
       "            <tr>\n",
       "                        <th id=\"T_d099d67e_afd2_11e9_ba46_3791e66294celevel0_row3\" class=\"row_heading level0 row3\" >Biologie</th>\n",
       "                        <td id=\"T_d099d67e_afd2_11e9_ba46_3791e66294cerow3_col0\" class=\"data row3 col0\" >7.35%</td>\n",
       "                        <td id=\"T_d099d67e_afd2_11e9_ba46_3791e66294cerow3_col1\" class=\"data row3 col1\" >305 Publikationen</td>\n",
       "                        <td id=\"T_d099d67e_afd2_11e9_ba46_3791e66294cerow3_col2\" class=\"data row3 col2\" >3. Platz</td>\n",
       "                        <td id=\"T_d099d67e_afd2_11e9_ba46_3791e66294cerow3_col3\" class=\"data row3 col3\" ><img src=\"UINBiologie_Publikationen.png\", width=250, height=200/></td>\n",
       "            </tr>\n",
       "            <tr>\n",
       "                        <th id=\"T_d099d67e_afd2_11e9_ba46_3791e66294celevel0_row4\" class=\"row_heading level0 row4\" >Geschichte, Archäologie</th>\n",
       "                        <td id=\"T_d099d67e_afd2_11e9_ba46_3791e66294cerow4_col0\" class=\"data row4 col0\" >5.93%</td>\n",
       "                        <td id=\"T_d099d67e_afd2_11e9_ba46_3791e66294cerow4_col1\" class=\"data row4 col1\" >246 Publikationen</td>\n",
       "                        <td id=\"T_d099d67e_afd2_11e9_ba46_3791e66294cerow4_col2\" class=\"data row4 col2\" >2. Platz</td>\n",
       "                        <td id=\"T_d099d67e_afd2_11e9_ba46_3791e66294cerow4_col3\" class=\"data row4 col3\" ><img src=\"UINGeschichte_Archäologie_Publikationen.png\", width=250, height=200/></td>\n",
       "            </tr>\n",
       "            <tr>\n",
       "                        <th id=\"T_d099d67e_afd2_11e9_ba46_3791e66294celevel0_row5\" class=\"row_heading level0 row5\" >Bauwesen</th>\n",
       "                        <td id=\"T_d099d67e_afd2_11e9_ba46_3791e66294cerow5_col0\" class=\"data row5 col0\" >5.81%</td>\n",
       "                        <td id=\"T_d099d67e_afd2_11e9_ba46_3791e66294cerow5_col1\" class=\"data row5 col1\" >241 Publikationen</td>\n",
       "                        <td id=\"T_d099d67e_afd2_11e9_ba46_3791e66294cerow5_col2\" class=\"data row5 col2\" >3. Platz</td>\n",
       "                        <td id=\"T_d099d67e_afd2_11e9_ba46_3791e66294cerow5_col3\" class=\"data row5 col3\" ><img src=\"UINBauwesen_Publikationen.png\", width=250, height=200/></td>\n",
       "            </tr>\n",
       "            <tr>\n",
       "                        <th id=\"T_d099d67e_afd2_11e9_ba46_3791e66294celevel0_row6\" class=\"row_heading level0 row6\" >Erziehungswissenschaften</th>\n",
       "                        <td id=\"T_d099d67e_afd2_11e9_ba46_3791e66294cerow6_col0\" class=\"data row6 col0\" >5.42%</td>\n",
       "                        <td id=\"T_d099d67e_afd2_11e9_ba46_3791e66294cerow6_col1\" class=\"data row6 col1\" >225 Publikationen</td>\n",
       "                        <td id=\"T_d099d67e_afd2_11e9_ba46_3791e66294cerow6_col2\" class=\"data row6 col2\" >2. Platz</td>\n",
       "                        <td id=\"T_d099d67e_afd2_11e9_ba46_3791e66294cerow6_col3\" class=\"data row6 col3\" ><img src=\"UINErziehungswissenschaften_Publikationen.png\", width=250, height=200/></td>\n",
       "            </tr>\n",
       "            <tr>\n",
       "                        <th id=\"T_d099d67e_afd2_11e9_ba46_3791e66294celevel0_row7\" class=\"row_heading level0 row7\" >Geowissenschaften</th>\n",
       "                        <td id=\"T_d099d67e_afd2_11e9_ba46_3791e66294cerow7_col0\" class=\"data row7 col0\" >5.11%</td>\n",
       "                        <td id=\"T_d099d67e_afd2_11e9_ba46_3791e66294cerow7_col1\" class=\"data row7 col1\" >212 Publikationen</td>\n",
       "                        <td id=\"T_d099d67e_afd2_11e9_ba46_3791e66294cerow7_col2\" class=\"data row7 col2\" >3. Platz</td>\n",
       "                        <td id=\"T_d099d67e_afd2_11e9_ba46_3791e66294cerow7_col3\" class=\"data row7 col3\" ><img src=\"UINGeowissenschaften_Publikationen.png\", width=250, height=200/></td>\n",
       "            </tr>\n",
       "    </tbody></table>"
      ],
      "text/plain": [
       "<IPython.core.display.HTML object>"
      ]
     },
     "metadata": {},
     "output_type": "display_data"
    },
    {
     "data": {
      "text/html": [
       "<h3>Drittmittel-Struktur der UIN</h3>"
      ],
      "text/plain": [
       "<IPython.core.display.HTML object>"
      ]
     },
     "metadata": {},
     "output_type": "display_data"
    },
    {
     "data": {
      "text/html": [
       "Angezeigt werden WZW, die zusammen 67.0% der Drittmittel an der UIN ausmachen. Alle anderen WZW tragen je weniger als 6.6% bei. Die Spalte \"Ranking\" bezieht sich  auf den &ouml;sterreichweiten Vergleich der absoluten Werte pro WZW"
      ],
      "text/plain": [
       "<IPython.core.display.HTML object>"
      ]
     },
     "metadata": {},
     "output_type": "display_data"
    },
    {
     "data": {
      "text/html": [
       "<style  type=\"text/css\" >\n",
       "    #T_d0f0233a_afd2_11e9_ba46_3791e66294cerow0_col0 {\n",
       "            background-color:  yellow;\n",
       "        }    #T_d0f0233a_afd2_11e9_ba46_3791e66294cerow0_col1 {\n",
       "            background-color:  yellow;\n",
       "        }    #T_d0f0233a_afd2_11e9_ba46_3791e66294cerow0_col2 {\n",
       "            background-color:  yellow;\n",
       "        }    #T_d0f0233a_afd2_11e9_ba46_3791e66294cerow0_col3 {\n",
       "            background-color:  yellow;\n",
       "        }    #T_d0f0233a_afd2_11e9_ba46_3791e66294cerow1_col0 {\n",
       "            background-color:  white;\n",
       "        }    #T_d0f0233a_afd2_11e9_ba46_3791e66294cerow1_col1 {\n",
       "            background-color:  white;\n",
       "        }    #T_d0f0233a_afd2_11e9_ba46_3791e66294cerow1_col2 {\n",
       "            background-color:  white;\n",
       "        }    #T_d0f0233a_afd2_11e9_ba46_3791e66294cerow1_col3 {\n",
       "            background-color:  white;\n",
       "        }    #T_d0f0233a_afd2_11e9_ba46_3791e66294cerow2_col0 {\n",
       "            background-color:  yellow;\n",
       "        }    #T_d0f0233a_afd2_11e9_ba46_3791e66294cerow2_col1 {\n",
       "            background-color:  yellow;\n",
       "        }    #T_d0f0233a_afd2_11e9_ba46_3791e66294cerow2_col2 {\n",
       "            background-color:  yellow;\n",
       "        }    #T_d0f0233a_afd2_11e9_ba46_3791e66294cerow2_col3 {\n",
       "            background-color:  yellow;\n",
       "        }    #T_d0f0233a_afd2_11e9_ba46_3791e66294cerow3_col0 {\n",
       "            background-color:  white;\n",
       "        }    #T_d0f0233a_afd2_11e9_ba46_3791e66294cerow3_col1 {\n",
       "            background-color:  white;\n",
       "        }    #T_d0f0233a_afd2_11e9_ba46_3791e66294cerow3_col2 {\n",
       "            background-color:  white;\n",
       "        }    #T_d0f0233a_afd2_11e9_ba46_3791e66294cerow3_col3 {\n",
       "            background-color:  white;\n",
       "        }    #T_d0f0233a_afd2_11e9_ba46_3791e66294cerow4_col0 {\n",
       "            background-color:  yellow;\n",
       "        }    #T_d0f0233a_afd2_11e9_ba46_3791e66294cerow4_col1 {\n",
       "            background-color:  yellow;\n",
       "        }    #T_d0f0233a_afd2_11e9_ba46_3791e66294cerow4_col2 {\n",
       "            background-color:  yellow;\n",
       "        }    #T_d0f0233a_afd2_11e9_ba46_3791e66294cerow4_col3 {\n",
       "            background-color:  yellow;\n",
       "        }    #T_d0f0233a_afd2_11e9_ba46_3791e66294cerow5_col0 {\n",
       "            background-color:  yellow;\n",
       "        }    #T_d0f0233a_afd2_11e9_ba46_3791e66294cerow5_col1 {\n",
       "            background-color:  yellow;\n",
       "        }    #T_d0f0233a_afd2_11e9_ba46_3791e66294cerow5_col2 {\n",
       "            background-color:  yellow;\n",
       "        }    #T_d0f0233a_afd2_11e9_ba46_3791e66294cerow5_col3 {\n",
       "            background-color:  yellow;\n",
       "        }</style><table id=\"T_d0f0233a_afd2_11e9_ba46_3791e66294ce\" ><thead>    <tr>        <th class=\"blank level0\" ></th>        <th class=\"col_heading level0 col0\" >Intern</th>        <th class=\"col_heading level0 col1\" >Drittmittel</th>        <th class=\"col_heading level0 col2\" >Ranking</th>        <th class=\"col_heading level0 col3\" >Universität im Vergleich</th>    </tr>    <tr>        <th class=\"index_name level0\" >WZW</th>        <th class=\"blank\" ></th>        <th class=\"blank\" ></th>        <th class=\"blank\" ></th>        <th class=\"blank\" ></th>    </tr></thead><tbody>\n",
       "                <tr>\n",
       "                        <th id=\"T_d0f0233a_afd2_11e9_ba46_3791e66294celevel0_row0\" class=\"row_heading level0 row0\" >Physik, Astronomie</th>\n",
       "                        <td id=\"T_d0f0233a_afd2_11e9_ba46_3791e66294cerow0_col0\" class=\"data row0 col0\" >18.77%</td>\n",
       "                        <td id=\"T_d0f0233a_afd2_11e9_ba46_3791e66294cerow0_col1\" class=\"data row0 col1\" >9,281,530 €</td>\n",
       "                        <td id=\"T_d0f0233a_afd2_11e9_ba46_3791e66294cerow0_col2\" class=\"data row0 col2\" >3. Platz</td>\n",
       "                        <td id=\"T_d0f0233a_afd2_11e9_ba46_3791e66294cerow0_col3\" class=\"data row0 col3\" ><img src=\"UINPhysik_Astronomie_Drittmittel.png\", width=250, height=200/></td>\n",
       "            </tr>\n",
       "            <tr>\n",
       "                        <th id=\"T_d0f0233a_afd2_11e9_ba46_3791e66294celevel0_row1\" class=\"row_heading level0 row1\" >Biologie</th>\n",
       "                        <td id=\"T_d0f0233a_afd2_11e9_ba46_3791e66294cerow1_col0\" class=\"data row1 col0\" >11.47%</td>\n",
       "                        <td id=\"T_d0f0233a_afd2_11e9_ba46_3791e66294cerow1_col1\" class=\"data row1 col1\" >5,673,390 €</td>\n",
       "                        <td id=\"T_d0f0233a_afd2_11e9_ba46_3791e66294cerow1_col2\" class=\"data row1 col2\" >4. Platz</td>\n",
       "                        <td id=\"T_d0f0233a_afd2_11e9_ba46_3791e66294cerow1_col3\" class=\"data row1 col3\" ><img src=\"UINBiologie_Drittmittel.png\", width=250, height=200/></td>\n",
       "            </tr>\n",
       "            <tr>\n",
       "                        <th id=\"T_d0f0233a_afd2_11e9_ba46_3791e66294celevel0_row2\" class=\"row_heading level0 row2\" >Chemie</th>\n",
       "                        <td id=\"T_d0f0233a_afd2_11e9_ba46_3791e66294cerow2_col0\" class=\"data row2 col0\" >10.49%</td>\n",
       "                        <td id=\"T_d0f0233a_afd2_11e9_ba46_3791e66294cerow2_col1\" class=\"data row2 col1\" >5,185,498 €</td>\n",
       "                        <td id=\"T_d0f0233a_afd2_11e9_ba46_3791e66294cerow2_col2\" class=\"data row2 col2\" >2. Platz</td>\n",
       "                        <td id=\"T_d0f0233a_afd2_11e9_ba46_3791e66294cerow2_col3\" class=\"data row2 col3\" ><img src=\"UINChemie_Drittmittel.png\", width=250, height=200/></td>\n",
       "            </tr>\n",
       "            <tr>\n",
       "                        <th id=\"T_d0f0233a_afd2_11e9_ba46_3791e66294celevel0_row3\" class=\"row_heading level0 row3\" >Bauwesen</th>\n",
       "                        <td id=\"T_d0f0233a_afd2_11e9_ba46_3791e66294cerow3_col0\" class=\"data row3 col0\" >10.31%</td>\n",
       "                        <td id=\"T_d0f0233a_afd2_11e9_ba46_3791e66294cerow3_col1\" class=\"data row3 col1\" >5,097,492 €</td>\n",
       "                        <td id=\"T_d0f0233a_afd2_11e9_ba46_3791e66294cerow3_col2\" class=\"data row3 col2\" >4. Platz</td>\n",
       "                        <td id=\"T_d0f0233a_afd2_11e9_ba46_3791e66294cerow3_col3\" class=\"data row3 col3\" ><img src=\"UINBauwesen_Drittmittel.png\", width=250, height=200/></td>\n",
       "            </tr>\n",
       "            <tr>\n",
       "                        <th id=\"T_d0f0233a_afd2_11e9_ba46_3791e66294celevel0_row4\" class=\"row_heading level0 row4\" >Wirtschaftswissenschaften</th>\n",
       "                        <td id=\"T_d0f0233a_afd2_11e9_ba46_3791e66294cerow4_col0\" class=\"data row4 col0\" >9.38%</td>\n",
       "                        <td id=\"T_d0f0233a_afd2_11e9_ba46_3791e66294cerow4_col1\" class=\"data row4 col1\" >4,638,999 €</td>\n",
       "                        <td id=\"T_d0f0233a_afd2_11e9_ba46_3791e66294cerow4_col2\" class=\"data row4 col2\" >2. Platz</td>\n",
       "                        <td id=\"T_d0f0233a_afd2_11e9_ba46_3791e66294cerow4_col3\" class=\"data row4 col3\" ><img src=\"UINWirtschaftswissenschaften_Drittmittel.png\", width=250, height=200/></td>\n",
       "            </tr>\n",
       "            <tr>\n",
       "                        <th id=\"T_d0f0233a_afd2_11e9_ba46_3791e66294celevel0_row5\" class=\"row_heading level0 row5\" >Geowissenschaften</th>\n",
       "                        <td id=\"T_d0f0233a_afd2_11e9_ba46_3791e66294cerow5_col0\" class=\"data row5 col0\" >6.56%</td>\n",
       "                        <td id=\"T_d0f0233a_afd2_11e9_ba46_3791e66294cerow5_col1\" class=\"data row5 col1\" >3,241,716 €</td>\n",
       "                        <td id=\"T_d0f0233a_afd2_11e9_ba46_3791e66294cerow5_col2\" class=\"data row5 col2\" >3. Platz</td>\n",
       "                        <td id=\"T_d0f0233a_afd2_11e9_ba46_3791e66294cerow5_col3\" class=\"data row5 col3\" ><img src=\"UINGeowissenschaften_Drittmittel.png\", width=250, height=200/></td>\n",
       "            </tr>\n",
       "    </tbody></table>"
      ],
      "text/plain": [
       "<IPython.core.display.HTML object>"
      ]
     },
     "metadata": {},
     "output_type": "display_data"
    },
    {
     "data": {
      "text/html": [
       "<h2 style=\"page-break-before: always;\">Universität Klagenfurt</h2>"
      ],
      "text/plain": [
       "<IPython.core.display.HTML object>"
      ]
     },
     "metadata": {},
     "output_type": "display_data"
    },
    {
     "data": {
      "text/html": [
       "<h3>Vergleichbare Universitäten in Publikationen- und Drittmittel-Struktur</h3><ul>"
      ],
      "text/plain": [
       "<IPython.core.display.HTML object>"
      ]
     },
     "metadata": {},
     "output_type": "display_data"
    },
    {
     "data": {
      "text/html": [
       "<li><strong>Keine.</strong> Die Universität Klagenfurt ist stark spezialisiert.</li>"
      ],
      "text/plain": [
       "<IPython.core.display.HTML object>"
      ]
     },
     "metadata": {},
     "output_type": "display_data"
    },
    {
     "data": {
      "text/html": [
       "</ul>"
      ],
      "text/plain": [
       "<IPython.core.display.HTML object>"
      ]
     },
     "metadata": {},
     "output_type": "display_data"
    },
    {
     "data": {
      "text/html": [
       "<h4>Vergleichbar bei der Publikationen-Struktur</h4>"
      ],
      "text/plain": [
       "<IPython.core.display.HTML object>"
      ]
     },
     "metadata": {},
     "output_type": "display_data"
    },
    {
     "data": {
      "text/html": [
       "<p><strong>Universität Linz</strong> (59.1%, wegen &auml;hnlicher interner Relevanz von Informatik, Wirtschaftswissenschaften, Mathematik)</p>"
      ],
      "text/plain": [
       "<IPython.core.display.HTML object>"
      ]
     },
     "metadata": {},
     "output_type": "display_data"
    },
    {
     "data": {
      "text/html": [
       "<h4>Vergleichbar bei der Drittmittel-Struktur</h4>"
      ],
      "text/plain": [
       "<IPython.core.display.HTML object>"
      ]
     },
     "metadata": {},
     "output_type": "display_data"
    },
    {
     "data": {
      "text/html": [
       "<p>Die Universität Klagenfurt ist im Bereich Drittmittel spezialisiert.<br/><strong>Keine</strong> andere Universität ähnelt der Universität Klagenfurt in der Drittmittel-Struktur in auffälliger Weise.</p>"
      ],
      "text/plain": [
       "<IPython.core.display.HTML object>"
      ]
     },
     "metadata": {},
     "output_type": "display_data"
    },
    {
     "data": {
      "text/html": [
       "<p><small>Universitäten mit einer Ähnlichkeit von weniger als 50% werden nicht angezeigt.</small></p>"
      ],
      "text/plain": [
       "<IPython.core.display.HTML object>"
      ]
     },
     "metadata": {},
     "output_type": "display_data"
    },
    {
     "data": {
      "text/html": [
       "<h3>Publikationen-Struktur der UKL</h3>"
      ],
      "text/plain": [
       "<IPython.core.display.HTML object>"
      ]
     },
     "metadata": {},
     "output_type": "display_data"
    },
    {
     "data": {
      "text/html": [
       "Angezeigt werden WZW, die zusammen 71.2% der Publikationen an der UKL ausmachen. Alle anderen WZW tragen je weniger als 5.4% bei. Die Spalte \"Ranking\" bezieht sich  auf den &ouml;sterreichweiten Vergleich der absoluten Werte pro WZW"
      ],
      "text/plain": [
       "<IPython.core.display.HTML object>"
      ]
     },
     "metadata": {},
     "output_type": "display_data"
    },
    {
     "data": {
      "text/html": [
       "<style  type=\"text/css\" >\n",
       "    #T_d14dc878_afd2_11e9_ba46_3791e66294cerow0_col0 {\n",
       "            background-color:  white;\n",
       "        }    #T_d14dc878_afd2_11e9_ba46_3791e66294cerow0_col1 {\n",
       "            background-color:  white;\n",
       "        }    #T_d14dc878_afd2_11e9_ba46_3791e66294cerow0_col2 {\n",
       "            background-color:  white;\n",
       "        }    #T_d14dc878_afd2_11e9_ba46_3791e66294cerow0_col3 {\n",
       "            background-color:  white;\n",
       "        }    #T_d14dc878_afd2_11e9_ba46_3791e66294cerow1_col0 {\n",
       "            background-color:  white;\n",
       "        }    #T_d14dc878_afd2_11e9_ba46_3791e66294cerow1_col1 {\n",
       "            background-color:  white;\n",
       "        }    #T_d14dc878_afd2_11e9_ba46_3791e66294cerow1_col2 {\n",
       "            background-color:  white;\n",
       "        }    #T_d14dc878_afd2_11e9_ba46_3791e66294cerow1_col3 {\n",
       "            background-color:  white;\n",
       "        }    #T_d14dc878_afd2_11e9_ba46_3791e66294cerow2_col0 {\n",
       "            background-color:  white;\n",
       "        }    #T_d14dc878_afd2_11e9_ba46_3791e66294cerow2_col1 {\n",
       "            background-color:  white;\n",
       "        }    #T_d14dc878_afd2_11e9_ba46_3791e66294cerow2_col2 {\n",
       "            background-color:  white;\n",
       "        }    #T_d14dc878_afd2_11e9_ba46_3791e66294cerow2_col3 {\n",
       "            background-color:  white;\n",
       "        }    #T_d14dc878_afd2_11e9_ba46_3791e66294cerow3_col0 {\n",
       "            background-color:  white;\n",
       "        }    #T_d14dc878_afd2_11e9_ba46_3791e66294cerow3_col1 {\n",
       "            background-color:  white;\n",
       "        }    #T_d14dc878_afd2_11e9_ba46_3791e66294cerow3_col2 {\n",
       "            background-color:  white;\n",
       "        }    #T_d14dc878_afd2_11e9_ba46_3791e66294cerow3_col3 {\n",
       "            background-color:  white;\n",
       "        }    #T_d14dc878_afd2_11e9_ba46_3791e66294cerow4_col0 {\n",
       "            background-color:  yellow;\n",
       "        }    #T_d14dc878_afd2_11e9_ba46_3791e66294cerow4_col1 {\n",
       "            background-color:  yellow;\n",
       "        }    #T_d14dc878_afd2_11e9_ba46_3791e66294cerow4_col2 {\n",
       "            background-color:  yellow;\n",
       "        }    #T_d14dc878_afd2_11e9_ba46_3791e66294cerow4_col3 {\n",
       "            background-color:  yellow;\n",
       "        }    #T_d14dc878_afd2_11e9_ba46_3791e66294cerow5_col0 {\n",
       "            background-color:  white;\n",
       "        }    #T_d14dc878_afd2_11e9_ba46_3791e66294cerow5_col1 {\n",
       "            background-color:  white;\n",
       "        }    #T_d14dc878_afd2_11e9_ba46_3791e66294cerow5_col2 {\n",
       "            background-color:  white;\n",
       "        }    #T_d14dc878_afd2_11e9_ba46_3791e66294cerow5_col3 {\n",
       "            background-color:  white;\n",
       "        }    #T_d14dc878_afd2_11e9_ba46_3791e66294cerow6_col0 {\n",
       "            background-color:  white;\n",
       "        }    #T_d14dc878_afd2_11e9_ba46_3791e66294cerow6_col1 {\n",
       "            background-color:  white;\n",
       "        }    #T_d14dc878_afd2_11e9_ba46_3791e66294cerow6_col2 {\n",
       "            background-color:  white;\n",
       "        }    #T_d14dc878_afd2_11e9_ba46_3791e66294cerow6_col3 {\n",
       "            background-color:  white;\n",
       "        }</style><table id=\"T_d14dc878_afd2_11e9_ba46_3791e66294ce\" ><thead>    <tr>        <th class=\"blank level0\" ></th>        <th class=\"col_heading level0 col0\" >Intern</th>        <th class=\"col_heading level0 col1\" >Publikationen</th>        <th class=\"col_heading level0 col2\" >Ranking</th>        <th class=\"col_heading level0 col3\" >Universität im Vergleich</th>    </tr>    <tr>        <th class=\"index_name level0\" >WZW</th>        <th class=\"blank\" ></th>        <th class=\"blank\" ></th>        <th class=\"blank\" ></th>        <th class=\"blank\" ></th>    </tr></thead><tbody>\n",
       "                <tr>\n",
       "                        <th id=\"T_d14dc878_afd2_11e9_ba46_3791e66294celevel0_row0\" class=\"row_heading level0 row0\" >Wirtschaftswissenschaften</th>\n",
       "                        <td id=\"T_d14dc878_afd2_11e9_ba46_3791e66294cerow0_col0\" class=\"data row0 col0\" >15.35%</td>\n",
       "                        <td id=\"T_d14dc878_afd2_11e9_ba46_3791e66294cerow0_col1\" class=\"data row0 col1\" >130 Publikationen</td>\n",
       "                        <td id=\"T_d14dc878_afd2_11e9_ba46_3791e66294cerow0_col2\" class=\"data row0 col2\" >6. Platz</td>\n",
       "                        <td id=\"T_d14dc878_afd2_11e9_ba46_3791e66294cerow0_col3\" class=\"data row0 col3\" ><img src=\"UKLWirtschaftswissenschaften_Publikationen.png\", width=250, height=200/></td>\n",
       "            </tr>\n",
       "            <tr>\n",
       "                        <th id=\"T_d14dc878_afd2_11e9_ba46_3791e66294celevel0_row1\" class=\"row_heading level0 row1\" >Informatik</th>\n",
       "                        <td id=\"T_d14dc878_afd2_11e9_ba46_3791e66294cerow1_col0\" class=\"data row1 col0\" >15.11%</td>\n",
       "                        <td id=\"T_d14dc878_afd2_11e9_ba46_3791e66294cerow1_col1\" class=\"data row1 col1\" >128 Publikationen</td>\n",
       "                        <td id=\"T_d14dc878_afd2_11e9_ba46_3791e66294cerow1_col2\" class=\"data row1 col2\" >6. Platz</td>\n",
       "                        <td id=\"T_d14dc878_afd2_11e9_ba46_3791e66294cerow1_col3\" class=\"data row1 col3\" ><img src=\"UKLInformatik_Publikationen.png\", width=250, height=200/></td>\n",
       "            </tr>\n",
       "            <tr>\n",
       "                        <th id=\"T_d14dc878_afd2_11e9_ba46_3791e66294celevel0_row2\" class=\"row_heading level0 row2\" >Erziehungswissenschaften</th>\n",
       "                        <td id=\"T_d14dc878_afd2_11e9_ba46_3791e66294cerow2_col0\" class=\"data row2 col0\" >11.33%</td>\n",
       "                        <td id=\"T_d14dc878_afd2_11e9_ba46_3791e66294cerow2_col1\" class=\"data row2 col1\" >96 Publikationen</td>\n",
       "                        <td id=\"T_d14dc878_afd2_11e9_ba46_3791e66294cerow2_col2\" class=\"data row2 col2\" >6. Platz</td>\n",
       "                        <td id=\"T_d14dc878_afd2_11e9_ba46_3791e66294cerow2_col3\" class=\"data row2 col3\" ><img src=\"UKLErziehungswissenschaften_Publikationen.png\", width=250, height=200/></td>\n",
       "            </tr>\n",
       "            <tr>\n",
       "                        <th id=\"T_d14dc878_afd2_11e9_ba46_3791e66294celevel0_row3\" class=\"row_heading level0 row3\" >Sprach- und Literaturwissenschaften</th>\n",
       "                        <td id=\"T_d14dc878_afd2_11e9_ba46_3791e66294cerow3_col0\" class=\"data row3 col0\" >9.45%</td>\n",
       "                        <td id=\"T_d14dc878_afd2_11e9_ba46_3791e66294cerow3_col1\" class=\"data row3 col1\" >80 Publikationen</td>\n",
       "                        <td id=\"T_d14dc878_afd2_11e9_ba46_3791e66294cerow3_col2\" class=\"data row3 col2\" >5. Platz</td>\n",
       "                        <td id=\"T_d14dc878_afd2_11e9_ba46_3791e66294cerow3_col3\" class=\"data row3 col3\" ><img src=\"UKLSprach-_und_Literaturwissenschaften_Publikationen.png\", width=250, height=200/></td>\n",
       "            </tr>\n",
       "            <tr>\n",
       "                        <th id=\"T_d14dc878_afd2_11e9_ba46_3791e66294celevel0_row4\" class=\"row_heading level0 row4\" >Medien- und Kommunikationswissenschaften</th>\n",
       "                        <td id=\"T_d14dc878_afd2_11e9_ba46_3791e66294cerow4_col0\" class=\"data row4 col0\" >8.03%</td>\n",
       "                        <td id=\"T_d14dc878_afd2_11e9_ba46_3791e66294cerow4_col1\" class=\"data row4 col1\" >68 Publikationen</td>\n",
       "                        <td id=\"T_d14dc878_afd2_11e9_ba46_3791e66294cerow4_col2\" class=\"data row4 col2\" >2. Platz</td>\n",
       "                        <td id=\"T_d14dc878_afd2_11e9_ba46_3791e66294cerow4_col3\" class=\"data row4 col3\" ><img src=\"UKLMedien-_und_Kommunikationswissenschaften_Publikationen.png\", width=250, height=200/></td>\n",
       "            </tr>\n",
       "            <tr>\n",
       "                        <th id=\"T_d14dc878_afd2_11e9_ba46_3791e66294celevel0_row5\" class=\"row_heading level0 row5\" >Mathematik</th>\n",
       "                        <td id=\"T_d14dc878_afd2_11e9_ba46_3791e66294cerow5_col0\" class=\"data row5 col0\" >6.49%</td>\n",
       "                        <td id=\"T_d14dc878_afd2_11e9_ba46_3791e66294cerow5_col1\" class=\"data row5 col1\" >55 Publikationen</td>\n",
       "                        <td id=\"T_d14dc878_afd2_11e9_ba46_3791e66294cerow5_col2\" class=\"data row5 col2\" >7. Platz</td>\n",
       "                        <td id=\"T_d14dc878_afd2_11e9_ba46_3791e66294cerow5_col3\" class=\"data row5 col3\" ><img src=\"UKLMathematik_Publikationen.png\", width=250, height=200/></td>\n",
       "            </tr>\n",
       "            <tr>\n",
       "                        <th id=\"T_d14dc878_afd2_11e9_ba46_3791e66294celevel0_row6\" class=\"row_heading level0 row6\" >Soziologie</th>\n",
       "                        <td id=\"T_d14dc878_afd2_11e9_ba46_3791e66294cerow6_col0\" class=\"data row6 col0\" >5.43%</td>\n",
       "                        <td id=\"T_d14dc878_afd2_11e9_ba46_3791e66294cerow6_col1\" class=\"data row6 col1\" >46 Publikationen</td>\n",
       "                        <td id=\"T_d14dc878_afd2_11e9_ba46_3791e66294cerow6_col2\" class=\"data row6 col2\" >6. Platz</td>\n",
       "                        <td id=\"T_d14dc878_afd2_11e9_ba46_3791e66294cerow6_col3\" class=\"data row6 col3\" ><img src=\"UKLSoziologie_Publikationen.png\", width=250, height=200/></td>\n",
       "            </tr>\n",
       "    </tbody></table>"
      ],
      "text/plain": [
       "<IPython.core.display.HTML object>"
      ]
     },
     "metadata": {},
     "output_type": "display_data"
    },
    {
     "data": {
      "text/html": [
       "<h3>Drittmittel-Struktur der UKL</h3>"
      ],
      "text/plain": [
       "<IPython.core.display.HTML object>"
      ]
     },
     "metadata": {},
     "output_type": "display_data"
    },
    {
     "data": {
      "text/html": [
       "Angezeigt werden WZW, die zusammen 67.2% der Drittmittel an der UKL ausmachen. Alle anderen WZW tragen je weniger als 5.3% bei. Die Spalte \"Ranking\" bezieht sich  auf den &ouml;sterreichweiten Vergleich der absoluten Werte pro WZW"
      ],
      "text/plain": [
       "<IPython.core.display.HTML object>"
      ]
     },
     "metadata": {},
     "output_type": "display_data"
    },
    {
     "data": {
      "text/html": [
       "<style  type=\"text/css\" >\n",
       "    #T_d19a812c_afd2_11e9_ba46_3791e66294cerow0_col0 {\n",
       "            background-color:  white;\n",
       "        }    #T_d19a812c_afd2_11e9_ba46_3791e66294cerow0_col1 {\n",
       "            background-color:  white;\n",
       "        }    #T_d19a812c_afd2_11e9_ba46_3791e66294cerow0_col2 {\n",
       "            background-color:  white;\n",
       "        }    #T_d19a812c_afd2_11e9_ba46_3791e66294cerow0_col3 {\n",
       "            background-color:  white;\n",
       "        }    #T_d19a812c_afd2_11e9_ba46_3791e66294cerow1_col0 {\n",
       "            background-color:  white;\n",
       "        }    #T_d19a812c_afd2_11e9_ba46_3791e66294cerow1_col1 {\n",
       "            background-color:  white;\n",
       "        }    #T_d19a812c_afd2_11e9_ba46_3791e66294cerow1_col2 {\n",
       "            background-color:  white;\n",
       "        }    #T_d19a812c_afd2_11e9_ba46_3791e66294cerow1_col3 {\n",
       "            background-color:  white;\n",
       "        }    #T_d19a812c_afd2_11e9_ba46_3791e66294cerow2_col0 {\n",
       "            background-color:  white;\n",
       "        }    #T_d19a812c_afd2_11e9_ba46_3791e66294cerow2_col1 {\n",
       "            background-color:  white;\n",
       "        }    #T_d19a812c_afd2_11e9_ba46_3791e66294cerow2_col2 {\n",
       "            background-color:  white;\n",
       "        }    #T_d19a812c_afd2_11e9_ba46_3791e66294cerow2_col3 {\n",
       "            background-color:  white;\n",
       "        }    #T_d19a812c_afd2_11e9_ba46_3791e66294cerow3_col0 {\n",
       "            background-color:  white;\n",
       "        }    #T_d19a812c_afd2_11e9_ba46_3791e66294cerow3_col1 {\n",
       "            background-color:  white;\n",
       "        }    #T_d19a812c_afd2_11e9_ba46_3791e66294cerow3_col2 {\n",
       "            background-color:  white;\n",
       "        }    #T_d19a812c_afd2_11e9_ba46_3791e66294cerow3_col3 {\n",
       "            background-color:  white;\n",
       "        }    #T_d19a812c_afd2_11e9_ba46_3791e66294cerow4_col0 {\n",
       "            background-color:  yellow;\n",
       "        }    #T_d19a812c_afd2_11e9_ba46_3791e66294cerow4_col1 {\n",
       "            background-color:  yellow;\n",
       "        }    #T_d19a812c_afd2_11e9_ba46_3791e66294cerow4_col2 {\n",
       "            background-color:  yellow;\n",
       "        }    #T_d19a812c_afd2_11e9_ba46_3791e66294cerow4_col3 {\n",
       "            background-color:  yellow;\n",
       "        }    #T_d19a812c_afd2_11e9_ba46_3791e66294cerow5_col0 {\n",
       "            background-color:  white;\n",
       "        }    #T_d19a812c_afd2_11e9_ba46_3791e66294cerow5_col1 {\n",
       "            background-color:  white;\n",
       "        }    #T_d19a812c_afd2_11e9_ba46_3791e66294cerow5_col2 {\n",
       "            background-color:  white;\n",
       "        }    #T_d19a812c_afd2_11e9_ba46_3791e66294cerow5_col3 {\n",
       "            background-color:  white;\n",
       "        }</style><table id=\"T_d19a812c_afd2_11e9_ba46_3791e66294ce\" ><thead>    <tr>        <th class=\"blank level0\" ></th>        <th class=\"col_heading level0 col0\" >Intern</th>        <th class=\"col_heading level0 col1\" >Drittmittel</th>        <th class=\"col_heading level0 col2\" >Ranking</th>        <th class=\"col_heading level0 col3\" >Universität im Vergleich</th>    </tr>    <tr>        <th class=\"index_name level0\" >WZW</th>        <th class=\"blank\" ></th>        <th class=\"blank\" ></th>        <th class=\"blank\" ></th>        <th class=\"blank\" ></th>    </tr></thead><tbody>\n",
       "                <tr>\n",
       "                        <th id=\"T_d19a812c_afd2_11e9_ba46_3791e66294celevel0_row0\" class=\"row_heading level0 row0\" >Informatik</th>\n",
       "                        <td id=\"T_d19a812c_afd2_11e9_ba46_3791e66294cerow0_col0\" class=\"data row0 col0\" >17.12%</td>\n",
       "                        <td id=\"T_d19a812c_afd2_11e9_ba46_3791e66294cerow0_col1\" class=\"data row0 col1\" >1,290,693 €</td>\n",
       "                        <td id=\"T_d19a812c_afd2_11e9_ba46_3791e66294cerow0_col2\" class=\"data row0 col2\" >6. Platz</td>\n",
       "                        <td id=\"T_d19a812c_afd2_11e9_ba46_3791e66294cerow0_col3\" class=\"data row0 col3\" ><img src=\"UKLInformatik_Drittmittel.png\", width=250, height=200/></td>\n",
       "            </tr>\n",
       "            <tr>\n",
       "                        <th id=\"T_d19a812c_afd2_11e9_ba46_3791e66294celevel0_row1\" class=\"row_heading level0 row1\" >Mathematik</th>\n",
       "                        <td id=\"T_d19a812c_afd2_11e9_ba46_3791e66294cerow1_col0\" class=\"data row1 col0\" >15.60%</td>\n",
       "                        <td id=\"T_d19a812c_afd2_11e9_ba46_3791e66294cerow1_col1\" class=\"data row1 col1\" >1,176,559 €</td>\n",
       "                        <td id=\"T_d19a812c_afd2_11e9_ba46_3791e66294cerow1_col2\" class=\"data row1 col2\" >5. Platz</td>\n",
       "                        <td id=\"T_d19a812c_afd2_11e9_ba46_3791e66294cerow1_col3\" class=\"data row1 col3\" ><img src=\"UKLMathematik_Drittmittel.png\", width=250, height=200/></td>\n",
       "            </tr>\n",
       "            <tr>\n",
       "                        <th id=\"T_d19a812c_afd2_11e9_ba46_3791e66294celevel0_row2\" class=\"row_heading level0 row2\" >Wirtschaftswissenschaften</th>\n",
       "                        <td id=\"T_d19a812c_afd2_11e9_ba46_3791e66294cerow2_col0\" class=\"data row2 col0\" >13.92%</td>\n",
       "                        <td id=\"T_d19a812c_afd2_11e9_ba46_3791e66294cerow2_col1\" class=\"data row2 col1\" >1,049,891 €</td>\n",
       "                        <td id=\"T_d19a812c_afd2_11e9_ba46_3791e66294cerow2_col2\" class=\"data row2 col2\" >8. Platz</td>\n",
       "                        <td id=\"T_d19a812c_afd2_11e9_ba46_3791e66294cerow2_col3\" class=\"data row2 col3\" ><img src=\"UKLWirtschaftswissenschaften_Drittmittel.png\", width=250, height=200/></td>\n",
       "            </tr>\n",
       "            <tr>\n",
       "                        <th id=\"T_d19a812c_afd2_11e9_ba46_3791e66294celevel0_row3\" class=\"row_heading level0 row3\" >Elektrotechnik, Elektronik, Informationstechnik</th>\n",
       "                        <td id=\"T_d19a812c_afd2_11e9_ba46_3791e66294cerow3_col0\" class=\"data row3 col0\" >7.83%</td>\n",
       "                        <td id=\"T_d19a812c_afd2_11e9_ba46_3791e66294cerow3_col1\" class=\"data row3 col1\" >590,093 €</td>\n",
       "                        <td id=\"T_d19a812c_afd2_11e9_ba46_3791e66294cerow3_col2\" class=\"data row3 col2\" >6. Platz</td>\n",
       "                        <td id=\"T_d19a812c_afd2_11e9_ba46_3791e66294cerow3_col3\" class=\"data row3 col3\" ><img src=\"UKLElektrotechnik_Elektronik_Informationstechnik_Drittmittel.png\", width=250, height=200/></td>\n",
       "            </tr>\n",
       "            <tr>\n",
       "                        <th id=\"T_d19a812c_afd2_11e9_ba46_3791e66294celevel0_row4\" class=\"row_heading level0 row4\" >Andere Sozialwissenschaften</th>\n",
       "                        <td id=\"T_d19a812c_afd2_11e9_ba46_3791e66294cerow4_col0\" class=\"data row4 col0\" >7.38%</td>\n",
       "                        <td id=\"T_d19a812c_afd2_11e9_ba46_3791e66294cerow4_col1\" class=\"data row4 col1\" >556,305 €</td>\n",
       "                        <td id=\"T_d19a812c_afd2_11e9_ba46_3791e66294cerow4_col2\" class=\"data row4 col2\" >3. Platz</td>\n",
       "                        <td id=\"T_d19a812c_afd2_11e9_ba46_3791e66294cerow4_col3\" class=\"data row4 col3\" ><img src=\"UKLAndere_Sozialwissenschaften_Drittmittel.png\", width=250, height=200/></td>\n",
       "            </tr>\n",
       "            <tr>\n",
       "                        <th id=\"T_d19a812c_afd2_11e9_ba46_3791e66294celevel0_row5\" class=\"row_heading level0 row5\" >Soziologie</th>\n",
       "                        <td id=\"T_d19a812c_afd2_11e9_ba46_3791e66294cerow5_col0\" class=\"data row5 col0\" >5.31%</td>\n",
       "                        <td id=\"T_d19a812c_afd2_11e9_ba46_3791e66294cerow5_col1\" class=\"data row5 col1\" >400,554 €</td>\n",
       "                        <td id=\"T_d19a812c_afd2_11e9_ba46_3791e66294cerow5_col2\" class=\"data row5 col2\" >6. Platz</td>\n",
       "                        <td id=\"T_d19a812c_afd2_11e9_ba46_3791e66294cerow5_col3\" class=\"data row5 col3\" ><img src=\"UKLSoziologie_Drittmittel.png\", width=250, height=200/></td>\n",
       "            </tr>\n",
       "    </tbody></table>"
      ],
      "text/plain": [
       "<IPython.core.display.HTML object>"
      ]
     },
     "metadata": {},
     "output_type": "display_data"
    },
    {
     "data": {
      "text/html": [
       "<h2 style=\"page-break-before: always;\">Universität Linz</h2>"
      ],
      "text/plain": [
       "<IPython.core.display.HTML object>"
      ]
     },
     "metadata": {},
     "output_type": "display_data"
    },
    {
     "data": {
      "text/html": [
       "<h3>Vergleichbare Universitäten in Publikationen- und Drittmittel-Struktur</h3><ul>"
      ],
      "text/plain": [
       "<IPython.core.display.HTML object>"
      ]
     },
     "metadata": {},
     "output_type": "display_data"
    },
    {
     "data": {
      "text/html": [
       "<li><strong>Keine.</strong> Die Universität Linz ist stark spezialisiert.</li>"
      ],
      "text/plain": [
       "<IPython.core.display.HTML object>"
      ]
     },
     "metadata": {},
     "output_type": "display_data"
    },
    {
     "data": {
      "text/html": [
       "</ul>"
      ],
      "text/plain": [
       "<IPython.core.display.HTML object>"
      ]
     },
     "metadata": {},
     "output_type": "display_data"
    },
    {
     "data": {
      "text/html": [
       "<h4>Vergleichbar bei der Publikationen-Struktur</h4>"
      ],
      "text/plain": [
       "<IPython.core.display.HTML object>"
      ]
     },
     "metadata": {},
     "output_type": "display_data"
    },
    {
     "data": {
      "text/html": [
       "<p><strong>Universität Klagenfurt</strong> (59.1%, wegen &auml;hnlicher interner Relevanz von Informatik, Wirtschaftswissenschaften, Mathematik), <strong>Universität Innsbruck</strong> (53.2%, wegen &auml;hnlicher interner Relevanz von Rechtswissenschaften, Physik, Astronomie, Erziehungswissenschaften), <strong>Universität für Weiterbildung Krems</strong> (52.1%, wegen &auml;hnlicher interner Relevanz von Rechtswissenschaften, Elektrotechnik, Elektronik, Informationstechnik, Wirtschaftswissenschaften)</p>"
      ],
      "text/plain": [
       "<IPython.core.display.HTML object>"
      ]
     },
     "metadata": {},
     "output_type": "display_data"
    },
    {
     "data": {
      "text/html": [
       "<h4>Vergleichbar bei der Drittmittel-Struktur</h4>"
      ],
      "text/plain": [
       "<IPython.core.display.HTML object>"
      ]
     },
     "metadata": {},
     "output_type": "display_data"
    },
    {
     "data": {
      "text/html": [
       "<p><strong>Technische Universität Wien</strong> (71.0%, wegen &auml;hnlicher interner Relevanz von Elektrotechnik, Elektronik, Informationstechnik, Physik, Astronomie, Informatik), <strong>Technische Universität Graz</strong> (51.1%, wegen &auml;hnlicher interner Relevanz von Elektrotechnik, Elektronik, Informationstechnik, Maschinenbau, Informatik)</p>"
      ],
      "text/plain": [
       "<IPython.core.display.HTML object>"
      ]
     },
     "metadata": {},
     "output_type": "display_data"
    },
    {
     "data": {
      "text/html": [
       "<p><small>Universitäten mit einer Ähnlichkeit von weniger als 50% werden nicht angezeigt.</small></p>"
      ],
      "text/plain": [
       "<IPython.core.display.HTML object>"
      ]
     },
     "metadata": {},
     "output_type": "display_data"
    },
    {
     "data": {
      "text/html": [
       "<h3>Publikationen-Struktur der ULI</h3>"
      ],
      "text/plain": [
       "<IPython.core.display.HTML object>"
      ]
     },
     "metadata": {},
     "output_type": "display_data"
    },
    {
     "data": {
      "text/html": [
       "Angezeigt werden WZW, die zusammen 69.4% der Publikationen an der ULI ausmachen. Alle anderen WZW tragen je weniger als 4.6% bei. Die Spalte \"Ranking\" bezieht sich  auf den &ouml;sterreichweiten Vergleich der absoluten Werte pro WZW"
      ],
      "text/plain": [
       "<IPython.core.display.HTML object>"
      ]
     },
     "metadata": {},
     "output_type": "display_data"
    },
    {
     "data": {
      "text/html": [
       "<style  type=\"text/css\" >\n",
       "    #T_d1e9298a_afd2_11e9_ba46_3791e66294cerow0_col0 {\n",
       "            background-color:  white;\n",
       "        }    #T_d1e9298a_afd2_11e9_ba46_3791e66294cerow0_col1 {\n",
       "            background-color:  white;\n",
       "        }    #T_d1e9298a_afd2_11e9_ba46_3791e66294cerow0_col2 {\n",
       "            background-color:  white;\n",
       "        }    #T_d1e9298a_afd2_11e9_ba46_3791e66294cerow0_col3 {\n",
       "            background-color:  white;\n",
       "        }    #T_d1e9298a_afd2_11e9_ba46_3791e66294cerow1_col0 {\n",
       "            background-color:  yellow;\n",
       "        }    #T_d1e9298a_afd2_11e9_ba46_3791e66294cerow1_col1 {\n",
       "            background-color:  yellow;\n",
       "        }    #T_d1e9298a_afd2_11e9_ba46_3791e66294cerow1_col2 {\n",
       "            background-color:  yellow;\n",
       "        }    #T_d1e9298a_afd2_11e9_ba46_3791e66294cerow1_col3 {\n",
       "            background-color:  yellow;\n",
       "        }    #T_d1e9298a_afd2_11e9_ba46_3791e66294cerow2_col0 {\n",
       "            background-color:  yellow;\n",
       "        }    #T_d1e9298a_afd2_11e9_ba46_3791e66294cerow2_col1 {\n",
       "            background-color:  yellow;\n",
       "        }    #T_d1e9298a_afd2_11e9_ba46_3791e66294cerow2_col2 {\n",
       "            background-color:  yellow;\n",
       "        }    #T_d1e9298a_afd2_11e9_ba46_3791e66294cerow2_col3 {\n",
       "            background-color:  yellow;\n",
       "        }    #T_d1e9298a_afd2_11e9_ba46_3791e66294cerow3_col0 {\n",
       "            background-color:  yellow;\n",
       "        }    #T_d1e9298a_afd2_11e9_ba46_3791e66294cerow3_col1 {\n",
       "            background-color:  yellow;\n",
       "        }    #T_d1e9298a_afd2_11e9_ba46_3791e66294cerow3_col2 {\n",
       "            background-color:  yellow;\n",
       "        }    #T_d1e9298a_afd2_11e9_ba46_3791e66294cerow3_col3 {\n",
       "            background-color:  yellow;\n",
       "        }    #T_d1e9298a_afd2_11e9_ba46_3791e66294cerow4_col0 {\n",
       "            background-color:  yellow;\n",
       "        }    #T_d1e9298a_afd2_11e9_ba46_3791e66294cerow4_col1 {\n",
       "            background-color:  yellow;\n",
       "        }    #T_d1e9298a_afd2_11e9_ba46_3791e66294cerow4_col2 {\n",
       "            background-color:  yellow;\n",
       "        }    #T_d1e9298a_afd2_11e9_ba46_3791e66294cerow4_col3 {\n",
       "            background-color:  yellow;\n",
       "        }    #T_d1e9298a_afd2_11e9_ba46_3791e66294cerow5_col0 {\n",
       "            background-color:  white;\n",
       "        }    #T_d1e9298a_afd2_11e9_ba46_3791e66294cerow5_col1 {\n",
       "            background-color:  white;\n",
       "        }    #T_d1e9298a_afd2_11e9_ba46_3791e66294cerow5_col2 {\n",
       "            background-color:  white;\n",
       "        }    #T_d1e9298a_afd2_11e9_ba46_3791e66294cerow5_col3 {\n",
       "            background-color:  white;\n",
       "        }</style><table id=\"T_d1e9298a_afd2_11e9_ba46_3791e66294ce\" ><thead>    <tr>        <th class=\"blank level0\" ></th>        <th class=\"col_heading level0 col0\" >Intern</th>        <th class=\"col_heading level0 col1\" >Publikationen</th>        <th class=\"col_heading level0 col2\" >Ranking</th>        <th class=\"col_heading level0 col3\" >Universität im Vergleich</th>    </tr>    <tr>        <th class=\"index_name level0\" >WZW</th>        <th class=\"blank\" ></th>        <th class=\"blank\" ></th>        <th class=\"blank\" ></th>        <th class=\"blank\" ></th>    </tr></thead><tbody>\n",
       "                <tr>\n",
       "                        <th id=\"T_d1e9298a_afd2_11e9_ba46_3791e66294celevel0_row0\" class=\"row_heading level0 row0\" >Rechtswissenschaften</th>\n",
       "                        <td id=\"T_d1e9298a_afd2_11e9_ba46_3791e66294cerow0_col0\" class=\"data row0 col0\" >21.21%</td>\n",
       "                        <td id=\"T_d1e9298a_afd2_11e9_ba46_3791e66294cerow0_col1\" class=\"data row0 col1\" >526 Publikationen</td>\n",
       "                        <td id=\"T_d1e9298a_afd2_11e9_ba46_3791e66294cerow0_col2\" class=\"data row0 col2\" >5. Platz</td>\n",
       "                        <td id=\"T_d1e9298a_afd2_11e9_ba46_3791e66294cerow0_col3\" class=\"data row0 col3\" ><img src=\"ULIRechtswissenschaften_Publikationen.png\", width=250, height=200/></td>\n",
       "            </tr>\n",
       "            <tr>\n",
       "                        <th id=\"T_d1e9298a_afd2_11e9_ba46_3791e66294celevel0_row1\" class=\"row_heading level0 row1\" >Informatik</th>\n",
       "                        <td id=\"T_d1e9298a_afd2_11e9_ba46_3791e66294cerow1_col0\" class=\"data row1 col0\" >13.67%</td>\n",
       "                        <td id=\"T_d1e9298a_afd2_11e9_ba46_3791e66294cerow1_col1\" class=\"data row1 col1\" >339 Publikationen</td>\n",
       "                        <td id=\"T_d1e9298a_afd2_11e9_ba46_3791e66294cerow1_col2\" class=\"data row1 col2\" >3. Platz</td>\n",
       "                        <td id=\"T_d1e9298a_afd2_11e9_ba46_3791e66294cerow1_col3\" class=\"data row1 col3\" ><img src=\"ULIInformatik_Publikationen.png\", width=250, height=200/></td>\n",
       "            </tr>\n",
       "            <tr>\n",
       "                        <th id=\"T_d1e9298a_afd2_11e9_ba46_3791e66294celevel0_row2\" class=\"row_heading level0 row2\" >Wirtschaftswissenschaften</th>\n",
       "                        <td id=\"T_d1e9298a_afd2_11e9_ba46_3791e66294cerow2_col0\" class=\"data row2 col0\" >12.38%</td>\n",
       "                        <td id=\"T_d1e9298a_afd2_11e9_ba46_3791e66294cerow2_col1\" class=\"data row2 col1\" >307 Publikationen</td>\n",
       "                        <td id=\"T_d1e9298a_afd2_11e9_ba46_3791e66294cerow2_col2\" class=\"data row2 col2\" >2. Platz</td>\n",
       "                        <td id=\"T_d1e9298a_afd2_11e9_ba46_3791e66294cerow2_col3\" class=\"data row2 col3\" ><img src=\"ULIWirtschaftswissenschaften_Publikationen.png\", width=250, height=200/></td>\n",
       "            </tr>\n",
       "            <tr>\n",
       "                        <th id=\"T_d1e9298a_afd2_11e9_ba46_3791e66294celevel0_row3\" class=\"row_heading level0 row3\" >Mathematik</th>\n",
       "                        <td id=\"T_d1e9298a_afd2_11e9_ba46_3791e66294cerow3_col0\" class=\"data row3 col0\" >9.23%</td>\n",
       "                        <td id=\"T_d1e9298a_afd2_11e9_ba46_3791e66294cerow3_col1\" class=\"data row3 col1\" >229 Publikationen</td>\n",
       "                        <td id=\"T_d1e9298a_afd2_11e9_ba46_3791e66294cerow3_col2\" class=\"data row3 col2\" >3. Platz</td>\n",
       "                        <td id=\"T_d1e9298a_afd2_11e9_ba46_3791e66294cerow3_col3\" class=\"data row3 col3\" ><img src=\"ULIMathematik_Publikationen.png\", width=250, height=200/></td>\n",
       "            </tr>\n",
       "            <tr>\n",
       "                        <th id=\"T_d1e9298a_afd2_11e9_ba46_3791e66294celevel0_row4\" class=\"row_heading level0 row4\" >Elektrotechnik, Elektronik, Informationstechnik</th>\n",
       "                        <td id=\"T_d1e9298a_afd2_11e9_ba46_3791e66294cerow4_col0\" class=\"data row4 col0\" >8.31%</td>\n",
       "                        <td id=\"T_d1e9298a_afd2_11e9_ba46_3791e66294cerow4_col1\" class=\"data row4 col1\" >206 Publikationen</td>\n",
       "                        <td id=\"T_d1e9298a_afd2_11e9_ba46_3791e66294cerow4_col2\" class=\"data row4 col2\" >3. Platz</td>\n",
       "                        <td id=\"T_d1e9298a_afd2_11e9_ba46_3791e66294cerow4_col3\" class=\"data row4 col3\" ><img src=\"ULIElektrotechnik_Elektronik_Informationstechnik_Publikationen.png\", width=250, height=200/></td>\n",
       "            </tr>\n",
       "            <tr>\n",
       "                        <th id=\"T_d1e9298a_afd2_11e9_ba46_3791e66294celevel0_row5\" class=\"row_heading level0 row5\" >Physik, Astronomie</th>\n",
       "                        <td id=\"T_d1e9298a_afd2_11e9_ba46_3791e66294cerow5_col0\" class=\"data row5 col0\" >4.64%</td>\n",
       "                        <td id=\"T_d1e9298a_afd2_11e9_ba46_3791e66294cerow5_col1\" class=\"data row5 col1\" >115 Publikationen</td>\n",
       "                        <td id=\"T_d1e9298a_afd2_11e9_ba46_3791e66294cerow5_col2\" class=\"data row5 col2\" >6. Platz</td>\n",
       "                        <td id=\"T_d1e9298a_afd2_11e9_ba46_3791e66294cerow5_col3\" class=\"data row5 col3\" ><img src=\"ULIPhysik_Astronomie_Publikationen.png\", width=250, height=200/></td>\n",
       "            </tr>\n",
       "    </tbody></table>"
      ],
      "text/plain": [
       "<IPython.core.display.HTML object>"
      ]
     },
     "metadata": {},
     "output_type": "display_data"
    },
    {
     "data": {
      "text/html": [
       "<h3>Drittmittel-Struktur der ULI</h3>"
      ],
      "text/plain": [
       "<IPython.core.display.HTML object>"
      ]
     },
     "metadata": {},
     "output_type": "display_data"
    },
    {
     "data": {
      "text/html": [
       "Angezeigt werden WZW, die zusammen 72.1% der Drittmittel an der ULI ausmachen. Alle anderen WZW tragen je weniger als 9.5% bei. Die Spalte \"Ranking\" bezieht sich  auf den &ouml;sterreichweiten Vergleich der absoluten Werte pro WZW"
      ],
      "text/plain": [
       "<IPython.core.display.HTML object>"
      ]
     },
     "metadata": {},
     "output_type": "display_data"
    },
    {
     "data": {
      "text/html": [
       "<style  type=\"text/css\" >\n",
       "    #T_d24af660_afd2_11e9_ba46_3791e66294cerow0_col0 {\n",
       "            background-color:  yellow;\n",
       "        }    #T_d24af660_afd2_11e9_ba46_3791e66294cerow0_col1 {\n",
       "            background-color:  yellow;\n",
       "        }    #T_d24af660_afd2_11e9_ba46_3791e66294cerow0_col2 {\n",
       "            background-color:  yellow;\n",
       "        }    #T_d24af660_afd2_11e9_ba46_3791e66294cerow0_col3 {\n",
       "            background-color:  yellow;\n",
       "        }    #T_d24af660_afd2_11e9_ba46_3791e66294cerow1_col0 {\n",
       "            background-color:  yellow;\n",
       "        }    #T_d24af660_afd2_11e9_ba46_3791e66294cerow1_col1 {\n",
       "            background-color:  yellow;\n",
       "        }    #T_d24af660_afd2_11e9_ba46_3791e66294cerow1_col2 {\n",
       "            background-color:  yellow;\n",
       "        }    #T_d24af660_afd2_11e9_ba46_3791e66294cerow1_col3 {\n",
       "            background-color:  yellow;\n",
       "        }    #T_d24af660_afd2_11e9_ba46_3791e66294cerow2_col0 {\n",
       "            background-color:  white;\n",
       "        }    #T_d24af660_afd2_11e9_ba46_3791e66294cerow2_col1 {\n",
       "            background-color:  white;\n",
       "        }    #T_d24af660_afd2_11e9_ba46_3791e66294cerow2_col2 {\n",
       "            background-color:  white;\n",
       "        }    #T_d24af660_afd2_11e9_ba46_3791e66294cerow2_col3 {\n",
       "            background-color:  white;\n",
       "        }    #T_d24af660_afd2_11e9_ba46_3791e66294cerow3_col0 {\n",
       "            background-color:  white;\n",
       "        }    #T_d24af660_afd2_11e9_ba46_3791e66294cerow3_col1 {\n",
       "            background-color:  white;\n",
       "        }    #T_d24af660_afd2_11e9_ba46_3791e66294cerow3_col2 {\n",
       "            background-color:  white;\n",
       "        }    #T_d24af660_afd2_11e9_ba46_3791e66294cerow3_col3 {\n",
       "            background-color:  white;\n",
       "        }    #T_d24af660_afd2_11e9_ba46_3791e66294cerow4_col0 {\n",
       "            background-color:  white;\n",
       "        }    #T_d24af660_afd2_11e9_ba46_3791e66294cerow4_col1 {\n",
       "            background-color:  white;\n",
       "        }    #T_d24af660_afd2_11e9_ba46_3791e66294cerow4_col2 {\n",
       "            background-color:  white;\n",
       "        }    #T_d24af660_afd2_11e9_ba46_3791e66294cerow4_col3 {\n",
       "            background-color:  white;\n",
       "        }</style><table id=\"T_d24af660_afd2_11e9_ba46_3791e66294ce\" ><thead>    <tr>        <th class=\"blank level0\" ></th>        <th class=\"col_heading level0 col0\" >Intern</th>        <th class=\"col_heading level0 col1\" >Drittmittel</th>        <th class=\"col_heading level0 col2\" >Ranking</th>        <th class=\"col_heading level0 col3\" >Universität im Vergleich</th>    </tr>    <tr>        <th class=\"index_name level0\" >WZW</th>        <th class=\"blank\" ></th>        <th class=\"blank\" ></th>        <th class=\"blank\" ></th>        <th class=\"blank\" ></th>    </tr></thead><tbody>\n",
       "                <tr>\n",
       "                        <th id=\"T_d24af660_afd2_11e9_ba46_3791e66294celevel0_row0\" class=\"row_heading level0 row0\" >Elektrotechnik, Elektronik, Informationstechnik</th>\n",
       "                        <td id=\"T_d24af660_afd2_11e9_ba46_3791e66294cerow0_col0\" class=\"data row0 col0\" >18.06%</td>\n",
       "                        <td id=\"T_d24af660_afd2_11e9_ba46_3791e66294cerow0_col1\" class=\"data row0 col1\" >5,283,509 €</td>\n",
       "                        <td id=\"T_d24af660_afd2_11e9_ba46_3791e66294cerow0_col2\" class=\"data row0 col2\" >3. Platz</td>\n",
       "                        <td id=\"T_d24af660_afd2_11e9_ba46_3791e66294cerow0_col3\" class=\"data row0 col3\" ><img src=\"ULIElektrotechnik_Elektronik_Informationstechnik_Drittmittel.png\", width=250, height=200/></td>\n",
       "            </tr>\n",
       "            <tr>\n",
       "                        <th id=\"T_d24af660_afd2_11e9_ba46_3791e66294celevel0_row1\" class=\"row_heading level0 row1\" >Informatik</th>\n",
       "                        <td id=\"T_d24af660_afd2_11e9_ba46_3791e66294cerow1_col0\" class=\"data row1 col0\" >16.54%</td>\n",
       "                        <td id=\"T_d24af660_afd2_11e9_ba46_3791e66294cerow1_col1\" class=\"data row1 col1\" >4,838,635 €</td>\n",
       "                        <td id=\"T_d24af660_afd2_11e9_ba46_3791e66294cerow1_col2\" class=\"data row1 col2\" >3. Platz</td>\n",
       "                        <td id=\"T_d24af660_afd2_11e9_ba46_3791e66294cerow1_col3\" class=\"data row1 col3\" ><img src=\"ULIInformatik_Drittmittel.png\", width=250, height=200/></td>\n",
       "            </tr>\n",
       "            <tr>\n",
       "                        <th id=\"T_d24af660_afd2_11e9_ba46_3791e66294celevel0_row2\" class=\"row_heading level0 row2\" >Physik, Astronomie</th>\n",
       "                        <td id=\"T_d24af660_afd2_11e9_ba46_3791e66294cerow2_col0\" class=\"data row2 col0\" >14.77%</td>\n",
       "                        <td id=\"T_d24af660_afd2_11e9_ba46_3791e66294cerow2_col1\" class=\"data row2 col1\" >4,321,813 €</td>\n",
       "                        <td id=\"T_d24af660_afd2_11e9_ba46_3791e66294cerow2_col2\" class=\"data row2 col2\" >4. Platz</td>\n",
       "                        <td id=\"T_d24af660_afd2_11e9_ba46_3791e66294cerow2_col3\" class=\"data row2 col3\" ><img src=\"ULIPhysik_Astronomie_Drittmittel.png\", width=250, height=200/></td>\n",
       "            </tr>\n",
       "            <tr>\n",
       "                        <th id=\"T_d24af660_afd2_11e9_ba46_3791e66294celevel0_row3\" class=\"row_heading level0 row3\" >Mathematik</th>\n",
       "                        <td id=\"T_d24af660_afd2_11e9_ba46_3791e66294cerow3_col0\" class=\"data row3 col0\" >13.20%</td>\n",
       "                        <td id=\"T_d24af660_afd2_11e9_ba46_3791e66294cerow3_col1\" class=\"data row3 col1\" >3,861,260 €</td>\n",
       "                        <td id=\"T_d24af660_afd2_11e9_ba46_3791e66294cerow3_col2\" class=\"data row3 col2\" >4. Platz</td>\n",
       "                        <td id=\"T_d24af660_afd2_11e9_ba46_3791e66294cerow3_col3\" class=\"data row3 col3\" ><img src=\"ULIMathematik_Drittmittel.png\", width=250, height=200/></td>\n",
       "            </tr>\n",
       "            <tr>\n",
       "                        <th id=\"T_d24af660_afd2_11e9_ba46_3791e66294celevel0_row4\" class=\"row_heading level0 row4\" >Maschinenbau</th>\n",
       "                        <td id=\"T_d24af660_afd2_11e9_ba46_3791e66294cerow4_col0\" class=\"data row4 col0\" >9.53%</td>\n",
       "                        <td id=\"T_d24af660_afd2_11e9_ba46_3791e66294cerow4_col1\" class=\"data row4 col1\" >2,788,752 €</td>\n",
       "                        <td id=\"T_d24af660_afd2_11e9_ba46_3791e66294cerow4_col2\" class=\"data row4 col2\" >4. Platz</td>\n",
       "                        <td id=\"T_d24af660_afd2_11e9_ba46_3791e66294cerow4_col3\" class=\"data row4 col3\" ><img src=\"ULIMaschinenbau_Drittmittel.png\", width=250, height=200/></td>\n",
       "            </tr>\n",
       "    </tbody></table>"
      ],
      "text/plain": [
       "<IPython.core.display.HTML object>"
      ]
     },
     "metadata": {},
     "output_type": "display_data"
    },
    {
     "data": {
      "text/html": [
       "<h2 style=\"page-break-before: always;\">Universität Mozarteum Salzburg</h2>"
      ],
      "text/plain": [
       "<IPython.core.display.HTML object>"
      ]
     },
     "metadata": {},
     "output_type": "display_data"
    },
    {
     "data": {
      "text/html": [
       "<h3>Vergleichbare Universitäten in Publikationen- und Drittmittel-Struktur</h3><ul>"
      ],
      "text/plain": [
       "<IPython.core.display.HTML object>"
      ]
     },
     "metadata": {},
     "output_type": "display_data"
    },
    {
     "data": {
      "text/html": [
       "<li><strong>Keine.</strong> Die Universität Mozarteum Salzburg ist stark spezialisiert.</li>"
      ],
      "text/plain": [
       "<IPython.core.display.HTML object>"
      ]
     },
     "metadata": {},
     "output_type": "display_data"
    },
    {
     "data": {
      "text/html": [
       "</ul>"
      ],
      "text/plain": [
       "<IPython.core.display.HTML object>"
      ]
     },
     "metadata": {},
     "output_type": "display_data"
    },
    {
     "data": {
      "text/html": [
       "<h4>Vergleichbar bei der Publikationen-Struktur</h4>"
      ],
      "text/plain": [
       "<IPython.core.display.HTML object>"
      ]
     },
     "metadata": {},
     "output_type": "display_data"
    },
    {
     "data": {
      "text/html": [
       "<p>Die Universität Mozarteum Salzburg ist im Bereich Publikationen spezialisiert.<br/><strong>Keine</strong> andere Universität ähnelt der Universität Mozarteum Salzburg in der Publikationen-Struktur in auffälliger Weise.</p>"
      ],
      "text/plain": [
       "<IPython.core.display.HTML object>"
      ]
     },
     "metadata": {},
     "output_type": "display_data"
    },
    {
     "data": {
      "text/html": [
       "<h4>Vergleichbar bei der Drittmittel-Struktur</h4>"
      ],
      "text/plain": [
       "<IPython.core.display.HTML object>"
      ]
     },
     "metadata": {},
     "output_type": "display_data"
    },
    {
     "data": {
      "text/html": [
       "<p>Die Universität Mozarteum Salzburg ist im Bereich Drittmittel spezialisiert.<br/><strong>Keine</strong> andere Universität ähnelt der Universität Mozarteum Salzburg in der Drittmittel-Struktur in auffälliger Weise.</p>"
      ],
      "text/plain": [
       "<IPython.core.display.HTML object>"
      ]
     },
     "metadata": {},
     "output_type": "display_data"
    },
    {
     "data": {
      "text/html": [
       "<p><small>Universitäten mit einer Ähnlichkeit von weniger als 50% werden nicht angezeigt.</small></p>"
      ],
      "text/plain": [
       "<IPython.core.display.HTML object>"
      ]
     },
     "metadata": {},
     "output_type": "display_data"
    },
    {
     "data": {
      "text/html": [
       "<h3>Publikationen-Struktur der UMS</h3>"
      ],
      "text/plain": [
       "<IPython.core.display.HTML object>"
      ]
     },
     "metadata": {},
     "output_type": "display_data"
    },
    {
     "data": {
      "text/html": [
       "Angezeigt werden WZW, die zusammen 73.3% der Publikationen an der UMS ausmachen. Alle anderen WZW tragen je weniger als 11.2% bei. Die Spalte \"Ranking\" bezieht sich  auf den &ouml;sterreichweiten Vergleich der absoluten Werte pro WZW"
      ],
      "text/plain": [
       "<IPython.core.display.HTML object>"
      ]
     },
     "metadata": {},
     "output_type": "display_data"
    },
    {
     "data": {
      "text/html": [
       "<style  type=\"text/css\" >\n",
       "    #T_d2810bf6_afd2_11e9_ba46_3791e66294cerow0_col0 {\n",
       "            background-color:  green;\n",
       "        }    #T_d2810bf6_afd2_11e9_ba46_3791e66294cerow0_col1 {\n",
       "            background-color:  green;\n",
       "        }    #T_d2810bf6_afd2_11e9_ba46_3791e66294cerow0_col2 {\n",
       "            background-color:  green;\n",
       "        }    #T_d2810bf6_afd2_11e9_ba46_3791e66294cerow0_col3 {\n",
       "            background-color:  green;\n",
       "        }    #T_d2810bf6_afd2_11e9_ba46_3791e66294cerow1_col0 {\n",
       "            background-color:  yellow;\n",
       "        }    #T_d2810bf6_afd2_11e9_ba46_3791e66294cerow1_col1 {\n",
       "            background-color:  yellow;\n",
       "        }    #T_d2810bf6_afd2_11e9_ba46_3791e66294cerow1_col2 {\n",
       "            background-color:  yellow;\n",
       "        }    #T_d2810bf6_afd2_11e9_ba46_3791e66294cerow1_col3 {\n",
       "            background-color:  yellow;\n",
       "        }    #T_d2810bf6_afd2_11e9_ba46_3791e66294cerow2_col0 {\n",
       "            background-color:  green;\n",
       "        }    #T_d2810bf6_afd2_11e9_ba46_3791e66294cerow2_col1 {\n",
       "            background-color:  green;\n",
       "        }    #T_d2810bf6_afd2_11e9_ba46_3791e66294cerow2_col2 {\n",
       "            background-color:  green;\n",
       "        }    #T_d2810bf6_afd2_11e9_ba46_3791e66294cerow2_col3 {\n",
       "            background-color:  green;\n",
       "        }    #T_d2810bf6_afd2_11e9_ba46_3791e66294cerow3_col0 {\n",
       "            background-color:  green;\n",
       "        }    #T_d2810bf6_afd2_11e9_ba46_3791e66294cerow3_col1 {\n",
       "            background-color:  green;\n",
       "        }    #T_d2810bf6_afd2_11e9_ba46_3791e66294cerow3_col2 {\n",
       "            background-color:  green;\n",
       "        }    #T_d2810bf6_afd2_11e9_ba46_3791e66294cerow3_col3 {\n",
       "            background-color:  green;\n",
       "        }</style><table id=\"T_d2810bf6_afd2_11e9_ba46_3791e66294ce\" ><thead>    <tr>        <th class=\"blank level0\" ></th>        <th class=\"col_heading level0 col0\" >Intern</th>        <th class=\"col_heading level0 col1\" >Publikationen</th>        <th class=\"col_heading level0 col2\" >Ranking</th>        <th class=\"col_heading level0 col3\" >Universität im Vergleich</th>    </tr>    <tr>        <th class=\"index_name level0\" >WZW</th>        <th class=\"blank\" ></th>        <th class=\"blank\" ></th>        <th class=\"blank\" ></th>        <th class=\"blank\" ></th>    </tr></thead><tbody>\n",
       "                <tr>\n",
       "                        <th id=\"T_d2810bf6_afd2_11e9_ba46_3791e66294celevel0_row0\" class=\"row_heading level0 row0\" >Bühnengestaltung</th>\n",
       "                        <td id=\"T_d2810bf6_afd2_11e9_ba46_3791e66294cerow0_col0\" class=\"data row0 col0\" >33.59%</td>\n",
       "                        <td id=\"T_d2810bf6_afd2_11e9_ba46_3791e66294cerow0_col1\" class=\"data row0 col1\" >132 Publikationen</td>\n",
       "                        <td id=\"T_d2810bf6_afd2_11e9_ba46_3791e66294cerow0_col2\" class=\"data row0 col2\" >1. Platz</td>\n",
       "                        <td id=\"T_d2810bf6_afd2_11e9_ba46_3791e66294cerow0_col3\" class=\"data row0 col3\" ><img src=\"UMSBühnengestaltung_Publikationen.png\", width=250, height=200/></td>\n",
       "            </tr>\n",
       "            <tr>\n",
       "                        <th id=\"T_d2810bf6_afd2_11e9_ba46_3791e66294celevel0_row1\" class=\"row_heading level0 row1\" >Kunstwissenschaften</th>\n",
       "                        <td id=\"T_d2810bf6_afd2_11e9_ba46_3791e66294cerow1_col0\" class=\"data row1 col0\" >17.30%</td>\n",
       "                        <td id=\"T_d2810bf6_afd2_11e9_ba46_3791e66294cerow1_col1\" class=\"data row1 col1\" >68 Publikationen</td>\n",
       "                        <td id=\"T_d2810bf6_afd2_11e9_ba46_3791e66294cerow1_col2\" class=\"data row1 col2\" >3. Platz</td>\n",
       "                        <td id=\"T_d2810bf6_afd2_11e9_ba46_3791e66294cerow1_col3\" class=\"data row1 col3\" ><img src=\"UMSKunstwissenschaften_Publikationen.png\", width=250, height=200/></td>\n",
       "            </tr>\n",
       "            <tr>\n",
       "                        <th id=\"T_d2810bf6_afd2_11e9_ba46_3791e66294celevel0_row2\" class=\"row_heading level0 row2\" >Interpretation - instrumental</th>\n",
       "                        <td id=\"T_d2810bf6_afd2_11e9_ba46_3791e66294cerow2_col0\" class=\"data row2 col0\" >11.20%</td>\n",
       "                        <td id=\"T_d2810bf6_afd2_11e9_ba46_3791e66294cerow2_col1\" class=\"data row2 col1\" >44 Publikationen</td>\n",
       "                        <td id=\"T_d2810bf6_afd2_11e9_ba46_3791e66294cerow2_col2\" class=\"data row2 col2\" >1. Platz</td>\n",
       "                        <td id=\"T_d2810bf6_afd2_11e9_ba46_3791e66294cerow2_col3\" class=\"data row2 col3\" ><img src=\"UMSInterpretation_-_instrumental_Publikationen.png\", width=250, height=200/></td>\n",
       "            </tr>\n",
       "            <tr>\n",
       "                        <th id=\"T_d2810bf6_afd2_11e9_ba46_3791e66294celevel0_row3\" class=\"row_heading level0 row3\" >Pädagogik / Vermittlung</th>\n",
       "                        <td id=\"T_d2810bf6_afd2_11e9_ba46_3791e66294cerow3_col0\" class=\"data row3 col0\" >11.20%</td>\n",
       "                        <td id=\"T_d2810bf6_afd2_11e9_ba46_3791e66294cerow3_col1\" class=\"data row3 col1\" >44 Publikationen</td>\n",
       "                        <td id=\"T_d2810bf6_afd2_11e9_ba46_3791e66294cerow3_col2\" class=\"data row3 col2\" >1. Platz</td>\n",
       "                        <td id=\"T_d2810bf6_afd2_11e9_ba46_3791e66294cerow3_col3\" class=\"data row3 col3\" ><img src=\"UMSPädagogik__Vermittlung_Publikationen.png\", width=250, height=200/></td>\n",
       "            </tr>\n",
       "    </tbody></table>"
      ],
      "text/plain": [
       "<IPython.core.display.HTML object>"
      ]
     },
     "metadata": {},
     "output_type": "display_data"
    },
    {
     "data": {
      "text/html": [
       "<h3>Drittmittel-Struktur der UMS</h3>"
      ],
      "text/plain": [
       "<IPython.core.display.HTML object>"
      ]
     },
     "metadata": {},
     "output_type": "display_data"
    },
    {
     "data": {
      "text/html": [
       "Angezeigt werden WZW, die zusammen 72.9% der Drittmittel an der UMS ausmachen. Alle anderen WZW tragen je weniger als 15.1% bei. Die Spalte \"Ranking\" bezieht sich  auf den &ouml;sterreichweiten Vergleich der absoluten Werte pro WZW"
      ],
      "text/plain": [
       "<IPython.core.display.HTML object>"
      ]
     },
     "metadata": {},
     "output_type": "display_data"
    },
    {
     "data": {
      "text/html": [
       "<style  type=\"text/css\" >\n",
       "    #T_d29cf80c_afd2_11e9_ba46_3791e66294cerow0_col0 {\n",
       "            background-color:  green;\n",
       "        }    #T_d29cf80c_afd2_11e9_ba46_3791e66294cerow0_col1 {\n",
       "            background-color:  green;\n",
       "        }    #T_d29cf80c_afd2_11e9_ba46_3791e66294cerow0_col2 {\n",
       "            background-color:  green;\n",
       "        }    #T_d29cf80c_afd2_11e9_ba46_3791e66294cerow0_col3 {\n",
       "            background-color:  green;\n",
       "        }    #T_d29cf80c_afd2_11e9_ba46_3791e66294cerow1_col0 {\n",
       "            background-color:  green;\n",
       "        }    #T_d29cf80c_afd2_11e9_ba46_3791e66294cerow1_col1 {\n",
       "            background-color:  green;\n",
       "        }    #T_d29cf80c_afd2_11e9_ba46_3791e66294cerow1_col2 {\n",
       "            background-color:  green;\n",
       "        }    #T_d29cf80c_afd2_11e9_ba46_3791e66294cerow1_col3 {\n",
       "            background-color:  green;\n",
       "        }</style><table id=\"T_d29cf80c_afd2_11e9_ba46_3791e66294ce\" ><thead>    <tr>        <th class=\"blank level0\" ></th>        <th class=\"col_heading level0 col0\" >Intern</th>        <th class=\"col_heading level0 col1\" >Drittmittel</th>        <th class=\"col_heading level0 col2\" >Ranking</th>        <th class=\"col_heading level0 col3\" >Universität im Vergleich</th>    </tr>    <tr>        <th class=\"index_name level0\" >WZW</th>        <th class=\"blank\" ></th>        <th class=\"blank\" ></th>        <th class=\"blank\" ></th>        <th class=\"blank\" ></th>    </tr></thead><tbody>\n",
       "                <tr>\n",
       "                        <th id=\"T_d29cf80c_afd2_11e9_ba46_3791e66294celevel0_row0\" class=\"row_heading level0 row0\" >Interpretation - instrumental</th>\n",
       "                        <td id=\"T_d29cf80c_afd2_11e9_ba46_3791e66294cerow0_col0\" class=\"data row0 col0\" >57.74%</td>\n",
       "                        <td id=\"T_d29cf80c_afd2_11e9_ba46_3791e66294cerow0_col1\" class=\"data row0 col1\" >798,954 €</td>\n",
       "                        <td id=\"T_d29cf80c_afd2_11e9_ba46_3791e66294cerow0_col2\" class=\"data row0 col2\" >1. Platz</td>\n",
       "                        <td id=\"T_d29cf80c_afd2_11e9_ba46_3791e66294cerow0_col3\" class=\"data row0 col3\" ><img src=\"UMSInterpretation_-_instrumental_Drittmittel.png\", width=250, height=200/></td>\n",
       "            </tr>\n",
       "            <tr>\n",
       "                        <th id=\"T_d29cf80c_afd2_11e9_ba46_3791e66294celevel0_row1\" class=\"row_heading level0 row1\" >Pädagogik / Vermittlung</th>\n",
       "                        <td id=\"T_d29cf80c_afd2_11e9_ba46_3791e66294cerow1_col0\" class=\"data row1 col0\" >15.12%</td>\n",
       "                        <td id=\"T_d29cf80c_afd2_11e9_ba46_3791e66294cerow1_col1\" class=\"data row1 col1\" >209,177 €</td>\n",
       "                        <td id=\"T_d29cf80c_afd2_11e9_ba46_3791e66294cerow1_col2\" class=\"data row1 col2\" >1. Platz</td>\n",
       "                        <td id=\"T_d29cf80c_afd2_11e9_ba46_3791e66294cerow1_col3\" class=\"data row1 col3\" ><img src=\"UMSPädagogik__Vermittlung_Drittmittel.png\", width=250, height=200/></td>\n",
       "            </tr>\n",
       "    </tbody></table>"
      ],
      "text/plain": [
       "<IPython.core.display.HTML object>"
      ]
     },
     "metadata": {},
     "output_type": "display_data"
    },
    {
     "data": {
      "text/html": [
       "<h2 style=\"page-break-before: always;\">Universität Salzburg</h2>"
      ],
      "text/plain": [
       "<IPython.core.display.HTML object>"
      ]
     },
     "metadata": {},
     "output_type": "display_data"
    },
    {
     "data": {
      "text/html": [
       "<h3>Vergleichbare Universitäten in Publikationen- und Drittmittel-Struktur</h3><ul>"
      ],
      "text/plain": [
       "<IPython.core.display.HTML object>"
      ]
     },
     "metadata": {},
     "output_type": "display_data"
    },
    {
     "data": {
      "text/html": [
       "<li style=\"margin-bottom: 5px;\">Universität Graz</li>"
      ],
      "text/plain": [
       "<IPython.core.display.HTML object>"
      ]
     },
     "metadata": {},
     "output_type": "display_data"
    },
    {
     "data": {
      "text/html": [
       "<li style=\"margin-bottom: 5px;\">Universität Wien</li>"
      ],
      "text/plain": [
       "<IPython.core.display.HTML object>"
      ]
     },
     "metadata": {},
     "output_type": "display_data"
    },
    {
     "data": {
      "text/html": [
       "<li style=\"margin-bottom: 5px;\">Universität Innsbruck</li>"
      ],
      "text/plain": [
       "<IPython.core.display.HTML object>"
      ]
     },
     "metadata": {},
     "output_type": "display_data"
    },
    {
     "data": {
      "text/html": [
       "</ul>"
      ],
      "text/plain": [
       "<IPython.core.display.HTML object>"
      ]
     },
     "metadata": {},
     "output_type": "display_data"
    },
    {
     "data": {
      "text/html": [
       "<h4>Vergleichbar bei der Publikationen-Struktur</h4>"
      ],
      "text/plain": [
       "<IPython.core.display.HTML object>"
      ]
     },
     "metadata": {},
     "output_type": "display_data"
    },
    {
     "data": {
      "text/html": [
       "<p><strong>Universität Innsbruck</strong> (74.7%, wegen &auml;hnlicher interner Relevanz von Rechtswissenschaften, Sprach- und Literaturwissenschaften, Erziehungswissenschaften), <strong>Universität Wien</strong> (69.3%, wegen &auml;hnlicher interner Relevanz von Sprach- und Literaturwissenschaften, Rechtswissenschaften, Philosophie, Ethik, Religion), <strong>Universität Graz</strong> (68.7%, wegen &auml;hnlicher interner Relevanz von Rechtswissenschaften, Sprach- und Literaturwissenschaften, Philosophie, Ethik, Religion), <strong>Universität für Weiterbildung Krems</strong> (54.6%, wegen &auml;hnlicher interner Relevanz von Rechtswissenschaften, Psychologie, Geschichte, Archäologie)</p>"
      ],
      "text/plain": [
       "<IPython.core.display.HTML object>"
      ]
     },
     "metadata": {},
     "output_type": "display_data"
    },
    {
     "data": {
      "text/html": [
       "<h4>Vergleichbar bei der Drittmittel-Struktur</h4>"
      ],
      "text/plain": [
       "<IPython.core.display.HTML object>"
      ]
     },
     "metadata": {},
     "output_type": "display_data"
    },
    {
     "data": {
      "text/html": [
       "<p><strong>Universität Wien</strong> (63.1%, wegen &auml;hnlicher interner Relevanz von Biologie, Physik, Astronomie, Geschichte, Archäologie), <strong>Universität Graz</strong> (57.9%, wegen &auml;hnlicher interner Relevanz von Biologie, Physik, Astronomie, Geschichte, Archäologie), <strong>Universität Innsbruck</strong> (50.9%, wegen &auml;hnlicher interner Relevanz von Biologie, Geowissenschaften, Informatik)</p>"
      ],
      "text/plain": [
       "<IPython.core.display.HTML object>"
      ]
     },
     "metadata": {},
     "output_type": "display_data"
    },
    {
     "data": {
      "text/html": [
       "<p><small>Universitäten mit einer Ähnlichkeit von weniger als 50% werden nicht angezeigt.</small></p>"
      ],
      "text/plain": [
       "<IPython.core.display.HTML object>"
      ]
     },
     "metadata": {},
     "output_type": "display_data"
    },
    {
     "data": {
      "text/html": [
       "<h3>Publikationen-Struktur der USA</h3>"
      ],
      "text/plain": [
       "<IPython.core.display.HTML object>"
      ]
     },
     "metadata": {},
     "output_type": "display_data"
    },
    {
     "data": {
      "text/html": [
       "Angezeigt werden WZW, die zusammen 68.7% der Publikationen an der USA ausmachen. Alle anderen WZW tragen je weniger als 3.9% bei. Die Spalte \"Ranking\" bezieht sich  auf den &ouml;sterreichweiten Vergleich der absoluten Werte pro WZW"
      ],
      "text/plain": [
       "<IPython.core.display.HTML object>"
      ]
     },
     "metadata": {},
     "output_type": "display_data"
    },
    {
     "data": {
      "text/html": [
       "<style  type=\"text/css\" >\n",
       "    #T_d303d270_afd2_11e9_ba46_3791e66294cerow0_col0 {\n",
       "            background-color:  yellow;\n",
       "        }    #T_d303d270_afd2_11e9_ba46_3791e66294cerow0_col1 {\n",
       "            background-color:  yellow;\n",
       "        }    #T_d303d270_afd2_11e9_ba46_3791e66294cerow0_col2 {\n",
       "            background-color:  yellow;\n",
       "        }    #T_d303d270_afd2_11e9_ba46_3791e66294cerow0_col3 {\n",
       "            background-color:  yellow;\n",
       "        }    #T_d303d270_afd2_11e9_ba46_3791e66294cerow1_col0 {\n",
       "            background-color:  white;\n",
       "        }    #T_d303d270_afd2_11e9_ba46_3791e66294cerow1_col1 {\n",
       "            background-color:  white;\n",
       "        }    #T_d303d270_afd2_11e9_ba46_3791e66294cerow1_col2 {\n",
       "            background-color:  white;\n",
       "        }    #T_d303d270_afd2_11e9_ba46_3791e66294cerow1_col3 {\n",
       "            background-color:  white;\n",
       "        }    #T_d303d270_afd2_11e9_ba46_3791e66294cerow2_col0 {\n",
       "            background-color:  white;\n",
       "        }    #T_d303d270_afd2_11e9_ba46_3791e66294cerow2_col1 {\n",
       "            background-color:  white;\n",
       "        }    #T_d303d270_afd2_11e9_ba46_3791e66294cerow2_col2 {\n",
       "            background-color:  white;\n",
       "        }    #T_d303d270_afd2_11e9_ba46_3791e66294cerow2_col3 {\n",
       "            background-color:  white;\n",
       "        }    #T_d303d270_afd2_11e9_ba46_3791e66294cerow3_col0 {\n",
       "            background-color:  white;\n",
       "        }    #T_d303d270_afd2_11e9_ba46_3791e66294cerow3_col1 {\n",
       "            background-color:  white;\n",
       "        }    #T_d303d270_afd2_11e9_ba46_3791e66294cerow3_col2 {\n",
       "            background-color:  white;\n",
       "        }    #T_d303d270_afd2_11e9_ba46_3791e66294cerow3_col3 {\n",
       "            background-color:  white;\n",
       "        }    #T_d303d270_afd2_11e9_ba46_3791e66294cerow4_col0 {\n",
       "            background-color:  white;\n",
       "        }    #T_d303d270_afd2_11e9_ba46_3791e66294cerow4_col1 {\n",
       "            background-color:  white;\n",
       "        }    #T_d303d270_afd2_11e9_ba46_3791e66294cerow4_col2 {\n",
       "            background-color:  white;\n",
       "        }    #T_d303d270_afd2_11e9_ba46_3791e66294cerow4_col3 {\n",
       "            background-color:  white;\n",
       "        }    #T_d303d270_afd2_11e9_ba46_3791e66294cerow5_col0 {\n",
       "            background-color:  white;\n",
       "        }    #T_d303d270_afd2_11e9_ba46_3791e66294cerow5_col1 {\n",
       "            background-color:  white;\n",
       "        }    #T_d303d270_afd2_11e9_ba46_3791e66294cerow5_col2 {\n",
       "            background-color:  white;\n",
       "        }    #T_d303d270_afd2_11e9_ba46_3791e66294cerow5_col3 {\n",
       "            background-color:  white;\n",
       "        }    #T_d303d270_afd2_11e9_ba46_3791e66294cerow6_col0 {\n",
       "            background-color:  yellow;\n",
       "        }    #T_d303d270_afd2_11e9_ba46_3791e66294cerow6_col1 {\n",
       "            background-color:  yellow;\n",
       "        }    #T_d303d270_afd2_11e9_ba46_3791e66294cerow6_col2 {\n",
       "            background-color:  yellow;\n",
       "        }    #T_d303d270_afd2_11e9_ba46_3791e66294cerow6_col3 {\n",
       "            background-color:  yellow;\n",
       "        }    #T_d303d270_afd2_11e9_ba46_3791e66294cerow7_col0 {\n",
       "            background-color:  white;\n",
       "        }    #T_d303d270_afd2_11e9_ba46_3791e66294cerow7_col1 {\n",
       "            background-color:  white;\n",
       "        }    #T_d303d270_afd2_11e9_ba46_3791e66294cerow7_col2 {\n",
       "            background-color:  white;\n",
       "        }    #T_d303d270_afd2_11e9_ba46_3791e66294cerow7_col3 {\n",
       "            background-color:  white;\n",
       "        }</style><table id=\"T_d303d270_afd2_11e9_ba46_3791e66294ce\" ><thead>    <tr>        <th class=\"blank level0\" ></th>        <th class=\"col_heading level0 col0\" >Intern</th>        <th class=\"col_heading level0 col1\" >Publikationen</th>        <th class=\"col_heading level0 col2\" >Ranking</th>        <th class=\"col_heading level0 col3\" >Universität im Vergleich</th>    </tr>    <tr>        <th class=\"index_name level0\" >WZW</th>        <th class=\"blank\" ></th>        <th class=\"blank\" ></th>        <th class=\"blank\" ></th>        <th class=\"blank\" ></th>    </tr></thead><tbody>\n",
       "                <tr>\n",
       "                        <th id=\"T_d303d270_afd2_11e9_ba46_3791e66294celevel0_row0\" class=\"row_heading level0 row0\" >Rechtswissenschaften</th>\n",
       "                        <td id=\"T_d303d270_afd2_11e9_ba46_3791e66294cerow0_col0\" class=\"data row0 col0\" >26.90%</td>\n",
       "                        <td id=\"T_d303d270_afd2_11e9_ba46_3791e66294cerow0_col1\" class=\"data row0 col1\" >638 Publikationen</td>\n",
       "                        <td id=\"T_d303d270_afd2_11e9_ba46_3791e66294cerow0_col2\" class=\"data row0 col2\" >3. Platz</td>\n",
       "                        <td id=\"T_d303d270_afd2_11e9_ba46_3791e66294cerow0_col3\" class=\"data row0 col3\" ><img src=\"USARechtswissenschaften_Publikationen.png\", width=250, height=200/></td>\n",
       "            </tr>\n",
       "            <tr>\n",
       "                        <th id=\"T_d303d270_afd2_11e9_ba46_3791e66294celevel0_row1\" class=\"row_heading level0 row1\" >Sprach- und Literaturwissenschaften</th>\n",
       "                        <td id=\"T_d303d270_afd2_11e9_ba46_3791e66294cerow1_col0\" class=\"data row1 col0\" >9.15%</td>\n",
       "                        <td id=\"T_d303d270_afd2_11e9_ba46_3791e66294cerow1_col1\" class=\"data row1 col1\" >217 Publikationen</td>\n",
       "                        <td id=\"T_d303d270_afd2_11e9_ba46_3791e66294cerow1_col2\" class=\"data row1 col2\" >4. Platz</td>\n",
       "                        <td id=\"T_d303d270_afd2_11e9_ba46_3791e66294cerow1_col3\" class=\"data row1 col3\" ><img src=\"USASprach-_und_Literaturwissenschaften_Publikationen.png\", width=250, height=200/></td>\n",
       "            </tr>\n",
       "            <tr>\n",
       "                        <th id=\"T_d303d270_afd2_11e9_ba46_3791e66294celevel0_row2\" class=\"row_heading level0 row2\" >Geowissenschaften</th>\n",
       "                        <td id=\"T_d303d270_afd2_11e9_ba46_3791e66294cerow2_col0\" class=\"data row2 col0\" >7.00%</td>\n",
       "                        <td id=\"T_d303d270_afd2_11e9_ba46_3791e66294cerow2_col1\" class=\"data row2 col1\" >166 Publikationen</td>\n",
       "                        <td id=\"T_d303d270_afd2_11e9_ba46_3791e66294cerow2_col2\" class=\"data row2 col2\" >4. Platz</td>\n",
       "                        <td id=\"T_d303d270_afd2_11e9_ba46_3791e66294cerow2_col3\" class=\"data row2 col3\" ><img src=\"USAGeowissenschaften_Publikationen.png\", width=250, height=200/></td>\n",
       "            </tr>\n",
       "            <tr>\n",
       "                        <th id=\"T_d303d270_afd2_11e9_ba46_3791e66294celevel0_row3\" class=\"row_heading level0 row3\" >Philosophie, Ethik, Religion</th>\n",
       "                        <td id=\"T_d303d270_afd2_11e9_ba46_3791e66294cerow3_col0\" class=\"data row3 col0\" >5.94%</td>\n",
       "                        <td id=\"T_d303d270_afd2_11e9_ba46_3791e66294cerow3_col1\" class=\"data row3 col1\" >141 Publikationen</td>\n",
       "                        <td id=\"T_d303d270_afd2_11e9_ba46_3791e66294cerow3_col2\" class=\"data row3 col2\" >4. Platz</td>\n",
       "                        <td id=\"T_d303d270_afd2_11e9_ba46_3791e66294cerow3_col3\" class=\"data row3 col3\" ><img src=\"USAPhilosophie_Ethik_Religion_Publikationen.png\", width=250, height=200/></td>\n",
       "            </tr>\n",
       "            <tr>\n",
       "                        <th id=\"T_d303d270_afd2_11e9_ba46_3791e66294celevel0_row4\" class=\"row_heading level0 row4\" >Erziehungswissenschaften</th>\n",
       "                        <td id=\"T_d303d270_afd2_11e9_ba46_3791e66294cerow4_col0\" class=\"data row4 col0\" >5.78%</td>\n",
       "                        <td id=\"T_d303d270_afd2_11e9_ba46_3791e66294cerow4_col1\" class=\"data row4 col1\" >137 Publikationen</td>\n",
       "                        <td id=\"T_d303d270_afd2_11e9_ba46_3791e66294cerow4_col2\" class=\"data row4 col2\" >4. Platz</td>\n",
       "                        <td id=\"T_d303d270_afd2_11e9_ba46_3791e66294cerow4_col3\" class=\"data row4 col3\" ><img src=\"USAErziehungswissenschaften_Publikationen.png\", width=250, height=200/></td>\n",
       "            </tr>\n",
       "            <tr>\n",
       "                        <th id=\"T_d303d270_afd2_11e9_ba46_3791e66294celevel0_row5\" class=\"row_heading level0 row5\" >Biologie</th>\n",
       "                        <td id=\"T_d303d270_afd2_11e9_ba46_3791e66294cerow5_col0\" class=\"data row5 col0\" >5.14%</td>\n",
       "                        <td id=\"T_d303d270_afd2_11e9_ba46_3791e66294cerow5_col1\" class=\"data row5 col1\" >122 Publikationen</td>\n",
       "                        <td id=\"T_d303d270_afd2_11e9_ba46_3791e66294cerow5_col2\" class=\"data row5 col2\" >6. Platz</td>\n",
       "                        <td id=\"T_d303d270_afd2_11e9_ba46_3791e66294cerow5_col3\" class=\"data row5 col3\" ><img src=\"USABiologie_Publikationen.png\", width=250, height=200/></td>\n",
       "            </tr>\n",
       "            <tr>\n",
       "                        <th id=\"T_d303d270_afd2_11e9_ba46_3791e66294celevel0_row6\" class=\"row_heading level0 row6\" >Psychologie</th>\n",
       "                        <td id=\"T_d303d270_afd2_11e9_ba46_3791e66294cerow6_col0\" class=\"data row6 col0\" >4.85%</td>\n",
       "                        <td id=\"T_d303d270_afd2_11e9_ba46_3791e66294cerow6_col1\" class=\"data row6 col1\" >115 Publikationen</td>\n",
       "                        <td id=\"T_d303d270_afd2_11e9_ba46_3791e66294cerow6_col2\" class=\"data row6 col2\" >3. Platz</td>\n",
       "                        <td id=\"T_d303d270_afd2_11e9_ba46_3791e66294cerow6_col3\" class=\"data row6 col3\" ><img src=\"USAPsychologie_Publikationen.png\", width=250, height=200/></td>\n",
       "            </tr>\n",
       "            <tr>\n",
       "                        <th id=\"T_d303d270_afd2_11e9_ba46_3791e66294celevel0_row7\" class=\"row_heading level0 row7\" >Geschichte, Archäologie</th>\n",
       "                        <td id=\"T_d303d270_afd2_11e9_ba46_3791e66294cerow7_col0\" class=\"data row7 col0\" >3.92%</td>\n",
       "                        <td id=\"T_d303d270_afd2_11e9_ba46_3791e66294cerow7_col1\" class=\"data row7 col1\" >93 Publikationen</td>\n",
       "                        <td id=\"T_d303d270_afd2_11e9_ba46_3791e66294cerow7_col2\" class=\"data row7 col2\" >4. Platz</td>\n",
       "                        <td id=\"T_d303d270_afd2_11e9_ba46_3791e66294cerow7_col3\" class=\"data row7 col3\" ><img src=\"USAGeschichte_Archäologie_Publikationen.png\", width=250, height=200/></td>\n",
       "            </tr>\n",
       "    </tbody></table>"
      ],
      "text/plain": [
       "<IPython.core.display.HTML object>"
      ]
     },
     "metadata": {},
     "output_type": "display_data"
    },
    {
     "data": {
      "text/html": [
       "<h3>Drittmittel-Struktur der USA</h3>"
      ],
      "text/plain": [
       "<IPython.core.display.HTML object>"
      ]
     },
     "metadata": {},
     "output_type": "display_data"
    },
    {
     "data": {
      "text/html": [
       "Angezeigt werden WZW, die zusammen 68.6% der Drittmittel an der USA ausmachen. Alle anderen WZW tragen je weniger als 5.1% bei. Die Spalte \"Ranking\" bezieht sich  auf den &ouml;sterreichweiten Vergleich der absoluten Werte pro WZW"
      ],
      "text/plain": [
       "<IPython.core.display.HTML object>"
      ]
     },
     "metadata": {},
     "output_type": "display_data"
    },
    {
     "data": {
      "text/html": [
       "<style  type=\"text/css\" >\n",
       "    #T_d34f718a_afd2_11e9_ba46_3791e66294cerow0_col0 {\n",
       "            background-color:  white;\n",
       "        }    #T_d34f718a_afd2_11e9_ba46_3791e66294cerow0_col1 {\n",
       "            background-color:  white;\n",
       "        }    #T_d34f718a_afd2_11e9_ba46_3791e66294cerow0_col2 {\n",
       "            background-color:  white;\n",
       "        }    #T_d34f718a_afd2_11e9_ba46_3791e66294cerow0_col3 {\n",
       "            background-color:  white;\n",
       "        }    #T_d34f718a_afd2_11e9_ba46_3791e66294cerow1_col0 {\n",
       "            background-color:  green;\n",
       "        }    #T_d34f718a_afd2_11e9_ba46_3791e66294cerow1_col1 {\n",
       "            background-color:  green;\n",
       "        }    #T_d34f718a_afd2_11e9_ba46_3791e66294cerow1_col2 {\n",
       "            background-color:  green;\n",
       "        }    #T_d34f718a_afd2_11e9_ba46_3791e66294cerow1_col3 {\n",
       "            background-color:  green;\n",
       "        }    #T_d34f718a_afd2_11e9_ba46_3791e66294cerow2_col0 {\n",
       "            background-color:  white;\n",
       "        }    #T_d34f718a_afd2_11e9_ba46_3791e66294cerow2_col1 {\n",
       "            background-color:  white;\n",
       "        }    #T_d34f718a_afd2_11e9_ba46_3791e66294cerow2_col2 {\n",
       "            background-color:  white;\n",
       "        }    #T_d34f718a_afd2_11e9_ba46_3791e66294cerow2_col3 {\n",
       "            background-color:  white;\n",
       "        }    #T_d34f718a_afd2_11e9_ba46_3791e66294cerow3_col0 {\n",
       "            background-color:  white;\n",
       "        }    #T_d34f718a_afd2_11e9_ba46_3791e66294cerow3_col1 {\n",
       "            background-color:  white;\n",
       "        }    #T_d34f718a_afd2_11e9_ba46_3791e66294cerow3_col2 {\n",
       "            background-color:  white;\n",
       "        }    #T_d34f718a_afd2_11e9_ba46_3791e66294cerow3_col3 {\n",
       "            background-color:  white;\n",
       "        }    #T_d34f718a_afd2_11e9_ba46_3791e66294cerow4_col0 {\n",
       "            background-color:  white;\n",
       "        }    #T_d34f718a_afd2_11e9_ba46_3791e66294cerow4_col1 {\n",
       "            background-color:  white;\n",
       "        }    #T_d34f718a_afd2_11e9_ba46_3791e66294cerow4_col2 {\n",
       "            background-color:  white;\n",
       "        }    #T_d34f718a_afd2_11e9_ba46_3791e66294cerow4_col3 {\n",
       "            background-color:  white;\n",
       "        }    #T_d34f718a_afd2_11e9_ba46_3791e66294cerow5_col0 {\n",
       "            background-color:  white;\n",
       "        }    #T_d34f718a_afd2_11e9_ba46_3791e66294cerow5_col1 {\n",
       "            background-color:  white;\n",
       "        }    #T_d34f718a_afd2_11e9_ba46_3791e66294cerow5_col2 {\n",
       "            background-color:  white;\n",
       "        }    #T_d34f718a_afd2_11e9_ba46_3791e66294cerow5_col3 {\n",
       "            background-color:  white;\n",
       "        }</style><table id=\"T_d34f718a_afd2_11e9_ba46_3791e66294ce\" ><thead>    <tr>        <th class=\"blank level0\" ></th>        <th class=\"col_heading level0 col0\" >Intern</th>        <th class=\"col_heading level0 col1\" >Drittmittel</th>        <th class=\"col_heading level0 col2\" >Ranking</th>        <th class=\"col_heading level0 col3\" >Universität im Vergleich</th>    </tr>    <tr>        <th class=\"index_name level0\" >WZW</th>        <th class=\"blank\" ></th>        <th class=\"blank\" ></th>        <th class=\"blank\" ></th>        <th class=\"blank\" ></th>    </tr></thead><tbody>\n",
       "                <tr>\n",
       "                        <th id=\"T_d34f718a_afd2_11e9_ba46_3791e66294celevel0_row0\" class=\"row_heading level0 row0\" >Biologie</th>\n",
       "                        <td id=\"T_d34f718a_afd2_11e9_ba46_3791e66294cerow0_col0\" class=\"data row0 col0\" >22.69%</td>\n",
       "                        <td id=\"T_d34f718a_afd2_11e9_ba46_3791e66294cerow0_col1\" class=\"data row0 col1\" >4,316,505 €</td>\n",
       "                        <td id=\"T_d34f718a_afd2_11e9_ba46_3791e66294cerow0_col2\" class=\"data row0 col2\" >6. Platz</td>\n",
       "                        <td id=\"T_d34f718a_afd2_11e9_ba46_3791e66294cerow0_col3\" class=\"data row0 col3\" ><img src=\"USABiologie_Drittmittel.png\", width=250, height=200/></td>\n",
       "            </tr>\n",
       "            <tr>\n",
       "                        <th id=\"T_d34f718a_afd2_11e9_ba46_3791e66294celevel0_row1\" class=\"row_heading level0 row1\" >Geowissenschaften</th>\n",
       "                        <td id=\"T_d34f718a_afd2_11e9_ba46_3791e66294cerow1_col0\" class=\"data row1 col0\" >19.27%</td>\n",
       "                        <td id=\"T_d34f718a_afd2_11e9_ba46_3791e66294cerow1_col1\" class=\"data row1 col1\" >3,666,505 €</td>\n",
       "                        <td id=\"T_d34f718a_afd2_11e9_ba46_3791e66294cerow1_col2\" class=\"data row1 col2\" >1. Platz</td>\n",
       "                        <td id=\"T_d34f718a_afd2_11e9_ba46_3791e66294cerow1_col3\" class=\"data row1 col3\" ><img src=\"USAGeowissenschaften_Drittmittel.png\", width=250, height=200/></td>\n",
       "            </tr>\n",
       "            <tr>\n",
       "                        <th id=\"T_d34f718a_afd2_11e9_ba46_3791e66294celevel0_row2\" class=\"row_heading level0 row2\" >Medizinisch-theoretische Wissenschaften, Pharmazie</th>\n",
       "                        <td id=\"T_d34f718a_afd2_11e9_ba46_3791e66294cerow2_col0\" class=\"data row2 col0\" >9.56%</td>\n",
       "                        <td id=\"T_d34f718a_afd2_11e9_ba46_3791e66294cerow2_col1\" class=\"data row2 col1\" >1,818,201 €</td>\n",
       "                        <td id=\"T_d34f718a_afd2_11e9_ba46_3791e66294cerow2_col2\" class=\"data row2 col2\" >5. Platz</td>\n",
       "                        <td id=\"T_d34f718a_afd2_11e9_ba46_3791e66294cerow2_col3\" class=\"data row2 col3\" ><img src=\"USAMedizinisch-theoretische_Wissenschaften_Pharmazie_Drittmittel.png\", width=250, height=200/></td>\n",
       "            </tr>\n",
       "            <tr>\n",
       "                        <th id=\"T_d34f718a_afd2_11e9_ba46_3791e66294celevel0_row3\" class=\"row_heading level0 row3\" >Informatik</th>\n",
       "                        <td id=\"T_d34f718a_afd2_11e9_ba46_3791e66294cerow3_col0\" class=\"data row3 col0\" >6.40%</td>\n",
       "                        <td id=\"T_d34f718a_afd2_11e9_ba46_3791e66294cerow3_col1\" class=\"data row3 col1\" >1,217,689 €</td>\n",
       "                        <td id=\"T_d34f718a_afd2_11e9_ba46_3791e66294cerow3_col2\" class=\"data row3 col2\" >7. Platz</td>\n",
       "                        <td id=\"T_d34f718a_afd2_11e9_ba46_3791e66294cerow3_col3\" class=\"data row3 col3\" ><img src=\"USAInformatik_Drittmittel.png\", width=250, height=200/></td>\n",
       "            </tr>\n",
       "            <tr>\n",
       "                        <th id=\"T_d34f718a_afd2_11e9_ba46_3791e66294celevel0_row4\" class=\"row_heading level0 row4\" >Physik, Astronomie</th>\n",
       "                        <td id=\"T_d34f718a_afd2_11e9_ba46_3791e66294cerow4_col0\" class=\"data row4 col0\" >5.50%</td>\n",
       "                        <td id=\"T_d34f718a_afd2_11e9_ba46_3791e66294cerow4_col1\" class=\"data row4 col1\" >1,045,673 €</td>\n",
       "                        <td id=\"T_d34f718a_afd2_11e9_ba46_3791e66294cerow4_col2\" class=\"data row4 col2\" >7. Platz</td>\n",
       "                        <td id=\"T_d34f718a_afd2_11e9_ba46_3791e66294cerow4_col3\" class=\"data row4 col3\" ><img src=\"USAPhysik_Astronomie_Drittmittel.png\", width=250, height=200/></td>\n",
       "            </tr>\n",
       "            <tr>\n",
       "                        <th id=\"T_d34f718a_afd2_11e9_ba46_3791e66294celevel0_row5\" class=\"row_heading level0 row5\" >Geschichte, Archäologie</th>\n",
       "                        <td id=\"T_d34f718a_afd2_11e9_ba46_3791e66294cerow5_col0\" class=\"data row5 col0\" >5.15%</td>\n",
       "                        <td id=\"T_d34f718a_afd2_11e9_ba46_3791e66294cerow5_col1\" class=\"data row5 col1\" >979,711 €</td>\n",
       "                        <td id=\"T_d34f718a_afd2_11e9_ba46_3791e66294cerow5_col2\" class=\"data row5 col2\" >4. Platz</td>\n",
       "                        <td id=\"T_d34f718a_afd2_11e9_ba46_3791e66294cerow5_col3\" class=\"data row5 col3\" ><img src=\"USAGeschichte_Archäologie_Drittmittel.png\", width=250, height=200/></td>\n",
       "            </tr>\n",
       "    </tbody></table>"
      ],
      "text/plain": [
       "<IPython.core.display.HTML object>"
      ]
     },
     "metadata": {},
     "output_type": "display_data"
    },
    {
     "data": {
      "text/html": [
       "<h2 style=\"page-break-before: always;\">Universität Wien</h2>"
      ],
      "text/plain": [
       "<IPython.core.display.HTML object>"
      ]
     },
     "metadata": {},
     "output_type": "display_data"
    },
    {
     "data": {
      "text/html": [
       "<h3>Vergleichbare Universitäten in Publikationen- und Drittmittel-Struktur</h3><ul>"
      ],
      "text/plain": [
       "<IPython.core.display.HTML object>"
      ]
     },
     "metadata": {},
     "output_type": "display_data"
    },
    {
     "data": {
      "text/html": [
       "<li style=\"margin-bottom: 5px;\">Universität Graz</li>"
      ],
      "text/plain": [
       "<IPython.core.display.HTML object>"
      ]
     },
     "metadata": {},
     "output_type": "display_data"
    },
    {
     "data": {
      "text/html": [
       "<li style=\"margin-bottom: 5px;\">Universität Salzburg</li>"
      ],
      "text/plain": [
       "<IPython.core.display.HTML object>"
      ]
     },
     "metadata": {},
     "output_type": "display_data"
    },
    {
     "data": {
      "text/html": [
       "<li style=\"margin-bottom: 5px;\">Universität Innsbruck</li>"
      ],
      "text/plain": [
       "<IPython.core.display.HTML object>"
      ]
     },
     "metadata": {},
     "output_type": "display_data"
    },
    {
     "data": {
      "text/html": [
       "</ul>"
      ],
      "text/plain": [
       "<IPython.core.display.HTML object>"
      ]
     },
     "metadata": {},
     "output_type": "display_data"
    },
    {
     "data": {
      "text/html": [
       "<h4>Vergleichbar bei der Publikationen-Struktur</h4>"
      ],
      "text/plain": [
       "<IPython.core.display.HTML object>"
      ]
     },
     "metadata": {},
     "output_type": "display_data"
    },
    {
     "data": {
      "text/html": [
       "<p><strong>Universität Graz</strong> (79.0%, wegen &auml;hnlicher interner Relevanz von Sprach- und Literaturwissenschaften, Rechtswissenschaften, Biologie), <strong>Universität Innsbruck</strong> (73.1%, wegen &auml;hnlicher interner Relevanz von Rechtswissenschaften, Sprach- und Literaturwissenschaften, Biologie), <strong>Universität Salzburg</strong> (69.3%, wegen &auml;hnlicher interner Relevanz von Sprach- und Literaturwissenschaften, Rechtswissenschaften, Philosophie, Ethik, Religion)</p>"
      ],
      "text/plain": [
       "<IPython.core.display.HTML object>"
      ]
     },
     "metadata": {},
     "output_type": "display_data"
    },
    {
     "data": {
      "text/html": [
       "<h4>Vergleichbar bei der Drittmittel-Struktur</h4>"
      ],
      "text/plain": [
       "<IPython.core.display.HTML object>"
      ]
     },
     "metadata": {},
     "output_type": "display_data"
    },
    {
     "data": {
      "text/html": [
       "<p><strong>Universität Graz</strong> (70.6%, wegen &auml;hnlicher interner Relevanz von Biologie, Physik, Astronomie, Sprach- und Literaturwissenschaften), <strong>Universität Salzburg</strong> (63.1%, wegen &auml;hnlicher interner Relevanz von Biologie, Physik, Astronomie, Geschichte, Archäologie), <strong>Universität Innsbruck</strong> (62.7%, wegen &auml;hnlicher interner Relevanz von Physik, Astronomie, Biologie, Chemie)</p>"
      ],
      "text/plain": [
       "<IPython.core.display.HTML object>"
      ]
     },
     "metadata": {},
     "output_type": "display_data"
    },
    {
     "data": {
      "text/html": [
       "<p><small>Universitäten mit einer Ähnlichkeit von weniger als 50% werden nicht angezeigt.</small></p>"
      ],
      "text/plain": [
       "<IPython.core.display.HTML object>"
      ]
     },
     "metadata": {},
     "output_type": "display_data"
    },
    {
     "data": {
      "text/html": [
       "<h3>Publikationen-Struktur der UWI</h3>"
      ],
      "text/plain": [
       "<IPython.core.display.HTML object>"
      ]
     },
     "metadata": {},
     "output_type": "display_data"
    },
    {
     "data": {
      "text/html": [
       "Angezeigt werden WZW, die zusammen 66.7% der Publikationen an der UWI ausmachen. Alle anderen WZW tragen je weniger als 4.1% bei. Die Spalte \"Ranking\" bezieht sich  auf den &ouml;sterreichweiten Vergleich der absoluten Werte pro WZW"
      ],
      "text/plain": [
       "<IPython.core.display.HTML object>"
      ]
     },
     "metadata": {},
     "output_type": "display_data"
    },
    {
     "data": {
      "text/html": [
       "<style  type=\"text/css\" >\n",
       "    #T_d3ba3916_afd2_11e9_ba46_3791e66294cerow0_col0 {\n",
       "            background-color:  green;\n",
       "        }    #T_d3ba3916_afd2_11e9_ba46_3791e66294cerow0_col1 {\n",
       "            background-color:  green;\n",
       "        }    #T_d3ba3916_afd2_11e9_ba46_3791e66294cerow0_col2 {\n",
       "            background-color:  green;\n",
       "        }    #T_d3ba3916_afd2_11e9_ba46_3791e66294cerow0_col3 {\n",
       "            background-color:  green;\n",
       "        }    #T_d3ba3916_afd2_11e9_ba46_3791e66294cerow1_col0 {\n",
       "            background-color:  green;\n",
       "        }    #T_d3ba3916_afd2_11e9_ba46_3791e66294cerow1_col1 {\n",
       "            background-color:  green;\n",
       "        }    #T_d3ba3916_afd2_11e9_ba46_3791e66294cerow1_col2 {\n",
       "            background-color:  green;\n",
       "        }    #T_d3ba3916_afd2_11e9_ba46_3791e66294cerow1_col3 {\n",
       "            background-color:  green;\n",
       "        }    #T_d3ba3916_afd2_11e9_ba46_3791e66294cerow2_col0 {\n",
       "            background-color:  green;\n",
       "        }    #T_d3ba3916_afd2_11e9_ba46_3791e66294cerow2_col1 {\n",
       "            background-color:  green;\n",
       "        }    #T_d3ba3916_afd2_11e9_ba46_3791e66294cerow2_col2 {\n",
       "            background-color:  green;\n",
       "        }    #T_d3ba3916_afd2_11e9_ba46_3791e66294cerow2_col3 {\n",
       "            background-color:  green;\n",
       "        }    #T_d3ba3916_afd2_11e9_ba46_3791e66294cerow3_col0 {\n",
       "            background-color:  yellow;\n",
       "        }    #T_d3ba3916_afd2_11e9_ba46_3791e66294cerow3_col1 {\n",
       "            background-color:  yellow;\n",
       "        }    #T_d3ba3916_afd2_11e9_ba46_3791e66294cerow3_col2 {\n",
       "            background-color:  yellow;\n",
       "        }    #T_d3ba3916_afd2_11e9_ba46_3791e66294cerow3_col3 {\n",
       "            background-color:  yellow;\n",
       "        }    #T_d3ba3916_afd2_11e9_ba46_3791e66294cerow4_col0 {\n",
       "            background-color:  green;\n",
       "        }    #T_d3ba3916_afd2_11e9_ba46_3791e66294cerow4_col1 {\n",
       "            background-color:  green;\n",
       "        }    #T_d3ba3916_afd2_11e9_ba46_3791e66294cerow4_col2 {\n",
       "            background-color:  green;\n",
       "        }    #T_d3ba3916_afd2_11e9_ba46_3791e66294cerow4_col3 {\n",
       "            background-color:  green;\n",
       "        }    #T_d3ba3916_afd2_11e9_ba46_3791e66294cerow5_col0 {\n",
       "            background-color:  green;\n",
       "        }    #T_d3ba3916_afd2_11e9_ba46_3791e66294cerow5_col1 {\n",
       "            background-color:  green;\n",
       "        }    #T_d3ba3916_afd2_11e9_ba46_3791e66294cerow5_col2 {\n",
       "            background-color:  green;\n",
       "        }    #T_d3ba3916_afd2_11e9_ba46_3791e66294cerow5_col3 {\n",
       "            background-color:  green;\n",
       "        }    #T_d3ba3916_afd2_11e9_ba46_3791e66294cerow6_col0 {\n",
       "            background-color:  green;\n",
       "        }    #T_d3ba3916_afd2_11e9_ba46_3791e66294cerow6_col1 {\n",
       "            background-color:  green;\n",
       "        }    #T_d3ba3916_afd2_11e9_ba46_3791e66294cerow6_col2 {\n",
       "            background-color:  green;\n",
       "        }    #T_d3ba3916_afd2_11e9_ba46_3791e66294cerow6_col3 {\n",
       "            background-color:  green;\n",
       "        }    #T_d3ba3916_afd2_11e9_ba46_3791e66294cerow7_col0 {\n",
       "            background-color:  green;\n",
       "        }    #T_d3ba3916_afd2_11e9_ba46_3791e66294cerow7_col1 {\n",
       "            background-color:  green;\n",
       "        }    #T_d3ba3916_afd2_11e9_ba46_3791e66294cerow7_col2 {\n",
       "            background-color:  green;\n",
       "        }    #T_d3ba3916_afd2_11e9_ba46_3791e66294cerow7_col3 {\n",
       "            background-color:  green;\n",
       "        }    #T_d3ba3916_afd2_11e9_ba46_3791e66294cerow8_col0 {\n",
       "            background-color:  yellow;\n",
       "        }    #T_d3ba3916_afd2_11e9_ba46_3791e66294cerow8_col1 {\n",
       "            background-color:  yellow;\n",
       "        }    #T_d3ba3916_afd2_11e9_ba46_3791e66294cerow8_col2 {\n",
       "            background-color:  yellow;\n",
       "        }    #T_d3ba3916_afd2_11e9_ba46_3791e66294cerow8_col3 {\n",
       "            background-color:  yellow;\n",
       "        }</style><table id=\"T_d3ba3916_afd2_11e9_ba46_3791e66294ce\" ><thead>    <tr>        <th class=\"blank level0\" ></th>        <th class=\"col_heading level0 col0\" >Intern</th>        <th class=\"col_heading level0 col1\" >Publikationen</th>        <th class=\"col_heading level0 col2\" >Ranking</th>        <th class=\"col_heading level0 col3\" >Universität im Vergleich</th>    </tr>    <tr>        <th class=\"index_name level0\" >WZW</th>        <th class=\"blank\" ></th>        <th class=\"blank\" ></th>        <th class=\"blank\" ></th>        <th class=\"blank\" ></th>    </tr></thead><tbody>\n",
       "                <tr>\n",
       "                        <th id=\"T_d3ba3916_afd2_11e9_ba46_3791e66294celevel0_row0\" class=\"row_heading level0 row0\" >Philosophie, Ethik, Religion</th>\n",
       "                        <td id=\"T_d3ba3916_afd2_11e9_ba46_3791e66294cerow0_col0\" class=\"data row0 col0\" >11.24%</td>\n",
       "                        <td id=\"T_d3ba3916_afd2_11e9_ba46_3791e66294cerow0_col1\" class=\"data row0 col1\" >877 Publikationen</td>\n",
       "                        <td id=\"T_d3ba3916_afd2_11e9_ba46_3791e66294cerow0_col2\" class=\"data row0 col2\" >1. Platz</td>\n",
       "                        <td id=\"T_d3ba3916_afd2_11e9_ba46_3791e66294cerow0_col3\" class=\"data row0 col3\" ><img src=\"UWIPhilosophie_Ethik_Religion_Publikationen.png\", width=250, height=200/></td>\n",
       "            </tr>\n",
       "            <tr>\n",
       "                        <th id=\"T_d3ba3916_afd2_11e9_ba46_3791e66294celevel0_row1\" class=\"row_heading level0 row1\" >Sprach- und Literaturwissenschaften</th>\n",
       "                        <td id=\"T_d3ba3916_afd2_11e9_ba46_3791e66294cerow1_col0\" class=\"data row1 col0\" >10.12%</td>\n",
       "                        <td id=\"T_d3ba3916_afd2_11e9_ba46_3791e66294cerow1_col1\" class=\"data row1 col1\" >790 Publikationen</td>\n",
       "                        <td id=\"T_d3ba3916_afd2_11e9_ba46_3791e66294cerow1_col2\" class=\"data row1 col2\" >1. Platz</td>\n",
       "                        <td id=\"T_d3ba3916_afd2_11e9_ba46_3791e66294cerow1_col3\" class=\"data row1 col3\" ><img src=\"UWISprach-_und_Literaturwissenschaften_Publikationen.png\", width=250, height=200/></td>\n",
       "            </tr>\n",
       "            <tr>\n",
       "                        <th id=\"T_d3ba3916_afd2_11e9_ba46_3791e66294celevel0_row2\" class=\"row_heading level0 row2\" >Biologie</th>\n",
       "                        <td id=\"T_d3ba3916_afd2_11e9_ba46_3791e66294cerow2_col0\" class=\"data row2 col0\" >9.86%</td>\n",
       "                        <td id=\"T_d3ba3916_afd2_11e9_ba46_3791e66294cerow2_col1\" class=\"data row2 col1\" >769 Publikationen</td>\n",
       "                        <td id=\"T_d3ba3916_afd2_11e9_ba46_3791e66294cerow2_col2\" class=\"data row2 col2\" >1. Platz</td>\n",
       "                        <td id=\"T_d3ba3916_afd2_11e9_ba46_3791e66294cerow2_col3\" class=\"data row2 col3\" ><img src=\"UWIBiologie_Publikationen.png\", width=250, height=200/></td>\n",
       "            </tr>\n",
       "            <tr>\n",
       "                        <th id=\"T_d3ba3916_afd2_11e9_ba46_3791e66294celevel0_row3\" class=\"row_heading level0 row3\" >Rechtswissenschaften</th>\n",
       "                        <td id=\"T_d3ba3916_afd2_11e9_ba46_3791e66294cerow3_col0\" class=\"data row3 col0\" >8.88%</td>\n",
       "                        <td id=\"T_d3ba3916_afd2_11e9_ba46_3791e66294cerow3_col1\" class=\"data row3 col1\" >693 Publikationen</td>\n",
       "                        <td id=\"T_d3ba3916_afd2_11e9_ba46_3791e66294cerow3_col2\" class=\"data row3 col2\" >2. Platz</td>\n",
       "                        <td id=\"T_d3ba3916_afd2_11e9_ba46_3791e66294cerow3_col3\" class=\"data row3 col3\" ><img src=\"UWIRechtswissenschaften_Publikationen.png\", width=250, height=200/></td>\n",
       "            </tr>\n",
       "            <tr>\n",
       "                        <th id=\"T_d3ba3916_afd2_11e9_ba46_3791e66294celevel0_row4\" class=\"row_heading level0 row4\" >Geschichte, Archäologie</th>\n",
       "                        <td id=\"T_d3ba3916_afd2_11e9_ba46_3791e66294cerow4_col0\" class=\"data row4 col0\" >7.10%</td>\n",
       "                        <td id=\"T_d3ba3916_afd2_11e9_ba46_3791e66294cerow4_col1\" class=\"data row4 col1\" >554 Publikationen</td>\n",
       "                        <td id=\"T_d3ba3916_afd2_11e9_ba46_3791e66294cerow4_col2\" class=\"data row4 col2\" >1. Platz</td>\n",
       "                        <td id=\"T_d3ba3916_afd2_11e9_ba46_3791e66294cerow4_col3\" class=\"data row4 col3\" ><img src=\"UWIGeschichte_Archäologie_Publikationen.png\", width=250, height=200/></td>\n",
       "            </tr>\n",
       "            <tr>\n",
       "                        <th id=\"T_d3ba3916_afd2_11e9_ba46_3791e66294celevel0_row5\" class=\"row_heading level0 row5\" >Physik, Astronomie</th>\n",
       "                        <td id=\"T_d3ba3916_afd2_11e9_ba46_3791e66294cerow5_col0\" class=\"data row5 col0\" >6.55%</td>\n",
       "                        <td id=\"T_d3ba3916_afd2_11e9_ba46_3791e66294cerow5_col1\" class=\"data row5 col1\" >511 Publikationen</td>\n",
       "                        <td id=\"T_d3ba3916_afd2_11e9_ba46_3791e66294cerow5_col2\" class=\"data row5 col2\" >1. Platz</td>\n",
       "                        <td id=\"T_d3ba3916_afd2_11e9_ba46_3791e66294cerow5_col3\" class=\"data row5 col3\" ><img src=\"UWIPhysik_Astronomie_Publikationen.png\", width=250, height=200/></td>\n",
       "            </tr>\n",
       "            <tr>\n",
       "                        <th id=\"T_d3ba3916_afd2_11e9_ba46_3791e66294celevel0_row6\" class=\"row_heading level0 row6\" >Geowissenschaften</th>\n",
       "                        <td id=\"T_d3ba3916_afd2_11e9_ba46_3791e66294cerow6_col0\" class=\"data row6 col0\" >4.66%</td>\n",
       "                        <td id=\"T_d3ba3916_afd2_11e9_ba46_3791e66294cerow6_col1\" class=\"data row6 col1\" >364 Publikationen</td>\n",
       "                        <td id=\"T_d3ba3916_afd2_11e9_ba46_3791e66294cerow6_col2\" class=\"data row6 col2\" >1. Platz</td>\n",
       "                        <td id=\"T_d3ba3916_afd2_11e9_ba46_3791e66294cerow6_col3\" class=\"data row6 col3\" ><img src=\"UWIGeowissenschaften_Publikationen.png\", width=250, height=200/></td>\n",
       "            </tr>\n",
       "            <tr>\n",
       "                        <th id=\"T_d3ba3916_afd2_11e9_ba46_3791e66294celevel0_row7\" class=\"row_heading level0 row7\" >Soziologie</th>\n",
       "                        <td id=\"T_d3ba3916_afd2_11e9_ba46_3791e66294cerow7_col0\" class=\"data row7 col0\" >4.15%</td>\n",
       "                        <td id=\"T_d3ba3916_afd2_11e9_ba46_3791e66294cerow7_col1\" class=\"data row7 col1\" >324 Publikationen</td>\n",
       "                        <td id=\"T_d3ba3916_afd2_11e9_ba46_3791e66294cerow7_col2\" class=\"data row7 col2\" >1. Platz</td>\n",
       "                        <td id=\"T_d3ba3916_afd2_11e9_ba46_3791e66294cerow7_col3\" class=\"data row7 col3\" ><img src=\"UWISoziologie_Publikationen.png\", width=250, height=200/></td>\n",
       "            </tr>\n",
       "            <tr>\n",
       "                        <th id=\"T_d3ba3916_afd2_11e9_ba46_3791e66294celevel0_row8\" class=\"row_heading level0 row8\" >Chemie</th>\n",
       "                        <td id=\"T_d3ba3916_afd2_11e9_ba46_3791e66294cerow8_col0\" class=\"data row8 col0\" >4.13%</td>\n",
       "                        <td id=\"T_d3ba3916_afd2_11e9_ba46_3791e66294cerow8_col1\" class=\"data row8 col1\" >322 Publikationen</td>\n",
       "                        <td id=\"T_d3ba3916_afd2_11e9_ba46_3791e66294cerow8_col2\" class=\"data row8 col2\" >2. Platz</td>\n",
       "                        <td id=\"T_d3ba3916_afd2_11e9_ba46_3791e66294cerow8_col3\" class=\"data row8 col3\" ><img src=\"UWIChemie_Publikationen.png\", width=250, height=200/></td>\n",
       "            </tr>\n",
       "    </tbody></table>"
      ],
      "text/plain": [
       "<IPython.core.display.HTML object>"
      ]
     },
     "metadata": {},
     "output_type": "display_data"
    },
    {
     "data": {
      "text/html": [
       "<h3>Drittmittel-Struktur der UWI</h3>"
      ],
      "text/plain": [
       "<IPython.core.display.HTML object>"
      ]
     },
     "metadata": {},
     "output_type": "display_data"
    },
    {
     "data": {
      "text/html": [
       "Angezeigt werden WZW, die zusammen 67.8% der Drittmittel an der UWI ausmachen. Alle anderen WZW tragen je weniger als 4.8% bei. Die Spalte \"Ranking\" bezieht sich  auf den &ouml;sterreichweiten Vergleich der absoluten Werte pro WZW"
      ],
      "text/plain": [
       "<IPython.core.display.HTML object>"
      ]
     },
     "metadata": {},
     "output_type": "display_data"
    },
    {
     "data": {
      "text/html": [
       "<style  type=\"text/css\" >\n",
       "    #T_d422cf30_afd2_11e9_ba46_3791e66294cerow0_col0 {\n",
       "            background-color:  green;\n",
       "        }    #T_d422cf30_afd2_11e9_ba46_3791e66294cerow0_col1 {\n",
       "            background-color:  green;\n",
       "        }    #T_d422cf30_afd2_11e9_ba46_3791e66294cerow0_col2 {\n",
       "            background-color:  green;\n",
       "        }    #T_d422cf30_afd2_11e9_ba46_3791e66294cerow0_col3 {\n",
       "            background-color:  green;\n",
       "        }    #T_d422cf30_afd2_11e9_ba46_3791e66294cerow1_col0 {\n",
       "            background-color:  yellow;\n",
       "        }    #T_d422cf30_afd2_11e9_ba46_3791e66294cerow1_col1 {\n",
       "            background-color:  yellow;\n",
       "        }    #T_d422cf30_afd2_11e9_ba46_3791e66294cerow1_col2 {\n",
       "            background-color:  yellow;\n",
       "        }    #T_d422cf30_afd2_11e9_ba46_3791e66294cerow1_col3 {\n",
       "            background-color:  yellow;\n",
       "        }    #T_d422cf30_afd2_11e9_ba46_3791e66294cerow2_col0 {\n",
       "            background-color:  green;\n",
       "        }    #T_d422cf30_afd2_11e9_ba46_3791e66294cerow2_col1 {\n",
       "            background-color:  green;\n",
       "        }    #T_d422cf30_afd2_11e9_ba46_3791e66294cerow2_col2 {\n",
       "            background-color:  green;\n",
       "        }    #T_d422cf30_afd2_11e9_ba46_3791e66294cerow2_col3 {\n",
       "            background-color:  green;\n",
       "        }    #T_d422cf30_afd2_11e9_ba46_3791e66294cerow3_col0 {\n",
       "            background-color:  green;\n",
       "        }    #T_d422cf30_afd2_11e9_ba46_3791e66294cerow3_col1 {\n",
       "            background-color:  green;\n",
       "        }    #T_d422cf30_afd2_11e9_ba46_3791e66294cerow3_col2 {\n",
       "            background-color:  green;\n",
       "        }    #T_d422cf30_afd2_11e9_ba46_3791e66294cerow3_col3 {\n",
       "            background-color:  green;\n",
       "        }    #T_d422cf30_afd2_11e9_ba46_3791e66294cerow4_col0 {\n",
       "            background-color:  yellow;\n",
       "        }    #T_d422cf30_afd2_11e9_ba46_3791e66294cerow4_col1 {\n",
       "            background-color:  yellow;\n",
       "        }    #T_d422cf30_afd2_11e9_ba46_3791e66294cerow4_col2 {\n",
       "            background-color:  yellow;\n",
       "        }    #T_d422cf30_afd2_11e9_ba46_3791e66294cerow4_col3 {\n",
       "            background-color:  yellow;\n",
       "        }    #T_d422cf30_afd2_11e9_ba46_3791e66294cerow5_col0 {\n",
       "            background-color:  green;\n",
       "        }    #T_d422cf30_afd2_11e9_ba46_3791e66294cerow5_col1 {\n",
       "            background-color:  green;\n",
       "        }    #T_d422cf30_afd2_11e9_ba46_3791e66294cerow5_col2 {\n",
       "            background-color:  green;\n",
       "        }    #T_d422cf30_afd2_11e9_ba46_3791e66294cerow5_col3 {\n",
       "            background-color:  green;\n",
       "        }    #T_d422cf30_afd2_11e9_ba46_3791e66294cerow6_col0 {\n",
       "            background-color:  green;\n",
       "        }    #T_d422cf30_afd2_11e9_ba46_3791e66294cerow6_col1 {\n",
       "            background-color:  green;\n",
       "        }    #T_d422cf30_afd2_11e9_ba46_3791e66294cerow6_col2 {\n",
       "            background-color:  green;\n",
       "        }    #T_d422cf30_afd2_11e9_ba46_3791e66294cerow6_col3 {\n",
       "            background-color:  green;\n",
       "        }</style><table id=\"T_d422cf30_afd2_11e9_ba46_3791e66294ce\" ><thead>    <tr>        <th class=\"blank level0\" ></th>        <th class=\"col_heading level0 col0\" >Intern</th>        <th class=\"col_heading level0 col1\" >Drittmittel</th>        <th class=\"col_heading level0 col2\" >Ranking</th>        <th class=\"col_heading level0 col3\" >Universität im Vergleich</th>    </tr>    <tr>        <th class=\"index_name level0\" >WZW</th>        <th class=\"blank\" ></th>        <th class=\"blank\" ></th>        <th class=\"blank\" ></th>        <th class=\"blank\" ></th>    </tr></thead><tbody>\n",
       "                <tr>\n",
       "                        <th id=\"T_d422cf30_afd2_11e9_ba46_3791e66294celevel0_row0\" class=\"row_heading level0 row0\" >Biologie</th>\n",
       "                        <td id=\"T_d422cf30_afd2_11e9_ba46_3791e66294cerow0_col0\" class=\"data row0 col0\" >20.03%</td>\n",
       "                        <td id=\"T_d422cf30_afd2_11e9_ba46_3791e66294cerow0_col1\" class=\"data row0 col1\" >17,041,180 €</td>\n",
       "                        <td id=\"T_d422cf30_afd2_11e9_ba46_3791e66294cerow0_col2\" class=\"data row0 col2\" >1. Platz</td>\n",
       "                        <td id=\"T_d422cf30_afd2_11e9_ba46_3791e66294cerow0_col3\" class=\"data row0 col3\" ><img src=\"UWIBiologie_Drittmittel.png\", width=250, height=200/></td>\n",
       "            </tr>\n",
       "            <tr>\n",
       "                        <th id=\"T_d422cf30_afd2_11e9_ba46_3791e66294celevel0_row1\" class=\"row_heading level0 row1\" >Physik, Astronomie</th>\n",
       "                        <td id=\"T_d422cf30_afd2_11e9_ba46_3791e66294cerow1_col0\" class=\"data row1 col0\" >15.28%</td>\n",
       "                        <td id=\"T_d422cf30_afd2_11e9_ba46_3791e66294cerow1_col1\" class=\"data row1 col1\" >13,000,586 €</td>\n",
       "                        <td id=\"T_d422cf30_afd2_11e9_ba46_3791e66294cerow1_col2\" class=\"data row1 col2\" >2. Platz</td>\n",
       "                        <td id=\"T_d422cf30_afd2_11e9_ba46_3791e66294cerow1_col3\" class=\"data row1 col3\" ><img src=\"UWIPhysik_Astronomie_Drittmittel.png\", width=250, height=200/></td>\n",
       "            </tr>\n",
       "            <tr>\n",
       "                        <th id=\"T_d422cf30_afd2_11e9_ba46_3791e66294celevel0_row2\" class=\"row_heading level0 row2\" >Mathematik</th>\n",
       "                        <td id=\"T_d422cf30_afd2_11e9_ba46_3791e66294cerow2_col0\" class=\"data row2 col0\" >9.83%</td>\n",
       "                        <td id=\"T_d422cf30_afd2_11e9_ba46_3791e66294cerow2_col1\" class=\"data row2 col1\" >8,360,365 €</td>\n",
       "                        <td id=\"T_d422cf30_afd2_11e9_ba46_3791e66294cerow2_col2\" class=\"data row2 col2\" >1. Platz</td>\n",
       "                        <td id=\"T_d422cf30_afd2_11e9_ba46_3791e66294cerow2_col3\" class=\"data row2 col3\" ><img src=\"UWIMathematik_Drittmittel.png\", width=250, height=200/></td>\n",
       "            </tr>\n",
       "            <tr>\n",
       "                        <th id=\"T_d422cf30_afd2_11e9_ba46_3791e66294celevel0_row3\" class=\"row_heading level0 row3\" >Sprach- und Literaturwissenschaften</th>\n",
       "                        <td id=\"T_d422cf30_afd2_11e9_ba46_3791e66294cerow3_col0\" class=\"data row3 col0\" >6.35%</td>\n",
       "                        <td id=\"T_d422cf30_afd2_11e9_ba46_3791e66294cerow3_col1\" class=\"data row3 col1\" >5,403,993 €</td>\n",
       "                        <td id=\"T_d422cf30_afd2_11e9_ba46_3791e66294cerow3_col2\" class=\"data row3 col2\" >1. Platz</td>\n",
       "                        <td id=\"T_d422cf30_afd2_11e9_ba46_3791e66294cerow3_col3\" class=\"data row3 col3\" ><img src=\"UWISprach-_und_Literaturwissenschaften_Drittmittel.png\", width=250, height=200/></td>\n",
       "            </tr>\n",
       "            <tr>\n",
       "                        <th id=\"T_d422cf30_afd2_11e9_ba46_3791e66294celevel0_row4\" class=\"row_heading level0 row4\" >Chemie</th>\n",
       "                        <td id=\"T_d422cf30_afd2_11e9_ba46_3791e66294cerow4_col0\" class=\"data row4 col0\" >5.99%</td>\n",
       "                        <td id=\"T_d422cf30_afd2_11e9_ba46_3791e66294cerow4_col1\" class=\"data row4 col1\" >5,093,619 €</td>\n",
       "                        <td id=\"T_d422cf30_afd2_11e9_ba46_3791e66294cerow4_col2\" class=\"data row4 col2\" >3. Platz</td>\n",
       "                        <td id=\"T_d422cf30_afd2_11e9_ba46_3791e66294cerow4_col3\" class=\"data row4 col3\" ><img src=\"UWIChemie_Drittmittel.png\", width=250, height=200/></td>\n",
       "            </tr>\n",
       "            <tr>\n",
       "                        <th id=\"T_d422cf30_afd2_11e9_ba46_3791e66294celevel0_row5\" class=\"row_heading level0 row5\" >Soziologie</th>\n",
       "                        <td id=\"T_d422cf30_afd2_11e9_ba46_3791e66294cerow5_col0\" class=\"data row5 col0\" >5.53%</td>\n",
       "                        <td id=\"T_d422cf30_afd2_11e9_ba46_3791e66294cerow5_col1\" class=\"data row5 col1\" >4,702,192 €</td>\n",
       "                        <td id=\"T_d422cf30_afd2_11e9_ba46_3791e66294cerow5_col2\" class=\"data row5 col2\" >1. Platz</td>\n",
       "                        <td id=\"T_d422cf30_afd2_11e9_ba46_3791e66294cerow5_col3\" class=\"data row5 col3\" ><img src=\"UWISoziologie_Drittmittel.png\", width=250, height=200/></td>\n",
       "            </tr>\n",
       "            <tr>\n",
       "                        <th id=\"T_d422cf30_afd2_11e9_ba46_3791e66294celevel0_row6\" class=\"row_heading level0 row6\" >Geschichte, Archäologie</th>\n",
       "                        <td id=\"T_d422cf30_afd2_11e9_ba46_3791e66294cerow6_col0\" class=\"data row6 col0\" >4.75%</td>\n",
       "                        <td id=\"T_d422cf30_afd2_11e9_ba46_3791e66294cerow6_col1\" class=\"data row6 col1\" >4,042,891 €</td>\n",
       "                        <td id=\"T_d422cf30_afd2_11e9_ba46_3791e66294cerow6_col2\" class=\"data row6 col2\" >1. Platz</td>\n",
       "                        <td id=\"T_d422cf30_afd2_11e9_ba46_3791e66294cerow6_col3\" class=\"data row6 col3\" ><img src=\"UWIGeschichte_Archäologie_Drittmittel.png\", width=250, height=200/></td>\n",
       "            </tr>\n",
       "    </tbody></table>"
      ],
      "text/plain": [
       "<IPython.core.display.HTML object>"
      ]
     },
     "metadata": {},
     "output_type": "display_data"
    },
    {
     "data": {
      "text/html": [
       "<h2 style=\"page-break-before: always;\">Universität für Bodenkultur Wien</h2>"
      ],
      "text/plain": [
       "<IPython.core.display.HTML object>"
      ]
     },
     "metadata": {},
     "output_type": "display_data"
    },
    {
     "data": {
      "text/html": [
       "<h3>Vergleichbare Universitäten in Publikationen- und Drittmittel-Struktur</h3><ul>"
      ],
      "text/plain": [
       "<IPython.core.display.HTML object>"
      ]
     },
     "metadata": {},
     "output_type": "display_data"
    },
    {
     "data": {
      "text/html": [
       "<li><strong>Keine.</strong> Die Universität für Bodenkultur Wien ist stark spezialisiert.</li>"
      ],
      "text/plain": [
       "<IPython.core.display.HTML object>"
      ]
     },
     "metadata": {},
     "output_type": "display_data"
    },
    {
     "data": {
      "text/html": [
       "</ul>"
      ],
      "text/plain": [
       "<IPython.core.display.HTML object>"
      ]
     },
     "metadata": {},
     "output_type": "display_data"
    },
    {
     "data": {
      "text/html": [
       "<h4>Vergleichbar bei der Publikationen-Struktur</h4>"
      ],
      "text/plain": [
       "<IPython.core.display.HTML object>"
      ]
     },
     "metadata": {},
     "output_type": "display_data"
    },
    {
     "data": {
      "text/html": [
       "<p>Die Universität für Bodenkultur Wien ist im Bereich Publikationen spezialisiert.<br/><strong>Keine</strong> andere Universität ähnelt der Universität für Bodenkultur Wien in der Publikationen-Struktur in auffälliger Weise.</p>"
      ],
      "text/plain": [
       "<IPython.core.display.HTML object>"
      ]
     },
     "metadata": {},
     "output_type": "display_data"
    },
    {
     "data": {
      "text/html": [
       "<h4>Vergleichbar bei der Drittmittel-Struktur</h4>"
      ],
      "text/plain": [
       "<IPython.core.display.HTML object>"
      ]
     },
     "metadata": {},
     "output_type": "display_data"
    },
    {
     "data": {
      "text/html": [
       "<p>Die Universität für Bodenkultur Wien ist im Bereich Drittmittel spezialisiert.<br/><strong>Keine</strong> andere Universität ähnelt der Universität für Bodenkultur Wien in der Drittmittel-Struktur in auffälliger Weise.</p>"
      ],
      "text/plain": [
       "<IPython.core.display.HTML object>"
      ]
     },
     "metadata": {},
     "output_type": "display_data"
    },
    {
     "data": {
      "text/html": [
       "<p><small>Universitäten mit einer Ähnlichkeit von weniger als 50% werden nicht angezeigt.</small></p>"
      ],
      "text/plain": [
       "<IPython.core.display.HTML object>"
      ]
     },
     "metadata": {},
     "output_type": "display_data"
    },
    {
     "data": {
      "text/html": [
       "<h3>Publikationen-Struktur der BKW</h3>"
      ],
      "text/plain": [
       "<IPython.core.display.HTML object>"
      ]
     },
     "metadata": {},
     "output_type": "display_data"
    },
    {
     "data": {
      "text/html": [
       "Angezeigt werden WZW, die zusammen 69.3% der Publikationen an der BKW ausmachen. Alle anderen WZW tragen je weniger als 4.6% bei. Die Spalte \"Ranking\" bezieht sich  auf den &ouml;sterreichweiten Vergleich der absoluten Werte pro WZW"
      ],
      "text/plain": [
       "<IPython.core.display.HTML object>"
      ]
     },
     "metadata": {},
     "output_type": "display_data"
    },
    {
     "data": {
      "text/html": [
       "<style  type=\"text/css\" >\n",
       "    #T_d483af76_afd2_11e9_ba46_3791e66294cerow0_col0 {\n",
       "            background-color:  yellow;\n",
       "        }    #T_d483af76_afd2_11e9_ba46_3791e66294cerow0_col1 {\n",
       "            background-color:  yellow;\n",
       "        }    #T_d483af76_afd2_11e9_ba46_3791e66294cerow0_col2 {\n",
       "            background-color:  yellow;\n",
       "        }    #T_d483af76_afd2_11e9_ba46_3791e66294cerow0_col3 {\n",
       "            background-color:  yellow;\n",
       "        }    #T_d483af76_afd2_11e9_ba46_3791e66294cerow1_col0 {\n",
       "            background-color:  green;\n",
       "        }    #T_d483af76_afd2_11e9_ba46_3791e66294cerow1_col1 {\n",
       "            background-color:  green;\n",
       "        }    #T_d483af76_afd2_11e9_ba46_3791e66294cerow1_col2 {\n",
       "            background-color:  green;\n",
       "        }    #T_d483af76_afd2_11e9_ba46_3791e66294cerow1_col3 {\n",
       "            background-color:  green;\n",
       "        }    #T_d483af76_afd2_11e9_ba46_3791e66294cerow2_col0 {\n",
       "            background-color:  yellow;\n",
       "        }    #T_d483af76_afd2_11e9_ba46_3791e66294cerow2_col1 {\n",
       "            background-color:  yellow;\n",
       "        }    #T_d483af76_afd2_11e9_ba46_3791e66294cerow2_col2 {\n",
       "            background-color:  yellow;\n",
       "        }    #T_d483af76_afd2_11e9_ba46_3791e66294cerow2_col3 {\n",
       "            background-color:  yellow;\n",
       "        }    #T_d483af76_afd2_11e9_ba46_3791e66294cerow3_col0 {\n",
       "            background-color:  yellow;\n",
       "        }    #T_d483af76_afd2_11e9_ba46_3791e66294cerow3_col1 {\n",
       "            background-color:  yellow;\n",
       "        }    #T_d483af76_afd2_11e9_ba46_3791e66294cerow3_col2 {\n",
       "            background-color:  yellow;\n",
       "        }    #T_d483af76_afd2_11e9_ba46_3791e66294cerow3_col3 {\n",
       "            background-color:  yellow;\n",
       "        }    #T_d483af76_afd2_11e9_ba46_3791e66294cerow4_col0 {\n",
       "            background-color:  green;\n",
       "        }    #T_d483af76_afd2_11e9_ba46_3791e66294cerow4_col1 {\n",
       "            background-color:  green;\n",
       "        }    #T_d483af76_afd2_11e9_ba46_3791e66294cerow4_col2 {\n",
       "            background-color:  green;\n",
       "        }    #T_d483af76_afd2_11e9_ba46_3791e66294cerow4_col3 {\n",
       "            background-color:  green;\n",
       "        }    #T_d483af76_afd2_11e9_ba46_3791e66294cerow5_col0 {\n",
       "            background-color:  green;\n",
       "        }    #T_d483af76_afd2_11e9_ba46_3791e66294cerow5_col1 {\n",
       "            background-color:  green;\n",
       "        }    #T_d483af76_afd2_11e9_ba46_3791e66294cerow5_col2 {\n",
       "            background-color:  green;\n",
       "        }    #T_d483af76_afd2_11e9_ba46_3791e66294cerow5_col3 {\n",
       "            background-color:  green;\n",
       "        }    #T_d483af76_afd2_11e9_ba46_3791e66294cerow6_col0 {\n",
       "            background-color:  white;\n",
       "        }    #T_d483af76_afd2_11e9_ba46_3791e66294cerow6_col1 {\n",
       "            background-color:  white;\n",
       "        }    #T_d483af76_afd2_11e9_ba46_3791e66294cerow6_col2 {\n",
       "            background-color:  white;\n",
       "        }    #T_d483af76_afd2_11e9_ba46_3791e66294cerow6_col3 {\n",
       "            background-color:  white;\n",
       "        }    #T_d483af76_afd2_11e9_ba46_3791e66294cerow7_col0 {\n",
       "            background-color:  yellow;\n",
       "        }    #T_d483af76_afd2_11e9_ba46_3791e66294cerow7_col1 {\n",
       "            background-color:  yellow;\n",
       "        }    #T_d483af76_afd2_11e9_ba46_3791e66294cerow7_col2 {\n",
       "            background-color:  yellow;\n",
       "        }    #T_d483af76_afd2_11e9_ba46_3791e66294cerow7_col3 {\n",
       "            background-color:  yellow;\n",
       "        }</style><table id=\"T_d483af76_afd2_11e9_ba46_3791e66294ce\" ><thead>    <tr>        <th class=\"blank level0\" ></th>        <th class=\"col_heading level0 col0\" >Intern</th>        <th class=\"col_heading level0 col1\" >Publikationen</th>        <th class=\"col_heading level0 col2\" >Ranking</th>        <th class=\"col_heading level0 col3\" >Universität im Vergleich</th>    </tr>    <tr>        <th class=\"index_name level0\" >WZW</th>        <th class=\"blank\" ></th>        <th class=\"blank\" ></th>        <th class=\"blank\" ></th>        <th class=\"blank\" ></th>    </tr></thead><tbody>\n",
       "                <tr>\n",
       "                        <th id=\"T_d483af76_afd2_11e9_ba46_3791e66294celevel0_row0\" class=\"row_heading level0 row0\" >Biologie</th>\n",
       "                        <td id=\"T_d483af76_afd2_11e9_ba46_3791e66294cerow0_col0\" class=\"data row0 col0\" >14.83%</td>\n",
       "                        <td id=\"T_d483af76_afd2_11e9_ba46_3791e66294cerow0_col1\" class=\"data row0 col1\" >425 Publikationen</td>\n",
       "                        <td id=\"T_d483af76_afd2_11e9_ba46_3791e66294cerow0_col2\" class=\"data row0 col2\" >2. Platz</td>\n",
       "                        <td id=\"T_d483af76_afd2_11e9_ba46_3791e66294cerow0_col3\" class=\"data row0 col3\" ><img src=\"BKWBiologie_Publikationen.png\", width=250, height=200/></td>\n",
       "            </tr>\n",
       "            <tr>\n",
       "                        <th id=\"T_d483af76_afd2_11e9_ba46_3791e66294celevel0_row1\" class=\"row_heading level0 row1\" >Land- und Forstwirtschaft, Fischerei</th>\n",
       "                        <td id=\"T_d483af76_afd2_11e9_ba46_3791e66294cerow1_col0\" class=\"data row1 col0\" >12.98%</td>\n",
       "                        <td id=\"T_d483af76_afd2_11e9_ba46_3791e66294cerow1_col1\" class=\"data row1 col1\" >372 Publikationen</td>\n",
       "                        <td id=\"T_d483af76_afd2_11e9_ba46_3791e66294cerow1_col2\" class=\"data row1 col2\" >1. Platz</td>\n",
       "                        <td id=\"T_d483af76_afd2_11e9_ba46_3791e66294cerow1_col3\" class=\"data row1 col3\" ><img src=\"BKWLand-_und_Forstwirtschaft_Fischerei_Publikationen.png\", width=250, height=200/></td>\n",
       "            </tr>\n",
       "            <tr>\n",
       "                        <th id=\"T_d483af76_afd2_11e9_ba46_3791e66294celevel0_row2\" class=\"row_heading level0 row2\" >Chemie</th>\n",
       "                        <td id=\"T_d483af76_afd2_11e9_ba46_3791e66294cerow2_col0\" class=\"data row2 col0\" >9.32%</td>\n",
       "                        <td id=\"T_d483af76_afd2_11e9_ba46_3791e66294cerow2_col1\" class=\"data row2 col1\" >267 Publikationen</td>\n",
       "                        <td id=\"T_d483af76_afd2_11e9_ba46_3791e66294cerow2_col2\" class=\"data row2 col2\" >3. Platz</td>\n",
       "                        <td id=\"T_d483af76_afd2_11e9_ba46_3791e66294cerow2_col3\" class=\"data row2 col3\" ><img src=\"BKWChemie_Publikationen.png\", width=250, height=200/></td>\n",
       "            </tr>\n",
       "            <tr>\n",
       "                        <th id=\"T_d483af76_afd2_11e9_ba46_3791e66294celevel0_row3\" class=\"row_heading level0 row3\" >Geowissenschaften</th>\n",
       "                        <td id=\"T_d483af76_afd2_11e9_ba46_3791e66294cerow3_col0\" class=\"data row3 col0\" >8.13%</td>\n",
       "                        <td id=\"T_d483af76_afd2_11e9_ba46_3791e66294cerow3_col1\" class=\"data row3 col1\" >233 Publikationen</td>\n",
       "                        <td id=\"T_d483af76_afd2_11e9_ba46_3791e66294cerow3_col2\" class=\"data row3 col2\" >2. Platz</td>\n",
       "                        <td id=\"T_d483af76_afd2_11e9_ba46_3791e66294cerow3_col3\" class=\"data row3 col3\" ><img src=\"BKWGeowissenschaften_Publikationen.png\", width=250, height=200/></td>\n",
       "            </tr>\n",
       "            <tr>\n",
       "                        <th id=\"T_d483af76_afd2_11e9_ba46_3791e66294celevel0_row4\" class=\"row_heading level0 row4\" >Andere Agrarwissenschaften</th>\n",
       "                        <td id=\"T_d483af76_afd2_11e9_ba46_3791e66294cerow4_col0\" class=\"data row4 col0\" >7.89%</td>\n",
       "                        <td id=\"T_d483af76_afd2_11e9_ba46_3791e66294cerow4_col1\" class=\"data row4 col1\" >226 Publikationen</td>\n",
       "                        <td id=\"T_d483af76_afd2_11e9_ba46_3791e66294cerow4_col2\" class=\"data row4 col2\" >1. Platz</td>\n",
       "                        <td id=\"T_d483af76_afd2_11e9_ba46_3791e66294cerow4_col3\" class=\"data row4 col3\" ><img src=\"BKWAndere_Agrarwissenschaften_Publikationen.png\", width=250, height=200/></td>\n",
       "            </tr>\n",
       "            <tr>\n",
       "                        <th id=\"T_d483af76_afd2_11e9_ba46_3791e66294celevel0_row5\" class=\"row_heading level0 row5\" >Andere Naturwissenschaften</th>\n",
       "                        <td id=\"T_d483af76_afd2_11e9_ba46_3791e66294cerow5_col0\" class=\"data row5 col0\" >6.42%</td>\n",
       "                        <td id=\"T_d483af76_afd2_11e9_ba46_3791e66294cerow5_col1\" class=\"data row5 col1\" >184 Publikationen</td>\n",
       "                        <td id=\"T_d483af76_afd2_11e9_ba46_3791e66294cerow5_col2\" class=\"data row5 col2\" >1. Platz</td>\n",
       "                        <td id=\"T_d483af76_afd2_11e9_ba46_3791e66294cerow5_col3\" class=\"data row5 col3\" ><img src=\"BKWAndere_Naturwissenschaften_Publikationen.png\", width=250, height=200/></td>\n",
       "            </tr>\n",
       "            <tr>\n",
       "                        <th id=\"T_d483af76_afd2_11e9_ba46_3791e66294celevel0_row6\" class=\"row_heading level0 row6\" >Bauwesen</th>\n",
       "                        <td id=\"T_d483af76_afd2_11e9_ba46_3791e66294cerow6_col0\" class=\"data row6 col0\" >5.06%</td>\n",
       "                        <td id=\"T_d483af76_afd2_11e9_ba46_3791e66294cerow6_col1\" class=\"data row6 col1\" >145 Publikationen</td>\n",
       "                        <td id=\"T_d483af76_afd2_11e9_ba46_3791e66294cerow6_col2\" class=\"data row6 col2\" >4. Platz</td>\n",
       "                        <td id=\"T_d483af76_afd2_11e9_ba46_3791e66294cerow6_col3\" class=\"data row6 col3\" ><img src=\"BKWBauwesen_Publikationen.png\", width=250, height=200/></td>\n",
       "            </tr>\n",
       "            <tr>\n",
       "                        <th id=\"T_d483af76_afd2_11e9_ba46_3791e66294celevel0_row7\" class=\"row_heading level0 row7\" >Andere Technische Wissenschaften</th>\n",
       "                        <td id=\"T_d483af76_afd2_11e9_ba46_3791e66294cerow7_col0\" class=\"data row7 col0\" >4.64%</td>\n",
       "                        <td id=\"T_d483af76_afd2_11e9_ba46_3791e66294cerow7_col1\" class=\"data row7 col1\" >133 Publikationen</td>\n",
       "                        <td id=\"T_d483af76_afd2_11e9_ba46_3791e66294cerow7_col2\" class=\"data row7 col2\" >2. Platz</td>\n",
       "                        <td id=\"T_d483af76_afd2_11e9_ba46_3791e66294cerow7_col3\" class=\"data row7 col3\" ><img src=\"BKWAndere_Technische_Wissenschaften_Publikationen.png\", width=250, height=200/></td>\n",
       "            </tr>\n",
       "    </tbody></table>"
      ],
      "text/plain": [
       "<IPython.core.display.HTML object>"
      ]
     },
     "metadata": {},
     "output_type": "display_data"
    },
    {
     "data": {
      "text/html": [
       "<h3>Drittmittel-Struktur der BKW</h3>"
      ],
      "text/plain": [
       "<IPython.core.display.HTML object>"
      ]
     },
     "metadata": {},
     "output_type": "display_data"
    },
    {
     "data": {
      "text/html": [
       "Angezeigt werden WZW, die zusammen 67.0% der Drittmittel an der BKW ausmachen. Alle anderen WZW tragen je weniger als 3.7% bei. Die Spalte \"Ranking\" bezieht sich  auf den &ouml;sterreichweiten Vergleich der absoluten Werte pro WZW"
      ],
      "text/plain": [
       "<IPython.core.display.HTML object>"
      ]
     },
     "metadata": {},
     "output_type": "display_data"
    },
    {
     "data": {
      "text/html": [
       "<style  type=\"text/css\" >\n",
       "    #T_d4e8d89c_afd2_11e9_ba46_3791e66294cerow0_col0 {\n",
       "            background-color:  yellow;\n",
       "        }    #T_d4e8d89c_afd2_11e9_ba46_3791e66294cerow0_col1 {\n",
       "            background-color:  yellow;\n",
       "        }    #T_d4e8d89c_afd2_11e9_ba46_3791e66294cerow0_col2 {\n",
       "            background-color:  yellow;\n",
       "        }    #T_d4e8d89c_afd2_11e9_ba46_3791e66294cerow0_col3 {\n",
       "            background-color:  yellow;\n",
       "        }    #T_d4e8d89c_afd2_11e9_ba46_3791e66294cerow1_col0 {\n",
       "            background-color:  green;\n",
       "        }    #T_d4e8d89c_afd2_11e9_ba46_3791e66294cerow1_col1 {\n",
       "            background-color:  green;\n",
       "        }    #T_d4e8d89c_afd2_11e9_ba46_3791e66294cerow1_col2 {\n",
       "            background-color:  green;\n",
       "        }    #T_d4e8d89c_afd2_11e9_ba46_3791e66294cerow1_col3 {\n",
       "            background-color:  green;\n",
       "        }    #T_d4e8d89c_afd2_11e9_ba46_3791e66294cerow2_col0 {\n",
       "            background-color:  white;\n",
       "        }    #T_d4e8d89c_afd2_11e9_ba46_3791e66294cerow2_col1 {\n",
       "            background-color:  white;\n",
       "        }    #T_d4e8d89c_afd2_11e9_ba46_3791e66294cerow2_col2 {\n",
       "            background-color:  white;\n",
       "        }    #T_d4e8d89c_afd2_11e9_ba46_3791e66294cerow2_col3 {\n",
       "            background-color:  white;\n",
       "        }    #T_d4e8d89c_afd2_11e9_ba46_3791e66294cerow3_col0 {\n",
       "            background-color:  white;\n",
       "        }    #T_d4e8d89c_afd2_11e9_ba46_3791e66294cerow3_col1 {\n",
       "            background-color:  white;\n",
       "        }    #T_d4e8d89c_afd2_11e9_ba46_3791e66294cerow3_col2 {\n",
       "            background-color:  white;\n",
       "        }    #T_d4e8d89c_afd2_11e9_ba46_3791e66294cerow3_col3 {\n",
       "            background-color:  white;\n",
       "        }    #T_d4e8d89c_afd2_11e9_ba46_3791e66294cerow4_col0 {\n",
       "            background-color:  yellow;\n",
       "        }    #T_d4e8d89c_afd2_11e9_ba46_3791e66294cerow4_col1 {\n",
       "            background-color:  yellow;\n",
       "        }    #T_d4e8d89c_afd2_11e9_ba46_3791e66294cerow4_col2 {\n",
       "            background-color:  yellow;\n",
       "        }    #T_d4e8d89c_afd2_11e9_ba46_3791e66294cerow4_col3 {\n",
       "            background-color:  yellow;\n",
       "        }    #T_d4e8d89c_afd2_11e9_ba46_3791e66294cerow5_col0 {\n",
       "            background-color:  white;\n",
       "        }    #T_d4e8d89c_afd2_11e9_ba46_3791e66294cerow5_col1 {\n",
       "            background-color:  white;\n",
       "        }    #T_d4e8d89c_afd2_11e9_ba46_3791e66294cerow5_col2 {\n",
       "            background-color:  white;\n",
       "        }    #T_d4e8d89c_afd2_11e9_ba46_3791e66294cerow5_col3 {\n",
       "            background-color:  white;\n",
       "        }    #T_d4e8d89c_afd2_11e9_ba46_3791e66294cerow6_col0 {\n",
       "            background-color:  white;\n",
       "        }    #T_d4e8d89c_afd2_11e9_ba46_3791e66294cerow6_col1 {\n",
       "            background-color:  white;\n",
       "        }    #T_d4e8d89c_afd2_11e9_ba46_3791e66294cerow6_col2 {\n",
       "            background-color:  white;\n",
       "        }    #T_d4e8d89c_afd2_11e9_ba46_3791e66294cerow6_col3 {\n",
       "            background-color:  white;\n",
       "        }    #T_d4e8d89c_afd2_11e9_ba46_3791e66294cerow7_col0 {\n",
       "            background-color:  yellow;\n",
       "        }    #T_d4e8d89c_afd2_11e9_ba46_3791e66294cerow7_col1 {\n",
       "            background-color:  yellow;\n",
       "        }    #T_d4e8d89c_afd2_11e9_ba46_3791e66294cerow7_col2 {\n",
       "            background-color:  yellow;\n",
       "        }    #T_d4e8d89c_afd2_11e9_ba46_3791e66294cerow7_col3 {\n",
       "            background-color:  yellow;\n",
       "        }    #T_d4e8d89c_afd2_11e9_ba46_3791e66294cerow8_col0 {\n",
       "            background-color:  green;\n",
       "        }    #T_d4e8d89c_afd2_11e9_ba46_3791e66294cerow8_col1 {\n",
       "            background-color:  green;\n",
       "        }    #T_d4e8d89c_afd2_11e9_ba46_3791e66294cerow8_col2 {\n",
       "            background-color:  green;\n",
       "        }    #T_d4e8d89c_afd2_11e9_ba46_3791e66294cerow8_col3 {\n",
       "            background-color:  green;\n",
       "        }</style><table id=\"T_d4e8d89c_afd2_11e9_ba46_3791e66294ce\" ><thead>    <tr>        <th class=\"blank level0\" ></th>        <th class=\"col_heading level0 col0\" >Intern</th>        <th class=\"col_heading level0 col1\" >Drittmittel</th>        <th class=\"col_heading level0 col2\" >Ranking</th>        <th class=\"col_heading level0 col3\" >Universität im Vergleich</th>    </tr>    <tr>        <th class=\"index_name level0\" >WZW</th>        <th class=\"blank\" ></th>        <th class=\"blank\" ></th>        <th class=\"blank\" ></th>        <th class=\"blank\" ></th>    </tr></thead><tbody>\n",
       "                <tr>\n",
       "                        <th id=\"T_d4e8d89c_afd2_11e9_ba46_3791e66294celevel0_row0\" class=\"row_heading level0 row0\" >Biologie</th>\n",
       "                        <td id=\"T_d4e8d89c_afd2_11e9_ba46_3791e66294cerow0_col0\" class=\"data row0 col0\" >18.36%</td>\n",
       "                        <td id=\"T_d4e8d89c_afd2_11e9_ba46_3791e66294cerow0_col1\" class=\"data row0 col1\" >8,808,459 €</td>\n",
       "                        <td id=\"T_d4e8d89c_afd2_11e9_ba46_3791e66294cerow0_col2\" class=\"data row0 col2\" >2. Platz</td>\n",
       "                        <td id=\"T_d4e8d89c_afd2_11e9_ba46_3791e66294cerow0_col3\" class=\"data row0 col3\" ><img src=\"BKWBiologie_Drittmittel.png\", width=250, height=200/></td>\n",
       "            </tr>\n",
       "            <tr>\n",
       "                        <th id=\"T_d4e8d89c_afd2_11e9_ba46_3791e66294celevel0_row1\" class=\"row_heading level0 row1\" >Land- und Forstwirtschaft, Fischerei</th>\n",
       "                        <td id=\"T_d4e8d89c_afd2_11e9_ba46_3791e66294cerow1_col0\" class=\"data row1 col0\" >9.75%</td>\n",
       "                        <td id=\"T_d4e8d89c_afd2_11e9_ba46_3791e66294cerow1_col1\" class=\"data row1 col1\" >4,675,750 €</td>\n",
       "                        <td id=\"T_d4e8d89c_afd2_11e9_ba46_3791e66294cerow1_col2\" class=\"data row1 col2\" >1. Platz</td>\n",
       "                        <td id=\"T_d4e8d89c_afd2_11e9_ba46_3791e66294cerow1_col3\" class=\"data row1 col3\" ><img src=\"BKWLand-_und_Forstwirtschaft_Fischerei_Drittmittel.png\", width=250, height=200/></td>\n",
       "            </tr>\n",
       "            <tr>\n",
       "                        <th id=\"T_d4e8d89c_afd2_11e9_ba46_3791e66294celevel0_row2\" class=\"row_heading level0 row2\" >Chemie</th>\n",
       "                        <td id=\"T_d4e8d89c_afd2_11e9_ba46_3791e66294cerow2_col0\" class=\"data row2 col0\" >8.13%</td>\n",
       "                        <td id=\"T_d4e8d89c_afd2_11e9_ba46_3791e66294cerow2_col1\" class=\"data row2 col1\" >3,899,748 €</td>\n",
       "                        <td id=\"T_d4e8d89c_afd2_11e9_ba46_3791e66294cerow2_col2\" class=\"data row2 col2\" >5. Platz</td>\n",
       "                        <td id=\"T_d4e8d89c_afd2_11e9_ba46_3791e66294cerow2_col3\" class=\"data row2 col3\" ><img src=\"BKWChemie_Drittmittel.png\", width=250, height=200/></td>\n",
       "            </tr>\n",
       "            <tr>\n",
       "                        <th id=\"T_d4e8d89c_afd2_11e9_ba46_3791e66294celevel0_row3\" class=\"row_heading level0 row3\" >Geowissenschaften</th>\n",
       "                        <td id=\"T_d4e8d89c_afd2_11e9_ba46_3791e66294cerow3_col0\" class=\"data row3 col0\" >6.37%</td>\n",
       "                        <td id=\"T_d4e8d89c_afd2_11e9_ba46_3791e66294cerow3_col1\" class=\"data row3 col1\" >3,053,634 €</td>\n",
       "                        <td id=\"T_d4e8d89c_afd2_11e9_ba46_3791e66294cerow3_col2\" class=\"data row3 col2\" >4. Platz</td>\n",
       "                        <td id=\"T_d4e8d89c_afd2_11e9_ba46_3791e66294cerow3_col3\" class=\"data row3 col3\" ><img src=\"BKWGeowissenschaften_Drittmittel.png\", width=250, height=200/></td>\n",
       "            </tr>\n",
       "            <tr>\n",
       "                        <th id=\"T_d4e8d89c_afd2_11e9_ba46_3791e66294celevel0_row4\" class=\"row_heading level0 row4\" >Andere Naturwissenschaften</th>\n",
       "                        <td id=\"T_d4e8d89c_afd2_11e9_ba46_3791e66294cerow4_col0\" class=\"data row4 col0\" >6.33%</td>\n",
       "                        <td id=\"T_d4e8d89c_afd2_11e9_ba46_3791e66294cerow4_col1\" class=\"data row4 col1\" >3,037,641 €</td>\n",
       "                        <td id=\"T_d4e8d89c_afd2_11e9_ba46_3791e66294cerow4_col2\" class=\"data row4 col2\" >2. Platz</td>\n",
       "                        <td id=\"T_d4e8d89c_afd2_11e9_ba46_3791e66294cerow4_col3\" class=\"data row4 col3\" ><img src=\"BKWAndere_Naturwissenschaften_Drittmittel.png\", width=250, height=200/></td>\n",
       "            </tr>\n",
       "            <tr>\n",
       "                        <th id=\"T_d4e8d89c_afd2_11e9_ba46_3791e66294celevel0_row5\" class=\"row_heading level0 row5\" >Andere Technische Wissenschaften</th>\n",
       "                        <td id=\"T_d4e8d89c_afd2_11e9_ba46_3791e66294cerow5_col0\" class=\"data row5 col0\" >5.16%</td>\n",
       "                        <td id=\"T_d4e8d89c_afd2_11e9_ba46_3791e66294cerow5_col1\" class=\"data row5 col1\" >2,476,417 €</td>\n",
       "                        <td id=\"T_d4e8d89c_afd2_11e9_ba46_3791e66294cerow5_col2\" class=\"data row5 col2\" >4. Platz</td>\n",
       "                        <td id=\"T_d4e8d89c_afd2_11e9_ba46_3791e66294cerow5_col3\" class=\"data row5 col3\" ><img src=\"BKWAndere_Technische_Wissenschaften_Drittmittel.png\", width=250, height=200/></td>\n",
       "            </tr>\n",
       "            <tr>\n",
       "                        <th id=\"T_d4e8d89c_afd2_11e9_ba46_3791e66294celevel0_row6\" class=\"row_heading level0 row6\" >Bauwesen</th>\n",
       "                        <td id=\"T_d4e8d89c_afd2_11e9_ba46_3791e66294cerow6_col0\" class=\"data row6 col0\" >5.14%</td>\n",
       "                        <td id=\"T_d4e8d89c_afd2_11e9_ba46_3791e66294cerow6_col1\" class=\"data row6 col1\" >2,463,564 €</td>\n",
       "                        <td id=\"T_d4e8d89c_afd2_11e9_ba46_3791e66294cerow6_col2\" class=\"data row6 col2\" >5. Platz</td>\n",
       "                        <td id=\"T_d4e8d89c_afd2_11e9_ba46_3791e66294cerow6_col3\" class=\"data row6 col3\" ><img src=\"BKWBauwesen_Drittmittel.png\", width=250, height=200/></td>\n",
       "            </tr>\n",
       "            <tr>\n",
       "                        <th id=\"T_d4e8d89c_afd2_11e9_ba46_3791e66294celevel0_row7\" class=\"row_heading level0 row7\" >Umweltingenieurwesen, Angewandte Geowissenschaften</th>\n",
       "                        <td id=\"T_d4e8d89c_afd2_11e9_ba46_3791e66294cerow7_col0\" class=\"data row7 col0\" >4.07%</td>\n",
       "                        <td id=\"T_d4e8d89c_afd2_11e9_ba46_3791e66294cerow7_col1\" class=\"data row7 col1\" >1,950,922 €</td>\n",
       "                        <td id=\"T_d4e8d89c_afd2_11e9_ba46_3791e66294cerow7_col2\" class=\"data row7 col2\" >3. Platz</td>\n",
       "                        <td id=\"T_d4e8d89c_afd2_11e9_ba46_3791e66294cerow7_col3\" class=\"data row7 col3\" ><img src=\"BKWUmweltingenieurwesen_Angewandte_Geowissenschaften_Drittmittel.png\", width=250, height=200/></td>\n",
       "            </tr>\n",
       "            <tr>\n",
       "                        <th id=\"T_d4e8d89c_afd2_11e9_ba46_3791e66294celevel0_row8\" class=\"row_heading level0 row8\" >Industrielle Biotechnologie</th>\n",
       "                        <td id=\"T_d4e8d89c_afd2_11e9_ba46_3791e66294cerow8_col0\" class=\"data row8 col0\" >3.70%</td>\n",
       "                        <td id=\"T_d4e8d89c_afd2_11e9_ba46_3791e66294cerow8_col1\" class=\"data row8 col1\" >1,776,987 €</td>\n",
       "                        <td id=\"T_d4e8d89c_afd2_11e9_ba46_3791e66294cerow8_col2\" class=\"data row8 col2\" >1. Platz</td>\n",
       "                        <td id=\"T_d4e8d89c_afd2_11e9_ba46_3791e66294cerow8_col3\" class=\"data row8 col3\" ><img src=\"BKWIndustrielle_Biotechnologie_Drittmittel.png\", width=250, height=200/></td>\n",
       "            </tr>\n",
       "    </tbody></table>"
      ],
      "text/plain": [
       "<IPython.core.display.HTML object>"
      ]
     },
     "metadata": {},
     "output_type": "display_data"
    },
    {
     "data": {
      "text/html": [
       "<h2 style=\"page-break-before: always;\">Universität für Musik und darstellende Kunst Graz</h2>"
      ],
      "text/plain": [
       "<IPython.core.display.HTML object>"
      ]
     },
     "metadata": {},
     "output_type": "display_data"
    },
    {
     "data": {
      "text/html": [
       "<h3>Vergleichbare Universitäten in Publikationen- und Drittmittel-Struktur</h3><ul>"
      ],
      "text/plain": [
       "<IPython.core.display.HTML object>"
      ]
     },
     "metadata": {},
     "output_type": "display_data"
    },
    {
     "data": {
      "text/html": [
       "<li><strong>Keine.</strong> Die Universität für Musik und darstellende Kunst Graz ist stark spezialisiert.</li>"
      ],
      "text/plain": [
       "<IPython.core.display.HTML object>"
      ]
     },
     "metadata": {},
     "output_type": "display_data"
    },
    {
     "data": {
      "text/html": [
       "</ul>"
      ],
      "text/plain": [
       "<IPython.core.display.HTML object>"
      ]
     },
     "metadata": {},
     "output_type": "display_data"
    },
    {
     "data": {
      "text/html": [
       "<h4>Vergleichbar bei der Publikationen-Struktur</h4>"
      ],
      "text/plain": [
       "<IPython.core.display.HTML object>"
      ]
     },
     "metadata": {},
     "output_type": "display_data"
    },
    {
     "data": {
      "text/html": [
       "<p><strong>Universität für Musik und darstellende Kunst Wien</strong> (50.6%, wegen &auml;hnlicher interner Relevanz von Kunstwissenschaften, Interpretation - instrumental, Komposition)</p>"
      ],
      "text/plain": [
       "<IPython.core.display.HTML object>"
      ]
     },
     "metadata": {},
     "output_type": "display_data"
    },
    {
     "data": {
      "text/html": [
       "<h4>Vergleichbar bei der Drittmittel-Struktur</h4>"
      ],
      "text/plain": [
       "<IPython.core.display.HTML object>"
      ]
     },
     "metadata": {},
     "output_type": "display_data"
    },
    {
     "data": {
      "text/html": [
       "<p>Die Universität für Musik und darstellende Kunst Graz ist im Bereich Drittmittel spezialisiert.<br/><strong>Keine</strong> andere Universität ähnelt der Universität für Musik und darstellende Kunst Graz in der Drittmittel-Struktur in auffälliger Weise.</p>"
      ],
      "text/plain": [
       "<IPython.core.display.HTML object>"
      ]
     },
     "metadata": {},
     "output_type": "display_data"
    },
    {
     "data": {
      "text/html": [
       "<p><small>Universitäten mit einer Ähnlichkeit von weniger als 50% werden nicht angezeigt.</small></p>"
      ],
      "text/plain": [
       "<IPython.core.display.HTML object>"
      ]
     },
     "metadata": {},
     "output_type": "display_data"
    },
    {
     "data": {
      "text/html": [
       "<h3>Publikationen-Struktur der MKG</h3>"
      ],
      "text/plain": [
       "<IPython.core.display.HTML object>"
      ]
     },
     "metadata": {},
     "output_type": "display_data"
    },
    {
     "data": {
      "text/html": [
       "Angezeigt werden WZW, die zusammen 67.4% der Publikationen an der MKG ausmachen. Alle anderen WZW tragen je weniger als 6.5% bei. Die Spalte \"Ranking\" bezieht sich  auf den &ouml;sterreichweiten Vergleich der absoluten Werte pro WZW"
      ],
      "text/plain": [
       "<IPython.core.display.HTML object>"
      ]
     },
     "metadata": {},
     "output_type": "display_data"
    },
    {
     "data": {
      "text/html": [
       "<style  type=\"text/css\" >\n",
       "    #T_d52ed6e4_afd2_11e9_ba46_3791e66294cerow0_col0 {\n",
       "            background-color:  white;\n",
       "        }    #T_d52ed6e4_afd2_11e9_ba46_3791e66294cerow0_col1 {\n",
       "            background-color:  white;\n",
       "        }    #T_d52ed6e4_afd2_11e9_ba46_3791e66294cerow0_col2 {\n",
       "            background-color:  white;\n",
       "        }    #T_d52ed6e4_afd2_11e9_ba46_3791e66294cerow0_col3 {\n",
       "            background-color:  white;\n",
       "        }    #T_d52ed6e4_afd2_11e9_ba46_3791e66294cerow1_col0 {\n",
       "            background-color:  white;\n",
       "        }    #T_d52ed6e4_afd2_11e9_ba46_3791e66294cerow1_col1 {\n",
       "            background-color:  white;\n",
       "        }    #T_d52ed6e4_afd2_11e9_ba46_3791e66294cerow1_col2 {\n",
       "            background-color:  white;\n",
       "        }    #T_d52ed6e4_afd2_11e9_ba46_3791e66294cerow1_col3 {\n",
       "            background-color:  white;\n",
       "        }    #T_d52ed6e4_afd2_11e9_ba46_3791e66294cerow2_col0 {\n",
       "            background-color:  white;\n",
       "        }    #T_d52ed6e4_afd2_11e9_ba46_3791e66294cerow2_col1 {\n",
       "            background-color:  white;\n",
       "        }    #T_d52ed6e4_afd2_11e9_ba46_3791e66294cerow2_col2 {\n",
       "            background-color:  white;\n",
       "        }    #T_d52ed6e4_afd2_11e9_ba46_3791e66294cerow2_col3 {\n",
       "            background-color:  white;\n",
       "        }    #T_d52ed6e4_afd2_11e9_ba46_3791e66294cerow3_col0 {\n",
       "            background-color:  yellow;\n",
       "        }    #T_d52ed6e4_afd2_11e9_ba46_3791e66294cerow3_col1 {\n",
       "            background-color:  yellow;\n",
       "        }    #T_d52ed6e4_afd2_11e9_ba46_3791e66294cerow3_col2 {\n",
       "            background-color:  yellow;\n",
       "        }    #T_d52ed6e4_afd2_11e9_ba46_3791e66294cerow3_col3 {\n",
       "            background-color:  yellow;\n",
       "        }    #T_d52ed6e4_afd2_11e9_ba46_3791e66294cerow4_col0 {\n",
       "            background-color:  green;\n",
       "        }    #T_d52ed6e4_afd2_11e9_ba46_3791e66294cerow4_col1 {\n",
       "            background-color:  green;\n",
       "        }    #T_d52ed6e4_afd2_11e9_ba46_3791e66294cerow4_col2 {\n",
       "            background-color:  green;\n",
       "        }    #T_d52ed6e4_afd2_11e9_ba46_3791e66294cerow4_col3 {\n",
       "            background-color:  green;\n",
       "        }</style><table id=\"T_d52ed6e4_afd2_11e9_ba46_3791e66294ce\" ><thead>    <tr>        <th class=\"blank level0\" ></th>        <th class=\"col_heading level0 col0\" >Intern</th>        <th class=\"col_heading level0 col1\" >Publikationen</th>        <th class=\"col_heading level0 col2\" >Ranking</th>        <th class=\"col_heading level0 col3\" >Universität im Vergleich</th>    </tr>    <tr>        <th class=\"index_name level0\" >WZW</th>        <th class=\"blank\" ></th>        <th class=\"blank\" ></th>        <th class=\"blank\" ></th>        <th class=\"blank\" ></th>    </tr></thead><tbody>\n",
       "                <tr>\n",
       "                        <th id=\"T_d52ed6e4_afd2_11e9_ba46_3791e66294celevel0_row0\" class=\"row_heading level0 row0\" >Kunstwissenschaften</th>\n",
       "                        <td id=\"T_d52ed6e4_afd2_11e9_ba46_3791e66294cerow0_col0\" class=\"data row0 col0\" >31.16%</td>\n",
       "                        <td id=\"T_d52ed6e4_afd2_11e9_ba46_3791e66294cerow0_col1\" class=\"data row0 col1\" >43 Publikationen</td>\n",
       "                        <td id=\"T_d52ed6e4_afd2_11e9_ba46_3791e66294cerow0_col2\" class=\"data row0 col2\" >7. Platz</td>\n",
       "                        <td id=\"T_d52ed6e4_afd2_11e9_ba46_3791e66294cerow0_col3\" class=\"data row0 col3\" ><img src=\"MKGKunstwissenschaften_Publikationen.png\", width=250, height=200/></td>\n",
       "            </tr>\n",
       "            <tr>\n",
       "                        <th id=\"T_d52ed6e4_afd2_11e9_ba46_3791e66294celevel0_row1\" class=\"row_heading level0 row1\" >Philosophie, Ethik, Religion</th>\n",
       "                        <td id=\"T_d52ed6e4_afd2_11e9_ba46_3791e66294cerow1_col0\" class=\"data row1 col0\" >10.87%</td>\n",
       "                        <td id=\"T_d52ed6e4_afd2_11e9_ba46_3791e66294cerow1_col1\" class=\"data row1 col1\" >15 Publikationen</td>\n",
       "                        <td id=\"T_d52ed6e4_afd2_11e9_ba46_3791e66294cerow1_col2\" class=\"data row1 col2\" >9. Platz</td>\n",
       "                        <td id=\"T_d52ed6e4_afd2_11e9_ba46_3791e66294cerow1_col3\" class=\"data row1 col3\" ><img src=\"MKGPhilosophie_Ethik_Religion_Publikationen.png\", width=250, height=200/></td>\n",
       "            </tr>\n",
       "            <tr>\n",
       "                        <th id=\"T_d52ed6e4_afd2_11e9_ba46_3791e66294celevel0_row2\" class=\"row_heading level0 row2\" >Physik, Astronomie</th>\n",
       "                        <td id=\"T_d52ed6e4_afd2_11e9_ba46_3791e66294cerow2_col0\" class=\"data row2 col0\" >10.87%</td>\n",
       "                        <td id=\"T_d52ed6e4_afd2_11e9_ba46_3791e66294cerow2_col1\" class=\"data row2 col1\" >15 Publikationen</td>\n",
       "                        <td id=\"T_d52ed6e4_afd2_11e9_ba46_3791e66294cerow2_col2\" class=\"data row2 col2\" >9. Platz</td>\n",
       "                        <td id=\"T_d52ed6e4_afd2_11e9_ba46_3791e66294cerow2_col3\" class=\"data row2 col3\" ><img src=\"MKGPhysik_Astronomie_Publikationen.png\", width=250, height=200/></td>\n",
       "            </tr>\n",
       "            <tr>\n",
       "                        <th id=\"T_d52ed6e4_afd2_11e9_ba46_3791e66294celevel0_row3\" class=\"row_heading level0 row3\" >Interpretation - instrumental</th>\n",
       "                        <td id=\"T_d52ed6e4_afd2_11e9_ba46_3791e66294cerow3_col0\" class=\"data row3 col0\" >7.97%</td>\n",
       "                        <td id=\"T_d52ed6e4_afd2_11e9_ba46_3791e66294cerow3_col1\" class=\"data row3 col1\" >11 Publikationen</td>\n",
       "                        <td id=\"T_d52ed6e4_afd2_11e9_ba46_3791e66294cerow3_col2\" class=\"data row3 col2\" >3. Platz</td>\n",
       "                        <td id=\"T_d52ed6e4_afd2_11e9_ba46_3791e66294cerow3_col3\" class=\"data row3 col3\" ><img src=\"MKGInterpretation_-_instrumental_Publikationen.png\", width=250, height=200/></td>\n",
       "            </tr>\n",
       "            <tr>\n",
       "                        <th id=\"T_d52ed6e4_afd2_11e9_ba46_3791e66294celevel0_row4\" class=\"row_heading level0 row4\" >Jazz/Improvisation</th>\n",
       "                        <td id=\"T_d52ed6e4_afd2_11e9_ba46_3791e66294cerow4_col0\" class=\"data row4 col0\" >6.52%</td>\n",
       "                        <td id=\"T_d52ed6e4_afd2_11e9_ba46_3791e66294cerow4_col1\" class=\"data row4 col1\" >9 Publikationen</td>\n",
       "                        <td id=\"T_d52ed6e4_afd2_11e9_ba46_3791e66294cerow4_col2\" class=\"data row4 col2\" >1. Platz</td>\n",
       "                        <td id=\"T_d52ed6e4_afd2_11e9_ba46_3791e66294cerow4_col3\" class=\"data row4 col3\" ><img src=\"MKGJazzImprovisation_Publikationen.png\", width=250, height=200/></td>\n",
       "            </tr>\n",
       "    </tbody></table>"
      ],
      "text/plain": [
       "<IPython.core.display.HTML object>"
      ]
     },
     "metadata": {},
     "output_type": "display_data"
    },
    {
     "data": {
      "text/html": [
       "<h3>Drittmittel-Struktur der MKG</h3>"
      ],
      "text/plain": [
       "<IPython.core.display.HTML object>"
      ]
     },
     "metadata": {},
     "output_type": "display_data"
    },
    {
     "data": {
      "text/html": [
       "Angezeigt werden WZW, die zusammen 76.8% der Drittmittel an der MKG ausmachen. Alle anderen WZW tragen je weniger als 11.1% bei. Die Spalte \"Ranking\" bezieht sich  auf den &ouml;sterreichweiten Vergleich der absoluten Werte pro WZW"
      ],
      "text/plain": [
       "<IPython.core.display.HTML object>"
      ]
     },
     "metadata": {},
     "output_type": "display_data"
    },
    {
     "data": {
      "text/html": [
       "<style  type=\"text/css\" >\n",
       "    #T_d570f664_afd2_11e9_ba46_3791e66294cerow0_col0 {\n",
       "            background-color:  white;\n",
       "        }    #T_d570f664_afd2_11e9_ba46_3791e66294cerow0_col1 {\n",
       "            background-color:  white;\n",
       "        }    #T_d570f664_afd2_11e9_ba46_3791e66294cerow0_col2 {\n",
       "            background-color:  white;\n",
       "        }    #T_d570f664_afd2_11e9_ba46_3791e66294cerow0_col3 {\n",
       "            background-color:  white;\n",
       "        }    #T_d570f664_afd2_11e9_ba46_3791e66294cerow1_col0 {\n",
       "            background-color:  green;\n",
       "        }    #T_d570f664_afd2_11e9_ba46_3791e66294cerow1_col1 {\n",
       "            background-color:  green;\n",
       "        }    #T_d570f664_afd2_11e9_ba46_3791e66294cerow1_col2 {\n",
       "            background-color:  green;\n",
       "        }    #T_d570f664_afd2_11e9_ba46_3791e66294cerow1_col3 {\n",
       "            background-color:  green;\n",
       "        }    #T_d570f664_afd2_11e9_ba46_3791e66294cerow2_col0 {\n",
       "            background-color:  white;\n",
       "        }    #T_d570f664_afd2_11e9_ba46_3791e66294cerow2_col1 {\n",
       "            background-color:  white;\n",
       "        }    #T_d570f664_afd2_11e9_ba46_3791e66294cerow2_col2 {\n",
       "            background-color:  white;\n",
       "        }    #T_d570f664_afd2_11e9_ba46_3791e66294cerow2_col3 {\n",
       "            background-color:  white;\n",
       "        }    #T_d570f664_afd2_11e9_ba46_3791e66294cerow3_col0 {\n",
       "            background-color:  white;\n",
       "        }    #T_d570f664_afd2_11e9_ba46_3791e66294cerow3_col1 {\n",
       "            background-color:  white;\n",
       "        }    #T_d570f664_afd2_11e9_ba46_3791e66294cerow3_col2 {\n",
       "            background-color:  white;\n",
       "        }    #T_d570f664_afd2_11e9_ba46_3791e66294cerow3_col3 {\n",
       "            background-color:  white;\n",
       "        }    #T_d570f664_afd2_11e9_ba46_3791e66294cerow4_col0 {\n",
       "            background-color:  yellow;\n",
       "        }    #T_d570f664_afd2_11e9_ba46_3791e66294cerow4_col1 {\n",
       "            background-color:  yellow;\n",
       "        }    #T_d570f664_afd2_11e9_ba46_3791e66294cerow4_col2 {\n",
       "            background-color:  yellow;\n",
       "        }    #T_d570f664_afd2_11e9_ba46_3791e66294cerow4_col3 {\n",
       "            background-color:  yellow;\n",
       "        }</style><table id=\"T_d570f664_afd2_11e9_ba46_3791e66294ce\" ><thead>    <tr>        <th class=\"blank level0\" ></th>        <th class=\"col_heading level0 col0\" >Intern</th>        <th class=\"col_heading level0 col1\" >Drittmittel</th>        <th class=\"col_heading level0 col2\" >Ranking</th>        <th class=\"col_heading level0 col3\" >Universität im Vergleich</th>    </tr>    <tr>        <th class=\"index_name level0\" >WZW</th>        <th class=\"blank\" ></th>        <th class=\"blank\" ></th>        <th class=\"blank\" ></th>        <th class=\"blank\" ></th>    </tr></thead><tbody>\n",
       "                <tr>\n",
       "                        <th id=\"T_d570f664_afd2_11e9_ba46_3791e66294celevel0_row0\" class=\"row_heading level0 row0\" >Kunstwissenschaften</th>\n",
       "                        <td id=\"T_d570f664_afd2_11e9_ba46_3791e66294cerow0_col0\" class=\"data row0 col0\" >20.89%</td>\n",
       "                        <td id=\"T_d570f664_afd2_11e9_ba46_3791e66294cerow0_col1\" class=\"data row0 col1\" >300,808 €</td>\n",
       "                        <td id=\"T_d570f664_afd2_11e9_ba46_3791e66294cerow0_col2\" class=\"data row0 col2\" >7. Platz</td>\n",
       "                        <td id=\"T_d570f664_afd2_11e9_ba46_3791e66294cerow0_col3\" class=\"data row0 col3\" ><img src=\"MKGKunstwissenschaften_Drittmittel.png\", width=250, height=200/></td>\n",
       "            </tr>\n",
       "            <tr>\n",
       "                        <th id=\"T_d570f664_afd2_11e9_ba46_3791e66294celevel0_row1\" class=\"row_heading level0 row1\" >Computermusik</th>\n",
       "                        <td id=\"T_d570f664_afd2_11e9_ba46_3791e66294cerow1_col0\" class=\"data row1 col0\" >20.41%</td>\n",
       "                        <td id=\"T_d570f664_afd2_11e9_ba46_3791e66294cerow1_col1\" class=\"data row1 col1\" >293,888 €</td>\n",
       "                        <td id=\"T_d570f664_afd2_11e9_ba46_3791e66294cerow1_col2\" class=\"data row1 col2\" >1. Platz</td>\n",
       "                        <td id=\"T_d570f664_afd2_11e9_ba46_3791e66294cerow1_col3\" class=\"data row1 col3\" ><img src=\"MKGComputermusik_Drittmittel.png\", width=250, height=200/></td>\n",
       "            </tr>\n",
       "            <tr>\n",
       "                        <th id=\"T_d570f664_afd2_11e9_ba46_3791e66294celevel0_row2\" class=\"row_heading level0 row2\" >Elektrotechnik, Elektronik, Informationstechnik</th>\n",
       "                        <td id=\"T_d570f664_afd2_11e9_ba46_3791e66294cerow2_col0\" class=\"data row2 col0\" >13.10%</td>\n",
       "                        <td id=\"T_d570f664_afd2_11e9_ba46_3791e66294cerow2_col1\" class=\"data row2 col1\" >188,632 €</td>\n",
       "                        <td id=\"T_d570f664_afd2_11e9_ba46_3791e66294cerow2_col2\" class=\"data row2 col2\" >7. Platz</td>\n",
       "                        <td id=\"T_d570f664_afd2_11e9_ba46_3791e66294cerow2_col3\" class=\"data row2 col3\" ><img src=\"MKGElektrotechnik_Elektronik_Informationstechnik_Drittmittel.png\", width=250, height=200/></td>\n",
       "            </tr>\n",
       "            <tr>\n",
       "                        <th id=\"T_d570f664_afd2_11e9_ba46_3791e66294celevel0_row3\" class=\"row_heading level0 row3\" >Physik, Astronomie</th>\n",
       "                        <td id=\"T_d570f664_afd2_11e9_ba46_3791e66294cerow3_col0\" class=\"data row3 col0\" >11.30%</td>\n",
       "                        <td id=\"T_d570f664_afd2_11e9_ba46_3791e66294cerow3_col1\" class=\"data row3 col1\" >162,715 €</td>\n",
       "                        <td id=\"T_d570f664_afd2_11e9_ba46_3791e66294cerow3_col2\" class=\"data row3 col2\" >11. Platz</td>\n",
       "                        <td id=\"T_d570f664_afd2_11e9_ba46_3791e66294cerow3_col3\" class=\"data row3 col3\" ><img src=\"MKGPhysik_Astronomie_Drittmittel.png\", width=250, height=200/></td>\n",
       "            </tr>\n",
       "            <tr>\n",
       "                        <th id=\"T_d570f664_afd2_11e9_ba46_3791e66294celevel0_row4\" class=\"row_heading level0 row4\" >Nicht bekannt/nicht zuordenbar</th>\n",
       "                        <td id=\"T_d570f664_afd2_11e9_ba46_3791e66294cerow4_col0\" class=\"data row4 col0\" >11.11%</td>\n",
       "                        <td id=\"T_d570f664_afd2_11e9_ba46_3791e66294cerow4_col1\" class=\"data row4 col1\" >159,981 €</td>\n",
       "                        <td id=\"T_d570f664_afd2_11e9_ba46_3791e66294cerow4_col2\" class=\"data row4 col2\" >2. Platz</td>\n",
       "                        <td id=\"T_d570f664_afd2_11e9_ba46_3791e66294cerow4_col3\" class=\"data row4 col3\" ><img src=\"MKGNicht_bekanntnicht_zuordenbar_Drittmittel.png\", width=250, height=200/></td>\n",
       "            </tr>\n",
       "    </tbody></table>"
      ],
      "text/plain": [
       "<IPython.core.display.HTML object>"
      ]
     },
     "metadata": {},
     "output_type": "display_data"
    },
    {
     "data": {
      "text/html": [
       "<h2 style=\"page-break-before: always;\">Universität für Musik und darstellende Kunst Wien</h2>"
      ],
      "text/plain": [
       "<IPython.core.display.HTML object>"
      ]
     },
     "metadata": {},
     "output_type": "display_data"
    },
    {
     "data": {
      "text/html": [
       "<h3>Vergleichbare Universitäten in Publikationen- und Drittmittel-Struktur</h3><ul>"
      ],
      "text/plain": [
       "<IPython.core.display.HTML object>"
      ]
     },
     "metadata": {},
     "output_type": "display_data"
    },
    {
     "data": {
      "text/html": [
       "<li><strong>Keine.</strong> Die Universität für Musik und darstellende Kunst Wien ist stark spezialisiert.</li>"
      ],
      "text/plain": [
       "<IPython.core.display.HTML object>"
      ]
     },
     "metadata": {},
     "output_type": "display_data"
    },
    {
     "data": {
      "text/html": [
       "</ul>"
      ],
      "text/plain": [
       "<IPython.core.display.HTML object>"
      ]
     },
     "metadata": {},
     "output_type": "display_data"
    },
    {
     "data": {
      "text/html": [
       "<h4>Vergleichbar bei der Publikationen-Struktur</h4>"
      ],
      "text/plain": [
       "<IPython.core.display.HTML object>"
      ]
     },
     "metadata": {},
     "output_type": "display_data"
    },
    {
     "data": {
      "text/html": [
       "<p><strong>Universität für Musik und darstellende Kunst Graz</strong> (50.6%, wegen &auml;hnlicher interner Relevanz von Kunstwissenschaften, Interpretation - instrumental, Komposition)</p>"
      ],
      "text/plain": [
       "<IPython.core.display.HTML object>"
      ]
     },
     "metadata": {},
     "output_type": "display_data"
    },
    {
     "data": {
      "text/html": [
       "<h4>Vergleichbar bei der Drittmittel-Struktur</h4>"
      ],
      "text/plain": [
       "<IPython.core.display.HTML object>"
      ]
     },
     "metadata": {},
     "output_type": "display_data"
    },
    {
     "data": {
      "text/html": [
       "<p>Die Universität für Musik und darstellende Kunst Wien ist im Bereich Drittmittel spezialisiert.<br/><strong>Keine</strong> andere Universität ähnelt der Universität für Musik und darstellende Kunst Wien in der Drittmittel-Struktur in auffälliger Weise.</p>"
      ],
      "text/plain": [
       "<IPython.core.display.HTML object>"
      ]
     },
     "metadata": {},
     "output_type": "display_data"
    },
    {
     "data": {
      "text/html": [
       "<p><small>Universitäten mit einer Ähnlichkeit von weniger als 50% werden nicht angezeigt.</small></p>"
      ],
      "text/plain": [
       "<IPython.core.display.HTML object>"
      ]
     },
     "metadata": {},
     "output_type": "display_data"
    },
    {
     "data": {
      "text/html": [
       "<h3>Publikationen-Struktur der MKW</h3>"
      ],
      "text/plain": [
       "<IPython.core.display.HTML object>"
      ]
     },
     "metadata": {},
     "output_type": "display_data"
    },
    {
     "data": {
      "text/html": [
       "Angezeigt werden WZW, die zusammen 71.0% der Publikationen an der MKW ausmachen. Alle anderen WZW tragen je weniger als 5.7% bei. Die Spalte \"Ranking\" bezieht sich  auf den &ouml;sterreichweiten Vergleich der absoluten Werte pro WZW"
      ],
      "text/plain": [
       "<IPython.core.display.HTML object>"
      ]
     },
     "metadata": {},
     "output_type": "display_data"
    },
    {
     "data": {
      "text/html": [
       "<style  type=\"text/css\" >\n",
       "    #T_d5b171ee_afd2_11e9_ba46_3791e66294cerow0_col0 {\n",
       "            background-color:  white;\n",
       "        }    #T_d5b171ee_afd2_11e9_ba46_3791e66294cerow0_col1 {\n",
       "            background-color:  white;\n",
       "        }    #T_d5b171ee_afd2_11e9_ba46_3791e66294cerow0_col2 {\n",
       "            background-color:  white;\n",
       "        }    #T_d5b171ee_afd2_11e9_ba46_3791e66294cerow0_col3 {\n",
       "            background-color:  white;\n",
       "        }    #T_d5b171ee_afd2_11e9_ba46_3791e66294cerow1_col0 {\n",
       "            background-color:  yellow;\n",
       "        }    #T_d5b171ee_afd2_11e9_ba46_3791e66294cerow1_col1 {\n",
       "            background-color:  yellow;\n",
       "        }    #T_d5b171ee_afd2_11e9_ba46_3791e66294cerow1_col2 {\n",
       "            background-color:  yellow;\n",
       "        }    #T_d5b171ee_afd2_11e9_ba46_3791e66294cerow1_col3 {\n",
       "            background-color:  yellow;\n",
       "        }    #T_d5b171ee_afd2_11e9_ba46_3791e66294cerow2_col0 {\n",
       "            background-color:  yellow;\n",
       "        }    #T_d5b171ee_afd2_11e9_ba46_3791e66294cerow2_col1 {\n",
       "            background-color:  yellow;\n",
       "        }    #T_d5b171ee_afd2_11e9_ba46_3791e66294cerow2_col2 {\n",
       "            background-color:  yellow;\n",
       "        }    #T_d5b171ee_afd2_11e9_ba46_3791e66294cerow2_col3 {\n",
       "            background-color:  yellow;\n",
       "        }    #T_d5b171ee_afd2_11e9_ba46_3791e66294cerow3_col0 {\n",
       "            background-color:  green;\n",
       "        }    #T_d5b171ee_afd2_11e9_ba46_3791e66294cerow3_col1 {\n",
       "            background-color:  green;\n",
       "        }    #T_d5b171ee_afd2_11e9_ba46_3791e66294cerow3_col2 {\n",
       "            background-color:  green;\n",
       "        }    #T_d5b171ee_afd2_11e9_ba46_3791e66294cerow3_col3 {\n",
       "            background-color:  green;\n",
       "        }    #T_d5b171ee_afd2_11e9_ba46_3791e66294cerow4_col0 {\n",
       "            background-color:  yellow;\n",
       "        }    #T_d5b171ee_afd2_11e9_ba46_3791e66294cerow4_col1 {\n",
       "            background-color:  yellow;\n",
       "        }    #T_d5b171ee_afd2_11e9_ba46_3791e66294cerow4_col2 {\n",
       "            background-color:  yellow;\n",
       "        }    #T_d5b171ee_afd2_11e9_ba46_3791e66294cerow4_col3 {\n",
       "            background-color:  yellow;\n",
       "        }</style><table id=\"T_d5b171ee_afd2_11e9_ba46_3791e66294ce\" ><thead>    <tr>        <th class=\"blank level0\" ></th>        <th class=\"col_heading level0 col0\" >Intern</th>        <th class=\"col_heading level0 col1\" >Publikationen</th>        <th class=\"col_heading level0 col2\" >Ranking</th>        <th class=\"col_heading level0 col3\" >Universität im Vergleich</th>    </tr>    <tr>        <th class=\"index_name level0\" >WZW</th>        <th class=\"blank\" ></th>        <th class=\"blank\" ></th>        <th class=\"blank\" ></th>        <th class=\"blank\" ></th>    </tr></thead><tbody>\n",
       "                <tr>\n",
       "                        <th id=\"T_d5b171ee_afd2_11e9_ba46_3791e66294celevel0_row0\" class=\"row_heading level0 row0\" >Kunstwissenschaften</th>\n",
       "                        <td id=\"T_d5b171ee_afd2_11e9_ba46_3791e66294cerow0_col0\" class=\"data row0 col0\" >27.62%</td>\n",
       "                        <td id=\"T_d5b171ee_afd2_11e9_ba46_3791e66294cerow0_col1\" class=\"data row0 col1\" >58 Publikationen</td>\n",
       "                        <td id=\"T_d5b171ee_afd2_11e9_ba46_3791e66294cerow0_col2\" class=\"data row0 col2\" >5. Platz</td>\n",
       "                        <td id=\"T_d5b171ee_afd2_11e9_ba46_3791e66294cerow0_col3\" class=\"data row0 col3\" ><img src=\"MKWKunstwissenschaften_Publikationen.png\", width=250, height=200/></td>\n",
       "            </tr>\n",
       "            <tr>\n",
       "                        <th id=\"T_d5b171ee_afd2_11e9_ba46_3791e66294celevel0_row1\" class=\"row_heading level0 row1\" >Andere Geisteswissenschaften</th>\n",
       "                        <td id=\"T_d5b171ee_afd2_11e9_ba46_3791e66294cerow1_col0\" class=\"data row1 col0\" >13.81%</td>\n",
       "                        <td id=\"T_d5b171ee_afd2_11e9_ba46_3791e66294cerow1_col1\" class=\"data row1 col1\" >29 Publikationen</td>\n",
       "                        <td id=\"T_d5b171ee_afd2_11e9_ba46_3791e66294cerow1_col2\" class=\"data row1 col2\" >3. Platz</td>\n",
       "                        <td id=\"T_d5b171ee_afd2_11e9_ba46_3791e66294cerow1_col3\" class=\"data row1 col3\" ><img src=\"MKWAndere_Geisteswissenschaften_Publikationen.png\", width=250, height=200/></td>\n",
       "            </tr>\n",
       "            <tr>\n",
       "                        <th id=\"T_d5b171ee_afd2_11e9_ba46_3791e66294celevel0_row2\" class=\"row_heading level0 row2\" >Pädagogik / Vermittlung</th>\n",
       "                        <td id=\"T_d5b171ee_afd2_11e9_ba46_3791e66294cerow2_col0\" class=\"data row2 col0\" >13.81%</td>\n",
       "                        <td id=\"T_d5b171ee_afd2_11e9_ba46_3791e66294cerow2_col1\" class=\"data row2 col1\" >29 Publikationen</td>\n",
       "                        <td id=\"T_d5b171ee_afd2_11e9_ba46_3791e66294cerow2_col2\" class=\"data row2 col2\" >2. Platz</td>\n",
       "                        <td id=\"T_d5b171ee_afd2_11e9_ba46_3791e66294cerow2_col3\" class=\"data row2 col3\" ><img src=\"MKWPädagogik__Vermittlung_Publikationen.png\", width=250, height=200/></td>\n",
       "            </tr>\n",
       "            <tr>\n",
       "                        <th id=\"T_d5b171ee_afd2_11e9_ba46_3791e66294celevel0_row3\" class=\"row_heading level0 row3\" >Komposition</th>\n",
       "                        <td id=\"T_d5b171ee_afd2_11e9_ba46_3791e66294cerow3_col0\" class=\"data row3 col0\" >10.00%</td>\n",
       "                        <td id=\"T_d5b171ee_afd2_11e9_ba46_3791e66294cerow3_col1\" class=\"data row3 col1\" >21 Publikationen</td>\n",
       "                        <td id=\"T_d5b171ee_afd2_11e9_ba46_3791e66294cerow3_col2\" class=\"data row3 col2\" >1. Platz</td>\n",
       "                        <td id=\"T_d5b171ee_afd2_11e9_ba46_3791e66294cerow3_col3\" class=\"data row3 col3\" ><img src=\"MKWKomposition_Publikationen.png\", width=250, height=200/></td>\n",
       "            </tr>\n",
       "            <tr>\n",
       "                        <th id=\"T_d5b171ee_afd2_11e9_ba46_3791e66294celevel0_row4\" class=\"row_heading level0 row4\" >Interpretation - instrumental</th>\n",
       "                        <td id=\"T_d5b171ee_afd2_11e9_ba46_3791e66294cerow4_col0\" class=\"data row4 col0\" >5.71%</td>\n",
       "                        <td id=\"T_d5b171ee_afd2_11e9_ba46_3791e66294cerow4_col1\" class=\"data row4 col1\" >12 Publikationen</td>\n",
       "                        <td id=\"T_d5b171ee_afd2_11e9_ba46_3791e66294cerow4_col2\" class=\"data row4 col2\" >2. Platz</td>\n",
       "                        <td id=\"T_d5b171ee_afd2_11e9_ba46_3791e66294cerow4_col3\" class=\"data row4 col3\" ><img src=\"MKWInterpretation_-_instrumental_Publikationen.png\", width=250, height=200/></td>\n",
       "            </tr>\n",
       "    </tbody></table>"
      ],
      "text/plain": [
       "<IPython.core.display.HTML object>"
      ]
     },
     "metadata": {},
     "output_type": "display_data"
    },
    {
     "data": {
      "text/html": [
       "<h3>Drittmittel-Struktur der MKW</h3>"
      ],
      "text/plain": [
       "<IPython.core.display.HTML object>"
      ]
     },
     "metadata": {},
     "output_type": "display_data"
    },
    {
     "data": {
      "text/html": [
       "Angezeigt werden WZW, die zusammen 68.5% der Drittmittel an der MKW ausmachen. Alle anderen WZW tragen je weniger als 10.3% bei. Die Spalte \"Ranking\" bezieht sich  auf den &ouml;sterreichweiten Vergleich der absoluten Werte pro WZW"
      ],
      "text/plain": [
       "<IPython.core.display.HTML object>"
      ]
     },
     "metadata": {},
     "output_type": "display_data"
    },
    {
     "data": {
      "text/html": [
       "<style  type=\"text/css\" >\n",
       "    #T_d5e8223e_afd2_11e9_ba46_3791e66294cerow0_col0 {\n",
       "            background-color:  white;\n",
       "        }    #T_d5e8223e_afd2_11e9_ba46_3791e66294cerow0_col1 {\n",
       "            background-color:  white;\n",
       "        }    #T_d5e8223e_afd2_11e9_ba46_3791e66294cerow0_col2 {\n",
       "            background-color:  white;\n",
       "        }    #T_d5e8223e_afd2_11e9_ba46_3791e66294cerow0_col3 {\n",
       "            background-color:  white;\n",
       "        }    #T_d5e8223e_afd2_11e9_ba46_3791e66294cerow1_col0 {\n",
       "            background-color:  yellow;\n",
       "        }    #T_d5e8223e_afd2_11e9_ba46_3791e66294cerow1_col1 {\n",
       "            background-color:  yellow;\n",
       "        }    #T_d5e8223e_afd2_11e9_ba46_3791e66294cerow1_col2 {\n",
       "            background-color:  yellow;\n",
       "        }    #T_d5e8223e_afd2_11e9_ba46_3791e66294cerow1_col3 {\n",
       "            background-color:  yellow;\n",
       "        }    #T_d5e8223e_afd2_11e9_ba46_3791e66294cerow2_col0 {\n",
       "            background-color:  yellow;\n",
       "        }    #T_d5e8223e_afd2_11e9_ba46_3791e66294cerow2_col1 {\n",
       "            background-color:  yellow;\n",
       "        }    #T_d5e8223e_afd2_11e9_ba46_3791e66294cerow2_col2 {\n",
       "            background-color:  yellow;\n",
       "        }    #T_d5e8223e_afd2_11e9_ba46_3791e66294cerow2_col3 {\n",
       "            background-color:  yellow;\n",
       "        }    #T_d5e8223e_afd2_11e9_ba46_3791e66294cerow3_col0 {\n",
       "            background-color:  white;\n",
       "        }    #T_d5e8223e_afd2_11e9_ba46_3791e66294cerow3_col1 {\n",
       "            background-color:  white;\n",
       "        }    #T_d5e8223e_afd2_11e9_ba46_3791e66294cerow3_col2 {\n",
       "            background-color:  white;\n",
       "        }    #T_d5e8223e_afd2_11e9_ba46_3791e66294cerow3_col3 {\n",
       "            background-color:  white;\n",
       "        }</style><table id=\"T_d5e8223e_afd2_11e9_ba46_3791e66294ce\" ><thead>    <tr>        <th class=\"blank level0\" ></th>        <th class=\"col_heading level0 col0\" >Intern</th>        <th class=\"col_heading level0 col1\" >Drittmittel</th>        <th class=\"col_heading level0 col2\" >Ranking</th>        <th class=\"col_heading level0 col3\" >Universität im Vergleich</th>    </tr>    <tr>        <th class=\"index_name level0\" >WZW</th>        <th class=\"blank\" ></th>        <th class=\"blank\" ></th>        <th class=\"blank\" ></th>        <th class=\"blank\" ></th>    </tr></thead><tbody>\n",
       "                <tr>\n",
       "                        <th id=\"T_d5e8223e_afd2_11e9_ba46_3791e66294celevel0_row0\" class=\"row_heading level0 row0\" >Kunstwissenschaften</th>\n",
       "                        <td id=\"T_d5e8223e_afd2_11e9_ba46_3791e66294cerow0_col0\" class=\"data row0 col0\" >33.82%</td>\n",
       "                        <td id=\"T_d5e8223e_afd2_11e9_ba46_3791e66294cerow0_col1\" class=\"data row0 col1\" >392,027 €</td>\n",
       "                        <td id=\"T_d5e8223e_afd2_11e9_ba46_3791e66294cerow0_col2\" class=\"data row0 col2\" >4. Platz</td>\n",
       "                        <td id=\"T_d5e8223e_afd2_11e9_ba46_3791e66294cerow0_col3\" class=\"data row0 col3\" ><img src=\"MKWKunstwissenschaften_Drittmittel.png\", width=250, height=200/></td>\n",
       "            </tr>\n",
       "            <tr>\n",
       "                        <th id=\"T_d5e8223e_afd2_11e9_ba46_3791e66294celevel0_row1\" class=\"row_heading level0 row1\" >Nicht bekannt/nicht zuordenbar</th>\n",
       "                        <td id=\"T_d5e8223e_afd2_11e9_ba46_3791e66294cerow1_col0\" class=\"data row1 col0\" >13.71%</td>\n",
       "                        <td id=\"T_d5e8223e_afd2_11e9_ba46_3791e66294cerow1_col1\" class=\"data row1 col1\" >158,906 €</td>\n",
       "                        <td id=\"T_d5e8223e_afd2_11e9_ba46_3791e66294cerow1_col2\" class=\"data row1 col2\" >3. Platz</td>\n",
       "                        <td id=\"T_d5e8223e_afd2_11e9_ba46_3791e66294cerow1_col3\" class=\"data row1 col3\" ><img src=\"MKWNicht_bekanntnicht_zuordenbar_Drittmittel.png\", width=250, height=200/></td>\n",
       "            </tr>\n",
       "            <tr>\n",
       "                        <th id=\"T_d5e8223e_afd2_11e9_ba46_3791e66294celevel0_row2\" class=\"row_heading level0 row2\" >Andere Geisteswissenschaften</th>\n",
       "                        <td id=\"T_d5e8223e_afd2_11e9_ba46_3791e66294cerow2_col0\" class=\"data row2 col0\" >10.65%</td>\n",
       "                        <td id=\"T_d5e8223e_afd2_11e9_ba46_3791e66294cerow2_col1\" class=\"data row2 col1\" >123,476 €</td>\n",
       "                        <td id=\"T_d5e8223e_afd2_11e9_ba46_3791e66294cerow2_col2\" class=\"data row2 col2\" >2. Platz</td>\n",
       "                        <td id=\"T_d5e8223e_afd2_11e9_ba46_3791e66294cerow2_col3\" class=\"data row2 col3\" ><img src=\"MKWAndere_Geisteswissenschaften_Drittmittel.png\", width=250, height=200/></td>\n",
       "            </tr>\n",
       "            <tr>\n",
       "                        <th id=\"T_d5e8223e_afd2_11e9_ba46_3791e66294celevel0_row3\" class=\"row_heading level0 row3\" >Informatik</th>\n",
       "                        <td id=\"T_d5e8223e_afd2_11e9_ba46_3791e66294cerow3_col0\" class=\"data row3 col0\" >10.27%</td>\n",
       "                        <td id=\"T_d5e8223e_afd2_11e9_ba46_3791e66294cerow3_col1\" class=\"data row3 col1\" >119,097 €</td>\n",
       "                        <td id=\"T_d5e8223e_afd2_11e9_ba46_3791e66294cerow3_col2\" class=\"data row3 col2\" >13. Platz</td>\n",
       "                        <td id=\"T_d5e8223e_afd2_11e9_ba46_3791e66294cerow3_col3\" class=\"data row3 col3\" ><img src=\"MKWInformatik_Drittmittel.png\", width=250, height=200/></td>\n",
       "            </tr>\n",
       "    </tbody></table>"
      ],
      "text/plain": [
       "<IPython.core.display.HTML object>"
      ]
     },
     "metadata": {},
     "output_type": "display_data"
    },
    {
     "data": {
      "text/html": [
       "<h2 style=\"page-break-before: always;\">Universität für Weiterbildung Krems</h2>"
      ],
      "text/plain": [
       "<IPython.core.display.HTML object>"
      ]
     },
     "metadata": {},
     "output_type": "display_data"
    },
    {
     "data": {
      "text/html": [
       "<h3>Vergleichbare Universitäten in Publikationen- und Drittmittel-Struktur</h3><ul>"
      ],
      "text/plain": [
       "<IPython.core.display.HTML object>"
      ]
     },
     "metadata": {},
     "output_type": "display_data"
    },
    {
     "data": {
      "text/html": [
       "<li><strong>Keine.</strong> Die Universität für Weiterbildung Krems ist stark spezialisiert.</li>"
      ],
      "text/plain": [
       "<IPython.core.display.HTML object>"
      ]
     },
     "metadata": {},
     "output_type": "display_data"
    },
    {
     "data": {
      "text/html": [
       "</ul>"
      ],
      "text/plain": [
       "<IPython.core.display.HTML object>"
      ]
     },
     "metadata": {},
     "output_type": "display_data"
    },
    {
     "data": {
      "text/html": [
       "<h4>Vergleichbar bei der Publikationen-Struktur</h4>"
      ],
      "text/plain": [
       "<IPython.core.display.HTML object>"
      ]
     },
     "metadata": {},
     "output_type": "display_data"
    },
    {
     "data": {
      "text/html": [
       "<p><strong>Universität Salzburg</strong> (54.6%, wegen &auml;hnlicher interner Relevanz von Rechtswissenschaften, Psychologie, Geschichte, Archäologie), <strong>Universität Linz</strong> (52.1%, wegen &auml;hnlicher interner Relevanz von Rechtswissenschaften, Elektrotechnik, Elektronik, Informationstechnik, Wirtschaftswissenschaften), <strong>Universität Innsbruck</strong> (50.5%, wegen &auml;hnlicher interner Relevanz von Rechtswissenschaften, Geschichte, Archäologie, Wirtschaftswissenschaften)</p>"
      ],
      "text/plain": [
       "<IPython.core.display.HTML object>"
      ]
     },
     "metadata": {},
     "output_type": "display_data"
    },
    {
     "data": {
      "text/html": [
       "<h4>Vergleichbar bei der Drittmittel-Struktur</h4>"
      ],
      "text/plain": [
       "<IPython.core.display.HTML object>"
      ]
     },
     "metadata": {},
     "output_type": "display_data"
    },
    {
     "data": {
      "text/html": [
       "<p>Die Universität für Weiterbildung Krems ist im Bereich Drittmittel spezialisiert.<br/><strong>Keine</strong> andere Universität ähnelt der Universität für Weiterbildung Krems in der Drittmittel-Struktur in auffälliger Weise.</p>"
      ],
      "text/plain": [
       "<IPython.core.display.HTML object>"
      ]
     },
     "metadata": {},
     "output_type": "display_data"
    },
    {
     "data": {
      "text/html": [
       "<p><small>Universitäten mit einer Ähnlichkeit von weniger als 50% werden nicht angezeigt.</small></p>"
      ],
      "text/plain": [
       "<IPython.core.display.HTML object>"
      ]
     },
     "metadata": {},
     "output_type": "display_data"
    },
    {
     "data": {
      "text/html": [
       "<h3>Publikationen-Struktur der UWK</h3>"
      ],
      "text/plain": [
       "<IPython.core.display.HTML object>"
      ]
     },
     "metadata": {},
     "output_type": "display_data"
    },
    {
     "data": {
      "text/html": [
       "Angezeigt werden WZW, die zusammen 69.9% der Publikationen an der UWK ausmachen. Alle anderen WZW tragen je weniger als 4.0% bei. Die Spalte \"Ranking\" bezieht sich  auf den &ouml;sterreichweiten Vergleich der absoluten Werte pro WZW"
      ],
      "text/plain": [
       "<IPython.core.display.HTML object>"
      ]
     },
     "metadata": {},
     "output_type": "display_data"
    },
    {
     "data": {
      "text/html": [
       "<style  type=\"text/css\" >\n",
       "    #T_d6addd9e_afd2_11e9_ba46_3791e66294cerow0_col0 {\n",
       "            background-color:  white;\n",
       "        }    #T_d6addd9e_afd2_11e9_ba46_3791e66294cerow0_col1 {\n",
       "            background-color:  white;\n",
       "        }    #T_d6addd9e_afd2_11e9_ba46_3791e66294cerow0_col2 {\n",
       "            background-color:  white;\n",
       "        }    #T_d6addd9e_afd2_11e9_ba46_3791e66294cerow0_col3 {\n",
       "            background-color:  white;\n",
       "        }    #T_d6addd9e_afd2_11e9_ba46_3791e66294cerow1_col0 {\n",
       "            background-color:  white;\n",
       "        }    #T_d6addd9e_afd2_11e9_ba46_3791e66294cerow1_col1 {\n",
       "            background-color:  white;\n",
       "        }    #T_d6addd9e_afd2_11e9_ba46_3791e66294cerow1_col2 {\n",
       "            background-color:  white;\n",
       "        }    #T_d6addd9e_afd2_11e9_ba46_3791e66294cerow1_col3 {\n",
       "            background-color:  white;\n",
       "        }    #T_d6addd9e_afd2_11e9_ba46_3791e66294cerow2_col0 {\n",
       "            background-color:  white;\n",
       "        }    #T_d6addd9e_afd2_11e9_ba46_3791e66294cerow2_col1 {\n",
       "            background-color:  white;\n",
       "        }    #T_d6addd9e_afd2_11e9_ba46_3791e66294cerow2_col2 {\n",
       "            background-color:  white;\n",
       "        }    #T_d6addd9e_afd2_11e9_ba46_3791e66294cerow2_col3 {\n",
       "            background-color:  white;\n",
       "        }    #T_d6addd9e_afd2_11e9_ba46_3791e66294cerow3_col0 {\n",
       "            background-color:  white;\n",
       "        }    #T_d6addd9e_afd2_11e9_ba46_3791e66294cerow3_col1 {\n",
       "            background-color:  white;\n",
       "        }    #T_d6addd9e_afd2_11e9_ba46_3791e66294cerow3_col2 {\n",
       "            background-color:  white;\n",
       "        }    #T_d6addd9e_afd2_11e9_ba46_3791e66294cerow3_col3 {\n",
       "            background-color:  white;\n",
       "        }    #T_d6addd9e_afd2_11e9_ba46_3791e66294cerow4_col0 {\n",
       "            background-color:  white;\n",
       "        }    #T_d6addd9e_afd2_11e9_ba46_3791e66294cerow4_col1 {\n",
       "            background-color:  white;\n",
       "        }    #T_d6addd9e_afd2_11e9_ba46_3791e66294cerow4_col2 {\n",
       "            background-color:  white;\n",
       "        }    #T_d6addd9e_afd2_11e9_ba46_3791e66294cerow4_col3 {\n",
       "            background-color:  white;\n",
       "        }    #T_d6addd9e_afd2_11e9_ba46_3791e66294cerow5_col0 {\n",
       "            background-color:  white;\n",
       "        }    #T_d6addd9e_afd2_11e9_ba46_3791e66294cerow5_col1 {\n",
       "            background-color:  white;\n",
       "        }    #T_d6addd9e_afd2_11e9_ba46_3791e66294cerow5_col2 {\n",
       "            background-color:  white;\n",
       "        }    #T_d6addd9e_afd2_11e9_ba46_3791e66294cerow5_col3 {\n",
       "            background-color:  white;\n",
       "        }    #T_d6addd9e_afd2_11e9_ba46_3791e66294cerow6_col0 {\n",
       "            background-color:  white;\n",
       "        }    #T_d6addd9e_afd2_11e9_ba46_3791e66294cerow6_col1 {\n",
       "            background-color:  white;\n",
       "        }    #T_d6addd9e_afd2_11e9_ba46_3791e66294cerow6_col2 {\n",
       "            background-color:  white;\n",
       "        }    #T_d6addd9e_afd2_11e9_ba46_3791e66294cerow6_col3 {\n",
       "            background-color:  white;\n",
       "        }    #T_d6addd9e_afd2_11e9_ba46_3791e66294cerow7_col0 {\n",
       "            background-color:  yellow;\n",
       "        }    #T_d6addd9e_afd2_11e9_ba46_3791e66294cerow7_col1 {\n",
       "            background-color:  yellow;\n",
       "        }    #T_d6addd9e_afd2_11e9_ba46_3791e66294cerow7_col2 {\n",
       "            background-color:  yellow;\n",
       "        }    #T_d6addd9e_afd2_11e9_ba46_3791e66294cerow7_col3 {\n",
       "            background-color:  yellow;\n",
       "        }    #T_d6addd9e_afd2_11e9_ba46_3791e66294cerow8_col0 {\n",
       "            background-color:  white;\n",
       "        }    #T_d6addd9e_afd2_11e9_ba46_3791e66294cerow8_col1 {\n",
       "            background-color:  white;\n",
       "        }    #T_d6addd9e_afd2_11e9_ba46_3791e66294cerow8_col2 {\n",
       "            background-color:  white;\n",
       "        }    #T_d6addd9e_afd2_11e9_ba46_3791e66294cerow8_col3 {\n",
       "            background-color:  white;\n",
       "        }    #T_d6addd9e_afd2_11e9_ba46_3791e66294cerow9_col0 {\n",
       "            background-color:  white;\n",
       "        }    #T_d6addd9e_afd2_11e9_ba46_3791e66294cerow9_col1 {\n",
       "            background-color:  white;\n",
       "        }    #T_d6addd9e_afd2_11e9_ba46_3791e66294cerow9_col2 {\n",
       "            background-color:  white;\n",
       "        }    #T_d6addd9e_afd2_11e9_ba46_3791e66294cerow9_col3 {\n",
       "            background-color:  white;\n",
       "        }    #T_d6addd9e_afd2_11e9_ba46_3791e66294cerow10_col0 {\n",
       "            background-color:  white;\n",
       "        }    #T_d6addd9e_afd2_11e9_ba46_3791e66294cerow10_col1 {\n",
       "            background-color:  white;\n",
       "        }    #T_d6addd9e_afd2_11e9_ba46_3791e66294cerow10_col2 {\n",
       "            background-color:  white;\n",
       "        }    #T_d6addd9e_afd2_11e9_ba46_3791e66294cerow10_col3 {\n",
       "            background-color:  white;\n",
       "        }</style><table id=\"T_d6addd9e_afd2_11e9_ba46_3791e66294ce\" ><thead>    <tr>        <th class=\"blank level0\" ></th>        <th class=\"col_heading level0 col0\" >Intern</th>        <th class=\"col_heading level0 col1\" >Publikationen</th>        <th class=\"col_heading level0 col2\" >Ranking</th>        <th class=\"col_heading level0 col3\" >Universität im Vergleich</th>    </tr>    <tr>        <th class=\"index_name level0\" >WZW</th>        <th class=\"blank\" ></th>        <th class=\"blank\" ></th>        <th class=\"blank\" ></th>        <th class=\"blank\" ></th>    </tr></thead><tbody>\n",
       "                <tr>\n",
       "                        <th id=\"T_d6addd9e_afd2_11e9_ba46_3791e66294celevel0_row0\" class=\"row_heading level0 row0\" >Rechtswissenschaften</th>\n",
       "                        <td id=\"T_d6addd9e_afd2_11e9_ba46_3791e66294cerow0_col0\" class=\"data row0 col0\" >15.59%</td>\n",
       "                        <td id=\"T_d6addd9e_afd2_11e9_ba46_3791e66294cerow0_col1\" class=\"data row0 col1\" >70 Publikationen</td>\n",
       "                        <td id=\"T_d6addd9e_afd2_11e9_ba46_3791e66294cerow0_col2\" class=\"data row0 col2\" >7. Platz</td>\n",
       "                        <td id=\"T_d6addd9e_afd2_11e9_ba46_3791e66294cerow0_col3\" class=\"data row0 col3\" ><img src=\"UWKRechtswissenschaften_Publikationen.png\", width=250, height=200/></td>\n",
       "            </tr>\n",
       "            <tr>\n",
       "                        <th id=\"T_d6addd9e_afd2_11e9_ba46_3791e66294celevel0_row1\" class=\"row_heading level0 row1\" >Elektrotechnik, Elektronik, Informationstechnik</th>\n",
       "                        <td id=\"T_d6addd9e_afd2_11e9_ba46_3791e66294cerow1_col0\" class=\"data row1 col0\" >6.90%</td>\n",
       "                        <td id=\"T_d6addd9e_afd2_11e9_ba46_3791e66294cerow1_col1\" class=\"data row1 col1\" >31 Publikationen</td>\n",
       "                        <td id=\"T_d6addd9e_afd2_11e9_ba46_3791e66294cerow1_col2\" class=\"data row1 col2\" >5. Platz</td>\n",
       "                        <td id=\"T_d6addd9e_afd2_11e9_ba46_3791e66294cerow1_col3\" class=\"data row1 col3\" ><img src=\"UWKElektrotechnik_Elektronik_Informationstechnik_Publikationen.png\", width=250, height=200/></td>\n",
       "            </tr>\n",
       "            <tr>\n",
       "                        <th id=\"T_d6addd9e_afd2_11e9_ba46_3791e66294celevel0_row2\" class=\"row_heading level0 row2\" >Gesundheitswissenschaften</th>\n",
       "                        <td id=\"T_d6addd9e_afd2_11e9_ba46_3791e66294cerow2_col0\" class=\"data row2 col0\" >6.68%</td>\n",
       "                        <td id=\"T_d6addd9e_afd2_11e9_ba46_3791e66294cerow2_col1\" class=\"data row2 col1\" >30 Publikationen</td>\n",
       "                        <td id=\"T_d6addd9e_afd2_11e9_ba46_3791e66294cerow2_col2\" class=\"data row2 col2\" >7. Platz</td>\n",
       "                        <td id=\"T_d6addd9e_afd2_11e9_ba46_3791e66294cerow2_col3\" class=\"data row2 col3\" ><img src=\"UWKGesundheitswissenschaften_Publikationen.png\", width=250, height=200/></td>\n",
       "            </tr>\n",
       "            <tr>\n",
       "                        <th id=\"T_d6addd9e_afd2_11e9_ba46_3791e66294celevel0_row3\" class=\"row_heading level0 row3\" >Klinische Medizin</th>\n",
       "                        <td id=\"T_d6addd9e_afd2_11e9_ba46_3791e66294cerow3_col0\" class=\"data row3 col0\" >6.68%</td>\n",
       "                        <td id=\"T_d6addd9e_afd2_11e9_ba46_3791e66294cerow3_col1\" class=\"data row3 col1\" >30 Publikationen</td>\n",
       "                        <td id=\"T_d6addd9e_afd2_11e9_ba46_3791e66294cerow3_col2\" class=\"data row3 col2\" >6. Platz</td>\n",
       "                        <td id=\"T_d6addd9e_afd2_11e9_ba46_3791e66294cerow3_col3\" class=\"data row3 col3\" ><img src=\"UWKKlinische_Medizin_Publikationen.png\", width=250, height=200/></td>\n",
       "            </tr>\n",
       "            <tr>\n",
       "                        <th id=\"T_d6addd9e_afd2_11e9_ba46_3791e66294celevel0_row4\" class=\"row_heading level0 row4\" >Politikwissenschaften</th>\n",
       "                        <td id=\"T_d6addd9e_afd2_11e9_ba46_3791e66294cerow4_col0\" class=\"data row4 col0\" >6.68%</td>\n",
       "                        <td id=\"T_d6addd9e_afd2_11e9_ba46_3791e66294cerow4_col1\" class=\"data row4 col1\" >30 Publikationen</td>\n",
       "                        <td id=\"T_d6addd9e_afd2_11e9_ba46_3791e66294cerow4_col2\" class=\"data row4 col2\" >5. Platz</td>\n",
       "                        <td id=\"T_d6addd9e_afd2_11e9_ba46_3791e66294cerow4_col3\" class=\"data row4 col3\" ><img src=\"UWKPolitikwissenschaften_Publikationen.png\", width=250, height=200/></td>\n",
       "            </tr>\n",
       "            <tr>\n",
       "                        <th id=\"T_d6addd9e_afd2_11e9_ba46_3791e66294celevel0_row5\" class=\"row_heading level0 row5\" >Andere Sozialwissenschaften</th>\n",
       "                        <td id=\"T_d6addd9e_afd2_11e9_ba46_3791e66294cerow5_col0\" class=\"data row5 col0\" >6.01%</td>\n",
       "                        <td id=\"T_d6addd9e_afd2_11e9_ba46_3791e66294cerow5_col1\" class=\"data row5 col1\" >27 Publikationen</td>\n",
       "                        <td id=\"T_d6addd9e_afd2_11e9_ba46_3791e66294cerow5_col2\" class=\"data row5 col2\" >5. Platz</td>\n",
       "                        <td id=\"T_d6addd9e_afd2_11e9_ba46_3791e66294cerow5_col3\" class=\"data row5 col3\" ><img src=\"UWKAndere_Sozialwissenschaften_Publikationen.png\", width=250, height=200/></td>\n",
       "            </tr>\n",
       "            <tr>\n",
       "                        <th id=\"T_d6addd9e_afd2_11e9_ba46_3791e66294celevel0_row6\" class=\"row_heading level0 row6\" >Geschichte, Archäologie</th>\n",
       "                        <td id=\"T_d6addd9e_afd2_11e9_ba46_3791e66294cerow6_col0\" class=\"data row6 col0\" >4.90%</td>\n",
       "                        <td id=\"T_d6addd9e_afd2_11e9_ba46_3791e66294cerow6_col1\" class=\"data row6 col1\" >22 Publikationen</td>\n",
       "                        <td id=\"T_d6addd9e_afd2_11e9_ba46_3791e66294cerow6_col2\" class=\"data row6 col2\" >5. Platz</td>\n",
       "                        <td id=\"T_d6addd9e_afd2_11e9_ba46_3791e66294cerow6_col3\" class=\"data row6 col3\" ><img src=\"UWKGeschichte_Archäologie_Publikationen.png\", width=250, height=200/></td>\n",
       "            </tr>\n",
       "            <tr>\n",
       "                        <th id=\"T_d6addd9e_afd2_11e9_ba46_3791e66294celevel0_row7\" class=\"row_heading level0 row7\" >Medizinische Biotechnologie</th>\n",
       "                        <td id=\"T_d6addd9e_afd2_11e9_ba46_3791e66294cerow7_col0\" class=\"data row7 col0\" >4.23%</td>\n",
       "                        <td id=\"T_d6addd9e_afd2_11e9_ba46_3791e66294cerow7_col1\" class=\"data row7 col1\" >19 Publikationen</td>\n",
       "                        <td id=\"T_d6addd9e_afd2_11e9_ba46_3791e66294cerow7_col2\" class=\"data row7 col2\" >3. Platz</td>\n",
       "                        <td id=\"T_d6addd9e_afd2_11e9_ba46_3791e66294cerow7_col3\" class=\"data row7 col3\" ><img src=\"UWKMedizinische_Biotechnologie_Publikationen.png\", width=250, height=200/></td>\n",
       "            </tr>\n",
       "            <tr>\n",
       "                        <th id=\"T_d6addd9e_afd2_11e9_ba46_3791e66294celevel0_row8\" class=\"row_heading level0 row8\" >Psychologie</th>\n",
       "                        <td id=\"T_d6addd9e_afd2_11e9_ba46_3791e66294cerow8_col0\" class=\"data row8 col0\" >4.23%</td>\n",
       "                        <td id=\"T_d6addd9e_afd2_11e9_ba46_3791e66294cerow8_col1\" class=\"data row8 col1\" >19 Publikationen</td>\n",
       "                        <td id=\"T_d6addd9e_afd2_11e9_ba46_3791e66294cerow8_col2\" class=\"data row8 col2\" >9. Platz</td>\n",
       "                        <td id=\"T_d6addd9e_afd2_11e9_ba46_3791e66294cerow8_col3\" class=\"data row8 col3\" ><img src=\"UWKPsychologie_Publikationen.png\", width=250, height=200/></td>\n",
       "            </tr>\n",
       "            <tr>\n",
       "                        <th id=\"T_d6addd9e_afd2_11e9_ba46_3791e66294celevel0_row9\" class=\"row_heading level0 row9\" >Informatik</th>\n",
       "                        <td id=\"T_d6addd9e_afd2_11e9_ba46_3791e66294cerow9_col0\" class=\"data row9 col0\" >4.01%</td>\n",
       "                        <td id=\"T_d6addd9e_afd2_11e9_ba46_3791e66294cerow9_col1\" class=\"data row9 col1\" >18 Publikationen</td>\n",
       "                        <td id=\"T_d6addd9e_afd2_11e9_ba46_3791e66294cerow9_col2\" class=\"data row9 col2\" >12. Platz</td>\n",
       "                        <td id=\"T_d6addd9e_afd2_11e9_ba46_3791e66294cerow9_col3\" class=\"data row9 col3\" ><img src=\"UWKInformatik_Publikationen.png\", width=250, height=200/></td>\n",
       "            </tr>\n",
       "            <tr>\n",
       "                        <th id=\"T_d6addd9e_afd2_11e9_ba46_3791e66294celevel0_row10\" class=\"row_heading level0 row10\" >Wirtschaftswissenschaften</th>\n",
       "                        <td id=\"T_d6addd9e_afd2_11e9_ba46_3791e66294cerow10_col0\" class=\"data row10 col0\" >4.01%</td>\n",
       "                        <td id=\"T_d6addd9e_afd2_11e9_ba46_3791e66294cerow10_col1\" class=\"data row10 col1\" >18 Publikationen</td>\n",
       "                        <td id=\"T_d6addd9e_afd2_11e9_ba46_3791e66294cerow10_col2\" class=\"data row10 col2\" >12. Platz</td>\n",
       "                        <td id=\"T_d6addd9e_afd2_11e9_ba46_3791e66294cerow10_col3\" class=\"data row10 col3\" ><img src=\"UWKWirtschaftswissenschaften_Publikationen.png\", width=250, height=200/></td>\n",
       "            </tr>\n",
       "    </tbody></table>"
      ],
      "text/plain": [
       "<IPython.core.display.HTML object>"
      ]
     },
     "metadata": {},
     "output_type": "display_data"
    },
    {
     "data": {
      "text/html": [
       "<h3>Drittmittel-Struktur der UWK</h3>"
      ],
      "text/plain": [
       "<IPython.core.display.HTML object>"
      ]
     },
     "metadata": {},
     "output_type": "display_data"
    },
    {
     "data": {
      "text/html": [
       "Angezeigt werden WZW, die zusammen 67.1% der Drittmittel an der UWK ausmachen. Alle anderen WZW tragen je weniger als 4.9% bei. Die Spalte \"Ranking\" bezieht sich  auf den &ouml;sterreichweiten Vergleich der absoluten Werte pro WZW"
      ],
      "text/plain": [
       "<IPython.core.display.HTML object>"
      ]
     },
     "metadata": {},
     "output_type": "display_data"
    },
    {
     "data": {
      "text/html": [
       "<style  type=\"text/css\" >\n",
       "    #T_d720a57c_afd2_11e9_ba46_3791e66294cerow0_col0 {\n",
       "            background-color:  white;\n",
       "        }    #T_d720a57c_afd2_11e9_ba46_3791e66294cerow0_col1 {\n",
       "            background-color:  white;\n",
       "        }    #T_d720a57c_afd2_11e9_ba46_3791e66294cerow0_col2 {\n",
       "            background-color:  white;\n",
       "        }    #T_d720a57c_afd2_11e9_ba46_3791e66294cerow0_col3 {\n",
       "            background-color:  white;\n",
       "        }    #T_d720a57c_afd2_11e9_ba46_3791e66294cerow1_col0 {\n",
       "            background-color:  white;\n",
       "        }    #T_d720a57c_afd2_11e9_ba46_3791e66294cerow1_col1 {\n",
       "            background-color:  white;\n",
       "        }    #T_d720a57c_afd2_11e9_ba46_3791e66294cerow1_col2 {\n",
       "            background-color:  white;\n",
       "        }    #T_d720a57c_afd2_11e9_ba46_3791e66294cerow1_col3 {\n",
       "            background-color:  white;\n",
       "        }    #T_d720a57c_afd2_11e9_ba46_3791e66294cerow2_col0 {\n",
       "            background-color:  yellow;\n",
       "        }    #T_d720a57c_afd2_11e9_ba46_3791e66294cerow2_col1 {\n",
       "            background-color:  yellow;\n",
       "        }    #T_d720a57c_afd2_11e9_ba46_3791e66294cerow2_col2 {\n",
       "            background-color:  yellow;\n",
       "        }    #T_d720a57c_afd2_11e9_ba46_3791e66294cerow2_col3 {\n",
       "            background-color:  yellow;\n",
       "        }    #T_d720a57c_afd2_11e9_ba46_3791e66294cerow3_col0 {\n",
       "            background-color:  yellow;\n",
       "        }    #T_d720a57c_afd2_11e9_ba46_3791e66294cerow3_col1 {\n",
       "            background-color:  yellow;\n",
       "        }    #T_d720a57c_afd2_11e9_ba46_3791e66294cerow3_col2 {\n",
       "            background-color:  yellow;\n",
       "        }    #T_d720a57c_afd2_11e9_ba46_3791e66294cerow3_col3 {\n",
       "            background-color:  yellow;\n",
       "        }    #T_d720a57c_afd2_11e9_ba46_3791e66294cerow4_col0 {\n",
       "            background-color:  white;\n",
       "        }    #T_d720a57c_afd2_11e9_ba46_3791e66294cerow4_col1 {\n",
       "            background-color:  white;\n",
       "        }    #T_d720a57c_afd2_11e9_ba46_3791e66294cerow4_col2 {\n",
       "            background-color:  white;\n",
       "        }    #T_d720a57c_afd2_11e9_ba46_3791e66294cerow4_col3 {\n",
       "            background-color:  white;\n",
       "        }    #T_d720a57c_afd2_11e9_ba46_3791e66294cerow5_col0 {\n",
       "            background-color:  white;\n",
       "        }    #T_d720a57c_afd2_11e9_ba46_3791e66294cerow5_col1 {\n",
       "            background-color:  white;\n",
       "        }    #T_d720a57c_afd2_11e9_ba46_3791e66294cerow5_col2 {\n",
       "            background-color:  white;\n",
       "        }    #T_d720a57c_afd2_11e9_ba46_3791e66294cerow5_col3 {\n",
       "            background-color:  white;\n",
       "        }    #T_d720a57c_afd2_11e9_ba46_3791e66294cerow6_col0 {\n",
       "            background-color:  white;\n",
       "        }    #T_d720a57c_afd2_11e9_ba46_3791e66294cerow6_col1 {\n",
       "            background-color:  white;\n",
       "        }    #T_d720a57c_afd2_11e9_ba46_3791e66294cerow6_col2 {\n",
       "            background-color:  white;\n",
       "        }    #T_d720a57c_afd2_11e9_ba46_3791e66294cerow6_col3 {\n",
       "            background-color:  white;\n",
       "        }    #T_d720a57c_afd2_11e9_ba46_3791e66294cerow7_col0 {\n",
       "            background-color:  white;\n",
       "        }    #T_d720a57c_afd2_11e9_ba46_3791e66294cerow7_col1 {\n",
       "            background-color:  white;\n",
       "        }    #T_d720a57c_afd2_11e9_ba46_3791e66294cerow7_col2 {\n",
       "            background-color:  white;\n",
       "        }    #T_d720a57c_afd2_11e9_ba46_3791e66294cerow7_col3 {\n",
       "            background-color:  white;\n",
       "        }    #T_d720a57c_afd2_11e9_ba46_3791e66294cerow8_col0 {\n",
       "            background-color:  white;\n",
       "        }    #T_d720a57c_afd2_11e9_ba46_3791e66294cerow8_col1 {\n",
       "            background-color:  white;\n",
       "        }    #T_d720a57c_afd2_11e9_ba46_3791e66294cerow8_col2 {\n",
       "            background-color:  white;\n",
       "        }    #T_d720a57c_afd2_11e9_ba46_3791e66294cerow8_col3 {\n",
       "            background-color:  white;\n",
       "        }</style><table id=\"T_d720a57c_afd2_11e9_ba46_3791e66294ce\" ><thead>    <tr>        <th class=\"blank level0\" ></th>        <th class=\"col_heading level0 col0\" >Intern</th>        <th class=\"col_heading level0 col1\" >Drittmittel</th>        <th class=\"col_heading level0 col2\" >Ranking</th>        <th class=\"col_heading level0 col3\" >Universität im Vergleich</th>    </tr>    <tr>        <th class=\"index_name level0\" >WZW</th>        <th class=\"blank\" ></th>        <th class=\"blank\" ></th>        <th class=\"blank\" ></th>        <th class=\"blank\" ></th>    </tr></thead><tbody>\n",
       "                <tr>\n",
       "                        <th id=\"T_d720a57c_afd2_11e9_ba46_3791e66294celevel0_row0\" class=\"row_heading level0 row0\" >Gesundheitswissenschaften</th>\n",
       "                        <td id=\"T_d720a57c_afd2_11e9_ba46_3791e66294cerow0_col0\" class=\"data row0 col0\" >12.08%</td>\n",
       "                        <td id=\"T_d720a57c_afd2_11e9_ba46_3791e66294cerow0_col1\" class=\"data row0 col1\" >798,348 €</td>\n",
       "                        <td id=\"T_d720a57c_afd2_11e9_ba46_3791e66294cerow0_col2\" class=\"data row0 col2\" >5. Platz</td>\n",
       "                        <td id=\"T_d720a57c_afd2_11e9_ba46_3791e66294cerow0_col3\" class=\"data row0 col3\" ><img src=\"UWKGesundheitswissenschaften_Drittmittel.png\", width=250, height=200/></td>\n",
       "            </tr>\n",
       "            <tr>\n",
       "                        <th id=\"T_d720a57c_afd2_11e9_ba46_3791e66294celevel0_row1\" class=\"row_heading level0 row1\" >Elektrotechnik, Elektronik, Informationstechnik</th>\n",
       "                        <td id=\"T_d720a57c_afd2_11e9_ba46_3791e66294cerow1_col0\" class=\"data row1 col0\" >10.64%</td>\n",
       "                        <td id=\"T_d720a57c_afd2_11e9_ba46_3791e66294cerow1_col1\" class=\"data row1 col1\" >702,906 €</td>\n",
       "                        <td id=\"T_d720a57c_afd2_11e9_ba46_3791e66294cerow1_col2\" class=\"data row1 col2\" >5. Platz</td>\n",
       "                        <td id=\"T_d720a57c_afd2_11e9_ba46_3791e66294cerow1_col3\" class=\"data row1 col3\" ><img src=\"UWKElektrotechnik_Elektronik_Informationstechnik_Drittmittel.png\", width=250, height=200/></td>\n",
       "            </tr>\n",
       "            <tr>\n",
       "                        <th id=\"T_d720a57c_afd2_11e9_ba46_3791e66294celevel0_row2\" class=\"row_heading level0 row2\" >Politikwissenschaften</th>\n",
       "                        <td id=\"T_d720a57c_afd2_11e9_ba46_3791e66294cerow2_col0\" class=\"data row2 col0\" >8.56%</td>\n",
       "                        <td id=\"T_d720a57c_afd2_11e9_ba46_3791e66294cerow2_col1\" class=\"data row2 col1\" >565,392 €</td>\n",
       "                        <td id=\"T_d720a57c_afd2_11e9_ba46_3791e66294cerow2_col2\" class=\"data row2 col2\" >2. Platz</td>\n",
       "                        <td id=\"T_d720a57c_afd2_11e9_ba46_3791e66294cerow2_col3\" class=\"data row2 col3\" ><img src=\"UWKPolitikwissenschaften_Drittmittel.png\", width=250, height=200/></td>\n",
       "            </tr>\n",
       "            <tr>\n",
       "                        <th id=\"T_d720a57c_afd2_11e9_ba46_3791e66294celevel0_row3\" class=\"row_heading level0 row3\" >Medizinische Biotechnologie</th>\n",
       "                        <td id=\"T_d720a57c_afd2_11e9_ba46_3791e66294cerow3_col0\" class=\"data row3 col0\" >7.35%</td>\n",
       "                        <td id=\"T_d720a57c_afd2_11e9_ba46_3791e66294cerow3_col1\" class=\"data row3 col1\" >485,534 €</td>\n",
       "                        <td id=\"T_d720a57c_afd2_11e9_ba46_3791e66294cerow3_col2\" class=\"data row3 col2\" >3. Platz</td>\n",
       "                        <td id=\"T_d720a57c_afd2_11e9_ba46_3791e66294cerow3_col3\" class=\"data row3 col3\" ><img src=\"UWKMedizinische_Biotechnologie_Drittmittel.png\", width=250, height=200/></td>\n",
       "            </tr>\n",
       "            <tr>\n",
       "                        <th id=\"T_d720a57c_afd2_11e9_ba46_3791e66294celevel0_row4\" class=\"row_heading level0 row4\" >Physik, Astronomie</th>\n",
       "                        <td id=\"T_d720a57c_afd2_11e9_ba46_3791e66294cerow4_col0\" class=\"data row4 col0\" >6.08%</td>\n",
       "                        <td id=\"T_d720a57c_afd2_11e9_ba46_3791e66294cerow4_col1\" class=\"data row4 col1\" >401,762 €</td>\n",
       "                        <td id=\"T_d720a57c_afd2_11e9_ba46_3791e66294cerow4_col2\" class=\"data row4 col2\" >10. Platz</td>\n",
       "                        <td id=\"T_d720a57c_afd2_11e9_ba46_3791e66294cerow4_col3\" class=\"data row4 col3\" ><img src=\"UWKPhysik_Astronomie_Drittmittel.png\", width=250, height=200/></td>\n",
       "            </tr>\n",
       "            <tr>\n",
       "                        <th id=\"T_d720a57c_afd2_11e9_ba46_3791e66294celevel0_row5\" class=\"row_heading level0 row5\" >Andere Sozialwissenschaften</th>\n",
       "                        <td id=\"T_d720a57c_afd2_11e9_ba46_3791e66294cerow5_col0\" class=\"data row5 col0\" >6.07%</td>\n",
       "                        <td id=\"T_d720a57c_afd2_11e9_ba46_3791e66294cerow5_col1\" class=\"data row5 col1\" >400,931 €</td>\n",
       "                        <td id=\"T_d720a57c_afd2_11e9_ba46_3791e66294cerow5_col2\" class=\"data row5 col2\" >5. Platz</td>\n",
       "                        <td id=\"T_d720a57c_afd2_11e9_ba46_3791e66294cerow5_col3\" class=\"data row5 col3\" ><img src=\"UWKAndere_Sozialwissenschaften_Drittmittel.png\", width=250, height=200/></td>\n",
       "            </tr>\n",
       "            <tr>\n",
       "                        <th id=\"T_d720a57c_afd2_11e9_ba46_3791e66294celevel0_row6\" class=\"row_heading level0 row6\" >Andere Humanmedizin, Gesundheitswissenschaften</th>\n",
       "                        <td id=\"T_d720a57c_afd2_11e9_ba46_3791e66294cerow6_col0\" class=\"data row6 col0\" >6.03%</td>\n",
       "                        <td id=\"T_d720a57c_afd2_11e9_ba46_3791e66294cerow6_col1\" class=\"data row6 col1\" >398,633 €</td>\n",
       "                        <td id=\"T_d720a57c_afd2_11e9_ba46_3791e66294cerow6_col2\" class=\"data row6 col2\" >5. Platz</td>\n",
       "                        <td id=\"T_d720a57c_afd2_11e9_ba46_3791e66294cerow6_col3\" class=\"data row6 col3\" ><img src=\"UWKAndere_Humanmedizin_Gesundheitswissenschaften_Drittmittel.png\", width=250, height=200/></td>\n",
       "            </tr>\n",
       "            <tr>\n",
       "                        <th id=\"T_d720a57c_afd2_11e9_ba46_3791e66294celevel0_row7\" class=\"row_heading level0 row7\" >Informatik</th>\n",
       "                        <td id=\"T_d720a57c_afd2_11e9_ba46_3791e66294cerow7_col0\" class=\"data row7 col0\" >5.38%</td>\n",
       "                        <td id=\"T_d720a57c_afd2_11e9_ba46_3791e66294cerow7_col1\" class=\"data row7 col1\" >355,582 €</td>\n",
       "                        <td id=\"T_d720a57c_afd2_11e9_ba46_3791e66294cerow7_col2\" class=\"data row7 col2\" >11. Platz</td>\n",
       "                        <td id=\"T_d720a57c_afd2_11e9_ba46_3791e66294cerow7_col3\" class=\"data row7 col3\" ><img src=\"UWKInformatik_Drittmittel.png\", width=250, height=200/></td>\n",
       "            </tr>\n",
       "            <tr>\n",
       "                        <th id=\"T_d720a57c_afd2_11e9_ba46_3791e66294celevel0_row8\" class=\"row_heading level0 row8\" >Bauwesen</th>\n",
       "                        <td id=\"T_d720a57c_afd2_11e9_ba46_3791e66294cerow8_col0\" class=\"data row8 col0\" >4.90%</td>\n",
       "                        <td id=\"T_d720a57c_afd2_11e9_ba46_3791e66294cerow8_col1\" class=\"data row8 col1\" >323,508 €</td>\n",
       "                        <td id=\"T_d720a57c_afd2_11e9_ba46_3791e66294cerow8_col2\" class=\"data row8 col2\" >6. Platz</td>\n",
       "                        <td id=\"T_d720a57c_afd2_11e9_ba46_3791e66294cerow8_col3\" class=\"data row8 col3\" ><img src=\"UWKBauwesen_Drittmittel.png\", width=250, height=200/></td>\n",
       "            </tr>\n",
       "    </tbody></table>"
      ],
      "text/plain": [
       "<IPython.core.display.HTML object>"
      ]
     },
     "metadata": {},
     "output_type": "display_data"
    },
    {
     "data": {
      "text/html": [
       "<h2 style=\"page-break-before: always;\">Universität für angewandte Kunst Wien</h2>"
      ],
      "text/plain": [
       "<IPython.core.display.HTML object>"
      ]
     },
     "metadata": {},
     "output_type": "display_data"
    },
    {
     "data": {
      "text/html": [
       "<h3>Vergleichbare Universitäten in Publikationen- und Drittmittel-Struktur</h3><ul>"
      ],
      "text/plain": [
       "<IPython.core.display.HTML object>"
      ]
     },
     "metadata": {},
     "output_type": "display_data"
    },
    {
     "data": {
      "text/html": [
       "<li style=\"margin-bottom: 5px;\">Akademie der bildenden Künste Wien</li>"
      ],
      "text/plain": [
       "<IPython.core.display.HTML object>"
      ]
     },
     "metadata": {},
     "output_type": "display_data"
    },
    {
     "data": {
      "text/html": [
       "</ul>"
      ],
      "text/plain": [
       "<IPython.core.display.HTML object>"
      ]
     },
     "metadata": {},
     "output_type": "display_data"
    },
    {
     "data": {
      "text/html": [
       "<h4>Vergleichbar bei der Publikationen-Struktur</h4>"
      ],
      "text/plain": [
       "<IPython.core.display.HTML object>"
      ]
     },
     "metadata": {},
     "output_type": "display_data"
    },
    {
     "data": {
      "text/html": [
       "<p><strong>Akademie der bildenden Künste Wien</strong> (53.6%, wegen &auml;hnlicher interner Relevanz von Kunstwissenschaften, Bildende Kunst, Medien- und Kommunikationswissenschaften)</p>"
      ],
      "text/plain": [
       "<IPython.core.display.HTML object>"
      ]
     },
     "metadata": {},
     "output_type": "display_data"
    },
    {
     "data": {
      "text/html": [
       "<h4>Vergleichbar bei der Drittmittel-Struktur</h4>"
      ],
      "text/plain": [
       "<IPython.core.display.HTML object>"
      ]
     },
     "metadata": {},
     "output_type": "display_data"
    },
    {
     "data": {
      "text/html": [
       "<p><strong>Akademie der bildenden Künste Wien</strong> (55.7%, wegen &auml;hnlicher interner Relevanz von Kunstwissenschaften, Architektur, Bildende Kunst)</p>"
      ],
      "text/plain": [
       "<IPython.core.display.HTML object>"
      ]
     },
     "metadata": {},
     "output_type": "display_data"
    },
    {
     "data": {
      "text/html": [
       "<p><small>Universitäten mit einer Ähnlichkeit von weniger als 50% werden nicht angezeigt.</small></p>"
      ],
      "text/plain": [
       "<IPython.core.display.HTML object>"
      ]
     },
     "metadata": {},
     "output_type": "display_data"
    },
    {
     "data": {
      "text/html": [
       "<h3>Publikationen-Struktur der UAW</h3>"
      ],
      "text/plain": [
       "<IPython.core.display.HTML object>"
      ]
     },
     "metadata": {},
     "output_type": "display_data"
    },
    {
     "data": {
      "text/html": [
       "Angezeigt werden WZW, die zusammen 69.4% der Publikationen an der UAW ausmachen. Alle anderen WZW tragen je weniger als 3.8% bei. Die Spalte \"Ranking\" bezieht sich  auf den &ouml;sterreichweiten Vergleich der absoluten Werte pro WZW"
      ],
      "text/plain": [
       "<IPython.core.display.HTML object>"
      ]
     },
     "metadata": {},
     "output_type": "display_data"
    },
    {
     "data": {
      "text/html": [
       "<style  type=\"text/css\" >\n",
       "    #T_d766cd5e_afd2_11e9_ba46_3791e66294cerow0_col0 {\n",
       "            background-color:  white;\n",
       "        }    #T_d766cd5e_afd2_11e9_ba46_3791e66294cerow0_col1 {\n",
       "            background-color:  white;\n",
       "        }    #T_d766cd5e_afd2_11e9_ba46_3791e66294cerow0_col2 {\n",
       "            background-color:  white;\n",
       "        }    #T_d766cd5e_afd2_11e9_ba46_3791e66294cerow0_col3 {\n",
       "            background-color:  white;\n",
       "        }    #T_d766cd5e_afd2_11e9_ba46_3791e66294cerow1_col0 {\n",
       "            background-color:  green;\n",
       "        }    #T_d766cd5e_afd2_11e9_ba46_3791e66294cerow1_col1 {\n",
       "            background-color:  green;\n",
       "        }    #T_d766cd5e_afd2_11e9_ba46_3791e66294cerow1_col2 {\n",
       "            background-color:  green;\n",
       "        }    #T_d766cd5e_afd2_11e9_ba46_3791e66294cerow1_col3 {\n",
       "            background-color:  green;\n",
       "        }    #T_d766cd5e_afd2_11e9_ba46_3791e66294cerow2_col0 {\n",
       "            background-color:  yellow;\n",
       "        }    #T_d766cd5e_afd2_11e9_ba46_3791e66294cerow2_col1 {\n",
       "            background-color:  yellow;\n",
       "        }    #T_d766cd5e_afd2_11e9_ba46_3791e66294cerow2_col2 {\n",
       "            background-color:  yellow;\n",
       "        }    #T_d766cd5e_afd2_11e9_ba46_3791e66294cerow2_col3 {\n",
       "            background-color:  yellow;\n",
       "        }    #T_d766cd5e_afd2_11e9_ba46_3791e66294cerow3_col0 {\n",
       "            background-color:  white;\n",
       "        }    #T_d766cd5e_afd2_11e9_ba46_3791e66294cerow3_col1 {\n",
       "            background-color:  white;\n",
       "        }    #T_d766cd5e_afd2_11e9_ba46_3791e66294cerow3_col2 {\n",
       "            background-color:  white;\n",
       "        }    #T_d766cd5e_afd2_11e9_ba46_3791e66294cerow3_col3 {\n",
       "            background-color:  white;\n",
       "        }    #T_d766cd5e_afd2_11e9_ba46_3791e66294cerow4_col0 {\n",
       "            background-color:  yellow;\n",
       "        }    #T_d766cd5e_afd2_11e9_ba46_3791e66294cerow4_col1 {\n",
       "            background-color:  yellow;\n",
       "        }    #T_d766cd5e_afd2_11e9_ba46_3791e66294cerow4_col2 {\n",
       "            background-color:  yellow;\n",
       "        }    #T_d766cd5e_afd2_11e9_ba46_3791e66294cerow4_col3 {\n",
       "            background-color:  yellow;\n",
       "        }</style><table id=\"T_d766cd5e_afd2_11e9_ba46_3791e66294ce\" ><thead>    <tr>        <th class=\"blank level0\" ></th>        <th class=\"col_heading level0 col0\" >Intern</th>        <th class=\"col_heading level0 col1\" >Publikationen</th>        <th class=\"col_heading level0 col2\" >Ranking</th>        <th class=\"col_heading level0 col3\" >Universität im Vergleich</th>    </tr>    <tr>        <th class=\"index_name level0\" >WZW</th>        <th class=\"blank\" ></th>        <th class=\"blank\" ></th>        <th class=\"blank\" ></th>        <th class=\"blank\" ></th>    </tr></thead><tbody>\n",
       "                <tr>\n",
       "                        <th id=\"T_d766cd5e_afd2_11e9_ba46_3791e66294celevel0_row0\" class=\"row_heading level0 row0\" >Kunstwissenschaften</th>\n",
       "                        <td id=\"T_d766cd5e_afd2_11e9_ba46_3791e66294cerow0_col0\" class=\"data row0 col0\" >26.25%</td>\n",
       "                        <td id=\"T_d766cd5e_afd2_11e9_ba46_3791e66294cerow0_col1\" class=\"data row0 col1\" >42 Publikationen</td>\n",
       "                        <td id=\"T_d766cd5e_afd2_11e9_ba46_3791e66294cerow0_col2\" class=\"data row0 col2\" >8. Platz</td>\n",
       "                        <td id=\"T_d766cd5e_afd2_11e9_ba46_3791e66294cerow0_col3\" class=\"data row0 col3\" ><img src=\"UAWKunstwissenschaften_Publikationen.png\", width=250, height=200/></td>\n",
       "            </tr>\n",
       "            <tr>\n",
       "                        <th id=\"T_d766cd5e_afd2_11e9_ba46_3791e66294celevel0_row1\" class=\"row_heading level0 row1\" >Konservierung und Restaurierung</th>\n",
       "                        <td id=\"T_d766cd5e_afd2_11e9_ba46_3791e66294cerow1_col0\" class=\"data row1 col0\" >23.75%</td>\n",
       "                        <td id=\"T_d766cd5e_afd2_11e9_ba46_3791e66294cerow1_col1\" class=\"data row1 col1\" >38 Publikationen</td>\n",
       "                        <td id=\"T_d766cd5e_afd2_11e9_ba46_3791e66294cerow1_col2\" class=\"data row1 col2\" >1. Platz</td>\n",
       "                        <td id=\"T_d766cd5e_afd2_11e9_ba46_3791e66294cerow1_col3\" class=\"data row1 col3\" ><img src=\"UAWKonservierung_und_Restaurierung_Publikationen.png\", width=250, height=200/></td>\n",
       "            </tr>\n",
       "            <tr>\n",
       "                        <th id=\"T_d766cd5e_afd2_11e9_ba46_3791e66294celevel0_row2\" class=\"row_heading level0 row2\" >Bildende Kunst</th>\n",
       "                        <td id=\"T_d766cd5e_afd2_11e9_ba46_3791e66294cerow2_col0\" class=\"data row2 col0\" >10.62%</td>\n",
       "                        <td id=\"T_d766cd5e_afd2_11e9_ba46_3791e66294cerow2_col1\" class=\"data row2 col1\" >17 Publikationen</td>\n",
       "                        <td id=\"T_d766cd5e_afd2_11e9_ba46_3791e66294cerow2_col2\" class=\"data row2 col2\" >2. Platz</td>\n",
       "                        <td id=\"T_d766cd5e_afd2_11e9_ba46_3791e66294cerow2_col3\" class=\"data row2 col3\" ><img src=\"UAWBildende_Kunst_Publikationen.png\", width=250, height=200/></td>\n",
       "            </tr>\n",
       "            <tr>\n",
       "                        <th id=\"T_d766cd5e_afd2_11e9_ba46_3791e66294celevel0_row3\" class=\"row_heading level0 row3\" >Medien- und Kommunikationswissenschaften</th>\n",
       "                        <td id=\"T_d766cd5e_afd2_11e9_ba46_3791e66294cerow3_col0\" class=\"data row3 col0\" >5.00%</td>\n",
       "                        <td id=\"T_d766cd5e_afd2_11e9_ba46_3791e66294cerow3_col1\" class=\"data row3 col1\" >8 Publikationen</td>\n",
       "                        <td id=\"T_d766cd5e_afd2_11e9_ba46_3791e66294cerow3_col2\" class=\"data row3 col2\" >6. Platz</td>\n",
       "                        <td id=\"T_d766cd5e_afd2_11e9_ba46_3791e66294cerow3_col3\" class=\"data row3 col3\" ><img src=\"UAWMedien-_und_Kommunikationswissenschaften_Publikationen.png\", width=250, height=200/></td>\n",
       "            </tr>\n",
       "            <tr>\n",
       "                        <th id=\"T_d766cd5e_afd2_11e9_ba46_3791e66294celevel0_row4\" class=\"row_heading level0 row4\" >Architektur</th>\n",
       "                        <td id=\"T_d766cd5e_afd2_11e9_ba46_3791e66294cerow4_col0\" class=\"data row4 col0\" >3.75%</td>\n",
       "                        <td id=\"T_d766cd5e_afd2_11e9_ba46_3791e66294cerow4_col1\" class=\"data row4 col1\" >6 Publikationen</td>\n",
       "                        <td id=\"T_d766cd5e_afd2_11e9_ba46_3791e66294cerow4_col2\" class=\"data row4 col2\" >3. Platz</td>\n",
       "                        <td id=\"T_d766cd5e_afd2_11e9_ba46_3791e66294cerow4_col3\" class=\"data row4 col3\" ><img src=\"UAWArchitektur_Publikationen.png\", width=250, height=200/></td>\n",
       "            </tr>\n",
       "    </tbody></table>"
      ],
      "text/plain": [
       "<IPython.core.display.HTML object>"
      ]
     },
     "metadata": {},
     "output_type": "display_data"
    },
    {
     "data": {
      "text/html": [
       "<h3>Drittmittel-Struktur der UAW</h3>"
      ],
      "text/plain": [
       "<IPython.core.display.HTML object>"
      ]
     },
     "metadata": {},
     "output_type": "display_data"
    },
    {
     "data": {
      "text/html": [
       "Angezeigt werden WZW, die zusammen 70.1% der Drittmittel an der UAW ausmachen. Alle anderen WZW tragen je weniger als 8.7% bei. Die Spalte \"Ranking\" bezieht sich  auf den &ouml;sterreichweiten Vergleich der absoluten Werte pro WZW"
      ],
      "text/plain": [
       "<IPython.core.display.HTML object>"
      ]
     },
     "metadata": {},
     "output_type": "display_data"
    },
    {
     "data": {
      "text/html": [
       "<style  type=\"text/css\" >\n",
       "    #T_d7963d96_afd2_11e9_ba46_3791e66294cerow0_col0 {\n",
       "            background-color:  yellow;\n",
       "        }    #T_d7963d96_afd2_11e9_ba46_3791e66294cerow0_col1 {\n",
       "            background-color:  yellow;\n",
       "        }    #T_d7963d96_afd2_11e9_ba46_3791e66294cerow0_col2 {\n",
       "            background-color:  yellow;\n",
       "        }    #T_d7963d96_afd2_11e9_ba46_3791e66294cerow0_col3 {\n",
       "            background-color:  yellow;\n",
       "        }    #T_d7963d96_afd2_11e9_ba46_3791e66294cerow1_col0 {\n",
       "            background-color:  green;\n",
       "        }    #T_d7963d96_afd2_11e9_ba46_3791e66294cerow1_col1 {\n",
       "            background-color:  green;\n",
       "        }    #T_d7963d96_afd2_11e9_ba46_3791e66294cerow1_col2 {\n",
       "            background-color:  green;\n",
       "        }    #T_d7963d96_afd2_11e9_ba46_3791e66294cerow1_col3 {\n",
       "            background-color:  green;\n",
       "        }    #T_d7963d96_afd2_11e9_ba46_3791e66294cerow2_col0 {\n",
       "            background-color:  yellow;\n",
       "        }    #T_d7963d96_afd2_11e9_ba46_3791e66294cerow2_col1 {\n",
       "            background-color:  yellow;\n",
       "        }    #T_d7963d96_afd2_11e9_ba46_3791e66294cerow2_col2 {\n",
       "            background-color:  yellow;\n",
       "        }    #T_d7963d96_afd2_11e9_ba46_3791e66294cerow2_col3 {\n",
       "            background-color:  yellow;\n",
       "        }    #T_d7963d96_afd2_11e9_ba46_3791e66294cerow3_col0 {\n",
       "            background-color:  green;\n",
       "        }    #T_d7963d96_afd2_11e9_ba46_3791e66294cerow3_col1 {\n",
       "            background-color:  green;\n",
       "        }    #T_d7963d96_afd2_11e9_ba46_3791e66294cerow3_col2 {\n",
       "            background-color:  green;\n",
       "        }    #T_d7963d96_afd2_11e9_ba46_3791e66294cerow3_col3 {\n",
       "            background-color:  green;\n",
       "        }</style><table id=\"T_d7963d96_afd2_11e9_ba46_3791e66294ce\" ><thead>    <tr>        <th class=\"blank level0\" ></th>        <th class=\"col_heading level0 col0\" >Intern</th>        <th class=\"col_heading level0 col1\" >Drittmittel</th>        <th class=\"col_heading level0 col2\" >Ranking</th>        <th class=\"col_heading level0 col3\" >Universität im Vergleich</th>    </tr>    <tr>        <th class=\"index_name level0\" >WZW</th>        <th class=\"blank\" ></th>        <th class=\"blank\" ></th>        <th class=\"blank\" ></th>        <th class=\"blank\" ></th>    </tr></thead><tbody>\n",
       "                <tr>\n",
       "                        <th id=\"T_d7963d96_afd2_11e9_ba46_3791e66294celevel0_row0\" class=\"row_heading level0 row0\" >Kunstwissenschaften</th>\n",
       "                        <td id=\"T_d7963d96_afd2_11e9_ba46_3791e66294cerow0_col0\" class=\"data row0 col0\" >28.24%</td>\n",
       "                        <td id=\"T_d7963d96_afd2_11e9_ba46_3791e66294cerow0_col1\" class=\"data row0 col1\" >705,934 €</td>\n",
       "                        <td id=\"T_d7963d96_afd2_11e9_ba46_3791e66294cerow0_col2\" class=\"data row0 col2\" >2. Platz</td>\n",
       "                        <td id=\"T_d7963d96_afd2_11e9_ba46_3791e66294cerow0_col3\" class=\"data row0 col3\" ><img src=\"UAWKunstwissenschaften_Drittmittel.png\", width=250, height=200/></td>\n",
       "            </tr>\n",
       "            <tr>\n",
       "                        <th id=\"T_d7963d96_afd2_11e9_ba46_3791e66294celevel0_row1\" class=\"row_heading level0 row1\" >Bildende Kunst</th>\n",
       "                        <td id=\"T_d7963d96_afd2_11e9_ba46_3791e66294cerow1_col0\" class=\"data row1 col0\" >20.04%</td>\n",
       "                        <td id=\"T_d7963d96_afd2_11e9_ba46_3791e66294cerow1_col1\" class=\"data row1 col1\" >500,877 €</td>\n",
       "                        <td id=\"T_d7963d96_afd2_11e9_ba46_3791e66294cerow1_col2\" class=\"data row1 col2\" >1. Platz</td>\n",
       "                        <td id=\"T_d7963d96_afd2_11e9_ba46_3791e66294cerow1_col3\" class=\"data row1 col3\" ><img src=\"UAWBildende_Kunst_Drittmittel.png\", width=250, height=200/></td>\n",
       "            </tr>\n",
       "            <tr>\n",
       "                        <th id=\"T_d7963d96_afd2_11e9_ba46_3791e66294celevel0_row2\" class=\"row_heading level0 row2\" >Architektur</th>\n",
       "                        <td id=\"T_d7963d96_afd2_11e9_ba46_3791e66294cerow2_col0\" class=\"data row2 col0\" >13.13%</td>\n",
       "                        <td id=\"T_d7963d96_afd2_11e9_ba46_3791e66294cerow2_col1\" class=\"data row2 col1\" >328,301 €</td>\n",
       "                        <td id=\"T_d7963d96_afd2_11e9_ba46_3791e66294cerow2_col2\" class=\"data row2 col2\" >2. Platz</td>\n",
       "                        <td id=\"T_d7963d96_afd2_11e9_ba46_3791e66294cerow2_col3\" class=\"data row2 col3\" ><img src=\"UAWArchitektur_Drittmittel.png\", width=250, height=200/></td>\n",
       "            </tr>\n",
       "            <tr>\n",
       "                        <th id=\"T_d7963d96_afd2_11e9_ba46_3791e66294celevel0_row3\" class=\"row_heading level0 row3\" >Konservierung und Restaurierung</th>\n",
       "                        <td id=\"T_d7963d96_afd2_11e9_ba46_3791e66294cerow3_col0\" class=\"data row3 col0\" >8.72%</td>\n",
       "                        <td id=\"T_d7963d96_afd2_11e9_ba46_3791e66294cerow3_col1\" class=\"data row3 col1\" >217,924 €</td>\n",
       "                        <td id=\"T_d7963d96_afd2_11e9_ba46_3791e66294cerow3_col2\" class=\"data row3 col2\" >1. Platz</td>\n",
       "                        <td id=\"T_d7963d96_afd2_11e9_ba46_3791e66294cerow3_col3\" class=\"data row3 col3\" ><img src=\"UAWKonservierung_und_Restaurierung_Drittmittel.png\", width=250, height=200/></td>\n",
       "            </tr>\n",
       "    </tbody></table>"
      ],
      "text/plain": [
       "<IPython.core.display.HTML object>"
      ]
     },
     "metadata": {},
     "output_type": "display_data"
    },
    {
     "data": {
      "text/html": [
       "<h2 style=\"page-break-before: always;\">Universität für künstlerische und industrielle Gestaltung Linz</h2>"
      ],
      "text/plain": [
       "<IPython.core.display.HTML object>"
      ]
     },
     "metadata": {},
     "output_type": "display_data"
    },
    {
     "data": {
      "text/html": [
       "<h3>Vergleichbare Universitäten in Publikationen- und Drittmittel-Struktur</h3><ul>"
      ],
      "text/plain": [
       "<IPython.core.display.HTML object>"
      ]
     },
     "metadata": {},
     "output_type": "display_data"
    },
    {
     "data": {
      "text/html": [
       "<li><strong>Keine.</strong> Die Universität für künstlerische und industrielle Gestaltung Linz ist stark spezialisiert.</li>"
      ],
      "text/plain": [
       "<IPython.core.display.HTML object>"
      ]
     },
     "metadata": {},
     "output_type": "display_data"
    },
    {
     "data": {
      "text/html": [
       "</ul>"
      ],
      "text/plain": [
       "<IPython.core.display.HTML object>"
      ]
     },
     "metadata": {},
     "output_type": "display_data"
    },
    {
     "data": {
      "text/html": [
       "<h4>Vergleichbar bei der Publikationen-Struktur</h4>"
      ],
      "text/plain": [
       "<IPython.core.display.HTML object>"
      ]
     },
     "metadata": {},
     "output_type": "display_data"
    },
    {
     "data": {
      "text/html": [
       "<p>Die Universität für künstlerische und industrielle Gestaltung Linz ist im Bereich Publikationen spezialisiert.<br/><strong>Keine</strong> andere Universität ähnelt der Universität für künstlerische und industrielle Gestaltung Linz in der Publikationen-Struktur in auffälliger Weise.</p>"
      ],
      "text/plain": [
       "<IPython.core.display.HTML object>"
      ]
     },
     "metadata": {},
     "output_type": "display_data"
    },
    {
     "data": {
      "text/html": [
       "<h4>Vergleichbar bei der Drittmittel-Struktur</h4>"
      ],
      "text/plain": [
       "<IPython.core.display.HTML object>"
      ]
     },
     "metadata": {},
     "output_type": "display_data"
    },
    {
     "data": {
      "text/html": [
       "<p>Die Universität für künstlerische und industrielle Gestaltung Linz ist im Bereich Drittmittel spezialisiert.<br/><strong>Keine</strong> andere Universität ähnelt der Universität für künstlerische und industrielle Gestaltung Linz in der Drittmittel-Struktur in auffälliger Weise.</p>"
      ],
      "text/plain": [
       "<IPython.core.display.HTML object>"
      ]
     },
     "metadata": {},
     "output_type": "display_data"
    },
    {
     "data": {
      "text/html": [
       "<p><small>Universitäten mit einer Ähnlichkeit von weniger als 50% werden nicht angezeigt.</small></p>"
      ],
      "text/plain": [
       "<IPython.core.display.HTML object>"
      ]
     },
     "metadata": {},
     "output_type": "display_data"
    },
    {
     "data": {
      "text/html": [
       "<h3>Publikationen-Struktur der UGL</h3>"
      ],
      "text/plain": [
       "<IPython.core.display.HTML object>"
      ]
     },
     "metadata": {},
     "output_type": "display_data"
    },
    {
     "data": {
      "text/html": [
       "Angezeigt werden WZW, die zusammen 71.7% der Publikationen an der UGL ausmachen. Alle anderen WZW tragen je weniger als 9.4% bei. Die Spalte \"Ranking\" bezieht sich  auf den &ouml;sterreichweiten Vergleich der absoluten Werte pro WZW"
      ],
      "text/plain": [
       "<IPython.core.display.HTML object>"
      ]
     },
     "metadata": {},
     "output_type": "display_data"
    },
    {
     "data": {
      "text/html": [
       "<style  type=\"text/css\" >\n",
       "    #T_d7d2c3ba_afd2_11e9_ba46_3791e66294cerow0_col0 {\n",
       "            background-color:  white;\n",
       "        }    #T_d7d2c3ba_afd2_11e9_ba46_3791e66294cerow0_col1 {\n",
       "            background-color:  white;\n",
       "        }    #T_d7d2c3ba_afd2_11e9_ba46_3791e66294cerow0_col2 {\n",
       "            background-color:  white;\n",
       "        }    #T_d7d2c3ba_afd2_11e9_ba46_3791e66294cerow0_col3 {\n",
       "            background-color:  white;\n",
       "        }    #T_d7d2c3ba_afd2_11e9_ba46_3791e66294cerow1_col0 {\n",
       "            background-color:  green;\n",
       "        }    #T_d7d2c3ba_afd2_11e9_ba46_3791e66294cerow1_col1 {\n",
       "            background-color:  green;\n",
       "        }    #T_d7d2c3ba_afd2_11e9_ba46_3791e66294cerow1_col2 {\n",
       "            background-color:  green;\n",
       "        }    #T_d7d2c3ba_afd2_11e9_ba46_3791e66294cerow1_col3 {\n",
       "            background-color:  green;\n",
       "        }    #T_d7d2c3ba_afd2_11e9_ba46_3791e66294cerow2_col0 {\n",
       "            background-color:  white;\n",
       "        }    #T_d7d2c3ba_afd2_11e9_ba46_3791e66294cerow2_col1 {\n",
       "            background-color:  white;\n",
       "        }    #T_d7d2c3ba_afd2_11e9_ba46_3791e66294cerow2_col2 {\n",
       "            background-color:  white;\n",
       "        }    #T_d7d2c3ba_afd2_11e9_ba46_3791e66294cerow2_col3 {\n",
       "            background-color:  white;\n",
       "        }    #T_d7d2c3ba_afd2_11e9_ba46_3791e66294cerow3_col0 {\n",
       "            background-color:  yellow;\n",
       "        }    #T_d7d2c3ba_afd2_11e9_ba46_3791e66294cerow3_col1 {\n",
       "            background-color:  yellow;\n",
       "        }    #T_d7d2c3ba_afd2_11e9_ba46_3791e66294cerow3_col2 {\n",
       "            background-color:  yellow;\n",
       "        }    #T_d7d2c3ba_afd2_11e9_ba46_3791e66294cerow3_col3 {\n",
       "            background-color:  yellow;\n",
       "        }</style><table id=\"T_d7d2c3ba_afd2_11e9_ba46_3791e66294ce\" ><thead>    <tr>        <th class=\"blank level0\" ></th>        <th class=\"col_heading level0 col0\" >Intern</th>        <th class=\"col_heading level0 col1\" >Publikationen</th>        <th class=\"col_heading level0 col2\" >Ranking</th>        <th class=\"col_heading level0 col3\" >Universität im Vergleich</th>    </tr>    <tr>        <th class=\"index_name level0\" >WZW</th>        <th class=\"blank\" ></th>        <th class=\"blank\" ></th>        <th class=\"blank\" ></th>        <th class=\"blank\" ></th>    </tr></thead><tbody>\n",
       "                <tr>\n",
       "                        <th id=\"T_d7d2c3ba_afd2_11e9_ba46_3791e66294celevel0_row0\" class=\"row_heading level0 row0\" >Soziologie</th>\n",
       "                        <td id=\"T_d7d2c3ba_afd2_11e9_ba46_3791e66294cerow0_col0\" class=\"data row0 col0\" >34.06%</td>\n",
       "                        <td id=\"T_d7d2c3ba_afd2_11e9_ba46_3791e66294cerow0_col1\" class=\"data row0 col1\" >47 Publikationen</td>\n",
       "                        <td id=\"T_d7d2c3ba_afd2_11e9_ba46_3791e66294cerow0_col2\" class=\"data row0 col2\" >4. Platz</td>\n",
       "                        <td id=\"T_d7d2c3ba_afd2_11e9_ba46_3791e66294cerow0_col3\" class=\"data row0 col3\" ><img src=\"UGLSoziologie_Publikationen.png\", width=250, height=200/></td>\n",
       "            </tr>\n",
       "            <tr>\n",
       "                        <th id=\"T_d7d2c3ba_afd2_11e9_ba46_3791e66294celevel0_row1\" class=\"row_heading level0 row1\" >Mediengestaltung</th>\n",
       "                        <td id=\"T_d7d2c3ba_afd2_11e9_ba46_3791e66294cerow1_col0\" class=\"data row1 col0\" >15.94%</td>\n",
       "                        <td id=\"T_d7d2c3ba_afd2_11e9_ba46_3791e66294cerow1_col1\" class=\"data row1 col1\" >22 Publikationen</td>\n",
       "                        <td id=\"T_d7d2c3ba_afd2_11e9_ba46_3791e66294cerow1_col2\" class=\"data row1 col2\" >1. Platz</td>\n",
       "                        <td id=\"T_d7d2c3ba_afd2_11e9_ba46_3791e66294cerow1_col3\" class=\"data row1 col3\" ><img src=\"UGLMediengestaltung_Publikationen.png\", width=250, height=200/></td>\n",
       "            </tr>\n",
       "            <tr>\n",
       "                        <th id=\"T_d7d2c3ba_afd2_11e9_ba46_3791e66294celevel0_row2\" class=\"row_heading level0 row2\" >Kunstwissenschaften</th>\n",
       "                        <td id=\"T_d7d2c3ba_afd2_11e9_ba46_3791e66294cerow2_col0\" class=\"data row2 col0\" >12.32%</td>\n",
       "                        <td id=\"T_d7d2c3ba_afd2_11e9_ba46_3791e66294cerow2_col1\" class=\"data row2 col1\" >17 Publikationen</td>\n",
       "                        <td id=\"T_d7d2c3ba_afd2_11e9_ba46_3791e66294cerow2_col2\" class=\"data row2 col2\" >10. Platz</td>\n",
       "                        <td id=\"T_d7d2c3ba_afd2_11e9_ba46_3791e66294cerow2_col3\" class=\"data row2 col3\" ><img src=\"UGLKunstwissenschaften_Publikationen.png\", width=250, height=200/></td>\n",
       "            </tr>\n",
       "            <tr>\n",
       "                        <th id=\"T_d7d2c3ba_afd2_11e9_ba46_3791e66294celevel0_row3\" class=\"row_heading level0 row3\" >Architektur</th>\n",
       "                        <td id=\"T_d7d2c3ba_afd2_11e9_ba46_3791e66294cerow3_col0\" class=\"data row3 col0\" >9.42%</td>\n",
       "                        <td id=\"T_d7d2c3ba_afd2_11e9_ba46_3791e66294cerow3_col1\" class=\"data row3 col1\" >13 Publikationen</td>\n",
       "                        <td id=\"T_d7d2c3ba_afd2_11e9_ba46_3791e66294cerow3_col2\" class=\"data row3 col2\" >2. Platz</td>\n",
       "                        <td id=\"T_d7d2c3ba_afd2_11e9_ba46_3791e66294cerow3_col3\" class=\"data row3 col3\" ><img src=\"UGLArchitektur_Publikationen.png\", width=250, height=200/></td>\n",
       "            </tr>\n",
       "    </tbody></table>"
      ],
      "text/plain": [
       "<IPython.core.display.HTML object>"
      ]
     },
     "metadata": {},
     "output_type": "display_data"
    },
    {
     "data": {
      "text/html": [
       "<h3>Drittmittel-Struktur der UGL</h3>"
      ],
      "text/plain": [
       "<IPython.core.display.HTML object>"
      ]
     },
     "metadata": {},
     "output_type": "display_data"
    },
    {
     "data": {
      "text/html": [
       "Angezeigt werden WZW, die zusammen 74.3% der Drittmittel an der UGL ausmachen. Alle anderen WZW tragen je weniger als 14.6% bei. Die Spalte \"Ranking\" bezieht sich  auf den &ouml;sterreichweiten Vergleich der absoluten Werte pro WZW"
      ],
      "text/plain": [
       "<IPython.core.display.HTML object>"
      ]
     },
     "metadata": {},
     "output_type": "display_data"
    },
    {
     "data": {
      "text/html": [
       "<style  type=\"text/css\" >\n",
       "    #T_d7f8d4a6_afd2_11e9_ba46_3791e66294cerow0_col0 {\n",
       "            background-color:  green;\n",
       "        }    #T_d7f8d4a6_afd2_11e9_ba46_3791e66294cerow0_col1 {\n",
       "            background-color:  green;\n",
       "        }    #T_d7f8d4a6_afd2_11e9_ba46_3791e66294cerow0_col2 {\n",
       "            background-color:  green;\n",
       "        }    #T_d7f8d4a6_afd2_11e9_ba46_3791e66294cerow0_col3 {\n",
       "            background-color:  green;\n",
       "        }    #T_d7f8d4a6_afd2_11e9_ba46_3791e66294cerow1_col0 {\n",
       "            background-color:  yellow;\n",
       "        }    #T_d7f8d4a6_afd2_11e9_ba46_3791e66294cerow1_col1 {\n",
       "            background-color:  yellow;\n",
       "        }    #T_d7f8d4a6_afd2_11e9_ba46_3791e66294cerow1_col2 {\n",
       "            background-color:  yellow;\n",
       "        }    #T_d7f8d4a6_afd2_11e9_ba46_3791e66294cerow1_col3 {\n",
       "            background-color:  yellow;\n",
       "        }    #T_d7f8d4a6_afd2_11e9_ba46_3791e66294cerow2_col0 {\n",
       "            background-color:  green;\n",
       "        }    #T_d7f8d4a6_afd2_11e9_ba46_3791e66294cerow2_col1 {\n",
       "            background-color:  green;\n",
       "        }    #T_d7f8d4a6_afd2_11e9_ba46_3791e66294cerow2_col2 {\n",
       "            background-color:  green;\n",
       "        }    #T_d7f8d4a6_afd2_11e9_ba46_3791e66294cerow2_col3 {\n",
       "            background-color:  green;\n",
       "        }</style><table id=\"T_d7f8d4a6_afd2_11e9_ba46_3791e66294ce\" ><thead>    <tr>        <th class=\"blank level0\" ></th>        <th class=\"col_heading level0 col0\" >Intern</th>        <th class=\"col_heading level0 col1\" >Drittmittel</th>        <th class=\"col_heading level0 col2\" >Ranking</th>        <th class=\"col_heading level0 col3\" >Universität im Vergleich</th>    </tr>    <tr>        <th class=\"index_name level0\" >WZW</th>        <th class=\"blank\" ></th>        <th class=\"blank\" ></th>        <th class=\"blank\" ></th>        <th class=\"blank\" ></th>    </tr></thead><tbody>\n",
       "                <tr>\n",
       "                        <th id=\"T_d7f8d4a6_afd2_11e9_ba46_3791e66294celevel0_row0\" class=\"row_heading level0 row0\" >Architektur</th>\n",
       "                        <td id=\"T_d7f8d4a6_afd2_11e9_ba46_3791e66294cerow0_col0\" class=\"data row0 col0\" >36.97%</td>\n",
       "                        <td id=\"T_d7f8d4a6_afd2_11e9_ba46_3791e66294cerow0_col1\" class=\"data row0 col1\" >653,979 €</td>\n",
       "                        <td id=\"T_d7f8d4a6_afd2_11e9_ba46_3791e66294cerow0_col2\" class=\"data row0 col2\" >1. Platz</td>\n",
       "                        <td id=\"T_d7f8d4a6_afd2_11e9_ba46_3791e66294cerow0_col3\" class=\"data row0 col3\" ><img src=\"UGLArchitektur_Drittmittel.png\", width=250, height=200/></td>\n",
       "            </tr>\n",
       "            <tr>\n",
       "                        <th id=\"T_d7f8d4a6_afd2_11e9_ba46_3791e66294celevel0_row1\" class=\"row_heading level0 row1\" >Pädagogik / Vermittlung (2)</th>\n",
       "                        <td id=\"T_d7f8d4a6_afd2_11e9_ba46_3791e66294cerow1_col0\" class=\"data row1 col0\" >22.81%</td>\n",
       "                        <td id=\"T_d7f8d4a6_afd2_11e9_ba46_3791e66294cerow1_col1\" class=\"data row1 col1\" >403,483 €</td>\n",
       "                        <td id=\"T_d7f8d4a6_afd2_11e9_ba46_3791e66294cerow1_col2\" class=\"data row1 col2\" >2. Platz</td>\n",
       "                        <td id=\"T_d7f8d4a6_afd2_11e9_ba46_3791e66294cerow1_col3\" class=\"data row1 col3\" ><img src=\"UGLPädagogik__Vermittlung_2_Drittmittel.png\", width=250, height=200/></td>\n",
       "            </tr>\n",
       "            <tr>\n",
       "                        <th id=\"T_d7f8d4a6_afd2_11e9_ba46_3791e66294celevel0_row2\" class=\"row_heading level0 row2\" >Mediengestaltung</th>\n",
       "                        <td id=\"T_d7f8d4a6_afd2_11e9_ba46_3791e66294cerow2_col0\" class=\"data row2 col0\" >14.56%</td>\n",
       "                        <td id=\"T_d7f8d4a6_afd2_11e9_ba46_3791e66294cerow2_col1\" class=\"data row2 col1\" >257,533 €</td>\n",
       "                        <td id=\"T_d7f8d4a6_afd2_11e9_ba46_3791e66294cerow2_col2\" class=\"data row2 col2\" >1. Platz</td>\n",
       "                        <td id=\"T_d7f8d4a6_afd2_11e9_ba46_3791e66294cerow2_col3\" class=\"data row2 col3\" ><img src=\"UGLMediengestaltung_Drittmittel.png\", width=250, height=200/></td>\n",
       "            </tr>\n",
       "    </tbody></table>"
      ],
      "text/plain": [
       "<IPython.core.display.HTML object>"
      ]
     },
     "metadata": {},
     "output_type": "display_data"
    },
    {
     "data": {
      "text/html": [
       "<h2 style=\"page-break-before: always;\">Veterinärmedizinische Universität Wien</h2>"
      ],
      "text/plain": [
       "<IPython.core.display.HTML object>"
      ]
     },
     "metadata": {},
     "output_type": "display_data"
    },
    {
     "data": {
      "text/html": [
       "<h3>Vergleichbare Universitäten in Publikationen- und Drittmittel-Struktur</h3><ul>"
      ],
      "text/plain": [
       "<IPython.core.display.HTML object>"
      ]
     },
     "metadata": {},
     "output_type": "display_data"
    },
    {
     "data": {
      "text/html": [
       "<li><strong>Keine.</strong> Die Veterinärmedizinische Universität Wien ist stark spezialisiert.</li>"
      ],
      "text/plain": [
       "<IPython.core.display.HTML object>"
      ]
     },
     "metadata": {},
     "output_type": "display_data"
    },
    {
     "data": {
      "text/html": [
       "</ul>"
      ],
      "text/plain": [
       "<IPython.core.display.HTML object>"
      ]
     },
     "metadata": {},
     "output_type": "display_data"
    },
    {
     "data": {
      "text/html": [
       "<h4>Vergleichbar bei der Publikationen-Struktur</h4>"
      ],
      "text/plain": [
       "<IPython.core.display.HTML object>"
      ]
     },
     "metadata": {},
     "output_type": "display_data"
    },
    {
     "data": {
      "text/html": [
       "<p>Die Veterinärmedizinische Universität Wien ist im Bereich Publikationen spezialisiert.<br/><strong>Keine</strong> andere Universität ähnelt der Veterinärmedizinische Universität Wien in der Publikationen-Struktur in auffälliger Weise.</p>"
      ],
      "text/plain": [
       "<IPython.core.display.HTML object>"
      ]
     },
     "metadata": {},
     "output_type": "display_data"
    },
    {
     "data": {
      "text/html": [
       "<h4>Vergleichbar bei der Drittmittel-Struktur</h4>"
      ],
      "text/plain": [
       "<IPython.core.display.HTML object>"
      ]
     },
     "metadata": {},
     "output_type": "display_data"
    },
    {
     "data": {
      "text/html": [
       "<p>Die Veterinärmedizinische Universität Wien ist im Bereich Drittmittel spezialisiert.<br/><strong>Keine</strong> andere Universität ähnelt der Veterinärmedizinische Universität Wien in der Drittmittel-Struktur in auffälliger Weise.</p>"
      ],
      "text/plain": [
       "<IPython.core.display.HTML object>"
      ]
     },
     "metadata": {},
     "output_type": "display_data"
    },
    {
     "data": {
      "text/html": [
       "<p><small>Universitäten mit einer Ähnlichkeit von weniger als 50% werden nicht angezeigt.</small></p>"
      ],
      "text/plain": [
       "<IPython.core.display.HTML object>"
      ]
     },
     "metadata": {},
     "output_type": "display_data"
    },
    {
     "data": {
      "text/html": [
       "<h3>Publikationen-Struktur der VMW</h3>"
      ],
      "text/plain": [
       "<IPython.core.display.HTML object>"
      ]
     },
     "metadata": {},
     "output_type": "display_data"
    },
    {
     "data": {
      "text/html": [
       "Angezeigt werden WZW, die zusammen 79.3% der Publikationen an der VMW ausmachen. Alle anderen WZW tragen je weniger als 20.7% bei. Die Spalte \"Ranking\" bezieht sich  auf den &ouml;sterreichweiten Vergleich der absoluten Werte pro WZW"
      ],
      "text/plain": [
       "<IPython.core.display.HTML object>"
      ]
     },
     "metadata": {},
     "output_type": "display_data"
    },
    {
     "data": {
      "text/html": [
       "<style  type=\"text/css\" >\n",
       "    #T_d8109afa_afd2_11e9_ba46_3791e66294cerow0_col0 {\n",
       "            background-color:  green;\n",
       "        }    #T_d8109afa_afd2_11e9_ba46_3791e66294cerow0_col1 {\n",
       "            background-color:  green;\n",
       "        }    #T_d8109afa_afd2_11e9_ba46_3791e66294cerow0_col2 {\n",
       "            background-color:  green;\n",
       "        }    #T_d8109afa_afd2_11e9_ba46_3791e66294cerow0_col3 {\n",
       "            background-color:  green;\n",
       "        }</style><table id=\"T_d8109afa_afd2_11e9_ba46_3791e66294ce\" ><thead>    <tr>        <th class=\"blank level0\" ></th>        <th class=\"col_heading level0 col0\" >Intern</th>        <th class=\"col_heading level0 col1\" >Publikationen</th>        <th class=\"col_heading level0 col2\" >Ranking</th>        <th class=\"col_heading level0 col3\" >Universität im Vergleich</th>    </tr>    <tr>        <th class=\"index_name level0\" >WZW</th>        <th class=\"blank\" ></th>        <th class=\"blank\" ></th>        <th class=\"blank\" ></th>        <th class=\"blank\" ></th>    </tr></thead><tbody>\n",
       "                <tr>\n",
       "                        <th id=\"T_d8109afa_afd2_11e9_ba46_3791e66294celevel0_row0\" class=\"row_heading level0 row0\" >Veterinärmedizin</th>\n",
       "                        <td id=\"T_d8109afa_afd2_11e9_ba46_3791e66294cerow0_col0\" class=\"data row0 col0\" >79.32%</td>\n",
       "                        <td id=\"T_d8109afa_afd2_11e9_ba46_3791e66294cerow0_col1\" class=\"data row0 col1\" >890 Publikationen</td>\n",
       "                        <td id=\"T_d8109afa_afd2_11e9_ba46_3791e66294cerow0_col2\" class=\"data row0 col2\" >1. Platz</td>\n",
       "                        <td id=\"T_d8109afa_afd2_11e9_ba46_3791e66294cerow0_col3\" class=\"data row0 col3\" ><img src=\"VMWVeterinärmedizin_Publikationen.png\", width=250, height=200/></td>\n",
       "            </tr>\n",
       "    </tbody></table>"
      ],
      "text/plain": [
       "<IPython.core.display.HTML object>"
      ]
     },
     "metadata": {},
     "output_type": "display_data"
    },
    {
     "data": {
      "text/html": [
       "<h3>Drittmittel-Struktur der VMW</h3>"
      ],
      "text/plain": [
       "<IPython.core.display.HTML object>"
      ]
     },
     "metadata": {},
     "output_type": "display_data"
    },
    {
     "data": {
      "text/html": [
       "Angezeigt werden WZW, die zusammen 66.9% der Drittmittel an der VMW ausmachen. Alle anderen WZW tragen je weniger als 33.1% bei. Die Spalte \"Ranking\" bezieht sich  auf den &ouml;sterreichweiten Vergleich der absoluten Werte pro WZW"
      ],
      "text/plain": [
       "<IPython.core.display.HTML object>"
      ]
     },
     "metadata": {},
     "output_type": "display_data"
    },
    {
     "data": {
      "text/html": [
       "<style  type=\"text/css\" >\n",
       "    #T_d822252c_afd2_11e9_ba46_3791e66294cerow0_col0 {\n",
       "            background-color:  green;\n",
       "        }    #T_d822252c_afd2_11e9_ba46_3791e66294cerow0_col1 {\n",
       "            background-color:  green;\n",
       "        }    #T_d822252c_afd2_11e9_ba46_3791e66294cerow0_col2 {\n",
       "            background-color:  green;\n",
       "        }    #T_d822252c_afd2_11e9_ba46_3791e66294cerow0_col3 {\n",
       "            background-color:  green;\n",
       "        }</style><table id=\"T_d822252c_afd2_11e9_ba46_3791e66294ce\" ><thead>    <tr>        <th class=\"blank level0\" ></th>        <th class=\"col_heading level0 col0\" >Intern</th>        <th class=\"col_heading level0 col1\" >Drittmittel</th>        <th class=\"col_heading level0 col2\" >Ranking</th>        <th class=\"col_heading level0 col3\" >Universität im Vergleich</th>    </tr>    <tr>        <th class=\"index_name level0\" >WZW</th>        <th class=\"blank\" ></th>        <th class=\"blank\" ></th>        <th class=\"blank\" ></th>        <th class=\"blank\" ></th>    </tr></thead><tbody>\n",
       "                <tr>\n",
       "                        <th id=\"T_d822252c_afd2_11e9_ba46_3791e66294celevel0_row0\" class=\"row_heading level0 row0\" >Veterinärmedizin</th>\n",
       "                        <td id=\"T_d822252c_afd2_11e9_ba46_3791e66294cerow0_col0\" class=\"data row0 col0\" >66.86%</td>\n",
       "                        <td id=\"T_d822252c_afd2_11e9_ba46_3791e66294cerow0_col1\" class=\"data row0 col1\" >11,561,660 €</td>\n",
       "                        <td id=\"T_d822252c_afd2_11e9_ba46_3791e66294cerow0_col2\" class=\"data row0 col2\" >1. Platz</td>\n",
       "                        <td id=\"T_d822252c_afd2_11e9_ba46_3791e66294cerow0_col3\" class=\"data row0 col3\" ><img src=\"VMWVeterinärmedizin_Drittmittel.png\", width=250, height=200/></td>\n",
       "            </tr>\n",
       "    </tbody></table>"
      ],
      "text/plain": [
       "<IPython.core.display.HTML object>"
      ]
     },
     "metadata": {},
     "output_type": "display_data"
    },
    {
     "data": {
      "text/html": [
       "<h2 style=\"page-break-before: always;\">Wirtschaftsuniversität Wien</h2>"
      ],
      "text/plain": [
       "<IPython.core.display.HTML object>"
      ]
     },
     "metadata": {},
     "output_type": "display_data"
    },
    {
     "data": {
      "text/html": [
       "<h3>Vergleichbare Universitäten in Publikationen- und Drittmittel-Struktur</h3><ul>"
      ],
      "text/plain": [
       "<IPython.core.display.HTML object>"
      ]
     },
     "metadata": {},
     "output_type": "display_data"
    },
    {
     "data": {
      "text/html": [
       "<li><strong>Keine.</strong> Die Wirtschaftsuniversität Wien ist stark spezialisiert.</li>"
      ],
      "text/plain": [
       "<IPython.core.display.HTML object>"
      ]
     },
     "metadata": {},
     "output_type": "display_data"
    },
    {
     "data": {
      "text/html": [
       "</ul>"
      ],
      "text/plain": [
       "<IPython.core.display.HTML object>"
      ]
     },
     "metadata": {},
     "output_type": "display_data"
    },
    {
     "data": {
      "text/html": [
       "<h4>Vergleichbar bei der Publikationen-Struktur</h4>"
      ],
      "text/plain": [
       "<IPython.core.display.HTML object>"
      ]
     },
     "metadata": {},
     "output_type": "display_data"
    },
    {
     "data": {
      "text/html": [
       "<p>Die Wirtschaftsuniversität Wien ist im Bereich Publikationen spezialisiert.<br/><strong>Keine</strong> andere Universität ähnelt der Wirtschaftsuniversität Wien in der Publikationen-Struktur in auffälliger Weise.</p>"
      ],
      "text/plain": [
       "<IPython.core.display.HTML object>"
      ]
     },
     "metadata": {},
     "output_type": "display_data"
    },
    {
     "data": {
      "text/html": [
       "<h4>Vergleichbar bei der Drittmittel-Struktur</h4>"
      ],
      "text/plain": [
       "<IPython.core.display.HTML object>"
      ]
     },
     "metadata": {},
     "output_type": "display_data"
    },
    {
     "data": {
      "text/html": [
       "<p>Die Wirtschaftsuniversität Wien ist im Bereich Drittmittel spezialisiert.<br/><strong>Keine</strong> andere Universität ähnelt der Wirtschaftsuniversität Wien in der Drittmittel-Struktur in auffälliger Weise.</p>"
      ],
      "text/plain": [
       "<IPython.core.display.HTML object>"
      ]
     },
     "metadata": {},
     "output_type": "display_data"
    },
    {
     "data": {
      "text/html": [
       "<p><small>Universitäten mit einer Ähnlichkeit von weniger als 50% werden nicht angezeigt.</small></p>"
      ],
      "text/plain": [
       "<IPython.core.display.HTML object>"
      ]
     },
     "metadata": {},
     "output_type": "display_data"
    },
    {
     "data": {
      "text/html": [
       "<h3>Publikationen-Struktur der WUW</h3>"
      ],
      "text/plain": [
       "<IPython.core.display.HTML object>"
      ]
     },
     "metadata": {},
     "output_type": "display_data"
    },
    {
     "data": {
      "text/html": [
       "Angezeigt werden WZW, die zusammen 85.0% der Publikationen an der WUW ausmachen. Alle anderen WZW tragen je weniger als 15.0% bei. Die Spalte \"Ranking\" bezieht sich  auf den &ouml;sterreichweiten Vergleich der absoluten Werte pro WZW"
      ],
      "text/plain": [
       "<IPython.core.display.HTML object>"
      ]
     },
     "metadata": {},
     "output_type": "display_data"
    },
    {
     "data": {
      "text/html": [
       "<style  type=\"text/css\" >\n",
       "    #T_d84572a2_afd2_11e9_ba46_3791e66294cerow0_col0 {\n",
       "            background-color:  green;\n",
       "        }    #T_d84572a2_afd2_11e9_ba46_3791e66294cerow0_col1 {\n",
       "            background-color:  green;\n",
       "        }    #T_d84572a2_afd2_11e9_ba46_3791e66294cerow0_col2 {\n",
       "            background-color:  green;\n",
       "        }    #T_d84572a2_afd2_11e9_ba46_3791e66294cerow0_col3 {\n",
       "            background-color:  green;\n",
       "        }    #T_d84572a2_afd2_11e9_ba46_3791e66294cerow1_col0 {\n",
       "            background-color:  white;\n",
       "        }    #T_d84572a2_afd2_11e9_ba46_3791e66294cerow1_col1 {\n",
       "            background-color:  white;\n",
       "        }    #T_d84572a2_afd2_11e9_ba46_3791e66294cerow1_col2 {\n",
       "            background-color:  white;\n",
       "        }    #T_d84572a2_afd2_11e9_ba46_3791e66294cerow1_col3 {\n",
       "            background-color:  white;\n",
       "        }</style><table id=\"T_d84572a2_afd2_11e9_ba46_3791e66294ce\" ><thead>    <tr>        <th class=\"blank level0\" ></th>        <th class=\"col_heading level0 col0\" >Intern</th>        <th class=\"col_heading level0 col1\" >Publikationen</th>        <th class=\"col_heading level0 col2\" >Ranking</th>        <th class=\"col_heading level0 col3\" >Universität im Vergleich</th>    </tr>    <tr>        <th class=\"index_name level0\" >WZW</th>        <th class=\"blank\" ></th>        <th class=\"blank\" ></th>        <th class=\"blank\" ></th>        <th class=\"blank\" ></th>    </tr></thead><tbody>\n",
       "                <tr>\n",
       "                        <th id=\"T_d84572a2_afd2_11e9_ba46_3791e66294celevel0_row0\" class=\"row_heading level0 row0\" >Wirtschaftswissenschaften</th>\n",
       "                        <td id=\"T_d84572a2_afd2_11e9_ba46_3791e66294cerow0_col0\" class=\"data row0 col0\" >54.58%</td>\n",
       "                        <td id=\"T_d84572a2_afd2_11e9_ba46_3791e66294cerow0_col1\" class=\"data row0 col1\" >852 Publikationen</td>\n",
       "                        <td id=\"T_d84572a2_afd2_11e9_ba46_3791e66294cerow0_col2\" class=\"data row0 col2\" >1. Platz</td>\n",
       "                        <td id=\"T_d84572a2_afd2_11e9_ba46_3791e66294cerow0_col3\" class=\"data row0 col3\" ><img src=\"WUWWirtschaftswissenschaften_Publikationen.png\", width=250, height=200/></td>\n",
       "            </tr>\n",
       "            <tr>\n",
       "                        <th id=\"T_d84572a2_afd2_11e9_ba46_3791e66294celevel0_row1\" class=\"row_heading level0 row1\" >Rechtswissenschaften</th>\n",
       "                        <td id=\"T_d84572a2_afd2_11e9_ba46_3791e66294cerow1_col0\" class=\"data row1 col0\" >30.43%</td>\n",
       "                        <td id=\"T_d84572a2_afd2_11e9_ba46_3791e66294cerow1_col1\" class=\"data row1 col1\" >475 Publikationen</td>\n",
       "                        <td id=\"T_d84572a2_afd2_11e9_ba46_3791e66294cerow1_col2\" class=\"data row1 col2\" >6. Platz</td>\n",
       "                        <td id=\"T_d84572a2_afd2_11e9_ba46_3791e66294cerow1_col3\" class=\"data row1 col3\" ><img src=\"WUWRechtswissenschaften_Publikationen.png\", width=250, height=200/></td>\n",
       "            </tr>\n",
       "    </tbody></table>"
      ],
      "text/plain": [
       "<IPython.core.display.HTML object>"
      ]
     },
     "metadata": {},
     "output_type": "display_data"
    },
    {
     "data": {
      "text/html": [
       "<h3>Drittmittel-Struktur der WUW</h3>"
      ],
      "text/plain": [
       "<IPython.core.display.HTML object>"
      ]
     },
     "metadata": {},
     "output_type": "display_data"
    },
    {
     "data": {
      "text/html": [
       "Angezeigt werden WZW, die zusammen 76.9% der Drittmittel an der WUW ausmachen. Alle anderen WZW tragen je weniger als 21.0% bei. Die Spalte \"Ranking\" bezieht sich  auf den &ouml;sterreichweiten Vergleich der absoluten Werte pro WZW"
      ],
      "text/plain": [
       "<IPython.core.display.HTML object>"
      ]
     },
     "metadata": {},
     "output_type": "display_data"
    },
    {
     "data": {
      "text/html": [
       "<style  type=\"text/css\" >\n",
       "    #T_d85eb76c_afd2_11e9_ba46_3791e66294cerow0_col0 {\n",
       "            background-color:  green;\n",
       "        }    #T_d85eb76c_afd2_11e9_ba46_3791e66294cerow0_col1 {\n",
       "            background-color:  green;\n",
       "        }    #T_d85eb76c_afd2_11e9_ba46_3791e66294cerow0_col2 {\n",
       "            background-color:  green;\n",
       "        }    #T_d85eb76c_afd2_11e9_ba46_3791e66294cerow0_col3 {\n",
       "            background-color:  green;\n",
       "        }    #T_d85eb76c_afd2_11e9_ba46_3791e66294cerow1_col0 {\n",
       "            background-color:  green;\n",
       "        }    #T_d85eb76c_afd2_11e9_ba46_3791e66294cerow1_col1 {\n",
       "            background-color:  green;\n",
       "        }    #T_d85eb76c_afd2_11e9_ba46_3791e66294cerow1_col2 {\n",
       "            background-color:  green;\n",
       "        }    #T_d85eb76c_afd2_11e9_ba46_3791e66294cerow1_col3 {\n",
       "            background-color:  green;\n",
       "        }</style><table id=\"T_d85eb76c_afd2_11e9_ba46_3791e66294ce\" ><thead>    <tr>        <th class=\"blank level0\" ></th>        <th class=\"col_heading level0 col0\" >Intern</th>        <th class=\"col_heading level0 col1\" >Drittmittel</th>        <th class=\"col_heading level0 col2\" >Ranking</th>        <th class=\"col_heading level0 col3\" >Universität im Vergleich</th>    </tr>    <tr>        <th class=\"index_name level0\" >WZW</th>        <th class=\"blank\" ></th>        <th class=\"blank\" ></th>        <th class=\"blank\" ></th>        <th class=\"blank\" ></th>    </tr></thead><tbody>\n",
       "                <tr>\n",
       "                        <th id=\"T_d85eb76c_afd2_11e9_ba46_3791e66294celevel0_row0\" class=\"row_heading level0 row0\" >Wirtschaftswissenschaften</th>\n",
       "                        <td id=\"T_d85eb76c_afd2_11e9_ba46_3791e66294cerow0_col0\" class=\"data row0 col0\" >55.96%</td>\n",
       "                        <td id=\"T_d85eb76c_afd2_11e9_ba46_3791e66294cerow0_col1\" class=\"data row0 col1\" >7,199,353 €</td>\n",
       "                        <td id=\"T_d85eb76c_afd2_11e9_ba46_3791e66294cerow0_col2\" class=\"data row0 col2\" >1. Platz</td>\n",
       "                        <td id=\"T_d85eb76c_afd2_11e9_ba46_3791e66294cerow0_col3\" class=\"data row0 col3\" ><img src=\"WUWWirtschaftswissenschaften_Drittmittel.png\", width=250, height=200/></td>\n",
       "            </tr>\n",
       "            <tr>\n",
       "                        <th id=\"T_d85eb76c_afd2_11e9_ba46_3791e66294celevel0_row1\" class=\"row_heading level0 row1\" >Rechtswissenschaften</th>\n",
       "                        <td id=\"T_d85eb76c_afd2_11e9_ba46_3791e66294cerow1_col0\" class=\"data row1 col0\" >20.98%</td>\n",
       "                        <td id=\"T_d85eb76c_afd2_11e9_ba46_3791e66294cerow1_col1\" class=\"data row1 col1\" >2,699,082 €</td>\n",
       "                        <td id=\"T_d85eb76c_afd2_11e9_ba46_3791e66294cerow1_col2\" class=\"data row1 col2\" >1. Platz</td>\n",
       "                        <td id=\"T_d85eb76c_afd2_11e9_ba46_3791e66294cerow1_col3\" class=\"data row1 col3\" ><img src=\"WUWRechtswissenschaften_Drittmittel.png\", width=250, height=200/></td>\n",
       "            </tr>\n",
       "    </tbody></table>"
      ],
      "text/plain": [
       "<IPython.core.display.HTML object>"
      ]
     },
     "metadata": {},
     "output_type": "display_data"
    }
   ],
   "source": [
    "%matplotlib inline \n",
    "\n",
    "from pandas import Series \n",
    "import pandas as pd \n",
    "import numpy as np\n",
    "from IPython.display import HTML\n",
    "from IPython.display import Image\n",
    "import matplotlib.pyplot as plt\n",
    "from io import BytesIO\n",
    "import re\n",
    "\n",
    "#data = pd.read_csv('1.C.1.csv', sep=';', index_col=[0, 1, 2, 3])\n",
    "#data.sort_index(inplace=True)\n",
    "\n",
    "#idx = pd.IndexSlice\n",
    "#tmp = data.loc[idx[:, 'Psychologie', :, 2018], :]\n",
    "\n",
    "#print(tmp.index.get_level_values('university').unique())\n",
    "#display(data.loc['FWF'].xs(2018, level='year'))\n",
    "#display(data.xs(2018, level='year'))\n",
    "\n",
    "university_short_forms = { 'Universität Wien': 'UWI',\n",
    "                           'Universität Graz': 'UGR',\n",
    "                           'Universität Innsbruck': 'UIN',\n",
    "                           'Universität Salzburg': 'USA',\n",
    "                           'Universität Klagenfurt': 'UKL',\n",
    "                           'Universität für Bodenkultur Wien': 'BKW',\n",
    "                           'Universität für künstlerische und industrielle Gestaltung Linz': 'UGL',\n",
    "                           'Universität für angewandte Kunst Wien': 'UAW',\n",
    "                           'Universität Mozarteum Salzburg': 'UMS',\n",
    "                           'Medizinische Universität Wien': 'MUW',\n",
    "                           'Medizinische Universität Graz': 'MUG',\n",
    "                           'Medizinische Universität Innsbruck': 'MUI',\n",
    "                           'Universität Linz': 'ULI',\n",
    "                           'Akademie der bildenden Künste Wien': 'ABW',\n",
    "                           'Technische Universität Wien': 'TUW',\n",
    "                           'Technische Universität Graz': 'TUG',\n",
    "                           'Veterinärmedizinische Universität Wien': 'VMW',\n",
    "                           'Montanuniversität Leoben': 'MUL',\n",
    "                           'Universität für Weiterbildung Krems': 'UWK',\n",
    "                           'Wirtschaftsuniversität Wien': 'WUW',\n",
    "                           'Universität für Musik und darstellende Kunst Wien': 'MKW',\n",
    "                           'Universität für Musik und darstellende Kunst Graz': 'MKG'\n",
    "                         }\n",
    "\n",
    "def shorten(name):\n",
    "    if name in university_short_forms:\n",
    "        return university_short_forms[name]\n",
    "    else:\n",
    "        return name\n",
    "\n",
    "\n",
    "class Dimension:\n",
    "    @classmethod\n",
    "    def create(cls, dataframe, dimensions):\n",
    "        dims = dict()\n",
    "        for dim in dimensions:\n",
    "            assert dim in dataframe.index.names, \"There is no index '\" + dim + \"'\"\n",
    "            cats = dataframe.index.get_level_values(dim).unique()\n",
    "            dims[dim] = Dimension(dim, cats.values)\n",
    "        return dims\n",
    "    \n",
    "    def __init__(self, name, categories):\n",
    "        self.__name = name\n",
    "        self.__categories = categories   \n",
    "    @property\n",
    "    def name (self):\n",
    "        return self.__name\n",
    "    @property\n",
    "    def categories(self):\n",
    "        return self.__categories  \n",
    "    def __str__(self):\n",
    "        return self.name\n",
    "        \n",
    "class Datasheet:\n",
    "    def __init__(self, filename, dimensions, timepoint_name, university_name, value_name):\n",
    "        dataframe = pd.read_csv(filename, sep=';', index_col=list(range(len(dimensions)+2)))        \n",
    "        dataframe.columns = [value_name]\n",
    "        dataframe.sort_index(inplace=True)\n",
    "\n",
    "        assert timepoint_name in dataframe.index.names, \"There is no index '\" + timepoint_name + \"'\"\n",
    "        assert university_name in dataframe.index.names, \"There is no index '\" + university_name + \"'\"\n",
    "        assert value_name in dataframe, \"There is no colum with valid data called '\" + value_name + \"'\"\n",
    "        \n",
    "        self.__dataframe = dataframe\n",
    "        self.__timepoint_idx = timepoint_name\n",
    "        self.__university_idx = university_name\n",
    "        self.__value_column = value_name       \n",
    "        self.__dimensions = Dimension.create(dataframe, dimensions + [university_name, timepoint_name])\n",
    "        self.__timepoints = dataframe.index.get_level_values(timepoint_name).unique()\n",
    "        self.__universities = dataframe.index.get_level_values(university_name).unique()\n",
    "        self.__recent_timepoint = self.__timepoints.max()\n",
    "                \n",
    "    @property\n",
    "    def value_column(self):\n",
    "        return self.__value_column\n",
    "    @property\n",
    "    def university_idx(self):\n",
    "        return self.__university_idx\n",
    "    @property\n",
    "    def timepoint_idx(self):\n",
    "        return self.__timepoint_idx\n",
    "    @property\n",
    "    def dimensions(self):\n",
    "        return self.__dimensions\n",
    "    @property\n",
    "    def most_recent(self):\n",
    "        return self.__recent_timepoint\n",
    "    @property\n",
    "    def universities(self):\n",
    "        return self.__universities\n",
    "    \n",
    "    def only(self, conditions):\n",
    "        df = self.__dataframe\n",
    "        if conditions is None:\n",
    "            return df\n",
    "        slices = list()\n",
    "        for dim in self.dimensions.keys():\n",
    "            if self.dimensions[dim].name in conditions.keys():\n",
    "                slices.append(conditions[self.dimensions[dim].name])\n",
    "            else:\n",
    "                slices.append(slice(None))\n",
    "        return df.loc[tuple(slices), :]\n",
    "        \n",
    "    def analyze(self, description, about, filtering=None):\n",
    "        return Analysis(self, description, self.dimensions[about], self.only(filtering) \\\n",
    "                            .sum(level = [self.dimensions[about].name, self.university_idx]))\n",
    "\n",
    "\n",
    "class Analysis:\n",
    "    def __init__(self, sheet, properties, about, table):\n",
    "        self.__sheet = sheet\n",
    "        self.__table = table.unstack(about.name, fill_value=0)\n",
    "        self.__about = about\n",
    "        self.__props = properties\n",
    "        \n",
    "        self.__sums = table.sum(axis='columns')\n",
    "        self.__sums.name = sheet.value_column\n",
    "        self.__totals = table.sum(level=[about.name])[sheet.value_column]\n",
    "        self.__grand_total = table.sum()\n",
    "        self.__grand_total.name = 'grand total'\n",
    "        \n",
    "        assert self.__grand_total[sheet.value_column] == self.__sums.sum()\n",
    "        \n",
    "        self.__structure = Structure(self)\n",
    "        self.__ranking = Ranking(self)\n",
    "\n",
    "               \n",
    "    @property\n",
    "    def sheet(self):\n",
    "        return self.__sheet\n",
    "    @property\n",
    "    def table(self):\n",
    "        return self.__table\n",
    "    @property\n",
    "    def horizontal_sums(self):\n",
    "        return self.__sums\n",
    "    @property\n",
    "    def sums(self):\n",
    "        return self.horizontal_sums\n",
    "    @property\n",
    "    def vertical_sums(self):\n",
    "        return self.__totals\n",
    "    @property\n",
    "    def totals(self):\n",
    "        return self.vertical_sums\n",
    "    @property\n",
    "    def dim(self):\n",
    "        return self.__about\n",
    "    @property\n",
    "    def description(self):\n",
    "        return self.__props['description']\n",
    "    @property\n",
    "    def about(self):\n",
    "        return self.__props['about']\n",
    "    @property\n",
    "    def scale_description(self):\n",
    "        return self.__props['scale_description']\n",
    "    \n",
    "    def scale(self, value):\n",
    "        return self.__props['scale'](value)\n",
    "    def scale_format(self, value):\n",
    "        return self.__props['scale_format'].format(self.scale(value))\n",
    "    def format(self, value):\n",
    "        return self.__props['format'].format(value)\n",
    "    @property\n",
    "    def value_format(self):\n",
    "        return self.__props['format']\n",
    "    \n",
    "    \n",
    "    @property\n",
    "    def grand_total(self):\n",
    "        return self.__grand_total\n",
    "    @property\n",
    "    def structure(self):\n",
    "        return self.__structure\n",
    "    @property\n",
    "    def ranking(self):\n",
    "        return self.__ranking\n",
    "    \n",
    "    def values(self, university):\n",
    "        tmp = self.table.loc[university]\n",
    "        tmp.name = self.sheet.value_column\n",
    "        return tmp\n",
    "\n",
    "    \n",
    "    \n",
    "class Ranking:\n",
    "    def __init__(self, analysis):\n",
    "        self.__analysis = analysis\n",
    "        self.__rankings = analysis.table.rank(axis='rows', method='max', ascending=False)\n",
    "        \n",
    "        tmp = analysis.horizontal_sums.sum(level=self.analysis.sheet.university_idx)\n",
    "        self.__total_ranking = tmp.rank(method='max', ascending=False).sort_values()\n",
    "        self.__total_ranking.name = 'rank'\n",
    "        \n",
    "    @property\n",
    "    def analysis(self):\n",
    "        return self.__analysis\n",
    "    @property\n",
    "    def table(self):\n",
    "        return self.__rankings\n",
    "    \n",
    "    def of(self, university, category=None):\n",
    "        categories = self.__analysis.dim.categories\n",
    "        retval = None\n",
    "        if category == None:\n",
    "            retval = self.__total_ranking.loc[university]\n",
    "            retval.name = 'ranking'\n",
    "        else:\n",
    "            if category in categories:\n",
    "                retval = self.__rankings[self.analysis.sheet.value_column, category][university].astype(int)\n",
    "            else:\n",
    "                retval = self.__rankings.loc[university].astype(int)\n",
    "        return retval\n",
    "\n",
    "    def better_than(self, university, category=None):\n",
    "        if category == None:\n",
    "            return self.__total_ranking[self.__total_ranking < self.__total_ranking[university]]\n",
    "        else:\n",
    "            tmp = self.__rankings[self.analysis.sheet.value_column, category].sort_values()\n",
    "            return tmp[tmp[university] > tmp]\n",
    "        \n",
    "    def best(self, category, top=1):\n",
    "        tmp = self.__rankings[self.analysis.sheet.value_column, category].sort_values()[0:top]\n",
    "        return tmp\n",
    "       \n",
    "        \n",
    "            \n",
    "\n",
    "class Structure:\n",
    "    def __init__(self, analysis):\n",
    "        self.__analysis = analysis\n",
    "        tmp = analysis.sums.sum(level=[analysis.sheet.university_idx])\n",
    "        self.__table = analysis.table.divide(tmp, axis=0).droplevel(level=0, axis='columns')\n",
    "        self.__table.name = analysis.sheet.value_column    \n",
    "        \n",
    "    @property\n",
    "    def table(self):\n",
    "        return self.__table\n",
    "    @property\n",
    "    def analysis(self):\n",
    "        return self.__analysis\n",
    "    \n",
    "    def most_important_to(self, university, cutoff=0.9):\n",
    "        u = self.table.loc[university].sort_values(ascending=False)\n",
    "        u.name = 'relevance'\n",
    "        cumsum = u.cumsum()\n",
    "        cut = (cumsum > cutoff).idxmax()\n",
    "        return u[:cut]\n",
    "\n",
    "    def of(self, university):\n",
    "        tmp = self.table.loc[university].sort_values(ascending=False)\n",
    "        tmp.name = 'relevance'\n",
    "        return tmp\n",
    "    \n",
    "    def similarities_to(self, university):\n",
    "        mirror = self.table.swapaxes('columns', 'rows', copy=False)\n",
    "        uni = mirror[university]\n",
    "        tmp = pd.DataFrame(data=uni.values).reindex_like(mirror)\n",
    "        tmp.loc[:, :] = uni[:, None]\n",
    "        return mirror.combine(tmp, np.minimum)\n",
    "        \n",
    "    def most_similar_to(self, university):\n",
    "        m = self.similarities_to(university)\n",
    "        result = m.sum(axis='rows')\n",
    "        result = result.sort_values(ascending=False)[1:]\n",
    "        result.name = 'similarity'\n",
    "        return result\n",
    "        \n",
    "        \n",
    "def highlight_places(column, series):\n",
    "    l = len(series.index)\n",
    "    if series[column] == 1:\n",
    "        return ['background-color: green']*l\n",
    "    elif series[column] == 2 or series[column] == 3:\n",
    "        return ['background-color: yellow']*l\n",
    "    else:\n",
    "        return ['background-color: white']*l\n",
    "            \n",
    "class University:\n",
    "    def __init__(self, name):\n",
    "        self.__name = name\n",
    "        self.__analyses = list()\n",
    "        self.__similarity_matrices = dict()\n",
    "        self.__similars = dict()\n",
    "        self.__similarity_filter = 1/2\n",
    "        \n",
    "    def __lt__(self, other):\n",
    "        return self.name < other.name\n",
    "        \n",
    "    @property\n",
    "    def name(self):\n",
    "        return self.__name\n",
    "    @property\n",
    "    def short(self):\n",
    "        return shorten(self.__name)\n",
    "    @property\n",
    "    def similarity_filter(self):\n",
    "        return self.__similarity_filter\n",
    "    @property\n",
    "    def similars(self):\n",
    "        return self.__similars\n",
    "    \n",
    "    \n",
    "    def add_analysis(self, analysis):\n",
    "        a = analysis\n",
    "        self.__analyses.append(analysis)\n",
    "        self.__similarity_matrices[a.description] = a.structure.most_similar_to(self.name)\n",
    "        self.__similars[a.description] = list()\n",
    "            \n",
    "        similars = self.__similarity_matrices[a.description]\n",
    "        for i, other in enumerate(similars.index.values):\n",
    "            if similars[other] < self.similarity_filter:\n",
    "                if i == 0:\n",
    "                    break\n",
    "            else:\n",
    "                self.__similars[a.description].append(other)\n",
    "        \n",
    "    def describe(self):\n",
    "        display(HTML('<h2 style=\"page-break-before: always;\">' + self.name + '</h2>'))\n",
    "        display(HTML('<h3>Vergleichbare Universitäten in '\n",
    "                    + '- und '.join(self.similars.keys()) \n",
    "                    + '-Struktur</h3><ul>'))\n",
    "            \n",
    "        similars = None\n",
    "        for similars_list in self.similars.values():\n",
    "            if similars is None:\n",
    "                similars = set(similars_list)\n",
    "            else:\n",
    "                similars = similars.intersection(set(similars_list))\n",
    "                \n",
    "        for s in similars:\n",
    "            display(HTML('<li style=\"margin-bottom: 5px;\">' + s + '</li>'))\n",
    "        if len(similars) == 0:\n",
    "            display(HTML('<li><strong>Keine.</strong> Die ' + self.name + ' ist stark spezialisiert.</li>'))\n",
    "        display(HTML('</ul>'))\n",
    "        \n",
    "        for a in self.__analyses:\n",
    "            display(HTML('<h4>Vergleichbar bei der ' + a.description + '-Struktur</h4>'))\n",
    "            sim_strs = list()\n",
    "            if len(self.similars[a.description]) == 0:\n",
    "                sim_strs.append('Die ' + self.name + ' ist im Bereich ' + a.description + ' spezialisiert.<br/>'\n",
    "                                + '<strong>Keine</strong> andere Universität ähnelt der '\n",
    "                                + self.name + ' in der ' \n",
    "                                + a.description + '-Struktur in auffälliger Weise.')\n",
    "            \n",
    "            similars = self.__similarity_matrices[a.description]\n",
    "            sm = a.structure.similarities_to(self.name)\n",
    "            for i, other in enumerate(self.similars[a.description]):\n",
    "                if i > 5:\n",
    "                    break\n",
    "                sim_str = '<strong>' + other \\\n",
    "                          +  '</strong> (' + '{:.1%}'.format(similars[i]) \\\n",
    "                          + ', wegen &auml;hnlicher interner Relevanz von '\n",
    "                similarities = sm[other].sort_values(ascending=False)\n",
    "                sim_str += ', '.join(similarities.head(3).index.values)\n",
    "                sim_str += ')'\n",
    "                sim_strs.append(sim_str)\n",
    "            display(HTML('<p>' + ', '.join(sim_strs) + '</p>'))\n",
    "            \n",
    "        display(HTML('<p><small>Universitäten mit einer Ähnlichkeit von weniger als '\n",
    "                    + '{:.0%}'.format(self.similarity_filter)\n",
    "                    + ' werden nicht angezeigt.</small></p>'))\n",
    "        \n",
    "        for a in self.__analyses:\n",
    "            display(HTML(\"<h3>\" + a.description + \"-Struktur der \" + self.short + \"</h3>\"))\n",
    "            cutoff = 2/3\n",
    "            df = a.structure.most_important_to(self.name, cutoff)\n",
    "            identity = df\n",
    "            rest = 1 - identity.sum()\n",
    "            display(HTML('Angezeigt werden ' + a.about + ', die zusammen '\n",
    "                         + '{:.1%}'.format(identity.sum()) + ' der ' + a.description \n",
    "                         + ' an der ' + shorten(self.name) + ' ausmachen. '\n",
    "                         + 'Alle anderen ' + a.about + ' tragen je weniger als '\n",
    "                         + '{:.1%}'.format(min(rest, identity.min())) + ' bei. Die Spalte \\\"Ranking\\\" bezieht sich '\n",
    "                         + ' auf den &ouml;sterreichweiten Vergleich der absoluten Werte pro ' + a.about))\n",
    "            \n",
    "            df = df[df > 0] \\\n",
    "                .dropna()   \\\n",
    "                .to_frame()\n",
    "\n",
    "            df = df.join(a.ranking.of(self.name, 'all')) \\\n",
    "                   .join(a.values(self.name))\n",
    "            \n",
    "            best = pd.Series()\n",
    "            better = pd.Series()\n",
    "            best.name = 'best'\n",
    "            better.name = 'better'\n",
    "            plots = dict()\n",
    "            \n",
    "            def get_valid_filename(s):\n",
    "                s = str(s).strip().replace(' ', '_')\n",
    "                return re.sub(r'(?u)[^-\\w.]', '', s)\n",
    "            \n",
    "            for cat in df.index.get_level_values(level=a.dim.name):\n",
    "                best_uni = a.ranking.best(cat).index.values[0]\n",
    "                if best_uni == self.name:\n",
    "                    best_uni = '(diese)'\n",
    "                else: \n",
    "                    best_uni += ' (' + a.scale_format(a.values(best_uni)[a.sheet.value_column, cat]) + ')'\n",
    "                    \n",
    "                better_than_me = a.ranking.better_than(self.name, cat)\n",
    "                better_unis = ', '.join(better_than_me.index.values)\n",
    "                \n",
    "                my_rank = a.ranking.of(self.name, cat)\n",
    "                ranks = pd.DataFrame()\n",
    "                ranks.name = cat\n",
    "                for top5 in a.ranking.best(cat, top=max(my_rank+1, 4)).index.values:\n",
    "                    ranks.at[top5, a.sheet.value_column] = a.scale(a.values(top5)[a.sheet.value_column, cat])\n",
    "                    \n",
    "                figure = plt.figure(figsize=(6,4))                    \n",
    "                ax = ranks.plot.bar(ax=plt.gca(), legend=False, width=1, fontsize=20)\n",
    "                for i, bar in enumerate(ax.patches):\n",
    "                    if i == my_rank-1:\n",
    "                        bar.set_facecolor('#D85010')\n",
    "                    else:\n",
    "                        bar.set_facecolor('#C0C0C0')\n",
    "                ax.set_ylabel(a.scale_description, fontsize=20)\n",
    "                labels = ax.get_xticklabels()\n",
    "                for label in labels:\n",
    "                    label.set_text(shorten(label.get_text()))\n",
    "                ax.set_xticklabels(labels)\n",
    "                filename = get_valid_filename(self.short + '_'.join([cat, a.description]) + '.png')\n",
    "                plt.tight_layout()\n",
    "                plt.savefig(filename, format='png', transparent=True)\n",
    "                plt.close()\n",
    "                plots[cat] = filename\n",
    "                \n",
    "                if better_unis == '':\n",
    "                    better_unis = '(keine)'\n",
    "                    \n",
    "                best.at[cat] = best_uni\n",
    "                better.at[cat] = filename\n",
    "                \n",
    "            df = df.join(best, on=a.dim.name).join(better, on=a.dim.name)\n",
    "            df = df.droplevel(0)\n",
    "            \n",
    "            \n",
    "            df.index.name = a.about\n",
    "            df.columns = ['Intern', 'Ranking', a.description, 'Beste Universität', 'Universität im Vergleich']\n",
    "            df = df.sort_values('Intern', ascending=False)\n",
    "            df['Universität im Vergleich'] = df.index.map(lambda fos: plots[fos])\n",
    "            \n",
    "            sel = df[['Intern', a.description, 'Ranking', 'Universität im Vergleich']]\n",
    "            style = sel.style.format({'Intern': '{:.2%}', 'Ranking': '{:}. Platz',\n",
    "                                     a.description: a.value_format})\n",
    "                        \n",
    "            def show_image(filename):\n",
    "                return '<img src=\"' + filename + '\", width=250, height=200/>'\n",
    "                \n",
    "            style = style.apply(lambda s: highlight_places('Ranking', s), axis=1) \\\n",
    "                         .format({'Universität im Vergleich': show_image})\n",
    "            \n",
    "            display(HTML(style.render()))\n",
    "            \n",
    "            \n",
    "                \n",
    "\n",
    "ds = Datasheet('3.B.1.csv', ['fos'], 'year', 'university', 'funding')\n",
    "analysis = ds.analyze({'description': 'Publikationen',\n",
    "                       'about': 'WZW',\n",
    "                       'format': '{:} Publikationen',\n",
    "                       'scale_description': 'Publikationen',\n",
    "                       'scale': lambda x: x,\n",
    "                       'scale_format': '{:} Publikationen'\n",
    "                      }, \"fos\", {'year': ds.most_recent})\n",
    "\n",
    "\n",
    "ds2 = Datasheet('1.C.1.csv', ['fos', 'funder'], 'year', 'university', 'funding')\n",
    "analysis2 = ds2.analyze({'description': 'Drittmittel',\n",
    "                       'about': 'WZW',\n",
    "                       'format': '{:,} €',\n",
    "                       'scale_description': 'Millionen Euro',\n",
    "                       'scale': lambda x: x/1000000,\n",
    "                       'scale_format': '{:} Mio. €'\n",
    "                      }, \"fos\", {'year': ds.most_recent})\n",
    "\n",
    "universities = list()\n",
    "\n",
    "for uni_name in ds.universities:\n",
    "    u = University(uni_name)\n",
    "    u.add_analysis(analysis)\n",
    "    u.add_analysis(analysis2)\n",
    "    universities.append(u)\n",
    "    \n",
    "for u in sorted(universities):\n",
    "    u.describe()"
   ]
  },
  {
   "cell_type": "code",
   "execution_count": 2,
   "metadata": {},
   "outputs": [
    {
     "data": {
      "text/html": [
       "<style>\n",
       "div.input {\n",
       "    display:none;\n",
       "}\n",
       "</style>\n"
      ],
      "text/plain": [
       "<IPython.core.display.HTML object>"
      ]
     },
     "metadata": {},
     "output_type": "display_data"
    }
   ],
   "source": [
    "%%html\n",
    "<style>\n",
    "div.input {\n",
    "    display:none;\n",
    "}\n",
    "</style>"
   ]
  }
 ],
 "metadata": {
  "kernelspec": {
   "display_name": "Python 3",
   "language": "python",
   "name": "python3"
  },
  "language_info": {
   "codemirror_mode": {
    "name": "ipython",
    "version": 3
   },
   "file_extension": ".py",
   "mimetype": "text/x-python",
   "name": "python",
   "nbconvert_exporter": "python",
   "pygments_lexer": "ipython3",
   "version": "3.7.3"
  }
 },
 "nbformat": 4,
 "nbformat_minor": 2
}
