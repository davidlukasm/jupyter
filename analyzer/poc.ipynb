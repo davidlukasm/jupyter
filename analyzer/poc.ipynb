{
 "cells": [
  {
   "cell_type": "code",
   "execution_count": 103,
   "metadata": {
    "scrolled": false
   },
   "outputs": [
    {
     "data": {
      "text/html": [
       "<h3>Universität für Bodenkultur Wien</h3>"
      ],
      "text/plain": [
       "<IPython.core.display.HTML object>"
      ]
     },
     "metadata": {},
     "output_type": "display_data"
    },
    {
     "data": {
      "text/html": [
       "<h4>Drittmittel-Struktur</h4>"
      ],
      "text/plain": [
       "<IPython.core.display.HTML object>"
      ]
     },
     "metadata": {},
     "output_type": "display_data"
    },
    {
     "data": {
      "text/html": [
       "<style  type=\"text/css\" >\n",
       "    #T_b4af9e88_a2d2_11e9_a9a4_419a49d29e61row0_col0 {\n",
       "            background-color:  white;\n",
       "        }    #T_b4af9e88_a2d2_11e9_a9a4_419a49d29e61row0_col1 {\n",
       "            background-color:  white;\n",
       "        }    #T_b4af9e88_a2d2_11e9_a9a4_419a49d29e61row0_col2 {\n",
       "            background-color:  white;\n",
       "        }    #T_b4af9e88_a2d2_11e9_a9a4_419a49d29e61row0_col3 {\n",
       "            background-color:  white;\n",
       "        }    #T_b4af9e88_a2d2_11e9_a9a4_419a49d29e61row0_col4 {\n",
       "            background-color:  white;\n",
       "        }    #T_b4af9e88_a2d2_11e9_a9a4_419a49d29e61row1_col0 {\n",
       "            background-color:  white;\n",
       "        }    #T_b4af9e88_a2d2_11e9_a9a4_419a49d29e61row1_col1 {\n",
       "            background-color:  white;\n",
       "        }    #T_b4af9e88_a2d2_11e9_a9a4_419a49d29e61row1_col2 {\n",
       "            background-color:  white;\n",
       "        }    #T_b4af9e88_a2d2_11e9_a9a4_419a49d29e61row1_col3 {\n",
       "            background-color:  white;\n",
       "        }    #T_b4af9e88_a2d2_11e9_a9a4_419a49d29e61row1_col4 {\n",
       "            background-color:  white;\n",
       "        }    #T_b4af9e88_a2d2_11e9_a9a4_419a49d29e61row2_col0 {\n",
       "            background-color:  white;\n",
       "        }    #T_b4af9e88_a2d2_11e9_a9a4_419a49d29e61row2_col1 {\n",
       "            background-color:  white;\n",
       "        }    #T_b4af9e88_a2d2_11e9_a9a4_419a49d29e61row2_col2 {\n",
       "            background-color:  white;\n",
       "        }    #T_b4af9e88_a2d2_11e9_a9a4_419a49d29e61row2_col3 {\n",
       "            background-color:  white;\n",
       "        }    #T_b4af9e88_a2d2_11e9_a9a4_419a49d29e61row2_col4 {\n",
       "            background-color:  white;\n",
       "        }</style><table id=\"T_b4af9e88_a2d2_11e9_a9a4_419a49d29e61\" ><thead>    <tr>        <th class=\"blank level0\" ></th>        <th class=\"col_heading level0 col0\" >Intern</th>        <th class=\"col_heading level0 col1\" >Ranking</th>        <th class=\"col_heading level0 col2\" >Erlöse</th>        <th class=\"col_heading level0 col3\" >Beste Universität</th>        <th class=\"col_heading level0 col4\" >Bessere Universitäten</th>    </tr>    <tr>        <th class=\"index_name level0\" >WZW</th>        <th class=\"blank\" ></th>        <th class=\"blank\" ></th>        <th class=\"blank\" ></th>        <th class=\"blank\" ></th>        <th class=\"blank\" ></th>    </tr></thead><tbody>\n",
       "                <tr>\n",
       "                        <th id=\"T_b4af9e88_a2d2_11e9_a9a4_419a49d29e61level0_row0\" class=\"row_heading level0 row0\" >Unternehmen</th>\n",
       "                        <td id=\"T_b4af9e88_a2d2_11e9_a9a4_419a49d29e61row0_col0\" class=\"data row0 col0\" >30.33%</td>\n",
       "                        <td id=\"T_b4af9e88_a2d2_11e9_a9a4_419a49d29e61row0_col1\" class=\"data row0 col1\" >6. Platz</td>\n",
       "                        <td id=\"T_b4af9e88_a2d2_11e9_a9a4_419a49d29e61row0_col2\" class=\"data row0 col2\" >14,549,837 €</td>\n",
       "                        <td id=\"T_b4af9e88_a2d2_11e9_a9a4_419a49d29e61row0_col3\" class=\"data row0 col3\" >Medizinische Universität Graz (32.4 Mio. €)</td>\n",
       "                        <td id=\"T_b4af9e88_a2d2_11e9_a9a4_419a49d29e61row0_col4\" class=\"data row0 col4\" >Medizinische Universität Graz, Technische Universität Graz, Technische Universität Wien, Medizinische Universität Wien, Medizinische Universität Innsbruck</td>\n",
       "            </tr>\n",
       "            <tr>\n",
       "                        <th id=\"T_b4af9e88_a2d2_11e9_a9a4_419a49d29e61level0_row1\" class=\"row_heading level0 row1\" >FWF</th>\n",
       "                        <td id=\"T_b4af9e88_a2d2_11e9_a9a4_419a49d29e61row1_col0\" class=\"data row1 col0\" >17.04%</td>\n",
       "                        <td id=\"T_b4af9e88_a2d2_11e9_a9a4_419a49d29e61row1_col1\" class=\"data row1 col1\" >7. Platz</td>\n",
       "                        <td id=\"T_b4af9e88_a2d2_11e9_a9a4_419a49d29e61row1_col2\" class=\"data row1 col2\" >8,173,203 €</td>\n",
       "                        <td id=\"T_b4af9e88_a2d2_11e9_a9a4_419a49d29e61row1_col3\" class=\"data row1 col3\" >Universität Wien (41.1 Mio. €)</td>\n",
       "                        <td id=\"T_b4af9e88_a2d2_11e9_a9a4_419a49d29e61row1_col4\" class=\"data row1 col4\" >Universität Wien, Technische Universität Wien, Medizinische Universität Wien, Universität Innsbruck, Universität Graz, Medizinische Universität Innsbruck</td>\n",
       "            </tr>\n",
       "            <tr>\n",
       "                        <th id=\"T_b4af9e88_a2d2_11e9_a9a4_419a49d29e61level0_row2\" class=\"row_heading level0 row2\" >EU</th>\n",
       "                        <td id=\"T_b4af9e88_a2d2_11e9_a9a4_419a49d29e61row2_col0\" class=\"data row2 col0\" >15.67%</td>\n",
       "                        <td id=\"T_b4af9e88_a2d2_11e9_a9a4_419a49d29e61row2_col1\" class=\"data row2 col1\" >6. Platz</td>\n",
       "                        <td id=\"T_b4af9e88_a2d2_11e9_a9a4_419a49d29e61row2_col2\" class=\"data row2 col2\" >7,516,953 €</td>\n",
       "                        <td id=\"T_b4af9e88_a2d2_11e9_a9a4_419a49d29e61row2_col3\" class=\"data row2 col3\" >Technische Universität Wien (14.7 Mio. €)</td>\n",
       "                        <td id=\"T_b4af9e88_a2d2_11e9_a9a4_419a49d29e61row2_col4\" class=\"data row2 col4\" >Technische Universität Wien, Universität Wien, Technische Universität Graz, Universität Innsbruck, Medizinische Universität Wien</td>\n",
       "            </tr>\n",
       "    </tbody></table>"
      ],
      "text/plain": [
       "<pandas.io.formats.style.Styler at 0x7fe6c54bbac8>"
      ]
     },
     "metadata": {},
     "output_type": "display_data"
    },
    {
     "data": {
      "text/html": [
       "<h4>Ähnliche Universitäten aufgrund der Drittmittel-Struktur</h3>"
      ],
      "text/plain": [
       "<IPython.core.display.HTML object>"
      ]
     },
     "metadata": {},
     "output_type": "display_data"
    },
    {
     "data": {
      "text/html": [
       "<p><strong>Universität Klagenfurt</strong> (82.0%, wegen &auml;hnlicher Relevanz von Unternehmen, FWF, EU), <strong>Technische Universität Wien</strong> (76.9%, wegen &auml;hnlicher Relevanz von Unternehmen, FWF, EU), <strong>Medizinische Universität Innsbruck</strong> (74.6%, wegen &auml;hnlicher Relevanz von Unternehmen, FWF, EU), <strong>Universität Innsbruck</strong> (68.9%, wegen &auml;hnlicher Relevanz von FWF, EU, Unternehmen)</p>"
      ],
      "text/plain": [
       "<IPython.core.display.HTML object>"
      ]
     },
     "metadata": {},
     "output_type": "display_data"
    },
    {
     "data": {
      "text/html": [
       "<h3>Universität Klagenfurt</h3>"
      ],
      "text/plain": [
       "<IPython.core.display.HTML object>"
      ]
     },
     "metadata": {},
     "output_type": "display_data"
    },
    {
     "data": {
      "text/html": [
       "<h4>Drittmittel-Struktur</h4>"
      ],
      "text/plain": [
       "<IPython.core.display.HTML object>"
      ]
     },
     "metadata": {},
     "output_type": "display_data"
    },
    {
     "data": {
      "text/html": [
       "<style  type=\"text/css\" >\n",
       "    #T_b4b8c45e_a2d2_11e9_a9a4_419a49d29e61row0_col0 {\n",
       "            background-color:  white;\n",
       "        }    #T_b4b8c45e_a2d2_11e9_a9a4_419a49d29e61row0_col1 {\n",
       "            background-color:  white;\n",
       "        }    #T_b4b8c45e_a2d2_11e9_a9a4_419a49d29e61row0_col2 {\n",
       "            background-color:  white;\n",
       "        }    #T_b4b8c45e_a2d2_11e9_a9a4_419a49d29e61row0_col3 {\n",
       "            background-color:  white;\n",
       "        }    #T_b4b8c45e_a2d2_11e9_a9a4_419a49d29e61row0_col4 {\n",
       "            background-color:  white;\n",
       "        }    #T_b4b8c45e_a2d2_11e9_a9a4_419a49d29e61row1_col0 {\n",
       "            background-color:  white;\n",
       "        }    #T_b4b8c45e_a2d2_11e9_a9a4_419a49d29e61row1_col1 {\n",
       "            background-color:  white;\n",
       "        }    #T_b4b8c45e_a2d2_11e9_a9a4_419a49d29e61row1_col2 {\n",
       "            background-color:  white;\n",
       "        }    #T_b4b8c45e_a2d2_11e9_a9a4_419a49d29e61row1_col3 {\n",
       "            background-color:  white;\n",
       "        }    #T_b4b8c45e_a2d2_11e9_a9a4_419a49d29e61row1_col4 {\n",
       "            background-color:  white;\n",
       "        }    #T_b4b8c45e_a2d2_11e9_a9a4_419a49d29e61row2_col0 {\n",
       "            background-color:  white;\n",
       "        }    #T_b4b8c45e_a2d2_11e9_a9a4_419a49d29e61row2_col1 {\n",
       "            background-color:  white;\n",
       "        }    #T_b4b8c45e_a2d2_11e9_a9a4_419a49d29e61row2_col2 {\n",
       "            background-color:  white;\n",
       "        }    #T_b4b8c45e_a2d2_11e9_a9a4_419a49d29e61row2_col3 {\n",
       "            background-color:  white;\n",
       "        }    #T_b4b8c45e_a2d2_11e9_a9a4_419a49d29e61row2_col4 {\n",
       "            background-color:  white;\n",
       "        }    #T_b4b8c45e_a2d2_11e9_a9a4_419a49d29e61row3_col0 {\n",
       "            background-color:  white;\n",
       "        }    #T_b4b8c45e_a2d2_11e9_a9a4_419a49d29e61row3_col1 {\n",
       "            background-color:  white;\n",
       "        }    #T_b4b8c45e_a2d2_11e9_a9a4_419a49d29e61row3_col2 {\n",
       "            background-color:  white;\n",
       "        }    #T_b4b8c45e_a2d2_11e9_a9a4_419a49d29e61row3_col3 {\n",
       "            background-color:  white;\n",
       "        }    #T_b4b8c45e_a2d2_11e9_a9a4_419a49d29e61row3_col4 {\n",
       "            background-color:  white;\n",
       "        }</style><table id=\"T_b4b8c45e_a2d2_11e9_a9a4_419a49d29e61\" ><thead>    <tr>        <th class=\"blank level0\" ></th>        <th class=\"col_heading level0 col0\" >Intern</th>        <th class=\"col_heading level0 col1\" >Ranking</th>        <th class=\"col_heading level0 col2\" >Erlöse</th>        <th class=\"col_heading level0 col3\" >Beste Universität</th>        <th class=\"col_heading level0 col4\" >Bessere Universitäten</th>    </tr>    <tr>        <th class=\"index_name level0\" >WZW</th>        <th class=\"blank\" ></th>        <th class=\"blank\" ></th>        <th class=\"blank\" ></th>        <th class=\"blank\" ></th>        <th class=\"blank\" ></th>    </tr></thead><tbody>\n",
       "                <tr>\n",
       "                        <th id=\"T_b4b8c45e_a2d2_11e9_a9a4_419a49d29e61level0_row0\" class=\"row_heading level0 row0\" >Unternehmen</th>\n",
       "                        <td id=\"T_b4b8c45e_a2d2_11e9_a9a4_419a49d29e61row0_col0\" class=\"data row0 col0\" >21.30%</td>\n",
       "                        <td id=\"T_b4b8c45e_a2d2_11e9_a9a4_419a49d29e61row0_col1\" class=\"data row0 col1\" >13. Platz</td>\n",
       "                        <td id=\"T_b4b8c45e_a2d2_11e9_a9a4_419a49d29e61row0_col2\" class=\"data row0 col2\" >1,606,003 €</td>\n",
       "                        <td id=\"T_b4b8c45e_a2d2_11e9_a9a4_419a49d29e61row0_col3\" class=\"data row0 col3\" >Medizinische Universität Graz (32.4 Mio. €)</td>\n",
       "                        <td id=\"T_b4b8c45e_a2d2_11e9_a9a4_419a49d29e61row0_col4\" class=\"data row0 col4\" >Medizinische Universität Graz, Technische Universität Graz, Technische Universität Wien, Medizinische Universität Wien, Medizinische Universität Innsbruck, Universität für Bodenkultur Wien, Montanuniversität Leoben, Universität Linz, Universität Innsbruck, Universität Wien, Veterinärmedizinische Universität Wien, Universität Graz</td>\n",
       "            </tr>\n",
       "            <tr>\n",
       "                        <th id=\"T_b4b8c45e_a2d2_11e9_a9a4_419a49d29e61level0_row1\" class=\"row_heading level0 row1\" >FWF</th>\n",
       "                        <td id=\"T_b4b8c45e_a2d2_11e9_a9a4_419a49d29e61row1_col0\" class=\"data row1 col0\" >18.28%</td>\n",
       "                        <td id=\"T_b4b8c45e_a2d2_11e9_a9a4_419a49d29e61row1_col1\" class=\"data row1 col1\" >14. Platz</td>\n",
       "                        <td id=\"T_b4b8c45e_a2d2_11e9_a9a4_419a49d29e61row1_col2\" class=\"data row1 col2\" >1,378,473 €</td>\n",
       "                        <td id=\"T_b4b8c45e_a2d2_11e9_a9a4_419a49d29e61row1_col3\" class=\"data row1 col3\" >Universität Wien (41.1 Mio. €)</td>\n",
       "                        <td id=\"T_b4b8c45e_a2d2_11e9_a9a4_419a49d29e61row1_col4\" class=\"data row1 col4\" >Universität Wien, Technische Universität Wien, Medizinische Universität Wien, Universität Innsbruck, Universität Graz, Medizinische Universität Innsbruck, Universität für Bodenkultur Wien, Universität Linz, Universität Salzburg, Technische Universität Graz, Veterinärmedizinische Universität Wien, Medizinische Universität Graz, Wirtschaftsuniversität Wien</td>\n",
       "            </tr>\n",
       "            <tr>\n",
       "                        <th id=\"T_b4b8c45e_a2d2_11e9_a9a4_419a49d29e61level0_row2\" class=\"row_heading level0 row2\" >EU</th>\n",
       "                        <td id=\"T_b4b8c45e_a2d2_11e9_a9a4_419a49d29e61row2_col0\" class=\"data row2 col0\" >13.58%</td>\n",
       "                        <td id=\"T_b4b8c45e_a2d2_11e9_a9a4_419a49d29e61row2_col1\" class=\"data row2 col1\" >14. Platz</td>\n",
       "                        <td id=\"T_b4b8c45e_a2d2_11e9_a9a4_419a49d29e61row2_col2\" class=\"data row2 col2\" >1,024,247 €</td>\n",
       "                        <td id=\"T_b4b8c45e_a2d2_11e9_a9a4_419a49d29e61row2_col3\" class=\"data row2 col3\" >Technische Universität Wien (14.7 Mio. €)</td>\n",
       "                        <td id=\"T_b4b8c45e_a2d2_11e9_a9a4_419a49d29e61row2_col4\" class=\"data row2 col4\" >Technische Universität Wien, Universität Wien, Technische Universität Graz, Universität Innsbruck, Medizinische Universität Wien, Universität für Bodenkultur Wien, Montanuniversität Leoben, Medizinische Universität Innsbruck, Universität Salzburg, Universität Graz, Universität Linz, Medizinische Universität Graz, Wirtschaftsuniversität Wien</td>\n",
       "            </tr>\n",
       "            <tr>\n",
       "                        <th id=\"T_b4b8c45e_a2d2_11e9_a9a4_419a49d29e61level0_row3\" class=\"row_heading level0 row3\" >Bund (Ministerien)</th>\n",
       "                        <td id=\"T_b4b8c45e_a2d2_11e9_a9a4_419a49d29e61row3_col0\" class=\"data row3 col0\" >12.74%</td>\n",
       "                        <td id=\"T_b4b8c45e_a2d2_11e9_a9a4_419a49d29e61row3_col1\" class=\"data row3 col1\" >9. Platz</td>\n",
       "                        <td id=\"T_b4b8c45e_a2d2_11e9_a9a4_419a49d29e61row3_col2\" class=\"data row3 col2\" >960,387 €</td>\n",
       "                        <td id=\"T_b4b8c45e_a2d2_11e9_a9a4_419a49d29e61row3_col3\" class=\"data row3 col3\" >Medizinische Universität Innsbruck (3.7 Mio. €)</td>\n",
       "                        <td id=\"T_b4b8c45e_a2d2_11e9_a9a4_419a49d29e61row3_col4\" class=\"data row3 col4\" >Medizinische Universität Innsbruck, Universität Wien, Universität für Bodenkultur Wien, Montanuniversität Leoben, Technische Universität Wien, Medizinische Universität Wien, Technische Universität Graz, Universität Salzburg</td>\n",
       "            </tr>\n",
       "    </tbody></table>"
      ],
      "text/plain": [
       "<pandas.io.formats.style.Styler at 0x7fe69c438828>"
      ]
     },
     "metadata": {},
     "output_type": "display_data"
    },
    {
     "data": {
      "text/html": [
       "<h4>Ähnliche Universitäten aufgrund der Drittmittel-Struktur</h3>"
      ],
      "text/plain": [
       "<IPython.core.display.HTML object>"
      ]
     },
     "metadata": {},
     "output_type": "display_data"
    },
    {
     "data": {
      "text/html": [
       "<p><strong>Universität für Bodenkultur Wien</strong> (82.0%, wegen &auml;hnlicher Relevanz von Unternehmen, FWF, EU), <strong>Technische Universität Wien</strong> (76.5%, wegen &auml;hnlicher Relevanz von Unternehmen, FWF, EU), <strong>Universität Innsbruck</strong> (70.4%, wegen &auml;hnlicher Relevanz von FWF, EU, Unternehmen), <strong>Universität Linz</strong> (69.7%, wegen &auml;hnlicher Relevanz von Unternehmen, FWF, FFG)</p>"
      ],
      "text/plain": [
       "<IPython.core.display.HTML object>"
      ]
     },
     "metadata": {},
     "output_type": "display_data"
    },
    {
     "data": {
      "text/html": [
       "<h3>Universität Wien</h3>"
      ],
      "text/plain": [
       "<IPython.core.display.HTML object>"
      ]
     },
     "metadata": {},
     "output_type": "display_data"
    },
    {
     "data": {
      "text/html": [
       "<h4>Drittmittel-Struktur</h4>"
      ],
      "text/plain": [
       "<IPython.core.display.HTML object>"
      ]
     },
     "metadata": {},
     "output_type": "display_data"
    },
    {
     "data": {
      "text/html": [
       "<style  type=\"text/css\" >\n",
       "    #T_b4bff698_a2d2_11e9_a9a4_419a49d29e61row0_col0 {\n",
       "            background-color:  lightgreen;\n",
       "        }    #T_b4bff698_a2d2_11e9_a9a4_419a49d29e61row0_col1 {\n",
       "            background-color:  lightgreen;\n",
       "        }    #T_b4bff698_a2d2_11e9_a9a4_419a49d29e61row0_col2 {\n",
       "            background-color:  lightgreen;\n",
       "        }    #T_b4bff698_a2d2_11e9_a9a4_419a49d29e61row0_col3 {\n",
       "            background-color:  lightgreen;\n",
       "        }    #T_b4bff698_a2d2_11e9_a9a4_419a49d29e61row0_col4 {\n",
       "            background-color:  lightgreen;\n",
       "        }    #T_b4bff698_a2d2_11e9_a9a4_419a49d29e61row1_col0 {\n",
       "            background-color:  yellow;\n",
       "        }    #T_b4bff698_a2d2_11e9_a9a4_419a49d29e61row1_col1 {\n",
       "            background-color:  yellow;\n",
       "        }    #T_b4bff698_a2d2_11e9_a9a4_419a49d29e61row1_col2 {\n",
       "            background-color:  yellow;\n",
       "        }    #T_b4bff698_a2d2_11e9_a9a4_419a49d29e61row1_col3 {\n",
       "            background-color:  yellow;\n",
       "        }    #T_b4bff698_a2d2_11e9_a9a4_419a49d29e61row1_col4 {\n",
       "            background-color:  yellow;\n",
       "        }</style><table id=\"T_b4bff698_a2d2_11e9_a9a4_419a49d29e61\" ><thead>    <tr>        <th class=\"blank level0\" ></th>        <th class=\"col_heading level0 col0\" >Intern</th>        <th class=\"col_heading level0 col1\" >Ranking</th>        <th class=\"col_heading level0 col2\" >Erlöse</th>        <th class=\"col_heading level0 col3\" >Beste Universität</th>        <th class=\"col_heading level0 col4\" >Bessere Universitäten</th>    </tr>    <tr>        <th class=\"index_name level0\" >WZW</th>        <th class=\"blank\" ></th>        <th class=\"blank\" ></th>        <th class=\"blank\" ></th>        <th class=\"blank\" ></th>        <th class=\"blank\" ></th>    </tr></thead><tbody>\n",
       "                <tr>\n",
       "                        <th id=\"T_b4bff698_a2d2_11e9_a9a4_419a49d29e61level0_row0\" class=\"row_heading level0 row0\" >FWF</th>\n",
       "                        <td id=\"T_b4bff698_a2d2_11e9_a9a4_419a49d29e61row0_col0\" class=\"data row0 col0\" >48.27%</td>\n",
       "                        <td id=\"T_b4bff698_a2d2_11e9_a9a4_419a49d29e61row0_col1\" class=\"data row0 col1\" >1. Platz</td>\n",
       "                        <td id=\"T_b4bff698_a2d2_11e9_a9a4_419a49d29e61row0_col2\" class=\"data row0 col2\" >41,065,705 €</td>\n",
       "                        <td id=\"T_b4bff698_a2d2_11e9_a9a4_419a49d29e61row0_col3\" class=\"data row0 col3\" >(diese)</td>\n",
       "                        <td id=\"T_b4bff698_a2d2_11e9_a9a4_419a49d29e61row0_col4\" class=\"data row0 col4\" >(keine)</td>\n",
       "            </tr>\n",
       "            <tr>\n",
       "                        <th id=\"T_b4bff698_a2d2_11e9_a9a4_419a49d29e61level0_row1\" class=\"row_heading level0 row1\" >EU</th>\n",
       "                        <td id=\"T_b4bff698_a2d2_11e9_a9a4_419a49d29e61row1_col0\" class=\"data row1 col0\" >16.02%</td>\n",
       "                        <td id=\"T_b4bff698_a2d2_11e9_a9a4_419a49d29e61row1_col1\" class=\"data row1 col1\" >2. Platz</td>\n",
       "                        <td id=\"T_b4bff698_a2d2_11e9_a9a4_419a49d29e61row1_col2\" class=\"data row1 col2\" >13,633,780 €</td>\n",
       "                        <td id=\"T_b4bff698_a2d2_11e9_a9a4_419a49d29e61row1_col3\" class=\"data row1 col3\" >Technische Universität Wien (14.7 Mio. €)</td>\n",
       "                        <td id=\"T_b4bff698_a2d2_11e9_a9a4_419a49d29e61row1_col4\" class=\"data row1 col4\" >Technische Universität Wien</td>\n",
       "            </tr>\n",
       "    </tbody></table>"
      ],
      "text/plain": [
       "<pandas.io.formats.style.Styler at 0x7fe69c149400>"
      ]
     },
     "metadata": {},
     "output_type": "display_data"
    },
    {
     "data": {
      "text/html": [
       "<h4>Ähnliche Universitäten aufgrund der Drittmittel-Struktur</h3>"
      ],
      "text/plain": [
       "<IPython.core.display.HTML object>"
      ]
     },
     "metadata": {},
     "output_type": "display_data"
    },
    {
     "data": {
      "text/html": [
       "<p><strong>Universität für angewandte Kunst Wien</strong> (88.7%, wegen &auml;hnlicher Relevanz von FWF, EU, Private (Stiftungen, Vereine, etc.)), <strong>Universität Salzburg</strong> (83.5%, wegen &auml;hnlicher Relevanz von FWF, EU, Länder (inkl. deren Stiftungen und Einrichtungen)), <strong>Universität Graz</strong> (83.4%, wegen &auml;hnlicher Relevanz von FWF, EU, Länder (inkl. deren Stiftungen und Einrichtungen)), <strong>Universität Innsbruck</strong> (74.9%, wegen &auml;hnlicher Relevanz von FWF, EU, Länder (inkl. deren Stiftungen und Einrichtungen))</p>"
      ],
      "text/plain": [
       "<IPython.core.display.HTML object>"
      ]
     },
     "metadata": {},
     "output_type": "display_data"
    },
    {
     "data": {
      "text/html": [
       "<h3>Technische Universität Wien</h3>"
      ],
      "text/plain": [
       "<IPython.core.display.HTML object>"
      ]
     },
     "metadata": {},
     "output_type": "display_data"
    },
    {
     "data": {
      "text/html": [
       "<h4>Drittmittel-Struktur</h4>"
      ],
      "text/plain": [
       "<IPython.core.display.HTML object>"
      ]
     },
     "metadata": {},
     "output_type": "display_data"
    },
    {
     "data": {
      "text/html": [
       "<style  type=\"text/css\" >\n",
       "    #T_b4c87b24_a2d2_11e9_a9a4_419a49d29e61row0_col0 {\n",
       "            background-color:  white;\n",
       "        }    #T_b4c87b24_a2d2_11e9_a9a4_419a49d29e61row0_col1 {\n",
       "            background-color:  white;\n",
       "        }    #T_b4c87b24_a2d2_11e9_a9a4_419a49d29e61row0_col2 {\n",
       "            background-color:  white;\n",
       "        }    #T_b4c87b24_a2d2_11e9_a9a4_419a49d29e61row0_col3 {\n",
       "            background-color:  white;\n",
       "        }    #T_b4c87b24_a2d2_11e9_a9a4_419a49d29e61row0_col4 {\n",
       "            background-color:  white;\n",
       "        }    #T_b4c87b24_a2d2_11e9_a9a4_419a49d29e61row1_col0 {\n",
       "            background-color:  yellow;\n",
       "        }    #T_b4c87b24_a2d2_11e9_a9a4_419a49d29e61row1_col1 {\n",
       "            background-color:  yellow;\n",
       "        }    #T_b4c87b24_a2d2_11e9_a9a4_419a49d29e61row1_col2 {\n",
       "            background-color:  yellow;\n",
       "        }    #T_b4c87b24_a2d2_11e9_a9a4_419a49d29e61row1_col3 {\n",
       "            background-color:  yellow;\n",
       "        }    #T_b4c87b24_a2d2_11e9_a9a4_419a49d29e61row1_col4 {\n",
       "            background-color:  yellow;\n",
       "        }    #T_b4c87b24_a2d2_11e9_a9a4_419a49d29e61row2_col0 {\n",
       "            background-color:  yellow;\n",
       "        }    #T_b4c87b24_a2d2_11e9_a9a4_419a49d29e61row2_col1 {\n",
       "            background-color:  yellow;\n",
       "        }    #T_b4c87b24_a2d2_11e9_a9a4_419a49d29e61row2_col2 {\n",
       "            background-color:  yellow;\n",
       "        }    #T_b4c87b24_a2d2_11e9_a9a4_419a49d29e61row2_col3 {\n",
       "            background-color:  yellow;\n",
       "        }    #T_b4c87b24_a2d2_11e9_a9a4_419a49d29e61row2_col4 {\n",
       "            background-color:  yellow;\n",
       "        }</style><table id=\"T_b4c87b24_a2d2_11e9_a9a4_419a49d29e61\" ><thead>    <tr>        <th class=\"blank level0\" ></th>        <th class=\"col_heading level0 col0\" >Intern</th>        <th class=\"col_heading level0 col1\" >Ranking</th>        <th class=\"col_heading level0 col2\" >Erlöse</th>        <th class=\"col_heading level0 col3\" >Beste Universität</th>        <th class=\"col_heading level0 col4\" >Bessere Universitäten</th>    </tr>    <tr>        <th class=\"index_name level0\" >WZW</th>        <th class=\"blank\" ></th>        <th class=\"blank\" ></th>        <th class=\"blank\" ></th>        <th class=\"blank\" ></th>        <th class=\"blank\" ></th>    </tr></thead><tbody>\n",
       "                <tr>\n",
       "                        <th id=\"T_b4c87b24_a2d2_11e9_a9a4_419a49d29e61level0_row0\" class=\"row_heading level0 row0\" >Unternehmen</th>\n",
       "                        <td id=\"T_b4c87b24_a2d2_11e9_a9a4_419a49d29e61row0_col0\" class=\"data row0 col0\" >25.31%</td>\n",
       "                        <td id=\"T_b4c87b24_a2d2_11e9_a9a4_419a49d29e61row0_col1\" class=\"data row0 col1\" >3. Platz</td>\n",
       "                        <td id=\"T_b4c87b24_a2d2_11e9_a9a4_419a49d29e61row0_col2\" class=\"data row0 col2\" >22,101,493 €</td>\n",
       "                        <td id=\"T_b4c87b24_a2d2_11e9_a9a4_419a49d29e61row0_col3\" class=\"data row0 col3\" >Medizinische Universität Graz (32.4 Mio. €)</td>\n",
       "                        <td id=\"T_b4c87b24_a2d2_11e9_a9a4_419a49d29e61row0_col4\" class=\"data row0 col4\" >Medizinische Universität Graz, Technische Universität Graz</td>\n",
       "            </tr>\n",
       "            <tr>\n",
       "                        <th id=\"T_b4c87b24_a2d2_11e9_a9a4_419a49d29e61level0_row1\" class=\"row_heading level0 row1\" >FWF</th>\n",
       "                        <td id=\"T_b4c87b24_a2d2_11e9_a9a4_419a49d29e61row1_col0\" class=\"data row1 col0\" >22.52%</td>\n",
       "                        <td id=\"T_b4c87b24_a2d2_11e9_a9a4_419a49d29e61row1_col1\" class=\"data row1 col1\" >2. Platz</td>\n",
       "                        <td id=\"T_b4c87b24_a2d2_11e9_a9a4_419a49d29e61row1_col2\" class=\"data row1 col2\" >19,662,614 €</td>\n",
       "                        <td id=\"T_b4c87b24_a2d2_11e9_a9a4_419a49d29e61row1_col3\" class=\"data row1 col3\" >Universität Wien (41.1 Mio. €)</td>\n",
       "                        <td id=\"T_b4c87b24_a2d2_11e9_a9a4_419a49d29e61row1_col4\" class=\"data row1 col4\" >Universität Wien</td>\n",
       "            </tr>\n",
       "            <tr>\n",
       "                        <th id=\"T_b4c87b24_a2d2_11e9_a9a4_419a49d29e61level0_row2\" class=\"row_heading level0 row2\" >FFG</th>\n",
       "                        <td id=\"T_b4c87b24_a2d2_11e9_a9a4_419a49d29e61row2_col0\" class=\"data row2 col0\" >18.69%</td>\n",
       "                        <td id=\"T_b4c87b24_a2d2_11e9_a9a4_419a49d29e61row2_col1\" class=\"data row2 col1\" >2. Platz</td>\n",
       "                        <td id=\"T_b4c87b24_a2d2_11e9_a9a4_419a49d29e61row2_col2\" class=\"data row2 col2\" >16,317,706 €</td>\n",
       "                        <td id=\"T_b4c87b24_a2d2_11e9_a9a4_419a49d29e61row2_col3\" class=\"data row2 col3\" >Technische Universität Graz (19.0 Mio. €)</td>\n",
       "                        <td id=\"T_b4c87b24_a2d2_11e9_a9a4_419a49d29e61row2_col4\" class=\"data row2 col4\" >Technische Universität Graz</td>\n",
       "            </tr>\n",
       "    </tbody></table>"
      ],
      "text/plain": [
       "<pandas.io.formats.style.Styler at 0x7fe69c2be588>"
      ]
     },
     "metadata": {},
     "output_type": "display_data"
    },
    {
     "data": {
      "text/html": [
       "<h4>Ähnliche Universitäten aufgrund der Drittmittel-Struktur</h3>"
      ],
      "text/plain": [
       "<IPython.core.display.HTML object>"
      ]
     },
     "metadata": {},
     "output_type": "display_data"
    },
    {
     "data": {
      "text/html": [
       "<p><strong>Universität Linz</strong> (82.7%, wegen &auml;hnlicher Relevanz von FWF, Unternehmen, FFG), <strong>Technische Universität Graz</strong> (78.1%, wegen &auml;hnlicher Relevanz von Unternehmen, FFG, EU), <strong>Universität für Bodenkultur Wien</strong> (76.9%, wegen &auml;hnlicher Relevanz von Unternehmen, FWF, EU), <strong>Universität Klagenfurt</strong> (76.5%, wegen &auml;hnlicher Relevanz von Unternehmen, FWF, EU)</p>"
      ],
      "text/plain": [
       "<IPython.core.display.HTML object>"
      ]
     },
     "metadata": {},
     "output_type": "display_data"
    },
    {
     "data": {
      "text/html": [
       "<h3>Universität Innsbruck</h3>"
      ],
      "text/plain": [
       "<IPython.core.display.HTML object>"
      ]
     },
     "metadata": {},
     "output_type": "display_data"
    },
    {
     "data": {
      "text/html": [
       "<h4>Drittmittel-Struktur</h4>"
      ],
      "text/plain": [
       "<IPython.core.display.HTML object>"
      ]
     },
     "metadata": {},
     "output_type": "display_data"
    },
    {
     "data": {
      "text/html": [
       "<style  type=\"text/css\" >\n",
       "    #T_b4d1896c_a2d2_11e9_a9a4_419a49d29e61row0_col0 {\n",
       "            background-color:  white;\n",
       "        }    #T_b4d1896c_a2d2_11e9_a9a4_419a49d29e61row0_col1 {\n",
       "            background-color:  white;\n",
       "        }    #T_b4d1896c_a2d2_11e9_a9a4_419a49d29e61row0_col2 {\n",
       "            background-color:  white;\n",
       "        }    #T_b4d1896c_a2d2_11e9_a9a4_419a49d29e61row0_col3 {\n",
       "            background-color:  white;\n",
       "        }    #T_b4d1896c_a2d2_11e9_a9a4_419a49d29e61row0_col4 {\n",
       "            background-color:  white;\n",
       "        }    #T_b4d1896c_a2d2_11e9_a9a4_419a49d29e61row1_col0 {\n",
       "            background-color:  white;\n",
       "        }    #T_b4d1896c_a2d2_11e9_a9a4_419a49d29e61row1_col1 {\n",
       "            background-color:  white;\n",
       "        }    #T_b4d1896c_a2d2_11e9_a9a4_419a49d29e61row1_col2 {\n",
       "            background-color:  white;\n",
       "        }    #T_b4d1896c_a2d2_11e9_a9a4_419a49d29e61row1_col3 {\n",
       "            background-color:  white;\n",
       "        }    #T_b4d1896c_a2d2_11e9_a9a4_419a49d29e61row1_col4 {\n",
       "            background-color:  white;\n",
       "        }    #T_b4d1896c_a2d2_11e9_a9a4_419a49d29e61row2_col0 {\n",
       "            background-color:  yellow;\n",
       "        }    #T_b4d1896c_a2d2_11e9_a9a4_419a49d29e61row2_col1 {\n",
       "            background-color:  yellow;\n",
       "        }    #T_b4d1896c_a2d2_11e9_a9a4_419a49d29e61row2_col2 {\n",
       "            background-color:  yellow;\n",
       "        }    #T_b4d1896c_a2d2_11e9_a9a4_419a49d29e61row2_col3 {\n",
       "            background-color:  yellow;\n",
       "        }    #T_b4d1896c_a2d2_11e9_a9a4_419a49d29e61row2_col4 {\n",
       "            background-color:  yellow;\n",
       "        }</style><table id=\"T_b4d1896c_a2d2_11e9_a9a4_419a49d29e61\" ><thead>    <tr>        <th class=\"blank level0\" ></th>        <th class=\"col_heading level0 col0\" >Intern</th>        <th class=\"col_heading level0 col1\" >Ranking</th>        <th class=\"col_heading level0 col2\" >Erlöse</th>        <th class=\"col_heading level0 col3\" >Beste Universität</th>        <th class=\"col_heading level0 col4\" >Bessere Universitäten</th>    </tr>    <tr>        <th class=\"index_name level0\" >WZW</th>        <th class=\"blank\" ></th>        <th class=\"blank\" ></th>        <th class=\"blank\" ></th>        <th class=\"blank\" ></th>        <th class=\"blank\" ></th>    </tr></thead><tbody>\n",
       "                <tr>\n",
       "                        <th id=\"T_b4d1896c_a2d2_11e9_a9a4_419a49d29e61level0_row0\" class=\"row_heading level0 row0\" >FWF</th>\n",
       "                        <td id=\"T_b4d1896c_a2d2_11e9_a9a4_419a49d29e61row0_col0\" class=\"data row0 col0\" >33.00%</td>\n",
       "                        <td id=\"T_b4d1896c_a2d2_11e9_a9a4_419a49d29e61row0_col1\" class=\"data row0 col1\" >4. Platz</td>\n",
       "                        <td id=\"T_b4d1896c_a2d2_11e9_a9a4_419a49d29e61row0_col2\" class=\"data row0 col2\" >16,317,638 €</td>\n",
       "                        <td id=\"T_b4d1896c_a2d2_11e9_a9a4_419a49d29e61row0_col3\" class=\"data row0 col3\" >Universität Wien (41.1 Mio. €)</td>\n",
       "                        <td id=\"T_b4d1896c_a2d2_11e9_a9a4_419a49d29e61row0_col4\" class=\"data row0 col4\" >Universität Wien, Technische Universität Wien, Medizinische Universität Wien</td>\n",
       "            </tr>\n",
       "            <tr>\n",
       "                        <th id=\"T_b4d1896c_a2d2_11e9_a9a4_419a49d29e61level0_row1\" class=\"row_heading level0 row1\" >EU</th>\n",
       "                        <td id=\"T_b4d1896c_a2d2_11e9_a9a4_419a49d29e61row1_col0\" class=\"data row1 col0\" >17.28%</td>\n",
       "                        <td id=\"T_b4d1896c_a2d2_11e9_a9a4_419a49d29e61row1_col1\" class=\"data row1 col1\" >4. Platz</td>\n",
       "                        <td id=\"T_b4d1896c_a2d2_11e9_a9a4_419a49d29e61row1_col2\" class=\"data row1 col2\" >8,544,360 €</td>\n",
       "                        <td id=\"T_b4d1896c_a2d2_11e9_a9a4_419a49d29e61row1_col3\" class=\"data row1 col3\" >Technische Universität Wien (14.7 Mio. €)</td>\n",
       "                        <td id=\"T_b4d1896c_a2d2_11e9_a9a4_419a49d29e61row1_col4\" class=\"data row1 col4\" >Technische Universität Wien, Universität Wien, Technische Universität Graz</td>\n",
       "            </tr>\n",
       "            <tr>\n",
       "                        <th id=\"T_b4d1896c_a2d2_11e9_a9a4_419a49d29e61level0_row2\" class=\"row_heading level0 row2\" >Länder (inkl. deren Stiftungen und Einrichtungen)</th>\n",
       "                        <td id=\"T_b4d1896c_a2d2_11e9_a9a4_419a49d29e61row2_col0\" class=\"data row2 col0\" >11.12%</td>\n",
       "                        <td id=\"T_b4d1896c_a2d2_11e9_a9a4_419a49d29e61row2_col1\" class=\"data row2 col1\" >2. Platz</td>\n",
       "                        <td id=\"T_b4d1896c_a2d2_11e9_a9a4_419a49d29e61row2_col2\" class=\"data row2 col2\" >5,495,536 €</td>\n",
       "                        <td id=\"T_b4d1896c_a2d2_11e9_a9a4_419a49d29e61row2_col3\" class=\"data row2 col3\" >Universität Wien (5.6 Mio. €)</td>\n",
       "                        <td id=\"T_b4d1896c_a2d2_11e9_a9a4_419a49d29e61row2_col4\" class=\"data row2 col4\" >Universität Wien</td>\n",
       "            </tr>\n",
       "    </tbody></table>"
      ],
      "text/plain": [
       "<pandas.io.formats.style.Styler at 0x7fe69c438cf8>"
      ]
     },
     "metadata": {},
     "output_type": "display_data"
    },
    {
     "data": {
      "text/html": [
       "<h4>Ähnliche Universitäten aufgrund der Drittmittel-Struktur</h3>"
      ],
      "text/plain": [
       "<IPython.core.display.HTML object>"
      ]
     },
     "metadata": {},
     "output_type": "display_data"
    },
    {
     "data": {
      "text/html": [
       "<p><strong>Universität Salzburg</strong> (79.4%, wegen &auml;hnlicher Relevanz von FWF, EU, sonstige öffentlich-rechtliche Einrichtungen (Körperschaften, Stiftungen, Fonds etc.)), <strong>Universität Graz</strong> (75.5%, wegen &auml;hnlicher Relevanz von FWF, EU, Länder (inkl. deren Stiftungen und Einrichtungen)), <strong>Universität Wien</strong> (74.9%, wegen &auml;hnlicher Relevanz von FWF, EU, Länder (inkl. deren Stiftungen und Einrichtungen)), <strong>Universität für angewandte Kunst Wien</strong> (74.9%, wegen &auml;hnlicher Relevanz von FWF, EU, Unternehmen)</p>"
      ],
      "text/plain": [
       "<IPython.core.display.HTML object>"
      ]
     },
     "metadata": {},
     "output_type": "display_data"
    },
    {
     "data": {
      "text/html": [
       "<h3>Universität Mozarteum Salzburg</h3>"
      ],
      "text/plain": [
       "<IPython.core.display.HTML object>"
      ]
     },
     "metadata": {},
     "output_type": "display_data"
    },
    {
     "data": {
      "text/html": [
       "<h4>Drittmittel-Struktur</h4>"
      ],
      "text/plain": [
       "<IPython.core.display.HTML object>"
      ]
     },
     "metadata": {},
     "output_type": "display_data"
    },
    {
     "data": {
      "text/html": [
       "<style  type=\"text/css\" >\n",
       "    #T_b4d87312_a2d2_11e9_a9a4_419a49d29e61row0_col0 {\n",
       "            background-color:  white;\n",
       "        }    #T_b4d87312_a2d2_11e9_a9a4_419a49d29e61row0_col1 {\n",
       "            background-color:  white;\n",
       "        }    #T_b4d87312_a2d2_11e9_a9a4_419a49d29e61row0_col2 {\n",
       "            background-color:  white;\n",
       "        }    #T_b4d87312_a2d2_11e9_a9a4_419a49d29e61row0_col3 {\n",
       "            background-color:  white;\n",
       "        }    #T_b4d87312_a2d2_11e9_a9a4_419a49d29e61row0_col4 {\n",
       "            background-color:  white;\n",
       "        }</style><table id=\"T_b4d87312_a2d2_11e9_a9a4_419a49d29e61\" ><thead>    <tr>        <th class=\"blank level0\" ></th>        <th class=\"col_heading level0 col0\" >Intern</th>        <th class=\"col_heading level0 col1\" >Ranking</th>        <th class=\"col_heading level0 col2\" >Erlöse</th>        <th class=\"col_heading level0 col3\" >Beste Universität</th>        <th class=\"col_heading level0 col4\" >Bessere Universitäten</th>    </tr>    <tr>        <th class=\"index_name level0\" >WZW</th>        <th class=\"blank\" ></th>        <th class=\"blank\" ></th>        <th class=\"blank\" ></th>        <th class=\"blank\" ></th>        <th class=\"blank\" ></th>    </tr></thead><tbody>\n",
       "                <tr>\n",
       "                        <th id=\"T_b4d87312_a2d2_11e9_a9a4_419a49d29e61level0_row0\" class=\"row_heading level0 row0\" >Private (Stiftungen, Vereine, etc.)</th>\n",
       "                        <td id=\"T_b4d87312_a2d2_11e9_a9a4_419a49d29e61row0_col0\" class=\"data row0 col0\" >59.10%</td>\n",
       "                        <td id=\"T_b4d87312_a2d2_11e9_a9a4_419a49d29e61row0_col1\" class=\"data row0 col1\" >10. Platz</td>\n",
       "                        <td id=\"T_b4d87312_a2d2_11e9_a9a4_419a49d29e61row0_col2\" class=\"data row0 col2\" >817,783 €</td>\n",
       "                        <td id=\"T_b4d87312_a2d2_11e9_a9a4_419a49d29e61row0_col3\" class=\"data row0 col3\" >Medizinische Universität Wien (9.1 Mio. €)</td>\n",
       "                        <td id=\"T_b4d87312_a2d2_11e9_a9a4_419a49d29e61row0_col4\" class=\"data row0 col4\" >Medizinische Universität Wien, Veterinärmedizinische Universität Wien, Universität für Bodenkultur Wien, Universität Wien, Universität Innsbruck, Wirtschaftsuniversität Wien, Medizinische Universität Innsbruck, Technische Universität Graz, Medizinische Universität Graz</td>\n",
       "            </tr>\n",
       "    </tbody></table>"
      ],
      "text/plain": [
       "<pandas.io.formats.style.Styler at 0x7fe69c149940>"
      ]
     },
     "metadata": {},
     "output_type": "display_data"
    },
    {
     "data": {
      "text/html": [
       "<h4>Ähnliche Universitäten aufgrund der Drittmittel-Struktur</h3>"
      ],
      "text/plain": [
       "<IPython.core.display.HTML object>"
      ]
     },
     "metadata": {},
     "output_type": "display_data"
    },
    {
     "data": {
      "text/html": [
       "<p><strong>Veterinärmedizinische Universität Wien</strong> (56.8%, wegen &auml;hnlicher Relevanz von Private (Stiftungen, Vereine, etc.), sonstige öffentlich-rechtliche Einrichtungen (Körperschaften, Stiftungen, Fonds etc.), Unternehmen), <strong>Universität Klagenfurt</strong> (39.0%, wegen &auml;hnlicher Relevanz von Bund (Ministerien), Länder (inkl. deren Stiftungen und Einrichtungen), Unternehmen), <strong>Universität für Bodenkultur Wien</strong> (38.5%, wegen &auml;hnlicher Relevanz von Private (Stiftungen, Vereine, etc.), Bund (Ministerien), Unternehmen), <strong>Universität für Weiterbildung Krems</strong> (37.3%, wegen &auml;hnlicher Relevanz von Bund (Ministerien), Länder (inkl. deren Stiftungen und Einrichtungen), Unternehmen)</p>"
      ],
      "text/plain": [
       "<IPython.core.display.HTML object>"
      ]
     },
     "metadata": {},
     "output_type": "display_data"
    },
    {
     "data": {
      "text/html": [
       "<h3>Universität für Weiterbildung Krems</h3>"
      ],
      "text/plain": [
       "<IPython.core.display.HTML object>"
      ]
     },
     "metadata": {},
     "output_type": "display_data"
    },
    {
     "data": {
      "text/html": [
       "<h4>Drittmittel-Struktur</h4>"
      ],
      "text/plain": [
       "<IPython.core.display.HTML object>"
      ]
     },
     "metadata": {},
     "output_type": "display_data"
    },
    {
     "data": {
      "text/html": [
       "<style  type=\"text/css\" >\n",
       "    #T_b4e04ec0_a2d2_11e9_a9a4_419a49d29e61row0_col0 {\n",
       "            background-color:  white;\n",
       "        }    #T_b4e04ec0_a2d2_11e9_a9a4_419a49d29e61row0_col1 {\n",
       "            background-color:  white;\n",
       "        }    #T_b4e04ec0_a2d2_11e9_a9a4_419a49d29e61row0_col2 {\n",
       "            background-color:  white;\n",
       "        }    #T_b4e04ec0_a2d2_11e9_a9a4_419a49d29e61row0_col3 {\n",
       "            background-color:  white;\n",
       "        }    #T_b4e04ec0_a2d2_11e9_a9a4_419a49d29e61row0_col4 {\n",
       "            background-color:  white;\n",
       "        }    #T_b4e04ec0_a2d2_11e9_a9a4_419a49d29e61row1_col0 {\n",
       "            background-color:  white;\n",
       "        }    #T_b4e04ec0_a2d2_11e9_a9a4_419a49d29e61row1_col1 {\n",
       "            background-color:  white;\n",
       "        }    #T_b4e04ec0_a2d2_11e9_a9a4_419a49d29e61row1_col2 {\n",
       "            background-color:  white;\n",
       "        }    #T_b4e04ec0_a2d2_11e9_a9a4_419a49d29e61row1_col3 {\n",
       "            background-color:  white;\n",
       "        }    #T_b4e04ec0_a2d2_11e9_a9a4_419a49d29e61row1_col4 {\n",
       "            background-color:  white;\n",
       "        }    #T_b4e04ec0_a2d2_11e9_a9a4_419a49d29e61row2_col0 {\n",
       "            background-color:  white;\n",
       "        }    #T_b4e04ec0_a2d2_11e9_a9a4_419a49d29e61row2_col1 {\n",
       "            background-color:  white;\n",
       "        }    #T_b4e04ec0_a2d2_11e9_a9a4_419a49d29e61row2_col2 {\n",
       "            background-color:  white;\n",
       "        }    #T_b4e04ec0_a2d2_11e9_a9a4_419a49d29e61row2_col3 {\n",
       "            background-color:  white;\n",
       "        }    #T_b4e04ec0_a2d2_11e9_a9a4_419a49d29e61row2_col4 {\n",
       "            background-color:  white;\n",
       "        }</style><table id=\"T_b4e04ec0_a2d2_11e9_a9a4_419a49d29e61\" ><thead>    <tr>        <th class=\"blank level0\" ></th>        <th class=\"col_heading level0 col0\" >Intern</th>        <th class=\"col_heading level0 col1\" >Ranking</th>        <th class=\"col_heading level0 col2\" >Erlöse</th>        <th class=\"col_heading level0 col3\" >Beste Universität</th>        <th class=\"col_heading level0 col4\" >Bessere Universitäten</th>    </tr>    <tr>        <th class=\"index_name level0\" >WZW</th>        <th class=\"blank\" ></th>        <th class=\"blank\" ></th>        <th class=\"blank\" ></th>        <th class=\"blank\" ></th>        <th class=\"blank\" ></th>    </tr></thead><tbody>\n",
       "                <tr>\n",
       "                        <th id=\"T_b4e04ec0_a2d2_11e9_a9a4_419a49d29e61level0_row0\" class=\"row_heading level0 row0\" >Länder (inkl. deren Stiftungen und Einrichtungen)</th>\n",
       "                        <td id=\"T_b4e04ec0_a2d2_11e9_a9a4_419a49d29e61row0_col0\" class=\"data row0 col0\" >34.67%</td>\n",
       "                        <td id=\"T_b4e04ec0_a2d2_11e9_a9a4_419a49d29e61row0_col1\" class=\"data row0 col1\" >7. Platz</td>\n",
       "                        <td id=\"T_b4e04ec0_a2d2_11e9_a9a4_419a49d29e61row0_col2\" class=\"data row0 col2\" >2,291,288 €</td>\n",
       "                        <td id=\"T_b4e04ec0_a2d2_11e9_a9a4_419a49d29e61row0_col3\" class=\"data row0 col3\" >Universität Wien (5.6 Mio. €)</td>\n",
       "                        <td id=\"T_b4e04ec0_a2d2_11e9_a9a4_419a49d29e61row0_col4\" class=\"data row0 col4\" >Universität Wien, Universität Innsbruck, Montanuniversität Leoben, Medizinische Universität Graz, Universität für Bodenkultur Wien, Technische Universität Wien</td>\n",
       "            </tr>\n",
       "            <tr>\n",
       "                        <th id=\"T_b4e04ec0_a2d2_11e9_a9a4_419a49d29e61level0_row1\" class=\"row_heading level0 row1\" >FFG</th>\n",
       "                        <td id=\"T_b4e04ec0_a2d2_11e9_a9a4_419a49d29e61row1_col0\" class=\"data row1 col0\" >15.25%</td>\n",
       "                        <td id=\"T_b4e04ec0_a2d2_11e9_a9a4_419a49d29e61row1_col1\" class=\"data row1 col1\" >11. Platz</td>\n",
       "                        <td id=\"T_b4e04ec0_a2d2_11e9_a9a4_419a49d29e61row1_col2\" class=\"data row1 col2\" >1,007,981 €</td>\n",
       "                        <td id=\"T_b4e04ec0_a2d2_11e9_a9a4_419a49d29e61row1_col3\" class=\"data row1 col3\" >Technische Universität Graz (19.0 Mio. €)</td>\n",
       "                        <td id=\"T_b4e04ec0_a2d2_11e9_a9a4_419a49d29e61row1_col4\" class=\"data row1 col4\" >Technische Universität Graz, Technische Universität Wien, Montanuniversität Leoben, Universität Linz, Universität Innsbruck, Universität für Bodenkultur Wien, Universität Wien, Universität Graz, Medizinische Universität Graz, Medizinische Universität Wien</td>\n",
       "            </tr>\n",
       "            <tr>\n",
       "                        <th id=\"T_b4e04ec0_a2d2_11e9_a9a4_419a49d29e61level0_row2\" class=\"row_heading level0 row2\" >EU</th>\n",
       "                        <td id=\"T_b4e04ec0_a2d2_11e9_a9a4_419a49d29e61row2_col0\" class=\"data row2 col0\" >12.27%</td>\n",
       "                        <td id=\"T_b4e04ec0_a2d2_11e9_a9a4_419a49d29e61row2_col1\" class=\"data row2 col1\" >15. Platz</td>\n",
       "                        <td id=\"T_b4e04ec0_a2d2_11e9_a9a4_419a49d29e61row2_col2\" class=\"data row2 col2\" >811,092 €</td>\n",
       "                        <td id=\"T_b4e04ec0_a2d2_11e9_a9a4_419a49d29e61row2_col3\" class=\"data row2 col3\" >Technische Universität Wien (14.7 Mio. €)</td>\n",
       "                        <td id=\"T_b4e04ec0_a2d2_11e9_a9a4_419a49d29e61row2_col4\" class=\"data row2 col4\" >Technische Universität Wien, Universität Wien, Technische Universität Graz, Universität Innsbruck, Medizinische Universität Wien, Universität für Bodenkultur Wien, Montanuniversität Leoben, Medizinische Universität Innsbruck, Universität Salzburg, Universität Graz, Universität Linz, Medizinische Universität Graz, Wirtschaftsuniversität Wien, Universität Klagenfurt</td>\n",
       "            </tr>\n",
       "    </tbody></table>"
      ],
      "text/plain": [
       "<pandas.io.formats.style.Styler at 0x7fe6c4c299b0>"
      ]
     },
     "metadata": {},
     "output_type": "display_data"
    },
    {
     "data": {
      "text/html": [
       "<h4>Ähnliche Universitäten aufgrund der Drittmittel-Struktur</h3>"
      ],
      "text/plain": [
       "<IPython.core.display.HTML object>"
      ]
     },
     "metadata": {},
     "output_type": "display_data"
    },
    {
     "data": {
      "text/html": [
       "<p><strong>Universität Klagenfurt</strong> (65.2%, wegen &auml;hnlicher Relevanz von EU, Bund (Ministerien), FFG), <strong>Montanuniversität Leoben</strong> (56.5%, wegen &auml;hnlicher Relevanz von FFG, Länder (inkl. deren Stiftungen und Einrichtungen), EU), <strong>Universität Innsbruck</strong> (54.4%, wegen &auml;hnlicher Relevanz von EU, Länder (inkl. deren Stiftungen und Einrichtungen), FFG), <strong>Universität für Bodenkultur Wien</strong> (52.5%, wegen &auml;hnlicher Relevanz von EU, Bund (Ministerien), Länder (inkl. deren Stiftungen und Einrichtungen))</p>"
      ],
      "text/plain": [
       "<IPython.core.display.HTML object>"
      ]
     },
     "metadata": {},
     "output_type": "display_data"
    },
    {
     "data": {
      "text/html": [
       "<h3>Medizinische Universität Graz</h3>"
      ],
      "text/plain": [
       "<IPython.core.display.HTML object>"
      ]
     },
     "metadata": {},
     "output_type": "display_data"
    },
    {
     "data": {
      "text/html": [
       "<h4>Drittmittel-Struktur</h4>"
      ],
      "text/plain": [
       "<IPython.core.display.HTML object>"
      ]
     },
     "metadata": {},
     "output_type": "display_data"
    },
    {
     "data": {
      "text/html": [
       "<style  type=\"text/css\" >\n",
       "    #T_b4e6ddbc_a2d2_11e9_a9a4_419a49d29e61row0_col0 {\n",
       "            background-color:  lightgreen;\n",
       "        }    #T_b4e6ddbc_a2d2_11e9_a9a4_419a49d29e61row0_col1 {\n",
       "            background-color:  lightgreen;\n",
       "        }    #T_b4e6ddbc_a2d2_11e9_a9a4_419a49d29e61row0_col2 {\n",
       "            background-color:  lightgreen;\n",
       "        }    #T_b4e6ddbc_a2d2_11e9_a9a4_419a49d29e61row0_col3 {\n",
       "            background-color:  lightgreen;\n",
       "        }    #T_b4e6ddbc_a2d2_11e9_a9a4_419a49d29e61row0_col4 {\n",
       "            background-color:  lightgreen;\n",
       "        }</style><table id=\"T_b4e6ddbc_a2d2_11e9_a9a4_419a49d29e61\" ><thead>    <tr>        <th class=\"blank level0\" ></th>        <th class=\"col_heading level0 col0\" >Intern</th>        <th class=\"col_heading level0 col1\" >Ranking</th>        <th class=\"col_heading level0 col2\" >Erlöse</th>        <th class=\"col_heading level0 col3\" >Beste Universität</th>        <th class=\"col_heading level0 col4\" >Bessere Universitäten</th>    </tr>    <tr>        <th class=\"index_name level0\" >WZW</th>        <th class=\"blank\" ></th>        <th class=\"blank\" ></th>        <th class=\"blank\" ></th>        <th class=\"blank\" ></th>        <th class=\"blank\" ></th>    </tr></thead><tbody>\n",
       "                <tr>\n",
       "                        <th id=\"T_b4e6ddbc_a2d2_11e9_a9a4_419a49d29e61level0_row0\" class=\"row_heading level0 row0\" >Unternehmen</th>\n",
       "                        <td id=\"T_b4e6ddbc_a2d2_11e9_a9a4_419a49d29e61row0_col0\" class=\"data row0 col0\" >64.48%</td>\n",
       "                        <td id=\"T_b4e6ddbc_a2d2_11e9_a9a4_419a49d29e61row0_col1\" class=\"data row0 col1\" >1. Platz</td>\n",
       "                        <td id=\"T_b4e6ddbc_a2d2_11e9_a9a4_419a49d29e61row0_col2\" class=\"data row0 col2\" >32,440,938 €</td>\n",
       "                        <td id=\"T_b4e6ddbc_a2d2_11e9_a9a4_419a49d29e61row0_col3\" class=\"data row0 col3\" >(diese)</td>\n",
       "                        <td id=\"T_b4e6ddbc_a2d2_11e9_a9a4_419a49d29e61row0_col4\" class=\"data row0 col4\" >(keine)</td>\n",
       "            </tr>\n",
       "    </tbody></table>"
      ],
      "text/plain": [
       "<pandas.io.formats.style.Styler at 0x7fe69c438cc0>"
      ]
     },
     "metadata": {},
     "output_type": "display_data"
    },
    {
     "data": {
      "text/html": [
       "<h4>Ähnliche Universitäten aufgrund der Drittmittel-Struktur</h3>"
      ],
      "text/plain": [
       "<IPython.core.display.HTML object>"
      ]
     },
     "metadata": {},
     "output_type": "display_data"
    },
    {
     "data": {
      "text/html": [
       "<p><strong>Medizinische Universität Innsbruck</strong> (73.4%, wegen &auml;hnlicher Relevanz von Unternehmen, FWF, EU), <strong>Universität für Bodenkultur Wien</strong> (58.5%, wegen &auml;hnlicher Relevanz von Unternehmen, FWF, Länder (inkl. deren Stiftungen und Einrichtungen)), <strong>Technische Universität Graz</strong> (54.4%, wegen &auml;hnlicher Relevanz von Unternehmen, FWF, EU), <strong>Montanuniversität Leoben</strong> (54.3%, wegen &auml;hnlicher Relevanz von Unternehmen, Länder (inkl. deren Stiftungen und Einrichtungen), EU)</p>"
      ],
      "text/plain": [
       "<IPython.core.display.HTML object>"
      ]
     },
     "metadata": {},
     "output_type": "display_data"
    },
    {
     "data": {
      "text/html": [
       "<h3>Medizinische Universität Innsbruck</h3>"
      ],
      "text/plain": [
       "<IPython.core.display.HTML object>"
      ]
     },
     "metadata": {},
     "output_type": "display_data"
    },
    {
     "data": {
      "text/html": [
       "<h4>Drittmittel-Struktur</h4>"
      ],
      "text/plain": [
       "<IPython.core.display.HTML object>"
      ]
     },
     "metadata": {},
     "output_type": "display_data"
    },
    {
     "data": {
      "text/html": [
       "<style  type=\"text/css\" >\n",
       "    #T_b4ee4dcc_a2d2_11e9_a9a4_419a49d29e61row0_col0 {\n",
       "            background-color:  white;\n",
       "        }    #T_b4ee4dcc_a2d2_11e9_a9a4_419a49d29e61row0_col1 {\n",
       "            background-color:  white;\n",
       "        }    #T_b4ee4dcc_a2d2_11e9_a9a4_419a49d29e61row0_col2 {\n",
       "            background-color:  white;\n",
       "        }    #T_b4ee4dcc_a2d2_11e9_a9a4_419a49d29e61row0_col3 {\n",
       "            background-color:  white;\n",
       "        }    #T_b4ee4dcc_a2d2_11e9_a9a4_419a49d29e61row0_col4 {\n",
       "            background-color:  white;\n",
       "        }</style><table id=\"T_b4ee4dcc_a2d2_11e9_a9a4_419a49d29e61\" ><thead>    <tr>        <th class=\"blank level0\" ></th>        <th class=\"col_heading level0 col0\" >Intern</th>        <th class=\"col_heading level0 col1\" >Ranking</th>        <th class=\"col_heading level0 col2\" >Erlöse</th>        <th class=\"col_heading level0 col3\" >Beste Universität</th>        <th class=\"col_heading level0 col4\" >Bessere Universitäten</th>    </tr>    <tr>        <th class=\"index_name level0\" >WZW</th>        <th class=\"blank\" ></th>        <th class=\"blank\" ></th>        <th class=\"blank\" ></th>        <th class=\"blank\" ></th>        <th class=\"blank\" ></th>    </tr></thead><tbody>\n",
       "                <tr>\n",
       "                        <th id=\"T_b4ee4dcc_a2d2_11e9_a9a4_419a49d29e61level0_row0\" class=\"row_heading level0 row0\" >Unternehmen</th>\n",
       "                        <td id=\"T_b4ee4dcc_a2d2_11e9_a9a4_419a49d29e61row0_col0\" class=\"data row0 col0\" >50.51%</td>\n",
       "                        <td id=\"T_b4ee4dcc_a2d2_11e9_a9a4_419a49d29e61row0_col1\" class=\"data row0 col1\" >5. Platz</td>\n",
       "                        <td id=\"T_b4ee4dcc_a2d2_11e9_a9a4_419a49d29e61row0_col2\" class=\"data row0 col2\" >21,297,441 €</td>\n",
       "                        <td id=\"T_b4ee4dcc_a2d2_11e9_a9a4_419a49d29e61row0_col3\" class=\"data row0 col3\" >Medizinische Universität Graz (32.4 Mio. €)</td>\n",
       "                        <td id=\"T_b4ee4dcc_a2d2_11e9_a9a4_419a49d29e61row0_col4\" class=\"data row0 col4\" >Medizinische Universität Graz, Technische Universität Graz, Technische Universität Wien, Medizinische Universität Wien</td>\n",
       "            </tr>\n",
       "    </tbody></table>"
      ],
      "text/plain": [
       "<pandas.io.formats.style.Styler at 0x7fe69c1fc748>"
      ]
     },
     "metadata": {},
     "output_type": "display_data"
    },
    {
     "data": {
      "text/html": [
       "<h4>Ähnliche Universitäten aufgrund der Drittmittel-Struktur</h3>"
      ],
      "text/plain": [
       "<IPython.core.display.HTML object>"
      ]
     },
     "metadata": {},
     "output_type": "display_data"
    },
    {
     "data": {
      "text/html": [
       "<p><strong>Universität für Bodenkultur Wien</strong> (74.6%, wegen &auml;hnlicher Relevanz von Unternehmen, FWF, EU), <strong>Medizinische Universität Graz</strong> (73.4%, wegen &auml;hnlicher Relevanz von Unternehmen, FWF, EU), <strong>Universität Klagenfurt</strong> (69.5%, wegen &auml;hnlicher Relevanz von Unternehmen, FWF, Bund (Ministerien)), <strong>Technische Universität Wien</strong> (64.1%, wegen &auml;hnlicher Relevanz von Unternehmen, FWF, EU)</p>"
      ],
      "text/plain": [
       "<IPython.core.display.HTML object>"
      ]
     },
     "metadata": {},
     "output_type": "display_data"
    },
    {
     "data": {
      "text/html": [
       "<h3>Universität Salzburg</h3>"
      ],
      "text/plain": [
       "<IPython.core.display.HTML object>"
      ]
     },
     "metadata": {},
     "output_type": "display_data"
    },
    {
     "data": {
      "text/html": [
       "<h4>Drittmittel-Struktur</h4>"
      ],
      "text/plain": [
       "<IPython.core.display.HTML object>"
      ]
     },
     "metadata": {},
     "output_type": "display_data"
    },
    {
     "data": {
      "text/html": [
       "<style  type=\"text/css\" >\n",
       "    #T_b4f78ea0_a2d2_11e9_a9a4_419a49d29e61row0_col0 {\n",
       "            background-color:  white;\n",
       "        }    #T_b4f78ea0_a2d2_11e9_a9a4_419a49d29e61row0_col1 {\n",
       "            background-color:  white;\n",
       "        }    #T_b4f78ea0_a2d2_11e9_a9a4_419a49d29e61row0_col2 {\n",
       "            background-color:  white;\n",
       "        }    #T_b4f78ea0_a2d2_11e9_a9a4_419a49d29e61row0_col3 {\n",
       "            background-color:  white;\n",
       "        }    #T_b4f78ea0_a2d2_11e9_a9a4_419a49d29e61row0_col4 {\n",
       "            background-color:  white;\n",
       "        }    #T_b4f78ea0_a2d2_11e9_a9a4_419a49d29e61row1_col0 {\n",
       "            background-color:  white;\n",
       "        }    #T_b4f78ea0_a2d2_11e9_a9a4_419a49d29e61row1_col1 {\n",
       "            background-color:  white;\n",
       "        }    #T_b4f78ea0_a2d2_11e9_a9a4_419a49d29e61row1_col2 {\n",
       "            background-color:  white;\n",
       "        }    #T_b4f78ea0_a2d2_11e9_a9a4_419a49d29e61row1_col3 {\n",
       "            background-color:  white;\n",
       "        }    #T_b4f78ea0_a2d2_11e9_a9a4_419a49d29e61row1_col4 {\n",
       "            background-color:  white;\n",
       "        }    #T_b4f78ea0_a2d2_11e9_a9a4_419a49d29e61row2_col0 {\n",
       "            background-color:  white;\n",
       "        }    #T_b4f78ea0_a2d2_11e9_a9a4_419a49d29e61row2_col1 {\n",
       "            background-color:  white;\n",
       "        }    #T_b4f78ea0_a2d2_11e9_a9a4_419a49d29e61row2_col2 {\n",
       "            background-color:  white;\n",
       "        }    #T_b4f78ea0_a2d2_11e9_a9a4_419a49d29e61row2_col3 {\n",
       "            background-color:  white;\n",
       "        }    #T_b4f78ea0_a2d2_11e9_a9a4_419a49d29e61row2_col4 {\n",
       "            background-color:  white;\n",
       "        }</style><table id=\"T_b4f78ea0_a2d2_11e9_a9a4_419a49d29e61\" ><thead>    <tr>        <th class=\"blank level0\" ></th>        <th class=\"col_heading level0 col0\" >Intern</th>        <th class=\"col_heading level0 col1\" >Ranking</th>        <th class=\"col_heading level0 col2\" >Erlöse</th>        <th class=\"col_heading level0 col3\" >Beste Universität</th>        <th class=\"col_heading level0 col4\" >Bessere Universitäten</th>    </tr>    <tr>        <th class=\"index_name level0\" >WZW</th>        <th class=\"blank\" ></th>        <th class=\"blank\" ></th>        <th class=\"blank\" ></th>        <th class=\"blank\" ></th>        <th class=\"blank\" ></th>    </tr></thead><tbody>\n",
       "                <tr>\n",
       "                        <th id=\"T_b4f78ea0_a2d2_11e9_a9a4_419a49d29e61level0_row0\" class=\"row_heading level0 row0\" >FWF</th>\n",
       "                        <td id=\"T_b4f78ea0_a2d2_11e9_a9a4_419a49d29e61row0_col0\" class=\"data row0 col0\" >40.29%</td>\n",
       "                        <td id=\"T_b4f78ea0_a2d2_11e9_a9a4_419a49d29e61row0_col1\" class=\"data row0 col1\" >9. Platz</td>\n",
       "                        <td id=\"T_b4f78ea0_a2d2_11e9_a9a4_419a49d29e61row0_col2\" class=\"data row0 col2\" >7,666,637 €</td>\n",
       "                        <td id=\"T_b4f78ea0_a2d2_11e9_a9a4_419a49d29e61row0_col3\" class=\"data row0 col3\" >Universität Wien (41.1 Mio. €)</td>\n",
       "                        <td id=\"T_b4f78ea0_a2d2_11e9_a9a4_419a49d29e61row0_col4\" class=\"data row0 col4\" >Universität Wien, Technische Universität Wien, Medizinische Universität Wien, Universität Innsbruck, Universität Graz, Medizinische Universität Innsbruck, Universität für Bodenkultur Wien, Universität Linz</td>\n",
       "            </tr>\n",
       "            <tr>\n",
       "                        <th id=\"T_b4f78ea0_a2d2_11e9_a9a4_419a49d29e61level0_row1\" class=\"row_heading level0 row1\" >EU</th>\n",
       "                        <td id=\"T_b4f78ea0_a2d2_11e9_a9a4_419a49d29e61row1_col0\" class=\"data row1 col0\" >16.13%</td>\n",
       "                        <td id=\"T_b4f78ea0_a2d2_11e9_a9a4_419a49d29e61row1_col1\" class=\"data row1 col1\" >9. Platz</td>\n",
       "                        <td id=\"T_b4f78ea0_a2d2_11e9_a9a4_419a49d29e61row1_col2\" class=\"data row1 col2\" >3,069,169 €</td>\n",
       "                        <td id=\"T_b4f78ea0_a2d2_11e9_a9a4_419a49d29e61row1_col3\" class=\"data row1 col3\" >Technische Universität Wien (14.7 Mio. €)</td>\n",
       "                        <td id=\"T_b4f78ea0_a2d2_11e9_a9a4_419a49d29e61row1_col4\" class=\"data row1 col4\" >Technische Universität Wien, Universität Wien, Technische Universität Graz, Universität Innsbruck, Medizinische Universität Wien, Universität für Bodenkultur Wien, Montanuniversität Leoben, Medizinische Universität Innsbruck</td>\n",
       "            </tr>\n",
       "            <tr>\n",
       "                        <th id=\"T_b4f78ea0_a2d2_11e9_a9a4_419a49d29e61level0_row2\" class=\"row_heading level0 row2\" >sonstige öffentlich-rechtliche Einrichtungen (Körperschaften, Stiftungen, Fonds etc.)</th>\n",
       "                        <td id=\"T_b4f78ea0_a2d2_11e9_a9a4_419a49d29e61row2_col0\" class=\"data row2 col0\" >9.67%</td>\n",
       "                        <td id=\"T_b4f78ea0_a2d2_11e9_a9a4_419a49d29e61row2_col1\" class=\"data row2 col1\" >9. Platz</td>\n",
       "                        <td id=\"T_b4f78ea0_a2d2_11e9_a9a4_419a49d29e61row2_col2\" class=\"data row2 col2\" >1,840,426 €</td>\n",
       "                        <td id=\"T_b4f78ea0_a2d2_11e9_a9a4_419a49d29e61row2_col3\" class=\"data row2 col3\" >Technische Universität Graz (11.9 Mio. €)</td>\n",
       "                        <td id=\"T_b4f78ea0_a2d2_11e9_a9a4_419a49d29e61row2_col4\" class=\"data row2 col4\" >Technische Universität Graz, Technische Universität Wien, Universität Innsbruck, Universität Linz, Montanuniversität Leoben, Universität für Bodenkultur Wien, Medizinische Universität Innsbruck, Universität Wien</td>\n",
       "            </tr>\n",
       "    </tbody></table>"
      ],
      "text/plain": [
       "<pandas.io.formats.style.Styler at 0x7fe69d649be0>"
      ]
     },
     "metadata": {},
     "output_type": "display_data"
    },
    {
     "data": {
      "text/html": [
       "<h4>Ähnliche Universitäten aufgrund der Drittmittel-Struktur</h3>"
      ],
      "text/plain": [
       "<IPython.core.display.HTML object>"
      ]
     },
     "metadata": {},
     "output_type": "display_data"
    },
    {
     "data": {
      "text/html": [
       "<p><strong>Universität Graz</strong> (84.1%, wegen &auml;hnlicher Relevanz von FWF, EU, Länder (inkl. deren Stiftungen und Einrichtungen)), <strong>Universität Wien</strong> (83.5%, wegen &auml;hnlicher Relevanz von FWF, EU, Länder (inkl. deren Stiftungen und Einrichtungen)), <strong>Universität für angewandte Kunst Wien</strong> (81.9%, wegen &auml;hnlicher Relevanz von FWF, EU, Bund (Ministerien)), <strong>Universität Innsbruck</strong> (79.4%, wegen &auml;hnlicher Relevanz von FWF, EU, sonstige öffentlich-rechtliche Einrichtungen (Körperschaften, Stiftungen, Fonds etc.))</p>"
      ],
      "text/plain": [
       "<IPython.core.display.HTML object>"
      ]
     },
     "metadata": {},
     "output_type": "display_data"
    },
    {
     "data": {
      "text/html": [
       "<h3>Montanuniversität Leoben</h3>"
      ],
      "text/plain": [
       "<IPython.core.display.HTML object>"
      ]
     },
     "metadata": {},
     "output_type": "display_data"
    },
    {
     "data": {
      "text/html": [
       "<h4>Drittmittel-Struktur</h4>"
      ],
      "text/plain": [
       "<IPython.core.display.HTML object>"
      ]
     },
     "metadata": {},
     "output_type": "display_data"
    },
    {
     "data": {
      "text/html": [
       "<style  type=\"text/css\" >\n",
       "    #T_b500d2bc_a2d2_11e9_a9a4_419a49d29e61row0_col0 {\n",
       "            background-color:  white;\n",
       "        }    #T_b500d2bc_a2d2_11e9_a9a4_419a49d29e61row0_col1 {\n",
       "            background-color:  white;\n",
       "        }    #T_b500d2bc_a2d2_11e9_a9a4_419a49d29e61row0_col2 {\n",
       "            background-color:  white;\n",
       "        }    #T_b500d2bc_a2d2_11e9_a9a4_419a49d29e61row0_col3 {\n",
       "            background-color:  white;\n",
       "        }    #T_b500d2bc_a2d2_11e9_a9a4_419a49d29e61row0_col4 {\n",
       "            background-color:  white;\n",
       "        }    #T_b500d2bc_a2d2_11e9_a9a4_419a49d29e61row1_col0 {\n",
       "            background-color:  white;\n",
       "        }    #T_b500d2bc_a2d2_11e9_a9a4_419a49d29e61row1_col1 {\n",
       "            background-color:  white;\n",
       "        }    #T_b500d2bc_a2d2_11e9_a9a4_419a49d29e61row1_col2 {\n",
       "            background-color:  white;\n",
       "        }    #T_b500d2bc_a2d2_11e9_a9a4_419a49d29e61row1_col3 {\n",
       "            background-color:  white;\n",
       "        }    #T_b500d2bc_a2d2_11e9_a9a4_419a49d29e61row1_col4 {\n",
       "            background-color:  white;\n",
       "        }</style><table id=\"T_b500d2bc_a2d2_11e9_a9a4_419a49d29e61\" ><thead>    <tr>        <th class=\"blank level0\" ></th>        <th class=\"col_heading level0 col0\" >Intern</th>        <th class=\"col_heading level0 col1\" >Ranking</th>        <th class=\"col_heading level0 col2\" >Erlöse</th>        <th class=\"col_heading level0 col3\" >Beste Universität</th>        <th class=\"col_heading level0 col4\" >Bessere Universitäten</th>    </tr>    <tr>        <th class=\"index_name level0\" >WZW</th>        <th class=\"blank\" ></th>        <th class=\"blank\" ></th>        <th class=\"blank\" ></th>        <th class=\"blank\" ></th>        <th class=\"blank\" ></th>    </tr></thead><tbody>\n",
       "                <tr>\n",
       "                        <th id=\"T_b500d2bc_a2d2_11e9_a9a4_419a49d29e61level0_row0\" class=\"row_heading level0 row0\" >Unternehmen</th>\n",
       "                        <td id=\"T_b500d2bc_a2d2_11e9_a9a4_419a49d29e61row0_col0\" class=\"data row0 col0\" >32.53%</td>\n",
       "                        <td id=\"T_b500d2bc_a2d2_11e9_a9a4_419a49d29e61row0_col1\" class=\"data row0 col1\" >7. Platz</td>\n",
       "                        <td id=\"T_b500d2bc_a2d2_11e9_a9a4_419a49d29e61row0_col2\" class=\"data row0 col2\" >14,284,451 €</td>\n",
       "                        <td id=\"T_b500d2bc_a2d2_11e9_a9a4_419a49d29e61row0_col3\" class=\"data row0 col3\" >Medizinische Universität Graz (32.4 Mio. €)</td>\n",
       "                        <td id=\"T_b500d2bc_a2d2_11e9_a9a4_419a49d29e61row0_col4\" class=\"data row0 col4\" >Medizinische Universität Graz, Technische Universität Graz, Technische Universität Wien, Medizinische Universität Wien, Medizinische Universität Innsbruck, Universität für Bodenkultur Wien</td>\n",
       "            </tr>\n",
       "            <tr>\n",
       "                        <th id=\"T_b500d2bc_a2d2_11e9_a9a4_419a49d29e61level0_row1\" class=\"row_heading level0 row1\" >FFG</th>\n",
       "                        <td id=\"T_b500d2bc_a2d2_11e9_a9a4_419a49d29e61row1_col0\" class=\"data row1 col0\" >30.48%</td>\n",
       "                        <td id=\"T_b500d2bc_a2d2_11e9_a9a4_419a49d29e61row1_col1\" class=\"data row1 col1\" >3. Platz</td>\n",
       "                        <td id=\"T_b500d2bc_a2d2_11e9_a9a4_419a49d29e61row1_col2\" class=\"data row1 col2\" >13,384,394 €</td>\n",
       "                        <td id=\"T_b500d2bc_a2d2_11e9_a9a4_419a49d29e61row1_col3\" class=\"data row1 col3\" >Technische Universität Graz (19.0 Mio. €)</td>\n",
       "                        <td id=\"T_b500d2bc_a2d2_11e9_a9a4_419a49d29e61row1_col4\" class=\"data row1 col4\" >Technische Universität Graz, Technische Universität Wien</td>\n",
       "            </tr>\n",
       "    </tbody></table>"
      ],
      "text/plain": [
       "<pandas.io.formats.style.Styler at 0x7fe69c1379e8>"
      ]
     },
     "metadata": {},
     "output_type": "display_data"
    },
    {
     "data": {
      "text/html": [
       "<h4>Ähnliche Universitäten aufgrund der Drittmittel-Struktur</h3>"
      ],
      "text/plain": [
       "<IPython.core.display.HTML object>"
      ]
     },
     "metadata": {},
     "output_type": "display_data"
    },
    {
     "data": {
      "text/html": [
       "<p><strong>Technische Universität Graz</strong> (76.1%, wegen &auml;hnlicher Relevanz von Unternehmen, FFG, EU), <strong>Universität Linz</strong> (70.9%, wegen &auml;hnlicher Relevanz von FFG, Unternehmen, EU), <strong>Technische Universität Wien</strong> (67.5%, wegen &auml;hnlicher Relevanz von Unternehmen, FFG, EU), <strong>Universität für Bodenkultur Wien</strong> (65.4%, wegen &auml;hnlicher Relevanz von Unternehmen, EU, Bund (Ministerien))</p>"
      ],
      "text/plain": [
       "<IPython.core.display.HTML object>"
      ]
     },
     "metadata": {},
     "output_type": "display_data"
    },
    {
     "data": {
      "text/html": [
       "<h3>Technische Universität Graz</h3>"
      ],
      "text/plain": [
       "<IPython.core.display.HTML object>"
      ]
     },
     "metadata": {},
     "output_type": "display_data"
    },
    {
     "data": {
      "text/html": [
       "<h4>Drittmittel-Struktur</h4>"
      ],
      "text/plain": [
       "<IPython.core.display.HTML object>"
      ]
     },
     "metadata": {},
     "output_type": "display_data"
    },
    {
     "data": {
      "text/html": [
       "<style  type=\"text/css\" >\n",
       "    #T_b50842e0_a2d2_11e9_a9a4_419a49d29e61row0_col0 {\n",
       "            background-color:  yellow;\n",
       "        }    #T_b50842e0_a2d2_11e9_a9a4_419a49d29e61row0_col1 {\n",
       "            background-color:  yellow;\n",
       "        }    #T_b50842e0_a2d2_11e9_a9a4_419a49d29e61row0_col2 {\n",
       "            background-color:  yellow;\n",
       "        }    #T_b50842e0_a2d2_11e9_a9a4_419a49d29e61row0_col3 {\n",
       "            background-color:  yellow;\n",
       "        }    #T_b50842e0_a2d2_11e9_a9a4_419a49d29e61row0_col4 {\n",
       "            background-color:  yellow;\n",
       "        }    #T_b50842e0_a2d2_11e9_a9a4_419a49d29e61row1_col0 {\n",
       "            background-color:  lightgreen;\n",
       "        }    #T_b50842e0_a2d2_11e9_a9a4_419a49d29e61row1_col1 {\n",
       "            background-color:  lightgreen;\n",
       "        }    #T_b50842e0_a2d2_11e9_a9a4_419a49d29e61row1_col2 {\n",
       "            background-color:  lightgreen;\n",
       "        }    #T_b50842e0_a2d2_11e9_a9a4_419a49d29e61row1_col3 {\n",
       "            background-color:  lightgreen;\n",
       "        }    #T_b50842e0_a2d2_11e9_a9a4_419a49d29e61row1_col4 {\n",
       "            background-color:  lightgreen;\n",
       "        }</style><table id=\"T_b50842e0_a2d2_11e9_a9a4_419a49d29e61\" ><thead>    <tr>        <th class=\"blank level0\" ></th>        <th class=\"col_heading level0 col0\" >Intern</th>        <th class=\"col_heading level0 col1\" >Ranking</th>        <th class=\"col_heading level0 col2\" >Erlöse</th>        <th class=\"col_heading level0 col3\" >Beste Universität</th>        <th class=\"col_heading level0 col4\" >Bessere Universitäten</th>    </tr>    <tr>        <th class=\"index_name level0\" >WZW</th>        <th class=\"blank\" ></th>        <th class=\"blank\" ></th>        <th class=\"blank\" ></th>        <th class=\"blank\" ></th>        <th class=\"blank\" ></th>    </tr></thead><tbody>\n",
       "                <tr>\n",
       "                        <th id=\"T_b50842e0_a2d2_11e9_a9a4_419a49d29e61level0_row0\" class=\"row_heading level0 row0\" >Unternehmen</th>\n",
       "                        <td id=\"T_b50842e0_a2d2_11e9_a9a4_419a49d29e61row0_col0\" class=\"data row0 col0\" >31.34%</td>\n",
       "                        <td id=\"T_b50842e0_a2d2_11e9_a9a4_419a49d29e61row0_col1\" class=\"data row0 col1\" >2. Platz</td>\n",
       "                        <td id=\"T_b50842e0_a2d2_11e9_a9a4_419a49d29e61row0_col2\" class=\"data row0 col2\" >24,719,792 €</td>\n",
       "                        <td id=\"T_b50842e0_a2d2_11e9_a9a4_419a49d29e61row0_col3\" class=\"data row0 col3\" >Medizinische Universität Graz (32.4 Mio. €)</td>\n",
       "                        <td id=\"T_b50842e0_a2d2_11e9_a9a4_419a49d29e61row0_col4\" class=\"data row0 col4\" >Medizinische Universität Graz</td>\n",
       "            </tr>\n",
       "            <tr>\n",
       "                        <th id=\"T_b50842e0_a2d2_11e9_a9a4_419a49d29e61level0_row1\" class=\"row_heading level0 row1\" >FFG</th>\n",
       "                        <td id=\"T_b50842e0_a2d2_11e9_a9a4_419a49d29e61row1_col0\" class=\"data row1 col0\" >24.15%</td>\n",
       "                        <td id=\"T_b50842e0_a2d2_11e9_a9a4_419a49d29e61row1_col1\" class=\"data row1 col1\" >1. Platz</td>\n",
       "                        <td id=\"T_b50842e0_a2d2_11e9_a9a4_419a49d29e61row1_col2\" class=\"data row1 col2\" >19,046,693 €</td>\n",
       "                        <td id=\"T_b50842e0_a2d2_11e9_a9a4_419a49d29e61row1_col3\" class=\"data row1 col3\" >(diese)</td>\n",
       "                        <td id=\"T_b50842e0_a2d2_11e9_a9a4_419a49d29e61row1_col4\" class=\"data row1 col4\" >(keine)</td>\n",
       "            </tr>\n",
       "    </tbody></table>"
      ],
      "text/plain": [
       "<pandas.io.formats.style.Styler at 0x7fe69c2bef60>"
      ]
     },
     "metadata": {},
     "output_type": "display_data"
    },
    {
     "data": {
      "text/html": [
       "<h4>Ähnliche Universitäten aufgrund der Drittmittel-Struktur</h3>"
      ],
      "text/plain": [
       "<IPython.core.display.HTML object>"
      ]
     },
     "metadata": {},
     "output_type": "display_data"
    },
    {
     "data": {
      "text/html": [
       "<p><strong>Technische Universität Wien</strong> (78.1%, wegen &auml;hnlicher Relevanz von Unternehmen, FFG, EU), <strong>Montanuniversität Leoben</strong> (76.1%, wegen &auml;hnlicher Relevanz von Unternehmen, FFG, EU), <strong>Universität Linz</strong> (76.0%, wegen &auml;hnlicher Relevanz von FFG, Unternehmen, sonstige öffentlich-rechtliche Einrichtungen (Körperschaften, Stiftungen, Fonds etc.)), <strong>Universität für Bodenkultur Wien</strong> (68.9%, wegen &auml;hnlicher Relevanz von Unternehmen, EU, FWF)</p>"
      ],
      "text/plain": [
       "<IPython.core.display.HTML object>"
      ]
     },
     "metadata": {},
     "output_type": "display_data"
    },
    {
     "data": {
      "text/html": [
       "<h3>Universität Graz</h3>"
      ],
      "text/plain": [
       "<IPython.core.display.HTML object>"
      ]
     },
     "metadata": {},
     "output_type": "display_data"
    },
    {
     "data": {
      "text/html": [
       "<h4>Drittmittel-Struktur</h4>"
      ],
      "text/plain": [
       "<IPython.core.display.HTML object>"
      ]
     },
     "metadata": {},
     "output_type": "display_data"
    },
    {
     "data": {
      "text/html": [
       "<style  type=\"text/css\" >\n",
       "    #T_b5116d52_a2d2_11e9_a9a4_419a49d29e61row0_col0 {\n",
       "            background-color:  white;\n",
       "        }    #T_b5116d52_a2d2_11e9_a9a4_419a49d29e61row0_col1 {\n",
       "            background-color:  white;\n",
       "        }    #T_b5116d52_a2d2_11e9_a9a4_419a49d29e61row0_col2 {\n",
       "            background-color:  white;\n",
       "        }    #T_b5116d52_a2d2_11e9_a9a4_419a49d29e61row0_col3 {\n",
       "            background-color:  white;\n",
       "        }    #T_b5116d52_a2d2_11e9_a9a4_419a49d29e61row0_col4 {\n",
       "            background-color:  white;\n",
       "        }    #T_b5116d52_a2d2_11e9_a9a4_419a49d29e61row1_col0 {\n",
       "            background-color:  white;\n",
       "        }    #T_b5116d52_a2d2_11e9_a9a4_419a49d29e61row1_col1 {\n",
       "            background-color:  white;\n",
       "        }    #T_b5116d52_a2d2_11e9_a9a4_419a49d29e61row1_col2 {\n",
       "            background-color:  white;\n",
       "        }    #T_b5116d52_a2d2_11e9_a9a4_419a49d29e61row1_col3 {\n",
       "            background-color:  white;\n",
       "        }    #T_b5116d52_a2d2_11e9_a9a4_419a49d29e61row1_col4 {\n",
       "            background-color:  white;\n",
       "        }    #T_b5116d52_a2d2_11e9_a9a4_419a49d29e61row2_col0 {\n",
       "            background-color:  white;\n",
       "        }    #T_b5116d52_a2d2_11e9_a9a4_419a49d29e61row2_col1 {\n",
       "            background-color:  white;\n",
       "        }    #T_b5116d52_a2d2_11e9_a9a4_419a49d29e61row2_col2 {\n",
       "            background-color:  white;\n",
       "        }    #T_b5116d52_a2d2_11e9_a9a4_419a49d29e61row2_col3 {\n",
       "            background-color:  white;\n",
       "        }    #T_b5116d52_a2d2_11e9_a9a4_419a49d29e61row2_col4 {\n",
       "            background-color:  white;\n",
       "        }</style><table id=\"T_b5116d52_a2d2_11e9_a9a4_419a49d29e61\" ><thead>    <tr>        <th class=\"blank level0\" ></th>        <th class=\"col_heading level0 col0\" >Intern</th>        <th class=\"col_heading level0 col1\" >Ranking</th>        <th class=\"col_heading level0 col2\" >Erlöse</th>        <th class=\"col_heading level0 col3\" >Beste Universität</th>        <th class=\"col_heading level0 col4\" >Bessere Universitäten</th>    </tr>    <tr>        <th class=\"index_name level0\" >WZW</th>        <th class=\"blank\" ></th>        <th class=\"blank\" ></th>        <th class=\"blank\" ></th>        <th class=\"blank\" ></th>        <th class=\"blank\" ></th>    </tr></thead><tbody>\n",
       "                <tr>\n",
       "                        <th id=\"T_b5116d52_a2d2_11e9_a9a4_419a49d29e61level0_row0\" class=\"row_heading level0 row0\" >FWF</th>\n",
       "                        <td id=\"T_b5116d52_a2d2_11e9_a9a4_419a49d29e61row0_col0\" class=\"data row0 col0\" >46.04%</td>\n",
       "                        <td id=\"T_b5116d52_a2d2_11e9_a9a4_419a49d29e61row0_col1\" class=\"data row0 col1\" >5. Platz</td>\n",
       "                        <td id=\"T_b5116d52_a2d2_11e9_a9a4_419a49d29e61row0_col2\" class=\"data row0 col2\" >12,896,939 €</td>\n",
       "                        <td id=\"T_b5116d52_a2d2_11e9_a9a4_419a49d29e61row0_col3\" class=\"data row0 col3\" >Universität Wien (41.1 Mio. €)</td>\n",
       "                        <td id=\"T_b5116d52_a2d2_11e9_a9a4_419a49d29e61row0_col4\" class=\"data row0 col4\" >Universität Wien, Technische Universität Wien, Medizinische Universität Wien, Universität Innsbruck</td>\n",
       "            </tr>\n",
       "            <tr>\n",
       "                        <th id=\"T_b5116d52_a2d2_11e9_a9a4_419a49d29e61level0_row1\" class=\"row_heading level0 row1\" >EU</th>\n",
       "                        <td id=\"T_b5116d52_a2d2_11e9_a9a4_419a49d29e61row1_col0\" class=\"data row1 col0\" >10.38%</td>\n",
       "                        <td id=\"T_b5116d52_a2d2_11e9_a9a4_419a49d29e61row1_col1\" class=\"data row1 col1\" >10. Platz</td>\n",
       "                        <td id=\"T_b5116d52_a2d2_11e9_a9a4_419a49d29e61row1_col2\" class=\"data row1 col2\" >2,907,788 €</td>\n",
       "                        <td id=\"T_b5116d52_a2d2_11e9_a9a4_419a49d29e61row1_col3\" class=\"data row1 col3\" >Technische Universität Wien (14.7 Mio. €)</td>\n",
       "                        <td id=\"T_b5116d52_a2d2_11e9_a9a4_419a49d29e61row1_col4\" class=\"data row1 col4\" >Technische Universität Wien, Universität Wien, Technische Universität Graz, Universität Innsbruck, Medizinische Universität Wien, Universität für Bodenkultur Wien, Montanuniversität Leoben, Medizinische Universität Innsbruck, Universität Salzburg</td>\n",
       "            </tr>\n",
       "            <tr>\n",
       "                        <th id=\"T_b5116d52_a2d2_11e9_a9a4_419a49d29e61level0_row2\" class=\"row_heading level0 row2\" >Länder (inkl. deren Stiftungen und Einrichtungen)</th>\n",
       "                        <td id=\"T_b5116d52_a2d2_11e9_a9a4_419a49d29e61row2_col0\" class=\"data row2 col0\" >7.58%</td>\n",
       "                        <td id=\"T_b5116d52_a2d2_11e9_a9a4_419a49d29e61row2_col1\" class=\"data row2 col1\" >8. Platz</td>\n",
       "                        <td id=\"T_b5116d52_a2d2_11e9_a9a4_419a49d29e61row2_col2\" class=\"data row2 col2\" >2,123,043 €</td>\n",
       "                        <td id=\"T_b5116d52_a2d2_11e9_a9a4_419a49d29e61row2_col3\" class=\"data row2 col3\" >Universität Wien (5.6 Mio. €)</td>\n",
       "                        <td id=\"T_b5116d52_a2d2_11e9_a9a4_419a49d29e61row2_col4\" class=\"data row2 col4\" >Universität Wien, Universität Innsbruck, Montanuniversität Leoben, Medizinische Universität Graz, Universität für Bodenkultur Wien, Technische Universität Wien, Universität für Weiterbildung Krems</td>\n",
       "            </tr>\n",
       "    </tbody></table>"
      ],
      "text/plain": [
       "<pandas.io.formats.style.Styler at 0x7fe69c1373c8>"
      ]
     },
     "metadata": {},
     "output_type": "display_data"
    },
    {
     "data": {
      "text/html": [
       "<h4>Ähnliche Universitäten aufgrund der Drittmittel-Struktur</h3>"
      ],
      "text/plain": [
       "<IPython.core.display.HTML object>"
      ]
     },
     "metadata": {},
     "output_type": "display_data"
    },
    {
     "data": {
      "text/html": [
       "<p><strong>Universität Salzburg</strong> (84.1%, wegen &auml;hnlicher Relevanz von FWF, EU, Länder (inkl. deren Stiftungen und Einrichtungen)), <strong>Universität Wien</strong> (83.4%, wegen &auml;hnlicher Relevanz von FWF, EU, Länder (inkl. deren Stiftungen und Einrichtungen)), <strong>Universität für angewandte Kunst Wien</strong> (80.7%, wegen &auml;hnlicher Relevanz von FWF, EU, Unternehmen), <strong>Universität Innsbruck</strong> (75.5%, wegen &auml;hnlicher Relevanz von FWF, EU, Länder (inkl. deren Stiftungen und Einrichtungen))</p>"
      ],
      "text/plain": [
       "<IPython.core.display.HTML object>"
      ]
     },
     "metadata": {},
     "output_type": "display_data"
    },
    {
     "data": {
      "text/html": [
       "<h3>Universität für angewandte Kunst Wien</h3>"
      ],
      "text/plain": [
       "<IPython.core.display.HTML object>"
      ]
     },
     "metadata": {},
     "output_type": "display_data"
    },
    {
     "data": {
      "text/html": [
       "<h4>Drittmittel-Struktur</h4>"
      ],
      "text/plain": [
       "<IPython.core.display.HTML object>"
      ]
     },
     "metadata": {},
     "output_type": "display_data"
    },
    {
     "data": {
      "text/html": [
       "<style  type=\"text/css\" >\n",
       "    #T_b51a3d38_a2d2_11e9_a9a4_419a49d29e61row0_col0 {\n",
       "            background-color:  white;\n",
       "        }    #T_b51a3d38_a2d2_11e9_a9a4_419a49d29e61row0_col1 {\n",
       "            background-color:  white;\n",
       "        }    #T_b51a3d38_a2d2_11e9_a9a4_419a49d29e61row0_col2 {\n",
       "            background-color:  white;\n",
       "        }    #T_b51a3d38_a2d2_11e9_a9a4_419a49d29e61row0_col3 {\n",
       "            background-color:  white;\n",
       "        }    #T_b51a3d38_a2d2_11e9_a9a4_419a49d29e61row0_col4 {\n",
       "            background-color:  white;\n",
       "        }    #T_b51a3d38_a2d2_11e9_a9a4_419a49d29e61row1_col0 {\n",
       "            background-color:  white;\n",
       "        }    #T_b51a3d38_a2d2_11e9_a9a4_419a49d29e61row1_col1 {\n",
       "            background-color:  white;\n",
       "        }    #T_b51a3d38_a2d2_11e9_a9a4_419a49d29e61row1_col2 {\n",
       "            background-color:  white;\n",
       "        }    #T_b51a3d38_a2d2_11e9_a9a4_419a49d29e61row1_col3 {\n",
       "            background-color:  white;\n",
       "        }    #T_b51a3d38_a2d2_11e9_a9a4_419a49d29e61row1_col4 {\n",
       "            background-color:  white;\n",
       "        }</style><table id=\"T_b51a3d38_a2d2_11e9_a9a4_419a49d29e61\" ><thead>    <tr>        <th class=\"blank level0\" ></th>        <th class=\"col_heading level0 col0\" >Intern</th>        <th class=\"col_heading level0 col1\" >Ranking</th>        <th class=\"col_heading level0 col2\" >Erlöse</th>        <th class=\"col_heading level0 col3\" >Beste Universität</th>        <th class=\"col_heading level0 col4\" >Bessere Universitäten</th>    </tr>    <tr>        <th class=\"index_name level0\" >WZW</th>        <th class=\"blank\" ></th>        <th class=\"blank\" ></th>        <th class=\"blank\" ></th>        <th class=\"blank\" ></th>        <th class=\"blank\" ></th>    </tr></thead><tbody>\n",
       "                <tr>\n",
       "                        <th id=\"T_b51a3d38_a2d2_11e9_a9a4_419a49d29e61level0_row0\" class=\"row_heading level0 row0\" >FWF</th>\n",
       "                        <td id=\"T_b51a3d38_a2d2_11e9_a9a4_419a49d29e61row0_col0\" class=\"data row0 col0\" >46.12%</td>\n",
       "                        <td id=\"T_b51a3d38_a2d2_11e9_a9a4_419a49d29e61row0_col1\" class=\"data row0 col1\" >16. Platz</td>\n",
       "                        <td id=\"T_b51a3d38_a2d2_11e9_a9a4_419a49d29e61row0_col2\" class=\"data row0 col2\" >1,152,829 €</td>\n",
       "                        <td id=\"T_b51a3d38_a2d2_11e9_a9a4_419a49d29e61row0_col3\" class=\"data row0 col3\" >Universität Wien (41.1 Mio. €)</td>\n",
       "                        <td id=\"T_b51a3d38_a2d2_11e9_a9a4_419a49d29e61row0_col4\" class=\"data row0 col4\" >Universität Wien, Technische Universität Wien, Medizinische Universität Wien, Universität Innsbruck, Universität Graz, Medizinische Universität Innsbruck, Universität für Bodenkultur Wien, Universität Linz, Universität Salzburg, Technische Universität Graz, Veterinärmedizinische Universität Wien, Medizinische Universität Graz, Wirtschaftsuniversität Wien, Universität Klagenfurt, Montanuniversität Leoben</td>\n",
       "            </tr>\n",
       "            <tr>\n",
       "                        <th id=\"T_b51a3d38_a2d2_11e9_a9a4_419a49d29e61level0_row1\" class=\"row_heading level0 row1\" >EU</th>\n",
       "                        <td id=\"T_b51a3d38_a2d2_11e9_a9a4_419a49d29e61row1_col0\" class=\"data row1 col0\" >18.65%</td>\n",
       "                        <td id=\"T_b51a3d38_a2d2_11e9_a9a4_419a49d29e61row1_col1\" class=\"data row1 col1\" >17. Platz</td>\n",
       "                        <td id=\"T_b51a3d38_a2d2_11e9_a9a4_419a49d29e61row1_col2\" class=\"data row1 col2\" >466,081 €</td>\n",
       "                        <td id=\"T_b51a3d38_a2d2_11e9_a9a4_419a49d29e61row1_col3\" class=\"data row1 col3\" >Technische Universität Wien (14.7 Mio. €)</td>\n",
       "                        <td id=\"T_b51a3d38_a2d2_11e9_a9a4_419a49d29e61row1_col4\" class=\"data row1 col4\" >Technische Universität Wien, Universität Wien, Technische Universität Graz, Universität Innsbruck, Medizinische Universität Wien, Universität für Bodenkultur Wien, Montanuniversität Leoben, Medizinische Universität Innsbruck, Universität Salzburg, Universität Graz, Universität Linz, Medizinische Universität Graz, Wirtschaftsuniversität Wien, Universität Klagenfurt, Universität für Weiterbildung Krems, Veterinärmedizinische Universität Wien</td>\n",
       "            </tr>\n",
       "    </tbody></table>"
      ],
      "text/plain": [
       "<pandas.io.formats.style.Styler at 0x7fe69c089d30>"
      ]
     },
     "metadata": {},
     "output_type": "display_data"
    },
    {
     "data": {
      "text/html": [
       "<h4>Ähnliche Universitäten aufgrund der Drittmittel-Struktur</h3>"
      ],
      "text/plain": [
       "<IPython.core.display.HTML object>"
      ]
     },
     "metadata": {},
     "output_type": "display_data"
    },
    {
     "data": {
      "text/html": [
       "<p><strong>Universität Wien</strong> (88.7%, wegen &auml;hnlicher Relevanz von FWF, EU, Private (Stiftungen, Vereine, etc.)), <strong>Universität Salzburg</strong> (81.9%, wegen &auml;hnlicher Relevanz von FWF, EU, Bund (Ministerien)), <strong>Universität Graz</strong> (80.7%, wegen &auml;hnlicher Relevanz von FWF, EU, Unternehmen), <strong>Universität Innsbruck</strong> (74.9%, wegen &auml;hnlicher Relevanz von FWF, EU, Unternehmen)</p>"
      ],
      "text/plain": [
       "<IPython.core.display.HTML object>"
      ]
     },
     "metadata": {},
     "output_type": "display_data"
    },
    {
     "data": {
      "text/html": [
       "<h3>Universität für künstlerische und industrielle Gestaltung Linz</h3>"
      ],
      "text/plain": [
       "<IPython.core.display.HTML object>"
      ]
     },
     "metadata": {},
     "output_type": "display_data"
    },
    {
     "data": {
      "text/html": [
       "<h4>Drittmittel-Struktur</h4>"
      ],
      "text/plain": [
       "<IPython.core.display.HTML object>"
      ]
     },
     "metadata": {},
     "output_type": "display_data"
    },
    {
     "data": {
      "text/html": [
       "<style  type=\"text/css\" >\n",
       "    #T_b5216c02_a2d2_11e9_a9a4_419a49d29e61row0_col0 {\n",
       "            background-color:  white;\n",
       "        }    #T_b5216c02_a2d2_11e9_a9a4_419a49d29e61row0_col1 {\n",
       "            background-color:  white;\n",
       "        }    #T_b5216c02_a2d2_11e9_a9a4_419a49d29e61row0_col2 {\n",
       "            background-color:  white;\n",
       "        }    #T_b5216c02_a2d2_11e9_a9a4_419a49d29e61row0_col3 {\n",
       "            background-color:  white;\n",
       "        }    #T_b5216c02_a2d2_11e9_a9a4_419a49d29e61row0_col4 {\n",
       "            background-color:  white;\n",
       "        }    #T_b5216c02_a2d2_11e9_a9a4_419a49d29e61row1_col0 {\n",
       "            background-color:  white;\n",
       "        }    #T_b5216c02_a2d2_11e9_a9a4_419a49d29e61row1_col1 {\n",
       "            background-color:  white;\n",
       "        }    #T_b5216c02_a2d2_11e9_a9a4_419a49d29e61row1_col2 {\n",
       "            background-color:  white;\n",
       "        }    #T_b5216c02_a2d2_11e9_a9a4_419a49d29e61row1_col3 {\n",
       "            background-color:  white;\n",
       "        }    #T_b5216c02_a2d2_11e9_a9a4_419a49d29e61row1_col4 {\n",
       "            background-color:  white;\n",
       "        }</style><table id=\"T_b5216c02_a2d2_11e9_a9a4_419a49d29e61\" ><thead>    <tr>        <th class=\"blank level0\" ></th>        <th class=\"col_heading level0 col0\" >Intern</th>        <th class=\"col_heading level0 col1\" >Ranking</th>        <th class=\"col_heading level0 col2\" >Erlöse</th>        <th class=\"col_heading level0 col3\" >Beste Universität</th>        <th class=\"col_heading level0 col4\" >Bessere Universitäten</th>    </tr>    <tr>        <th class=\"index_name level0\" >WZW</th>        <th class=\"blank\" ></th>        <th class=\"blank\" ></th>        <th class=\"blank\" ></th>        <th class=\"blank\" ></th>        <th class=\"blank\" ></th>    </tr></thead><tbody>\n",
       "                <tr>\n",
       "                        <th id=\"T_b5216c02_a2d2_11e9_a9a4_419a49d29e61level0_row0\" class=\"row_heading level0 row0\" >Bund (Ministerien)</th>\n",
       "                        <td id=\"T_b5216c02_a2d2_11e9_a9a4_419a49d29e61row0_col0\" class=\"data row0 col0\" >33.11%</td>\n",
       "                        <td id=\"T_b5216c02_a2d2_11e9_a9a4_419a49d29e61row0_col1\" class=\"data row0 col1\" >14. Platz</td>\n",
       "                        <td id=\"T_b5216c02_a2d2_11e9_a9a4_419a49d29e61row0_col2\" class=\"data row0 col2\" >585,690 €</td>\n",
       "                        <td id=\"T_b5216c02_a2d2_11e9_a9a4_419a49d29e61row0_col3\" class=\"data row0 col3\" >Medizinische Universität Innsbruck (3.7 Mio. €)</td>\n",
       "                        <td id=\"T_b5216c02_a2d2_11e9_a9a4_419a49d29e61row0_col4\" class=\"data row0 col4\" >Medizinische Universität Innsbruck, Universität Wien, Universität für Bodenkultur Wien, Montanuniversität Leoben, Technische Universität Wien, Medizinische Universität Wien, Technische Universität Graz, Universität Salzburg, Universität Klagenfurt, Universität Graz, Universität Innsbruck, Universität für Weiterbildung Krems, Medizinische Universität Graz</td>\n",
       "            </tr>\n",
       "            <tr>\n",
       "                        <th id=\"T_b5216c02_a2d2_11e9_a9a4_419a49d29e61level0_row1\" class=\"row_heading level0 row1\" >FWF</th>\n",
       "                        <td id=\"T_b5216c02_a2d2_11e9_a9a4_419a49d29e61row1_col0\" class=\"data row1 col0\" >21.73%</td>\n",
       "                        <td id=\"T_b5216c02_a2d2_11e9_a9a4_419a49d29e61row1_col1\" class=\"data row1 col1\" >20. Platz</td>\n",
       "                        <td id=\"T_b5216c02_a2d2_11e9_a9a4_419a49d29e61row1_col2\" class=\"data row1 col2\" >384,336 €</td>\n",
       "                        <td id=\"T_b5216c02_a2d2_11e9_a9a4_419a49d29e61row1_col3\" class=\"data row1 col3\" >Universität Wien (41.1 Mio. €)</td>\n",
       "                        <td id=\"T_b5216c02_a2d2_11e9_a9a4_419a49d29e61row1_col4\" class=\"data row1 col4\" >Universität Wien, Technische Universität Wien, Medizinische Universität Wien, Universität Innsbruck, Universität Graz, Medizinische Universität Innsbruck, Universität für Bodenkultur Wien, Universität Linz, Universität Salzburg, Technische Universität Graz, Veterinärmedizinische Universität Wien, Medizinische Universität Graz, Wirtschaftsuniversität Wien, Universität Klagenfurt, Montanuniversität Leoben, Universität für angewandte Kunst Wien, Akademie der bildenden Künste Wien, Universität für Musik und darstellende Kunst Graz, Universität für Musik und darstellende Kunst Wien</td>\n",
       "            </tr>\n",
       "    </tbody></table>"
      ],
      "text/plain": [
       "<pandas.io.formats.style.Styler at 0x7fe69c137128>"
      ]
     },
     "metadata": {},
     "output_type": "display_data"
    },
    {
     "data": {
      "text/html": [
       "<h4>Ähnliche Universitäten aufgrund der Drittmittel-Struktur</h3>"
      ],
      "text/plain": [
       "<IPython.core.display.HTML object>"
      ]
     },
     "metadata": {},
     "output_type": "display_data"
    },
    {
     "data": {
      "text/html": [
       "<p><strong>Universität für Musik und darstellende Kunst Graz</strong> (59.2%, wegen &auml;hnlicher Relevanz von FWF, Unternehmen, Bund (Ministerien)), <strong>Universität Klagenfurt</strong> (58.1%, wegen &auml;hnlicher Relevanz von FWF, Bund (Ministerien), Unternehmen), <strong>Universität Salzburg</strong> (54.0%, wegen &auml;hnlicher Relevanz von FWF, Länder (inkl. deren Stiftungen und Einrichtungen), Bund (Ministerien)), <strong>Universität für Bodenkultur Wien</strong> (49.6%, wegen &auml;hnlicher Relevanz von FWF, Unternehmen, Bund (Ministerien))</p>"
      ],
      "text/plain": [
       "<IPython.core.display.HTML object>"
      ]
     },
     "metadata": {},
     "output_type": "display_data"
    },
    {
     "data": {
      "text/html": [
       "<h3>Veterinärmedizinische Universität Wien</h3>"
      ],
      "text/plain": [
       "<IPython.core.display.HTML object>"
      ]
     },
     "metadata": {},
     "output_type": "display_data"
    },
    {
     "data": {
      "text/html": [
       "<h4>Drittmittel-Struktur</h4>"
      ],
      "text/plain": [
       "<IPython.core.display.HTML object>"
      ]
     },
     "metadata": {},
     "output_type": "display_data"
    },
    {
     "data": {
      "text/html": [
       "<style  type=\"text/css\" >\n",
       "    #T_b528bd90_a2d2_11e9_a9a4_419a49d29e61row0_col0 {\n",
       "            background-color:  yellow;\n",
       "        }    #T_b528bd90_a2d2_11e9_a9a4_419a49d29e61row0_col1 {\n",
       "            background-color:  yellow;\n",
       "        }    #T_b528bd90_a2d2_11e9_a9a4_419a49d29e61row0_col2 {\n",
       "            background-color:  yellow;\n",
       "        }    #T_b528bd90_a2d2_11e9_a9a4_419a49d29e61row0_col3 {\n",
       "            background-color:  yellow;\n",
       "        }    #T_b528bd90_a2d2_11e9_a9a4_419a49d29e61row0_col4 {\n",
       "            background-color:  yellow;\n",
       "        }    #T_b528bd90_a2d2_11e9_a9a4_419a49d29e61row1_col0 {\n",
       "            background-color:  white;\n",
       "        }    #T_b528bd90_a2d2_11e9_a9a4_419a49d29e61row1_col1 {\n",
       "            background-color:  white;\n",
       "        }    #T_b528bd90_a2d2_11e9_a9a4_419a49d29e61row1_col2 {\n",
       "            background-color:  white;\n",
       "        }    #T_b528bd90_a2d2_11e9_a9a4_419a49d29e61row1_col3 {\n",
       "            background-color:  white;\n",
       "        }    #T_b528bd90_a2d2_11e9_a9a4_419a49d29e61row1_col4 {\n",
       "            background-color:  white;\n",
       "        }</style><table id=\"T_b528bd90_a2d2_11e9_a9a4_419a49d29e61\" ><thead>    <tr>        <th class=\"blank level0\" ></th>        <th class=\"col_heading level0 col0\" >Intern</th>        <th class=\"col_heading level0 col1\" >Ranking</th>        <th class=\"col_heading level0 col2\" >Erlöse</th>        <th class=\"col_heading level0 col3\" >Beste Universität</th>        <th class=\"col_heading level0 col4\" >Bessere Universitäten</th>    </tr>    <tr>        <th class=\"index_name level0\" >WZW</th>        <th class=\"blank\" ></th>        <th class=\"blank\" ></th>        <th class=\"blank\" ></th>        <th class=\"blank\" ></th>        <th class=\"blank\" ></th>    </tr></thead><tbody>\n",
       "                <tr>\n",
       "                        <th id=\"T_b528bd90_a2d2_11e9_a9a4_419a49d29e61level0_row0\" class=\"row_heading level0 row0\" >Private (Stiftungen, Vereine, etc.)</th>\n",
       "                        <td id=\"T_b528bd90_a2d2_11e9_a9a4_419a49d29e61row0_col0\" class=\"data row0 col0\" >35.46%</td>\n",
       "                        <td id=\"T_b528bd90_a2d2_11e9_a9a4_419a49d29e61row0_col1\" class=\"data row0 col1\" >2. Platz</td>\n",
       "                        <td id=\"T_b528bd90_a2d2_11e9_a9a4_419a49d29e61row0_col2\" class=\"data row0 col2\" >6,131,569 €</td>\n",
       "                        <td id=\"T_b528bd90_a2d2_11e9_a9a4_419a49d29e61row0_col3\" class=\"data row0 col3\" >Medizinische Universität Wien (9.1 Mio. €)</td>\n",
       "                        <td id=\"T_b528bd90_a2d2_11e9_a9a4_419a49d29e61row0_col4\" class=\"data row0 col4\" >Medizinische Universität Wien</td>\n",
       "            </tr>\n",
       "            <tr>\n",
       "                        <th id=\"T_b528bd90_a2d2_11e9_a9a4_419a49d29e61level0_row1\" class=\"row_heading level0 row1\" >FWF</th>\n",
       "                        <td id=\"T_b528bd90_a2d2_11e9_a9a4_419a49d29e61row1_col0\" class=\"data row1 col0\" >27.41%</td>\n",
       "                        <td id=\"T_b528bd90_a2d2_11e9_a9a4_419a49d29e61row1_col1\" class=\"data row1 col1\" >11. Platz</td>\n",
       "                        <td id=\"T_b528bd90_a2d2_11e9_a9a4_419a49d29e61row1_col2\" class=\"data row1 col2\" >4,739,233 €</td>\n",
       "                        <td id=\"T_b528bd90_a2d2_11e9_a9a4_419a49d29e61row1_col3\" class=\"data row1 col3\" >Universität Wien (41.1 Mio. €)</td>\n",
       "                        <td id=\"T_b528bd90_a2d2_11e9_a9a4_419a49d29e61row1_col4\" class=\"data row1 col4\" >Universität Wien, Technische Universität Wien, Medizinische Universität Wien, Universität Innsbruck, Universität Graz, Medizinische Universität Innsbruck, Universität für Bodenkultur Wien, Universität Linz, Universität Salzburg, Technische Universität Graz</td>\n",
       "            </tr>\n",
       "    </tbody></table>"
      ],
      "text/plain": [
       "<pandas.io.formats.style.Styler at 0x7fe69c089a90>"
      ]
     },
     "metadata": {},
     "output_type": "display_data"
    },
    {
     "data": {
      "text/html": [
       "<h4>Ähnliche Universitäten aufgrund der Drittmittel-Struktur</h3>"
      ],
      "text/plain": [
       "<IPython.core.display.HTML object>"
      ]
     },
     "metadata": {},
     "output_type": "display_data"
    },
    {
     "data": {
      "text/html": [
       "<p><strong>Universität Innsbruck</strong> (63.6%, wegen &auml;hnlicher Relevanz von FWF, Unternehmen, sonstige öffentlich-rechtliche Einrichtungen (Körperschaften, Stiftungen, Fonds etc.)), <strong>Universität Linz</strong> (59.7%, wegen &auml;hnlicher Relevanz von FWF, Unternehmen, sonstige öffentlich-rechtliche Einrichtungen (Körperschaften, Stiftungen, Fonds etc.)), <strong>Wirtschaftsuniversität Wien</strong> (58.6%, wegen &auml;hnlicher Relevanz von Private (Stiftungen, Vereine, etc.), FWF, Unternehmen), <strong>Universität für Bodenkultur Wien</strong> (58.4%, wegen &auml;hnlicher Relevanz von FWF, Unternehmen, Private (Stiftungen, Vereine, etc.))</p>"
      ],
      "text/plain": [
       "<IPython.core.display.HTML object>"
      ]
     },
     "metadata": {},
     "output_type": "display_data"
    },
    {
     "data": {
      "text/html": [
       "<h3>Universität für Musik und darstellende Kunst Graz</h3>"
      ],
      "text/plain": [
       "<IPython.core.display.HTML object>"
      ]
     },
     "metadata": {},
     "output_type": "display_data"
    },
    {
     "data": {
      "text/html": [
       "<h4>Drittmittel-Struktur</h4>"
      ],
      "text/plain": [
       "<IPython.core.display.HTML object>"
      ]
     },
     "metadata": {},
     "output_type": "display_data"
    },
    {
     "data": {
      "text/html": [
       "<style  type=\"text/css\" >\n",
       "    #T_b530041a_a2d2_11e9_a9a4_419a49d29e61row0_col0 {\n",
       "            background-color:  white;\n",
       "        }    #T_b530041a_a2d2_11e9_a9a4_419a49d29e61row0_col1 {\n",
       "            background-color:  white;\n",
       "        }    #T_b530041a_a2d2_11e9_a9a4_419a49d29e61row0_col2 {\n",
       "            background-color:  white;\n",
       "        }    #T_b530041a_a2d2_11e9_a9a4_419a49d29e61row0_col3 {\n",
       "            background-color:  white;\n",
       "        }    #T_b530041a_a2d2_11e9_a9a4_419a49d29e61row0_col4 {\n",
       "            background-color:  white;\n",
       "        }    #T_b530041a_a2d2_11e9_a9a4_419a49d29e61row1_col0 {\n",
       "            background-color:  white;\n",
       "        }    #T_b530041a_a2d2_11e9_a9a4_419a49d29e61row1_col1 {\n",
       "            background-color:  white;\n",
       "        }    #T_b530041a_a2d2_11e9_a9a4_419a49d29e61row1_col2 {\n",
       "            background-color:  white;\n",
       "        }    #T_b530041a_a2d2_11e9_a9a4_419a49d29e61row1_col3 {\n",
       "            background-color:  white;\n",
       "        }    #T_b530041a_a2d2_11e9_a9a4_419a49d29e61row1_col4 {\n",
       "            background-color:  white;\n",
       "        }</style><table id=\"T_b530041a_a2d2_11e9_a9a4_419a49d29e61\" ><thead>    <tr>        <th class=\"blank level0\" ></th>        <th class=\"col_heading level0 col0\" >Intern</th>        <th class=\"col_heading level0 col1\" >Ranking</th>        <th class=\"col_heading level0 col2\" >Erlöse</th>        <th class=\"col_heading level0 col3\" >Beste Universität</th>        <th class=\"col_heading level0 col4\" >Bessere Universitäten</th>    </tr>    <tr>        <th class=\"index_name level0\" >WZW</th>        <th class=\"blank\" ></th>        <th class=\"blank\" ></th>        <th class=\"blank\" ></th>        <th class=\"blank\" ></th>        <th class=\"blank\" ></th>    </tr></thead><tbody>\n",
       "                <tr>\n",
       "                        <th id=\"T_b530041a_a2d2_11e9_a9a4_419a49d29e61level0_row0\" class=\"row_heading level0 row0\" >FWF</th>\n",
       "                        <td id=\"T_b530041a_a2d2_11e9_a9a4_419a49d29e61row0_col0\" class=\"data row0 col0\" >44.83%</td>\n",
       "                        <td id=\"T_b530041a_a2d2_11e9_a9a4_419a49d29e61row0_col1\" class=\"data row0 col1\" >18. Platz</td>\n",
       "                        <td id=\"T_b530041a_a2d2_11e9_a9a4_419a49d29e61row0_col2\" class=\"data row0 col2\" >645,534 €</td>\n",
       "                        <td id=\"T_b530041a_a2d2_11e9_a9a4_419a49d29e61row0_col3\" class=\"data row0 col3\" >Universität Wien (41.1 Mio. €)</td>\n",
       "                        <td id=\"T_b530041a_a2d2_11e9_a9a4_419a49d29e61row0_col4\" class=\"data row0 col4\" >Universität Wien, Technische Universität Wien, Medizinische Universität Wien, Universität Innsbruck, Universität Graz, Medizinische Universität Innsbruck, Universität für Bodenkultur Wien, Universität Linz, Universität Salzburg, Technische Universität Graz, Veterinärmedizinische Universität Wien, Medizinische Universität Graz, Wirtschaftsuniversität Wien, Universität Klagenfurt, Montanuniversität Leoben, Universität für angewandte Kunst Wien, Akademie der bildenden Künste Wien</td>\n",
       "            </tr>\n",
       "            <tr>\n",
       "                        <th id=\"T_b530041a_a2d2_11e9_a9a4_419a49d29e61level0_row1\" class=\"row_heading level0 row1\" >Unternehmen</th>\n",
       "                        <td id=\"T_b530041a_a2d2_11e9_a9a4_419a49d29e61row1_col0\" class=\"data row1 col0\" >14.94%</td>\n",
       "                        <td id=\"T_b530041a_a2d2_11e9_a9a4_419a49d29e61row1_col1\" class=\"data row1 col1\" >18. Platz</td>\n",
       "                        <td id=\"T_b530041a_a2d2_11e9_a9a4_419a49d29e61row1_col2\" class=\"data row1 col2\" >215,121 €</td>\n",
       "                        <td id=\"T_b530041a_a2d2_11e9_a9a4_419a49d29e61row1_col3\" class=\"data row1 col3\" >Medizinische Universität Graz (32.4 Mio. €)</td>\n",
       "                        <td id=\"T_b530041a_a2d2_11e9_a9a4_419a49d29e61row1_col4\" class=\"data row1 col4\" >Medizinische Universität Graz, Technische Universität Graz, Technische Universität Wien, Medizinische Universität Wien, Medizinische Universität Innsbruck, Universität für Bodenkultur Wien, Montanuniversität Leoben, Universität Linz, Universität Innsbruck, Universität Wien, Veterinärmedizinische Universität Wien, Universität Graz, Universität Klagenfurt, Wirtschaftsuniversität Wien, Universität Salzburg, Universität für Weiterbildung Krems, Universität für künstlerische und industrielle Gestaltung Linz</td>\n",
       "            </tr>\n",
       "    </tbody></table>"
      ],
      "text/plain": [
       "<pandas.io.formats.style.Styler at 0x7fe69c067b70>"
      ]
     },
     "metadata": {},
     "output_type": "display_data"
    },
    {
     "data": {
      "text/html": [
       "<h4>Ähnliche Universitäten aufgrund der Drittmittel-Struktur</h3>"
      ],
      "text/plain": [
       "<IPython.core.display.HTML object>"
      ]
     },
     "metadata": {},
     "output_type": "display_data"
    },
    {
     "data": {
      "text/html": [
       "<p><strong>Universität Graz</strong> (72.5%, wegen &auml;hnlicher Relevanz von FWF, Länder (inkl. deren Stiftungen und Einrichtungen), Unternehmen), <strong>Universität Salzburg</strong> (70.3%, wegen &auml;hnlicher Relevanz von FWF, Länder (inkl. deren Stiftungen und Einrichtungen), Bund (Ministerien)), <strong>Universität für angewandte Kunst Wien</strong> (66.3%, wegen &auml;hnlicher Relevanz von FWF, Bund (Ministerien), Unternehmen), <strong>Universität Wien</strong> (65.3%, wegen &auml;hnlicher Relevanz von FWF, Länder (inkl. deren Stiftungen und Einrichtungen), Bund (Ministerien))</p>"
      ],
      "text/plain": [
       "<IPython.core.display.HTML object>"
      ]
     },
     "metadata": {},
     "output_type": "display_data"
    },
    {
     "data": {
      "text/html": [
       "<h3>Universität Linz</h3>"
      ],
      "text/plain": [
       "<IPython.core.display.HTML object>"
      ]
     },
     "metadata": {},
     "output_type": "display_data"
    },
    {
     "data": {
      "text/html": [
       "<h4>Drittmittel-Struktur</h4>"
      ],
      "text/plain": [
       "<IPython.core.display.HTML object>"
      ]
     },
     "metadata": {},
     "output_type": "display_data"
    },
    {
     "data": {
      "text/html": [
       "<style  type=\"text/css\" >\n",
       "    #T_b53812f4_a2d2_11e9_a9a4_419a49d29e61row0_col0 {\n",
       "            background-color:  white;\n",
       "        }    #T_b53812f4_a2d2_11e9_a9a4_419a49d29e61row0_col1 {\n",
       "            background-color:  white;\n",
       "        }    #T_b53812f4_a2d2_11e9_a9a4_419a49d29e61row0_col2 {\n",
       "            background-color:  white;\n",
       "        }    #T_b53812f4_a2d2_11e9_a9a4_419a49d29e61row0_col3 {\n",
       "            background-color:  white;\n",
       "        }    #T_b53812f4_a2d2_11e9_a9a4_419a49d29e61row0_col4 {\n",
       "            background-color:  white;\n",
       "        }    #T_b53812f4_a2d2_11e9_a9a4_419a49d29e61row1_col0 {\n",
       "            background-color:  white;\n",
       "        }    #T_b53812f4_a2d2_11e9_a9a4_419a49d29e61row1_col1 {\n",
       "            background-color:  white;\n",
       "        }    #T_b53812f4_a2d2_11e9_a9a4_419a49d29e61row1_col2 {\n",
       "            background-color:  white;\n",
       "        }    #T_b53812f4_a2d2_11e9_a9a4_419a49d29e61row1_col3 {\n",
       "            background-color:  white;\n",
       "        }    #T_b53812f4_a2d2_11e9_a9a4_419a49d29e61row1_col4 {\n",
       "            background-color:  white;\n",
       "        }</style><table id=\"T_b53812f4_a2d2_11e9_a9a4_419a49d29e61\" ><thead>    <tr>        <th class=\"blank level0\" ></th>        <th class=\"col_heading level0 col0\" >Intern</th>        <th class=\"col_heading level0 col1\" >Ranking</th>        <th class=\"col_heading level0 col2\" >Erlöse</th>        <th class=\"col_heading level0 col3\" >Beste Universität</th>        <th class=\"col_heading level0 col4\" >Bessere Universitäten</th>    </tr>    <tr>        <th class=\"index_name level0\" >WZW</th>        <th class=\"blank\" ></th>        <th class=\"blank\" ></th>        <th class=\"blank\" ></th>        <th class=\"blank\" ></th>        <th class=\"blank\" ></th>    </tr></thead><tbody>\n",
       "                <tr>\n",
       "                        <th id=\"T_b53812f4_a2d2_11e9_a9a4_419a49d29e61level0_row0\" class=\"row_heading level0 row0\" >FWF</th>\n",
       "                        <td id=\"T_b53812f4_a2d2_11e9_a9a4_419a49d29e61row0_col0\" class=\"data row0 col0\" >26.56%</td>\n",
       "                        <td id=\"T_b53812f4_a2d2_11e9_a9a4_419a49d29e61row0_col1\" class=\"data row0 col1\" >8. Platz</td>\n",
       "                        <td id=\"T_b53812f4_a2d2_11e9_a9a4_419a49d29e61row0_col2\" class=\"data row0 col2\" >7,769,848 €</td>\n",
       "                        <td id=\"T_b53812f4_a2d2_11e9_a9a4_419a49d29e61row0_col3\" class=\"data row0 col3\" >Universität Wien (41.1 Mio. €)</td>\n",
       "                        <td id=\"T_b53812f4_a2d2_11e9_a9a4_419a49d29e61row0_col4\" class=\"data row0 col4\" >Universität Wien, Technische Universität Wien, Medizinische Universität Wien, Universität Innsbruck, Universität Graz, Medizinische Universität Innsbruck, Universität für Bodenkultur Wien</td>\n",
       "            </tr>\n",
       "            <tr>\n",
       "                        <th id=\"T_b53812f4_a2d2_11e9_a9a4_419a49d29e61level0_row1\" class=\"row_heading level0 row1\" >FFG</th>\n",
       "                        <td id=\"T_b53812f4_a2d2_11e9_a9a4_419a49d29e61row1_col0\" class=\"data row1 col0\" >26.09%</td>\n",
       "                        <td id=\"T_b53812f4_a2d2_11e9_a9a4_419a49d29e61row1_col1\" class=\"data row1 col1\" >4. Platz</td>\n",
       "                        <td id=\"T_b53812f4_a2d2_11e9_a9a4_419a49d29e61row1_col2\" class=\"data row1 col2\" >7,632,744 €</td>\n",
       "                        <td id=\"T_b53812f4_a2d2_11e9_a9a4_419a49d29e61row1_col3\" class=\"data row1 col3\" >Technische Universität Graz (19.0 Mio. €)</td>\n",
       "                        <td id=\"T_b53812f4_a2d2_11e9_a9a4_419a49d29e61row1_col4\" class=\"data row1 col4\" >Technische Universität Graz, Technische Universität Wien, Montanuniversität Leoben</td>\n",
       "            </tr>\n",
       "    </tbody></table>"
      ],
      "text/plain": [
       "<pandas.io.formats.style.Styler at 0x7fe69c089198>"
      ]
     },
     "metadata": {},
     "output_type": "display_data"
    },
    {
     "data": {
      "text/html": [
       "<h4>Ähnliche Universitäten aufgrund der Drittmittel-Struktur</h3>"
      ],
      "text/plain": [
       "<IPython.core.display.HTML object>"
      ]
     },
     "metadata": {},
     "output_type": "display_data"
    },
    {
     "data": {
      "text/html": [
       "<p><strong>Technische Universität Wien</strong> (82.7%, wegen &auml;hnlicher Relevanz von FWF, Unternehmen, FFG), <strong>Technische Universität Graz</strong> (76.0%, wegen &auml;hnlicher Relevanz von FFG, Unternehmen, sonstige öffentlich-rechtliche Einrichtungen (Körperschaften, Stiftungen, Fonds etc.)), <strong>Montanuniversität Leoben</strong> (70.9%, wegen &auml;hnlicher Relevanz von FFG, Unternehmen, EU), <strong>Universität Klagenfurt</strong> (69.7%, wegen &auml;hnlicher Relevanz von Unternehmen, FWF, FFG)</p>"
      ],
      "text/plain": [
       "<IPython.core.display.HTML object>"
      ]
     },
     "metadata": {},
     "output_type": "display_data"
    },
    {
     "data": {
      "text/html": [
       "<h3>Universität für Musik und darstellende Kunst Wien</h3>"
      ],
      "text/plain": [
       "<IPython.core.display.HTML object>"
      ]
     },
     "metadata": {},
     "output_type": "display_data"
    },
    {
     "data": {
      "text/html": [
       "<h4>Drittmittel-Struktur</h4>"
      ],
      "text/plain": [
       "<IPython.core.display.HTML object>"
      ]
     },
     "metadata": {},
     "output_type": "display_data"
    },
    {
     "data": {
      "text/html": [
       "<style  type=\"text/css\" >\n",
       "    #T_b5408f9c_a2d2_11e9_a9a4_419a49d29e61row0_col0 {\n",
       "            background-color:  white;\n",
       "        }    #T_b5408f9c_a2d2_11e9_a9a4_419a49d29e61row0_col1 {\n",
       "            background-color:  white;\n",
       "        }    #T_b5408f9c_a2d2_11e9_a9a4_419a49d29e61row0_col2 {\n",
       "            background-color:  white;\n",
       "        }    #T_b5408f9c_a2d2_11e9_a9a4_419a49d29e61row0_col3 {\n",
       "            background-color:  white;\n",
       "        }    #T_b5408f9c_a2d2_11e9_a9a4_419a49d29e61row0_col4 {\n",
       "            background-color:  white;\n",
       "        }    #T_b5408f9c_a2d2_11e9_a9a4_419a49d29e61row1_col0 {\n",
       "            background-color:  white;\n",
       "        }    #T_b5408f9c_a2d2_11e9_a9a4_419a49d29e61row1_col1 {\n",
       "            background-color:  white;\n",
       "        }    #T_b5408f9c_a2d2_11e9_a9a4_419a49d29e61row1_col2 {\n",
       "            background-color:  white;\n",
       "        }    #T_b5408f9c_a2d2_11e9_a9a4_419a49d29e61row1_col3 {\n",
       "            background-color:  white;\n",
       "        }    #T_b5408f9c_a2d2_11e9_a9a4_419a49d29e61row1_col4 {\n",
       "            background-color:  white;\n",
       "        }</style><table id=\"T_b5408f9c_a2d2_11e9_a9a4_419a49d29e61\" ><thead>    <tr>        <th class=\"blank level0\" ></th>        <th class=\"col_heading level0 col0\" >Intern</th>        <th class=\"col_heading level0 col1\" >Ranking</th>        <th class=\"col_heading level0 col2\" >Erlöse</th>        <th class=\"col_heading level0 col3\" >Beste Universität</th>        <th class=\"col_heading level0 col4\" >Bessere Universitäten</th>    </tr>    <tr>        <th class=\"index_name level0\" >WZW</th>        <th class=\"blank\" ></th>        <th class=\"blank\" ></th>        <th class=\"blank\" ></th>        <th class=\"blank\" ></th>        <th class=\"blank\" ></th>    </tr></thead><tbody>\n",
       "                <tr>\n",
       "                        <th id=\"T_b5408f9c_a2d2_11e9_a9a4_419a49d29e61level0_row0\" class=\"row_heading level0 row0\" >FWF</th>\n",
       "                        <td id=\"T_b5408f9c_a2d2_11e9_a9a4_419a49d29e61row0_col0\" class=\"data row0 col0\" >40.14%</td>\n",
       "                        <td id=\"T_b5408f9c_a2d2_11e9_a9a4_419a49d29e61row0_col1\" class=\"data row0 col1\" >19. Platz</td>\n",
       "                        <td id=\"T_b5408f9c_a2d2_11e9_a9a4_419a49d29e61row0_col2\" class=\"data row0 col2\" >465,349 €</td>\n",
       "                        <td id=\"T_b5408f9c_a2d2_11e9_a9a4_419a49d29e61row0_col3\" class=\"data row0 col3\" >Universität Wien (41.1 Mio. €)</td>\n",
       "                        <td id=\"T_b5408f9c_a2d2_11e9_a9a4_419a49d29e61row0_col4\" class=\"data row0 col4\" >Universität Wien, Technische Universität Wien, Medizinische Universität Wien, Universität Innsbruck, Universität Graz, Medizinische Universität Innsbruck, Universität für Bodenkultur Wien, Universität Linz, Universität Salzburg, Technische Universität Graz, Veterinärmedizinische Universität Wien, Medizinische Universität Graz, Wirtschaftsuniversität Wien, Universität Klagenfurt, Montanuniversität Leoben, Universität für angewandte Kunst Wien, Akademie der bildenden Künste Wien, Universität für Musik und darstellende Kunst Graz</td>\n",
       "            </tr>\n",
       "            <tr>\n",
       "                        <th id=\"T_b5408f9c_a2d2_11e9_a9a4_419a49d29e61level0_row1\" class=\"row_heading level0 row1\" >EU</th>\n",
       "                        <td id=\"T_b5408f9c_a2d2_11e9_a9a4_419a49d29e61row1_col0\" class=\"data row1 col0\" >23.91%</td>\n",
       "                        <td id=\"T_b5408f9c_a2d2_11e9_a9a4_419a49d29e61row1_col1\" class=\"data row1 col1\" >18. Platz</td>\n",
       "                        <td id=\"T_b5408f9c_a2d2_11e9_a9a4_419a49d29e61row1_col2\" class=\"data row1 col2\" >277,190 €</td>\n",
       "                        <td id=\"T_b5408f9c_a2d2_11e9_a9a4_419a49d29e61row1_col3\" class=\"data row1 col3\" >Technische Universität Wien (14.7 Mio. €)</td>\n",
       "                        <td id=\"T_b5408f9c_a2d2_11e9_a9a4_419a49d29e61row1_col4\" class=\"data row1 col4\" >Technische Universität Wien, Universität Wien, Technische Universität Graz, Universität Innsbruck, Medizinische Universität Wien, Universität für Bodenkultur Wien, Montanuniversität Leoben, Medizinische Universität Innsbruck, Universität Salzburg, Universität Graz, Universität Linz, Medizinische Universität Graz, Wirtschaftsuniversität Wien, Universität Klagenfurt, Universität für Weiterbildung Krems, Veterinärmedizinische Universität Wien, Universität für angewandte Kunst Wien</td>\n",
       "            </tr>\n",
       "    </tbody></table>"
      ],
      "text/plain": [
       "<pandas.io.formats.style.Styler at 0x7fe69c067cf8>"
      ]
     },
     "metadata": {},
     "output_type": "display_data"
    },
    {
     "data": {
      "text/html": [
       "<h4>Ähnliche Universitäten aufgrund der Drittmittel-Struktur</h3>"
      ],
      "text/plain": [
       "<IPython.core.display.HTML object>"
      ]
     },
     "metadata": {},
     "output_type": "display_data"
    },
    {
     "data": {
      "text/html": [
       "<p><strong>Universität Wien</strong> (73.9%, wegen &auml;hnlicher Relevanz von FWF, EU, Länder (inkl. deren Stiftungen und Einrichtungen)), <strong>Universität für angewandte Kunst Wien</strong> (73.7%, wegen &auml;hnlicher Relevanz von FWF, EU, Bund (Ministerien)), <strong>Universität Salzburg</strong> (72.4%, wegen &auml;hnlicher Relevanz von FWF, EU, Länder (inkl. deren Stiftungen und Einrichtungen)), <strong>Universität Innsbruck</strong> (69.8%, wegen &auml;hnlicher Relevanz von FWF, EU, Länder (inkl. deren Stiftungen und Einrichtungen))</p>"
      ],
      "text/plain": [
       "<IPython.core.display.HTML object>"
      ]
     },
     "metadata": {},
     "output_type": "display_data"
    },
    {
     "data": {
      "text/html": [
       "<h3>Wirtschaftsuniversität Wien</h3>"
      ],
      "text/plain": [
       "<IPython.core.display.HTML object>"
      ]
     },
     "metadata": {},
     "output_type": "display_data"
    },
    {
     "data": {
      "text/html": [
       "<h4>Drittmittel-Struktur</h4>"
      ],
      "text/plain": [
       "<IPython.core.display.HTML object>"
      ]
     },
     "metadata": {},
     "output_type": "display_data"
    },
    {
     "data": {
      "text/html": [
       "<style  type=\"text/css\" >\n",
       "    #T_b5494f60_a2d2_11e9_a9a4_419a49d29e61row0_col0 {\n",
       "            background-color:  white;\n",
       "        }    #T_b5494f60_a2d2_11e9_a9a4_419a49d29e61row0_col1 {\n",
       "            background-color:  white;\n",
       "        }    #T_b5494f60_a2d2_11e9_a9a4_419a49d29e61row0_col2 {\n",
       "            background-color:  white;\n",
       "        }    #T_b5494f60_a2d2_11e9_a9a4_419a49d29e61row0_col3 {\n",
       "            background-color:  white;\n",
       "        }    #T_b5494f60_a2d2_11e9_a9a4_419a49d29e61row0_col4 {\n",
       "            background-color:  white;\n",
       "        }    #T_b5494f60_a2d2_11e9_a9a4_419a49d29e61row1_col0 {\n",
       "            background-color:  white;\n",
       "        }    #T_b5494f60_a2d2_11e9_a9a4_419a49d29e61row1_col1 {\n",
       "            background-color:  white;\n",
       "        }    #T_b5494f60_a2d2_11e9_a9a4_419a49d29e61row1_col2 {\n",
       "            background-color:  white;\n",
       "        }    #T_b5494f60_a2d2_11e9_a9a4_419a49d29e61row1_col3 {\n",
       "            background-color:  white;\n",
       "        }    #T_b5494f60_a2d2_11e9_a9a4_419a49d29e61row1_col4 {\n",
       "            background-color:  white;\n",
       "        }    #T_b5494f60_a2d2_11e9_a9a4_419a49d29e61row2_col0 {\n",
       "            background-color:  white;\n",
       "        }    #T_b5494f60_a2d2_11e9_a9a4_419a49d29e61row2_col1 {\n",
       "            background-color:  white;\n",
       "        }    #T_b5494f60_a2d2_11e9_a9a4_419a49d29e61row2_col2 {\n",
       "            background-color:  white;\n",
       "        }    #T_b5494f60_a2d2_11e9_a9a4_419a49d29e61row2_col3 {\n",
       "            background-color:  white;\n",
       "        }    #T_b5494f60_a2d2_11e9_a9a4_419a49d29e61row2_col4 {\n",
       "            background-color:  white;\n",
       "        }    #T_b5494f60_a2d2_11e9_a9a4_419a49d29e61row3_col0 {\n",
       "            background-color:  white;\n",
       "        }    #T_b5494f60_a2d2_11e9_a9a4_419a49d29e61row3_col1 {\n",
       "            background-color:  white;\n",
       "        }    #T_b5494f60_a2d2_11e9_a9a4_419a49d29e61row3_col2 {\n",
       "            background-color:  white;\n",
       "        }    #T_b5494f60_a2d2_11e9_a9a4_419a49d29e61row3_col3 {\n",
       "            background-color:  white;\n",
       "        }    #T_b5494f60_a2d2_11e9_a9a4_419a49d29e61row3_col4 {\n",
       "            background-color:  white;\n",
       "        }</style><table id=\"T_b5494f60_a2d2_11e9_a9a4_419a49d29e61\" ><thead>    <tr>        <th class=\"blank level0\" ></th>        <th class=\"col_heading level0 col0\" >Intern</th>        <th class=\"col_heading level0 col1\" >Ranking</th>        <th class=\"col_heading level0 col2\" >Erlöse</th>        <th class=\"col_heading level0 col3\" >Beste Universität</th>        <th class=\"col_heading level0 col4\" >Bessere Universitäten</th>    </tr>    <tr>        <th class=\"index_name level0\" >WZW</th>        <th class=\"blank\" ></th>        <th class=\"blank\" ></th>        <th class=\"blank\" ></th>        <th class=\"blank\" ></th>        <th class=\"blank\" ></th>    </tr></thead><tbody>\n",
       "                <tr>\n",
       "                        <th id=\"T_b5494f60_a2d2_11e9_a9a4_419a49d29e61level0_row0\" class=\"row_heading level0 row0\" >sonstige</th>\n",
       "                        <td id=\"T_b5494f60_a2d2_11e9_a9a4_419a49d29e61row0_col0\" class=\"data row0 col0\" >19.24%</td>\n",
       "                        <td id=\"T_b5494f60_a2d2_11e9_a9a4_419a49d29e61row0_col1\" class=\"data row0 col1\" >3. Platz</td>\n",
       "                        <td id=\"T_b5494f60_a2d2_11e9_a9a4_419a49d29e61row0_col2\" class=\"data row0 col2\" >2,475,309 €</td>\n",
       "                        <td id=\"T_b5494f60_a2d2_11e9_a9a4_419a49d29e61row0_col3\" class=\"data row0 col3\" >Medizinische Universität Wien (33.2 Mio. €)</td>\n",
       "                        <td id=\"T_b5494f60_a2d2_11e9_a9a4_419a49d29e61row0_col4\" class=\"data row0 col4\" >Medizinische Universität Wien, Universität Wien</td>\n",
       "            </tr>\n",
       "            <tr>\n",
       "                        <th id=\"T_b5494f60_a2d2_11e9_a9a4_419a49d29e61level0_row1\" class=\"row_heading level0 row1\" >EU</th>\n",
       "                        <td id=\"T_b5494f60_a2d2_11e9_a9a4_419a49d29e61row1_col0\" class=\"data row1 col0\" >16.09%</td>\n",
       "                        <td id=\"T_b5494f60_a2d2_11e9_a9a4_419a49d29e61row1_col1\" class=\"data row1 col1\" >13. Platz</td>\n",
       "                        <td id=\"T_b5494f60_a2d2_11e9_a9a4_419a49d29e61row1_col2\" class=\"data row1 col2\" >2,070,273 €</td>\n",
       "                        <td id=\"T_b5494f60_a2d2_11e9_a9a4_419a49d29e61row1_col3\" class=\"data row1 col3\" >Technische Universität Wien (14.7 Mio. €)</td>\n",
       "                        <td id=\"T_b5494f60_a2d2_11e9_a9a4_419a49d29e61row1_col4\" class=\"data row1 col4\" >Technische Universität Wien, Universität Wien, Technische Universität Graz, Universität Innsbruck, Medizinische Universität Wien, Universität für Bodenkultur Wien, Montanuniversität Leoben, Medizinische Universität Innsbruck, Universität Salzburg, Universität Graz, Universität Linz, Medizinische Universität Graz</td>\n",
       "            </tr>\n",
       "            <tr>\n",
       "                        <th id=\"T_b5494f60_a2d2_11e9_a9a4_419a49d29e61level0_row2\" class=\"row_heading level0 row2\" >Private (Stiftungen, Vereine, etc.)</th>\n",
       "                        <td id=\"T_b5494f60_a2d2_11e9_a9a4_419a49d29e61row2_col0\" class=\"data row2 col0\" >15.23%</td>\n",
       "                        <td id=\"T_b5494f60_a2d2_11e9_a9a4_419a49d29e61row2_col1\" class=\"data row2 col1\" >6. Platz</td>\n",
       "                        <td id=\"T_b5494f60_a2d2_11e9_a9a4_419a49d29e61row2_col2\" class=\"data row2 col2\" >1,959,377 €</td>\n",
       "                        <td id=\"T_b5494f60_a2d2_11e9_a9a4_419a49d29e61row2_col3\" class=\"data row2 col3\" >Medizinische Universität Wien (9.1 Mio. €)</td>\n",
       "                        <td id=\"T_b5494f60_a2d2_11e9_a9a4_419a49d29e61row2_col4\" class=\"data row2 col4\" >Medizinische Universität Wien, Veterinärmedizinische Universität Wien, Universität für Bodenkultur Wien, Universität Wien, Universität Innsbruck</td>\n",
       "            </tr>\n",
       "            <tr>\n",
       "                        <th id=\"T_b5494f60_a2d2_11e9_a9a4_419a49d29e61level0_row3\" class=\"row_heading level0 row3\" >FWF</th>\n",
       "                        <td id=\"T_b5494f60_a2d2_11e9_a9a4_419a49d29e61row3_col0\" class=\"data row3 col0\" >11.28%</td>\n",
       "                        <td id=\"T_b5494f60_a2d2_11e9_a9a4_419a49d29e61row3_col1\" class=\"data row3 col1\" >13. Platz</td>\n",
       "                        <td id=\"T_b5494f60_a2d2_11e9_a9a4_419a49d29e61row3_col2\" class=\"data row3 col2\" >1,450,782 €</td>\n",
       "                        <td id=\"T_b5494f60_a2d2_11e9_a9a4_419a49d29e61row3_col3\" class=\"data row3 col3\" >Universität Wien (41.1 Mio. €)</td>\n",
       "                        <td id=\"T_b5494f60_a2d2_11e9_a9a4_419a49d29e61row3_col4\" class=\"data row3 col4\" >Universität Wien, Technische Universität Wien, Medizinische Universität Wien, Universität Innsbruck, Universität Graz, Medizinische Universität Innsbruck, Universität für Bodenkultur Wien, Universität Linz, Universität Salzburg, Technische Universität Graz, Veterinärmedizinische Universität Wien, Medizinische Universität Graz</td>\n",
       "            </tr>\n",
       "    </tbody></table>"
      ],
      "text/plain": [
       "<pandas.io.formats.style.Styler at 0x7fe69c089e80>"
      ]
     },
     "metadata": {},
     "output_type": "display_data"
    },
    {
     "data": {
      "text/html": [
       "<h4>Ähnliche Universitäten aufgrund der Drittmittel-Struktur</h3>"
      ],
      "text/plain": [
       "<IPython.core.display.HTML object>"
      ]
     },
     "metadata": {},
     "output_type": "display_data"
    },
    {
     "data": {
      "text/html": [
       "<p><strong>Medizinische Universität Wien</strong> (65.6%, wegen &auml;hnlicher Relevanz von sonstige, FWF, Unternehmen), <strong>Universität für Bodenkultur Wien</strong> (63.2%, wegen &auml;hnlicher Relevanz von EU, FWF, Unternehmen), <strong>Universität Klagenfurt</strong> (61.1%, wegen &auml;hnlicher Relevanz von EU, FWF, Unternehmen), <strong>Universität Innsbruck</strong> (59.0%, wegen &auml;hnlicher Relevanz von EU, FWF, Unternehmen)</p>"
      ],
      "text/plain": [
       "<IPython.core.display.HTML object>"
      ]
     },
     "metadata": {},
     "output_type": "display_data"
    },
    {
     "data": {
      "text/html": [
       "<h3>Medizinische Universität Wien</h3>"
      ],
      "text/plain": [
       "<IPython.core.display.HTML object>"
      ]
     },
     "metadata": {},
     "output_type": "display_data"
    },
    {
     "data": {
      "text/html": [
       "<h4>Drittmittel-Struktur</h4>"
      ],
      "text/plain": [
       "<IPython.core.display.HTML object>"
      ]
     },
     "metadata": {},
     "output_type": "display_data"
    },
    {
     "data": {
      "text/html": [
       "<style  type=\"text/css\" >\n",
       "    #T_b5508212_a2d2_11e9_a9a4_419a49d29e61row0_col0 {\n",
       "            background-color:  lightgreen;\n",
       "        }    #T_b5508212_a2d2_11e9_a9a4_419a49d29e61row0_col1 {\n",
       "            background-color:  lightgreen;\n",
       "        }    #T_b5508212_a2d2_11e9_a9a4_419a49d29e61row0_col2 {\n",
       "            background-color:  lightgreen;\n",
       "        }    #T_b5508212_a2d2_11e9_a9a4_419a49d29e61row0_col3 {\n",
       "            background-color:  lightgreen;\n",
       "        }    #T_b5508212_a2d2_11e9_a9a4_419a49d29e61row0_col4 {\n",
       "            background-color:  lightgreen;\n",
       "        }    #T_b5508212_a2d2_11e9_a9a4_419a49d29e61row1_col0 {\n",
       "            background-color:  white;\n",
       "        }    #T_b5508212_a2d2_11e9_a9a4_419a49d29e61row1_col1 {\n",
       "            background-color:  white;\n",
       "        }    #T_b5508212_a2d2_11e9_a9a4_419a49d29e61row1_col2 {\n",
       "            background-color:  white;\n",
       "        }    #T_b5508212_a2d2_11e9_a9a4_419a49d29e61row1_col3 {\n",
       "            background-color:  white;\n",
       "        }    #T_b5508212_a2d2_11e9_a9a4_419a49d29e61row1_col4 {\n",
       "            background-color:  white;\n",
       "        }</style><table id=\"T_b5508212_a2d2_11e9_a9a4_419a49d29e61\" ><thead>    <tr>        <th class=\"blank level0\" ></th>        <th class=\"col_heading level0 col0\" >Intern</th>        <th class=\"col_heading level0 col1\" >Ranking</th>        <th class=\"col_heading level0 col2\" >Erlöse</th>        <th class=\"col_heading level0 col3\" >Beste Universität</th>        <th class=\"col_heading level0 col4\" >Bessere Universitäten</th>    </tr>    <tr>        <th class=\"index_name level0\" >WZW</th>        <th class=\"blank\" ></th>        <th class=\"blank\" ></th>        <th class=\"blank\" ></th>        <th class=\"blank\" ></th>        <th class=\"blank\" ></th>    </tr></thead><tbody>\n",
       "                <tr>\n",
       "                        <th id=\"T_b5508212_a2d2_11e9_a9a4_419a49d29e61level0_row0\" class=\"row_heading level0 row0\" >sonstige</th>\n",
       "                        <td id=\"T_b5508212_a2d2_11e9_a9a4_419a49d29e61row0_col0\" class=\"data row0 col0\" >33.55%</td>\n",
       "                        <td id=\"T_b5508212_a2d2_11e9_a9a4_419a49d29e61row0_col1\" class=\"data row0 col1\" >1. Platz</td>\n",
       "                        <td id=\"T_b5508212_a2d2_11e9_a9a4_419a49d29e61row0_col2\" class=\"data row0 col2\" >33,211,761 €</td>\n",
       "                        <td id=\"T_b5508212_a2d2_11e9_a9a4_419a49d29e61row0_col3\" class=\"data row0 col3\" >(diese)</td>\n",
       "                        <td id=\"T_b5508212_a2d2_11e9_a9a4_419a49d29e61row0_col4\" class=\"data row0 col4\" >(keine)</td>\n",
       "            </tr>\n",
       "            <tr>\n",
       "                        <th id=\"T_b5508212_a2d2_11e9_a9a4_419a49d29e61level0_row1\" class=\"row_heading level0 row1\" >Unternehmen</th>\n",
       "                        <td id=\"T_b5508212_a2d2_11e9_a9a4_419a49d29e61row1_col0\" class=\"data row1 col0\" >21.68%</td>\n",
       "                        <td id=\"T_b5508212_a2d2_11e9_a9a4_419a49d29e61row1_col1\" class=\"data row1 col1\" >4. Platz</td>\n",
       "                        <td id=\"T_b5508212_a2d2_11e9_a9a4_419a49d29e61row1_col2\" class=\"data row1 col2\" >21,467,168 €</td>\n",
       "                        <td id=\"T_b5508212_a2d2_11e9_a9a4_419a49d29e61row1_col3\" class=\"data row1 col3\" >Medizinische Universität Graz (32.4 Mio. €)</td>\n",
       "                        <td id=\"T_b5508212_a2d2_11e9_a9a4_419a49d29e61row1_col4\" class=\"data row1 col4\" >Medizinische Universität Graz, Technische Universität Graz, Technische Universität Wien</td>\n",
       "            </tr>\n",
       "    </tbody></table>"
      ],
      "text/plain": [
       "<pandas.io.formats.style.Styler at 0x7fe69c067b00>"
      ]
     },
     "metadata": {},
     "output_type": "display_data"
    },
    {
     "data": {
      "text/html": [
       "<h4>Ähnliche Universitäten aufgrund der Drittmittel-Struktur</h3>"
      ],
      "text/plain": [
       "<IPython.core.display.HTML object>"
      ]
     },
     "metadata": {},
     "output_type": "display_data"
    },
    {
     "data": {
      "text/html": [
       "<p><strong>Wirtschaftsuniversität Wien</strong> (65.6%, wegen &auml;hnlicher Relevanz von sonstige, FWF, Unternehmen), <strong>Universität für Bodenkultur Wien</strong> (63.9%, wegen &auml;hnlicher Relevanz von Unternehmen, FWF, Private (Stiftungen, Vereine, etc.)), <strong>Universität Klagenfurt</strong> (62.2%, wegen &auml;hnlicher Relevanz von Unternehmen, FWF, EU), <strong>Medizinische Universität Innsbruck</strong> (58.6%, wegen &auml;hnlicher Relevanz von Unternehmen, FWF, EU)</p>"
      ],
      "text/plain": [
       "<IPython.core.display.HTML object>"
      ]
     },
     "metadata": {},
     "output_type": "display_data"
    },
    {
     "data": {
      "text/html": [
       "<h3>Akademie der bildenden Künste Wien</h3>"
      ],
      "text/plain": [
       "<IPython.core.display.HTML object>"
      ]
     },
     "metadata": {},
     "output_type": "display_data"
    },
    {
     "data": {
      "text/html": [
       "<h4>Drittmittel-Struktur</h4>"
      ],
      "text/plain": [
       "<IPython.core.display.HTML object>"
      ]
     },
     "metadata": {},
     "output_type": "display_data"
    },
    {
     "data": {
      "text/html": [
       "<style  type=\"text/css\" >\n",
       "    #T_b55789cc_a2d2_11e9_a9a4_419a49d29e61row0_col0 {\n",
       "            background-color:  white;\n",
       "        }    #T_b55789cc_a2d2_11e9_a9a4_419a49d29e61row0_col1 {\n",
       "            background-color:  white;\n",
       "        }    #T_b55789cc_a2d2_11e9_a9a4_419a49d29e61row0_col2 {\n",
       "            background-color:  white;\n",
       "        }    #T_b55789cc_a2d2_11e9_a9a4_419a49d29e61row0_col3 {\n",
       "            background-color:  white;\n",
       "        }    #T_b55789cc_a2d2_11e9_a9a4_419a49d29e61row0_col4 {\n",
       "            background-color:  white;\n",
       "        }    #T_b55789cc_a2d2_11e9_a9a4_419a49d29e61row1_col0 {\n",
       "            background-color:  white;\n",
       "        }    #T_b55789cc_a2d2_11e9_a9a4_419a49d29e61row1_col1 {\n",
       "            background-color:  white;\n",
       "        }    #T_b55789cc_a2d2_11e9_a9a4_419a49d29e61row1_col2 {\n",
       "            background-color:  white;\n",
       "        }    #T_b55789cc_a2d2_11e9_a9a4_419a49d29e61row1_col3 {\n",
       "            background-color:  white;\n",
       "        }    #T_b55789cc_a2d2_11e9_a9a4_419a49d29e61row1_col4 {\n",
       "            background-color:  white;\n",
       "        }</style><table id=\"T_b55789cc_a2d2_11e9_a9a4_419a49d29e61\" ><thead>    <tr>        <th class=\"blank level0\" ></th>        <th class=\"col_heading level0 col0\" >Intern</th>        <th class=\"col_heading level0 col1\" >Ranking</th>        <th class=\"col_heading level0 col2\" >Erlöse</th>        <th class=\"col_heading level0 col3\" >Beste Universität</th>        <th class=\"col_heading level0 col4\" >Bessere Universitäten</th>    </tr>    <tr>        <th class=\"index_name level0\" >WZW</th>        <th class=\"blank\" ></th>        <th class=\"blank\" ></th>        <th class=\"blank\" ></th>        <th class=\"blank\" ></th>        <th class=\"blank\" ></th>    </tr></thead><tbody>\n",
       "                <tr>\n",
       "                        <th id=\"T_b55789cc_a2d2_11e9_a9a4_419a49d29e61level0_row0\" class=\"row_heading level0 row0\" >FWF</th>\n",
       "                        <td id=\"T_b55789cc_a2d2_11e9_a9a4_419a49d29e61row0_col0\" class=\"data row0 col0\" >44.60%</td>\n",
       "                        <td id=\"T_b55789cc_a2d2_11e9_a9a4_419a49d29e61row0_col1\" class=\"data row0 col1\" >17. Platz</td>\n",
       "                        <td id=\"T_b55789cc_a2d2_11e9_a9a4_419a49d29e61row0_col2\" class=\"data row0 col2\" >724,207 €</td>\n",
       "                        <td id=\"T_b55789cc_a2d2_11e9_a9a4_419a49d29e61row0_col3\" class=\"data row0 col3\" >Universität Wien (41.1 Mio. €)</td>\n",
       "                        <td id=\"T_b55789cc_a2d2_11e9_a9a4_419a49d29e61row0_col4\" class=\"data row0 col4\" >Universität Wien, Technische Universität Wien, Medizinische Universität Wien, Universität Innsbruck, Universität Graz, Medizinische Universität Innsbruck, Universität für Bodenkultur Wien, Universität Linz, Universität Salzburg, Technische Universität Graz, Veterinärmedizinische Universität Wien, Medizinische Universität Graz, Wirtschaftsuniversität Wien, Universität Klagenfurt, Montanuniversität Leoben, Universität für angewandte Kunst Wien</td>\n",
       "            </tr>\n",
       "            <tr>\n",
       "                        <th id=\"T_b55789cc_a2d2_11e9_a9a4_419a49d29e61level0_row1\" class=\"row_heading level0 row1\" >sonstige öffentlich-rechtliche Einrichtungen (Körperschaften, Stiftungen, Fonds etc.)</th>\n",
       "                        <td id=\"T_b55789cc_a2d2_11e9_a9a4_419a49d29e61row1_col0\" class=\"data row1 col0\" >14.63%</td>\n",
       "                        <td id=\"T_b55789cc_a2d2_11e9_a9a4_419a49d29e61row1_col1\" class=\"data row1 col1\" >17. Platz</td>\n",
       "                        <td id=\"T_b55789cc_a2d2_11e9_a9a4_419a49d29e61row1_col2\" class=\"data row1 col2\" >237,590 €</td>\n",
       "                        <td id=\"T_b55789cc_a2d2_11e9_a9a4_419a49d29e61row1_col3\" class=\"data row1 col3\" >Technische Universität Graz (11.9 Mio. €)</td>\n",
       "                        <td id=\"T_b55789cc_a2d2_11e9_a9a4_419a49d29e61row1_col4\" class=\"data row1 col4\" >Technische Universität Graz, Technische Universität Wien, Universität Innsbruck, Universität Linz, Montanuniversität Leoben, Universität für Bodenkultur Wien, Medizinische Universität Innsbruck, Universität Wien, Universität Salzburg, Universität Graz, Veterinärmedizinische Universität Wien, Wirtschaftsuniversität Wien, Medizinische Universität Wien, Medizinische Universität Graz, Universität Klagenfurt, Universität für Weiterbildung Krems</td>\n",
       "            </tr>\n",
       "    </tbody></table>"
      ],
      "text/plain": [
       "<pandas.io.formats.style.Styler at 0x7fe69c137780>"
      ]
     },
     "metadata": {},
     "output_type": "display_data"
    },
    {
     "data": {
      "text/html": [
       "<h4>Ähnliche Universitäten aufgrund der Drittmittel-Struktur</h3>"
      ],
      "text/plain": [
       "<IPython.core.display.HTML object>"
      ]
     },
     "metadata": {},
     "output_type": "display_data"
    },
    {
     "data": {
      "text/html": [
       "<p><strong>Universität für angewandte Kunst Wien</strong> (68.3%, wegen &auml;hnlicher Relevanz von FWF, Private (Stiftungen, Vereine, etc.), sonstige), <strong>Universität Wien</strong> (67.4%, wegen &auml;hnlicher Relevanz von FWF, sonstige, Private (Stiftungen, Vereine, etc.)), <strong>Universität Graz</strong> (63.1%, wegen &auml;hnlicher Relevanz von FWF, sonstige öffentlich-rechtliche Einrichtungen (Körperschaften, Stiftungen, Fonds etc.), sonstige), <strong>Universität Salzburg</strong> (62.8%, wegen &auml;hnlicher Relevanz von FWF, sonstige öffentlich-rechtliche Einrichtungen (Körperschaften, Stiftungen, Fonds etc.), sonstige)</p>"
      ],
      "text/plain": [
       "<IPython.core.display.HTML object>"
      ]
     },
     "metadata": {},
     "output_type": "display_data"
    }
   ],
   "source": [
    "from pandas import Series \n",
    "import pandas as pd \n",
    "import numpy as np\n",
    "from IPython.display import HTML\n",
    "\n",
    "#data = pd.read_csv('1.C.1.csv', sep=';', index_col=[0, 1, 2, 3])\n",
    "#data.sort_index(inplace=True)\n",
    "\n",
    "#idx = pd.IndexSlice\n",
    "#tmp = data.loc[idx[:, 'Psychologie', :, 2018], :]\n",
    "\n",
    "#print(tmp.index.get_level_values('university').unique())\n",
    "#display(data.loc['FWF'].xs(2018, level='year'))\n",
    "#display(data.xs(2018, level='year'))\n",
    "\n",
    "class Dimension:\n",
    "    @classmethod\n",
    "    def create(cls, dataframe, dimensions):\n",
    "        dims = dict()\n",
    "        for dim in dimensions:\n",
    "            assert dim in dataframe.index.names, \"There is no index '\" + dim + \"'\"\n",
    "            cats = dataframe.index.get_level_values(dim).unique()\n",
    "            dims[dim] = Dimension(dim, cats.values)\n",
    "        return dims\n",
    "    \n",
    "    def __init__(self, name, categories):\n",
    "        self.__name = name\n",
    "        self.__categories = categories   \n",
    "    @property\n",
    "    def name (self):\n",
    "        return self.__name\n",
    "    @property\n",
    "    def categories(self):\n",
    "        return self.__categories  \n",
    "    def __str__(self):\n",
    "        return self.name\n",
    "        \n",
    "class Datasheet:\n",
    "    def __init__(self, filename, dimensions, timepoint_name, university_name, value_name):\n",
    "        dataframe = pd.read_csv(filename, sep=';', index_col=list(range(len(dimensions)+2)))        \n",
    "        dataframe.columns = [value_name]\n",
    "        dataframe.sort_index(inplace=True)\n",
    "\n",
    "        assert timepoint_name in dataframe.index.names, \"There is no index '\" + timepoint_name + \"'\"\n",
    "        assert university_name in dataframe.index.names, \"There is no index '\" + university_name + \"'\"\n",
    "        assert value_name in dataframe, \"There is no colum with valid data called '\" + value_name + \"'\"\n",
    "        \n",
    "        self.__dataframe = dataframe\n",
    "        self.__timepoint_idx = timepoint_name\n",
    "        self.__university_idx = university_name\n",
    "        self.__value_column = value_name       \n",
    "        self.__dimensions = Dimension.create(dataframe, dimensions + [university_name, timepoint_name])\n",
    "        self.__timepoints = dataframe.index.get_level_values(timepoint_name).unique()\n",
    "        self.__universities = dataframe.index.get_level_values(university_name).unique()\n",
    "        self.__recent_timepoint = self.__timepoints.max()\n",
    "                \n",
    "    @property\n",
    "    def value_column(self):\n",
    "        return self.__value_column\n",
    "    @property\n",
    "    def university_idx(self):\n",
    "        return self.__university_idx\n",
    "    @property\n",
    "    def timepoint_idx(self):\n",
    "        return self.__timepoint_idx\n",
    "    @property\n",
    "    def dimensions(self):\n",
    "        return self.__dimensions\n",
    "    @property\n",
    "    def most_recent(self):\n",
    "        return self.__recent_timepoint\n",
    "    @property\n",
    "    def universities(self):\n",
    "        return self.__universities\n",
    "    \n",
    "    def only(self, conditions):\n",
    "        df = self.__dataframe\n",
    "        if conditions is None:\n",
    "            return df\n",
    "        slices = list()\n",
    "        for dim in self.dimensions.keys():\n",
    "            if self.dimensions[dim].name in conditions.keys():\n",
    "                slices.append(conditions[self.dimensions[dim].name])\n",
    "            else:\n",
    "                slices.append(slice(None))\n",
    "        return df.loc[tuple(slices), :]\n",
    "        \n",
    "    def analyze(self, description, about, filtering=None):\n",
    "        return Analysis(self, description, self.dimensions[about], self.only(filtering) \\\n",
    "                            .sum(level = [self.dimensions[about].name, self.university_idx]))\n",
    "\n",
    "\n",
    "class Analysis:\n",
    "    def __init__(self, sheet, description, about, table):\n",
    "        self.__sheet = sheet\n",
    "        self.__table = table.unstack(about.name, fill_value=0)\n",
    "        self.__about = about\n",
    "        self.__desc = description\n",
    "        \n",
    "        self.__sums = table.sum(axis='columns')\n",
    "        self.__sums.name = sheet.value_column\n",
    "        self.__totals = table.sum(level=[about.name])[sheet.value_column]\n",
    "        self.__grand_total = table.sum()\n",
    "        self.__grand_total.name = 'grand total'\n",
    "        \n",
    "        assert self.__grand_total[sheet.value_column] == self.__sums.sum()\n",
    "        \n",
    "        self.__structure = Structure(self)\n",
    "        self.__ranking = Ranking(self)\n",
    "\n",
    "               \n",
    "    @property\n",
    "    def sheet(self):\n",
    "        return self.__sheet\n",
    "    @property\n",
    "    def table(self):\n",
    "        return self.__table\n",
    "    @property\n",
    "    def horizontal_sums(self):\n",
    "        return self.__sums\n",
    "    @property\n",
    "    def sums(self):\n",
    "        return self.horizontal_sums\n",
    "    @property\n",
    "    def vertical_sums(self):\n",
    "        return self.__totals\n",
    "    @property\n",
    "    def totals(self):\n",
    "        return self.vertical_sums\n",
    "    @property\n",
    "    def about(self):\n",
    "        return self.__about\n",
    "    @property\n",
    "    def description(self):\n",
    "        return self.__desc\n",
    "    @property\n",
    "    def grand_total(self):\n",
    "        return self.__grand_total\n",
    "    @property\n",
    "    def structure(self):\n",
    "        return self.__structure\n",
    "    @property\n",
    "    def ranking(self):\n",
    "        return self.__ranking\n",
    "    \n",
    "    def values(self, university):\n",
    "        tmp = self.table.loc[university]\n",
    "        tmp.name = self.sheet.value_column\n",
    "        return tmp\n",
    "\n",
    "    \n",
    "    \n",
    "class Ranking:\n",
    "    def __init__(self, analysis):\n",
    "        self.__analysis = analysis\n",
    "        self.__rankings = analysis.table.rank(axis='rows', method='max', ascending=False)\n",
    "        \n",
    "        tmp = analysis.horizontal_sums.sum(level=self.analysis.sheet.university_idx)\n",
    "        self.__total_ranking = tmp.rank(method='max', ascending=False).sort_values()\n",
    "        self.__total_ranking.name = 'rank'\n",
    "        \n",
    "    @property\n",
    "    def analysis(self):\n",
    "        return self.__analysis\n",
    "    @property\n",
    "    def table(self):\n",
    "        return self.__rankings\n",
    "    \n",
    "    def of(self, university, category=None):\n",
    "        categories = self.__analysis.about.categories\n",
    "        retval = None\n",
    "        if category == None:\n",
    "            retval = self.__total_ranking.loc[university]\n",
    "        else:\n",
    "            if category in categories:\n",
    "                retval = self.__rankings[self.analysis.sheet.value_column, category][university]\n",
    "            else:\n",
    "                retval = self.__rankings.loc[university].astype(int)\n",
    "        retval.name = 'ranking'\n",
    "        return retval\n",
    "\n",
    "    def better_than(self, university, category=None):\n",
    "        if category == None:\n",
    "            return self.__total_ranking[self.__total_ranking < self.__total_ranking[university]]\n",
    "        else:\n",
    "            tmp = self.__rankings[self.analysis.sheet.value_column, category].sort_values()\n",
    "            return tmp[tmp[university] > tmp]\n",
    "        \n",
    "    def best(self, category):\n",
    "        tmp = self.__rankings[self.analysis.sheet.value_column, category].sort_values()[0:1]\n",
    "        return tmp\n",
    "       \n",
    "        \n",
    "            \n",
    "\n",
    "class Structure:\n",
    "    def __init__(self, analysis):\n",
    "        self.__analysis = analysis\n",
    "        tmp = analysis.sums.sum(level=[analysis.sheet.university_idx])\n",
    "        self.__table = analysis.table.divide(tmp, axis=0).droplevel(level=0, axis='columns')\n",
    "        self.__table.name = analysis.sheet.value_column    \n",
    "        \n",
    "    @property\n",
    "    def table(self):\n",
    "        return self.__table\n",
    "    @property\n",
    "    def analysis(self):\n",
    "        return self.__analysis\n",
    "    \n",
    "    def most_important_to(self, university, cutoff=0.9):\n",
    "        u = self.table.loc[university].sort_values(ascending=False)\n",
    "        u.name = 'relevance'\n",
    "        cumsum = u.cumsum()\n",
    "        if cumsum.iloc[0] > cutoff:\n",
    "            return u[0:1]\n",
    "        else:\n",
    "            return u[u.cumsum() < cutoff]\n",
    "\n",
    "    def of(self, university):\n",
    "        tmp = self.table.loc[university].sort_values(ascending=False)\n",
    "        tmp.name = 'relevance'\n",
    "        return tmp\n",
    "    \n",
    "    def similarities_to(self, university, cutoff=0.9):\n",
    "        mirror = self.table.swapaxes('columns', 'rows', copy=False)\n",
    "        uni = mirror[university]\n",
    "        tmp = pd.DataFrame(data=uni.values).reindex_like(mirror)\n",
    "        tmp.loc[:, :] = uni[:, None]\n",
    "        return mirror.combine(tmp, np.minimum)\n",
    "        \n",
    "    def most_similar_to(self, university, cutoff):\n",
    "        m = self.similarities_to(university)\n",
    "        result = m.sum(axis='rows')\n",
    "        result = result.sort_values(ascending=False)[1:]\n",
    "        result.name = 'similarity'\n",
    "        return result\n",
    "        \n",
    "        \n",
    "def highlight_places(column, series):\n",
    "    if series[column] == 1:\n",
    "        return ['background-color: lightgreen']*5\n",
    "    elif series[column] == 2:\n",
    "        return ['background-color: yellow']*5\n",
    "    else:\n",
    "        return ['background-color: white']*5\n",
    "            \n",
    "class University:\n",
    "    def __init__(self, name):\n",
    "        self.__name = name\n",
    "        self.__analyses = list()\n",
    "        \n",
    "    @property\n",
    "    def name(self):\n",
    "        return self.__name\n",
    "    \n",
    "    def add_analysis(self, analysis):\n",
    "        self.__analyses.append(analysis)\n",
    "        \n",
    "    def describe(self):\n",
    "        display(HTML(\"<h3>\" + self.name + \"</h3>\"))\n",
    "        for a in self.__analyses:\n",
    "            display(HTML(\"<h4>\" + a.description + \"-Struktur</h4>\"))\n",
    "            df = a.structure.most_important_to(self.name, 2/3)\n",
    "            identity = df\n",
    "            df = df[df > 0] \\\n",
    "                .dropna()   \\\n",
    "                .to_frame()\n",
    "\n",
    "            df = df.join(a.ranking.of(self.name, 'all')) \\\n",
    "                   .join(a.values(self.name))\n",
    "            \n",
    "            best = pd.Series()\n",
    "            better = pd.Series()\n",
    "            best.name = 'best'\n",
    "            better.name = 'better'\n",
    "            for cat in df.index.get_level_values(level=a.about.name):\n",
    "                best_uni = a.ranking.best(cat).index.values[0]\n",
    "                if best_uni == self.name:\n",
    "                    best_uni = '(diese)'\n",
    "                else: \n",
    "                    best_uni += ' (' + '{0:,.1f} Mio. €'.format(a.values(best_uni)[a.sheet.value_column, cat]/1000000) + ')'\n",
    "                    \n",
    "                better_unis = ', '.join(a.ranking.better_than(self.name, cat).index.values)\n",
    "                if better_unis == '':\n",
    "                    better_unis = '(keine)'\n",
    "                    \n",
    "                best.at[cat] = best_uni\n",
    "                better.at[cat] = better_unis\n",
    "                \n",
    "            df = df.join(best, on=a.about.name).join(better, on=a.about.name)\n",
    "            df = df.droplevel(0)\n",
    "            \n",
    "            df.index.name = 'WZW'\n",
    "            df.columns = ['Intern', 'Ranking', 'Erlöse', 'Beste Universität', 'Bessere Universitäten']\n",
    "            df = df.sort_values('Intern', ascending=False)\n",
    "            \n",
    "            style = df.style.format({'Intern': '{:.2%}', 'Ranking': '{:}. Platz',\n",
    "                                     'Erlöse': '{:,} €'})\n",
    "                        \n",
    "            style = style.apply(lambda s: highlight_places('Ranking', s), axis=1)\n",
    "            display(style)\n",
    "            \n",
    "            display(HTML('<h4>Ähnliche Universitäten aufgrund der ' + a.description + '-Struktur</h3>'))\n",
    "            similars = a.structure.most_similar_to(self.name, 2/3)\n",
    "            sim_strs = list()\n",
    "            sm = a.structure.similarities_to(self.name)\n",
    "            for i in range(4):\n",
    "                other = similars.index.values[i]\n",
    "                sim_str = '<strong>' + other +  '</strong> (' + '{:.1%}'.format(similars[i]) + ', wegen &auml;hnlicher Relevanz von '\n",
    "                similarities = sm[other].sort_values(ascending=False)\n",
    "                sim_str += ', '.join(similarities.head(3).index.values)\n",
    "                sim_str += ')'\n",
    "                sim_strs.append(sim_str)\n",
    "                \n",
    "            display(HTML('<p>' + ', '.join(sim_strs) + '</p>'))\n",
    "            \n",
    "                \n",
    "\n",
    "ds = Datasheet('1.C.1.csv', ['funder', 'fos'], 'year', 'university', 'funding')\n",
    "analysis = ds.analyze(\"Drittmittel\", \"funder\", {'year': ds.most_recent})\n",
    "\n",
    "universities = list()\n",
    "\n",
    "for uni_name in ds.universities:\n",
    "    u = University(uni_name)\n",
    "    u.add_analysis(analysis)\n",
    "    universities.append(u)\n",
    "    \n",
    "for u in universities:\n",
    "    u.describe()\n",
    "    "
   ]
  },
  {
   "cell_type": "code",
   "execution_count": null,
   "metadata": {},
   "outputs": [],
   "source": [
    "\n",
    "\n",
    "\n",
    "\n",
    "\n",
    "\n",
    "\n",
    "\n",
    "\n",
    "\n",
    "\n",
    "\n",
    "\n"
   ]
  }
 ],
 "metadata": {
  "kernelspec": {
   "display_name": "Python 3",
   "language": "python",
   "name": "python3"
  },
  "language_info": {
   "codemirror_mode": {
    "name": "ipython",
    "version": 3
   },
   "file_extension": ".py",
   "mimetype": "text/x-python",
   "name": "python",
   "nbconvert_exporter": "python",
   "pygments_lexer": "ipython3",
   "version": "3.7.3"
  }
 },
 "nbformat": 4,
 "nbformat_minor": 2
}
