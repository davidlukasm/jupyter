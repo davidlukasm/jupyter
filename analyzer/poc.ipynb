{
 "cells": [
  {
   "cell_type": "code",
   "execution_count": 130,
   "metadata": {
    "scrolled": false
   },
   "outputs": [
    {
     "data": {
      "text/html": [
       "<h3>Universität für Bodenkultur Wien</h3>"
      ],
      "text/plain": [
       "<IPython.core.display.HTML object>"
      ]
     },
     "metadata": {},
     "output_type": "display_data"
    },
    {
     "data": {
      "text/html": [
       "<h4>Drittmittel-Struktur</h4>"
      ],
      "text/plain": [
       "<IPython.core.display.HTML object>"
      ]
     },
     "metadata": {},
     "output_type": "display_data"
    },
    {
     "data": {
      "text/html": [
       "Angezeigt werden die gr&ouml;&szlig;ten WZW, die insgesamt mehr als 66.7% der Erl&ouml;se an der Universität für Bodenkultur Wien ausmachen (exakt: 67.0%). Jeder andere WZW tr&auml;gt weniger als 3.7% bei. Die Spalte \"Ranking\" bezieht sich  auf den &ouml;sterreichweiten Vergleich der absoluten Werte im jeweiligen WZW."
      ],
      "text/plain": [
       "<IPython.core.display.HTML object>"
      ]
     },
     "metadata": {},
     "output_type": "display_data"
    },
    {
     "data": {
      "text/html": [
       "<style  type=\"text/css\" >\n",
       "    #T_8acd54c2_a2d5_11e9_a9a4_419a49d29e61row0_col0 {\n",
       "            background-color:  yellow;\n",
       "        }    #T_8acd54c2_a2d5_11e9_a9a4_419a49d29e61row0_col1 {\n",
       "            background-color:  yellow;\n",
       "        }    #T_8acd54c2_a2d5_11e9_a9a4_419a49d29e61row0_col2 {\n",
       "            background-color:  yellow;\n",
       "        }    #T_8acd54c2_a2d5_11e9_a9a4_419a49d29e61row0_col3 {\n",
       "            background-color:  yellow;\n",
       "        }    #T_8acd54c2_a2d5_11e9_a9a4_419a49d29e61row0_col4 {\n",
       "            background-color:  yellow;\n",
       "        }    #T_8acd54c2_a2d5_11e9_a9a4_419a49d29e61row1_col0 {\n",
       "            background-color:  lightgreen;\n",
       "        }    #T_8acd54c2_a2d5_11e9_a9a4_419a49d29e61row1_col1 {\n",
       "            background-color:  lightgreen;\n",
       "        }    #T_8acd54c2_a2d5_11e9_a9a4_419a49d29e61row1_col2 {\n",
       "            background-color:  lightgreen;\n",
       "        }    #T_8acd54c2_a2d5_11e9_a9a4_419a49d29e61row1_col3 {\n",
       "            background-color:  lightgreen;\n",
       "        }    #T_8acd54c2_a2d5_11e9_a9a4_419a49d29e61row1_col4 {\n",
       "            background-color:  lightgreen;\n",
       "        }    #T_8acd54c2_a2d5_11e9_a9a4_419a49d29e61row2_col0 {\n",
       "            background-color:  white;\n",
       "        }    #T_8acd54c2_a2d5_11e9_a9a4_419a49d29e61row2_col1 {\n",
       "            background-color:  white;\n",
       "        }    #T_8acd54c2_a2d5_11e9_a9a4_419a49d29e61row2_col2 {\n",
       "            background-color:  white;\n",
       "        }    #T_8acd54c2_a2d5_11e9_a9a4_419a49d29e61row2_col3 {\n",
       "            background-color:  white;\n",
       "        }    #T_8acd54c2_a2d5_11e9_a9a4_419a49d29e61row2_col4 {\n",
       "            background-color:  white;\n",
       "        }    #T_8acd54c2_a2d5_11e9_a9a4_419a49d29e61row3_col0 {\n",
       "            background-color:  white;\n",
       "        }    #T_8acd54c2_a2d5_11e9_a9a4_419a49d29e61row3_col1 {\n",
       "            background-color:  white;\n",
       "        }    #T_8acd54c2_a2d5_11e9_a9a4_419a49d29e61row3_col2 {\n",
       "            background-color:  white;\n",
       "        }    #T_8acd54c2_a2d5_11e9_a9a4_419a49d29e61row3_col3 {\n",
       "            background-color:  white;\n",
       "        }    #T_8acd54c2_a2d5_11e9_a9a4_419a49d29e61row3_col4 {\n",
       "            background-color:  white;\n",
       "        }    #T_8acd54c2_a2d5_11e9_a9a4_419a49d29e61row4_col0 {\n",
       "            background-color:  yellow;\n",
       "        }    #T_8acd54c2_a2d5_11e9_a9a4_419a49d29e61row4_col1 {\n",
       "            background-color:  yellow;\n",
       "        }    #T_8acd54c2_a2d5_11e9_a9a4_419a49d29e61row4_col2 {\n",
       "            background-color:  yellow;\n",
       "        }    #T_8acd54c2_a2d5_11e9_a9a4_419a49d29e61row4_col3 {\n",
       "            background-color:  yellow;\n",
       "        }    #T_8acd54c2_a2d5_11e9_a9a4_419a49d29e61row4_col4 {\n",
       "            background-color:  yellow;\n",
       "        }    #T_8acd54c2_a2d5_11e9_a9a4_419a49d29e61row5_col0 {\n",
       "            background-color:  white;\n",
       "        }    #T_8acd54c2_a2d5_11e9_a9a4_419a49d29e61row5_col1 {\n",
       "            background-color:  white;\n",
       "        }    #T_8acd54c2_a2d5_11e9_a9a4_419a49d29e61row5_col2 {\n",
       "            background-color:  white;\n",
       "        }    #T_8acd54c2_a2d5_11e9_a9a4_419a49d29e61row5_col3 {\n",
       "            background-color:  white;\n",
       "        }    #T_8acd54c2_a2d5_11e9_a9a4_419a49d29e61row5_col4 {\n",
       "            background-color:  white;\n",
       "        }    #T_8acd54c2_a2d5_11e9_a9a4_419a49d29e61row6_col0 {\n",
       "            background-color:  white;\n",
       "        }    #T_8acd54c2_a2d5_11e9_a9a4_419a49d29e61row6_col1 {\n",
       "            background-color:  white;\n",
       "        }    #T_8acd54c2_a2d5_11e9_a9a4_419a49d29e61row6_col2 {\n",
       "            background-color:  white;\n",
       "        }    #T_8acd54c2_a2d5_11e9_a9a4_419a49d29e61row6_col3 {\n",
       "            background-color:  white;\n",
       "        }    #T_8acd54c2_a2d5_11e9_a9a4_419a49d29e61row6_col4 {\n",
       "            background-color:  white;\n",
       "        }    #T_8acd54c2_a2d5_11e9_a9a4_419a49d29e61row7_col0 {\n",
       "            background-color:  white;\n",
       "        }    #T_8acd54c2_a2d5_11e9_a9a4_419a49d29e61row7_col1 {\n",
       "            background-color:  white;\n",
       "        }    #T_8acd54c2_a2d5_11e9_a9a4_419a49d29e61row7_col2 {\n",
       "            background-color:  white;\n",
       "        }    #T_8acd54c2_a2d5_11e9_a9a4_419a49d29e61row7_col3 {\n",
       "            background-color:  white;\n",
       "        }    #T_8acd54c2_a2d5_11e9_a9a4_419a49d29e61row7_col4 {\n",
       "            background-color:  white;\n",
       "        }    #T_8acd54c2_a2d5_11e9_a9a4_419a49d29e61row8_col0 {\n",
       "            background-color:  lightgreen;\n",
       "        }    #T_8acd54c2_a2d5_11e9_a9a4_419a49d29e61row8_col1 {\n",
       "            background-color:  lightgreen;\n",
       "        }    #T_8acd54c2_a2d5_11e9_a9a4_419a49d29e61row8_col2 {\n",
       "            background-color:  lightgreen;\n",
       "        }    #T_8acd54c2_a2d5_11e9_a9a4_419a49d29e61row8_col3 {\n",
       "            background-color:  lightgreen;\n",
       "        }    #T_8acd54c2_a2d5_11e9_a9a4_419a49d29e61row8_col4 {\n",
       "            background-color:  lightgreen;\n",
       "        }</style><table id=\"T_8acd54c2_a2d5_11e9_a9a4_419a49d29e61\" ><thead>    <tr>        <th class=\"blank level0\" ></th>        <th class=\"col_heading level0 col0\" >Intern</th>        <th class=\"col_heading level0 col1\" >Ranking</th>        <th class=\"col_heading level0 col2\" >Erlöse</th>        <th class=\"col_heading level0 col3\" >Beste Universität</th>        <th class=\"col_heading level0 col4\" >Bessere Universitäten</th>    </tr>    <tr>        <th class=\"index_name level0\" >WZW</th>        <th class=\"blank\" ></th>        <th class=\"blank\" ></th>        <th class=\"blank\" ></th>        <th class=\"blank\" ></th>        <th class=\"blank\" ></th>    </tr></thead><tbody>\n",
       "                <tr>\n",
       "                        <th id=\"T_8acd54c2_a2d5_11e9_a9a4_419a49d29e61level0_row0\" class=\"row_heading level0 row0\" >Biologie</th>\n",
       "                        <td id=\"T_8acd54c2_a2d5_11e9_a9a4_419a49d29e61row0_col0\" class=\"data row0 col0\" >18.36%</td>\n",
       "                        <td id=\"T_8acd54c2_a2d5_11e9_a9a4_419a49d29e61row0_col1\" class=\"data row0 col1\" >2. Platz</td>\n",
       "                        <td id=\"T_8acd54c2_a2d5_11e9_a9a4_419a49d29e61row0_col2\" class=\"data row0 col2\" >8,808,459 €</td>\n",
       "                        <td id=\"T_8acd54c2_a2d5_11e9_a9a4_419a49d29e61row0_col3\" class=\"data row0 col3\" >Universität Wien (17.0 Mio. €)</td>\n",
       "                        <td id=\"T_8acd54c2_a2d5_11e9_a9a4_419a49d29e61row0_col4\" class=\"data row0 col4\" >Universität Wien</td>\n",
       "            </tr>\n",
       "            <tr>\n",
       "                        <th id=\"T_8acd54c2_a2d5_11e9_a9a4_419a49d29e61level0_row1\" class=\"row_heading level0 row1\" >Land- und Forstwirtschaft, Fischerei</th>\n",
       "                        <td id=\"T_8acd54c2_a2d5_11e9_a9a4_419a49d29e61row1_col0\" class=\"data row1 col0\" >9.75%</td>\n",
       "                        <td id=\"T_8acd54c2_a2d5_11e9_a9a4_419a49d29e61row1_col1\" class=\"data row1 col1\" >1. Platz</td>\n",
       "                        <td id=\"T_8acd54c2_a2d5_11e9_a9a4_419a49d29e61row1_col2\" class=\"data row1 col2\" >4,675,750 €</td>\n",
       "                        <td id=\"T_8acd54c2_a2d5_11e9_a9a4_419a49d29e61row1_col3\" class=\"data row1 col3\" >(diese)</td>\n",
       "                        <td id=\"T_8acd54c2_a2d5_11e9_a9a4_419a49d29e61row1_col4\" class=\"data row1 col4\" >(keine)</td>\n",
       "            </tr>\n",
       "            <tr>\n",
       "                        <th id=\"T_8acd54c2_a2d5_11e9_a9a4_419a49d29e61level0_row2\" class=\"row_heading level0 row2\" >Chemie</th>\n",
       "                        <td id=\"T_8acd54c2_a2d5_11e9_a9a4_419a49d29e61row2_col0\" class=\"data row2 col0\" >8.13%</td>\n",
       "                        <td id=\"T_8acd54c2_a2d5_11e9_a9a4_419a49d29e61row2_col1\" class=\"data row2 col1\" >5. Platz</td>\n",
       "                        <td id=\"T_8acd54c2_a2d5_11e9_a9a4_419a49d29e61row2_col2\" class=\"data row2 col2\" >3,899,748 €</td>\n",
       "                        <td id=\"T_8acd54c2_a2d5_11e9_a9a4_419a49d29e61row2_col3\" class=\"data row2 col3\" >Technische Universität Graz (9.0 Mio. €)</td>\n",
       "                        <td id=\"T_8acd54c2_a2d5_11e9_a9a4_419a49d29e61row2_col4\" class=\"data row2 col4\" >Technische Universität Graz, Universität Innsbruck, Universität Wien, Technische Universität Wien</td>\n",
       "            </tr>\n",
       "            <tr>\n",
       "                        <th id=\"T_8acd54c2_a2d5_11e9_a9a4_419a49d29e61level0_row3\" class=\"row_heading level0 row3\" >Geowissenschaften</th>\n",
       "                        <td id=\"T_8acd54c2_a2d5_11e9_a9a4_419a49d29e61row3_col0\" class=\"data row3 col0\" >6.37%</td>\n",
       "                        <td id=\"T_8acd54c2_a2d5_11e9_a9a4_419a49d29e61row3_col1\" class=\"data row3 col1\" >4. Platz</td>\n",
       "                        <td id=\"T_8acd54c2_a2d5_11e9_a9a4_419a49d29e61row3_col2\" class=\"data row3 col2\" >3,053,634 €</td>\n",
       "                        <td id=\"T_8acd54c2_a2d5_11e9_a9a4_419a49d29e61row3_col3\" class=\"data row3 col3\" >Universität Salzburg (3.7 Mio. €)</td>\n",
       "                        <td id=\"T_8acd54c2_a2d5_11e9_a9a4_419a49d29e61row3_col4\" class=\"data row3 col4\" >Universität Salzburg, Universität Wien, Universität Innsbruck</td>\n",
       "            </tr>\n",
       "            <tr>\n",
       "                        <th id=\"T_8acd54c2_a2d5_11e9_a9a4_419a49d29e61level0_row4\" class=\"row_heading level0 row4\" >Andere Naturwissenschaften</th>\n",
       "                        <td id=\"T_8acd54c2_a2d5_11e9_a9a4_419a49d29e61row4_col0\" class=\"data row4 col0\" >6.33%</td>\n",
       "                        <td id=\"T_8acd54c2_a2d5_11e9_a9a4_419a49d29e61row4_col1\" class=\"data row4 col1\" >2. Platz</td>\n",
       "                        <td id=\"T_8acd54c2_a2d5_11e9_a9a4_419a49d29e61row4_col2\" class=\"data row4 col2\" >3,037,641 €</td>\n",
       "                        <td id=\"T_8acd54c2_a2d5_11e9_a9a4_419a49d29e61row4_col3\" class=\"data row4 col3\" >Technische Universität Graz (4.7 Mio. €)</td>\n",
       "                        <td id=\"T_8acd54c2_a2d5_11e9_a9a4_419a49d29e61row4_col4\" class=\"data row4 col4\" >Technische Universität Graz</td>\n",
       "            </tr>\n",
       "            <tr>\n",
       "                        <th id=\"T_8acd54c2_a2d5_11e9_a9a4_419a49d29e61level0_row5\" class=\"row_heading level0 row5\" >Andere Technische Wissenschaften</th>\n",
       "                        <td id=\"T_8acd54c2_a2d5_11e9_a9a4_419a49d29e61row5_col0\" class=\"data row5 col0\" >5.16%</td>\n",
       "                        <td id=\"T_8acd54c2_a2d5_11e9_a9a4_419a49d29e61row5_col1\" class=\"data row5 col1\" >4. Platz</td>\n",
       "                        <td id=\"T_8acd54c2_a2d5_11e9_a9a4_419a49d29e61row5_col2\" class=\"data row5 col2\" >2,476,417 €</td>\n",
       "                        <td id=\"T_8acd54c2_a2d5_11e9_a9a4_419a49d29e61row5_col3\" class=\"data row5 col3\" >Montanuniversität Leoben (13.5 Mio. €)</td>\n",
       "                        <td id=\"T_8acd54c2_a2d5_11e9_a9a4_419a49d29e61row5_col4\" class=\"data row5 col4\" >Montanuniversität Leoben, Technische Universität Wien, Technische Universität Graz</td>\n",
       "            </tr>\n",
       "            <tr>\n",
       "                        <th id=\"T_8acd54c2_a2d5_11e9_a9a4_419a49d29e61level0_row6\" class=\"row_heading level0 row6\" >Bauwesen</th>\n",
       "                        <td id=\"T_8acd54c2_a2d5_11e9_a9a4_419a49d29e61row6_col0\" class=\"data row6 col0\" >5.14%</td>\n",
       "                        <td id=\"T_8acd54c2_a2d5_11e9_a9a4_419a49d29e61row6_col1\" class=\"data row6 col1\" >5. Platz</td>\n",
       "                        <td id=\"T_8acd54c2_a2d5_11e9_a9a4_419a49d29e61row6_col2\" class=\"data row6 col2\" >2,463,564 €</td>\n",
       "                        <td id=\"T_8acd54c2_a2d5_11e9_a9a4_419a49d29e61row6_col3\" class=\"data row6 col3\" >Technische Universität Graz (9.4 Mio. €)</td>\n",
       "                        <td id=\"T_8acd54c2_a2d5_11e9_a9a4_419a49d29e61row6_col4\" class=\"data row6 col4\" >Technische Universität Graz, Technische Universität Wien, Montanuniversität Leoben, Universität Innsbruck</td>\n",
       "            </tr>\n",
       "            <tr>\n",
       "                        <th id=\"T_8acd54c2_a2d5_11e9_a9a4_419a49d29e61level0_row7\" class=\"row_heading level0 row7\" >Umweltingenieurwesen, Angewandte Geowissenschaften</th>\n",
       "                        <td id=\"T_8acd54c2_a2d5_11e9_a9a4_419a49d29e61row7_col0\" class=\"data row7 col0\" >4.07%</td>\n",
       "                        <td id=\"T_8acd54c2_a2d5_11e9_a9a4_419a49d29e61row7_col1\" class=\"data row7 col1\" >3. Platz</td>\n",
       "                        <td id=\"T_8acd54c2_a2d5_11e9_a9a4_419a49d29e61row7_col2\" class=\"data row7 col2\" >1,950,922 €</td>\n",
       "                        <td id=\"T_8acd54c2_a2d5_11e9_a9a4_419a49d29e61row7_col3\" class=\"data row7 col3\" >Montanuniversität Leoben (8.4 Mio. €)</td>\n",
       "                        <td id=\"T_8acd54c2_a2d5_11e9_a9a4_419a49d29e61row7_col4\" class=\"data row7 col4\" >Montanuniversität Leoben, Technische Universität Wien</td>\n",
       "            </tr>\n",
       "            <tr>\n",
       "                        <th id=\"T_8acd54c2_a2d5_11e9_a9a4_419a49d29e61level0_row8\" class=\"row_heading level0 row8\" >Industrielle Biotechnologie</th>\n",
       "                        <td id=\"T_8acd54c2_a2d5_11e9_a9a4_419a49d29e61row8_col0\" class=\"data row8 col0\" >3.70%</td>\n",
       "                        <td id=\"T_8acd54c2_a2d5_11e9_a9a4_419a49d29e61row8_col1\" class=\"data row8 col1\" >1. Platz</td>\n",
       "                        <td id=\"T_8acd54c2_a2d5_11e9_a9a4_419a49d29e61row8_col2\" class=\"data row8 col2\" >1,776,987 €</td>\n",
       "                        <td id=\"T_8acd54c2_a2d5_11e9_a9a4_419a49d29e61row8_col3\" class=\"data row8 col3\" >(diese)</td>\n",
       "                        <td id=\"T_8acd54c2_a2d5_11e9_a9a4_419a49d29e61row8_col4\" class=\"data row8 col4\" >(keine)</td>\n",
       "            </tr>\n",
       "    </tbody></table>"
      ],
      "text/plain": [
       "<pandas.io.formats.style.Styler at 0x7fe69d50eb70>"
      ]
     },
     "metadata": {},
     "output_type": "display_data"
    },
    {
     "data": {
      "text/html": [
       "<h4>Ähnliche Universitäten aufgrund der Drittmittel-Struktur</h3>"
      ],
      "text/plain": [
       "<IPython.core.display.HTML object>"
      ]
     },
     "metadata": {},
     "output_type": "display_data"
    },
    {
     "data": {
      "text/html": [
       "<p><strong>Universität Innsbruck</strong> (43.7%, wegen &auml;hnlicher Relevanz von Biologie, Chemie, Geowissenschaften), <strong>Universität Graz</strong> (42.4%, wegen &auml;hnlicher Relevanz von Biologie, Chemie, Wirtschaftswissenschaften), <strong>Universität Wien</strong> (41.5%, wegen &auml;hnlicher Relevanz von Biologie, Chemie, Geowissenschaften), <strong>Technische Universität Wien</strong> (38.6%, wegen &auml;hnlicher Relevanz von Chemie, Andere Technische Wissenschaften, Bauwesen)</p>"
      ],
      "text/plain": [
       "<IPython.core.display.HTML object>"
      ]
     },
     "metadata": {},
     "output_type": "display_data"
    },
    {
     "data": {
      "text/html": [
       "<h3>Universität Klagenfurt</h3>"
      ],
      "text/plain": [
       "<IPython.core.display.HTML object>"
      ]
     },
     "metadata": {},
     "output_type": "display_data"
    },
    {
     "data": {
      "text/html": [
       "<h4>Drittmittel-Struktur</h4>"
      ],
      "text/plain": [
       "<IPython.core.display.HTML object>"
      ]
     },
     "metadata": {},
     "output_type": "display_data"
    },
    {
     "data": {
      "text/html": [
       "Angezeigt werden die gr&ouml;&szlig;ten WZW, die insgesamt mehr als 66.7% der Erl&ouml;se an der Universität Klagenfurt ausmachen (exakt: 67.2%). Jeder andere WZW tr&auml;gt weniger als 5.3% bei. Die Spalte \"Ranking\" bezieht sich  auf den &ouml;sterreichweiten Vergleich der absoluten Werte im jeweiligen WZW."
      ],
      "text/plain": [
       "<IPython.core.display.HTML object>"
      ]
     },
     "metadata": {},
     "output_type": "display_data"
    },
    {
     "data": {
      "text/html": [
       "<style  type=\"text/css\" >\n",
       "    #T_8ad7bf98_a2d5_11e9_a9a4_419a49d29e61row0_col0 {\n",
       "            background-color:  white;\n",
       "        }    #T_8ad7bf98_a2d5_11e9_a9a4_419a49d29e61row0_col1 {\n",
       "            background-color:  white;\n",
       "        }    #T_8ad7bf98_a2d5_11e9_a9a4_419a49d29e61row0_col2 {\n",
       "            background-color:  white;\n",
       "        }    #T_8ad7bf98_a2d5_11e9_a9a4_419a49d29e61row0_col3 {\n",
       "            background-color:  white;\n",
       "        }    #T_8ad7bf98_a2d5_11e9_a9a4_419a49d29e61row0_col4 {\n",
       "            background-color:  white;\n",
       "        }    #T_8ad7bf98_a2d5_11e9_a9a4_419a49d29e61row1_col0 {\n",
       "            background-color:  white;\n",
       "        }    #T_8ad7bf98_a2d5_11e9_a9a4_419a49d29e61row1_col1 {\n",
       "            background-color:  white;\n",
       "        }    #T_8ad7bf98_a2d5_11e9_a9a4_419a49d29e61row1_col2 {\n",
       "            background-color:  white;\n",
       "        }    #T_8ad7bf98_a2d5_11e9_a9a4_419a49d29e61row1_col3 {\n",
       "            background-color:  white;\n",
       "        }    #T_8ad7bf98_a2d5_11e9_a9a4_419a49d29e61row1_col4 {\n",
       "            background-color:  white;\n",
       "        }    #T_8ad7bf98_a2d5_11e9_a9a4_419a49d29e61row2_col0 {\n",
       "            background-color:  white;\n",
       "        }    #T_8ad7bf98_a2d5_11e9_a9a4_419a49d29e61row2_col1 {\n",
       "            background-color:  white;\n",
       "        }    #T_8ad7bf98_a2d5_11e9_a9a4_419a49d29e61row2_col2 {\n",
       "            background-color:  white;\n",
       "        }    #T_8ad7bf98_a2d5_11e9_a9a4_419a49d29e61row2_col3 {\n",
       "            background-color:  white;\n",
       "        }    #T_8ad7bf98_a2d5_11e9_a9a4_419a49d29e61row2_col4 {\n",
       "            background-color:  white;\n",
       "        }    #T_8ad7bf98_a2d5_11e9_a9a4_419a49d29e61row3_col0 {\n",
       "            background-color:  white;\n",
       "        }    #T_8ad7bf98_a2d5_11e9_a9a4_419a49d29e61row3_col1 {\n",
       "            background-color:  white;\n",
       "        }    #T_8ad7bf98_a2d5_11e9_a9a4_419a49d29e61row3_col2 {\n",
       "            background-color:  white;\n",
       "        }    #T_8ad7bf98_a2d5_11e9_a9a4_419a49d29e61row3_col3 {\n",
       "            background-color:  white;\n",
       "        }    #T_8ad7bf98_a2d5_11e9_a9a4_419a49d29e61row3_col4 {\n",
       "            background-color:  white;\n",
       "        }    #T_8ad7bf98_a2d5_11e9_a9a4_419a49d29e61row4_col0 {\n",
       "            background-color:  white;\n",
       "        }    #T_8ad7bf98_a2d5_11e9_a9a4_419a49d29e61row4_col1 {\n",
       "            background-color:  white;\n",
       "        }    #T_8ad7bf98_a2d5_11e9_a9a4_419a49d29e61row4_col2 {\n",
       "            background-color:  white;\n",
       "        }    #T_8ad7bf98_a2d5_11e9_a9a4_419a49d29e61row4_col3 {\n",
       "            background-color:  white;\n",
       "        }    #T_8ad7bf98_a2d5_11e9_a9a4_419a49d29e61row4_col4 {\n",
       "            background-color:  white;\n",
       "        }    #T_8ad7bf98_a2d5_11e9_a9a4_419a49d29e61row5_col0 {\n",
       "            background-color:  white;\n",
       "        }    #T_8ad7bf98_a2d5_11e9_a9a4_419a49d29e61row5_col1 {\n",
       "            background-color:  white;\n",
       "        }    #T_8ad7bf98_a2d5_11e9_a9a4_419a49d29e61row5_col2 {\n",
       "            background-color:  white;\n",
       "        }    #T_8ad7bf98_a2d5_11e9_a9a4_419a49d29e61row5_col3 {\n",
       "            background-color:  white;\n",
       "        }    #T_8ad7bf98_a2d5_11e9_a9a4_419a49d29e61row5_col4 {\n",
       "            background-color:  white;\n",
       "        }</style><table id=\"T_8ad7bf98_a2d5_11e9_a9a4_419a49d29e61\" ><thead>    <tr>        <th class=\"blank level0\" ></th>        <th class=\"col_heading level0 col0\" >Intern</th>        <th class=\"col_heading level0 col1\" >Ranking</th>        <th class=\"col_heading level0 col2\" >Erlöse</th>        <th class=\"col_heading level0 col3\" >Beste Universität</th>        <th class=\"col_heading level0 col4\" >Bessere Universitäten</th>    </tr>    <tr>        <th class=\"index_name level0\" >WZW</th>        <th class=\"blank\" ></th>        <th class=\"blank\" ></th>        <th class=\"blank\" ></th>        <th class=\"blank\" ></th>        <th class=\"blank\" ></th>    </tr></thead><tbody>\n",
       "                <tr>\n",
       "                        <th id=\"T_8ad7bf98_a2d5_11e9_a9a4_419a49d29e61level0_row0\" class=\"row_heading level0 row0\" >Informatik</th>\n",
       "                        <td id=\"T_8ad7bf98_a2d5_11e9_a9a4_419a49d29e61row0_col0\" class=\"data row0 col0\" >17.12%</td>\n",
       "                        <td id=\"T_8ad7bf98_a2d5_11e9_a9a4_419a49d29e61row0_col1\" class=\"data row0 col1\" >6. Platz</td>\n",
       "                        <td id=\"T_8ad7bf98_a2d5_11e9_a9a4_419a49d29e61row0_col2\" class=\"data row0 col2\" >1,290,693 €</td>\n",
       "                        <td id=\"T_8ad7bf98_a2d5_11e9_a9a4_419a49d29e61row0_col3\" class=\"data row0 col3\" >Technische Universität Wien (10.6 Mio. €)</td>\n",
       "                        <td id=\"T_8ad7bf98_a2d5_11e9_a9a4_419a49d29e61row0_col4\" class=\"data row0 col4\" >Technische Universität Wien, Technische Universität Graz, Universität Linz, Universität Innsbruck, Universität Wien</td>\n",
       "            </tr>\n",
       "            <tr>\n",
       "                        <th id=\"T_8ad7bf98_a2d5_11e9_a9a4_419a49d29e61level0_row1\" class=\"row_heading level0 row1\" >Mathematik</th>\n",
       "                        <td id=\"T_8ad7bf98_a2d5_11e9_a9a4_419a49d29e61row1_col0\" class=\"data row1 col0\" >15.60%</td>\n",
       "                        <td id=\"T_8ad7bf98_a2d5_11e9_a9a4_419a49d29e61row1_col1\" class=\"data row1 col1\" >5. Platz</td>\n",
       "                        <td id=\"T_8ad7bf98_a2d5_11e9_a9a4_419a49d29e61row1_col2\" class=\"data row1 col2\" >1,176,559 €</td>\n",
       "                        <td id=\"T_8ad7bf98_a2d5_11e9_a9a4_419a49d29e61row1_col3\" class=\"data row1 col3\" >Universität Wien (8.4 Mio. €)</td>\n",
       "                        <td id=\"T_8ad7bf98_a2d5_11e9_a9a4_419a49d29e61row1_col4\" class=\"data row1 col4\" >Universität Wien, Technische Universität Graz, Technische Universität Wien, Universität Linz</td>\n",
       "            </tr>\n",
       "            <tr>\n",
       "                        <th id=\"T_8ad7bf98_a2d5_11e9_a9a4_419a49d29e61level0_row2\" class=\"row_heading level0 row2\" >Wirtschaftswissenschaften</th>\n",
       "                        <td id=\"T_8ad7bf98_a2d5_11e9_a9a4_419a49d29e61row2_col0\" class=\"data row2 col0\" >13.92%</td>\n",
       "                        <td id=\"T_8ad7bf98_a2d5_11e9_a9a4_419a49d29e61row2_col1\" class=\"data row2 col1\" >8. Platz</td>\n",
       "                        <td id=\"T_8ad7bf98_a2d5_11e9_a9a4_419a49d29e61row2_col2\" class=\"data row2 col2\" >1,049,891 €</td>\n",
       "                        <td id=\"T_8ad7bf98_a2d5_11e9_a9a4_419a49d29e61row2_col3\" class=\"data row2 col3\" >Wirtschaftsuniversität Wien (7.2 Mio. €)</td>\n",
       "                        <td id=\"T_8ad7bf98_a2d5_11e9_a9a4_419a49d29e61row2_col4\" class=\"data row2 col4\" >Wirtschaftsuniversität Wien, Universität Innsbruck, Universität Graz, Universität Wien, Universität für Bodenkultur Wien, Technische Universität Wien, Universität Linz</td>\n",
       "            </tr>\n",
       "            <tr>\n",
       "                        <th id=\"T_8ad7bf98_a2d5_11e9_a9a4_419a49d29e61level0_row3\" class=\"row_heading level0 row3\" >Elektrotechnik, Elektronik, Informationstechnik</th>\n",
       "                        <td id=\"T_8ad7bf98_a2d5_11e9_a9a4_419a49d29e61row3_col0\" class=\"data row3 col0\" >7.83%</td>\n",
       "                        <td id=\"T_8ad7bf98_a2d5_11e9_a9a4_419a49d29e61row3_col1\" class=\"data row3 col1\" >6. Platz</td>\n",
       "                        <td id=\"T_8ad7bf98_a2d5_11e9_a9a4_419a49d29e61row3_col2\" class=\"data row3 col2\" >590,093 €</td>\n",
       "                        <td id=\"T_8ad7bf98_a2d5_11e9_a9a4_419a49d29e61row3_col3\" class=\"data row3 col3\" >Technische Universität Wien (16.0 Mio. €)</td>\n",
       "                        <td id=\"T_8ad7bf98_a2d5_11e9_a9a4_419a49d29e61row3_col4\" class=\"data row3 col4\" >Technische Universität Wien, Technische Universität Graz, Universität Linz, Universität Innsbruck, Universität für Weiterbildung Krems</td>\n",
       "            </tr>\n",
       "            <tr>\n",
       "                        <th id=\"T_8ad7bf98_a2d5_11e9_a9a4_419a49d29e61level0_row4\" class=\"row_heading level0 row4\" >Andere Sozialwissenschaften</th>\n",
       "                        <td id=\"T_8ad7bf98_a2d5_11e9_a9a4_419a49d29e61row4_col0\" class=\"data row4 col0\" >7.38%</td>\n",
       "                        <td id=\"T_8ad7bf98_a2d5_11e9_a9a4_419a49d29e61row4_col1\" class=\"data row4 col1\" >3. Platz</td>\n",
       "                        <td id=\"T_8ad7bf98_a2d5_11e9_a9a4_419a49d29e61row4_col2\" class=\"data row4 col2\" >556,305 €</td>\n",
       "                        <td id=\"T_8ad7bf98_a2d5_11e9_a9a4_419a49d29e61row4_col3\" class=\"data row4 col3\" >Universität Wien (1.1 Mio. €)</td>\n",
       "                        <td id=\"T_8ad7bf98_a2d5_11e9_a9a4_419a49d29e61row4_col4\" class=\"data row4 col4\" >Universität Wien, Universität für Bodenkultur Wien</td>\n",
       "            </tr>\n",
       "            <tr>\n",
       "                        <th id=\"T_8ad7bf98_a2d5_11e9_a9a4_419a49d29e61level0_row5\" class=\"row_heading level0 row5\" >Soziologie</th>\n",
       "                        <td id=\"T_8ad7bf98_a2d5_11e9_a9a4_419a49d29e61row5_col0\" class=\"data row5 col0\" >5.31%</td>\n",
       "                        <td id=\"T_8ad7bf98_a2d5_11e9_a9a4_419a49d29e61row5_col1\" class=\"data row5 col1\" >6. Platz</td>\n",
       "                        <td id=\"T_8ad7bf98_a2d5_11e9_a9a4_419a49d29e61row5_col2\" class=\"data row5 col2\" >400,554 €</td>\n",
       "                        <td id=\"T_8ad7bf98_a2d5_11e9_a9a4_419a49d29e61row5_col3\" class=\"data row5 col3\" >Universität Wien (4.7 Mio. €)</td>\n",
       "                        <td id=\"T_8ad7bf98_a2d5_11e9_a9a4_419a49d29e61row5_col4\" class=\"data row5 col4\" >Universität Wien, Universität Graz, Universität für Bodenkultur Wien, Universität Innsbruck, Technische Universität Wien</td>\n",
       "            </tr>\n",
       "    </tbody></table>"
      ],
      "text/plain": [
       "<pandas.io.formats.style.Styler at 0x7fe68f795198>"
      ]
     },
     "metadata": {},
     "output_type": "display_data"
    },
    {
     "data": {
      "text/html": [
       "<h4>Ähnliche Universitäten aufgrund der Drittmittel-Struktur</h3>"
      ],
      "text/plain": [
       "<IPython.core.display.HTML object>"
      ]
     },
     "metadata": {},
     "output_type": "display_data"
    },
    {
     "data": {
      "text/html": [
       "<p><strong>Universität Linz</strong> (46.0%, wegen &auml;hnlicher Relevanz von Informatik, Mathematik, Elektrotechnik, Elektronik, Informationstechnik), <strong>Universität Wien</strong> (41.9%, wegen &auml;hnlicher Relevanz von Mathematik, Soziologie, Philosophie, Ethik, Religion), <strong>Universität für Weiterbildung Krems</strong> (39.2%, wegen &auml;hnlicher Relevanz von Elektrotechnik, Elektronik, Informationstechnik, Andere Sozialwissenschaften, Informatik), <strong>Universität Graz</strong> (37.3%, wegen &auml;hnlicher Relevanz von Wirtschaftswissenschaften, Philosophie, Ethik, Religion, Mathematik)</p>"
      ],
      "text/plain": [
       "<IPython.core.display.HTML object>"
      ]
     },
     "metadata": {},
     "output_type": "display_data"
    },
    {
     "data": {
      "text/html": [
       "<h3>Universität Wien</h3>"
      ],
      "text/plain": [
       "<IPython.core.display.HTML object>"
      ]
     },
     "metadata": {},
     "output_type": "display_data"
    },
    {
     "data": {
      "text/html": [
       "<h4>Drittmittel-Struktur</h4>"
      ],
      "text/plain": [
       "<IPython.core.display.HTML object>"
      ]
     },
     "metadata": {},
     "output_type": "display_data"
    },
    {
     "data": {
      "text/html": [
       "Angezeigt werden die gr&ouml;&szlig;ten WZW, die insgesamt mehr als 66.7% der Erl&ouml;se an der Universität Wien ausmachen (exakt: 67.8%). Jeder andere WZW tr&auml;gt weniger als 4.8% bei. Die Spalte \"Ranking\" bezieht sich  auf den &ouml;sterreichweiten Vergleich der absoluten Werte im jeweiligen WZW."
      ],
      "text/plain": [
       "<IPython.core.display.HTML object>"
      ]
     },
     "metadata": {},
     "output_type": "display_data"
    },
    {
     "data": {
      "text/html": [
       "<style  type=\"text/css\" >\n",
       "    #T_8ae38d6e_a2d5_11e9_a9a4_419a49d29e61row0_col0 {\n",
       "            background-color:  lightgreen;\n",
       "        }    #T_8ae38d6e_a2d5_11e9_a9a4_419a49d29e61row0_col1 {\n",
       "            background-color:  lightgreen;\n",
       "        }    #T_8ae38d6e_a2d5_11e9_a9a4_419a49d29e61row0_col2 {\n",
       "            background-color:  lightgreen;\n",
       "        }    #T_8ae38d6e_a2d5_11e9_a9a4_419a49d29e61row0_col3 {\n",
       "            background-color:  lightgreen;\n",
       "        }    #T_8ae38d6e_a2d5_11e9_a9a4_419a49d29e61row0_col4 {\n",
       "            background-color:  lightgreen;\n",
       "        }    #T_8ae38d6e_a2d5_11e9_a9a4_419a49d29e61row1_col0 {\n",
       "            background-color:  yellow;\n",
       "        }    #T_8ae38d6e_a2d5_11e9_a9a4_419a49d29e61row1_col1 {\n",
       "            background-color:  yellow;\n",
       "        }    #T_8ae38d6e_a2d5_11e9_a9a4_419a49d29e61row1_col2 {\n",
       "            background-color:  yellow;\n",
       "        }    #T_8ae38d6e_a2d5_11e9_a9a4_419a49d29e61row1_col3 {\n",
       "            background-color:  yellow;\n",
       "        }    #T_8ae38d6e_a2d5_11e9_a9a4_419a49d29e61row1_col4 {\n",
       "            background-color:  yellow;\n",
       "        }    #T_8ae38d6e_a2d5_11e9_a9a4_419a49d29e61row2_col0 {\n",
       "            background-color:  lightgreen;\n",
       "        }    #T_8ae38d6e_a2d5_11e9_a9a4_419a49d29e61row2_col1 {\n",
       "            background-color:  lightgreen;\n",
       "        }    #T_8ae38d6e_a2d5_11e9_a9a4_419a49d29e61row2_col2 {\n",
       "            background-color:  lightgreen;\n",
       "        }    #T_8ae38d6e_a2d5_11e9_a9a4_419a49d29e61row2_col3 {\n",
       "            background-color:  lightgreen;\n",
       "        }    #T_8ae38d6e_a2d5_11e9_a9a4_419a49d29e61row2_col4 {\n",
       "            background-color:  lightgreen;\n",
       "        }    #T_8ae38d6e_a2d5_11e9_a9a4_419a49d29e61row3_col0 {\n",
       "            background-color:  lightgreen;\n",
       "        }    #T_8ae38d6e_a2d5_11e9_a9a4_419a49d29e61row3_col1 {\n",
       "            background-color:  lightgreen;\n",
       "        }    #T_8ae38d6e_a2d5_11e9_a9a4_419a49d29e61row3_col2 {\n",
       "            background-color:  lightgreen;\n",
       "        }    #T_8ae38d6e_a2d5_11e9_a9a4_419a49d29e61row3_col3 {\n",
       "            background-color:  lightgreen;\n",
       "        }    #T_8ae38d6e_a2d5_11e9_a9a4_419a49d29e61row3_col4 {\n",
       "            background-color:  lightgreen;\n",
       "        }    #T_8ae38d6e_a2d5_11e9_a9a4_419a49d29e61row4_col0 {\n",
       "            background-color:  white;\n",
       "        }    #T_8ae38d6e_a2d5_11e9_a9a4_419a49d29e61row4_col1 {\n",
       "            background-color:  white;\n",
       "        }    #T_8ae38d6e_a2d5_11e9_a9a4_419a49d29e61row4_col2 {\n",
       "            background-color:  white;\n",
       "        }    #T_8ae38d6e_a2d5_11e9_a9a4_419a49d29e61row4_col3 {\n",
       "            background-color:  white;\n",
       "        }    #T_8ae38d6e_a2d5_11e9_a9a4_419a49d29e61row4_col4 {\n",
       "            background-color:  white;\n",
       "        }    #T_8ae38d6e_a2d5_11e9_a9a4_419a49d29e61row5_col0 {\n",
       "            background-color:  lightgreen;\n",
       "        }    #T_8ae38d6e_a2d5_11e9_a9a4_419a49d29e61row5_col1 {\n",
       "            background-color:  lightgreen;\n",
       "        }    #T_8ae38d6e_a2d5_11e9_a9a4_419a49d29e61row5_col2 {\n",
       "            background-color:  lightgreen;\n",
       "        }    #T_8ae38d6e_a2d5_11e9_a9a4_419a49d29e61row5_col3 {\n",
       "            background-color:  lightgreen;\n",
       "        }    #T_8ae38d6e_a2d5_11e9_a9a4_419a49d29e61row5_col4 {\n",
       "            background-color:  lightgreen;\n",
       "        }    #T_8ae38d6e_a2d5_11e9_a9a4_419a49d29e61row6_col0 {\n",
       "            background-color:  lightgreen;\n",
       "        }    #T_8ae38d6e_a2d5_11e9_a9a4_419a49d29e61row6_col1 {\n",
       "            background-color:  lightgreen;\n",
       "        }    #T_8ae38d6e_a2d5_11e9_a9a4_419a49d29e61row6_col2 {\n",
       "            background-color:  lightgreen;\n",
       "        }    #T_8ae38d6e_a2d5_11e9_a9a4_419a49d29e61row6_col3 {\n",
       "            background-color:  lightgreen;\n",
       "        }    #T_8ae38d6e_a2d5_11e9_a9a4_419a49d29e61row6_col4 {\n",
       "            background-color:  lightgreen;\n",
       "        }</style><table id=\"T_8ae38d6e_a2d5_11e9_a9a4_419a49d29e61\" ><thead>    <tr>        <th class=\"blank level0\" ></th>        <th class=\"col_heading level0 col0\" >Intern</th>        <th class=\"col_heading level0 col1\" >Ranking</th>        <th class=\"col_heading level0 col2\" >Erlöse</th>        <th class=\"col_heading level0 col3\" >Beste Universität</th>        <th class=\"col_heading level0 col4\" >Bessere Universitäten</th>    </tr>    <tr>        <th class=\"index_name level0\" >WZW</th>        <th class=\"blank\" ></th>        <th class=\"blank\" ></th>        <th class=\"blank\" ></th>        <th class=\"blank\" ></th>        <th class=\"blank\" ></th>    </tr></thead><tbody>\n",
       "                <tr>\n",
       "                        <th id=\"T_8ae38d6e_a2d5_11e9_a9a4_419a49d29e61level0_row0\" class=\"row_heading level0 row0\" >Biologie</th>\n",
       "                        <td id=\"T_8ae38d6e_a2d5_11e9_a9a4_419a49d29e61row0_col0\" class=\"data row0 col0\" >20.03%</td>\n",
       "                        <td id=\"T_8ae38d6e_a2d5_11e9_a9a4_419a49d29e61row0_col1\" class=\"data row0 col1\" >1. Platz</td>\n",
       "                        <td id=\"T_8ae38d6e_a2d5_11e9_a9a4_419a49d29e61row0_col2\" class=\"data row0 col2\" >17,041,180 €</td>\n",
       "                        <td id=\"T_8ae38d6e_a2d5_11e9_a9a4_419a49d29e61row0_col3\" class=\"data row0 col3\" >(diese)</td>\n",
       "                        <td id=\"T_8ae38d6e_a2d5_11e9_a9a4_419a49d29e61row0_col4\" class=\"data row0 col4\" >(keine)</td>\n",
       "            </tr>\n",
       "            <tr>\n",
       "                        <th id=\"T_8ae38d6e_a2d5_11e9_a9a4_419a49d29e61level0_row1\" class=\"row_heading level0 row1\" >Physik, Astronomie</th>\n",
       "                        <td id=\"T_8ae38d6e_a2d5_11e9_a9a4_419a49d29e61row1_col0\" class=\"data row1 col0\" >15.28%</td>\n",
       "                        <td id=\"T_8ae38d6e_a2d5_11e9_a9a4_419a49d29e61row1_col1\" class=\"data row1 col1\" >2. Platz</td>\n",
       "                        <td id=\"T_8ae38d6e_a2d5_11e9_a9a4_419a49d29e61row1_col2\" class=\"data row1 col2\" >13,000,586 €</td>\n",
       "                        <td id=\"T_8ae38d6e_a2d5_11e9_a9a4_419a49d29e61row1_col3\" class=\"data row1 col3\" >Technische Universität Wien (13.4 Mio. €)</td>\n",
       "                        <td id=\"T_8ae38d6e_a2d5_11e9_a9a4_419a49d29e61row1_col4\" class=\"data row1 col4\" >Technische Universität Wien</td>\n",
       "            </tr>\n",
       "            <tr>\n",
       "                        <th id=\"T_8ae38d6e_a2d5_11e9_a9a4_419a49d29e61level0_row2\" class=\"row_heading level0 row2\" >Mathematik</th>\n",
       "                        <td id=\"T_8ae38d6e_a2d5_11e9_a9a4_419a49d29e61row2_col0\" class=\"data row2 col0\" >9.83%</td>\n",
       "                        <td id=\"T_8ae38d6e_a2d5_11e9_a9a4_419a49d29e61row2_col1\" class=\"data row2 col1\" >1. Platz</td>\n",
       "                        <td id=\"T_8ae38d6e_a2d5_11e9_a9a4_419a49d29e61row2_col2\" class=\"data row2 col2\" >8,360,365 €</td>\n",
       "                        <td id=\"T_8ae38d6e_a2d5_11e9_a9a4_419a49d29e61row2_col3\" class=\"data row2 col3\" >(diese)</td>\n",
       "                        <td id=\"T_8ae38d6e_a2d5_11e9_a9a4_419a49d29e61row2_col4\" class=\"data row2 col4\" >(keine)</td>\n",
       "            </tr>\n",
       "            <tr>\n",
       "                        <th id=\"T_8ae38d6e_a2d5_11e9_a9a4_419a49d29e61level0_row3\" class=\"row_heading level0 row3\" >Sprach- und Literaturwissenschaften</th>\n",
       "                        <td id=\"T_8ae38d6e_a2d5_11e9_a9a4_419a49d29e61row3_col0\" class=\"data row3 col0\" >6.35%</td>\n",
       "                        <td id=\"T_8ae38d6e_a2d5_11e9_a9a4_419a49d29e61row3_col1\" class=\"data row3 col1\" >1. Platz</td>\n",
       "                        <td id=\"T_8ae38d6e_a2d5_11e9_a9a4_419a49d29e61row3_col2\" class=\"data row3 col2\" >5,403,993 €</td>\n",
       "                        <td id=\"T_8ae38d6e_a2d5_11e9_a9a4_419a49d29e61row3_col3\" class=\"data row3 col3\" >(diese)</td>\n",
       "                        <td id=\"T_8ae38d6e_a2d5_11e9_a9a4_419a49d29e61row3_col4\" class=\"data row3 col4\" >(keine)</td>\n",
       "            </tr>\n",
       "            <tr>\n",
       "                        <th id=\"T_8ae38d6e_a2d5_11e9_a9a4_419a49d29e61level0_row4\" class=\"row_heading level0 row4\" >Chemie</th>\n",
       "                        <td id=\"T_8ae38d6e_a2d5_11e9_a9a4_419a49d29e61row4_col0\" class=\"data row4 col0\" >5.99%</td>\n",
       "                        <td id=\"T_8ae38d6e_a2d5_11e9_a9a4_419a49d29e61row4_col1\" class=\"data row4 col1\" >3. Platz</td>\n",
       "                        <td id=\"T_8ae38d6e_a2d5_11e9_a9a4_419a49d29e61row4_col2\" class=\"data row4 col2\" >5,093,619 €</td>\n",
       "                        <td id=\"T_8ae38d6e_a2d5_11e9_a9a4_419a49d29e61row4_col3\" class=\"data row4 col3\" >Technische Universität Graz (9.0 Mio. €)</td>\n",
       "                        <td id=\"T_8ae38d6e_a2d5_11e9_a9a4_419a49d29e61row4_col4\" class=\"data row4 col4\" >Technische Universität Graz, Universität Innsbruck</td>\n",
       "            </tr>\n",
       "            <tr>\n",
       "                        <th id=\"T_8ae38d6e_a2d5_11e9_a9a4_419a49d29e61level0_row5\" class=\"row_heading level0 row5\" >Soziologie</th>\n",
       "                        <td id=\"T_8ae38d6e_a2d5_11e9_a9a4_419a49d29e61row5_col0\" class=\"data row5 col0\" >5.53%</td>\n",
       "                        <td id=\"T_8ae38d6e_a2d5_11e9_a9a4_419a49d29e61row5_col1\" class=\"data row5 col1\" >1. Platz</td>\n",
       "                        <td id=\"T_8ae38d6e_a2d5_11e9_a9a4_419a49d29e61row5_col2\" class=\"data row5 col2\" >4,702,192 €</td>\n",
       "                        <td id=\"T_8ae38d6e_a2d5_11e9_a9a4_419a49d29e61row5_col3\" class=\"data row5 col3\" >(diese)</td>\n",
       "                        <td id=\"T_8ae38d6e_a2d5_11e9_a9a4_419a49d29e61row5_col4\" class=\"data row5 col4\" >(keine)</td>\n",
       "            </tr>\n",
       "            <tr>\n",
       "                        <th id=\"T_8ae38d6e_a2d5_11e9_a9a4_419a49d29e61level0_row6\" class=\"row_heading level0 row6\" >Geschichte, Archäologie</th>\n",
       "                        <td id=\"T_8ae38d6e_a2d5_11e9_a9a4_419a49d29e61row6_col0\" class=\"data row6 col0\" >4.75%</td>\n",
       "                        <td id=\"T_8ae38d6e_a2d5_11e9_a9a4_419a49d29e61row6_col1\" class=\"data row6 col1\" >1. Platz</td>\n",
       "                        <td id=\"T_8ae38d6e_a2d5_11e9_a9a4_419a49d29e61row6_col2\" class=\"data row6 col2\" >4,042,891 €</td>\n",
       "                        <td id=\"T_8ae38d6e_a2d5_11e9_a9a4_419a49d29e61row6_col3\" class=\"data row6 col3\" >(diese)</td>\n",
       "                        <td id=\"T_8ae38d6e_a2d5_11e9_a9a4_419a49d29e61row6_col4\" class=\"data row6 col4\" >(keine)</td>\n",
       "            </tr>\n",
       "    </tbody></table>"
      ],
      "text/plain": [
       "<pandas.io.formats.style.Styler at 0x7fe69c089358>"
      ]
     },
     "metadata": {},
     "output_type": "display_data"
    },
    {
     "data": {
      "text/html": [
       "<h4>Ähnliche Universitäten aufgrund der Drittmittel-Struktur</h3>"
      ],
      "text/plain": [
       "<IPython.core.display.HTML object>"
      ]
     },
     "metadata": {},
     "output_type": "display_data"
    },
    {
     "data": {
      "text/html": [
       "<p><strong>Universität Graz</strong> (70.6%, wegen &auml;hnlicher Relevanz von Biologie, Physik, Astronomie, Sprach- und Literaturwissenschaften), <strong>Universität Salzburg</strong> (63.1%, wegen &auml;hnlicher Relevanz von Biologie, Physik, Astronomie, Geschichte, Archäologie), <strong>Universität Innsbruck</strong> (62.7%, wegen &auml;hnlicher Relevanz von Physik, Astronomie, Biologie, Chemie), <strong>Universität Klagenfurt</strong> (41.9%, wegen &auml;hnlicher Relevanz von Mathematik, Soziologie, Philosophie, Ethik, Religion)</p>"
      ],
      "text/plain": [
       "<IPython.core.display.HTML object>"
      ]
     },
     "metadata": {},
     "output_type": "display_data"
    },
    {
     "data": {
      "text/html": [
       "<h3>Technische Universität Wien</h3>"
      ],
      "text/plain": [
       "<IPython.core.display.HTML object>"
      ]
     },
     "metadata": {},
     "output_type": "display_data"
    },
    {
     "data": {
      "text/html": [
       "<h4>Drittmittel-Struktur</h4>"
      ],
      "text/plain": [
       "<IPython.core.display.HTML object>"
      ]
     },
     "metadata": {},
     "output_type": "display_data"
    },
    {
     "data": {
      "text/html": [
       "Angezeigt werden die gr&ouml;&szlig;ten WZW, die insgesamt mehr als 66.7% der Erl&ouml;se an der Technische Universität Wien ausmachen (exakt: 67.2%). Jeder andere WZW tr&auml;gt weniger als 6.3% bei. Die Spalte \"Ranking\" bezieht sich  auf den &ouml;sterreichweiten Vergleich der absoluten Werte im jeweiligen WZW."
      ],
      "text/plain": [
       "<IPython.core.display.HTML object>"
      ]
     },
     "metadata": {},
     "output_type": "display_data"
    },
    {
     "data": {
      "text/html": [
       "<style  type=\"text/css\" >\n",
       "    #T_8aee4c68_a2d5_11e9_a9a4_419a49d29e61row0_col0 {\n",
       "            background-color:  lightgreen;\n",
       "        }    #T_8aee4c68_a2d5_11e9_a9a4_419a49d29e61row0_col1 {\n",
       "            background-color:  lightgreen;\n",
       "        }    #T_8aee4c68_a2d5_11e9_a9a4_419a49d29e61row0_col2 {\n",
       "            background-color:  lightgreen;\n",
       "        }    #T_8aee4c68_a2d5_11e9_a9a4_419a49d29e61row0_col3 {\n",
       "            background-color:  lightgreen;\n",
       "        }    #T_8aee4c68_a2d5_11e9_a9a4_419a49d29e61row0_col4 {\n",
       "            background-color:  lightgreen;\n",
       "        }    #T_8aee4c68_a2d5_11e9_a9a4_419a49d29e61row1_col0 {\n",
       "            background-color:  lightgreen;\n",
       "        }    #T_8aee4c68_a2d5_11e9_a9a4_419a49d29e61row1_col1 {\n",
       "            background-color:  lightgreen;\n",
       "        }    #T_8aee4c68_a2d5_11e9_a9a4_419a49d29e61row1_col2 {\n",
       "            background-color:  lightgreen;\n",
       "        }    #T_8aee4c68_a2d5_11e9_a9a4_419a49d29e61row1_col3 {\n",
       "            background-color:  lightgreen;\n",
       "        }    #T_8aee4c68_a2d5_11e9_a9a4_419a49d29e61row1_col4 {\n",
       "            background-color:  lightgreen;\n",
       "        }    #T_8aee4c68_a2d5_11e9_a9a4_419a49d29e61row2_col0 {\n",
       "            background-color:  lightgreen;\n",
       "        }    #T_8aee4c68_a2d5_11e9_a9a4_419a49d29e61row2_col1 {\n",
       "            background-color:  lightgreen;\n",
       "        }    #T_8aee4c68_a2d5_11e9_a9a4_419a49d29e61row2_col2 {\n",
       "            background-color:  lightgreen;\n",
       "        }    #T_8aee4c68_a2d5_11e9_a9a4_419a49d29e61row2_col3 {\n",
       "            background-color:  lightgreen;\n",
       "        }    #T_8aee4c68_a2d5_11e9_a9a4_419a49d29e61row2_col4 {\n",
       "            background-color:  lightgreen;\n",
       "        }    #T_8aee4c68_a2d5_11e9_a9a4_419a49d29e61row3_col0 {\n",
       "            background-color:  yellow;\n",
       "        }    #T_8aee4c68_a2d5_11e9_a9a4_419a49d29e61row3_col1 {\n",
       "            background-color:  yellow;\n",
       "        }    #T_8aee4c68_a2d5_11e9_a9a4_419a49d29e61row3_col2 {\n",
       "            background-color:  yellow;\n",
       "        }    #T_8aee4c68_a2d5_11e9_a9a4_419a49d29e61row3_col3 {\n",
       "            background-color:  yellow;\n",
       "        }    #T_8aee4c68_a2d5_11e9_a9a4_419a49d29e61row3_col4 {\n",
       "            background-color:  yellow;\n",
       "        }    #T_8aee4c68_a2d5_11e9_a9a4_419a49d29e61row4_col0 {\n",
       "            background-color:  yellow;\n",
       "        }    #T_8aee4c68_a2d5_11e9_a9a4_419a49d29e61row4_col1 {\n",
       "            background-color:  yellow;\n",
       "        }    #T_8aee4c68_a2d5_11e9_a9a4_419a49d29e61row4_col2 {\n",
       "            background-color:  yellow;\n",
       "        }    #T_8aee4c68_a2d5_11e9_a9a4_419a49d29e61row4_col3 {\n",
       "            background-color:  yellow;\n",
       "        }    #T_8aee4c68_a2d5_11e9_a9a4_419a49d29e61row4_col4 {\n",
       "            background-color:  yellow;\n",
       "        }    #T_8aee4c68_a2d5_11e9_a9a4_419a49d29e61row5_col0 {\n",
       "            background-color:  white;\n",
       "        }    #T_8aee4c68_a2d5_11e9_a9a4_419a49d29e61row5_col1 {\n",
       "            background-color:  white;\n",
       "        }    #T_8aee4c68_a2d5_11e9_a9a4_419a49d29e61row5_col2 {\n",
       "            background-color:  white;\n",
       "        }    #T_8aee4c68_a2d5_11e9_a9a4_419a49d29e61row5_col3 {\n",
       "            background-color:  white;\n",
       "        }    #T_8aee4c68_a2d5_11e9_a9a4_419a49d29e61row5_col4 {\n",
       "            background-color:  white;\n",
       "        }</style><table id=\"T_8aee4c68_a2d5_11e9_a9a4_419a49d29e61\" ><thead>    <tr>        <th class=\"blank level0\" ></th>        <th class=\"col_heading level0 col0\" >Intern</th>        <th class=\"col_heading level0 col1\" >Ranking</th>        <th class=\"col_heading level0 col2\" >Erlöse</th>        <th class=\"col_heading level0 col3\" >Beste Universität</th>        <th class=\"col_heading level0 col4\" >Bessere Universitäten</th>    </tr>    <tr>        <th class=\"index_name level0\" >WZW</th>        <th class=\"blank\" ></th>        <th class=\"blank\" ></th>        <th class=\"blank\" ></th>        <th class=\"blank\" ></th>        <th class=\"blank\" ></th>    </tr></thead><tbody>\n",
       "                <tr>\n",
       "                        <th id=\"T_8aee4c68_a2d5_11e9_a9a4_419a49d29e61level0_row0\" class=\"row_heading level0 row0\" >Elektrotechnik, Elektronik, Informationstechnik</th>\n",
       "                        <td id=\"T_8aee4c68_a2d5_11e9_a9a4_419a49d29e61row0_col0\" class=\"data row0 col0\" >18.38%</td>\n",
       "                        <td id=\"T_8aee4c68_a2d5_11e9_a9a4_419a49d29e61row0_col1\" class=\"data row0 col1\" >1. Platz</td>\n",
       "                        <td id=\"T_8aee4c68_a2d5_11e9_a9a4_419a49d29e61row0_col2\" class=\"data row0 col2\" >16,047,928 €</td>\n",
       "                        <td id=\"T_8aee4c68_a2d5_11e9_a9a4_419a49d29e61row0_col3\" class=\"data row0 col3\" >(diese)</td>\n",
       "                        <td id=\"T_8aee4c68_a2d5_11e9_a9a4_419a49d29e61row0_col4\" class=\"data row0 col4\" >(keine)</td>\n",
       "            </tr>\n",
       "            <tr>\n",
       "                        <th id=\"T_8aee4c68_a2d5_11e9_a9a4_419a49d29e61level0_row1\" class=\"row_heading level0 row1\" >Physik, Astronomie</th>\n",
       "                        <td id=\"T_8aee4c68_a2d5_11e9_a9a4_419a49d29e61row1_col0\" class=\"data row1 col0\" >15.35%</td>\n",
       "                        <td id=\"T_8aee4c68_a2d5_11e9_a9a4_419a49d29e61row1_col1\" class=\"data row1 col1\" >1. Platz</td>\n",
       "                        <td id=\"T_8aee4c68_a2d5_11e9_a9a4_419a49d29e61row1_col2\" class=\"data row1 col2\" >13,401,452 €</td>\n",
       "                        <td id=\"T_8aee4c68_a2d5_11e9_a9a4_419a49d29e61row1_col3\" class=\"data row1 col3\" >(diese)</td>\n",
       "                        <td id=\"T_8aee4c68_a2d5_11e9_a9a4_419a49d29e61row1_col4\" class=\"data row1 col4\" >(keine)</td>\n",
       "            </tr>\n",
       "            <tr>\n",
       "                        <th id=\"T_8aee4c68_a2d5_11e9_a9a4_419a49d29e61level0_row2\" class=\"row_heading level0 row2\" >Informatik</th>\n",
       "                        <td id=\"T_8aee4c68_a2d5_11e9_a9a4_419a49d29e61row2_col0\" class=\"data row2 col0\" >12.17%</td>\n",
       "                        <td id=\"T_8aee4c68_a2d5_11e9_a9a4_419a49d29e61row2_col1\" class=\"data row2 col1\" >1. Platz</td>\n",
       "                        <td id=\"T_8aee4c68_a2d5_11e9_a9a4_419a49d29e61row2_col2\" class=\"data row2 col2\" >10,630,304 €</td>\n",
       "                        <td id=\"T_8aee4c68_a2d5_11e9_a9a4_419a49d29e61row2_col3\" class=\"data row2 col3\" >(diese)</td>\n",
       "                        <td id=\"T_8aee4c68_a2d5_11e9_a9a4_419a49d29e61row2_col4\" class=\"data row2 col4\" >(keine)</td>\n",
       "            </tr>\n",
       "            <tr>\n",
       "                        <th id=\"T_8aee4c68_a2d5_11e9_a9a4_419a49d29e61level0_row3\" class=\"row_heading level0 row3\" >Andere Technische Wissenschaften</th>\n",
       "                        <td id=\"T_8aee4c68_a2d5_11e9_a9a4_419a49d29e61row3_col0\" class=\"data row3 col0\" >7.64%</td>\n",
       "                        <td id=\"T_8aee4c68_a2d5_11e9_a9a4_419a49d29e61row3_col1\" class=\"data row3 col1\" >2. Platz</td>\n",
       "                        <td id=\"T_8aee4c68_a2d5_11e9_a9a4_419a49d29e61row3_col2\" class=\"data row3 col2\" >6,673,316 €</td>\n",
       "                        <td id=\"T_8aee4c68_a2d5_11e9_a9a4_419a49d29e61row3_col3\" class=\"data row3 col3\" >Montanuniversität Leoben (13.5 Mio. €)</td>\n",
       "                        <td id=\"T_8aee4c68_a2d5_11e9_a9a4_419a49d29e61row3_col4\" class=\"data row3 col4\" >Montanuniversität Leoben</td>\n",
       "            </tr>\n",
       "            <tr>\n",
       "                        <th id=\"T_8aee4c68_a2d5_11e9_a9a4_419a49d29e61level0_row4\" class=\"row_heading level0 row4\" >Bauwesen</th>\n",
       "                        <td id=\"T_8aee4c68_a2d5_11e9_a9a4_419a49d29e61row4_col0\" class=\"data row4 col0\" >7.32%</td>\n",
       "                        <td id=\"T_8aee4c68_a2d5_11e9_a9a4_419a49d29e61row4_col1\" class=\"data row4 col1\" >2. Platz</td>\n",
       "                        <td id=\"T_8aee4c68_a2d5_11e9_a9a4_419a49d29e61row4_col2\" class=\"data row4 col2\" >6,392,114 €</td>\n",
       "                        <td id=\"T_8aee4c68_a2d5_11e9_a9a4_419a49d29e61row4_col3\" class=\"data row4 col3\" >Technische Universität Graz (9.4 Mio. €)</td>\n",
       "                        <td id=\"T_8aee4c68_a2d5_11e9_a9a4_419a49d29e61row4_col4\" class=\"data row4 col4\" >Technische Universität Graz</td>\n",
       "            </tr>\n",
       "            <tr>\n",
       "                        <th id=\"T_8aee4c68_a2d5_11e9_a9a4_419a49d29e61level0_row5\" class=\"row_heading level0 row5\" >Mathematik</th>\n",
       "                        <td id=\"T_8aee4c68_a2d5_11e9_a9a4_419a49d29e61row5_col0\" class=\"data row5 col0\" >6.32%</td>\n",
       "                        <td id=\"T_8aee4c68_a2d5_11e9_a9a4_419a49d29e61row5_col1\" class=\"data row5 col1\" >3. Platz</td>\n",
       "                        <td id=\"T_8aee4c68_a2d5_11e9_a9a4_419a49d29e61row5_col2\" class=\"data row5 col2\" >5,522,420 €</td>\n",
       "                        <td id=\"T_8aee4c68_a2d5_11e9_a9a4_419a49d29e61row5_col3\" class=\"data row5 col3\" >Universität Wien (8.4 Mio. €)</td>\n",
       "                        <td id=\"T_8aee4c68_a2d5_11e9_a9a4_419a49d29e61row5_col4\" class=\"data row5 col4\" >Universität Wien, Technische Universität Graz</td>\n",
       "            </tr>\n",
       "    </tbody></table>"
      ],
      "text/plain": [
       "<pandas.io.formats.style.Styler at 0x7fe69c089e10>"
      ]
     },
     "metadata": {},
     "output_type": "display_data"
    },
    {
     "data": {
      "text/html": [
       "<h4>Ähnliche Universitäten aufgrund der Drittmittel-Struktur</h3>"
      ],
      "text/plain": [
       "<IPython.core.display.HTML object>"
      ]
     },
     "metadata": {},
     "output_type": "display_data"
    },
    {
     "data": {
      "text/html": [
       "<p><strong>Universität Linz</strong> (71.0%, wegen &auml;hnlicher Relevanz von Elektrotechnik, Elektronik, Informationstechnik, Physik, Astronomie, Informatik), <strong>Technische Universität Graz</strong> (62.4%, wegen &auml;hnlicher Relevanz von Elektrotechnik, Elektronik, Informationstechnik, Informatik, Bauwesen), <strong>Universität Innsbruck</strong> (47.6%, wegen &auml;hnlicher Relevanz von Physik, Astronomie, Bauwesen, Informatik), <strong>Montanuniversität Leoben</strong> (40.9%, wegen &auml;hnlicher Relevanz von Andere Technische Wissenschaften, Bauwesen, Maschinenbau)</p>"
      ],
      "text/plain": [
       "<IPython.core.display.HTML object>"
      ]
     },
     "metadata": {},
     "output_type": "display_data"
    },
    {
     "data": {
      "text/html": [
       "<h3>Universität Innsbruck</h3>"
      ],
      "text/plain": [
       "<IPython.core.display.HTML object>"
      ]
     },
     "metadata": {},
     "output_type": "display_data"
    },
    {
     "data": {
      "text/html": [
       "<h4>Drittmittel-Struktur</h4>"
      ],
      "text/plain": [
       "<IPython.core.display.HTML object>"
      ]
     },
     "metadata": {},
     "output_type": "display_data"
    },
    {
     "data": {
      "text/html": [
       "Angezeigt werden die gr&ouml;&szlig;ten WZW, die insgesamt mehr als 66.7% der Erl&ouml;se an der Universität Innsbruck ausmachen (exakt: 67.0%). Jeder andere WZW tr&auml;gt weniger als 6.6% bei. Die Spalte \"Ranking\" bezieht sich  auf den &ouml;sterreichweiten Vergleich der absoluten Werte im jeweiligen WZW."
      ],
      "text/plain": [
       "<IPython.core.display.HTML object>"
      ]
     },
     "metadata": {},
     "output_type": "display_data"
    },
    {
     "data": {
      "text/html": [
       "<style  type=\"text/css\" >\n",
       "    #T_8af89a60_a2d5_11e9_a9a4_419a49d29e61row0_col0 {\n",
       "            background-color:  white;\n",
       "        }    #T_8af89a60_a2d5_11e9_a9a4_419a49d29e61row0_col1 {\n",
       "            background-color:  white;\n",
       "        }    #T_8af89a60_a2d5_11e9_a9a4_419a49d29e61row0_col2 {\n",
       "            background-color:  white;\n",
       "        }    #T_8af89a60_a2d5_11e9_a9a4_419a49d29e61row0_col3 {\n",
       "            background-color:  white;\n",
       "        }    #T_8af89a60_a2d5_11e9_a9a4_419a49d29e61row0_col4 {\n",
       "            background-color:  white;\n",
       "        }    #T_8af89a60_a2d5_11e9_a9a4_419a49d29e61row1_col0 {\n",
       "            background-color:  white;\n",
       "        }    #T_8af89a60_a2d5_11e9_a9a4_419a49d29e61row1_col1 {\n",
       "            background-color:  white;\n",
       "        }    #T_8af89a60_a2d5_11e9_a9a4_419a49d29e61row1_col2 {\n",
       "            background-color:  white;\n",
       "        }    #T_8af89a60_a2d5_11e9_a9a4_419a49d29e61row1_col3 {\n",
       "            background-color:  white;\n",
       "        }    #T_8af89a60_a2d5_11e9_a9a4_419a49d29e61row1_col4 {\n",
       "            background-color:  white;\n",
       "        }    #T_8af89a60_a2d5_11e9_a9a4_419a49d29e61row2_col0 {\n",
       "            background-color:  yellow;\n",
       "        }    #T_8af89a60_a2d5_11e9_a9a4_419a49d29e61row2_col1 {\n",
       "            background-color:  yellow;\n",
       "        }    #T_8af89a60_a2d5_11e9_a9a4_419a49d29e61row2_col2 {\n",
       "            background-color:  yellow;\n",
       "        }    #T_8af89a60_a2d5_11e9_a9a4_419a49d29e61row2_col3 {\n",
       "            background-color:  yellow;\n",
       "        }    #T_8af89a60_a2d5_11e9_a9a4_419a49d29e61row2_col4 {\n",
       "            background-color:  yellow;\n",
       "        }    #T_8af89a60_a2d5_11e9_a9a4_419a49d29e61row3_col0 {\n",
       "            background-color:  white;\n",
       "        }    #T_8af89a60_a2d5_11e9_a9a4_419a49d29e61row3_col1 {\n",
       "            background-color:  white;\n",
       "        }    #T_8af89a60_a2d5_11e9_a9a4_419a49d29e61row3_col2 {\n",
       "            background-color:  white;\n",
       "        }    #T_8af89a60_a2d5_11e9_a9a4_419a49d29e61row3_col3 {\n",
       "            background-color:  white;\n",
       "        }    #T_8af89a60_a2d5_11e9_a9a4_419a49d29e61row3_col4 {\n",
       "            background-color:  white;\n",
       "        }    #T_8af89a60_a2d5_11e9_a9a4_419a49d29e61row4_col0 {\n",
       "            background-color:  yellow;\n",
       "        }    #T_8af89a60_a2d5_11e9_a9a4_419a49d29e61row4_col1 {\n",
       "            background-color:  yellow;\n",
       "        }    #T_8af89a60_a2d5_11e9_a9a4_419a49d29e61row4_col2 {\n",
       "            background-color:  yellow;\n",
       "        }    #T_8af89a60_a2d5_11e9_a9a4_419a49d29e61row4_col3 {\n",
       "            background-color:  yellow;\n",
       "        }    #T_8af89a60_a2d5_11e9_a9a4_419a49d29e61row4_col4 {\n",
       "            background-color:  yellow;\n",
       "        }    #T_8af89a60_a2d5_11e9_a9a4_419a49d29e61row5_col0 {\n",
       "            background-color:  white;\n",
       "        }    #T_8af89a60_a2d5_11e9_a9a4_419a49d29e61row5_col1 {\n",
       "            background-color:  white;\n",
       "        }    #T_8af89a60_a2d5_11e9_a9a4_419a49d29e61row5_col2 {\n",
       "            background-color:  white;\n",
       "        }    #T_8af89a60_a2d5_11e9_a9a4_419a49d29e61row5_col3 {\n",
       "            background-color:  white;\n",
       "        }    #T_8af89a60_a2d5_11e9_a9a4_419a49d29e61row5_col4 {\n",
       "            background-color:  white;\n",
       "        }</style><table id=\"T_8af89a60_a2d5_11e9_a9a4_419a49d29e61\" ><thead>    <tr>        <th class=\"blank level0\" ></th>        <th class=\"col_heading level0 col0\" >Intern</th>        <th class=\"col_heading level0 col1\" >Ranking</th>        <th class=\"col_heading level0 col2\" >Erlöse</th>        <th class=\"col_heading level0 col3\" >Beste Universität</th>        <th class=\"col_heading level0 col4\" >Bessere Universitäten</th>    </tr>    <tr>        <th class=\"index_name level0\" >WZW</th>        <th class=\"blank\" ></th>        <th class=\"blank\" ></th>        <th class=\"blank\" ></th>        <th class=\"blank\" ></th>        <th class=\"blank\" ></th>    </tr></thead><tbody>\n",
       "                <tr>\n",
       "                        <th id=\"T_8af89a60_a2d5_11e9_a9a4_419a49d29e61level0_row0\" class=\"row_heading level0 row0\" >Physik, Astronomie</th>\n",
       "                        <td id=\"T_8af89a60_a2d5_11e9_a9a4_419a49d29e61row0_col0\" class=\"data row0 col0\" >18.77%</td>\n",
       "                        <td id=\"T_8af89a60_a2d5_11e9_a9a4_419a49d29e61row0_col1\" class=\"data row0 col1\" >3. Platz</td>\n",
       "                        <td id=\"T_8af89a60_a2d5_11e9_a9a4_419a49d29e61row0_col2\" class=\"data row0 col2\" >9,281,530 €</td>\n",
       "                        <td id=\"T_8af89a60_a2d5_11e9_a9a4_419a49d29e61row0_col3\" class=\"data row0 col3\" >Technische Universität Wien (13.4 Mio. €)</td>\n",
       "                        <td id=\"T_8af89a60_a2d5_11e9_a9a4_419a49d29e61row0_col4\" class=\"data row0 col4\" >Technische Universität Wien, Universität Wien</td>\n",
       "            </tr>\n",
       "            <tr>\n",
       "                        <th id=\"T_8af89a60_a2d5_11e9_a9a4_419a49d29e61level0_row1\" class=\"row_heading level0 row1\" >Biologie</th>\n",
       "                        <td id=\"T_8af89a60_a2d5_11e9_a9a4_419a49d29e61row1_col0\" class=\"data row1 col0\" >11.47%</td>\n",
       "                        <td id=\"T_8af89a60_a2d5_11e9_a9a4_419a49d29e61row1_col1\" class=\"data row1 col1\" >4. Platz</td>\n",
       "                        <td id=\"T_8af89a60_a2d5_11e9_a9a4_419a49d29e61row1_col2\" class=\"data row1 col2\" >5,673,390 €</td>\n",
       "                        <td id=\"T_8af89a60_a2d5_11e9_a9a4_419a49d29e61row1_col3\" class=\"data row1 col3\" >Universität Wien (17.0 Mio. €)</td>\n",
       "                        <td id=\"T_8af89a60_a2d5_11e9_a9a4_419a49d29e61row1_col4\" class=\"data row1 col4\" >Universität Wien, Universität für Bodenkultur Wien, Universität Graz</td>\n",
       "            </tr>\n",
       "            <tr>\n",
       "                        <th id=\"T_8af89a60_a2d5_11e9_a9a4_419a49d29e61level0_row2\" class=\"row_heading level0 row2\" >Chemie</th>\n",
       "                        <td id=\"T_8af89a60_a2d5_11e9_a9a4_419a49d29e61row2_col0\" class=\"data row2 col0\" >10.49%</td>\n",
       "                        <td id=\"T_8af89a60_a2d5_11e9_a9a4_419a49d29e61row2_col1\" class=\"data row2 col1\" >2. Platz</td>\n",
       "                        <td id=\"T_8af89a60_a2d5_11e9_a9a4_419a49d29e61row2_col2\" class=\"data row2 col2\" >5,185,498 €</td>\n",
       "                        <td id=\"T_8af89a60_a2d5_11e9_a9a4_419a49d29e61row2_col3\" class=\"data row2 col3\" >Technische Universität Graz (9.0 Mio. €)</td>\n",
       "                        <td id=\"T_8af89a60_a2d5_11e9_a9a4_419a49d29e61row2_col4\" class=\"data row2 col4\" >Technische Universität Graz</td>\n",
       "            </tr>\n",
       "            <tr>\n",
       "                        <th id=\"T_8af89a60_a2d5_11e9_a9a4_419a49d29e61level0_row3\" class=\"row_heading level0 row3\" >Bauwesen</th>\n",
       "                        <td id=\"T_8af89a60_a2d5_11e9_a9a4_419a49d29e61row3_col0\" class=\"data row3 col0\" >10.31%</td>\n",
       "                        <td id=\"T_8af89a60_a2d5_11e9_a9a4_419a49d29e61row3_col1\" class=\"data row3 col1\" >4. Platz</td>\n",
       "                        <td id=\"T_8af89a60_a2d5_11e9_a9a4_419a49d29e61row3_col2\" class=\"data row3 col2\" >5,097,492 €</td>\n",
       "                        <td id=\"T_8af89a60_a2d5_11e9_a9a4_419a49d29e61row3_col3\" class=\"data row3 col3\" >Technische Universität Graz (9.4 Mio. €)</td>\n",
       "                        <td id=\"T_8af89a60_a2d5_11e9_a9a4_419a49d29e61row3_col4\" class=\"data row3 col4\" >Technische Universität Graz, Technische Universität Wien, Montanuniversität Leoben</td>\n",
       "            </tr>\n",
       "            <tr>\n",
       "                        <th id=\"T_8af89a60_a2d5_11e9_a9a4_419a49d29e61level0_row4\" class=\"row_heading level0 row4\" >Wirtschaftswissenschaften</th>\n",
       "                        <td id=\"T_8af89a60_a2d5_11e9_a9a4_419a49d29e61row4_col0\" class=\"data row4 col0\" >9.38%</td>\n",
       "                        <td id=\"T_8af89a60_a2d5_11e9_a9a4_419a49d29e61row4_col1\" class=\"data row4 col1\" >2. Platz</td>\n",
       "                        <td id=\"T_8af89a60_a2d5_11e9_a9a4_419a49d29e61row4_col2\" class=\"data row4 col2\" >4,638,999 €</td>\n",
       "                        <td id=\"T_8af89a60_a2d5_11e9_a9a4_419a49d29e61row4_col3\" class=\"data row4 col3\" >Wirtschaftsuniversität Wien (7.2 Mio. €)</td>\n",
       "                        <td id=\"T_8af89a60_a2d5_11e9_a9a4_419a49d29e61row4_col4\" class=\"data row4 col4\" >Wirtschaftsuniversität Wien</td>\n",
       "            </tr>\n",
       "            <tr>\n",
       "                        <th id=\"T_8af89a60_a2d5_11e9_a9a4_419a49d29e61level0_row5\" class=\"row_heading level0 row5\" >Geowissenschaften</th>\n",
       "                        <td id=\"T_8af89a60_a2d5_11e9_a9a4_419a49d29e61row5_col0\" class=\"data row5 col0\" >6.56%</td>\n",
       "                        <td id=\"T_8af89a60_a2d5_11e9_a9a4_419a49d29e61row5_col1\" class=\"data row5 col1\" >3. Platz</td>\n",
       "                        <td id=\"T_8af89a60_a2d5_11e9_a9a4_419a49d29e61row5_col2\" class=\"data row5 col2\" >3,241,716 €</td>\n",
       "                        <td id=\"T_8af89a60_a2d5_11e9_a9a4_419a49d29e61row5_col3\" class=\"data row5 col3\" >Universität Salzburg (3.7 Mio. €)</td>\n",
       "                        <td id=\"T_8af89a60_a2d5_11e9_a9a4_419a49d29e61row5_col4\" class=\"data row5 col4\" >Universität Salzburg, Universität Wien</td>\n",
       "            </tr>\n",
       "    </tbody></table>"
      ],
      "text/plain": [
       "<pandas.io.formats.style.Styler at 0x7fe69c0897b8>"
      ]
     },
     "metadata": {},
     "output_type": "display_data"
    },
    {
     "data": {
      "text/html": [
       "<h4>Ähnliche Universitäten aufgrund der Drittmittel-Struktur</h3>"
      ],
      "text/plain": [
       "<IPython.core.display.HTML object>"
      ]
     },
     "metadata": {},
     "output_type": "display_data"
    },
    {
     "data": {
      "text/html": [
       "<p><strong>Universität Wien</strong> (62.7%, wegen &auml;hnlicher Relevanz von Physik, Astronomie, Biologie, Chemie), <strong>Universität Graz</strong> (59.7%, wegen &auml;hnlicher Relevanz von Biologie, Chemie, Wirtschaftswissenschaften), <strong>Universität Salzburg</strong> (50.9%, wegen &auml;hnlicher Relevanz von Biologie, Geowissenschaften, Informatik), <strong>Technische Universität Wien</strong> (47.6%, wegen &auml;hnlicher Relevanz von Physik, Astronomie, Bauwesen, Informatik)</p>"
      ],
      "text/plain": [
       "<IPython.core.display.HTML object>"
      ]
     },
     "metadata": {},
     "output_type": "display_data"
    },
    {
     "data": {
      "text/html": [
       "<h3>Universität Mozarteum Salzburg</h3>"
      ],
      "text/plain": [
       "<IPython.core.display.HTML object>"
      ]
     },
     "metadata": {},
     "output_type": "display_data"
    },
    {
     "data": {
      "text/html": [
       "<h4>Drittmittel-Struktur</h4>"
      ],
      "text/plain": [
       "<IPython.core.display.HTML object>"
      ]
     },
     "metadata": {},
     "output_type": "display_data"
    },
    {
     "data": {
      "text/html": [
       "Angezeigt werden die gr&ouml;&szlig;ten WZW, die insgesamt mehr als 66.7% der Erl&ouml;se an der Universität Mozarteum Salzburg ausmachen (exakt: 72.9%). Jeder andere WZW tr&auml;gt weniger als 15.1% bei. Die Spalte \"Ranking\" bezieht sich  auf den &ouml;sterreichweiten Vergleich der absoluten Werte im jeweiligen WZW."
      ],
      "text/plain": [
       "<IPython.core.display.HTML object>"
      ]
     },
     "metadata": {},
     "output_type": "display_data"
    },
    {
     "data": {
      "text/html": [
       "<style  type=\"text/css\" >\n",
       "    #T_8b004760_a2d5_11e9_a9a4_419a49d29e61row0_col0 {\n",
       "            background-color:  lightgreen;\n",
       "        }    #T_8b004760_a2d5_11e9_a9a4_419a49d29e61row0_col1 {\n",
       "            background-color:  lightgreen;\n",
       "        }    #T_8b004760_a2d5_11e9_a9a4_419a49d29e61row0_col2 {\n",
       "            background-color:  lightgreen;\n",
       "        }    #T_8b004760_a2d5_11e9_a9a4_419a49d29e61row0_col3 {\n",
       "            background-color:  lightgreen;\n",
       "        }    #T_8b004760_a2d5_11e9_a9a4_419a49d29e61row0_col4 {\n",
       "            background-color:  lightgreen;\n",
       "        }    #T_8b004760_a2d5_11e9_a9a4_419a49d29e61row1_col0 {\n",
       "            background-color:  lightgreen;\n",
       "        }    #T_8b004760_a2d5_11e9_a9a4_419a49d29e61row1_col1 {\n",
       "            background-color:  lightgreen;\n",
       "        }    #T_8b004760_a2d5_11e9_a9a4_419a49d29e61row1_col2 {\n",
       "            background-color:  lightgreen;\n",
       "        }    #T_8b004760_a2d5_11e9_a9a4_419a49d29e61row1_col3 {\n",
       "            background-color:  lightgreen;\n",
       "        }    #T_8b004760_a2d5_11e9_a9a4_419a49d29e61row1_col4 {\n",
       "            background-color:  lightgreen;\n",
       "        }</style><table id=\"T_8b004760_a2d5_11e9_a9a4_419a49d29e61\" ><thead>    <tr>        <th class=\"blank level0\" ></th>        <th class=\"col_heading level0 col0\" >Intern</th>        <th class=\"col_heading level0 col1\" >Ranking</th>        <th class=\"col_heading level0 col2\" >Erlöse</th>        <th class=\"col_heading level0 col3\" >Beste Universität</th>        <th class=\"col_heading level0 col4\" >Bessere Universitäten</th>    </tr>    <tr>        <th class=\"index_name level0\" >WZW</th>        <th class=\"blank\" ></th>        <th class=\"blank\" ></th>        <th class=\"blank\" ></th>        <th class=\"blank\" ></th>        <th class=\"blank\" ></th>    </tr></thead><tbody>\n",
       "                <tr>\n",
       "                        <th id=\"T_8b004760_a2d5_11e9_a9a4_419a49d29e61level0_row0\" class=\"row_heading level0 row0\" >Interpretation - instrumental</th>\n",
       "                        <td id=\"T_8b004760_a2d5_11e9_a9a4_419a49d29e61row0_col0\" class=\"data row0 col0\" >57.74%</td>\n",
       "                        <td id=\"T_8b004760_a2d5_11e9_a9a4_419a49d29e61row0_col1\" class=\"data row0 col1\" >1. Platz</td>\n",
       "                        <td id=\"T_8b004760_a2d5_11e9_a9a4_419a49d29e61row0_col2\" class=\"data row0 col2\" >798,954 €</td>\n",
       "                        <td id=\"T_8b004760_a2d5_11e9_a9a4_419a49d29e61row0_col3\" class=\"data row0 col3\" >(diese)</td>\n",
       "                        <td id=\"T_8b004760_a2d5_11e9_a9a4_419a49d29e61row0_col4\" class=\"data row0 col4\" >(keine)</td>\n",
       "            </tr>\n",
       "            <tr>\n",
       "                        <th id=\"T_8b004760_a2d5_11e9_a9a4_419a49d29e61level0_row1\" class=\"row_heading level0 row1\" >Pädagogik / Vermittlung</th>\n",
       "                        <td id=\"T_8b004760_a2d5_11e9_a9a4_419a49d29e61row1_col0\" class=\"data row1 col0\" >15.12%</td>\n",
       "                        <td id=\"T_8b004760_a2d5_11e9_a9a4_419a49d29e61row1_col1\" class=\"data row1 col1\" >1. Platz</td>\n",
       "                        <td id=\"T_8b004760_a2d5_11e9_a9a4_419a49d29e61row1_col2\" class=\"data row1 col2\" >209,177 €</td>\n",
       "                        <td id=\"T_8b004760_a2d5_11e9_a9a4_419a49d29e61row1_col3\" class=\"data row1 col3\" >(diese)</td>\n",
       "                        <td id=\"T_8b004760_a2d5_11e9_a9a4_419a49d29e61row1_col4\" class=\"data row1 col4\" >(keine)</td>\n",
       "            </tr>\n",
       "    </tbody></table>"
      ],
      "text/plain": [
       "<pandas.io.formats.style.Styler at 0x7fe68f7c3c18>"
      ]
     },
     "metadata": {},
     "output_type": "display_data"
    },
    {
     "data": {
      "text/html": [
       "<h4>Ähnliche Universitäten aufgrund der Drittmittel-Struktur</h3>"
      ],
      "text/plain": [
       "<IPython.core.display.HTML object>"
      ]
     },
     "metadata": {},
     "output_type": "display_data"
    },
    {
     "data": {
      "text/html": [
       "<p><strong>Universität für Musik und darstellende Kunst Graz</strong> (17.1%, wegen &auml;hnlicher Relevanz von Interpretation - instrumental, Komposition, Andere Geisteswissenschaften), <strong>Universität für Musik und darstellende Kunst Wien</strong> (15.8%, wegen &auml;hnlicher Relevanz von Andere Geisteswissenschaften, Interpretation - vokal, Interpretation - instrumental), <strong>Universität für künstlerische und industrielle Gestaltung Linz</strong> (4.6%, wegen &auml;hnlicher Relevanz von Andere Geisteswissenschaften, Pädagogik / Vermittlung (2), Wirtschaftswissenschaften), <strong>Universität für Weiterbildung Krems</strong> (1.7%, wegen &auml;hnlicher Relevanz von Andere Geisteswissenschaften, Wirtschaftswissenschaften, Design)</p>"
      ],
      "text/plain": [
       "<IPython.core.display.HTML object>"
      ]
     },
     "metadata": {},
     "output_type": "display_data"
    },
    {
     "data": {
      "text/html": [
       "<h3>Universität für Weiterbildung Krems</h3>"
      ],
      "text/plain": [
       "<IPython.core.display.HTML object>"
      ]
     },
     "metadata": {},
     "output_type": "display_data"
    },
    {
     "data": {
      "text/html": [
       "<h4>Drittmittel-Struktur</h4>"
      ],
      "text/plain": [
       "<IPython.core.display.HTML object>"
      ]
     },
     "metadata": {},
     "output_type": "display_data"
    },
    {
     "data": {
      "text/html": [
       "Angezeigt werden die gr&ouml;&szlig;ten WZW, die insgesamt mehr als 66.7% der Erl&ouml;se an der Universität für Weiterbildung Krems ausmachen (exakt: 67.1%). Jeder andere WZW tr&auml;gt weniger als 4.9% bei. Die Spalte \"Ranking\" bezieht sich  auf den &ouml;sterreichweiten Vergleich der absoluten Werte im jeweiligen WZW."
      ],
      "text/plain": [
       "<IPython.core.display.HTML object>"
      ]
     },
     "metadata": {},
     "output_type": "display_data"
    },
    {
     "data": {
      "text/html": [
       "<style  type=\"text/css\" >\n",
       "    #T_8b0cf41a_a2d5_11e9_a9a4_419a49d29e61row0_col0 {\n",
       "            background-color:  white;\n",
       "        }    #T_8b0cf41a_a2d5_11e9_a9a4_419a49d29e61row0_col1 {\n",
       "            background-color:  white;\n",
       "        }    #T_8b0cf41a_a2d5_11e9_a9a4_419a49d29e61row0_col2 {\n",
       "            background-color:  white;\n",
       "        }    #T_8b0cf41a_a2d5_11e9_a9a4_419a49d29e61row0_col3 {\n",
       "            background-color:  white;\n",
       "        }    #T_8b0cf41a_a2d5_11e9_a9a4_419a49d29e61row0_col4 {\n",
       "            background-color:  white;\n",
       "        }    #T_8b0cf41a_a2d5_11e9_a9a4_419a49d29e61row1_col0 {\n",
       "            background-color:  white;\n",
       "        }    #T_8b0cf41a_a2d5_11e9_a9a4_419a49d29e61row1_col1 {\n",
       "            background-color:  white;\n",
       "        }    #T_8b0cf41a_a2d5_11e9_a9a4_419a49d29e61row1_col2 {\n",
       "            background-color:  white;\n",
       "        }    #T_8b0cf41a_a2d5_11e9_a9a4_419a49d29e61row1_col3 {\n",
       "            background-color:  white;\n",
       "        }    #T_8b0cf41a_a2d5_11e9_a9a4_419a49d29e61row1_col4 {\n",
       "            background-color:  white;\n",
       "        }    #T_8b0cf41a_a2d5_11e9_a9a4_419a49d29e61row2_col0 {\n",
       "            background-color:  yellow;\n",
       "        }    #T_8b0cf41a_a2d5_11e9_a9a4_419a49d29e61row2_col1 {\n",
       "            background-color:  yellow;\n",
       "        }    #T_8b0cf41a_a2d5_11e9_a9a4_419a49d29e61row2_col2 {\n",
       "            background-color:  yellow;\n",
       "        }    #T_8b0cf41a_a2d5_11e9_a9a4_419a49d29e61row2_col3 {\n",
       "            background-color:  yellow;\n",
       "        }    #T_8b0cf41a_a2d5_11e9_a9a4_419a49d29e61row2_col4 {\n",
       "            background-color:  yellow;\n",
       "        }    #T_8b0cf41a_a2d5_11e9_a9a4_419a49d29e61row3_col0 {\n",
       "            background-color:  white;\n",
       "        }    #T_8b0cf41a_a2d5_11e9_a9a4_419a49d29e61row3_col1 {\n",
       "            background-color:  white;\n",
       "        }    #T_8b0cf41a_a2d5_11e9_a9a4_419a49d29e61row3_col2 {\n",
       "            background-color:  white;\n",
       "        }    #T_8b0cf41a_a2d5_11e9_a9a4_419a49d29e61row3_col3 {\n",
       "            background-color:  white;\n",
       "        }    #T_8b0cf41a_a2d5_11e9_a9a4_419a49d29e61row3_col4 {\n",
       "            background-color:  white;\n",
       "        }    #T_8b0cf41a_a2d5_11e9_a9a4_419a49d29e61row4_col0 {\n",
       "            background-color:  white;\n",
       "        }    #T_8b0cf41a_a2d5_11e9_a9a4_419a49d29e61row4_col1 {\n",
       "            background-color:  white;\n",
       "        }    #T_8b0cf41a_a2d5_11e9_a9a4_419a49d29e61row4_col2 {\n",
       "            background-color:  white;\n",
       "        }    #T_8b0cf41a_a2d5_11e9_a9a4_419a49d29e61row4_col3 {\n",
       "            background-color:  white;\n",
       "        }    #T_8b0cf41a_a2d5_11e9_a9a4_419a49d29e61row4_col4 {\n",
       "            background-color:  white;\n",
       "        }    #T_8b0cf41a_a2d5_11e9_a9a4_419a49d29e61row5_col0 {\n",
       "            background-color:  white;\n",
       "        }    #T_8b0cf41a_a2d5_11e9_a9a4_419a49d29e61row5_col1 {\n",
       "            background-color:  white;\n",
       "        }    #T_8b0cf41a_a2d5_11e9_a9a4_419a49d29e61row5_col2 {\n",
       "            background-color:  white;\n",
       "        }    #T_8b0cf41a_a2d5_11e9_a9a4_419a49d29e61row5_col3 {\n",
       "            background-color:  white;\n",
       "        }    #T_8b0cf41a_a2d5_11e9_a9a4_419a49d29e61row5_col4 {\n",
       "            background-color:  white;\n",
       "        }    #T_8b0cf41a_a2d5_11e9_a9a4_419a49d29e61row6_col0 {\n",
       "            background-color:  white;\n",
       "        }    #T_8b0cf41a_a2d5_11e9_a9a4_419a49d29e61row6_col1 {\n",
       "            background-color:  white;\n",
       "        }    #T_8b0cf41a_a2d5_11e9_a9a4_419a49d29e61row6_col2 {\n",
       "            background-color:  white;\n",
       "        }    #T_8b0cf41a_a2d5_11e9_a9a4_419a49d29e61row6_col3 {\n",
       "            background-color:  white;\n",
       "        }    #T_8b0cf41a_a2d5_11e9_a9a4_419a49d29e61row6_col4 {\n",
       "            background-color:  white;\n",
       "        }    #T_8b0cf41a_a2d5_11e9_a9a4_419a49d29e61row7_col0 {\n",
       "            background-color:  white;\n",
       "        }    #T_8b0cf41a_a2d5_11e9_a9a4_419a49d29e61row7_col1 {\n",
       "            background-color:  white;\n",
       "        }    #T_8b0cf41a_a2d5_11e9_a9a4_419a49d29e61row7_col2 {\n",
       "            background-color:  white;\n",
       "        }    #T_8b0cf41a_a2d5_11e9_a9a4_419a49d29e61row7_col3 {\n",
       "            background-color:  white;\n",
       "        }    #T_8b0cf41a_a2d5_11e9_a9a4_419a49d29e61row7_col4 {\n",
       "            background-color:  white;\n",
       "        }    #T_8b0cf41a_a2d5_11e9_a9a4_419a49d29e61row8_col0 {\n",
       "            background-color:  white;\n",
       "        }    #T_8b0cf41a_a2d5_11e9_a9a4_419a49d29e61row8_col1 {\n",
       "            background-color:  white;\n",
       "        }    #T_8b0cf41a_a2d5_11e9_a9a4_419a49d29e61row8_col2 {\n",
       "            background-color:  white;\n",
       "        }    #T_8b0cf41a_a2d5_11e9_a9a4_419a49d29e61row8_col3 {\n",
       "            background-color:  white;\n",
       "        }    #T_8b0cf41a_a2d5_11e9_a9a4_419a49d29e61row8_col4 {\n",
       "            background-color:  white;\n",
       "        }</style><table id=\"T_8b0cf41a_a2d5_11e9_a9a4_419a49d29e61\" ><thead>    <tr>        <th class=\"blank level0\" ></th>        <th class=\"col_heading level0 col0\" >Intern</th>        <th class=\"col_heading level0 col1\" >Ranking</th>        <th class=\"col_heading level0 col2\" >Erlöse</th>        <th class=\"col_heading level0 col3\" >Beste Universität</th>        <th class=\"col_heading level0 col4\" >Bessere Universitäten</th>    </tr>    <tr>        <th class=\"index_name level0\" >WZW</th>        <th class=\"blank\" ></th>        <th class=\"blank\" ></th>        <th class=\"blank\" ></th>        <th class=\"blank\" ></th>        <th class=\"blank\" ></th>    </tr></thead><tbody>\n",
       "                <tr>\n",
       "                        <th id=\"T_8b0cf41a_a2d5_11e9_a9a4_419a49d29e61level0_row0\" class=\"row_heading level0 row0\" >Gesundheitswissenschaften</th>\n",
       "                        <td id=\"T_8b0cf41a_a2d5_11e9_a9a4_419a49d29e61row0_col0\" class=\"data row0 col0\" >12.08%</td>\n",
       "                        <td id=\"T_8b0cf41a_a2d5_11e9_a9a4_419a49d29e61row0_col1\" class=\"data row0 col1\" >5. Platz</td>\n",
       "                        <td id=\"T_8b0cf41a_a2d5_11e9_a9a4_419a49d29e61row0_col2\" class=\"data row0 col2\" >798,348 €</td>\n",
       "                        <td id=\"T_8b0cf41a_a2d5_11e9_a9a4_419a49d29e61row0_col3\" class=\"data row0 col3\" >Medizinische Universität Wien (10.6 Mio. €)</td>\n",
       "                        <td id=\"T_8b0cf41a_a2d5_11e9_a9a4_419a49d29e61row0_col4\" class=\"data row0 col4\" >Medizinische Universität Wien, Medizinische Universität Innsbruck, Universität Wien, Universität Innsbruck</td>\n",
       "            </tr>\n",
       "            <tr>\n",
       "                        <th id=\"T_8b0cf41a_a2d5_11e9_a9a4_419a49d29e61level0_row1\" class=\"row_heading level0 row1\" >Elektrotechnik, Elektronik, Informationstechnik</th>\n",
       "                        <td id=\"T_8b0cf41a_a2d5_11e9_a9a4_419a49d29e61row1_col0\" class=\"data row1 col0\" >10.64%</td>\n",
       "                        <td id=\"T_8b0cf41a_a2d5_11e9_a9a4_419a49d29e61row1_col1\" class=\"data row1 col1\" >5. Platz</td>\n",
       "                        <td id=\"T_8b0cf41a_a2d5_11e9_a9a4_419a49d29e61row1_col2\" class=\"data row1 col2\" >702,906 €</td>\n",
       "                        <td id=\"T_8b0cf41a_a2d5_11e9_a9a4_419a49d29e61row1_col3\" class=\"data row1 col3\" >Technische Universität Wien (16.0 Mio. €)</td>\n",
       "                        <td id=\"T_8b0cf41a_a2d5_11e9_a9a4_419a49d29e61row1_col4\" class=\"data row1 col4\" >Technische Universität Wien, Technische Universität Graz, Universität Linz, Universität Innsbruck</td>\n",
       "            </tr>\n",
       "            <tr>\n",
       "                        <th id=\"T_8b0cf41a_a2d5_11e9_a9a4_419a49d29e61level0_row2\" class=\"row_heading level0 row2\" >Politikwissenschaften</th>\n",
       "                        <td id=\"T_8b0cf41a_a2d5_11e9_a9a4_419a49d29e61row2_col0\" class=\"data row2 col0\" >8.56%</td>\n",
       "                        <td id=\"T_8b0cf41a_a2d5_11e9_a9a4_419a49d29e61row2_col1\" class=\"data row2 col1\" >2. Platz</td>\n",
       "                        <td id=\"T_8b0cf41a_a2d5_11e9_a9a4_419a49d29e61row2_col2\" class=\"data row2 col2\" >565,392 €</td>\n",
       "                        <td id=\"T_8b0cf41a_a2d5_11e9_a9a4_419a49d29e61row2_col3\" class=\"data row2 col3\" >Universität Wien (1.6 Mio. €)</td>\n",
       "                        <td id=\"T_8b0cf41a_a2d5_11e9_a9a4_419a49d29e61row2_col4\" class=\"data row2 col4\" >Universität Wien</td>\n",
       "            </tr>\n",
       "            <tr>\n",
       "                        <th id=\"T_8b0cf41a_a2d5_11e9_a9a4_419a49d29e61level0_row3\" class=\"row_heading level0 row3\" >Medizinische Biotechnologie</th>\n",
       "                        <td id=\"T_8b0cf41a_a2d5_11e9_a9a4_419a49d29e61row3_col0\" class=\"data row3 col0\" >7.35%</td>\n",
       "                        <td id=\"T_8b0cf41a_a2d5_11e9_a9a4_419a49d29e61row3_col1\" class=\"data row3 col1\" >3. Platz</td>\n",
       "                        <td id=\"T_8b0cf41a_a2d5_11e9_a9a4_419a49d29e61row3_col2\" class=\"data row3 col2\" >485,534 €</td>\n",
       "                        <td id=\"T_8b0cf41a_a2d5_11e9_a9a4_419a49d29e61row3_col3\" class=\"data row3 col3\" >Universität für Bodenkultur Wien (1.4 Mio. €)</td>\n",
       "                        <td id=\"T_8b0cf41a_a2d5_11e9_a9a4_419a49d29e61row3_col4\" class=\"data row3 col4\" >Universität für Bodenkultur Wien, Medizinische Universität Graz</td>\n",
       "            </tr>\n",
       "            <tr>\n",
       "                        <th id=\"T_8b0cf41a_a2d5_11e9_a9a4_419a49d29e61level0_row4\" class=\"row_heading level0 row4\" >Physik, Astronomie</th>\n",
       "                        <td id=\"T_8b0cf41a_a2d5_11e9_a9a4_419a49d29e61row4_col0\" class=\"data row4 col0\" >6.08%</td>\n",
       "                        <td id=\"T_8b0cf41a_a2d5_11e9_a9a4_419a49d29e61row4_col1\" class=\"data row4 col1\" >10. Platz</td>\n",
       "                        <td id=\"T_8b0cf41a_a2d5_11e9_a9a4_419a49d29e61row4_col2\" class=\"data row4 col2\" >401,762 €</td>\n",
       "                        <td id=\"T_8b0cf41a_a2d5_11e9_a9a4_419a49d29e61row4_col3\" class=\"data row4 col3\" >Technische Universität Wien (13.4 Mio. €)</td>\n",
       "                        <td id=\"T_8b0cf41a_a2d5_11e9_a9a4_419a49d29e61row4_col4\" class=\"data row4 col4\" >Technische Universität Wien, Universität Wien, Universität Innsbruck, Universität Linz, Technische Universität Graz, Universität Graz, Universität Salzburg, Montanuniversität Leoben, Universität für Bodenkultur Wien</td>\n",
       "            </tr>\n",
       "            <tr>\n",
       "                        <th id=\"T_8b0cf41a_a2d5_11e9_a9a4_419a49d29e61level0_row5\" class=\"row_heading level0 row5\" >Andere Sozialwissenschaften</th>\n",
       "                        <td id=\"T_8b0cf41a_a2d5_11e9_a9a4_419a49d29e61row5_col0\" class=\"data row5 col0\" >6.07%</td>\n",
       "                        <td id=\"T_8b0cf41a_a2d5_11e9_a9a4_419a49d29e61row5_col1\" class=\"data row5 col1\" >5. Platz</td>\n",
       "                        <td id=\"T_8b0cf41a_a2d5_11e9_a9a4_419a49d29e61row5_col2\" class=\"data row5 col2\" >400,931 €</td>\n",
       "                        <td id=\"T_8b0cf41a_a2d5_11e9_a9a4_419a49d29e61row5_col3\" class=\"data row5 col3\" >Universität Wien (1.1 Mio. €)</td>\n",
       "                        <td id=\"T_8b0cf41a_a2d5_11e9_a9a4_419a49d29e61row5_col4\" class=\"data row5 col4\" >Universität Wien, Universität für Bodenkultur Wien, Universität Klagenfurt, Universität Salzburg</td>\n",
       "            </tr>\n",
       "            <tr>\n",
       "                        <th id=\"T_8b0cf41a_a2d5_11e9_a9a4_419a49d29e61level0_row6\" class=\"row_heading level0 row6\" >Andere Humanmedizin, Gesundheitswissenschaften</th>\n",
       "                        <td id=\"T_8b0cf41a_a2d5_11e9_a9a4_419a49d29e61row6_col0\" class=\"data row6 col0\" >6.03%</td>\n",
       "                        <td id=\"T_8b0cf41a_a2d5_11e9_a9a4_419a49d29e61row6_col1\" class=\"data row6 col1\" >5. Platz</td>\n",
       "                        <td id=\"T_8b0cf41a_a2d5_11e9_a9a4_419a49d29e61row6_col2\" class=\"data row6 col2\" >398,633 €</td>\n",
       "                        <td id=\"T_8b0cf41a_a2d5_11e9_a9a4_419a49d29e61row6_col3\" class=\"data row6 col3\" >Medizinische Universität Innsbruck (9.9 Mio. €)</td>\n",
       "                        <td id=\"T_8b0cf41a_a2d5_11e9_a9a4_419a49d29e61row6_col4\" class=\"data row6 col4\" >Medizinische Universität Innsbruck, Medizinische Universität Graz, Medizinische Universität Wien, Universität für Bodenkultur Wien</td>\n",
       "            </tr>\n",
       "            <tr>\n",
       "                        <th id=\"T_8b0cf41a_a2d5_11e9_a9a4_419a49d29e61level0_row7\" class=\"row_heading level0 row7\" >Informatik</th>\n",
       "                        <td id=\"T_8b0cf41a_a2d5_11e9_a9a4_419a49d29e61row7_col0\" class=\"data row7 col0\" >5.38%</td>\n",
       "                        <td id=\"T_8b0cf41a_a2d5_11e9_a9a4_419a49d29e61row7_col1\" class=\"data row7 col1\" >11. Platz</td>\n",
       "                        <td id=\"T_8b0cf41a_a2d5_11e9_a9a4_419a49d29e61row7_col2\" class=\"data row7 col2\" >355,582 €</td>\n",
       "                        <td id=\"T_8b0cf41a_a2d5_11e9_a9a4_419a49d29e61row7_col3\" class=\"data row7 col3\" >Technische Universität Wien (10.6 Mio. €)</td>\n",
       "                        <td id=\"T_8b0cf41a_a2d5_11e9_a9a4_419a49d29e61row7_col4\" class=\"data row7 col4\" >Technische Universität Wien, Technische Universität Graz, Universität Linz, Universität Innsbruck, Universität Wien, Universität Klagenfurt, Universität Salzburg, Wirtschaftsuniversität Wien, Universität für Bodenkultur Wien, Medizinische Universität Graz</td>\n",
       "            </tr>\n",
       "            <tr>\n",
       "                        <th id=\"T_8b0cf41a_a2d5_11e9_a9a4_419a49d29e61level0_row8\" class=\"row_heading level0 row8\" >Bauwesen</th>\n",
       "                        <td id=\"T_8b0cf41a_a2d5_11e9_a9a4_419a49d29e61row8_col0\" class=\"data row8 col0\" >4.90%</td>\n",
       "                        <td id=\"T_8b0cf41a_a2d5_11e9_a9a4_419a49d29e61row8_col1\" class=\"data row8 col1\" >6. Platz</td>\n",
       "                        <td id=\"T_8b0cf41a_a2d5_11e9_a9a4_419a49d29e61row8_col2\" class=\"data row8 col2\" >323,508 €</td>\n",
       "                        <td id=\"T_8b0cf41a_a2d5_11e9_a9a4_419a49d29e61row8_col3\" class=\"data row8 col3\" >Technische Universität Graz (9.4 Mio. €)</td>\n",
       "                        <td id=\"T_8b0cf41a_a2d5_11e9_a9a4_419a49d29e61row8_col4\" class=\"data row8 col4\" >Technische Universität Graz, Technische Universität Wien, Montanuniversität Leoben, Universität Innsbruck, Universität für Bodenkultur Wien</td>\n",
       "            </tr>\n",
       "    </tbody></table>"
      ],
      "text/plain": [
       "<pandas.io.formats.style.Styler at 0x7fe68f7c3a20>"
      ]
     },
     "metadata": {},
     "output_type": "display_data"
    },
    {
     "data": {
      "text/html": [
       "<h4>Ähnliche Universitäten aufgrund der Drittmittel-Struktur</h3>"
      ],
      "text/plain": [
       "<IPython.core.display.HTML object>"
      ]
     },
     "metadata": {},
     "output_type": "display_data"
    },
    {
     "data": {
      "text/html": [
       "<p><strong>Universität Innsbruck</strong> (39.7%, wegen &auml;hnlicher Relevanz von Physik, Astronomie, Informatik, Bauwesen), <strong>Universität Klagenfurt</strong> (39.2%, wegen &auml;hnlicher Relevanz von Elektrotechnik, Elektronik, Informationstechnik, Andere Sozialwissenschaften, Informatik), <strong>Technische Universität Wien</strong> (37.8%, wegen &auml;hnlicher Relevanz von Elektrotechnik, Elektronik, Informationstechnik, Physik, Astronomie, Informatik), <strong>Universität Wien</strong> (35.7%, wegen &auml;hnlicher Relevanz von Physik, Astronomie, Biologie, Informatik)</p>"
      ],
      "text/plain": [
       "<IPython.core.display.HTML object>"
      ]
     },
     "metadata": {},
     "output_type": "display_data"
    },
    {
     "data": {
      "text/html": [
       "<h3>Medizinische Universität Graz</h3>"
      ],
      "text/plain": [
       "<IPython.core.display.HTML object>"
      ]
     },
     "metadata": {},
     "output_type": "display_data"
    },
    {
     "data": {
      "text/html": [
       "<h4>Drittmittel-Struktur</h4>"
      ],
      "text/plain": [
       "<IPython.core.display.HTML object>"
      ]
     },
     "metadata": {},
     "output_type": "display_data"
    },
    {
     "data": {
      "text/html": [
       "Angezeigt werden die gr&ouml;&szlig;ten WZW, die insgesamt mehr als 66.7% der Erl&ouml;se an der Medizinische Universität Graz ausmachen (exakt: 67.9%). Jeder andere WZW tr&auml;gt weniger als 67.9% bei. Die Spalte \"Ranking\" bezieht sich  auf den &ouml;sterreichweiten Vergleich der absoluten Werte im jeweiligen WZW."
      ],
      "text/plain": [
       "<IPython.core.display.HTML object>"
      ]
     },
     "metadata": {},
     "output_type": "display_data"
    },
    {
     "data": {
      "text/html": [
       "<style  type=\"text/css\" >\n",
       "    #T_8b13e072_a2d5_11e9_a9a4_419a49d29e61row0_col0 {\n",
       "            background-color:  lightgreen;\n",
       "        }    #T_8b13e072_a2d5_11e9_a9a4_419a49d29e61row0_col1 {\n",
       "            background-color:  lightgreen;\n",
       "        }    #T_8b13e072_a2d5_11e9_a9a4_419a49d29e61row0_col2 {\n",
       "            background-color:  lightgreen;\n",
       "        }    #T_8b13e072_a2d5_11e9_a9a4_419a49d29e61row0_col3 {\n",
       "            background-color:  lightgreen;\n",
       "        }    #T_8b13e072_a2d5_11e9_a9a4_419a49d29e61row0_col4 {\n",
       "            background-color:  lightgreen;\n",
       "        }</style><table id=\"T_8b13e072_a2d5_11e9_a9a4_419a49d29e61\" ><thead>    <tr>        <th class=\"blank level0\" ></th>        <th class=\"col_heading level0 col0\" >Intern</th>        <th class=\"col_heading level0 col1\" >Ranking</th>        <th class=\"col_heading level0 col2\" >Erlöse</th>        <th class=\"col_heading level0 col3\" >Beste Universität</th>        <th class=\"col_heading level0 col4\" >Bessere Universitäten</th>    </tr>    <tr>        <th class=\"index_name level0\" >WZW</th>        <th class=\"blank\" ></th>        <th class=\"blank\" ></th>        <th class=\"blank\" ></th>        <th class=\"blank\" ></th>        <th class=\"blank\" ></th>    </tr></thead><tbody>\n",
       "                <tr>\n",
       "                        <th id=\"T_8b13e072_a2d5_11e9_a9a4_419a49d29e61level0_row0\" class=\"row_heading level0 row0\" >Medizinisch-theoretische Wissenschaften, Pharmazie</th>\n",
       "                        <td id=\"T_8b13e072_a2d5_11e9_a9a4_419a49d29e61row0_col0\" class=\"data row0 col0\" >67.87%</td>\n",
       "                        <td id=\"T_8b13e072_a2d5_11e9_a9a4_419a49d29e61row0_col1\" class=\"data row0 col1\" >1. Platz</td>\n",
       "                        <td id=\"T_8b13e072_a2d5_11e9_a9a4_419a49d29e61row0_col2\" class=\"data row0 col2\" >34,148,791 €</td>\n",
       "                        <td id=\"T_8b13e072_a2d5_11e9_a9a4_419a49d29e61row0_col3\" class=\"data row0 col3\" >(diese)</td>\n",
       "                        <td id=\"T_8b13e072_a2d5_11e9_a9a4_419a49d29e61row0_col4\" class=\"data row0 col4\" >(keine)</td>\n",
       "            </tr>\n",
       "    </tbody></table>"
      ],
      "text/plain": [
       "<pandas.io.formats.style.Styler at 0x7fe68f7c3dd8>"
      ]
     },
     "metadata": {},
     "output_type": "display_data"
    },
    {
     "data": {
      "text/html": [
       "<h4>Ähnliche Universitäten aufgrund der Drittmittel-Struktur</h3>"
      ],
      "text/plain": [
       "<IPython.core.display.HTML object>"
      ]
     },
     "metadata": {},
     "output_type": "display_data"
    },
    {
     "data": {
      "text/html": [
       "<p><strong>Medizinische Universität Innsbruck</strong> (45.7%, wegen &auml;hnlicher Relevanz von Klinische Medizin, Medizinisch-theoretische Wissenschaften, Pharmazie, Andere Humanmedizin, Gesundheitswissenschaften), <strong>Medizinische Universität Wien</strong> (45.0%, wegen &auml;hnlicher Relevanz von Medizinisch-theoretische Wissenschaften, Pharmazie, Klinische Medizin, Andere Humanmedizin, Gesundheitswissenschaften), <strong>Universität für Weiterbildung Krems</strong> (17.0%, wegen &auml;hnlicher Relevanz von Andere Humanmedizin, Gesundheitswissenschaften, Klinische Medizin, Biologie), <strong>Universität Salzburg</strong> (15.9%, wegen &auml;hnlicher Relevanz von Medizinisch-theoretische Wissenschaften, Pharmazie, Biologie, Andere Humanmedizin, Gesundheitswissenschaften)</p>"
      ],
      "text/plain": [
       "<IPython.core.display.HTML object>"
      ]
     },
     "metadata": {},
     "output_type": "display_data"
    },
    {
     "data": {
      "text/html": [
       "<h3>Medizinische Universität Innsbruck</h3>"
      ],
      "text/plain": [
       "<IPython.core.display.HTML object>"
      ]
     },
     "metadata": {},
     "output_type": "display_data"
    },
    {
     "data": {
      "text/html": [
       "<h4>Drittmittel-Struktur</h4>"
      ],
      "text/plain": [
       "<IPython.core.display.HTML object>"
      ]
     },
     "metadata": {},
     "output_type": "display_data"
    },
    {
     "data": {
      "text/html": [
       "Angezeigt werden die gr&ouml;&szlig;ten WZW, die insgesamt mehr als 66.7% der Erl&ouml;se an der Medizinische Universität Innsbruck ausmachen (exakt: 76.8%). Jeder andere WZW tr&auml;gt weniger als 22.5% bei. Die Spalte \"Ranking\" bezieht sich  auf den &ouml;sterreichweiten Vergleich der absoluten Werte im jeweiligen WZW."
      ],
      "text/plain": [
       "<IPython.core.display.HTML object>"
      ]
     },
     "metadata": {},
     "output_type": "display_data"
    },
    {
     "data": {
      "text/html": [
       "<style  type=\"text/css\" >\n",
       "    #T_8b1bed9e_a2d5_11e9_a9a4_419a49d29e61row0_col0 {\n",
       "            background-color:  yellow;\n",
       "        }    #T_8b1bed9e_a2d5_11e9_a9a4_419a49d29e61row0_col1 {\n",
       "            background-color:  yellow;\n",
       "        }    #T_8b1bed9e_a2d5_11e9_a9a4_419a49d29e61row0_col2 {\n",
       "            background-color:  yellow;\n",
       "        }    #T_8b1bed9e_a2d5_11e9_a9a4_419a49d29e61row0_col3 {\n",
       "            background-color:  yellow;\n",
       "        }    #T_8b1bed9e_a2d5_11e9_a9a4_419a49d29e61row0_col4 {\n",
       "            background-color:  yellow;\n",
       "        }    #T_8b1bed9e_a2d5_11e9_a9a4_419a49d29e61row1_col0 {\n",
       "            background-color:  lightgreen;\n",
       "        }    #T_8b1bed9e_a2d5_11e9_a9a4_419a49d29e61row1_col1 {\n",
       "            background-color:  lightgreen;\n",
       "        }    #T_8b1bed9e_a2d5_11e9_a9a4_419a49d29e61row1_col2 {\n",
       "            background-color:  lightgreen;\n",
       "        }    #T_8b1bed9e_a2d5_11e9_a9a4_419a49d29e61row1_col3 {\n",
       "            background-color:  lightgreen;\n",
       "        }    #T_8b1bed9e_a2d5_11e9_a9a4_419a49d29e61row1_col4 {\n",
       "            background-color:  lightgreen;\n",
       "        }    #T_8b1bed9e_a2d5_11e9_a9a4_419a49d29e61row2_col0 {\n",
       "            background-color:  yellow;\n",
       "        }    #T_8b1bed9e_a2d5_11e9_a9a4_419a49d29e61row2_col1 {\n",
       "            background-color:  yellow;\n",
       "        }    #T_8b1bed9e_a2d5_11e9_a9a4_419a49d29e61row2_col2 {\n",
       "            background-color:  yellow;\n",
       "        }    #T_8b1bed9e_a2d5_11e9_a9a4_419a49d29e61row2_col3 {\n",
       "            background-color:  yellow;\n",
       "        }    #T_8b1bed9e_a2d5_11e9_a9a4_419a49d29e61row2_col4 {\n",
       "            background-color:  yellow;\n",
       "        }</style><table id=\"T_8b1bed9e_a2d5_11e9_a9a4_419a49d29e61\" ><thead>    <tr>        <th class=\"blank level0\" ></th>        <th class=\"col_heading level0 col0\" >Intern</th>        <th class=\"col_heading level0 col1\" >Ranking</th>        <th class=\"col_heading level0 col2\" >Erlöse</th>        <th class=\"col_heading level0 col3\" >Beste Universität</th>        <th class=\"col_heading level0 col4\" >Bessere Universitäten</th>    </tr>    <tr>        <th class=\"index_name level0\" >WZW</th>        <th class=\"blank\" ></th>        <th class=\"blank\" ></th>        <th class=\"blank\" ></th>        <th class=\"blank\" ></th>        <th class=\"blank\" ></th>    </tr></thead><tbody>\n",
       "                <tr>\n",
       "                        <th id=\"T_8b1bed9e_a2d5_11e9_a9a4_419a49d29e61level0_row0\" class=\"row_heading level0 row0\" >Klinische Medizin</th>\n",
       "                        <td id=\"T_8b1bed9e_a2d5_11e9_a9a4_419a49d29e61row0_col0\" class=\"data row0 col0\" >30.75%</td>\n",
       "                        <td id=\"T_8b1bed9e_a2d5_11e9_a9a4_419a49d29e61row0_col1\" class=\"data row0 col1\" >2. Platz</td>\n",
       "                        <td id=\"T_8b1bed9e_a2d5_11e9_a9a4_419a49d29e61row0_col2\" class=\"data row0 col2\" >12,965,389 €</td>\n",
       "                        <td id=\"T_8b1bed9e_a2d5_11e9_a9a4_419a49d29e61row0_col3\" class=\"data row0 col3\" >Medizinische Universität Wien (58.4 Mio. €)</td>\n",
       "                        <td id=\"T_8b1bed9e_a2d5_11e9_a9a4_419a49d29e61row0_col4\" class=\"data row0 col4\" >Medizinische Universität Wien</td>\n",
       "            </tr>\n",
       "            <tr>\n",
       "                        <th id=\"T_8b1bed9e_a2d5_11e9_a9a4_419a49d29e61level0_row1\" class=\"row_heading level0 row1\" >Andere Humanmedizin, Gesundheitswissenschaften</th>\n",
       "                        <td id=\"T_8b1bed9e_a2d5_11e9_a9a4_419a49d29e61row1_col0\" class=\"data row1 col0\" >23.53%</td>\n",
       "                        <td id=\"T_8b1bed9e_a2d5_11e9_a9a4_419a49d29e61row1_col1\" class=\"data row1 col1\" >1. Platz</td>\n",
       "                        <td id=\"T_8b1bed9e_a2d5_11e9_a9a4_419a49d29e61row1_col2\" class=\"data row1 col2\" >9,920,350 €</td>\n",
       "                        <td id=\"T_8b1bed9e_a2d5_11e9_a9a4_419a49d29e61row1_col3\" class=\"data row1 col3\" >(diese)</td>\n",
       "                        <td id=\"T_8b1bed9e_a2d5_11e9_a9a4_419a49d29e61row1_col4\" class=\"data row1 col4\" >(keine)</td>\n",
       "            </tr>\n",
       "            <tr>\n",
       "                        <th id=\"T_8b1bed9e_a2d5_11e9_a9a4_419a49d29e61level0_row2\" class=\"row_heading level0 row2\" >Gesundheitswissenschaften</th>\n",
       "                        <td id=\"T_8b1bed9e_a2d5_11e9_a9a4_419a49d29e61row2_col0\" class=\"data row2 col0\" >22.54%</td>\n",
       "                        <td id=\"T_8b1bed9e_a2d5_11e9_a9a4_419a49d29e61row2_col1\" class=\"data row2 col1\" >2. Platz</td>\n",
       "                        <td id=\"T_8b1bed9e_a2d5_11e9_a9a4_419a49d29e61row2_col2\" class=\"data row2 col2\" >9,502,940 €</td>\n",
       "                        <td id=\"T_8b1bed9e_a2d5_11e9_a9a4_419a49d29e61row2_col3\" class=\"data row2 col3\" >Medizinische Universität Wien (10.6 Mio. €)</td>\n",
       "                        <td id=\"T_8b1bed9e_a2d5_11e9_a9a4_419a49d29e61row2_col4\" class=\"data row2 col4\" >Medizinische Universität Wien</td>\n",
       "            </tr>\n",
       "    </tbody></table>"
      ],
      "text/plain": [
       "<pandas.io.formats.style.Styler at 0x7fe68f7c3cf8>"
      ]
     },
     "metadata": {},
     "output_type": "display_data"
    },
    {
     "data": {
      "text/html": [
       "<h4>Ähnliche Universitäten aufgrund der Drittmittel-Struktur</h3>"
      ],
      "text/plain": [
       "<IPython.core.display.HTML object>"
      ]
     },
     "metadata": {},
     "output_type": "display_data"
    },
    {
     "data": {
      "text/html": [
       "<p><strong>Medizinische Universität Wien</strong> (60.9%, wegen &auml;hnlicher Relevanz von Klinische Medizin, Medizinisch-theoretische Wissenschaften, Pharmazie, Gesundheitswissenschaften), <strong>Medizinische Universität Graz</strong> (45.7%, wegen &auml;hnlicher Relevanz von Klinische Medizin, Medizinisch-theoretische Wissenschaften, Pharmazie, Andere Humanmedizin, Gesundheitswissenschaften), <strong>Universität für Weiterbildung Krems</strong> (27.7%, wegen &auml;hnlicher Relevanz von Gesundheitswissenschaften, Andere Humanmedizin, Gesundheitswissenschaften, Biologie), <strong>Universität Salzburg</strong> (20.0%, wegen &auml;hnlicher Relevanz von Medizinisch-theoretische Wissenschaften, Pharmazie, Biologie, Gesundheitswissenschaften)</p>"
      ],
      "text/plain": [
       "<IPython.core.display.HTML object>"
      ]
     },
     "metadata": {},
     "output_type": "display_data"
    },
    {
     "data": {
      "text/html": [
       "<h3>Universität Salzburg</h3>"
      ],
      "text/plain": [
       "<IPython.core.display.HTML object>"
      ]
     },
     "metadata": {},
     "output_type": "display_data"
    },
    {
     "data": {
      "text/html": [
       "<h4>Drittmittel-Struktur</h4>"
      ],
      "text/plain": [
       "<IPython.core.display.HTML object>"
      ]
     },
     "metadata": {},
     "output_type": "display_data"
    },
    {
     "data": {
      "text/html": [
       "Angezeigt werden die gr&ouml;&szlig;ten WZW, die insgesamt mehr als 66.7% der Erl&ouml;se an der Universität Salzburg ausmachen (exakt: 68.6%). Jeder andere WZW tr&auml;gt weniger als 5.1% bei. Die Spalte \"Ranking\" bezieht sich  auf den &ouml;sterreichweiten Vergleich der absoluten Werte im jeweiligen WZW."
      ],
      "text/plain": [
       "<IPython.core.display.HTML object>"
      ]
     },
     "metadata": {},
     "output_type": "display_data"
    },
    {
     "data": {
      "text/html": [
       "<style  type=\"text/css\" >\n",
       "    #T_8b262b06_a2d5_11e9_a9a4_419a49d29e61row0_col0 {\n",
       "            background-color:  white;\n",
       "        }    #T_8b262b06_a2d5_11e9_a9a4_419a49d29e61row0_col1 {\n",
       "            background-color:  white;\n",
       "        }    #T_8b262b06_a2d5_11e9_a9a4_419a49d29e61row0_col2 {\n",
       "            background-color:  white;\n",
       "        }    #T_8b262b06_a2d5_11e9_a9a4_419a49d29e61row0_col3 {\n",
       "            background-color:  white;\n",
       "        }    #T_8b262b06_a2d5_11e9_a9a4_419a49d29e61row0_col4 {\n",
       "            background-color:  white;\n",
       "        }    #T_8b262b06_a2d5_11e9_a9a4_419a49d29e61row1_col0 {\n",
       "            background-color:  lightgreen;\n",
       "        }    #T_8b262b06_a2d5_11e9_a9a4_419a49d29e61row1_col1 {\n",
       "            background-color:  lightgreen;\n",
       "        }    #T_8b262b06_a2d5_11e9_a9a4_419a49d29e61row1_col2 {\n",
       "            background-color:  lightgreen;\n",
       "        }    #T_8b262b06_a2d5_11e9_a9a4_419a49d29e61row1_col3 {\n",
       "            background-color:  lightgreen;\n",
       "        }    #T_8b262b06_a2d5_11e9_a9a4_419a49d29e61row1_col4 {\n",
       "            background-color:  lightgreen;\n",
       "        }    #T_8b262b06_a2d5_11e9_a9a4_419a49d29e61row2_col0 {\n",
       "            background-color:  white;\n",
       "        }    #T_8b262b06_a2d5_11e9_a9a4_419a49d29e61row2_col1 {\n",
       "            background-color:  white;\n",
       "        }    #T_8b262b06_a2d5_11e9_a9a4_419a49d29e61row2_col2 {\n",
       "            background-color:  white;\n",
       "        }    #T_8b262b06_a2d5_11e9_a9a4_419a49d29e61row2_col3 {\n",
       "            background-color:  white;\n",
       "        }    #T_8b262b06_a2d5_11e9_a9a4_419a49d29e61row2_col4 {\n",
       "            background-color:  white;\n",
       "        }    #T_8b262b06_a2d5_11e9_a9a4_419a49d29e61row3_col0 {\n",
       "            background-color:  white;\n",
       "        }    #T_8b262b06_a2d5_11e9_a9a4_419a49d29e61row3_col1 {\n",
       "            background-color:  white;\n",
       "        }    #T_8b262b06_a2d5_11e9_a9a4_419a49d29e61row3_col2 {\n",
       "            background-color:  white;\n",
       "        }    #T_8b262b06_a2d5_11e9_a9a4_419a49d29e61row3_col3 {\n",
       "            background-color:  white;\n",
       "        }    #T_8b262b06_a2d5_11e9_a9a4_419a49d29e61row3_col4 {\n",
       "            background-color:  white;\n",
       "        }    #T_8b262b06_a2d5_11e9_a9a4_419a49d29e61row4_col0 {\n",
       "            background-color:  white;\n",
       "        }    #T_8b262b06_a2d5_11e9_a9a4_419a49d29e61row4_col1 {\n",
       "            background-color:  white;\n",
       "        }    #T_8b262b06_a2d5_11e9_a9a4_419a49d29e61row4_col2 {\n",
       "            background-color:  white;\n",
       "        }    #T_8b262b06_a2d5_11e9_a9a4_419a49d29e61row4_col3 {\n",
       "            background-color:  white;\n",
       "        }    #T_8b262b06_a2d5_11e9_a9a4_419a49d29e61row4_col4 {\n",
       "            background-color:  white;\n",
       "        }    #T_8b262b06_a2d5_11e9_a9a4_419a49d29e61row5_col0 {\n",
       "            background-color:  white;\n",
       "        }    #T_8b262b06_a2d5_11e9_a9a4_419a49d29e61row5_col1 {\n",
       "            background-color:  white;\n",
       "        }    #T_8b262b06_a2d5_11e9_a9a4_419a49d29e61row5_col2 {\n",
       "            background-color:  white;\n",
       "        }    #T_8b262b06_a2d5_11e9_a9a4_419a49d29e61row5_col3 {\n",
       "            background-color:  white;\n",
       "        }    #T_8b262b06_a2d5_11e9_a9a4_419a49d29e61row5_col4 {\n",
       "            background-color:  white;\n",
       "        }</style><table id=\"T_8b262b06_a2d5_11e9_a9a4_419a49d29e61\" ><thead>    <tr>        <th class=\"blank level0\" ></th>        <th class=\"col_heading level0 col0\" >Intern</th>        <th class=\"col_heading level0 col1\" >Ranking</th>        <th class=\"col_heading level0 col2\" >Erlöse</th>        <th class=\"col_heading level0 col3\" >Beste Universität</th>        <th class=\"col_heading level0 col4\" >Bessere Universitäten</th>    </tr>    <tr>        <th class=\"index_name level0\" >WZW</th>        <th class=\"blank\" ></th>        <th class=\"blank\" ></th>        <th class=\"blank\" ></th>        <th class=\"blank\" ></th>        <th class=\"blank\" ></th>    </tr></thead><tbody>\n",
       "                <tr>\n",
       "                        <th id=\"T_8b262b06_a2d5_11e9_a9a4_419a49d29e61level0_row0\" class=\"row_heading level0 row0\" >Biologie</th>\n",
       "                        <td id=\"T_8b262b06_a2d5_11e9_a9a4_419a49d29e61row0_col0\" class=\"data row0 col0\" >22.69%</td>\n",
       "                        <td id=\"T_8b262b06_a2d5_11e9_a9a4_419a49d29e61row0_col1\" class=\"data row0 col1\" >6. Platz</td>\n",
       "                        <td id=\"T_8b262b06_a2d5_11e9_a9a4_419a49d29e61row0_col2\" class=\"data row0 col2\" >4,316,505 €</td>\n",
       "                        <td id=\"T_8b262b06_a2d5_11e9_a9a4_419a49d29e61row0_col3\" class=\"data row0 col3\" >Universität Wien (17.0 Mio. €)</td>\n",
       "                        <td id=\"T_8b262b06_a2d5_11e9_a9a4_419a49d29e61row0_col4\" class=\"data row0 col4\" >Universität Wien, Universität für Bodenkultur Wien, Universität Graz, Universität Innsbruck, Veterinärmedizinische Universität Wien</td>\n",
       "            </tr>\n",
       "            <tr>\n",
       "                        <th id=\"T_8b262b06_a2d5_11e9_a9a4_419a49d29e61level0_row1\" class=\"row_heading level0 row1\" >Geowissenschaften</th>\n",
       "                        <td id=\"T_8b262b06_a2d5_11e9_a9a4_419a49d29e61row1_col0\" class=\"data row1 col0\" >19.27%</td>\n",
       "                        <td id=\"T_8b262b06_a2d5_11e9_a9a4_419a49d29e61row1_col1\" class=\"data row1 col1\" >1. Platz</td>\n",
       "                        <td id=\"T_8b262b06_a2d5_11e9_a9a4_419a49d29e61row1_col2\" class=\"data row1 col2\" >3,666,505 €</td>\n",
       "                        <td id=\"T_8b262b06_a2d5_11e9_a9a4_419a49d29e61row1_col3\" class=\"data row1 col3\" >(diese)</td>\n",
       "                        <td id=\"T_8b262b06_a2d5_11e9_a9a4_419a49d29e61row1_col4\" class=\"data row1 col4\" >(keine)</td>\n",
       "            </tr>\n",
       "            <tr>\n",
       "                        <th id=\"T_8b262b06_a2d5_11e9_a9a4_419a49d29e61level0_row2\" class=\"row_heading level0 row2\" >Medizinisch-theoretische Wissenschaften, Pharmazie</th>\n",
       "                        <td id=\"T_8b262b06_a2d5_11e9_a9a4_419a49d29e61row2_col0\" class=\"data row2 col0\" >9.56%</td>\n",
       "                        <td id=\"T_8b262b06_a2d5_11e9_a9a4_419a49d29e61row2_col1\" class=\"data row2 col1\" >5. Platz</td>\n",
       "                        <td id=\"T_8b262b06_a2d5_11e9_a9a4_419a49d29e61row2_col2\" class=\"data row2 col2\" >1,818,201 €</td>\n",
       "                        <td id=\"T_8b262b06_a2d5_11e9_a9a4_419a49d29e61row2_col3\" class=\"data row2 col3\" >Medizinische Universität Graz (34.1 Mio. €)</td>\n",
       "                        <td id=\"T_8b262b06_a2d5_11e9_a9a4_419a49d29e61row2_col4\" class=\"data row2 col4\" >Medizinische Universität Graz, Medizinische Universität Wien, Medizinische Universität Innsbruck, Universität Wien</td>\n",
       "            </tr>\n",
       "            <tr>\n",
       "                        <th id=\"T_8b262b06_a2d5_11e9_a9a4_419a49d29e61level0_row3\" class=\"row_heading level0 row3\" >Informatik</th>\n",
       "                        <td id=\"T_8b262b06_a2d5_11e9_a9a4_419a49d29e61row3_col0\" class=\"data row3 col0\" >6.40%</td>\n",
       "                        <td id=\"T_8b262b06_a2d5_11e9_a9a4_419a49d29e61row3_col1\" class=\"data row3 col1\" >7. Platz</td>\n",
       "                        <td id=\"T_8b262b06_a2d5_11e9_a9a4_419a49d29e61row3_col2\" class=\"data row3 col2\" >1,217,689 €</td>\n",
       "                        <td id=\"T_8b262b06_a2d5_11e9_a9a4_419a49d29e61row3_col3\" class=\"data row3 col3\" >Technische Universität Wien (10.6 Mio. €)</td>\n",
       "                        <td id=\"T_8b262b06_a2d5_11e9_a9a4_419a49d29e61row3_col4\" class=\"data row3 col4\" >Technische Universität Wien, Technische Universität Graz, Universität Linz, Universität Innsbruck, Universität Wien, Universität Klagenfurt</td>\n",
       "            </tr>\n",
       "            <tr>\n",
       "                        <th id=\"T_8b262b06_a2d5_11e9_a9a4_419a49d29e61level0_row4\" class=\"row_heading level0 row4\" >Physik, Astronomie</th>\n",
       "                        <td id=\"T_8b262b06_a2d5_11e9_a9a4_419a49d29e61row4_col0\" class=\"data row4 col0\" >5.50%</td>\n",
       "                        <td id=\"T_8b262b06_a2d5_11e9_a9a4_419a49d29e61row4_col1\" class=\"data row4 col1\" >7. Platz</td>\n",
       "                        <td id=\"T_8b262b06_a2d5_11e9_a9a4_419a49d29e61row4_col2\" class=\"data row4 col2\" >1,045,673 €</td>\n",
       "                        <td id=\"T_8b262b06_a2d5_11e9_a9a4_419a49d29e61row4_col3\" class=\"data row4 col3\" >Technische Universität Wien (13.4 Mio. €)</td>\n",
       "                        <td id=\"T_8b262b06_a2d5_11e9_a9a4_419a49d29e61row4_col4\" class=\"data row4 col4\" >Technische Universität Wien, Universität Wien, Universität Innsbruck, Universität Linz, Technische Universität Graz, Universität Graz</td>\n",
       "            </tr>\n",
       "            <tr>\n",
       "                        <th id=\"T_8b262b06_a2d5_11e9_a9a4_419a49d29e61level0_row5\" class=\"row_heading level0 row5\" >Geschichte, Archäologie</th>\n",
       "                        <td id=\"T_8b262b06_a2d5_11e9_a9a4_419a49d29e61row5_col0\" class=\"data row5 col0\" >5.15%</td>\n",
       "                        <td id=\"T_8b262b06_a2d5_11e9_a9a4_419a49d29e61row5_col1\" class=\"data row5 col1\" >4. Platz</td>\n",
       "                        <td id=\"T_8b262b06_a2d5_11e9_a9a4_419a49d29e61row5_col2\" class=\"data row5 col2\" >979,711 €</td>\n",
       "                        <td id=\"T_8b262b06_a2d5_11e9_a9a4_419a49d29e61row5_col3\" class=\"data row5 col3\" >Universität Wien (4.0 Mio. €)</td>\n",
       "                        <td id=\"T_8b262b06_a2d5_11e9_a9a4_419a49d29e61row5_col4\" class=\"data row5 col4\" >Universität Wien, Universität Innsbruck, Universität Graz</td>\n",
       "            </tr>\n",
       "    </tbody></table>"
      ],
      "text/plain": [
       "<pandas.io.formats.style.Styler at 0x7fe68f7e09b0>"
      ]
     },
     "metadata": {},
     "output_type": "display_data"
    },
    {
     "data": {
      "text/html": [
       "<h4>Ähnliche Universitäten aufgrund der Drittmittel-Struktur</h3>"
      ],
      "text/plain": [
       "<IPython.core.display.HTML object>"
      ]
     },
     "metadata": {},
     "output_type": "display_data"
    },
    {
     "data": {
      "text/html": [
       "<p><strong>Universität Wien</strong> (63.1%, wegen &auml;hnlicher Relevanz von Biologie, Physik, Astronomie, Geschichte, Archäologie), <strong>Universität Graz</strong> (57.9%, wegen &auml;hnlicher Relevanz von Biologie, Physik, Astronomie, Geschichte, Archäologie), <strong>Universität Innsbruck</strong> (50.9%, wegen &auml;hnlicher Relevanz von Biologie, Geowissenschaften, Informatik), <strong>Universität für Weiterbildung Krems</strong> (34.3%, wegen &auml;hnlicher Relevanz von Physik, Astronomie, Informatik, Biologie)</p>"
      ],
      "text/plain": [
       "<IPython.core.display.HTML object>"
      ]
     },
     "metadata": {},
     "output_type": "display_data"
    },
    {
     "data": {
      "text/html": [
       "<h3>Montanuniversität Leoben</h3>"
      ],
      "text/plain": [
       "<IPython.core.display.HTML object>"
      ]
     },
     "metadata": {},
     "output_type": "display_data"
    },
    {
     "data": {
      "text/html": [
       "<h4>Drittmittel-Struktur</h4>"
      ],
      "text/plain": [
       "<IPython.core.display.HTML object>"
      ]
     },
     "metadata": {},
     "output_type": "display_data"
    },
    {
     "data": {
      "text/html": [
       "Angezeigt werden die gr&ouml;&szlig;ten WZW, die insgesamt mehr als 66.7% der Erl&ouml;se an der Montanuniversität Leoben ausmachen (exakt: 73.5%). Jeder andere WZW tr&auml;gt weniger als 10.1% bei. Die Spalte \"Ranking\" bezieht sich  auf den &ouml;sterreichweiten Vergleich der absoluten Werte im jeweiligen WZW."
      ],
      "text/plain": [
       "<IPython.core.display.HTML object>"
      ]
     },
     "metadata": {},
     "output_type": "display_data"
    },
    {
     "data": {
      "text/html": [
       "<style  type=\"text/css\" >\n",
       "    #T_8b2f7d1e_a2d5_11e9_a9a4_419a49d29e61row0_col0 {\n",
       "            background-color:  lightgreen;\n",
       "        }    #T_8b2f7d1e_a2d5_11e9_a9a4_419a49d29e61row0_col1 {\n",
       "            background-color:  lightgreen;\n",
       "        }    #T_8b2f7d1e_a2d5_11e9_a9a4_419a49d29e61row0_col2 {\n",
       "            background-color:  lightgreen;\n",
       "        }    #T_8b2f7d1e_a2d5_11e9_a9a4_419a49d29e61row0_col3 {\n",
       "            background-color:  lightgreen;\n",
       "        }    #T_8b2f7d1e_a2d5_11e9_a9a4_419a49d29e61row0_col4 {\n",
       "            background-color:  lightgreen;\n",
       "        }    #T_8b2f7d1e_a2d5_11e9_a9a4_419a49d29e61row1_col0 {\n",
       "            background-color:  lightgreen;\n",
       "        }    #T_8b2f7d1e_a2d5_11e9_a9a4_419a49d29e61row1_col1 {\n",
       "            background-color:  lightgreen;\n",
       "        }    #T_8b2f7d1e_a2d5_11e9_a9a4_419a49d29e61row1_col2 {\n",
       "            background-color:  lightgreen;\n",
       "        }    #T_8b2f7d1e_a2d5_11e9_a9a4_419a49d29e61row1_col3 {\n",
       "            background-color:  lightgreen;\n",
       "        }    #T_8b2f7d1e_a2d5_11e9_a9a4_419a49d29e61row1_col4 {\n",
       "            background-color:  lightgreen;\n",
       "        }    #T_8b2f7d1e_a2d5_11e9_a9a4_419a49d29e61row2_col0 {\n",
       "            background-color:  white;\n",
       "        }    #T_8b2f7d1e_a2d5_11e9_a9a4_419a49d29e61row2_col1 {\n",
       "            background-color:  white;\n",
       "        }    #T_8b2f7d1e_a2d5_11e9_a9a4_419a49d29e61row2_col2 {\n",
       "            background-color:  white;\n",
       "        }    #T_8b2f7d1e_a2d5_11e9_a9a4_419a49d29e61row2_col3 {\n",
       "            background-color:  white;\n",
       "        }    #T_8b2f7d1e_a2d5_11e9_a9a4_419a49d29e61row2_col4 {\n",
       "            background-color:  white;\n",
       "        }    #T_8b2f7d1e_a2d5_11e9_a9a4_419a49d29e61row3_col0 {\n",
       "            background-color:  lightgreen;\n",
       "        }    #T_8b2f7d1e_a2d5_11e9_a9a4_419a49d29e61row3_col1 {\n",
       "            background-color:  lightgreen;\n",
       "        }    #T_8b2f7d1e_a2d5_11e9_a9a4_419a49d29e61row3_col2 {\n",
       "            background-color:  lightgreen;\n",
       "        }    #T_8b2f7d1e_a2d5_11e9_a9a4_419a49d29e61row3_col3 {\n",
       "            background-color:  lightgreen;\n",
       "        }    #T_8b2f7d1e_a2d5_11e9_a9a4_419a49d29e61row3_col4 {\n",
       "            background-color:  lightgreen;\n",
       "        }</style><table id=\"T_8b2f7d1e_a2d5_11e9_a9a4_419a49d29e61\" ><thead>    <tr>        <th class=\"blank level0\" ></th>        <th class=\"col_heading level0 col0\" >Intern</th>        <th class=\"col_heading level0 col1\" >Ranking</th>        <th class=\"col_heading level0 col2\" >Erlöse</th>        <th class=\"col_heading level0 col3\" >Beste Universität</th>        <th class=\"col_heading level0 col4\" >Bessere Universitäten</th>    </tr>    <tr>        <th class=\"index_name level0\" >WZW</th>        <th class=\"blank\" ></th>        <th class=\"blank\" ></th>        <th class=\"blank\" ></th>        <th class=\"blank\" ></th>        <th class=\"blank\" ></th>    </tr></thead><tbody>\n",
       "                <tr>\n",
       "                        <th id=\"T_8b2f7d1e_a2d5_11e9_a9a4_419a49d29e61level0_row0\" class=\"row_heading level0 row0\" >Andere Technische Wissenschaften</th>\n",
       "                        <td id=\"T_8b2f7d1e_a2d5_11e9_a9a4_419a49d29e61row0_col0\" class=\"data row0 col0\" >30.78%</td>\n",
       "                        <td id=\"T_8b2f7d1e_a2d5_11e9_a9a4_419a49d29e61row0_col1\" class=\"data row0 col1\" >1. Platz</td>\n",
       "                        <td id=\"T_8b2f7d1e_a2d5_11e9_a9a4_419a49d29e61row0_col2\" class=\"data row0 col2\" >13,513,716 €</td>\n",
       "                        <td id=\"T_8b2f7d1e_a2d5_11e9_a9a4_419a49d29e61row0_col3\" class=\"data row0 col3\" >(diese)</td>\n",
       "                        <td id=\"T_8b2f7d1e_a2d5_11e9_a9a4_419a49d29e61row0_col4\" class=\"data row0 col4\" >(keine)</td>\n",
       "            </tr>\n",
       "            <tr>\n",
       "                        <th id=\"T_8b2f7d1e_a2d5_11e9_a9a4_419a49d29e61level0_row1\" class=\"row_heading level0 row1\" >Umweltingenieurwesen, Angewandte Geowissenschaften</th>\n",
       "                        <td id=\"T_8b2f7d1e_a2d5_11e9_a9a4_419a49d29e61row1_col0\" class=\"data row1 col0\" >19.09%</td>\n",
       "                        <td id=\"T_8b2f7d1e_a2d5_11e9_a9a4_419a49d29e61row1_col1\" class=\"data row1 col1\" >1. Platz</td>\n",
       "                        <td id=\"T_8b2f7d1e_a2d5_11e9_a9a4_419a49d29e61row1_col2\" class=\"data row1 col2\" >8,380,922 €</td>\n",
       "                        <td id=\"T_8b2f7d1e_a2d5_11e9_a9a4_419a49d29e61row1_col3\" class=\"data row1 col3\" >(diese)</td>\n",
       "                        <td id=\"T_8b2f7d1e_a2d5_11e9_a9a4_419a49d29e61row1_col4\" class=\"data row1 col4\" >(keine)</td>\n",
       "            </tr>\n",
       "            <tr>\n",
       "                        <th id=\"T_8b2f7d1e_a2d5_11e9_a9a4_419a49d29e61level0_row2\" class=\"row_heading level0 row2\" >Bauwesen</th>\n",
       "                        <td id=\"T_8b2f7d1e_a2d5_11e9_a9a4_419a49d29e61row2_col0\" class=\"data row2 col0\" >13.49%</td>\n",
       "                        <td id=\"T_8b2f7d1e_a2d5_11e9_a9a4_419a49d29e61row2_col1\" class=\"data row2 col1\" >3. Platz</td>\n",
       "                        <td id=\"T_8b2f7d1e_a2d5_11e9_a9a4_419a49d29e61row2_col2\" class=\"data row2 col2\" >5,923,955 €</td>\n",
       "                        <td id=\"T_8b2f7d1e_a2d5_11e9_a9a4_419a49d29e61row2_col3\" class=\"data row2 col3\" >Technische Universität Graz (9.4 Mio. €)</td>\n",
       "                        <td id=\"T_8b2f7d1e_a2d5_11e9_a9a4_419a49d29e61row2_col4\" class=\"data row2 col4\" >Technische Universität Graz, Technische Universität Wien</td>\n",
       "            </tr>\n",
       "            <tr>\n",
       "                        <th id=\"T_8b2f7d1e_a2d5_11e9_a9a4_419a49d29e61level0_row3\" class=\"row_heading level0 row3\" >Werkstofftechnik</th>\n",
       "                        <td id=\"T_8b2f7d1e_a2d5_11e9_a9a4_419a49d29e61row3_col0\" class=\"data row3 col0\" >10.12%</td>\n",
       "                        <td id=\"T_8b2f7d1e_a2d5_11e9_a9a4_419a49d29e61row3_col1\" class=\"data row3 col1\" >1. Platz</td>\n",
       "                        <td id=\"T_8b2f7d1e_a2d5_11e9_a9a4_419a49d29e61row3_col2\" class=\"data row3 col2\" >4,444,882 €</td>\n",
       "                        <td id=\"T_8b2f7d1e_a2d5_11e9_a9a4_419a49d29e61row3_col3\" class=\"data row3 col3\" >(diese)</td>\n",
       "                        <td id=\"T_8b2f7d1e_a2d5_11e9_a9a4_419a49d29e61row3_col4\" class=\"data row3 col4\" >(keine)</td>\n",
       "            </tr>\n",
       "    </tbody></table>"
      ],
      "text/plain": [
       "<pandas.io.formats.style.Styler at 0x7fe69c089588>"
      ]
     },
     "metadata": {},
     "output_type": "display_data"
    },
    {
     "data": {
      "text/html": [
       "<h4>Ähnliche Universitäten aufgrund der Drittmittel-Struktur</h3>"
      ],
      "text/plain": [
       "<IPython.core.display.HTML object>"
      ]
     },
     "metadata": {},
     "output_type": "display_data"
    },
    {
     "data": {
      "text/html": [
       "<p><strong>Technische Universität Wien</strong> (40.9%, wegen &auml;hnlicher Relevanz von Andere Technische Wissenschaften, Bauwesen, Maschinenbau), <strong>Technische Universität Graz</strong> (39.4%, wegen &auml;hnlicher Relevanz von Bauwesen, Maschinenbau, Andere Technische Wissenschaften), <strong>Universität für Bodenkultur Wien</strong> (30.4%, wegen &auml;hnlicher Relevanz von Andere Technische Wissenschaften, Bauwesen, Umweltingenieurwesen, Angewandte Geowissenschaften), <strong>Universität Linz</strong> (26.9%, wegen &auml;hnlicher Relevanz von Werkstofftechnik, Maschinenbau, Chemie)</p>"
      ],
      "text/plain": [
       "<IPython.core.display.HTML object>"
      ]
     },
     "metadata": {},
     "output_type": "display_data"
    },
    {
     "data": {
      "text/html": [
       "<h3>Technische Universität Graz</h3>"
      ],
      "text/plain": [
       "<IPython.core.display.HTML object>"
      ]
     },
     "metadata": {},
     "output_type": "display_data"
    },
    {
     "data": {
      "text/html": [
       "<h4>Drittmittel-Struktur</h4>"
      ],
      "text/plain": [
       "<IPython.core.display.HTML object>"
      ]
     },
     "metadata": {},
     "output_type": "display_data"
    },
    {
     "data": {
      "text/html": [
       "Angezeigt werden die gr&ouml;&szlig;ten WZW, die insgesamt mehr als 66.7% der Erl&ouml;se an der Technische Universität Graz ausmachen (exakt: 70.5%). Jeder andere WZW tr&auml;gt weniger als 8.1% bei. Die Spalte \"Ranking\" bezieht sich  auf den &ouml;sterreichweiten Vergleich der absoluten Werte im jeweiligen WZW."
      ],
      "text/plain": [
       "<IPython.core.display.HTML object>"
      ]
     },
     "metadata": {},
     "output_type": "display_data"
    },
    {
     "data": {
      "text/html": [
       "<style  type=\"text/css\" >\n",
       "    #T_8b3917e8_a2d5_11e9_a9a4_419a49d29e61row0_col0 {\n",
       "            background-color:  lightgreen;\n",
       "        }    #T_8b3917e8_a2d5_11e9_a9a4_419a49d29e61row0_col1 {\n",
       "            background-color:  lightgreen;\n",
       "        }    #T_8b3917e8_a2d5_11e9_a9a4_419a49d29e61row0_col2 {\n",
       "            background-color:  lightgreen;\n",
       "        }    #T_8b3917e8_a2d5_11e9_a9a4_419a49d29e61row0_col3 {\n",
       "            background-color:  lightgreen;\n",
       "        }    #T_8b3917e8_a2d5_11e9_a9a4_419a49d29e61row0_col4 {\n",
       "            background-color:  lightgreen;\n",
       "        }    #T_8b3917e8_a2d5_11e9_a9a4_419a49d29e61row1_col0 {\n",
       "            background-color:  lightgreen;\n",
       "        }    #T_8b3917e8_a2d5_11e9_a9a4_419a49d29e61row1_col1 {\n",
       "            background-color:  lightgreen;\n",
       "        }    #T_8b3917e8_a2d5_11e9_a9a4_419a49d29e61row1_col2 {\n",
       "            background-color:  lightgreen;\n",
       "        }    #T_8b3917e8_a2d5_11e9_a9a4_419a49d29e61row1_col3 {\n",
       "            background-color:  lightgreen;\n",
       "        }    #T_8b3917e8_a2d5_11e9_a9a4_419a49d29e61row1_col4 {\n",
       "            background-color:  lightgreen;\n",
       "        }    #T_8b3917e8_a2d5_11e9_a9a4_419a49d29e61row2_col0 {\n",
       "            background-color:  yellow;\n",
       "        }    #T_8b3917e8_a2d5_11e9_a9a4_419a49d29e61row2_col1 {\n",
       "            background-color:  yellow;\n",
       "        }    #T_8b3917e8_a2d5_11e9_a9a4_419a49d29e61row2_col2 {\n",
       "            background-color:  yellow;\n",
       "        }    #T_8b3917e8_a2d5_11e9_a9a4_419a49d29e61row2_col3 {\n",
       "            background-color:  yellow;\n",
       "        }    #T_8b3917e8_a2d5_11e9_a9a4_419a49d29e61row2_col4 {\n",
       "            background-color:  yellow;\n",
       "        }    #T_8b3917e8_a2d5_11e9_a9a4_419a49d29e61row3_col0 {\n",
       "            background-color:  lightgreen;\n",
       "        }    #T_8b3917e8_a2d5_11e9_a9a4_419a49d29e61row3_col1 {\n",
       "            background-color:  lightgreen;\n",
       "        }    #T_8b3917e8_a2d5_11e9_a9a4_419a49d29e61row3_col2 {\n",
       "            background-color:  lightgreen;\n",
       "        }    #T_8b3917e8_a2d5_11e9_a9a4_419a49d29e61row3_col3 {\n",
       "            background-color:  lightgreen;\n",
       "        }    #T_8b3917e8_a2d5_11e9_a9a4_419a49d29e61row3_col4 {\n",
       "            background-color:  lightgreen;\n",
       "        }    #T_8b3917e8_a2d5_11e9_a9a4_419a49d29e61row4_col0 {\n",
       "            background-color:  yellow;\n",
       "        }    #T_8b3917e8_a2d5_11e9_a9a4_419a49d29e61row4_col1 {\n",
       "            background-color:  yellow;\n",
       "        }    #T_8b3917e8_a2d5_11e9_a9a4_419a49d29e61row4_col2 {\n",
       "            background-color:  yellow;\n",
       "        }    #T_8b3917e8_a2d5_11e9_a9a4_419a49d29e61row4_col3 {\n",
       "            background-color:  yellow;\n",
       "        }    #T_8b3917e8_a2d5_11e9_a9a4_419a49d29e61row4_col4 {\n",
       "            background-color:  yellow;\n",
       "        }</style><table id=\"T_8b3917e8_a2d5_11e9_a9a4_419a49d29e61\" ><thead>    <tr>        <th class=\"blank level0\" ></th>        <th class=\"col_heading level0 col0\" >Intern</th>        <th class=\"col_heading level0 col1\" >Ranking</th>        <th class=\"col_heading level0 col2\" >Erlöse</th>        <th class=\"col_heading level0 col3\" >Beste Universität</th>        <th class=\"col_heading level0 col4\" >Bessere Universitäten</th>    </tr>    <tr>        <th class=\"index_name level0\" >WZW</th>        <th class=\"blank\" ></th>        <th class=\"blank\" ></th>        <th class=\"blank\" ></th>        <th class=\"blank\" ></th>        <th class=\"blank\" ></th>    </tr></thead><tbody>\n",
       "                <tr>\n",
       "                        <th id=\"T_8b3917e8_a2d5_11e9_a9a4_419a49d29e61level0_row0\" class=\"row_heading level0 row0\" >Maschinenbau</th>\n",
       "                        <td id=\"T_8b3917e8_a2d5_11e9_a9a4_419a49d29e61row0_col0\" class=\"data row0 col0\" >27.01%</td>\n",
       "                        <td id=\"T_8b3917e8_a2d5_11e9_a9a4_419a49d29e61row0_col1\" class=\"data row0 col1\" >1. Platz</td>\n",
       "                        <td id=\"T_8b3917e8_a2d5_11e9_a9a4_419a49d29e61row0_col2\" class=\"data row0 col2\" >21,300,246 €</td>\n",
       "                        <td id=\"T_8b3917e8_a2d5_11e9_a9a4_419a49d29e61row0_col3\" class=\"data row0 col3\" >(diese)</td>\n",
       "                        <td id=\"T_8b3917e8_a2d5_11e9_a9a4_419a49d29e61row0_col4\" class=\"data row0 col4\" >(keine)</td>\n",
       "            </tr>\n",
       "            <tr>\n",
       "                        <th id=\"T_8b3917e8_a2d5_11e9_a9a4_419a49d29e61level0_row1\" class=\"row_heading level0 row1\" >Bauwesen</th>\n",
       "                        <td id=\"T_8b3917e8_a2d5_11e9_a9a4_419a49d29e61row1_col0\" class=\"data row1 col0\" >11.98%</td>\n",
       "                        <td id=\"T_8b3917e8_a2d5_11e9_a9a4_419a49d29e61row1_col1\" class=\"data row1 col1\" >1. Platz</td>\n",
       "                        <td id=\"T_8b3917e8_a2d5_11e9_a9a4_419a49d29e61row1_col2\" class=\"data row1 col2\" >9,445,236 €</td>\n",
       "                        <td id=\"T_8b3917e8_a2d5_11e9_a9a4_419a49d29e61row1_col3\" class=\"data row1 col3\" >(diese)</td>\n",
       "                        <td id=\"T_8b3917e8_a2d5_11e9_a9a4_419a49d29e61row1_col4\" class=\"data row1 col4\" >(keine)</td>\n",
       "            </tr>\n",
       "            <tr>\n",
       "                        <th id=\"T_8b3917e8_a2d5_11e9_a9a4_419a49d29e61level0_row2\" class=\"row_heading level0 row2\" >Elektrotechnik, Elektronik, Informationstechnik</th>\n",
       "                        <td id=\"T_8b3917e8_a2d5_11e9_a9a4_419a49d29e61row2_col0\" class=\"data row2 col0\" >11.94%</td>\n",
       "                        <td id=\"T_8b3917e8_a2d5_11e9_a9a4_419a49d29e61row2_col1\" class=\"data row2 col1\" >2. Platz</td>\n",
       "                        <td id=\"T_8b3917e8_a2d5_11e9_a9a4_419a49d29e61row2_col2\" class=\"data row2 col2\" >9,420,414 €</td>\n",
       "                        <td id=\"T_8b3917e8_a2d5_11e9_a9a4_419a49d29e61row2_col3\" class=\"data row2 col3\" >Technische Universität Wien (16.0 Mio. €)</td>\n",
       "                        <td id=\"T_8b3917e8_a2d5_11e9_a9a4_419a49d29e61row2_col4\" class=\"data row2 col4\" >Technische Universität Wien</td>\n",
       "            </tr>\n",
       "            <tr>\n",
       "                        <th id=\"T_8b3917e8_a2d5_11e9_a9a4_419a49d29e61level0_row3\" class=\"row_heading level0 row3\" >Chemie</th>\n",
       "                        <td id=\"T_8b3917e8_a2d5_11e9_a9a4_419a49d29e61row3_col0\" class=\"data row3 col0\" >11.42%</td>\n",
       "                        <td id=\"T_8b3917e8_a2d5_11e9_a9a4_419a49d29e61row3_col1\" class=\"data row3 col1\" >1. Platz</td>\n",
       "                        <td id=\"T_8b3917e8_a2d5_11e9_a9a4_419a49d29e61row3_col2\" class=\"data row3 col2\" >9,010,776 €</td>\n",
       "                        <td id=\"T_8b3917e8_a2d5_11e9_a9a4_419a49d29e61row3_col3\" class=\"data row3 col3\" >(diese)</td>\n",
       "                        <td id=\"T_8b3917e8_a2d5_11e9_a9a4_419a49d29e61row3_col4\" class=\"data row3 col4\" >(keine)</td>\n",
       "            </tr>\n",
       "            <tr>\n",
       "                        <th id=\"T_8b3917e8_a2d5_11e9_a9a4_419a49d29e61level0_row4\" class=\"row_heading level0 row4\" >Informatik</th>\n",
       "                        <td id=\"T_8b3917e8_a2d5_11e9_a9a4_419a49d29e61row4_col0\" class=\"data row4 col0\" >8.12%</td>\n",
       "                        <td id=\"T_8b3917e8_a2d5_11e9_a9a4_419a49d29e61row4_col1\" class=\"data row4 col1\" >2. Platz</td>\n",
       "                        <td id=\"T_8b3917e8_a2d5_11e9_a9a4_419a49d29e61row4_col2\" class=\"data row4 col2\" >6,408,343 €</td>\n",
       "                        <td id=\"T_8b3917e8_a2d5_11e9_a9a4_419a49d29e61row4_col3\" class=\"data row4 col3\" >Technische Universität Wien (10.6 Mio. €)</td>\n",
       "                        <td id=\"T_8b3917e8_a2d5_11e9_a9a4_419a49d29e61row4_col4\" class=\"data row4 col4\" >Technische Universität Wien</td>\n",
       "            </tr>\n",
       "    </tbody></table>"
      ],
      "text/plain": [
       "<pandas.io.formats.style.Styler at 0x7fe68f7cdc88>"
      ]
     },
     "metadata": {},
     "output_type": "display_data"
    },
    {
     "data": {
      "text/html": [
       "<h4>Ähnliche Universitäten aufgrund der Drittmittel-Struktur</h3>"
      ],
      "text/plain": [
       "<IPython.core.display.HTML object>"
      ]
     },
     "metadata": {},
     "output_type": "display_data"
    },
    {
     "data": {
      "text/html": [
       "<p><strong>Technische Universität Wien</strong> (62.4%, wegen &auml;hnlicher Relevanz von Elektrotechnik, Elektronik, Informationstechnik, Informatik, Bauwesen), <strong>Universität Linz</strong> (51.1%, wegen &auml;hnlicher Relevanz von Elektrotechnik, Elektronik, Informationstechnik, Maschinenbau, Informatik), <strong>Montanuniversität Leoben</strong> (39.4%, wegen &auml;hnlicher Relevanz von Bauwesen, Maschinenbau, Andere Technische Wissenschaften), <strong>Universität Innsbruck</strong> (37.9%, wegen &auml;hnlicher Relevanz von Chemie, Bauwesen, Informatik)</p>"
      ],
      "text/plain": [
       "<IPython.core.display.HTML object>"
      ]
     },
     "metadata": {},
     "output_type": "display_data"
    },
    {
     "data": {
      "text/html": [
       "<h3>Universität Graz</h3>"
      ],
      "text/plain": [
       "<IPython.core.display.HTML object>"
      ]
     },
     "metadata": {},
     "output_type": "display_data"
    },
    {
     "data": {
      "text/html": [
       "<h4>Drittmittel-Struktur</h4>"
      ],
      "text/plain": [
       "<IPython.core.display.HTML object>"
      ]
     },
     "metadata": {},
     "output_type": "display_data"
    },
    {
     "data": {
      "text/html": [
       "Angezeigt werden die gr&ouml;&szlig;ten WZW, die insgesamt mehr als 66.7% der Erl&ouml;se an der Universität Graz ausmachen (exakt: 67.5%). Jeder andere WZW tr&auml;gt weniger als 5.6% bei. Die Spalte \"Ranking\" bezieht sich  auf den &ouml;sterreichweiten Vergleich der absoluten Werte im jeweiligen WZW."
      ],
      "text/plain": [
       "<IPython.core.display.HTML object>"
      ]
     },
     "metadata": {},
     "output_type": "display_data"
    },
    {
     "data": {
      "text/html": [
       "<style  type=\"text/css\" >\n",
       "    #T_8b435046_a2d5_11e9_a9a4_419a49d29e61row0_col0 {\n",
       "            background-color:  white;\n",
       "        }    #T_8b435046_a2d5_11e9_a9a4_419a49d29e61row0_col1 {\n",
       "            background-color:  white;\n",
       "        }    #T_8b435046_a2d5_11e9_a9a4_419a49d29e61row0_col2 {\n",
       "            background-color:  white;\n",
       "        }    #T_8b435046_a2d5_11e9_a9a4_419a49d29e61row0_col3 {\n",
       "            background-color:  white;\n",
       "        }    #T_8b435046_a2d5_11e9_a9a4_419a49d29e61row0_col4 {\n",
       "            background-color:  white;\n",
       "        }    #T_8b435046_a2d5_11e9_a9a4_419a49d29e61row1_col0 {\n",
       "            background-color:  white;\n",
       "        }    #T_8b435046_a2d5_11e9_a9a4_419a49d29e61row1_col1 {\n",
       "            background-color:  white;\n",
       "        }    #T_8b435046_a2d5_11e9_a9a4_419a49d29e61row1_col2 {\n",
       "            background-color:  white;\n",
       "        }    #T_8b435046_a2d5_11e9_a9a4_419a49d29e61row1_col3 {\n",
       "            background-color:  white;\n",
       "        }    #T_8b435046_a2d5_11e9_a9a4_419a49d29e61row1_col4 {\n",
       "            background-color:  white;\n",
       "        }    #T_8b435046_a2d5_11e9_a9a4_419a49d29e61row2_col0 {\n",
       "            background-color:  yellow;\n",
       "        }    #T_8b435046_a2d5_11e9_a9a4_419a49d29e61row2_col1 {\n",
       "            background-color:  yellow;\n",
       "        }    #T_8b435046_a2d5_11e9_a9a4_419a49d29e61row2_col2 {\n",
       "            background-color:  yellow;\n",
       "        }    #T_8b435046_a2d5_11e9_a9a4_419a49d29e61row2_col3 {\n",
       "            background-color:  yellow;\n",
       "        }    #T_8b435046_a2d5_11e9_a9a4_419a49d29e61row2_col4 {\n",
       "            background-color:  yellow;\n",
       "        }    #T_8b435046_a2d5_11e9_a9a4_419a49d29e61row3_col0 {\n",
       "            background-color:  white;\n",
       "        }    #T_8b435046_a2d5_11e9_a9a4_419a49d29e61row3_col1 {\n",
       "            background-color:  white;\n",
       "        }    #T_8b435046_a2d5_11e9_a9a4_419a49d29e61row3_col2 {\n",
       "            background-color:  white;\n",
       "        }    #T_8b435046_a2d5_11e9_a9a4_419a49d29e61row3_col3 {\n",
       "            background-color:  white;\n",
       "        }    #T_8b435046_a2d5_11e9_a9a4_419a49d29e61row3_col4 {\n",
       "            background-color:  white;\n",
       "        }    #T_8b435046_a2d5_11e9_a9a4_419a49d29e61row4_col0 {\n",
       "            background-color:  white;\n",
       "        }    #T_8b435046_a2d5_11e9_a9a4_419a49d29e61row4_col1 {\n",
       "            background-color:  white;\n",
       "        }    #T_8b435046_a2d5_11e9_a9a4_419a49d29e61row4_col2 {\n",
       "            background-color:  white;\n",
       "        }    #T_8b435046_a2d5_11e9_a9a4_419a49d29e61row4_col3 {\n",
       "            background-color:  white;\n",
       "        }    #T_8b435046_a2d5_11e9_a9a4_419a49d29e61row4_col4 {\n",
       "            background-color:  white;\n",
       "        }    #T_8b435046_a2d5_11e9_a9a4_419a49d29e61row5_col0 {\n",
       "            background-color:  yellow;\n",
       "        }    #T_8b435046_a2d5_11e9_a9a4_419a49d29e61row5_col1 {\n",
       "            background-color:  yellow;\n",
       "        }    #T_8b435046_a2d5_11e9_a9a4_419a49d29e61row5_col2 {\n",
       "            background-color:  yellow;\n",
       "        }    #T_8b435046_a2d5_11e9_a9a4_419a49d29e61row5_col3 {\n",
       "            background-color:  yellow;\n",
       "        }    #T_8b435046_a2d5_11e9_a9a4_419a49d29e61row5_col4 {\n",
       "            background-color:  yellow;\n",
       "        }</style><table id=\"T_8b435046_a2d5_11e9_a9a4_419a49d29e61\" ><thead>    <tr>        <th class=\"blank level0\" ></th>        <th class=\"col_heading level0 col0\" >Intern</th>        <th class=\"col_heading level0 col1\" >Ranking</th>        <th class=\"col_heading level0 col2\" >Erlöse</th>        <th class=\"col_heading level0 col3\" >Beste Universität</th>        <th class=\"col_heading level0 col4\" >Bessere Universitäten</th>    </tr>    <tr>        <th class=\"index_name level0\" >WZW</th>        <th class=\"blank\" ></th>        <th class=\"blank\" ></th>        <th class=\"blank\" ></th>        <th class=\"blank\" ></th>        <th class=\"blank\" ></th>    </tr></thead><tbody>\n",
       "                <tr>\n",
       "                        <th id=\"T_8b435046_a2d5_11e9_a9a4_419a49d29e61level0_row0\" class=\"row_heading level0 row0\" >Biologie</th>\n",
       "                        <td id=\"T_8b435046_a2d5_11e9_a9a4_419a49d29e61row0_col0\" class=\"data row0 col0\" >20.95%</td>\n",
       "                        <td id=\"T_8b435046_a2d5_11e9_a9a4_419a49d29e61row0_col1\" class=\"data row0 col1\" >3. Platz</td>\n",
       "                        <td id=\"T_8b435046_a2d5_11e9_a9a4_419a49d29e61row0_col2\" class=\"data row0 col2\" >5,870,029 €</td>\n",
       "                        <td id=\"T_8b435046_a2d5_11e9_a9a4_419a49d29e61row0_col3\" class=\"data row0 col3\" >Universität Wien (17.0 Mio. €)</td>\n",
       "                        <td id=\"T_8b435046_a2d5_11e9_a9a4_419a49d29e61row0_col4\" class=\"data row0 col4\" >Universität Wien, Universität für Bodenkultur Wien</td>\n",
       "            </tr>\n",
       "            <tr>\n",
       "                        <th id=\"T_8b435046_a2d5_11e9_a9a4_419a49d29e61level0_row1\" class=\"row_heading level0 row1\" >Wirtschaftswissenschaften</th>\n",
       "                        <td id=\"T_8b435046_a2d5_11e9_a9a4_419a49d29e61row1_col0\" class=\"data row1 col0\" >11.55%</td>\n",
       "                        <td id=\"T_8b435046_a2d5_11e9_a9a4_419a49d29e61row1_col1\" class=\"data row1 col1\" >3. Platz</td>\n",
       "                        <td id=\"T_8b435046_a2d5_11e9_a9a4_419a49d29e61row1_col2\" class=\"data row1 col2\" >3,235,473 €</td>\n",
       "                        <td id=\"T_8b435046_a2d5_11e9_a9a4_419a49d29e61row1_col3\" class=\"data row1 col3\" >Wirtschaftsuniversität Wien (7.2 Mio. €)</td>\n",
       "                        <td id=\"T_8b435046_a2d5_11e9_a9a4_419a49d29e61row1_col4\" class=\"data row1 col4\" >Wirtschaftsuniversität Wien, Universität Innsbruck</td>\n",
       "            </tr>\n",
       "            <tr>\n",
       "                        <th id=\"T_8b435046_a2d5_11e9_a9a4_419a49d29e61level0_row2\" class=\"row_heading level0 row2\" >Sprach- und Literaturwissenschaften</th>\n",
       "                        <td id=\"T_8b435046_a2d5_11e9_a9a4_419a49d29e61row2_col0\" class=\"data row2 col0\" >10.29%</td>\n",
       "                        <td id=\"T_8b435046_a2d5_11e9_a9a4_419a49d29e61row2_col1\" class=\"data row2 col1\" >2. Platz</td>\n",
       "                        <td id=\"T_8b435046_a2d5_11e9_a9a4_419a49d29e61row2_col2\" class=\"data row2 col2\" >2,881,945 €</td>\n",
       "                        <td id=\"T_8b435046_a2d5_11e9_a9a4_419a49d29e61row2_col3\" class=\"data row2 col3\" >Universität Wien (5.4 Mio. €)</td>\n",
       "                        <td id=\"T_8b435046_a2d5_11e9_a9a4_419a49d29e61row2_col4\" class=\"data row2 col4\" >Universität Wien</td>\n",
       "            </tr>\n",
       "            <tr>\n",
       "                        <th id=\"T_8b435046_a2d5_11e9_a9a4_419a49d29e61level0_row3\" class=\"row_heading level0 row3\" >Chemie</th>\n",
       "                        <td id=\"T_8b435046_a2d5_11e9_a9a4_419a49d29e61row3_col0\" class=\"data row3 col0\" >10.07%</td>\n",
       "                        <td id=\"T_8b435046_a2d5_11e9_a9a4_419a49d29e61row3_col1\" class=\"data row3 col1\" >6. Platz</td>\n",
       "                        <td id=\"T_8b435046_a2d5_11e9_a9a4_419a49d29e61row3_col2\" class=\"data row3 col2\" >2,820,464 €</td>\n",
       "                        <td id=\"T_8b435046_a2d5_11e9_a9a4_419a49d29e61row3_col3\" class=\"data row3 col3\" >Technische Universität Graz (9.0 Mio. €)</td>\n",
       "                        <td id=\"T_8b435046_a2d5_11e9_a9a4_419a49d29e61row3_col4\" class=\"data row3 col4\" >Technische Universität Graz, Universität Innsbruck, Universität Wien, Technische Universität Wien, Universität für Bodenkultur Wien</td>\n",
       "            </tr>\n",
       "            <tr>\n",
       "                        <th id=\"T_8b435046_a2d5_11e9_a9a4_419a49d29e61level0_row4\" class=\"row_heading level0 row4\" >Physik, Astronomie</th>\n",
       "                        <td id=\"T_8b435046_a2d5_11e9_a9a4_419a49d29e61row4_col0\" class=\"data row4 col0\" >9.06%</td>\n",
       "                        <td id=\"T_8b435046_a2d5_11e9_a9a4_419a49d29e61row4_col1\" class=\"data row4 col1\" >6. Platz</td>\n",
       "                        <td id=\"T_8b435046_a2d5_11e9_a9a4_419a49d29e61row4_col2\" class=\"data row4 col2\" >2,538,360 €</td>\n",
       "                        <td id=\"T_8b435046_a2d5_11e9_a9a4_419a49d29e61row4_col3\" class=\"data row4 col3\" >Technische Universität Wien (13.4 Mio. €)</td>\n",
       "                        <td id=\"T_8b435046_a2d5_11e9_a9a4_419a49d29e61row4_col4\" class=\"data row4 col4\" >Technische Universität Wien, Universität Wien, Universität Innsbruck, Universität Linz, Technische Universität Graz</td>\n",
       "            </tr>\n",
       "            <tr>\n",
       "                        <th id=\"T_8b435046_a2d5_11e9_a9a4_419a49d29e61level0_row5\" class=\"row_heading level0 row5\" >Psychologie</th>\n",
       "                        <td id=\"T_8b435046_a2d5_11e9_a9a4_419a49d29e61row5_col0\" class=\"data row5 col0\" >5.58%</td>\n",
       "                        <td id=\"T_8b435046_a2d5_11e9_a9a4_419a49d29e61row5_col1\" class=\"data row5 col1\" >2. Platz</td>\n",
       "                        <td id=\"T_8b435046_a2d5_11e9_a9a4_419a49d29e61row5_col2\" class=\"data row5 col2\" >1,561,844 €</td>\n",
       "                        <td id=\"T_8b435046_a2d5_11e9_a9a4_419a49d29e61row5_col3\" class=\"data row5 col3\" >Universität Wien (1.7 Mio. €)</td>\n",
       "                        <td id=\"T_8b435046_a2d5_11e9_a9a4_419a49d29e61row5_col4\" class=\"data row5 col4\" >Universität Wien</td>\n",
       "            </tr>\n",
       "    </tbody></table>"
      ],
      "text/plain": [
       "<pandas.io.formats.style.Styler at 0x7fe68f7cd828>"
      ]
     },
     "metadata": {},
     "output_type": "display_data"
    },
    {
     "data": {
      "text/html": [
       "<h4>Ähnliche Universitäten aufgrund der Drittmittel-Struktur</h3>"
      ],
      "text/plain": [
       "<IPython.core.display.HTML object>"
      ]
     },
     "metadata": {},
     "output_type": "display_data"
    },
    {
     "data": {
      "text/html": [
       "<p><strong>Universität Wien</strong> (70.6%, wegen &auml;hnlicher Relevanz von Biologie, Physik, Astronomie, Sprach- und Literaturwissenschaften), <strong>Universität Innsbruck</strong> (59.7%, wegen &auml;hnlicher Relevanz von Biologie, Chemie, Wirtschaftswissenschaften), <strong>Universität Salzburg</strong> (57.9%, wegen &auml;hnlicher Relevanz von Biologie, Physik, Astronomie, Geschichte, Archäologie), <strong>Universität für Bodenkultur Wien</strong> (42.4%, wegen &auml;hnlicher Relevanz von Biologie, Chemie, Wirtschaftswissenschaften)</p>"
      ],
      "text/plain": [
       "<IPython.core.display.HTML object>"
      ]
     },
     "metadata": {},
     "output_type": "display_data"
    },
    {
     "data": {
      "text/html": [
       "<h3>Universität für angewandte Kunst Wien</h3>"
      ],
      "text/plain": [
       "<IPython.core.display.HTML object>"
      ]
     },
     "metadata": {},
     "output_type": "display_data"
    },
    {
     "data": {
      "text/html": [
       "<h4>Drittmittel-Struktur</h4>"
      ],
      "text/plain": [
       "<IPython.core.display.HTML object>"
      ]
     },
     "metadata": {},
     "output_type": "display_data"
    },
    {
     "data": {
      "text/html": [
       "Angezeigt werden die gr&ouml;&szlig;ten WZW, die insgesamt mehr als 66.7% der Erl&ouml;se an der Universität für angewandte Kunst Wien ausmachen (exakt: 70.1%). Jeder andere WZW tr&auml;gt weniger als 8.7% bei. Die Spalte \"Ranking\" bezieht sich  auf den &ouml;sterreichweiten Vergleich der absoluten Werte im jeweiligen WZW."
      ],
      "text/plain": [
       "<IPython.core.display.HTML object>"
      ]
     },
     "metadata": {},
     "output_type": "display_data"
    },
    {
     "data": {
      "text/html": [
       "<style  type=\"text/css\" >\n",
       "    #T_8b4c66a4_a2d5_11e9_a9a4_419a49d29e61row0_col0 {\n",
       "            background-color:  yellow;\n",
       "        }    #T_8b4c66a4_a2d5_11e9_a9a4_419a49d29e61row0_col1 {\n",
       "            background-color:  yellow;\n",
       "        }    #T_8b4c66a4_a2d5_11e9_a9a4_419a49d29e61row0_col2 {\n",
       "            background-color:  yellow;\n",
       "        }    #T_8b4c66a4_a2d5_11e9_a9a4_419a49d29e61row0_col3 {\n",
       "            background-color:  yellow;\n",
       "        }    #T_8b4c66a4_a2d5_11e9_a9a4_419a49d29e61row0_col4 {\n",
       "            background-color:  yellow;\n",
       "        }    #T_8b4c66a4_a2d5_11e9_a9a4_419a49d29e61row1_col0 {\n",
       "            background-color:  lightgreen;\n",
       "        }    #T_8b4c66a4_a2d5_11e9_a9a4_419a49d29e61row1_col1 {\n",
       "            background-color:  lightgreen;\n",
       "        }    #T_8b4c66a4_a2d5_11e9_a9a4_419a49d29e61row1_col2 {\n",
       "            background-color:  lightgreen;\n",
       "        }    #T_8b4c66a4_a2d5_11e9_a9a4_419a49d29e61row1_col3 {\n",
       "            background-color:  lightgreen;\n",
       "        }    #T_8b4c66a4_a2d5_11e9_a9a4_419a49d29e61row1_col4 {\n",
       "            background-color:  lightgreen;\n",
       "        }    #T_8b4c66a4_a2d5_11e9_a9a4_419a49d29e61row2_col0 {\n",
       "            background-color:  yellow;\n",
       "        }    #T_8b4c66a4_a2d5_11e9_a9a4_419a49d29e61row2_col1 {\n",
       "            background-color:  yellow;\n",
       "        }    #T_8b4c66a4_a2d5_11e9_a9a4_419a49d29e61row2_col2 {\n",
       "            background-color:  yellow;\n",
       "        }    #T_8b4c66a4_a2d5_11e9_a9a4_419a49d29e61row2_col3 {\n",
       "            background-color:  yellow;\n",
       "        }    #T_8b4c66a4_a2d5_11e9_a9a4_419a49d29e61row2_col4 {\n",
       "            background-color:  yellow;\n",
       "        }    #T_8b4c66a4_a2d5_11e9_a9a4_419a49d29e61row3_col0 {\n",
       "            background-color:  lightgreen;\n",
       "        }    #T_8b4c66a4_a2d5_11e9_a9a4_419a49d29e61row3_col1 {\n",
       "            background-color:  lightgreen;\n",
       "        }    #T_8b4c66a4_a2d5_11e9_a9a4_419a49d29e61row3_col2 {\n",
       "            background-color:  lightgreen;\n",
       "        }    #T_8b4c66a4_a2d5_11e9_a9a4_419a49d29e61row3_col3 {\n",
       "            background-color:  lightgreen;\n",
       "        }    #T_8b4c66a4_a2d5_11e9_a9a4_419a49d29e61row3_col4 {\n",
       "            background-color:  lightgreen;\n",
       "        }</style><table id=\"T_8b4c66a4_a2d5_11e9_a9a4_419a49d29e61\" ><thead>    <tr>        <th class=\"blank level0\" ></th>        <th class=\"col_heading level0 col0\" >Intern</th>        <th class=\"col_heading level0 col1\" >Ranking</th>        <th class=\"col_heading level0 col2\" >Erlöse</th>        <th class=\"col_heading level0 col3\" >Beste Universität</th>        <th class=\"col_heading level0 col4\" >Bessere Universitäten</th>    </tr>    <tr>        <th class=\"index_name level0\" >WZW</th>        <th class=\"blank\" ></th>        <th class=\"blank\" ></th>        <th class=\"blank\" ></th>        <th class=\"blank\" ></th>        <th class=\"blank\" ></th>    </tr></thead><tbody>\n",
       "                <tr>\n",
       "                        <th id=\"T_8b4c66a4_a2d5_11e9_a9a4_419a49d29e61level0_row0\" class=\"row_heading level0 row0\" >Kunstwissenschaften</th>\n",
       "                        <td id=\"T_8b4c66a4_a2d5_11e9_a9a4_419a49d29e61row0_col0\" class=\"data row0 col0\" >28.24%</td>\n",
       "                        <td id=\"T_8b4c66a4_a2d5_11e9_a9a4_419a49d29e61row0_col1\" class=\"data row0 col1\" >2. Platz</td>\n",
       "                        <td id=\"T_8b4c66a4_a2d5_11e9_a9a4_419a49d29e61row0_col2\" class=\"data row0 col2\" >705,934 €</td>\n",
       "                        <td id=\"T_8b4c66a4_a2d5_11e9_a9a4_419a49d29e61row0_col3\" class=\"data row0 col3\" >Universität Wien (2.4 Mio. €)</td>\n",
       "                        <td id=\"T_8b4c66a4_a2d5_11e9_a9a4_419a49d29e61row0_col4\" class=\"data row0 col4\" >Universität Wien</td>\n",
       "            </tr>\n",
       "            <tr>\n",
       "                        <th id=\"T_8b4c66a4_a2d5_11e9_a9a4_419a49d29e61level0_row1\" class=\"row_heading level0 row1\" >Bildende Kunst</th>\n",
       "                        <td id=\"T_8b4c66a4_a2d5_11e9_a9a4_419a49d29e61row1_col0\" class=\"data row1 col0\" >20.04%</td>\n",
       "                        <td id=\"T_8b4c66a4_a2d5_11e9_a9a4_419a49d29e61row1_col1\" class=\"data row1 col1\" >1. Platz</td>\n",
       "                        <td id=\"T_8b4c66a4_a2d5_11e9_a9a4_419a49d29e61row1_col2\" class=\"data row1 col2\" >500,877 €</td>\n",
       "                        <td id=\"T_8b4c66a4_a2d5_11e9_a9a4_419a49d29e61row1_col3\" class=\"data row1 col3\" >(diese)</td>\n",
       "                        <td id=\"T_8b4c66a4_a2d5_11e9_a9a4_419a49d29e61row1_col4\" class=\"data row1 col4\" >(keine)</td>\n",
       "            </tr>\n",
       "            <tr>\n",
       "                        <th id=\"T_8b4c66a4_a2d5_11e9_a9a4_419a49d29e61level0_row2\" class=\"row_heading level0 row2\" >Architektur</th>\n",
       "                        <td id=\"T_8b4c66a4_a2d5_11e9_a9a4_419a49d29e61row2_col0\" class=\"data row2 col0\" >13.13%</td>\n",
       "                        <td id=\"T_8b4c66a4_a2d5_11e9_a9a4_419a49d29e61row2_col1\" class=\"data row2 col1\" >2. Platz</td>\n",
       "                        <td id=\"T_8b4c66a4_a2d5_11e9_a9a4_419a49d29e61row2_col2\" class=\"data row2 col2\" >328,301 €</td>\n",
       "                        <td id=\"T_8b4c66a4_a2d5_11e9_a9a4_419a49d29e61row2_col3\" class=\"data row2 col3\" >Universität für künstlerische und industrielle Gestaltung Linz (0.7 Mio. €)</td>\n",
       "                        <td id=\"T_8b4c66a4_a2d5_11e9_a9a4_419a49d29e61row2_col4\" class=\"data row2 col4\" >Universität für künstlerische und industrielle Gestaltung Linz</td>\n",
       "            </tr>\n",
       "            <tr>\n",
       "                        <th id=\"T_8b4c66a4_a2d5_11e9_a9a4_419a49d29e61level0_row3\" class=\"row_heading level0 row3\" >Konservierung und Restaurierung</th>\n",
       "                        <td id=\"T_8b4c66a4_a2d5_11e9_a9a4_419a49d29e61row3_col0\" class=\"data row3 col0\" >8.72%</td>\n",
       "                        <td id=\"T_8b4c66a4_a2d5_11e9_a9a4_419a49d29e61row3_col1\" class=\"data row3 col1\" >1. Platz</td>\n",
       "                        <td id=\"T_8b4c66a4_a2d5_11e9_a9a4_419a49d29e61row3_col2\" class=\"data row3 col2\" >217,924 €</td>\n",
       "                        <td id=\"T_8b4c66a4_a2d5_11e9_a9a4_419a49d29e61row3_col3\" class=\"data row3 col3\" >(diese)</td>\n",
       "                        <td id=\"T_8b4c66a4_a2d5_11e9_a9a4_419a49d29e61row3_col4\" class=\"data row3 col4\" >(keine)</td>\n",
       "            </tr>\n",
       "    </tbody></table>"
      ],
      "text/plain": [
       "<pandas.io.formats.style.Styler at 0x7fe68f7d4be0>"
      ]
     },
     "metadata": {},
     "output_type": "display_data"
    },
    {
     "data": {
      "text/html": [
       "<h4>Ähnliche Universitäten aufgrund der Drittmittel-Struktur</h3>"
      ],
      "text/plain": [
       "<IPython.core.display.HTML object>"
      ]
     },
     "metadata": {},
     "output_type": "display_data"
    },
    {
     "data": {
      "text/html": [
       "<p><strong>Akademie der bildenden Künste Wien</strong> (55.7%, wegen &auml;hnlicher Relevanz von Kunstwissenschaften, Architektur, Bildende Kunst), <strong>Universität für Musik und darstellende Kunst Wien</strong> (38.6%, wegen &auml;hnlicher Relevanz von Kunstwissenschaften, Informatik, Soziologie), <strong>Universität für Musik und darstellende Kunst Graz</strong> (24.1%, wegen &auml;hnlicher Relevanz von Kunstwissenschaften, Soziologie, Philosophie, Ethik, Religion), <strong>Universität für künstlerische und industrielle Gestaltung Linz</strong> (24.0%, wegen &auml;hnlicher Relevanz von Architektur, Bildende Kunst, Design)</p>"
      ],
      "text/plain": [
       "<IPython.core.display.HTML object>"
      ]
     },
     "metadata": {},
     "output_type": "display_data"
    },
    {
     "data": {
      "text/html": [
       "<h3>Universität für künstlerische und industrielle Gestaltung Linz</h3>"
      ],
      "text/plain": [
       "<IPython.core.display.HTML object>"
      ]
     },
     "metadata": {},
     "output_type": "display_data"
    },
    {
     "data": {
      "text/html": [
       "<h4>Drittmittel-Struktur</h4>"
      ],
      "text/plain": [
       "<IPython.core.display.HTML object>"
      ]
     },
     "metadata": {},
     "output_type": "display_data"
    },
    {
     "data": {
      "text/html": [
       "Angezeigt werden die gr&ouml;&szlig;ten WZW, die insgesamt mehr als 66.7% der Erl&ouml;se an der Universität für künstlerische und industrielle Gestaltung Linz ausmachen (exakt: 74.3%). Jeder andere WZW tr&auml;gt weniger als 14.6% bei. Die Spalte \"Ranking\" bezieht sich  auf den &ouml;sterreichweiten Vergleich der absoluten Werte im jeweiligen WZW."
      ],
      "text/plain": [
       "<IPython.core.display.HTML object>"
      ]
     },
     "metadata": {},
     "output_type": "display_data"
    },
    {
     "data": {
      "text/html": [
       "<style  type=\"text/css\" >\n",
       "    #T_8b54b69c_a2d5_11e9_a9a4_419a49d29e61row0_col0 {\n",
       "            background-color:  lightgreen;\n",
       "        }    #T_8b54b69c_a2d5_11e9_a9a4_419a49d29e61row0_col1 {\n",
       "            background-color:  lightgreen;\n",
       "        }    #T_8b54b69c_a2d5_11e9_a9a4_419a49d29e61row0_col2 {\n",
       "            background-color:  lightgreen;\n",
       "        }    #T_8b54b69c_a2d5_11e9_a9a4_419a49d29e61row0_col3 {\n",
       "            background-color:  lightgreen;\n",
       "        }    #T_8b54b69c_a2d5_11e9_a9a4_419a49d29e61row0_col4 {\n",
       "            background-color:  lightgreen;\n",
       "        }    #T_8b54b69c_a2d5_11e9_a9a4_419a49d29e61row1_col0 {\n",
       "            background-color:  yellow;\n",
       "        }    #T_8b54b69c_a2d5_11e9_a9a4_419a49d29e61row1_col1 {\n",
       "            background-color:  yellow;\n",
       "        }    #T_8b54b69c_a2d5_11e9_a9a4_419a49d29e61row1_col2 {\n",
       "            background-color:  yellow;\n",
       "        }    #T_8b54b69c_a2d5_11e9_a9a4_419a49d29e61row1_col3 {\n",
       "            background-color:  yellow;\n",
       "        }    #T_8b54b69c_a2d5_11e9_a9a4_419a49d29e61row1_col4 {\n",
       "            background-color:  yellow;\n",
       "        }    #T_8b54b69c_a2d5_11e9_a9a4_419a49d29e61row2_col0 {\n",
       "            background-color:  lightgreen;\n",
       "        }    #T_8b54b69c_a2d5_11e9_a9a4_419a49d29e61row2_col1 {\n",
       "            background-color:  lightgreen;\n",
       "        }    #T_8b54b69c_a2d5_11e9_a9a4_419a49d29e61row2_col2 {\n",
       "            background-color:  lightgreen;\n",
       "        }    #T_8b54b69c_a2d5_11e9_a9a4_419a49d29e61row2_col3 {\n",
       "            background-color:  lightgreen;\n",
       "        }    #T_8b54b69c_a2d5_11e9_a9a4_419a49d29e61row2_col4 {\n",
       "            background-color:  lightgreen;\n",
       "        }</style><table id=\"T_8b54b69c_a2d5_11e9_a9a4_419a49d29e61\" ><thead>    <tr>        <th class=\"blank level0\" ></th>        <th class=\"col_heading level0 col0\" >Intern</th>        <th class=\"col_heading level0 col1\" >Ranking</th>        <th class=\"col_heading level0 col2\" >Erlöse</th>        <th class=\"col_heading level0 col3\" >Beste Universität</th>        <th class=\"col_heading level0 col4\" >Bessere Universitäten</th>    </tr>    <tr>        <th class=\"index_name level0\" >WZW</th>        <th class=\"blank\" ></th>        <th class=\"blank\" ></th>        <th class=\"blank\" ></th>        <th class=\"blank\" ></th>        <th class=\"blank\" ></th>    </tr></thead><tbody>\n",
       "                <tr>\n",
       "                        <th id=\"T_8b54b69c_a2d5_11e9_a9a4_419a49d29e61level0_row0\" class=\"row_heading level0 row0\" >Architektur</th>\n",
       "                        <td id=\"T_8b54b69c_a2d5_11e9_a9a4_419a49d29e61row0_col0\" class=\"data row0 col0\" >36.97%</td>\n",
       "                        <td id=\"T_8b54b69c_a2d5_11e9_a9a4_419a49d29e61row0_col1\" class=\"data row0 col1\" >1. Platz</td>\n",
       "                        <td id=\"T_8b54b69c_a2d5_11e9_a9a4_419a49d29e61row0_col2\" class=\"data row0 col2\" >653,979 €</td>\n",
       "                        <td id=\"T_8b54b69c_a2d5_11e9_a9a4_419a49d29e61row0_col3\" class=\"data row0 col3\" >(diese)</td>\n",
       "                        <td id=\"T_8b54b69c_a2d5_11e9_a9a4_419a49d29e61row0_col4\" class=\"data row0 col4\" >(keine)</td>\n",
       "            </tr>\n",
       "            <tr>\n",
       "                        <th id=\"T_8b54b69c_a2d5_11e9_a9a4_419a49d29e61level0_row1\" class=\"row_heading level0 row1\" >Pädagogik / Vermittlung (2)</th>\n",
       "                        <td id=\"T_8b54b69c_a2d5_11e9_a9a4_419a49d29e61row1_col0\" class=\"data row1 col0\" >22.81%</td>\n",
       "                        <td id=\"T_8b54b69c_a2d5_11e9_a9a4_419a49d29e61row1_col1\" class=\"data row1 col1\" >2. Platz</td>\n",
       "                        <td id=\"T_8b54b69c_a2d5_11e9_a9a4_419a49d29e61row1_col2\" class=\"data row1 col2\" >403,483 €</td>\n",
       "                        <td id=\"T_8b54b69c_a2d5_11e9_a9a4_419a49d29e61row1_col3\" class=\"data row1 col3\" >Akademie der bildenden Künste Wien (0.6 Mio. €)</td>\n",
       "                        <td id=\"T_8b54b69c_a2d5_11e9_a9a4_419a49d29e61row1_col4\" class=\"data row1 col4\" >Akademie der bildenden Künste Wien</td>\n",
       "            </tr>\n",
       "            <tr>\n",
       "                        <th id=\"T_8b54b69c_a2d5_11e9_a9a4_419a49d29e61level0_row2\" class=\"row_heading level0 row2\" >Mediengestaltung</th>\n",
       "                        <td id=\"T_8b54b69c_a2d5_11e9_a9a4_419a49d29e61row2_col0\" class=\"data row2 col0\" >14.56%</td>\n",
       "                        <td id=\"T_8b54b69c_a2d5_11e9_a9a4_419a49d29e61row2_col1\" class=\"data row2 col1\" >1. Platz</td>\n",
       "                        <td id=\"T_8b54b69c_a2d5_11e9_a9a4_419a49d29e61row2_col2\" class=\"data row2 col2\" >257,533 €</td>\n",
       "                        <td id=\"T_8b54b69c_a2d5_11e9_a9a4_419a49d29e61row2_col3\" class=\"data row2 col3\" >(diese)</td>\n",
       "                        <td id=\"T_8b54b69c_a2d5_11e9_a9a4_419a49d29e61row2_col4\" class=\"data row2 col4\" >(keine)</td>\n",
       "            </tr>\n",
       "    </tbody></table>"
      ],
      "text/plain": [
       "<pandas.io.formats.style.Styler at 0x7fe68f7cde80>"
      ]
     },
     "metadata": {},
     "output_type": "display_data"
    },
    {
     "data": {
      "text/html": [
       "<h4>Ähnliche Universitäten aufgrund der Drittmittel-Struktur</h3>"
      ],
      "text/plain": [
       "<IPython.core.display.HTML object>"
      ]
     },
     "metadata": {},
     "output_type": "display_data"
    },
    {
     "data": {
      "text/html": [
       "<p><strong>Akademie der bildenden Künste Wien</strong> (38.6%, wegen &auml;hnlicher Relevanz von Pädagogik / Vermittlung (2), Architektur, Bildende Kunst), <strong>Universität für angewandte Kunst Wien</strong> (24.0%, wegen &auml;hnlicher Relevanz von Architektur, Bildende Kunst, Design), <strong>Universität für Musik und darstellende Kunst Wien</strong> (9.4%, wegen &auml;hnlicher Relevanz von Nicht bekannt/nicht zuordenbar, Andere Geisteswissenschaften, Transdisziplinäre Kunst), <strong>Universität für Musik und darstellende Kunst Graz</strong> (5.6%, wegen &auml;hnlicher Relevanz von Nicht bekannt/nicht zuordenbar, Andere Geisteswissenschaften, Wirtschaftswissenschaften)</p>"
      ],
      "text/plain": [
       "<IPython.core.display.HTML object>"
      ]
     },
     "metadata": {},
     "output_type": "display_data"
    },
    {
     "data": {
      "text/html": [
       "<h3>Veterinärmedizinische Universität Wien</h3>"
      ],
      "text/plain": [
       "<IPython.core.display.HTML object>"
      ]
     },
     "metadata": {},
     "output_type": "display_data"
    },
    {
     "data": {
      "text/html": [
       "<h4>Drittmittel-Struktur</h4>"
      ],
      "text/plain": [
       "<IPython.core.display.HTML object>"
      ]
     },
     "metadata": {},
     "output_type": "display_data"
    },
    {
     "data": {
      "text/html": [
       "Angezeigt werden die gr&ouml;&szlig;ten WZW, die insgesamt mehr als 66.7% der Erl&ouml;se an der Veterinärmedizinische Universität Wien ausmachen (exakt: 66.9%). Jeder andere WZW tr&auml;gt weniger als 66.9% bei. Die Spalte \"Ranking\" bezieht sich  auf den &ouml;sterreichweiten Vergleich der absoluten Werte im jeweiligen WZW."
      ],
      "text/plain": [
       "<IPython.core.display.HTML object>"
      ]
     },
     "metadata": {},
     "output_type": "display_data"
    },
    {
     "data": {
      "text/html": [
       "<style  type=\"text/css\" >\n",
       "    #T_8b5c1a7c_a2d5_11e9_a9a4_419a49d29e61row0_col0 {\n",
       "            background-color:  lightgreen;\n",
       "        }    #T_8b5c1a7c_a2d5_11e9_a9a4_419a49d29e61row0_col1 {\n",
       "            background-color:  lightgreen;\n",
       "        }    #T_8b5c1a7c_a2d5_11e9_a9a4_419a49d29e61row0_col2 {\n",
       "            background-color:  lightgreen;\n",
       "        }    #T_8b5c1a7c_a2d5_11e9_a9a4_419a49d29e61row0_col3 {\n",
       "            background-color:  lightgreen;\n",
       "        }    #T_8b5c1a7c_a2d5_11e9_a9a4_419a49d29e61row0_col4 {\n",
       "            background-color:  lightgreen;\n",
       "        }</style><table id=\"T_8b5c1a7c_a2d5_11e9_a9a4_419a49d29e61\" ><thead>    <tr>        <th class=\"blank level0\" ></th>        <th class=\"col_heading level0 col0\" >Intern</th>        <th class=\"col_heading level0 col1\" >Ranking</th>        <th class=\"col_heading level0 col2\" >Erlöse</th>        <th class=\"col_heading level0 col3\" >Beste Universität</th>        <th class=\"col_heading level0 col4\" >Bessere Universitäten</th>    </tr>    <tr>        <th class=\"index_name level0\" >WZW</th>        <th class=\"blank\" ></th>        <th class=\"blank\" ></th>        <th class=\"blank\" ></th>        <th class=\"blank\" ></th>        <th class=\"blank\" ></th>    </tr></thead><tbody>\n",
       "                <tr>\n",
       "                        <th id=\"T_8b5c1a7c_a2d5_11e9_a9a4_419a49d29e61level0_row0\" class=\"row_heading level0 row0\" >Veterinärmedizin</th>\n",
       "                        <td id=\"T_8b5c1a7c_a2d5_11e9_a9a4_419a49d29e61row0_col0\" class=\"data row0 col0\" >66.86%</td>\n",
       "                        <td id=\"T_8b5c1a7c_a2d5_11e9_a9a4_419a49d29e61row0_col1\" class=\"data row0 col1\" >1. Platz</td>\n",
       "                        <td id=\"T_8b5c1a7c_a2d5_11e9_a9a4_419a49d29e61row0_col2\" class=\"data row0 col2\" >11,561,660 €</td>\n",
       "                        <td id=\"T_8b5c1a7c_a2d5_11e9_a9a4_419a49d29e61row0_col3\" class=\"data row0 col3\" >(diese)</td>\n",
       "                        <td id=\"T_8b5c1a7c_a2d5_11e9_a9a4_419a49d29e61row0_col4\" class=\"data row0 col4\" >(keine)</td>\n",
       "            </tr>\n",
       "    </tbody></table>"
      ],
      "text/plain": [
       "<pandas.io.formats.style.Styler at 0x7fe68f7cde10>"
      ]
     },
     "metadata": {},
     "output_type": "display_data"
    },
    {
     "data": {
      "text/html": [
       "<h4>Ähnliche Universitäten aufgrund der Drittmittel-Struktur</h3>"
      ],
      "text/plain": [
       "<IPython.core.display.HTML object>"
      ]
     },
     "metadata": {},
     "output_type": "display_data"
    },
    {
     "data": {
      "text/html": [
       "<p><strong>Universität Salzburg</strong> (23.5%, wegen &auml;hnlicher Relevanz von Biologie, Philosophie, Ethik, Religion, Wirtschaftswissenschaften), <strong>Universität Graz</strong> (21.7%, wegen &auml;hnlicher Relevanz von Biologie, Philosophie, Ethik, Religion, Wirtschaftswissenschaften), <strong>Universität Wien</strong> (20.8%, wegen &auml;hnlicher Relevanz von Biologie, Philosophie, Ethik, Religion, Wirtschaftswissenschaften), <strong>Universität für Bodenkultur Wien</strong> (18.7%, wegen &auml;hnlicher Relevanz von Biologie, Veterinärmedizin, Philosophie, Ethik, Religion)</p>"
      ],
      "text/plain": [
       "<IPython.core.display.HTML object>"
      ]
     },
     "metadata": {},
     "output_type": "display_data"
    },
    {
     "data": {
      "text/html": [
       "<h3>Universität für Musik und darstellende Kunst Graz</h3>"
      ],
      "text/plain": [
       "<IPython.core.display.HTML object>"
      ]
     },
     "metadata": {},
     "output_type": "display_data"
    },
    {
     "data": {
      "text/html": [
       "<h4>Drittmittel-Struktur</h4>"
      ],
      "text/plain": [
       "<IPython.core.display.HTML object>"
      ]
     },
     "metadata": {},
     "output_type": "display_data"
    },
    {
     "data": {
      "text/html": [
       "Angezeigt werden die gr&ouml;&szlig;ten WZW, die insgesamt mehr als 66.7% der Erl&ouml;se an der Universität für Musik und darstellende Kunst Graz ausmachen (exakt: 76.8%). Jeder andere WZW tr&auml;gt weniger als 11.1% bei. Die Spalte \"Ranking\" bezieht sich  auf den &ouml;sterreichweiten Vergleich der absoluten Werte im jeweiligen WZW."
      ],
      "text/plain": [
       "<IPython.core.display.HTML object>"
      ]
     },
     "metadata": {},
     "output_type": "display_data"
    },
    {
     "data": {
      "text/html": [
       "<style  type=\"text/css\" >\n",
       "    #T_8b660d16_a2d5_11e9_a9a4_419a49d29e61row0_col0 {\n",
       "            background-color:  white;\n",
       "        }    #T_8b660d16_a2d5_11e9_a9a4_419a49d29e61row0_col1 {\n",
       "            background-color:  white;\n",
       "        }    #T_8b660d16_a2d5_11e9_a9a4_419a49d29e61row0_col2 {\n",
       "            background-color:  white;\n",
       "        }    #T_8b660d16_a2d5_11e9_a9a4_419a49d29e61row0_col3 {\n",
       "            background-color:  white;\n",
       "        }    #T_8b660d16_a2d5_11e9_a9a4_419a49d29e61row0_col4 {\n",
       "            background-color:  white;\n",
       "        }    #T_8b660d16_a2d5_11e9_a9a4_419a49d29e61row1_col0 {\n",
       "            background-color:  lightgreen;\n",
       "        }    #T_8b660d16_a2d5_11e9_a9a4_419a49d29e61row1_col1 {\n",
       "            background-color:  lightgreen;\n",
       "        }    #T_8b660d16_a2d5_11e9_a9a4_419a49d29e61row1_col2 {\n",
       "            background-color:  lightgreen;\n",
       "        }    #T_8b660d16_a2d5_11e9_a9a4_419a49d29e61row1_col3 {\n",
       "            background-color:  lightgreen;\n",
       "        }    #T_8b660d16_a2d5_11e9_a9a4_419a49d29e61row1_col4 {\n",
       "            background-color:  lightgreen;\n",
       "        }    #T_8b660d16_a2d5_11e9_a9a4_419a49d29e61row2_col0 {\n",
       "            background-color:  white;\n",
       "        }    #T_8b660d16_a2d5_11e9_a9a4_419a49d29e61row2_col1 {\n",
       "            background-color:  white;\n",
       "        }    #T_8b660d16_a2d5_11e9_a9a4_419a49d29e61row2_col2 {\n",
       "            background-color:  white;\n",
       "        }    #T_8b660d16_a2d5_11e9_a9a4_419a49d29e61row2_col3 {\n",
       "            background-color:  white;\n",
       "        }    #T_8b660d16_a2d5_11e9_a9a4_419a49d29e61row2_col4 {\n",
       "            background-color:  white;\n",
       "        }    #T_8b660d16_a2d5_11e9_a9a4_419a49d29e61row3_col0 {\n",
       "            background-color:  white;\n",
       "        }    #T_8b660d16_a2d5_11e9_a9a4_419a49d29e61row3_col1 {\n",
       "            background-color:  white;\n",
       "        }    #T_8b660d16_a2d5_11e9_a9a4_419a49d29e61row3_col2 {\n",
       "            background-color:  white;\n",
       "        }    #T_8b660d16_a2d5_11e9_a9a4_419a49d29e61row3_col3 {\n",
       "            background-color:  white;\n",
       "        }    #T_8b660d16_a2d5_11e9_a9a4_419a49d29e61row3_col4 {\n",
       "            background-color:  white;\n",
       "        }    #T_8b660d16_a2d5_11e9_a9a4_419a49d29e61row4_col0 {\n",
       "            background-color:  yellow;\n",
       "        }    #T_8b660d16_a2d5_11e9_a9a4_419a49d29e61row4_col1 {\n",
       "            background-color:  yellow;\n",
       "        }    #T_8b660d16_a2d5_11e9_a9a4_419a49d29e61row4_col2 {\n",
       "            background-color:  yellow;\n",
       "        }    #T_8b660d16_a2d5_11e9_a9a4_419a49d29e61row4_col3 {\n",
       "            background-color:  yellow;\n",
       "        }    #T_8b660d16_a2d5_11e9_a9a4_419a49d29e61row4_col4 {\n",
       "            background-color:  yellow;\n",
       "        }</style><table id=\"T_8b660d16_a2d5_11e9_a9a4_419a49d29e61\" ><thead>    <tr>        <th class=\"blank level0\" ></th>        <th class=\"col_heading level0 col0\" >Intern</th>        <th class=\"col_heading level0 col1\" >Ranking</th>        <th class=\"col_heading level0 col2\" >Erlöse</th>        <th class=\"col_heading level0 col3\" >Beste Universität</th>        <th class=\"col_heading level0 col4\" >Bessere Universitäten</th>    </tr>    <tr>        <th class=\"index_name level0\" >WZW</th>        <th class=\"blank\" ></th>        <th class=\"blank\" ></th>        <th class=\"blank\" ></th>        <th class=\"blank\" ></th>        <th class=\"blank\" ></th>    </tr></thead><tbody>\n",
       "                <tr>\n",
       "                        <th id=\"T_8b660d16_a2d5_11e9_a9a4_419a49d29e61level0_row0\" class=\"row_heading level0 row0\" >Kunstwissenschaften</th>\n",
       "                        <td id=\"T_8b660d16_a2d5_11e9_a9a4_419a49d29e61row0_col0\" class=\"data row0 col0\" >20.89%</td>\n",
       "                        <td id=\"T_8b660d16_a2d5_11e9_a9a4_419a49d29e61row0_col1\" class=\"data row0 col1\" >7. Platz</td>\n",
       "                        <td id=\"T_8b660d16_a2d5_11e9_a9a4_419a49d29e61row0_col2\" class=\"data row0 col2\" >300,808 €</td>\n",
       "                        <td id=\"T_8b660d16_a2d5_11e9_a9a4_419a49d29e61row0_col3\" class=\"data row0 col3\" >Universität Wien (2.4 Mio. €)</td>\n",
       "                        <td id=\"T_8b660d16_a2d5_11e9_a9a4_419a49d29e61row0_col4\" class=\"data row0 col4\" >Universität Wien, Universität für angewandte Kunst Wien, Akademie der bildenden Künste Wien, Universität für Musik und darstellende Kunst Wien, Universität Salzburg, Universität Graz</td>\n",
       "            </tr>\n",
       "            <tr>\n",
       "                        <th id=\"T_8b660d16_a2d5_11e9_a9a4_419a49d29e61level0_row1\" class=\"row_heading level0 row1\" >Computermusik</th>\n",
       "                        <td id=\"T_8b660d16_a2d5_11e9_a9a4_419a49d29e61row1_col0\" class=\"data row1 col0\" >20.41%</td>\n",
       "                        <td id=\"T_8b660d16_a2d5_11e9_a9a4_419a49d29e61row1_col1\" class=\"data row1 col1\" >1. Platz</td>\n",
       "                        <td id=\"T_8b660d16_a2d5_11e9_a9a4_419a49d29e61row1_col2\" class=\"data row1 col2\" >293,888 €</td>\n",
       "                        <td id=\"T_8b660d16_a2d5_11e9_a9a4_419a49d29e61row1_col3\" class=\"data row1 col3\" >(diese)</td>\n",
       "                        <td id=\"T_8b660d16_a2d5_11e9_a9a4_419a49d29e61row1_col4\" class=\"data row1 col4\" >(keine)</td>\n",
       "            </tr>\n",
       "            <tr>\n",
       "                        <th id=\"T_8b660d16_a2d5_11e9_a9a4_419a49d29e61level0_row2\" class=\"row_heading level0 row2\" >Elektrotechnik, Elektronik, Informationstechnik</th>\n",
       "                        <td id=\"T_8b660d16_a2d5_11e9_a9a4_419a49d29e61row2_col0\" class=\"data row2 col0\" >13.10%</td>\n",
       "                        <td id=\"T_8b660d16_a2d5_11e9_a9a4_419a49d29e61row2_col1\" class=\"data row2 col1\" >7. Platz</td>\n",
       "                        <td id=\"T_8b660d16_a2d5_11e9_a9a4_419a49d29e61row2_col2\" class=\"data row2 col2\" >188,632 €</td>\n",
       "                        <td id=\"T_8b660d16_a2d5_11e9_a9a4_419a49d29e61row2_col3\" class=\"data row2 col3\" >Technische Universität Wien (16.0 Mio. €)</td>\n",
       "                        <td id=\"T_8b660d16_a2d5_11e9_a9a4_419a49d29e61row2_col4\" class=\"data row2 col4\" >Technische Universität Wien, Technische Universität Graz, Universität Linz, Universität Innsbruck, Universität für Weiterbildung Krems, Universität Klagenfurt</td>\n",
       "            </tr>\n",
       "            <tr>\n",
       "                        <th id=\"T_8b660d16_a2d5_11e9_a9a4_419a49d29e61level0_row3\" class=\"row_heading level0 row3\" >Physik, Astronomie</th>\n",
       "                        <td id=\"T_8b660d16_a2d5_11e9_a9a4_419a49d29e61row3_col0\" class=\"data row3 col0\" >11.30%</td>\n",
       "                        <td id=\"T_8b660d16_a2d5_11e9_a9a4_419a49d29e61row3_col1\" class=\"data row3 col1\" >11. Platz</td>\n",
       "                        <td id=\"T_8b660d16_a2d5_11e9_a9a4_419a49d29e61row3_col2\" class=\"data row3 col2\" >162,715 €</td>\n",
       "                        <td id=\"T_8b660d16_a2d5_11e9_a9a4_419a49d29e61row3_col3\" class=\"data row3 col3\" >Technische Universität Wien (13.4 Mio. €)</td>\n",
       "                        <td id=\"T_8b660d16_a2d5_11e9_a9a4_419a49d29e61row3_col4\" class=\"data row3 col4\" >Technische Universität Wien, Universität Wien, Universität Innsbruck, Universität Linz, Technische Universität Graz, Universität Graz, Universität Salzburg, Montanuniversität Leoben, Universität für Bodenkultur Wien, Universität für Weiterbildung Krems</td>\n",
       "            </tr>\n",
       "            <tr>\n",
       "                        <th id=\"T_8b660d16_a2d5_11e9_a9a4_419a49d29e61level0_row4\" class=\"row_heading level0 row4\" >Nicht bekannt/nicht zuordenbar</th>\n",
       "                        <td id=\"T_8b660d16_a2d5_11e9_a9a4_419a49d29e61row4_col0\" class=\"data row4 col0\" >11.11%</td>\n",
       "                        <td id=\"T_8b660d16_a2d5_11e9_a9a4_419a49d29e61row4_col1\" class=\"data row4 col1\" >2. Platz</td>\n",
       "                        <td id=\"T_8b660d16_a2d5_11e9_a9a4_419a49d29e61row4_col2\" class=\"data row4 col2\" >159,981 €</td>\n",
       "                        <td id=\"T_8b660d16_a2d5_11e9_a9a4_419a49d29e61row4_col3\" class=\"data row4 col3\" >Universität Linz (0.3 Mio. €)</td>\n",
       "                        <td id=\"T_8b660d16_a2d5_11e9_a9a4_419a49d29e61row4_col4\" class=\"data row4 col4\" >Universität Linz</td>\n",
       "            </tr>\n",
       "    </tbody></table>"
      ],
      "text/plain": [
       "<pandas.io.formats.style.Styler at 0x7fe68f7e05f8>"
      ]
     },
     "metadata": {},
     "output_type": "display_data"
    },
    {
     "data": {
      "text/html": [
       "<h4>Ähnliche Universitäten aufgrund der Drittmittel-Struktur</h3>"
      ],
      "text/plain": [
       "<IPython.core.display.HTML object>"
      ]
     },
     "metadata": {},
     "output_type": "display_data"
    },
    {
     "data": {
      "text/html": [
       "<p><strong>Universität für Musik und darstellende Kunst Wien</strong> (43.4%, wegen &auml;hnlicher Relevanz von Kunstwissenschaften, Nicht bekannt/nicht zuordenbar, Physik, Astronomie), <strong>Universität Linz</strong> (26.5%, wegen &auml;hnlicher Relevanz von Elektrotechnik, Elektronik, Informationstechnik, Physik, Astronomie, Soziologie), <strong>Technische Universität Wien</strong> (25.4%, wegen &auml;hnlicher Relevanz von Elektrotechnik, Elektronik, Informationstechnik, Physik, Astronomie, Soziologie), <strong>Universität für angewandte Kunst Wien</strong> (24.1%, wegen &auml;hnlicher Relevanz von Kunstwissenschaften, Soziologie, Philosophie, Ethik, Religion)</p>"
      ],
      "text/plain": [
       "<IPython.core.display.HTML object>"
      ]
     },
     "metadata": {},
     "output_type": "display_data"
    },
    {
     "data": {
      "text/html": [
       "<h3>Universität Linz</h3>"
      ],
      "text/plain": [
       "<IPython.core.display.HTML object>"
      ]
     },
     "metadata": {},
     "output_type": "display_data"
    },
    {
     "data": {
      "text/html": [
       "<h4>Drittmittel-Struktur</h4>"
      ],
      "text/plain": [
       "<IPython.core.display.HTML object>"
      ]
     },
     "metadata": {},
     "output_type": "display_data"
    },
    {
     "data": {
      "text/html": [
       "Angezeigt werden die gr&ouml;&szlig;ten WZW, die insgesamt mehr als 66.7% der Erl&ouml;se an der Universität Linz ausmachen (exakt: 72.1%). Jeder andere WZW tr&auml;gt weniger als 9.5% bei. Die Spalte \"Ranking\" bezieht sich  auf den &ouml;sterreichweiten Vergleich der absoluten Werte im jeweiligen WZW."
      ],
      "text/plain": [
       "<IPython.core.display.HTML object>"
      ]
     },
     "metadata": {},
     "output_type": "display_data"
    },
    {
     "data": {
      "text/html": [
       "<style  type=\"text/css\" >\n",
       "    #T_8b701e82_a2d5_11e9_a9a4_419a49d29e61row0_col0 {\n",
       "            background-color:  white;\n",
       "        }    #T_8b701e82_a2d5_11e9_a9a4_419a49d29e61row0_col1 {\n",
       "            background-color:  white;\n",
       "        }    #T_8b701e82_a2d5_11e9_a9a4_419a49d29e61row0_col2 {\n",
       "            background-color:  white;\n",
       "        }    #T_8b701e82_a2d5_11e9_a9a4_419a49d29e61row0_col3 {\n",
       "            background-color:  white;\n",
       "        }    #T_8b701e82_a2d5_11e9_a9a4_419a49d29e61row0_col4 {\n",
       "            background-color:  white;\n",
       "        }    #T_8b701e82_a2d5_11e9_a9a4_419a49d29e61row1_col0 {\n",
       "            background-color:  white;\n",
       "        }    #T_8b701e82_a2d5_11e9_a9a4_419a49d29e61row1_col1 {\n",
       "            background-color:  white;\n",
       "        }    #T_8b701e82_a2d5_11e9_a9a4_419a49d29e61row1_col2 {\n",
       "            background-color:  white;\n",
       "        }    #T_8b701e82_a2d5_11e9_a9a4_419a49d29e61row1_col3 {\n",
       "            background-color:  white;\n",
       "        }    #T_8b701e82_a2d5_11e9_a9a4_419a49d29e61row1_col4 {\n",
       "            background-color:  white;\n",
       "        }    #T_8b701e82_a2d5_11e9_a9a4_419a49d29e61row2_col0 {\n",
       "            background-color:  white;\n",
       "        }    #T_8b701e82_a2d5_11e9_a9a4_419a49d29e61row2_col1 {\n",
       "            background-color:  white;\n",
       "        }    #T_8b701e82_a2d5_11e9_a9a4_419a49d29e61row2_col2 {\n",
       "            background-color:  white;\n",
       "        }    #T_8b701e82_a2d5_11e9_a9a4_419a49d29e61row2_col3 {\n",
       "            background-color:  white;\n",
       "        }    #T_8b701e82_a2d5_11e9_a9a4_419a49d29e61row2_col4 {\n",
       "            background-color:  white;\n",
       "        }    #T_8b701e82_a2d5_11e9_a9a4_419a49d29e61row3_col0 {\n",
       "            background-color:  white;\n",
       "        }    #T_8b701e82_a2d5_11e9_a9a4_419a49d29e61row3_col1 {\n",
       "            background-color:  white;\n",
       "        }    #T_8b701e82_a2d5_11e9_a9a4_419a49d29e61row3_col2 {\n",
       "            background-color:  white;\n",
       "        }    #T_8b701e82_a2d5_11e9_a9a4_419a49d29e61row3_col3 {\n",
       "            background-color:  white;\n",
       "        }    #T_8b701e82_a2d5_11e9_a9a4_419a49d29e61row3_col4 {\n",
       "            background-color:  white;\n",
       "        }    #T_8b701e82_a2d5_11e9_a9a4_419a49d29e61row4_col0 {\n",
       "            background-color:  white;\n",
       "        }    #T_8b701e82_a2d5_11e9_a9a4_419a49d29e61row4_col1 {\n",
       "            background-color:  white;\n",
       "        }    #T_8b701e82_a2d5_11e9_a9a4_419a49d29e61row4_col2 {\n",
       "            background-color:  white;\n",
       "        }    #T_8b701e82_a2d5_11e9_a9a4_419a49d29e61row4_col3 {\n",
       "            background-color:  white;\n",
       "        }    #T_8b701e82_a2d5_11e9_a9a4_419a49d29e61row4_col4 {\n",
       "            background-color:  white;\n",
       "        }</style><table id=\"T_8b701e82_a2d5_11e9_a9a4_419a49d29e61\" ><thead>    <tr>        <th class=\"blank level0\" ></th>        <th class=\"col_heading level0 col0\" >Intern</th>        <th class=\"col_heading level0 col1\" >Ranking</th>        <th class=\"col_heading level0 col2\" >Erlöse</th>        <th class=\"col_heading level0 col3\" >Beste Universität</th>        <th class=\"col_heading level0 col4\" >Bessere Universitäten</th>    </tr>    <tr>        <th class=\"index_name level0\" >WZW</th>        <th class=\"blank\" ></th>        <th class=\"blank\" ></th>        <th class=\"blank\" ></th>        <th class=\"blank\" ></th>        <th class=\"blank\" ></th>    </tr></thead><tbody>\n",
       "                <tr>\n",
       "                        <th id=\"T_8b701e82_a2d5_11e9_a9a4_419a49d29e61level0_row0\" class=\"row_heading level0 row0\" >Elektrotechnik, Elektronik, Informationstechnik</th>\n",
       "                        <td id=\"T_8b701e82_a2d5_11e9_a9a4_419a49d29e61row0_col0\" class=\"data row0 col0\" >18.06%</td>\n",
       "                        <td id=\"T_8b701e82_a2d5_11e9_a9a4_419a49d29e61row0_col1\" class=\"data row0 col1\" >3. Platz</td>\n",
       "                        <td id=\"T_8b701e82_a2d5_11e9_a9a4_419a49d29e61row0_col2\" class=\"data row0 col2\" >5,283,509 €</td>\n",
       "                        <td id=\"T_8b701e82_a2d5_11e9_a9a4_419a49d29e61row0_col3\" class=\"data row0 col3\" >Technische Universität Wien (16.0 Mio. €)</td>\n",
       "                        <td id=\"T_8b701e82_a2d5_11e9_a9a4_419a49d29e61row0_col4\" class=\"data row0 col4\" >Technische Universität Wien, Technische Universität Graz</td>\n",
       "            </tr>\n",
       "            <tr>\n",
       "                        <th id=\"T_8b701e82_a2d5_11e9_a9a4_419a49d29e61level0_row1\" class=\"row_heading level0 row1\" >Informatik</th>\n",
       "                        <td id=\"T_8b701e82_a2d5_11e9_a9a4_419a49d29e61row1_col0\" class=\"data row1 col0\" >16.54%</td>\n",
       "                        <td id=\"T_8b701e82_a2d5_11e9_a9a4_419a49d29e61row1_col1\" class=\"data row1 col1\" >3. Platz</td>\n",
       "                        <td id=\"T_8b701e82_a2d5_11e9_a9a4_419a49d29e61row1_col2\" class=\"data row1 col2\" >4,838,635 €</td>\n",
       "                        <td id=\"T_8b701e82_a2d5_11e9_a9a4_419a49d29e61row1_col3\" class=\"data row1 col3\" >Technische Universität Wien (10.6 Mio. €)</td>\n",
       "                        <td id=\"T_8b701e82_a2d5_11e9_a9a4_419a49d29e61row1_col4\" class=\"data row1 col4\" >Technische Universität Wien, Technische Universität Graz</td>\n",
       "            </tr>\n",
       "            <tr>\n",
       "                        <th id=\"T_8b701e82_a2d5_11e9_a9a4_419a49d29e61level0_row2\" class=\"row_heading level0 row2\" >Physik, Astronomie</th>\n",
       "                        <td id=\"T_8b701e82_a2d5_11e9_a9a4_419a49d29e61row2_col0\" class=\"data row2 col0\" >14.77%</td>\n",
       "                        <td id=\"T_8b701e82_a2d5_11e9_a9a4_419a49d29e61row2_col1\" class=\"data row2 col1\" >4. Platz</td>\n",
       "                        <td id=\"T_8b701e82_a2d5_11e9_a9a4_419a49d29e61row2_col2\" class=\"data row2 col2\" >4,321,813 €</td>\n",
       "                        <td id=\"T_8b701e82_a2d5_11e9_a9a4_419a49d29e61row2_col3\" class=\"data row2 col3\" >Technische Universität Wien (13.4 Mio. €)</td>\n",
       "                        <td id=\"T_8b701e82_a2d5_11e9_a9a4_419a49d29e61row2_col4\" class=\"data row2 col4\" >Technische Universität Wien, Universität Wien, Universität Innsbruck</td>\n",
       "            </tr>\n",
       "            <tr>\n",
       "                        <th id=\"T_8b701e82_a2d5_11e9_a9a4_419a49d29e61level0_row3\" class=\"row_heading level0 row3\" >Mathematik</th>\n",
       "                        <td id=\"T_8b701e82_a2d5_11e9_a9a4_419a49d29e61row3_col0\" class=\"data row3 col0\" >13.20%</td>\n",
       "                        <td id=\"T_8b701e82_a2d5_11e9_a9a4_419a49d29e61row3_col1\" class=\"data row3 col1\" >4. Platz</td>\n",
       "                        <td id=\"T_8b701e82_a2d5_11e9_a9a4_419a49d29e61row3_col2\" class=\"data row3 col2\" >3,861,260 €</td>\n",
       "                        <td id=\"T_8b701e82_a2d5_11e9_a9a4_419a49d29e61row3_col3\" class=\"data row3 col3\" >Universität Wien (8.4 Mio. €)</td>\n",
       "                        <td id=\"T_8b701e82_a2d5_11e9_a9a4_419a49d29e61row3_col4\" class=\"data row3 col4\" >Universität Wien, Technische Universität Graz, Technische Universität Wien</td>\n",
       "            </tr>\n",
       "            <tr>\n",
       "                        <th id=\"T_8b701e82_a2d5_11e9_a9a4_419a49d29e61level0_row4\" class=\"row_heading level0 row4\" >Maschinenbau</th>\n",
       "                        <td id=\"T_8b701e82_a2d5_11e9_a9a4_419a49d29e61row4_col0\" class=\"data row4 col0\" >9.53%</td>\n",
       "                        <td id=\"T_8b701e82_a2d5_11e9_a9a4_419a49d29e61row4_col1\" class=\"data row4 col1\" >4. Platz</td>\n",
       "                        <td id=\"T_8b701e82_a2d5_11e9_a9a4_419a49d29e61row4_col2\" class=\"data row4 col2\" >2,788,752 €</td>\n",
       "                        <td id=\"T_8b701e82_a2d5_11e9_a9a4_419a49d29e61row4_col3\" class=\"data row4 col3\" >Technische Universität Graz (21.3 Mio. €)</td>\n",
       "                        <td id=\"T_8b701e82_a2d5_11e9_a9a4_419a49d29e61row4_col4\" class=\"data row4 col4\" >Technische Universität Graz, Technische Universität Wien, Montanuniversität Leoben</td>\n",
       "            </tr>\n",
       "    </tbody></table>"
      ],
      "text/plain": [
       "<pandas.io.formats.style.Styler at 0x7fe68f7e0908>"
      ]
     },
     "metadata": {},
     "output_type": "display_data"
    },
    {
     "data": {
      "text/html": [
       "<h4>Ähnliche Universitäten aufgrund der Drittmittel-Struktur</h3>"
      ],
      "text/plain": [
       "<IPython.core.display.HTML object>"
      ]
     },
     "metadata": {},
     "output_type": "display_data"
    },
    {
     "data": {
      "text/html": [
       "<p><strong>Technische Universität Wien</strong> (71.0%, wegen &auml;hnlicher Relevanz von Elektrotechnik, Elektronik, Informationstechnik, Physik, Astronomie, Informatik), <strong>Technische Universität Graz</strong> (51.1%, wegen &auml;hnlicher Relevanz von Elektrotechnik, Elektronik, Informationstechnik, Maschinenbau, Informatik), <strong>Universität Klagenfurt</strong> (46.0%, wegen &auml;hnlicher Relevanz von Informatik, Mathematik, Elektrotechnik, Elektronik, Informationstechnik), <strong>Universität Wien</strong> (39.5%, wegen &auml;hnlicher Relevanz von Physik, Astronomie, Mathematik, Chemie)</p>"
      ],
      "text/plain": [
       "<IPython.core.display.HTML object>"
      ]
     },
     "metadata": {},
     "output_type": "display_data"
    },
    {
     "data": {
      "text/html": [
       "<h3>Universität für Musik und darstellende Kunst Wien</h3>"
      ],
      "text/plain": [
       "<IPython.core.display.HTML object>"
      ]
     },
     "metadata": {},
     "output_type": "display_data"
    },
    {
     "data": {
      "text/html": [
       "<h4>Drittmittel-Struktur</h4>"
      ],
      "text/plain": [
       "<IPython.core.display.HTML object>"
      ]
     },
     "metadata": {},
     "output_type": "display_data"
    },
    {
     "data": {
      "text/html": [
       "Angezeigt werden die gr&ouml;&szlig;ten WZW, die insgesamt mehr als 66.7% der Erl&ouml;se an der Universität für Musik und darstellende Kunst Wien ausmachen (exakt: 68.5%). Jeder andere WZW tr&auml;gt weniger als 10.3% bei. Die Spalte \"Ranking\" bezieht sich  auf den &ouml;sterreichweiten Vergleich der absoluten Werte im jeweiligen WZW."
      ],
      "text/plain": [
       "<IPython.core.display.HTML object>"
      ]
     },
     "metadata": {},
     "output_type": "display_data"
    },
    {
     "data": {
      "text/html": [
       "<style  type=\"text/css\" >\n",
       "    #T_8b7989cc_a2d5_11e9_a9a4_419a49d29e61row0_col0 {\n",
       "            background-color:  white;\n",
       "        }    #T_8b7989cc_a2d5_11e9_a9a4_419a49d29e61row0_col1 {\n",
       "            background-color:  white;\n",
       "        }    #T_8b7989cc_a2d5_11e9_a9a4_419a49d29e61row0_col2 {\n",
       "            background-color:  white;\n",
       "        }    #T_8b7989cc_a2d5_11e9_a9a4_419a49d29e61row0_col3 {\n",
       "            background-color:  white;\n",
       "        }    #T_8b7989cc_a2d5_11e9_a9a4_419a49d29e61row0_col4 {\n",
       "            background-color:  white;\n",
       "        }    #T_8b7989cc_a2d5_11e9_a9a4_419a49d29e61row1_col0 {\n",
       "            background-color:  white;\n",
       "        }    #T_8b7989cc_a2d5_11e9_a9a4_419a49d29e61row1_col1 {\n",
       "            background-color:  white;\n",
       "        }    #T_8b7989cc_a2d5_11e9_a9a4_419a49d29e61row1_col2 {\n",
       "            background-color:  white;\n",
       "        }    #T_8b7989cc_a2d5_11e9_a9a4_419a49d29e61row1_col3 {\n",
       "            background-color:  white;\n",
       "        }    #T_8b7989cc_a2d5_11e9_a9a4_419a49d29e61row1_col4 {\n",
       "            background-color:  white;\n",
       "        }    #T_8b7989cc_a2d5_11e9_a9a4_419a49d29e61row2_col0 {\n",
       "            background-color:  yellow;\n",
       "        }    #T_8b7989cc_a2d5_11e9_a9a4_419a49d29e61row2_col1 {\n",
       "            background-color:  yellow;\n",
       "        }    #T_8b7989cc_a2d5_11e9_a9a4_419a49d29e61row2_col2 {\n",
       "            background-color:  yellow;\n",
       "        }    #T_8b7989cc_a2d5_11e9_a9a4_419a49d29e61row2_col3 {\n",
       "            background-color:  yellow;\n",
       "        }    #T_8b7989cc_a2d5_11e9_a9a4_419a49d29e61row2_col4 {\n",
       "            background-color:  yellow;\n",
       "        }    #T_8b7989cc_a2d5_11e9_a9a4_419a49d29e61row3_col0 {\n",
       "            background-color:  white;\n",
       "        }    #T_8b7989cc_a2d5_11e9_a9a4_419a49d29e61row3_col1 {\n",
       "            background-color:  white;\n",
       "        }    #T_8b7989cc_a2d5_11e9_a9a4_419a49d29e61row3_col2 {\n",
       "            background-color:  white;\n",
       "        }    #T_8b7989cc_a2d5_11e9_a9a4_419a49d29e61row3_col3 {\n",
       "            background-color:  white;\n",
       "        }    #T_8b7989cc_a2d5_11e9_a9a4_419a49d29e61row3_col4 {\n",
       "            background-color:  white;\n",
       "        }</style><table id=\"T_8b7989cc_a2d5_11e9_a9a4_419a49d29e61\" ><thead>    <tr>        <th class=\"blank level0\" ></th>        <th class=\"col_heading level0 col0\" >Intern</th>        <th class=\"col_heading level0 col1\" >Ranking</th>        <th class=\"col_heading level0 col2\" >Erlöse</th>        <th class=\"col_heading level0 col3\" >Beste Universität</th>        <th class=\"col_heading level0 col4\" >Bessere Universitäten</th>    </tr>    <tr>        <th class=\"index_name level0\" >WZW</th>        <th class=\"blank\" ></th>        <th class=\"blank\" ></th>        <th class=\"blank\" ></th>        <th class=\"blank\" ></th>        <th class=\"blank\" ></th>    </tr></thead><tbody>\n",
       "                <tr>\n",
       "                        <th id=\"T_8b7989cc_a2d5_11e9_a9a4_419a49d29e61level0_row0\" class=\"row_heading level0 row0\" >Kunstwissenschaften</th>\n",
       "                        <td id=\"T_8b7989cc_a2d5_11e9_a9a4_419a49d29e61row0_col0\" class=\"data row0 col0\" >33.82%</td>\n",
       "                        <td id=\"T_8b7989cc_a2d5_11e9_a9a4_419a49d29e61row0_col1\" class=\"data row0 col1\" >4. Platz</td>\n",
       "                        <td id=\"T_8b7989cc_a2d5_11e9_a9a4_419a49d29e61row0_col2\" class=\"data row0 col2\" >392,027 €</td>\n",
       "                        <td id=\"T_8b7989cc_a2d5_11e9_a9a4_419a49d29e61row0_col3\" class=\"data row0 col3\" >Universität Wien (2.4 Mio. €)</td>\n",
       "                        <td id=\"T_8b7989cc_a2d5_11e9_a9a4_419a49d29e61row0_col4\" class=\"data row0 col4\" >Universität Wien, Universität für angewandte Kunst Wien, Akademie der bildenden Künste Wien</td>\n",
       "            </tr>\n",
       "            <tr>\n",
       "                        <th id=\"T_8b7989cc_a2d5_11e9_a9a4_419a49d29e61level0_row1\" class=\"row_heading level0 row1\" >Nicht bekannt/nicht zuordenbar</th>\n",
       "                        <td id=\"T_8b7989cc_a2d5_11e9_a9a4_419a49d29e61row1_col0\" class=\"data row1 col0\" >13.71%</td>\n",
       "                        <td id=\"T_8b7989cc_a2d5_11e9_a9a4_419a49d29e61row1_col1\" class=\"data row1 col1\" >3. Platz</td>\n",
       "                        <td id=\"T_8b7989cc_a2d5_11e9_a9a4_419a49d29e61row1_col2\" class=\"data row1 col2\" >158,906 €</td>\n",
       "                        <td id=\"T_8b7989cc_a2d5_11e9_a9a4_419a49d29e61row1_col3\" class=\"data row1 col3\" >Universität Linz (0.3 Mio. €)</td>\n",
       "                        <td id=\"T_8b7989cc_a2d5_11e9_a9a4_419a49d29e61row1_col4\" class=\"data row1 col4\" >Universität Linz, Universität für Musik und darstellende Kunst Graz</td>\n",
       "            </tr>\n",
       "            <tr>\n",
       "                        <th id=\"T_8b7989cc_a2d5_11e9_a9a4_419a49d29e61level0_row2\" class=\"row_heading level0 row2\" >Andere Geisteswissenschaften</th>\n",
       "                        <td id=\"T_8b7989cc_a2d5_11e9_a9a4_419a49d29e61row2_col0\" class=\"data row2 col0\" >10.65%</td>\n",
       "                        <td id=\"T_8b7989cc_a2d5_11e9_a9a4_419a49d29e61row2_col1\" class=\"data row2 col1\" >2. Platz</td>\n",
       "                        <td id=\"T_8b7989cc_a2d5_11e9_a9a4_419a49d29e61row2_col2\" class=\"data row2 col2\" >123,476 €</td>\n",
       "                        <td id=\"T_8b7989cc_a2d5_11e9_a9a4_419a49d29e61row2_col3\" class=\"data row2 col3\" >Universität Wien (0.2 Mio. €)</td>\n",
       "                        <td id=\"T_8b7989cc_a2d5_11e9_a9a4_419a49d29e61row2_col4\" class=\"data row2 col4\" >Universität Wien</td>\n",
       "            </tr>\n",
       "            <tr>\n",
       "                        <th id=\"T_8b7989cc_a2d5_11e9_a9a4_419a49d29e61level0_row3\" class=\"row_heading level0 row3\" >Informatik</th>\n",
       "                        <td id=\"T_8b7989cc_a2d5_11e9_a9a4_419a49d29e61row3_col0\" class=\"data row3 col0\" >10.27%</td>\n",
       "                        <td id=\"T_8b7989cc_a2d5_11e9_a9a4_419a49d29e61row3_col1\" class=\"data row3 col1\" >13. Platz</td>\n",
       "                        <td id=\"T_8b7989cc_a2d5_11e9_a9a4_419a49d29e61row3_col2\" class=\"data row3 col2\" >119,097 €</td>\n",
       "                        <td id=\"T_8b7989cc_a2d5_11e9_a9a4_419a49d29e61row3_col3\" class=\"data row3 col3\" >Technische Universität Wien (10.6 Mio. €)</td>\n",
       "                        <td id=\"T_8b7989cc_a2d5_11e9_a9a4_419a49d29e61row3_col4\" class=\"data row3 col4\" >Technische Universität Wien, Technische Universität Graz, Universität Linz, Universität Innsbruck, Universität Wien, Universität Klagenfurt, Universität Salzburg, Wirtschaftsuniversität Wien, Universität für Bodenkultur Wien, Medizinische Universität Graz, Universität für Weiterbildung Krems, Montanuniversität Leoben</td>\n",
       "            </tr>\n",
       "    </tbody></table>"
      ],
      "text/plain": [
       "<pandas.io.formats.style.Styler at 0x7fe68f7d4ba8>"
      ]
     },
     "metadata": {},
     "output_type": "display_data"
    },
    {
     "data": {
      "text/html": [
       "<h4>Ähnliche Universitäten aufgrund der Drittmittel-Struktur</h3>"
      ],
      "text/plain": [
       "<IPython.core.display.HTML object>"
      ]
     },
     "metadata": {},
     "output_type": "display_data"
    },
    {
     "data": {
      "text/html": [
       "<p><strong>Universität für Musik und darstellende Kunst Graz</strong> (43.4%, wegen &auml;hnlicher Relevanz von Kunstwissenschaften, Nicht bekannt/nicht zuordenbar, Physik, Astronomie), <strong>Universität für angewandte Kunst Wien</strong> (38.6%, wegen &auml;hnlicher Relevanz von Kunstwissenschaften, Informatik, Soziologie), <strong>Akademie der bildenden Künste Wien</strong> (35.3%, wegen &auml;hnlicher Relevanz von Kunstwissenschaften, Andere Naturwissenschaften, Design), <strong>Universität Klagenfurt</strong> (28.2%, wegen &auml;hnlicher Relevanz von Informatik, Mathematik, Soziologie)</p>"
      ],
      "text/plain": [
       "<IPython.core.display.HTML object>"
      ]
     },
     "metadata": {},
     "output_type": "display_data"
    },
    {
     "data": {
      "text/html": [
       "<h3>Wirtschaftsuniversität Wien</h3>"
      ],
      "text/plain": [
       "<IPython.core.display.HTML object>"
      ]
     },
     "metadata": {},
     "output_type": "display_data"
    },
    {
     "data": {
      "text/html": [
       "<h4>Drittmittel-Struktur</h4>"
      ],
      "text/plain": [
       "<IPython.core.display.HTML object>"
      ]
     },
     "metadata": {},
     "output_type": "display_data"
    },
    {
     "data": {
      "text/html": [
       "Angezeigt werden die gr&ouml;&szlig;ten WZW, die insgesamt mehr als 66.7% der Erl&ouml;se an der Wirtschaftsuniversität Wien ausmachen (exakt: 76.9%). Jeder andere WZW tr&auml;gt weniger als 21.0% bei. Die Spalte \"Ranking\" bezieht sich  auf den &ouml;sterreichweiten Vergleich der absoluten Werte im jeweiligen WZW."
      ],
      "text/plain": [
       "<IPython.core.display.HTML object>"
      ]
     },
     "metadata": {},
     "output_type": "display_data"
    },
    {
     "data": {
      "text/html": [
       "<style  type=\"text/css\" >\n",
       "    #T_8b81053a_a2d5_11e9_a9a4_419a49d29e61row0_col0 {\n",
       "            background-color:  lightgreen;\n",
       "        }    #T_8b81053a_a2d5_11e9_a9a4_419a49d29e61row0_col1 {\n",
       "            background-color:  lightgreen;\n",
       "        }    #T_8b81053a_a2d5_11e9_a9a4_419a49d29e61row0_col2 {\n",
       "            background-color:  lightgreen;\n",
       "        }    #T_8b81053a_a2d5_11e9_a9a4_419a49d29e61row0_col3 {\n",
       "            background-color:  lightgreen;\n",
       "        }    #T_8b81053a_a2d5_11e9_a9a4_419a49d29e61row0_col4 {\n",
       "            background-color:  lightgreen;\n",
       "        }    #T_8b81053a_a2d5_11e9_a9a4_419a49d29e61row1_col0 {\n",
       "            background-color:  lightgreen;\n",
       "        }    #T_8b81053a_a2d5_11e9_a9a4_419a49d29e61row1_col1 {\n",
       "            background-color:  lightgreen;\n",
       "        }    #T_8b81053a_a2d5_11e9_a9a4_419a49d29e61row1_col2 {\n",
       "            background-color:  lightgreen;\n",
       "        }    #T_8b81053a_a2d5_11e9_a9a4_419a49d29e61row1_col3 {\n",
       "            background-color:  lightgreen;\n",
       "        }    #T_8b81053a_a2d5_11e9_a9a4_419a49d29e61row1_col4 {\n",
       "            background-color:  lightgreen;\n",
       "        }</style><table id=\"T_8b81053a_a2d5_11e9_a9a4_419a49d29e61\" ><thead>    <tr>        <th class=\"blank level0\" ></th>        <th class=\"col_heading level0 col0\" >Intern</th>        <th class=\"col_heading level0 col1\" >Ranking</th>        <th class=\"col_heading level0 col2\" >Erlöse</th>        <th class=\"col_heading level0 col3\" >Beste Universität</th>        <th class=\"col_heading level0 col4\" >Bessere Universitäten</th>    </tr>    <tr>        <th class=\"index_name level0\" >WZW</th>        <th class=\"blank\" ></th>        <th class=\"blank\" ></th>        <th class=\"blank\" ></th>        <th class=\"blank\" ></th>        <th class=\"blank\" ></th>    </tr></thead><tbody>\n",
       "                <tr>\n",
       "                        <th id=\"T_8b81053a_a2d5_11e9_a9a4_419a49d29e61level0_row0\" class=\"row_heading level0 row0\" >Wirtschaftswissenschaften</th>\n",
       "                        <td id=\"T_8b81053a_a2d5_11e9_a9a4_419a49d29e61row0_col0\" class=\"data row0 col0\" >55.96%</td>\n",
       "                        <td id=\"T_8b81053a_a2d5_11e9_a9a4_419a49d29e61row0_col1\" class=\"data row0 col1\" >1. Platz</td>\n",
       "                        <td id=\"T_8b81053a_a2d5_11e9_a9a4_419a49d29e61row0_col2\" class=\"data row0 col2\" >7,199,353 €</td>\n",
       "                        <td id=\"T_8b81053a_a2d5_11e9_a9a4_419a49d29e61row0_col3\" class=\"data row0 col3\" >(diese)</td>\n",
       "                        <td id=\"T_8b81053a_a2d5_11e9_a9a4_419a49d29e61row0_col4\" class=\"data row0 col4\" >(keine)</td>\n",
       "            </tr>\n",
       "            <tr>\n",
       "                        <th id=\"T_8b81053a_a2d5_11e9_a9a4_419a49d29e61level0_row1\" class=\"row_heading level0 row1\" >Rechtswissenschaften</th>\n",
       "                        <td id=\"T_8b81053a_a2d5_11e9_a9a4_419a49d29e61row1_col0\" class=\"data row1 col0\" >20.98%</td>\n",
       "                        <td id=\"T_8b81053a_a2d5_11e9_a9a4_419a49d29e61row1_col1\" class=\"data row1 col1\" >1. Platz</td>\n",
       "                        <td id=\"T_8b81053a_a2d5_11e9_a9a4_419a49d29e61row1_col2\" class=\"data row1 col2\" >2,699,082 €</td>\n",
       "                        <td id=\"T_8b81053a_a2d5_11e9_a9a4_419a49d29e61row1_col3\" class=\"data row1 col3\" >(diese)</td>\n",
       "                        <td id=\"T_8b81053a_a2d5_11e9_a9a4_419a49d29e61row1_col4\" class=\"data row1 col4\" >(keine)</td>\n",
       "            </tr>\n",
       "    </tbody></table>"
      ],
      "text/plain": [
       "<pandas.io.formats.style.Styler at 0x7fe68f7cd390>"
      ]
     },
     "metadata": {},
     "output_type": "display_data"
    },
    {
     "data": {
      "text/html": [
       "<h4>Ähnliche Universitäten aufgrund der Drittmittel-Struktur</h3>"
      ],
      "text/plain": [
       "<IPython.core.display.HTML object>"
      ]
     },
     "metadata": {},
     "output_type": "display_data"
    },
    {
     "data": {
      "text/html": [
       "<p><strong>Universität Klagenfurt</strong> (29.7%, wegen &auml;hnlicher Relevanz von Wirtschaftswissenschaften, Informatik, Mathematik), <strong>Universität Innsbruck</strong> (27.1%, wegen &auml;hnlicher Relevanz von Wirtschaftswissenschaften, Geowissenschaften, Informatik), <strong>Universität Graz</strong> (24.8%, wegen &auml;hnlicher Relevanz von Wirtschaftswissenschaften, Rechtswissenschaften, Mathematik), <strong>Universität Salzburg</strong> (23.2%, wegen &auml;hnlicher Relevanz von Geowissenschaften, Informatik, Rechtswissenschaften)</p>"
      ],
      "text/plain": [
       "<IPython.core.display.HTML object>"
      ]
     },
     "metadata": {},
     "output_type": "display_data"
    },
    {
     "data": {
      "text/html": [
       "<h3>Medizinische Universität Wien</h3>"
      ],
      "text/plain": [
       "<IPython.core.display.HTML object>"
      ]
     },
     "metadata": {},
     "output_type": "display_data"
    },
    {
     "data": {
      "text/html": [
       "<h4>Drittmittel-Struktur</h4>"
      ],
      "text/plain": [
       "<IPython.core.display.HTML object>"
      ]
     },
     "metadata": {},
     "output_type": "display_data"
    },
    {
     "data": {
      "text/html": [
       "Angezeigt werden die gr&ouml;&szlig;ten WZW, die insgesamt mehr als 66.7% der Erl&ouml;se an der Medizinische Universität Wien ausmachen (exakt: 81.3%). Jeder andere WZW tr&auml;gt weniger als 22.3% bei. Die Spalte \"Ranking\" bezieht sich  auf den &ouml;sterreichweiten Vergleich der absoluten Werte im jeweiligen WZW."
      ],
      "text/plain": [
       "<IPython.core.display.HTML object>"
      ]
     },
     "metadata": {},
     "output_type": "display_data"
    },
    {
     "data": {
      "text/html": [
       "<style  type=\"text/css\" >\n",
       "    #T_8b889340_a2d5_11e9_a9a4_419a49d29e61row0_col0 {\n",
       "            background-color:  lightgreen;\n",
       "        }    #T_8b889340_a2d5_11e9_a9a4_419a49d29e61row0_col1 {\n",
       "            background-color:  lightgreen;\n",
       "        }    #T_8b889340_a2d5_11e9_a9a4_419a49d29e61row0_col2 {\n",
       "            background-color:  lightgreen;\n",
       "        }    #T_8b889340_a2d5_11e9_a9a4_419a49d29e61row0_col3 {\n",
       "            background-color:  lightgreen;\n",
       "        }    #T_8b889340_a2d5_11e9_a9a4_419a49d29e61row0_col4 {\n",
       "            background-color:  lightgreen;\n",
       "        }    #T_8b889340_a2d5_11e9_a9a4_419a49d29e61row1_col0 {\n",
       "            background-color:  yellow;\n",
       "        }    #T_8b889340_a2d5_11e9_a9a4_419a49d29e61row1_col1 {\n",
       "            background-color:  yellow;\n",
       "        }    #T_8b889340_a2d5_11e9_a9a4_419a49d29e61row1_col2 {\n",
       "            background-color:  yellow;\n",
       "        }    #T_8b889340_a2d5_11e9_a9a4_419a49d29e61row1_col3 {\n",
       "            background-color:  yellow;\n",
       "        }    #T_8b889340_a2d5_11e9_a9a4_419a49d29e61row1_col4 {\n",
       "            background-color:  yellow;\n",
       "        }</style><table id=\"T_8b889340_a2d5_11e9_a9a4_419a49d29e61\" ><thead>    <tr>        <th class=\"blank level0\" ></th>        <th class=\"col_heading level0 col0\" >Intern</th>        <th class=\"col_heading level0 col1\" >Ranking</th>        <th class=\"col_heading level0 col2\" >Erlöse</th>        <th class=\"col_heading level0 col3\" >Beste Universität</th>        <th class=\"col_heading level0 col4\" >Bessere Universitäten</th>    </tr>    <tr>        <th class=\"index_name level0\" >WZW</th>        <th class=\"blank\" ></th>        <th class=\"blank\" ></th>        <th class=\"blank\" ></th>        <th class=\"blank\" ></th>        <th class=\"blank\" ></th>    </tr></thead><tbody>\n",
       "                <tr>\n",
       "                        <th id=\"T_8b889340_a2d5_11e9_a9a4_419a49d29e61level0_row0\" class=\"row_heading level0 row0\" >Klinische Medizin</th>\n",
       "                        <td id=\"T_8b889340_a2d5_11e9_a9a4_419a49d29e61row0_col0\" class=\"data row0 col0\" >59.00%</td>\n",
       "                        <td id=\"T_8b889340_a2d5_11e9_a9a4_419a49d29e61row0_col1\" class=\"data row0 col1\" >1. Platz</td>\n",
       "                        <td id=\"T_8b889340_a2d5_11e9_a9a4_419a49d29e61row0_col2\" class=\"data row0 col2\" >58,418,319 €</td>\n",
       "                        <td id=\"T_8b889340_a2d5_11e9_a9a4_419a49d29e61row0_col3\" class=\"data row0 col3\" >(diese)</td>\n",
       "                        <td id=\"T_8b889340_a2d5_11e9_a9a4_419a49d29e61row0_col4\" class=\"data row0 col4\" >(keine)</td>\n",
       "            </tr>\n",
       "            <tr>\n",
       "                        <th id=\"T_8b889340_a2d5_11e9_a9a4_419a49d29e61level0_row1\" class=\"row_heading level0 row1\" >Medizinisch-theoretische Wissenschaften, Pharmazie</th>\n",
       "                        <td id=\"T_8b889340_a2d5_11e9_a9a4_419a49d29e61row1_col0\" class=\"data row1 col0\" >22.27%</td>\n",
       "                        <td id=\"T_8b889340_a2d5_11e9_a9a4_419a49d29e61row1_col1\" class=\"data row1 col1\" >2. Platz</td>\n",
       "                        <td id=\"T_8b889340_a2d5_11e9_a9a4_419a49d29e61row1_col2\" class=\"data row1 col2\" >22,050,940 €</td>\n",
       "                        <td id=\"T_8b889340_a2d5_11e9_a9a4_419a49d29e61row1_col3\" class=\"data row1 col3\" >Medizinische Universität Graz (34.1 Mio. €)</td>\n",
       "                        <td id=\"T_8b889340_a2d5_11e9_a9a4_419a49d29e61row1_col4\" class=\"data row1 col4\" >Medizinische Universität Graz</td>\n",
       "            </tr>\n",
       "    </tbody></table>"
      ],
      "text/plain": [
       "<pandas.io.formats.style.Styler at 0x7fe68f7d4fd0>"
      ]
     },
     "metadata": {},
     "output_type": "display_data"
    },
    {
     "data": {
      "text/html": [
       "<h4>Ähnliche Universitäten aufgrund der Drittmittel-Struktur</h3>"
      ],
      "text/plain": [
       "<IPython.core.display.HTML object>"
      ]
     },
     "metadata": {},
     "output_type": "display_data"
    },
    {
     "data": {
      "text/html": [
       "<p><strong>Medizinische Universität Innsbruck</strong> (60.9%, wegen &auml;hnlicher Relevanz von Klinische Medizin, Medizinisch-theoretische Wissenschaften, Pharmazie, Gesundheitswissenschaften), <strong>Medizinische Universität Graz</strong> (45.0%, wegen &auml;hnlicher Relevanz von Medizinisch-theoretische Wissenschaften, Pharmazie, Klinische Medizin, Andere Humanmedizin, Gesundheitswissenschaften), <strong>Universität für Weiterbildung Krems</strong> (17.8%, wegen &auml;hnlicher Relevanz von Gesundheitswissenschaften, Klinische Medizin, Andere Humanmedizin, Gesundheitswissenschaften), <strong>Universität Salzburg</strong> (14.9%, wegen &auml;hnlicher Relevanz von Medizinisch-theoretische Wissenschaften, Pharmazie, Gesundheitswissenschaften, Andere Humanmedizin, Gesundheitswissenschaften)</p>"
      ],
      "text/plain": [
       "<IPython.core.display.HTML object>"
      ]
     },
     "metadata": {},
     "output_type": "display_data"
    },
    {
     "data": {
      "text/html": [
       "<h3>Akademie der bildenden Künste Wien</h3>"
      ],
      "text/plain": [
       "<IPython.core.display.HTML object>"
      ]
     },
     "metadata": {},
     "output_type": "display_data"
    },
    {
     "data": {
      "text/html": [
       "<h4>Drittmittel-Struktur</h4>"
      ],
      "text/plain": [
       "<IPython.core.display.HTML object>"
      ]
     },
     "metadata": {},
     "output_type": "display_data"
    },
    {
     "data": {
      "text/html": [
       "Angezeigt werden die gr&ouml;&szlig;ten WZW, die insgesamt mehr als 66.7% der Erl&ouml;se an der Akademie der bildenden Künste Wien ausmachen (exakt: 70.4%). Jeder andere WZW tr&auml;gt weniger als 34.2% bei. Die Spalte \"Ranking\" bezieht sich  auf den &ouml;sterreichweiten Vergleich der absoluten Werte im jeweiligen WZW."
      ],
      "text/plain": [
       "<IPython.core.display.HTML object>"
      ]
     },
     "metadata": {},
     "output_type": "display_data"
    },
    {
     "data": {
      "text/html": [
       "<style  type=\"text/css\" >\n",
       "    #T_8b8ffb12_a2d5_11e9_a9a4_419a49d29e61row0_col0 {\n",
       "            background-color:  white;\n",
       "        }    #T_8b8ffb12_a2d5_11e9_a9a4_419a49d29e61row0_col1 {\n",
       "            background-color:  white;\n",
       "        }    #T_8b8ffb12_a2d5_11e9_a9a4_419a49d29e61row0_col2 {\n",
       "            background-color:  white;\n",
       "        }    #T_8b8ffb12_a2d5_11e9_a9a4_419a49d29e61row0_col3 {\n",
       "            background-color:  white;\n",
       "        }    #T_8b8ffb12_a2d5_11e9_a9a4_419a49d29e61row0_col4 {\n",
       "            background-color:  white;\n",
       "        }    #T_8b8ffb12_a2d5_11e9_a9a4_419a49d29e61row1_col0 {\n",
       "            background-color:  lightgreen;\n",
       "        }    #T_8b8ffb12_a2d5_11e9_a9a4_419a49d29e61row1_col1 {\n",
       "            background-color:  lightgreen;\n",
       "        }    #T_8b8ffb12_a2d5_11e9_a9a4_419a49d29e61row1_col2 {\n",
       "            background-color:  lightgreen;\n",
       "        }    #T_8b8ffb12_a2d5_11e9_a9a4_419a49d29e61row1_col3 {\n",
       "            background-color:  lightgreen;\n",
       "        }    #T_8b8ffb12_a2d5_11e9_a9a4_419a49d29e61row1_col4 {\n",
       "            background-color:  lightgreen;\n",
       "        }</style><table id=\"T_8b8ffb12_a2d5_11e9_a9a4_419a49d29e61\" ><thead>    <tr>        <th class=\"blank level0\" ></th>        <th class=\"col_heading level0 col0\" >Intern</th>        <th class=\"col_heading level0 col1\" >Ranking</th>        <th class=\"col_heading level0 col2\" >Erlöse</th>        <th class=\"col_heading level0 col3\" >Beste Universität</th>        <th class=\"col_heading level0 col4\" >Bessere Universitäten</th>    </tr>    <tr>        <th class=\"index_name level0\" >WZW</th>        <th class=\"blank\" ></th>        <th class=\"blank\" ></th>        <th class=\"blank\" ></th>        <th class=\"blank\" ></th>        <th class=\"blank\" ></th>    </tr></thead><tbody>\n",
       "                <tr>\n",
       "                        <th id=\"T_8b8ffb12_a2d5_11e9_a9a4_419a49d29e61level0_row0\" class=\"row_heading level0 row0\" >Kunstwissenschaften</th>\n",
       "                        <td id=\"T_8b8ffb12_a2d5_11e9_a9a4_419a49d29e61row0_col0\" class=\"data row0 col0\" >36.19%</td>\n",
       "                        <td id=\"T_8b8ffb12_a2d5_11e9_a9a4_419a49d29e61row0_col1\" class=\"data row0 col1\" >3. Platz</td>\n",
       "                        <td id=\"T_8b8ffb12_a2d5_11e9_a9a4_419a49d29e61row0_col2\" class=\"data row0 col2\" >587,593 €</td>\n",
       "                        <td id=\"T_8b8ffb12_a2d5_11e9_a9a4_419a49d29e61row0_col3\" class=\"data row0 col3\" >Universität Wien (2.4 Mio. €)</td>\n",
       "                        <td id=\"T_8b8ffb12_a2d5_11e9_a9a4_419a49d29e61row0_col4\" class=\"data row0 col4\" >Universität Wien, Universität für angewandte Kunst Wien</td>\n",
       "            </tr>\n",
       "            <tr>\n",
       "                        <th id=\"T_8b8ffb12_a2d5_11e9_a9a4_419a49d29e61level0_row1\" class=\"row_heading level0 row1\" >Pädagogik / Vermittlung (2)</th>\n",
       "                        <td id=\"T_8b8ffb12_a2d5_11e9_a9a4_419a49d29e61row1_col0\" class=\"data row1 col0\" >34.23%</td>\n",
       "                        <td id=\"T_8b8ffb12_a2d5_11e9_a9a4_419a49d29e61row1_col1\" class=\"data row1 col1\" >1. Platz</td>\n",
       "                        <td id=\"T_8b8ffb12_a2d5_11e9_a9a4_419a49d29e61row1_col2\" class=\"data row1 col2\" >555,820 €</td>\n",
       "                        <td id=\"T_8b8ffb12_a2d5_11e9_a9a4_419a49d29e61row1_col3\" class=\"data row1 col3\" >(diese)</td>\n",
       "                        <td id=\"T_8b8ffb12_a2d5_11e9_a9a4_419a49d29e61row1_col4\" class=\"data row1 col4\" >(keine)</td>\n",
       "            </tr>\n",
       "    </tbody></table>"
      ],
      "text/plain": [
       "<pandas.io.formats.style.Styler at 0x7fe68f7cdc88>"
      ]
     },
     "metadata": {},
     "output_type": "display_data"
    },
    {
     "data": {
      "text/html": [
       "<h4>Ähnliche Universitäten aufgrund der Drittmittel-Struktur</h3>"
      ],
      "text/plain": [
       "<IPython.core.display.HTML object>"
      ]
     },
     "metadata": {},
     "output_type": "display_data"
    },
    {
     "data": {
      "text/html": [
       "<p><strong>Universität für angewandte Kunst Wien</strong> (55.7%, wegen &auml;hnlicher Relevanz von Kunstwissenschaften, Architektur, Bildende Kunst), <strong>Universität für künstlerische und industrielle Gestaltung Linz</strong> (38.6%, wegen &auml;hnlicher Relevanz von Pädagogik / Vermittlung (2), Architektur, Bildende Kunst), <strong>Universität für Musik und darstellende Kunst Wien</strong> (35.3%, wegen &auml;hnlicher Relevanz von Kunstwissenschaften, Andere Naturwissenschaften, Design), <strong>Universität für Musik und darstellende Kunst Graz</strong> (20.9%, wegen &auml;hnlicher Relevanz von Kunstwissenschaften, Design, Klinische Medizin)</p>"
      ],
      "text/plain": [
       "<IPython.core.display.HTML object>"
      ]
     },
     "metadata": {},
     "output_type": "display_data"
    }
   ],
   "source": [
    "from pandas import Series \n",
    "import pandas as pd \n",
    "import numpy as np\n",
    "from IPython.display import HTML\n",
    "\n",
    "#data = pd.read_csv('1.C.1.csv', sep=';', index_col=[0, 1, 2, 3])\n",
    "#data.sort_index(inplace=True)\n",
    "\n",
    "#idx = pd.IndexSlice\n",
    "#tmp = data.loc[idx[:, 'Psychologie', :, 2018], :]\n",
    "\n",
    "#print(tmp.index.get_level_values('university').unique())\n",
    "#display(data.loc['FWF'].xs(2018, level='year'))\n",
    "#display(data.xs(2018, level='year'))\n",
    "\n",
    "class Dimension:\n",
    "    @classmethod\n",
    "    def create(cls, dataframe, dimensions):\n",
    "        dims = dict()\n",
    "        for dim in dimensions:\n",
    "            assert dim in dataframe.index.names, \"There is no index '\" + dim + \"'\"\n",
    "            cats = dataframe.index.get_level_values(dim).unique()\n",
    "            dims[dim] = Dimension(dim, cats.values)\n",
    "        return dims\n",
    "    \n",
    "    def __init__(self, name, categories):\n",
    "        self.__name = name\n",
    "        self.__categories = categories   \n",
    "    @property\n",
    "    def name (self):\n",
    "        return self.__name\n",
    "    @property\n",
    "    def categories(self):\n",
    "        return self.__categories  \n",
    "    def __str__(self):\n",
    "        return self.name\n",
    "        \n",
    "class Datasheet:\n",
    "    def __init__(self, filename, dimensions, timepoint_name, university_name, value_name):\n",
    "        dataframe = pd.read_csv(filename, sep=';', index_col=list(range(len(dimensions)+2)))        \n",
    "        dataframe.columns = [value_name]\n",
    "        dataframe.sort_index(inplace=True)\n",
    "\n",
    "        assert timepoint_name in dataframe.index.names, \"There is no index '\" + timepoint_name + \"'\"\n",
    "        assert university_name in dataframe.index.names, \"There is no index '\" + university_name + \"'\"\n",
    "        assert value_name in dataframe, \"There is no colum with valid data called '\" + value_name + \"'\"\n",
    "        \n",
    "        self.__dataframe = dataframe\n",
    "        self.__timepoint_idx = timepoint_name\n",
    "        self.__university_idx = university_name\n",
    "        self.__value_column = value_name       \n",
    "        self.__dimensions = Dimension.create(dataframe, dimensions + [university_name, timepoint_name])\n",
    "        self.__timepoints = dataframe.index.get_level_values(timepoint_name).unique()\n",
    "        self.__universities = dataframe.index.get_level_values(university_name).unique()\n",
    "        self.__recent_timepoint = self.__timepoints.max()\n",
    "                \n",
    "    @property\n",
    "    def value_column(self):\n",
    "        return self.__value_column\n",
    "    @property\n",
    "    def university_idx(self):\n",
    "        return self.__university_idx\n",
    "    @property\n",
    "    def timepoint_idx(self):\n",
    "        return self.__timepoint_idx\n",
    "    @property\n",
    "    def dimensions(self):\n",
    "        return self.__dimensions\n",
    "    @property\n",
    "    def most_recent(self):\n",
    "        return self.__recent_timepoint\n",
    "    @property\n",
    "    def universities(self):\n",
    "        return self.__universities\n",
    "    \n",
    "    def only(self, conditions):\n",
    "        df = self.__dataframe\n",
    "        if conditions is None:\n",
    "            return df\n",
    "        slices = list()\n",
    "        for dim in self.dimensions.keys():\n",
    "            if self.dimensions[dim].name in conditions.keys():\n",
    "                slices.append(conditions[self.dimensions[dim].name])\n",
    "            else:\n",
    "                slices.append(slice(None))\n",
    "        return df.loc[tuple(slices), :]\n",
    "        \n",
    "    def analyze(self, description, about, filtering=None):\n",
    "        return Analysis(self, description, self.dimensions[about], self.only(filtering) \\\n",
    "                            .sum(level = [self.dimensions[about].name, self.university_idx]))\n",
    "\n",
    "\n",
    "class Analysis:\n",
    "    def __init__(self, sheet, description, about, table):\n",
    "        self.__sheet = sheet\n",
    "        self.__table = table.unstack(about.name, fill_value=0)\n",
    "        self.__about = about\n",
    "        self.__desc = description\n",
    "        \n",
    "        self.__sums = table.sum(axis='columns')\n",
    "        self.__sums.name = sheet.value_column\n",
    "        self.__totals = table.sum(level=[about.name])[sheet.value_column]\n",
    "        self.__grand_total = table.sum()\n",
    "        self.__grand_total.name = 'grand total'\n",
    "        \n",
    "        assert self.__grand_total[sheet.value_column] == self.__sums.sum()\n",
    "        \n",
    "        self.__structure = Structure(self)\n",
    "        self.__ranking = Ranking(self)\n",
    "\n",
    "               \n",
    "    @property\n",
    "    def sheet(self):\n",
    "        return self.__sheet\n",
    "    @property\n",
    "    def table(self):\n",
    "        return self.__table\n",
    "    @property\n",
    "    def horizontal_sums(self):\n",
    "        return self.__sums\n",
    "    @property\n",
    "    def sums(self):\n",
    "        return self.horizontal_sums\n",
    "    @property\n",
    "    def vertical_sums(self):\n",
    "        return self.__totals\n",
    "    @property\n",
    "    def totals(self):\n",
    "        return self.vertical_sums\n",
    "    @property\n",
    "    def about(self):\n",
    "        return self.__about\n",
    "    @property\n",
    "    def description(self):\n",
    "        return self.__desc\n",
    "    @property\n",
    "    def grand_total(self):\n",
    "        return self.__grand_total\n",
    "    @property\n",
    "    def structure(self):\n",
    "        return self.__structure\n",
    "    @property\n",
    "    def ranking(self):\n",
    "        return self.__ranking\n",
    "    \n",
    "    def values(self, university):\n",
    "        tmp = self.table.loc[university]\n",
    "        tmp.name = self.sheet.value_column\n",
    "        return tmp\n",
    "\n",
    "    \n",
    "    \n",
    "class Ranking:\n",
    "    def __init__(self, analysis):\n",
    "        self.__analysis = analysis\n",
    "        self.__rankings = analysis.table.rank(axis='rows', method='max', ascending=False)\n",
    "        \n",
    "        tmp = analysis.horizontal_sums.sum(level=self.analysis.sheet.university_idx)\n",
    "        self.__total_ranking = tmp.rank(method='max', ascending=False).sort_values()\n",
    "        self.__total_ranking.name = 'rank'\n",
    "        \n",
    "    @property\n",
    "    def analysis(self):\n",
    "        return self.__analysis\n",
    "    @property\n",
    "    def table(self):\n",
    "        return self.__rankings\n",
    "    \n",
    "    def of(self, university, category=None):\n",
    "        categories = self.__analysis.about.categories\n",
    "        retval = None\n",
    "        if category == None:\n",
    "            retval = self.__total_ranking.loc[university]\n",
    "        else:\n",
    "            if category in categories:\n",
    "                retval = self.__rankings[self.analysis.sheet.value_column, category][university]\n",
    "            else:\n",
    "                retval = self.__rankings.loc[university].astype(int)\n",
    "        retval.name = 'ranking'\n",
    "        return retval\n",
    "\n",
    "    def better_than(self, university, category=None):\n",
    "        if category == None:\n",
    "            return self.__total_ranking[self.__total_ranking < self.__total_ranking[university]]\n",
    "        else:\n",
    "            tmp = self.__rankings[self.analysis.sheet.value_column, category].sort_values()\n",
    "            return tmp[tmp[university] > tmp]\n",
    "        \n",
    "    def best(self, category):\n",
    "        tmp = self.__rankings[self.analysis.sheet.value_column, category].sort_values()[0:1]\n",
    "        return tmp\n",
    "       \n",
    "        \n",
    "            \n",
    "\n",
    "class Structure:\n",
    "    def __init__(self, analysis):\n",
    "        self.__analysis = analysis\n",
    "        tmp = analysis.sums.sum(level=[analysis.sheet.university_idx])\n",
    "        self.__table = analysis.table.divide(tmp, axis=0).droplevel(level=0, axis='columns')\n",
    "        self.__table.name = analysis.sheet.value_column    \n",
    "        \n",
    "    @property\n",
    "    def table(self):\n",
    "        return self.__table\n",
    "    @property\n",
    "    def analysis(self):\n",
    "        return self.__analysis\n",
    "    \n",
    "    def most_important_to(self, university, cutoff=0.9):\n",
    "        u = self.table.loc[university].sort_values(ascending=False)\n",
    "        u.name = 'relevance'\n",
    "        cumsum = u.cumsum()\n",
    "        cut = (cumsum > cutoff).idxmax()\n",
    "        return u[:cut]\n",
    "\n",
    "    def of(self, university):\n",
    "        tmp = self.table.loc[university].sort_values(ascending=False)\n",
    "        tmp.name = 'relevance'\n",
    "        return tmp\n",
    "    \n",
    "    def similarities_to(self, university):\n",
    "        mirror = self.table.swapaxes('columns', 'rows', copy=False)\n",
    "        uni = mirror[university]\n",
    "        tmp = pd.DataFrame(data=uni.values).reindex_like(mirror)\n",
    "        tmp.loc[:, :] = uni[:, None]\n",
    "        return mirror.combine(tmp, np.minimum)\n",
    "        \n",
    "    def most_similar_to(self, university):\n",
    "        m = self.similarities_to(university)\n",
    "        result = m.sum(axis='rows')\n",
    "        result = result.sort_values(ascending=False)[1:]\n",
    "        result.name = 'similarity'\n",
    "        return result\n",
    "        \n",
    "        \n",
    "def highlight_places(column, series):\n",
    "    if series[column] == 1:\n",
    "        return ['background-color: lightgreen']*5\n",
    "    elif series[column] == 2:\n",
    "        return ['background-color: yellow']*5\n",
    "    else:\n",
    "        return ['background-color: white']*5\n",
    "            \n",
    "class University:\n",
    "    def __init__(self, name):\n",
    "        self.__name = name\n",
    "        self.__analyses = list()\n",
    "        \n",
    "    @property\n",
    "    def name(self):\n",
    "        return self.__name\n",
    "    \n",
    "    def add_analysis(self, analysis):\n",
    "        self.__analyses.append(analysis)\n",
    "        \n",
    "    def describe(self):\n",
    "        display(HTML(\"<h3>\" + self.name + \"</h3>\"))\n",
    "        for a in self.__analyses:\n",
    "            display(HTML(\"<h4>\" + a.description + \"-Struktur</h4>\"))\n",
    "            cutoff = 2/3\n",
    "            df = a.structure.most_important_to(self.name, cutoff)\n",
    "            identity = df\n",
    "            \n",
    "            display(HTML(\"Angezeigt werden die gr&ouml;&szlig;ten WZW, die insgesamt mehr als \" \n",
    "                         + '{:.1%}'.format(cutoff) + ' der Erl&ouml;se an der ' + self.name + ' ausmachen ('\n",
    "                         + 'exakt: '\n",
    "                         + '{:.1%}'.format(identity.sum()) + '). Jeder andere WZW tr&auml;gt weniger als '\n",
    "                         + '{:.1%}'.format(identity.min()) + ' bei. Die Spalte \\\"Ranking\\\" bezieht sich '\n",
    "                         + ' auf den &ouml;sterreichweiten Vergleich der absoluten Werte im jeweiligen WZW.'))\n",
    "            \n",
    "            df = df[df > 0] \\\n",
    "                .dropna()   \\\n",
    "                .to_frame()\n",
    "\n",
    "            df = df.join(a.ranking.of(self.name, 'all')) \\\n",
    "                   .join(a.values(self.name))\n",
    "            \n",
    "            best = pd.Series()\n",
    "            better = pd.Series()\n",
    "            best.name = 'best'\n",
    "            better.name = 'better'\n",
    "            for cat in df.index.get_level_values(level=a.about.name):\n",
    "                best_uni = a.ranking.best(cat).index.values[0]\n",
    "                if best_uni == self.name:\n",
    "                    best_uni = '(diese)'\n",
    "                else: \n",
    "                    best_uni += ' (' + '{0:,.1f} Mio. €'.format(a.values(best_uni)[a.sheet.value_column, cat]/1000000) + ')'\n",
    "                    \n",
    "                better_unis = ', '.join(a.ranking.better_than(self.name, cat).index.values)\n",
    "                if better_unis == '':\n",
    "                    better_unis = '(keine)'\n",
    "                    \n",
    "                best.at[cat] = best_uni\n",
    "                better.at[cat] = better_unis\n",
    "                \n",
    "            df = df.join(best, on=a.about.name).join(better, on=a.about.name)\n",
    "            df = df.droplevel(0)\n",
    "            \n",
    "            df.index.name = 'WZW'\n",
    "            df.columns = ['Intern', 'Ranking', 'Erlöse', 'Beste Universität', 'Bessere Universitäten']\n",
    "            df = df.sort_values('Intern', ascending=False)\n",
    "            \n",
    "            style = df.style.format({'Intern': '{:.2%}', 'Ranking': '{:}. Platz',\n",
    "                                     'Erlöse': '{:,} €'})\n",
    "                        \n",
    "            style = style.apply(lambda s: highlight_places('Ranking', s), axis=1)\n",
    "            display(style)\n",
    "            \n",
    "            display(HTML('<h4>Ähnliche Universitäten aufgrund der ' + a.description + '-Struktur</h3>'))\n",
    "            similars = a.structure.most_similar_to(self.name)\n",
    "            sim_strs = list()\n",
    "            sm = a.structure.similarities_to(self.name)\n",
    "            for i in range(4):\n",
    "                other = similars.index.values[i]\n",
    "                sim_str = '<strong>' + other +  '</strong> (' + '{:.1%}'.format(similars[i]) + ', wegen &auml;hnlicher Relevanz von '\n",
    "                similarities = sm[other].sort_values(ascending=False)\n",
    "                sim_str += ', '.join(similarities.head(3).index.values)\n",
    "                sim_str += ')'\n",
    "                sim_strs.append(sim_str)\n",
    "                \n",
    "            display(HTML('<p>' + ', '.join(sim_strs) + '</p>'))\n",
    "            \n",
    "                \n",
    "\n",
    "ds = Datasheet('1.C.1.csv', ['funder', 'fos'], 'year', 'university', 'funding')\n",
    "analysis = ds.analyze(\"Drittmittel\", \"fos\", {'year': ds.most_recent})\n",
    "\n",
    "universities = list()\n",
    "\n",
    "for uni_name in ds.universities:\n",
    "    u = University(uni_name)\n",
    "    u.add_analysis(analysis)\n",
    "    universities.append(u)\n",
    "    \n",
    "for u in universities:\n",
    "    u.describe()\n",
    "    "
   ]
  },
  {
   "cell_type": "code",
   "execution_count": null,
   "metadata": {},
   "outputs": [],
   "source": [
    "\n",
    "\n",
    "\n",
    "\n",
    "\n",
    "\n",
    "\n",
    "\n",
    "\n",
    "\n",
    "\n",
    "\n",
    "\n"
   ]
  }
 ],
 "metadata": {
  "kernelspec": {
   "display_name": "Python 3",
   "language": "python",
   "name": "python3"
  },
  "language_info": {
   "codemirror_mode": {
    "name": "ipython",
    "version": 3
   },
   "file_extension": ".py",
   "mimetype": "text/x-python",
   "name": "python",
   "nbconvert_exporter": "python",
   "pygments_lexer": "ipython3",
   "version": "3.7.3"
  }
 },
 "nbformat": 4,
 "nbformat_minor": 2
}
