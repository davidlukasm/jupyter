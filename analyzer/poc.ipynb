{
 "cells": [
  {
   "cell_type": "code",
   "execution_count": 1,
   "metadata": {},
   "outputs": [
    {
     "data": {
      "text/html": [
       "<h3>Universität für Bodenkultur Wien</h3><p style=\"font-family:verdana\">"
      ],
      "text/plain": [
       "<IPython.core.display.HTML object>"
      ]
     },
     "metadata": {},
     "output_type": "display_data"
    },
    {
     "data": {
      "text/html": [
       "<br/><strong>EU</strong> ist ein wichtiger Fördergeber, sowohl intern als auch im relativen Vergleich mit anderen Universitäten. Und auch für <strong>EU</strong> ist die Universität für Bodenkultur Wien eine wichtige Partnerin. Dies lässt sich ebenso über <strong>Private (Stiftungen, Vereine, etc.)</strong> sagen. Dies lässt sich ebenso über <strong>Unternehmen</strong> sagen. <br/>Die Universität ist erfolgreich bei <strong>Bund (Ministerien)</strong> und auch für <strong>Bund (Ministerien)</strong> ist die Universität für Bodenkultur Wien relevant. Nur uniintern hat <strong>Bund (Ministerien)</strong> keine große Bedeutung. Dies lässt sich ebenso über <strong>Gemeinden und Gemeindeverbände (ohne Wien)</strong> sagen. Dies lässt sich ebenso über <strong>Länder (inkl. deren Stiftungen und Einrichtungen)</strong> sagen. Dies lässt sich ebenso über <strong>nicht zuordenbare Fördergeber</strong> sagen. Dies lässt sich ebenso über <strong>ÖAW</strong> sagen. <br/>Obwohl die Universität bei <strong>FWF</strong> eine erfolgreiche Fördernehmerin ist, konzentrieren andere Universitäten stärker auf <strong>FWF</strong>. Dennoch ist <strong>FWF</strong> einer der großen Förderer . <br/>Für <strong>andere internationale Organisationen</strong> ist die Universität bedeutsam, aber innerhalb und im relativen Vergleich mit anderen Universitäten ist <strong>andere internationale Organisationen</strong> nicht relevant. Dies lässt sich ebenso über <strong>sonstige öffentlich-rechtliche Einrichtungen (Körperschaften, Stiftungen, Fonds etc.)</strong> sagen. </p>"
      ],
      "text/plain": [
       "<IPython.core.display.HTML object>"
      ]
     },
     "metadata": {},
     "output_type": "display_data"
    },
    {
     "data": {
      "text/html": [
       "<h3>Universität Wien</h3><p style=\"font-family:verdana\">"
      ],
      "text/plain": [
       "<IPython.core.display.HTML object>"
      ]
     },
     "metadata": {},
     "output_type": "display_data"
    },
    {
     "data": {
      "text/html": [
       "<br/><strong>EU</strong> ist ein wichtiger Fördergeber, sowohl intern als auch im relativen Vergleich mit anderen Universitäten. Und auch für <strong>EU</strong> ist die Universität Wien eine wichtige Partnerin. Dies lässt sich ebenso über <strong>FWF</strong> sagen. <br/>Die Universität ist erfolgreich bei <strong>Bund (Ministerien)</strong> und auch für <strong>Bund (Ministerien)</strong> ist die Universität Wien relevant. Nur uniintern hat <strong>Bund (Ministerien)</strong> keine große Bedeutung. Dies lässt sich ebenso über <strong>Jubiläumsfonds der ÖNB</strong> sagen. Dies lässt sich ebenso über <strong>Länder (inkl. deren Stiftungen und Einrichtungen)</strong> sagen. Dies lässt sich ebenso über <strong>Private (Stiftungen, Vereine, etc.)</strong> sagen. Dies lässt sich ebenso über <strong>andere internationale Organisationen</strong> sagen. Dies lässt sich ebenso über <strong>ÖAW</strong> sagen. <br/>Für <strong>sonstige Fördergeber</strong> ist die Universität bedeutsam, aber innerhalb und im relativen Vergleich mit anderen Universitäten ist <strong>sonstige Fördergeber</strong> nicht relevant. </p>"
      ],
      "text/plain": [
       "<IPython.core.display.HTML object>"
      ]
     },
     "metadata": {},
     "output_type": "display_data"
    },
    {
     "data": {
      "text/html": [
       "<h3>Technische Universität Graz</h3><p style=\"font-family:verdana\">"
      ],
      "text/plain": [
       "<IPython.core.display.HTML object>"
      ]
     },
     "metadata": {},
     "output_type": "display_data"
    },
    {
     "data": {
      "text/html": [
       "<br/><strong>EU</strong> ist ein wichtiger Fördergeber, sowohl intern als auch im relativen Vergleich mit anderen Universitäten. Und auch für <strong>EU</strong> ist die Technische Universität Graz eine wichtige Partnerin. Dies lässt sich ebenso über <strong>FFG</strong> sagen. Dies lässt sich ebenso über <strong>Unternehmen</strong> sagen. Dies lässt sich ebenso über <strong>sonstige öffentlich-rechtliche Einrichtungen (Körperschaften, Stiftungen, Fonds etc.)</strong> sagen. <br/>Für <strong>Bund (Ministerien)</strong> ist die Universität bedeutsam, aber innerhalb und im relativen Vergleich mit anderen Universitäten ist <strong>Bund (Ministerien)</strong> nicht relevant. Dies lässt sich ebenso über <strong>Gemeinden und Gemeindeverbände (ohne Wien)</strong> sagen. <br/><strong>FWF</strong> ist zwar uniintern wichtig, aber andere Universitäten setzen stärker auf <strong>FWF</strong>. Für <strong>FWF</strong> ist die Universität nicht relevant. </p>"
      ],
      "text/plain": [
       "<IPython.core.display.HTML object>"
      ]
     },
     "metadata": {},
     "output_type": "display_data"
    },
    {
     "data": {
      "text/html": [
       "<h3>Veterinärmedizinische Universität Wien</h3><p style=\"font-family:verdana\">"
      ],
      "text/plain": [
       "<IPython.core.display.HTML object>"
      ]
     },
     "metadata": {},
     "output_type": "display_data"
    },
    {
     "data": {
      "text/html": [
       "<br/><strong>Private (Stiftungen, Vereine, etc.)</strong> ist ein wichtiger Fördergeber, sowohl intern als auch im relativen Vergleich mit anderen Universitäten. Und auch für <strong>Private (Stiftungen, Vereine, etc.)</strong> ist die Veterinärmedizinische Universität Wien eine wichtige Partnerin. <br/><strong>FWF</strong> ist sowohl innerhalb der Universität als auch im relativen Vergleich mit anderen eine wichtige Geldquelle. Für <strong>FWF</strong> allerdings ist die Veterinärmedizinische Universität Wien nicht relevant. Dies lässt sich ebenso über <strong>sonstige öffentlich-rechtliche Einrichtungen (Körperschaften, Stiftungen, Fonds etc.)</strong> sagen. <br/><strong>Unternehmen</strong> ist zwar uniintern wichtig, aber andere Universitäten setzen stärker auf <strong>Unternehmen</strong>. Für <strong>Unternehmen</strong> ist die Universität nicht relevant. </p>"
      ],
      "text/plain": [
       "<IPython.core.display.HTML object>"
      ]
     },
     "metadata": {},
     "output_type": "display_data"
    },
    {
     "data": {
      "text/html": [
       "<h3>Universität Klagenfurt</h3><p style=\"font-family:verdana\">"
      ],
      "text/plain": [
       "<IPython.core.display.HTML object>"
      ]
     },
     "metadata": {},
     "output_type": "display_data"
    },
    {
     "data": {
      "text/html": [
       "<br/>Die Universität ist erfolgreich bei <strong>Jubiläumsfonds der ÖNB</strong> und auch für <strong>Jubiläumsfonds der ÖNB</strong> ist die Universität Klagenfurt relevant. Nur uniintern hat <strong>Jubiläumsfonds der ÖNB</strong> keine große Bedeutung. <br/><strong>Bund (Ministerien)</strong> ist sowohl innerhalb der Universität als auch im relativen Vergleich mit anderen eine wichtige Geldquelle. Für <strong>Bund (Ministerien)</strong> allerdings ist die Universität Klagenfurt nicht relevant. Dies lässt sich ebenso über <strong>EU</strong> sagen. Dies lässt sich ebenso über <strong>Länder (inkl. deren Stiftungen und Einrichtungen)</strong> sagen. <br/><strong>FFG</strong> ist zwar uniintern wichtig, aber andere Universitäten setzen stärker auf <strong>FFG</strong>. Für <strong>FFG</strong> ist die Universität nicht relevant. Dies lässt sich ebenso über <strong>FWF</strong> sagen. Dies lässt sich ebenso über <strong>Unternehmen</strong> sagen. </p>"
      ],
      "text/plain": [
       "<IPython.core.display.HTML object>"
      ]
     },
     "metadata": {},
     "output_type": "display_data"
    },
    {
     "data": {
      "text/html": [
       "<h3>Universität für angewandte Kunst Wien</h3><p style=\"font-family:verdana\">"
      ],
      "text/plain": [
       "<IPython.core.display.HTML object>"
      ]
     },
     "metadata": {},
     "output_type": "display_data"
    },
    {
     "data": {
      "text/html": [
       "<br/><strong>FWF</strong> ist sowohl innerhalb der Universität als auch im relativen Vergleich mit anderen eine wichtige Geldquelle. Für <strong>FWF</strong> allerdings ist die Universität für angewandte Kunst Wien nicht relevant. <br/>Die Universität für angewandte Kunst Wien ist von <strong>Bund (Ministerien)</strong> stärker abhängig als andere Universitäten, auch wenn <strong>Bund (Ministerien)</strong> uniintern keine hohe Bedeutung hat. Auch für <strong>Bund (Ministerien)</strong> ist die Universität nicht relevant. Dies lässt sich ebenso über <strong>Private (Stiftungen, Vereine, etc.)</strong> sagen. Dies lässt sich ebenso über <strong>ÖAW</strong> sagen. <br/><strong>EU</strong> ist zwar uniintern wichtig, aber andere Universitäten setzen stärker auf <strong>EU</strong>. Für <strong>EU</strong> ist die Universität nicht relevant. Dies lässt sich ebenso über <strong>Unternehmen</strong> sagen. </p>"
      ],
      "text/plain": [
       "<IPython.core.display.HTML object>"
      ]
     },
     "metadata": {},
     "output_type": "display_data"
    },
    {
     "data": {
      "text/html": [
       "<h3>Akademie der bildenden Künste Wien</h3><p style=\"font-family:verdana\">"
      ],
      "text/plain": [
       "<IPython.core.display.HTML object>"
      ]
     },
     "metadata": {},
     "output_type": "display_data"
    },
    {
     "data": {
      "text/html": [
       "<br/><strong>FWF</strong> ist sowohl innerhalb der Universität als auch im relativen Vergleich mit anderen eine wichtige Geldquelle. Für <strong>FWF</strong> allerdings ist die Akademie der bildenden Künste Wien nicht relevant. Dies lässt sich ebenso über <strong>Private (Stiftungen, Vereine, etc.)</strong> sagen. Dies lässt sich ebenso über <strong>sonstige Fördergeber</strong> sagen. Dies lässt sich ebenso über <strong>sonstige öffentlich-rechtliche Einrichtungen (Körperschaften, Stiftungen, Fonds etc.)</strong> sagen. Dies lässt sich ebenso über <strong>ÖAW</strong> sagen. <br/>Die Akademie der bildenden Künste Wien ist von <strong>Bund (Ministerien)</strong> stärker abhängig als andere Universitäten, auch wenn <strong>Bund (Ministerien)</strong> uniintern keine hohe Bedeutung hat. Auch für <strong>Bund (Ministerien)</strong> ist die Universität nicht relevant. </p>"
      ],
      "text/plain": [
       "<IPython.core.display.HTML object>"
      ]
     },
     "metadata": {},
     "output_type": "display_data"
    },
    {
     "data": {
      "text/html": [
       "<h3>Universität für Weiterbildung Krems</h3><p style=\"font-family:verdana\">"
      ],
      "text/plain": [
       "<IPython.core.display.HTML object>"
      ]
     },
     "metadata": {},
     "output_type": "display_data"
    },
    {
     "data": {
      "text/html": [
       "<br/><strong>Länder (inkl. deren Stiftungen und Einrichtungen)</strong> ist ein wichtiger Fördergeber, sowohl intern als auch im relativen Vergleich mit anderen Universitäten. Und auch für <strong>Länder (inkl. deren Stiftungen und Einrichtungen)</strong> ist die Universität für Weiterbildung Krems eine wichtige Partnerin. <br/><strong>Bund (Ministerien)</strong> ist sowohl innerhalb der Universität als auch im relativen Vergleich mit anderen eine wichtige Geldquelle. Für <strong>Bund (Ministerien)</strong> allerdings ist die Universität für Weiterbildung Krems nicht relevant. Dies lässt sich ebenso über <strong>EU</strong> sagen. Dies lässt sich ebenso über <strong>FFG</strong> sagen. <br/>Die Universität für Weiterbildung Krems ist von <strong>Gemeinden und Gemeindeverbände (ohne Wien)</strong> stärker abhängig als andere Universitäten, auch wenn <strong>Gemeinden und Gemeindeverbände (ohne Wien)</strong> uniintern keine hohe Bedeutung hat. Auch für <strong>Gemeinden und Gemeindeverbände (ohne Wien)</strong> ist die Universität nicht relevant. Dies lässt sich ebenso über <strong>Jubiläumsfonds der ÖNB</strong> sagen. </p>"
      ],
      "text/plain": [
       "<IPython.core.display.HTML object>"
      ]
     },
     "metadata": {},
     "output_type": "display_data"
    },
    {
     "data": {
      "text/html": [
       "<h3>Universität für Musik und darstellende Kunst Wien</h3><p style=\"font-family:verdana\">"
      ],
      "text/plain": [
       "<IPython.core.display.HTML object>"
      ]
     },
     "metadata": {},
     "output_type": "display_data"
    },
    {
     "data": {
      "text/html": [
       "<br/><strong>Bund (Ministerien)</strong> ist sowohl innerhalb der Universität als auch im relativen Vergleich mit anderen eine wichtige Geldquelle. Für <strong>Bund (Ministerien)</strong> allerdings ist die Universität für Musik und darstellende Kunst Wien nicht relevant. Dies lässt sich ebenso über <strong>EU</strong> sagen. Dies lässt sich ebenso über <strong>FWF</strong> sagen. Dies lässt sich ebenso über <strong>Länder (inkl. deren Stiftungen und Einrichtungen)</strong> sagen. <br/>Die Universität für Musik und darstellende Kunst Wien ist von <strong>Gemeinden und Gemeindeverbände (ohne Wien)</strong> stärker abhängig als andere Universitäten, auch wenn <strong>Gemeinden und Gemeindeverbände (ohne Wien)</strong> uniintern keine hohe Bedeutung hat. Auch für <strong>Gemeinden und Gemeindeverbände (ohne Wien)</strong> ist die Universität nicht relevant. Dies lässt sich ebenso über <strong>Private (Stiftungen, Vereine, etc.)</strong> sagen. </p>"
      ],
      "text/plain": [
       "<IPython.core.display.HTML object>"
      ]
     },
     "metadata": {},
     "output_type": "display_data"
    },
    {
     "data": {
      "text/html": [
       "<h3>Universität Graz</h3><p style=\"font-family:verdana\">"
      ],
      "text/plain": [
       "<IPython.core.display.HTML object>"
      ]
     },
     "metadata": {},
     "output_type": "display_data"
    },
    {
     "data": {
      "text/html": [
       "<br/><strong>FWF</strong> ist ein wichtiger Fördergeber, sowohl intern als auch im relativen Vergleich mit anderen Universitäten. Und auch für <strong>FWF</strong> ist die Universität Graz eine wichtige Partnerin. Dies lässt sich ebenso über <strong>Länder (inkl. deren Stiftungen und Einrichtungen)</strong> sagen. <br/>Die Universität ist erfolgreich bei <strong>Gemeinden und Gemeindeverbände (ohne Wien)</strong> und auch für <strong>Gemeinden und Gemeindeverbände (ohne Wien)</strong> ist die Universität Graz relevant. Nur uniintern hat <strong>Gemeinden und Gemeindeverbände (ohne Wien)</strong> keine große Bedeutung. Dies lässt sich ebenso über <strong>Jubiläumsfonds der ÖNB</strong> sagen. Dies lässt sich ebenso über <strong>andere internationale Organisationen</strong> sagen. Dies lässt sich ebenso über <strong>ÖAW</strong> sagen. <br/>Die Universität Graz ist von <strong>sonstige öffentlich-rechtliche Einrichtungen (Körperschaften, Stiftungen, Fonds etc.)</strong> stärker abhängig als andere Universitäten, auch wenn <strong>sonstige öffentlich-rechtliche Einrichtungen (Körperschaften, Stiftungen, Fonds etc.)</strong> uniintern keine hohe Bedeutung hat. Auch für <strong>sonstige öffentlich-rechtliche Einrichtungen (Körperschaften, Stiftungen, Fonds etc.)</strong> ist die Universität nicht relevant. <br/><strong>EU</strong> ist zwar uniintern wichtig, aber andere Universitäten setzen stärker auf <strong>EU</strong>. Für <strong>EU</strong> ist die Universität nicht relevant. </p>"
      ],
      "text/plain": [
       "<IPython.core.display.HTML object>"
      ]
     },
     "metadata": {},
     "output_type": "display_data"
    },
    {
     "data": {
      "text/html": [
       "<h3>Universität Innsbruck</h3><p style=\"font-family:verdana\">"
      ],
      "text/plain": [
       "<IPython.core.display.HTML object>"
      ]
     },
     "metadata": {},
     "output_type": "display_data"
    },
    {
     "data": {
      "text/html": [
       "<br/><strong>EU</strong> ist ein wichtiger Fördergeber, sowohl intern als auch im relativen Vergleich mit anderen Universitäten. Und auch für <strong>EU</strong> ist die Universität Innsbruck eine wichtige Partnerin. Dies lässt sich ebenso über <strong>FWF</strong> sagen. Dies lässt sich ebenso über <strong>Länder (inkl. deren Stiftungen und Einrichtungen)</strong> sagen. Dies lässt sich ebenso über <strong>sonstige öffentlich-rechtliche Einrichtungen (Körperschaften, Stiftungen, Fonds etc.)</strong> sagen. <br/>Die Universität ist erfolgreich bei <strong>Private (Stiftungen, Vereine, etc.)</strong> und auch für <strong>Private (Stiftungen, Vereine, etc.)</strong> ist die Universität Innsbruck relevant. Nur uniintern hat <strong>Private (Stiftungen, Vereine, etc.)</strong> keine große Bedeutung. Dies lässt sich ebenso über <strong>ÖAW</strong> sagen. <br/>Obwohl die Universität bei <strong>FFG</strong> eine erfolgreiche Fördernehmerin ist, konzentrieren andere Universitäten stärker auf <strong>FFG</strong>. Dennoch ist <strong>FFG</strong> einer der großen Förderer . <br/>Für <strong>Gemeinden und Gemeindeverbände (ohne Wien)</strong> ist die Universität bedeutsam, aber innerhalb und im relativen Vergleich mit anderen Universitäten ist <strong>Gemeinden und Gemeindeverbände (ohne Wien)</strong> nicht relevant. Dies lässt sich ebenso über <strong>andere internationale Organisationen</strong> sagen. <br/><strong>Unternehmen</strong> ist zwar uniintern wichtig, aber andere Universitäten setzen stärker auf <strong>Unternehmen</strong>. Für <strong>Unternehmen</strong> ist die Universität nicht relevant. </p>"
      ],
      "text/plain": [
       "<IPython.core.display.HTML object>"
      ]
     },
     "metadata": {},
     "output_type": "display_data"
    },
    {
     "data": {
      "text/html": [
       "<h3>Medizinische Universität Graz</h3><p style=\"font-family:verdana\">"
      ],
      "text/plain": [
       "<IPython.core.display.HTML object>"
      ]
     },
     "metadata": {},
     "output_type": "display_data"
    },
    {
     "data": {
      "text/html": [
       "<br/><strong>Länder (inkl. deren Stiftungen und Einrichtungen)</strong> ist ein wichtiger Fördergeber, sowohl intern als auch im relativen Vergleich mit anderen Universitäten. Und auch für <strong>Länder (inkl. deren Stiftungen und Einrichtungen)</strong> ist die Medizinische Universität Graz eine wichtige Partnerin. Dies lässt sich ebenso über <strong>Unternehmen</strong> sagen. <br/>Die Universität ist erfolgreich bei <strong>Jubiläumsfonds der ÖNB</strong> und auch für <strong>Jubiläumsfonds der ÖNB</strong> ist die Medizinische Universität Graz relevant. Nur uniintern hat <strong>Jubiläumsfonds der ÖNB</strong> keine große Bedeutung. <br/>Für <strong>andere internationale Organisationen</strong> ist die Universität bedeutsam, aber innerhalb und im relativen Vergleich mit anderen Universitäten ist <strong>andere internationale Organisationen</strong> nicht relevant. <br/><strong>FWF</strong> ist zwar uniintern wichtig, aber andere Universitäten setzen stärker auf <strong>FWF</strong>. Für <strong>FWF</strong> ist die Universität nicht relevant. </p>"
      ],
      "text/plain": [
       "<IPython.core.display.HTML object>"
      ]
     },
     "metadata": {},
     "output_type": "display_data"
    },
    {
     "data": {
      "text/html": [
       "<h3>Universität Salzburg</h3><p style=\"font-family:verdana\">"
      ],
      "text/plain": [
       "<IPython.core.display.HTML object>"
      ]
     },
     "metadata": {},
     "output_type": "display_data"
    },
    {
     "data": {
      "text/html": [
       "<br/><strong>FWF</strong> ist ein wichtiger Fördergeber, sowohl intern als auch im relativen Vergleich mit anderen Universitäten. Und auch für <strong>FWF</strong> ist die Universität Salzburg eine wichtige Partnerin. <br/>Die Universität ist erfolgreich bei <strong>Bund (Ministerien)</strong> und auch für <strong>Bund (Ministerien)</strong> ist die Universität Salzburg relevant. Nur uniintern hat <strong>Bund (Ministerien)</strong> keine große Bedeutung. Dies lässt sich ebenso über <strong>Gemeinden und Gemeindeverbände (ohne Wien)</strong> sagen. <br/><strong>EU</strong> ist sowohl innerhalb der Universität als auch im relativen Vergleich mit anderen eine wichtige Geldquelle. Für <strong>EU</strong> allerdings ist die Universität Salzburg nicht relevant. Dies lässt sich ebenso über <strong>Länder (inkl. deren Stiftungen und Einrichtungen)</strong> sagen. Dies lässt sich ebenso über <strong>sonstige öffentlich-rechtliche Einrichtungen (Körperschaften, Stiftungen, Fonds etc.)</strong> sagen. </p>"
      ],
      "text/plain": [
       "<IPython.core.display.HTML object>"
      ]
     },
     "metadata": {},
     "output_type": "display_data"
    },
    {
     "data": {
      "text/html": [
       "<h3>Technische Universität Wien</h3><p style=\"font-family:verdana\">"
      ],
      "text/plain": [
       "<IPython.core.display.HTML object>"
      ]
     },
     "metadata": {},
     "output_type": "display_data"
    },
    {
     "data": {
      "text/html": [
       "<br/><strong>EU</strong> ist ein wichtiger Fördergeber, sowohl intern als auch im relativen Vergleich mit anderen Universitäten. Und auch für <strong>EU</strong> ist die Technische Universität Wien eine wichtige Partnerin. Dies lässt sich ebenso über <strong>FFG</strong> sagen. Dies lässt sich ebenso über <strong>Unternehmen</strong> sagen. <br/>Die Universität ist erfolgreich bei <strong>Gemeinden und Gemeindeverbände (ohne Wien)</strong> und auch für <strong>Gemeinden und Gemeindeverbände (ohne Wien)</strong> ist die Technische Universität Wien relevant. Nur uniintern hat <strong>Gemeinden und Gemeindeverbände (ohne Wien)</strong> keine große Bedeutung. Dies lässt sich ebenso über <strong>andere internationale Organisationen</strong> sagen. Dies lässt sich ebenso über <strong>sonstige öffentlich-rechtliche Einrichtungen (Körperschaften, Stiftungen, Fonds etc.)</strong> sagen. <br/>Obwohl die Universität bei <strong>FWF</strong> eine erfolgreiche Fördernehmerin ist, konzentrieren andere Universitäten stärker auf <strong>FWF</strong>. Dennoch ist <strong>FWF</strong> einer der großen Förderer . <br/>Für <strong>Bund (Ministerien)</strong> ist die Universität bedeutsam, aber innerhalb und im relativen Vergleich mit anderen Universitäten ist <strong>Bund (Ministerien)</strong> nicht relevant. Dies lässt sich ebenso über <strong>Länder (inkl. deren Stiftungen und Einrichtungen)</strong> sagen. Dies lässt sich ebenso über <strong>ÖAW</strong> sagen. </p>"
      ],
      "text/plain": [
       "<IPython.core.display.HTML object>"
      ]
     },
     "metadata": {},
     "output_type": "display_data"
    },
    {
     "data": {
      "text/html": [
       "<h3>Wirtschaftsuniversität Wien</h3><p style=\"font-family:verdana\">"
      ],
      "text/plain": [
       "<IPython.core.display.HTML object>"
      ]
     },
     "metadata": {},
     "output_type": "display_data"
    },
    {
     "data": {
      "text/html": [
       "<br/><strong>Jubiläumsfonds der ÖNB</strong> ist ein wichtiger Fördergeber, sowohl intern als auch im relativen Vergleich mit anderen Universitäten. Und auch für <strong>Jubiläumsfonds der ÖNB</strong> ist die Wirtschaftsuniversität Wien eine wichtige Partnerin. Dies lässt sich ebenso über <strong>Private (Stiftungen, Vereine, etc.)</strong> sagen. Dies lässt sich ebenso über <strong>sonstige Fördergeber</strong> sagen. <br/>Die Universität ist erfolgreich bei <strong>andere internationale Organisationen</strong> und auch für <strong>andere internationale Organisationen</strong> ist die Wirtschaftsuniversität Wien relevant. Nur uniintern hat <strong>andere internationale Organisationen</strong> keine große Bedeutung. <br/><strong>EU</strong> ist sowohl innerhalb der Universität als auch im relativen Vergleich mit anderen eine wichtige Geldquelle. Für <strong>EU</strong> allerdings ist die Wirtschaftsuniversität Wien nicht relevant. Dies lässt sich ebenso über <strong>sonstige öffentlich-rechtliche Einrichtungen (Körperschaften, Stiftungen, Fonds etc.)</strong> sagen. <br/><strong>FWF</strong> ist zwar uniintern wichtig, aber andere Universitäten setzen stärker auf <strong>FWF</strong>. Für <strong>FWF</strong> ist die Universität nicht relevant. Dies lässt sich ebenso über <strong>Unternehmen</strong> sagen. </p>"
      ],
      "text/plain": [
       "<IPython.core.display.HTML object>"
      ]
     },
     "metadata": {},
     "output_type": "display_data"
    },
    {
     "data": {
      "text/html": [
       "<h3>Medizinische Universität Wien</h3><p style=\"font-family:verdana\">"
      ],
      "text/plain": [
       "<IPython.core.display.HTML object>"
      ]
     },
     "metadata": {},
     "output_type": "display_data"
    },
    {
     "data": {
      "text/html": [
       "<br/><strong>Private (Stiftungen, Vereine, etc.)</strong> ist ein wichtiger Fördergeber, sowohl intern als auch im relativen Vergleich mit anderen Universitäten. Und auch für <strong>Private (Stiftungen, Vereine, etc.)</strong> ist die Medizinische Universität Wien eine wichtige Partnerin. Dies lässt sich ebenso über <strong>sonstige Fördergeber</strong> sagen. <br/>Die Universität ist erfolgreich bei <strong>Jubiläumsfonds der ÖNB</strong> und auch für <strong>Jubiläumsfonds der ÖNB</strong> ist die Medizinische Universität Wien relevant. Nur uniintern hat <strong>Jubiläumsfonds der ÖNB</strong> keine große Bedeutung. <br/>Obwohl die Universität bei <strong>EU</strong> eine erfolgreiche Fördernehmerin ist, konzentrieren andere Universitäten stärker auf <strong>EU</strong>. Dennoch ist <strong>EU</strong> einer der großen Förderer . Dies lässt sich ebenso über <strong>FWF</strong> sagen. Dies lässt sich ebenso über <strong>Unternehmen</strong> sagen. <br/>Für <strong>Bund (Ministerien)</strong> ist die Universität bedeutsam, aber innerhalb und im relativen Vergleich mit anderen Universitäten ist <strong>Bund (Ministerien)</strong> nicht relevant. Dies lässt sich ebenso über <strong>Länder (inkl. deren Stiftungen und Einrichtungen)</strong> sagen. Dies lässt sich ebenso über <strong>andere internationale Organisationen</strong> sagen. Dies lässt sich ebenso über <strong>ÖAW</strong> sagen. </p>"
      ],
      "text/plain": [
       "<IPython.core.display.HTML object>"
      ]
     },
     "metadata": {},
     "output_type": "display_data"
    },
    {
     "data": {
      "text/html": [
       "<h3>Medizinische Universität Innsbruck</h3><p style=\"font-family:verdana\">"
      ],
      "text/plain": [
       "<IPython.core.display.HTML object>"
      ]
     },
     "metadata": {},
     "output_type": "display_data"
    },
    {
     "data": {
      "text/html": [
       "<br/><strong>Bund (Ministerien)</strong> ist ein wichtiger Fördergeber, sowohl intern als auch im relativen Vergleich mit anderen Universitäten. Und auch für <strong>Bund (Ministerien)</strong> ist die Medizinische Universität Innsbruck eine wichtige Partnerin. Dies lässt sich ebenso über <strong>Unternehmen</strong> sagen. <br/>Die Universität ist erfolgreich bei <strong>Jubiläumsfonds der ÖNB</strong> und auch für <strong>Jubiläumsfonds der ÖNB</strong> ist die Medizinische Universität Innsbruck relevant. Nur uniintern hat <strong>Jubiläumsfonds der ÖNB</strong> keine große Bedeutung. <br/>Obwohl die Universität bei <strong>FWF</strong> eine erfolgreiche Fördernehmerin ist, konzentrieren andere Universitäten stärker auf <strong>FWF</strong>. Dennoch ist <strong>FWF</strong> einer der großen Förderer . <br/>Für <strong>sonstige öffentlich-rechtliche Einrichtungen (Körperschaften, Stiftungen, Fonds etc.)</strong> ist die Universität bedeutsam, aber innerhalb und im relativen Vergleich mit anderen Universitäten ist <strong>sonstige öffentlich-rechtliche Einrichtungen (Körperschaften, Stiftungen, Fonds etc.)</strong> nicht relevant. <br/><strong>EU</strong> ist zwar uniintern wichtig, aber andere Universitäten setzen stärker auf <strong>EU</strong>. Für <strong>EU</strong> ist die Universität nicht relevant. </p>"
      ],
      "text/plain": [
       "<IPython.core.display.HTML object>"
      ]
     },
     "metadata": {},
     "output_type": "display_data"
    },
    {
     "data": {
      "text/html": [
       "<h3>Universität Linz</h3><p style=\"font-family:verdana\">"
      ],
      "text/plain": [
       "<IPython.core.display.HTML object>"
      ]
     },
     "metadata": {},
     "output_type": "display_data"
    },
    {
     "data": {
      "text/html": [
       "<br/><strong>FFG</strong> ist ein wichtiger Fördergeber, sowohl intern als auch im relativen Vergleich mit anderen Universitäten. Und auch für <strong>FFG</strong> ist die Universität Linz eine wichtige Partnerin. Dies lässt sich ebenso über <strong>FWF</strong> sagen. Dies lässt sich ebenso über <strong>sonstige öffentlich-rechtliche Einrichtungen (Körperschaften, Stiftungen, Fonds etc.)</strong> sagen. <br/><strong>EU</strong> ist zwar uniintern wichtig, aber andere Universitäten setzen stärker auf <strong>EU</strong>. Für <strong>EU</strong> ist die Universität nicht relevant. Dies lässt sich ebenso über <strong>Unternehmen</strong> sagen. </p>"
      ],
      "text/plain": [
       "<IPython.core.display.HTML object>"
      ]
     },
     "metadata": {},
     "output_type": "display_data"
    },
    {
     "data": {
      "text/html": [
       "<h3>Montanuniversität Leoben</h3><p style=\"font-family:verdana\">"
      ],
      "text/plain": [
       "<IPython.core.display.HTML object>"
      ]
     },
     "metadata": {},
     "output_type": "display_data"
    },
    {
     "data": {
      "text/html": [
       "<br/><strong>Bund (Ministerien)</strong> ist ein wichtiger Fördergeber, sowohl intern als auch im relativen Vergleich mit anderen Universitäten. Und auch für <strong>Bund (Ministerien)</strong> ist die Montanuniversität Leoben eine wichtige Partnerin. Dies lässt sich ebenso über <strong>FFG</strong> sagen. Dies lässt sich ebenso über <strong>Länder (inkl. deren Stiftungen und Einrichtungen)</strong> sagen. Dies lässt sich ebenso über <strong>Unternehmen</strong> sagen. <br/>Die Universität ist erfolgreich bei <strong>sonstige öffentlich-rechtliche Einrichtungen (Körperschaften, Stiftungen, Fonds etc.)</strong> und auch für <strong>sonstige öffentlich-rechtliche Einrichtungen (Körperschaften, Stiftungen, Fonds etc.)</strong> ist die Montanuniversität Leoben relevant. Nur uniintern hat <strong>sonstige öffentlich-rechtliche Einrichtungen (Körperschaften, Stiftungen, Fonds etc.)</strong> keine große Bedeutung. <br/><strong>EU</strong> ist zwar uniintern wichtig, aber andere Universitäten setzen stärker auf <strong>EU</strong>. Für <strong>EU</strong> ist die Universität nicht relevant. </p>"
      ],
      "text/plain": [
       "<IPython.core.display.HTML object>"
      ]
     },
     "metadata": {},
     "output_type": "display_data"
    },
    {
     "data": {
      "text/html": [
       "<h3>Universität für Musik und darstellende Kunst Graz</h3><p style=\"font-family:verdana\">"
      ],
      "text/plain": [
       "<IPython.core.display.HTML object>"
      ]
     },
     "metadata": {},
     "output_type": "display_data"
    },
    {
     "data": {
      "text/html": [
       "<br/><strong>Gemeinden und Gemeindeverbände (ohne Wien)</strong> ist ein wichtiger Fördergeber, sowohl intern als auch im relativen Vergleich mit anderen Universitäten. Und auch für <strong>Gemeinden und Gemeindeverbände (ohne Wien)</strong> ist die Universität für Musik und darstellende Kunst Graz eine wichtige Partnerin. <br/><strong>Bund (Ministerien)</strong> ist sowohl innerhalb der Universität als auch im relativen Vergleich mit anderen eine wichtige Geldquelle. Für <strong>Bund (Ministerien)</strong> allerdings ist die Universität für Musik und darstellende Kunst Graz nicht relevant. Dies lässt sich ebenso über <strong>FWF</strong> sagen. Dies lässt sich ebenso über <strong>Länder (inkl. deren Stiftungen und Einrichtungen)</strong> sagen. <br/><strong>Unternehmen</strong> ist zwar uniintern wichtig, aber andere Universitäten setzen stärker auf <strong>Unternehmen</strong>. Für <strong>Unternehmen</strong> ist die Universität nicht relevant. </p>"
      ],
      "text/plain": [
       "<IPython.core.display.HTML object>"
      ]
     },
     "metadata": {},
     "output_type": "display_data"
    },
    {
     "data": {
      "text/html": [
       "<h3>Universität für künstlerische und industrielle Gestaltung Linz</h3><p style=\"font-family:verdana\">"
      ],
      "text/plain": [
       "<IPython.core.display.HTML object>"
      ]
     },
     "metadata": {},
     "output_type": "display_data"
    },
    {
     "data": {
      "text/html": [
       "<br/><strong>andere internationale Organisationen</strong> ist ein wichtiger Fördergeber, sowohl intern als auch im relativen Vergleich mit anderen Universitäten. Und auch für <strong>andere internationale Organisationen</strong> ist die Universität für künstlerische und industrielle Gestaltung Linz eine wichtige Partnerin. <br/><strong>Bund (Ministerien)</strong> ist sowohl innerhalb der Universität als auch im relativen Vergleich mit anderen eine wichtige Geldquelle. Für <strong>Bund (Ministerien)</strong> allerdings ist die Universität für künstlerische und industrielle Gestaltung Linz nicht relevant. Dies lässt sich ebenso über <strong>FWF</strong> sagen. Dies lässt sich ebenso über <strong>Länder (inkl. deren Stiftungen und Einrichtungen)</strong> sagen. Dies lässt sich ebenso über <strong>sonstige Fördergeber</strong> sagen. <br/><strong>Unternehmen</strong> ist zwar uniintern wichtig, aber andere Universitäten setzen stärker auf <strong>Unternehmen</strong>. Für <strong>Unternehmen</strong> ist die Universität nicht relevant. </p>"
      ],
      "text/plain": [
       "<IPython.core.display.HTML object>"
      ]
     },
     "metadata": {},
     "output_type": "display_data"
    },
    {
     "data": {
      "text/html": [
       "<h3>Universität Mozarteum Salzburg</h3><p style=\"font-family:verdana\">"
      ],
      "text/plain": [
       "<IPython.core.display.HTML object>"
      ]
     },
     "metadata": {},
     "output_type": "display_data"
    },
    {
     "data": {
      "text/html": [
       "<br/><strong>Bund (Ministerien)</strong> ist sowohl innerhalb der Universität als auch im relativen Vergleich mit anderen eine wichtige Geldquelle. Für <strong>Bund (Ministerien)</strong> allerdings ist die Universität Mozarteum Salzburg nicht relevant. Dies lässt sich ebenso über <strong>Länder (inkl. deren Stiftungen und Einrichtungen)</strong> sagen. Dies lässt sich ebenso über <strong>Private (Stiftungen, Vereine, etc.)</strong> sagen. Dies lässt sich ebenso über <strong>sonstige öffentlich-rechtliche Einrichtungen (Körperschaften, Stiftungen, Fonds etc.)</strong> sagen. <br/>Die Universität Mozarteum Salzburg ist von <strong>Gemeinden und Gemeindeverbände (ohne Wien)</strong> stärker abhängig als andere Universitäten, auch wenn <strong>Gemeinden und Gemeindeverbände (ohne Wien)</strong> uniintern keine hohe Bedeutung hat. Auch für <strong>Gemeinden und Gemeindeverbände (ohne Wien)</strong> ist die Universität nicht relevant. </p>"
      ],
      "text/plain": [
       "<IPython.core.display.HTML object>"
      ]
     },
     "metadata": {},
     "output_type": "display_data"
    },
    {
     "data": {
      "text/html": [
       "<style  type=\"text/css\" >\n",
       "</style><table id=\"T_43941342_a056_11e9_bfda_77a786913205\" ><thead>    <tr>        <th class=\"index_name level0\" >funder</th>        <th class=\"col_heading level0 col0\" >Bund (Ministerien)</th>        <th class=\"col_heading level0 col1\" >EU</th>        <th class=\"col_heading level0 col2\" >FFG</th>        <th class=\"col_heading level0 col3\" >FWF</th>        <th class=\"col_heading level0 col4\" >Gemeinden und Gemeindeverbände (ohne Wien)</th>        <th class=\"col_heading level0 col5\" >Jubiläumsfonds der ÖNB</th>        <th class=\"col_heading level0 col6\" >Länder (inkl. deren Stiftungen und Einrichtungen)</th>        <th class=\"col_heading level0 col7\" >Private (Stiftungen, Vereine, etc.)</th>        <th class=\"col_heading level0 col8\" >Unternehmen</th>        <th class=\"col_heading level0 col9\" >andere internationale Organisationen</th>        <th class=\"col_heading level0 col10\" >nicht bekannt / nicht zuordenbar</th>        <th class=\"col_heading level0 col11\" >sonstige</th>        <th class=\"col_heading level0 col12\" >sonstige öffentlich-rechtliche Einrichtungen (Körperschaften, Stiftungen, Fonds etc.)</th>        <th class=\"col_heading level0 col13\" >ÖAW</th>        <th class=\"col_heading level0 col14\" >Summe</th>    </tr>    <tr>        <th class=\"index_name level0\" >university</th>        <th class=\"blank\" ></th>        <th class=\"blank\" ></th>        <th class=\"blank\" ></th>        <th class=\"blank\" ></th>        <th class=\"blank\" ></th>        <th class=\"blank\" ></th>        <th class=\"blank\" ></th>        <th class=\"blank\" ></th>        <th class=\"blank\" ></th>        <th class=\"blank\" ></th>        <th class=\"blank\" ></th>        <th class=\"blank\" ></th>        <th class=\"blank\" ></th>        <th class=\"blank\" ></th>        <th class=\"blank\" ></th>    </tr></thead><tbody>\n",
       "                <tr>\n",
       "                        <th id=\"T_43941342_a056_11e9_bfda_77a786913205level0_row0\" class=\"row_heading level0 row0\" >Akademie der bildenden Künste Wien</th>\n",
       "                        <td id=\"T_43941342_a056_11e9_bfda_77a786913205row0_col0\" class=\"data row0 col0\" >64,032 €</td>\n",
       "                        <td id=\"T_43941342_a056_11e9_bfda_77a786913205row0_col1\" class=\"data row0 col1\" >0 €</td>\n",
       "                        <td id=\"T_43941342_a056_11e9_bfda_77a786913205row0_col2\" class=\"data row0 col2\" >0 €</td>\n",
       "                        <td id=\"T_43941342_a056_11e9_bfda_77a786913205row0_col3\" class=\"data row0 col3\" >724,207 €</td>\n",
       "                        <td id=\"T_43941342_a056_11e9_bfda_77a786913205row0_col4\" class=\"data row0 col4\" >898 €</td>\n",
       "                        <td id=\"T_43941342_a056_11e9_bfda_77a786913205row0_col5\" class=\"data row0 col5\" >0 €</td>\n",
       "                        <td id=\"T_43941342_a056_11e9_bfda_77a786913205row0_col6\" class=\"data row0 col6\" >9,384 €</td>\n",
       "                        <td id=\"T_43941342_a056_11e9_bfda_77a786913205row0_col7\" class=\"data row0 col7\" >164,434 €</td>\n",
       "                        <td id=\"T_43941342_a056_11e9_bfda_77a786913205row0_col8\" class=\"data row0 col8\" >15,274 €</td>\n",
       "                        <td id=\"T_43941342_a056_11e9_bfda_77a786913205row0_col9\" class=\"data row0 col9\" >0 €</td>\n",
       "                        <td id=\"T_43941342_a056_11e9_bfda_77a786913205row0_col10\" class=\"data row0 col10\" >0 €</td>\n",
       "                        <td id=\"T_43941342_a056_11e9_bfda_77a786913205row0_col11\" class=\"data row0 col11\" >197,870 €</td>\n",
       "                        <td id=\"T_43941342_a056_11e9_bfda_77a786913205row0_col12\" class=\"data row0 col12\" >237,590 €</td>\n",
       "                        <td id=\"T_43941342_a056_11e9_bfda_77a786913205row0_col13\" class=\"data row0 col13\" >187,966 €</td>\n",
       "                        <td id=\"T_43941342_a056_11e9_bfda_77a786913205row0_col14\" class=\"data row0 col14\" >1,601,655 €</td>\n",
       "            </tr>\n",
       "            <tr>\n",
       "                        <th id=\"T_43941342_a056_11e9_bfda_77a786913205level0_row1\" class=\"row_heading level0 row1\" >Medizinische Universität Graz</th>\n",
       "                        <td id=\"T_43941342_a056_11e9_bfda_77a786913205row1_col0\" class=\"data row1 col0\" >727,683 €</td>\n",
       "                        <td id=\"T_43941342_a056_11e9_bfda_77a786913205row1_col1\" class=\"data row1 col1\" >2,149,800 €</td>\n",
       "                        <td id=\"T_43941342_a056_11e9_bfda_77a786913205row1_col2\" class=\"data row1 col2\" >1,477,194 €</td>\n",
       "                        <td id=\"T_43941342_a056_11e9_bfda_77a786913205row1_col3\" class=\"data row1 col3\" >4,400,454 €</td>\n",
       "                        <td id=\"T_43941342_a056_11e9_bfda_77a786913205row1_col4\" class=\"data row1 col4\" >40,833 €</td>\n",
       "                        <td id=\"T_43941342_a056_11e9_bfda_77a786913205row1_col5\" class=\"data row1 col5\" >739,128 €</td>\n",
       "                        <td id=\"T_43941342_a056_11e9_bfda_77a786913205row1_col6\" class=\"data row1 col6\" >4,585,604 €</td>\n",
       "                        <td id=\"T_43941342_a056_11e9_bfda_77a786913205row1_col7\" class=\"data row1 col7\" >1,018,910 €</td>\n",
       "                        <td id=\"T_43941342_a056_11e9_bfda_77a786913205row1_col8\" class=\"data row1 col8\" >32,440,936 €</td>\n",
       "                        <td id=\"T_43941342_a056_11e9_bfda_77a786913205row1_col9\" class=\"data row1 col9\" >145,251 €</td>\n",
       "                        <td id=\"T_43941342_a056_11e9_bfda_77a786913205row1_col10\" class=\"data row1 col10\" >0 €</td>\n",
       "                        <td id=\"T_43941342_a056_11e9_bfda_77a786913205row1_col11\" class=\"data row1 col11\" >1,985,663 €</td>\n",
       "                        <td id=\"T_43941342_a056_11e9_bfda_77a786913205row1_col12\" class=\"data row1 col12\" >432,015 €</td>\n",
       "                        <td id=\"T_43941342_a056_11e9_bfda_77a786913205row1_col13\" class=\"data row1 col13\" >171,789 €</td>\n",
       "                        <td id=\"T_43941342_a056_11e9_bfda_77a786913205row1_col14\" class=\"data row1 col14\" >50,315,260 €</td>\n",
       "            </tr>\n",
       "            <tr>\n",
       "                        <th id=\"T_43941342_a056_11e9_bfda_77a786913205level0_row2\" class=\"row_heading level0 row2\" >Medizinische Universität Innsbruck</th>\n",
       "                        <td id=\"T_43941342_a056_11e9_bfda_77a786913205row2_col0\" class=\"data row2 col0\" >3,692,311 €</td>\n",
       "                        <td id=\"T_43941342_a056_11e9_bfda_77a786913205row2_col1\" class=\"data row2 col1\" >3,169,485 €</td>\n",
       "                        <td id=\"T_43941342_a056_11e9_bfda_77a786913205row2_col2\" class=\"data row2 col2\" >939,430 €</td>\n",
       "                        <td id=\"T_43941342_a056_11e9_bfda_77a786913205row2_col3\" class=\"data row2 col3\" >8,230,126 €</td>\n",
       "                        <td id=\"T_43941342_a056_11e9_bfda_77a786913205row2_col4\" class=\"data row2 col4\" >0 €</td>\n",
       "                        <td id=\"T_43941342_a056_11e9_bfda_77a786913205row2_col5\" class=\"data row2 col5\" >435,520 €</td>\n",
       "                        <td id=\"T_43941342_a056_11e9_bfda_77a786913205row2_col6\" class=\"data row2 col6\" >487,286 €</td>\n",
       "                        <td id=\"T_43941342_a056_11e9_bfda_77a786913205row2_col7\" class=\"data row2 col7\" >1,493,628 €</td>\n",
       "                        <td id=\"T_43941342_a056_11e9_bfda_77a786913205row2_col8\" class=\"data row2 col8\" >21,297,441 €</td>\n",
       "                        <td id=\"T_43941342_a056_11e9_bfda_77a786913205row2_col9\" class=\"data row2 col9\" >0 €</td>\n",
       "                        <td id=\"T_43941342_a056_11e9_bfda_77a786913205row2_col10\" class=\"data row2 col10\" >0 €</td>\n",
       "                        <td id=\"T_43941342_a056_11e9_bfda_77a786913205row2_col11\" class=\"data row2 col11\" >365,223 €</td>\n",
       "                        <td id=\"T_43941342_a056_11e9_bfda_77a786913205row2_col12\" class=\"data row2 col12\" >1,960,654 €</td>\n",
       "                        <td id=\"T_43941342_a056_11e9_bfda_77a786913205row2_col13\" class=\"data row2 col13\" >89,968 €</td>\n",
       "                        <td id=\"T_43941342_a056_11e9_bfda_77a786913205row2_col14\" class=\"data row2 col14\" >42,161,072 €</td>\n",
       "            </tr>\n",
       "            <tr>\n",
       "                        <th id=\"T_43941342_a056_11e9_bfda_77a786913205level0_row3\" class=\"row_heading level0 row3\" >Medizinische Universität Wien</th>\n",
       "                        <td id=\"T_43941342_a056_11e9_bfda_77a786913205row3_col0\" class=\"data row3 col0\" >1,672,802 €</td>\n",
       "                        <td id=\"T_43941342_a056_11e9_bfda_77a786913205row3_col1\" class=\"data row3 col1\" >8,347,843 €</td>\n",
       "                        <td id=\"T_43941342_a056_11e9_bfda_77a786913205row3_col2\" class=\"data row3 col2\" >1,469,351 €</td>\n",
       "                        <td id=\"T_43941342_a056_11e9_bfda_77a786913205row3_col3\" class=\"data row3 col3\" >18,825,924 €</td>\n",
       "                        <td id=\"T_43941342_a056_11e9_bfda_77a786913205row3_col4\" class=\"data row3 col4\" >80,000 €</td>\n",
       "                        <td id=\"T_43941342_a056_11e9_bfda_77a786913205row3_col5\" class=\"data row3 col5\" >1,375,660 €</td>\n",
       "                        <td id=\"T_43941342_a056_11e9_bfda_77a786913205row3_col6\" class=\"data row3 col6\" >2,015,327 €</td>\n",
       "                        <td id=\"T_43941342_a056_11e9_bfda_77a786913205row3_col7\" class=\"data row3 col7\" >9,083,278 €</td>\n",
       "                        <td id=\"T_43941342_a056_11e9_bfda_77a786913205row3_col8\" class=\"data row3 col8\" >21,467,168 €</td>\n",
       "                        <td id=\"T_43941342_a056_11e9_bfda_77a786913205row3_col9\" class=\"data row3 col9\" >173,461 €</td>\n",
       "                        <td id=\"T_43941342_a056_11e9_bfda_77a786913205row3_col10\" class=\"data row3 col10\" >0 €</td>\n",
       "                        <td id=\"T_43941342_a056_11e9_bfda_77a786913205row3_col11\" class=\"data row3 col11\" >33,211,760 €</td>\n",
       "                        <td id=\"T_43941342_a056_11e9_bfda_77a786913205row3_col12\" class=\"data row3 col12\" >441,721 €</td>\n",
       "                        <td id=\"T_43941342_a056_11e9_bfda_77a786913205row3_col13\" class=\"data row3 col13\" >842,038 €</td>\n",
       "                        <td id=\"T_43941342_a056_11e9_bfda_77a786913205row3_col14\" class=\"data row3 col14\" >99,006,333 €</td>\n",
       "            </tr>\n",
       "            <tr>\n",
       "                        <th id=\"T_43941342_a056_11e9_bfda_77a786913205level0_row4\" class=\"row_heading level0 row4\" >Montanuniversität Leoben</th>\n",
       "                        <td id=\"T_43941342_a056_11e9_bfda_77a786913205row4_col0\" class=\"data row4 col0\" >3,154,355 €</td>\n",
       "                        <td id=\"T_43941342_a056_11e9_bfda_77a786913205row4_col1\" class=\"data row4 col1\" >3,460,399 €</td>\n",
       "                        <td id=\"T_43941342_a056_11e9_bfda_77a786913205row4_col2\" class=\"data row4 col2\" >13,384,395 €</td>\n",
       "                        <td id=\"T_43941342_a056_11e9_bfda_77a786913205row4_col3\" class=\"data row4 col3\" >1,241,006 €</td>\n",
       "                        <td id=\"T_43941342_a056_11e9_bfda_77a786913205row4_col4\" class=\"data row4 col4\" >0 €</td>\n",
       "                        <td id=\"T_43941342_a056_11e9_bfda_77a786913205row4_col5\" class=\"data row4 col5\" >0 €</td>\n",
       "                        <td id=\"T_43941342_a056_11e9_bfda_77a786913205row4_col6\" class=\"data row4 col6\" >5,337,531 €</td>\n",
       "                        <td id=\"T_43941342_a056_11e9_bfda_77a786913205row4_col7\" class=\"data row4 col7\" >0 €</td>\n",
       "                        <td id=\"T_43941342_a056_11e9_bfda_77a786913205row4_col8\" class=\"data row4 col8\" >14,284,450 €</td>\n",
       "                        <td id=\"T_43941342_a056_11e9_bfda_77a786913205row4_col9\" class=\"data row4 col9\" >0 €</td>\n",
       "                        <td id=\"T_43941342_a056_11e9_bfda_77a786913205row4_col10\" class=\"data row4 col10\" >0 €</td>\n",
       "                        <td id=\"T_43941342_a056_11e9_bfda_77a786913205row4_col11\" class=\"data row4 col11\" >0 €</td>\n",
       "                        <td id=\"T_43941342_a056_11e9_bfda_77a786913205row4_col12\" class=\"data row4 col12\" >2,911,762 €</td>\n",
       "                        <td id=\"T_43941342_a056_11e9_bfda_77a786913205row4_col13\" class=\"data row4 col13\" >132,103 €</td>\n",
       "                        <td id=\"T_43941342_a056_11e9_bfda_77a786913205row4_col14\" class=\"data row4 col14\" >43,906,001 €</td>\n",
       "            </tr>\n",
       "            <tr>\n",
       "                        <th id=\"T_43941342_a056_11e9_bfda_77a786913205level0_row5\" class=\"row_heading level0 row5\" >Technische Universität Graz</th>\n",
       "                        <td id=\"T_43941342_a056_11e9_bfda_77a786913205row5_col0\" class=\"data row5 col0\" >1,270,608 €</td>\n",
       "                        <td id=\"T_43941342_a056_11e9_bfda_77a786913205row5_col1\" class=\"data row5 col1\" >11,016,518 €</td>\n",
       "                        <td id=\"T_43941342_a056_11e9_bfda_77a786913205row5_col2\" class=\"data row5 col2\" >19,046,692 €</td>\n",
       "                        <td id=\"T_43941342_a056_11e9_bfda_77a786913205row5_col3\" class=\"data row5 col3\" >6,572,227 €</td>\n",
       "                        <td id=\"T_43941342_a056_11e9_bfda_77a786913205row5_col4\" class=\"data row5 col4\" >300,202 €</td>\n",
       "                        <td id=\"T_43941342_a056_11e9_bfda_77a786913205row5_col5\" class=\"data row5 col5\" >45,000 €</td>\n",
       "                        <td id=\"T_43941342_a056_11e9_bfda_77a786913205row5_col6\" class=\"data row5 col6\" >1,304,890 €</td>\n",
       "                        <td id=\"T_43941342_a056_11e9_bfda_77a786913205row5_col7\" class=\"data row5 col7\" >1,186,053 €</td>\n",
       "                        <td id=\"T_43941342_a056_11e9_bfda_77a786913205row5_col8\" class=\"data row5 col8\" >24,719,792 €</td>\n",
       "                        <td id=\"T_43941342_a056_11e9_bfda_77a786913205row5_col9\" class=\"data row5 col9\" >962 €</td>\n",
       "                        <td id=\"T_43941342_a056_11e9_bfda_77a786913205row5_col10\" class=\"data row5 col10\" >0 €</td>\n",
       "                        <td id=\"T_43941342_a056_11e9_bfda_77a786913205row5_col11\" class=\"data row5 col11\" >1,502,674 €</td>\n",
       "                        <td id=\"T_43941342_a056_11e9_bfda_77a786913205row5_col12\" class=\"data row5 col12\" >11,908,659 €</td>\n",
       "                        <td id=\"T_43941342_a056_11e9_bfda_77a786913205row5_col13\" class=\"data row5 col13\" >0 €</td>\n",
       "                        <td id=\"T_43941342_a056_11e9_bfda_77a786913205row5_col14\" class=\"data row5 col14\" >78,874,277 €</td>\n",
       "            </tr>\n",
       "            <tr>\n",
       "                        <th id=\"T_43941342_a056_11e9_bfda_77a786913205level0_row6\" class=\"row_heading level0 row6\" >Technische Universität Wien</th>\n",
       "                        <td id=\"T_43941342_a056_11e9_bfda_77a786913205row6_col0\" class=\"data row6 col0\" >2,190,867 €</td>\n",
       "                        <td id=\"T_43941342_a056_11e9_bfda_77a786913205row6_col1\" class=\"data row6 col1\" >14,732,400 €</td>\n",
       "                        <td id=\"T_43941342_a056_11e9_bfda_77a786913205row6_col2\" class=\"data row6 col2\" >16,317,706 €</td>\n",
       "                        <td id=\"T_43941342_a056_11e9_bfda_77a786913205row6_col3\" class=\"data row6 col3\" >19,662,615 €</td>\n",
       "                        <td id=\"T_43941342_a056_11e9_bfda_77a786913205row6_col4\" class=\"data row6 col4\" >394,486 €</td>\n",
       "                        <td id=\"T_43941342_a056_11e9_bfda_77a786913205row6_col5\" class=\"data row6 col5\" >145,550 €</td>\n",
       "                        <td id=\"T_43941342_a056_11e9_bfda_77a786913205row6_col6\" class=\"data row6 col6\" >2,886,761 €</td>\n",
       "                        <td id=\"T_43941342_a056_11e9_bfda_77a786913205row6_col7\" class=\"data row6 col7\" >0 €</td>\n",
       "                        <td id=\"T_43941342_a056_11e9_bfda_77a786913205row6_col8\" class=\"data row6 col8\" >22,101,496 €</td>\n",
       "                        <td id=\"T_43941342_a056_11e9_bfda_77a786913205row6_col9\" class=\"data row6 col9\" >862,147 €</td>\n",
       "                        <td id=\"T_43941342_a056_11e9_bfda_77a786913205row6_col10\" class=\"data row6 col10\" >0 €</td>\n",
       "                        <td id=\"T_43941342_a056_11e9_bfda_77a786913205row6_col11\" class=\"data row6 col11\" >1,262,398 €</td>\n",
       "                        <td id=\"T_43941342_a056_11e9_bfda_77a786913205row6_col12\" class=\"data row6 col12\" >5,817,243 €</td>\n",
       "                        <td id=\"T_43941342_a056_11e9_bfda_77a786913205row6_col13\" class=\"data row6 col13\" >942,206 €</td>\n",
       "                        <td id=\"T_43941342_a056_11e9_bfda_77a786913205row6_col14\" class=\"data row6 col14\" >87,315,875 €</td>\n",
       "            </tr>\n",
       "            <tr>\n",
       "                        <th id=\"T_43941342_a056_11e9_bfda_77a786913205level0_row7\" class=\"row_heading level0 row7\" >Universität Graz</th>\n",
       "                        <td id=\"T_43941342_a056_11e9_bfda_77a786913205row7_col0\" class=\"data row7 col0\" >828,650 €</td>\n",
       "                        <td id=\"T_43941342_a056_11e9_bfda_77a786913205row7_col1\" class=\"data row7 col1\" >2,907,787 €</td>\n",
       "                        <td id=\"T_43941342_a056_11e9_bfda_77a786913205row7_col2\" class=\"data row7 col2\" >1,520,199 €</td>\n",
       "                        <td id=\"T_43941342_a056_11e9_bfda_77a786913205row7_col3\" class=\"data row7 col3\" >12,896,937 €</td>\n",
       "                        <td id=\"T_43941342_a056_11e9_bfda_77a786913205row7_col4\" class=\"data row7 col4\" >685,429 €</td>\n",
       "                        <td id=\"T_43941342_a056_11e9_bfda_77a786913205row7_col5\" class=\"data row7 col5\" >1,298,103 €</td>\n",
       "                        <td id=\"T_43941342_a056_11e9_bfda_77a786913205row7_col6\" class=\"data row7 col6\" >2,123,043 €</td>\n",
       "                        <td id=\"T_43941342_a056_11e9_bfda_77a786913205row7_col7\" class=\"data row7 col7\" >631,401 €</td>\n",
       "                        <td id=\"T_43941342_a056_11e9_bfda_77a786913205row7_col8\" class=\"data row7 col8\" >1,721,040 €</td>\n",
       "                        <td id=\"T_43941342_a056_11e9_bfda_77a786913205row7_col9\" class=\"data row7 col9\" >229,541 €</td>\n",
       "                        <td id=\"T_43941342_a056_11e9_bfda_77a786913205row7_col10\" class=\"data row7 col10\" >0 €</td>\n",
       "                        <td id=\"T_43941342_a056_11e9_bfda_77a786913205row7_col11\" class=\"data row7 col11\" >865,365 €</td>\n",
       "                        <td id=\"T_43941342_a056_11e9_bfda_77a786913205row7_col12\" class=\"data row7 col12\" >1,806,703 €</td>\n",
       "                        <td id=\"T_43941342_a056_11e9_bfda_77a786913205row7_col13\" class=\"data row7 col13\" >476,519 €</td>\n",
       "                        <td id=\"T_43941342_a056_11e9_bfda_77a786913205row7_col14\" class=\"data row7 col14\" >27,990,717 €</td>\n",
       "            </tr>\n",
       "            <tr>\n",
       "                        <th id=\"T_43941342_a056_11e9_bfda_77a786913205level0_row8\" class=\"row_heading level0 row8\" >Universität Innsbruck</th>\n",
       "                        <td id=\"T_43941342_a056_11e9_bfda_77a786913205row8_col0\" class=\"data row8 col0\" >825,619 €</td>\n",
       "                        <td id=\"T_43941342_a056_11e9_bfda_77a786913205row8_col1\" class=\"data row8 col1\" >8,544,357 €</td>\n",
       "                        <td id=\"T_43941342_a056_11e9_bfda_77a786913205row8_col2\" class=\"data row8 col2\" >4,347,970 €</td>\n",
       "                        <td id=\"T_43941342_a056_11e9_bfda_77a786913205row8_col3\" class=\"data row8 col3\" >16,317,637 €</td>\n",
       "                        <td id=\"T_43941342_a056_11e9_bfda_77a786913205row8_col4\" class=\"data row8 col4\" >184,005 €</td>\n",
       "                        <td id=\"T_43941342_a056_11e9_bfda_77a786913205row8_col5\" class=\"data row8 col5\" >90,232 €</td>\n",
       "                        <td id=\"T_43941342_a056_11e9_bfda_77a786913205row8_col6\" class=\"data row8 col6\" >5,495,539 €</td>\n",
       "                        <td id=\"T_43941342_a056_11e9_bfda_77a786913205row8_col7\" class=\"data row8 col7\" >2,655,604 €</td>\n",
       "                        <td id=\"T_43941342_a056_11e9_bfda_77a786913205row8_col8\" class=\"data row8 col8\" >4,795,888 €</td>\n",
       "                        <td id=\"T_43941342_a056_11e9_bfda_77a786913205row8_col9\" class=\"data row8 col9\" >138,936 €</td>\n",
       "                        <td id=\"T_43941342_a056_11e9_bfda_77a786913205row8_col10\" class=\"data row8 col10\" >0 €</td>\n",
       "                        <td id=\"T_43941342_a056_11e9_bfda_77a786913205row8_col11\" class=\"data row8 col11\" >20,815 €</td>\n",
       "                        <td id=\"T_43941342_a056_11e9_bfda_77a786913205row8_col12\" class=\"data row8 col12\" >4,620,633 €</td>\n",
       "                        <td id=\"T_43941342_a056_11e9_bfda_77a786913205row8_col13\" class=\"data row8 col13\" >1,374,713 €</td>\n",
       "                        <td id=\"T_43941342_a056_11e9_bfda_77a786913205row8_col14\" class=\"data row8 col14\" >49,411,948 €</td>\n",
       "            </tr>\n",
       "            <tr>\n",
       "                        <th id=\"T_43941342_a056_11e9_bfda_77a786913205level0_row9\" class=\"row_heading level0 row9\" >Universität Klagenfurt</th>\n",
       "                        <td id=\"T_43941342_a056_11e9_bfda_77a786913205row9_col0\" class=\"data row9 col0\" >960,387 €</td>\n",
       "                        <td id=\"T_43941342_a056_11e9_bfda_77a786913205row9_col1\" class=\"data row9 col1\" >1,024,246 €</td>\n",
       "                        <td id=\"T_43941342_a056_11e9_bfda_77a786913205row9_col2\" class=\"data row9 col2\" >752,141 €</td>\n",
       "                        <td id=\"T_43941342_a056_11e9_bfda_77a786913205row9_col3\" class=\"data row9 col3\" >1,378,472 €</td>\n",
       "                        <td id=\"T_43941342_a056_11e9_bfda_77a786913205row9_col4\" class=\"data row9 col4\" >15,000 €</td>\n",
       "                        <td id=\"T_43941342_a056_11e9_bfda_77a786913205row9_col5\" class=\"data row9 col5\" >327,995 €</td>\n",
       "                        <td id=\"T_43941342_a056_11e9_bfda_77a786913205row9_col6\" class=\"data row9 col6\" >584,714 €</td>\n",
       "                        <td id=\"T_43941342_a056_11e9_bfda_77a786913205row9_col7\" class=\"data row9 col7\" >338,456 €</td>\n",
       "                        <td id=\"T_43941342_a056_11e9_bfda_77a786913205row9_col8\" class=\"data row9 col8\" >1,606,002 €</td>\n",
       "                        <td id=\"T_43941342_a056_11e9_bfda_77a786913205row9_col9\" class=\"data row9 col9\" >9,804 €</td>\n",
       "                        <td id=\"T_43941342_a056_11e9_bfda_77a786913205row9_col10\" class=\"data row9 col10\" >0 €</td>\n",
       "                        <td id=\"T_43941342_a056_11e9_bfda_77a786913205row9_col11\" class=\"data row9 col11\" >120,901 €</td>\n",
       "                        <td id=\"T_43941342_a056_11e9_bfda_77a786913205row9_col12\" class=\"data row9 col12\" >362,626 €</td>\n",
       "                        <td id=\"T_43941342_a056_11e9_bfda_77a786913205row9_col13\" class=\"data row9 col13\" >59,969 €</td>\n",
       "                        <td id=\"T_43941342_a056_11e9_bfda_77a786913205row9_col14\" class=\"data row9 col14\" >7,540,713 €</td>\n",
       "            </tr>\n",
       "            <tr>\n",
       "                        <th id=\"T_43941342_a056_11e9_bfda_77a786913205level0_row10\" class=\"row_heading level0 row10\" >Universität Linz</th>\n",
       "                        <td id=\"T_43941342_a056_11e9_bfda_77a786913205row10_col0\" class=\"data row10 col0\" >421,374 €</td>\n",
       "                        <td id=\"T_43941342_a056_11e9_bfda_77a786913205row10_col1\" class=\"data row10 col1\" >2,277,619 €</td>\n",
       "                        <td id=\"T_43941342_a056_11e9_bfda_77a786913205row10_col2\" class=\"data row10 col2\" >7,632,744 €</td>\n",
       "                        <td id=\"T_43941342_a056_11e9_bfda_77a786913205row10_col3\" class=\"data row10 col3\" >7,769,850 €</td>\n",
       "                        <td id=\"T_43941342_a056_11e9_bfda_77a786913205row10_col4\" class=\"data row10 col4\" >63,150 €</td>\n",
       "                        <td id=\"T_43941342_a056_11e9_bfda_77a786913205row10_col5\" class=\"data row10 col5\" >209,176 €</td>\n",
       "                        <td id=\"T_43941342_a056_11e9_bfda_77a786913205row10_col6\" class=\"data row10 col6\" >1,294,525 €</td>\n",
       "                        <td id=\"T_43941342_a056_11e9_bfda_77a786913205row10_col7\" class=\"data row10 col7\" >106,599 €</td>\n",
       "                        <td id=\"T_43941342_a056_11e9_bfda_77a786913205row10_col8\" class=\"data row10 col8\" >6,284,933 €</td>\n",
       "                        <td id=\"T_43941342_a056_11e9_bfda_77a786913205row10_col9\" class=\"data row10 col9\" >39,797 €</td>\n",
       "                        <td id=\"T_43941342_a056_11e9_bfda_77a786913205row10_col10\" class=\"data row10 col10\" >0 €</td>\n",
       "                        <td id=\"T_43941342_a056_11e9_bfda_77a786913205row10_col11\" class=\"data row10 col11\" >0 €</td>\n",
       "                        <td id=\"T_43941342_a056_11e9_bfda_77a786913205row10_col12\" class=\"data row10 col12\" >3,080,589 €</td>\n",
       "                        <td id=\"T_43941342_a056_11e9_bfda_77a786913205row10_col13\" class=\"data row10 col13\" >76,000 €</td>\n",
       "                        <td id=\"T_43941342_a056_11e9_bfda_77a786913205row10_col14\" class=\"data row10 col14\" >29,256,356 €</td>\n",
       "            </tr>\n",
       "            <tr>\n",
       "                        <th id=\"T_43941342_a056_11e9_bfda_77a786913205level0_row11\" class=\"row_heading level0 row11\" >Universität Mozarteum Salzburg</th>\n",
       "                        <td id=\"T_43941342_a056_11e9_bfda_77a786913205row11_col0\" class=\"data row11 col0\" >108,123 €</td>\n",
       "                        <td id=\"T_43941342_a056_11e9_bfda_77a786913205row11_col1\" class=\"data row11 col1\" >0 €</td>\n",
       "                        <td id=\"T_43941342_a056_11e9_bfda_77a786913205row11_col2\" class=\"data row11 col2\" >0 €</td>\n",
       "                        <td id=\"T_43941342_a056_11e9_bfda_77a786913205row11_col3\" class=\"data row11 col3\" >38,326 €</td>\n",
       "                        <td id=\"T_43941342_a056_11e9_bfda_77a786913205row11_col4\" class=\"data row11 col4\" >51,300 €</td>\n",
       "                        <td id=\"T_43941342_a056_11e9_bfda_77a786913205row11_col5\" class=\"data row11 col5\" >2,000 €</td>\n",
       "                        <td id=\"T_43941342_a056_11e9_bfda_77a786913205row11_col6\" class=\"data row11 col6\" >95,075 €</td>\n",
       "                        <td id=\"T_43941342_a056_11e9_bfda_77a786913205row11_col7\" class=\"data row11 col7\" >817,783 €</td>\n",
       "                        <td id=\"T_43941342_a056_11e9_bfda_77a786913205row11_col8\" class=\"data row11 col8\" >91,463 €</td>\n",
       "                        <td id=\"T_43941342_a056_11e9_bfda_77a786913205row11_col9\" class=\"data row11 col9\" >0 €</td>\n",
       "                        <td id=\"T_43941342_a056_11e9_bfda_77a786913205row11_col10\" class=\"data row11 col10\" >0 €</td>\n",
       "                        <td id=\"T_43941342_a056_11e9_bfda_77a786913205row11_col11\" class=\"data row11 col11\" >0 €</td>\n",
       "                        <td id=\"T_43941342_a056_11e9_bfda_77a786913205row11_col12\" class=\"data row11 col12\" >93,234 €</td>\n",
       "                        <td id=\"T_43941342_a056_11e9_bfda_77a786913205row11_col13\" class=\"data row11 col13\" >5,000 €</td>\n",
       "                        <td id=\"T_43941342_a056_11e9_bfda_77a786913205row11_col14\" class=\"data row11 col14\" >1,302,304 €</td>\n",
       "            </tr>\n",
       "            <tr>\n",
       "                        <th id=\"T_43941342_a056_11e9_bfda_77a786913205level0_row12\" class=\"row_heading level0 row12\" >Universität Salzburg</th>\n",
       "                        <td id=\"T_43941342_a056_11e9_bfda_77a786913205row12_col0\" class=\"data row12 col0\" >1,246,120 €</td>\n",
       "                        <td id=\"T_43941342_a056_11e9_bfda_77a786913205row12_col1\" class=\"data row12 col1\" >3,069,169 €</td>\n",
       "                        <td id=\"T_43941342_a056_11e9_bfda_77a786913205row12_col2\" class=\"data row12 col2\" >846,205 €</td>\n",
       "                        <td id=\"T_43941342_a056_11e9_bfda_77a786913205row12_col3\" class=\"data row12 col3\" >7,666,635 €</td>\n",
       "                        <td id=\"T_43941342_a056_11e9_bfda_77a786913205row12_col4\" class=\"data row12 col4\" >346,006 €</td>\n",
       "                        <td id=\"T_43941342_a056_11e9_bfda_77a786913205row12_col5\" class=\"data row12 col5\" >82,000 €</td>\n",
       "                        <td id=\"T_43941342_a056_11e9_bfda_77a786913205row12_col6\" class=\"data row12 col6\" >1,447,449 €</td>\n",
       "                        <td id=\"T_43941342_a056_11e9_bfda_77a786913205row12_col7\" class=\"data row12 col7\" >0 €</td>\n",
       "                        <td id=\"T_43941342_a056_11e9_bfda_77a786913205row12_col8\" class=\"data row12 col8\" >1,174,205 €</td>\n",
       "                        <td id=\"T_43941342_a056_11e9_bfda_77a786913205row12_col9\" class=\"data row12 col9\" >0 €</td>\n",
       "                        <td id=\"T_43941342_a056_11e9_bfda_77a786913205row12_col10\" class=\"data row12 col10\" >0 €</td>\n",
       "                        <td id=\"T_43941342_a056_11e9_bfda_77a786913205row12_col11\" class=\"data row12 col11\" >1,219,963 €</td>\n",
       "                        <td id=\"T_43941342_a056_11e9_bfda_77a786913205row12_col12\" class=\"data row12 col12\" >1,840,427 €</td>\n",
       "                        <td id=\"T_43941342_a056_11e9_bfda_77a786913205row12_col13\" class=\"data row12 col13\" >88,333 €</td>\n",
       "                        <td id=\"T_43941342_a056_11e9_bfda_77a786913205row12_col14\" class=\"data row12 col14\" >19,026,512 €</td>\n",
       "            </tr>\n",
       "            <tr>\n",
       "                        <th id=\"T_43941342_a056_11e9_bfda_77a786913205level0_row13\" class=\"row_heading level0 row13\" >Universität Wien</th>\n",
       "                        <td id=\"T_43941342_a056_11e9_bfda_77a786913205row13_col0\" class=\"data row13 col0\" >3,548,645 €</td>\n",
       "                        <td id=\"T_43941342_a056_11e9_bfda_77a786913205row13_col1\" class=\"data row13 col1\" >13,633,780 €</td>\n",
       "                        <td id=\"T_43941342_a056_11e9_bfda_77a786913205row13_col2\" class=\"data row13 col2\" >2,359,970 €</td>\n",
       "                        <td id=\"T_43941342_a056_11e9_bfda_77a786913205row13_col3\" class=\"data row13 col3\" >41,065,707 €</td>\n",
       "                        <td id=\"T_43941342_a056_11e9_bfda_77a786913205row13_col4\" class=\"data row13 col4\" >120,301 €</td>\n",
       "                        <td id=\"T_43941342_a056_11e9_bfda_77a786913205row13_col5\" class=\"data row13 col5\" >850,888 €</td>\n",
       "                        <td id=\"T_43941342_a056_11e9_bfda_77a786913205row13_col6\" class=\"data row13 col6\" >5,636,764 €</td>\n",
       "                        <td id=\"T_43941342_a056_11e9_bfda_77a786913205row13_col7\" class=\"data row13 col7\" >4,511,995 €</td>\n",
       "                        <td id=\"T_43941342_a056_11e9_bfda_77a786913205row13_col8\" class=\"data row13 col8\" >3,264,945 €</td>\n",
       "                        <td id=\"T_43941342_a056_11e9_bfda_77a786913205row13_col9\" class=\"data row13 col9\" >315,376 €</td>\n",
       "                        <td id=\"T_43941342_a056_11e9_bfda_77a786913205row13_col10\" class=\"data row13 col10\" >0 €</td>\n",
       "                        <td id=\"T_43941342_a056_11e9_bfda_77a786913205row13_col11\" class=\"data row13 col11\" >5,587,202 €</td>\n",
       "                        <td id=\"T_43941342_a056_11e9_bfda_77a786913205row13_col12\" class=\"data row13 col12\" >1,936,831 €</td>\n",
       "                        <td id=\"T_43941342_a056_11e9_bfda_77a786913205row13_col13\" class=\"data row13 col13\" >2,246,991 €</td>\n",
       "                        <td id=\"T_43941342_a056_11e9_bfda_77a786913205row13_col14\" class=\"data row13 col14\" >85,079,395 €</td>\n",
       "            </tr>\n",
       "            <tr>\n",
       "                        <th id=\"T_43941342_a056_11e9_bfda_77a786913205level0_row14\" class=\"row_heading level0 row14\" >Universität für Bodenkultur Wien</th>\n",
       "                        <td id=\"T_43941342_a056_11e9_bfda_77a786913205row14_col0\" class=\"data row14 col0\" >3,409,778 €</td>\n",
       "                        <td id=\"T_43941342_a056_11e9_bfda_77a786913205row14_col1\" class=\"data row14 col1\" >7,516,955 €</td>\n",
       "                        <td id=\"T_43941342_a056_11e9_bfda_77a786913205row14_col2\" class=\"data row14 col2\" >2,575,175 €</td>\n",
       "                        <td id=\"T_43941342_a056_11e9_bfda_77a786913205row14_col3\" class=\"data row14 col3\" >8,173,204 €</td>\n",
       "                        <td id=\"T_43941342_a056_11e9_bfda_77a786913205row14_col4\" class=\"data row14 col4\" >269,061 €</td>\n",
       "                        <td id=\"T_43941342_a056_11e9_bfda_77a786913205row14_col5\" class=\"data row14 col5\" >98,926 €</td>\n",
       "                        <td id=\"T_43941342_a056_11e9_bfda_77a786913205row14_col6\" class=\"data row14 col6\" >3,094,381 €</td>\n",
       "                        <td id=\"T_43941342_a056_11e9_bfda_77a786913205row14_col7\" class=\"data row14 col7\" >4,518,591 €</td>\n",
       "                        <td id=\"T_43941342_a056_11e9_bfda_77a786913205row14_col8\" class=\"data row14 col8\" >14,549,838 €</td>\n",
       "                        <td id=\"T_43941342_a056_11e9_bfda_77a786913205row14_col9\" class=\"data row14 col9\" >132,897 €</td>\n",
       "                        <td id=\"T_43941342_a056_11e9_bfda_77a786913205row14_col10\" class=\"data row14 col10\" >112,088 €</td>\n",
       "                        <td id=\"T_43941342_a056_11e9_bfda_77a786913205row14_col11\" class=\"data row14 col11\" >267,118 €</td>\n",
       "                        <td id=\"T_43941342_a056_11e9_bfda_77a786913205row14_col12\" class=\"data row14 col12\" >2,451,698 €</td>\n",
       "                        <td id=\"T_43941342_a056_11e9_bfda_77a786913205row14_col13\" class=\"data row14 col13\" >779,055 €</td>\n",
       "                        <td id=\"T_43941342_a056_11e9_bfda_77a786913205row14_col14\" class=\"data row14 col14\" >47,948,765 €</td>\n",
       "            </tr>\n",
       "            <tr>\n",
       "                        <th id=\"T_43941342_a056_11e9_bfda_77a786913205level0_row15\" class=\"row_heading level0 row15\" >Universität für Musik und darstellende Kunst Graz</th>\n",
       "                        <td id=\"T_43941342_a056_11e9_bfda_77a786913205row15_col0\" class=\"data row15 col0\" >176,520 €</td>\n",
       "                        <td id=\"T_43941342_a056_11e9_bfda_77a786913205row15_col1\" class=\"data row15 col1\" >0 €</td>\n",
       "                        <td id=\"T_43941342_a056_11e9_bfda_77a786913205row15_col2\" class=\"data row15 col2\" >63,303 €</td>\n",
       "                        <td id=\"T_43941342_a056_11e9_bfda_77a786913205row15_col3\" class=\"data row15 col3\" >645,534 €</td>\n",
       "                        <td id=\"T_43941342_a056_11e9_bfda_77a786913205row15_col4\" class=\"data row15 col4\" >127,875 €</td>\n",
       "                        <td id=\"T_43941342_a056_11e9_bfda_77a786913205row15_col5\" class=\"data row15 col5\" >0 €</td>\n",
       "                        <td id=\"T_43941342_a056_11e9_bfda_77a786913205row15_col6\" class=\"data row15 col6\" >152,113 €</td>\n",
       "                        <td id=\"T_43941342_a056_11e9_bfda_77a786913205row15_col7\" class=\"data row15 col7\" >7,000 €</td>\n",
       "                        <td id=\"T_43941342_a056_11e9_bfda_77a786913205row15_col8\" class=\"data row15 col8\" >215,121 €</td>\n",
       "                        <td id=\"T_43941342_a056_11e9_bfda_77a786913205row15_col9\" class=\"data row15 col9\" >0 €</td>\n",
       "                        <td id=\"T_43941342_a056_11e9_bfda_77a786913205row15_col10\" class=\"data row15 col10\" >0 €</td>\n",
       "                        <td id=\"T_43941342_a056_11e9_bfda_77a786913205row15_col11\" class=\"data row15 col11\" >0 €</td>\n",
       "                        <td id=\"T_43941342_a056_11e9_bfda_77a786913205row15_col12\" class=\"data row15 col12\" >49,442 €</td>\n",
       "                        <td id=\"T_43941342_a056_11e9_bfda_77a786913205row15_col13\" class=\"data row15 col13\" >0 €</td>\n",
       "                        <td id=\"T_43941342_a056_11e9_bfda_77a786913205row15_col14\" class=\"data row15 col14\" >1,436,908 €</td>\n",
       "            </tr>\n",
       "            <tr>\n",
       "                        <th id=\"T_43941342_a056_11e9_bfda_77a786913205level0_row16\" class=\"row_heading level0 row16\" >Universität für Musik und darstellende Kunst Wien</th>\n",
       "                        <td id=\"T_43941342_a056_11e9_bfda_77a786913205row16_col0\" class=\"data row16 col0\" >131,197 €</td>\n",
       "                        <td id=\"T_43941342_a056_11e9_bfda_77a786913205row16_col1\" class=\"data row16 col1\" >254,170 €</td>\n",
       "                        <td id=\"T_43941342_a056_11e9_bfda_77a786913205row16_col2\" class=\"data row16 col2\" >0 €</td>\n",
       "                        <td id=\"T_43941342_a056_11e9_bfda_77a786913205row16_col3\" class=\"data row16 col3\" >465,349 €</td>\n",
       "                        <td id=\"T_43941342_a056_11e9_bfda_77a786913205row16_col4\" class=\"data row16 col4\" >8,000 €</td>\n",
       "                        <td id=\"T_43941342_a056_11e9_bfda_77a786913205row16_col5\" class=\"data row16 col5\" >7,000 €</td>\n",
       "                        <td id=\"T_43941342_a056_11e9_bfda_77a786913205row16_col6\" class=\"data row16 col6\" >186,055 €</td>\n",
       "                        <td id=\"T_43941342_a056_11e9_bfda_77a786913205row16_col7\" class=\"data row16 col7\" >73,568 €</td>\n",
       "                        <td id=\"T_43941342_a056_11e9_bfda_77a786913205row16_col8\" class=\"data row16 col8\" >0 €</td>\n",
       "                        <td id=\"T_43941342_a056_11e9_bfda_77a786913205row16_col9\" class=\"data row16 col9\" >0 €</td>\n",
       "                        <td id=\"T_43941342_a056_11e9_bfda_77a786913205row16_col10\" class=\"data row16 col10\" >0 €</td>\n",
       "                        <td id=\"T_43941342_a056_11e9_bfda_77a786913205row16_col11\" class=\"data row16 col11\" >0 €</td>\n",
       "                        <td id=\"T_43941342_a056_11e9_bfda_77a786913205row16_col12\" class=\"data row16 col12\" >300 €</td>\n",
       "                        <td id=\"T_43941342_a056_11e9_bfda_77a786913205row16_col13\" class=\"data row16 col13\" >0 €</td>\n",
       "                        <td id=\"T_43941342_a056_11e9_bfda_77a786913205row16_col14\" class=\"data row16 col14\" >1,125,639 €</td>\n",
       "            </tr>\n",
       "            <tr>\n",
       "                        <th id=\"T_43941342_a056_11e9_bfda_77a786913205level0_row17\" class=\"row_heading level0 row17\" >Universität für Weiterbildung Krems</th>\n",
       "                        <td id=\"T_43941342_a056_11e9_bfda_77a786913205row17_col0\" class=\"data row17 col0\" >724,752 €</td>\n",
       "                        <td id=\"T_43941342_a056_11e9_bfda_77a786913205row17_col1\" class=\"data row17 col1\" >811,090 €</td>\n",
       "                        <td id=\"T_43941342_a056_11e9_bfda_77a786913205row17_col2\" class=\"data row17 col2\" >1,007,981 €</td>\n",
       "                        <td id=\"T_43941342_a056_11e9_bfda_77a786913205row17_col3\" class=\"data row17 col3\" >296,881 €</td>\n",
       "                        <td id=\"T_43941342_a056_11e9_bfda_77a786913205row17_col4\" class=\"data row17 col4\" >39,395 €</td>\n",
       "                        <td id=\"T_43941342_a056_11e9_bfda_77a786913205row17_col5\" class=\"data row17 col5\" >144,400 €</td>\n",
       "                        <td id=\"T_43941342_a056_11e9_bfda_77a786913205row17_col6\" class=\"data row17 col6\" >2,291,288 €</td>\n",
       "                        <td id=\"T_43941342_a056_11e9_bfda_77a786913205row17_col7\" class=\"data row17 col7\" >281,211 €</td>\n",
       "                        <td id=\"T_43941342_a056_11e9_bfda_77a786913205row17_col8\" class=\"data row17 col8\" >405,333 €</td>\n",
       "                        <td id=\"T_43941342_a056_11e9_bfda_77a786913205row17_col9\" class=\"data row17 col9\" >0 €</td>\n",
       "                        <td id=\"T_43941342_a056_11e9_bfda_77a786913205row17_col10\" class=\"data row17 col10\" >0 €</td>\n",
       "                        <td id=\"T_43941342_a056_11e9_bfda_77a786913205row17_col11\" class=\"data row17 col11\" >235,995 €</td>\n",
       "                        <td id=\"T_43941342_a056_11e9_bfda_77a786913205row17_col12\" class=\"data row17 col12\" >330,732 €</td>\n",
       "                        <td id=\"T_43941342_a056_11e9_bfda_77a786913205row17_col13\" class=\"data row17 col13\" >0 €</td>\n",
       "                        <td id=\"T_43941342_a056_11e9_bfda_77a786913205row17_col14\" class=\"data row17 col14\" >6,569,058 €</td>\n",
       "            </tr>\n",
       "            <tr>\n",
       "                        <th id=\"T_43941342_a056_11e9_bfda_77a786913205level0_row18\" class=\"row_heading level0 row18\" >Universität für angewandte Kunst Wien</th>\n",
       "                        <td id=\"T_43941342_a056_11e9_bfda_77a786913205row18_col0\" class=\"data row18 col0\" >140,367 €</td>\n",
       "                        <td id=\"T_43941342_a056_11e9_bfda_77a786913205row18_col1\" class=\"data row18 col1\" >205,754 €</td>\n",
       "                        <td id=\"T_43941342_a056_11e9_bfda_77a786913205row18_col2\" class=\"data row18 col2\" >39,564 €</td>\n",
       "                        <td id=\"T_43941342_a056_11e9_bfda_77a786913205row18_col3\" class=\"data row18 col3\" >1,113,899 €</td>\n",
       "                        <td id=\"T_43941342_a056_11e9_bfda_77a786913205row18_col4\" class=\"data row18 col4\" >0 €</td>\n",
       "                        <td id=\"T_43941342_a056_11e9_bfda_77a786913205row18_col5\" class=\"data row18 col5\" >0 €</td>\n",
       "                        <td id=\"T_43941342_a056_11e9_bfda_77a786913205row18_col6\" class=\"data row18 col6\" >47,474 €</td>\n",
       "                        <td id=\"T_43941342_a056_11e9_bfda_77a786913205row18_col7\" class=\"data row18 col7\" >130,055 €</td>\n",
       "                        <td id=\"T_43941342_a056_11e9_bfda_77a786913205row18_col8\" class=\"data row18 col8\" >163,307 €</td>\n",
       "                        <td id=\"T_43941342_a056_11e9_bfda_77a786913205row18_col9\" class=\"data row18 col9\" >1,839 €</td>\n",
       "                        <td id=\"T_43941342_a056_11e9_bfda_77a786913205row18_col10\" class=\"data row18 col10\" >0 €</td>\n",
       "                        <td id=\"T_43941342_a056_11e9_bfda_77a786913205row18_col11\" class=\"data row18 col11\" >106,017 €</td>\n",
       "                        <td id=\"T_43941342_a056_11e9_bfda_77a786913205row18_col12\" class=\"data row18 col12\" >101,214 €</td>\n",
       "                        <td id=\"T_43941342_a056_11e9_bfda_77a786913205row18_col13\" class=\"data row18 col13\" >84,725 €</td>\n",
       "                        <td id=\"T_43941342_a056_11e9_bfda_77a786913205row18_col14\" class=\"data row18 col14\" >2,134,215 €</td>\n",
       "            </tr>\n",
       "            <tr>\n",
       "                        <th id=\"T_43941342_a056_11e9_bfda_77a786913205level0_row19\" class=\"row_heading level0 row19\" >Universität für künstlerische und industrielle Gestaltung Linz</th>\n",
       "                        <td id=\"T_43941342_a056_11e9_bfda_77a786913205row19_col0\" class=\"data row19 col0\" >495,763 €</td>\n",
       "                        <td id=\"T_43941342_a056_11e9_bfda_77a786913205row19_col1\" class=\"data row19 col1\" >0 €</td>\n",
       "                        <td id=\"T_43941342_a056_11e9_bfda_77a786913205row19_col2\" class=\"data row19 col2\" >0 €</td>\n",
       "                        <td id=\"T_43941342_a056_11e9_bfda_77a786913205row19_col3\" class=\"data row19 col3\" >384,336 €</td>\n",
       "                        <td id=\"T_43941342_a056_11e9_bfda_77a786913205row19_col4\" class=\"data row19 col4\" >6,000 €</td>\n",
       "                        <td id=\"T_43941342_a056_11e9_bfda_77a786913205row19_col5\" class=\"data row19 col5\" >0 €</td>\n",
       "                        <td id=\"T_43941342_a056_11e9_bfda_77a786913205row19_col6\" class=\"data row19 col6\" >153,983 €</td>\n",
       "                        <td id=\"T_43941342_a056_11e9_bfda_77a786913205row19_col7\" class=\"data row19 col7\" >435 €</td>\n",
       "                        <td id=\"T_43941342_a056_11e9_bfda_77a786913205row19_col8\" class=\"data row19 col8\" >210,749 €</td>\n",
       "                        <td id=\"T_43941342_a056_11e9_bfda_77a786913205row19_col9\" class=\"data row19 col9\" >127,041 €</td>\n",
       "                        <td id=\"T_43941342_a056_11e9_bfda_77a786913205row19_col10\" class=\"data row19 col10\" >0 €</td>\n",
       "                        <td id=\"T_43941342_a056_11e9_bfda_77a786913205row19_col11\" class=\"data row19 col11\" >168,120 €</td>\n",
       "                        <td id=\"T_43941342_a056_11e9_bfda_77a786913205row19_col12\" class=\"data row19 col12\" >80,673 €</td>\n",
       "                        <td id=\"T_43941342_a056_11e9_bfda_77a786913205row19_col13\" class=\"data row19 col13\" >0 €</td>\n",
       "                        <td id=\"T_43941342_a056_11e9_bfda_77a786913205row19_col14\" class=\"data row19 col14\" >1,627,100 €</td>\n",
       "            </tr>\n",
       "            <tr>\n",
       "                        <th id=\"T_43941342_a056_11e9_bfda_77a786913205level0_row20\" class=\"row_heading level0 row20\" >Veterinärmedizinische Universität Wien</th>\n",
       "                        <td id=\"T_43941342_a056_11e9_bfda_77a786913205row20_col0\" class=\"data row20 col0\" >470,387 €</td>\n",
       "                        <td id=\"T_43941342_a056_11e9_bfda_77a786913205row20_col1\" class=\"data row20 col1\" >599,004 €</td>\n",
       "                        <td id=\"T_43941342_a056_11e9_bfda_77a786913205row20_col2\" class=\"data row20 col2\" >714,645 €</td>\n",
       "                        <td id=\"T_43941342_a056_11e9_bfda_77a786913205row20_col3\" class=\"data row20 col3\" >4,739,233 €</td>\n",
       "                        <td id=\"T_43941342_a056_11e9_bfda_77a786913205row20_col4\" class=\"data row20 col4\" >0 €</td>\n",
       "                        <td id=\"T_43941342_a056_11e9_bfda_77a786913205row20_col5\" class=\"data row20 col5\" >0 €</td>\n",
       "                        <td id=\"T_43941342_a056_11e9_bfda_77a786913205row20_col6\" class=\"data row20 col6\" >370,427 €</td>\n",
       "                        <td id=\"T_43941342_a056_11e9_bfda_77a786913205row20_col7\" class=\"data row20 col7\" >6,131,569 €</td>\n",
       "                        <td id=\"T_43941342_a056_11e9_bfda_77a786913205row20_col8\" class=\"data row20 col8\" >2,207,437 €</td>\n",
       "                        <td id=\"T_43941342_a056_11e9_bfda_77a786913205row20_col9\" class=\"data row20 col9\" >0 €</td>\n",
       "                        <td id=\"T_43941342_a056_11e9_bfda_77a786913205row20_col10\" class=\"data row20 col10\" >0 €</td>\n",
       "                        <td id=\"T_43941342_a056_11e9_bfda_77a786913205row20_col11\" class=\"data row20 col11\" >394,791 €</td>\n",
       "                        <td id=\"T_43941342_a056_11e9_bfda_77a786913205row20_col12\" class=\"data row20 col12\" >1,490,373 €</td>\n",
       "                        <td id=\"T_43941342_a056_11e9_bfda_77a786913205row20_col13\" class=\"data row20 col13\" >163,652 €</td>\n",
       "                        <td id=\"T_43941342_a056_11e9_bfda_77a786913205row20_col14\" class=\"data row20 col14\" >17,281,518 €</td>\n",
       "            </tr>\n",
       "            <tr>\n",
       "                        <th id=\"T_43941342_a056_11e9_bfda_77a786913205level0_row21\" class=\"row_heading level0 row21\" >Wirtschaftsuniversität Wien</th>\n",
       "                        <td id=\"T_43941342_a056_11e9_bfda_77a786913205row21_col0\" class=\"data row21 col0\" >387,761 €</td>\n",
       "                        <td id=\"T_43941342_a056_11e9_bfda_77a786913205row21_col1\" class=\"data row21 col1\" >2,070,273 €</td>\n",
       "                        <td id=\"T_43941342_a056_11e9_bfda_77a786913205row21_col2\" class=\"data row21 col2\" >712,935 €</td>\n",
       "                        <td id=\"T_43941342_a056_11e9_bfda_77a786913205row21_col3\" class=\"data row21 col3\" >1,450,781 €</td>\n",
       "                        <td id=\"T_43941342_a056_11e9_bfda_77a786913205row21_col4\" class=\"data row21 col4\" >0 €</td>\n",
       "                        <td id=\"T_43941342_a056_11e9_bfda_77a786913205row21_col5\" class=\"data row21 col5\" >976,154 €</td>\n",
       "                        <td id=\"T_43941342_a056_11e9_bfda_77a786913205row21_col6\" class=\"data row21 col6\" >174,320 €</td>\n",
       "                        <td id=\"T_43941342_a056_11e9_bfda_77a786913205row21_col7\" class=\"data row21 col7\" >1,959,377 €</td>\n",
       "                        <td id=\"T_43941342_a056_11e9_bfda_77a786913205row21_col8\" class=\"data row21 col8\" >1,386,378 €</td>\n",
       "                        <td id=\"T_43941342_a056_11e9_bfda_77a786913205row21_col9\" class=\"data row21 col9\" >321,429 €</td>\n",
       "                        <td id=\"T_43941342_a056_11e9_bfda_77a786913205row21_col10\" class=\"data row21 col10\" >0 €</td>\n",
       "                        <td id=\"T_43941342_a056_11e9_bfda_77a786913205row21_col11\" class=\"data row21 col11\" >2,475,308 €</td>\n",
       "                        <td id=\"T_43941342_a056_11e9_bfda_77a786913205row21_col12\" class=\"data row21 col12\" >927,421 €</td>\n",
       "                        <td id=\"T_43941342_a056_11e9_bfda_77a786913205row21_col13\" class=\"data row21 col13\" >23,144 €</td>\n",
       "                        <td id=\"T_43941342_a056_11e9_bfda_77a786913205row21_col14\" class=\"data row21 col14\" >12,865,281 €</td>\n",
       "            </tr>\n",
       "    </tbody></table>"
      ],
      "text/plain": [
       "<pandas.io.formats.style.Styler at 0x7f93e11b4e48>"
      ]
     },
     "metadata": {},
     "output_type": "display_data"
    },
    {
     "name": "stdout",
     "output_type": "stream",
     "text": [
      "85,079,395 €\n"
     ]
    }
   ],
   "source": [
    "import numpy as np\n",
    "import pandas as pd\n",
    "from IPython.core.display import HTML\n",
    "\n",
    "def pretty(dataframe):\n",
    "    display(dataframe.style.format({'funding': '{:,} €'}))\n",
    "\n",
    "raw_data = pd.read_csv('1.C.1_small.csv', delimiter=';')\n",
    "data = raw_data[raw_data.year == 2018].drop('year', 1)\n",
    "\n",
    "unis = dict()\n",
    "for uni in data.university.unique():\n",
    "    unis[uni] = list()\n",
    "    uni_data = data[data.university == uni].funding.sum()\n",
    "    #if not uni.startswith(\"Univ\") or uni_data < 5000000:\n",
    "    #    data = data[data.university != uni]\n",
    " \n",
    "table = pd.pivot_table(data, values='funding', index=['university'],\n",
    "                       columns=['funder'], fill_value=0, #margins=True,\n",
    "                       aggfunc=np.sum)\n",
    "\n",
    "totals_abs = table.sum()\n",
    "totals_avg = table.mean()\n",
    "totals = totals_abs/totals_abs.sum()\n",
    "\n",
    "sums = table.agg(['sum'], axis=\"columns\")['sum']\n",
    "sums_avg = table.agg(['mean'], axis=\"columns\")['mean']\n",
    "\n",
    "interesting = 1 * table.gt(sums_avg, axis=\"rows\") \\\n",
    "            + 2 * table.div(sums, axis=\"rows\").gt(totals) \\\n",
    "            + 4 * table.gt(totals_avg, axis=\"columns\") \n",
    "\n",
    "\n",
    "#1: uniintern\n",
    "#2: vergleichend, relativ\n",
    "#3: systemisch\n",
    "\n",
    "interesting = interesting.rename(index=str, columns={'sonstige': 'sonstige Fördergeber', 'nicht bekannt / nicht zuordenbar': 'nicht zuordenbare Fördergeber'})\n",
    "headers = interesting.columns\n",
    "for row in interesting.itertuples():\n",
    "    (uni, *values) = row\n",
    "    for idx, element in enumerate(values):\n",
    "        funder = headers[idx]\n",
    "        switcher = [\n",
    "            '',\n",
    "            '$funder ist zwar uniintern wichtig, aber andere Universitäten setzen stärker auf $funder. Für $funder ist die Universität nicht relevant.',\n",
    "            'Die $uni ist von $funder stärker abhängig als andere Universitäten, auch wenn $funder uniintern keine hohe Bedeutung hat. Auch für $funder ist die Universität nicht relevant.',\n",
    "            '$funder ist sowohl innerhalb der Universität als auch im relativen Vergleich mit anderen eine wichtige Geldquelle. Für $funder allerdings ist die $uni nicht relevant.',\n",
    "            'Für $funder ist die Universität bedeutsam, aber innerhalb und im relativen Vergleich mit anderen Universitäten ist $funder nicht relevant.',\n",
    "            'Obwohl die Universität bei $funder eine erfolgreiche Fördernehmerin ist, konzentrieren andere Universitäten stärker auf $funder. Dennoch ist $funder einer der großen Förderer .',\n",
    "            'Die Universität ist erfolgreich bei $funder und auch für $funder ist die $uni relevant. Nur uniintern hat $funder keine große Bedeutung.',\n",
    "            '$funder ist ein wichtiger Fördergeber, sowohl intern als auch im relativen Vergleich mit anderen Universitäten. Und auch für $funder ist die $uni eine wichtige Partnerin.'           \n",
    "        ]\n",
    "        \n",
    "        text = switcher[element].replace('$uni', uni).replace('$funder', '<strong>' + funder + '</strong>')\n",
    "        if text != '':\n",
    "            text = text[0:1].capitalize() + text[1:]\n",
    "            unis[uni].append((element, text, funder))\n",
    "            \n",
    "for uni, statements in unis.items():\n",
    "    if len(statements) > 0:\n",
    "        statements.sort(key=lambda tup: tup[0], reverse=True)\n",
    "        old_importance = 0\n",
    "        display(HTML('<h3>' + uni + '</h3><p style=\"font-family:verdana\">'))\n",
    "        text = ''\n",
    "        for statement in statements:\n",
    "            importance = statement[0]\n",
    "            if importance == old_importance:\n",
    "                text += 'Dies lässt sich ebenso über <strong>' + statement[2] + '</strong> sagen.'\n",
    "            else:\n",
    "                text += '<br/>' + statement[1]\n",
    "            text += ' '\n",
    "            old_importance = importance\n",
    "            \n",
    "        display(HTML(text + '</p>'))\n",
    "        \n",
    "        \n",
    "table['Summe'] = table.agg(['sum'], axis=\"columns\")\n",
    "\n",
    "display(table.style.format('{:,} €'))\n",
    "    \n",
    "print('{:,} €'.format(table.loc[('Universität Wien', 'Summe')]))"
   ]
  },
  {
   "cell_type": "code",
   "execution_count": 2,
   "metadata": {},
   "outputs": [
    {
     "data": {
      "text/html": [
       "<style  type=\"text/css\" >\n",
       "</style><table id=\"T_4405e0a8_a056_11e9_bfda_77a786913205\" ><thead>    <tr>        <th class=\"index_name level0\" >fos</th>        <th class=\"col_heading level0 col0\" >AGRARWISSENSCHAFTEN, VETERINÄRMEDIZIN</th>        <th class=\"col_heading level0 col1\" >BILDENDE KUNST / GESTALTENDE KUNST</th>        <th class=\"col_heading level0 col2\" >DARSTELLENDE KUNST</th>        <th class=\"col_heading level0 col3\" >GEISTESWISSENSCHAFTEN</th>        <th class=\"col_heading level0 col4\" >HUMANMEDIZIN, GESUNDHEITSWISSENSCHAFTEN</th>        <th class=\"col_heading level0 col5\" >MUSIK</th>        <th class=\"col_heading level0 col6\" >NATURWISSENSCHAFTEN</th>        <th class=\"col_heading level0 col7\" >SOZIALWISSENSCHAFTEN</th>        <th class=\"col_heading level0 col8\" >TECHNISCHE WISSENSCHAFTEN</th>    </tr>    <tr>        <th class=\"index_name level0\" >university</th>        <th class=\"blank\" ></th>        <th class=\"blank\" ></th>        <th class=\"blank\" ></th>        <th class=\"blank\" ></th>        <th class=\"blank\" ></th>        <th class=\"blank\" ></th>        <th class=\"blank\" ></th>        <th class=\"blank\" ></th>        <th class=\"blank\" ></th>    </tr></thead><tbody>\n",
       "                <tr>\n",
       "                        <th id=\"T_4405e0a8_a056_11e9_bfda_77a786913205level0_row0\" class=\"row_heading level0 row0\" >Akademie der bildenden Künste Wien</th>\n",
       "                        <td id=\"T_4405e0a8_a056_11e9_bfda_77a786913205row0_col0\" class=\"data row0 col0\" >0.0%</td>\n",
       "                        <td id=\"T_4405e0a8_a056_11e9_bfda_77a786913205row0_col1\" class=\"data row0 col1\" >56.0%</td>\n",
       "                        <td id=\"T_4405e0a8_a056_11e9_bfda_77a786913205row0_col2\" class=\"data row0 col2\" >0.0%</td>\n",
       "                        <td id=\"T_4405e0a8_a056_11e9_bfda_77a786913205row0_col3\" class=\"data row0 col3\" >36.7%</td>\n",
       "                        <td id=\"T_4405e0a8_a056_11e9_bfda_77a786913205row0_col4\" class=\"data row0 col4\" >0.0%</td>\n",
       "                        <td id=\"T_4405e0a8_a056_11e9_bfda_77a786913205row0_col5\" class=\"data row0 col5\" >0.0%</td>\n",
       "                        <td id=\"T_4405e0a8_a056_11e9_bfda_77a786913205row0_col6\" class=\"data row0 col6\" >7.4%</td>\n",
       "                        <td id=\"T_4405e0a8_a056_11e9_bfda_77a786913205row0_col7\" class=\"data row0 col7\" >0.0%</td>\n",
       "                        <td id=\"T_4405e0a8_a056_11e9_bfda_77a786913205row0_col8\" class=\"data row0 col8\" >0.0%</td>\n",
       "            </tr>\n",
       "            <tr>\n",
       "                        <th id=\"T_4405e0a8_a056_11e9_bfda_77a786913205level0_row1\" class=\"row_heading level0 row1\" >Medizinische Universität Graz</th>\n",
       "                        <td id=\"T_4405e0a8_a056_11e9_bfda_77a786913205row1_col0\" class=\"data row1 col0\" >0.1%</td>\n",
       "                        <td id=\"T_4405e0a8_a056_11e9_bfda_77a786913205row1_col1\" class=\"data row1 col1\" >0.0%</td>\n",
       "                        <td id=\"T_4405e0a8_a056_11e9_bfda_77a786913205row1_col2\" class=\"data row1 col2\" >0.0%</td>\n",
       "                        <td id=\"T_4405e0a8_a056_11e9_bfda_77a786913205row1_col3\" class=\"data row1 col3\" >0.0%</td>\n",
       "                        <td id=\"T_4405e0a8_a056_11e9_bfda_77a786913205row1_col4\" class=\"data row1 col4\" >94.4%</td>\n",
       "                        <td id=\"T_4405e0a8_a056_11e9_bfda_77a786913205row1_col5\" class=\"data row1 col5\" >0.0%</td>\n",
       "                        <td id=\"T_4405e0a8_a056_11e9_bfda_77a786913205row1_col6\" class=\"data row1 col6\" >4.2%</td>\n",
       "                        <td id=\"T_4405e0a8_a056_11e9_bfda_77a786913205row1_col7\" class=\"data row1 col7\" >0.2%</td>\n",
       "                        <td id=\"T_4405e0a8_a056_11e9_bfda_77a786913205row1_col8\" class=\"data row1 col8\" >1.1%</td>\n",
       "            </tr>\n",
       "            <tr>\n",
       "                        <th id=\"T_4405e0a8_a056_11e9_bfda_77a786913205level0_row2\" class=\"row_heading level0 row2\" >Medizinische Universität Innsbruck</th>\n",
       "                        <td id=\"T_4405e0a8_a056_11e9_bfda_77a786913205row2_col0\" class=\"data row2 col0\" >0.0%</td>\n",
       "                        <td id=\"T_4405e0a8_a056_11e9_bfda_77a786913205row2_col1\" class=\"data row2 col1\" >0.0%</td>\n",
       "                        <td id=\"T_4405e0a8_a056_11e9_bfda_77a786913205row2_col2\" class=\"data row2 col2\" >0.0%</td>\n",
       "                        <td id=\"T_4405e0a8_a056_11e9_bfda_77a786913205row2_col3\" class=\"data row2 col3\" >0.0%</td>\n",
       "                        <td id=\"T_4405e0a8_a056_11e9_bfda_77a786913205row2_col4\" class=\"data row2 col4\" >94.4%</td>\n",
       "                        <td id=\"T_4405e0a8_a056_11e9_bfda_77a786913205row2_col5\" class=\"data row2 col5\" >0.0%</td>\n",
       "                        <td id=\"T_4405e0a8_a056_11e9_bfda_77a786913205row2_col6\" class=\"data row2 col6\" >5.0%</td>\n",
       "                        <td id=\"T_4405e0a8_a056_11e9_bfda_77a786913205row2_col7\" class=\"data row2 col7\" >0.6%</td>\n",
       "                        <td id=\"T_4405e0a8_a056_11e9_bfda_77a786913205row2_col8\" class=\"data row2 col8\" >0.1%</td>\n",
       "            </tr>\n",
       "            <tr>\n",
       "                        <th id=\"T_4405e0a8_a056_11e9_bfda_77a786913205level0_row3\" class=\"row_heading level0 row3\" >Medizinische Universität Wien</th>\n",
       "                        <td id=\"T_4405e0a8_a056_11e9_bfda_77a786913205row3_col0\" class=\"data row3 col0\" >0.0%</td>\n",
       "                        <td id=\"T_4405e0a8_a056_11e9_bfda_77a786913205row3_col1\" class=\"data row3 col1\" >0.0%</td>\n",
       "                        <td id=\"T_4405e0a8_a056_11e9_bfda_77a786913205row3_col2\" class=\"data row3 col2\" >0.0%</td>\n",
       "                        <td id=\"T_4405e0a8_a056_11e9_bfda_77a786913205row3_col3\" class=\"data row3 col3\" >0.0%</td>\n",
       "                        <td id=\"T_4405e0a8_a056_11e9_bfda_77a786913205row3_col4\" class=\"data row3 col4\" >93.9%</td>\n",
       "                        <td id=\"T_4405e0a8_a056_11e9_bfda_77a786913205row3_col5\" class=\"data row3 col5\" >0.0%</td>\n",
       "                        <td id=\"T_4405e0a8_a056_11e9_bfda_77a786913205row3_col6\" class=\"data row3 col6\" >0.0%</td>\n",
       "                        <td id=\"T_4405e0a8_a056_11e9_bfda_77a786913205row3_col7\" class=\"data row3 col7\" >0.2%</td>\n",
       "                        <td id=\"T_4405e0a8_a056_11e9_bfda_77a786913205row3_col8\" class=\"data row3 col8\" >5.9%</td>\n",
       "            </tr>\n",
       "            <tr>\n",
       "                        <th id=\"T_4405e0a8_a056_11e9_bfda_77a786913205level0_row4\" class=\"row_heading level0 row4\" >Montanuniversität Leoben</th>\n",
       "                        <td id=\"T_4405e0a8_a056_11e9_bfda_77a786913205row4_col0\" class=\"data row4 col0\" >0.0%</td>\n",
       "                        <td id=\"T_4405e0a8_a056_11e9_bfda_77a786913205row4_col1\" class=\"data row4 col1\" >0.0%</td>\n",
       "                        <td id=\"T_4405e0a8_a056_11e9_bfda_77a786913205row4_col2\" class=\"data row4 col2\" >0.0%</td>\n",
       "                        <td id=\"T_4405e0a8_a056_11e9_bfda_77a786913205row4_col3\" class=\"data row4 col3\" >0.0%</td>\n",
       "                        <td id=\"T_4405e0a8_a056_11e9_bfda_77a786913205row4_col4\" class=\"data row4 col4\" >0.0%</td>\n",
       "                        <td id=\"T_4405e0a8_a056_11e9_bfda_77a786913205row4_col5\" class=\"data row4 col5\" >0.0%</td>\n",
       "                        <td id=\"T_4405e0a8_a056_11e9_bfda_77a786913205row4_col6\" class=\"data row4 col6\" >10.9%</td>\n",
       "                        <td id=\"T_4405e0a8_a056_11e9_bfda_77a786913205row4_col7\" class=\"data row4 col7\" >1.1%</td>\n",
       "                        <td id=\"T_4405e0a8_a056_11e9_bfda_77a786913205row4_col8\" class=\"data row4 col8\" >87.9%</td>\n",
       "            </tr>\n",
       "            <tr>\n",
       "                        <th id=\"T_4405e0a8_a056_11e9_bfda_77a786913205level0_row5\" class=\"row_heading level0 row5\" >Technische Universität Graz</th>\n",
       "                        <td id=\"T_4405e0a8_a056_11e9_bfda_77a786913205row5_col0\" class=\"data row5 col0\" >0.0%</td>\n",
       "                        <td id=\"T_4405e0a8_a056_11e9_bfda_77a786913205row5_col1\" class=\"data row5 col1\" >0.0%</td>\n",
       "                        <td id=\"T_4405e0a8_a056_11e9_bfda_77a786913205row5_col2\" class=\"data row5 col2\" >0.0%</td>\n",
       "                        <td id=\"T_4405e0a8_a056_11e9_bfda_77a786913205row5_col3\" class=\"data row5 col3\" >0.0%</td>\n",
       "                        <td id=\"T_4405e0a8_a056_11e9_bfda_77a786913205row5_col4\" class=\"data row5 col4\" >0.1%</td>\n",
       "                        <td id=\"T_4405e0a8_a056_11e9_bfda_77a786913205row5_col5\" class=\"data row5 col5\" >0.0%</td>\n",
       "                        <td id=\"T_4405e0a8_a056_11e9_bfda_77a786913205row5_col6\" class=\"data row5 col6\" >37.5%</td>\n",
       "                        <td id=\"T_4405e0a8_a056_11e9_bfda_77a786913205row5_col7\" class=\"data row5 col7\" >0.6%</td>\n",
       "                        <td id=\"T_4405e0a8_a056_11e9_bfda_77a786913205row5_col8\" class=\"data row5 col8\" >61.7%</td>\n",
       "            </tr>\n",
       "            <tr>\n",
       "                        <th id=\"T_4405e0a8_a056_11e9_bfda_77a786913205level0_row6\" class=\"row_heading level0 row6\" >Technische Universität Wien</th>\n",
       "                        <td id=\"T_4405e0a8_a056_11e9_bfda_77a786913205row6_col0\" class=\"data row6 col0\" >0.0%</td>\n",
       "                        <td id=\"T_4405e0a8_a056_11e9_bfda_77a786913205row6_col1\" class=\"data row6 col1\" >0.0%</td>\n",
       "                        <td id=\"T_4405e0a8_a056_11e9_bfda_77a786913205row6_col2\" class=\"data row6 col2\" >0.0%</td>\n",
       "                        <td id=\"T_4405e0a8_a056_11e9_bfda_77a786913205row6_col3\" class=\"data row6 col3\" >0.4%</td>\n",
       "                        <td id=\"T_4405e0a8_a056_11e9_bfda_77a786913205row6_col4\" class=\"data row6 col4\" >1.8%</td>\n",
       "                        <td id=\"T_4405e0a8_a056_11e9_bfda_77a786913205row6_col5\" class=\"data row6 col5\" >0.0%</td>\n",
       "                        <td id=\"T_4405e0a8_a056_11e9_bfda_77a786913205row6_col6\" class=\"data row6 col6\" >44.1%</td>\n",
       "                        <td id=\"T_4405e0a8_a056_11e9_bfda_77a786913205row6_col7\" class=\"data row6 col7\" >4.2%</td>\n",
       "                        <td id=\"T_4405e0a8_a056_11e9_bfda_77a786913205row6_col8\" class=\"data row6 col8\" >49.5%</td>\n",
       "            </tr>\n",
       "            <tr>\n",
       "                        <th id=\"T_4405e0a8_a056_11e9_bfda_77a786913205level0_row7\" class=\"row_heading level0 row7\" >Universität Graz</th>\n",
       "                        <td id=\"T_4405e0a8_a056_11e9_bfda_77a786913205row7_col0\" class=\"data row7 col0\" >0.0%</td>\n",
       "                        <td id=\"T_4405e0a8_a056_11e9_bfda_77a786913205row7_col1\" class=\"data row7 col1\" >0.0%</td>\n",
       "                        <td id=\"T_4405e0a8_a056_11e9_bfda_77a786913205row7_col2\" class=\"data row7 col2\" >0.0%</td>\n",
       "                        <td id=\"T_4405e0a8_a056_11e9_bfda_77a786913205row7_col3\" class=\"data row7 col3\" >21.5%</td>\n",
       "                        <td id=\"T_4405e0a8_a056_11e9_bfda_77a786913205row7_col4\" class=\"data row7 col4\" >2.0%</td>\n",
       "                        <td id=\"T_4405e0a8_a056_11e9_bfda_77a786913205row7_col5\" class=\"data row7 col5\" >0.0%</td>\n",
       "                        <td id=\"T_4405e0a8_a056_11e9_bfda_77a786913205row7_col6\" class=\"data row7 col6\" >49.3%</td>\n",
       "                        <td id=\"T_4405e0a8_a056_11e9_bfda_77a786913205row7_col7\" class=\"data row7 col7\" >27.3%</td>\n",
       "                        <td id=\"T_4405e0a8_a056_11e9_bfda_77a786913205row7_col8\" class=\"data row7 col8\" >0.0%</td>\n",
       "            </tr>\n",
       "            <tr>\n",
       "                        <th id=\"T_4405e0a8_a056_11e9_bfda_77a786913205level0_row8\" class=\"row_heading level0 row8\" >Universität Innsbruck</th>\n",
       "                        <td id=\"T_4405e0a8_a056_11e9_bfda_77a786913205row8_col0\" class=\"data row8 col0\" >0.0%</td>\n",
       "                        <td id=\"T_4405e0a8_a056_11e9_bfda_77a786913205row8_col1\" class=\"data row8 col1\" >0.0%</td>\n",
       "                        <td id=\"T_4405e0a8_a056_11e9_bfda_77a786913205row8_col2\" class=\"data row8 col2\" >0.0%</td>\n",
       "                        <td id=\"T_4405e0a8_a056_11e9_bfda_77a786913205row8_col3\" class=\"data row8 col3\" >8.8%</td>\n",
       "                        <td id=\"T_4405e0a8_a056_11e9_bfda_77a786913205row8_col4\" class=\"data row8 col4\" >5.7%</td>\n",
       "                        <td id=\"T_4405e0a8_a056_11e9_bfda_77a786913205row8_col5\" class=\"data row8 col5\" >0.0%</td>\n",
       "                        <td id=\"T_4405e0a8_a056_11e9_bfda_77a786913205row8_col6\" class=\"data row8 col6\" >55.2%</td>\n",
       "                        <td id=\"T_4405e0a8_a056_11e9_bfda_77a786913205row8_col7\" class=\"data row8 col7\" >15.4%</td>\n",
       "                        <td id=\"T_4405e0a8_a056_11e9_bfda_77a786913205row8_col8\" class=\"data row8 col8\" >14.9%</td>\n",
       "            </tr>\n",
       "            <tr>\n",
       "                        <th id=\"T_4405e0a8_a056_11e9_bfda_77a786913205level0_row9\" class=\"row_heading level0 row9\" >Universität Klagenfurt</th>\n",
       "                        <td id=\"T_4405e0a8_a056_11e9_bfda_77a786913205row9_col0\" class=\"data row9 col0\" >1.2%</td>\n",
       "                        <td id=\"T_4405e0a8_a056_11e9_bfda_77a786913205row9_col1\" class=\"data row9 col1\" >0.0%</td>\n",
       "                        <td id=\"T_4405e0a8_a056_11e9_bfda_77a786913205row9_col2\" class=\"data row9 col2\" >0.0%</td>\n",
       "                        <td id=\"T_4405e0a8_a056_11e9_bfda_77a786913205row9_col3\" class=\"data row9 col3\" >10.7%</td>\n",
       "                        <td id=\"T_4405e0a8_a056_11e9_bfda_77a786913205row9_col4\" class=\"data row9 col4\" >4.2%</td>\n",
       "                        <td id=\"T_4405e0a8_a056_11e9_bfda_77a786913205row9_col5\" class=\"data row9 col5\" >0.0%</td>\n",
       "                        <td id=\"T_4405e0a8_a056_11e9_bfda_77a786913205row9_col6\" class=\"data row9 col6\" >38.2%</td>\n",
       "                        <td id=\"T_4405e0a8_a056_11e9_bfda_77a786913205row9_col7\" class=\"data row9 col7\" >35.0%</td>\n",
       "                        <td id=\"T_4405e0a8_a056_11e9_bfda_77a786913205row9_col8\" class=\"data row9 col8\" >10.7%</td>\n",
       "            </tr>\n",
       "            <tr>\n",
       "                        <th id=\"T_4405e0a8_a056_11e9_bfda_77a786913205level0_row10\" class=\"row_heading level0 row10\" >Universität Linz</th>\n",
       "                        <td id=\"T_4405e0a8_a056_11e9_bfda_77a786913205row10_col0\" class=\"data row10 col0\" >0.0%</td>\n",
       "                        <td id=\"T_4405e0a8_a056_11e9_bfda_77a786913205row10_col1\" class=\"data row10 col1\" >0.0%</td>\n",
       "                        <td id=\"T_4405e0a8_a056_11e9_bfda_77a786913205row10_col2\" class=\"data row10 col2\" >0.9%</td>\n",
       "                        <td id=\"T_4405e0a8_a056_11e9_bfda_77a786913205row10_col3\" class=\"data row10 col3\" >0.0%</td>\n",
       "                        <td id=\"T_4405e0a8_a056_11e9_bfda_77a786913205row10_col4\" class=\"data row10 col4\" >0.1%</td>\n",
       "                        <td id=\"T_4405e0a8_a056_11e9_bfda_77a786913205row10_col5\" class=\"data row10 col5\" >0.0%</td>\n",
       "                        <td id=\"T_4405e0a8_a056_11e9_bfda_77a786913205row10_col6\" class=\"data row10 col6\" >51.9%</td>\n",
       "                        <td id=\"T_4405e0a8_a056_11e9_bfda_77a786913205row10_col7\" class=\"data row10 col7\" >7.9%</td>\n",
       "                        <td id=\"T_4405e0a8_a056_11e9_bfda_77a786913205row10_col8\" class=\"data row10 col8\" >39.1%</td>\n",
       "            </tr>\n",
       "            <tr>\n",
       "                        <th id=\"T_4405e0a8_a056_11e9_bfda_77a786913205level0_row11\" class=\"row_heading level0 row11\" >Universität Mozarteum Salzburg</th>\n",
       "                        <td id=\"T_4405e0a8_a056_11e9_bfda_77a786913205row11_col0\" class=\"data row11 col0\" >0.0%</td>\n",
       "                        <td id=\"T_4405e0a8_a056_11e9_bfda_77a786913205row11_col1\" class=\"data row11 col1\" >0.3%</td>\n",
       "                        <td id=\"T_4405e0a8_a056_11e9_bfda_77a786913205row11_col2\" class=\"data row11 col2\" >0.4%</td>\n",
       "                        <td id=\"T_4405e0a8_a056_11e9_bfda_77a786913205row11_col3\" class=\"data row11 col3\" >7.0%</td>\n",
       "                        <td id=\"T_4405e0a8_a056_11e9_bfda_77a786913205row11_col4\" class=\"data row11 col4\" >0.0%</td>\n",
       "                        <td id=\"T_4405e0a8_a056_11e9_bfda_77a786913205row11_col5\" class=\"data row11 col5\" >92.3%</td>\n",
       "                        <td id=\"T_4405e0a8_a056_11e9_bfda_77a786913205row11_col6\" class=\"data row11 col6\" >0.0%</td>\n",
       "                        <td id=\"T_4405e0a8_a056_11e9_bfda_77a786913205row11_col7\" class=\"data row11 col7\" >0.0%</td>\n",
       "                        <td id=\"T_4405e0a8_a056_11e9_bfda_77a786913205row11_col8\" class=\"data row11 col8\" >0.0%</td>\n",
       "            </tr>\n",
       "            <tr>\n",
       "                        <th id=\"T_4405e0a8_a056_11e9_bfda_77a786913205level0_row12\" class=\"row_heading level0 row12\" >Universität Salzburg</th>\n",
       "                        <td id=\"T_4405e0a8_a056_11e9_bfda_77a786913205row12_col0\" class=\"data row12 col0\" >0.0%</td>\n",
       "                        <td id=\"T_4405e0a8_a056_11e9_bfda_77a786913205row12_col1\" class=\"data row12 col1\" >0.0%</td>\n",
       "                        <td id=\"T_4405e0a8_a056_11e9_bfda_77a786913205row12_col2\" class=\"data row12 col2\" >0.0%</td>\n",
       "                        <td id=\"T_4405e0a8_a056_11e9_bfda_77a786913205row12_col3\" class=\"data row12 col3\" >16.9%</td>\n",
       "                        <td id=\"T_4405e0a8_a056_11e9_bfda_77a786913205row12_col4\" class=\"data row12 col4\" >14.6%</td>\n",
       "                        <td id=\"T_4405e0a8_a056_11e9_bfda_77a786913205row12_col5\" class=\"data row12 col5\" >0.0%</td>\n",
       "                        <td id=\"T_4405e0a8_a056_11e9_bfda_77a786913205row12_col6\" class=\"data row12 col6\" >56.8%</td>\n",
       "                        <td id=\"T_4405e0a8_a056_11e9_bfda_77a786913205row12_col7\" class=\"data row12 col7\" >11.7%</td>\n",
       "                        <td id=\"T_4405e0a8_a056_11e9_bfda_77a786913205row12_col8\" class=\"data row12 col8\" >0.0%</td>\n",
       "            </tr>\n",
       "            <tr>\n",
       "                        <th id=\"T_4405e0a8_a056_11e9_bfda_77a786913205level0_row13\" class=\"row_heading level0 row13\" >Universität Wien</th>\n",
       "                        <td id=\"T_4405e0a8_a056_11e9_bfda_77a786913205row13_col0\" class=\"data row13 col0\" >0.1%</td>\n",
       "                        <td id=\"T_4405e0a8_a056_11e9_bfda_77a786913205row13_col1\" class=\"data row13 col1\" >0.0%</td>\n",
       "                        <td id=\"T_4405e0a8_a056_11e9_bfda_77a786913205row13_col2\" class=\"data row13 col2\" >0.0%</td>\n",
       "                        <td id=\"T_4405e0a8_a056_11e9_bfda_77a786913205row13_col3\" class=\"data row13 col3\" >17.7%</td>\n",
       "                        <td id=\"T_4405e0a8_a056_11e9_bfda_77a786913205row13_col4\" class=\"data row13 col4\" >4.4%</td>\n",
       "                        <td id=\"T_4405e0a8_a056_11e9_bfda_77a786913205row13_col5\" class=\"data row13 col5\" >0.0%</td>\n",
       "                        <td id=\"T_4405e0a8_a056_11e9_bfda_77a786913205row13_col6\" class=\"data row13 col6\" >58.5%</td>\n",
       "                        <td id=\"T_4405e0a8_a056_11e9_bfda_77a786913205row13_col7\" class=\"data row13 col7\" >18.0%</td>\n",
       "                        <td id=\"T_4405e0a8_a056_11e9_bfda_77a786913205row13_col8\" class=\"data row13 col8\" >1.2%</td>\n",
       "            </tr>\n",
       "            <tr>\n",
       "                        <th id=\"T_4405e0a8_a056_11e9_bfda_77a786913205level0_row14\" class=\"row_heading level0 row14\" >Universität für Bodenkultur Wien</th>\n",
       "                        <td id=\"T_4405e0a8_a056_11e9_bfda_77a786913205row14_col0\" class=\"data row14 col0\" >17.5%</td>\n",
       "                        <td id=\"T_4405e0a8_a056_11e9_bfda_77a786913205row14_col1\" class=\"data row14 col1\" >0.0%</td>\n",
       "                        <td id=\"T_4405e0a8_a056_11e9_bfda_77a786913205row14_col2\" class=\"data row14 col2\" >0.0%</td>\n",
       "                        <td id=\"T_4405e0a8_a056_11e9_bfda_77a786913205row14_col3\" class=\"data row14 col3\" >0.4%</td>\n",
       "                        <td id=\"T_4405e0a8_a056_11e9_bfda_77a786913205row14_col4\" class=\"data row14 col4\" >4.4%</td>\n",
       "                        <td id=\"T_4405e0a8_a056_11e9_bfda_77a786913205row14_col5\" class=\"data row14 col5\" >0.0%</td>\n",
       "                        <td id=\"T_4405e0a8_a056_11e9_bfda_77a786913205row14_col6\" class=\"data row14 col6\" >43.7%</td>\n",
       "                        <td id=\"T_4405e0a8_a056_11e9_bfda_77a786913205row14_col7\" class=\"data row14 col7\" >9.7%</td>\n",
       "                        <td id=\"T_4405e0a8_a056_11e9_bfda_77a786913205row14_col8\" class=\"data row14 col8\" >24.2%</td>\n",
       "            </tr>\n",
       "            <tr>\n",
       "                        <th id=\"T_4405e0a8_a056_11e9_bfda_77a786913205level0_row15\" class=\"row_heading level0 row15\" >Universität für Musik und darstellende Kunst Graz</th>\n",
       "                        <td id=\"T_4405e0a8_a056_11e9_bfda_77a786913205row15_col0\" class=\"data row15 col0\" >0.0%</td>\n",
       "                        <td id=\"T_4405e0a8_a056_11e9_bfda_77a786913205row15_col1\" class=\"data row15 col1\" >0.0%</td>\n",
       "                        <td id=\"T_4405e0a8_a056_11e9_bfda_77a786913205row15_col2\" class=\"data row15 col2\" >11.6%</td>\n",
       "                        <td id=\"T_4405e0a8_a056_11e9_bfda_77a786913205row15_col3\" class=\"data row15 col3\" >22.9%</td>\n",
       "                        <td id=\"T_4405e0a8_a056_11e9_bfda_77a786913205row15_col4\" class=\"data row15 col4\" >0.0%</td>\n",
       "                        <td id=\"T_4405e0a8_a056_11e9_bfda_77a786913205row15_col5\" class=\"data row15 col5\" >39.8%</td>\n",
       "                        <td id=\"T_4405e0a8_a056_11e9_bfda_77a786913205row15_col6\" class=\"data row15 col6\" >11.3%</td>\n",
       "                        <td id=\"T_4405e0a8_a056_11e9_bfda_77a786913205row15_col7\" class=\"data row15 col7\" >1.2%</td>\n",
       "                        <td id=\"T_4405e0a8_a056_11e9_bfda_77a786913205row15_col8\" class=\"data row15 col8\" >13.1%</td>\n",
       "            </tr>\n",
       "            <tr>\n",
       "                        <th id=\"T_4405e0a8_a056_11e9_bfda_77a786913205level0_row16\" class=\"row_heading level0 row16\" >Universität für Musik und darstellende Kunst Wien</th>\n",
       "                        <td id=\"T_4405e0a8_a056_11e9_bfda_77a786913205row16_col0\" class=\"data row16 col0\" >0.0%</td>\n",
       "                        <td id=\"T_4405e0a8_a056_11e9_bfda_77a786913205row16_col1\" class=\"data row16 col1\" >0.4%</td>\n",
       "                        <td id=\"T_4405e0a8_a056_11e9_bfda_77a786913205row16_col2\" class=\"data row16 col2\" >13.5%</td>\n",
       "                        <td id=\"T_4405e0a8_a056_11e9_bfda_77a786913205row16_col3\" class=\"data row16 col3\" >48.9%</td>\n",
       "                        <td id=\"T_4405e0a8_a056_11e9_bfda_77a786913205row16_col4\" class=\"data row16 col4\" >0.0%</td>\n",
       "                        <td id=\"T_4405e0a8_a056_11e9_bfda_77a786913205row16_col5\" class=\"data row16 col5\" >9.7%</td>\n",
       "                        <td id=\"T_4405e0a8_a056_11e9_bfda_77a786913205row16_col6\" class=\"data row16 col6\" >19.2%</td>\n",
       "                        <td id=\"T_4405e0a8_a056_11e9_bfda_77a786913205row16_col7\" class=\"data row16 col7\" >8.3%</td>\n",
       "                        <td id=\"T_4405e0a8_a056_11e9_bfda_77a786913205row16_col8\" class=\"data row16 col8\" >0.0%</td>\n",
       "            </tr>\n",
       "            <tr>\n",
       "                        <th id=\"T_4405e0a8_a056_11e9_bfda_77a786913205level0_row17\" class=\"row_heading level0 row17\" >Universität für Weiterbildung Krems</th>\n",
       "                        <td id=\"T_4405e0a8_a056_11e9_bfda_77a786913205row17_col0\" class=\"data row17 col0\" >0.0%</td>\n",
       "                        <td id=\"T_4405e0a8_a056_11e9_bfda_77a786913205row17_col1\" class=\"data row17 col1\" >2.1%</td>\n",
       "                        <td id=\"T_4405e0a8_a056_11e9_bfda_77a786913205row17_col2\" class=\"data row17 col2\" >0.4%</td>\n",
       "                        <td id=\"T_4405e0a8_a056_11e9_bfda_77a786913205row17_col3\" class=\"data row17 col3\" >4.6%</td>\n",
       "                        <td id=\"T_4405e0a8_a056_11e9_bfda_77a786913205row17_col4\" class=\"data row17 col4\" >29.6%</td>\n",
       "                        <td id=\"T_4405e0a8_a056_11e9_bfda_77a786913205row17_col5\" class=\"data row17 col5\" >0.0%</td>\n",
       "                        <td id=\"T_4405e0a8_a056_11e9_bfda_77a786913205row17_col6\" class=\"data row17 col6\" >17.5%</td>\n",
       "                        <td id=\"T_4405e0a8_a056_11e9_bfda_77a786913205row17_col7\" class=\"data row17 col7\" >26.0%</td>\n",
       "                        <td id=\"T_4405e0a8_a056_11e9_bfda_77a786913205row17_col8\" class=\"data row17 col8\" >19.8%</td>\n",
       "            </tr>\n",
       "            <tr>\n",
       "                        <th id=\"T_4405e0a8_a056_11e9_bfda_77a786913205level0_row18\" class=\"row_heading level0 row18\" >Universität für angewandte Kunst Wien</th>\n",
       "                        <td id=\"T_4405e0a8_a056_11e9_bfda_77a786913205row18_col0\" class=\"data row18 col0\" >0.0%</td>\n",
       "                        <td id=\"T_4405e0a8_a056_11e9_bfda_77a786913205row18_col1\" class=\"data row18 col1\" >37.3%</td>\n",
       "                        <td id=\"T_4405e0a8_a056_11e9_bfda_77a786913205row18_col2\" class=\"data row18 col2\" >0.0%</td>\n",
       "                        <td id=\"T_4405e0a8_a056_11e9_bfda_77a786913205row18_col3\" class=\"data row18 col3\" >37.6%</td>\n",
       "                        <td id=\"T_4405e0a8_a056_11e9_bfda_77a786913205row18_col4\" class=\"data row18 col4\" >0.0%</td>\n",
       "                        <td id=\"T_4405e0a8_a056_11e9_bfda_77a786913205row18_col5\" class=\"data row18 col5\" >0.0%</td>\n",
       "                        <td id=\"T_4405e0a8_a056_11e9_bfda_77a786913205row18_col6\" class=\"data row18 col6\" >11.2%</td>\n",
       "                        <td id=\"T_4405e0a8_a056_11e9_bfda_77a786913205row18_col7\" class=\"data row18 col7\" >3.1%</td>\n",
       "                        <td id=\"T_4405e0a8_a056_11e9_bfda_77a786913205row18_col8\" class=\"data row18 col8\" >10.8%</td>\n",
       "            </tr>\n",
       "            <tr>\n",
       "                        <th id=\"T_4405e0a8_a056_11e9_bfda_77a786913205level0_row19\" class=\"row_heading level0 row19\" >Universität für künstlerische und industrielle Gestaltung Linz</th>\n",
       "                        <td id=\"T_4405e0a8_a056_11e9_bfda_77a786913205row19_col0\" class=\"data row19 col0\" >0.0%</td>\n",
       "                        <td id=\"T_4405e0a8_a056_11e9_bfda_77a786913205row19_col1\" class=\"data row19 col1\" >89.8%</td>\n",
       "                        <td id=\"T_4405e0a8_a056_11e9_bfda_77a786913205row19_col2\" class=\"data row19 col2\" >5.4%</td>\n",
       "                        <td id=\"T_4405e0a8_a056_11e9_bfda_77a786913205row19_col3\" class=\"data row19 col3\" >4.8%</td>\n",
       "                        <td id=\"T_4405e0a8_a056_11e9_bfda_77a786913205row19_col4\" class=\"data row19 col4\" >0.0%</td>\n",
       "                        <td id=\"T_4405e0a8_a056_11e9_bfda_77a786913205row19_col5\" class=\"data row19 col5\" >0.0%</td>\n",
       "                        <td id=\"T_4405e0a8_a056_11e9_bfda_77a786913205row19_col6\" class=\"data row19 col6\" >0.0%</td>\n",
       "                        <td id=\"T_4405e0a8_a056_11e9_bfda_77a786913205row19_col7\" class=\"data row19 col7\" >0.0%</td>\n",
       "                        <td id=\"T_4405e0a8_a056_11e9_bfda_77a786913205row19_col8\" class=\"data row19 col8\" >0.0%</td>\n",
       "            </tr>\n",
       "            <tr>\n",
       "                        <th id=\"T_4405e0a8_a056_11e9_bfda_77a786913205level0_row20\" class=\"row_heading level0 row20\" >Veterinärmedizinische Universität Wien</th>\n",
       "                        <td id=\"T_4405e0a8_a056_11e9_bfda_77a786913205row20_col0\" class=\"data row20 col0\" >66.8%</td>\n",
       "                        <td id=\"T_4405e0a8_a056_11e9_bfda_77a786913205row20_col1\" class=\"data row20 col1\" >0.0%</td>\n",
       "                        <td id=\"T_4405e0a8_a056_11e9_bfda_77a786913205row20_col2\" class=\"data row20 col2\" >0.0%</td>\n",
       "                        <td id=\"T_4405e0a8_a056_11e9_bfda_77a786913205row20_col3\" class=\"data row20 col3\" >0.8%</td>\n",
       "                        <td id=\"T_4405e0a8_a056_11e9_bfda_77a786913205row20_col4\" class=\"data row20 col4\" >0.0%</td>\n",
       "                        <td id=\"T_4405e0a8_a056_11e9_bfda_77a786913205row20_col5\" class=\"data row20 col5\" >0.0%</td>\n",
       "                        <td id=\"T_4405e0a8_a056_11e9_bfda_77a786913205row20_col6\" class=\"data row20 col6\" >32.4%</td>\n",
       "                        <td id=\"T_4405e0a8_a056_11e9_bfda_77a786913205row20_col7\" class=\"data row20 col7\" >0.0%</td>\n",
       "                        <td id=\"T_4405e0a8_a056_11e9_bfda_77a786913205row20_col8\" class=\"data row20 col8\" >0.0%</td>\n",
       "            </tr>\n",
       "            <tr>\n",
       "                        <th id=\"T_4405e0a8_a056_11e9_bfda_77a786913205level0_row21\" class=\"row_heading level0 row21\" >Wirtschaftsuniversität Wien</th>\n",
       "                        <td id=\"T_4405e0a8_a056_11e9_bfda_77a786913205row21_col0\" class=\"data row21 col0\" >0.0%</td>\n",
       "                        <td id=\"T_4405e0a8_a056_11e9_bfda_77a786913205row21_col1\" class=\"data row21 col1\" >0.0%</td>\n",
       "                        <td id=\"T_4405e0a8_a056_11e9_bfda_77a786913205row21_col2\" class=\"data row21 col2\" >0.0%</td>\n",
       "                        <td id=\"T_4405e0a8_a056_11e9_bfda_77a786913205row21_col3\" class=\"data row21 col3\" >0.8%</td>\n",
       "                        <td id=\"T_4405e0a8_a056_11e9_bfda_77a786913205row21_col4\" class=\"data row21 col4\" >0.0%</td>\n",
       "                        <td id=\"T_4405e0a8_a056_11e9_bfda_77a786913205row21_col5\" class=\"data row21 col5\" >0.0%</td>\n",
       "                        <td id=\"T_4405e0a8_a056_11e9_bfda_77a786913205row21_col6\" class=\"data row21 col6\" >19.9%</td>\n",
       "                        <td id=\"T_4405e0a8_a056_11e9_bfda_77a786913205row21_col7\" class=\"data row21 col7\" >79.3%</td>\n",
       "                        <td id=\"T_4405e0a8_a056_11e9_bfda_77a786913205row21_col8\" class=\"data row21 col8\" >0.0%</td>\n",
       "            </tr>\n",
       "    </tbody></table>"
      ],
      "text/plain": [
       "<pandas.io.formats.style.Styler at 0x7f93d7a1acf8>"
      ]
     },
     "metadata": {},
     "output_type": "display_data"
    },
    {
     "name": "stdout",
     "output_type": "stream",
     "text": [
      "Das ähnlichste Forschungsprofil der Universität für Bodenkultur Wien: \n"
     ]
    },
    {
     "data": {
      "text/html": [
       "<div>\n",
       "<style scoped>\n",
       "    .dataframe tbody tr th:only-of-type {\n",
       "        vertical-align: middle;\n",
       "    }\n",
       "\n",
       "    .dataframe tbody tr th {\n",
       "        vertical-align: top;\n",
       "    }\n",
       "\n",
       "    .dataframe thead th {\n",
       "        text-align: right;\n",
       "    }\n",
       "</style>\n",
       "<table border=\"1\" class=\"dataframe\">\n",
       "  <thead>\n",
       "    <tr style=\"text-align: right;\">\n",
       "      <th></th>\n",
       "      <th>university</th>\n",
       "      <th>Universität für Bodenkultur Wien</th>\n",
       "    </tr>\n",
       "  </thead>\n",
       "  <tbody>\n",
       "    <tr>\n",
       "      <th>1</th>\n",
       "      <td>Universität Linz</td>\n",
       "      <td>0.248171</td>\n",
       "    </tr>\n",
       "    <tr>\n",
       "      <th>2</th>\n",
       "      <td>Universität Innsbruck</td>\n",
       "      <td>0.250584</td>\n",
       "    </tr>\n",
       "    <tr>\n",
       "      <th>3</th>\n",
       "      <td>Technische Universität Wien</td>\n",
       "      <td>0.313031</td>\n",
       "    </tr>\n",
       "    <tr>\n",
       "      <th>4</th>\n",
       "      <td>Universität Klagenfurt</td>\n",
       "      <td>0.349891</td>\n",
       "    </tr>\n",
       "  </tbody>\n",
       "</table>\n",
       "</div>"
      ],
      "text/plain": [
       "                    university  Universität für Bodenkultur Wien\n",
       "1             Universität Linz                          0.248171\n",
       "2        Universität Innsbruck                          0.250584\n",
       "3  Technische Universität Wien                          0.313031\n",
       "4       Universität Klagenfurt                          0.349891"
      ]
     },
     "metadata": {},
     "output_type": "display_data"
    },
    {
     "name": "stdout",
     "output_type": "stream",
     "text": [
      "Das ähnlichste Forschungsprofil der Universität Wien: \n"
     ]
    },
    {
     "data": {
      "text/html": [
       "<div>\n",
       "<style scoped>\n",
       "    .dataframe tbody tr th:only-of-type {\n",
       "        vertical-align: middle;\n",
       "    }\n",
       "\n",
       "    .dataframe tbody tr th {\n",
       "        vertical-align: top;\n",
       "    }\n",
       "\n",
       "    .dataframe thead th {\n",
       "        text-align: right;\n",
       "    }\n",
       "</style>\n",
       "<table border=\"1\" class=\"dataframe\">\n",
       "  <thead>\n",
       "    <tr style=\"text-align: right;\">\n",
       "      <th></th>\n",
       "      <th>university</th>\n",
       "      <th>Universität Wien</th>\n",
       "    </tr>\n",
       "  </thead>\n",
       "  <tbody>\n",
       "    <tr>\n",
       "      <th>1</th>\n",
       "      <td>Universität Salzburg</td>\n",
       "      <td>0.122553</td>\n",
       "    </tr>\n",
       "    <tr>\n",
       "      <th>2</th>\n",
       "      <td>Universität Graz</td>\n",
       "      <td>0.138953</td>\n",
       "    </tr>\n",
       "    <tr>\n",
       "      <th>3</th>\n",
       "      <td>Universität Innsbruck</td>\n",
       "      <td>0.169516</td>\n",
       "    </tr>\n",
       "    <tr>\n",
       "      <th>4</th>\n",
       "      <td>Universität Klagenfurt</td>\n",
       "      <td>0.290445</td>\n",
       "    </tr>\n",
       "  </tbody>\n",
       "</table>\n",
       "</div>"
      ],
      "text/plain": [
       "               university  Universität Wien\n",
       "1    Universität Salzburg          0.122553\n",
       "2        Universität Graz          0.138953\n",
       "3   Universität Innsbruck          0.169516\n",
       "4  Universität Klagenfurt          0.290445"
      ]
     },
     "metadata": {},
     "output_type": "display_data"
    },
    {
     "name": "stdout",
     "output_type": "stream",
     "text": [
      "Das ähnlichste Forschungsprofil der Technische Universität Graz: \n"
     ]
    },
    {
     "data": {
      "text/html": [
       "<div>\n",
       "<style scoped>\n",
       "    .dataframe tbody tr th:only-of-type {\n",
       "        vertical-align: middle;\n",
       "    }\n",
       "\n",
       "    .dataframe tbody tr th {\n",
       "        vertical-align: top;\n",
       "    }\n",
       "\n",
       "    .dataframe thead th {\n",
       "        text-align: right;\n",
       "    }\n",
       "</style>\n",
       "<table border=\"1\" class=\"dataframe\">\n",
       "  <thead>\n",
       "    <tr style=\"text-align: right;\">\n",
       "      <th></th>\n",
       "      <th>university</th>\n",
       "      <th>Technische Universität Graz</th>\n",
       "    </tr>\n",
       "  </thead>\n",
       "  <tbody>\n",
       "    <tr>\n",
       "      <th>1</th>\n",
       "      <td>Technische Universität Wien</td>\n",
       "      <td>0.144852</td>\n",
       "    </tr>\n",
       "    <tr>\n",
       "      <th>2</th>\n",
       "      <td>Universität Linz</td>\n",
       "      <td>0.278434</td>\n",
       "    </tr>\n",
       "  </tbody>\n",
       "</table>\n",
       "</div>"
      ],
      "text/plain": [
       "                    university  Technische Universität Graz\n",
       "1  Technische Universität Wien                     0.144852\n",
       "2             Universität Linz                     0.278434"
      ]
     },
     "metadata": {},
     "output_type": "display_data"
    },
    {
     "name": "stdout",
     "output_type": "stream",
     "text": [
      "Das ähnlichste Forschungsprofil der Veterinärmedizinische Universität Wien: \n"
     ]
    },
    {
     "data": {
      "text/html": [
       "<div>\n",
       "<style scoped>\n",
       "    .dataframe tbody tr th:only-of-type {\n",
       "        vertical-align: middle;\n",
       "    }\n",
       "\n",
       "    .dataframe tbody tr th {\n",
       "        vertical-align: top;\n",
       "    }\n",
       "\n",
       "    .dataframe thead th {\n",
       "        text-align: right;\n",
       "    }\n",
       "</style>\n",
       "<table border=\"1\" class=\"dataframe\">\n",
       "  <thead>\n",
       "    <tr style=\"text-align: right;\">\n",
       "      <th></th>\n",
       "      <th>university</th>\n",
       "      <th>Veterinärmedizinische Universität Wien</th>\n",
       "    </tr>\n",
       "  </thead>\n",
       "  <tbody>\n",
       "  </tbody>\n",
       "</table>\n",
       "</div>"
      ],
      "text/plain": [
       "Empty DataFrame\n",
       "Columns: [university, Veterinärmedizinische Universität Wien]\n",
       "Index: []"
      ]
     },
     "metadata": {},
     "output_type": "display_data"
    },
    {
     "name": "stdout",
     "output_type": "stream",
     "text": [
      "Das ähnlichste Forschungsprofil der Universität Klagenfurt: \n"
     ]
    },
    {
     "data": {
      "text/html": [
       "<div>\n",
       "<style scoped>\n",
       "    .dataframe tbody tr th:only-of-type {\n",
       "        vertical-align: middle;\n",
       "    }\n",
       "\n",
       "    .dataframe tbody tr th {\n",
       "        vertical-align: top;\n",
       "    }\n",
       "\n",
       "    .dataframe thead th {\n",
       "        text-align: right;\n",
       "    }\n",
       "</style>\n",
       "<table border=\"1\" class=\"dataframe\">\n",
       "  <thead>\n",
       "    <tr style=\"text-align: right;\">\n",
       "      <th></th>\n",
       "      <th>university</th>\n",
       "      <th>Universität Klagenfurt</th>\n",
       "    </tr>\n",
       "  </thead>\n",
       "  <tbody>\n",
       "    <tr>\n",
       "      <th>1</th>\n",
       "      <td>Universität Graz</td>\n",
       "      <td>0.204932</td>\n",
       "    </tr>\n",
       "    <tr>\n",
       "      <th>2</th>\n",
       "      <td>Universität Innsbruck</td>\n",
       "      <td>0.264454</td>\n",
       "    </tr>\n",
       "    <tr>\n",
       "      <th>3</th>\n",
       "      <td>Universität Wien</td>\n",
       "      <td>0.290445</td>\n",
       "    </tr>\n",
       "    <tr>\n",
       "      <th>4</th>\n",
       "      <td>Universität Salzburg</td>\n",
       "      <td>0.339801</td>\n",
       "    </tr>\n",
       "    <tr>\n",
       "      <th>5</th>\n",
       "      <td>Universität für Bodenkultur Wien</td>\n",
       "      <td>0.349891</td>\n",
       "    </tr>\n",
       "    <tr>\n",
       "      <th>6</th>\n",
       "      <td>Universität für Weiterbildung Krems</td>\n",
       "      <td>0.357545</td>\n",
       "    </tr>\n",
       "  </tbody>\n",
       "</table>\n",
       "</div>"
      ],
      "text/plain": [
       "                            university  Universität Klagenfurt\n",
       "1                     Universität Graz                0.204932\n",
       "2                Universität Innsbruck                0.264454\n",
       "3                     Universität Wien                0.290445\n",
       "4                 Universität Salzburg                0.339801\n",
       "5     Universität für Bodenkultur Wien                0.349891\n",
       "6  Universität für Weiterbildung Krems                0.357545"
      ]
     },
     "metadata": {},
     "output_type": "display_data"
    },
    {
     "name": "stdout",
     "output_type": "stream",
     "text": [
      "Das ähnlichste Forschungsprofil der Universität für angewandte Kunst Wien: \n"
     ]
    },
    {
     "data": {
      "text/html": [
       "<div>\n",
       "<style scoped>\n",
       "    .dataframe tbody tr th:only-of-type {\n",
       "        vertical-align: middle;\n",
       "    }\n",
       "\n",
       "    .dataframe tbody tr th {\n",
       "        vertical-align: top;\n",
       "    }\n",
       "\n",
       "    .dataframe thead th {\n",
       "        text-align: right;\n",
       "    }\n",
       "</style>\n",
       "<table border=\"1\" class=\"dataframe\">\n",
       "  <thead>\n",
       "    <tr style=\"text-align: right;\">\n",
       "      <th></th>\n",
       "      <th>university</th>\n",
       "      <th>Universität für angewandte Kunst Wien</th>\n",
       "    </tr>\n",
       "  </thead>\n",
       "  <tbody>\n",
       "    <tr>\n",
       "      <th>1</th>\n",
       "      <td>Akademie der bildenden Künste Wien</td>\n",
       "      <td>0.221015</td>\n",
       "    </tr>\n",
       "  </tbody>\n",
       "</table>\n",
       "</div>"
      ],
      "text/plain": [
       "                           university  Universität für angewandte Kunst Wien\n",
       "1  Akademie der bildenden Künste Wien                               0.221015"
      ]
     },
     "metadata": {},
     "output_type": "display_data"
    },
    {
     "name": "stdout",
     "output_type": "stream",
     "text": [
      "Das ähnlichste Forschungsprofil der Akademie der bildenden Künste Wien: \n"
     ]
    },
    {
     "data": {
      "text/html": [
       "<div>\n",
       "<style scoped>\n",
       "    .dataframe tbody tr th:only-of-type {\n",
       "        vertical-align: middle;\n",
       "    }\n",
       "\n",
       "    .dataframe tbody tr th {\n",
       "        vertical-align: top;\n",
       "    }\n",
       "\n",
       "    .dataframe thead th {\n",
       "        text-align: right;\n",
       "    }\n",
       "</style>\n",
       "<table border=\"1\" class=\"dataframe\">\n",
       "  <thead>\n",
       "    <tr style=\"text-align: right;\">\n",
       "      <th></th>\n",
       "      <th>university</th>\n",
       "      <th>Akademie der bildenden Künste Wien</th>\n",
       "    </tr>\n",
       "  </thead>\n",
       "  <tbody>\n",
       "    <tr>\n",
       "      <th>1</th>\n",
       "      <td>Universität für angewandte Kunst Wien</td>\n",
       "      <td>0.221015</td>\n",
       "    </tr>\n",
       "  </tbody>\n",
       "</table>\n",
       "</div>"
      ],
      "text/plain": [
       "                              university  Akademie der bildenden Künste Wien\n",
       "1  Universität für angewandte Kunst Wien                            0.221015"
      ]
     },
     "metadata": {},
     "output_type": "display_data"
    },
    {
     "name": "stdout",
     "output_type": "stream",
     "text": [
      "Das ähnlichste Forschungsprofil der Universität für Weiterbildung Krems: \n"
     ]
    },
    {
     "data": {
      "text/html": [
       "<div>\n",
       "<style scoped>\n",
       "    .dataframe tbody tr th:only-of-type {\n",
       "        vertical-align: middle;\n",
       "    }\n",
       "\n",
       "    .dataframe tbody tr th {\n",
       "        vertical-align: top;\n",
       "    }\n",
       "\n",
       "    .dataframe thead th {\n",
       "        text-align: right;\n",
       "    }\n",
       "</style>\n",
       "<table border=\"1\" class=\"dataframe\">\n",
       "  <thead>\n",
       "    <tr style=\"text-align: right;\">\n",
       "      <th></th>\n",
       "      <th>university</th>\n",
       "      <th>Universität für Weiterbildung Krems</th>\n",
       "    </tr>\n",
       "  </thead>\n",
       "  <tbody>\n",
       "    <tr>\n",
       "      <th>1</th>\n",
       "      <td>Universität Klagenfurt</td>\n",
       "      <td>0.357545</td>\n",
       "    </tr>\n",
       "  </tbody>\n",
       "</table>\n",
       "</div>"
      ],
      "text/plain": [
       "               university  Universität für Weiterbildung Krems\n",
       "1  Universität Klagenfurt                             0.357545"
      ]
     },
     "metadata": {},
     "output_type": "display_data"
    },
    {
     "name": "stdout",
     "output_type": "stream",
     "text": [
      "Das ähnlichste Forschungsprofil der Universität für Musik und darstellende Kunst Wien: \n"
     ]
    },
    {
     "data": {
      "text/html": [
       "<div>\n",
       "<style scoped>\n",
       "    .dataframe tbody tr th:only-of-type {\n",
       "        vertical-align: middle;\n",
       "    }\n",
       "\n",
       "    .dataframe tbody tr th {\n",
       "        vertical-align: top;\n",
       "    }\n",
       "\n",
       "    .dataframe thead th {\n",
       "        text-align: right;\n",
       "    }\n",
       "</style>\n",
       "<table border=\"1\" class=\"dataframe\">\n",
       "  <thead>\n",
       "    <tr style=\"text-align: right;\">\n",
       "      <th></th>\n",
       "      <th>university</th>\n",
       "      <th>Universität für Musik und darstellende Kunst Wien</th>\n",
       "    </tr>\n",
       "  </thead>\n",
       "  <tbody>\n",
       "  </tbody>\n",
       "</table>\n",
       "</div>"
      ],
      "text/plain": [
       "Empty DataFrame\n",
       "Columns: [university, Universität für Musik und darstellende Kunst Wien]\n",
       "Index: []"
      ]
     },
     "metadata": {},
     "output_type": "display_data"
    },
    {
     "name": "stdout",
     "output_type": "stream",
     "text": [
      "Das ähnlichste Forschungsprofil der Universität Graz: \n"
     ]
    },
    {
     "data": {
      "text/html": [
       "<div>\n",
       "<style scoped>\n",
       "    .dataframe tbody tr th:only-of-type {\n",
       "        vertical-align: middle;\n",
       "    }\n",
       "\n",
       "    .dataframe tbody tr th {\n",
       "        vertical-align: top;\n",
       "    }\n",
       "\n",
       "    .dataframe thead th {\n",
       "        text-align: right;\n",
       "    }\n",
       "</style>\n",
       "<table border=\"1\" class=\"dataframe\">\n",
       "  <thead>\n",
       "    <tr style=\"text-align: right;\">\n",
       "      <th></th>\n",
       "      <th>university</th>\n",
       "      <th>Universität Graz</th>\n",
       "    </tr>\n",
       "  </thead>\n",
       "  <tbody>\n",
       "    <tr>\n",
       "      <th>1</th>\n",
       "      <td>Universität Wien</td>\n",
       "      <td>0.138953</td>\n",
       "    </tr>\n",
       "    <tr>\n",
       "      <th>2</th>\n",
       "      <td>Universität Klagenfurt</td>\n",
       "      <td>0.204932</td>\n",
       "    </tr>\n",
       "    <tr>\n",
       "      <th>3</th>\n",
       "      <td>Universität Salzburg</td>\n",
       "      <td>0.219169</td>\n",
       "    </tr>\n",
       "    <tr>\n",
       "      <th>4</th>\n",
       "      <td>Universität Innsbruck</td>\n",
       "      <td>0.239405</td>\n",
       "    </tr>\n",
       "  </tbody>\n",
       "</table>\n",
       "</div>"
      ],
      "text/plain": [
       "               university  Universität Graz\n",
       "1        Universität Wien          0.138953\n",
       "2  Universität Klagenfurt          0.204932\n",
       "3    Universität Salzburg          0.219169\n",
       "4   Universität Innsbruck          0.239405"
      ]
     },
     "metadata": {},
     "output_type": "display_data"
    },
    {
     "name": "stdout",
     "output_type": "stream",
     "text": [
      "Das ähnlichste Forschungsprofil der Universität Innsbruck: \n"
     ]
    },
    {
     "data": {
      "text/html": [
       "<div>\n",
       "<style scoped>\n",
       "    .dataframe tbody tr th:only-of-type {\n",
       "        vertical-align: middle;\n",
       "    }\n",
       "\n",
       "    .dataframe tbody tr th {\n",
       "        vertical-align: top;\n",
       "    }\n",
       "\n",
       "    .dataframe thead th {\n",
       "        text-align: right;\n",
       "    }\n",
       "</style>\n",
       "<table border=\"1\" class=\"dataframe\">\n",
       "  <thead>\n",
       "    <tr style=\"text-align: right;\">\n",
       "      <th></th>\n",
       "      <th>university</th>\n",
       "      <th>Universität Innsbruck</th>\n",
       "    </tr>\n",
       "  </thead>\n",
       "  <tbody>\n",
       "    <tr>\n",
       "      <th>1</th>\n",
       "      <td>Universität Wien</td>\n",
       "      <td>0.169516</td>\n",
       "    </tr>\n",
       "    <tr>\n",
       "      <th>2</th>\n",
       "      <td>Universität Salzburg</td>\n",
       "      <td>0.196387</td>\n",
       "    </tr>\n",
       "    <tr>\n",
       "      <th>3</th>\n",
       "      <td>Universität Graz</td>\n",
       "      <td>0.239405</td>\n",
       "    </tr>\n",
       "    <tr>\n",
       "      <th>4</th>\n",
       "      <td>Universität für Bodenkultur Wien</td>\n",
       "      <td>0.250584</td>\n",
       "    </tr>\n",
       "    <tr>\n",
       "      <th>5</th>\n",
       "      <td>Universität Klagenfurt</td>\n",
       "      <td>0.264454</td>\n",
       "    </tr>\n",
       "    <tr>\n",
       "      <th>6</th>\n",
       "      <td>Universität Linz</td>\n",
       "      <td>0.275484</td>\n",
       "    </tr>\n",
       "  </tbody>\n",
       "</table>\n",
       "</div>"
      ],
      "text/plain": [
       "                         university  Universität Innsbruck\n",
       "1                  Universität Wien               0.169516\n",
       "2              Universität Salzburg               0.196387\n",
       "3                  Universität Graz               0.239405\n",
       "4  Universität für Bodenkultur Wien               0.250584\n",
       "5            Universität Klagenfurt               0.264454\n",
       "6                  Universität Linz               0.275484"
      ]
     },
     "metadata": {},
     "output_type": "display_data"
    },
    {
     "name": "stdout",
     "output_type": "stream",
     "text": [
      "Das ähnlichste Forschungsprofil der Medizinische Universität Graz: \n"
     ]
    },
    {
     "data": {
      "text/html": [
       "<div>\n",
       "<style scoped>\n",
       "    .dataframe tbody tr th:only-of-type {\n",
       "        vertical-align: middle;\n",
       "    }\n",
       "\n",
       "    .dataframe tbody tr th {\n",
       "        vertical-align: top;\n",
       "    }\n",
       "\n",
       "    .dataframe thead th {\n",
       "        text-align: right;\n",
       "    }\n",
       "</style>\n",
       "<table border=\"1\" class=\"dataframe\">\n",
       "  <thead>\n",
       "    <tr style=\"text-align: right;\">\n",
       "      <th></th>\n",
       "      <th>university</th>\n",
       "      <th>Medizinische Universität Graz</th>\n",
       "    </tr>\n",
       "  </thead>\n",
       "  <tbody>\n",
       "    <tr>\n",
       "      <th>1</th>\n",
       "      <td>Medizinische Universität Innsbruck</td>\n",
       "      <td>0.013279</td>\n",
       "    </tr>\n",
       "    <tr>\n",
       "      <th>2</th>\n",
       "      <td>Medizinische Universität Wien</td>\n",
       "      <td>0.064115</td>\n",
       "    </tr>\n",
       "  </tbody>\n",
       "</table>\n",
       "</div>"
      ],
      "text/plain": [
       "                           university  Medizinische Universität Graz\n",
       "1  Medizinische Universität Innsbruck                       0.013279\n",
       "2       Medizinische Universität Wien                       0.064115"
      ]
     },
     "metadata": {},
     "output_type": "display_data"
    },
    {
     "name": "stdout",
     "output_type": "stream",
     "text": [
      "Das ähnlichste Forschungsprofil der Universität Salzburg: \n"
     ]
    },
    {
     "data": {
      "text/html": [
       "<div>\n",
       "<style scoped>\n",
       "    .dataframe tbody tr th:only-of-type {\n",
       "        vertical-align: middle;\n",
       "    }\n",
       "\n",
       "    .dataframe tbody tr th {\n",
       "        vertical-align: top;\n",
       "    }\n",
       "\n",
       "    .dataframe thead th {\n",
       "        text-align: right;\n",
       "    }\n",
       "</style>\n",
       "<table border=\"1\" class=\"dataframe\">\n",
       "  <thead>\n",
       "    <tr style=\"text-align: right;\">\n",
       "      <th></th>\n",
       "      <th>university</th>\n",
       "      <th>Universität Salzburg</th>\n",
       "    </tr>\n",
       "  </thead>\n",
       "  <tbody>\n",
       "    <tr>\n",
       "      <th>1</th>\n",
       "      <td>Universität Wien</td>\n",
       "      <td>0.122553</td>\n",
       "    </tr>\n",
       "    <tr>\n",
       "      <th>2</th>\n",
       "      <td>Universität Innsbruck</td>\n",
       "      <td>0.196387</td>\n",
       "    </tr>\n",
       "    <tr>\n",
       "      <th>3</th>\n",
       "      <td>Universität Graz</td>\n",
       "      <td>0.219169</td>\n",
       "    </tr>\n",
       "    <tr>\n",
       "      <th>4</th>\n",
       "      <td>Universität Klagenfurt</td>\n",
       "      <td>0.339801</td>\n",
       "    </tr>\n",
       "  </tbody>\n",
       "</table>\n",
       "</div>"
      ],
      "text/plain": [
       "               university  Universität Salzburg\n",
       "1        Universität Wien              0.122553\n",
       "2   Universität Innsbruck              0.196387\n",
       "3        Universität Graz              0.219169\n",
       "4  Universität Klagenfurt              0.339801"
      ]
     },
     "metadata": {},
     "output_type": "display_data"
    },
    {
     "name": "stdout",
     "output_type": "stream",
     "text": [
      "Das ähnlichste Forschungsprofil der Technische Universität Wien: \n"
     ]
    },
    {
     "data": {
      "text/html": [
       "<div>\n",
       "<style scoped>\n",
       "    .dataframe tbody tr th:only-of-type {\n",
       "        vertical-align: middle;\n",
       "    }\n",
       "\n",
       "    .dataframe tbody tr th {\n",
       "        vertical-align: top;\n",
       "    }\n",
       "\n",
       "    .dataframe thead th {\n",
       "        text-align: right;\n",
       "    }\n",
       "</style>\n",
       "<table border=\"1\" class=\"dataframe\">\n",
       "  <thead>\n",
       "    <tr style=\"text-align: right;\">\n",
       "      <th></th>\n",
       "      <th>university</th>\n",
       "      <th>Technische Universität Wien</th>\n",
       "    </tr>\n",
       "  </thead>\n",
       "  <tbody>\n",
       "    <tr>\n",
       "      <th>1</th>\n",
       "      <td>Universität Linz</td>\n",
       "      <td>0.136648</td>\n",
       "    </tr>\n",
       "    <tr>\n",
       "      <th>2</th>\n",
       "      <td>Technische Universität Graz</td>\n",
       "      <td>0.144852</td>\n",
       "    </tr>\n",
       "    <tr>\n",
       "      <th>3</th>\n",
       "      <td>Universität für Bodenkultur Wien</td>\n",
       "      <td>0.313031</td>\n",
       "    </tr>\n",
       "  </tbody>\n",
       "</table>\n",
       "</div>"
      ],
      "text/plain": [
       "                         university  Technische Universität Wien\n",
       "1                  Universität Linz                     0.136648\n",
       "2       Technische Universität Graz                     0.144852\n",
       "3  Universität für Bodenkultur Wien                     0.313031"
      ]
     },
     "metadata": {},
     "output_type": "display_data"
    },
    {
     "name": "stdout",
     "output_type": "stream",
     "text": [
      "Das ähnlichste Forschungsprofil der Wirtschaftsuniversität Wien: \n"
     ]
    },
    {
     "data": {
      "text/html": [
       "<div>\n",
       "<style scoped>\n",
       "    .dataframe tbody tr th:only-of-type {\n",
       "        vertical-align: middle;\n",
       "    }\n",
       "\n",
       "    .dataframe tbody tr th {\n",
       "        vertical-align: top;\n",
       "    }\n",
       "\n",
       "    .dataframe thead th {\n",
       "        text-align: right;\n",
       "    }\n",
       "</style>\n",
       "<table border=\"1\" class=\"dataframe\">\n",
       "  <thead>\n",
       "    <tr style=\"text-align: right;\">\n",
       "      <th></th>\n",
       "      <th>university</th>\n",
       "      <th>Wirtschaftsuniversität Wien</th>\n",
       "    </tr>\n",
       "  </thead>\n",
       "  <tbody>\n",
       "  </tbody>\n",
       "</table>\n",
       "</div>"
      ],
      "text/plain": [
       "Empty DataFrame\n",
       "Columns: [university, Wirtschaftsuniversität Wien]\n",
       "Index: []"
      ]
     },
     "metadata": {},
     "output_type": "display_data"
    },
    {
     "name": "stdout",
     "output_type": "stream",
     "text": [
      "Das ähnlichste Forschungsprofil der Medizinische Universität Wien: \n"
     ]
    },
    {
     "data": {
      "text/html": [
       "<div>\n",
       "<style scoped>\n",
       "    .dataframe tbody tr th:only-of-type {\n",
       "        vertical-align: middle;\n",
       "    }\n",
       "\n",
       "    .dataframe tbody tr th {\n",
       "        vertical-align: top;\n",
       "    }\n",
       "\n",
       "    .dataframe thead th {\n",
       "        text-align: right;\n",
       "    }\n",
       "</style>\n",
       "<table border=\"1\" class=\"dataframe\">\n",
       "  <thead>\n",
       "    <tr style=\"text-align: right;\">\n",
       "      <th></th>\n",
       "      <th>university</th>\n",
       "      <th>Medizinische Universität Wien</th>\n",
       "    </tr>\n",
       "  </thead>\n",
       "  <tbody>\n",
       "    <tr>\n",
       "      <th>1</th>\n",
       "      <td>Medizinische Universität Graz</td>\n",
       "      <td>0.064115</td>\n",
       "    </tr>\n",
       "    <tr>\n",
       "      <th>2</th>\n",
       "      <td>Medizinische Universität Innsbruck</td>\n",
       "      <td>0.076901</td>\n",
       "    </tr>\n",
       "  </tbody>\n",
       "</table>\n",
       "</div>"
      ],
      "text/plain": [
       "                           university  Medizinische Universität Wien\n",
       "1       Medizinische Universität Graz                       0.064115\n",
       "2  Medizinische Universität Innsbruck                       0.076901"
      ]
     },
     "metadata": {},
     "output_type": "display_data"
    },
    {
     "name": "stdout",
     "output_type": "stream",
     "text": [
      "Das ähnlichste Forschungsprofil der Medizinische Universität Innsbruck: \n"
     ]
    },
    {
     "data": {
      "text/html": [
       "<div>\n",
       "<style scoped>\n",
       "    .dataframe tbody tr th:only-of-type {\n",
       "        vertical-align: middle;\n",
       "    }\n",
       "\n",
       "    .dataframe tbody tr th {\n",
       "        vertical-align: top;\n",
       "    }\n",
       "\n",
       "    .dataframe thead th {\n",
       "        text-align: right;\n",
       "    }\n",
       "</style>\n",
       "<table border=\"1\" class=\"dataframe\">\n",
       "  <thead>\n",
       "    <tr style=\"text-align: right;\">\n",
       "      <th></th>\n",
       "      <th>university</th>\n",
       "      <th>Medizinische Universität Innsbruck</th>\n",
       "    </tr>\n",
       "  </thead>\n",
       "  <tbody>\n",
       "    <tr>\n",
       "      <th>1</th>\n",
       "      <td>Medizinische Universität Graz</td>\n",
       "      <td>0.013279</td>\n",
       "    </tr>\n",
       "    <tr>\n",
       "      <th>2</th>\n",
       "      <td>Medizinische Universität Wien</td>\n",
       "      <td>0.076901</td>\n",
       "    </tr>\n",
       "  </tbody>\n",
       "</table>\n",
       "</div>"
      ],
      "text/plain": [
       "                      university  Medizinische Universität Innsbruck\n",
       "1  Medizinische Universität Graz                            0.013279\n",
       "2  Medizinische Universität Wien                            0.076901"
      ]
     },
     "metadata": {},
     "output_type": "display_data"
    },
    {
     "name": "stdout",
     "output_type": "stream",
     "text": [
      "Das ähnlichste Forschungsprofil der Universität Linz: \n"
     ]
    },
    {
     "data": {
      "text/html": [
       "<div>\n",
       "<style scoped>\n",
       "    .dataframe tbody tr th:only-of-type {\n",
       "        vertical-align: middle;\n",
       "    }\n",
       "\n",
       "    .dataframe tbody tr th {\n",
       "        vertical-align: top;\n",
       "    }\n",
       "\n",
       "    .dataframe thead th {\n",
       "        text-align: right;\n",
       "    }\n",
       "</style>\n",
       "<table border=\"1\" class=\"dataframe\">\n",
       "  <thead>\n",
       "    <tr style=\"text-align: right;\">\n",
       "      <th></th>\n",
       "      <th>university</th>\n",
       "      <th>Universität Linz</th>\n",
       "    </tr>\n",
       "  </thead>\n",
       "  <tbody>\n",
       "    <tr>\n",
       "      <th>1</th>\n",
       "      <td>Technische Universität Wien</td>\n",
       "      <td>0.136648</td>\n",
       "    </tr>\n",
       "    <tr>\n",
       "      <th>2</th>\n",
       "      <td>Universität für Bodenkultur Wien</td>\n",
       "      <td>0.248171</td>\n",
       "    </tr>\n",
       "    <tr>\n",
       "      <th>3</th>\n",
       "      <td>Universität Innsbruck</td>\n",
       "      <td>0.275484</td>\n",
       "    </tr>\n",
       "    <tr>\n",
       "      <th>4</th>\n",
       "      <td>Technische Universität Graz</td>\n",
       "      <td>0.278434</td>\n",
       "    </tr>\n",
       "  </tbody>\n",
       "</table>\n",
       "</div>"
      ],
      "text/plain": [
       "                         university  Universität Linz\n",
       "1       Technische Universität Wien          0.136648\n",
       "2  Universität für Bodenkultur Wien          0.248171\n",
       "3             Universität Innsbruck          0.275484\n",
       "4       Technische Universität Graz          0.278434"
      ]
     },
     "metadata": {},
     "output_type": "display_data"
    },
    {
     "name": "stdout",
     "output_type": "stream",
     "text": [
      "Das ähnlichste Forschungsprofil der Montanuniversität Leoben: \n"
     ]
    },
    {
     "data": {
      "text/html": [
       "<div>\n",
       "<style scoped>\n",
       "    .dataframe tbody tr th:only-of-type {\n",
       "        vertical-align: middle;\n",
       "    }\n",
       "\n",
       "    .dataframe tbody tr th {\n",
       "        vertical-align: top;\n",
       "    }\n",
       "\n",
       "    .dataframe thead th {\n",
       "        text-align: right;\n",
       "    }\n",
       "</style>\n",
       "<table border=\"1\" class=\"dataframe\">\n",
       "  <thead>\n",
       "    <tr style=\"text-align: right;\">\n",
       "      <th></th>\n",
       "      <th>university</th>\n",
       "      <th>Montanuniversität Leoben</th>\n",
       "    </tr>\n",
       "  </thead>\n",
       "  <tbody>\n",
       "  </tbody>\n",
       "</table>\n",
       "</div>"
      ],
      "text/plain": [
       "Empty DataFrame\n",
       "Columns: [university, Montanuniversität Leoben]\n",
       "Index: []"
      ]
     },
     "metadata": {},
     "output_type": "display_data"
    },
    {
     "name": "stdout",
     "output_type": "stream",
     "text": [
      "Das ähnlichste Forschungsprofil der Universität für Musik und darstellende Kunst Graz: \n"
     ]
    },
    {
     "data": {
      "text/html": [
       "<div>\n",
       "<style scoped>\n",
       "    .dataframe tbody tr th:only-of-type {\n",
       "        vertical-align: middle;\n",
       "    }\n",
       "\n",
       "    .dataframe tbody tr th {\n",
       "        vertical-align: top;\n",
       "    }\n",
       "\n",
       "    .dataframe thead th {\n",
       "        text-align: right;\n",
       "    }\n",
       "</style>\n",
       "<table border=\"1\" class=\"dataframe\">\n",
       "  <thead>\n",
       "    <tr style=\"text-align: right;\">\n",
       "      <th></th>\n",
       "      <th>university</th>\n",
       "      <th>Universität für Musik und darstellende Kunst Graz</th>\n",
       "    </tr>\n",
       "  </thead>\n",
       "  <tbody>\n",
       "  </tbody>\n",
       "</table>\n",
       "</div>"
      ],
      "text/plain": [
       "Empty DataFrame\n",
       "Columns: [university, Universität für Musik und darstellende Kunst Graz]\n",
       "Index: []"
      ]
     },
     "metadata": {},
     "output_type": "display_data"
    },
    {
     "name": "stdout",
     "output_type": "stream",
     "text": [
      "Das ähnlichste Forschungsprofil der Universität für künstlerische und industrielle Gestaltung Linz: \n"
     ]
    },
    {
     "data": {
      "text/html": [
       "<div>\n",
       "<style scoped>\n",
       "    .dataframe tbody tr th:only-of-type {\n",
       "        vertical-align: middle;\n",
       "    }\n",
       "\n",
       "    .dataframe tbody tr th {\n",
       "        vertical-align: top;\n",
       "    }\n",
       "\n",
       "    .dataframe thead th {\n",
       "        text-align: right;\n",
       "    }\n",
       "</style>\n",
       "<table border=\"1\" class=\"dataframe\">\n",
       "  <thead>\n",
       "    <tr style=\"text-align: right;\">\n",
       "      <th></th>\n",
       "      <th>university</th>\n",
       "      <th>Universität für künstlerische und industrielle Gestaltung Linz</th>\n",
       "    </tr>\n",
       "  </thead>\n",
       "  <tbody>\n",
       "  </tbody>\n",
       "</table>\n",
       "</div>"
      ],
      "text/plain": [
       "Empty DataFrame\n",
       "Columns: [university, Universität für künstlerische und industrielle Gestaltung Linz]\n",
       "Index: []"
      ]
     },
     "metadata": {},
     "output_type": "display_data"
    },
    {
     "name": "stdout",
     "output_type": "stream",
     "text": [
      "Das ähnlichste Forschungsprofil der Universität Mozarteum Salzburg: \n"
     ]
    },
    {
     "data": {
      "text/html": [
       "<div>\n",
       "<style scoped>\n",
       "    .dataframe tbody tr th:only-of-type {\n",
       "        vertical-align: middle;\n",
       "    }\n",
       "\n",
       "    .dataframe tbody tr th {\n",
       "        vertical-align: top;\n",
       "    }\n",
       "\n",
       "    .dataframe thead th {\n",
       "        text-align: right;\n",
       "    }\n",
       "</style>\n",
       "<table border=\"1\" class=\"dataframe\">\n",
       "  <thead>\n",
       "    <tr style=\"text-align: right;\">\n",
       "      <th></th>\n",
       "      <th>university</th>\n",
       "      <th>Universität Mozarteum Salzburg</th>\n",
       "    </tr>\n",
       "  </thead>\n",
       "  <tbody>\n",
       "  </tbody>\n",
       "</table>\n",
       "</div>"
      ],
      "text/plain": [
       "Empty DataFrame\n",
       "Columns: [university, Universität Mozarteum Salzburg]\n",
       "Index: []"
      ]
     },
     "metadata": {},
     "output_type": "display_data"
    },
    {
     "data": {
      "text/html": [
       "<style  type=\"text/css\" >\n",
       "</style><table id=\"T_4424c14e_a056_11e9_bfda_77a786913205\" ><thead>    <tr>        <th class=\"blank level0\" ></th>        <th class=\"col_heading level0 col0\" >index</th>        <th class=\"col_heading level0 col1\" >value</th>    </tr></thead><tbody>\n",
       "                <tr>\n",
       "                        <th id=\"T_4424c14e_a056_11e9_bfda_77a786913205level0_row0\" class=\"row_heading level0 row0\" >1</th>\n",
       "                        <td id=\"T_4424c14e_a056_11e9_bfda_77a786913205row0_col0\" class=\"data row0 col0\" >Medizinische Universität Wien</td>\n",
       "                        <td id=\"T_4424c14e_a056_11e9_bfda_77a786913205row0_col1\" class=\"data row0 col1\" >13.9%</td>\n",
       "            </tr>\n",
       "            <tr>\n",
       "                        <th id=\"T_4424c14e_a056_11e9_bfda_77a786913205level0_row1\" class=\"row_heading level0 row1\" >2</th>\n",
       "                        <td id=\"T_4424c14e_a056_11e9_bfda_77a786913205row1_col0\" class=\"data row1 col0\" >Technische Universität Wien</td>\n",
       "                        <td id=\"T_4424c14e_a056_11e9_bfda_77a786913205row1_col1\" class=\"data row1 col1\" >12.2%</td>\n",
       "            </tr>\n",
       "            <tr>\n",
       "                        <th id=\"T_4424c14e_a056_11e9_bfda_77a786913205level0_row2\" class=\"row_heading level0 row2\" >3</th>\n",
       "                        <td id=\"T_4424c14e_a056_11e9_bfda_77a786913205row2_col0\" class=\"data row2 col0\" >Universität Wien</td>\n",
       "                        <td id=\"T_4424c14e_a056_11e9_bfda_77a786913205row2_col1\" class=\"data row2 col1\" >11.9%</td>\n",
       "            </tr>\n",
       "            <tr>\n",
       "                        <th id=\"T_4424c14e_a056_11e9_bfda_77a786913205level0_row3\" class=\"row_heading level0 row3\" >4</th>\n",
       "                        <td id=\"T_4424c14e_a056_11e9_bfda_77a786913205row3_col0\" class=\"data row3 col0\" >Technische Universität Graz</td>\n",
       "                        <td id=\"T_4424c14e_a056_11e9_bfda_77a786913205row3_col1\" class=\"data row3 col1\" >11.1%</td>\n",
       "            </tr>\n",
       "            <tr>\n",
       "                        <th id=\"T_4424c14e_a056_11e9_bfda_77a786913205level0_row4\" class=\"row_heading level0 row4\" >5</th>\n",
       "                        <td id=\"T_4424c14e_a056_11e9_bfda_77a786913205row4_col0\" class=\"data row4 col0\" >Medizinische Universität Graz</td>\n",
       "                        <td id=\"T_4424c14e_a056_11e9_bfda_77a786913205row4_col1\" class=\"data row4 col1\" >7.0%</td>\n",
       "            </tr>\n",
       "            <tr>\n",
       "                        <th id=\"T_4424c14e_a056_11e9_bfda_77a786913205level0_row5\" class=\"row_heading level0 row5\" >6</th>\n",
       "                        <td id=\"T_4424c14e_a056_11e9_bfda_77a786913205row5_col0\" class=\"data row5 col0\" >Universität Innsbruck</td>\n",
       "                        <td id=\"T_4424c14e_a056_11e9_bfda_77a786913205row5_col1\" class=\"data row5 col1\" >6.9%</td>\n",
       "            </tr>\n",
       "            <tr>\n",
       "                        <th id=\"T_4424c14e_a056_11e9_bfda_77a786913205level0_row6\" class=\"row_heading level0 row6\" >7</th>\n",
       "                        <td id=\"T_4424c14e_a056_11e9_bfda_77a786913205row6_col0\" class=\"data row6 col0\" >Universität für Bodenkultur Wien</td>\n",
       "                        <td id=\"T_4424c14e_a056_11e9_bfda_77a786913205row6_col1\" class=\"data row6 col1\" >6.7%</td>\n",
       "            </tr>\n",
       "            <tr>\n",
       "                        <th id=\"T_4424c14e_a056_11e9_bfda_77a786913205level0_row7\" class=\"row_heading level0 row7\" >8</th>\n",
       "                        <td id=\"T_4424c14e_a056_11e9_bfda_77a786913205row7_col0\" class=\"data row7 col0\" >Montanuniversität Leoben</td>\n",
       "                        <td id=\"T_4424c14e_a056_11e9_bfda_77a786913205row7_col1\" class=\"data row7 col1\" >6.2%</td>\n",
       "            </tr>\n",
       "            <tr>\n",
       "                        <th id=\"T_4424c14e_a056_11e9_bfda_77a786913205level0_row8\" class=\"row_heading level0 row8\" >9</th>\n",
       "                        <td id=\"T_4424c14e_a056_11e9_bfda_77a786913205row8_col0\" class=\"data row8 col0\" >Medizinische Universität Innsbruck</td>\n",
       "                        <td id=\"T_4424c14e_a056_11e9_bfda_77a786913205row8_col1\" class=\"data row8 col1\" >5.9%</td>\n",
       "            </tr>\n",
       "            <tr>\n",
       "                        <th id=\"T_4424c14e_a056_11e9_bfda_77a786913205level0_row9\" class=\"row_heading level0 row9\" >10</th>\n",
       "                        <td id=\"T_4424c14e_a056_11e9_bfda_77a786913205row9_col0\" class=\"data row9 col0\" >Universität Linz</td>\n",
       "                        <td id=\"T_4424c14e_a056_11e9_bfda_77a786913205row9_col1\" class=\"data row9 col1\" >4.1%</td>\n",
       "            </tr>\n",
       "            <tr>\n",
       "                        <th id=\"T_4424c14e_a056_11e9_bfda_77a786913205level0_row10\" class=\"row_heading level0 row10\" >11</th>\n",
       "                        <td id=\"T_4424c14e_a056_11e9_bfda_77a786913205row10_col0\" class=\"data row10 col0\" >Universität Graz</td>\n",
       "                        <td id=\"T_4424c14e_a056_11e9_bfda_77a786913205row10_col1\" class=\"data row10 col1\" >3.9%</td>\n",
       "            </tr>\n",
       "            <tr>\n",
       "                        <th id=\"T_4424c14e_a056_11e9_bfda_77a786913205level0_row11\" class=\"row_heading level0 row11\" >12</th>\n",
       "                        <td id=\"T_4424c14e_a056_11e9_bfda_77a786913205row11_col0\" class=\"data row11 col0\" >Universität Salzburg</td>\n",
       "                        <td id=\"T_4424c14e_a056_11e9_bfda_77a786913205row11_col1\" class=\"data row11 col1\" >2.7%</td>\n",
       "            </tr>\n",
       "            <tr>\n",
       "                        <th id=\"T_4424c14e_a056_11e9_bfda_77a786913205level0_row12\" class=\"row_heading level0 row12\" >13</th>\n",
       "                        <td id=\"T_4424c14e_a056_11e9_bfda_77a786913205row12_col0\" class=\"data row12 col0\" >Veterinärmedizinische Universität Wien</td>\n",
       "                        <td id=\"T_4424c14e_a056_11e9_bfda_77a786913205row12_col1\" class=\"data row12 col1\" >2.4%</td>\n",
       "            </tr>\n",
       "            <tr>\n",
       "                        <th id=\"T_4424c14e_a056_11e9_bfda_77a786913205level0_row13\" class=\"row_heading level0 row13\" >14</th>\n",
       "                        <td id=\"T_4424c14e_a056_11e9_bfda_77a786913205row13_col0\" class=\"data row13 col0\" >Wirtschaftsuniversität Wien</td>\n",
       "                        <td id=\"T_4424c14e_a056_11e9_bfda_77a786913205row13_col1\" class=\"data row13 col1\" >1.8%</td>\n",
       "            </tr>\n",
       "            <tr>\n",
       "                        <th id=\"T_4424c14e_a056_11e9_bfda_77a786913205level0_row14\" class=\"row_heading level0 row14\" >15</th>\n",
       "                        <td id=\"T_4424c14e_a056_11e9_bfda_77a786913205row14_col0\" class=\"data row14 col0\" >Universität Klagenfurt</td>\n",
       "                        <td id=\"T_4424c14e_a056_11e9_bfda_77a786913205row14_col1\" class=\"data row14 col1\" >1.1%</td>\n",
       "            </tr>\n",
       "            <tr>\n",
       "                        <th id=\"T_4424c14e_a056_11e9_bfda_77a786913205level0_row15\" class=\"row_heading level0 row15\" >16</th>\n",
       "                        <td id=\"T_4424c14e_a056_11e9_bfda_77a786913205row15_col0\" class=\"data row15 col0\" >Universität für Weiterbildung Krems</td>\n",
       "                        <td id=\"T_4424c14e_a056_11e9_bfda_77a786913205row15_col1\" class=\"data row15 col1\" >0.9%</td>\n",
       "            </tr>\n",
       "            <tr>\n",
       "                        <th id=\"T_4424c14e_a056_11e9_bfda_77a786913205level0_row16\" class=\"row_heading level0 row16\" >17</th>\n",
       "                        <td id=\"T_4424c14e_a056_11e9_bfda_77a786913205row16_col0\" class=\"data row16 col0\" >Universität für angewandte Kunst Wien</td>\n",
       "                        <td id=\"T_4424c14e_a056_11e9_bfda_77a786913205row16_col1\" class=\"data row16 col1\" >0.3%</td>\n",
       "            </tr>\n",
       "            <tr>\n",
       "                        <th id=\"T_4424c14e_a056_11e9_bfda_77a786913205level0_row17\" class=\"row_heading level0 row17\" >18</th>\n",
       "                        <td id=\"T_4424c14e_a056_11e9_bfda_77a786913205row17_col0\" class=\"data row17 col0\" >Universität für künstlerische und industrielle Gestaltung Linz</td>\n",
       "                        <td id=\"T_4424c14e_a056_11e9_bfda_77a786913205row17_col1\" class=\"data row17 col1\" >0.2%</td>\n",
       "            </tr>\n",
       "            <tr>\n",
       "                        <th id=\"T_4424c14e_a056_11e9_bfda_77a786913205level0_row18\" class=\"row_heading level0 row18\" >19</th>\n",
       "                        <td id=\"T_4424c14e_a056_11e9_bfda_77a786913205row18_col0\" class=\"data row18 col0\" >Akademie der bildenden Künste Wien</td>\n",
       "                        <td id=\"T_4424c14e_a056_11e9_bfda_77a786913205row18_col1\" class=\"data row18 col1\" >0.2%</td>\n",
       "            </tr>\n",
       "            <tr>\n",
       "                        <th id=\"T_4424c14e_a056_11e9_bfda_77a786913205level0_row19\" class=\"row_heading level0 row19\" >20</th>\n",
       "                        <td id=\"T_4424c14e_a056_11e9_bfda_77a786913205row19_col0\" class=\"data row19 col0\" >Universität für Musik und darstellende Kunst Graz</td>\n",
       "                        <td id=\"T_4424c14e_a056_11e9_bfda_77a786913205row19_col1\" class=\"data row19 col1\" >0.2%</td>\n",
       "            </tr>\n",
       "            <tr>\n",
       "                        <th id=\"T_4424c14e_a056_11e9_bfda_77a786913205level0_row20\" class=\"row_heading level0 row20\" >21</th>\n",
       "                        <td id=\"T_4424c14e_a056_11e9_bfda_77a786913205row20_col0\" class=\"data row20 col0\" >Universität Mozarteum Salzburg</td>\n",
       "                        <td id=\"T_4424c14e_a056_11e9_bfda_77a786913205row20_col1\" class=\"data row20 col1\" >0.2%</td>\n",
       "            </tr>\n",
       "            <tr>\n",
       "                        <th id=\"T_4424c14e_a056_11e9_bfda_77a786913205level0_row21\" class=\"row_heading level0 row21\" >22</th>\n",
       "                        <td id=\"T_4424c14e_a056_11e9_bfda_77a786913205row21_col0\" class=\"data row21 col0\" >Universität für Musik und darstellende Kunst Wien</td>\n",
       "                        <td id=\"T_4424c14e_a056_11e9_bfda_77a786913205row21_col1\" class=\"data row21 col1\" >0.2%</td>\n",
       "            </tr>\n",
       "    </tbody></table>"
      ],
      "text/plain": [
       "<pandas.io.formats.style.Styler at 0x7f93d7c5c748>"
      ]
     },
     "metadata": {},
     "output_type": "display_data"
    },
    {
     "name": "stdout",
     "output_type": "stream",
     "text": [
      "Gesamt: 713,776,902 €\n",
      "\n",
      "Universität Wien ist an 3. Stelle\n",
      "Besser sind: \n"
     ]
    },
    {
     "data": {
      "text/html": [
       "<style  type=\"text/css\" >\n",
       "</style><table id=\"T_4425edf8_a056_11e9_bfda_77a786913205\" ><thead>    <tr>        <th class=\"blank level0\" ></th>        <th class=\"col_heading level0 col0\" >index</th>        <th class=\"col_heading level0 col1\" >value</th>    </tr></thead><tbody>\n",
       "                <tr>\n",
       "                        <th id=\"T_4425edf8_a056_11e9_bfda_77a786913205level0_row0\" class=\"row_heading level0 row0\" >1</th>\n",
       "                        <td id=\"T_4425edf8_a056_11e9_bfda_77a786913205row0_col0\" class=\"data row0 col0\" >Medizinische Universität Wien</td>\n",
       "                        <td id=\"T_4425edf8_a056_11e9_bfda_77a786913205row0_col1\" class=\"data row0 col1\" >13.9%</td>\n",
       "            </tr>\n",
       "            <tr>\n",
       "                        <th id=\"T_4425edf8_a056_11e9_bfda_77a786913205level0_row1\" class=\"row_heading level0 row1\" >2</th>\n",
       "                        <td id=\"T_4425edf8_a056_11e9_bfda_77a786913205row1_col0\" class=\"data row1 col0\" >Technische Universität Wien</td>\n",
       "                        <td id=\"T_4425edf8_a056_11e9_bfda_77a786913205row1_col1\" class=\"data row1 col1\" >12.2%</td>\n",
       "            </tr>\n",
       "    </tbody></table>"
      ],
      "text/plain": [
       "<pandas.io.formats.style.Styler at 0x7f93d7a08d68>"
      ]
     },
     "metadata": {},
     "output_type": "display_data"
    },
    {
     "name": "stdout",
     "output_type": "stream",
     "text": [
      "Drittmittelstruktur der Universität Wien:\n"
     ]
    },
    {
     "data": {
      "text/html": [
       "<style  type=\"text/css\" >\n",
       "</style><table id=\"T_4426d92a_a056_11e9_bfda_77a786913205\" ><thead>    <tr>        <th class=\"blank level0\" ></th>        <th class=\"col_heading level0 col0\" >funder</th>        <th class=\"col_heading level0 col1\" >Universität Wien</th>    </tr></thead><tbody>\n",
       "                <tr>\n",
       "                        <th id=\"T_4426d92a_a056_11e9_bfda_77a786913205level0_row0\" class=\"row_heading level0 row0\" >1</th>\n",
       "                        <td id=\"T_4426d92a_a056_11e9_bfda_77a786913205row0_col0\" class=\"data row0 col0\" >FWF</td>\n",
       "                        <td id=\"T_4426d92a_a056_11e9_bfda_77a786913205row0_col1\" class=\"data row0 col1\" >48.3%</td>\n",
       "            </tr>\n",
       "            <tr>\n",
       "                        <th id=\"T_4426d92a_a056_11e9_bfda_77a786913205level0_row1\" class=\"row_heading level0 row1\" >2</th>\n",
       "                        <td id=\"T_4426d92a_a056_11e9_bfda_77a786913205row1_col0\" class=\"data row1 col0\" >EU</td>\n",
       "                        <td id=\"T_4426d92a_a056_11e9_bfda_77a786913205row1_col1\" class=\"data row1 col1\" >16.0%</td>\n",
       "            </tr>\n",
       "            <tr>\n",
       "                        <th id=\"T_4426d92a_a056_11e9_bfda_77a786913205level0_row2\" class=\"row_heading level0 row2\" >3</th>\n",
       "                        <td id=\"T_4426d92a_a056_11e9_bfda_77a786913205row2_col0\" class=\"data row2 col0\" >Länder (inkl. deren Stiftungen und Einrichtungen)</td>\n",
       "                        <td id=\"T_4426d92a_a056_11e9_bfda_77a786913205row2_col1\" class=\"data row2 col1\" >6.6%</td>\n",
       "            </tr>\n",
       "            <tr>\n",
       "                        <th id=\"T_4426d92a_a056_11e9_bfda_77a786913205level0_row3\" class=\"row_heading level0 row3\" >4</th>\n",
       "                        <td id=\"T_4426d92a_a056_11e9_bfda_77a786913205row3_col0\" class=\"data row3 col0\" >sonstige</td>\n",
       "                        <td id=\"T_4426d92a_a056_11e9_bfda_77a786913205row3_col1\" class=\"data row3 col1\" >6.6%</td>\n",
       "            </tr>\n",
       "            <tr>\n",
       "                        <th id=\"T_4426d92a_a056_11e9_bfda_77a786913205level0_row4\" class=\"row_heading level0 row4\" >5</th>\n",
       "                        <td id=\"T_4426d92a_a056_11e9_bfda_77a786913205row4_col0\" class=\"data row4 col0\" >Private (Stiftungen, Vereine, etc.)</td>\n",
       "                        <td id=\"T_4426d92a_a056_11e9_bfda_77a786913205row4_col1\" class=\"data row4 col1\" >5.3%</td>\n",
       "            </tr>\n",
       "            <tr>\n",
       "                        <th id=\"T_4426d92a_a056_11e9_bfda_77a786913205level0_row5\" class=\"row_heading level0 row5\" >6</th>\n",
       "                        <td id=\"T_4426d92a_a056_11e9_bfda_77a786913205row5_col0\" class=\"data row5 col0\" >Bund (Ministerien)</td>\n",
       "                        <td id=\"T_4426d92a_a056_11e9_bfda_77a786913205row5_col1\" class=\"data row5 col1\" >4.2%</td>\n",
       "            </tr>\n",
       "            <tr>\n",
       "                        <th id=\"T_4426d92a_a056_11e9_bfda_77a786913205level0_row6\" class=\"row_heading level0 row6\" >7</th>\n",
       "                        <td id=\"T_4426d92a_a056_11e9_bfda_77a786913205row6_col0\" class=\"data row6 col0\" >Unternehmen</td>\n",
       "                        <td id=\"T_4426d92a_a056_11e9_bfda_77a786913205row6_col1\" class=\"data row6 col1\" >3.8%</td>\n",
       "            </tr>\n",
       "            <tr>\n",
       "                        <th id=\"T_4426d92a_a056_11e9_bfda_77a786913205level0_row7\" class=\"row_heading level0 row7\" >8</th>\n",
       "                        <td id=\"T_4426d92a_a056_11e9_bfda_77a786913205row7_col0\" class=\"data row7 col0\" >FFG</td>\n",
       "                        <td id=\"T_4426d92a_a056_11e9_bfda_77a786913205row7_col1\" class=\"data row7 col1\" >2.8%</td>\n",
       "            </tr>\n",
       "            <tr>\n",
       "                        <th id=\"T_4426d92a_a056_11e9_bfda_77a786913205level0_row8\" class=\"row_heading level0 row8\" >9</th>\n",
       "                        <td id=\"T_4426d92a_a056_11e9_bfda_77a786913205row8_col0\" class=\"data row8 col0\" >ÖAW</td>\n",
       "                        <td id=\"T_4426d92a_a056_11e9_bfda_77a786913205row8_col1\" class=\"data row8 col1\" >2.6%</td>\n",
       "            </tr>\n",
       "            <tr>\n",
       "                        <th id=\"T_4426d92a_a056_11e9_bfda_77a786913205level0_row9\" class=\"row_heading level0 row9\" >10</th>\n",
       "                        <td id=\"T_4426d92a_a056_11e9_bfda_77a786913205row9_col0\" class=\"data row9 col0\" >sonstige öffentlich-rechtliche Einrichtungen (Körperschaften, Stiftungen, Fonds etc.)</td>\n",
       "                        <td id=\"T_4426d92a_a056_11e9_bfda_77a786913205row9_col1\" class=\"data row9 col1\" >2.3%</td>\n",
       "            </tr>\n",
       "            <tr>\n",
       "                        <th id=\"T_4426d92a_a056_11e9_bfda_77a786913205level0_row10\" class=\"row_heading level0 row10\" >11</th>\n",
       "                        <td id=\"T_4426d92a_a056_11e9_bfda_77a786913205row10_col0\" class=\"data row10 col0\" >Jubiläumsfonds der ÖNB</td>\n",
       "                        <td id=\"T_4426d92a_a056_11e9_bfda_77a786913205row10_col1\" class=\"data row10 col1\" >1.0%</td>\n",
       "            </tr>\n",
       "            <tr>\n",
       "                        <th id=\"T_4426d92a_a056_11e9_bfda_77a786913205level0_row11\" class=\"row_heading level0 row11\" >12</th>\n",
       "                        <td id=\"T_4426d92a_a056_11e9_bfda_77a786913205row11_col0\" class=\"data row11 col0\" >andere internationale Organisationen</td>\n",
       "                        <td id=\"T_4426d92a_a056_11e9_bfda_77a786913205row11_col1\" class=\"data row11 col1\" >0.4%</td>\n",
       "            </tr>\n",
       "            <tr>\n",
       "                        <th id=\"T_4426d92a_a056_11e9_bfda_77a786913205level0_row12\" class=\"row_heading level0 row12\" >13</th>\n",
       "                        <td id=\"T_4426d92a_a056_11e9_bfda_77a786913205row12_col0\" class=\"data row12 col0\" >Gemeinden und Gemeindeverbände (ohne Wien)</td>\n",
       "                        <td id=\"T_4426d92a_a056_11e9_bfda_77a786913205row12_col1\" class=\"data row12 col1\" >0.1%</td>\n",
       "            </tr>\n",
       "            <tr>\n",
       "                        <th id=\"T_4426d92a_a056_11e9_bfda_77a786913205level0_row13\" class=\"row_heading level0 row13\" >14</th>\n",
       "                        <td id=\"T_4426d92a_a056_11e9_bfda_77a786913205row13_col0\" class=\"data row13 col0\" >nicht bekannt / nicht zuordenbar</td>\n",
       "                        <td id=\"T_4426d92a_a056_11e9_bfda_77a786913205row13_col1\" class=\"data row13 col1\" >0.0%</td>\n",
       "            </tr>\n",
       "    </tbody></table>"
      ],
      "text/plain": [
       "<pandas.io.formats.style.Styler at 0x7f93d7a087b8>"
      ]
     },
     "metadata": {},
     "output_type": "display_data"
    },
    {
     "data": {
      "text/html": [
       "<style  type=\"text/css\" >\n",
       "</style><table id=\"T_4427c466_a056_11e9_bfda_77a786913205\" ><thead>    <tr>        <th class=\"blank level0\" ></th>        <th class=\"col_heading level0 col0\" >funder</th>        <th class=\"col_heading level0 col1\" >Universität für angewandte Kunst Wien</th>    </tr></thead><tbody>\n",
       "                <tr>\n",
       "                        <th id=\"T_4427c466_a056_11e9_bfda_77a786913205level0_row0\" class=\"row_heading level0 row0\" >1</th>\n",
       "                        <td id=\"T_4427c466_a056_11e9_bfda_77a786913205row0_col0\" class=\"data row0 col0\" >FWF</td>\n",
       "                        <td id=\"T_4427c466_a056_11e9_bfda_77a786913205row0_col1\" class=\"data row0 col1\" >52.2%</td>\n",
       "            </tr>\n",
       "            <tr>\n",
       "                        <th id=\"T_4427c466_a056_11e9_bfda_77a786913205level0_row1\" class=\"row_heading level0 row1\" >2</th>\n",
       "                        <td id=\"T_4427c466_a056_11e9_bfda_77a786913205row1_col0\" class=\"data row1 col0\" >EU</td>\n",
       "                        <td id=\"T_4427c466_a056_11e9_bfda_77a786913205row1_col1\" class=\"data row1 col1\" >9.6%</td>\n",
       "            </tr>\n",
       "            <tr>\n",
       "                        <th id=\"T_4427c466_a056_11e9_bfda_77a786913205level0_row2\" class=\"row_heading level0 row2\" >3</th>\n",
       "                        <td id=\"T_4427c466_a056_11e9_bfda_77a786913205row2_col0\" class=\"data row2 col0\" >Unternehmen</td>\n",
       "                        <td id=\"T_4427c466_a056_11e9_bfda_77a786913205row2_col1\" class=\"data row2 col1\" >7.7%</td>\n",
       "            </tr>\n",
       "            <tr>\n",
       "                        <th id=\"T_4427c466_a056_11e9_bfda_77a786913205level0_row3\" class=\"row_heading level0 row3\" >4</th>\n",
       "                        <td id=\"T_4427c466_a056_11e9_bfda_77a786913205row3_col0\" class=\"data row3 col0\" >Bund (Ministerien)</td>\n",
       "                        <td id=\"T_4427c466_a056_11e9_bfda_77a786913205row3_col1\" class=\"data row3 col1\" >6.6%</td>\n",
       "            </tr>\n",
       "            <tr>\n",
       "                        <th id=\"T_4427c466_a056_11e9_bfda_77a786913205level0_row4\" class=\"row_heading level0 row4\" >5</th>\n",
       "                        <td id=\"T_4427c466_a056_11e9_bfda_77a786913205row4_col0\" class=\"data row4 col0\" >Private (Stiftungen, Vereine, etc.)</td>\n",
       "                        <td id=\"T_4427c466_a056_11e9_bfda_77a786913205row4_col1\" class=\"data row4 col1\" >6.1%</td>\n",
       "            </tr>\n",
       "            <tr>\n",
       "                        <th id=\"T_4427c466_a056_11e9_bfda_77a786913205level0_row5\" class=\"row_heading level0 row5\" >6</th>\n",
       "                        <td id=\"T_4427c466_a056_11e9_bfda_77a786913205row5_col0\" class=\"data row5 col0\" >sonstige</td>\n",
       "                        <td id=\"T_4427c466_a056_11e9_bfda_77a786913205row5_col1\" class=\"data row5 col1\" >5.0%</td>\n",
       "            </tr>\n",
       "            <tr>\n",
       "                        <th id=\"T_4427c466_a056_11e9_bfda_77a786913205level0_row6\" class=\"row_heading level0 row6\" >7</th>\n",
       "                        <td id=\"T_4427c466_a056_11e9_bfda_77a786913205row6_col0\" class=\"data row6 col0\" >sonstige öffentlich-rechtliche Einrichtungen (Körperschaften, Stiftungen, Fonds etc.)</td>\n",
       "                        <td id=\"T_4427c466_a056_11e9_bfda_77a786913205row6_col1\" class=\"data row6 col1\" >4.7%</td>\n",
       "            </tr>\n",
       "            <tr>\n",
       "                        <th id=\"T_4427c466_a056_11e9_bfda_77a786913205level0_row7\" class=\"row_heading level0 row7\" >8</th>\n",
       "                        <td id=\"T_4427c466_a056_11e9_bfda_77a786913205row7_col0\" class=\"data row7 col0\" >ÖAW</td>\n",
       "                        <td id=\"T_4427c466_a056_11e9_bfda_77a786913205row7_col1\" class=\"data row7 col1\" >4.0%</td>\n",
       "            </tr>\n",
       "            <tr>\n",
       "                        <th id=\"T_4427c466_a056_11e9_bfda_77a786913205level0_row8\" class=\"row_heading level0 row8\" >9</th>\n",
       "                        <td id=\"T_4427c466_a056_11e9_bfda_77a786913205row8_col0\" class=\"data row8 col0\" >Länder (inkl. deren Stiftungen und Einrichtungen)</td>\n",
       "                        <td id=\"T_4427c466_a056_11e9_bfda_77a786913205row8_col1\" class=\"data row8 col1\" >2.2%</td>\n",
       "            </tr>\n",
       "            <tr>\n",
       "                        <th id=\"T_4427c466_a056_11e9_bfda_77a786913205level0_row9\" class=\"row_heading level0 row9\" >10</th>\n",
       "                        <td id=\"T_4427c466_a056_11e9_bfda_77a786913205row9_col0\" class=\"data row9 col0\" >FFG</td>\n",
       "                        <td id=\"T_4427c466_a056_11e9_bfda_77a786913205row9_col1\" class=\"data row9 col1\" >1.9%</td>\n",
       "            </tr>\n",
       "            <tr>\n",
       "                        <th id=\"T_4427c466_a056_11e9_bfda_77a786913205level0_row10\" class=\"row_heading level0 row10\" >11</th>\n",
       "                        <td id=\"T_4427c466_a056_11e9_bfda_77a786913205row10_col0\" class=\"data row10 col0\" >andere internationale Organisationen</td>\n",
       "                        <td id=\"T_4427c466_a056_11e9_bfda_77a786913205row10_col1\" class=\"data row10 col1\" >0.1%</td>\n",
       "            </tr>\n",
       "            <tr>\n",
       "                        <th id=\"T_4427c466_a056_11e9_bfda_77a786913205level0_row11\" class=\"row_heading level0 row11\" >12</th>\n",
       "                        <td id=\"T_4427c466_a056_11e9_bfda_77a786913205row11_col0\" class=\"data row11 col0\" >nicht bekannt / nicht zuordenbar</td>\n",
       "                        <td id=\"T_4427c466_a056_11e9_bfda_77a786913205row11_col1\" class=\"data row11 col1\" >0.0%</td>\n",
       "            </tr>\n",
       "            <tr>\n",
       "                        <th id=\"T_4427c466_a056_11e9_bfda_77a786913205level0_row12\" class=\"row_heading level0 row12\" >13</th>\n",
       "                        <td id=\"T_4427c466_a056_11e9_bfda_77a786913205row12_col0\" class=\"data row12 col0\" >Jubiläumsfonds der ÖNB</td>\n",
       "                        <td id=\"T_4427c466_a056_11e9_bfda_77a786913205row12_col1\" class=\"data row12 col1\" >0.0%</td>\n",
       "            </tr>\n",
       "            <tr>\n",
       "                        <th id=\"T_4427c466_a056_11e9_bfda_77a786913205level0_row13\" class=\"row_heading level0 row13\" >14</th>\n",
       "                        <td id=\"T_4427c466_a056_11e9_bfda_77a786913205row13_col0\" class=\"data row13 col0\" >Gemeinden und Gemeindeverbände (ohne Wien)</td>\n",
       "                        <td id=\"T_4427c466_a056_11e9_bfda_77a786913205row13_col1\" class=\"data row13 col1\" >0.0%</td>\n",
       "            </tr>\n",
       "    </tbody></table>"
      ],
      "text/plain": [
       "<pandas.io.formats.style.Styler at 0x7f93d79adba8>"
      ]
     },
     "metadata": {},
     "output_type": "display_data"
    },
    {
     "name": "stdout",
     "output_type": "stream",
     "text": [
      "Die Top-10 Universitäten sind: \n"
     ]
    },
    {
     "data": {
      "text/html": [
       "<style  type=\"text/css\" >\n",
       "</style><table id=\"T_44286394_a056_11e9_bfda_77a786913205\" ><thead>    <tr>        <th class=\"blank level0\" ></th>        <th class=\"col_heading level0 col0\" >index</th>        <th class=\"col_heading level0 col1\" >value</th>    </tr></thead><tbody>\n",
       "                <tr>\n",
       "                        <th id=\"T_44286394_a056_11e9_bfda_77a786913205level0_row0\" class=\"row_heading level0 row0\" >1</th>\n",
       "                        <td id=\"T_44286394_a056_11e9_bfda_77a786913205row0_col0\" class=\"data row0 col0\" >Medizinische Universität Wien</td>\n",
       "                        <td id=\"T_44286394_a056_11e9_bfda_77a786913205row0_col1\" class=\"data row0 col1\" >13.9%</td>\n",
       "            </tr>\n",
       "            <tr>\n",
       "                        <th id=\"T_44286394_a056_11e9_bfda_77a786913205level0_row1\" class=\"row_heading level0 row1\" >2</th>\n",
       "                        <td id=\"T_44286394_a056_11e9_bfda_77a786913205row1_col0\" class=\"data row1 col0\" >Technische Universität Wien</td>\n",
       "                        <td id=\"T_44286394_a056_11e9_bfda_77a786913205row1_col1\" class=\"data row1 col1\" >12.2%</td>\n",
       "            </tr>\n",
       "            <tr>\n",
       "                        <th id=\"T_44286394_a056_11e9_bfda_77a786913205level0_row2\" class=\"row_heading level0 row2\" >3</th>\n",
       "                        <td id=\"T_44286394_a056_11e9_bfda_77a786913205row2_col0\" class=\"data row2 col0\" >Universität Wien</td>\n",
       "                        <td id=\"T_44286394_a056_11e9_bfda_77a786913205row2_col1\" class=\"data row2 col1\" >11.9%</td>\n",
       "            </tr>\n",
       "            <tr>\n",
       "                        <th id=\"T_44286394_a056_11e9_bfda_77a786913205level0_row3\" class=\"row_heading level0 row3\" >4</th>\n",
       "                        <td id=\"T_44286394_a056_11e9_bfda_77a786913205row3_col0\" class=\"data row3 col0\" >Technische Universität Graz</td>\n",
       "                        <td id=\"T_44286394_a056_11e9_bfda_77a786913205row3_col1\" class=\"data row3 col1\" >11.1%</td>\n",
       "            </tr>\n",
       "            <tr>\n",
       "                        <th id=\"T_44286394_a056_11e9_bfda_77a786913205level0_row4\" class=\"row_heading level0 row4\" >5</th>\n",
       "                        <td id=\"T_44286394_a056_11e9_bfda_77a786913205row4_col0\" class=\"data row4 col0\" >Medizinische Universität Graz</td>\n",
       "                        <td id=\"T_44286394_a056_11e9_bfda_77a786913205row4_col1\" class=\"data row4 col1\" >7.0%</td>\n",
       "            </tr>\n",
       "            <tr>\n",
       "                        <th id=\"T_44286394_a056_11e9_bfda_77a786913205level0_row5\" class=\"row_heading level0 row5\" >6</th>\n",
       "                        <td id=\"T_44286394_a056_11e9_bfda_77a786913205row5_col0\" class=\"data row5 col0\" >Universität Innsbruck</td>\n",
       "                        <td id=\"T_44286394_a056_11e9_bfda_77a786913205row5_col1\" class=\"data row5 col1\" >6.9%</td>\n",
       "            </tr>\n",
       "            <tr>\n",
       "                        <th id=\"T_44286394_a056_11e9_bfda_77a786913205level0_row6\" class=\"row_heading level0 row6\" >7</th>\n",
       "                        <td id=\"T_44286394_a056_11e9_bfda_77a786913205row6_col0\" class=\"data row6 col0\" >Universität für Bodenkultur Wien</td>\n",
       "                        <td id=\"T_44286394_a056_11e9_bfda_77a786913205row6_col1\" class=\"data row6 col1\" >6.7%</td>\n",
       "            </tr>\n",
       "            <tr>\n",
       "                        <th id=\"T_44286394_a056_11e9_bfda_77a786913205level0_row7\" class=\"row_heading level0 row7\" >8</th>\n",
       "                        <td id=\"T_44286394_a056_11e9_bfda_77a786913205row7_col0\" class=\"data row7 col0\" >Montanuniversität Leoben</td>\n",
       "                        <td id=\"T_44286394_a056_11e9_bfda_77a786913205row7_col1\" class=\"data row7 col1\" >6.2%</td>\n",
       "            </tr>\n",
       "            <tr>\n",
       "                        <th id=\"T_44286394_a056_11e9_bfda_77a786913205level0_row8\" class=\"row_heading level0 row8\" >9</th>\n",
       "                        <td id=\"T_44286394_a056_11e9_bfda_77a786913205row8_col0\" class=\"data row8 col0\" >Medizinische Universität Innsbruck</td>\n",
       "                        <td id=\"T_44286394_a056_11e9_bfda_77a786913205row8_col1\" class=\"data row8 col1\" >5.9%</td>\n",
       "            </tr>\n",
       "            <tr>\n",
       "                        <th id=\"T_44286394_a056_11e9_bfda_77a786913205level0_row9\" class=\"row_heading level0 row9\" >10</th>\n",
       "                        <td id=\"T_44286394_a056_11e9_bfda_77a786913205row9_col0\" class=\"data row9 col0\" >Universität Linz</td>\n",
       "                        <td id=\"T_44286394_a056_11e9_bfda_77a786913205row9_col1\" class=\"data row9 col1\" >4.1%</td>\n",
       "            </tr>\n",
       "    </tbody></table>"
      ],
      "text/plain": [
       "<pandas.io.formats.style.Styler at 0x7f93d7c51080>"
      ]
     },
     "metadata": {},
     "output_type": "display_data"
    }
   ],
   "source": [
    "\n",
    "class Dimension:\n",
    "    @classmethod\n",
    "    def create(cls, dataframe, dimensions):\n",
    "        dims = list()\n",
    "        for dim in dimensions:\n",
    "            assert dim in dataframe, \"There is no column '\" + dim + \"'\"\n",
    "            cats = dataframe[dim].unique()\n",
    "            dims.append(Dimension(dim, cats))\n",
    "        return dims\n",
    "        \n",
    "    def __init__(self, name, categories):\n",
    "        self.__name = name\n",
    "        self.__categories = categories\n",
    "        \n",
    "class Analysis:\n",
    "    def __init__(self, datasheet, description, about, dataframe):\n",
    "        self.__sheet = datasheet\n",
    "        self.__data = pd.pivot_table(dataframe, fill_value=0, aggfunc=np.sum,\n",
    "                                     values=datasheet.value_column_name,\n",
    "                                     index=[datasheet.university_column_name],\n",
    "                                     columns=about)\n",
    "        if isinstance(about, list):\n",
    "            self.__about = about\n",
    "        else:\n",
    "            self.__about = [about]\n",
    "        self.__description = description\n",
    "        self.__columns_total = self.__data.agg(['sum'], axis='columns')['sum']\n",
    "        self.__rows_total = self.__data.agg(['sum'], axis='rows')\n",
    "        self.__universities = dataframe[datasheet.university_column_name].unique()\n",
    "        \n",
    "    horizontal = \"rows\"\n",
    "    vertical = \"columns\"\n",
    "        \n",
    "    @property\n",
    "    def table(self):\n",
    "        return self.__data\n",
    "    @property\n",
    "    def description(self):\n",
    "        return self.__description\n",
    "    @property\n",
    "    def datasheet(self):\n",
    "        return self.__sheet  \n",
    "    @property\n",
    "    def about(self):\n",
    "        return self.__about\n",
    "    @property\n",
    "    def horizontal_total(self):\n",
    "        return self.__columns_total\n",
    "    @property\n",
    "    def vertical_total(self):\n",
    "        return self.__rows_total    \n",
    "    @property\n",
    "    def universities(self):\n",
    "        return self.__universities\n",
    "        \n",
    "class Ranking:\n",
    "    def __init__(self, analysis):\n",
    "        self.__analysis = analysis\n",
    "        self.__ranking = analysis.horizontal_total.div(analysis.horizontal_total.sum()). \\\n",
    "                            sort_values(ascending=False).reset_index()\n",
    "        self.__ranking = self.__ranking.rename(index=int, columns={'sum': 'value'})\n",
    "        self.__ranking.index += 1\n",
    "    \n",
    "    @property\n",
    "    def ranking(self):\n",
    "        return self.__ranking\n",
    "    \n",
    "    def rank_of(self, university):\n",
    "        assert university in self.__analysis.universities, university + \" is not included in this analysis\"\n",
    "        ranking = self.ranking\n",
    "        idx = ranking.loc[ranking['index'] == university].index\n",
    "        assert len(idx) == 1\n",
    "        return int(idx[0])\n",
    "    \n",
    "    def better_rank_than(self, university):\n",
    "        rank = int(self.rank_of(university))\n",
    "        return self.top(rank-1)\n",
    "    \n",
    "    def top(self, rank):\n",
    "        ranking = self.ranking\n",
    "        return ranking.loc[ranking.index <= rank]        \n",
    "        \n",
    "        \n",
    "class Structure:\n",
    "    def __init__(self, analysis):\n",
    "        self.__analysis = analysis\n",
    "        #self.__avg = analysis.dataframe.agg(['mean'], axis='columns')['mean']\n",
    "        self.__structure = analysis.table.div(analysis.horizontal_total, axis=Analysis.horizontal)\n",
    "        self.__total_structure = analysis.vertical_total.div(analysis.vertical_total.iloc[0].sum())      \n",
    "        self.__reverse_structure = analysis.table.div(analysis.vertical_total.iloc[0])\n",
    "        self.__reverse_total_structure = analysis.horizontal_total.div(analysis.horizontal_total.sum()). \\\n",
    "                                            sort_values(ascending=False).reset_index()\n",
    "        self.__reverse_total_structure.index += 1       \n",
    "        self.__similarity_matrix = Similarity(analysis, self.__structure)\n",
    "        #display(self.__structure.style.format('{0:.1%}'))\n",
    "        #display(self.__reverse_structure.style.format('{0:.1%}'))\n",
    "        #display(self.__total_structure.style.format('{0:.1%}'))        \n",
    "        #print(self.__reverse_total_structure)\n",
    "        \n",
    "    @property\n",
    "    def total(self):\n",
    "        assert self.__analysis.horizontal_total.sum() == self.__analysis.vertical_total.iloc[0].sum()\n",
    "        return self.__analysis.horizontal_total.sum()\n",
    "\n",
    "    @property\n",
    "    def table(self):\n",
    "        return self.__structure\n",
    "\n",
    "    @property\n",
    "    def similarities(self):\n",
    "        return self.__similarity_matrix\n",
    "    \n",
    "    def structure_of(self, university):\n",
    "        assert university in self.__analysis.universities, university + \" is not included in this analysis\"\n",
    "        tmp = self.__structure.loc[university].sort_values(ascending=False).reset_index()\n",
    "        tmp.index += 1\n",
    "        return tmp\n",
    "\n",
    "class Datasheet:\n",
    "    def __init__(self, dataframe, dimensions, timepoint_name, university_name, value_name):\n",
    "        assert timepoint_name in dataframe, \"There is no column '\" + timepoint_name + \"'\"\n",
    "        assert university_name in dataframe, \"There is no column '\" + university_name + \"'\"\n",
    "        assert value_name in dataframe, \"There is no colum with valid data called '\" + value_name + \"'\"\n",
    "        self.__dataframe = dataframe\n",
    "        self.__timepoint_column = timepoint_name\n",
    "        self.__university_column = university_name\n",
    "        self.__value_column = value_name       \n",
    "        self.__dimensions = Dimension.create(dataframe, dimensions)\n",
    "        self.__timepoints = dataframe[timepoint_name].unique()\n",
    "        self.__universities = dataframe[university_name].unique()\n",
    "        self.__current_timepoint = dataframe[timepoint_name].max()\n",
    "        \n",
    "    @property\n",
    "    def value_column_name(self):\n",
    "        return self.__value_column\n",
    "    @property\n",
    "    def university_column_name(self):\n",
    "        return self.__university_column\n",
    "    @property\n",
    "    def most_recent(self):\n",
    "        return self.__current_timepoint\n",
    "    \n",
    "    def only(self, conditions):\n",
    "        df = self.__dataframe\n",
    "        for cond_column, cond_filter in conditions.items():\n",
    "            if isinstance(cond_filter, list):\n",
    "                df = df[df[cond_column].isin(cond_filter)]\n",
    "            else:\n",
    "                df = df[df[cond_column] == cond_filter]\n",
    "        return df\n",
    "    \n",
    "    def analyze(self, description, about, filtering):\n",
    "        return Analysis(self, description, about, self.only(filtering))        \n",
    "              \n",
    "        \n",
    "            \n",
    "class Similarity:\n",
    "    def __init__(self, analysis, table):\n",
    "        self.__table = table\n",
    "        self.__analysis = analysis\n",
    "        \n",
    "        unis = analysis.universities\n",
    "        distances = pd.DataFrame(columns=['base', 'university', 'distance'])\n",
    "        \n",
    "        for uni in analysis.universities:\n",
    "            dist = pd.DataFrame(columns=['base', 'university', 'distance'])       \n",
    "            dist[['university', 'distance']] = self.__to(uni)\n",
    "            dist[['base']] = uni\n",
    "            distances = pd.merge(distances, dist, how='outer')\n",
    "        self.__matrix = distances.set_index(['base', 'university']).unstack()\n",
    "        \n",
    "        upper_triangle = np.triu(np.ones(self.__matrix.shape), 1).astype(np.bool)\n",
    "        distances = self.__matrix.where(upper_triangle).stack().reset_index()        \n",
    "        self.__distances = distances\n",
    "        #print(distances.distance.describe())\n",
    "        \n",
    "    @property\n",
    "    def matrix(self):\n",
    "        return self.__matrix\n",
    "        \n",
    "    def __to(self, university):\n",
    "        tbl = self.__table\n",
    "        base_row = tbl.loc[university]\n",
    "        dists = ((tbl.sub(base_row)**2).sum(Analysis.vertical)**(1/2)).reset_index()\n",
    "        return dists\n",
    "    \n",
    "    def to(self, university):\n",
    "        m = self.matrix\n",
    "        return m.loc[university].sort_values()[1:]\n",
    "    \n",
    "    def most_similar_to(self, university, quantile=0.2):\n",
    "        m = self.matrix\n",
    "        q = self.__distances.distance.quantile(quantile)\n",
    "        \n",
    "        s = m.loc[university]\n",
    "        return s[s < q].sort_values().reset_index().drop(columns='level_0')[1:]\n",
    "    \n",
    "    \n",
    "        \n",
    "funding = Datasheet(raw_data, ['funder', 'fos'], 'year', 'university', 'funding')\n",
    "\n",
    "analysis = funding.analyze('Drittmittelanalyse', 'funder', {'year': funding.most_recent})\n",
    "uni = \"Universität Wien\"\n",
    "\n",
    "s = Structure(analysis)\n",
    "r = Ranking(analysis)\n",
    "\n",
    "    \n",
    "analysis2 = funding.analyze('Forschungsprofil', 'fos', {'year': funding.most_recent})\n",
    "s2 = Structure(analysis2)\n",
    "\n",
    "display(s2.table.style.format('{:.1%}'))\n",
    "\n",
    "for u in analysis.universities:\n",
    "    #print(\"Die ähnlichste Drittmittelstruktur der \" + u + \": \")\n",
    "    #display(s.similarities.most_similar_to(u))\n",
    "    print(\"Das ähnlichste Forschungsprofil der \" + u + \": \")\n",
    "    display(s2.similarities.most_similar_to(u, quantile=0.1))\n",
    "\n",
    "display(r.ranking.style.format({'value': '{:.1%}'}))\n",
    "print(\"Gesamt: \" + '{:,} €'.format(s.total) + \"\\n\")\n",
    "        \n",
    "print(uni + \" ist an \" + str(r.rank_of(uni)) + \". Stelle\")\n",
    "print(\"Besser sind: \")\n",
    "display(r.better_rank_than(uni).style.format({'value': '{:.1%}'}))\n",
    "        \n",
    "print(\"Drittmittelstruktur der \" + uni + \":\")\n",
    "display(s.structure_of(uni).style.format({uni: '{:.1%}'}))\n",
    "display(s.structure_of('Universität für angewandte Kunst Wien').style.format({'Universität für angewandte Kunst Wien': '{:.1%}'}))\n",
    "\n",
    "print(\"Die Top-10 Universitäten sind: \")\n",
    "display(r.top(10).style.format({'value': '{:.1%}'}))\n",
    "\n",
    "class University:\n",
    "    def __init__(self, name):\n",
    "        self.__name = name   \n",
    "        self.__analyses = dict()\n",
    "        \n",
    "    @property\n",
    "    def name(self):\n",
    "        return self.__name\n",
    "        \n",
    "    def add_analysis(self, analysis):\n",
    "        self.__analyses[analysis.description] = analysis\n",
    "        \n",
    "\n",
    "univie = University(\"Universität Wien\")\n",
    "univie.add_analysis(analysis)\n",
    "\n",
    "\n",
    "\n",
    "\n",
    "\n",
    "\n",
    "\n",
    "\n"
   ]
  }
 ],
 "metadata": {
  "kernelspec": {
   "display_name": "Python 3",
   "language": "python",
   "name": "python3"
  },
  "language_info": {
   "codemirror_mode": {
    "name": "ipython",
    "version": 3
   },
   "file_extension": ".py",
   "mimetype": "text/x-python",
   "name": "python",
   "nbconvert_exporter": "python",
   "pygments_lexer": "ipython3",
   "version": "3.7.3"
  }
 },
 "nbformat": 4,
 "nbformat_minor": 2
}
