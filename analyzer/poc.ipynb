{
 "cells": [
  {
   "cell_type": "code",
   "execution_count": 40,
   "metadata": {},
   "outputs": [
    {
     "data": {
      "text/html": [
       "<h3>Universität für Bodenkultur Wien</h3><p style=\"font-family:verdana\">"
      ],
      "text/plain": [
       "<IPython.core.display.HTML object>"
      ]
     },
     "metadata": {},
     "output_type": "display_data"
    },
    {
     "data": {
      "text/html": [
       "<br/><strong>EU</strong> ist ein wichtiger Fördergeber, sowohl intern als auch im relativen Vergleich mit anderen Universitäten. Und auch für <strong>EU</strong> ist die Universität für Bodenkultur Wien eine wichtige Partnerin. Dies lässt sich ebenso über <strong>Unternehmen</strong> sagen. <br/>Die Universität ist erfolgreich bei <strong>Bund (Ministerien)</strong> und auch für <strong>Bund (Ministerien)</strong> ist die Universität für Bodenkultur Wien relevant. Nur uniintern hat <strong>Bund (Ministerien)</strong> keine große Bedeutung. Dies lässt sich ebenso über <strong>Gemeinden und Gemeindeverbände (ohne Wien)</strong> sagen. Dies lässt sich ebenso über <strong>Länder (inkl. deren Stiftungen und Einrichtungen)</strong> sagen. Dies lässt sich ebenso über <strong>nicht zuordenbare Fördergeber</strong> sagen. <br/>Obwohl die Universität bei <strong>FWF</strong> eine erfolgreiche Fördernehmerin ist, konzentrieren andere Universitäten stärker auf <strong>FWF</strong>. Dennoch ist <strong>FWF</strong> einer der großen Förderer . <br/>Für <strong>andere internationale Organisationen</strong> ist die Universität bedeutsam, aber innerhalb und im relativen Vergleich mit anderen Universitäten ist <strong>andere internationale Organisationen</strong> nicht relevant. </p>"
      ],
      "text/plain": [
       "<IPython.core.display.HTML object>"
      ]
     },
     "metadata": {},
     "output_type": "display_data"
    },
    {
     "data": {
      "text/html": [
       "<h3>Universität Wien</h3><p style=\"font-family:verdana\">"
      ],
      "text/plain": [
       "<IPython.core.display.HTML object>"
      ]
     },
     "metadata": {},
     "output_type": "display_data"
    },
    {
     "data": {
      "text/html": [
       "<br/><strong>EU</strong> ist ein wichtiger Fördergeber, sowohl intern als auch im relativen Vergleich mit anderen Universitäten. Und auch für <strong>EU</strong> ist die Universität Wien eine wichtige Partnerin. Dies lässt sich ebenso über <strong>FWF</strong> sagen. <br/>Die Universität ist erfolgreich bei <strong>Bund (Ministerien)</strong> und auch für <strong>Bund (Ministerien)</strong> ist die Universität Wien relevant. Nur uniintern hat <strong>Bund (Ministerien)</strong> keine große Bedeutung. Dies lässt sich ebenso über <strong>Länder (inkl. deren Stiftungen und Einrichtungen)</strong> sagen. <br/>Für <strong>andere internationale Organisationen</strong> ist die Universität bedeutsam, aber innerhalb und im relativen Vergleich mit anderen Universitäten ist <strong>andere internationale Organisationen</strong> nicht relevant. Dies lässt sich ebenso über <strong>sonstige Fördergeber</strong> sagen. </p>"
      ],
      "text/plain": [
       "<IPython.core.display.HTML object>"
      ]
     },
     "metadata": {},
     "output_type": "display_data"
    },
    {
     "data": {
      "text/html": [
       "<h3>Universität Klagenfurt</h3><p style=\"font-family:verdana\">"
      ],
      "text/plain": [
       "<IPython.core.display.HTML object>"
      ]
     },
     "metadata": {},
     "output_type": "display_data"
    },
    {
     "data": {
      "text/html": [
       "<br/><strong>Bund (Ministerien)</strong> ist sowohl innerhalb der Universität als auch im relativen Vergleich mit anderen eine wichtige Geldquelle. Für <strong>Bund (Ministerien)</strong> allerdings ist die Universität Klagenfurt nicht relevant. Dies lässt sich ebenso über <strong>EU</strong> sagen. Dies lässt sich ebenso über <strong>FFG</strong> sagen. <br/>Die Universität Klagenfurt ist von <strong>Länder (inkl. deren Stiftungen und Einrichtungen)</strong> stärker abhängig als andere Universitäten, auch wenn <strong>Länder (inkl. deren Stiftungen und Einrichtungen)</strong> uniintern keine hohe Bedeutung hat. Auch für <strong>Länder (inkl. deren Stiftungen und Einrichtungen)</strong> ist die Universität nicht relevant. <br/><strong>FWF</strong> ist zwar uniintern wichtig, aber andere Universitäten setzen stärker auf <strong>FWF</strong>. Für <strong>FWF</strong> ist die Universität nicht relevant. Dies lässt sich ebenso über <strong>Unternehmen</strong> sagen. </p>"
      ],
      "text/plain": [
       "<IPython.core.display.HTML object>"
      ]
     },
     "metadata": {},
     "output_type": "display_data"
    },
    {
     "data": {
      "text/html": [
       "<h3>Universität Innsbruck</h3><p style=\"font-family:verdana\">"
      ],
      "text/plain": [
       "<IPython.core.display.HTML object>"
      ]
     },
     "metadata": {},
     "output_type": "display_data"
    },
    {
     "data": {
      "text/html": [
       "<br/><strong>EU</strong> ist ein wichtiger Fördergeber, sowohl intern als auch im relativen Vergleich mit anderen Universitäten. Und auch für <strong>EU</strong> ist die Universität Innsbruck eine wichtige Partnerin. Dies lässt sich ebenso über <strong>FWF</strong> sagen. Dies lässt sich ebenso über <strong>Länder (inkl. deren Stiftungen und Einrichtungen)</strong> sagen. <br/>Die Universität ist erfolgreich bei <strong>Gemeinden und Gemeindeverbände (ohne Wien)</strong> und auch für <strong>Gemeinden und Gemeindeverbände (ohne Wien)</strong> ist die Universität Innsbruck relevant. Nur uniintern hat <strong>Gemeinden und Gemeindeverbände (ohne Wien)</strong> keine große Bedeutung. <br/>Für <strong>FFG</strong> ist die Universität bedeutsam, aber innerhalb und im relativen Vergleich mit anderen Universitäten ist <strong>FFG</strong> nicht relevant. Dies lässt sich ebenso über <strong>andere internationale Organisationen</strong> sagen. <br/><strong>Unternehmen</strong> ist zwar uniintern wichtig, aber andere Universitäten setzen stärker auf <strong>Unternehmen</strong>. Für <strong>Unternehmen</strong> ist die Universität nicht relevant. </p>"
      ],
      "text/plain": [
       "<IPython.core.display.HTML object>"
      ]
     },
     "metadata": {},
     "output_type": "display_data"
    },
    {
     "data": {
      "text/html": [
       "<h3>Universität Salzburg</h3><p style=\"font-family:verdana\">"
      ],
      "text/plain": [
       "<IPython.core.display.HTML object>"
      ]
     },
     "metadata": {},
     "output_type": "display_data"
    },
    {
     "data": {
      "text/html": [
       "<br/><strong>FWF</strong> ist ein wichtiger Fördergeber, sowohl intern als auch im relativen Vergleich mit anderen Universitäten. Und auch für <strong>FWF</strong> ist die Universität Salzburg eine wichtige Partnerin. <br/>Die Universität ist erfolgreich bei <strong>Bund (Ministerien)</strong> und auch für <strong>Bund (Ministerien)</strong> ist die Universität Salzburg relevant. Nur uniintern hat <strong>Bund (Ministerien)</strong> keine große Bedeutung. Dies lässt sich ebenso über <strong>Gemeinden und Gemeindeverbände (ohne Wien)</strong> sagen. <br/><strong>EU</strong> ist sowohl innerhalb der Universität als auch im relativen Vergleich mit anderen eine wichtige Geldquelle. Für <strong>EU</strong> allerdings ist die Universität Salzburg nicht relevant. <br/>Die Universität Salzburg ist von <strong>Länder (inkl. deren Stiftungen und Einrichtungen)</strong> stärker abhängig als andere Universitäten, auch wenn <strong>Länder (inkl. deren Stiftungen und Einrichtungen)</strong> uniintern keine hohe Bedeutung hat. Auch für <strong>Länder (inkl. deren Stiftungen und Einrichtungen)</strong> ist die Universität nicht relevant. </p>"
      ],
      "text/plain": [
       "<IPython.core.display.HTML object>"
      ]
     },
     "metadata": {},
     "output_type": "display_data"
    },
    {
     "data": {
      "text/html": [
       "<h3>Technische Universität Wien</h3><p style=\"font-family:verdana\">"
      ],
      "text/plain": [
       "<IPython.core.display.HTML object>"
      ]
     },
     "metadata": {},
     "output_type": "display_data"
    },
    {
     "data": {
      "text/html": [
       "<br/><strong>EU</strong> ist ein wichtiger Fördergeber, sowohl intern als auch im relativen Vergleich mit anderen Universitäten. Und auch für <strong>EU</strong> ist die Technische Universität Wien eine wichtige Partnerin. Dies lässt sich ebenso über <strong>FFG</strong> sagen. <br/>Die Universität ist erfolgreich bei <strong>Gemeinden und Gemeindeverbände (ohne Wien)</strong> und auch für <strong>Gemeinden und Gemeindeverbände (ohne Wien)</strong> ist die Technische Universität Wien relevant. Nur uniintern hat <strong>Gemeinden und Gemeindeverbände (ohne Wien)</strong> keine große Bedeutung. Dies lässt sich ebenso über <strong>andere internationale Organisationen</strong> sagen. <br/>Obwohl die Universität bei <strong>FWF</strong> eine erfolgreiche Fördernehmerin ist, konzentrieren andere Universitäten stärker auf <strong>FWF</strong>. Dennoch ist <strong>FWF</strong> einer der großen Förderer . Dies lässt sich ebenso über <strong>Unternehmen</strong> sagen. <br/>Für <strong>Bund (Ministerien)</strong> ist die Universität bedeutsam, aber innerhalb und im relativen Vergleich mit anderen Universitäten ist <strong>Bund (Ministerien)</strong> nicht relevant. Dies lässt sich ebenso über <strong>Länder (inkl. deren Stiftungen und Einrichtungen)</strong> sagen. </p>"
      ],
      "text/plain": [
       "<IPython.core.display.HTML object>"
      ]
     },
     "metadata": {},
     "output_type": "display_data"
    },
    {
     "data": {
      "text/html": [
       "<h3>Universität für angewandte Kunst Wien</h3><p style=\"font-family:verdana\">"
      ],
      "text/plain": [
       "<IPython.core.display.HTML object>"
      ]
     },
     "metadata": {},
     "output_type": "display_data"
    },
    {
     "data": {
      "text/html": [
       "<br/><strong>EU</strong> ist sowohl innerhalb der Universität als auch im relativen Vergleich mit anderen eine wichtige Geldquelle. Für <strong>EU</strong> allerdings ist die Universität für angewandte Kunst Wien nicht relevant. Dies lässt sich ebenso über <strong>FWF</strong> sagen. <br/>Die Universität für angewandte Kunst Wien ist von <strong>Bund (Ministerien)</strong> stärker abhängig als andere Universitäten, auch wenn <strong>Bund (Ministerien)</strong> uniintern keine hohe Bedeutung hat. Auch für <strong>Bund (Ministerien)</strong> ist die Universität nicht relevant. </p>"
      ],
      "text/plain": [
       "<IPython.core.display.HTML object>"
      ]
     },
     "metadata": {},
     "output_type": "display_data"
    },
    {
     "data": {
      "text/html": [
       "<h3>Universität für Musik und darstellende Kunst Wien</h3><p style=\"font-family:verdana\">"
      ],
      "text/plain": [
       "<IPython.core.display.HTML object>"
      ]
     },
     "metadata": {},
     "output_type": "display_data"
    },
    {
     "data": {
      "text/html": [
       "<br/><strong>Bund (Ministerien)</strong> ist sowohl innerhalb der Universität als auch im relativen Vergleich mit anderen eine wichtige Geldquelle. Für <strong>Bund (Ministerien)</strong> allerdings ist die Universität für Musik und darstellende Kunst Wien nicht relevant. Dies lässt sich ebenso über <strong>EU</strong> sagen. Dies lässt sich ebenso über <strong>FWF</strong> sagen. Dies lässt sich ebenso über <strong>Länder (inkl. deren Stiftungen und Einrichtungen)</strong> sagen. <br/>Die Universität für Musik und darstellende Kunst Wien ist von <strong>Gemeinden und Gemeindeverbände (ohne Wien)</strong> stärker abhängig als andere Universitäten, auch wenn <strong>Gemeinden und Gemeindeverbände (ohne Wien)</strong> uniintern keine hohe Bedeutung hat. Auch für <strong>Gemeinden und Gemeindeverbände (ohne Wien)</strong> ist die Universität nicht relevant. </p>"
      ],
      "text/plain": [
       "<IPython.core.display.HTML object>"
      ]
     },
     "metadata": {},
     "output_type": "display_data"
    },
    {
     "data": {
      "text/html": [
       "<h3>Universität für Weiterbildung Krems</h3><p style=\"font-family:verdana\">"
      ],
      "text/plain": [
       "<IPython.core.display.HTML object>"
      ]
     },
     "metadata": {},
     "output_type": "display_data"
    },
    {
     "data": {
      "text/html": [
       "<br/><strong>Länder (inkl. deren Stiftungen und Einrichtungen)</strong> ist ein wichtiger Fördergeber, sowohl intern als auch im relativen Vergleich mit anderen Universitäten. Und auch für <strong>Länder (inkl. deren Stiftungen und Einrichtungen)</strong> ist die Universität für Weiterbildung Krems eine wichtige Partnerin. <br/><strong>Bund (Ministerien)</strong> ist sowohl innerhalb der Universität als auch im relativen Vergleich mit anderen eine wichtige Geldquelle. Für <strong>Bund (Ministerien)</strong> allerdings ist die Universität für Weiterbildung Krems nicht relevant. Dies lässt sich ebenso über <strong>EU</strong> sagen. Dies lässt sich ebenso über <strong>FFG</strong> sagen. <br/>Die Universität für Weiterbildung Krems ist von <strong>Gemeinden und Gemeindeverbände (ohne Wien)</strong> stärker abhängig als andere Universitäten, auch wenn <strong>Gemeinden und Gemeindeverbände (ohne Wien)</strong> uniintern keine hohe Bedeutung hat. Auch für <strong>Gemeinden und Gemeindeverbände (ohne Wien)</strong> ist die Universität nicht relevant. </p>"
      ],
      "text/plain": [
       "<IPython.core.display.HTML object>"
      ]
     },
     "metadata": {},
     "output_type": "display_data"
    },
    {
     "data": {
      "text/html": [
       "<h3>Medizinische Universität Wien</h3><p style=\"font-family:verdana\">"
      ],
      "text/plain": [
       "<IPython.core.display.HTML object>"
      ]
     },
     "metadata": {},
     "output_type": "display_data"
    },
    {
     "data": {
      "text/html": [
       "<br/><strong>sonstige Fördergeber</strong> ist ein wichtiger Fördergeber, sowohl intern als auch im relativen Vergleich mit anderen Universitäten. Und auch für <strong>sonstige Fördergeber</strong> ist die Medizinische Universität Wien eine wichtige Partnerin. <br/>Obwohl die Universität bei <strong>FWF</strong> eine erfolgreiche Fördernehmerin ist, konzentrieren andere Universitäten stärker auf <strong>FWF</strong>. Dennoch ist <strong>FWF</strong> einer der großen Förderer . Dies lässt sich ebenso über <strong>Unternehmen</strong> sagen. <br/>Für <strong>Bund (Ministerien)</strong> ist die Universität bedeutsam, aber innerhalb und im relativen Vergleich mit anderen Universitäten ist <strong>Bund (Ministerien)</strong> nicht relevant. Dies lässt sich ebenso über <strong>EU</strong> sagen. Dies lässt sich ebenso über <strong>Länder (inkl. deren Stiftungen und Einrichtungen)</strong> sagen. Dies lässt sich ebenso über <strong>andere internationale Organisationen</strong> sagen. </p>"
      ],
      "text/plain": [
       "<IPython.core.display.HTML object>"
      ]
     },
     "metadata": {},
     "output_type": "display_data"
    },
    {
     "data": {
      "text/html": [
       "<h3>Medizinische Universität Graz</h3><p style=\"font-family:verdana\">"
      ],
      "text/plain": [
       "<IPython.core.display.HTML object>"
      ]
     },
     "metadata": {},
     "output_type": "display_data"
    },
    {
     "data": {
      "text/html": [
       "<br/><strong>Unternehmen</strong> ist ein wichtiger Fördergeber, sowohl intern als auch im relativen Vergleich mit anderen Universitäten. Und auch für <strong>Unternehmen</strong> ist die Medizinische Universität Graz eine wichtige Partnerin. <br/>Die Universität ist erfolgreich bei <strong>Länder (inkl. deren Stiftungen und Einrichtungen)</strong> und auch für <strong>Länder (inkl. deren Stiftungen und Einrichtungen)</strong> ist die Medizinische Universität Graz relevant. Nur uniintern hat <strong>Länder (inkl. deren Stiftungen und Einrichtungen)</strong> keine große Bedeutung. <br/>Für <strong>andere internationale Organisationen</strong> ist die Universität bedeutsam, aber innerhalb und im relativen Vergleich mit anderen Universitäten ist <strong>andere internationale Organisationen</strong> nicht relevant. </p>"
      ],
      "text/plain": [
       "<IPython.core.display.HTML object>"
      ]
     },
     "metadata": {},
     "output_type": "display_data"
    },
    {
     "data": {
      "text/html": [
       "<h3>Medizinische Universität Innsbruck</h3><p style=\"font-family:verdana\">"
      ],
      "text/plain": [
       "<IPython.core.display.HTML object>"
      ]
     },
     "metadata": {},
     "output_type": "display_data"
    },
    {
     "data": {
      "text/html": [
       "<br/><strong>Unternehmen</strong> ist ein wichtiger Fördergeber, sowohl intern als auch im relativen Vergleich mit anderen Universitäten. Und auch für <strong>Unternehmen</strong> ist die Medizinische Universität Innsbruck eine wichtige Partnerin. <br/>Die Universität ist erfolgreich bei <strong>Bund (Ministerien)</strong> und auch für <strong>Bund (Ministerien)</strong> ist die Medizinische Universität Innsbruck relevant. Nur uniintern hat <strong>Bund (Ministerien)</strong> keine große Bedeutung. <br/>Obwohl die Universität bei <strong>FWF</strong> eine erfolgreiche Fördernehmerin ist, konzentrieren andere Universitäten stärker auf <strong>FWF</strong>. Dennoch ist <strong>FWF</strong> einer der großen Förderer . </p>"
      ],
      "text/plain": [
       "<IPython.core.display.HTML object>"
      ]
     },
     "metadata": {},
     "output_type": "display_data"
    },
    {
     "data": {
      "text/html": [
       "<h3>Technische Universität Graz</h3><p style=\"font-family:verdana\">"
      ],
      "text/plain": [
       "<IPython.core.display.HTML object>"
      ]
     },
     "metadata": {},
     "output_type": "display_data"
    },
    {
     "data": {
      "text/html": [
       "<br/><strong>EU</strong> ist ein wichtiger Fördergeber, sowohl intern als auch im relativen Vergleich mit anderen Universitäten. Und auch für <strong>EU</strong> ist die Technische Universität Graz eine wichtige Partnerin. Dies lässt sich ebenso über <strong>FFG</strong> sagen. Dies lässt sich ebenso über <strong>Unternehmen</strong> sagen. <br/>Die Universität ist erfolgreich bei <strong>Gemeinden und Gemeindeverbände (ohne Wien)</strong> und auch für <strong>Gemeinden und Gemeindeverbände (ohne Wien)</strong> ist die Technische Universität Graz relevant. Nur uniintern hat <strong>Gemeinden und Gemeindeverbände (ohne Wien)</strong> keine große Bedeutung. <br/>Für <strong>Bund (Ministerien)</strong> ist die Universität bedeutsam, aber innerhalb und im relativen Vergleich mit anderen Universitäten ist <strong>Bund (Ministerien)</strong> nicht relevant. <br/><strong>FWF</strong> ist zwar uniintern wichtig, aber andere Universitäten setzen stärker auf <strong>FWF</strong>. Für <strong>FWF</strong> ist die Universität nicht relevant. </p>"
      ],
      "text/plain": [
       "<IPython.core.display.HTML object>"
      ]
     },
     "metadata": {},
     "output_type": "display_data"
    },
    {
     "data": {
      "text/html": [
       "<h3>Universität Graz</h3><p style=\"font-family:verdana\">"
      ],
      "text/plain": [
       "<IPython.core.display.HTML object>"
      ]
     },
     "metadata": {},
     "output_type": "display_data"
    },
    {
     "data": {
      "text/html": [
       "<br/><strong>FWF</strong> ist ein wichtiger Fördergeber, sowohl intern als auch im relativen Vergleich mit anderen Universitäten. Und auch für <strong>FWF</strong> ist die Universität Graz eine wichtige Partnerin. <br/>Die Universität ist erfolgreich bei <strong>Gemeinden und Gemeindeverbände (ohne Wien)</strong> und auch für <strong>Gemeinden und Gemeindeverbände (ohne Wien)</strong> ist die Universität Graz relevant. Nur uniintern hat <strong>Gemeinden und Gemeindeverbände (ohne Wien)</strong> keine große Bedeutung. Dies lässt sich ebenso über <strong>Länder (inkl. deren Stiftungen und Einrichtungen)</strong> sagen. Dies lässt sich ebenso über <strong>andere internationale Organisationen</strong> sagen. <br/><strong>EU</strong> ist zwar uniintern wichtig, aber andere Universitäten setzen stärker auf <strong>EU</strong>. Für <strong>EU</strong> ist die Universität nicht relevant. </p>"
      ],
      "text/plain": [
       "<IPython.core.display.HTML object>"
      ]
     },
     "metadata": {},
     "output_type": "display_data"
    },
    {
     "data": {
      "text/html": [
       "<h3>Montanuniversität Leoben</h3><p style=\"font-family:verdana\">"
      ],
      "text/plain": [
       "<IPython.core.display.HTML object>"
      ]
     },
     "metadata": {},
     "output_type": "display_data"
    },
    {
     "data": {
      "text/html": [
       "<br/><strong>FFG</strong> ist ein wichtiger Fördergeber, sowohl intern als auch im relativen Vergleich mit anderen Universitäten. Und auch für <strong>FFG</strong> ist die Montanuniversität Leoben eine wichtige Partnerin. Dies lässt sich ebenso über <strong>Länder (inkl. deren Stiftungen und Einrichtungen)</strong> sagen. Dies lässt sich ebenso über <strong>Unternehmen</strong> sagen. <br/>Die Universität ist erfolgreich bei <strong>Bund (Ministerien)</strong> und auch für <strong>Bund (Ministerien)</strong> ist die Montanuniversität Leoben relevant. Nur uniintern hat <strong>Bund (Ministerien)</strong> keine große Bedeutung. </p>"
      ],
      "text/plain": [
       "<IPython.core.display.HTML object>"
      ]
     },
     "metadata": {},
     "output_type": "display_data"
    },
    {
     "data": {
      "text/html": [
       "<h3>Universität Linz</h3><p style=\"font-family:verdana\">"
      ],
      "text/plain": [
       "<IPython.core.display.HTML object>"
      ]
     },
     "metadata": {},
     "output_type": "display_data"
    },
    {
     "data": {
      "text/html": [
       "<br/><strong>FFG</strong> ist ein wichtiger Fördergeber, sowohl intern als auch im relativen Vergleich mit anderen Universitäten. Und auch für <strong>FFG</strong> ist die Universität Linz eine wichtige Partnerin. Dies lässt sich ebenso über <strong>FWF</strong> sagen. <br/><strong>Unternehmen</strong> ist zwar uniintern wichtig, aber andere Universitäten setzen stärker auf <strong>Unternehmen</strong>. Für <strong>Unternehmen</strong> ist die Universität nicht relevant. </p>"
      ],
      "text/plain": [
       "<IPython.core.display.HTML object>"
      ]
     },
     "metadata": {},
     "output_type": "display_data"
    },
    {
     "data": {
      "text/html": [
       "<h3>Wirtschaftsuniversität Wien</h3><p style=\"font-family:verdana\">"
      ],
      "text/plain": [
       "<IPython.core.display.HTML object>"
      ]
     },
     "metadata": {},
     "output_type": "display_data"
    },
    {
     "data": {
      "text/html": [
       "<br/><strong>sonstige Fördergeber</strong> ist ein wichtiger Fördergeber, sowohl intern als auch im relativen Vergleich mit anderen Universitäten. Und auch für <strong>sonstige Fördergeber</strong> ist die Wirtschaftsuniversität Wien eine wichtige Partnerin. <br/>Die Universität ist erfolgreich bei <strong>andere internationale Organisationen</strong> und auch für <strong>andere internationale Organisationen</strong> ist die Wirtschaftsuniversität Wien relevant. Nur uniintern hat <strong>andere internationale Organisationen</strong> keine große Bedeutung. <br/><strong>EU</strong> ist sowohl innerhalb der Universität als auch im relativen Vergleich mit anderen eine wichtige Geldquelle. Für <strong>EU</strong> allerdings ist die Wirtschaftsuniversität Wien nicht relevant. <br/>Die Wirtschaftsuniversität Wien ist von <strong>Bund (Ministerien)</strong> stärker abhängig als andere Universitäten, auch wenn <strong>Bund (Ministerien)</strong> uniintern keine hohe Bedeutung hat. Auch für <strong>Bund (Ministerien)</strong> ist die Universität nicht relevant. <br/><strong>FWF</strong> ist zwar uniintern wichtig, aber andere Universitäten setzen stärker auf <strong>FWF</strong>. Für <strong>FWF</strong> ist die Universität nicht relevant. Dies lässt sich ebenso über <strong>Unternehmen</strong> sagen. </p>"
      ],
      "text/plain": [
       "<IPython.core.display.HTML object>"
      ]
     },
     "metadata": {},
     "output_type": "display_data"
    },
    {
     "data": {
      "text/html": [
       "<h3>Veterinärmedizinische Universität Wien</h3><p style=\"font-family:verdana\">"
      ],
      "text/plain": [
       "<IPython.core.display.HTML object>"
      ]
     },
     "metadata": {},
     "output_type": "display_data"
    },
    {
     "data": {
      "text/html": [
       "<br/><strong>FWF</strong> ist sowohl innerhalb der Universität als auch im relativen Vergleich mit anderen eine wichtige Geldquelle. Für <strong>FWF</strong> allerdings ist die Veterinärmedizinische Universität Wien nicht relevant. <br/>Die Veterinärmedizinische Universität Wien ist von <strong>Bund (Ministerien)</strong> stärker abhängig als andere Universitäten, auch wenn <strong>Bund (Ministerien)</strong> uniintern keine hohe Bedeutung hat. Auch für <strong>Bund (Ministerien)</strong> ist die Universität nicht relevant. <br/><strong>Unternehmen</strong> ist zwar uniintern wichtig, aber andere Universitäten setzen stärker auf <strong>Unternehmen</strong>. Für <strong>Unternehmen</strong> ist die Universität nicht relevant. </p>"
      ],
      "text/plain": [
       "<IPython.core.display.HTML object>"
      ]
     },
     "metadata": {},
     "output_type": "display_data"
    },
    {
     "data": {
      "text/html": [
       "<h3>Universität für Musik und darstellende Kunst Graz</h3><p style=\"font-family:verdana\">"
      ],
      "text/plain": [
       "<IPython.core.display.HTML object>"
      ]
     },
     "metadata": {},
     "output_type": "display_data"
    },
    {
     "data": {
      "text/html": [
       "<br/>Die Universität ist erfolgreich bei <strong>Gemeinden und Gemeindeverbände (ohne Wien)</strong> und auch für <strong>Gemeinden und Gemeindeverbände (ohne Wien)</strong> ist die Universität für Musik und darstellende Kunst Graz relevant. Nur uniintern hat <strong>Gemeinden und Gemeindeverbände (ohne Wien)</strong> keine große Bedeutung. <br/><strong>Bund (Ministerien)</strong> ist sowohl innerhalb der Universität als auch im relativen Vergleich mit anderen eine wichtige Geldquelle. Für <strong>Bund (Ministerien)</strong> allerdings ist die Universität für Musik und darstellende Kunst Graz nicht relevant. Dies lässt sich ebenso über <strong>FWF</strong> sagen. Dies lässt sich ebenso über <strong>Länder (inkl. deren Stiftungen und Einrichtungen)</strong> sagen. <br/><strong>Unternehmen</strong> ist zwar uniintern wichtig, aber andere Universitäten setzen stärker auf <strong>Unternehmen</strong>. Für <strong>Unternehmen</strong> ist die Universität nicht relevant. </p>"
      ],
      "text/plain": [
       "<IPython.core.display.HTML object>"
      ]
     },
     "metadata": {},
     "output_type": "display_data"
    },
    {
     "data": {
      "text/html": [
       "<h3>Akademie der bildenden Künste Wien</h3><p style=\"font-family:verdana\">"
      ],
      "text/plain": [
       "<IPython.core.display.HTML object>"
      ]
     },
     "metadata": {},
     "output_type": "display_data"
    },
    {
     "data": {
      "text/html": [
       "<br/><strong>FWF</strong> ist sowohl innerhalb der Universität als auch im relativen Vergleich mit anderen eine wichtige Geldquelle. Für <strong>FWF</strong> allerdings ist die Akademie der bildenden Künste Wien nicht relevant. Dies lässt sich ebenso über <strong>sonstige Fördergeber</strong> sagen. <br/>Die Akademie der bildenden Künste Wien ist von <strong>Bund (Ministerien)</strong> stärker abhängig als andere Universitäten, auch wenn <strong>Bund (Ministerien)</strong> uniintern keine hohe Bedeutung hat. Auch für <strong>Bund (Ministerien)</strong> ist die Universität nicht relevant. </p>"
      ],
      "text/plain": [
       "<IPython.core.display.HTML object>"
      ]
     },
     "metadata": {},
     "output_type": "display_data"
    },
    {
     "data": {
      "text/html": [
       "<h3>Universität Mozarteum Salzburg</h3><p style=\"font-family:verdana\">"
      ],
      "text/plain": [
       "<IPython.core.display.HTML object>"
      ]
     },
     "metadata": {},
     "output_type": "display_data"
    },
    {
     "data": {
      "text/html": [
       "<br/><strong>Bund (Ministerien)</strong> ist sowohl innerhalb der Universität als auch im relativen Vergleich mit anderen eine wichtige Geldquelle. Für <strong>Bund (Ministerien)</strong> allerdings ist die Universität Mozarteum Salzburg nicht relevant. Dies lässt sich ebenso über <strong>Gemeinden und Gemeindeverbände (ohne Wien)</strong> sagen. Dies lässt sich ebenso über <strong>Länder (inkl. deren Stiftungen und Einrichtungen)</strong> sagen. <br/><strong>Unternehmen</strong> ist zwar uniintern wichtig, aber andere Universitäten setzen stärker auf <strong>Unternehmen</strong>. Für <strong>Unternehmen</strong> ist die Universität nicht relevant. </p>"
      ],
      "text/plain": [
       "<IPython.core.display.HTML object>"
      ]
     },
     "metadata": {},
     "output_type": "display_data"
    },
    {
     "data": {
      "text/html": [
       "<h3>Universität für künstlerische und industrielle Gestaltung Linz</h3><p style=\"font-family:verdana\">"
      ],
      "text/plain": [
       "<IPython.core.display.HTML object>"
      ]
     },
     "metadata": {},
     "output_type": "display_data"
    },
    {
     "data": {
      "text/html": [
       "<br/>Die Universität ist erfolgreich bei <strong>andere internationale Organisationen</strong> und auch für <strong>andere internationale Organisationen</strong> ist die Universität für künstlerische und industrielle Gestaltung Linz relevant. Nur uniintern hat <strong>andere internationale Organisationen</strong> keine große Bedeutung. <br/><strong>Bund (Ministerien)</strong> ist sowohl innerhalb der Universität als auch im relativen Vergleich mit anderen eine wichtige Geldquelle. Für <strong>Bund (Ministerien)</strong> allerdings ist die Universität für künstlerische und industrielle Gestaltung Linz nicht relevant. Dies lässt sich ebenso über <strong>sonstige Fördergeber</strong> sagen. <br/>Die Universität für künstlerische und industrielle Gestaltung Linz ist von <strong>Gemeinden und Gemeindeverbände (ohne Wien)</strong> stärker abhängig als andere Universitäten, auch wenn <strong>Gemeinden und Gemeindeverbände (ohne Wien)</strong> uniintern keine hohe Bedeutung hat. Auch für <strong>Gemeinden und Gemeindeverbände (ohne Wien)</strong> ist die Universität nicht relevant. Dies lässt sich ebenso über <strong>Länder (inkl. deren Stiftungen und Einrichtungen)</strong> sagen. <br/><strong>FWF</strong> ist zwar uniintern wichtig, aber andere Universitäten setzen stärker auf <strong>FWF</strong>. Für <strong>FWF</strong> ist die Universität nicht relevant. Dies lässt sich ebenso über <strong>Unternehmen</strong> sagen. </p>"
      ],
      "text/plain": [
       "<IPython.core.display.HTML object>"
      ]
     },
     "metadata": {},
     "output_type": "display_data"
    },
    {
     "data": {
      "text/html": [
       "<style  type=\"text/css\" >\n",
       "</style><table id=\"T_e136a14a_a016_11e9_a482_fdf2df132428\" ><thead>    <tr>        <th class=\"index_name level0\" >funder</th>        <th class=\"col_heading level0 col0\" >Bund (Ministerien)</th>        <th class=\"col_heading level0 col1\" >EU</th>        <th class=\"col_heading level0 col2\" >FFG</th>        <th class=\"col_heading level0 col3\" >FWF</th>        <th class=\"col_heading level0 col4\" >Gemeinden und Gemeindeverbände (ohne Wien)</th>        <th class=\"col_heading level0 col5\" >Länder (inkl. deren Stiftungen und Einrichtungen)</th>        <th class=\"col_heading level0 col6\" >Unternehmen</th>        <th class=\"col_heading level0 col7\" >andere internationale Organisationen</th>        <th class=\"col_heading level0 col8\" >nicht bekannt / nicht zuordenbar</th>        <th class=\"col_heading level0 col9\" >sonstige</th>        <th class=\"col_heading level0 col10\" >Summe</th>    </tr>    <tr>        <th class=\"index_name level0\" >university</th>        <th class=\"blank\" ></th>        <th class=\"blank\" ></th>        <th class=\"blank\" ></th>        <th class=\"blank\" ></th>        <th class=\"blank\" ></th>        <th class=\"blank\" ></th>        <th class=\"blank\" ></th>        <th class=\"blank\" ></th>        <th class=\"blank\" ></th>        <th class=\"blank\" ></th>        <th class=\"blank\" ></th>    </tr></thead><tbody>\n",
       "                <tr>\n",
       "                        <th id=\"T_e136a14a_a016_11e9_a482_fdf2df132428level0_row0\" class=\"row_heading level0 row0\" >Akademie der bildenden Künste Wien</th>\n",
       "                        <td id=\"T_e136a14a_a016_11e9_a482_fdf2df132428row0_col0\" class=\"data row0 col0\" >64,032 €</td>\n",
       "                        <td id=\"T_e136a14a_a016_11e9_a482_fdf2df132428row0_col1\" class=\"data row0 col1\" >2,500 €</td>\n",
       "                        <td id=\"T_e136a14a_a016_11e9_a482_fdf2df132428row0_col2\" class=\"data row0 col2\" >0 €</td>\n",
       "                        <td id=\"T_e136a14a_a016_11e9_a482_fdf2df132428row0_col3\" class=\"data row0 col3\" >724,207 €</td>\n",
       "                        <td id=\"T_e136a14a_a016_11e9_a482_fdf2df132428row0_col4\" class=\"data row0 col4\" >898 €</td>\n",
       "                        <td id=\"T_e136a14a_a016_11e9_a482_fdf2df132428row0_col5\" class=\"data row0 col5\" >14,385 €</td>\n",
       "                        <td id=\"T_e136a14a_a016_11e9_a482_fdf2df132428row0_col6\" class=\"data row0 col6\" >15,273 €</td>\n",
       "                        <td id=\"T_e136a14a_a016_11e9_a482_fdf2df132428row0_col7\" class=\"data row0 col7\" >0 €</td>\n",
       "                        <td id=\"T_e136a14a_a016_11e9_a482_fdf2df132428row0_col8\" class=\"data row0 col8\" >0 €</td>\n",
       "                        <td id=\"T_e136a14a_a016_11e9_a482_fdf2df132428row0_col9\" class=\"data row0 col9\" >197,870 €</td>\n",
       "                        <td id=\"T_e136a14a_a016_11e9_a482_fdf2df132428row0_col10\" class=\"data row0 col10\" >1,019,165 €</td>\n",
       "            </tr>\n",
       "            <tr>\n",
       "                        <th id=\"T_e136a14a_a016_11e9_a482_fdf2df132428level0_row1\" class=\"row_heading level0 row1\" >Medizinische Universität Graz</th>\n",
       "                        <td id=\"T_e136a14a_a016_11e9_a482_fdf2df132428row1_col0\" class=\"data row1 col0\" >727,683 €</td>\n",
       "                        <td id=\"T_e136a14a_a016_11e9_a482_fdf2df132428row1_col1\" class=\"data row1 col1\" >2,149,800 €</td>\n",
       "                        <td id=\"T_e136a14a_a016_11e9_a482_fdf2df132428row1_col2\" class=\"data row1 col2\" >957,441 €</td>\n",
       "                        <td id=\"T_e136a14a_a016_11e9_a482_fdf2df132428row1_col3\" class=\"data row1 col3\" >4,400,452 €</td>\n",
       "                        <td id=\"T_e136a14a_a016_11e9_a482_fdf2df132428row1_col4\" class=\"data row1 col4\" >40,834 €</td>\n",
       "                        <td id=\"T_e136a14a_a016_11e9_a482_fdf2df132428row1_col5\" class=\"data row1 col5\" >4,585,606 €</td>\n",
       "                        <td id=\"T_e136a14a_a016_11e9_a482_fdf2df132428row1_col6\" class=\"data row1 col6\" >32,440,938 €</td>\n",
       "                        <td id=\"T_e136a14a_a016_11e9_a482_fdf2df132428row1_col7\" class=\"data row1 col7\" >145,251 €</td>\n",
       "                        <td id=\"T_e136a14a_a016_11e9_a482_fdf2df132428row1_col8\" class=\"data row1 col8\" >0 €</td>\n",
       "                        <td id=\"T_e136a14a_a016_11e9_a482_fdf2df132428row1_col9\" class=\"data row1 col9\" >1,985,663 €</td>\n",
       "                        <td id=\"T_e136a14a_a016_11e9_a482_fdf2df132428row1_col10\" class=\"data row1 col10\" >47,433,668 €</td>\n",
       "            </tr>\n",
       "            <tr>\n",
       "                        <th id=\"T_e136a14a_a016_11e9_a482_fdf2df132428level0_row2\" class=\"row_heading level0 row2\" >Medizinische Universität Innsbruck</th>\n",
       "                        <td id=\"T_e136a14a_a016_11e9_a482_fdf2df132428row2_col0\" class=\"data row2 col0\" >3,692,310 €</td>\n",
       "                        <td id=\"T_e136a14a_a016_11e9_a482_fdf2df132428row2_col1\" class=\"data row2 col1\" >3,169,485 €</td>\n",
       "                        <td id=\"T_e136a14a_a016_11e9_a482_fdf2df132428row2_col2\" class=\"data row2 col2\" >617,599 €</td>\n",
       "                        <td id=\"T_e136a14a_a016_11e9_a482_fdf2df132428row2_col3\" class=\"data row2 col3\" >8,230,127 €</td>\n",
       "                        <td id=\"T_e136a14a_a016_11e9_a482_fdf2df132428row2_col4\" class=\"data row2 col4\" >0 €</td>\n",
       "                        <td id=\"T_e136a14a_a016_11e9_a482_fdf2df132428row2_col5\" class=\"data row2 col5\" >487,287 €</td>\n",
       "                        <td id=\"T_e136a14a_a016_11e9_a482_fdf2df132428row2_col6\" class=\"data row2 col6\" >21,297,441 €</td>\n",
       "                        <td id=\"T_e136a14a_a016_11e9_a482_fdf2df132428row2_col7\" class=\"data row2 col7\" >0 €</td>\n",
       "                        <td id=\"T_e136a14a_a016_11e9_a482_fdf2df132428row2_col8\" class=\"data row2 col8\" >0 €</td>\n",
       "                        <td id=\"T_e136a14a_a016_11e9_a482_fdf2df132428row2_col9\" class=\"data row2 col9\" >365,223 €</td>\n",
       "                        <td id=\"T_e136a14a_a016_11e9_a482_fdf2df132428row2_col10\" class=\"data row2 col10\" >37,859,472 €</td>\n",
       "            </tr>\n",
       "            <tr>\n",
       "                        <th id=\"T_e136a14a_a016_11e9_a482_fdf2df132428level0_row3\" class=\"row_heading level0 row3\" >Medizinische Universität Wien</th>\n",
       "                        <td id=\"T_e136a14a_a016_11e9_a482_fdf2df132428row3_col0\" class=\"data row3 col0\" >1,672,802 €</td>\n",
       "                        <td id=\"T_e136a14a_a016_11e9_a482_fdf2df132428row3_col1\" class=\"data row3 col1\" >8,347,843 €</td>\n",
       "                        <td id=\"T_e136a14a_a016_11e9_a482_fdf2df132428row3_col2\" class=\"data row3 col2\" >570,863 €</td>\n",
       "                        <td id=\"T_e136a14a_a016_11e9_a482_fdf2df132428row3_col3\" class=\"data row3 col3\" >18,825,925 €</td>\n",
       "                        <td id=\"T_e136a14a_a016_11e9_a482_fdf2df132428row3_col4\" class=\"data row3 col4\" >80,000 €</td>\n",
       "                        <td id=\"T_e136a14a_a016_11e9_a482_fdf2df132428row3_col5\" class=\"data row3 col5\" >2,015,327 €</td>\n",
       "                        <td id=\"T_e136a14a_a016_11e9_a482_fdf2df132428row3_col6\" class=\"data row3 col6\" >21,467,168 €</td>\n",
       "                        <td id=\"T_e136a14a_a016_11e9_a482_fdf2df132428row3_col7\" class=\"data row3 col7\" >173,461 €</td>\n",
       "                        <td id=\"T_e136a14a_a016_11e9_a482_fdf2df132428row3_col8\" class=\"data row3 col8\" >0 €</td>\n",
       "                        <td id=\"T_e136a14a_a016_11e9_a482_fdf2df132428row3_col9\" class=\"data row3 col9\" >33,211,761 €</td>\n",
       "                        <td id=\"T_e136a14a_a016_11e9_a482_fdf2df132428row3_col10\" class=\"data row3 col10\" >86,365,150 €</td>\n",
       "            </tr>\n",
       "            <tr>\n",
       "                        <th id=\"T_e136a14a_a016_11e9_a482_fdf2df132428level0_row4\" class=\"row_heading level0 row4\" >Montanuniversität Leoben</th>\n",
       "                        <td id=\"T_e136a14a_a016_11e9_a482_fdf2df132428row4_col0\" class=\"data row4 col0\" >3,154,354 €</td>\n",
       "                        <td id=\"T_e136a14a_a016_11e9_a482_fdf2df132428row4_col1\" class=\"data row4 col1\" >3,460,401 €</td>\n",
       "                        <td id=\"T_e136a14a_a016_11e9_a482_fdf2df132428row4_col2\" class=\"data row4 col2\" >8,312,233 €</td>\n",
       "                        <td id=\"T_e136a14a_a016_11e9_a482_fdf2df132428row4_col3\" class=\"data row4 col3\" >1,241,007 €</td>\n",
       "                        <td id=\"T_e136a14a_a016_11e9_a482_fdf2df132428row4_col4\" class=\"data row4 col4\" >0 €</td>\n",
       "                        <td id=\"T_e136a14a_a016_11e9_a482_fdf2df132428row4_col5\" class=\"data row4 col5\" >5,337,531 €</td>\n",
       "                        <td id=\"T_e136a14a_a016_11e9_a482_fdf2df132428row4_col6\" class=\"data row4 col6\" >14,284,451 €</td>\n",
       "                        <td id=\"T_e136a14a_a016_11e9_a482_fdf2df132428row4_col7\" class=\"data row4 col7\" >0 €</td>\n",
       "                        <td id=\"T_e136a14a_a016_11e9_a482_fdf2df132428row4_col8\" class=\"data row4 col8\" >0 €</td>\n",
       "                        <td id=\"T_e136a14a_a016_11e9_a482_fdf2df132428row4_col9\" class=\"data row4 col9\" >0 €</td>\n",
       "                        <td id=\"T_e136a14a_a016_11e9_a482_fdf2df132428row4_col10\" class=\"data row4 col10\" >35,789,977 €</td>\n",
       "            </tr>\n",
       "            <tr>\n",
       "                        <th id=\"T_e136a14a_a016_11e9_a482_fdf2df132428level0_row5\" class=\"row_heading level0 row5\" >Technische Universität Graz</th>\n",
       "                        <td id=\"T_e136a14a_a016_11e9_a482_fdf2df132428row5_col0\" class=\"data row5 col0\" >1,270,607 €</td>\n",
       "                        <td id=\"T_e136a14a_a016_11e9_a482_fdf2df132428row5_col1\" class=\"data row5 col1\" >11,016,518 €</td>\n",
       "                        <td id=\"T_e136a14a_a016_11e9_a482_fdf2df132428row5_col2\" class=\"data row5 col2\" >18,213,261 €</td>\n",
       "                        <td id=\"T_e136a14a_a016_11e9_a482_fdf2df132428row5_col3\" class=\"data row5 col3\" >6,572,226 €</td>\n",
       "                        <td id=\"T_e136a14a_a016_11e9_a482_fdf2df132428row5_col4\" class=\"data row5 col4\" >300,201 €</td>\n",
       "                        <td id=\"T_e136a14a_a016_11e9_a482_fdf2df132428row5_col5\" class=\"data row5 col5\" >1,304,889 €</td>\n",
       "                        <td id=\"T_e136a14a_a016_11e9_a482_fdf2df132428row5_col6\" class=\"data row5 col6\" >24,719,792 €</td>\n",
       "                        <td id=\"T_e136a14a_a016_11e9_a482_fdf2df132428row5_col7\" class=\"data row5 col7\" >962 €</td>\n",
       "                        <td id=\"T_e136a14a_a016_11e9_a482_fdf2df132428row5_col8\" class=\"data row5 col8\" >0 €</td>\n",
       "                        <td id=\"T_e136a14a_a016_11e9_a482_fdf2df132428row5_col9\" class=\"data row5 col9\" >1,502,675 €</td>\n",
       "                        <td id=\"T_e136a14a_a016_11e9_a482_fdf2df132428row5_col10\" class=\"data row5 col10\" >64,901,131 €</td>\n",
       "            </tr>\n",
       "            <tr>\n",
       "                        <th id=\"T_e136a14a_a016_11e9_a482_fdf2df132428level0_row6\" class=\"row_heading level0 row6\" >Technische Universität Wien</th>\n",
       "                        <td id=\"T_e136a14a_a016_11e9_a482_fdf2df132428row6_col0\" class=\"data row6 col0\" >2,190,866 €</td>\n",
       "                        <td id=\"T_e136a14a_a016_11e9_a482_fdf2df132428row6_col1\" class=\"data row6 col1\" >14,732,401 €</td>\n",
       "                        <td id=\"T_e136a14a_a016_11e9_a482_fdf2df132428row6_col2\" class=\"data row6 col2\" >13,392,860 €</td>\n",
       "                        <td id=\"T_e136a14a_a016_11e9_a482_fdf2df132428row6_col3\" class=\"data row6 col3\" >19,662,614 €</td>\n",
       "                        <td id=\"T_e136a14a_a016_11e9_a482_fdf2df132428row6_col4\" class=\"data row6 col4\" >394,796 €</td>\n",
       "                        <td id=\"T_e136a14a_a016_11e9_a482_fdf2df132428row6_col5\" class=\"data row6 col5\" >2,886,762 €</td>\n",
       "                        <td id=\"T_e136a14a_a016_11e9_a482_fdf2df132428row6_col6\" class=\"data row6 col6\" >22,101,493 €</td>\n",
       "                        <td id=\"T_e136a14a_a016_11e9_a482_fdf2df132428row6_col7\" class=\"data row6 col7\" >862,147 €</td>\n",
       "                        <td id=\"T_e136a14a_a016_11e9_a482_fdf2df132428row6_col8\" class=\"data row6 col8\" >0 €</td>\n",
       "                        <td id=\"T_e136a14a_a016_11e9_a482_fdf2df132428row6_col9\" class=\"data row6 col9\" >1,262,398 €</td>\n",
       "                        <td id=\"T_e136a14a_a016_11e9_a482_fdf2df132428row6_col10\" class=\"data row6 col10\" >77,486,337 €</td>\n",
       "            </tr>\n",
       "            <tr>\n",
       "                        <th id=\"T_e136a14a_a016_11e9_a482_fdf2df132428level0_row7\" class=\"row_heading level0 row7\" >Universität Graz</th>\n",
       "                        <td id=\"T_e136a14a_a016_11e9_a482_fdf2df132428row7_col0\" class=\"data row7 col0\" >828,649 €</td>\n",
       "                        <td id=\"T_e136a14a_a016_11e9_a482_fdf2df132428row7_col1\" class=\"data row7 col1\" >2,907,788 €</td>\n",
       "                        <td id=\"T_e136a14a_a016_11e9_a482_fdf2df132428row7_col2\" class=\"data row7 col2\" >967,722 €</td>\n",
       "                        <td id=\"T_e136a14a_a016_11e9_a482_fdf2df132428row7_col3\" class=\"data row7 col3\" >12,896,939 €</td>\n",
       "                        <td id=\"T_e136a14a_a016_11e9_a482_fdf2df132428row7_col4\" class=\"data row7 col4\" >685,430 €</td>\n",
       "                        <td id=\"T_e136a14a_a016_11e9_a482_fdf2df132428row7_col5\" class=\"data row7 col5\" >2,123,043 €</td>\n",
       "                        <td id=\"T_e136a14a_a016_11e9_a482_fdf2df132428row7_col6\" class=\"data row7 col6\" >1,721,040 €</td>\n",
       "                        <td id=\"T_e136a14a_a016_11e9_a482_fdf2df132428row7_col7\" class=\"data row7 col7\" >252,022 €</td>\n",
       "                        <td id=\"T_e136a14a_a016_11e9_a482_fdf2df132428row7_col8\" class=\"data row7 col8\" >0 €</td>\n",
       "                        <td id=\"T_e136a14a_a016_11e9_a482_fdf2df132428row7_col9\" class=\"data row7 col9\" >865,364 €</td>\n",
       "                        <td id=\"T_e136a14a_a016_11e9_a482_fdf2df132428row7_col10\" class=\"data row7 col10\" >23,247,997 €</td>\n",
       "            </tr>\n",
       "            <tr>\n",
       "                        <th id=\"T_e136a14a_a016_11e9_a482_fdf2df132428level0_row8\" class=\"row_heading level0 row8\" >Universität Innsbruck</th>\n",
       "                        <td id=\"T_e136a14a_a016_11e9_a482_fdf2df132428row8_col0\" class=\"data row8 col0\" >825,619 €</td>\n",
       "                        <td id=\"T_e136a14a_a016_11e9_a482_fdf2df132428row8_col1\" class=\"data row8 col1\" >8,544,360 €</td>\n",
       "                        <td id=\"T_e136a14a_a016_11e9_a482_fdf2df132428row8_col2\" class=\"data row8 col2\" >3,637,254 €</td>\n",
       "                        <td id=\"T_e136a14a_a016_11e9_a482_fdf2df132428row8_col3\" class=\"data row8 col3\" >16,317,638 €</td>\n",
       "                        <td id=\"T_e136a14a_a016_11e9_a482_fdf2df132428row8_col4\" class=\"data row8 col4\" >184,004 €</td>\n",
       "                        <td id=\"T_e136a14a_a016_11e9_a482_fdf2df132428row8_col5\" class=\"data row8 col5\" >5,495,536 €</td>\n",
       "                        <td id=\"T_e136a14a_a016_11e9_a482_fdf2df132428row8_col6\" class=\"data row8 col6\" >4,795,888 €</td>\n",
       "                        <td id=\"T_e136a14a_a016_11e9_a482_fdf2df132428row8_col7\" class=\"data row8 col7\" >168,906 €</td>\n",
       "                        <td id=\"T_e136a14a_a016_11e9_a482_fdf2df132428row8_col8\" class=\"data row8 col8\" >0 €</td>\n",
       "                        <td id=\"T_e136a14a_a016_11e9_a482_fdf2df132428row8_col9\" class=\"data row8 col9\" >20,815 €</td>\n",
       "                        <td id=\"T_e136a14a_a016_11e9_a482_fdf2df132428row8_col10\" class=\"data row8 col10\" >39,990,020 €</td>\n",
       "            </tr>\n",
       "            <tr>\n",
       "                        <th id=\"T_e136a14a_a016_11e9_a482_fdf2df132428level0_row9\" class=\"row_heading level0 row9\" >Universität Klagenfurt</th>\n",
       "                        <td id=\"T_e136a14a_a016_11e9_a482_fdf2df132428row9_col0\" class=\"data row9 col0\" >960,387 €</td>\n",
       "                        <td id=\"T_e136a14a_a016_11e9_a482_fdf2df132428row9_col1\" class=\"data row9 col1\" >1,024,247 €</td>\n",
       "                        <td id=\"T_e136a14a_a016_11e9_a482_fdf2df132428row9_col2\" class=\"data row9 col2\" >694,327 €</td>\n",
       "                        <td id=\"T_e136a14a_a016_11e9_a482_fdf2df132428row9_col3\" class=\"data row9 col3\" >1,378,473 €</td>\n",
       "                        <td id=\"T_e136a14a_a016_11e9_a482_fdf2df132428row9_col4\" class=\"data row9 col4\" >15,000 €</td>\n",
       "                        <td id=\"T_e136a14a_a016_11e9_a482_fdf2df132428row9_col5\" class=\"data row9 col5\" >584,712 €</td>\n",
       "                        <td id=\"T_e136a14a_a016_11e9_a482_fdf2df132428row9_col6\" class=\"data row9 col6\" >1,606,003 €</td>\n",
       "                        <td id=\"T_e136a14a_a016_11e9_a482_fdf2df132428row9_col7\" class=\"data row9 col7\" >9,804 €</td>\n",
       "                        <td id=\"T_e136a14a_a016_11e9_a482_fdf2df132428row9_col8\" class=\"data row9 col8\" >0 €</td>\n",
       "                        <td id=\"T_e136a14a_a016_11e9_a482_fdf2df132428row9_col9\" class=\"data row9 col9\" >120,901 €</td>\n",
       "                        <td id=\"T_e136a14a_a016_11e9_a482_fdf2df132428row9_col10\" class=\"data row9 col10\" >6,393,854 €</td>\n",
       "            </tr>\n",
       "            <tr>\n",
       "                        <th id=\"T_e136a14a_a016_11e9_a482_fdf2df132428level0_row10\" class=\"row_heading level0 row10\" >Universität Linz</th>\n",
       "                        <td id=\"T_e136a14a_a016_11e9_a482_fdf2df132428row10_col0\" class=\"data row10 col0\" >421,375 €</td>\n",
       "                        <td id=\"T_e136a14a_a016_11e9_a482_fdf2df132428row10_col1\" class=\"data row10 col1\" >2,277,619 €</td>\n",
       "                        <td id=\"T_e136a14a_a016_11e9_a482_fdf2df132428row10_col2\" class=\"data row10 col2\" >6,344,492 €</td>\n",
       "                        <td id=\"T_e136a14a_a016_11e9_a482_fdf2df132428row10_col3\" class=\"data row10 col3\" >7,769,848 €</td>\n",
       "                        <td id=\"T_e136a14a_a016_11e9_a482_fdf2df132428row10_col4\" class=\"data row10 col4\" >63,150 €</td>\n",
       "                        <td id=\"T_e136a14a_a016_11e9_a482_fdf2df132428row10_col5\" class=\"data row10 col5\" >1,294,524 €</td>\n",
       "                        <td id=\"T_e136a14a_a016_11e9_a482_fdf2df132428row10_col6\" class=\"data row10 col6\" >6,284,935 €</td>\n",
       "                        <td id=\"T_e136a14a_a016_11e9_a482_fdf2df132428row10_col7\" class=\"data row10 col7\" >40,341 €</td>\n",
       "                        <td id=\"T_e136a14a_a016_11e9_a482_fdf2df132428row10_col8\" class=\"data row10 col8\" >0 €</td>\n",
       "                        <td id=\"T_e136a14a_a016_11e9_a482_fdf2df132428row10_col9\" class=\"data row10 col9\" >0 €</td>\n",
       "                        <td id=\"T_e136a14a_a016_11e9_a482_fdf2df132428row10_col10\" class=\"data row10 col10\" >24,496,284 €</td>\n",
       "            </tr>\n",
       "            <tr>\n",
       "                        <th id=\"T_e136a14a_a016_11e9_a482_fdf2df132428level0_row11\" class=\"row_heading level0 row11\" >Universität Mozarteum Salzburg</th>\n",
       "                        <td id=\"T_e136a14a_a016_11e9_a482_fdf2df132428row11_col0\" class=\"data row11 col0\" >189,434 €</td>\n",
       "                        <td id=\"T_e136a14a_a016_11e9_a482_fdf2df132428row11_col1\" class=\"data row11 col1\" >0 €</td>\n",
       "                        <td id=\"T_e136a14a_a016_11e9_a482_fdf2df132428row11_col2\" class=\"data row11 col2\" >0 €</td>\n",
       "                        <td id=\"T_e136a14a_a016_11e9_a482_fdf2df132428row11_col3\" class=\"data row11 col3\" >38,326 €</td>\n",
       "                        <td id=\"T_e136a14a_a016_11e9_a482_fdf2df132428row11_col4\" class=\"data row11 col4\" >51,300 €</td>\n",
       "                        <td id=\"T_e136a14a_a016_11e9_a482_fdf2df132428row11_col5\" class=\"data row11 col5\" >95,075 €</td>\n",
       "                        <td id=\"T_e136a14a_a016_11e9_a482_fdf2df132428row11_col6\" class=\"data row11 col6\" >91,463 €</td>\n",
       "                        <td id=\"T_e136a14a_a016_11e9_a482_fdf2df132428row11_col7\" class=\"data row11 col7\" >0 €</td>\n",
       "                        <td id=\"T_e136a14a_a016_11e9_a482_fdf2df132428row11_col8\" class=\"data row11 col8\" >0 €</td>\n",
       "                        <td id=\"T_e136a14a_a016_11e9_a482_fdf2df132428row11_col9\" class=\"data row11 col9\" >0 €</td>\n",
       "                        <td id=\"T_e136a14a_a016_11e9_a482_fdf2df132428row11_col10\" class=\"data row11 col10\" >465,598 €</td>\n",
       "            </tr>\n",
       "            <tr>\n",
       "                        <th id=\"T_e136a14a_a016_11e9_a482_fdf2df132428level0_row12\" class=\"row_heading level0 row12\" >Universität Salzburg</th>\n",
       "                        <td id=\"T_e136a14a_a016_11e9_a482_fdf2df132428row12_col0\" class=\"data row12 col0\" >1,246,121 €</td>\n",
       "                        <td id=\"T_e136a14a_a016_11e9_a482_fdf2df132428row12_col1\" class=\"data row12 col1\" >3,069,169 €</td>\n",
       "                        <td id=\"T_e136a14a_a016_11e9_a482_fdf2df132428row12_col2\" class=\"data row12 col2\" >746,852 €</td>\n",
       "                        <td id=\"T_e136a14a_a016_11e9_a482_fdf2df132428row12_col3\" class=\"data row12 col3\" >7,666,637 €</td>\n",
       "                        <td id=\"T_e136a14a_a016_11e9_a482_fdf2df132428row12_col4\" class=\"data row12 col4\" >346,006 €</td>\n",
       "                        <td id=\"T_e136a14a_a016_11e9_a482_fdf2df132428row12_col5\" class=\"data row12 col5\" >1,447,449 €</td>\n",
       "                        <td id=\"T_e136a14a_a016_11e9_a482_fdf2df132428row12_col6\" class=\"data row12 col6\" >1,174,206 €</td>\n",
       "                        <td id=\"T_e136a14a_a016_11e9_a482_fdf2df132428row12_col7\" class=\"data row12 col7\" >0 €</td>\n",
       "                        <td id=\"T_e136a14a_a016_11e9_a482_fdf2df132428row12_col8\" class=\"data row12 col8\" >0 €</td>\n",
       "                        <td id=\"T_e136a14a_a016_11e9_a482_fdf2df132428row12_col9\" class=\"data row12 col9\" >1,219,963 €</td>\n",
       "                        <td id=\"T_e136a14a_a016_11e9_a482_fdf2df132428row12_col10\" class=\"data row12 col10\" >16,916,403 €</td>\n",
       "            </tr>\n",
       "            <tr>\n",
       "                        <th id=\"T_e136a14a_a016_11e9_a482_fdf2df132428level0_row13\" class=\"row_heading level0 row13\" >Universität Wien</th>\n",
       "                        <td id=\"T_e136a14a_a016_11e9_a482_fdf2df132428row13_col0\" class=\"data row13 col0\" >3,548,645 €</td>\n",
       "                        <td id=\"T_e136a14a_a016_11e9_a482_fdf2df132428row13_col1\" class=\"data row13 col1\" >13,633,780 €</td>\n",
       "                        <td id=\"T_e136a14a_a016_11e9_a482_fdf2df132428row13_col2\" class=\"data row13 col2\" >1,377,937 €</td>\n",
       "                        <td id=\"T_e136a14a_a016_11e9_a482_fdf2df132428row13_col3\" class=\"data row13 col3\" >41,065,705 €</td>\n",
       "                        <td id=\"T_e136a14a_a016_11e9_a482_fdf2df132428row13_col4\" class=\"data row13 col4\" >120,302 €</td>\n",
       "                        <td id=\"T_e136a14a_a016_11e9_a482_fdf2df132428row13_col5\" class=\"data row13 col5\" >5,636,763 €</td>\n",
       "                        <td id=\"T_e136a14a_a016_11e9_a482_fdf2df132428row13_col6\" class=\"data row13 col6\" >3,264,946 €</td>\n",
       "                        <td id=\"T_e136a14a_a016_11e9_a482_fdf2df132428row13_col7\" class=\"data row13 col7\" >315,376 €</td>\n",
       "                        <td id=\"T_e136a14a_a016_11e9_a482_fdf2df132428row13_col8\" class=\"data row13 col8\" >0 €</td>\n",
       "                        <td id=\"T_e136a14a_a016_11e9_a482_fdf2df132428row13_col9\" class=\"data row13 col9\" >5,587,203 €</td>\n",
       "                        <td id=\"T_e136a14a_a016_11e9_a482_fdf2df132428row13_col10\" class=\"data row13 col10\" >74,550,657 €</td>\n",
       "            </tr>\n",
       "            <tr>\n",
       "                        <th id=\"T_e136a14a_a016_11e9_a482_fdf2df132428level0_row14\" class=\"row_heading level0 row14\" >Universität für Bodenkultur Wien</th>\n",
       "                        <td id=\"T_e136a14a_a016_11e9_a482_fdf2df132428row14_col0\" class=\"data row14 col0\" >3,409,778 €</td>\n",
       "                        <td id=\"T_e136a14a_a016_11e9_a482_fdf2df132428row14_col1\" class=\"data row14 col1\" >7,516,953 €</td>\n",
       "                        <td id=\"T_e136a14a_a016_11e9_a482_fdf2df132428row14_col2\" class=\"data row14 col2\" >1,798,903 €</td>\n",
       "                        <td id=\"T_e136a14a_a016_11e9_a482_fdf2df132428row14_col3\" class=\"data row14 col3\" >8,173,203 €</td>\n",
       "                        <td id=\"T_e136a14a_a016_11e9_a482_fdf2df132428row14_col4\" class=\"data row14 col4\" >269,196 €</td>\n",
       "                        <td id=\"T_e136a14a_a016_11e9_a482_fdf2df132428row14_col5\" class=\"data row14 col5\" >3,094,382 €</td>\n",
       "                        <td id=\"T_e136a14a_a016_11e9_a482_fdf2df132428row14_col6\" class=\"data row14 col6\" >14,549,837 €</td>\n",
       "                        <td id=\"T_e136a14a_a016_11e9_a482_fdf2df132428row14_col7\" class=\"data row14 col7\" >149,139 €</td>\n",
       "                        <td id=\"T_e136a14a_a016_11e9_a482_fdf2df132428row14_col8\" class=\"data row14 col8\" >112,088 €</td>\n",
       "                        <td id=\"T_e136a14a_a016_11e9_a482_fdf2df132428row14_col9\" class=\"data row14 col9\" >267,120 €</td>\n",
       "                        <td id=\"T_e136a14a_a016_11e9_a482_fdf2df132428row14_col10\" class=\"data row14 col10\" >39,340,599 €</td>\n",
       "            </tr>\n",
       "            <tr>\n",
       "                        <th id=\"T_e136a14a_a016_11e9_a482_fdf2df132428level0_row15\" class=\"row_heading level0 row15\" >Universität für Musik und darstellende Kunst Graz</th>\n",
       "                        <td id=\"T_e136a14a_a016_11e9_a482_fdf2df132428row15_col0\" class=\"data row15 col0\" >176,520 €</td>\n",
       "                        <td id=\"T_e136a14a_a016_11e9_a482_fdf2df132428row15_col1\" class=\"data row15 col1\" >0 €</td>\n",
       "                        <td id=\"T_e136a14a_a016_11e9_a482_fdf2df132428row15_col2\" class=\"data row15 col2\" >42,413 €</td>\n",
       "                        <td id=\"T_e136a14a_a016_11e9_a482_fdf2df132428row15_col3\" class=\"data row15 col3\" >645,534 €</td>\n",
       "                        <td id=\"T_e136a14a_a016_11e9_a482_fdf2df132428row15_col4\" class=\"data row15 col4\" >127,876 €</td>\n",
       "                        <td id=\"T_e136a14a_a016_11e9_a482_fdf2df132428row15_col5\" class=\"data row15 col5\" >152,113 €</td>\n",
       "                        <td id=\"T_e136a14a_a016_11e9_a482_fdf2df132428row15_col6\" class=\"data row15 col6\" >215,121 €</td>\n",
       "                        <td id=\"T_e136a14a_a016_11e9_a482_fdf2df132428row15_col7\" class=\"data row15 col7\" >0 €</td>\n",
       "                        <td id=\"T_e136a14a_a016_11e9_a482_fdf2df132428row15_col8\" class=\"data row15 col8\" >0 €</td>\n",
       "                        <td id=\"T_e136a14a_a016_11e9_a482_fdf2df132428row15_col9\" class=\"data row15 col9\" >0 €</td>\n",
       "                        <td id=\"T_e136a14a_a016_11e9_a482_fdf2df132428row15_col10\" class=\"data row15 col10\" >1,359,577 €</td>\n",
       "            </tr>\n",
       "            <tr>\n",
       "                        <th id=\"T_e136a14a_a016_11e9_a482_fdf2df132428level0_row16\" class=\"row_heading level0 row16\" >Universität für Musik und darstellende Kunst Wien</th>\n",
       "                        <td id=\"T_e136a14a_a016_11e9_a482_fdf2df132428row16_col0\" class=\"data row16 col0\" >132,225 €</td>\n",
       "                        <td id=\"T_e136a14a_a016_11e9_a482_fdf2df132428row16_col1\" class=\"data row16 col1\" >277,190 €</td>\n",
       "                        <td id=\"T_e136a14a_a016_11e9_a482_fdf2df132428row16_col2\" class=\"data row16 col2\" >0 €</td>\n",
       "                        <td id=\"T_e136a14a_a016_11e9_a482_fdf2df132428row16_col3\" class=\"data row16 col3\" >465,349 €</td>\n",
       "                        <td id=\"T_e136a14a_a016_11e9_a482_fdf2df132428row16_col4\" class=\"data row16 col4\" >8,000 €</td>\n",
       "                        <td id=\"T_e136a14a_a016_11e9_a482_fdf2df132428row16_col5\" class=\"data row16 col5\" >186,055 €</td>\n",
       "                        <td id=\"T_e136a14a_a016_11e9_a482_fdf2df132428row16_col6\" class=\"data row16 col6\" >9,484 €</td>\n",
       "                        <td id=\"T_e136a14a_a016_11e9_a482_fdf2df132428row16_col7\" class=\"data row16 col7\" >0 €</td>\n",
       "                        <td id=\"T_e136a14a_a016_11e9_a482_fdf2df132428row16_col8\" class=\"data row16 col8\" >0 €</td>\n",
       "                        <td id=\"T_e136a14a_a016_11e9_a482_fdf2df132428row16_col9\" class=\"data row16 col9\" >0 €</td>\n",
       "                        <td id=\"T_e136a14a_a016_11e9_a482_fdf2df132428row16_col10\" class=\"data row16 col10\" >1,078,303 €</td>\n",
       "            </tr>\n",
       "            <tr>\n",
       "                        <th id=\"T_e136a14a_a016_11e9_a482_fdf2df132428level0_row17\" class=\"row_heading level0 row17\" >Universität für Weiterbildung Krems</th>\n",
       "                        <td id=\"T_e136a14a_a016_11e9_a482_fdf2df132428row17_col0\" class=\"data row17 col0\" >759,462 €</td>\n",
       "                        <td id=\"T_e136a14a_a016_11e9_a482_fdf2df132428row17_col1\" class=\"data row17 col1\" >811,092 €</td>\n",
       "                        <td id=\"T_e136a14a_a016_11e9_a482_fdf2df132428row17_col2\" class=\"data row17 col2\" >624,344 €</td>\n",
       "                        <td id=\"T_e136a14a_a016_11e9_a482_fdf2df132428row17_col3\" class=\"data row17 col3\" >298,713 €</td>\n",
       "                        <td id=\"T_e136a14a_a016_11e9_a482_fdf2df132428row17_col4\" class=\"data row17 col4\" >39,396 €</td>\n",
       "                        <td id=\"T_e136a14a_a016_11e9_a482_fdf2df132428row17_col5\" class=\"data row17 col5\" >2,291,288 €</td>\n",
       "                        <td id=\"T_e136a14a_a016_11e9_a482_fdf2df132428row17_col6\" class=\"data row17 col6\" >407,769 €</td>\n",
       "                        <td id=\"T_e136a14a_a016_11e9_a482_fdf2df132428row17_col7\" class=\"data row17 col7\" >0 €</td>\n",
       "                        <td id=\"T_e136a14a_a016_11e9_a482_fdf2df132428row17_col8\" class=\"data row17 col8\" >0 €</td>\n",
       "                        <td id=\"T_e136a14a_a016_11e9_a482_fdf2df132428row17_col9\" class=\"data row17 col9\" >235,995 €</td>\n",
       "                        <td id=\"T_e136a14a_a016_11e9_a482_fdf2df132428row17_col10\" class=\"data row17 col10\" >5,468,059 €</td>\n",
       "            </tr>\n",
       "            <tr>\n",
       "                        <th id=\"T_e136a14a_a016_11e9_a482_fdf2df132428level0_row18\" class=\"row_heading level0 row18\" >Universität für angewandte Kunst Wien</th>\n",
       "                        <td id=\"T_e136a14a_a016_11e9_a482_fdf2df132428row18_col0\" class=\"data row18 col0\" >169,276 €</td>\n",
       "                        <td id=\"T_e136a14a_a016_11e9_a482_fdf2df132428row18_col1\" class=\"data row18 col1\" >466,081 €</td>\n",
       "                        <td id=\"T_e136a14a_a016_11e9_a482_fdf2df132428row18_col2\" class=\"data row18 col2\" >52,064 €</td>\n",
       "                        <td id=\"T_e136a14a_a016_11e9_a482_fdf2df132428row18_col3\" class=\"data row18 col3\" >1,152,829 €</td>\n",
       "                        <td id=\"T_e136a14a_a016_11e9_a482_fdf2df132428row18_col4\" class=\"data row18 col4\" >110 €</td>\n",
       "                        <td id=\"T_e136a14a_a016_11e9_a482_fdf2df132428row18_col5\" class=\"data row18 col5\" >47,474 €</td>\n",
       "                        <td id=\"T_e136a14a_a016_11e9_a482_fdf2df132428row18_col6\" class=\"data row18 col6\" >164,807 €</td>\n",
       "                        <td id=\"T_e136a14a_a016_11e9_a482_fdf2df132428row18_col7\" class=\"data row18 col7\" >1,839 €</td>\n",
       "                        <td id=\"T_e136a14a_a016_11e9_a482_fdf2df132428row18_col8\" class=\"data row18 col8\" >0 €</td>\n",
       "                        <td id=\"T_e136a14a_a016_11e9_a482_fdf2df132428row18_col9\" class=\"data row18 col9\" >106,017 €</td>\n",
       "                        <td id=\"T_e136a14a_a016_11e9_a482_fdf2df132428row18_col10\" class=\"data row18 col10\" >2,160,497 €</td>\n",
       "            </tr>\n",
       "            <tr>\n",
       "                        <th id=\"T_e136a14a_a016_11e9_a482_fdf2df132428level0_row19\" class=\"row_heading level0 row19\" >Universität für künstlerische und industrielle Gestaltung Linz</th>\n",
       "                        <td id=\"T_e136a14a_a016_11e9_a482_fdf2df132428row19_col0\" class=\"data row19 col0\" >585,690 €</td>\n",
       "                        <td id=\"T_e136a14a_a016_11e9_a482_fdf2df132428row19_col1\" class=\"data row19 col1\" >0 €</td>\n",
       "                        <td id=\"T_e136a14a_a016_11e9_a482_fdf2df132428row19_col2\" class=\"data row19 col2\" >0 €</td>\n",
       "                        <td id=\"T_e136a14a_a016_11e9_a482_fdf2df132428row19_col3\" class=\"data row19 col3\" >384,336 €</td>\n",
       "                        <td id=\"T_e136a14a_a016_11e9_a482_fdf2df132428row19_col4\" class=\"data row19 col4\" >8,000 €</td>\n",
       "                        <td id=\"T_e136a14a_a016_11e9_a482_fdf2df132428row19_col5\" class=\"data row19 col5\" >153,983 €</td>\n",
       "                        <td id=\"T_e136a14a_a016_11e9_a482_fdf2df132428row19_col6\" class=\"data row19 col6\" >222,149 €</td>\n",
       "                        <td id=\"T_e136a14a_a016_11e9_a482_fdf2df132428row19_col7\" class=\"data row19 col7\" >150,704 €</td>\n",
       "                        <td id=\"T_e136a14a_a016_11e9_a482_fdf2df132428row19_col8\" class=\"data row19 col8\" >0 €</td>\n",
       "                        <td id=\"T_e136a14a_a016_11e9_a482_fdf2df132428row19_col9\" class=\"data row19 col9\" >173,421 €</td>\n",
       "                        <td id=\"T_e136a14a_a016_11e9_a482_fdf2df132428row19_col10\" class=\"data row19 col10\" >1,678,283 €</td>\n",
       "            </tr>\n",
       "            <tr>\n",
       "                        <th id=\"T_e136a14a_a016_11e9_a482_fdf2df132428level0_row20\" class=\"row_heading level0 row20\" >Veterinärmedizinische Universität Wien</th>\n",
       "                        <td id=\"T_e136a14a_a016_11e9_a482_fdf2df132428row20_col0\" class=\"data row20 col0\" >470,387 €</td>\n",
       "                        <td id=\"T_e136a14a_a016_11e9_a482_fdf2df132428row20_col1\" class=\"data row20 col1\" >599,004 €</td>\n",
       "                        <td id=\"T_e136a14a_a016_11e9_a482_fdf2df132428row20_col2\" class=\"data row20 col2\" >31,396 €</td>\n",
       "                        <td id=\"T_e136a14a_a016_11e9_a482_fdf2df132428row20_col3\" class=\"data row20 col3\" >4,739,233 €</td>\n",
       "                        <td id=\"T_e136a14a_a016_11e9_a482_fdf2df132428row20_col4\" class=\"data row20 col4\" >0 €</td>\n",
       "                        <td id=\"T_e136a14a_a016_11e9_a482_fdf2df132428row20_col5\" class=\"data row20 col5\" >370,427 €</td>\n",
       "                        <td id=\"T_e136a14a_a016_11e9_a482_fdf2df132428row20_col6\" class=\"data row20 col6\" >2,207,437 €</td>\n",
       "                        <td id=\"T_e136a14a_a016_11e9_a482_fdf2df132428row20_col7\" class=\"data row20 col7\" >0 €</td>\n",
       "                        <td id=\"T_e136a14a_a016_11e9_a482_fdf2df132428row20_col8\" class=\"data row20 col8\" >0 €</td>\n",
       "                        <td id=\"T_e136a14a_a016_11e9_a482_fdf2df132428row20_col9\" class=\"data row20 col9\" >394,791 €</td>\n",
       "                        <td id=\"T_e136a14a_a016_11e9_a482_fdf2df132428row20_col10\" class=\"data row20 col10\" >8,812,675 €</td>\n",
       "            </tr>\n",
       "            <tr>\n",
       "                        <th id=\"T_e136a14a_a016_11e9_a482_fdf2df132428level0_row21\" class=\"row_heading level0 row21\" >Wirtschaftsuniversität Wien</th>\n",
       "                        <td id=\"T_e136a14a_a016_11e9_a482_fdf2df132428row21_col0\" class=\"data row21 col0\" >387,761 €</td>\n",
       "                        <td id=\"T_e136a14a_a016_11e9_a482_fdf2df132428row21_col1\" class=\"data row21 col1\" >2,070,273 €</td>\n",
       "                        <td id=\"T_e136a14a_a016_11e9_a482_fdf2df132428row21_col2\" class=\"data row21 col2\" >320,741 €</td>\n",
       "                        <td id=\"T_e136a14a_a016_11e9_a482_fdf2df132428row21_col3\" class=\"data row21 col3\" >1,450,782 €</td>\n",
       "                        <td id=\"T_e136a14a_a016_11e9_a482_fdf2df132428row21_col4\" class=\"data row21 col4\" >0 €</td>\n",
       "                        <td id=\"T_e136a14a_a016_11e9_a482_fdf2df132428row21_col5\" class=\"data row21 col5\" >174,321 €</td>\n",
       "                        <td id=\"T_e136a14a_a016_11e9_a482_fdf2df132428row21_col6\" class=\"data row21 col6\" >1,386,378 €</td>\n",
       "                        <td id=\"T_e136a14a_a016_11e9_a482_fdf2df132428row21_col7\" class=\"data row21 col7\" >321,429 €</td>\n",
       "                        <td id=\"T_e136a14a_a016_11e9_a482_fdf2df132428row21_col8\" class=\"data row21 col8\" >0 €</td>\n",
       "                        <td id=\"T_e136a14a_a016_11e9_a482_fdf2df132428row21_col9\" class=\"data row21 col9\" >2,475,309 €</td>\n",
       "                        <td id=\"T_e136a14a_a016_11e9_a482_fdf2df132428row21_col10\" class=\"data row21 col10\" >8,586,994 €</td>\n",
       "            </tr>\n",
       "    </tbody></table>"
      ],
      "text/plain": [
       "<pandas.io.formats.style.Styler at 0x7f6991b027b8>"
      ]
     },
     "metadata": {},
     "output_type": "display_data"
    },
    {
     "name": "stdout",
     "output_type": "stream",
     "text": [
      "74,550,657 €\n"
     ]
    }
   ],
   "source": [
    "import numpy as np\n",
    "import pandas as pd\n",
    "from IPython.core.display import HTML\n",
    "\n",
    "def pretty(dataframe):\n",
    "    display(dataframe.style.format({'funding': '{:,} €'}))\n",
    "\n",
    "raw_data = pd.read_csv('1.C.1.csv', delimiter=';')\n",
    "data = raw_data[raw_data.year == 2018].drop('year', 1)\n",
    "\n",
    "unis = dict()\n",
    "for uni in data.university.unique():\n",
    "    unis[uni] = list()\n",
    "    uni_data = data[data.university == uni].funding.sum()\n",
    "    #if not uni.startswith(\"Univ\") or uni_data < 5000000:\n",
    "    #    data = data[data.university != uni]\n",
    " \n",
    "table = pd.pivot_table(data, values='funding', index=['university'],\n",
    "                       columns=['funder'], fill_value=0, #margins=True,\n",
    "                       aggfunc=np.sum)\n",
    "\n",
    "totals_abs = table.sum()\n",
    "totals_avg = table.mean()\n",
    "totals = totals_abs/totals_abs.sum()\n",
    "\n",
    "sums = table.agg(['sum'], axis=\"columns\")['sum']\n",
    "sums_avg = table.agg(['mean'], axis=\"columns\")['mean']\n",
    "\n",
    "interesting = 1 * table.gt(sums_avg, axis=\"rows\") \\\n",
    "            + 2 * table.div(sums, axis=\"rows\").gt(totals) \\\n",
    "            + 4 * table.gt(totals_avg, axis=\"columns\") \n",
    "\n",
    "\n",
    "#1: uniintern\n",
    "#2: vergleichend, relativ\n",
    "#3: systemisch\n",
    "\n",
    "interesting = interesting.rename(index=str, columns={'sonstige': 'sonstige Fördergeber', 'nicht bekannt / nicht zuordenbar': 'nicht zuordenbare Fördergeber'})\n",
    "headers = interesting.columns\n",
    "for row in interesting.itertuples():\n",
    "    (uni, *values) = row\n",
    "    for idx, element in enumerate(values):\n",
    "        funder = headers[idx]\n",
    "        switcher = [\n",
    "            '',\n",
    "            '$funder ist zwar uniintern wichtig, aber andere Universitäten setzen stärker auf $funder. Für $funder ist die Universität nicht relevant.',\n",
    "            'Die $uni ist von $funder stärker abhängig als andere Universitäten, auch wenn $funder uniintern keine hohe Bedeutung hat. Auch für $funder ist die Universität nicht relevant.',\n",
    "            '$funder ist sowohl innerhalb der Universität als auch im relativen Vergleich mit anderen eine wichtige Geldquelle. Für $funder allerdings ist die $uni nicht relevant.',\n",
    "            'Für $funder ist die Universität bedeutsam, aber innerhalb und im relativen Vergleich mit anderen Universitäten ist $funder nicht relevant.',\n",
    "            'Obwohl die Universität bei $funder eine erfolgreiche Fördernehmerin ist, konzentrieren andere Universitäten stärker auf $funder. Dennoch ist $funder einer der großen Förderer .',\n",
    "            'Die Universität ist erfolgreich bei $funder und auch für $funder ist die $uni relevant. Nur uniintern hat $funder keine große Bedeutung.',\n",
    "            '$funder ist ein wichtiger Fördergeber, sowohl intern als auch im relativen Vergleich mit anderen Universitäten. Und auch für $funder ist die $uni eine wichtige Partnerin.'           \n",
    "        ]\n",
    "        \n",
    "        text = switcher[element].replace('$uni', uni).replace('$funder', '<strong>' + funder + '</strong>')\n",
    "        if text != '':\n",
    "            text = text[0:1].capitalize() + text[1:]\n",
    "            unis[uni].append((element, text, funder))\n",
    "            \n",
    "for uni, statements in unis.items():\n",
    "    if len(statements) > 0:\n",
    "        statements.sort(key=lambda tup: tup[0], reverse=True)\n",
    "        old_importance = 0\n",
    "        display(HTML('<h3>' + uni + '</h3><p style=\"font-family:verdana\">'))\n",
    "        text = ''\n",
    "        for statement in statements:\n",
    "            importance = statement[0]\n",
    "            if importance == old_importance:\n",
    "                text += 'Dies lässt sich ebenso über <strong>' + statement[2] + '</strong> sagen.'\n",
    "            else:\n",
    "                text += '<br/>' + statement[1]\n",
    "            text += ' '\n",
    "            old_importance = importance\n",
    "            \n",
    "        display(HTML(text + '</p>'))\n",
    "        \n",
    "        \n",
    "table['Summe'] = table.agg(['sum'], axis=\"columns\")\n",
    "\n",
    "display(table.style.format('{:,} €'))\n",
    "    \n",
    "print('{:,} €'.format(table.loc[('Universität Wien', 'Summe')]))"
   ]
  },
  {
   "cell_type": "code",
   "execution_count": 104,
   "metadata": {},
   "outputs": [
    {
     "data": {
      "text/html": [
       "<style  type=\"text/css\" >\n",
       "</style><table id=\"T_ccec97de_a021_11e9_a482_fdf2df132428\" ><thead>    <tr>        <th class=\"index_name level0\" >funder</th>        <th class=\"col_heading level0 col0\" >Bund (Ministerien)</th>        <th class=\"col_heading level0 col1\" >EU</th>        <th class=\"col_heading level0 col2\" >FFG</th>        <th class=\"col_heading level0 col3\" >FWF</th>        <th class=\"col_heading level0 col4\" >Gemeinden und Gemeindeverbände (ohne Wien)</th>        <th class=\"col_heading level0 col5\" >Länder (inkl. deren Stiftungen und Einrichtungen)</th>        <th class=\"col_heading level0 col6\" >Unternehmen</th>        <th class=\"col_heading level0 col7\" >andere internationale Organisationen</th>        <th class=\"col_heading level0 col8\" >nicht bekannt / nicht zuordenbar</th>        <th class=\"col_heading level0 col9\" >sonstige</th>    </tr>    <tr>        <th class=\"index_name level0\" >university</th>        <th class=\"blank\" ></th>        <th class=\"blank\" ></th>        <th class=\"blank\" ></th>        <th class=\"blank\" ></th>        <th class=\"blank\" ></th>        <th class=\"blank\" ></th>        <th class=\"blank\" ></th>        <th class=\"blank\" ></th>        <th class=\"blank\" ></th>        <th class=\"blank\" ></th>    </tr></thead><tbody>\n",
       "                <tr>\n",
       "                        <th id=\"T_ccec97de_a021_11e9_a482_fdf2df132428level0_row0\" class=\"row_heading level0 row0\" >Akademie der bildenden Künste Wien</th>\n",
       "                        <td id=\"T_ccec97de_a021_11e9_a482_fdf2df132428row0_col0\" class=\"data row0 col0\" >6.3%</td>\n",
       "                        <td id=\"T_ccec97de_a021_11e9_a482_fdf2df132428row0_col1\" class=\"data row0 col1\" >0.2%</td>\n",
       "                        <td id=\"T_ccec97de_a021_11e9_a482_fdf2df132428row0_col2\" class=\"data row0 col2\" >0.0%</td>\n",
       "                        <td id=\"T_ccec97de_a021_11e9_a482_fdf2df132428row0_col3\" class=\"data row0 col3\" >71.1%</td>\n",
       "                        <td id=\"T_ccec97de_a021_11e9_a482_fdf2df132428row0_col4\" class=\"data row0 col4\" >0.1%</td>\n",
       "                        <td id=\"T_ccec97de_a021_11e9_a482_fdf2df132428row0_col5\" class=\"data row0 col5\" >1.4%</td>\n",
       "                        <td id=\"T_ccec97de_a021_11e9_a482_fdf2df132428row0_col6\" class=\"data row0 col6\" >1.5%</td>\n",
       "                        <td id=\"T_ccec97de_a021_11e9_a482_fdf2df132428row0_col7\" class=\"data row0 col7\" >0.0%</td>\n",
       "                        <td id=\"T_ccec97de_a021_11e9_a482_fdf2df132428row0_col8\" class=\"data row0 col8\" >0.0%</td>\n",
       "                        <td id=\"T_ccec97de_a021_11e9_a482_fdf2df132428row0_col9\" class=\"data row0 col9\" >19.4%</td>\n",
       "            </tr>\n",
       "            <tr>\n",
       "                        <th id=\"T_ccec97de_a021_11e9_a482_fdf2df132428level0_row1\" class=\"row_heading level0 row1\" >Medizinische Universität Graz</th>\n",
       "                        <td id=\"T_ccec97de_a021_11e9_a482_fdf2df132428row1_col0\" class=\"data row1 col0\" >1.5%</td>\n",
       "                        <td id=\"T_ccec97de_a021_11e9_a482_fdf2df132428row1_col1\" class=\"data row1 col1\" >4.5%</td>\n",
       "                        <td id=\"T_ccec97de_a021_11e9_a482_fdf2df132428row1_col2\" class=\"data row1 col2\" >2.0%</td>\n",
       "                        <td id=\"T_ccec97de_a021_11e9_a482_fdf2df132428row1_col3\" class=\"data row1 col3\" >9.3%</td>\n",
       "                        <td id=\"T_ccec97de_a021_11e9_a482_fdf2df132428row1_col4\" class=\"data row1 col4\" >0.1%</td>\n",
       "                        <td id=\"T_ccec97de_a021_11e9_a482_fdf2df132428row1_col5\" class=\"data row1 col5\" >9.7%</td>\n",
       "                        <td id=\"T_ccec97de_a021_11e9_a482_fdf2df132428row1_col6\" class=\"data row1 col6\" >68.4%</td>\n",
       "                        <td id=\"T_ccec97de_a021_11e9_a482_fdf2df132428row1_col7\" class=\"data row1 col7\" >0.3%</td>\n",
       "                        <td id=\"T_ccec97de_a021_11e9_a482_fdf2df132428row1_col8\" class=\"data row1 col8\" >0.0%</td>\n",
       "                        <td id=\"T_ccec97de_a021_11e9_a482_fdf2df132428row1_col9\" class=\"data row1 col9\" >4.2%</td>\n",
       "            </tr>\n",
       "            <tr>\n",
       "                        <th id=\"T_ccec97de_a021_11e9_a482_fdf2df132428level0_row2\" class=\"row_heading level0 row2\" >Medizinische Universität Innsbruck</th>\n",
       "                        <td id=\"T_ccec97de_a021_11e9_a482_fdf2df132428row2_col0\" class=\"data row2 col0\" >9.8%</td>\n",
       "                        <td id=\"T_ccec97de_a021_11e9_a482_fdf2df132428row2_col1\" class=\"data row2 col1\" >8.4%</td>\n",
       "                        <td id=\"T_ccec97de_a021_11e9_a482_fdf2df132428row2_col2\" class=\"data row2 col2\" >1.6%</td>\n",
       "                        <td id=\"T_ccec97de_a021_11e9_a482_fdf2df132428row2_col3\" class=\"data row2 col3\" >21.7%</td>\n",
       "                        <td id=\"T_ccec97de_a021_11e9_a482_fdf2df132428row2_col4\" class=\"data row2 col4\" >0.0%</td>\n",
       "                        <td id=\"T_ccec97de_a021_11e9_a482_fdf2df132428row2_col5\" class=\"data row2 col5\" >1.3%</td>\n",
       "                        <td id=\"T_ccec97de_a021_11e9_a482_fdf2df132428row2_col6\" class=\"data row2 col6\" >56.3%</td>\n",
       "                        <td id=\"T_ccec97de_a021_11e9_a482_fdf2df132428row2_col7\" class=\"data row2 col7\" >0.0%</td>\n",
       "                        <td id=\"T_ccec97de_a021_11e9_a482_fdf2df132428row2_col8\" class=\"data row2 col8\" >0.0%</td>\n",
       "                        <td id=\"T_ccec97de_a021_11e9_a482_fdf2df132428row2_col9\" class=\"data row2 col9\" >1.0%</td>\n",
       "            </tr>\n",
       "            <tr>\n",
       "                        <th id=\"T_ccec97de_a021_11e9_a482_fdf2df132428level0_row3\" class=\"row_heading level0 row3\" >Medizinische Universität Wien</th>\n",
       "                        <td id=\"T_ccec97de_a021_11e9_a482_fdf2df132428row3_col0\" class=\"data row3 col0\" >1.9%</td>\n",
       "                        <td id=\"T_ccec97de_a021_11e9_a482_fdf2df132428row3_col1\" class=\"data row3 col1\" >9.7%</td>\n",
       "                        <td id=\"T_ccec97de_a021_11e9_a482_fdf2df132428row3_col2\" class=\"data row3 col2\" >0.7%</td>\n",
       "                        <td id=\"T_ccec97de_a021_11e9_a482_fdf2df132428row3_col3\" class=\"data row3 col3\" >21.8%</td>\n",
       "                        <td id=\"T_ccec97de_a021_11e9_a482_fdf2df132428row3_col4\" class=\"data row3 col4\" >0.1%</td>\n",
       "                        <td id=\"T_ccec97de_a021_11e9_a482_fdf2df132428row3_col5\" class=\"data row3 col5\" >2.3%</td>\n",
       "                        <td id=\"T_ccec97de_a021_11e9_a482_fdf2df132428row3_col6\" class=\"data row3 col6\" >24.9%</td>\n",
       "                        <td id=\"T_ccec97de_a021_11e9_a482_fdf2df132428row3_col7\" class=\"data row3 col7\" >0.2%</td>\n",
       "                        <td id=\"T_ccec97de_a021_11e9_a482_fdf2df132428row3_col8\" class=\"data row3 col8\" >0.0%</td>\n",
       "                        <td id=\"T_ccec97de_a021_11e9_a482_fdf2df132428row3_col9\" class=\"data row3 col9\" >38.5%</td>\n",
       "            </tr>\n",
       "            <tr>\n",
       "                        <th id=\"T_ccec97de_a021_11e9_a482_fdf2df132428level0_row4\" class=\"row_heading level0 row4\" >Montanuniversität Leoben</th>\n",
       "                        <td id=\"T_ccec97de_a021_11e9_a482_fdf2df132428row4_col0\" class=\"data row4 col0\" >8.8%</td>\n",
       "                        <td id=\"T_ccec97de_a021_11e9_a482_fdf2df132428row4_col1\" class=\"data row4 col1\" >9.7%</td>\n",
       "                        <td id=\"T_ccec97de_a021_11e9_a482_fdf2df132428row4_col2\" class=\"data row4 col2\" >23.2%</td>\n",
       "                        <td id=\"T_ccec97de_a021_11e9_a482_fdf2df132428row4_col3\" class=\"data row4 col3\" >3.5%</td>\n",
       "                        <td id=\"T_ccec97de_a021_11e9_a482_fdf2df132428row4_col4\" class=\"data row4 col4\" >0.0%</td>\n",
       "                        <td id=\"T_ccec97de_a021_11e9_a482_fdf2df132428row4_col5\" class=\"data row4 col5\" >14.9%</td>\n",
       "                        <td id=\"T_ccec97de_a021_11e9_a482_fdf2df132428row4_col6\" class=\"data row4 col6\" >39.9%</td>\n",
       "                        <td id=\"T_ccec97de_a021_11e9_a482_fdf2df132428row4_col7\" class=\"data row4 col7\" >0.0%</td>\n",
       "                        <td id=\"T_ccec97de_a021_11e9_a482_fdf2df132428row4_col8\" class=\"data row4 col8\" >0.0%</td>\n",
       "                        <td id=\"T_ccec97de_a021_11e9_a482_fdf2df132428row4_col9\" class=\"data row4 col9\" >0.0%</td>\n",
       "            </tr>\n",
       "            <tr>\n",
       "                        <th id=\"T_ccec97de_a021_11e9_a482_fdf2df132428level0_row5\" class=\"row_heading level0 row5\" >Technische Universität Graz</th>\n",
       "                        <td id=\"T_ccec97de_a021_11e9_a482_fdf2df132428row5_col0\" class=\"data row5 col0\" >2.0%</td>\n",
       "                        <td id=\"T_ccec97de_a021_11e9_a482_fdf2df132428row5_col1\" class=\"data row5 col1\" >17.0%</td>\n",
       "                        <td id=\"T_ccec97de_a021_11e9_a482_fdf2df132428row5_col2\" class=\"data row5 col2\" >28.1%</td>\n",
       "                        <td id=\"T_ccec97de_a021_11e9_a482_fdf2df132428row5_col3\" class=\"data row5 col3\" >10.1%</td>\n",
       "                        <td id=\"T_ccec97de_a021_11e9_a482_fdf2df132428row5_col4\" class=\"data row5 col4\" >0.5%</td>\n",
       "                        <td id=\"T_ccec97de_a021_11e9_a482_fdf2df132428row5_col5\" class=\"data row5 col5\" >2.0%</td>\n",
       "                        <td id=\"T_ccec97de_a021_11e9_a482_fdf2df132428row5_col6\" class=\"data row5 col6\" >38.1%</td>\n",
       "                        <td id=\"T_ccec97de_a021_11e9_a482_fdf2df132428row5_col7\" class=\"data row5 col7\" >0.0%</td>\n",
       "                        <td id=\"T_ccec97de_a021_11e9_a482_fdf2df132428row5_col8\" class=\"data row5 col8\" >0.0%</td>\n",
       "                        <td id=\"T_ccec97de_a021_11e9_a482_fdf2df132428row5_col9\" class=\"data row5 col9\" >2.3%</td>\n",
       "            </tr>\n",
       "            <tr>\n",
       "                        <th id=\"T_ccec97de_a021_11e9_a482_fdf2df132428level0_row6\" class=\"row_heading level0 row6\" >Technische Universität Wien</th>\n",
       "                        <td id=\"T_ccec97de_a021_11e9_a482_fdf2df132428row6_col0\" class=\"data row6 col0\" >2.8%</td>\n",
       "                        <td id=\"T_ccec97de_a021_11e9_a482_fdf2df132428row6_col1\" class=\"data row6 col1\" >19.0%</td>\n",
       "                        <td id=\"T_ccec97de_a021_11e9_a482_fdf2df132428row6_col2\" class=\"data row6 col2\" >17.3%</td>\n",
       "                        <td id=\"T_ccec97de_a021_11e9_a482_fdf2df132428row6_col3\" class=\"data row6 col3\" >25.4%</td>\n",
       "                        <td id=\"T_ccec97de_a021_11e9_a482_fdf2df132428row6_col4\" class=\"data row6 col4\" >0.5%</td>\n",
       "                        <td id=\"T_ccec97de_a021_11e9_a482_fdf2df132428row6_col5\" class=\"data row6 col5\" >3.7%</td>\n",
       "                        <td id=\"T_ccec97de_a021_11e9_a482_fdf2df132428row6_col6\" class=\"data row6 col6\" >28.5%</td>\n",
       "                        <td id=\"T_ccec97de_a021_11e9_a482_fdf2df132428row6_col7\" class=\"data row6 col7\" >1.1%</td>\n",
       "                        <td id=\"T_ccec97de_a021_11e9_a482_fdf2df132428row6_col8\" class=\"data row6 col8\" >0.0%</td>\n",
       "                        <td id=\"T_ccec97de_a021_11e9_a482_fdf2df132428row6_col9\" class=\"data row6 col9\" >1.6%</td>\n",
       "            </tr>\n",
       "            <tr>\n",
       "                        <th id=\"T_ccec97de_a021_11e9_a482_fdf2df132428level0_row7\" class=\"row_heading level0 row7\" >Universität Graz</th>\n",
       "                        <td id=\"T_ccec97de_a021_11e9_a482_fdf2df132428row7_col0\" class=\"data row7 col0\" >3.6%</td>\n",
       "                        <td id=\"T_ccec97de_a021_11e9_a482_fdf2df132428row7_col1\" class=\"data row7 col1\" >12.5%</td>\n",
       "                        <td id=\"T_ccec97de_a021_11e9_a482_fdf2df132428row7_col2\" class=\"data row7 col2\" >4.2%</td>\n",
       "                        <td id=\"T_ccec97de_a021_11e9_a482_fdf2df132428row7_col3\" class=\"data row7 col3\" >55.5%</td>\n",
       "                        <td id=\"T_ccec97de_a021_11e9_a482_fdf2df132428row7_col4\" class=\"data row7 col4\" >2.9%</td>\n",
       "                        <td id=\"T_ccec97de_a021_11e9_a482_fdf2df132428row7_col5\" class=\"data row7 col5\" >9.1%</td>\n",
       "                        <td id=\"T_ccec97de_a021_11e9_a482_fdf2df132428row7_col6\" class=\"data row7 col6\" >7.4%</td>\n",
       "                        <td id=\"T_ccec97de_a021_11e9_a482_fdf2df132428row7_col7\" class=\"data row7 col7\" >1.1%</td>\n",
       "                        <td id=\"T_ccec97de_a021_11e9_a482_fdf2df132428row7_col8\" class=\"data row7 col8\" >0.0%</td>\n",
       "                        <td id=\"T_ccec97de_a021_11e9_a482_fdf2df132428row7_col9\" class=\"data row7 col9\" >3.7%</td>\n",
       "            </tr>\n",
       "            <tr>\n",
       "                        <th id=\"T_ccec97de_a021_11e9_a482_fdf2df132428level0_row8\" class=\"row_heading level0 row8\" >Universität Innsbruck</th>\n",
       "                        <td id=\"T_ccec97de_a021_11e9_a482_fdf2df132428row8_col0\" class=\"data row8 col0\" >2.1%</td>\n",
       "                        <td id=\"T_ccec97de_a021_11e9_a482_fdf2df132428row8_col1\" class=\"data row8 col1\" >21.4%</td>\n",
       "                        <td id=\"T_ccec97de_a021_11e9_a482_fdf2df132428row8_col2\" class=\"data row8 col2\" >9.1%</td>\n",
       "                        <td id=\"T_ccec97de_a021_11e9_a482_fdf2df132428row8_col3\" class=\"data row8 col3\" >40.8%</td>\n",
       "                        <td id=\"T_ccec97de_a021_11e9_a482_fdf2df132428row8_col4\" class=\"data row8 col4\" >0.5%</td>\n",
       "                        <td id=\"T_ccec97de_a021_11e9_a482_fdf2df132428row8_col5\" class=\"data row8 col5\" >13.7%</td>\n",
       "                        <td id=\"T_ccec97de_a021_11e9_a482_fdf2df132428row8_col6\" class=\"data row8 col6\" >12.0%</td>\n",
       "                        <td id=\"T_ccec97de_a021_11e9_a482_fdf2df132428row8_col7\" class=\"data row8 col7\" >0.4%</td>\n",
       "                        <td id=\"T_ccec97de_a021_11e9_a482_fdf2df132428row8_col8\" class=\"data row8 col8\" >0.0%</td>\n",
       "                        <td id=\"T_ccec97de_a021_11e9_a482_fdf2df132428row8_col9\" class=\"data row8 col9\" >0.1%</td>\n",
       "            </tr>\n",
       "            <tr>\n",
       "                        <th id=\"T_ccec97de_a021_11e9_a482_fdf2df132428level0_row9\" class=\"row_heading level0 row9\" >Universität Klagenfurt</th>\n",
       "                        <td id=\"T_ccec97de_a021_11e9_a482_fdf2df132428row9_col0\" class=\"data row9 col0\" >15.0%</td>\n",
       "                        <td id=\"T_ccec97de_a021_11e9_a482_fdf2df132428row9_col1\" class=\"data row9 col1\" >16.0%</td>\n",
       "                        <td id=\"T_ccec97de_a021_11e9_a482_fdf2df132428row9_col2\" class=\"data row9 col2\" >10.9%</td>\n",
       "                        <td id=\"T_ccec97de_a021_11e9_a482_fdf2df132428row9_col3\" class=\"data row9 col3\" >21.6%</td>\n",
       "                        <td id=\"T_ccec97de_a021_11e9_a482_fdf2df132428row9_col4\" class=\"data row9 col4\" >0.2%</td>\n",
       "                        <td id=\"T_ccec97de_a021_11e9_a482_fdf2df132428row9_col5\" class=\"data row9 col5\" >9.1%</td>\n",
       "                        <td id=\"T_ccec97de_a021_11e9_a482_fdf2df132428row9_col6\" class=\"data row9 col6\" >25.1%</td>\n",
       "                        <td id=\"T_ccec97de_a021_11e9_a482_fdf2df132428row9_col7\" class=\"data row9 col7\" >0.2%</td>\n",
       "                        <td id=\"T_ccec97de_a021_11e9_a482_fdf2df132428row9_col8\" class=\"data row9 col8\" >0.0%</td>\n",
       "                        <td id=\"T_ccec97de_a021_11e9_a482_fdf2df132428row9_col9\" class=\"data row9 col9\" >1.9%</td>\n",
       "            </tr>\n",
       "            <tr>\n",
       "                        <th id=\"T_ccec97de_a021_11e9_a482_fdf2df132428level0_row10\" class=\"row_heading level0 row10\" >Universität Linz</th>\n",
       "                        <td id=\"T_ccec97de_a021_11e9_a482_fdf2df132428row10_col0\" class=\"data row10 col0\" >1.7%</td>\n",
       "                        <td id=\"T_ccec97de_a021_11e9_a482_fdf2df132428row10_col1\" class=\"data row10 col1\" >9.3%</td>\n",
       "                        <td id=\"T_ccec97de_a021_11e9_a482_fdf2df132428row10_col2\" class=\"data row10 col2\" >25.9%</td>\n",
       "                        <td id=\"T_ccec97de_a021_11e9_a482_fdf2df132428row10_col3\" class=\"data row10 col3\" >31.7%</td>\n",
       "                        <td id=\"T_ccec97de_a021_11e9_a482_fdf2df132428row10_col4\" class=\"data row10 col4\" >0.3%</td>\n",
       "                        <td id=\"T_ccec97de_a021_11e9_a482_fdf2df132428row10_col5\" class=\"data row10 col5\" >5.3%</td>\n",
       "                        <td id=\"T_ccec97de_a021_11e9_a482_fdf2df132428row10_col6\" class=\"data row10 col6\" >25.7%</td>\n",
       "                        <td id=\"T_ccec97de_a021_11e9_a482_fdf2df132428row10_col7\" class=\"data row10 col7\" >0.2%</td>\n",
       "                        <td id=\"T_ccec97de_a021_11e9_a482_fdf2df132428row10_col8\" class=\"data row10 col8\" >0.0%</td>\n",
       "                        <td id=\"T_ccec97de_a021_11e9_a482_fdf2df132428row10_col9\" class=\"data row10 col9\" >0.0%</td>\n",
       "            </tr>\n",
       "            <tr>\n",
       "                        <th id=\"T_ccec97de_a021_11e9_a482_fdf2df132428level0_row11\" class=\"row_heading level0 row11\" >Universität Mozarteum Salzburg</th>\n",
       "                        <td id=\"T_ccec97de_a021_11e9_a482_fdf2df132428row11_col0\" class=\"data row11 col0\" >40.7%</td>\n",
       "                        <td id=\"T_ccec97de_a021_11e9_a482_fdf2df132428row11_col1\" class=\"data row11 col1\" >0.0%</td>\n",
       "                        <td id=\"T_ccec97de_a021_11e9_a482_fdf2df132428row11_col2\" class=\"data row11 col2\" >0.0%</td>\n",
       "                        <td id=\"T_ccec97de_a021_11e9_a482_fdf2df132428row11_col3\" class=\"data row11 col3\" >8.2%</td>\n",
       "                        <td id=\"T_ccec97de_a021_11e9_a482_fdf2df132428row11_col4\" class=\"data row11 col4\" >11.0%</td>\n",
       "                        <td id=\"T_ccec97de_a021_11e9_a482_fdf2df132428row11_col5\" class=\"data row11 col5\" >20.4%</td>\n",
       "                        <td id=\"T_ccec97de_a021_11e9_a482_fdf2df132428row11_col6\" class=\"data row11 col6\" >19.6%</td>\n",
       "                        <td id=\"T_ccec97de_a021_11e9_a482_fdf2df132428row11_col7\" class=\"data row11 col7\" >0.0%</td>\n",
       "                        <td id=\"T_ccec97de_a021_11e9_a482_fdf2df132428row11_col8\" class=\"data row11 col8\" >0.0%</td>\n",
       "                        <td id=\"T_ccec97de_a021_11e9_a482_fdf2df132428row11_col9\" class=\"data row11 col9\" >0.0%</td>\n",
       "            </tr>\n",
       "            <tr>\n",
       "                        <th id=\"T_ccec97de_a021_11e9_a482_fdf2df132428level0_row12\" class=\"row_heading level0 row12\" >Universität Salzburg</th>\n",
       "                        <td id=\"T_ccec97de_a021_11e9_a482_fdf2df132428row12_col0\" class=\"data row12 col0\" >7.4%</td>\n",
       "                        <td id=\"T_ccec97de_a021_11e9_a482_fdf2df132428row12_col1\" class=\"data row12 col1\" >18.1%</td>\n",
       "                        <td id=\"T_ccec97de_a021_11e9_a482_fdf2df132428row12_col2\" class=\"data row12 col2\" >4.4%</td>\n",
       "                        <td id=\"T_ccec97de_a021_11e9_a482_fdf2df132428row12_col3\" class=\"data row12 col3\" >45.3%</td>\n",
       "                        <td id=\"T_ccec97de_a021_11e9_a482_fdf2df132428row12_col4\" class=\"data row12 col4\" >2.0%</td>\n",
       "                        <td id=\"T_ccec97de_a021_11e9_a482_fdf2df132428row12_col5\" class=\"data row12 col5\" >8.6%</td>\n",
       "                        <td id=\"T_ccec97de_a021_11e9_a482_fdf2df132428row12_col6\" class=\"data row12 col6\" >6.9%</td>\n",
       "                        <td id=\"T_ccec97de_a021_11e9_a482_fdf2df132428row12_col7\" class=\"data row12 col7\" >0.0%</td>\n",
       "                        <td id=\"T_ccec97de_a021_11e9_a482_fdf2df132428row12_col8\" class=\"data row12 col8\" >0.0%</td>\n",
       "                        <td id=\"T_ccec97de_a021_11e9_a482_fdf2df132428row12_col9\" class=\"data row12 col9\" >7.2%</td>\n",
       "            </tr>\n",
       "            <tr>\n",
       "                        <th id=\"T_ccec97de_a021_11e9_a482_fdf2df132428level0_row13\" class=\"row_heading level0 row13\" >Universität Wien</th>\n",
       "                        <td id=\"T_ccec97de_a021_11e9_a482_fdf2df132428row13_col0\" class=\"data row13 col0\" >4.8%</td>\n",
       "                        <td id=\"T_ccec97de_a021_11e9_a482_fdf2df132428row13_col1\" class=\"data row13 col1\" >18.3%</td>\n",
       "                        <td id=\"T_ccec97de_a021_11e9_a482_fdf2df132428row13_col2\" class=\"data row13 col2\" >1.8%</td>\n",
       "                        <td id=\"T_ccec97de_a021_11e9_a482_fdf2df132428row13_col3\" class=\"data row13 col3\" >55.1%</td>\n",
       "                        <td id=\"T_ccec97de_a021_11e9_a482_fdf2df132428row13_col4\" class=\"data row13 col4\" >0.2%</td>\n",
       "                        <td id=\"T_ccec97de_a021_11e9_a482_fdf2df132428row13_col5\" class=\"data row13 col5\" >7.6%</td>\n",
       "                        <td id=\"T_ccec97de_a021_11e9_a482_fdf2df132428row13_col6\" class=\"data row13 col6\" >4.4%</td>\n",
       "                        <td id=\"T_ccec97de_a021_11e9_a482_fdf2df132428row13_col7\" class=\"data row13 col7\" >0.4%</td>\n",
       "                        <td id=\"T_ccec97de_a021_11e9_a482_fdf2df132428row13_col8\" class=\"data row13 col8\" >0.0%</td>\n",
       "                        <td id=\"T_ccec97de_a021_11e9_a482_fdf2df132428row13_col9\" class=\"data row13 col9\" >7.5%</td>\n",
       "            </tr>\n",
       "            <tr>\n",
       "                        <th id=\"T_ccec97de_a021_11e9_a482_fdf2df132428level0_row14\" class=\"row_heading level0 row14\" >Universität für Bodenkultur Wien</th>\n",
       "                        <td id=\"T_ccec97de_a021_11e9_a482_fdf2df132428row14_col0\" class=\"data row14 col0\" >8.7%</td>\n",
       "                        <td id=\"T_ccec97de_a021_11e9_a482_fdf2df132428row14_col1\" class=\"data row14 col1\" >19.1%</td>\n",
       "                        <td id=\"T_ccec97de_a021_11e9_a482_fdf2df132428row14_col2\" class=\"data row14 col2\" >4.6%</td>\n",
       "                        <td id=\"T_ccec97de_a021_11e9_a482_fdf2df132428row14_col3\" class=\"data row14 col3\" >20.8%</td>\n",
       "                        <td id=\"T_ccec97de_a021_11e9_a482_fdf2df132428row14_col4\" class=\"data row14 col4\" >0.7%</td>\n",
       "                        <td id=\"T_ccec97de_a021_11e9_a482_fdf2df132428row14_col5\" class=\"data row14 col5\" >7.9%</td>\n",
       "                        <td id=\"T_ccec97de_a021_11e9_a482_fdf2df132428row14_col6\" class=\"data row14 col6\" >37.0%</td>\n",
       "                        <td id=\"T_ccec97de_a021_11e9_a482_fdf2df132428row14_col7\" class=\"data row14 col7\" >0.4%</td>\n",
       "                        <td id=\"T_ccec97de_a021_11e9_a482_fdf2df132428row14_col8\" class=\"data row14 col8\" >0.3%</td>\n",
       "                        <td id=\"T_ccec97de_a021_11e9_a482_fdf2df132428row14_col9\" class=\"data row14 col9\" >0.7%</td>\n",
       "            </tr>\n",
       "            <tr>\n",
       "                        <th id=\"T_ccec97de_a021_11e9_a482_fdf2df132428level0_row15\" class=\"row_heading level0 row15\" >Universität für Musik und darstellende Kunst Graz</th>\n",
       "                        <td id=\"T_ccec97de_a021_11e9_a482_fdf2df132428row15_col0\" class=\"data row15 col0\" >13.0%</td>\n",
       "                        <td id=\"T_ccec97de_a021_11e9_a482_fdf2df132428row15_col1\" class=\"data row15 col1\" >0.0%</td>\n",
       "                        <td id=\"T_ccec97de_a021_11e9_a482_fdf2df132428row15_col2\" class=\"data row15 col2\" >3.1%</td>\n",
       "                        <td id=\"T_ccec97de_a021_11e9_a482_fdf2df132428row15_col3\" class=\"data row15 col3\" >47.5%</td>\n",
       "                        <td id=\"T_ccec97de_a021_11e9_a482_fdf2df132428row15_col4\" class=\"data row15 col4\" >9.4%</td>\n",
       "                        <td id=\"T_ccec97de_a021_11e9_a482_fdf2df132428row15_col5\" class=\"data row15 col5\" >11.2%</td>\n",
       "                        <td id=\"T_ccec97de_a021_11e9_a482_fdf2df132428row15_col6\" class=\"data row15 col6\" >15.8%</td>\n",
       "                        <td id=\"T_ccec97de_a021_11e9_a482_fdf2df132428row15_col7\" class=\"data row15 col7\" >0.0%</td>\n",
       "                        <td id=\"T_ccec97de_a021_11e9_a482_fdf2df132428row15_col8\" class=\"data row15 col8\" >0.0%</td>\n",
       "                        <td id=\"T_ccec97de_a021_11e9_a482_fdf2df132428row15_col9\" class=\"data row15 col9\" >0.0%</td>\n",
       "            </tr>\n",
       "            <tr>\n",
       "                        <th id=\"T_ccec97de_a021_11e9_a482_fdf2df132428level0_row16\" class=\"row_heading level0 row16\" >Universität für Musik und darstellende Kunst Wien</th>\n",
       "                        <td id=\"T_ccec97de_a021_11e9_a482_fdf2df132428row16_col0\" class=\"data row16 col0\" >12.3%</td>\n",
       "                        <td id=\"T_ccec97de_a021_11e9_a482_fdf2df132428row16_col1\" class=\"data row16 col1\" >25.7%</td>\n",
       "                        <td id=\"T_ccec97de_a021_11e9_a482_fdf2df132428row16_col2\" class=\"data row16 col2\" >0.0%</td>\n",
       "                        <td id=\"T_ccec97de_a021_11e9_a482_fdf2df132428row16_col3\" class=\"data row16 col3\" >43.2%</td>\n",
       "                        <td id=\"T_ccec97de_a021_11e9_a482_fdf2df132428row16_col4\" class=\"data row16 col4\" >0.7%</td>\n",
       "                        <td id=\"T_ccec97de_a021_11e9_a482_fdf2df132428row16_col5\" class=\"data row16 col5\" >17.3%</td>\n",
       "                        <td id=\"T_ccec97de_a021_11e9_a482_fdf2df132428row16_col6\" class=\"data row16 col6\" >0.9%</td>\n",
       "                        <td id=\"T_ccec97de_a021_11e9_a482_fdf2df132428row16_col7\" class=\"data row16 col7\" >0.0%</td>\n",
       "                        <td id=\"T_ccec97de_a021_11e9_a482_fdf2df132428row16_col8\" class=\"data row16 col8\" >0.0%</td>\n",
       "                        <td id=\"T_ccec97de_a021_11e9_a482_fdf2df132428row16_col9\" class=\"data row16 col9\" >0.0%</td>\n",
       "            </tr>\n",
       "            <tr>\n",
       "                        <th id=\"T_ccec97de_a021_11e9_a482_fdf2df132428level0_row17\" class=\"row_heading level0 row17\" >Universität für Weiterbildung Krems</th>\n",
       "                        <td id=\"T_ccec97de_a021_11e9_a482_fdf2df132428row17_col0\" class=\"data row17 col0\" >13.9%</td>\n",
       "                        <td id=\"T_ccec97de_a021_11e9_a482_fdf2df132428row17_col1\" class=\"data row17 col1\" >14.8%</td>\n",
       "                        <td id=\"T_ccec97de_a021_11e9_a482_fdf2df132428row17_col2\" class=\"data row17 col2\" >11.4%</td>\n",
       "                        <td id=\"T_ccec97de_a021_11e9_a482_fdf2df132428row17_col3\" class=\"data row17 col3\" >5.5%</td>\n",
       "                        <td id=\"T_ccec97de_a021_11e9_a482_fdf2df132428row17_col4\" class=\"data row17 col4\" >0.7%</td>\n",
       "                        <td id=\"T_ccec97de_a021_11e9_a482_fdf2df132428row17_col5\" class=\"data row17 col5\" >41.9%</td>\n",
       "                        <td id=\"T_ccec97de_a021_11e9_a482_fdf2df132428row17_col6\" class=\"data row17 col6\" >7.5%</td>\n",
       "                        <td id=\"T_ccec97de_a021_11e9_a482_fdf2df132428row17_col7\" class=\"data row17 col7\" >0.0%</td>\n",
       "                        <td id=\"T_ccec97de_a021_11e9_a482_fdf2df132428row17_col8\" class=\"data row17 col8\" >0.0%</td>\n",
       "                        <td id=\"T_ccec97de_a021_11e9_a482_fdf2df132428row17_col9\" class=\"data row17 col9\" >4.3%</td>\n",
       "            </tr>\n",
       "            <tr>\n",
       "                        <th id=\"T_ccec97de_a021_11e9_a482_fdf2df132428level0_row18\" class=\"row_heading level0 row18\" >Universität für angewandte Kunst Wien</th>\n",
       "                        <td id=\"T_ccec97de_a021_11e9_a482_fdf2df132428row18_col0\" class=\"data row18 col0\" >7.8%</td>\n",
       "                        <td id=\"T_ccec97de_a021_11e9_a482_fdf2df132428row18_col1\" class=\"data row18 col1\" >21.6%</td>\n",
       "                        <td id=\"T_ccec97de_a021_11e9_a482_fdf2df132428row18_col2\" class=\"data row18 col2\" >2.4%</td>\n",
       "                        <td id=\"T_ccec97de_a021_11e9_a482_fdf2df132428row18_col3\" class=\"data row18 col3\" >53.4%</td>\n",
       "                        <td id=\"T_ccec97de_a021_11e9_a482_fdf2df132428row18_col4\" class=\"data row18 col4\" >0.0%</td>\n",
       "                        <td id=\"T_ccec97de_a021_11e9_a482_fdf2df132428row18_col5\" class=\"data row18 col5\" >2.2%</td>\n",
       "                        <td id=\"T_ccec97de_a021_11e9_a482_fdf2df132428row18_col6\" class=\"data row18 col6\" >7.6%</td>\n",
       "                        <td id=\"T_ccec97de_a021_11e9_a482_fdf2df132428row18_col7\" class=\"data row18 col7\" >0.1%</td>\n",
       "                        <td id=\"T_ccec97de_a021_11e9_a482_fdf2df132428row18_col8\" class=\"data row18 col8\" >0.0%</td>\n",
       "                        <td id=\"T_ccec97de_a021_11e9_a482_fdf2df132428row18_col9\" class=\"data row18 col9\" >4.9%</td>\n",
       "            </tr>\n",
       "            <tr>\n",
       "                        <th id=\"T_ccec97de_a021_11e9_a482_fdf2df132428level0_row19\" class=\"row_heading level0 row19\" >Universität für künstlerische und industrielle Gestaltung Linz</th>\n",
       "                        <td id=\"T_ccec97de_a021_11e9_a482_fdf2df132428row19_col0\" class=\"data row19 col0\" >34.9%</td>\n",
       "                        <td id=\"T_ccec97de_a021_11e9_a482_fdf2df132428row19_col1\" class=\"data row19 col1\" >0.0%</td>\n",
       "                        <td id=\"T_ccec97de_a021_11e9_a482_fdf2df132428row19_col2\" class=\"data row19 col2\" >0.0%</td>\n",
       "                        <td id=\"T_ccec97de_a021_11e9_a482_fdf2df132428row19_col3\" class=\"data row19 col3\" >22.9%</td>\n",
       "                        <td id=\"T_ccec97de_a021_11e9_a482_fdf2df132428row19_col4\" class=\"data row19 col4\" >0.5%</td>\n",
       "                        <td id=\"T_ccec97de_a021_11e9_a482_fdf2df132428row19_col5\" class=\"data row19 col5\" >9.2%</td>\n",
       "                        <td id=\"T_ccec97de_a021_11e9_a482_fdf2df132428row19_col6\" class=\"data row19 col6\" >13.2%</td>\n",
       "                        <td id=\"T_ccec97de_a021_11e9_a482_fdf2df132428row19_col7\" class=\"data row19 col7\" >9.0%</td>\n",
       "                        <td id=\"T_ccec97de_a021_11e9_a482_fdf2df132428row19_col8\" class=\"data row19 col8\" >0.0%</td>\n",
       "                        <td id=\"T_ccec97de_a021_11e9_a482_fdf2df132428row19_col9\" class=\"data row19 col9\" >10.3%</td>\n",
       "            </tr>\n",
       "            <tr>\n",
       "                        <th id=\"T_ccec97de_a021_11e9_a482_fdf2df132428level0_row20\" class=\"row_heading level0 row20\" >Veterinärmedizinische Universität Wien</th>\n",
       "                        <td id=\"T_ccec97de_a021_11e9_a482_fdf2df132428row20_col0\" class=\"data row20 col0\" >5.3%</td>\n",
       "                        <td id=\"T_ccec97de_a021_11e9_a482_fdf2df132428row20_col1\" class=\"data row20 col1\" >6.8%</td>\n",
       "                        <td id=\"T_ccec97de_a021_11e9_a482_fdf2df132428row20_col2\" class=\"data row20 col2\" >0.4%</td>\n",
       "                        <td id=\"T_ccec97de_a021_11e9_a482_fdf2df132428row20_col3\" class=\"data row20 col3\" >53.8%</td>\n",
       "                        <td id=\"T_ccec97de_a021_11e9_a482_fdf2df132428row20_col4\" class=\"data row20 col4\" >0.0%</td>\n",
       "                        <td id=\"T_ccec97de_a021_11e9_a482_fdf2df132428row20_col5\" class=\"data row20 col5\" >4.2%</td>\n",
       "                        <td id=\"T_ccec97de_a021_11e9_a482_fdf2df132428row20_col6\" class=\"data row20 col6\" >25.0%</td>\n",
       "                        <td id=\"T_ccec97de_a021_11e9_a482_fdf2df132428row20_col7\" class=\"data row20 col7\" >0.0%</td>\n",
       "                        <td id=\"T_ccec97de_a021_11e9_a482_fdf2df132428row20_col8\" class=\"data row20 col8\" >0.0%</td>\n",
       "                        <td id=\"T_ccec97de_a021_11e9_a482_fdf2df132428row20_col9\" class=\"data row20 col9\" >4.5%</td>\n",
       "            </tr>\n",
       "            <tr>\n",
       "                        <th id=\"T_ccec97de_a021_11e9_a482_fdf2df132428level0_row21\" class=\"row_heading level0 row21\" >Wirtschaftsuniversität Wien</th>\n",
       "                        <td id=\"T_ccec97de_a021_11e9_a482_fdf2df132428row21_col0\" class=\"data row21 col0\" >4.5%</td>\n",
       "                        <td id=\"T_ccec97de_a021_11e9_a482_fdf2df132428row21_col1\" class=\"data row21 col1\" >24.1%</td>\n",
       "                        <td id=\"T_ccec97de_a021_11e9_a482_fdf2df132428row21_col2\" class=\"data row21 col2\" >3.7%</td>\n",
       "                        <td id=\"T_ccec97de_a021_11e9_a482_fdf2df132428row21_col3\" class=\"data row21 col3\" >16.9%</td>\n",
       "                        <td id=\"T_ccec97de_a021_11e9_a482_fdf2df132428row21_col4\" class=\"data row21 col4\" >0.0%</td>\n",
       "                        <td id=\"T_ccec97de_a021_11e9_a482_fdf2df132428row21_col5\" class=\"data row21 col5\" >2.0%</td>\n",
       "                        <td id=\"T_ccec97de_a021_11e9_a482_fdf2df132428row21_col6\" class=\"data row21 col6\" >16.1%</td>\n",
       "                        <td id=\"T_ccec97de_a021_11e9_a482_fdf2df132428row21_col7\" class=\"data row21 col7\" >3.7%</td>\n",
       "                        <td id=\"T_ccec97de_a021_11e9_a482_fdf2df132428row21_col8\" class=\"data row21 col8\" >0.0%</td>\n",
       "                        <td id=\"T_ccec97de_a021_11e9_a482_fdf2df132428row21_col9\" class=\"data row21 col9\" >28.8%</td>\n",
       "            </tr>\n",
       "    </tbody></table>"
      ],
      "text/plain": [
       "<pandas.io.formats.style.Styler at 0x7f69915e0f60>"
      ]
     },
     "metadata": {},
     "output_type": "display_data"
    }
   ],
   "source": [
    "class University:\n",
    "    pass\n",
    "\n",
    "\n",
    "class Dimension:\n",
    "    @classmethod\n",
    "    def create(cls, dataframe, dimensions):\n",
    "        dims = list()\n",
    "        for dim in dimensions:\n",
    "            assert dim in dataframe, \"There is no column '\" + dim + \"'\"\n",
    "            cats = dataframe[dim].unique()\n",
    "            dims.append(Dimension(dim, cats))\n",
    "        return dims\n",
    "        \n",
    "    def __init__(self, name, categories):\n",
    "        self.__name = name\n",
    "        self.__categories = categories\n",
    "\n",
    "\n",
    "class Structure:\n",
    "    def __init__(self, datasheet, structure_column):\n",
    "        self.__data = pd.pivot_table(datasheet.current_dataframe,\n",
    "                                     values=datasheet.value_column_name,\n",
    "                                     index=[datasheet.university_column_name],\n",
    "                                     columns=[structure_column],\n",
    "                                     fill_value=0, aggfunc=np.sum)\n",
    "        self.__sum = self.__data.agg(['sum'], axis='columns')['sum']\n",
    "        self.__avg = self.__data.agg(['mean'], axis='columns')['mean']\n",
    "        \n",
    "        self.__structure = self.__data.div(self.__sum, axis=\"rows\")\n",
    "        display(self.__structure.style.format('{0:.1%}'))\n",
    "        \n",
    "    @property\n",
    "    def structure_name(self):\n",
    "        return self.structure_column\n",
    "    \n",
    "    \n",
    "\n",
    "class Profile:\n",
    "    pass\n",
    "\n",
    "class Relevance:\n",
    "    pass\n",
    "\n",
    "\n",
    "\n",
    "dimensions = ['funder', 'fos']\n",
    "timepoint_name = 'year'\n",
    "university_name = 'university'\n",
    "\n",
    "\n",
    "class Datasheet:\n",
    "    @property\n",
    "    def value_column_name(self):\n",
    "        return self.__value_column\n",
    "    \n",
    "    @property\n",
    "    def university_column_name(self):\n",
    "        return self.__university_column\n",
    "    \n",
    "    @property\n",
    "    def current_dataframe(self):\n",
    "        return self.__current_dataframe\n",
    "    \n",
    "    def __init__(self, dataframe, dimensions, timepoint_name, university_name, value_name):\n",
    "        assert timepoint_name in dataframe, \"There is no column '\" + timepoint_name + \"'\"\n",
    "        assert university_name in dataframe, \"There is no column '\" + university_name + \"'\"\n",
    "        assert value_name in dataframe, \"There is no colum with valid data called '\" + value_name + \"'\"\n",
    "        \n",
    "        self.__dataframe = dataframe\n",
    "        self.__timepoint_column = timepoint_name\n",
    "        self.__university_column = university_name\n",
    "        self.__value_column = value_name\n",
    "        \n",
    "        self.__dimensions = Dimension.create(dataframe, dimensions)\n",
    "        self.__timepoints = dataframe[timepoint_name].unique()\n",
    "        self.__universities = dataframe[university_name].unique()\n",
    "        \n",
    "        self.__current_timepoint = dataframe[timepoint_name].max()\n",
    "        self.__current_dataframe = dataframe[dataframe[timepoint_name] == self.__current_timepoint].drop(timepoint_name, 1)\n",
    "        \n",
    "        table = pd.pivot_table(self.__current_dataframe, values='funding', index=['university'],\n",
    "                       columns=['funder'], fill_value=0, #margins=True,\n",
    "                       aggfunc=np.sum)\n",
    "        \n",
    "        s = Structure(self, 'funder')\n",
    "        \n",
    "        \n",
    "        \n",
    "funding_sheet = Datasheet(raw_data, ['funder', 'fos'], 'year', 'university', 'funding')\n",
    "\n",
    "\n",
    "\n",
    "\n",
    "\n",
    "\n",
    "\n",
    "\n",
    "\n",
    "\n",
    "\n",
    "\n",
    "\n",
    "\n",
    "\n",
    "\n"
   ]
  }
 ],
 "metadata": {
  "kernelspec": {
   "display_name": "Python 3",
   "language": "python",
   "name": "python3"
  },
  "language_info": {
   "codemirror_mode": {
    "name": "ipython",
    "version": 3
   },
   "file_extension": ".py",
   "mimetype": "text/x-python",
   "name": "python",
   "nbconvert_exporter": "python",
   "pygments_lexer": "ipython3",
   "version": "3.7.3"
  }
 },
 "nbformat": 4,
 "nbformat_minor": 2
}
