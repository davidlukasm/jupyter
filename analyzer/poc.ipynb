{
 "cells": [
  {
   "cell_type": "code",
   "execution_count": 35,
   "metadata": {
    "scrolled": false
   },
   "outputs": [
    {
     "data": {
      "text/html": [
       "<h3>Universität für Bodenkultur Wien</h3>"
      ],
      "text/plain": [
       "<IPython.core.display.HTML object>"
      ]
     },
     "metadata": {},
     "output_type": "display_data"
    },
    {
     "data": {
      "text/html": [
       "<h4>Drittmittel-Struktur</h4>"
      ],
      "text/plain": [
       "<IPython.core.display.HTML object>"
      ]
     },
     "metadata": {},
     "output_type": "display_data"
    },
    {
     "data": {
      "text/html": [
       "<style  type=\"text/css\" >\n",
       "    #T_b22c53da_a266_11e9_9100_1c666d97228erow0_col0 {\n",
       "            background-color:  white;\n",
       "        }    #T_b22c53da_a266_11e9_9100_1c666d97228erow0_col1 {\n",
       "            background-color:  white;\n",
       "        }    #T_b22c53da_a266_11e9_9100_1c666d97228erow0_col2 {\n",
       "            background-color:  white;\n",
       "        }    #T_b22c53da_a266_11e9_9100_1c666d97228erow0_col3 {\n",
       "            background-color:  white;\n",
       "        }    #T_b22c53da_a266_11e9_9100_1c666d97228erow0_col4 {\n",
       "            background-color:  white;\n",
       "        }    #T_b22c53da_a266_11e9_9100_1c666d97228erow1_col0 {\n",
       "            background-color:  white;\n",
       "        }    #T_b22c53da_a266_11e9_9100_1c666d97228erow1_col1 {\n",
       "            background-color:  white;\n",
       "        }    #T_b22c53da_a266_11e9_9100_1c666d97228erow1_col2 {\n",
       "            background-color:  white;\n",
       "        }    #T_b22c53da_a266_11e9_9100_1c666d97228erow1_col3 {\n",
       "            background-color:  white;\n",
       "        }    #T_b22c53da_a266_11e9_9100_1c666d97228erow1_col4 {\n",
       "            background-color:  white;\n",
       "        }    #T_b22c53da_a266_11e9_9100_1c666d97228erow2_col0 {\n",
       "            background-color:  white;\n",
       "        }    #T_b22c53da_a266_11e9_9100_1c666d97228erow2_col1 {\n",
       "            background-color:  white;\n",
       "        }    #T_b22c53da_a266_11e9_9100_1c666d97228erow2_col2 {\n",
       "            background-color:  white;\n",
       "        }    #T_b22c53da_a266_11e9_9100_1c666d97228erow2_col3 {\n",
       "            background-color:  white;\n",
       "        }    #T_b22c53da_a266_11e9_9100_1c666d97228erow2_col4 {\n",
       "            background-color:  white;\n",
       "        }</style><table id=\"T_b22c53da_a266_11e9_9100_1c666d97228e\" ><thead>    <tr>        <th class=\"blank level0\" ></th>        <th class=\"col_heading level0 col0\" >Intern</th>        <th class=\"col_heading level0 col1\" >Ranking</th>        <th class=\"col_heading level0 col2\" >Erlöse</th>        <th class=\"col_heading level0 col3\" >Beste Universität</th>        <th class=\"col_heading level0 col4\" >Bessere Universitäten</th>    </tr>    <tr>        <th class=\"index_name level0\" >WZW</th>        <th class=\"blank\" ></th>        <th class=\"blank\" ></th>        <th class=\"blank\" ></th>        <th class=\"blank\" ></th>        <th class=\"blank\" ></th>    </tr></thead><tbody>\n",
       "                <tr>\n",
       "                        <th id=\"T_b22c53da_a266_11e9_9100_1c666d97228elevel0_row0\" class=\"row_heading level0 row0\" >Unternehmen</th>\n",
       "                        <td id=\"T_b22c53da_a266_11e9_9100_1c666d97228erow0_col0\" class=\"data row0 col0\" >30.33%</td>\n",
       "                        <td id=\"T_b22c53da_a266_11e9_9100_1c666d97228erow0_col1\" class=\"data row0 col1\" >6. Platz</td>\n",
       "                        <td id=\"T_b22c53da_a266_11e9_9100_1c666d97228erow0_col2\" class=\"data row0 col2\" >14,549,837 €</td>\n",
       "                        <td id=\"T_b22c53da_a266_11e9_9100_1c666d97228erow0_col3\" class=\"data row0 col3\" >Medizinische Universität Graz (32.4 Mio. €)</td>\n",
       "                        <td id=\"T_b22c53da_a266_11e9_9100_1c666d97228erow0_col4\" class=\"data row0 col4\" >Medizinische Universität Graz, Technische Universität Graz, Technische Universität Wien, Medizinische Universität Wien, Medizinische Universität Innsbruck</td>\n",
       "            </tr>\n",
       "            <tr>\n",
       "                        <th id=\"T_b22c53da_a266_11e9_9100_1c666d97228elevel0_row1\" class=\"row_heading level0 row1\" >FWF</th>\n",
       "                        <td id=\"T_b22c53da_a266_11e9_9100_1c666d97228erow1_col0\" class=\"data row1 col0\" >17.04%</td>\n",
       "                        <td id=\"T_b22c53da_a266_11e9_9100_1c666d97228erow1_col1\" class=\"data row1 col1\" >7. Platz</td>\n",
       "                        <td id=\"T_b22c53da_a266_11e9_9100_1c666d97228erow1_col2\" class=\"data row1 col2\" >8,173,203 €</td>\n",
       "                        <td id=\"T_b22c53da_a266_11e9_9100_1c666d97228erow1_col3\" class=\"data row1 col3\" >Universität Wien (41.1 Mio. €)</td>\n",
       "                        <td id=\"T_b22c53da_a266_11e9_9100_1c666d97228erow1_col4\" class=\"data row1 col4\" >Universität Wien, Technische Universität Wien, Medizinische Universität Wien, Universität Innsbruck, Universität Graz, Medizinische Universität Innsbruck</td>\n",
       "            </tr>\n",
       "            <tr>\n",
       "                        <th id=\"T_b22c53da_a266_11e9_9100_1c666d97228elevel0_row2\" class=\"row_heading level0 row2\" >EU</th>\n",
       "                        <td id=\"T_b22c53da_a266_11e9_9100_1c666d97228erow2_col0\" class=\"data row2 col0\" >15.67%</td>\n",
       "                        <td id=\"T_b22c53da_a266_11e9_9100_1c666d97228erow2_col1\" class=\"data row2 col1\" >6. Platz</td>\n",
       "                        <td id=\"T_b22c53da_a266_11e9_9100_1c666d97228erow2_col2\" class=\"data row2 col2\" >7,516,953 €</td>\n",
       "                        <td id=\"T_b22c53da_a266_11e9_9100_1c666d97228erow2_col3\" class=\"data row2 col3\" >Technische Universität Wien (14.7 Mio. €)</td>\n",
       "                        <td id=\"T_b22c53da_a266_11e9_9100_1c666d97228erow2_col4\" class=\"data row2 col4\" >Technische Universität Wien, Universität Wien, Technische Universität Graz, Universität Innsbruck, Medizinische Universität Wien</td>\n",
       "            </tr>\n",
       "    </tbody></table>"
      ],
      "text/plain": [
       "<pandas.io.formats.style.Styler at 0x1e596674940>"
      ]
     },
     "metadata": {},
     "output_type": "display_data"
    },
    {
     "data": {
      "text/html": [
       "<h4>Ähnliche Universitäten aufgrund der Drittmittel-Struktur</h3>"
      ],
      "text/plain": [
       "<IPython.core.display.HTML object>"
      ]
     },
     "metadata": {},
     "output_type": "display_data"
    },
    {
     "data": {
      "text/html": [
       "<p>Technische Universität Graz, Technische Universität Wien, Universität Klagenfurt, Medizinische Universität Wien</p>"
      ],
      "text/plain": [
       "<IPython.core.display.HTML object>"
      ]
     },
     "metadata": {},
     "output_type": "display_data"
    },
    {
     "data": {
      "text/html": [
       "<h3>Universität Klagenfurt</h3>"
      ],
      "text/plain": [
       "<IPython.core.display.HTML object>"
      ]
     },
     "metadata": {},
     "output_type": "display_data"
    },
    {
     "data": {
      "text/html": [
       "<h4>Drittmittel-Struktur</h4>"
      ],
      "text/plain": [
       "<IPython.core.display.HTML object>"
      ]
     },
     "metadata": {},
     "output_type": "display_data"
    },
    {
     "data": {
      "text/html": [
       "<style  type=\"text/css\" >\n",
       "    #T_b23aa08c_a266_11e9_b679_1c666d97228erow0_col0 {\n",
       "            background-color:  white;\n",
       "        }    #T_b23aa08c_a266_11e9_b679_1c666d97228erow0_col1 {\n",
       "            background-color:  white;\n",
       "        }    #T_b23aa08c_a266_11e9_b679_1c666d97228erow0_col2 {\n",
       "            background-color:  white;\n",
       "        }    #T_b23aa08c_a266_11e9_b679_1c666d97228erow0_col3 {\n",
       "            background-color:  white;\n",
       "        }    #T_b23aa08c_a266_11e9_b679_1c666d97228erow0_col4 {\n",
       "            background-color:  white;\n",
       "        }    #T_b23aa08c_a266_11e9_b679_1c666d97228erow1_col0 {\n",
       "            background-color:  white;\n",
       "        }    #T_b23aa08c_a266_11e9_b679_1c666d97228erow1_col1 {\n",
       "            background-color:  white;\n",
       "        }    #T_b23aa08c_a266_11e9_b679_1c666d97228erow1_col2 {\n",
       "            background-color:  white;\n",
       "        }    #T_b23aa08c_a266_11e9_b679_1c666d97228erow1_col3 {\n",
       "            background-color:  white;\n",
       "        }    #T_b23aa08c_a266_11e9_b679_1c666d97228erow1_col4 {\n",
       "            background-color:  white;\n",
       "        }    #T_b23aa08c_a266_11e9_b679_1c666d97228erow2_col0 {\n",
       "            background-color:  white;\n",
       "        }    #T_b23aa08c_a266_11e9_b679_1c666d97228erow2_col1 {\n",
       "            background-color:  white;\n",
       "        }    #T_b23aa08c_a266_11e9_b679_1c666d97228erow2_col2 {\n",
       "            background-color:  white;\n",
       "        }    #T_b23aa08c_a266_11e9_b679_1c666d97228erow2_col3 {\n",
       "            background-color:  white;\n",
       "        }    #T_b23aa08c_a266_11e9_b679_1c666d97228erow2_col4 {\n",
       "            background-color:  white;\n",
       "        }    #T_b23aa08c_a266_11e9_b679_1c666d97228erow3_col0 {\n",
       "            background-color:  white;\n",
       "        }    #T_b23aa08c_a266_11e9_b679_1c666d97228erow3_col1 {\n",
       "            background-color:  white;\n",
       "        }    #T_b23aa08c_a266_11e9_b679_1c666d97228erow3_col2 {\n",
       "            background-color:  white;\n",
       "        }    #T_b23aa08c_a266_11e9_b679_1c666d97228erow3_col3 {\n",
       "            background-color:  white;\n",
       "        }    #T_b23aa08c_a266_11e9_b679_1c666d97228erow3_col4 {\n",
       "            background-color:  white;\n",
       "        }</style><table id=\"T_b23aa08c_a266_11e9_b679_1c666d97228e\" ><thead>    <tr>        <th class=\"blank level0\" ></th>        <th class=\"col_heading level0 col0\" >Intern</th>        <th class=\"col_heading level0 col1\" >Ranking</th>        <th class=\"col_heading level0 col2\" >Erlöse</th>        <th class=\"col_heading level0 col3\" >Beste Universität</th>        <th class=\"col_heading level0 col4\" >Bessere Universitäten</th>    </tr>    <tr>        <th class=\"index_name level0\" >WZW</th>        <th class=\"blank\" ></th>        <th class=\"blank\" ></th>        <th class=\"blank\" ></th>        <th class=\"blank\" ></th>        <th class=\"blank\" ></th>    </tr></thead><tbody>\n",
       "                <tr>\n",
       "                        <th id=\"T_b23aa08c_a266_11e9_b679_1c666d97228elevel0_row0\" class=\"row_heading level0 row0\" >Unternehmen</th>\n",
       "                        <td id=\"T_b23aa08c_a266_11e9_b679_1c666d97228erow0_col0\" class=\"data row0 col0\" >21.30%</td>\n",
       "                        <td id=\"T_b23aa08c_a266_11e9_b679_1c666d97228erow0_col1\" class=\"data row0 col1\" >13. Platz</td>\n",
       "                        <td id=\"T_b23aa08c_a266_11e9_b679_1c666d97228erow0_col2\" class=\"data row0 col2\" >1,606,003 €</td>\n",
       "                        <td id=\"T_b23aa08c_a266_11e9_b679_1c666d97228erow0_col3\" class=\"data row0 col3\" >Medizinische Universität Graz (32.4 Mio. €)</td>\n",
       "                        <td id=\"T_b23aa08c_a266_11e9_b679_1c666d97228erow0_col4\" class=\"data row0 col4\" >Medizinische Universität Graz, Technische Universität Graz, Technische Universität Wien, Medizinische Universität Wien, Medizinische Universität Innsbruck, Universität für Bodenkultur Wien, Montanuniversität Leoben, Universität Linz, Universität Innsbruck, Universität Wien, Veterinärmedizinische Universität Wien, Universität Graz</td>\n",
       "            </tr>\n",
       "            <tr>\n",
       "                        <th id=\"T_b23aa08c_a266_11e9_b679_1c666d97228elevel0_row1\" class=\"row_heading level0 row1\" >FWF</th>\n",
       "                        <td id=\"T_b23aa08c_a266_11e9_b679_1c666d97228erow1_col0\" class=\"data row1 col0\" >18.28%</td>\n",
       "                        <td id=\"T_b23aa08c_a266_11e9_b679_1c666d97228erow1_col1\" class=\"data row1 col1\" >14. Platz</td>\n",
       "                        <td id=\"T_b23aa08c_a266_11e9_b679_1c666d97228erow1_col2\" class=\"data row1 col2\" >1,378,473 €</td>\n",
       "                        <td id=\"T_b23aa08c_a266_11e9_b679_1c666d97228erow1_col3\" class=\"data row1 col3\" >Universität Wien (41.1 Mio. €)</td>\n",
       "                        <td id=\"T_b23aa08c_a266_11e9_b679_1c666d97228erow1_col4\" class=\"data row1 col4\" >Universität Wien, Technische Universität Wien, Medizinische Universität Wien, Universität Innsbruck, Universität Graz, Medizinische Universität Innsbruck, Universität für Bodenkultur Wien, Universität Linz, Universität Salzburg, Technische Universität Graz, Veterinärmedizinische Universität Wien, Medizinische Universität Graz, Wirtschaftsuniversität Wien</td>\n",
       "            </tr>\n",
       "            <tr>\n",
       "                        <th id=\"T_b23aa08c_a266_11e9_b679_1c666d97228elevel0_row2\" class=\"row_heading level0 row2\" >EU</th>\n",
       "                        <td id=\"T_b23aa08c_a266_11e9_b679_1c666d97228erow2_col0\" class=\"data row2 col0\" >13.58%</td>\n",
       "                        <td id=\"T_b23aa08c_a266_11e9_b679_1c666d97228erow2_col1\" class=\"data row2 col1\" >14. Platz</td>\n",
       "                        <td id=\"T_b23aa08c_a266_11e9_b679_1c666d97228erow2_col2\" class=\"data row2 col2\" >1,024,247 €</td>\n",
       "                        <td id=\"T_b23aa08c_a266_11e9_b679_1c666d97228erow2_col3\" class=\"data row2 col3\" >Technische Universität Wien (14.7 Mio. €)</td>\n",
       "                        <td id=\"T_b23aa08c_a266_11e9_b679_1c666d97228erow2_col4\" class=\"data row2 col4\" >Technische Universität Wien, Universität Wien, Technische Universität Graz, Universität Innsbruck, Medizinische Universität Wien, Universität für Bodenkultur Wien, Montanuniversität Leoben, Medizinische Universität Innsbruck, Universität Salzburg, Universität Graz, Universität Linz, Medizinische Universität Graz, Wirtschaftsuniversität Wien</td>\n",
       "            </tr>\n",
       "            <tr>\n",
       "                        <th id=\"T_b23aa08c_a266_11e9_b679_1c666d97228elevel0_row3\" class=\"row_heading level0 row3\" >Bund (Ministerien)</th>\n",
       "                        <td id=\"T_b23aa08c_a266_11e9_b679_1c666d97228erow3_col0\" class=\"data row3 col0\" >12.74%</td>\n",
       "                        <td id=\"T_b23aa08c_a266_11e9_b679_1c666d97228erow3_col1\" class=\"data row3 col1\" >9. Platz</td>\n",
       "                        <td id=\"T_b23aa08c_a266_11e9_b679_1c666d97228erow3_col2\" class=\"data row3 col2\" >960,387 €</td>\n",
       "                        <td id=\"T_b23aa08c_a266_11e9_b679_1c666d97228erow3_col3\" class=\"data row3 col3\" >Medizinische Universität Innsbruck (3.7 Mio. €)</td>\n",
       "                        <td id=\"T_b23aa08c_a266_11e9_b679_1c666d97228erow3_col4\" class=\"data row3 col4\" >Medizinische Universität Innsbruck, Universität Wien, Universität für Bodenkultur Wien, Montanuniversität Leoben, Technische Universität Wien, Medizinische Universität Wien, Technische Universität Graz, Universität Salzburg</td>\n",
       "            </tr>\n",
       "    </tbody></table>"
      ],
      "text/plain": [
       "<pandas.io.formats.style.Styler at 0x1e596674a90>"
      ]
     },
     "metadata": {},
     "output_type": "display_data"
    },
    {
     "data": {
      "text/html": [
       "<h4>Ähnliche Universitäten aufgrund der Drittmittel-Struktur</h3>"
      ],
      "text/plain": [
       "<IPython.core.display.HTML object>"
      ]
     },
     "metadata": {},
     "output_type": "display_data"
    },
    {
     "data": {
      "text/html": [
       "<p>Medizinische Universität Wien, Universität für Bodenkultur Wien, Technische Universität Wien, Universität Linz</p>"
      ],
      "text/plain": [
       "<IPython.core.display.HTML object>"
      ]
     },
     "metadata": {},
     "output_type": "display_data"
    },
    {
     "data": {
      "text/html": [
       "<h3>Universität Wien</h3>"
      ],
      "text/plain": [
       "<IPython.core.display.HTML object>"
      ]
     },
     "metadata": {},
     "output_type": "display_data"
    },
    {
     "data": {
      "text/html": [
       "<h4>Drittmittel-Struktur</h4>"
      ],
      "text/plain": [
       "<IPython.core.display.HTML object>"
      ]
     },
     "metadata": {},
     "output_type": "display_data"
    },
    {
     "data": {
      "text/html": [
       "<style  type=\"text/css\" >\n",
       "    #T_b24429e4_a266_11e9_ae32_1c666d97228erow0_col0 {\n",
       "            background-color:  lightgreen;\n",
       "        }    #T_b24429e4_a266_11e9_ae32_1c666d97228erow0_col1 {\n",
       "            background-color:  lightgreen;\n",
       "        }    #T_b24429e4_a266_11e9_ae32_1c666d97228erow0_col2 {\n",
       "            background-color:  lightgreen;\n",
       "        }    #T_b24429e4_a266_11e9_ae32_1c666d97228erow0_col3 {\n",
       "            background-color:  lightgreen;\n",
       "        }    #T_b24429e4_a266_11e9_ae32_1c666d97228erow0_col4 {\n",
       "            background-color:  lightgreen;\n",
       "        }    #T_b24429e4_a266_11e9_ae32_1c666d97228erow1_col0 {\n",
       "            background-color:  yellow;\n",
       "        }    #T_b24429e4_a266_11e9_ae32_1c666d97228erow1_col1 {\n",
       "            background-color:  yellow;\n",
       "        }    #T_b24429e4_a266_11e9_ae32_1c666d97228erow1_col2 {\n",
       "            background-color:  yellow;\n",
       "        }    #T_b24429e4_a266_11e9_ae32_1c666d97228erow1_col3 {\n",
       "            background-color:  yellow;\n",
       "        }    #T_b24429e4_a266_11e9_ae32_1c666d97228erow1_col4 {\n",
       "            background-color:  yellow;\n",
       "        }</style><table id=\"T_b24429e4_a266_11e9_ae32_1c666d97228e\" ><thead>    <tr>        <th class=\"blank level0\" ></th>        <th class=\"col_heading level0 col0\" >Intern</th>        <th class=\"col_heading level0 col1\" >Ranking</th>        <th class=\"col_heading level0 col2\" >Erlöse</th>        <th class=\"col_heading level0 col3\" >Beste Universität</th>        <th class=\"col_heading level0 col4\" >Bessere Universitäten</th>    </tr>    <tr>        <th class=\"index_name level0\" >WZW</th>        <th class=\"blank\" ></th>        <th class=\"blank\" ></th>        <th class=\"blank\" ></th>        <th class=\"blank\" ></th>        <th class=\"blank\" ></th>    </tr></thead><tbody>\n",
       "                <tr>\n",
       "                        <th id=\"T_b24429e4_a266_11e9_ae32_1c666d97228elevel0_row0\" class=\"row_heading level0 row0\" >FWF</th>\n",
       "                        <td id=\"T_b24429e4_a266_11e9_ae32_1c666d97228erow0_col0\" class=\"data row0 col0\" >48.27%</td>\n",
       "                        <td id=\"T_b24429e4_a266_11e9_ae32_1c666d97228erow0_col1\" class=\"data row0 col1\" >1. Platz</td>\n",
       "                        <td id=\"T_b24429e4_a266_11e9_ae32_1c666d97228erow0_col2\" class=\"data row0 col2\" >41,065,705 €</td>\n",
       "                        <td id=\"T_b24429e4_a266_11e9_ae32_1c666d97228erow0_col3\" class=\"data row0 col3\" >(diese)</td>\n",
       "                        <td id=\"T_b24429e4_a266_11e9_ae32_1c666d97228erow0_col4\" class=\"data row0 col4\" >(keine)</td>\n",
       "            </tr>\n",
       "            <tr>\n",
       "                        <th id=\"T_b24429e4_a266_11e9_ae32_1c666d97228elevel0_row1\" class=\"row_heading level0 row1\" >EU</th>\n",
       "                        <td id=\"T_b24429e4_a266_11e9_ae32_1c666d97228erow1_col0\" class=\"data row1 col0\" >16.02%</td>\n",
       "                        <td id=\"T_b24429e4_a266_11e9_ae32_1c666d97228erow1_col1\" class=\"data row1 col1\" >2. Platz</td>\n",
       "                        <td id=\"T_b24429e4_a266_11e9_ae32_1c666d97228erow1_col2\" class=\"data row1 col2\" >13,633,780 €</td>\n",
       "                        <td id=\"T_b24429e4_a266_11e9_ae32_1c666d97228erow1_col3\" class=\"data row1 col3\" >Technische Universität Wien (14.7 Mio. €)</td>\n",
       "                        <td id=\"T_b24429e4_a266_11e9_ae32_1c666d97228erow1_col4\" class=\"data row1 col4\" >Technische Universität Wien</td>\n",
       "            </tr>\n",
       "    </tbody></table>"
      ],
      "text/plain": [
       "<pandas.io.formats.style.Styler at 0x1e5974e4be0>"
      ]
     },
     "metadata": {},
     "output_type": "display_data"
    },
    {
     "data": {
      "text/html": [
       "<h4>Ähnliche Universitäten aufgrund der Drittmittel-Struktur</h3>"
      ],
      "text/plain": [
       "<IPython.core.display.HTML object>"
      ]
     },
     "metadata": {},
     "output_type": "display_data"
    },
    {
     "data": {
      "text/html": [
       "<p>Universität für angewandte Kunst Wien, Universität Graz, Universität Salzburg, Universität für Musik und darstellende Kunst Wien</p>"
      ],
      "text/plain": [
       "<IPython.core.display.HTML object>"
      ]
     },
     "metadata": {},
     "output_type": "display_data"
    },
    {
     "data": {
      "text/html": [
       "<h3>Technische Universität Wien</h3>"
      ],
      "text/plain": [
       "<IPython.core.display.HTML object>"
      ]
     },
     "metadata": {},
     "output_type": "display_data"
    },
    {
     "data": {
      "text/html": [
       "<h4>Drittmittel-Struktur</h4>"
      ],
      "text/plain": [
       "<IPython.core.display.HTML object>"
      ]
     },
     "metadata": {},
     "output_type": "display_data"
    },
    {
     "data": {
      "text/html": [
       "<style  type=\"text/css\" >\n",
       "    #T_b2501652_a266_11e9_ae31_1c666d97228erow0_col0 {\n",
       "            background-color:  white;\n",
       "        }    #T_b2501652_a266_11e9_ae31_1c666d97228erow0_col1 {\n",
       "            background-color:  white;\n",
       "        }    #T_b2501652_a266_11e9_ae31_1c666d97228erow0_col2 {\n",
       "            background-color:  white;\n",
       "        }    #T_b2501652_a266_11e9_ae31_1c666d97228erow0_col3 {\n",
       "            background-color:  white;\n",
       "        }    #T_b2501652_a266_11e9_ae31_1c666d97228erow0_col4 {\n",
       "            background-color:  white;\n",
       "        }    #T_b2501652_a266_11e9_ae31_1c666d97228erow1_col0 {\n",
       "            background-color:  yellow;\n",
       "        }    #T_b2501652_a266_11e9_ae31_1c666d97228erow1_col1 {\n",
       "            background-color:  yellow;\n",
       "        }    #T_b2501652_a266_11e9_ae31_1c666d97228erow1_col2 {\n",
       "            background-color:  yellow;\n",
       "        }    #T_b2501652_a266_11e9_ae31_1c666d97228erow1_col3 {\n",
       "            background-color:  yellow;\n",
       "        }    #T_b2501652_a266_11e9_ae31_1c666d97228erow1_col4 {\n",
       "            background-color:  yellow;\n",
       "        }    #T_b2501652_a266_11e9_ae31_1c666d97228erow2_col0 {\n",
       "            background-color:  yellow;\n",
       "        }    #T_b2501652_a266_11e9_ae31_1c666d97228erow2_col1 {\n",
       "            background-color:  yellow;\n",
       "        }    #T_b2501652_a266_11e9_ae31_1c666d97228erow2_col2 {\n",
       "            background-color:  yellow;\n",
       "        }    #T_b2501652_a266_11e9_ae31_1c666d97228erow2_col3 {\n",
       "            background-color:  yellow;\n",
       "        }    #T_b2501652_a266_11e9_ae31_1c666d97228erow2_col4 {\n",
       "            background-color:  yellow;\n",
       "        }</style><table id=\"T_b2501652_a266_11e9_ae31_1c666d97228e\" ><thead>    <tr>        <th class=\"blank level0\" ></th>        <th class=\"col_heading level0 col0\" >Intern</th>        <th class=\"col_heading level0 col1\" >Ranking</th>        <th class=\"col_heading level0 col2\" >Erlöse</th>        <th class=\"col_heading level0 col3\" >Beste Universität</th>        <th class=\"col_heading level0 col4\" >Bessere Universitäten</th>    </tr>    <tr>        <th class=\"index_name level0\" >WZW</th>        <th class=\"blank\" ></th>        <th class=\"blank\" ></th>        <th class=\"blank\" ></th>        <th class=\"blank\" ></th>        <th class=\"blank\" ></th>    </tr></thead><tbody>\n",
       "                <tr>\n",
       "                        <th id=\"T_b2501652_a266_11e9_ae31_1c666d97228elevel0_row0\" class=\"row_heading level0 row0\" >Unternehmen</th>\n",
       "                        <td id=\"T_b2501652_a266_11e9_ae31_1c666d97228erow0_col0\" class=\"data row0 col0\" >25.31%</td>\n",
       "                        <td id=\"T_b2501652_a266_11e9_ae31_1c666d97228erow0_col1\" class=\"data row0 col1\" >3. Platz</td>\n",
       "                        <td id=\"T_b2501652_a266_11e9_ae31_1c666d97228erow0_col2\" class=\"data row0 col2\" >22,101,493 €</td>\n",
       "                        <td id=\"T_b2501652_a266_11e9_ae31_1c666d97228erow0_col3\" class=\"data row0 col3\" >Medizinische Universität Graz (32.4 Mio. €)</td>\n",
       "                        <td id=\"T_b2501652_a266_11e9_ae31_1c666d97228erow0_col4\" class=\"data row0 col4\" >Medizinische Universität Graz, Technische Universität Graz</td>\n",
       "            </tr>\n",
       "            <tr>\n",
       "                        <th id=\"T_b2501652_a266_11e9_ae31_1c666d97228elevel0_row1\" class=\"row_heading level0 row1\" >FWF</th>\n",
       "                        <td id=\"T_b2501652_a266_11e9_ae31_1c666d97228erow1_col0\" class=\"data row1 col0\" >22.52%</td>\n",
       "                        <td id=\"T_b2501652_a266_11e9_ae31_1c666d97228erow1_col1\" class=\"data row1 col1\" >2. Platz</td>\n",
       "                        <td id=\"T_b2501652_a266_11e9_ae31_1c666d97228erow1_col2\" class=\"data row1 col2\" >19,662,614 €</td>\n",
       "                        <td id=\"T_b2501652_a266_11e9_ae31_1c666d97228erow1_col3\" class=\"data row1 col3\" >Universität Wien (41.1 Mio. €)</td>\n",
       "                        <td id=\"T_b2501652_a266_11e9_ae31_1c666d97228erow1_col4\" class=\"data row1 col4\" >Universität Wien</td>\n",
       "            </tr>\n",
       "            <tr>\n",
       "                        <th id=\"T_b2501652_a266_11e9_ae31_1c666d97228elevel0_row2\" class=\"row_heading level0 row2\" >FFG</th>\n",
       "                        <td id=\"T_b2501652_a266_11e9_ae31_1c666d97228erow2_col0\" class=\"data row2 col0\" >18.69%</td>\n",
       "                        <td id=\"T_b2501652_a266_11e9_ae31_1c666d97228erow2_col1\" class=\"data row2 col1\" >2. Platz</td>\n",
       "                        <td id=\"T_b2501652_a266_11e9_ae31_1c666d97228erow2_col2\" class=\"data row2 col2\" >16,317,706 €</td>\n",
       "                        <td id=\"T_b2501652_a266_11e9_ae31_1c666d97228erow2_col3\" class=\"data row2 col3\" >Technische Universität Graz (19.0 Mio. €)</td>\n",
       "                        <td id=\"T_b2501652_a266_11e9_ae31_1c666d97228erow2_col4\" class=\"data row2 col4\" >Technische Universität Graz</td>\n",
       "            </tr>\n",
       "    </tbody></table>"
      ],
      "text/plain": [
       "<pandas.io.formats.style.Styler at 0x1e59781de80>"
      ]
     },
     "metadata": {},
     "output_type": "display_data"
    },
    {
     "data": {
      "text/html": [
       "<h4>Ähnliche Universitäten aufgrund der Drittmittel-Struktur</h3>"
      ],
      "text/plain": [
       "<IPython.core.display.HTML object>"
      ]
     },
     "metadata": {},
     "output_type": "display_data"
    },
    {
     "data": {
      "text/html": [
       "<p>Universität Linz, Universität Klagenfurt, Universität für Bodenkultur Wien, Medizinische Universität Wien</p>"
      ],
      "text/plain": [
       "<IPython.core.display.HTML object>"
      ]
     },
     "metadata": {},
     "output_type": "display_data"
    },
    {
     "data": {
      "text/html": [
       "<h3>Universität Innsbruck</h3>"
      ],
      "text/plain": [
       "<IPython.core.display.HTML object>"
      ]
     },
     "metadata": {},
     "output_type": "display_data"
    },
    {
     "data": {
      "text/html": [
       "<h4>Drittmittel-Struktur</h4>"
      ],
      "text/plain": [
       "<IPython.core.display.HTML object>"
      ]
     },
     "metadata": {},
     "output_type": "display_data"
    },
    {
     "data": {
      "text/html": [
       "<style  type=\"text/css\" >\n",
       "    #T_b25e652e_a266_11e9_b9bc_1c666d97228erow0_col0 {\n",
       "            background-color:  white;\n",
       "        }    #T_b25e652e_a266_11e9_b9bc_1c666d97228erow0_col1 {\n",
       "            background-color:  white;\n",
       "        }    #T_b25e652e_a266_11e9_b9bc_1c666d97228erow0_col2 {\n",
       "            background-color:  white;\n",
       "        }    #T_b25e652e_a266_11e9_b9bc_1c666d97228erow0_col3 {\n",
       "            background-color:  white;\n",
       "        }    #T_b25e652e_a266_11e9_b9bc_1c666d97228erow0_col4 {\n",
       "            background-color:  white;\n",
       "        }    #T_b25e652e_a266_11e9_b9bc_1c666d97228erow1_col0 {\n",
       "            background-color:  white;\n",
       "        }    #T_b25e652e_a266_11e9_b9bc_1c666d97228erow1_col1 {\n",
       "            background-color:  white;\n",
       "        }    #T_b25e652e_a266_11e9_b9bc_1c666d97228erow1_col2 {\n",
       "            background-color:  white;\n",
       "        }    #T_b25e652e_a266_11e9_b9bc_1c666d97228erow1_col3 {\n",
       "            background-color:  white;\n",
       "        }    #T_b25e652e_a266_11e9_b9bc_1c666d97228erow1_col4 {\n",
       "            background-color:  white;\n",
       "        }    #T_b25e652e_a266_11e9_b9bc_1c666d97228erow2_col0 {\n",
       "            background-color:  yellow;\n",
       "        }    #T_b25e652e_a266_11e9_b9bc_1c666d97228erow2_col1 {\n",
       "            background-color:  yellow;\n",
       "        }    #T_b25e652e_a266_11e9_b9bc_1c666d97228erow2_col2 {\n",
       "            background-color:  yellow;\n",
       "        }    #T_b25e652e_a266_11e9_b9bc_1c666d97228erow2_col3 {\n",
       "            background-color:  yellow;\n",
       "        }    #T_b25e652e_a266_11e9_b9bc_1c666d97228erow2_col4 {\n",
       "            background-color:  yellow;\n",
       "        }</style><table id=\"T_b25e652e_a266_11e9_b9bc_1c666d97228e\" ><thead>    <tr>        <th class=\"blank level0\" ></th>        <th class=\"col_heading level0 col0\" >Intern</th>        <th class=\"col_heading level0 col1\" >Ranking</th>        <th class=\"col_heading level0 col2\" >Erlöse</th>        <th class=\"col_heading level0 col3\" >Beste Universität</th>        <th class=\"col_heading level0 col4\" >Bessere Universitäten</th>    </tr>    <tr>        <th class=\"index_name level0\" >WZW</th>        <th class=\"blank\" ></th>        <th class=\"blank\" ></th>        <th class=\"blank\" ></th>        <th class=\"blank\" ></th>        <th class=\"blank\" ></th>    </tr></thead><tbody>\n",
       "                <tr>\n",
       "                        <th id=\"T_b25e652e_a266_11e9_b9bc_1c666d97228elevel0_row0\" class=\"row_heading level0 row0\" >FWF</th>\n",
       "                        <td id=\"T_b25e652e_a266_11e9_b9bc_1c666d97228erow0_col0\" class=\"data row0 col0\" >33.00%</td>\n",
       "                        <td id=\"T_b25e652e_a266_11e9_b9bc_1c666d97228erow0_col1\" class=\"data row0 col1\" >4. Platz</td>\n",
       "                        <td id=\"T_b25e652e_a266_11e9_b9bc_1c666d97228erow0_col2\" class=\"data row0 col2\" >16,317,638 €</td>\n",
       "                        <td id=\"T_b25e652e_a266_11e9_b9bc_1c666d97228erow0_col3\" class=\"data row0 col3\" >Universität Wien (41.1 Mio. €)</td>\n",
       "                        <td id=\"T_b25e652e_a266_11e9_b9bc_1c666d97228erow0_col4\" class=\"data row0 col4\" >Universität Wien, Technische Universität Wien, Medizinische Universität Wien</td>\n",
       "            </tr>\n",
       "            <tr>\n",
       "                        <th id=\"T_b25e652e_a266_11e9_b9bc_1c666d97228elevel0_row1\" class=\"row_heading level0 row1\" >EU</th>\n",
       "                        <td id=\"T_b25e652e_a266_11e9_b9bc_1c666d97228erow1_col0\" class=\"data row1 col0\" >17.28%</td>\n",
       "                        <td id=\"T_b25e652e_a266_11e9_b9bc_1c666d97228erow1_col1\" class=\"data row1 col1\" >4. Platz</td>\n",
       "                        <td id=\"T_b25e652e_a266_11e9_b9bc_1c666d97228erow1_col2\" class=\"data row1 col2\" >8,544,360 €</td>\n",
       "                        <td id=\"T_b25e652e_a266_11e9_b9bc_1c666d97228erow1_col3\" class=\"data row1 col3\" >Technische Universität Wien (14.7 Mio. €)</td>\n",
       "                        <td id=\"T_b25e652e_a266_11e9_b9bc_1c666d97228erow1_col4\" class=\"data row1 col4\" >Technische Universität Wien, Universität Wien, Technische Universität Graz</td>\n",
       "            </tr>\n",
       "            <tr>\n",
       "                        <th id=\"T_b25e652e_a266_11e9_b9bc_1c666d97228elevel0_row2\" class=\"row_heading level0 row2\" >Länder (inkl. deren Stiftungen und Einrichtungen)</th>\n",
       "                        <td id=\"T_b25e652e_a266_11e9_b9bc_1c666d97228erow2_col0\" class=\"data row2 col0\" >11.12%</td>\n",
       "                        <td id=\"T_b25e652e_a266_11e9_b9bc_1c666d97228erow2_col1\" class=\"data row2 col1\" >2. Platz</td>\n",
       "                        <td id=\"T_b25e652e_a266_11e9_b9bc_1c666d97228erow2_col2\" class=\"data row2 col2\" >5,495,536 €</td>\n",
       "                        <td id=\"T_b25e652e_a266_11e9_b9bc_1c666d97228erow2_col3\" class=\"data row2 col3\" >Universität Wien (5.6 Mio. €)</td>\n",
       "                        <td id=\"T_b25e652e_a266_11e9_b9bc_1c666d97228erow2_col4\" class=\"data row2 col4\" >Universität Wien</td>\n",
       "            </tr>\n",
       "    </tbody></table>"
      ],
      "text/plain": [
       "<pandas.io.formats.style.Styler at 0x1e59781def0>"
      ]
     },
     "metadata": {},
     "output_type": "display_data"
    },
    {
     "data": {
      "text/html": [
       "<h4>Ähnliche Universitäten aufgrund der Drittmittel-Struktur</h3>"
      ],
      "text/plain": [
       "<IPython.core.display.HTML object>"
      ]
     },
     "metadata": {},
     "output_type": "display_data"
    },
    {
     "data": {
      "text/html": [
       "<p>Universität Salzburg, Technische Universität Wien, Universität für Musik und darstellende Kunst Wien, Universität Wien</p>"
      ],
      "text/plain": [
       "<IPython.core.display.HTML object>"
      ]
     },
     "metadata": {},
     "output_type": "display_data"
    },
    {
     "data": {
      "text/html": [
       "<h3>Universität Mozarteum Salzburg</h3>"
      ],
      "text/plain": [
       "<IPython.core.display.HTML object>"
      ]
     },
     "metadata": {},
     "output_type": "display_data"
    },
    {
     "data": {
      "text/html": [
       "<h4>Drittmittel-Struktur</h4>"
      ],
      "text/plain": [
       "<IPython.core.display.HTML object>"
      ]
     },
     "metadata": {},
     "output_type": "display_data"
    },
    {
     "data": {
      "text/html": [
       "<style  type=\"text/css\" >\n",
       "    #T_b267ed36_a266_11e9_b96c_1c666d97228erow0_col0 {\n",
       "            background-color:  white;\n",
       "        }    #T_b267ed36_a266_11e9_b96c_1c666d97228erow0_col1 {\n",
       "            background-color:  white;\n",
       "        }    #T_b267ed36_a266_11e9_b96c_1c666d97228erow0_col2 {\n",
       "            background-color:  white;\n",
       "        }    #T_b267ed36_a266_11e9_b96c_1c666d97228erow0_col3 {\n",
       "            background-color:  white;\n",
       "        }    #T_b267ed36_a266_11e9_b96c_1c666d97228erow0_col4 {\n",
       "            background-color:  white;\n",
       "        }</style><table id=\"T_b267ed36_a266_11e9_b96c_1c666d97228e\" ><thead>    <tr>        <th class=\"blank level0\" ></th>        <th class=\"col_heading level0 col0\" >Intern</th>        <th class=\"col_heading level0 col1\" >Ranking</th>        <th class=\"col_heading level0 col2\" >Erlöse</th>        <th class=\"col_heading level0 col3\" >Beste Universität</th>        <th class=\"col_heading level0 col4\" >Bessere Universitäten</th>    </tr>    <tr>        <th class=\"index_name level0\" >WZW</th>        <th class=\"blank\" ></th>        <th class=\"blank\" ></th>        <th class=\"blank\" ></th>        <th class=\"blank\" ></th>        <th class=\"blank\" ></th>    </tr></thead><tbody>\n",
       "                <tr>\n",
       "                        <th id=\"T_b267ed36_a266_11e9_b96c_1c666d97228elevel0_row0\" class=\"row_heading level0 row0\" >Private (Stiftungen, Vereine, etc.)</th>\n",
       "                        <td id=\"T_b267ed36_a266_11e9_b96c_1c666d97228erow0_col0\" class=\"data row0 col0\" >59.10%</td>\n",
       "                        <td id=\"T_b267ed36_a266_11e9_b96c_1c666d97228erow0_col1\" class=\"data row0 col1\" >10. Platz</td>\n",
       "                        <td id=\"T_b267ed36_a266_11e9_b96c_1c666d97228erow0_col2\" class=\"data row0 col2\" >817,783 €</td>\n",
       "                        <td id=\"T_b267ed36_a266_11e9_b96c_1c666d97228erow0_col3\" class=\"data row0 col3\" >Medizinische Universität Wien (9.1 Mio. €)</td>\n",
       "                        <td id=\"T_b267ed36_a266_11e9_b96c_1c666d97228erow0_col4\" class=\"data row0 col4\" >Medizinische Universität Wien, Veterinärmedizinische Universität Wien, Universität für Bodenkultur Wien, Universität Wien, Universität Innsbruck, Wirtschaftsuniversität Wien, Medizinische Universität Innsbruck, Technische Universität Graz, Medizinische Universität Graz</td>\n",
       "            </tr>\n",
       "    </tbody></table>"
      ],
      "text/plain": [
       "<pandas.io.formats.style.Styler at 0x1e5943815f8>"
      ]
     },
     "metadata": {},
     "output_type": "display_data"
    },
    {
     "data": {
      "text/html": [
       "<h4>Ähnliche Universitäten aufgrund der Drittmittel-Struktur</h3>"
      ],
      "text/plain": [
       "<IPython.core.display.HTML object>"
      ]
     },
     "metadata": {},
     "output_type": "display_data"
    },
    {
     "data": {
      "text/html": [
       "<p>Veterinärmedizinische Universität Wien, Wirtschaftsuniversität Wien, Akademie der bildenden Künste Wien, Universität für Bodenkultur Wien</p>"
      ],
      "text/plain": [
       "<IPython.core.display.HTML object>"
      ]
     },
     "metadata": {},
     "output_type": "display_data"
    },
    {
     "data": {
      "text/html": [
       "<h3>Universität für Weiterbildung Krems</h3>"
      ],
      "text/plain": [
       "<IPython.core.display.HTML object>"
      ]
     },
     "metadata": {},
     "output_type": "display_data"
    },
    {
     "data": {
      "text/html": [
       "<h4>Drittmittel-Struktur</h4>"
      ],
      "text/plain": [
       "<IPython.core.display.HTML object>"
      ]
     },
     "metadata": {},
     "output_type": "display_data"
    },
    {
     "data": {
      "text/html": [
       "<style  type=\"text/css\" >\n",
       "    #T_b273d940_a266_11e9_ba46_1c666d97228erow0_col0 {\n",
       "            background-color:  white;\n",
       "        }    #T_b273d940_a266_11e9_ba46_1c666d97228erow0_col1 {\n",
       "            background-color:  white;\n",
       "        }    #T_b273d940_a266_11e9_ba46_1c666d97228erow0_col2 {\n",
       "            background-color:  white;\n",
       "        }    #T_b273d940_a266_11e9_ba46_1c666d97228erow0_col3 {\n",
       "            background-color:  white;\n",
       "        }    #T_b273d940_a266_11e9_ba46_1c666d97228erow0_col4 {\n",
       "            background-color:  white;\n",
       "        }    #T_b273d940_a266_11e9_ba46_1c666d97228erow1_col0 {\n",
       "            background-color:  white;\n",
       "        }    #T_b273d940_a266_11e9_ba46_1c666d97228erow1_col1 {\n",
       "            background-color:  white;\n",
       "        }    #T_b273d940_a266_11e9_ba46_1c666d97228erow1_col2 {\n",
       "            background-color:  white;\n",
       "        }    #T_b273d940_a266_11e9_ba46_1c666d97228erow1_col3 {\n",
       "            background-color:  white;\n",
       "        }    #T_b273d940_a266_11e9_ba46_1c666d97228erow1_col4 {\n",
       "            background-color:  white;\n",
       "        }    #T_b273d940_a266_11e9_ba46_1c666d97228erow2_col0 {\n",
       "            background-color:  white;\n",
       "        }    #T_b273d940_a266_11e9_ba46_1c666d97228erow2_col1 {\n",
       "            background-color:  white;\n",
       "        }    #T_b273d940_a266_11e9_ba46_1c666d97228erow2_col2 {\n",
       "            background-color:  white;\n",
       "        }    #T_b273d940_a266_11e9_ba46_1c666d97228erow2_col3 {\n",
       "            background-color:  white;\n",
       "        }    #T_b273d940_a266_11e9_ba46_1c666d97228erow2_col4 {\n",
       "            background-color:  white;\n",
       "        }</style><table id=\"T_b273d940_a266_11e9_ba46_1c666d97228e\" ><thead>    <tr>        <th class=\"blank level0\" ></th>        <th class=\"col_heading level0 col0\" >Intern</th>        <th class=\"col_heading level0 col1\" >Ranking</th>        <th class=\"col_heading level0 col2\" >Erlöse</th>        <th class=\"col_heading level0 col3\" >Beste Universität</th>        <th class=\"col_heading level0 col4\" >Bessere Universitäten</th>    </tr>    <tr>        <th class=\"index_name level0\" >WZW</th>        <th class=\"blank\" ></th>        <th class=\"blank\" ></th>        <th class=\"blank\" ></th>        <th class=\"blank\" ></th>        <th class=\"blank\" ></th>    </tr></thead><tbody>\n",
       "                <tr>\n",
       "                        <th id=\"T_b273d940_a266_11e9_ba46_1c666d97228elevel0_row0\" class=\"row_heading level0 row0\" >Länder (inkl. deren Stiftungen und Einrichtungen)</th>\n",
       "                        <td id=\"T_b273d940_a266_11e9_ba46_1c666d97228erow0_col0\" class=\"data row0 col0\" >34.67%</td>\n",
       "                        <td id=\"T_b273d940_a266_11e9_ba46_1c666d97228erow0_col1\" class=\"data row0 col1\" >7. Platz</td>\n",
       "                        <td id=\"T_b273d940_a266_11e9_ba46_1c666d97228erow0_col2\" class=\"data row0 col2\" >2,291,288 €</td>\n",
       "                        <td id=\"T_b273d940_a266_11e9_ba46_1c666d97228erow0_col3\" class=\"data row0 col3\" >Universität Wien (5.6 Mio. €)</td>\n",
       "                        <td id=\"T_b273d940_a266_11e9_ba46_1c666d97228erow0_col4\" class=\"data row0 col4\" >Universität Wien, Universität Innsbruck, Montanuniversität Leoben, Medizinische Universität Graz, Universität für Bodenkultur Wien, Technische Universität Wien</td>\n",
       "            </tr>\n",
       "            <tr>\n",
       "                        <th id=\"T_b273d940_a266_11e9_ba46_1c666d97228elevel0_row1\" class=\"row_heading level0 row1\" >FFG</th>\n",
       "                        <td id=\"T_b273d940_a266_11e9_ba46_1c666d97228erow1_col0\" class=\"data row1 col0\" >15.25%</td>\n",
       "                        <td id=\"T_b273d940_a266_11e9_ba46_1c666d97228erow1_col1\" class=\"data row1 col1\" >11. Platz</td>\n",
       "                        <td id=\"T_b273d940_a266_11e9_ba46_1c666d97228erow1_col2\" class=\"data row1 col2\" >1,007,981 €</td>\n",
       "                        <td id=\"T_b273d940_a266_11e9_ba46_1c666d97228erow1_col3\" class=\"data row1 col3\" >Technische Universität Graz (19.0 Mio. €)</td>\n",
       "                        <td id=\"T_b273d940_a266_11e9_ba46_1c666d97228erow1_col4\" class=\"data row1 col4\" >Technische Universität Graz, Technische Universität Wien, Montanuniversität Leoben, Universität Linz, Universität Innsbruck, Universität für Bodenkultur Wien, Universität Wien, Universität Graz, Medizinische Universität Graz, Medizinische Universität Wien</td>\n",
       "            </tr>\n",
       "            <tr>\n",
       "                        <th id=\"T_b273d940_a266_11e9_ba46_1c666d97228elevel0_row2\" class=\"row_heading level0 row2\" >EU</th>\n",
       "                        <td id=\"T_b273d940_a266_11e9_ba46_1c666d97228erow2_col0\" class=\"data row2 col0\" >12.27%</td>\n",
       "                        <td id=\"T_b273d940_a266_11e9_ba46_1c666d97228erow2_col1\" class=\"data row2 col1\" >15. Platz</td>\n",
       "                        <td id=\"T_b273d940_a266_11e9_ba46_1c666d97228erow2_col2\" class=\"data row2 col2\" >811,092 €</td>\n",
       "                        <td id=\"T_b273d940_a266_11e9_ba46_1c666d97228erow2_col3\" class=\"data row2 col3\" >Technische Universität Wien (14.7 Mio. €)</td>\n",
       "                        <td id=\"T_b273d940_a266_11e9_ba46_1c666d97228erow2_col4\" class=\"data row2 col4\" >Technische Universität Wien, Universität Wien, Technische Universität Graz, Universität Innsbruck, Medizinische Universität Wien, Universität für Bodenkultur Wien, Montanuniversität Leoben, Medizinische Universität Innsbruck, Universität Salzburg, Universität Graz, Universität Linz, Medizinische Universität Graz, Wirtschaftsuniversität Wien, Universität Klagenfurt</td>\n",
       "            </tr>\n",
       "    </tbody></table>"
      ],
      "text/plain": [
       "<pandas.io.formats.style.Styler at 0x1e596694c18>"
      ]
     },
     "metadata": {},
     "output_type": "display_data"
    },
    {
     "data": {
      "text/html": [
       "<h4>Ähnliche Universitäten aufgrund der Drittmittel-Struktur</h3>"
      ],
      "text/plain": [
       "<IPython.core.display.HTML object>"
      ]
     },
     "metadata": {},
     "output_type": "display_data"
    },
    {
     "data": {
      "text/html": [
       "<p>Universität Klagenfurt, Universität Innsbruck, Universität Graz, Technische Universität Wien</p>"
      ],
      "text/plain": [
       "<IPython.core.display.HTML object>"
      ]
     },
     "metadata": {},
     "output_type": "display_data"
    },
    {
     "data": {
      "text/html": [
       "<h3>Medizinische Universität Graz</h3>"
      ],
      "text/plain": [
       "<IPython.core.display.HTML object>"
      ]
     },
     "metadata": {},
     "output_type": "display_data"
    },
    {
     "data": {
      "text/html": [
       "<h4>Drittmittel-Struktur</h4>"
      ],
      "text/plain": [
       "<IPython.core.display.HTML object>"
      ]
     },
     "metadata": {},
     "output_type": "display_data"
    },
    {
     "data": {
      "text/html": [
       "<style  type=\"text/css\" >\n",
       "    #T_b27d6246_a266_11e9_8663_1c666d97228erow0_col0 {\n",
       "            background-color:  lightgreen;\n",
       "        }    #T_b27d6246_a266_11e9_8663_1c666d97228erow0_col1 {\n",
       "            background-color:  lightgreen;\n",
       "        }    #T_b27d6246_a266_11e9_8663_1c666d97228erow0_col2 {\n",
       "            background-color:  lightgreen;\n",
       "        }    #T_b27d6246_a266_11e9_8663_1c666d97228erow0_col3 {\n",
       "            background-color:  lightgreen;\n",
       "        }    #T_b27d6246_a266_11e9_8663_1c666d97228erow0_col4 {\n",
       "            background-color:  lightgreen;\n",
       "        }</style><table id=\"T_b27d6246_a266_11e9_8663_1c666d97228e\" ><thead>    <tr>        <th class=\"blank level0\" ></th>        <th class=\"col_heading level0 col0\" >Intern</th>        <th class=\"col_heading level0 col1\" >Ranking</th>        <th class=\"col_heading level0 col2\" >Erlöse</th>        <th class=\"col_heading level0 col3\" >Beste Universität</th>        <th class=\"col_heading level0 col4\" >Bessere Universitäten</th>    </tr>    <tr>        <th class=\"index_name level0\" >WZW</th>        <th class=\"blank\" ></th>        <th class=\"blank\" ></th>        <th class=\"blank\" ></th>        <th class=\"blank\" ></th>        <th class=\"blank\" ></th>    </tr></thead><tbody>\n",
       "                <tr>\n",
       "                        <th id=\"T_b27d6246_a266_11e9_8663_1c666d97228elevel0_row0\" class=\"row_heading level0 row0\" >Unternehmen</th>\n",
       "                        <td id=\"T_b27d6246_a266_11e9_8663_1c666d97228erow0_col0\" class=\"data row0 col0\" >64.48%</td>\n",
       "                        <td id=\"T_b27d6246_a266_11e9_8663_1c666d97228erow0_col1\" class=\"data row0 col1\" >1. Platz</td>\n",
       "                        <td id=\"T_b27d6246_a266_11e9_8663_1c666d97228erow0_col2\" class=\"data row0 col2\" >32,440,938 €</td>\n",
       "                        <td id=\"T_b27d6246_a266_11e9_8663_1c666d97228erow0_col3\" class=\"data row0 col3\" >(diese)</td>\n",
       "                        <td id=\"T_b27d6246_a266_11e9_8663_1c666d97228erow0_col4\" class=\"data row0 col4\" >(keine)</td>\n",
       "            </tr>\n",
       "    </tbody></table>"
      ],
      "text/plain": [
       "<pandas.io.formats.style.Styler at 0x1e5974fb860>"
      ]
     },
     "metadata": {},
     "output_type": "display_data"
    },
    {
     "data": {
      "text/html": [
       "<h4>Ähnliche Universitäten aufgrund der Drittmittel-Struktur</h3>"
      ],
      "text/plain": [
       "<IPython.core.display.HTML object>"
      ]
     },
     "metadata": {},
     "output_type": "display_data"
    },
    {
     "data": {
      "text/html": [
       "<p>Medizinische Universität Innsbruck, Montanuniversität Leoben, Technische Universität Graz, Universität für Bodenkultur Wien</p>"
      ],
      "text/plain": [
       "<IPython.core.display.HTML object>"
      ]
     },
     "metadata": {},
     "output_type": "display_data"
    },
    {
     "data": {
      "text/html": [
       "<h3>Medizinische Universität Innsbruck</h3>"
      ],
      "text/plain": [
       "<IPython.core.display.HTML object>"
      ]
     },
     "metadata": {},
     "output_type": "display_data"
    },
    {
     "data": {
      "text/html": [
       "<h4>Drittmittel-Struktur</h4>"
      ],
      "text/plain": [
       "<IPython.core.display.HTML object>"
      ]
     },
     "metadata": {},
     "output_type": "display_data"
    },
    {
     "data": {
      "text/html": [
       "<style  type=\"text/css\" >\n",
       "    #T_b286ebc2_a266_11e9_a16f_1c666d97228erow0_col0 {\n",
       "            background-color:  white;\n",
       "        }    #T_b286ebc2_a266_11e9_a16f_1c666d97228erow0_col1 {\n",
       "            background-color:  white;\n",
       "        }    #T_b286ebc2_a266_11e9_a16f_1c666d97228erow0_col2 {\n",
       "            background-color:  white;\n",
       "        }    #T_b286ebc2_a266_11e9_a16f_1c666d97228erow0_col3 {\n",
       "            background-color:  white;\n",
       "        }    #T_b286ebc2_a266_11e9_a16f_1c666d97228erow0_col4 {\n",
       "            background-color:  white;\n",
       "        }</style><table id=\"T_b286ebc2_a266_11e9_a16f_1c666d97228e\" ><thead>    <tr>        <th class=\"blank level0\" ></th>        <th class=\"col_heading level0 col0\" >Intern</th>        <th class=\"col_heading level0 col1\" >Ranking</th>        <th class=\"col_heading level0 col2\" >Erlöse</th>        <th class=\"col_heading level0 col3\" >Beste Universität</th>        <th class=\"col_heading level0 col4\" >Bessere Universitäten</th>    </tr>    <tr>        <th class=\"index_name level0\" >WZW</th>        <th class=\"blank\" ></th>        <th class=\"blank\" ></th>        <th class=\"blank\" ></th>        <th class=\"blank\" ></th>        <th class=\"blank\" ></th>    </tr></thead><tbody>\n",
       "                <tr>\n",
       "                        <th id=\"T_b286ebc2_a266_11e9_a16f_1c666d97228elevel0_row0\" class=\"row_heading level0 row0\" >Unternehmen</th>\n",
       "                        <td id=\"T_b286ebc2_a266_11e9_a16f_1c666d97228erow0_col0\" class=\"data row0 col0\" >50.51%</td>\n",
       "                        <td id=\"T_b286ebc2_a266_11e9_a16f_1c666d97228erow0_col1\" class=\"data row0 col1\" >5. Platz</td>\n",
       "                        <td id=\"T_b286ebc2_a266_11e9_a16f_1c666d97228erow0_col2\" class=\"data row0 col2\" >21,297,441 €</td>\n",
       "                        <td id=\"T_b286ebc2_a266_11e9_a16f_1c666d97228erow0_col3\" class=\"data row0 col3\" >Medizinische Universität Graz (32.4 Mio. €)</td>\n",
       "                        <td id=\"T_b286ebc2_a266_11e9_a16f_1c666d97228erow0_col4\" class=\"data row0 col4\" >Medizinische Universität Graz, Technische Universität Graz, Technische Universität Wien, Medizinische Universität Wien</td>\n",
       "            </tr>\n",
       "    </tbody></table>"
      ],
      "text/plain": [
       "<pandas.io.formats.style.Styler at 0x1e59781d5c0>"
      ]
     },
     "metadata": {},
     "output_type": "display_data"
    },
    {
     "data": {
      "text/html": [
       "<h4>Ähnliche Universitäten aufgrund der Drittmittel-Struktur</h3>"
      ],
      "text/plain": [
       "<IPython.core.display.HTML object>"
      ]
     },
     "metadata": {},
     "output_type": "display_data"
    },
    {
     "data": {
      "text/html": [
       "<p>Medizinische Universität Graz, Montanuniversität Leoben, Technische Universität Graz, Universität für Bodenkultur Wien</p>"
      ],
      "text/plain": [
       "<IPython.core.display.HTML object>"
      ]
     },
     "metadata": {},
     "output_type": "display_data"
    },
    {
     "data": {
      "text/html": [
       "<h3>Universität Salzburg</h3>"
      ],
      "text/plain": [
       "<IPython.core.display.HTML object>"
      ]
     },
     "metadata": {},
     "output_type": "display_data"
    },
    {
     "data": {
      "text/html": [
       "<h4>Drittmittel-Struktur</h4>"
      ],
      "text/plain": [
       "<IPython.core.display.HTML object>"
      ]
     },
     "metadata": {},
     "output_type": "display_data"
    },
    {
     "data": {
      "text/html": [
       "<style  type=\"text/css\" >\n",
       "    #T_b292d77a_a266_11e9_90a4_1c666d97228erow0_col0 {\n",
       "            background-color:  white;\n",
       "        }    #T_b292d77a_a266_11e9_90a4_1c666d97228erow0_col1 {\n",
       "            background-color:  white;\n",
       "        }    #T_b292d77a_a266_11e9_90a4_1c666d97228erow0_col2 {\n",
       "            background-color:  white;\n",
       "        }    #T_b292d77a_a266_11e9_90a4_1c666d97228erow0_col3 {\n",
       "            background-color:  white;\n",
       "        }    #T_b292d77a_a266_11e9_90a4_1c666d97228erow0_col4 {\n",
       "            background-color:  white;\n",
       "        }    #T_b292d77a_a266_11e9_90a4_1c666d97228erow1_col0 {\n",
       "            background-color:  white;\n",
       "        }    #T_b292d77a_a266_11e9_90a4_1c666d97228erow1_col1 {\n",
       "            background-color:  white;\n",
       "        }    #T_b292d77a_a266_11e9_90a4_1c666d97228erow1_col2 {\n",
       "            background-color:  white;\n",
       "        }    #T_b292d77a_a266_11e9_90a4_1c666d97228erow1_col3 {\n",
       "            background-color:  white;\n",
       "        }    #T_b292d77a_a266_11e9_90a4_1c666d97228erow1_col4 {\n",
       "            background-color:  white;\n",
       "        }    #T_b292d77a_a266_11e9_90a4_1c666d97228erow2_col0 {\n",
       "            background-color:  white;\n",
       "        }    #T_b292d77a_a266_11e9_90a4_1c666d97228erow2_col1 {\n",
       "            background-color:  white;\n",
       "        }    #T_b292d77a_a266_11e9_90a4_1c666d97228erow2_col2 {\n",
       "            background-color:  white;\n",
       "        }    #T_b292d77a_a266_11e9_90a4_1c666d97228erow2_col3 {\n",
       "            background-color:  white;\n",
       "        }    #T_b292d77a_a266_11e9_90a4_1c666d97228erow2_col4 {\n",
       "            background-color:  white;\n",
       "        }</style><table id=\"T_b292d77a_a266_11e9_90a4_1c666d97228e\" ><thead>    <tr>        <th class=\"blank level0\" ></th>        <th class=\"col_heading level0 col0\" >Intern</th>        <th class=\"col_heading level0 col1\" >Ranking</th>        <th class=\"col_heading level0 col2\" >Erlöse</th>        <th class=\"col_heading level0 col3\" >Beste Universität</th>        <th class=\"col_heading level0 col4\" >Bessere Universitäten</th>    </tr>    <tr>        <th class=\"index_name level0\" >WZW</th>        <th class=\"blank\" ></th>        <th class=\"blank\" ></th>        <th class=\"blank\" ></th>        <th class=\"blank\" ></th>        <th class=\"blank\" ></th>    </tr></thead><tbody>\n",
       "                <tr>\n",
       "                        <th id=\"T_b292d77a_a266_11e9_90a4_1c666d97228elevel0_row0\" class=\"row_heading level0 row0\" >FWF</th>\n",
       "                        <td id=\"T_b292d77a_a266_11e9_90a4_1c666d97228erow0_col0\" class=\"data row0 col0\" >40.29%</td>\n",
       "                        <td id=\"T_b292d77a_a266_11e9_90a4_1c666d97228erow0_col1\" class=\"data row0 col1\" >9. Platz</td>\n",
       "                        <td id=\"T_b292d77a_a266_11e9_90a4_1c666d97228erow0_col2\" class=\"data row0 col2\" >7,666,637 €</td>\n",
       "                        <td id=\"T_b292d77a_a266_11e9_90a4_1c666d97228erow0_col3\" class=\"data row0 col3\" >Universität Wien (41.1 Mio. €)</td>\n",
       "                        <td id=\"T_b292d77a_a266_11e9_90a4_1c666d97228erow0_col4\" class=\"data row0 col4\" >Universität Wien, Technische Universität Wien, Medizinische Universität Wien, Universität Innsbruck, Universität Graz, Medizinische Universität Innsbruck, Universität für Bodenkultur Wien, Universität Linz</td>\n",
       "            </tr>\n",
       "            <tr>\n",
       "                        <th id=\"T_b292d77a_a266_11e9_90a4_1c666d97228elevel0_row1\" class=\"row_heading level0 row1\" >EU</th>\n",
       "                        <td id=\"T_b292d77a_a266_11e9_90a4_1c666d97228erow1_col0\" class=\"data row1 col0\" >16.13%</td>\n",
       "                        <td id=\"T_b292d77a_a266_11e9_90a4_1c666d97228erow1_col1\" class=\"data row1 col1\" >9. Platz</td>\n",
       "                        <td id=\"T_b292d77a_a266_11e9_90a4_1c666d97228erow1_col2\" class=\"data row1 col2\" >3,069,169 €</td>\n",
       "                        <td id=\"T_b292d77a_a266_11e9_90a4_1c666d97228erow1_col3\" class=\"data row1 col3\" >Technische Universität Wien (14.7 Mio. €)</td>\n",
       "                        <td id=\"T_b292d77a_a266_11e9_90a4_1c666d97228erow1_col4\" class=\"data row1 col4\" >Technische Universität Wien, Universität Wien, Technische Universität Graz, Universität Innsbruck, Medizinische Universität Wien, Universität für Bodenkultur Wien, Montanuniversität Leoben, Medizinische Universität Innsbruck</td>\n",
       "            </tr>\n",
       "            <tr>\n",
       "                        <th id=\"T_b292d77a_a266_11e9_90a4_1c666d97228elevel0_row2\" class=\"row_heading level0 row2\" >sonstige öffentlich-rechtliche Einrichtungen (Körperschaften, Stiftungen, Fonds etc.)</th>\n",
       "                        <td id=\"T_b292d77a_a266_11e9_90a4_1c666d97228erow2_col0\" class=\"data row2 col0\" >9.67%</td>\n",
       "                        <td id=\"T_b292d77a_a266_11e9_90a4_1c666d97228erow2_col1\" class=\"data row2 col1\" >9. Platz</td>\n",
       "                        <td id=\"T_b292d77a_a266_11e9_90a4_1c666d97228erow2_col2\" class=\"data row2 col2\" >1,840,426 €</td>\n",
       "                        <td id=\"T_b292d77a_a266_11e9_90a4_1c666d97228erow2_col3\" class=\"data row2 col3\" >Technische Universität Graz (11.9 Mio. €)</td>\n",
       "                        <td id=\"T_b292d77a_a266_11e9_90a4_1c666d97228erow2_col4\" class=\"data row2 col4\" >Technische Universität Graz, Technische Universität Wien, Universität Innsbruck, Universität Linz, Montanuniversität Leoben, Universität für Bodenkultur Wien, Medizinische Universität Innsbruck, Universität Wien</td>\n",
       "            </tr>\n",
       "    </tbody></table>"
      ],
      "text/plain": [
       "<pandas.io.formats.style.Styler at 0x1e5974e4be0>"
      ]
     },
     "metadata": {},
     "output_type": "display_data"
    },
    {
     "data": {
      "text/html": [
       "<h4>Ähnliche Universitäten aufgrund der Drittmittel-Struktur</h3>"
      ],
      "text/plain": [
       "<IPython.core.display.HTML object>"
      ]
     },
     "metadata": {},
     "output_type": "display_data"
    },
    {
     "data": {
      "text/html": [
       "<p>Universität Innsbruck, Universität für angewandte Kunst Wien, Universität Graz, Universität Wien</p>"
      ],
      "text/plain": [
       "<IPython.core.display.HTML object>"
      ]
     },
     "metadata": {},
     "output_type": "display_data"
    },
    {
     "data": {
      "text/html": [
       "<h3>Montanuniversität Leoben</h3>"
      ],
      "text/plain": [
       "<IPython.core.display.HTML object>"
      ]
     },
     "metadata": {},
     "output_type": "display_data"
    },
    {
     "data": {
      "text/html": [
       "<h4>Drittmittel-Struktur</h4>"
      ],
      "text/plain": [
       "<IPython.core.display.HTML object>"
      ]
     },
     "metadata": {},
     "output_type": "display_data"
    },
    {
     "data": {
      "text/html": [
       "<style  type=\"text/css\" >\n",
       "    #T_b29c6114_a266_11e9_9990_1c666d97228erow0_col0 {\n",
       "            background-color:  white;\n",
       "        }    #T_b29c6114_a266_11e9_9990_1c666d97228erow0_col1 {\n",
       "            background-color:  white;\n",
       "        }    #T_b29c6114_a266_11e9_9990_1c666d97228erow0_col2 {\n",
       "            background-color:  white;\n",
       "        }    #T_b29c6114_a266_11e9_9990_1c666d97228erow0_col3 {\n",
       "            background-color:  white;\n",
       "        }    #T_b29c6114_a266_11e9_9990_1c666d97228erow0_col4 {\n",
       "            background-color:  white;\n",
       "        }    #T_b29c6114_a266_11e9_9990_1c666d97228erow1_col0 {\n",
       "            background-color:  white;\n",
       "        }    #T_b29c6114_a266_11e9_9990_1c666d97228erow1_col1 {\n",
       "            background-color:  white;\n",
       "        }    #T_b29c6114_a266_11e9_9990_1c666d97228erow1_col2 {\n",
       "            background-color:  white;\n",
       "        }    #T_b29c6114_a266_11e9_9990_1c666d97228erow1_col3 {\n",
       "            background-color:  white;\n",
       "        }    #T_b29c6114_a266_11e9_9990_1c666d97228erow1_col4 {\n",
       "            background-color:  white;\n",
       "        }</style><table id=\"T_b29c6114_a266_11e9_9990_1c666d97228e\" ><thead>    <tr>        <th class=\"blank level0\" ></th>        <th class=\"col_heading level0 col0\" >Intern</th>        <th class=\"col_heading level0 col1\" >Ranking</th>        <th class=\"col_heading level0 col2\" >Erlöse</th>        <th class=\"col_heading level0 col3\" >Beste Universität</th>        <th class=\"col_heading level0 col4\" >Bessere Universitäten</th>    </tr>    <tr>        <th class=\"index_name level0\" >WZW</th>        <th class=\"blank\" ></th>        <th class=\"blank\" ></th>        <th class=\"blank\" ></th>        <th class=\"blank\" ></th>        <th class=\"blank\" ></th>    </tr></thead><tbody>\n",
       "                <tr>\n",
       "                        <th id=\"T_b29c6114_a266_11e9_9990_1c666d97228elevel0_row0\" class=\"row_heading level0 row0\" >Unternehmen</th>\n",
       "                        <td id=\"T_b29c6114_a266_11e9_9990_1c666d97228erow0_col0\" class=\"data row0 col0\" >32.53%</td>\n",
       "                        <td id=\"T_b29c6114_a266_11e9_9990_1c666d97228erow0_col1\" class=\"data row0 col1\" >7. Platz</td>\n",
       "                        <td id=\"T_b29c6114_a266_11e9_9990_1c666d97228erow0_col2\" class=\"data row0 col2\" >14,284,451 €</td>\n",
       "                        <td id=\"T_b29c6114_a266_11e9_9990_1c666d97228erow0_col3\" class=\"data row0 col3\" >Medizinische Universität Graz (32.4 Mio. €)</td>\n",
       "                        <td id=\"T_b29c6114_a266_11e9_9990_1c666d97228erow0_col4\" class=\"data row0 col4\" >Medizinische Universität Graz, Technische Universität Graz, Technische Universität Wien, Medizinische Universität Wien, Medizinische Universität Innsbruck, Universität für Bodenkultur Wien</td>\n",
       "            </tr>\n",
       "            <tr>\n",
       "                        <th id=\"T_b29c6114_a266_11e9_9990_1c666d97228elevel0_row1\" class=\"row_heading level0 row1\" >FFG</th>\n",
       "                        <td id=\"T_b29c6114_a266_11e9_9990_1c666d97228erow1_col0\" class=\"data row1 col0\" >30.48%</td>\n",
       "                        <td id=\"T_b29c6114_a266_11e9_9990_1c666d97228erow1_col1\" class=\"data row1 col1\" >3. Platz</td>\n",
       "                        <td id=\"T_b29c6114_a266_11e9_9990_1c666d97228erow1_col2\" class=\"data row1 col2\" >13,384,394 €</td>\n",
       "                        <td id=\"T_b29c6114_a266_11e9_9990_1c666d97228erow1_col3\" class=\"data row1 col3\" >Technische Universität Graz (19.0 Mio. €)</td>\n",
       "                        <td id=\"T_b29c6114_a266_11e9_9990_1c666d97228erow1_col4\" class=\"data row1 col4\" >Technische Universität Graz, Technische Universität Wien</td>\n",
       "            </tr>\n",
       "    </tbody></table>"
      ],
      "text/plain": [
       "<pandas.io.formats.style.Styler at 0x1e5977f5b70>"
      ]
     },
     "metadata": {},
     "output_type": "display_data"
    },
    {
     "data": {
      "text/html": [
       "<h4>Ähnliche Universitäten aufgrund der Drittmittel-Struktur</h3>"
      ],
      "text/plain": [
       "<IPython.core.display.HTML object>"
      ]
     },
     "metadata": {},
     "output_type": "display_data"
    },
    {
     "data": {
      "text/html": [
       "<p>Technische Universität Graz, Universität Linz, Technische Universität Wien, Universität für Bodenkultur Wien</p>"
      ],
      "text/plain": [
       "<IPython.core.display.HTML object>"
      ]
     },
     "metadata": {},
     "output_type": "display_data"
    },
    {
     "data": {
      "text/html": [
       "<h3>Technische Universität Graz</h3>"
      ],
      "text/plain": [
       "<IPython.core.display.HTML object>"
      ]
     },
     "metadata": {},
     "output_type": "display_data"
    },
    {
     "data": {
      "text/html": [
       "<h4>Drittmittel-Struktur</h4>"
      ],
      "text/plain": [
       "<IPython.core.display.HTML object>"
      ]
     },
     "metadata": {},
     "output_type": "display_data"
    },
    {
     "data": {
      "text/html": [
       "<style  type=\"text/css\" >\n",
       "    #T_b2a5ea3e_a266_11e9_9a12_1c666d97228erow0_col0 {\n",
       "            background-color:  yellow;\n",
       "        }    #T_b2a5ea3e_a266_11e9_9a12_1c666d97228erow0_col1 {\n",
       "            background-color:  yellow;\n",
       "        }    #T_b2a5ea3e_a266_11e9_9a12_1c666d97228erow0_col2 {\n",
       "            background-color:  yellow;\n",
       "        }    #T_b2a5ea3e_a266_11e9_9a12_1c666d97228erow0_col3 {\n",
       "            background-color:  yellow;\n",
       "        }    #T_b2a5ea3e_a266_11e9_9a12_1c666d97228erow0_col4 {\n",
       "            background-color:  yellow;\n",
       "        }    #T_b2a5ea3e_a266_11e9_9a12_1c666d97228erow1_col0 {\n",
       "            background-color:  lightgreen;\n",
       "        }    #T_b2a5ea3e_a266_11e9_9a12_1c666d97228erow1_col1 {\n",
       "            background-color:  lightgreen;\n",
       "        }    #T_b2a5ea3e_a266_11e9_9a12_1c666d97228erow1_col2 {\n",
       "            background-color:  lightgreen;\n",
       "        }    #T_b2a5ea3e_a266_11e9_9a12_1c666d97228erow1_col3 {\n",
       "            background-color:  lightgreen;\n",
       "        }    #T_b2a5ea3e_a266_11e9_9a12_1c666d97228erow1_col4 {\n",
       "            background-color:  lightgreen;\n",
       "        }</style><table id=\"T_b2a5ea3e_a266_11e9_9a12_1c666d97228e\" ><thead>    <tr>        <th class=\"blank level0\" ></th>        <th class=\"col_heading level0 col0\" >Intern</th>        <th class=\"col_heading level0 col1\" >Ranking</th>        <th class=\"col_heading level0 col2\" >Erlöse</th>        <th class=\"col_heading level0 col3\" >Beste Universität</th>        <th class=\"col_heading level0 col4\" >Bessere Universitäten</th>    </tr>    <tr>        <th class=\"index_name level0\" >WZW</th>        <th class=\"blank\" ></th>        <th class=\"blank\" ></th>        <th class=\"blank\" ></th>        <th class=\"blank\" ></th>        <th class=\"blank\" ></th>    </tr></thead><tbody>\n",
       "                <tr>\n",
       "                        <th id=\"T_b2a5ea3e_a266_11e9_9a12_1c666d97228elevel0_row0\" class=\"row_heading level0 row0\" >Unternehmen</th>\n",
       "                        <td id=\"T_b2a5ea3e_a266_11e9_9a12_1c666d97228erow0_col0\" class=\"data row0 col0\" >31.34%</td>\n",
       "                        <td id=\"T_b2a5ea3e_a266_11e9_9a12_1c666d97228erow0_col1\" class=\"data row0 col1\" >2. Platz</td>\n",
       "                        <td id=\"T_b2a5ea3e_a266_11e9_9a12_1c666d97228erow0_col2\" class=\"data row0 col2\" >24,719,792 €</td>\n",
       "                        <td id=\"T_b2a5ea3e_a266_11e9_9a12_1c666d97228erow0_col3\" class=\"data row0 col3\" >Medizinische Universität Graz (32.4 Mio. €)</td>\n",
       "                        <td id=\"T_b2a5ea3e_a266_11e9_9a12_1c666d97228erow0_col4\" class=\"data row0 col4\" >Medizinische Universität Graz</td>\n",
       "            </tr>\n",
       "            <tr>\n",
       "                        <th id=\"T_b2a5ea3e_a266_11e9_9a12_1c666d97228elevel0_row1\" class=\"row_heading level0 row1\" >FFG</th>\n",
       "                        <td id=\"T_b2a5ea3e_a266_11e9_9a12_1c666d97228erow1_col0\" class=\"data row1 col0\" >24.15%</td>\n",
       "                        <td id=\"T_b2a5ea3e_a266_11e9_9a12_1c666d97228erow1_col1\" class=\"data row1 col1\" >1. Platz</td>\n",
       "                        <td id=\"T_b2a5ea3e_a266_11e9_9a12_1c666d97228erow1_col2\" class=\"data row1 col2\" >19,046,693 €</td>\n",
       "                        <td id=\"T_b2a5ea3e_a266_11e9_9a12_1c666d97228erow1_col3\" class=\"data row1 col3\" >(diese)</td>\n",
       "                        <td id=\"T_b2a5ea3e_a266_11e9_9a12_1c666d97228erow1_col4\" class=\"data row1 col4\" >(keine)</td>\n",
       "            </tr>\n",
       "    </tbody></table>"
      ],
      "text/plain": [
       "<pandas.io.formats.style.Styler at 0x1e596694be0>"
      ]
     },
     "metadata": {},
     "output_type": "display_data"
    },
    {
     "data": {
      "text/html": [
       "<h4>Ähnliche Universitäten aufgrund der Drittmittel-Struktur</h3>"
      ],
      "text/plain": [
       "<IPython.core.display.HTML object>"
      ]
     },
     "metadata": {},
     "output_type": "display_data"
    },
    {
     "data": {
      "text/html": [
       "<p>Montanuniversität Leoben, Technische Universität Wien, Universität Linz, Universität für Bodenkultur Wien</p>"
      ],
      "text/plain": [
       "<IPython.core.display.HTML object>"
      ]
     },
     "metadata": {},
     "output_type": "display_data"
    },
    {
     "data": {
      "text/html": [
       "<h3>Universität Graz</h3>"
      ],
      "text/plain": [
       "<IPython.core.display.HTML object>"
      ]
     },
     "metadata": {},
     "output_type": "display_data"
    },
    {
     "data": {
      "text/html": [
       "<h4>Drittmittel-Struktur</h4>"
      ],
      "text/plain": [
       "<IPython.core.display.HTML object>"
      ]
     },
     "metadata": {},
     "output_type": "display_data"
    },
    {
     "data": {
      "text/html": [
       "<style  type=\"text/css\" >\n",
       "    #T_b2b43936_a266_11e9_bf99_1c666d97228erow0_col0 {\n",
       "            background-color:  white;\n",
       "        }    #T_b2b43936_a266_11e9_bf99_1c666d97228erow0_col1 {\n",
       "            background-color:  white;\n",
       "        }    #T_b2b43936_a266_11e9_bf99_1c666d97228erow0_col2 {\n",
       "            background-color:  white;\n",
       "        }    #T_b2b43936_a266_11e9_bf99_1c666d97228erow0_col3 {\n",
       "            background-color:  white;\n",
       "        }    #T_b2b43936_a266_11e9_bf99_1c666d97228erow0_col4 {\n",
       "            background-color:  white;\n",
       "        }    #T_b2b43936_a266_11e9_bf99_1c666d97228erow1_col0 {\n",
       "            background-color:  white;\n",
       "        }    #T_b2b43936_a266_11e9_bf99_1c666d97228erow1_col1 {\n",
       "            background-color:  white;\n",
       "        }    #T_b2b43936_a266_11e9_bf99_1c666d97228erow1_col2 {\n",
       "            background-color:  white;\n",
       "        }    #T_b2b43936_a266_11e9_bf99_1c666d97228erow1_col3 {\n",
       "            background-color:  white;\n",
       "        }    #T_b2b43936_a266_11e9_bf99_1c666d97228erow1_col4 {\n",
       "            background-color:  white;\n",
       "        }    #T_b2b43936_a266_11e9_bf99_1c666d97228erow2_col0 {\n",
       "            background-color:  white;\n",
       "        }    #T_b2b43936_a266_11e9_bf99_1c666d97228erow2_col1 {\n",
       "            background-color:  white;\n",
       "        }    #T_b2b43936_a266_11e9_bf99_1c666d97228erow2_col2 {\n",
       "            background-color:  white;\n",
       "        }    #T_b2b43936_a266_11e9_bf99_1c666d97228erow2_col3 {\n",
       "            background-color:  white;\n",
       "        }    #T_b2b43936_a266_11e9_bf99_1c666d97228erow2_col4 {\n",
       "            background-color:  white;\n",
       "        }</style><table id=\"T_b2b43936_a266_11e9_bf99_1c666d97228e\" ><thead>    <tr>        <th class=\"blank level0\" ></th>        <th class=\"col_heading level0 col0\" >Intern</th>        <th class=\"col_heading level0 col1\" >Ranking</th>        <th class=\"col_heading level0 col2\" >Erlöse</th>        <th class=\"col_heading level0 col3\" >Beste Universität</th>        <th class=\"col_heading level0 col4\" >Bessere Universitäten</th>    </tr>    <tr>        <th class=\"index_name level0\" >WZW</th>        <th class=\"blank\" ></th>        <th class=\"blank\" ></th>        <th class=\"blank\" ></th>        <th class=\"blank\" ></th>        <th class=\"blank\" ></th>    </tr></thead><tbody>\n",
       "                <tr>\n",
       "                        <th id=\"T_b2b43936_a266_11e9_bf99_1c666d97228elevel0_row0\" class=\"row_heading level0 row0\" >FWF</th>\n",
       "                        <td id=\"T_b2b43936_a266_11e9_bf99_1c666d97228erow0_col0\" class=\"data row0 col0\" >46.04%</td>\n",
       "                        <td id=\"T_b2b43936_a266_11e9_bf99_1c666d97228erow0_col1\" class=\"data row0 col1\" >5. Platz</td>\n",
       "                        <td id=\"T_b2b43936_a266_11e9_bf99_1c666d97228erow0_col2\" class=\"data row0 col2\" >12,896,939 €</td>\n",
       "                        <td id=\"T_b2b43936_a266_11e9_bf99_1c666d97228erow0_col3\" class=\"data row0 col3\" >Universität Wien (41.1 Mio. €)</td>\n",
       "                        <td id=\"T_b2b43936_a266_11e9_bf99_1c666d97228erow0_col4\" class=\"data row0 col4\" >Universität Wien, Technische Universität Wien, Medizinische Universität Wien, Universität Innsbruck</td>\n",
       "            </tr>\n",
       "            <tr>\n",
       "                        <th id=\"T_b2b43936_a266_11e9_bf99_1c666d97228elevel0_row1\" class=\"row_heading level0 row1\" >EU</th>\n",
       "                        <td id=\"T_b2b43936_a266_11e9_bf99_1c666d97228erow1_col0\" class=\"data row1 col0\" >10.38%</td>\n",
       "                        <td id=\"T_b2b43936_a266_11e9_bf99_1c666d97228erow1_col1\" class=\"data row1 col1\" >10. Platz</td>\n",
       "                        <td id=\"T_b2b43936_a266_11e9_bf99_1c666d97228erow1_col2\" class=\"data row1 col2\" >2,907,788 €</td>\n",
       "                        <td id=\"T_b2b43936_a266_11e9_bf99_1c666d97228erow1_col3\" class=\"data row1 col3\" >Technische Universität Wien (14.7 Mio. €)</td>\n",
       "                        <td id=\"T_b2b43936_a266_11e9_bf99_1c666d97228erow1_col4\" class=\"data row1 col4\" >Technische Universität Wien, Universität Wien, Technische Universität Graz, Universität Innsbruck, Medizinische Universität Wien, Universität für Bodenkultur Wien, Montanuniversität Leoben, Medizinische Universität Innsbruck, Universität Salzburg</td>\n",
       "            </tr>\n",
       "            <tr>\n",
       "                        <th id=\"T_b2b43936_a266_11e9_bf99_1c666d97228elevel0_row2\" class=\"row_heading level0 row2\" >Länder (inkl. deren Stiftungen und Einrichtungen)</th>\n",
       "                        <td id=\"T_b2b43936_a266_11e9_bf99_1c666d97228erow2_col0\" class=\"data row2 col0\" >7.58%</td>\n",
       "                        <td id=\"T_b2b43936_a266_11e9_bf99_1c666d97228erow2_col1\" class=\"data row2 col1\" >8. Platz</td>\n",
       "                        <td id=\"T_b2b43936_a266_11e9_bf99_1c666d97228erow2_col2\" class=\"data row2 col2\" >2,123,043 €</td>\n",
       "                        <td id=\"T_b2b43936_a266_11e9_bf99_1c666d97228erow2_col3\" class=\"data row2 col3\" >Universität Wien (5.6 Mio. €)</td>\n",
       "                        <td id=\"T_b2b43936_a266_11e9_bf99_1c666d97228erow2_col4\" class=\"data row2 col4\" >Universität Wien, Universität Innsbruck, Montanuniversität Leoben, Medizinische Universität Graz, Universität für Bodenkultur Wien, Technische Universität Wien, Universität für Weiterbildung Krems</td>\n",
       "            </tr>\n",
       "    </tbody></table>"
      ],
      "text/plain": [
       "<pandas.io.formats.style.Styler at 0x1e5974e4dd8>"
      ]
     },
     "metadata": {},
     "output_type": "display_data"
    },
    {
     "data": {
      "text/html": [
       "<h4>Ähnliche Universitäten aufgrund der Drittmittel-Struktur</h3>"
      ],
      "text/plain": [
       "<IPython.core.display.HTML object>"
      ]
     },
     "metadata": {},
     "output_type": "display_data"
    },
    {
     "data": {
      "text/html": [
       "<p>Universität Wien, Universität Salzburg, Universität für angewandte Kunst Wien, Universität für Musik und darstellende Kunst Graz</p>"
      ],
      "text/plain": [
       "<IPython.core.display.HTML object>"
      ]
     },
     "metadata": {},
     "output_type": "display_data"
    },
    {
     "data": {
      "text/html": [
       "<h3>Universität für angewandte Kunst Wien</h3>"
      ],
      "text/plain": [
       "<IPython.core.display.HTML object>"
      ]
     },
     "metadata": {},
     "output_type": "display_data"
    },
    {
     "data": {
      "text/html": [
       "<h4>Drittmittel-Struktur</h4>"
      ],
      "text/plain": [
       "<IPython.core.display.HTML object>"
      ]
     },
     "metadata": {},
     "output_type": "display_data"
    },
    {
     "data": {
      "text/html": [
       "<style  type=\"text/css\" >\n",
       "    #T_b2c0241c_a266_11e9_818e_1c666d97228erow0_col0 {\n",
       "            background-color:  white;\n",
       "        }    #T_b2c0241c_a266_11e9_818e_1c666d97228erow0_col1 {\n",
       "            background-color:  white;\n",
       "        }    #T_b2c0241c_a266_11e9_818e_1c666d97228erow0_col2 {\n",
       "            background-color:  white;\n",
       "        }    #T_b2c0241c_a266_11e9_818e_1c666d97228erow0_col3 {\n",
       "            background-color:  white;\n",
       "        }    #T_b2c0241c_a266_11e9_818e_1c666d97228erow0_col4 {\n",
       "            background-color:  white;\n",
       "        }    #T_b2c0241c_a266_11e9_818e_1c666d97228erow1_col0 {\n",
       "            background-color:  white;\n",
       "        }    #T_b2c0241c_a266_11e9_818e_1c666d97228erow1_col1 {\n",
       "            background-color:  white;\n",
       "        }    #T_b2c0241c_a266_11e9_818e_1c666d97228erow1_col2 {\n",
       "            background-color:  white;\n",
       "        }    #T_b2c0241c_a266_11e9_818e_1c666d97228erow1_col3 {\n",
       "            background-color:  white;\n",
       "        }    #T_b2c0241c_a266_11e9_818e_1c666d97228erow1_col4 {\n",
       "            background-color:  white;\n",
       "        }</style><table id=\"T_b2c0241c_a266_11e9_818e_1c666d97228e\" ><thead>    <tr>        <th class=\"blank level0\" ></th>        <th class=\"col_heading level0 col0\" >Intern</th>        <th class=\"col_heading level0 col1\" >Ranking</th>        <th class=\"col_heading level0 col2\" >Erlöse</th>        <th class=\"col_heading level0 col3\" >Beste Universität</th>        <th class=\"col_heading level0 col4\" >Bessere Universitäten</th>    </tr>    <tr>        <th class=\"index_name level0\" >WZW</th>        <th class=\"blank\" ></th>        <th class=\"blank\" ></th>        <th class=\"blank\" ></th>        <th class=\"blank\" ></th>        <th class=\"blank\" ></th>    </tr></thead><tbody>\n",
       "                <tr>\n",
       "                        <th id=\"T_b2c0241c_a266_11e9_818e_1c666d97228elevel0_row0\" class=\"row_heading level0 row0\" >FWF</th>\n",
       "                        <td id=\"T_b2c0241c_a266_11e9_818e_1c666d97228erow0_col0\" class=\"data row0 col0\" >46.12%</td>\n",
       "                        <td id=\"T_b2c0241c_a266_11e9_818e_1c666d97228erow0_col1\" class=\"data row0 col1\" >16. Platz</td>\n",
       "                        <td id=\"T_b2c0241c_a266_11e9_818e_1c666d97228erow0_col2\" class=\"data row0 col2\" >1,152,829 €</td>\n",
       "                        <td id=\"T_b2c0241c_a266_11e9_818e_1c666d97228erow0_col3\" class=\"data row0 col3\" >Universität Wien (41.1 Mio. €)</td>\n",
       "                        <td id=\"T_b2c0241c_a266_11e9_818e_1c666d97228erow0_col4\" class=\"data row0 col4\" >Universität Wien, Technische Universität Wien, Medizinische Universität Wien, Universität Innsbruck, Universität Graz, Medizinische Universität Innsbruck, Universität für Bodenkultur Wien, Universität Linz, Universität Salzburg, Technische Universität Graz, Veterinärmedizinische Universität Wien, Medizinische Universität Graz, Wirtschaftsuniversität Wien, Universität Klagenfurt, Montanuniversität Leoben</td>\n",
       "            </tr>\n",
       "            <tr>\n",
       "                        <th id=\"T_b2c0241c_a266_11e9_818e_1c666d97228elevel0_row1\" class=\"row_heading level0 row1\" >EU</th>\n",
       "                        <td id=\"T_b2c0241c_a266_11e9_818e_1c666d97228erow1_col0\" class=\"data row1 col0\" >18.65%</td>\n",
       "                        <td id=\"T_b2c0241c_a266_11e9_818e_1c666d97228erow1_col1\" class=\"data row1 col1\" >17. Platz</td>\n",
       "                        <td id=\"T_b2c0241c_a266_11e9_818e_1c666d97228erow1_col2\" class=\"data row1 col2\" >466,081 €</td>\n",
       "                        <td id=\"T_b2c0241c_a266_11e9_818e_1c666d97228erow1_col3\" class=\"data row1 col3\" >Technische Universität Wien (14.7 Mio. €)</td>\n",
       "                        <td id=\"T_b2c0241c_a266_11e9_818e_1c666d97228erow1_col4\" class=\"data row1 col4\" >Technische Universität Wien, Universität Wien, Technische Universität Graz, Universität Innsbruck, Medizinische Universität Wien, Universität für Bodenkultur Wien, Montanuniversität Leoben, Medizinische Universität Innsbruck, Universität Salzburg, Universität Graz, Universität Linz, Medizinische Universität Graz, Wirtschaftsuniversität Wien, Universität Klagenfurt, Universität für Weiterbildung Krems, Veterinärmedizinische Universität Wien</td>\n",
       "            </tr>\n",
       "    </tbody></table>"
      ],
      "text/plain": [
       "<pandas.io.formats.style.Styler at 0x1e5943815f8>"
      ]
     },
     "metadata": {},
     "output_type": "display_data"
    },
    {
     "data": {
      "text/html": [
       "<h4>Ähnliche Universitäten aufgrund der Drittmittel-Struktur</h3>"
      ],
      "text/plain": [
       "<IPython.core.display.HTML object>"
      ]
     },
     "metadata": {},
     "output_type": "display_data"
    },
    {
     "data": {
      "text/html": [
       "<p>Universität Wien, Universität Salzburg, Universität Graz, Universität für Musik und darstellende Kunst Wien</p>"
      ],
      "text/plain": [
       "<IPython.core.display.HTML object>"
      ]
     },
     "metadata": {},
     "output_type": "display_data"
    },
    {
     "data": {
      "text/html": [
       "<h3>Universität für künstlerische und industrielle Gestaltung Linz</h3>"
      ],
      "text/plain": [
       "<IPython.core.display.HTML object>"
      ]
     },
     "metadata": {},
     "output_type": "display_data"
    },
    {
     "data": {
      "text/html": [
       "<h4>Drittmittel-Struktur</h4>"
      ],
      "text/plain": [
       "<IPython.core.display.HTML object>"
      ]
     },
     "metadata": {},
     "output_type": "display_data"
    },
    {
     "data": {
      "text/html": [
       "<style  type=\"text/css\" >\n",
       "    #T_b2c9ad82_a266_11e9_94d9_1c666d97228erow0_col0 {\n",
       "            background-color:  white;\n",
       "        }    #T_b2c9ad82_a266_11e9_94d9_1c666d97228erow0_col1 {\n",
       "            background-color:  white;\n",
       "        }    #T_b2c9ad82_a266_11e9_94d9_1c666d97228erow0_col2 {\n",
       "            background-color:  white;\n",
       "        }    #T_b2c9ad82_a266_11e9_94d9_1c666d97228erow0_col3 {\n",
       "            background-color:  white;\n",
       "        }    #T_b2c9ad82_a266_11e9_94d9_1c666d97228erow0_col4 {\n",
       "            background-color:  white;\n",
       "        }    #T_b2c9ad82_a266_11e9_94d9_1c666d97228erow1_col0 {\n",
       "            background-color:  white;\n",
       "        }    #T_b2c9ad82_a266_11e9_94d9_1c666d97228erow1_col1 {\n",
       "            background-color:  white;\n",
       "        }    #T_b2c9ad82_a266_11e9_94d9_1c666d97228erow1_col2 {\n",
       "            background-color:  white;\n",
       "        }    #T_b2c9ad82_a266_11e9_94d9_1c666d97228erow1_col3 {\n",
       "            background-color:  white;\n",
       "        }    #T_b2c9ad82_a266_11e9_94d9_1c666d97228erow1_col4 {\n",
       "            background-color:  white;\n",
       "        }</style><table id=\"T_b2c9ad82_a266_11e9_94d9_1c666d97228e\" ><thead>    <tr>        <th class=\"blank level0\" ></th>        <th class=\"col_heading level0 col0\" >Intern</th>        <th class=\"col_heading level0 col1\" >Ranking</th>        <th class=\"col_heading level0 col2\" >Erlöse</th>        <th class=\"col_heading level0 col3\" >Beste Universität</th>        <th class=\"col_heading level0 col4\" >Bessere Universitäten</th>    </tr>    <tr>        <th class=\"index_name level0\" >WZW</th>        <th class=\"blank\" ></th>        <th class=\"blank\" ></th>        <th class=\"blank\" ></th>        <th class=\"blank\" ></th>        <th class=\"blank\" ></th>    </tr></thead><tbody>\n",
       "                <tr>\n",
       "                        <th id=\"T_b2c9ad82_a266_11e9_94d9_1c666d97228elevel0_row0\" class=\"row_heading level0 row0\" >Bund (Ministerien)</th>\n",
       "                        <td id=\"T_b2c9ad82_a266_11e9_94d9_1c666d97228erow0_col0\" class=\"data row0 col0\" >33.11%</td>\n",
       "                        <td id=\"T_b2c9ad82_a266_11e9_94d9_1c666d97228erow0_col1\" class=\"data row0 col1\" >14. Platz</td>\n",
       "                        <td id=\"T_b2c9ad82_a266_11e9_94d9_1c666d97228erow0_col2\" class=\"data row0 col2\" >585,690 €</td>\n",
       "                        <td id=\"T_b2c9ad82_a266_11e9_94d9_1c666d97228erow0_col3\" class=\"data row0 col3\" >Medizinische Universität Innsbruck (3.7 Mio. €)</td>\n",
       "                        <td id=\"T_b2c9ad82_a266_11e9_94d9_1c666d97228erow0_col4\" class=\"data row0 col4\" >Medizinische Universität Innsbruck, Universität Wien, Universität für Bodenkultur Wien, Montanuniversität Leoben, Technische Universität Wien, Medizinische Universität Wien, Technische Universität Graz, Universität Salzburg, Universität Klagenfurt, Universität Graz, Universität Innsbruck, Universität für Weiterbildung Krems, Medizinische Universität Graz</td>\n",
       "            </tr>\n",
       "            <tr>\n",
       "                        <th id=\"T_b2c9ad82_a266_11e9_94d9_1c666d97228elevel0_row1\" class=\"row_heading level0 row1\" >FWF</th>\n",
       "                        <td id=\"T_b2c9ad82_a266_11e9_94d9_1c666d97228erow1_col0\" class=\"data row1 col0\" >21.73%</td>\n",
       "                        <td id=\"T_b2c9ad82_a266_11e9_94d9_1c666d97228erow1_col1\" class=\"data row1 col1\" >20. Platz</td>\n",
       "                        <td id=\"T_b2c9ad82_a266_11e9_94d9_1c666d97228erow1_col2\" class=\"data row1 col2\" >384,336 €</td>\n",
       "                        <td id=\"T_b2c9ad82_a266_11e9_94d9_1c666d97228erow1_col3\" class=\"data row1 col3\" >Universität Wien (41.1 Mio. €)</td>\n",
       "                        <td id=\"T_b2c9ad82_a266_11e9_94d9_1c666d97228erow1_col4\" class=\"data row1 col4\" >Universität Wien, Technische Universität Wien, Medizinische Universität Wien, Universität Innsbruck, Universität Graz, Medizinische Universität Innsbruck, Universität für Bodenkultur Wien, Universität Linz, Universität Salzburg, Technische Universität Graz, Veterinärmedizinische Universität Wien, Medizinische Universität Graz, Wirtschaftsuniversität Wien, Universität Klagenfurt, Montanuniversität Leoben, Universität für angewandte Kunst Wien, Akademie der bildenden Künste Wien, Universität für Musik und darstellende Kunst Graz, Universität für Musik und darstellende Kunst Wien</td>\n",
       "            </tr>\n",
       "    </tbody></table>"
      ],
      "text/plain": [
       "<pandas.io.formats.style.Styler at 0x1e5977ed400>"
      ]
     },
     "metadata": {},
     "output_type": "display_data"
    },
    {
     "data": {
      "text/html": [
       "<h4>Ähnliche Universitäten aufgrund der Drittmittel-Struktur</h3>"
      ],
      "text/plain": [
       "<IPython.core.display.HTML object>"
      ]
     },
     "metadata": {},
     "output_type": "display_data"
    },
    {
     "data": {
      "text/html": [
       "<p>Universität Klagenfurt, Medizinische Universität Innsbruck, Universität für Bodenkultur Wien, Technische Universität Wien</p>"
      ],
      "text/plain": [
       "<IPython.core.display.HTML object>"
      ]
     },
     "metadata": {},
     "output_type": "display_data"
    },
    {
     "data": {
      "text/html": [
       "<h3>Veterinärmedizinische Universität Wien</h3>"
      ],
      "text/plain": [
       "<IPython.core.display.HTML object>"
      ]
     },
     "metadata": {},
     "output_type": "display_data"
    },
    {
     "data": {
      "text/html": [
       "<h4>Drittmittel-Struktur</h4>"
      ],
      "text/plain": [
       "<IPython.core.display.HTML object>"
      ]
     },
     "metadata": {},
     "output_type": "display_data"
    },
    {
     "data": {
      "text/html": [
       "<style  type=\"text/css\" >\n",
       "    #T_b2d59a50_a266_11e9_a80c_1c666d97228erow0_col0 {\n",
       "            background-color:  yellow;\n",
       "        }    #T_b2d59a50_a266_11e9_a80c_1c666d97228erow0_col1 {\n",
       "            background-color:  yellow;\n",
       "        }    #T_b2d59a50_a266_11e9_a80c_1c666d97228erow0_col2 {\n",
       "            background-color:  yellow;\n",
       "        }    #T_b2d59a50_a266_11e9_a80c_1c666d97228erow0_col3 {\n",
       "            background-color:  yellow;\n",
       "        }    #T_b2d59a50_a266_11e9_a80c_1c666d97228erow0_col4 {\n",
       "            background-color:  yellow;\n",
       "        }    #T_b2d59a50_a266_11e9_a80c_1c666d97228erow1_col0 {\n",
       "            background-color:  white;\n",
       "        }    #T_b2d59a50_a266_11e9_a80c_1c666d97228erow1_col1 {\n",
       "            background-color:  white;\n",
       "        }    #T_b2d59a50_a266_11e9_a80c_1c666d97228erow1_col2 {\n",
       "            background-color:  white;\n",
       "        }    #T_b2d59a50_a266_11e9_a80c_1c666d97228erow1_col3 {\n",
       "            background-color:  white;\n",
       "        }    #T_b2d59a50_a266_11e9_a80c_1c666d97228erow1_col4 {\n",
       "            background-color:  white;\n",
       "        }</style><table id=\"T_b2d59a50_a266_11e9_a80c_1c666d97228e\" ><thead>    <tr>        <th class=\"blank level0\" ></th>        <th class=\"col_heading level0 col0\" >Intern</th>        <th class=\"col_heading level0 col1\" >Ranking</th>        <th class=\"col_heading level0 col2\" >Erlöse</th>        <th class=\"col_heading level0 col3\" >Beste Universität</th>        <th class=\"col_heading level0 col4\" >Bessere Universitäten</th>    </tr>    <tr>        <th class=\"index_name level0\" >WZW</th>        <th class=\"blank\" ></th>        <th class=\"blank\" ></th>        <th class=\"blank\" ></th>        <th class=\"blank\" ></th>        <th class=\"blank\" ></th>    </tr></thead><tbody>\n",
       "                <tr>\n",
       "                        <th id=\"T_b2d59a50_a266_11e9_a80c_1c666d97228elevel0_row0\" class=\"row_heading level0 row0\" >Private (Stiftungen, Vereine, etc.)</th>\n",
       "                        <td id=\"T_b2d59a50_a266_11e9_a80c_1c666d97228erow0_col0\" class=\"data row0 col0\" >35.46%</td>\n",
       "                        <td id=\"T_b2d59a50_a266_11e9_a80c_1c666d97228erow0_col1\" class=\"data row0 col1\" >2. Platz</td>\n",
       "                        <td id=\"T_b2d59a50_a266_11e9_a80c_1c666d97228erow0_col2\" class=\"data row0 col2\" >6,131,569 €</td>\n",
       "                        <td id=\"T_b2d59a50_a266_11e9_a80c_1c666d97228erow0_col3\" class=\"data row0 col3\" >Medizinische Universität Wien (9.1 Mio. €)</td>\n",
       "                        <td id=\"T_b2d59a50_a266_11e9_a80c_1c666d97228erow0_col4\" class=\"data row0 col4\" >Medizinische Universität Wien</td>\n",
       "            </tr>\n",
       "            <tr>\n",
       "                        <th id=\"T_b2d59a50_a266_11e9_a80c_1c666d97228elevel0_row1\" class=\"row_heading level0 row1\" >FWF</th>\n",
       "                        <td id=\"T_b2d59a50_a266_11e9_a80c_1c666d97228erow1_col0\" class=\"data row1 col0\" >27.41%</td>\n",
       "                        <td id=\"T_b2d59a50_a266_11e9_a80c_1c666d97228erow1_col1\" class=\"data row1 col1\" >11. Platz</td>\n",
       "                        <td id=\"T_b2d59a50_a266_11e9_a80c_1c666d97228erow1_col2\" class=\"data row1 col2\" >4,739,233 €</td>\n",
       "                        <td id=\"T_b2d59a50_a266_11e9_a80c_1c666d97228erow1_col3\" class=\"data row1 col3\" >Universität Wien (41.1 Mio. €)</td>\n",
       "                        <td id=\"T_b2d59a50_a266_11e9_a80c_1c666d97228erow1_col4\" class=\"data row1 col4\" >Universität Wien, Technische Universität Wien, Medizinische Universität Wien, Universität Innsbruck, Universität Graz, Medizinische Universität Innsbruck, Universität für Bodenkultur Wien, Universität Linz, Universität Salzburg, Technische Universität Graz</td>\n",
       "            </tr>\n",
       "    </tbody></table>"
      ],
      "text/plain": [
       "<pandas.io.formats.style.Styler at 0x1e5974e4b00>"
      ]
     },
     "metadata": {},
     "output_type": "display_data"
    },
    {
     "data": {
      "text/html": [
       "<h4>Ähnliche Universitäten aufgrund der Drittmittel-Struktur</h3>"
      ],
      "text/plain": [
       "<IPython.core.display.HTML object>"
      ]
     },
     "metadata": {},
     "output_type": "display_data"
    },
    {
     "data": {
      "text/html": [
       "<p>Medizinische Universität Wien, Universität Innsbruck, Universität Linz, Wirtschaftsuniversität Wien</p>"
      ],
      "text/plain": [
       "<IPython.core.display.HTML object>"
      ]
     },
     "metadata": {},
     "output_type": "display_data"
    },
    {
     "data": {
      "text/html": [
       "<h3>Universität für Musik und darstellende Kunst Graz</h3>"
      ],
      "text/plain": [
       "<IPython.core.display.HTML object>"
      ]
     },
     "metadata": {},
     "output_type": "display_data"
    },
    {
     "data": {
      "text/html": [
       "<h4>Drittmittel-Struktur</h4>"
      ],
      "text/plain": [
       "<IPython.core.display.HTML object>"
      ]
     },
     "metadata": {},
     "output_type": "display_data"
    },
    {
     "data": {
      "text/html": [
       "<style  type=\"text/css\" >\n",
       "    #T_b2df22b0_a266_11e9_91ee_1c666d97228erow0_col0 {\n",
       "            background-color:  white;\n",
       "        }    #T_b2df22b0_a266_11e9_91ee_1c666d97228erow0_col1 {\n",
       "            background-color:  white;\n",
       "        }    #T_b2df22b0_a266_11e9_91ee_1c666d97228erow0_col2 {\n",
       "            background-color:  white;\n",
       "        }    #T_b2df22b0_a266_11e9_91ee_1c666d97228erow0_col3 {\n",
       "            background-color:  white;\n",
       "        }    #T_b2df22b0_a266_11e9_91ee_1c666d97228erow0_col4 {\n",
       "            background-color:  white;\n",
       "        }    #T_b2df22b0_a266_11e9_91ee_1c666d97228erow1_col0 {\n",
       "            background-color:  white;\n",
       "        }    #T_b2df22b0_a266_11e9_91ee_1c666d97228erow1_col1 {\n",
       "            background-color:  white;\n",
       "        }    #T_b2df22b0_a266_11e9_91ee_1c666d97228erow1_col2 {\n",
       "            background-color:  white;\n",
       "        }    #T_b2df22b0_a266_11e9_91ee_1c666d97228erow1_col3 {\n",
       "            background-color:  white;\n",
       "        }    #T_b2df22b0_a266_11e9_91ee_1c666d97228erow1_col4 {\n",
       "            background-color:  white;\n",
       "        }</style><table id=\"T_b2df22b0_a266_11e9_91ee_1c666d97228e\" ><thead>    <tr>        <th class=\"blank level0\" ></th>        <th class=\"col_heading level0 col0\" >Intern</th>        <th class=\"col_heading level0 col1\" >Ranking</th>        <th class=\"col_heading level0 col2\" >Erlöse</th>        <th class=\"col_heading level0 col3\" >Beste Universität</th>        <th class=\"col_heading level0 col4\" >Bessere Universitäten</th>    </tr>    <tr>        <th class=\"index_name level0\" >WZW</th>        <th class=\"blank\" ></th>        <th class=\"blank\" ></th>        <th class=\"blank\" ></th>        <th class=\"blank\" ></th>        <th class=\"blank\" ></th>    </tr></thead><tbody>\n",
       "                <tr>\n",
       "                        <th id=\"T_b2df22b0_a266_11e9_91ee_1c666d97228elevel0_row0\" class=\"row_heading level0 row0\" >FWF</th>\n",
       "                        <td id=\"T_b2df22b0_a266_11e9_91ee_1c666d97228erow0_col0\" class=\"data row0 col0\" >44.83%</td>\n",
       "                        <td id=\"T_b2df22b0_a266_11e9_91ee_1c666d97228erow0_col1\" class=\"data row0 col1\" >18. Platz</td>\n",
       "                        <td id=\"T_b2df22b0_a266_11e9_91ee_1c666d97228erow0_col2\" class=\"data row0 col2\" >645,534 €</td>\n",
       "                        <td id=\"T_b2df22b0_a266_11e9_91ee_1c666d97228erow0_col3\" class=\"data row0 col3\" >Universität Wien (41.1 Mio. €)</td>\n",
       "                        <td id=\"T_b2df22b0_a266_11e9_91ee_1c666d97228erow0_col4\" class=\"data row0 col4\" >Universität Wien, Technische Universität Wien, Medizinische Universität Wien, Universität Innsbruck, Universität Graz, Medizinische Universität Innsbruck, Universität für Bodenkultur Wien, Universität Linz, Universität Salzburg, Technische Universität Graz, Veterinärmedizinische Universität Wien, Medizinische Universität Graz, Wirtschaftsuniversität Wien, Universität Klagenfurt, Montanuniversität Leoben, Universität für angewandte Kunst Wien, Akademie der bildenden Künste Wien</td>\n",
       "            </tr>\n",
       "            <tr>\n",
       "                        <th id=\"T_b2df22b0_a266_11e9_91ee_1c666d97228elevel0_row1\" class=\"row_heading level0 row1\" >Unternehmen</th>\n",
       "                        <td id=\"T_b2df22b0_a266_11e9_91ee_1c666d97228erow1_col0\" class=\"data row1 col0\" >14.94%</td>\n",
       "                        <td id=\"T_b2df22b0_a266_11e9_91ee_1c666d97228erow1_col1\" class=\"data row1 col1\" >18. Platz</td>\n",
       "                        <td id=\"T_b2df22b0_a266_11e9_91ee_1c666d97228erow1_col2\" class=\"data row1 col2\" >215,121 €</td>\n",
       "                        <td id=\"T_b2df22b0_a266_11e9_91ee_1c666d97228erow1_col3\" class=\"data row1 col3\" >Medizinische Universität Graz (32.4 Mio. €)</td>\n",
       "                        <td id=\"T_b2df22b0_a266_11e9_91ee_1c666d97228erow1_col4\" class=\"data row1 col4\" >Medizinische Universität Graz, Technische Universität Graz, Technische Universität Wien, Medizinische Universität Wien, Medizinische Universität Innsbruck, Universität für Bodenkultur Wien, Montanuniversität Leoben, Universität Linz, Universität Innsbruck, Universität Wien, Veterinärmedizinische Universität Wien, Universität Graz, Universität Klagenfurt, Wirtschaftsuniversität Wien, Universität Salzburg, Universität für Weiterbildung Krems, Universität für künstlerische und industrielle Gestaltung Linz</td>\n",
       "            </tr>\n",
       "    </tbody></table>"
      ],
      "text/plain": [
       "<pandas.io.formats.style.Styler at 0x1e5977ed2e8>"
      ]
     },
     "metadata": {},
     "output_type": "display_data"
    },
    {
     "data": {
      "text/html": [
       "<h4>Ähnliche Universitäten aufgrund der Drittmittel-Struktur</h3>"
      ],
      "text/plain": [
       "<IPython.core.display.HTML object>"
      ]
     },
     "metadata": {},
     "output_type": "display_data"
    },
    {
     "data": {
      "text/html": [
       "<p>Universität für angewandte Kunst Wien, Universität Graz, Universität Salzburg, Akademie der bildenden Künste Wien</p>"
      ],
      "text/plain": [
       "<IPython.core.display.HTML object>"
      ]
     },
     "metadata": {},
     "output_type": "display_data"
    },
    {
     "data": {
      "text/html": [
       "<h3>Universität Linz</h3>"
      ],
      "text/plain": [
       "<IPython.core.display.HTML object>"
      ]
     },
     "metadata": {},
     "output_type": "display_data"
    },
    {
     "data": {
      "text/html": [
       "<h4>Drittmittel-Struktur</h4>"
      ],
      "text/plain": [
       "<IPython.core.display.HTML object>"
      ]
     },
     "metadata": {},
     "output_type": "display_data"
    },
    {
     "data": {
      "text/html": [
       "<style  type=\"text/css\" >\n",
       "    #T_b2eb0e5c_a266_11e9_a3d7_1c666d97228erow0_col0 {\n",
       "            background-color:  white;\n",
       "        }    #T_b2eb0e5c_a266_11e9_a3d7_1c666d97228erow0_col1 {\n",
       "            background-color:  white;\n",
       "        }    #T_b2eb0e5c_a266_11e9_a3d7_1c666d97228erow0_col2 {\n",
       "            background-color:  white;\n",
       "        }    #T_b2eb0e5c_a266_11e9_a3d7_1c666d97228erow0_col3 {\n",
       "            background-color:  white;\n",
       "        }    #T_b2eb0e5c_a266_11e9_a3d7_1c666d97228erow0_col4 {\n",
       "            background-color:  white;\n",
       "        }    #T_b2eb0e5c_a266_11e9_a3d7_1c666d97228erow1_col0 {\n",
       "            background-color:  white;\n",
       "        }    #T_b2eb0e5c_a266_11e9_a3d7_1c666d97228erow1_col1 {\n",
       "            background-color:  white;\n",
       "        }    #T_b2eb0e5c_a266_11e9_a3d7_1c666d97228erow1_col2 {\n",
       "            background-color:  white;\n",
       "        }    #T_b2eb0e5c_a266_11e9_a3d7_1c666d97228erow1_col3 {\n",
       "            background-color:  white;\n",
       "        }    #T_b2eb0e5c_a266_11e9_a3d7_1c666d97228erow1_col4 {\n",
       "            background-color:  white;\n",
       "        }</style><table id=\"T_b2eb0e5c_a266_11e9_a3d7_1c666d97228e\" ><thead>    <tr>        <th class=\"blank level0\" ></th>        <th class=\"col_heading level0 col0\" >Intern</th>        <th class=\"col_heading level0 col1\" >Ranking</th>        <th class=\"col_heading level0 col2\" >Erlöse</th>        <th class=\"col_heading level0 col3\" >Beste Universität</th>        <th class=\"col_heading level0 col4\" >Bessere Universitäten</th>    </tr>    <tr>        <th class=\"index_name level0\" >WZW</th>        <th class=\"blank\" ></th>        <th class=\"blank\" ></th>        <th class=\"blank\" ></th>        <th class=\"blank\" ></th>        <th class=\"blank\" ></th>    </tr></thead><tbody>\n",
       "                <tr>\n",
       "                        <th id=\"T_b2eb0e5c_a266_11e9_a3d7_1c666d97228elevel0_row0\" class=\"row_heading level0 row0\" >FWF</th>\n",
       "                        <td id=\"T_b2eb0e5c_a266_11e9_a3d7_1c666d97228erow0_col0\" class=\"data row0 col0\" >26.56%</td>\n",
       "                        <td id=\"T_b2eb0e5c_a266_11e9_a3d7_1c666d97228erow0_col1\" class=\"data row0 col1\" >8. Platz</td>\n",
       "                        <td id=\"T_b2eb0e5c_a266_11e9_a3d7_1c666d97228erow0_col2\" class=\"data row0 col2\" >7,769,848 €</td>\n",
       "                        <td id=\"T_b2eb0e5c_a266_11e9_a3d7_1c666d97228erow0_col3\" class=\"data row0 col3\" >Universität Wien (41.1 Mio. €)</td>\n",
       "                        <td id=\"T_b2eb0e5c_a266_11e9_a3d7_1c666d97228erow0_col4\" class=\"data row0 col4\" >Universität Wien, Technische Universität Wien, Medizinische Universität Wien, Universität Innsbruck, Universität Graz, Medizinische Universität Innsbruck, Universität für Bodenkultur Wien</td>\n",
       "            </tr>\n",
       "            <tr>\n",
       "                        <th id=\"T_b2eb0e5c_a266_11e9_a3d7_1c666d97228elevel0_row1\" class=\"row_heading level0 row1\" >FFG</th>\n",
       "                        <td id=\"T_b2eb0e5c_a266_11e9_a3d7_1c666d97228erow1_col0\" class=\"data row1 col0\" >26.09%</td>\n",
       "                        <td id=\"T_b2eb0e5c_a266_11e9_a3d7_1c666d97228erow1_col1\" class=\"data row1 col1\" >4. Platz</td>\n",
       "                        <td id=\"T_b2eb0e5c_a266_11e9_a3d7_1c666d97228erow1_col2\" class=\"data row1 col2\" >7,632,744 €</td>\n",
       "                        <td id=\"T_b2eb0e5c_a266_11e9_a3d7_1c666d97228erow1_col3\" class=\"data row1 col3\" >Technische Universität Graz (19.0 Mio. €)</td>\n",
       "                        <td id=\"T_b2eb0e5c_a266_11e9_a3d7_1c666d97228erow1_col4\" class=\"data row1 col4\" >Technische Universität Graz, Technische Universität Wien, Montanuniversität Leoben</td>\n",
       "            </tr>\n",
       "    </tbody></table>"
      ],
      "text/plain": [
       "<pandas.io.formats.style.Styler at 0x1e5974e0fd0>"
      ]
     },
     "metadata": {},
     "output_type": "display_data"
    },
    {
     "data": {
      "text/html": [
       "<h4>Ähnliche Universitäten aufgrund der Drittmittel-Struktur</h3>"
      ],
      "text/plain": [
       "<IPython.core.display.HTML object>"
      ]
     },
     "metadata": {},
     "output_type": "display_data"
    },
    {
     "data": {
      "text/html": [
       "<p>Technische Universität Wien, Technische Universität Graz, Veterinärmedizinische Universität Wien, Universität Innsbruck</p>"
      ],
      "text/plain": [
       "<IPython.core.display.HTML object>"
      ]
     },
     "metadata": {},
     "output_type": "display_data"
    },
    {
     "data": {
      "text/html": [
       "<h3>Universität für Musik und darstellende Kunst Wien</h3>"
      ],
      "text/plain": [
       "<IPython.core.display.HTML object>"
      ]
     },
     "metadata": {},
     "output_type": "display_data"
    },
    {
     "data": {
      "text/html": [
       "<h4>Drittmittel-Struktur</h4>"
      ],
      "text/plain": [
       "<IPython.core.display.HTML object>"
      ]
     },
     "metadata": {},
     "output_type": "display_data"
    },
    {
     "data": {
      "text/html": [
       "<style  type=\"text/css\" >\n",
       "    #T_b2f497c2_a266_11e9_a68a_1c666d97228erow0_col0 {\n",
       "            background-color:  white;\n",
       "        }    #T_b2f497c2_a266_11e9_a68a_1c666d97228erow0_col1 {\n",
       "            background-color:  white;\n",
       "        }    #T_b2f497c2_a266_11e9_a68a_1c666d97228erow0_col2 {\n",
       "            background-color:  white;\n",
       "        }    #T_b2f497c2_a266_11e9_a68a_1c666d97228erow0_col3 {\n",
       "            background-color:  white;\n",
       "        }    #T_b2f497c2_a266_11e9_a68a_1c666d97228erow0_col4 {\n",
       "            background-color:  white;\n",
       "        }    #T_b2f497c2_a266_11e9_a68a_1c666d97228erow1_col0 {\n",
       "            background-color:  white;\n",
       "        }    #T_b2f497c2_a266_11e9_a68a_1c666d97228erow1_col1 {\n",
       "            background-color:  white;\n",
       "        }    #T_b2f497c2_a266_11e9_a68a_1c666d97228erow1_col2 {\n",
       "            background-color:  white;\n",
       "        }    #T_b2f497c2_a266_11e9_a68a_1c666d97228erow1_col3 {\n",
       "            background-color:  white;\n",
       "        }    #T_b2f497c2_a266_11e9_a68a_1c666d97228erow1_col4 {\n",
       "            background-color:  white;\n",
       "        }</style><table id=\"T_b2f497c2_a266_11e9_a68a_1c666d97228e\" ><thead>    <tr>        <th class=\"blank level0\" ></th>        <th class=\"col_heading level0 col0\" >Intern</th>        <th class=\"col_heading level0 col1\" >Ranking</th>        <th class=\"col_heading level0 col2\" >Erlöse</th>        <th class=\"col_heading level0 col3\" >Beste Universität</th>        <th class=\"col_heading level0 col4\" >Bessere Universitäten</th>    </tr>    <tr>        <th class=\"index_name level0\" >WZW</th>        <th class=\"blank\" ></th>        <th class=\"blank\" ></th>        <th class=\"blank\" ></th>        <th class=\"blank\" ></th>        <th class=\"blank\" ></th>    </tr></thead><tbody>\n",
       "                <tr>\n",
       "                        <th id=\"T_b2f497c2_a266_11e9_a68a_1c666d97228elevel0_row0\" class=\"row_heading level0 row0\" >FWF</th>\n",
       "                        <td id=\"T_b2f497c2_a266_11e9_a68a_1c666d97228erow0_col0\" class=\"data row0 col0\" >40.14%</td>\n",
       "                        <td id=\"T_b2f497c2_a266_11e9_a68a_1c666d97228erow0_col1\" class=\"data row0 col1\" >19. Platz</td>\n",
       "                        <td id=\"T_b2f497c2_a266_11e9_a68a_1c666d97228erow0_col2\" class=\"data row0 col2\" >465,349 €</td>\n",
       "                        <td id=\"T_b2f497c2_a266_11e9_a68a_1c666d97228erow0_col3\" class=\"data row0 col3\" >Universität Wien (41.1 Mio. €)</td>\n",
       "                        <td id=\"T_b2f497c2_a266_11e9_a68a_1c666d97228erow0_col4\" class=\"data row0 col4\" >Universität Wien, Technische Universität Wien, Medizinische Universität Wien, Universität Innsbruck, Universität Graz, Medizinische Universität Innsbruck, Universität für Bodenkultur Wien, Universität Linz, Universität Salzburg, Technische Universität Graz, Veterinärmedizinische Universität Wien, Medizinische Universität Graz, Wirtschaftsuniversität Wien, Universität Klagenfurt, Montanuniversität Leoben, Universität für angewandte Kunst Wien, Akademie der bildenden Künste Wien, Universität für Musik und darstellende Kunst Graz</td>\n",
       "            </tr>\n",
       "            <tr>\n",
       "                        <th id=\"T_b2f497c2_a266_11e9_a68a_1c666d97228elevel0_row1\" class=\"row_heading level0 row1\" >EU</th>\n",
       "                        <td id=\"T_b2f497c2_a266_11e9_a68a_1c666d97228erow1_col0\" class=\"data row1 col0\" >23.91%</td>\n",
       "                        <td id=\"T_b2f497c2_a266_11e9_a68a_1c666d97228erow1_col1\" class=\"data row1 col1\" >18. Platz</td>\n",
       "                        <td id=\"T_b2f497c2_a266_11e9_a68a_1c666d97228erow1_col2\" class=\"data row1 col2\" >277,190 €</td>\n",
       "                        <td id=\"T_b2f497c2_a266_11e9_a68a_1c666d97228erow1_col3\" class=\"data row1 col3\" >Technische Universität Wien (14.7 Mio. €)</td>\n",
       "                        <td id=\"T_b2f497c2_a266_11e9_a68a_1c666d97228erow1_col4\" class=\"data row1 col4\" >Technische Universität Wien, Universität Wien, Technische Universität Graz, Universität Innsbruck, Medizinische Universität Wien, Universität für Bodenkultur Wien, Montanuniversität Leoben, Medizinische Universität Innsbruck, Universität Salzburg, Universität Graz, Universität Linz, Medizinische Universität Graz, Wirtschaftsuniversität Wien, Universität Klagenfurt, Universität für Weiterbildung Krems, Veterinärmedizinische Universität Wien, Universität für angewandte Kunst Wien</td>\n",
       "            </tr>\n",
       "    </tbody></table>"
      ],
      "text/plain": [
       "<pandas.io.formats.style.Styler at 0x1e5977edb38>"
      ]
     },
     "metadata": {},
     "output_type": "display_data"
    },
    {
     "data": {
      "text/html": [
       "<h4>Ähnliche Universitäten aufgrund der Drittmittel-Struktur</h3>"
      ],
      "text/plain": [
       "<IPython.core.display.HTML object>"
      ]
     },
     "metadata": {},
     "output_type": "display_data"
    },
    {
     "data": {
      "text/html": [
       "<p>Universität Salzburg, Universität für angewandte Kunst Wien, Universität Innsbruck, Universität Wien</p>"
      ],
      "text/plain": [
       "<IPython.core.display.HTML object>"
      ]
     },
     "metadata": {},
     "output_type": "display_data"
    },
    {
     "data": {
      "text/html": [
       "<h3>Wirtschaftsuniversität Wien</h3>"
      ],
      "text/plain": [
       "<IPython.core.display.HTML object>"
      ]
     },
     "metadata": {},
     "output_type": "display_data"
    },
    {
     "data": {
      "text/html": [
       "<h4>Drittmittel-Struktur</h4>"
      ],
      "text/plain": [
       "<IPython.core.display.HTML object>"
      ]
     },
     "metadata": {},
     "output_type": "display_data"
    },
    {
     "data": {
      "text/html": [
       "<style  type=\"text/css\" >\n",
       "    #T_b302e5c0_a266_11e9_8730_1c666d97228erow0_col0 {\n",
       "            background-color:  white;\n",
       "        }    #T_b302e5c0_a266_11e9_8730_1c666d97228erow0_col1 {\n",
       "            background-color:  white;\n",
       "        }    #T_b302e5c0_a266_11e9_8730_1c666d97228erow0_col2 {\n",
       "            background-color:  white;\n",
       "        }    #T_b302e5c0_a266_11e9_8730_1c666d97228erow0_col3 {\n",
       "            background-color:  white;\n",
       "        }    #T_b302e5c0_a266_11e9_8730_1c666d97228erow0_col4 {\n",
       "            background-color:  white;\n",
       "        }    #T_b302e5c0_a266_11e9_8730_1c666d97228erow1_col0 {\n",
       "            background-color:  white;\n",
       "        }    #T_b302e5c0_a266_11e9_8730_1c666d97228erow1_col1 {\n",
       "            background-color:  white;\n",
       "        }    #T_b302e5c0_a266_11e9_8730_1c666d97228erow1_col2 {\n",
       "            background-color:  white;\n",
       "        }    #T_b302e5c0_a266_11e9_8730_1c666d97228erow1_col3 {\n",
       "            background-color:  white;\n",
       "        }    #T_b302e5c0_a266_11e9_8730_1c666d97228erow1_col4 {\n",
       "            background-color:  white;\n",
       "        }    #T_b302e5c0_a266_11e9_8730_1c666d97228erow2_col0 {\n",
       "            background-color:  white;\n",
       "        }    #T_b302e5c0_a266_11e9_8730_1c666d97228erow2_col1 {\n",
       "            background-color:  white;\n",
       "        }    #T_b302e5c0_a266_11e9_8730_1c666d97228erow2_col2 {\n",
       "            background-color:  white;\n",
       "        }    #T_b302e5c0_a266_11e9_8730_1c666d97228erow2_col3 {\n",
       "            background-color:  white;\n",
       "        }    #T_b302e5c0_a266_11e9_8730_1c666d97228erow2_col4 {\n",
       "            background-color:  white;\n",
       "        }    #T_b302e5c0_a266_11e9_8730_1c666d97228erow3_col0 {\n",
       "            background-color:  white;\n",
       "        }    #T_b302e5c0_a266_11e9_8730_1c666d97228erow3_col1 {\n",
       "            background-color:  white;\n",
       "        }    #T_b302e5c0_a266_11e9_8730_1c666d97228erow3_col2 {\n",
       "            background-color:  white;\n",
       "        }    #T_b302e5c0_a266_11e9_8730_1c666d97228erow3_col3 {\n",
       "            background-color:  white;\n",
       "        }    #T_b302e5c0_a266_11e9_8730_1c666d97228erow3_col4 {\n",
       "            background-color:  white;\n",
       "        }</style><table id=\"T_b302e5c0_a266_11e9_8730_1c666d97228e\" ><thead>    <tr>        <th class=\"blank level0\" ></th>        <th class=\"col_heading level0 col0\" >Intern</th>        <th class=\"col_heading level0 col1\" >Ranking</th>        <th class=\"col_heading level0 col2\" >Erlöse</th>        <th class=\"col_heading level0 col3\" >Beste Universität</th>        <th class=\"col_heading level0 col4\" >Bessere Universitäten</th>    </tr>    <tr>        <th class=\"index_name level0\" >WZW</th>        <th class=\"blank\" ></th>        <th class=\"blank\" ></th>        <th class=\"blank\" ></th>        <th class=\"blank\" ></th>        <th class=\"blank\" ></th>    </tr></thead><tbody>\n",
       "                <tr>\n",
       "                        <th id=\"T_b302e5c0_a266_11e9_8730_1c666d97228elevel0_row0\" class=\"row_heading level0 row0\" >sonstige</th>\n",
       "                        <td id=\"T_b302e5c0_a266_11e9_8730_1c666d97228erow0_col0\" class=\"data row0 col0\" >19.24%</td>\n",
       "                        <td id=\"T_b302e5c0_a266_11e9_8730_1c666d97228erow0_col1\" class=\"data row0 col1\" >3. Platz</td>\n",
       "                        <td id=\"T_b302e5c0_a266_11e9_8730_1c666d97228erow0_col2\" class=\"data row0 col2\" >2,475,309 €</td>\n",
       "                        <td id=\"T_b302e5c0_a266_11e9_8730_1c666d97228erow0_col3\" class=\"data row0 col3\" >Medizinische Universität Wien (33.2 Mio. €)</td>\n",
       "                        <td id=\"T_b302e5c0_a266_11e9_8730_1c666d97228erow0_col4\" class=\"data row0 col4\" >Medizinische Universität Wien, Universität Wien</td>\n",
       "            </tr>\n",
       "            <tr>\n",
       "                        <th id=\"T_b302e5c0_a266_11e9_8730_1c666d97228elevel0_row1\" class=\"row_heading level0 row1\" >EU</th>\n",
       "                        <td id=\"T_b302e5c0_a266_11e9_8730_1c666d97228erow1_col0\" class=\"data row1 col0\" >16.09%</td>\n",
       "                        <td id=\"T_b302e5c0_a266_11e9_8730_1c666d97228erow1_col1\" class=\"data row1 col1\" >13. Platz</td>\n",
       "                        <td id=\"T_b302e5c0_a266_11e9_8730_1c666d97228erow1_col2\" class=\"data row1 col2\" >2,070,273 €</td>\n",
       "                        <td id=\"T_b302e5c0_a266_11e9_8730_1c666d97228erow1_col3\" class=\"data row1 col3\" >Technische Universität Wien (14.7 Mio. €)</td>\n",
       "                        <td id=\"T_b302e5c0_a266_11e9_8730_1c666d97228erow1_col4\" class=\"data row1 col4\" >Technische Universität Wien, Universität Wien, Technische Universität Graz, Universität Innsbruck, Medizinische Universität Wien, Universität für Bodenkultur Wien, Montanuniversität Leoben, Medizinische Universität Innsbruck, Universität Salzburg, Universität Graz, Universität Linz, Medizinische Universität Graz</td>\n",
       "            </tr>\n",
       "            <tr>\n",
       "                        <th id=\"T_b302e5c0_a266_11e9_8730_1c666d97228elevel0_row2\" class=\"row_heading level0 row2\" >Private (Stiftungen, Vereine, etc.)</th>\n",
       "                        <td id=\"T_b302e5c0_a266_11e9_8730_1c666d97228erow2_col0\" class=\"data row2 col0\" >15.23%</td>\n",
       "                        <td id=\"T_b302e5c0_a266_11e9_8730_1c666d97228erow2_col1\" class=\"data row2 col1\" >6. Platz</td>\n",
       "                        <td id=\"T_b302e5c0_a266_11e9_8730_1c666d97228erow2_col2\" class=\"data row2 col2\" >1,959,377 €</td>\n",
       "                        <td id=\"T_b302e5c0_a266_11e9_8730_1c666d97228erow2_col3\" class=\"data row2 col3\" >Medizinische Universität Wien (9.1 Mio. €)</td>\n",
       "                        <td id=\"T_b302e5c0_a266_11e9_8730_1c666d97228erow2_col4\" class=\"data row2 col4\" >Medizinische Universität Wien, Veterinärmedizinische Universität Wien, Universität für Bodenkultur Wien, Universität Wien, Universität Innsbruck</td>\n",
       "            </tr>\n",
       "            <tr>\n",
       "                        <th id=\"T_b302e5c0_a266_11e9_8730_1c666d97228elevel0_row3\" class=\"row_heading level0 row3\" >FWF</th>\n",
       "                        <td id=\"T_b302e5c0_a266_11e9_8730_1c666d97228erow3_col0\" class=\"data row3 col0\" >11.28%</td>\n",
       "                        <td id=\"T_b302e5c0_a266_11e9_8730_1c666d97228erow3_col1\" class=\"data row3 col1\" >13. Platz</td>\n",
       "                        <td id=\"T_b302e5c0_a266_11e9_8730_1c666d97228erow3_col2\" class=\"data row3 col2\" >1,450,782 €</td>\n",
       "                        <td id=\"T_b302e5c0_a266_11e9_8730_1c666d97228erow3_col3\" class=\"data row3 col3\" >Universität Wien (41.1 Mio. €)</td>\n",
       "                        <td id=\"T_b302e5c0_a266_11e9_8730_1c666d97228erow3_col4\" class=\"data row3 col4\" >Universität Wien, Technische Universität Wien, Medizinische Universität Wien, Universität Innsbruck, Universität Graz, Medizinische Universität Innsbruck, Universität für Bodenkultur Wien, Universität Linz, Universität Salzburg, Technische Universität Graz, Veterinärmedizinische Universität Wien, Medizinische Universität Graz</td>\n",
       "            </tr>\n",
       "    </tbody></table>"
      ],
      "text/plain": [
       "<pandas.io.formats.style.Styler at 0x1e5977ed128>"
      ]
     },
     "metadata": {},
     "output_type": "display_data"
    },
    {
     "data": {
      "text/html": [
       "<h4>Ähnliche Universitäten aufgrund der Drittmittel-Struktur</h3>"
      ],
      "text/plain": [
       "<IPython.core.display.HTML object>"
      ]
     },
     "metadata": {},
     "output_type": "display_data"
    },
    {
     "data": {
      "text/html": [
       "<p>Universität für Bodenkultur Wien, Medizinische Universität Wien, Technische Universität Graz, Universität für Weiterbildung Krems</p>"
      ],
      "text/plain": [
       "<IPython.core.display.HTML object>"
      ]
     },
     "metadata": {},
     "output_type": "display_data"
    },
    {
     "data": {
      "text/html": [
       "<h3>Medizinische Universität Wien</h3>"
      ],
      "text/plain": [
       "<IPython.core.display.HTML object>"
      ]
     },
     "metadata": {},
     "output_type": "display_data"
    },
    {
     "data": {
      "text/html": [
       "<h4>Drittmittel-Struktur</h4>"
      ],
      "text/plain": [
       "<IPython.core.display.HTML object>"
      ]
     },
     "metadata": {},
     "output_type": "display_data"
    },
    {
     "data": {
      "text/html": [
       "<style  type=\"text/css\" >\n",
       "    #T_b30c6f6c_a266_11e9_b6ca_1c666d97228erow0_col0 {\n",
       "            background-color:  lightgreen;\n",
       "        }    #T_b30c6f6c_a266_11e9_b6ca_1c666d97228erow0_col1 {\n",
       "            background-color:  lightgreen;\n",
       "        }    #T_b30c6f6c_a266_11e9_b6ca_1c666d97228erow0_col2 {\n",
       "            background-color:  lightgreen;\n",
       "        }    #T_b30c6f6c_a266_11e9_b6ca_1c666d97228erow0_col3 {\n",
       "            background-color:  lightgreen;\n",
       "        }    #T_b30c6f6c_a266_11e9_b6ca_1c666d97228erow0_col4 {\n",
       "            background-color:  lightgreen;\n",
       "        }    #T_b30c6f6c_a266_11e9_b6ca_1c666d97228erow1_col0 {\n",
       "            background-color:  white;\n",
       "        }    #T_b30c6f6c_a266_11e9_b6ca_1c666d97228erow1_col1 {\n",
       "            background-color:  white;\n",
       "        }    #T_b30c6f6c_a266_11e9_b6ca_1c666d97228erow1_col2 {\n",
       "            background-color:  white;\n",
       "        }    #T_b30c6f6c_a266_11e9_b6ca_1c666d97228erow1_col3 {\n",
       "            background-color:  white;\n",
       "        }    #T_b30c6f6c_a266_11e9_b6ca_1c666d97228erow1_col4 {\n",
       "            background-color:  white;\n",
       "        }</style><table id=\"T_b30c6f6c_a266_11e9_b6ca_1c666d97228e\" ><thead>    <tr>        <th class=\"blank level0\" ></th>        <th class=\"col_heading level0 col0\" >Intern</th>        <th class=\"col_heading level0 col1\" >Ranking</th>        <th class=\"col_heading level0 col2\" >Erlöse</th>        <th class=\"col_heading level0 col3\" >Beste Universität</th>        <th class=\"col_heading level0 col4\" >Bessere Universitäten</th>    </tr>    <tr>        <th class=\"index_name level0\" >WZW</th>        <th class=\"blank\" ></th>        <th class=\"blank\" ></th>        <th class=\"blank\" ></th>        <th class=\"blank\" ></th>        <th class=\"blank\" ></th>    </tr></thead><tbody>\n",
       "                <tr>\n",
       "                        <th id=\"T_b30c6f6c_a266_11e9_b6ca_1c666d97228elevel0_row0\" class=\"row_heading level0 row0\" >sonstige</th>\n",
       "                        <td id=\"T_b30c6f6c_a266_11e9_b6ca_1c666d97228erow0_col0\" class=\"data row0 col0\" >33.55%</td>\n",
       "                        <td id=\"T_b30c6f6c_a266_11e9_b6ca_1c666d97228erow0_col1\" class=\"data row0 col1\" >1. Platz</td>\n",
       "                        <td id=\"T_b30c6f6c_a266_11e9_b6ca_1c666d97228erow0_col2\" class=\"data row0 col2\" >33,211,761 €</td>\n",
       "                        <td id=\"T_b30c6f6c_a266_11e9_b6ca_1c666d97228erow0_col3\" class=\"data row0 col3\" >(diese)</td>\n",
       "                        <td id=\"T_b30c6f6c_a266_11e9_b6ca_1c666d97228erow0_col4\" class=\"data row0 col4\" >(keine)</td>\n",
       "            </tr>\n",
       "            <tr>\n",
       "                        <th id=\"T_b30c6f6c_a266_11e9_b6ca_1c666d97228elevel0_row1\" class=\"row_heading level0 row1\" >Unternehmen</th>\n",
       "                        <td id=\"T_b30c6f6c_a266_11e9_b6ca_1c666d97228erow1_col0\" class=\"data row1 col0\" >21.68%</td>\n",
       "                        <td id=\"T_b30c6f6c_a266_11e9_b6ca_1c666d97228erow1_col1\" class=\"data row1 col1\" >4. Platz</td>\n",
       "                        <td id=\"T_b30c6f6c_a266_11e9_b6ca_1c666d97228erow1_col2\" class=\"data row1 col2\" >21,467,168 €</td>\n",
       "                        <td id=\"T_b30c6f6c_a266_11e9_b6ca_1c666d97228erow1_col3\" class=\"data row1 col3\" >Medizinische Universität Graz (32.4 Mio. €)</td>\n",
       "                        <td id=\"T_b30c6f6c_a266_11e9_b6ca_1c666d97228erow1_col4\" class=\"data row1 col4\" >Medizinische Universität Graz, Technische Universität Graz, Technische Universität Wien</td>\n",
       "            </tr>\n",
       "    </tbody></table>"
      ],
      "text/plain": [
       "<pandas.io.formats.style.Styler at 0x1e5977ede80>"
      ]
     },
     "metadata": {},
     "output_type": "display_data"
    },
    {
     "data": {
      "text/html": [
       "<h4>Ähnliche Universitäten aufgrund der Drittmittel-Struktur</h3>"
      ],
      "text/plain": [
       "<IPython.core.display.HTML object>"
      ]
     },
     "metadata": {},
     "output_type": "display_data"
    },
    {
     "data": {
      "text/html": [
       "<p>Wirtschaftsuniversität Wien, Universität Klagenfurt, Universität für künstlerische und industrielle Gestaltung Linz, Universität Linz</p>"
      ],
      "text/plain": [
       "<IPython.core.display.HTML object>"
      ]
     },
     "metadata": {},
     "output_type": "display_data"
    },
    {
     "data": {
      "text/html": [
       "<h3>Akademie der bildenden Künste Wien</h3>"
      ],
      "text/plain": [
       "<IPython.core.display.HTML object>"
      ]
     },
     "metadata": {},
     "output_type": "display_data"
    },
    {
     "data": {
      "text/html": [
       "<h4>Drittmittel-Struktur</h4>"
      ],
      "text/plain": [
       "<IPython.core.display.HTML object>"
      ]
     },
     "metadata": {},
     "output_type": "display_data"
    },
    {
     "data": {
      "text/html": [
       "<style  type=\"text/css\" >\n",
       "    #T_b3185af4_a266_11e9_9075_1c666d97228erow0_col0 {\n",
       "            background-color:  white;\n",
       "        }    #T_b3185af4_a266_11e9_9075_1c666d97228erow0_col1 {\n",
       "            background-color:  white;\n",
       "        }    #T_b3185af4_a266_11e9_9075_1c666d97228erow0_col2 {\n",
       "            background-color:  white;\n",
       "        }    #T_b3185af4_a266_11e9_9075_1c666d97228erow0_col3 {\n",
       "            background-color:  white;\n",
       "        }    #T_b3185af4_a266_11e9_9075_1c666d97228erow0_col4 {\n",
       "            background-color:  white;\n",
       "        }    #T_b3185af4_a266_11e9_9075_1c666d97228erow1_col0 {\n",
       "            background-color:  white;\n",
       "        }    #T_b3185af4_a266_11e9_9075_1c666d97228erow1_col1 {\n",
       "            background-color:  white;\n",
       "        }    #T_b3185af4_a266_11e9_9075_1c666d97228erow1_col2 {\n",
       "            background-color:  white;\n",
       "        }    #T_b3185af4_a266_11e9_9075_1c666d97228erow1_col3 {\n",
       "            background-color:  white;\n",
       "        }    #T_b3185af4_a266_11e9_9075_1c666d97228erow1_col4 {\n",
       "            background-color:  white;\n",
       "        }</style><table id=\"T_b3185af4_a266_11e9_9075_1c666d97228e\" ><thead>    <tr>        <th class=\"blank level0\" ></th>        <th class=\"col_heading level0 col0\" >Intern</th>        <th class=\"col_heading level0 col1\" >Ranking</th>        <th class=\"col_heading level0 col2\" >Erlöse</th>        <th class=\"col_heading level0 col3\" >Beste Universität</th>        <th class=\"col_heading level0 col4\" >Bessere Universitäten</th>    </tr>    <tr>        <th class=\"index_name level0\" >WZW</th>        <th class=\"blank\" ></th>        <th class=\"blank\" ></th>        <th class=\"blank\" ></th>        <th class=\"blank\" ></th>        <th class=\"blank\" ></th>    </tr></thead><tbody>\n",
       "                <tr>\n",
       "                        <th id=\"T_b3185af4_a266_11e9_9075_1c666d97228elevel0_row0\" class=\"row_heading level0 row0\" >FWF</th>\n",
       "                        <td id=\"T_b3185af4_a266_11e9_9075_1c666d97228erow0_col0\" class=\"data row0 col0\" >44.60%</td>\n",
       "                        <td id=\"T_b3185af4_a266_11e9_9075_1c666d97228erow0_col1\" class=\"data row0 col1\" >17. Platz</td>\n",
       "                        <td id=\"T_b3185af4_a266_11e9_9075_1c666d97228erow0_col2\" class=\"data row0 col2\" >724,207 €</td>\n",
       "                        <td id=\"T_b3185af4_a266_11e9_9075_1c666d97228erow0_col3\" class=\"data row0 col3\" >Universität Wien (41.1 Mio. €)</td>\n",
       "                        <td id=\"T_b3185af4_a266_11e9_9075_1c666d97228erow0_col4\" class=\"data row0 col4\" >Universität Wien, Technische Universität Wien, Medizinische Universität Wien, Universität Innsbruck, Universität Graz, Medizinische Universität Innsbruck, Universität für Bodenkultur Wien, Universität Linz, Universität Salzburg, Technische Universität Graz, Veterinärmedizinische Universität Wien, Medizinische Universität Graz, Wirtschaftsuniversität Wien, Universität Klagenfurt, Montanuniversität Leoben, Universität für angewandte Kunst Wien</td>\n",
       "            </tr>\n",
       "            <tr>\n",
       "                        <th id=\"T_b3185af4_a266_11e9_9075_1c666d97228elevel0_row1\" class=\"row_heading level0 row1\" >sonstige öffentlich-rechtliche Einrichtungen (Körperschaften, Stiftungen, Fonds etc.)</th>\n",
       "                        <td id=\"T_b3185af4_a266_11e9_9075_1c666d97228erow1_col0\" class=\"data row1 col0\" >14.63%</td>\n",
       "                        <td id=\"T_b3185af4_a266_11e9_9075_1c666d97228erow1_col1\" class=\"data row1 col1\" >17. Platz</td>\n",
       "                        <td id=\"T_b3185af4_a266_11e9_9075_1c666d97228erow1_col2\" class=\"data row1 col2\" >237,590 €</td>\n",
       "                        <td id=\"T_b3185af4_a266_11e9_9075_1c666d97228erow1_col3\" class=\"data row1 col3\" >Technische Universität Graz (11.9 Mio. €)</td>\n",
       "                        <td id=\"T_b3185af4_a266_11e9_9075_1c666d97228erow1_col4\" class=\"data row1 col4\" >Technische Universität Graz, Technische Universität Wien, Universität Innsbruck, Universität Linz, Montanuniversität Leoben, Universität für Bodenkultur Wien, Medizinische Universität Innsbruck, Universität Wien, Universität Salzburg, Universität Graz, Veterinärmedizinische Universität Wien, Wirtschaftsuniversität Wien, Medizinische Universität Wien, Medizinische Universität Graz, Universität Klagenfurt, Universität für Weiterbildung Krems</td>\n",
       "            </tr>\n",
       "    </tbody></table>"
      ],
      "text/plain": [
       "<pandas.io.formats.style.Styler at 0x1e596694048>"
      ]
     },
     "metadata": {},
     "output_type": "display_data"
    },
    {
     "data": {
      "text/html": [
       "<h4>Ähnliche Universitäten aufgrund der Drittmittel-Struktur</h3>"
      ],
      "text/plain": [
       "<IPython.core.display.HTML object>"
      ]
     },
     "metadata": {},
     "output_type": "display_data"
    },
    {
     "data": {
      "text/html": [
       "<p>Universität Salzburg, Universität Graz, Universität für Musik und darstellende Kunst Graz, Universität für angewandte Kunst Wien</p>"
      ],
      "text/plain": [
       "<IPython.core.display.HTML object>"
      ]
     },
     "metadata": {},
     "output_type": "display_data"
    }
   ],
   "source": [
    "from pandas import Series \n",
    "import pandas as pd \n",
    "import numpy as np\n",
    "from IPython.display import HTML\n",
    "\n",
    "#data = pd.read_csv('1.C.1.csv', sep=';', index_col=[0, 1, 2, 3])\n",
    "#data.sort_index(inplace=True)\n",
    "\n",
    "#idx = pd.IndexSlice\n",
    "#tmp = data.loc[idx[:, 'Psychologie', :, 2018], :]\n",
    "\n",
    "#print(tmp.index.get_level_values('university').unique())\n",
    "#display(data.loc['FWF'].xs(2018, level='year'))\n",
    "#display(data.xs(2018, level='year'))\n",
    "\n",
    "class Dimension:\n",
    "    @classmethod\n",
    "    def create(cls, dataframe, dimensions):\n",
    "        dims = dict()\n",
    "        for dim in dimensions:\n",
    "            assert dim in dataframe.index.names, \"There is no index '\" + dim + \"'\"\n",
    "            cats = dataframe.index.get_level_values(dim).unique()\n",
    "            dims[dim] = Dimension(dim, cats.values)\n",
    "        return dims\n",
    "    \n",
    "    def __init__(self, name, categories):\n",
    "        self.__name = name\n",
    "        self.__categories = categories   \n",
    "    @property\n",
    "    def name (self):\n",
    "        return self.__name\n",
    "    @property\n",
    "    def categories(self):\n",
    "        return self.__categories  \n",
    "    def __str__(self):\n",
    "        return self.name\n",
    "        \n",
    "class Datasheet:\n",
    "    def __init__(self, filename, dimensions, timepoint_name, university_name, value_name):\n",
    "        dataframe = pd.read_csv(filename, sep=';', index_col=list(range(len(dimensions)+2)))        \n",
    "        dataframe.columns = [value_name]\n",
    "        dataframe.sort_index(inplace=True)\n",
    "\n",
    "        assert timepoint_name in dataframe.index.names, \"There is no index '\" + timepoint_name + \"'\"\n",
    "        assert university_name in dataframe.index.names, \"There is no index '\" + university_name + \"'\"\n",
    "        assert value_name in dataframe, \"There is no colum with valid data called '\" + value_name + \"'\"\n",
    "        \n",
    "        self.__dataframe = dataframe\n",
    "        self.__timepoint_idx = timepoint_name\n",
    "        self.__university_idx = university_name\n",
    "        self.__value_column = value_name       \n",
    "        self.__dimensions = Dimension.create(dataframe, dimensions + [university_name, timepoint_name])\n",
    "        self.__timepoints = dataframe.index.get_level_values(timepoint_name).unique()\n",
    "        self.__universities = dataframe.index.get_level_values(university_name).unique()\n",
    "        self.__recent_timepoint = self.__timepoints.max()\n",
    "                \n",
    "    @property\n",
    "    def value_column(self):\n",
    "        return self.__value_column\n",
    "    @property\n",
    "    def university_idx(self):\n",
    "        return self.__university_idx\n",
    "    @property\n",
    "    def timepoint_idx(self):\n",
    "        return self.__timepoint_idx\n",
    "    @property\n",
    "    def dimensions(self):\n",
    "        return self.__dimensions\n",
    "    @property\n",
    "    def most_recent(self):\n",
    "        return self.__recent_timepoint\n",
    "    @property\n",
    "    def universities(self):\n",
    "        return self.__universities\n",
    "    \n",
    "    def only(self, conditions):\n",
    "        df = self.__dataframe\n",
    "        if conditions is None:\n",
    "            return df\n",
    "        slices = list()\n",
    "        for dim in self.dimensions.keys():\n",
    "            if self.dimensions[dim].name in conditions.keys():\n",
    "                slices.append(conditions[self.dimensions[dim].name])\n",
    "            else:\n",
    "                slices.append(slice(None))\n",
    "        return df.loc[tuple(slices), :]\n",
    "        \n",
    "    def analyze(self, description, about, filtering=None):\n",
    "        return Analysis(self, description, self.dimensions[about], self.only(filtering) \\\n",
    "                            .sum(level = [self.dimensions[about].name, self.university_idx]))\n",
    "\n",
    "\n",
    "class Analysis:\n",
    "    def __init__(self, sheet, description, about, table):\n",
    "        self.__sheet = sheet\n",
    "        self.__table = table.unstack(about.name, fill_value=0)\n",
    "        self.__about = about\n",
    "        self.__desc = description\n",
    "        \n",
    "        self.__sums = table.sum(axis='columns')\n",
    "        self.__sums.name = sheet.value_column\n",
    "        self.__totals = table.sum(level=[about.name])[sheet.value_column]\n",
    "        self.__grand_total = table.sum()\n",
    "        self.__grand_total.name = 'grand total'\n",
    "        \n",
    "        assert self.__grand_total[sheet.value_column] == self.__sums.sum()\n",
    "        \n",
    "        self.__structure = Structure(self)\n",
    "        self.__ranking = Ranking(self)\n",
    "\n",
    "               \n",
    "    @property\n",
    "    def sheet(self):\n",
    "        return self.__sheet\n",
    "    @property\n",
    "    def table(self):\n",
    "        return self.__table\n",
    "    @property\n",
    "    def horizontal_sums(self):\n",
    "        return self.__sums\n",
    "    @property\n",
    "    def sums(self):\n",
    "        return self.horizontal_sums\n",
    "    @property\n",
    "    def vertical_sums(self):\n",
    "        return self.__totals\n",
    "    @property\n",
    "    def totals(self):\n",
    "        return self.vertical_sums\n",
    "    @property\n",
    "    def about(self):\n",
    "        return self.__about\n",
    "    @property\n",
    "    def description(self):\n",
    "        return self.__desc\n",
    "    @property\n",
    "    def grand_total(self):\n",
    "        return self.__grand_total\n",
    "    @property\n",
    "    def structure(self):\n",
    "        return self.__structure\n",
    "    @property\n",
    "    def ranking(self):\n",
    "        return self.__ranking\n",
    "    \n",
    "    def values(self, university):\n",
    "        tmp = self.table.loc[university]\n",
    "        tmp.name = self.sheet.value_column\n",
    "        return tmp\n",
    "    \n",
    "\n",
    "class Structure:\n",
    "    def __init__(self, analysis):\n",
    "        self.__analysis = analysis\n",
    "        tmp = analysis.sums.sum(level=[analysis.sheet.university_idx])\n",
    "        self.__table = analysis.table.divide(tmp, axis=0)\n",
    "        \n",
    "    @property\n",
    "    def table(self):\n",
    "        return self.__table\n",
    "    @property\n",
    "    def analysis(self):\n",
    "        return self.__analysis\n",
    "    \n",
    "    def most_important_to(self, university, cutoff=0.9):\n",
    "        u = self.table.loc[university].sort_values(ascending=False)\n",
    "        u.name = 'relevance'\n",
    "        cumsum = u.cumsum()\n",
    "        if cumsum.iloc[0] > cutoff:\n",
    "            return u[0:1]\n",
    "        else:\n",
    "            return u[u.cumsum() < cutoff]\n",
    "\n",
    "    def of(self, university):\n",
    "        tmp = self.table.loc[university].sort_values(ascending=False)\n",
    "        tmp.name = 'relevance'\n",
    "        return tmp\n",
    "    \n",
    "    def differences_to(self, university, cutoff=0.9):\n",
    "        u = self.most_important_to(university, cutoff)\n",
    "        difference_matrix =  (u-self.table).abs() / u.count()\n",
    "        difference_matrix.replace([np.inf, -np.inf], np.nan, inplace=True)     \n",
    "        #difference_matrix.replace(np.nan, 0, inplace=True)\n",
    "        return difference_matrix\n",
    "        \n",
    "    def most_similar_to(self, university, cutoff=0.9):\n",
    "        difference_matrix = self.differences_to(university, cutoff)\n",
    "        result = difference_matrix.sum(axis='columns')\n",
    "        result = result.sort_values()[1:]\n",
    "        result.name = 'differences'\n",
    "        return result\n",
    "    \n",
    "    \n",
    "class Ranking:\n",
    "    def __init__(self, analysis):\n",
    "        self.__analysis = analysis\n",
    "        self.__rankings = analysis.table.rank(axis='rows', method='max', ascending=False)\n",
    "        \n",
    "        tmp = analysis.horizontal_sums.sum(level=self.analysis.sheet.university_idx)\n",
    "        self.__total_ranking = tmp.rank(method='max', ascending=False).sort_values()\n",
    "        self.__total_ranking.name = 'rank'\n",
    "        \n",
    "    @property\n",
    "    def analysis(self):\n",
    "        return self.__analysis\n",
    "    @property\n",
    "    def table(self):\n",
    "        return self.__rankings\n",
    "    \n",
    "    def of(self, university, category=None):\n",
    "        categories = self.__analysis.about.categories\n",
    "        retval = None\n",
    "        if category == None:\n",
    "            retval = self.__total_ranking.loc[university]\n",
    "        else:\n",
    "            if category in categories:\n",
    "                retval = self.__rankings[self.analysis.sheet.value_column, category][university]\n",
    "            else:\n",
    "                retval = self.__rankings.loc[university].astype(int)\n",
    "        retval.name = 'ranking'\n",
    "        return retval\n",
    "\n",
    "    def better_than(self, university, category=None):\n",
    "        if category == None:\n",
    "            return self.__total_ranking[self.__total_ranking < self.__total_ranking[university]]\n",
    "        else:\n",
    "            tmp = self.__rankings[self.analysis.sheet.value_column, category].sort_values()\n",
    "            return tmp[tmp[university] > tmp]\n",
    "        \n",
    "    def best(self, category):\n",
    "        tmp = self.__rankings[self.analysis.sheet.value_column, category].sort_values()[0:1]\n",
    "        return tmp\n",
    "        \n",
    "def highlight_places(column, series):\n",
    "    if series[column] == 1:\n",
    "        return ['background-color: lightgreen']*5\n",
    "    elif series[column] == 2:\n",
    "        return ['background-color: yellow']*5\n",
    "    else:\n",
    "        return ['background-color: white']*5\n",
    "            \n",
    "class University:\n",
    "    def __init__(self, name):\n",
    "        self.__name = name\n",
    "        self.__analyses = list()\n",
    "        \n",
    "    @property\n",
    "    def name(self):\n",
    "        return self.__name\n",
    "    \n",
    "    def add_analysis(self, analysis):\n",
    "        self.__analyses.append(analysis)\n",
    "        \n",
    "    def describe(self):\n",
    "        display(HTML(\"<h3>\" + self.name + \"</h3>\"))\n",
    "        for a in self.__analyses:\n",
    "            display(HTML(\"<h4>\" + a.description + \"-Struktur</h4>\"))\n",
    "            df = a.structure.most_important_to(self.name, 2/3)\n",
    "            df = df[df > 0].dropna().sort_values(ascending=False).to_frame()\n",
    "\n",
    "            df = df.join(a.ranking.of(self.name, 'all')) \\\n",
    "                   .join(a.values(self.name))\n",
    "            \n",
    "            best = pd.Series()\n",
    "            better = pd.Series()\n",
    "            best.name = 'best'\n",
    "            better.name = 'better'\n",
    "            for cat in df.index.get_level_values(level=a.about.name):\n",
    "                best_uni = a.ranking.best(cat).index.values[0]\n",
    "                if best_uni == self.name:\n",
    "                    best_uni = '(diese)'\n",
    "                else: \n",
    "                    best_uni += ' (' + '{0:,.1f} Mio. €'.format(a.values(best_uni)[a.sheet.value_column, cat]/1000000) + ')'\n",
    "                    \n",
    "                better_unis = ', '.join(a.ranking.better_than(self.name, cat).index.values)\n",
    "                if better_unis == '':\n",
    "                    better_unis = '(keine)'\n",
    "                    \n",
    "                best.at[cat] = best_uni\n",
    "                better.at[cat] = better_unis\n",
    "                \n",
    "            df = df.join(best, on=a.about.name).join(better, on=a.about.name)\n",
    "            df = df.droplevel(0)\n",
    "            \n",
    "            df.index.name = 'WZW'\n",
    "            df.columns = ['Intern', 'Ranking', 'Erlöse', 'Beste Universität', 'Bessere Universitäten']\n",
    "            \n",
    "            style = df.style.format({'Intern': '{:.2%}', 'Ranking': '{:}. Platz',\n",
    "                                     'Erlöse': '{:,} €'})\n",
    "                        \n",
    "            style = style.apply(lambda s: highlight_places('Ranking', s), axis=1)\n",
    "            display(style)\n",
    "            \n",
    "            display(HTML('<h4>Ähnliche Universitäten aufgrund der ' + a.description + '-Struktur</h3>'))\n",
    "            similars = a.structure.most_similar_to(self.name, 2/3)\n",
    "            display(HTML('<p>' + ', '.join(similars.index.values[0:4]) + '</p>'))\n",
    "                \n",
    "\n",
    "ds = Datasheet('1.C.1.csv', ['funder', 'fos'], 'year', 'university', 'funding')\n",
    "analysis = ds.analyze(\"Drittmittel\", \"funder\", {'year': ds.most_recent})\n",
    "\n",
    "universities = list()\n",
    "\n",
    "for uni_name in ds.universities:\n",
    "    u = University(uni_name)\n",
    "    u.add_analysis(analysis)\n",
    "    universities.append(u)\n",
    "    \n",
    "for u in universities:\n",
    "    u.describe()\n",
    "    \n",
    "    "
   ]
  },
  {
   "cell_type": "code",
   "execution_count": null,
   "metadata": {},
   "outputs": [],
   "source": [
    "\n",
    "\n",
    "\n",
    "\n",
    "\n",
    "\n",
    "\n",
    "\n",
    "\n",
    "\n",
    "\n",
    "\n",
    "\n"
   ]
  }
 ],
 "metadata": {
  "kernelspec": {
   "display_name": "Python 3",
   "language": "python",
   "name": "python3"
  },
  "language_info": {
   "codemirror_mode": {
    "name": "ipython",
    "version": 3
   },
   "file_extension": ".py",
   "mimetype": "text/x-python",
   "name": "python",
   "nbconvert_exporter": "python",
   "pygments_lexer": "ipython3",
   "version": "3.7.3"
  }
 },
 "nbformat": 4,
 "nbformat_minor": 2
}
