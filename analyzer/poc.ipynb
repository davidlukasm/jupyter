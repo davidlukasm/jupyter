{
 "cells": [
  {
   "cell_type": "code",
   "execution_count": 24,
   "metadata": {
    "scrolled": false
   },
   "outputs": [
    {
     "data": {
      "text/html": [
       "<h3>Universität für Bodenkultur Wien</h3>"
      ],
      "text/plain": [
       "<IPython.core.display.HTML object>"
      ]
     },
     "metadata": {},
     "output_type": "display_data"
    },
    {
     "data": {
      "text/html": [
       "<h4>Drittmittel-Struktur</h4>"
      ],
      "text/plain": [
       "<IPython.core.display.HTML object>"
      ]
     },
     "metadata": {},
     "output_type": "display_data"
    },
    {
     "data": {
      "text/html": [
       "Angezeigt werden die gr&ouml;&szlig;ten WZW, die insgesamt mehr als 66.7% der Erl&ouml;se an der Universität für Bodenkultur Wien ausmachen (exakt: 67.0%). Jeder andere WZW tr&auml;gt weniger als 3.7% bei. Die Spalte \"Ranking\" bezieht sich  auf den &ouml;sterreichweiten Vergleich der absoluten Werte im jeweiligen WZW."
      ],
      "text/plain": [
       "<IPython.core.display.HTML object>"
      ]
     },
     "metadata": {},
     "output_type": "display_data"
    },
    {
     "data": {
      "text/html": [
       "<style  type=\"text/css\" >\n",
       "    #T_4db7314c_af65_11e9_85fb_032492921ecbrow0_col0 {\n",
       "            background-color:  yellow;\n",
       "        }    #T_4db7314c_af65_11e9_85fb_032492921ecbrow0_col1 {\n",
       "            background-color:  yellow;\n",
       "        }    #T_4db7314c_af65_11e9_85fb_032492921ecbrow0_col2 {\n",
       "            background-color:  yellow;\n",
       "        }    #T_4db7314c_af65_11e9_85fb_032492921ecbrow0_col3 {\n",
       "            background-color:  yellow;\n",
       "        }    #T_4db7314c_af65_11e9_85fb_032492921ecbrow0_col4 {\n",
       "            background-color:  yellow;\n",
       "        }    #T_4db7314c_af65_11e9_85fb_032492921ecbrow1_col0 {\n",
       "            background-color:  green;\n",
       "        }    #T_4db7314c_af65_11e9_85fb_032492921ecbrow1_col1 {\n",
       "            background-color:  green;\n",
       "        }    #T_4db7314c_af65_11e9_85fb_032492921ecbrow1_col2 {\n",
       "            background-color:  green;\n",
       "        }    #T_4db7314c_af65_11e9_85fb_032492921ecbrow1_col3 {\n",
       "            background-color:  green;\n",
       "        }    #T_4db7314c_af65_11e9_85fb_032492921ecbrow1_col4 {\n",
       "            background-color:  green;\n",
       "        }    #T_4db7314c_af65_11e9_85fb_032492921ecbrow2_col0 {\n",
       "            background-color:  white;\n",
       "        }    #T_4db7314c_af65_11e9_85fb_032492921ecbrow2_col1 {\n",
       "            background-color:  white;\n",
       "        }    #T_4db7314c_af65_11e9_85fb_032492921ecbrow2_col2 {\n",
       "            background-color:  white;\n",
       "        }    #T_4db7314c_af65_11e9_85fb_032492921ecbrow2_col3 {\n",
       "            background-color:  white;\n",
       "        }    #T_4db7314c_af65_11e9_85fb_032492921ecbrow2_col4 {\n",
       "            background-color:  white;\n",
       "        }    #T_4db7314c_af65_11e9_85fb_032492921ecbrow3_col0 {\n",
       "            background-color:  white;\n",
       "        }    #T_4db7314c_af65_11e9_85fb_032492921ecbrow3_col1 {\n",
       "            background-color:  white;\n",
       "        }    #T_4db7314c_af65_11e9_85fb_032492921ecbrow3_col2 {\n",
       "            background-color:  white;\n",
       "        }    #T_4db7314c_af65_11e9_85fb_032492921ecbrow3_col3 {\n",
       "            background-color:  white;\n",
       "        }    #T_4db7314c_af65_11e9_85fb_032492921ecbrow3_col4 {\n",
       "            background-color:  white;\n",
       "        }    #T_4db7314c_af65_11e9_85fb_032492921ecbrow4_col0 {\n",
       "            background-color:  yellow;\n",
       "        }    #T_4db7314c_af65_11e9_85fb_032492921ecbrow4_col1 {\n",
       "            background-color:  yellow;\n",
       "        }    #T_4db7314c_af65_11e9_85fb_032492921ecbrow4_col2 {\n",
       "            background-color:  yellow;\n",
       "        }    #T_4db7314c_af65_11e9_85fb_032492921ecbrow4_col3 {\n",
       "            background-color:  yellow;\n",
       "        }    #T_4db7314c_af65_11e9_85fb_032492921ecbrow4_col4 {\n",
       "            background-color:  yellow;\n",
       "        }    #T_4db7314c_af65_11e9_85fb_032492921ecbrow5_col0 {\n",
       "            background-color:  white;\n",
       "        }    #T_4db7314c_af65_11e9_85fb_032492921ecbrow5_col1 {\n",
       "            background-color:  white;\n",
       "        }    #T_4db7314c_af65_11e9_85fb_032492921ecbrow5_col2 {\n",
       "            background-color:  white;\n",
       "        }    #T_4db7314c_af65_11e9_85fb_032492921ecbrow5_col3 {\n",
       "            background-color:  white;\n",
       "        }    #T_4db7314c_af65_11e9_85fb_032492921ecbrow5_col4 {\n",
       "            background-color:  white;\n",
       "        }    #T_4db7314c_af65_11e9_85fb_032492921ecbrow6_col0 {\n",
       "            background-color:  white;\n",
       "        }    #T_4db7314c_af65_11e9_85fb_032492921ecbrow6_col1 {\n",
       "            background-color:  white;\n",
       "        }    #T_4db7314c_af65_11e9_85fb_032492921ecbrow6_col2 {\n",
       "            background-color:  white;\n",
       "        }    #T_4db7314c_af65_11e9_85fb_032492921ecbrow6_col3 {\n",
       "            background-color:  white;\n",
       "        }    #T_4db7314c_af65_11e9_85fb_032492921ecbrow6_col4 {\n",
       "            background-color:  white;\n",
       "        }    #T_4db7314c_af65_11e9_85fb_032492921ecbrow7_col0 {\n",
       "            background-color:  yellow;\n",
       "        }    #T_4db7314c_af65_11e9_85fb_032492921ecbrow7_col1 {\n",
       "            background-color:  yellow;\n",
       "        }    #T_4db7314c_af65_11e9_85fb_032492921ecbrow7_col2 {\n",
       "            background-color:  yellow;\n",
       "        }    #T_4db7314c_af65_11e9_85fb_032492921ecbrow7_col3 {\n",
       "            background-color:  yellow;\n",
       "        }    #T_4db7314c_af65_11e9_85fb_032492921ecbrow7_col4 {\n",
       "            background-color:  yellow;\n",
       "        }    #T_4db7314c_af65_11e9_85fb_032492921ecbrow8_col0 {\n",
       "            background-color:  green;\n",
       "        }    #T_4db7314c_af65_11e9_85fb_032492921ecbrow8_col1 {\n",
       "            background-color:  green;\n",
       "        }    #T_4db7314c_af65_11e9_85fb_032492921ecbrow8_col2 {\n",
       "            background-color:  green;\n",
       "        }    #T_4db7314c_af65_11e9_85fb_032492921ecbrow8_col3 {\n",
       "            background-color:  green;\n",
       "        }    #T_4db7314c_af65_11e9_85fb_032492921ecbrow8_col4 {\n",
       "            background-color:  green;\n",
       "        }</style><table id=\"T_4db7314c_af65_11e9_85fb_032492921ecb\" ><thead>    <tr>        <th class=\"blank level0\" ></th>        <th class=\"col_heading level0 col0\" >Intern</th>        <th class=\"col_heading level0 col1\" >Ranking</th>        <th class=\"col_heading level0 col2\" >Erlöse</th>        <th class=\"col_heading level0 col3\" >Beste Universität</th>        <th class=\"col_heading level0 col4\" >Universität im Vergleich</th>    </tr>    <tr>        <th class=\"index_name level0\" >WZW</th>        <th class=\"blank\" ></th>        <th class=\"blank\" ></th>        <th class=\"blank\" ></th>        <th class=\"blank\" ></th>        <th class=\"blank\" ></th>    </tr></thead><tbody>\n",
       "                <tr>\n",
       "                        <th id=\"T_4db7314c_af65_11e9_85fb_032492921ecblevel0_row0\" class=\"row_heading level0 row0\" >Biologie</th>\n",
       "                        <td id=\"T_4db7314c_af65_11e9_85fb_032492921ecbrow0_col0\" class=\"data row0 col0\" >18.36%</td>\n",
       "                        <td id=\"T_4db7314c_af65_11e9_85fb_032492921ecbrow0_col1\" class=\"data row0 col1\" >2. Platz</td>\n",
       "                        <td id=\"T_4db7314c_af65_11e9_85fb_032492921ecbrow0_col2\" class=\"data row0 col2\" >8,808,459 €</td>\n",
       "                        <td id=\"T_4db7314c_af65_11e9_85fb_032492921ecbrow0_col3\" class=\"data row0 col3\" >Universität Wien (17.0 Mio. €)</td>\n",
       "                        <td id=\"T_4db7314c_af65_11e9_85fb_032492921ecbrow0_col4\" class=\"data row0 col4\" ><img src=\"BKW_Biologie.png\", width=250, height=200/></td>\n",
       "            </tr>\n",
       "            <tr>\n",
       "                        <th id=\"T_4db7314c_af65_11e9_85fb_032492921ecblevel0_row1\" class=\"row_heading level0 row1\" >Land- und Forstwirtschaft, Fischerei</th>\n",
       "                        <td id=\"T_4db7314c_af65_11e9_85fb_032492921ecbrow1_col0\" class=\"data row1 col0\" >9.75%</td>\n",
       "                        <td id=\"T_4db7314c_af65_11e9_85fb_032492921ecbrow1_col1\" class=\"data row1 col1\" >1. Platz</td>\n",
       "                        <td id=\"T_4db7314c_af65_11e9_85fb_032492921ecbrow1_col2\" class=\"data row1 col2\" >4,675,750 €</td>\n",
       "                        <td id=\"T_4db7314c_af65_11e9_85fb_032492921ecbrow1_col3\" class=\"data row1 col3\" >(diese)</td>\n",
       "                        <td id=\"T_4db7314c_af65_11e9_85fb_032492921ecbrow1_col4\" class=\"data row1 col4\" ><img src=\"BKW_Land-_und_Forstwirtschaft_Fischerei.png\", width=250, height=200/></td>\n",
       "            </tr>\n",
       "            <tr>\n",
       "                        <th id=\"T_4db7314c_af65_11e9_85fb_032492921ecblevel0_row2\" class=\"row_heading level0 row2\" >Chemie</th>\n",
       "                        <td id=\"T_4db7314c_af65_11e9_85fb_032492921ecbrow2_col0\" class=\"data row2 col0\" >8.13%</td>\n",
       "                        <td id=\"T_4db7314c_af65_11e9_85fb_032492921ecbrow2_col1\" class=\"data row2 col1\" >5. Platz</td>\n",
       "                        <td id=\"T_4db7314c_af65_11e9_85fb_032492921ecbrow2_col2\" class=\"data row2 col2\" >3,899,748 €</td>\n",
       "                        <td id=\"T_4db7314c_af65_11e9_85fb_032492921ecbrow2_col3\" class=\"data row2 col3\" >Technische Universität Graz (9.0 Mio. €)</td>\n",
       "                        <td id=\"T_4db7314c_af65_11e9_85fb_032492921ecbrow2_col4\" class=\"data row2 col4\" ><img src=\"BKW_Chemie.png\", width=250, height=200/></td>\n",
       "            </tr>\n",
       "            <tr>\n",
       "                        <th id=\"T_4db7314c_af65_11e9_85fb_032492921ecblevel0_row3\" class=\"row_heading level0 row3\" >Geowissenschaften</th>\n",
       "                        <td id=\"T_4db7314c_af65_11e9_85fb_032492921ecbrow3_col0\" class=\"data row3 col0\" >6.37%</td>\n",
       "                        <td id=\"T_4db7314c_af65_11e9_85fb_032492921ecbrow3_col1\" class=\"data row3 col1\" >4. Platz</td>\n",
       "                        <td id=\"T_4db7314c_af65_11e9_85fb_032492921ecbrow3_col2\" class=\"data row3 col2\" >3,053,634 €</td>\n",
       "                        <td id=\"T_4db7314c_af65_11e9_85fb_032492921ecbrow3_col3\" class=\"data row3 col3\" >Universität Salzburg (3.7 Mio. €)</td>\n",
       "                        <td id=\"T_4db7314c_af65_11e9_85fb_032492921ecbrow3_col4\" class=\"data row3 col4\" ><img src=\"BKW_Geowissenschaften.png\", width=250, height=200/></td>\n",
       "            </tr>\n",
       "            <tr>\n",
       "                        <th id=\"T_4db7314c_af65_11e9_85fb_032492921ecblevel0_row4\" class=\"row_heading level0 row4\" >Andere Naturwissenschaften</th>\n",
       "                        <td id=\"T_4db7314c_af65_11e9_85fb_032492921ecbrow4_col0\" class=\"data row4 col0\" >6.33%</td>\n",
       "                        <td id=\"T_4db7314c_af65_11e9_85fb_032492921ecbrow4_col1\" class=\"data row4 col1\" >2. Platz</td>\n",
       "                        <td id=\"T_4db7314c_af65_11e9_85fb_032492921ecbrow4_col2\" class=\"data row4 col2\" >3,037,641 €</td>\n",
       "                        <td id=\"T_4db7314c_af65_11e9_85fb_032492921ecbrow4_col3\" class=\"data row4 col3\" >Technische Universität Graz (4.7 Mio. €)</td>\n",
       "                        <td id=\"T_4db7314c_af65_11e9_85fb_032492921ecbrow4_col4\" class=\"data row4 col4\" ><img src=\"BKW_Andere_Naturwissenschaften.png\", width=250, height=200/></td>\n",
       "            </tr>\n",
       "            <tr>\n",
       "                        <th id=\"T_4db7314c_af65_11e9_85fb_032492921ecblevel0_row5\" class=\"row_heading level0 row5\" >Andere Technische Wissenschaften</th>\n",
       "                        <td id=\"T_4db7314c_af65_11e9_85fb_032492921ecbrow5_col0\" class=\"data row5 col0\" >5.16%</td>\n",
       "                        <td id=\"T_4db7314c_af65_11e9_85fb_032492921ecbrow5_col1\" class=\"data row5 col1\" >4. Platz</td>\n",
       "                        <td id=\"T_4db7314c_af65_11e9_85fb_032492921ecbrow5_col2\" class=\"data row5 col2\" >2,476,417 €</td>\n",
       "                        <td id=\"T_4db7314c_af65_11e9_85fb_032492921ecbrow5_col3\" class=\"data row5 col3\" >Montanuniversität Leoben (13.5 Mio. €)</td>\n",
       "                        <td id=\"T_4db7314c_af65_11e9_85fb_032492921ecbrow5_col4\" class=\"data row5 col4\" ><img src=\"BKW_Andere_Technische_Wissenschaften.png\", width=250, height=200/></td>\n",
       "            </tr>\n",
       "            <tr>\n",
       "                        <th id=\"T_4db7314c_af65_11e9_85fb_032492921ecblevel0_row6\" class=\"row_heading level0 row6\" >Bauwesen</th>\n",
       "                        <td id=\"T_4db7314c_af65_11e9_85fb_032492921ecbrow6_col0\" class=\"data row6 col0\" >5.14%</td>\n",
       "                        <td id=\"T_4db7314c_af65_11e9_85fb_032492921ecbrow6_col1\" class=\"data row6 col1\" >5. Platz</td>\n",
       "                        <td id=\"T_4db7314c_af65_11e9_85fb_032492921ecbrow6_col2\" class=\"data row6 col2\" >2,463,564 €</td>\n",
       "                        <td id=\"T_4db7314c_af65_11e9_85fb_032492921ecbrow6_col3\" class=\"data row6 col3\" >Technische Universität Graz (9.4 Mio. €)</td>\n",
       "                        <td id=\"T_4db7314c_af65_11e9_85fb_032492921ecbrow6_col4\" class=\"data row6 col4\" ><img src=\"BKW_Bauwesen.png\", width=250, height=200/></td>\n",
       "            </tr>\n",
       "            <tr>\n",
       "                        <th id=\"T_4db7314c_af65_11e9_85fb_032492921ecblevel0_row7\" class=\"row_heading level0 row7\" >Umweltingenieurwesen, Angewandte Geowissenschaften</th>\n",
       "                        <td id=\"T_4db7314c_af65_11e9_85fb_032492921ecbrow7_col0\" class=\"data row7 col0\" >4.07%</td>\n",
       "                        <td id=\"T_4db7314c_af65_11e9_85fb_032492921ecbrow7_col1\" class=\"data row7 col1\" >3. Platz</td>\n",
       "                        <td id=\"T_4db7314c_af65_11e9_85fb_032492921ecbrow7_col2\" class=\"data row7 col2\" >1,950,922 €</td>\n",
       "                        <td id=\"T_4db7314c_af65_11e9_85fb_032492921ecbrow7_col3\" class=\"data row7 col3\" >Montanuniversität Leoben (8.4 Mio. €)</td>\n",
       "                        <td id=\"T_4db7314c_af65_11e9_85fb_032492921ecbrow7_col4\" class=\"data row7 col4\" ><img src=\"BKW_Umweltingenieurwesen_Angewandte_Geowissenschaften.png\", width=250, height=200/></td>\n",
       "            </tr>\n",
       "            <tr>\n",
       "                        <th id=\"T_4db7314c_af65_11e9_85fb_032492921ecblevel0_row8\" class=\"row_heading level0 row8\" >Industrielle Biotechnologie</th>\n",
       "                        <td id=\"T_4db7314c_af65_11e9_85fb_032492921ecbrow8_col0\" class=\"data row8 col0\" >3.70%</td>\n",
       "                        <td id=\"T_4db7314c_af65_11e9_85fb_032492921ecbrow8_col1\" class=\"data row8 col1\" >1. Platz</td>\n",
       "                        <td id=\"T_4db7314c_af65_11e9_85fb_032492921ecbrow8_col2\" class=\"data row8 col2\" >1,776,987 €</td>\n",
       "                        <td id=\"T_4db7314c_af65_11e9_85fb_032492921ecbrow8_col3\" class=\"data row8 col3\" >(diese)</td>\n",
       "                        <td id=\"T_4db7314c_af65_11e9_85fb_032492921ecbrow8_col4\" class=\"data row8 col4\" ><img src=\"BKW_Industrielle_Biotechnologie.png\", width=250, height=200/></td>\n",
       "            </tr>\n",
       "    </tbody></table>"
      ],
      "text/plain": [
       "<IPython.core.display.HTML object>"
      ]
     },
     "metadata": {},
     "output_type": "display_data"
    },
    {
     "data": {
      "text/html": [
       "<h4>Ähnliche Universitäten aufgrund der Drittmittel-Struktur</h3>"
      ],
      "text/plain": [
       "<IPython.core.display.HTML object>"
      ]
     },
     "metadata": {},
     "output_type": "display_data"
    },
    {
     "data": {
      "text/html": [
       "<p>Die Universität für Bodenkultur Wien ist stark spezialisiert.<br/><strong>Keine</strong> andere Universität ähnelt der Universität für Bodenkultur Wien in der Drittmittel-Struktur in auffälliger Weise.</p>"
      ],
      "text/plain": [
       "<IPython.core.display.HTML object>"
      ]
     },
     "metadata": {},
     "output_type": "display_data"
    },
    {
     "data": {
      "text/html": [
       "<p><small>Universitäten mit einer Ähnlichkeit von weniger als 50% werden nicht angezeigt.</small></p>"
      ],
      "text/plain": [
       "<IPython.core.display.HTML object>"
      ]
     },
     "metadata": {},
     "output_type": "display_data"
    },
    {
     "data": {
      "text/html": [
       "<h3>Universität Klagenfurt</h3>"
      ],
      "text/plain": [
       "<IPython.core.display.HTML object>"
      ]
     },
     "metadata": {},
     "output_type": "display_data"
    },
    {
     "data": {
      "text/html": [
       "<h4>Drittmittel-Struktur</h4>"
      ],
      "text/plain": [
       "<IPython.core.display.HTML object>"
      ]
     },
     "metadata": {},
     "output_type": "display_data"
    },
    {
     "data": {
      "text/html": [
       "Angezeigt werden die gr&ouml;&szlig;ten WZW, die insgesamt mehr als 66.7% der Erl&ouml;se an der Universität Klagenfurt ausmachen (exakt: 67.2%). Jeder andere WZW tr&auml;gt weniger als 5.3% bei. Die Spalte \"Ranking\" bezieht sich  auf den &ouml;sterreichweiten Vergleich der absoluten Werte im jeweiligen WZW."
      ],
      "text/plain": [
       "<IPython.core.display.HTML object>"
      ]
     },
     "metadata": {},
     "output_type": "display_data"
    },
    {
     "data": {
      "text/html": [
       "<style  type=\"text/css\" >\n",
       "    #T_4e07a546_af65_11e9_85fb_032492921ecbrow0_col0 {\n",
       "            background-color:  white;\n",
       "        }    #T_4e07a546_af65_11e9_85fb_032492921ecbrow0_col1 {\n",
       "            background-color:  white;\n",
       "        }    #T_4e07a546_af65_11e9_85fb_032492921ecbrow0_col2 {\n",
       "            background-color:  white;\n",
       "        }    #T_4e07a546_af65_11e9_85fb_032492921ecbrow0_col3 {\n",
       "            background-color:  white;\n",
       "        }    #T_4e07a546_af65_11e9_85fb_032492921ecbrow0_col4 {\n",
       "            background-color:  white;\n",
       "        }    #T_4e07a546_af65_11e9_85fb_032492921ecbrow1_col0 {\n",
       "            background-color:  white;\n",
       "        }    #T_4e07a546_af65_11e9_85fb_032492921ecbrow1_col1 {\n",
       "            background-color:  white;\n",
       "        }    #T_4e07a546_af65_11e9_85fb_032492921ecbrow1_col2 {\n",
       "            background-color:  white;\n",
       "        }    #T_4e07a546_af65_11e9_85fb_032492921ecbrow1_col3 {\n",
       "            background-color:  white;\n",
       "        }    #T_4e07a546_af65_11e9_85fb_032492921ecbrow1_col4 {\n",
       "            background-color:  white;\n",
       "        }    #T_4e07a546_af65_11e9_85fb_032492921ecbrow2_col0 {\n",
       "            background-color:  white;\n",
       "        }    #T_4e07a546_af65_11e9_85fb_032492921ecbrow2_col1 {\n",
       "            background-color:  white;\n",
       "        }    #T_4e07a546_af65_11e9_85fb_032492921ecbrow2_col2 {\n",
       "            background-color:  white;\n",
       "        }    #T_4e07a546_af65_11e9_85fb_032492921ecbrow2_col3 {\n",
       "            background-color:  white;\n",
       "        }    #T_4e07a546_af65_11e9_85fb_032492921ecbrow2_col4 {\n",
       "            background-color:  white;\n",
       "        }    #T_4e07a546_af65_11e9_85fb_032492921ecbrow3_col0 {\n",
       "            background-color:  white;\n",
       "        }    #T_4e07a546_af65_11e9_85fb_032492921ecbrow3_col1 {\n",
       "            background-color:  white;\n",
       "        }    #T_4e07a546_af65_11e9_85fb_032492921ecbrow3_col2 {\n",
       "            background-color:  white;\n",
       "        }    #T_4e07a546_af65_11e9_85fb_032492921ecbrow3_col3 {\n",
       "            background-color:  white;\n",
       "        }    #T_4e07a546_af65_11e9_85fb_032492921ecbrow3_col4 {\n",
       "            background-color:  white;\n",
       "        }    #T_4e07a546_af65_11e9_85fb_032492921ecbrow4_col0 {\n",
       "            background-color:  yellow;\n",
       "        }    #T_4e07a546_af65_11e9_85fb_032492921ecbrow4_col1 {\n",
       "            background-color:  yellow;\n",
       "        }    #T_4e07a546_af65_11e9_85fb_032492921ecbrow4_col2 {\n",
       "            background-color:  yellow;\n",
       "        }    #T_4e07a546_af65_11e9_85fb_032492921ecbrow4_col3 {\n",
       "            background-color:  yellow;\n",
       "        }    #T_4e07a546_af65_11e9_85fb_032492921ecbrow4_col4 {\n",
       "            background-color:  yellow;\n",
       "        }    #T_4e07a546_af65_11e9_85fb_032492921ecbrow5_col0 {\n",
       "            background-color:  white;\n",
       "        }    #T_4e07a546_af65_11e9_85fb_032492921ecbrow5_col1 {\n",
       "            background-color:  white;\n",
       "        }    #T_4e07a546_af65_11e9_85fb_032492921ecbrow5_col2 {\n",
       "            background-color:  white;\n",
       "        }    #T_4e07a546_af65_11e9_85fb_032492921ecbrow5_col3 {\n",
       "            background-color:  white;\n",
       "        }    #T_4e07a546_af65_11e9_85fb_032492921ecbrow5_col4 {\n",
       "            background-color:  white;\n",
       "        }</style><table id=\"T_4e07a546_af65_11e9_85fb_032492921ecb\" ><thead>    <tr>        <th class=\"blank level0\" ></th>        <th class=\"col_heading level0 col0\" >Intern</th>        <th class=\"col_heading level0 col1\" >Ranking</th>        <th class=\"col_heading level0 col2\" >Erlöse</th>        <th class=\"col_heading level0 col3\" >Beste Universität</th>        <th class=\"col_heading level0 col4\" >Universität im Vergleich</th>    </tr>    <tr>        <th class=\"index_name level0\" >WZW</th>        <th class=\"blank\" ></th>        <th class=\"blank\" ></th>        <th class=\"blank\" ></th>        <th class=\"blank\" ></th>        <th class=\"blank\" ></th>    </tr></thead><tbody>\n",
       "                <tr>\n",
       "                        <th id=\"T_4e07a546_af65_11e9_85fb_032492921ecblevel0_row0\" class=\"row_heading level0 row0\" >Informatik</th>\n",
       "                        <td id=\"T_4e07a546_af65_11e9_85fb_032492921ecbrow0_col0\" class=\"data row0 col0\" >17.12%</td>\n",
       "                        <td id=\"T_4e07a546_af65_11e9_85fb_032492921ecbrow0_col1\" class=\"data row0 col1\" >6. Platz</td>\n",
       "                        <td id=\"T_4e07a546_af65_11e9_85fb_032492921ecbrow0_col2\" class=\"data row0 col2\" >1,290,693 €</td>\n",
       "                        <td id=\"T_4e07a546_af65_11e9_85fb_032492921ecbrow0_col3\" class=\"data row0 col3\" >Technische Universität Wien (10.6 Mio. €)</td>\n",
       "                        <td id=\"T_4e07a546_af65_11e9_85fb_032492921ecbrow0_col4\" class=\"data row0 col4\" ><img src=\"UKL_Informatik.png\", width=250, height=200/></td>\n",
       "            </tr>\n",
       "            <tr>\n",
       "                        <th id=\"T_4e07a546_af65_11e9_85fb_032492921ecblevel0_row1\" class=\"row_heading level0 row1\" >Mathematik</th>\n",
       "                        <td id=\"T_4e07a546_af65_11e9_85fb_032492921ecbrow1_col0\" class=\"data row1 col0\" >15.60%</td>\n",
       "                        <td id=\"T_4e07a546_af65_11e9_85fb_032492921ecbrow1_col1\" class=\"data row1 col1\" >5. Platz</td>\n",
       "                        <td id=\"T_4e07a546_af65_11e9_85fb_032492921ecbrow1_col2\" class=\"data row1 col2\" >1,176,559 €</td>\n",
       "                        <td id=\"T_4e07a546_af65_11e9_85fb_032492921ecbrow1_col3\" class=\"data row1 col3\" >Universität Wien (8.4 Mio. €)</td>\n",
       "                        <td id=\"T_4e07a546_af65_11e9_85fb_032492921ecbrow1_col4\" class=\"data row1 col4\" ><img src=\"UKL_Mathematik.png\", width=250, height=200/></td>\n",
       "            </tr>\n",
       "            <tr>\n",
       "                        <th id=\"T_4e07a546_af65_11e9_85fb_032492921ecblevel0_row2\" class=\"row_heading level0 row2\" >Wirtschaftswissenschaften</th>\n",
       "                        <td id=\"T_4e07a546_af65_11e9_85fb_032492921ecbrow2_col0\" class=\"data row2 col0\" >13.92%</td>\n",
       "                        <td id=\"T_4e07a546_af65_11e9_85fb_032492921ecbrow2_col1\" class=\"data row2 col1\" >8. Platz</td>\n",
       "                        <td id=\"T_4e07a546_af65_11e9_85fb_032492921ecbrow2_col2\" class=\"data row2 col2\" >1,049,891 €</td>\n",
       "                        <td id=\"T_4e07a546_af65_11e9_85fb_032492921ecbrow2_col3\" class=\"data row2 col3\" >Wirtschaftsuniversität Wien (7.2 Mio. €)</td>\n",
       "                        <td id=\"T_4e07a546_af65_11e9_85fb_032492921ecbrow2_col4\" class=\"data row2 col4\" ><img src=\"UKL_Wirtschaftswissenschaften.png\", width=250, height=200/></td>\n",
       "            </tr>\n",
       "            <tr>\n",
       "                        <th id=\"T_4e07a546_af65_11e9_85fb_032492921ecblevel0_row3\" class=\"row_heading level0 row3\" >Elektrotechnik, Elektronik, Informationstechnik</th>\n",
       "                        <td id=\"T_4e07a546_af65_11e9_85fb_032492921ecbrow3_col0\" class=\"data row3 col0\" >7.83%</td>\n",
       "                        <td id=\"T_4e07a546_af65_11e9_85fb_032492921ecbrow3_col1\" class=\"data row3 col1\" >6. Platz</td>\n",
       "                        <td id=\"T_4e07a546_af65_11e9_85fb_032492921ecbrow3_col2\" class=\"data row3 col2\" >590,093 €</td>\n",
       "                        <td id=\"T_4e07a546_af65_11e9_85fb_032492921ecbrow3_col3\" class=\"data row3 col3\" >Technische Universität Wien (16.0 Mio. €)</td>\n",
       "                        <td id=\"T_4e07a546_af65_11e9_85fb_032492921ecbrow3_col4\" class=\"data row3 col4\" ><img src=\"UKL_Elektrotechnik_Elektronik_Informationstechnik.png\", width=250, height=200/></td>\n",
       "            </tr>\n",
       "            <tr>\n",
       "                        <th id=\"T_4e07a546_af65_11e9_85fb_032492921ecblevel0_row4\" class=\"row_heading level0 row4\" >Andere Sozialwissenschaften</th>\n",
       "                        <td id=\"T_4e07a546_af65_11e9_85fb_032492921ecbrow4_col0\" class=\"data row4 col0\" >7.38%</td>\n",
       "                        <td id=\"T_4e07a546_af65_11e9_85fb_032492921ecbrow4_col1\" class=\"data row4 col1\" >3. Platz</td>\n",
       "                        <td id=\"T_4e07a546_af65_11e9_85fb_032492921ecbrow4_col2\" class=\"data row4 col2\" >556,305 €</td>\n",
       "                        <td id=\"T_4e07a546_af65_11e9_85fb_032492921ecbrow4_col3\" class=\"data row4 col3\" >Universität Wien (1.1 Mio. €)</td>\n",
       "                        <td id=\"T_4e07a546_af65_11e9_85fb_032492921ecbrow4_col4\" class=\"data row4 col4\" ><img src=\"UKL_Andere_Sozialwissenschaften.png\", width=250, height=200/></td>\n",
       "            </tr>\n",
       "            <tr>\n",
       "                        <th id=\"T_4e07a546_af65_11e9_85fb_032492921ecblevel0_row5\" class=\"row_heading level0 row5\" >Soziologie</th>\n",
       "                        <td id=\"T_4e07a546_af65_11e9_85fb_032492921ecbrow5_col0\" class=\"data row5 col0\" >5.31%</td>\n",
       "                        <td id=\"T_4e07a546_af65_11e9_85fb_032492921ecbrow5_col1\" class=\"data row5 col1\" >6. Platz</td>\n",
       "                        <td id=\"T_4e07a546_af65_11e9_85fb_032492921ecbrow5_col2\" class=\"data row5 col2\" >400,554 €</td>\n",
       "                        <td id=\"T_4e07a546_af65_11e9_85fb_032492921ecbrow5_col3\" class=\"data row5 col3\" >Universität Wien (4.7 Mio. €)</td>\n",
       "                        <td id=\"T_4e07a546_af65_11e9_85fb_032492921ecbrow5_col4\" class=\"data row5 col4\" ><img src=\"UKL_Soziologie.png\", width=250, height=200/></td>\n",
       "            </tr>\n",
       "    </tbody></table>"
      ],
      "text/plain": [
       "<IPython.core.display.HTML object>"
      ]
     },
     "metadata": {},
     "output_type": "display_data"
    },
    {
     "data": {
      "text/html": [
       "<h4>Ähnliche Universitäten aufgrund der Drittmittel-Struktur</h3>"
      ],
      "text/plain": [
       "<IPython.core.display.HTML object>"
      ]
     },
     "metadata": {},
     "output_type": "display_data"
    },
    {
     "data": {
      "text/html": [
       "<p>Die Universität Klagenfurt ist stark spezialisiert.<br/><strong>Keine</strong> andere Universität ähnelt der Universität Klagenfurt in der Drittmittel-Struktur in auffälliger Weise.</p>"
      ],
      "text/plain": [
       "<IPython.core.display.HTML object>"
      ]
     },
     "metadata": {},
     "output_type": "display_data"
    },
    {
     "data": {
      "text/html": [
       "<p><small>Universitäten mit einer Ähnlichkeit von weniger als 50% werden nicht angezeigt.</small></p>"
      ],
      "text/plain": [
       "<IPython.core.display.HTML object>"
      ]
     },
     "metadata": {},
     "output_type": "display_data"
    },
    {
     "data": {
      "text/html": [
       "<h3>Universität Wien</h3>"
      ],
      "text/plain": [
       "<IPython.core.display.HTML object>"
      ]
     },
     "metadata": {},
     "output_type": "display_data"
    },
    {
     "data": {
      "text/html": [
       "<h4>Drittmittel-Struktur</h4>"
      ],
      "text/plain": [
       "<IPython.core.display.HTML object>"
      ]
     },
     "metadata": {},
     "output_type": "display_data"
    },
    {
     "data": {
      "text/html": [
       "Angezeigt werden die gr&ouml;&szlig;ten WZW, die insgesamt mehr als 66.7% der Erl&ouml;se an der Universität Wien ausmachen (exakt: 67.8%). Jeder andere WZW tr&auml;gt weniger als 4.8% bei. Die Spalte \"Ranking\" bezieht sich  auf den &ouml;sterreichweiten Vergleich der absoluten Werte im jeweiligen WZW."
      ],
      "text/plain": [
       "<IPython.core.display.HTML object>"
      ]
     },
     "metadata": {},
     "output_type": "display_data"
    },
    {
     "data": {
      "text/html": [
       "<style  type=\"text/css\" >\n",
       "    #T_4e822d16_af65_11e9_85fb_032492921ecbrow0_col0 {\n",
       "            background-color:  green;\n",
       "        }    #T_4e822d16_af65_11e9_85fb_032492921ecbrow0_col1 {\n",
       "            background-color:  green;\n",
       "        }    #T_4e822d16_af65_11e9_85fb_032492921ecbrow0_col2 {\n",
       "            background-color:  green;\n",
       "        }    #T_4e822d16_af65_11e9_85fb_032492921ecbrow0_col3 {\n",
       "            background-color:  green;\n",
       "        }    #T_4e822d16_af65_11e9_85fb_032492921ecbrow0_col4 {\n",
       "            background-color:  green;\n",
       "        }    #T_4e822d16_af65_11e9_85fb_032492921ecbrow1_col0 {\n",
       "            background-color:  yellow;\n",
       "        }    #T_4e822d16_af65_11e9_85fb_032492921ecbrow1_col1 {\n",
       "            background-color:  yellow;\n",
       "        }    #T_4e822d16_af65_11e9_85fb_032492921ecbrow1_col2 {\n",
       "            background-color:  yellow;\n",
       "        }    #T_4e822d16_af65_11e9_85fb_032492921ecbrow1_col3 {\n",
       "            background-color:  yellow;\n",
       "        }    #T_4e822d16_af65_11e9_85fb_032492921ecbrow1_col4 {\n",
       "            background-color:  yellow;\n",
       "        }    #T_4e822d16_af65_11e9_85fb_032492921ecbrow2_col0 {\n",
       "            background-color:  green;\n",
       "        }    #T_4e822d16_af65_11e9_85fb_032492921ecbrow2_col1 {\n",
       "            background-color:  green;\n",
       "        }    #T_4e822d16_af65_11e9_85fb_032492921ecbrow2_col2 {\n",
       "            background-color:  green;\n",
       "        }    #T_4e822d16_af65_11e9_85fb_032492921ecbrow2_col3 {\n",
       "            background-color:  green;\n",
       "        }    #T_4e822d16_af65_11e9_85fb_032492921ecbrow2_col4 {\n",
       "            background-color:  green;\n",
       "        }    #T_4e822d16_af65_11e9_85fb_032492921ecbrow3_col0 {\n",
       "            background-color:  green;\n",
       "        }    #T_4e822d16_af65_11e9_85fb_032492921ecbrow3_col1 {\n",
       "            background-color:  green;\n",
       "        }    #T_4e822d16_af65_11e9_85fb_032492921ecbrow3_col2 {\n",
       "            background-color:  green;\n",
       "        }    #T_4e822d16_af65_11e9_85fb_032492921ecbrow3_col3 {\n",
       "            background-color:  green;\n",
       "        }    #T_4e822d16_af65_11e9_85fb_032492921ecbrow3_col4 {\n",
       "            background-color:  green;\n",
       "        }    #T_4e822d16_af65_11e9_85fb_032492921ecbrow4_col0 {\n",
       "            background-color:  yellow;\n",
       "        }    #T_4e822d16_af65_11e9_85fb_032492921ecbrow4_col1 {\n",
       "            background-color:  yellow;\n",
       "        }    #T_4e822d16_af65_11e9_85fb_032492921ecbrow4_col2 {\n",
       "            background-color:  yellow;\n",
       "        }    #T_4e822d16_af65_11e9_85fb_032492921ecbrow4_col3 {\n",
       "            background-color:  yellow;\n",
       "        }    #T_4e822d16_af65_11e9_85fb_032492921ecbrow4_col4 {\n",
       "            background-color:  yellow;\n",
       "        }    #T_4e822d16_af65_11e9_85fb_032492921ecbrow5_col0 {\n",
       "            background-color:  green;\n",
       "        }    #T_4e822d16_af65_11e9_85fb_032492921ecbrow5_col1 {\n",
       "            background-color:  green;\n",
       "        }    #T_4e822d16_af65_11e9_85fb_032492921ecbrow5_col2 {\n",
       "            background-color:  green;\n",
       "        }    #T_4e822d16_af65_11e9_85fb_032492921ecbrow5_col3 {\n",
       "            background-color:  green;\n",
       "        }    #T_4e822d16_af65_11e9_85fb_032492921ecbrow5_col4 {\n",
       "            background-color:  green;\n",
       "        }    #T_4e822d16_af65_11e9_85fb_032492921ecbrow6_col0 {\n",
       "            background-color:  green;\n",
       "        }    #T_4e822d16_af65_11e9_85fb_032492921ecbrow6_col1 {\n",
       "            background-color:  green;\n",
       "        }    #T_4e822d16_af65_11e9_85fb_032492921ecbrow6_col2 {\n",
       "            background-color:  green;\n",
       "        }    #T_4e822d16_af65_11e9_85fb_032492921ecbrow6_col3 {\n",
       "            background-color:  green;\n",
       "        }    #T_4e822d16_af65_11e9_85fb_032492921ecbrow6_col4 {\n",
       "            background-color:  green;\n",
       "        }</style><table id=\"T_4e822d16_af65_11e9_85fb_032492921ecb\" ><thead>    <tr>        <th class=\"blank level0\" ></th>        <th class=\"col_heading level0 col0\" >Intern</th>        <th class=\"col_heading level0 col1\" >Ranking</th>        <th class=\"col_heading level0 col2\" >Erlöse</th>        <th class=\"col_heading level0 col3\" >Beste Universität</th>        <th class=\"col_heading level0 col4\" >Universität im Vergleich</th>    </tr>    <tr>        <th class=\"index_name level0\" >WZW</th>        <th class=\"blank\" ></th>        <th class=\"blank\" ></th>        <th class=\"blank\" ></th>        <th class=\"blank\" ></th>        <th class=\"blank\" ></th>    </tr></thead><tbody>\n",
       "                <tr>\n",
       "                        <th id=\"T_4e822d16_af65_11e9_85fb_032492921ecblevel0_row0\" class=\"row_heading level0 row0\" >Biologie</th>\n",
       "                        <td id=\"T_4e822d16_af65_11e9_85fb_032492921ecbrow0_col0\" class=\"data row0 col0\" >20.03%</td>\n",
       "                        <td id=\"T_4e822d16_af65_11e9_85fb_032492921ecbrow0_col1\" class=\"data row0 col1\" >1. Platz</td>\n",
       "                        <td id=\"T_4e822d16_af65_11e9_85fb_032492921ecbrow0_col2\" class=\"data row0 col2\" >17,041,180 €</td>\n",
       "                        <td id=\"T_4e822d16_af65_11e9_85fb_032492921ecbrow0_col3\" class=\"data row0 col3\" >(diese)</td>\n",
       "                        <td id=\"T_4e822d16_af65_11e9_85fb_032492921ecbrow0_col4\" class=\"data row0 col4\" ><img src=\"UWI_Biologie.png\", width=250, height=200/></td>\n",
       "            </tr>\n",
       "            <tr>\n",
       "                        <th id=\"T_4e822d16_af65_11e9_85fb_032492921ecblevel0_row1\" class=\"row_heading level0 row1\" >Physik, Astronomie</th>\n",
       "                        <td id=\"T_4e822d16_af65_11e9_85fb_032492921ecbrow1_col0\" class=\"data row1 col0\" >15.28%</td>\n",
       "                        <td id=\"T_4e822d16_af65_11e9_85fb_032492921ecbrow1_col1\" class=\"data row1 col1\" >2. Platz</td>\n",
       "                        <td id=\"T_4e822d16_af65_11e9_85fb_032492921ecbrow1_col2\" class=\"data row1 col2\" >13,000,586 €</td>\n",
       "                        <td id=\"T_4e822d16_af65_11e9_85fb_032492921ecbrow1_col3\" class=\"data row1 col3\" >Technische Universität Wien (13.4 Mio. €)</td>\n",
       "                        <td id=\"T_4e822d16_af65_11e9_85fb_032492921ecbrow1_col4\" class=\"data row1 col4\" ><img src=\"UWI_Physik_Astronomie.png\", width=250, height=200/></td>\n",
       "            </tr>\n",
       "            <tr>\n",
       "                        <th id=\"T_4e822d16_af65_11e9_85fb_032492921ecblevel0_row2\" class=\"row_heading level0 row2\" >Mathematik</th>\n",
       "                        <td id=\"T_4e822d16_af65_11e9_85fb_032492921ecbrow2_col0\" class=\"data row2 col0\" >9.83%</td>\n",
       "                        <td id=\"T_4e822d16_af65_11e9_85fb_032492921ecbrow2_col1\" class=\"data row2 col1\" >1. Platz</td>\n",
       "                        <td id=\"T_4e822d16_af65_11e9_85fb_032492921ecbrow2_col2\" class=\"data row2 col2\" >8,360,365 €</td>\n",
       "                        <td id=\"T_4e822d16_af65_11e9_85fb_032492921ecbrow2_col3\" class=\"data row2 col3\" >(diese)</td>\n",
       "                        <td id=\"T_4e822d16_af65_11e9_85fb_032492921ecbrow2_col4\" class=\"data row2 col4\" ><img src=\"UWI_Mathematik.png\", width=250, height=200/></td>\n",
       "            </tr>\n",
       "            <tr>\n",
       "                        <th id=\"T_4e822d16_af65_11e9_85fb_032492921ecblevel0_row3\" class=\"row_heading level0 row3\" >Sprach- und Literaturwissenschaften</th>\n",
       "                        <td id=\"T_4e822d16_af65_11e9_85fb_032492921ecbrow3_col0\" class=\"data row3 col0\" >6.35%</td>\n",
       "                        <td id=\"T_4e822d16_af65_11e9_85fb_032492921ecbrow3_col1\" class=\"data row3 col1\" >1. Platz</td>\n",
       "                        <td id=\"T_4e822d16_af65_11e9_85fb_032492921ecbrow3_col2\" class=\"data row3 col2\" >5,403,993 €</td>\n",
       "                        <td id=\"T_4e822d16_af65_11e9_85fb_032492921ecbrow3_col3\" class=\"data row3 col3\" >(diese)</td>\n",
       "                        <td id=\"T_4e822d16_af65_11e9_85fb_032492921ecbrow3_col4\" class=\"data row3 col4\" ><img src=\"UWI_Sprach-_und_Literaturwissenschaften.png\", width=250, height=200/></td>\n",
       "            </tr>\n",
       "            <tr>\n",
       "                        <th id=\"T_4e822d16_af65_11e9_85fb_032492921ecblevel0_row4\" class=\"row_heading level0 row4\" >Chemie</th>\n",
       "                        <td id=\"T_4e822d16_af65_11e9_85fb_032492921ecbrow4_col0\" class=\"data row4 col0\" >5.99%</td>\n",
       "                        <td id=\"T_4e822d16_af65_11e9_85fb_032492921ecbrow4_col1\" class=\"data row4 col1\" >3. Platz</td>\n",
       "                        <td id=\"T_4e822d16_af65_11e9_85fb_032492921ecbrow4_col2\" class=\"data row4 col2\" >5,093,619 €</td>\n",
       "                        <td id=\"T_4e822d16_af65_11e9_85fb_032492921ecbrow4_col3\" class=\"data row4 col3\" >Technische Universität Graz (9.0 Mio. €)</td>\n",
       "                        <td id=\"T_4e822d16_af65_11e9_85fb_032492921ecbrow4_col4\" class=\"data row4 col4\" ><img src=\"UWI_Chemie.png\", width=250, height=200/></td>\n",
       "            </tr>\n",
       "            <tr>\n",
       "                        <th id=\"T_4e822d16_af65_11e9_85fb_032492921ecblevel0_row5\" class=\"row_heading level0 row5\" >Soziologie</th>\n",
       "                        <td id=\"T_4e822d16_af65_11e9_85fb_032492921ecbrow5_col0\" class=\"data row5 col0\" >5.53%</td>\n",
       "                        <td id=\"T_4e822d16_af65_11e9_85fb_032492921ecbrow5_col1\" class=\"data row5 col1\" >1. Platz</td>\n",
       "                        <td id=\"T_4e822d16_af65_11e9_85fb_032492921ecbrow5_col2\" class=\"data row5 col2\" >4,702,192 €</td>\n",
       "                        <td id=\"T_4e822d16_af65_11e9_85fb_032492921ecbrow5_col3\" class=\"data row5 col3\" >(diese)</td>\n",
       "                        <td id=\"T_4e822d16_af65_11e9_85fb_032492921ecbrow5_col4\" class=\"data row5 col4\" ><img src=\"UWI_Soziologie.png\", width=250, height=200/></td>\n",
       "            </tr>\n",
       "            <tr>\n",
       "                        <th id=\"T_4e822d16_af65_11e9_85fb_032492921ecblevel0_row6\" class=\"row_heading level0 row6\" >Geschichte, Archäologie</th>\n",
       "                        <td id=\"T_4e822d16_af65_11e9_85fb_032492921ecbrow6_col0\" class=\"data row6 col0\" >4.75%</td>\n",
       "                        <td id=\"T_4e822d16_af65_11e9_85fb_032492921ecbrow6_col1\" class=\"data row6 col1\" >1. Platz</td>\n",
       "                        <td id=\"T_4e822d16_af65_11e9_85fb_032492921ecbrow6_col2\" class=\"data row6 col2\" >4,042,891 €</td>\n",
       "                        <td id=\"T_4e822d16_af65_11e9_85fb_032492921ecbrow6_col3\" class=\"data row6 col3\" >(diese)</td>\n",
       "                        <td id=\"T_4e822d16_af65_11e9_85fb_032492921ecbrow6_col4\" class=\"data row6 col4\" ><img src=\"UWI_Geschichte_Archäologie.png\", width=250, height=200/></td>\n",
       "            </tr>\n",
       "    </tbody></table>"
      ],
      "text/plain": [
       "<IPython.core.display.HTML object>"
      ]
     },
     "metadata": {},
     "output_type": "display_data"
    },
    {
     "data": {
      "text/html": [
       "<h4>Ähnliche Universitäten aufgrund der Drittmittel-Struktur</h3>"
      ],
      "text/plain": [
       "<IPython.core.display.HTML object>"
      ]
     },
     "metadata": {},
     "output_type": "display_data"
    },
    {
     "data": {
      "text/html": [
       "<p><strong>UGR</strong> (70.6%, wegen &auml;hnlicher Relevanz von Biologie, Physik, Astronomie, Sprach- und Literaturwissenschaften), <strong>USA</strong> (63.1%, wegen &auml;hnlicher Relevanz von Biologie, Physik, Astronomie, Geschichte, Archäologie), <strong>UIN</strong> (62.7%, wegen &auml;hnlicher Relevanz von Physik, Astronomie, Biologie, Chemie)</p>"
      ],
      "text/plain": [
       "<IPython.core.display.HTML object>"
      ]
     },
     "metadata": {},
     "output_type": "display_data"
    },
    {
     "data": {
      "text/html": [
       "<p><small>Universitäten mit einer Ähnlichkeit von weniger als 50% werden nicht angezeigt.</small></p>"
      ],
      "text/plain": [
       "<IPython.core.display.HTML object>"
      ]
     },
     "metadata": {},
     "output_type": "display_data"
    },
    {
     "data": {
      "text/html": [
       "<h3>Technische Universität Wien</h3>"
      ],
      "text/plain": [
       "<IPython.core.display.HTML object>"
      ]
     },
     "metadata": {},
     "output_type": "display_data"
    },
    {
     "data": {
      "text/html": [
       "<h4>Drittmittel-Struktur</h4>"
      ],
      "text/plain": [
       "<IPython.core.display.HTML object>"
      ]
     },
     "metadata": {},
     "output_type": "display_data"
    },
    {
     "data": {
      "text/html": [
       "Angezeigt werden die gr&ouml;&szlig;ten WZW, die insgesamt mehr als 66.7% der Erl&ouml;se an der Technische Universität Wien ausmachen (exakt: 67.2%). Jeder andere WZW tr&auml;gt weniger als 6.3% bei. Die Spalte \"Ranking\" bezieht sich  auf den &ouml;sterreichweiten Vergleich der absoluten Werte im jeweiligen WZW."
      ],
      "text/plain": [
       "<IPython.core.display.HTML object>"
      ]
     },
     "metadata": {},
     "output_type": "display_data"
    },
    {
     "data": {
      "text/html": [
       "<style  type=\"text/css\" >\n",
       "    #T_4ec94bb0_af65_11e9_85fb_032492921ecbrow0_col0 {\n",
       "            background-color:  green;\n",
       "        }    #T_4ec94bb0_af65_11e9_85fb_032492921ecbrow0_col1 {\n",
       "            background-color:  green;\n",
       "        }    #T_4ec94bb0_af65_11e9_85fb_032492921ecbrow0_col2 {\n",
       "            background-color:  green;\n",
       "        }    #T_4ec94bb0_af65_11e9_85fb_032492921ecbrow0_col3 {\n",
       "            background-color:  green;\n",
       "        }    #T_4ec94bb0_af65_11e9_85fb_032492921ecbrow0_col4 {\n",
       "            background-color:  green;\n",
       "        }    #T_4ec94bb0_af65_11e9_85fb_032492921ecbrow1_col0 {\n",
       "            background-color:  green;\n",
       "        }    #T_4ec94bb0_af65_11e9_85fb_032492921ecbrow1_col1 {\n",
       "            background-color:  green;\n",
       "        }    #T_4ec94bb0_af65_11e9_85fb_032492921ecbrow1_col2 {\n",
       "            background-color:  green;\n",
       "        }    #T_4ec94bb0_af65_11e9_85fb_032492921ecbrow1_col3 {\n",
       "            background-color:  green;\n",
       "        }    #T_4ec94bb0_af65_11e9_85fb_032492921ecbrow1_col4 {\n",
       "            background-color:  green;\n",
       "        }    #T_4ec94bb0_af65_11e9_85fb_032492921ecbrow2_col0 {\n",
       "            background-color:  green;\n",
       "        }    #T_4ec94bb0_af65_11e9_85fb_032492921ecbrow2_col1 {\n",
       "            background-color:  green;\n",
       "        }    #T_4ec94bb0_af65_11e9_85fb_032492921ecbrow2_col2 {\n",
       "            background-color:  green;\n",
       "        }    #T_4ec94bb0_af65_11e9_85fb_032492921ecbrow2_col3 {\n",
       "            background-color:  green;\n",
       "        }    #T_4ec94bb0_af65_11e9_85fb_032492921ecbrow2_col4 {\n",
       "            background-color:  green;\n",
       "        }    #T_4ec94bb0_af65_11e9_85fb_032492921ecbrow3_col0 {\n",
       "            background-color:  yellow;\n",
       "        }    #T_4ec94bb0_af65_11e9_85fb_032492921ecbrow3_col1 {\n",
       "            background-color:  yellow;\n",
       "        }    #T_4ec94bb0_af65_11e9_85fb_032492921ecbrow3_col2 {\n",
       "            background-color:  yellow;\n",
       "        }    #T_4ec94bb0_af65_11e9_85fb_032492921ecbrow3_col3 {\n",
       "            background-color:  yellow;\n",
       "        }    #T_4ec94bb0_af65_11e9_85fb_032492921ecbrow3_col4 {\n",
       "            background-color:  yellow;\n",
       "        }    #T_4ec94bb0_af65_11e9_85fb_032492921ecbrow4_col0 {\n",
       "            background-color:  yellow;\n",
       "        }    #T_4ec94bb0_af65_11e9_85fb_032492921ecbrow4_col1 {\n",
       "            background-color:  yellow;\n",
       "        }    #T_4ec94bb0_af65_11e9_85fb_032492921ecbrow4_col2 {\n",
       "            background-color:  yellow;\n",
       "        }    #T_4ec94bb0_af65_11e9_85fb_032492921ecbrow4_col3 {\n",
       "            background-color:  yellow;\n",
       "        }    #T_4ec94bb0_af65_11e9_85fb_032492921ecbrow4_col4 {\n",
       "            background-color:  yellow;\n",
       "        }    #T_4ec94bb0_af65_11e9_85fb_032492921ecbrow5_col0 {\n",
       "            background-color:  yellow;\n",
       "        }    #T_4ec94bb0_af65_11e9_85fb_032492921ecbrow5_col1 {\n",
       "            background-color:  yellow;\n",
       "        }    #T_4ec94bb0_af65_11e9_85fb_032492921ecbrow5_col2 {\n",
       "            background-color:  yellow;\n",
       "        }    #T_4ec94bb0_af65_11e9_85fb_032492921ecbrow5_col3 {\n",
       "            background-color:  yellow;\n",
       "        }    #T_4ec94bb0_af65_11e9_85fb_032492921ecbrow5_col4 {\n",
       "            background-color:  yellow;\n",
       "        }</style><table id=\"T_4ec94bb0_af65_11e9_85fb_032492921ecb\" ><thead>    <tr>        <th class=\"blank level0\" ></th>        <th class=\"col_heading level0 col0\" >Intern</th>        <th class=\"col_heading level0 col1\" >Ranking</th>        <th class=\"col_heading level0 col2\" >Erlöse</th>        <th class=\"col_heading level0 col3\" >Beste Universität</th>        <th class=\"col_heading level0 col4\" >Universität im Vergleich</th>    </tr>    <tr>        <th class=\"index_name level0\" >WZW</th>        <th class=\"blank\" ></th>        <th class=\"blank\" ></th>        <th class=\"blank\" ></th>        <th class=\"blank\" ></th>        <th class=\"blank\" ></th>    </tr></thead><tbody>\n",
       "                <tr>\n",
       "                        <th id=\"T_4ec94bb0_af65_11e9_85fb_032492921ecblevel0_row0\" class=\"row_heading level0 row0\" >Elektrotechnik, Elektronik, Informationstechnik</th>\n",
       "                        <td id=\"T_4ec94bb0_af65_11e9_85fb_032492921ecbrow0_col0\" class=\"data row0 col0\" >18.38%</td>\n",
       "                        <td id=\"T_4ec94bb0_af65_11e9_85fb_032492921ecbrow0_col1\" class=\"data row0 col1\" >1. Platz</td>\n",
       "                        <td id=\"T_4ec94bb0_af65_11e9_85fb_032492921ecbrow0_col2\" class=\"data row0 col2\" >16,047,928 €</td>\n",
       "                        <td id=\"T_4ec94bb0_af65_11e9_85fb_032492921ecbrow0_col3\" class=\"data row0 col3\" >(diese)</td>\n",
       "                        <td id=\"T_4ec94bb0_af65_11e9_85fb_032492921ecbrow0_col4\" class=\"data row0 col4\" ><img src=\"TUW_Elektrotechnik_Elektronik_Informationstechnik.png\", width=250, height=200/></td>\n",
       "            </tr>\n",
       "            <tr>\n",
       "                        <th id=\"T_4ec94bb0_af65_11e9_85fb_032492921ecblevel0_row1\" class=\"row_heading level0 row1\" >Physik, Astronomie</th>\n",
       "                        <td id=\"T_4ec94bb0_af65_11e9_85fb_032492921ecbrow1_col0\" class=\"data row1 col0\" >15.35%</td>\n",
       "                        <td id=\"T_4ec94bb0_af65_11e9_85fb_032492921ecbrow1_col1\" class=\"data row1 col1\" >1. Platz</td>\n",
       "                        <td id=\"T_4ec94bb0_af65_11e9_85fb_032492921ecbrow1_col2\" class=\"data row1 col2\" >13,401,452 €</td>\n",
       "                        <td id=\"T_4ec94bb0_af65_11e9_85fb_032492921ecbrow1_col3\" class=\"data row1 col3\" >(diese)</td>\n",
       "                        <td id=\"T_4ec94bb0_af65_11e9_85fb_032492921ecbrow1_col4\" class=\"data row1 col4\" ><img src=\"TUW_Physik_Astronomie.png\", width=250, height=200/></td>\n",
       "            </tr>\n",
       "            <tr>\n",
       "                        <th id=\"T_4ec94bb0_af65_11e9_85fb_032492921ecblevel0_row2\" class=\"row_heading level0 row2\" >Informatik</th>\n",
       "                        <td id=\"T_4ec94bb0_af65_11e9_85fb_032492921ecbrow2_col0\" class=\"data row2 col0\" >12.17%</td>\n",
       "                        <td id=\"T_4ec94bb0_af65_11e9_85fb_032492921ecbrow2_col1\" class=\"data row2 col1\" >1. Platz</td>\n",
       "                        <td id=\"T_4ec94bb0_af65_11e9_85fb_032492921ecbrow2_col2\" class=\"data row2 col2\" >10,630,304 €</td>\n",
       "                        <td id=\"T_4ec94bb0_af65_11e9_85fb_032492921ecbrow2_col3\" class=\"data row2 col3\" >(diese)</td>\n",
       "                        <td id=\"T_4ec94bb0_af65_11e9_85fb_032492921ecbrow2_col4\" class=\"data row2 col4\" ><img src=\"TUW_Informatik.png\", width=250, height=200/></td>\n",
       "            </tr>\n",
       "            <tr>\n",
       "                        <th id=\"T_4ec94bb0_af65_11e9_85fb_032492921ecblevel0_row3\" class=\"row_heading level0 row3\" >Andere Technische Wissenschaften</th>\n",
       "                        <td id=\"T_4ec94bb0_af65_11e9_85fb_032492921ecbrow3_col0\" class=\"data row3 col0\" >7.64%</td>\n",
       "                        <td id=\"T_4ec94bb0_af65_11e9_85fb_032492921ecbrow3_col1\" class=\"data row3 col1\" >2. Platz</td>\n",
       "                        <td id=\"T_4ec94bb0_af65_11e9_85fb_032492921ecbrow3_col2\" class=\"data row3 col2\" >6,673,316 €</td>\n",
       "                        <td id=\"T_4ec94bb0_af65_11e9_85fb_032492921ecbrow3_col3\" class=\"data row3 col3\" >Montanuniversität Leoben (13.5 Mio. €)</td>\n",
       "                        <td id=\"T_4ec94bb0_af65_11e9_85fb_032492921ecbrow3_col4\" class=\"data row3 col4\" ><img src=\"TUW_Andere_Technische_Wissenschaften.png\", width=250, height=200/></td>\n",
       "            </tr>\n",
       "            <tr>\n",
       "                        <th id=\"T_4ec94bb0_af65_11e9_85fb_032492921ecblevel0_row4\" class=\"row_heading level0 row4\" >Bauwesen</th>\n",
       "                        <td id=\"T_4ec94bb0_af65_11e9_85fb_032492921ecbrow4_col0\" class=\"data row4 col0\" >7.32%</td>\n",
       "                        <td id=\"T_4ec94bb0_af65_11e9_85fb_032492921ecbrow4_col1\" class=\"data row4 col1\" >2. Platz</td>\n",
       "                        <td id=\"T_4ec94bb0_af65_11e9_85fb_032492921ecbrow4_col2\" class=\"data row4 col2\" >6,392,114 €</td>\n",
       "                        <td id=\"T_4ec94bb0_af65_11e9_85fb_032492921ecbrow4_col3\" class=\"data row4 col3\" >Technische Universität Graz (9.4 Mio. €)</td>\n",
       "                        <td id=\"T_4ec94bb0_af65_11e9_85fb_032492921ecbrow4_col4\" class=\"data row4 col4\" ><img src=\"TUW_Bauwesen.png\", width=250, height=200/></td>\n",
       "            </tr>\n",
       "            <tr>\n",
       "                        <th id=\"T_4ec94bb0_af65_11e9_85fb_032492921ecblevel0_row5\" class=\"row_heading level0 row5\" >Mathematik</th>\n",
       "                        <td id=\"T_4ec94bb0_af65_11e9_85fb_032492921ecbrow5_col0\" class=\"data row5 col0\" >6.32%</td>\n",
       "                        <td id=\"T_4ec94bb0_af65_11e9_85fb_032492921ecbrow5_col1\" class=\"data row5 col1\" >3. Platz</td>\n",
       "                        <td id=\"T_4ec94bb0_af65_11e9_85fb_032492921ecbrow5_col2\" class=\"data row5 col2\" >5,522,420 €</td>\n",
       "                        <td id=\"T_4ec94bb0_af65_11e9_85fb_032492921ecbrow5_col3\" class=\"data row5 col3\" >Universität Wien (8.4 Mio. €)</td>\n",
       "                        <td id=\"T_4ec94bb0_af65_11e9_85fb_032492921ecbrow5_col4\" class=\"data row5 col4\" ><img src=\"TUW_Mathematik.png\", width=250, height=200/></td>\n",
       "            </tr>\n",
       "    </tbody></table>"
      ],
      "text/plain": [
       "<IPython.core.display.HTML object>"
      ]
     },
     "metadata": {},
     "output_type": "display_data"
    },
    {
     "data": {
      "text/html": [
       "<h4>Ähnliche Universitäten aufgrund der Drittmittel-Struktur</h3>"
      ],
      "text/plain": [
       "<IPython.core.display.HTML object>"
      ]
     },
     "metadata": {},
     "output_type": "display_data"
    },
    {
     "data": {
      "text/html": [
       "<p><strong>ULI</strong> (71.0%, wegen &auml;hnlicher Relevanz von Elektrotechnik, Elektronik, Informationstechnik, Physik, Astronomie, Informatik), <strong>TUG</strong> (62.4%, wegen &auml;hnlicher Relevanz von Elektrotechnik, Elektronik, Informationstechnik, Informatik, Bauwesen)</p>"
      ],
      "text/plain": [
       "<IPython.core.display.HTML object>"
      ]
     },
     "metadata": {},
     "output_type": "display_data"
    },
    {
     "data": {
      "text/html": [
       "<p><small>Universitäten mit einer Ähnlichkeit von weniger als 50% werden nicht angezeigt.</small></p>"
      ],
      "text/plain": [
       "<IPython.core.display.HTML object>"
      ]
     },
     "metadata": {},
     "output_type": "display_data"
    },
    {
     "data": {
      "text/html": [
       "<h3>Universität Innsbruck</h3>"
      ],
      "text/plain": [
       "<IPython.core.display.HTML object>"
      ]
     },
     "metadata": {},
     "output_type": "display_data"
    },
    {
     "data": {
      "text/html": [
       "<h4>Drittmittel-Struktur</h4>"
      ],
      "text/plain": [
       "<IPython.core.display.HTML object>"
      ]
     },
     "metadata": {},
     "output_type": "display_data"
    },
    {
     "data": {
      "text/html": [
       "Angezeigt werden die gr&ouml;&szlig;ten WZW, die insgesamt mehr als 66.7% der Erl&ouml;se an der Universität Innsbruck ausmachen (exakt: 67.0%). Jeder andere WZW tr&auml;gt weniger als 6.6% bei. Die Spalte \"Ranking\" bezieht sich  auf den &ouml;sterreichweiten Vergleich der absoluten Werte im jeweiligen WZW."
      ],
      "text/plain": [
       "<IPython.core.display.HTML object>"
      ]
     },
     "metadata": {},
     "output_type": "display_data"
    },
    {
     "data": {
      "text/html": [
       "<style  type=\"text/css\" >\n",
       "    #T_4f108142_af65_11e9_85fb_032492921ecbrow0_col0 {\n",
       "            background-color:  yellow;\n",
       "        }    #T_4f108142_af65_11e9_85fb_032492921ecbrow0_col1 {\n",
       "            background-color:  yellow;\n",
       "        }    #T_4f108142_af65_11e9_85fb_032492921ecbrow0_col2 {\n",
       "            background-color:  yellow;\n",
       "        }    #T_4f108142_af65_11e9_85fb_032492921ecbrow0_col3 {\n",
       "            background-color:  yellow;\n",
       "        }    #T_4f108142_af65_11e9_85fb_032492921ecbrow0_col4 {\n",
       "            background-color:  yellow;\n",
       "        }    #T_4f108142_af65_11e9_85fb_032492921ecbrow1_col0 {\n",
       "            background-color:  white;\n",
       "        }    #T_4f108142_af65_11e9_85fb_032492921ecbrow1_col1 {\n",
       "            background-color:  white;\n",
       "        }    #T_4f108142_af65_11e9_85fb_032492921ecbrow1_col2 {\n",
       "            background-color:  white;\n",
       "        }    #T_4f108142_af65_11e9_85fb_032492921ecbrow1_col3 {\n",
       "            background-color:  white;\n",
       "        }    #T_4f108142_af65_11e9_85fb_032492921ecbrow1_col4 {\n",
       "            background-color:  white;\n",
       "        }    #T_4f108142_af65_11e9_85fb_032492921ecbrow2_col0 {\n",
       "            background-color:  yellow;\n",
       "        }    #T_4f108142_af65_11e9_85fb_032492921ecbrow2_col1 {\n",
       "            background-color:  yellow;\n",
       "        }    #T_4f108142_af65_11e9_85fb_032492921ecbrow2_col2 {\n",
       "            background-color:  yellow;\n",
       "        }    #T_4f108142_af65_11e9_85fb_032492921ecbrow2_col3 {\n",
       "            background-color:  yellow;\n",
       "        }    #T_4f108142_af65_11e9_85fb_032492921ecbrow2_col4 {\n",
       "            background-color:  yellow;\n",
       "        }    #T_4f108142_af65_11e9_85fb_032492921ecbrow3_col0 {\n",
       "            background-color:  white;\n",
       "        }    #T_4f108142_af65_11e9_85fb_032492921ecbrow3_col1 {\n",
       "            background-color:  white;\n",
       "        }    #T_4f108142_af65_11e9_85fb_032492921ecbrow3_col2 {\n",
       "            background-color:  white;\n",
       "        }    #T_4f108142_af65_11e9_85fb_032492921ecbrow3_col3 {\n",
       "            background-color:  white;\n",
       "        }    #T_4f108142_af65_11e9_85fb_032492921ecbrow3_col4 {\n",
       "            background-color:  white;\n",
       "        }    #T_4f108142_af65_11e9_85fb_032492921ecbrow4_col0 {\n",
       "            background-color:  yellow;\n",
       "        }    #T_4f108142_af65_11e9_85fb_032492921ecbrow4_col1 {\n",
       "            background-color:  yellow;\n",
       "        }    #T_4f108142_af65_11e9_85fb_032492921ecbrow4_col2 {\n",
       "            background-color:  yellow;\n",
       "        }    #T_4f108142_af65_11e9_85fb_032492921ecbrow4_col3 {\n",
       "            background-color:  yellow;\n",
       "        }    #T_4f108142_af65_11e9_85fb_032492921ecbrow4_col4 {\n",
       "            background-color:  yellow;\n",
       "        }    #T_4f108142_af65_11e9_85fb_032492921ecbrow5_col0 {\n",
       "            background-color:  yellow;\n",
       "        }    #T_4f108142_af65_11e9_85fb_032492921ecbrow5_col1 {\n",
       "            background-color:  yellow;\n",
       "        }    #T_4f108142_af65_11e9_85fb_032492921ecbrow5_col2 {\n",
       "            background-color:  yellow;\n",
       "        }    #T_4f108142_af65_11e9_85fb_032492921ecbrow5_col3 {\n",
       "            background-color:  yellow;\n",
       "        }    #T_4f108142_af65_11e9_85fb_032492921ecbrow5_col4 {\n",
       "            background-color:  yellow;\n",
       "        }</style><table id=\"T_4f108142_af65_11e9_85fb_032492921ecb\" ><thead>    <tr>        <th class=\"blank level0\" ></th>        <th class=\"col_heading level0 col0\" >Intern</th>        <th class=\"col_heading level0 col1\" >Ranking</th>        <th class=\"col_heading level0 col2\" >Erlöse</th>        <th class=\"col_heading level0 col3\" >Beste Universität</th>        <th class=\"col_heading level0 col4\" >Universität im Vergleich</th>    </tr>    <tr>        <th class=\"index_name level0\" >WZW</th>        <th class=\"blank\" ></th>        <th class=\"blank\" ></th>        <th class=\"blank\" ></th>        <th class=\"blank\" ></th>        <th class=\"blank\" ></th>    </tr></thead><tbody>\n",
       "                <tr>\n",
       "                        <th id=\"T_4f108142_af65_11e9_85fb_032492921ecblevel0_row0\" class=\"row_heading level0 row0\" >Physik, Astronomie</th>\n",
       "                        <td id=\"T_4f108142_af65_11e9_85fb_032492921ecbrow0_col0\" class=\"data row0 col0\" >18.77%</td>\n",
       "                        <td id=\"T_4f108142_af65_11e9_85fb_032492921ecbrow0_col1\" class=\"data row0 col1\" >3. Platz</td>\n",
       "                        <td id=\"T_4f108142_af65_11e9_85fb_032492921ecbrow0_col2\" class=\"data row0 col2\" >9,281,530 €</td>\n",
       "                        <td id=\"T_4f108142_af65_11e9_85fb_032492921ecbrow0_col3\" class=\"data row0 col3\" >Technische Universität Wien (13.4 Mio. €)</td>\n",
       "                        <td id=\"T_4f108142_af65_11e9_85fb_032492921ecbrow0_col4\" class=\"data row0 col4\" ><img src=\"UIN_Physik_Astronomie.png\", width=250, height=200/></td>\n",
       "            </tr>\n",
       "            <tr>\n",
       "                        <th id=\"T_4f108142_af65_11e9_85fb_032492921ecblevel0_row1\" class=\"row_heading level0 row1\" >Biologie</th>\n",
       "                        <td id=\"T_4f108142_af65_11e9_85fb_032492921ecbrow1_col0\" class=\"data row1 col0\" >11.47%</td>\n",
       "                        <td id=\"T_4f108142_af65_11e9_85fb_032492921ecbrow1_col1\" class=\"data row1 col1\" >4. Platz</td>\n",
       "                        <td id=\"T_4f108142_af65_11e9_85fb_032492921ecbrow1_col2\" class=\"data row1 col2\" >5,673,390 €</td>\n",
       "                        <td id=\"T_4f108142_af65_11e9_85fb_032492921ecbrow1_col3\" class=\"data row1 col3\" >Universität Wien (17.0 Mio. €)</td>\n",
       "                        <td id=\"T_4f108142_af65_11e9_85fb_032492921ecbrow1_col4\" class=\"data row1 col4\" ><img src=\"UIN_Biologie.png\", width=250, height=200/></td>\n",
       "            </tr>\n",
       "            <tr>\n",
       "                        <th id=\"T_4f108142_af65_11e9_85fb_032492921ecblevel0_row2\" class=\"row_heading level0 row2\" >Chemie</th>\n",
       "                        <td id=\"T_4f108142_af65_11e9_85fb_032492921ecbrow2_col0\" class=\"data row2 col0\" >10.49%</td>\n",
       "                        <td id=\"T_4f108142_af65_11e9_85fb_032492921ecbrow2_col1\" class=\"data row2 col1\" >2. Platz</td>\n",
       "                        <td id=\"T_4f108142_af65_11e9_85fb_032492921ecbrow2_col2\" class=\"data row2 col2\" >5,185,498 €</td>\n",
       "                        <td id=\"T_4f108142_af65_11e9_85fb_032492921ecbrow2_col3\" class=\"data row2 col3\" >Technische Universität Graz (9.0 Mio. €)</td>\n",
       "                        <td id=\"T_4f108142_af65_11e9_85fb_032492921ecbrow2_col4\" class=\"data row2 col4\" ><img src=\"UIN_Chemie.png\", width=250, height=200/></td>\n",
       "            </tr>\n",
       "            <tr>\n",
       "                        <th id=\"T_4f108142_af65_11e9_85fb_032492921ecblevel0_row3\" class=\"row_heading level0 row3\" >Bauwesen</th>\n",
       "                        <td id=\"T_4f108142_af65_11e9_85fb_032492921ecbrow3_col0\" class=\"data row3 col0\" >10.31%</td>\n",
       "                        <td id=\"T_4f108142_af65_11e9_85fb_032492921ecbrow3_col1\" class=\"data row3 col1\" >4. Platz</td>\n",
       "                        <td id=\"T_4f108142_af65_11e9_85fb_032492921ecbrow3_col2\" class=\"data row3 col2\" >5,097,492 €</td>\n",
       "                        <td id=\"T_4f108142_af65_11e9_85fb_032492921ecbrow3_col3\" class=\"data row3 col3\" >Technische Universität Graz (9.4 Mio. €)</td>\n",
       "                        <td id=\"T_4f108142_af65_11e9_85fb_032492921ecbrow3_col4\" class=\"data row3 col4\" ><img src=\"UIN_Bauwesen.png\", width=250, height=200/></td>\n",
       "            </tr>\n",
       "            <tr>\n",
       "                        <th id=\"T_4f108142_af65_11e9_85fb_032492921ecblevel0_row4\" class=\"row_heading level0 row4\" >Wirtschaftswissenschaften</th>\n",
       "                        <td id=\"T_4f108142_af65_11e9_85fb_032492921ecbrow4_col0\" class=\"data row4 col0\" >9.38%</td>\n",
       "                        <td id=\"T_4f108142_af65_11e9_85fb_032492921ecbrow4_col1\" class=\"data row4 col1\" >2. Platz</td>\n",
       "                        <td id=\"T_4f108142_af65_11e9_85fb_032492921ecbrow4_col2\" class=\"data row4 col2\" >4,638,999 €</td>\n",
       "                        <td id=\"T_4f108142_af65_11e9_85fb_032492921ecbrow4_col3\" class=\"data row4 col3\" >Wirtschaftsuniversität Wien (7.2 Mio. €)</td>\n",
       "                        <td id=\"T_4f108142_af65_11e9_85fb_032492921ecbrow4_col4\" class=\"data row4 col4\" ><img src=\"UIN_Wirtschaftswissenschaften.png\", width=250, height=200/></td>\n",
       "            </tr>\n",
       "            <tr>\n",
       "                        <th id=\"T_4f108142_af65_11e9_85fb_032492921ecblevel0_row5\" class=\"row_heading level0 row5\" >Geowissenschaften</th>\n",
       "                        <td id=\"T_4f108142_af65_11e9_85fb_032492921ecbrow5_col0\" class=\"data row5 col0\" >6.56%</td>\n",
       "                        <td id=\"T_4f108142_af65_11e9_85fb_032492921ecbrow5_col1\" class=\"data row5 col1\" >3. Platz</td>\n",
       "                        <td id=\"T_4f108142_af65_11e9_85fb_032492921ecbrow5_col2\" class=\"data row5 col2\" >3,241,716 €</td>\n",
       "                        <td id=\"T_4f108142_af65_11e9_85fb_032492921ecbrow5_col3\" class=\"data row5 col3\" >Universität Salzburg (3.7 Mio. €)</td>\n",
       "                        <td id=\"T_4f108142_af65_11e9_85fb_032492921ecbrow5_col4\" class=\"data row5 col4\" ><img src=\"UIN_Geowissenschaften.png\", width=250, height=200/></td>\n",
       "            </tr>\n",
       "    </tbody></table>"
      ],
      "text/plain": [
       "<IPython.core.display.HTML object>"
      ]
     },
     "metadata": {},
     "output_type": "display_data"
    },
    {
     "data": {
      "text/html": [
       "<h4>Ähnliche Universitäten aufgrund der Drittmittel-Struktur</h3>"
      ],
      "text/plain": [
       "<IPython.core.display.HTML object>"
      ]
     },
     "metadata": {},
     "output_type": "display_data"
    },
    {
     "data": {
      "text/html": [
       "<p><strong>UWI</strong> (62.7%, wegen &auml;hnlicher Relevanz von Physik, Astronomie, Biologie, Chemie), <strong>UGR</strong> (59.7%, wegen &auml;hnlicher Relevanz von Biologie, Chemie, Wirtschaftswissenschaften), <strong>USA</strong> (50.9%, wegen &auml;hnlicher Relevanz von Biologie, Geowissenschaften, Informatik)</p>"
      ],
      "text/plain": [
       "<IPython.core.display.HTML object>"
      ]
     },
     "metadata": {},
     "output_type": "display_data"
    },
    {
     "data": {
      "text/html": [
       "<p><small>Universitäten mit einer Ähnlichkeit von weniger als 50% werden nicht angezeigt.</small></p>"
      ],
      "text/plain": [
       "<IPython.core.display.HTML object>"
      ]
     },
     "metadata": {},
     "output_type": "display_data"
    },
    {
     "data": {
      "text/html": [
       "<h3>Universität Mozarteum Salzburg</h3>"
      ],
      "text/plain": [
       "<IPython.core.display.HTML object>"
      ]
     },
     "metadata": {},
     "output_type": "display_data"
    },
    {
     "data": {
      "text/html": [
       "<h4>Drittmittel-Struktur</h4>"
      ],
      "text/plain": [
       "<IPython.core.display.HTML object>"
      ]
     },
     "metadata": {},
     "output_type": "display_data"
    },
    {
     "data": {
      "text/html": [
       "Angezeigt werden die gr&ouml;&szlig;ten WZW, die insgesamt mehr als 66.7% der Erl&ouml;se an der Universität Mozarteum Salzburg ausmachen (exakt: 72.9%). Jeder andere WZW tr&auml;gt weniger als 15.1% bei. Die Spalte \"Ranking\" bezieht sich  auf den &ouml;sterreichweiten Vergleich der absoluten Werte im jeweiligen WZW."
      ],
      "text/plain": [
       "<IPython.core.display.HTML object>"
      ]
     },
     "metadata": {},
     "output_type": "display_data"
    },
    {
     "data": {
      "text/html": [
       "<style  type=\"text/css\" >\n",
       "    #T_4f325696_af65_11e9_85fb_032492921ecbrow0_col0 {\n",
       "            background-color:  green;\n",
       "        }    #T_4f325696_af65_11e9_85fb_032492921ecbrow0_col1 {\n",
       "            background-color:  green;\n",
       "        }    #T_4f325696_af65_11e9_85fb_032492921ecbrow0_col2 {\n",
       "            background-color:  green;\n",
       "        }    #T_4f325696_af65_11e9_85fb_032492921ecbrow0_col3 {\n",
       "            background-color:  green;\n",
       "        }    #T_4f325696_af65_11e9_85fb_032492921ecbrow0_col4 {\n",
       "            background-color:  green;\n",
       "        }    #T_4f325696_af65_11e9_85fb_032492921ecbrow1_col0 {\n",
       "            background-color:  green;\n",
       "        }    #T_4f325696_af65_11e9_85fb_032492921ecbrow1_col1 {\n",
       "            background-color:  green;\n",
       "        }    #T_4f325696_af65_11e9_85fb_032492921ecbrow1_col2 {\n",
       "            background-color:  green;\n",
       "        }    #T_4f325696_af65_11e9_85fb_032492921ecbrow1_col3 {\n",
       "            background-color:  green;\n",
       "        }    #T_4f325696_af65_11e9_85fb_032492921ecbrow1_col4 {\n",
       "            background-color:  green;\n",
       "        }</style><table id=\"T_4f325696_af65_11e9_85fb_032492921ecb\" ><thead>    <tr>        <th class=\"blank level0\" ></th>        <th class=\"col_heading level0 col0\" >Intern</th>        <th class=\"col_heading level0 col1\" >Ranking</th>        <th class=\"col_heading level0 col2\" >Erlöse</th>        <th class=\"col_heading level0 col3\" >Beste Universität</th>        <th class=\"col_heading level0 col4\" >Universität im Vergleich</th>    </tr>    <tr>        <th class=\"index_name level0\" >WZW</th>        <th class=\"blank\" ></th>        <th class=\"blank\" ></th>        <th class=\"blank\" ></th>        <th class=\"blank\" ></th>        <th class=\"blank\" ></th>    </tr></thead><tbody>\n",
       "                <tr>\n",
       "                        <th id=\"T_4f325696_af65_11e9_85fb_032492921ecblevel0_row0\" class=\"row_heading level0 row0\" >Interpretation - instrumental</th>\n",
       "                        <td id=\"T_4f325696_af65_11e9_85fb_032492921ecbrow0_col0\" class=\"data row0 col0\" >57.74%</td>\n",
       "                        <td id=\"T_4f325696_af65_11e9_85fb_032492921ecbrow0_col1\" class=\"data row0 col1\" >1. Platz</td>\n",
       "                        <td id=\"T_4f325696_af65_11e9_85fb_032492921ecbrow0_col2\" class=\"data row0 col2\" >798,954 €</td>\n",
       "                        <td id=\"T_4f325696_af65_11e9_85fb_032492921ecbrow0_col3\" class=\"data row0 col3\" >(diese)</td>\n",
       "                        <td id=\"T_4f325696_af65_11e9_85fb_032492921ecbrow0_col4\" class=\"data row0 col4\" ><img src=\"UMS_Interpretation_-_instrumental.png\", width=250, height=200/></td>\n",
       "            </tr>\n",
       "            <tr>\n",
       "                        <th id=\"T_4f325696_af65_11e9_85fb_032492921ecblevel0_row1\" class=\"row_heading level0 row1\" >Pädagogik / Vermittlung</th>\n",
       "                        <td id=\"T_4f325696_af65_11e9_85fb_032492921ecbrow1_col0\" class=\"data row1 col0\" >15.12%</td>\n",
       "                        <td id=\"T_4f325696_af65_11e9_85fb_032492921ecbrow1_col1\" class=\"data row1 col1\" >1. Platz</td>\n",
       "                        <td id=\"T_4f325696_af65_11e9_85fb_032492921ecbrow1_col2\" class=\"data row1 col2\" >209,177 €</td>\n",
       "                        <td id=\"T_4f325696_af65_11e9_85fb_032492921ecbrow1_col3\" class=\"data row1 col3\" >(diese)</td>\n",
       "                        <td id=\"T_4f325696_af65_11e9_85fb_032492921ecbrow1_col4\" class=\"data row1 col4\" ><img src=\"UMS_Pädagogik__Vermittlung.png\", width=250, height=200/></td>\n",
       "            </tr>\n",
       "    </tbody></table>"
      ],
      "text/plain": [
       "<IPython.core.display.HTML object>"
      ]
     },
     "metadata": {},
     "output_type": "display_data"
    },
    {
     "data": {
      "text/html": [
       "<h4>Ähnliche Universitäten aufgrund der Drittmittel-Struktur</h3>"
      ],
      "text/plain": [
       "<IPython.core.display.HTML object>"
      ]
     },
     "metadata": {},
     "output_type": "display_data"
    },
    {
     "data": {
      "text/html": [
       "<p>Die Universität Mozarteum Salzburg ist stark spezialisiert.<br/><strong>Keine</strong> andere Universität ähnelt der Universität Mozarteum Salzburg in der Drittmittel-Struktur in auffälliger Weise.</p>"
      ],
      "text/plain": [
       "<IPython.core.display.HTML object>"
      ]
     },
     "metadata": {},
     "output_type": "display_data"
    },
    {
     "data": {
      "text/html": [
       "<p><small>Universitäten mit einer Ähnlichkeit von weniger als 50% werden nicht angezeigt.</small></p>"
      ],
      "text/plain": [
       "<IPython.core.display.HTML object>"
      ]
     },
     "metadata": {},
     "output_type": "display_data"
    },
    {
     "data": {
      "text/html": [
       "<h3>Universität für Weiterbildung Krems</h3>"
      ],
      "text/plain": [
       "<IPython.core.display.HTML object>"
      ]
     },
     "metadata": {},
     "output_type": "display_data"
    },
    {
     "data": {
      "text/html": [
       "<h4>Drittmittel-Struktur</h4>"
      ],
      "text/plain": [
       "<IPython.core.display.HTML object>"
      ]
     },
     "metadata": {},
     "output_type": "display_data"
    },
    {
     "data": {
      "text/html": [
       "Angezeigt werden die gr&ouml;&szlig;ten WZW, die insgesamt mehr als 66.7% der Erl&ouml;se an der Universität für Weiterbildung Krems ausmachen (exakt: 67.1%). Jeder andere WZW tr&auml;gt weniger als 4.9% bei. Die Spalte \"Ranking\" bezieht sich  auf den &ouml;sterreichweiten Vergleich der absoluten Werte im jeweiligen WZW."
      ],
      "text/plain": [
       "<IPython.core.display.HTML object>"
      ]
     },
     "metadata": {},
     "output_type": "display_data"
    },
    {
     "data": {
      "text/html": [
       "<style  type=\"text/css\" >\n",
       "    #T_4fae0d36_af65_11e9_85fb_032492921ecbrow0_col0 {\n",
       "            background-color:  white;\n",
       "        }    #T_4fae0d36_af65_11e9_85fb_032492921ecbrow0_col1 {\n",
       "            background-color:  white;\n",
       "        }    #T_4fae0d36_af65_11e9_85fb_032492921ecbrow0_col2 {\n",
       "            background-color:  white;\n",
       "        }    #T_4fae0d36_af65_11e9_85fb_032492921ecbrow0_col3 {\n",
       "            background-color:  white;\n",
       "        }    #T_4fae0d36_af65_11e9_85fb_032492921ecbrow0_col4 {\n",
       "            background-color:  white;\n",
       "        }    #T_4fae0d36_af65_11e9_85fb_032492921ecbrow1_col0 {\n",
       "            background-color:  white;\n",
       "        }    #T_4fae0d36_af65_11e9_85fb_032492921ecbrow1_col1 {\n",
       "            background-color:  white;\n",
       "        }    #T_4fae0d36_af65_11e9_85fb_032492921ecbrow1_col2 {\n",
       "            background-color:  white;\n",
       "        }    #T_4fae0d36_af65_11e9_85fb_032492921ecbrow1_col3 {\n",
       "            background-color:  white;\n",
       "        }    #T_4fae0d36_af65_11e9_85fb_032492921ecbrow1_col4 {\n",
       "            background-color:  white;\n",
       "        }    #T_4fae0d36_af65_11e9_85fb_032492921ecbrow2_col0 {\n",
       "            background-color:  yellow;\n",
       "        }    #T_4fae0d36_af65_11e9_85fb_032492921ecbrow2_col1 {\n",
       "            background-color:  yellow;\n",
       "        }    #T_4fae0d36_af65_11e9_85fb_032492921ecbrow2_col2 {\n",
       "            background-color:  yellow;\n",
       "        }    #T_4fae0d36_af65_11e9_85fb_032492921ecbrow2_col3 {\n",
       "            background-color:  yellow;\n",
       "        }    #T_4fae0d36_af65_11e9_85fb_032492921ecbrow2_col4 {\n",
       "            background-color:  yellow;\n",
       "        }    #T_4fae0d36_af65_11e9_85fb_032492921ecbrow3_col0 {\n",
       "            background-color:  yellow;\n",
       "        }    #T_4fae0d36_af65_11e9_85fb_032492921ecbrow3_col1 {\n",
       "            background-color:  yellow;\n",
       "        }    #T_4fae0d36_af65_11e9_85fb_032492921ecbrow3_col2 {\n",
       "            background-color:  yellow;\n",
       "        }    #T_4fae0d36_af65_11e9_85fb_032492921ecbrow3_col3 {\n",
       "            background-color:  yellow;\n",
       "        }    #T_4fae0d36_af65_11e9_85fb_032492921ecbrow3_col4 {\n",
       "            background-color:  yellow;\n",
       "        }    #T_4fae0d36_af65_11e9_85fb_032492921ecbrow4_col0 {\n",
       "            background-color:  white;\n",
       "        }    #T_4fae0d36_af65_11e9_85fb_032492921ecbrow4_col1 {\n",
       "            background-color:  white;\n",
       "        }    #T_4fae0d36_af65_11e9_85fb_032492921ecbrow4_col2 {\n",
       "            background-color:  white;\n",
       "        }    #T_4fae0d36_af65_11e9_85fb_032492921ecbrow4_col3 {\n",
       "            background-color:  white;\n",
       "        }    #T_4fae0d36_af65_11e9_85fb_032492921ecbrow4_col4 {\n",
       "            background-color:  white;\n",
       "        }    #T_4fae0d36_af65_11e9_85fb_032492921ecbrow5_col0 {\n",
       "            background-color:  white;\n",
       "        }    #T_4fae0d36_af65_11e9_85fb_032492921ecbrow5_col1 {\n",
       "            background-color:  white;\n",
       "        }    #T_4fae0d36_af65_11e9_85fb_032492921ecbrow5_col2 {\n",
       "            background-color:  white;\n",
       "        }    #T_4fae0d36_af65_11e9_85fb_032492921ecbrow5_col3 {\n",
       "            background-color:  white;\n",
       "        }    #T_4fae0d36_af65_11e9_85fb_032492921ecbrow5_col4 {\n",
       "            background-color:  white;\n",
       "        }    #T_4fae0d36_af65_11e9_85fb_032492921ecbrow6_col0 {\n",
       "            background-color:  white;\n",
       "        }    #T_4fae0d36_af65_11e9_85fb_032492921ecbrow6_col1 {\n",
       "            background-color:  white;\n",
       "        }    #T_4fae0d36_af65_11e9_85fb_032492921ecbrow6_col2 {\n",
       "            background-color:  white;\n",
       "        }    #T_4fae0d36_af65_11e9_85fb_032492921ecbrow6_col3 {\n",
       "            background-color:  white;\n",
       "        }    #T_4fae0d36_af65_11e9_85fb_032492921ecbrow6_col4 {\n",
       "            background-color:  white;\n",
       "        }    #T_4fae0d36_af65_11e9_85fb_032492921ecbrow7_col0 {\n",
       "            background-color:  white;\n",
       "        }    #T_4fae0d36_af65_11e9_85fb_032492921ecbrow7_col1 {\n",
       "            background-color:  white;\n",
       "        }    #T_4fae0d36_af65_11e9_85fb_032492921ecbrow7_col2 {\n",
       "            background-color:  white;\n",
       "        }    #T_4fae0d36_af65_11e9_85fb_032492921ecbrow7_col3 {\n",
       "            background-color:  white;\n",
       "        }    #T_4fae0d36_af65_11e9_85fb_032492921ecbrow7_col4 {\n",
       "            background-color:  white;\n",
       "        }    #T_4fae0d36_af65_11e9_85fb_032492921ecbrow8_col0 {\n",
       "            background-color:  white;\n",
       "        }    #T_4fae0d36_af65_11e9_85fb_032492921ecbrow8_col1 {\n",
       "            background-color:  white;\n",
       "        }    #T_4fae0d36_af65_11e9_85fb_032492921ecbrow8_col2 {\n",
       "            background-color:  white;\n",
       "        }    #T_4fae0d36_af65_11e9_85fb_032492921ecbrow8_col3 {\n",
       "            background-color:  white;\n",
       "        }    #T_4fae0d36_af65_11e9_85fb_032492921ecbrow8_col4 {\n",
       "            background-color:  white;\n",
       "        }</style><table id=\"T_4fae0d36_af65_11e9_85fb_032492921ecb\" ><thead>    <tr>        <th class=\"blank level0\" ></th>        <th class=\"col_heading level0 col0\" >Intern</th>        <th class=\"col_heading level0 col1\" >Ranking</th>        <th class=\"col_heading level0 col2\" >Erlöse</th>        <th class=\"col_heading level0 col3\" >Beste Universität</th>        <th class=\"col_heading level0 col4\" >Universität im Vergleich</th>    </tr>    <tr>        <th class=\"index_name level0\" >WZW</th>        <th class=\"blank\" ></th>        <th class=\"blank\" ></th>        <th class=\"blank\" ></th>        <th class=\"blank\" ></th>        <th class=\"blank\" ></th>    </tr></thead><tbody>\n",
       "                <tr>\n",
       "                        <th id=\"T_4fae0d36_af65_11e9_85fb_032492921ecblevel0_row0\" class=\"row_heading level0 row0\" >Gesundheitswissenschaften</th>\n",
       "                        <td id=\"T_4fae0d36_af65_11e9_85fb_032492921ecbrow0_col0\" class=\"data row0 col0\" >12.08%</td>\n",
       "                        <td id=\"T_4fae0d36_af65_11e9_85fb_032492921ecbrow0_col1\" class=\"data row0 col1\" >5. Platz</td>\n",
       "                        <td id=\"T_4fae0d36_af65_11e9_85fb_032492921ecbrow0_col2\" class=\"data row0 col2\" >798,348 €</td>\n",
       "                        <td id=\"T_4fae0d36_af65_11e9_85fb_032492921ecbrow0_col3\" class=\"data row0 col3\" >Medizinische Universität Wien (10.6 Mio. €)</td>\n",
       "                        <td id=\"T_4fae0d36_af65_11e9_85fb_032492921ecbrow0_col4\" class=\"data row0 col4\" ><img src=\"UWK_Gesundheitswissenschaften.png\", width=250, height=200/></td>\n",
       "            </tr>\n",
       "            <tr>\n",
       "                        <th id=\"T_4fae0d36_af65_11e9_85fb_032492921ecblevel0_row1\" class=\"row_heading level0 row1\" >Elektrotechnik, Elektronik, Informationstechnik</th>\n",
       "                        <td id=\"T_4fae0d36_af65_11e9_85fb_032492921ecbrow1_col0\" class=\"data row1 col0\" >10.64%</td>\n",
       "                        <td id=\"T_4fae0d36_af65_11e9_85fb_032492921ecbrow1_col1\" class=\"data row1 col1\" >5. Platz</td>\n",
       "                        <td id=\"T_4fae0d36_af65_11e9_85fb_032492921ecbrow1_col2\" class=\"data row1 col2\" >702,906 €</td>\n",
       "                        <td id=\"T_4fae0d36_af65_11e9_85fb_032492921ecbrow1_col3\" class=\"data row1 col3\" >Technische Universität Wien (16.0 Mio. €)</td>\n",
       "                        <td id=\"T_4fae0d36_af65_11e9_85fb_032492921ecbrow1_col4\" class=\"data row1 col4\" ><img src=\"UWK_Elektrotechnik_Elektronik_Informationstechnik.png\", width=250, height=200/></td>\n",
       "            </tr>\n",
       "            <tr>\n",
       "                        <th id=\"T_4fae0d36_af65_11e9_85fb_032492921ecblevel0_row2\" class=\"row_heading level0 row2\" >Politikwissenschaften</th>\n",
       "                        <td id=\"T_4fae0d36_af65_11e9_85fb_032492921ecbrow2_col0\" class=\"data row2 col0\" >8.56%</td>\n",
       "                        <td id=\"T_4fae0d36_af65_11e9_85fb_032492921ecbrow2_col1\" class=\"data row2 col1\" >2. Platz</td>\n",
       "                        <td id=\"T_4fae0d36_af65_11e9_85fb_032492921ecbrow2_col2\" class=\"data row2 col2\" >565,392 €</td>\n",
       "                        <td id=\"T_4fae0d36_af65_11e9_85fb_032492921ecbrow2_col3\" class=\"data row2 col3\" >Universität Wien (1.6 Mio. €)</td>\n",
       "                        <td id=\"T_4fae0d36_af65_11e9_85fb_032492921ecbrow2_col4\" class=\"data row2 col4\" ><img src=\"UWK_Politikwissenschaften.png\", width=250, height=200/></td>\n",
       "            </tr>\n",
       "            <tr>\n",
       "                        <th id=\"T_4fae0d36_af65_11e9_85fb_032492921ecblevel0_row3\" class=\"row_heading level0 row3\" >Medizinische Biotechnologie</th>\n",
       "                        <td id=\"T_4fae0d36_af65_11e9_85fb_032492921ecbrow3_col0\" class=\"data row3 col0\" >7.35%</td>\n",
       "                        <td id=\"T_4fae0d36_af65_11e9_85fb_032492921ecbrow3_col1\" class=\"data row3 col1\" >3. Platz</td>\n",
       "                        <td id=\"T_4fae0d36_af65_11e9_85fb_032492921ecbrow3_col2\" class=\"data row3 col2\" >485,534 €</td>\n",
       "                        <td id=\"T_4fae0d36_af65_11e9_85fb_032492921ecbrow3_col3\" class=\"data row3 col3\" >Universität für Bodenkultur Wien (1.4 Mio. €)</td>\n",
       "                        <td id=\"T_4fae0d36_af65_11e9_85fb_032492921ecbrow3_col4\" class=\"data row3 col4\" ><img src=\"UWK_Medizinische_Biotechnologie.png\", width=250, height=200/></td>\n",
       "            </tr>\n",
       "            <tr>\n",
       "                        <th id=\"T_4fae0d36_af65_11e9_85fb_032492921ecblevel0_row4\" class=\"row_heading level0 row4\" >Physik, Astronomie</th>\n",
       "                        <td id=\"T_4fae0d36_af65_11e9_85fb_032492921ecbrow4_col0\" class=\"data row4 col0\" >6.08%</td>\n",
       "                        <td id=\"T_4fae0d36_af65_11e9_85fb_032492921ecbrow4_col1\" class=\"data row4 col1\" >10. Platz</td>\n",
       "                        <td id=\"T_4fae0d36_af65_11e9_85fb_032492921ecbrow4_col2\" class=\"data row4 col2\" >401,762 €</td>\n",
       "                        <td id=\"T_4fae0d36_af65_11e9_85fb_032492921ecbrow4_col3\" class=\"data row4 col3\" >Technische Universität Wien (13.4 Mio. €)</td>\n",
       "                        <td id=\"T_4fae0d36_af65_11e9_85fb_032492921ecbrow4_col4\" class=\"data row4 col4\" ><img src=\"UWK_Physik_Astronomie.png\", width=250, height=200/></td>\n",
       "            </tr>\n",
       "            <tr>\n",
       "                        <th id=\"T_4fae0d36_af65_11e9_85fb_032492921ecblevel0_row5\" class=\"row_heading level0 row5\" >Andere Sozialwissenschaften</th>\n",
       "                        <td id=\"T_4fae0d36_af65_11e9_85fb_032492921ecbrow5_col0\" class=\"data row5 col0\" >6.07%</td>\n",
       "                        <td id=\"T_4fae0d36_af65_11e9_85fb_032492921ecbrow5_col1\" class=\"data row5 col1\" >5. Platz</td>\n",
       "                        <td id=\"T_4fae0d36_af65_11e9_85fb_032492921ecbrow5_col2\" class=\"data row5 col2\" >400,931 €</td>\n",
       "                        <td id=\"T_4fae0d36_af65_11e9_85fb_032492921ecbrow5_col3\" class=\"data row5 col3\" >Universität Wien (1.1 Mio. €)</td>\n",
       "                        <td id=\"T_4fae0d36_af65_11e9_85fb_032492921ecbrow5_col4\" class=\"data row5 col4\" ><img src=\"UWK_Andere_Sozialwissenschaften.png\", width=250, height=200/></td>\n",
       "            </tr>\n",
       "            <tr>\n",
       "                        <th id=\"T_4fae0d36_af65_11e9_85fb_032492921ecblevel0_row6\" class=\"row_heading level0 row6\" >Andere Humanmedizin, Gesundheitswissenschaften</th>\n",
       "                        <td id=\"T_4fae0d36_af65_11e9_85fb_032492921ecbrow6_col0\" class=\"data row6 col0\" >6.03%</td>\n",
       "                        <td id=\"T_4fae0d36_af65_11e9_85fb_032492921ecbrow6_col1\" class=\"data row6 col1\" >5. Platz</td>\n",
       "                        <td id=\"T_4fae0d36_af65_11e9_85fb_032492921ecbrow6_col2\" class=\"data row6 col2\" >398,633 €</td>\n",
       "                        <td id=\"T_4fae0d36_af65_11e9_85fb_032492921ecbrow6_col3\" class=\"data row6 col3\" >Medizinische Universität Innsbruck (9.9 Mio. €)</td>\n",
       "                        <td id=\"T_4fae0d36_af65_11e9_85fb_032492921ecbrow6_col4\" class=\"data row6 col4\" ><img src=\"UWK_Andere_Humanmedizin_Gesundheitswissenschaften.png\", width=250, height=200/></td>\n",
       "            </tr>\n",
       "            <tr>\n",
       "                        <th id=\"T_4fae0d36_af65_11e9_85fb_032492921ecblevel0_row7\" class=\"row_heading level0 row7\" >Informatik</th>\n",
       "                        <td id=\"T_4fae0d36_af65_11e9_85fb_032492921ecbrow7_col0\" class=\"data row7 col0\" >5.38%</td>\n",
       "                        <td id=\"T_4fae0d36_af65_11e9_85fb_032492921ecbrow7_col1\" class=\"data row7 col1\" >11. Platz</td>\n",
       "                        <td id=\"T_4fae0d36_af65_11e9_85fb_032492921ecbrow7_col2\" class=\"data row7 col2\" >355,582 €</td>\n",
       "                        <td id=\"T_4fae0d36_af65_11e9_85fb_032492921ecbrow7_col3\" class=\"data row7 col3\" >Technische Universität Wien (10.6 Mio. €)</td>\n",
       "                        <td id=\"T_4fae0d36_af65_11e9_85fb_032492921ecbrow7_col4\" class=\"data row7 col4\" ><img src=\"UWK_Informatik.png\", width=250, height=200/></td>\n",
       "            </tr>\n",
       "            <tr>\n",
       "                        <th id=\"T_4fae0d36_af65_11e9_85fb_032492921ecblevel0_row8\" class=\"row_heading level0 row8\" >Bauwesen</th>\n",
       "                        <td id=\"T_4fae0d36_af65_11e9_85fb_032492921ecbrow8_col0\" class=\"data row8 col0\" >4.90%</td>\n",
       "                        <td id=\"T_4fae0d36_af65_11e9_85fb_032492921ecbrow8_col1\" class=\"data row8 col1\" >6. Platz</td>\n",
       "                        <td id=\"T_4fae0d36_af65_11e9_85fb_032492921ecbrow8_col2\" class=\"data row8 col2\" >323,508 €</td>\n",
       "                        <td id=\"T_4fae0d36_af65_11e9_85fb_032492921ecbrow8_col3\" class=\"data row8 col3\" >Technische Universität Graz (9.4 Mio. €)</td>\n",
       "                        <td id=\"T_4fae0d36_af65_11e9_85fb_032492921ecbrow8_col4\" class=\"data row8 col4\" ><img src=\"UWK_Bauwesen.png\", width=250, height=200/></td>\n",
       "            </tr>\n",
       "    </tbody></table>"
      ],
      "text/plain": [
       "<IPython.core.display.HTML object>"
      ]
     },
     "metadata": {},
     "output_type": "display_data"
    },
    {
     "data": {
      "text/html": [
       "<h4>Ähnliche Universitäten aufgrund der Drittmittel-Struktur</h3>"
      ],
      "text/plain": [
       "<IPython.core.display.HTML object>"
      ]
     },
     "metadata": {},
     "output_type": "display_data"
    },
    {
     "data": {
      "text/html": [
       "<p>Die Universität für Weiterbildung Krems ist stark spezialisiert.<br/><strong>Keine</strong> andere Universität ähnelt der Universität für Weiterbildung Krems in der Drittmittel-Struktur in auffälliger Weise.</p>"
      ],
      "text/plain": [
       "<IPython.core.display.HTML object>"
      ]
     },
     "metadata": {},
     "output_type": "display_data"
    },
    {
     "data": {
      "text/html": [
       "<p><small>Universitäten mit einer Ähnlichkeit von weniger als 50% werden nicht angezeigt.</small></p>"
      ],
      "text/plain": [
       "<IPython.core.display.HTML object>"
      ]
     },
     "metadata": {},
     "output_type": "display_data"
    },
    {
     "data": {
      "text/html": [
       "<h3>Medizinische Universität Graz</h3>"
      ],
      "text/plain": [
       "<IPython.core.display.HTML object>"
      ]
     },
     "metadata": {},
     "output_type": "display_data"
    },
    {
     "data": {
      "text/html": [
       "<h4>Drittmittel-Struktur</h4>"
      ],
      "text/plain": [
       "<IPython.core.display.HTML object>"
      ]
     },
     "metadata": {},
     "output_type": "display_data"
    },
    {
     "data": {
      "text/html": [
       "Angezeigt werden die gr&ouml;&szlig;ten WZW, die insgesamt mehr als 66.7% der Erl&ouml;se an der Medizinische Universität Graz ausmachen (exakt: 67.9%). Jeder andere WZW tr&auml;gt weniger als 32.1% bei. Die Spalte \"Ranking\" bezieht sich  auf den &ouml;sterreichweiten Vergleich der absoluten Werte im jeweiligen WZW."
      ],
      "text/plain": [
       "<IPython.core.display.HTML object>"
      ]
     },
     "metadata": {},
     "output_type": "display_data"
    },
    {
     "data": {
      "text/html": [
       "<style  type=\"text/css\" >\n",
       "    #T_4fc2e53a_af65_11e9_85fb_032492921ecbrow0_col0 {\n",
       "            background-color:  green;\n",
       "        }    #T_4fc2e53a_af65_11e9_85fb_032492921ecbrow0_col1 {\n",
       "            background-color:  green;\n",
       "        }    #T_4fc2e53a_af65_11e9_85fb_032492921ecbrow0_col2 {\n",
       "            background-color:  green;\n",
       "        }    #T_4fc2e53a_af65_11e9_85fb_032492921ecbrow0_col3 {\n",
       "            background-color:  green;\n",
       "        }    #T_4fc2e53a_af65_11e9_85fb_032492921ecbrow0_col4 {\n",
       "            background-color:  green;\n",
       "        }</style><table id=\"T_4fc2e53a_af65_11e9_85fb_032492921ecb\" ><thead>    <tr>        <th class=\"blank level0\" ></th>        <th class=\"col_heading level0 col0\" >Intern</th>        <th class=\"col_heading level0 col1\" >Ranking</th>        <th class=\"col_heading level0 col2\" >Erlöse</th>        <th class=\"col_heading level0 col3\" >Beste Universität</th>        <th class=\"col_heading level0 col4\" >Universität im Vergleich</th>    </tr>    <tr>        <th class=\"index_name level0\" >WZW</th>        <th class=\"blank\" ></th>        <th class=\"blank\" ></th>        <th class=\"blank\" ></th>        <th class=\"blank\" ></th>        <th class=\"blank\" ></th>    </tr></thead><tbody>\n",
       "                <tr>\n",
       "                        <th id=\"T_4fc2e53a_af65_11e9_85fb_032492921ecblevel0_row0\" class=\"row_heading level0 row0\" >Medizinisch-theoretische Wissenschaften, Pharmazie</th>\n",
       "                        <td id=\"T_4fc2e53a_af65_11e9_85fb_032492921ecbrow0_col0\" class=\"data row0 col0\" >67.87%</td>\n",
       "                        <td id=\"T_4fc2e53a_af65_11e9_85fb_032492921ecbrow0_col1\" class=\"data row0 col1\" >1. Platz</td>\n",
       "                        <td id=\"T_4fc2e53a_af65_11e9_85fb_032492921ecbrow0_col2\" class=\"data row0 col2\" >34,148,791 €</td>\n",
       "                        <td id=\"T_4fc2e53a_af65_11e9_85fb_032492921ecbrow0_col3\" class=\"data row0 col3\" >(diese)</td>\n",
       "                        <td id=\"T_4fc2e53a_af65_11e9_85fb_032492921ecbrow0_col4\" class=\"data row0 col4\" ><img src=\"MUG_Medizinisch-theoretische_Wissenschaften_Pharmazie.png\", width=250, height=200/></td>\n",
       "            </tr>\n",
       "    </tbody></table>"
      ],
      "text/plain": [
       "<IPython.core.display.HTML object>"
      ]
     },
     "metadata": {},
     "output_type": "display_data"
    },
    {
     "data": {
      "text/html": [
       "<h4>Ähnliche Universitäten aufgrund der Drittmittel-Struktur</h3>"
      ],
      "text/plain": [
       "<IPython.core.display.HTML object>"
      ]
     },
     "metadata": {},
     "output_type": "display_data"
    },
    {
     "data": {
      "text/html": [
       "<p>Die Medizinische Universität Graz ist stark spezialisiert.<br/><strong>Keine</strong> andere Universität ähnelt der Medizinische Universität Graz in der Drittmittel-Struktur in auffälliger Weise.</p>"
      ],
      "text/plain": [
       "<IPython.core.display.HTML object>"
      ]
     },
     "metadata": {},
     "output_type": "display_data"
    },
    {
     "data": {
      "text/html": [
       "<p><small>Universitäten mit einer Ähnlichkeit von weniger als 50% werden nicht angezeigt.</small></p>"
      ],
      "text/plain": [
       "<IPython.core.display.HTML object>"
      ]
     },
     "metadata": {},
     "output_type": "display_data"
    },
    {
     "data": {
      "text/html": [
       "<h3>Medizinische Universität Innsbruck</h3>"
      ],
      "text/plain": [
       "<IPython.core.display.HTML object>"
      ]
     },
     "metadata": {},
     "output_type": "display_data"
    },
    {
     "data": {
      "text/html": [
       "<h4>Drittmittel-Struktur</h4>"
      ],
      "text/plain": [
       "<IPython.core.display.HTML object>"
      ]
     },
     "metadata": {},
     "output_type": "display_data"
    },
    {
     "data": {
      "text/html": [
       "Angezeigt werden die gr&ouml;&szlig;ten WZW, die insgesamt mehr als 66.7% der Erl&ouml;se an der Medizinische Universität Innsbruck ausmachen (exakt: 76.8%). Jeder andere WZW tr&auml;gt weniger als 22.5% bei. Die Spalte \"Ranking\" bezieht sich  auf den &ouml;sterreichweiten Vergleich der absoluten Werte im jeweiligen WZW."
      ],
      "text/plain": [
       "<IPython.core.display.HTML object>"
      ]
     },
     "metadata": {},
     "output_type": "display_data"
    },
    {
     "data": {
      "text/html": [
       "<style  type=\"text/css\" >\n",
       "    #T_4feb5bb4_af65_11e9_85fb_032492921ecbrow0_col0 {\n",
       "            background-color:  yellow;\n",
       "        }    #T_4feb5bb4_af65_11e9_85fb_032492921ecbrow0_col1 {\n",
       "            background-color:  yellow;\n",
       "        }    #T_4feb5bb4_af65_11e9_85fb_032492921ecbrow0_col2 {\n",
       "            background-color:  yellow;\n",
       "        }    #T_4feb5bb4_af65_11e9_85fb_032492921ecbrow0_col3 {\n",
       "            background-color:  yellow;\n",
       "        }    #T_4feb5bb4_af65_11e9_85fb_032492921ecbrow0_col4 {\n",
       "            background-color:  yellow;\n",
       "        }    #T_4feb5bb4_af65_11e9_85fb_032492921ecbrow1_col0 {\n",
       "            background-color:  green;\n",
       "        }    #T_4feb5bb4_af65_11e9_85fb_032492921ecbrow1_col1 {\n",
       "            background-color:  green;\n",
       "        }    #T_4feb5bb4_af65_11e9_85fb_032492921ecbrow1_col2 {\n",
       "            background-color:  green;\n",
       "        }    #T_4feb5bb4_af65_11e9_85fb_032492921ecbrow1_col3 {\n",
       "            background-color:  green;\n",
       "        }    #T_4feb5bb4_af65_11e9_85fb_032492921ecbrow1_col4 {\n",
       "            background-color:  green;\n",
       "        }    #T_4feb5bb4_af65_11e9_85fb_032492921ecbrow2_col0 {\n",
       "            background-color:  yellow;\n",
       "        }    #T_4feb5bb4_af65_11e9_85fb_032492921ecbrow2_col1 {\n",
       "            background-color:  yellow;\n",
       "        }    #T_4feb5bb4_af65_11e9_85fb_032492921ecbrow2_col2 {\n",
       "            background-color:  yellow;\n",
       "        }    #T_4feb5bb4_af65_11e9_85fb_032492921ecbrow2_col3 {\n",
       "            background-color:  yellow;\n",
       "        }    #T_4feb5bb4_af65_11e9_85fb_032492921ecbrow2_col4 {\n",
       "            background-color:  yellow;\n",
       "        }</style><table id=\"T_4feb5bb4_af65_11e9_85fb_032492921ecb\" ><thead>    <tr>        <th class=\"blank level0\" ></th>        <th class=\"col_heading level0 col0\" >Intern</th>        <th class=\"col_heading level0 col1\" >Ranking</th>        <th class=\"col_heading level0 col2\" >Erlöse</th>        <th class=\"col_heading level0 col3\" >Beste Universität</th>        <th class=\"col_heading level0 col4\" >Universität im Vergleich</th>    </tr>    <tr>        <th class=\"index_name level0\" >WZW</th>        <th class=\"blank\" ></th>        <th class=\"blank\" ></th>        <th class=\"blank\" ></th>        <th class=\"blank\" ></th>        <th class=\"blank\" ></th>    </tr></thead><tbody>\n",
       "                <tr>\n",
       "                        <th id=\"T_4feb5bb4_af65_11e9_85fb_032492921ecblevel0_row0\" class=\"row_heading level0 row0\" >Klinische Medizin</th>\n",
       "                        <td id=\"T_4feb5bb4_af65_11e9_85fb_032492921ecbrow0_col0\" class=\"data row0 col0\" >30.75%</td>\n",
       "                        <td id=\"T_4feb5bb4_af65_11e9_85fb_032492921ecbrow0_col1\" class=\"data row0 col1\" >2. Platz</td>\n",
       "                        <td id=\"T_4feb5bb4_af65_11e9_85fb_032492921ecbrow0_col2\" class=\"data row0 col2\" >12,965,389 €</td>\n",
       "                        <td id=\"T_4feb5bb4_af65_11e9_85fb_032492921ecbrow0_col3\" class=\"data row0 col3\" >Medizinische Universität Wien (58.4 Mio. €)</td>\n",
       "                        <td id=\"T_4feb5bb4_af65_11e9_85fb_032492921ecbrow0_col4\" class=\"data row0 col4\" ><img src=\"MUI_Klinische_Medizin.png\", width=250, height=200/></td>\n",
       "            </tr>\n",
       "            <tr>\n",
       "                        <th id=\"T_4feb5bb4_af65_11e9_85fb_032492921ecblevel0_row1\" class=\"row_heading level0 row1\" >Andere Humanmedizin, Gesundheitswissenschaften</th>\n",
       "                        <td id=\"T_4feb5bb4_af65_11e9_85fb_032492921ecbrow1_col0\" class=\"data row1 col0\" >23.53%</td>\n",
       "                        <td id=\"T_4feb5bb4_af65_11e9_85fb_032492921ecbrow1_col1\" class=\"data row1 col1\" >1. Platz</td>\n",
       "                        <td id=\"T_4feb5bb4_af65_11e9_85fb_032492921ecbrow1_col2\" class=\"data row1 col2\" >9,920,350 €</td>\n",
       "                        <td id=\"T_4feb5bb4_af65_11e9_85fb_032492921ecbrow1_col3\" class=\"data row1 col3\" >(diese)</td>\n",
       "                        <td id=\"T_4feb5bb4_af65_11e9_85fb_032492921ecbrow1_col4\" class=\"data row1 col4\" ><img src=\"MUI_Andere_Humanmedizin_Gesundheitswissenschaften.png\", width=250, height=200/></td>\n",
       "            </tr>\n",
       "            <tr>\n",
       "                        <th id=\"T_4feb5bb4_af65_11e9_85fb_032492921ecblevel0_row2\" class=\"row_heading level0 row2\" >Gesundheitswissenschaften</th>\n",
       "                        <td id=\"T_4feb5bb4_af65_11e9_85fb_032492921ecbrow2_col0\" class=\"data row2 col0\" >22.54%</td>\n",
       "                        <td id=\"T_4feb5bb4_af65_11e9_85fb_032492921ecbrow2_col1\" class=\"data row2 col1\" >2. Platz</td>\n",
       "                        <td id=\"T_4feb5bb4_af65_11e9_85fb_032492921ecbrow2_col2\" class=\"data row2 col2\" >9,502,940 €</td>\n",
       "                        <td id=\"T_4feb5bb4_af65_11e9_85fb_032492921ecbrow2_col3\" class=\"data row2 col3\" >Medizinische Universität Wien (10.6 Mio. €)</td>\n",
       "                        <td id=\"T_4feb5bb4_af65_11e9_85fb_032492921ecbrow2_col4\" class=\"data row2 col4\" ><img src=\"MUI_Gesundheitswissenschaften.png\", width=250, height=200/></td>\n",
       "            </tr>\n",
       "    </tbody></table>"
      ],
      "text/plain": [
       "<IPython.core.display.HTML object>"
      ]
     },
     "metadata": {},
     "output_type": "display_data"
    },
    {
     "data": {
      "text/html": [
       "<h4>Ähnliche Universitäten aufgrund der Drittmittel-Struktur</h3>"
      ],
      "text/plain": [
       "<IPython.core.display.HTML object>"
      ]
     },
     "metadata": {},
     "output_type": "display_data"
    },
    {
     "data": {
      "text/html": [
       "<p><strong>MUW</strong> (60.9%, wegen &auml;hnlicher Relevanz von Klinische Medizin, Medizinisch-theoretische Wissenschaften, Pharmazie, Gesundheitswissenschaften)</p>"
      ],
      "text/plain": [
       "<IPython.core.display.HTML object>"
      ]
     },
     "metadata": {},
     "output_type": "display_data"
    },
    {
     "data": {
      "text/html": [
       "<p><small>Universitäten mit einer Ähnlichkeit von weniger als 50% werden nicht angezeigt.</small></p>"
      ],
      "text/plain": [
       "<IPython.core.display.HTML object>"
      ]
     },
     "metadata": {},
     "output_type": "display_data"
    },
    {
     "data": {
      "text/html": [
       "<h3>Universität Salzburg</h3>"
      ],
      "text/plain": [
       "<IPython.core.display.HTML object>"
      ]
     },
     "metadata": {},
     "output_type": "display_data"
    },
    {
     "data": {
      "text/html": [
       "<h4>Drittmittel-Struktur</h4>"
      ],
      "text/plain": [
       "<IPython.core.display.HTML object>"
      ]
     },
     "metadata": {},
     "output_type": "display_data"
    },
    {
     "data": {
      "text/html": [
       "Angezeigt werden die gr&ouml;&szlig;ten WZW, die insgesamt mehr als 66.7% der Erl&ouml;se an der Universität Salzburg ausmachen (exakt: 68.6%). Jeder andere WZW tr&auml;gt weniger als 5.1% bei. Die Spalte \"Ranking\" bezieht sich  auf den &ouml;sterreichweiten Vergleich der absoluten Werte im jeweiligen WZW."
      ],
      "text/plain": [
       "<IPython.core.display.HTML object>"
      ]
     },
     "metadata": {},
     "output_type": "display_data"
    },
    {
     "data": {
      "text/html": [
       "<style  type=\"text/css\" >\n",
       "    #T_503c091a_af65_11e9_85fb_032492921ecbrow0_col0 {\n",
       "            background-color:  white;\n",
       "        }    #T_503c091a_af65_11e9_85fb_032492921ecbrow0_col1 {\n",
       "            background-color:  white;\n",
       "        }    #T_503c091a_af65_11e9_85fb_032492921ecbrow0_col2 {\n",
       "            background-color:  white;\n",
       "        }    #T_503c091a_af65_11e9_85fb_032492921ecbrow0_col3 {\n",
       "            background-color:  white;\n",
       "        }    #T_503c091a_af65_11e9_85fb_032492921ecbrow0_col4 {\n",
       "            background-color:  white;\n",
       "        }    #T_503c091a_af65_11e9_85fb_032492921ecbrow1_col0 {\n",
       "            background-color:  green;\n",
       "        }    #T_503c091a_af65_11e9_85fb_032492921ecbrow1_col1 {\n",
       "            background-color:  green;\n",
       "        }    #T_503c091a_af65_11e9_85fb_032492921ecbrow1_col2 {\n",
       "            background-color:  green;\n",
       "        }    #T_503c091a_af65_11e9_85fb_032492921ecbrow1_col3 {\n",
       "            background-color:  green;\n",
       "        }    #T_503c091a_af65_11e9_85fb_032492921ecbrow1_col4 {\n",
       "            background-color:  green;\n",
       "        }    #T_503c091a_af65_11e9_85fb_032492921ecbrow2_col0 {\n",
       "            background-color:  white;\n",
       "        }    #T_503c091a_af65_11e9_85fb_032492921ecbrow2_col1 {\n",
       "            background-color:  white;\n",
       "        }    #T_503c091a_af65_11e9_85fb_032492921ecbrow2_col2 {\n",
       "            background-color:  white;\n",
       "        }    #T_503c091a_af65_11e9_85fb_032492921ecbrow2_col3 {\n",
       "            background-color:  white;\n",
       "        }    #T_503c091a_af65_11e9_85fb_032492921ecbrow2_col4 {\n",
       "            background-color:  white;\n",
       "        }    #T_503c091a_af65_11e9_85fb_032492921ecbrow3_col0 {\n",
       "            background-color:  white;\n",
       "        }    #T_503c091a_af65_11e9_85fb_032492921ecbrow3_col1 {\n",
       "            background-color:  white;\n",
       "        }    #T_503c091a_af65_11e9_85fb_032492921ecbrow3_col2 {\n",
       "            background-color:  white;\n",
       "        }    #T_503c091a_af65_11e9_85fb_032492921ecbrow3_col3 {\n",
       "            background-color:  white;\n",
       "        }    #T_503c091a_af65_11e9_85fb_032492921ecbrow3_col4 {\n",
       "            background-color:  white;\n",
       "        }    #T_503c091a_af65_11e9_85fb_032492921ecbrow4_col0 {\n",
       "            background-color:  white;\n",
       "        }    #T_503c091a_af65_11e9_85fb_032492921ecbrow4_col1 {\n",
       "            background-color:  white;\n",
       "        }    #T_503c091a_af65_11e9_85fb_032492921ecbrow4_col2 {\n",
       "            background-color:  white;\n",
       "        }    #T_503c091a_af65_11e9_85fb_032492921ecbrow4_col3 {\n",
       "            background-color:  white;\n",
       "        }    #T_503c091a_af65_11e9_85fb_032492921ecbrow4_col4 {\n",
       "            background-color:  white;\n",
       "        }    #T_503c091a_af65_11e9_85fb_032492921ecbrow5_col0 {\n",
       "            background-color:  white;\n",
       "        }    #T_503c091a_af65_11e9_85fb_032492921ecbrow5_col1 {\n",
       "            background-color:  white;\n",
       "        }    #T_503c091a_af65_11e9_85fb_032492921ecbrow5_col2 {\n",
       "            background-color:  white;\n",
       "        }    #T_503c091a_af65_11e9_85fb_032492921ecbrow5_col3 {\n",
       "            background-color:  white;\n",
       "        }    #T_503c091a_af65_11e9_85fb_032492921ecbrow5_col4 {\n",
       "            background-color:  white;\n",
       "        }</style><table id=\"T_503c091a_af65_11e9_85fb_032492921ecb\" ><thead>    <tr>        <th class=\"blank level0\" ></th>        <th class=\"col_heading level0 col0\" >Intern</th>        <th class=\"col_heading level0 col1\" >Ranking</th>        <th class=\"col_heading level0 col2\" >Erlöse</th>        <th class=\"col_heading level0 col3\" >Beste Universität</th>        <th class=\"col_heading level0 col4\" >Universität im Vergleich</th>    </tr>    <tr>        <th class=\"index_name level0\" >WZW</th>        <th class=\"blank\" ></th>        <th class=\"blank\" ></th>        <th class=\"blank\" ></th>        <th class=\"blank\" ></th>        <th class=\"blank\" ></th>    </tr></thead><tbody>\n",
       "                <tr>\n",
       "                        <th id=\"T_503c091a_af65_11e9_85fb_032492921ecblevel0_row0\" class=\"row_heading level0 row0\" >Biologie</th>\n",
       "                        <td id=\"T_503c091a_af65_11e9_85fb_032492921ecbrow0_col0\" class=\"data row0 col0\" >22.69%</td>\n",
       "                        <td id=\"T_503c091a_af65_11e9_85fb_032492921ecbrow0_col1\" class=\"data row0 col1\" >6. Platz</td>\n",
       "                        <td id=\"T_503c091a_af65_11e9_85fb_032492921ecbrow0_col2\" class=\"data row0 col2\" >4,316,505 €</td>\n",
       "                        <td id=\"T_503c091a_af65_11e9_85fb_032492921ecbrow0_col3\" class=\"data row0 col3\" >Universität Wien (17.0 Mio. €)</td>\n",
       "                        <td id=\"T_503c091a_af65_11e9_85fb_032492921ecbrow0_col4\" class=\"data row0 col4\" ><img src=\"USA_Biologie.png\", width=250, height=200/></td>\n",
       "            </tr>\n",
       "            <tr>\n",
       "                        <th id=\"T_503c091a_af65_11e9_85fb_032492921ecblevel0_row1\" class=\"row_heading level0 row1\" >Geowissenschaften</th>\n",
       "                        <td id=\"T_503c091a_af65_11e9_85fb_032492921ecbrow1_col0\" class=\"data row1 col0\" >19.27%</td>\n",
       "                        <td id=\"T_503c091a_af65_11e9_85fb_032492921ecbrow1_col1\" class=\"data row1 col1\" >1. Platz</td>\n",
       "                        <td id=\"T_503c091a_af65_11e9_85fb_032492921ecbrow1_col2\" class=\"data row1 col2\" >3,666,505 €</td>\n",
       "                        <td id=\"T_503c091a_af65_11e9_85fb_032492921ecbrow1_col3\" class=\"data row1 col3\" >(diese)</td>\n",
       "                        <td id=\"T_503c091a_af65_11e9_85fb_032492921ecbrow1_col4\" class=\"data row1 col4\" ><img src=\"USA_Geowissenschaften.png\", width=250, height=200/></td>\n",
       "            </tr>\n",
       "            <tr>\n",
       "                        <th id=\"T_503c091a_af65_11e9_85fb_032492921ecblevel0_row2\" class=\"row_heading level0 row2\" >Medizinisch-theoretische Wissenschaften, Pharmazie</th>\n",
       "                        <td id=\"T_503c091a_af65_11e9_85fb_032492921ecbrow2_col0\" class=\"data row2 col0\" >9.56%</td>\n",
       "                        <td id=\"T_503c091a_af65_11e9_85fb_032492921ecbrow2_col1\" class=\"data row2 col1\" >5. Platz</td>\n",
       "                        <td id=\"T_503c091a_af65_11e9_85fb_032492921ecbrow2_col2\" class=\"data row2 col2\" >1,818,201 €</td>\n",
       "                        <td id=\"T_503c091a_af65_11e9_85fb_032492921ecbrow2_col3\" class=\"data row2 col3\" >Medizinische Universität Graz (34.1 Mio. €)</td>\n",
       "                        <td id=\"T_503c091a_af65_11e9_85fb_032492921ecbrow2_col4\" class=\"data row2 col4\" ><img src=\"USA_Medizinisch-theoretische_Wissenschaften_Pharmazie.png\", width=250, height=200/></td>\n",
       "            </tr>\n",
       "            <tr>\n",
       "                        <th id=\"T_503c091a_af65_11e9_85fb_032492921ecblevel0_row3\" class=\"row_heading level0 row3\" >Informatik</th>\n",
       "                        <td id=\"T_503c091a_af65_11e9_85fb_032492921ecbrow3_col0\" class=\"data row3 col0\" >6.40%</td>\n",
       "                        <td id=\"T_503c091a_af65_11e9_85fb_032492921ecbrow3_col1\" class=\"data row3 col1\" >7. Platz</td>\n",
       "                        <td id=\"T_503c091a_af65_11e9_85fb_032492921ecbrow3_col2\" class=\"data row3 col2\" >1,217,689 €</td>\n",
       "                        <td id=\"T_503c091a_af65_11e9_85fb_032492921ecbrow3_col3\" class=\"data row3 col3\" >Technische Universität Wien (10.6 Mio. €)</td>\n",
       "                        <td id=\"T_503c091a_af65_11e9_85fb_032492921ecbrow3_col4\" class=\"data row3 col4\" ><img src=\"USA_Informatik.png\", width=250, height=200/></td>\n",
       "            </tr>\n",
       "            <tr>\n",
       "                        <th id=\"T_503c091a_af65_11e9_85fb_032492921ecblevel0_row4\" class=\"row_heading level0 row4\" >Physik, Astronomie</th>\n",
       "                        <td id=\"T_503c091a_af65_11e9_85fb_032492921ecbrow4_col0\" class=\"data row4 col0\" >5.50%</td>\n",
       "                        <td id=\"T_503c091a_af65_11e9_85fb_032492921ecbrow4_col1\" class=\"data row4 col1\" >7. Platz</td>\n",
       "                        <td id=\"T_503c091a_af65_11e9_85fb_032492921ecbrow4_col2\" class=\"data row4 col2\" >1,045,673 €</td>\n",
       "                        <td id=\"T_503c091a_af65_11e9_85fb_032492921ecbrow4_col3\" class=\"data row4 col3\" >Technische Universität Wien (13.4 Mio. €)</td>\n",
       "                        <td id=\"T_503c091a_af65_11e9_85fb_032492921ecbrow4_col4\" class=\"data row4 col4\" ><img src=\"USA_Physik_Astronomie.png\", width=250, height=200/></td>\n",
       "            </tr>\n",
       "            <tr>\n",
       "                        <th id=\"T_503c091a_af65_11e9_85fb_032492921ecblevel0_row5\" class=\"row_heading level0 row5\" >Geschichte, Archäologie</th>\n",
       "                        <td id=\"T_503c091a_af65_11e9_85fb_032492921ecbrow5_col0\" class=\"data row5 col0\" >5.15%</td>\n",
       "                        <td id=\"T_503c091a_af65_11e9_85fb_032492921ecbrow5_col1\" class=\"data row5 col1\" >4. Platz</td>\n",
       "                        <td id=\"T_503c091a_af65_11e9_85fb_032492921ecbrow5_col2\" class=\"data row5 col2\" >979,711 €</td>\n",
       "                        <td id=\"T_503c091a_af65_11e9_85fb_032492921ecbrow5_col3\" class=\"data row5 col3\" >Universität Wien (4.0 Mio. €)</td>\n",
       "                        <td id=\"T_503c091a_af65_11e9_85fb_032492921ecbrow5_col4\" class=\"data row5 col4\" ><img src=\"USA_Geschichte_Archäologie.png\", width=250, height=200/></td>\n",
       "            </tr>\n",
       "    </tbody></table>"
      ],
      "text/plain": [
       "<IPython.core.display.HTML object>"
      ]
     },
     "metadata": {},
     "output_type": "display_data"
    },
    {
     "data": {
      "text/html": [
       "<h4>Ähnliche Universitäten aufgrund der Drittmittel-Struktur</h3>"
      ],
      "text/plain": [
       "<IPython.core.display.HTML object>"
      ]
     },
     "metadata": {},
     "output_type": "display_data"
    },
    {
     "data": {
      "text/html": [
       "<p><strong>UWI</strong> (63.1%, wegen &auml;hnlicher Relevanz von Biologie, Physik, Astronomie, Geschichte, Archäologie), <strong>UGR</strong> (57.9%, wegen &auml;hnlicher Relevanz von Biologie, Physik, Astronomie, Geschichte, Archäologie), <strong>UIN</strong> (50.9%, wegen &auml;hnlicher Relevanz von Biologie, Geowissenschaften, Informatik)</p>"
      ],
      "text/plain": [
       "<IPython.core.display.HTML object>"
      ]
     },
     "metadata": {},
     "output_type": "display_data"
    },
    {
     "data": {
      "text/html": [
       "<p><small>Universitäten mit einer Ähnlichkeit von weniger als 50% werden nicht angezeigt.</small></p>"
      ],
      "text/plain": [
       "<IPython.core.display.HTML object>"
      ]
     },
     "metadata": {},
     "output_type": "display_data"
    },
    {
     "data": {
      "text/html": [
       "<h3>Montanuniversität Leoben</h3>"
      ],
      "text/plain": [
       "<IPython.core.display.HTML object>"
      ]
     },
     "metadata": {},
     "output_type": "display_data"
    },
    {
     "data": {
      "text/html": [
       "<h4>Drittmittel-Struktur</h4>"
      ],
      "text/plain": [
       "<IPython.core.display.HTML object>"
      ]
     },
     "metadata": {},
     "output_type": "display_data"
    },
    {
     "data": {
      "text/html": [
       "Angezeigt werden die gr&ouml;&szlig;ten WZW, die insgesamt mehr als 66.7% der Erl&ouml;se an der Montanuniversität Leoben ausmachen (exakt: 73.5%). Jeder andere WZW tr&auml;gt weniger als 10.1% bei. Die Spalte \"Ranking\" bezieht sich  auf den &ouml;sterreichweiten Vergleich der absoluten Werte im jeweiligen WZW."
      ],
      "text/plain": [
       "<IPython.core.display.HTML object>"
      ]
     },
     "metadata": {},
     "output_type": "display_data"
    },
    {
     "data": {
      "text/html": [
       "<style  type=\"text/css\" >\n",
       "    #T_50819142_af65_11e9_85fb_032492921ecbrow0_col0 {\n",
       "            background-color:  green;\n",
       "        }    #T_50819142_af65_11e9_85fb_032492921ecbrow0_col1 {\n",
       "            background-color:  green;\n",
       "        }    #T_50819142_af65_11e9_85fb_032492921ecbrow0_col2 {\n",
       "            background-color:  green;\n",
       "        }    #T_50819142_af65_11e9_85fb_032492921ecbrow0_col3 {\n",
       "            background-color:  green;\n",
       "        }    #T_50819142_af65_11e9_85fb_032492921ecbrow0_col4 {\n",
       "            background-color:  green;\n",
       "        }    #T_50819142_af65_11e9_85fb_032492921ecbrow1_col0 {\n",
       "            background-color:  green;\n",
       "        }    #T_50819142_af65_11e9_85fb_032492921ecbrow1_col1 {\n",
       "            background-color:  green;\n",
       "        }    #T_50819142_af65_11e9_85fb_032492921ecbrow1_col2 {\n",
       "            background-color:  green;\n",
       "        }    #T_50819142_af65_11e9_85fb_032492921ecbrow1_col3 {\n",
       "            background-color:  green;\n",
       "        }    #T_50819142_af65_11e9_85fb_032492921ecbrow1_col4 {\n",
       "            background-color:  green;\n",
       "        }    #T_50819142_af65_11e9_85fb_032492921ecbrow2_col0 {\n",
       "            background-color:  yellow;\n",
       "        }    #T_50819142_af65_11e9_85fb_032492921ecbrow2_col1 {\n",
       "            background-color:  yellow;\n",
       "        }    #T_50819142_af65_11e9_85fb_032492921ecbrow2_col2 {\n",
       "            background-color:  yellow;\n",
       "        }    #T_50819142_af65_11e9_85fb_032492921ecbrow2_col3 {\n",
       "            background-color:  yellow;\n",
       "        }    #T_50819142_af65_11e9_85fb_032492921ecbrow2_col4 {\n",
       "            background-color:  yellow;\n",
       "        }    #T_50819142_af65_11e9_85fb_032492921ecbrow3_col0 {\n",
       "            background-color:  green;\n",
       "        }    #T_50819142_af65_11e9_85fb_032492921ecbrow3_col1 {\n",
       "            background-color:  green;\n",
       "        }    #T_50819142_af65_11e9_85fb_032492921ecbrow3_col2 {\n",
       "            background-color:  green;\n",
       "        }    #T_50819142_af65_11e9_85fb_032492921ecbrow3_col3 {\n",
       "            background-color:  green;\n",
       "        }    #T_50819142_af65_11e9_85fb_032492921ecbrow3_col4 {\n",
       "            background-color:  green;\n",
       "        }</style><table id=\"T_50819142_af65_11e9_85fb_032492921ecb\" ><thead>    <tr>        <th class=\"blank level0\" ></th>        <th class=\"col_heading level0 col0\" >Intern</th>        <th class=\"col_heading level0 col1\" >Ranking</th>        <th class=\"col_heading level0 col2\" >Erlöse</th>        <th class=\"col_heading level0 col3\" >Beste Universität</th>        <th class=\"col_heading level0 col4\" >Universität im Vergleich</th>    </tr>    <tr>        <th class=\"index_name level0\" >WZW</th>        <th class=\"blank\" ></th>        <th class=\"blank\" ></th>        <th class=\"blank\" ></th>        <th class=\"blank\" ></th>        <th class=\"blank\" ></th>    </tr></thead><tbody>\n",
       "                <tr>\n",
       "                        <th id=\"T_50819142_af65_11e9_85fb_032492921ecblevel0_row0\" class=\"row_heading level0 row0\" >Andere Technische Wissenschaften</th>\n",
       "                        <td id=\"T_50819142_af65_11e9_85fb_032492921ecbrow0_col0\" class=\"data row0 col0\" >30.78%</td>\n",
       "                        <td id=\"T_50819142_af65_11e9_85fb_032492921ecbrow0_col1\" class=\"data row0 col1\" >1. Platz</td>\n",
       "                        <td id=\"T_50819142_af65_11e9_85fb_032492921ecbrow0_col2\" class=\"data row0 col2\" >13,513,716 €</td>\n",
       "                        <td id=\"T_50819142_af65_11e9_85fb_032492921ecbrow0_col3\" class=\"data row0 col3\" >(diese)</td>\n",
       "                        <td id=\"T_50819142_af65_11e9_85fb_032492921ecbrow0_col4\" class=\"data row0 col4\" ><img src=\"MUL_Andere_Technische_Wissenschaften.png\", width=250, height=200/></td>\n",
       "            </tr>\n",
       "            <tr>\n",
       "                        <th id=\"T_50819142_af65_11e9_85fb_032492921ecblevel0_row1\" class=\"row_heading level0 row1\" >Umweltingenieurwesen, Angewandte Geowissenschaften</th>\n",
       "                        <td id=\"T_50819142_af65_11e9_85fb_032492921ecbrow1_col0\" class=\"data row1 col0\" >19.09%</td>\n",
       "                        <td id=\"T_50819142_af65_11e9_85fb_032492921ecbrow1_col1\" class=\"data row1 col1\" >1. Platz</td>\n",
       "                        <td id=\"T_50819142_af65_11e9_85fb_032492921ecbrow1_col2\" class=\"data row1 col2\" >8,380,922 €</td>\n",
       "                        <td id=\"T_50819142_af65_11e9_85fb_032492921ecbrow1_col3\" class=\"data row1 col3\" >(diese)</td>\n",
       "                        <td id=\"T_50819142_af65_11e9_85fb_032492921ecbrow1_col4\" class=\"data row1 col4\" ><img src=\"MUL_Umweltingenieurwesen_Angewandte_Geowissenschaften.png\", width=250, height=200/></td>\n",
       "            </tr>\n",
       "            <tr>\n",
       "                        <th id=\"T_50819142_af65_11e9_85fb_032492921ecblevel0_row2\" class=\"row_heading level0 row2\" >Bauwesen</th>\n",
       "                        <td id=\"T_50819142_af65_11e9_85fb_032492921ecbrow2_col0\" class=\"data row2 col0\" >13.49%</td>\n",
       "                        <td id=\"T_50819142_af65_11e9_85fb_032492921ecbrow2_col1\" class=\"data row2 col1\" >3. Platz</td>\n",
       "                        <td id=\"T_50819142_af65_11e9_85fb_032492921ecbrow2_col2\" class=\"data row2 col2\" >5,923,955 €</td>\n",
       "                        <td id=\"T_50819142_af65_11e9_85fb_032492921ecbrow2_col3\" class=\"data row2 col3\" >Technische Universität Graz (9.4 Mio. €)</td>\n",
       "                        <td id=\"T_50819142_af65_11e9_85fb_032492921ecbrow2_col4\" class=\"data row2 col4\" ><img src=\"MUL_Bauwesen.png\", width=250, height=200/></td>\n",
       "            </tr>\n",
       "            <tr>\n",
       "                        <th id=\"T_50819142_af65_11e9_85fb_032492921ecblevel0_row3\" class=\"row_heading level0 row3\" >Werkstofftechnik</th>\n",
       "                        <td id=\"T_50819142_af65_11e9_85fb_032492921ecbrow3_col0\" class=\"data row3 col0\" >10.12%</td>\n",
       "                        <td id=\"T_50819142_af65_11e9_85fb_032492921ecbrow3_col1\" class=\"data row3 col1\" >1. Platz</td>\n",
       "                        <td id=\"T_50819142_af65_11e9_85fb_032492921ecbrow3_col2\" class=\"data row3 col2\" >4,444,882 €</td>\n",
       "                        <td id=\"T_50819142_af65_11e9_85fb_032492921ecbrow3_col3\" class=\"data row3 col3\" >(diese)</td>\n",
       "                        <td id=\"T_50819142_af65_11e9_85fb_032492921ecbrow3_col4\" class=\"data row3 col4\" ><img src=\"MUL_Werkstofftechnik.png\", width=250, height=200/></td>\n",
       "            </tr>\n",
       "    </tbody></table>"
      ],
      "text/plain": [
       "<IPython.core.display.HTML object>"
      ]
     },
     "metadata": {},
     "output_type": "display_data"
    },
    {
     "data": {
      "text/html": [
       "<h4>Ähnliche Universitäten aufgrund der Drittmittel-Struktur</h3>"
      ],
      "text/plain": [
       "<IPython.core.display.HTML object>"
      ]
     },
     "metadata": {},
     "output_type": "display_data"
    },
    {
     "data": {
      "text/html": [
       "<p>Die Montanuniversität Leoben ist stark spezialisiert.<br/><strong>Keine</strong> andere Universität ähnelt der Montanuniversität Leoben in der Drittmittel-Struktur in auffälliger Weise.</p>"
      ],
      "text/plain": [
       "<IPython.core.display.HTML object>"
      ]
     },
     "metadata": {},
     "output_type": "display_data"
    },
    {
     "data": {
      "text/html": [
       "<p><small>Universitäten mit einer Ähnlichkeit von weniger als 50% werden nicht angezeigt.</small></p>"
      ],
      "text/plain": [
       "<IPython.core.display.HTML object>"
      ]
     },
     "metadata": {},
     "output_type": "display_data"
    },
    {
     "data": {
      "text/html": [
       "<h3>Technische Universität Graz</h3>"
      ],
      "text/plain": [
       "<IPython.core.display.HTML object>"
      ]
     },
     "metadata": {},
     "output_type": "display_data"
    },
    {
     "data": {
      "text/html": [
       "<h4>Drittmittel-Struktur</h4>"
      ],
      "text/plain": [
       "<IPython.core.display.HTML object>"
      ]
     },
     "metadata": {},
     "output_type": "display_data"
    },
    {
     "data": {
      "text/html": [
       "Angezeigt werden die gr&ouml;&szlig;ten WZW, die insgesamt mehr als 66.7% der Erl&ouml;se an der Technische Universität Graz ausmachen (exakt: 70.5%). Jeder andere WZW tr&auml;gt weniger als 8.1% bei. Die Spalte \"Ranking\" bezieht sich  auf den &ouml;sterreichweiten Vergleich der absoluten Werte im jeweiligen WZW."
      ],
      "text/plain": [
       "<IPython.core.display.HTML object>"
      ]
     },
     "metadata": {},
     "output_type": "display_data"
    },
    {
     "data": {
      "text/html": [
       "<style  type=\"text/css\" >\n",
       "    #T_50bf22b4_af65_11e9_85fb_032492921ecbrow0_col0 {\n",
       "            background-color:  green;\n",
       "        }    #T_50bf22b4_af65_11e9_85fb_032492921ecbrow0_col1 {\n",
       "            background-color:  green;\n",
       "        }    #T_50bf22b4_af65_11e9_85fb_032492921ecbrow0_col2 {\n",
       "            background-color:  green;\n",
       "        }    #T_50bf22b4_af65_11e9_85fb_032492921ecbrow0_col3 {\n",
       "            background-color:  green;\n",
       "        }    #T_50bf22b4_af65_11e9_85fb_032492921ecbrow0_col4 {\n",
       "            background-color:  green;\n",
       "        }    #T_50bf22b4_af65_11e9_85fb_032492921ecbrow1_col0 {\n",
       "            background-color:  green;\n",
       "        }    #T_50bf22b4_af65_11e9_85fb_032492921ecbrow1_col1 {\n",
       "            background-color:  green;\n",
       "        }    #T_50bf22b4_af65_11e9_85fb_032492921ecbrow1_col2 {\n",
       "            background-color:  green;\n",
       "        }    #T_50bf22b4_af65_11e9_85fb_032492921ecbrow1_col3 {\n",
       "            background-color:  green;\n",
       "        }    #T_50bf22b4_af65_11e9_85fb_032492921ecbrow1_col4 {\n",
       "            background-color:  green;\n",
       "        }    #T_50bf22b4_af65_11e9_85fb_032492921ecbrow2_col0 {\n",
       "            background-color:  yellow;\n",
       "        }    #T_50bf22b4_af65_11e9_85fb_032492921ecbrow2_col1 {\n",
       "            background-color:  yellow;\n",
       "        }    #T_50bf22b4_af65_11e9_85fb_032492921ecbrow2_col2 {\n",
       "            background-color:  yellow;\n",
       "        }    #T_50bf22b4_af65_11e9_85fb_032492921ecbrow2_col3 {\n",
       "            background-color:  yellow;\n",
       "        }    #T_50bf22b4_af65_11e9_85fb_032492921ecbrow2_col4 {\n",
       "            background-color:  yellow;\n",
       "        }    #T_50bf22b4_af65_11e9_85fb_032492921ecbrow3_col0 {\n",
       "            background-color:  green;\n",
       "        }    #T_50bf22b4_af65_11e9_85fb_032492921ecbrow3_col1 {\n",
       "            background-color:  green;\n",
       "        }    #T_50bf22b4_af65_11e9_85fb_032492921ecbrow3_col2 {\n",
       "            background-color:  green;\n",
       "        }    #T_50bf22b4_af65_11e9_85fb_032492921ecbrow3_col3 {\n",
       "            background-color:  green;\n",
       "        }    #T_50bf22b4_af65_11e9_85fb_032492921ecbrow3_col4 {\n",
       "            background-color:  green;\n",
       "        }    #T_50bf22b4_af65_11e9_85fb_032492921ecbrow4_col0 {\n",
       "            background-color:  yellow;\n",
       "        }    #T_50bf22b4_af65_11e9_85fb_032492921ecbrow4_col1 {\n",
       "            background-color:  yellow;\n",
       "        }    #T_50bf22b4_af65_11e9_85fb_032492921ecbrow4_col2 {\n",
       "            background-color:  yellow;\n",
       "        }    #T_50bf22b4_af65_11e9_85fb_032492921ecbrow4_col3 {\n",
       "            background-color:  yellow;\n",
       "        }    #T_50bf22b4_af65_11e9_85fb_032492921ecbrow4_col4 {\n",
       "            background-color:  yellow;\n",
       "        }</style><table id=\"T_50bf22b4_af65_11e9_85fb_032492921ecb\" ><thead>    <tr>        <th class=\"blank level0\" ></th>        <th class=\"col_heading level0 col0\" >Intern</th>        <th class=\"col_heading level0 col1\" >Ranking</th>        <th class=\"col_heading level0 col2\" >Erlöse</th>        <th class=\"col_heading level0 col3\" >Beste Universität</th>        <th class=\"col_heading level0 col4\" >Universität im Vergleich</th>    </tr>    <tr>        <th class=\"index_name level0\" >WZW</th>        <th class=\"blank\" ></th>        <th class=\"blank\" ></th>        <th class=\"blank\" ></th>        <th class=\"blank\" ></th>        <th class=\"blank\" ></th>    </tr></thead><tbody>\n",
       "                <tr>\n",
       "                        <th id=\"T_50bf22b4_af65_11e9_85fb_032492921ecblevel0_row0\" class=\"row_heading level0 row0\" >Maschinenbau</th>\n",
       "                        <td id=\"T_50bf22b4_af65_11e9_85fb_032492921ecbrow0_col0\" class=\"data row0 col0\" >27.01%</td>\n",
       "                        <td id=\"T_50bf22b4_af65_11e9_85fb_032492921ecbrow0_col1\" class=\"data row0 col1\" >1. Platz</td>\n",
       "                        <td id=\"T_50bf22b4_af65_11e9_85fb_032492921ecbrow0_col2\" class=\"data row0 col2\" >21,300,246 €</td>\n",
       "                        <td id=\"T_50bf22b4_af65_11e9_85fb_032492921ecbrow0_col3\" class=\"data row0 col3\" >(diese)</td>\n",
       "                        <td id=\"T_50bf22b4_af65_11e9_85fb_032492921ecbrow0_col4\" class=\"data row0 col4\" ><img src=\"TUG_Maschinenbau.png\", width=250, height=200/></td>\n",
       "            </tr>\n",
       "            <tr>\n",
       "                        <th id=\"T_50bf22b4_af65_11e9_85fb_032492921ecblevel0_row1\" class=\"row_heading level0 row1\" >Bauwesen</th>\n",
       "                        <td id=\"T_50bf22b4_af65_11e9_85fb_032492921ecbrow1_col0\" class=\"data row1 col0\" >11.98%</td>\n",
       "                        <td id=\"T_50bf22b4_af65_11e9_85fb_032492921ecbrow1_col1\" class=\"data row1 col1\" >1. Platz</td>\n",
       "                        <td id=\"T_50bf22b4_af65_11e9_85fb_032492921ecbrow1_col2\" class=\"data row1 col2\" >9,445,236 €</td>\n",
       "                        <td id=\"T_50bf22b4_af65_11e9_85fb_032492921ecbrow1_col3\" class=\"data row1 col3\" >(diese)</td>\n",
       "                        <td id=\"T_50bf22b4_af65_11e9_85fb_032492921ecbrow1_col4\" class=\"data row1 col4\" ><img src=\"TUG_Bauwesen.png\", width=250, height=200/></td>\n",
       "            </tr>\n",
       "            <tr>\n",
       "                        <th id=\"T_50bf22b4_af65_11e9_85fb_032492921ecblevel0_row2\" class=\"row_heading level0 row2\" >Elektrotechnik, Elektronik, Informationstechnik</th>\n",
       "                        <td id=\"T_50bf22b4_af65_11e9_85fb_032492921ecbrow2_col0\" class=\"data row2 col0\" >11.94%</td>\n",
       "                        <td id=\"T_50bf22b4_af65_11e9_85fb_032492921ecbrow2_col1\" class=\"data row2 col1\" >2. Platz</td>\n",
       "                        <td id=\"T_50bf22b4_af65_11e9_85fb_032492921ecbrow2_col2\" class=\"data row2 col2\" >9,420,414 €</td>\n",
       "                        <td id=\"T_50bf22b4_af65_11e9_85fb_032492921ecbrow2_col3\" class=\"data row2 col3\" >Technische Universität Wien (16.0 Mio. €)</td>\n",
       "                        <td id=\"T_50bf22b4_af65_11e9_85fb_032492921ecbrow2_col4\" class=\"data row2 col4\" ><img src=\"TUG_Elektrotechnik_Elektronik_Informationstechnik.png\", width=250, height=200/></td>\n",
       "            </tr>\n",
       "            <tr>\n",
       "                        <th id=\"T_50bf22b4_af65_11e9_85fb_032492921ecblevel0_row3\" class=\"row_heading level0 row3\" >Chemie</th>\n",
       "                        <td id=\"T_50bf22b4_af65_11e9_85fb_032492921ecbrow3_col0\" class=\"data row3 col0\" >11.42%</td>\n",
       "                        <td id=\"T_50bf22b4_af65_11e9_85fb_032492921ecbrow3_col1\" class=\"data row3 col1\" >1. Platz</td>\n",
       "                        <td id=\"T_50bf22b4_af65_11e9_85fb_032492921ecbrow3_col2\" class=\"data row3 col2\" >9,010,776 €</td>\n",
       "                        <td id=\"T_50bf22b4_af65_11e9_85fb_032492921ecbrow3_col3\" class=\"data row3 col3\" >(diese)</td>\n",
       "                        <td id=\"T_50bf22b4_af65_11e9_85fb_032492921ecbrow3_col4\" class=\"data row3 col4\" ><img src=\"TUG_Chemie.png\", width=250, height=200/></td>\n",
       "            </tr>\n",
       "            <tr>\n",
       "                        <th id=\"T_50bf22b4_af65_11e9_85fb_032492921ecblevel0_row4\" class=\"row_heading level0 row4\" >Informatik</th>\n",
       "                        <td id=\"T_50bf22b4_af65_11e9_85fb_032492921ecbrow4_col0\" class=\"data row4 col0\" >8.12%</td>\n",
       "                        <td id=\"T_50bf22b4_af65_11e9_85fb_032492921ecbrow4_col1\" class=\"data row4 col1\" >2. Platz</td>\n",
       "                        <td id=\"T_50bf22b4_af65_11e9_85fb_032492921ecbrow4_col2\" class=\"data row4 col2\" >6,408,343 €</td>\n",
       "                        <td id=\"T_50bf22b4_af65_11e9_85fb_032492921ecbrow4_col3\" class=\"data row4 col3\" >Technische Universität Wien (10.6 Mio. €)</td>\n",
       "                        <td id=\"T_50bf22b4_af65_11e9_85fb_032492921ecbrow4_col4\" class=\"data row4 col4\" ><img src=\"TUG_Informatik.png\", width=250, height=200/></td>\n",
       "            </tr>\n",
       "    </tbody></table>"
      ],
      "text/plain": [
       "<IPython.core.display.HTML object>"
      ]
     },
     "metadata": {},
     "output_type": "display_data"
    },
    {
     "data": {
      "text/html": [
       "<h4>Ähnliche Universitäten aufgrund der Drittmittel-Struktur</h3>"
      ],
      "text/plain": [
       "<IPython.core.display.HTML object>"
      ]
     },
     "metadata": {},
     "output_type": "display_data"
    },
    {
     "data": {
      "text/html": [
       "<p><strong>TUW</strong> (62.4%, wegen &auml;hnlicher Relevanz von Elektrotechnik, Elektronik, Informationstechnik, Informatik, Bauwesen), <strong>ULI</strong> (51.1%, wegen &auml;hnlicher Relevanz von Elektrotechnik, Elektronik, Informationstechnik, Maschinenbau, Informatik)</p>"
      ],
      "text/plain": [
       "<IPython.core.display.HTML object>"
      ]
     },
     "metadata": {},
     "output_type": "display_data"
    },
    {
     "data": {
      "text/html": [
       "<p><small>Universitäten mit einer Ähnlichkeit von weniger als 50% werden nicht angezeigt.</small></p>"
      ],
      "text/plain": [
       "<IPython.core.display.HTML object>"
      ]
     },
     "metadata": {},
     "output_type": "display_data"
    },
    {
     "data": {
      "text/html": [
       "<h3>Universität Graz</h3>"
      ],
      "text/plain": [
       "<IPython.core.display.HTML object>"
      ]
     },
     "metadata": {},
     "output_type": "display_data"
    },
    {
     "data": {
      "text/html": [
       "<h4>Drittmittel-Struktur</h4>"
      ],
      "text/plain": [
       "<IPython.core.display.HTML object>"
      ]
     },
     "metadata": {},
     "output_type": "display_data"
    },
    {
     "data": {
      "text/html": [
       "Angezeigt werden die gr&ouml;&szlig;ten WZW, die insgesamt mehr als 66.7% der Erl&ouml;se an der Universität Graz ausmachen (exakt: 67.5%). Jeder andere WZW tr&auml;gt weniger als 5.6% bei. Die Spalte \"Ranking\" bezieht sich  auf den &ouml;sterreichweiten Vergleich der absoluten Werte im jeweiligen WZW."
      ],
      "text/plain": [
       "<IPython.core.display.HTML object>"
      ]
     },
     "metadata": {},
     "output_type": "display_data"
    },
    {
     "data": {
      "text/html": [
       "<style  type=\"text/css\" >\n",
       "    #T_510b341a_af65_11e9_85fb_032492921ecbrow0_col0 {\n",
       "            background-color:  yellow;\n",
       "        }    #T_510b341a_af65_11e9_85fb_032492921ecbrow0_col1 {\n",
       "            background-color:  yellow;\n",
       "        }    #T_510b341a_af65_11e9_85fb_032492921ecbrow0_col2 {\n",
       "            background-color:  yellow;\n",
       "        }    #T_510b341a_af65_11e9_85fb_032492921ecbrow0_col3 {\n",
       "            background-color:  yellow;\n",
       "        }    #T_510b341a_af65_11e9_85fb_032492921ecbrow0_col4 {\n",
       "            background-color:  yellow;\n",
       "        }    #T_510b341a_af65_11e9_85fb_032492921ecbrow1_col0 {\n",
       "            background-color:  yellow;\n",
       "        }    #T_510b341a_af65_11e9_85fb_032492921ecbrow1_col1 {\n",
       "            background-color:  yellow;\n",
       "        }    #T_510b341a_af65_11e9_85fb_032492921ecbrow1_col2 {\n",
       "            background-color:  yellow;\n",
       "        }    #T_510b341a_af65_11e9_85fb_032492921ecbrow1_col3 {\n",
       "            background-color:  yellow;\n",
       "        }    #T_510b341a_af65_11e9_85fb_032492921ecbrow1_col4 {\n",
       "            background-color:  yellow;\n",
       "        }    #T_510b341a_af65_11e9_85fb_032492921ecbrow2_col0 {\n",
       "            background-color:  yellow;\n",
       "        }    #T_510b341a_af65_11e9_85fb_032492921ecbrow2_col1 {\n",
       "            background-color:  yellow;\n",
       "        }    #T_510b341a_af65_11e9_85fb_032492921ecbrow2_col2 {\n",
       "            background-color:  yellow;\n",
       "        }    #T_510b341a_af65_11e9_85fb_032492921ecbrow2_col3 {\n",
       "            background-color:  yellow;\n",
       "        }    #T_510b341a_af65_11e9_85fb_032492921ecbrow2_col4 {\n",
       "            background-color:  yellow;\n",
       "        }    #T_510b341a_af65_11e9_85fb_032492921ecbrow3_col0 {\n",
       "            background-color:  white;\n",
       "        }    #T_510b341a_af65_11e9_85fb_032492921ecbrow3_col1 {\n",
       "            background-color:  white;\n",
       "        }    #T_510b341a_af65_11e9_85fb_032492921ecbrow3_col2 {\n",
       "            background-color:  white;\n",
       "        }    #T_510b341a_af65_11e9_85fb_032492921ecbrow3_col3 {\n",
       "            background-color:  white;\n",
       "        }    #T_510b341a_af65_11e9_85fb_032492921ecbrow3_col4 {\n",
       "            background-color:  white;\n",
       "        }    #T_510b341a_af65_11e9_85fb_032492921ecbrow4_col0 {\n",
       "            background-color:  white;\n",
       "        }    #T_510b341a_af65_11e9_85fb_032492921ecbrow4_col1 {\n",
       "            background-color:  white;\n",
       "        }    #T_510b341a_af65_11e9_85fb_032492921ecbrow4_col2 {\n",
       "            background-color:  white;\n",
       "        }    #T_510b341a_af65_11e9_85fb_032492921ecbrow4_col3 {\n",
       "            background-color:  white;\n",
       "        }    #T_510b341a_af65_11e9_85fb_032492921ecbrow4_col4 {\n",
       "            background-color:  white;\n",
       "        }    #T_510b341a_af65_11e9_85fb_032492921ecbrow5_col0 {\n",
       "            background-color:  yellow;\n",
       "        }    #T_510b341a_af65_11e9_85fb_032492921ecbrow5_col1 {\n",
       "            background-color:  yellow;\n",
       "        }    #T_510b341a_af65_11e9_85fb_032492921ecbrow5_col2 {\n",
       "            background-color:  yellow;\n",
       "        }    #T_510b341a_af65_11e9_85fb_032492921ecbrow5_col3 {\n",
       "            background-color:  yellow;\n",
       "        }    #T_510b341a_af65_11e9_85fb_032492921ecbrow5_col4 {\n",
       "            background-color:  yellow;\n",
       "        }</style><table id=\"T_510b341a_af65_11e9_85fb_032492921ecb\" ><thead>    <tr>        <th class=\"blank level0\" ></th>        <th class=\"col_heading level0 col0\" >Intern</th>        <th class=\"col_heading level0 col1\" >Ranking</th>        <th class=\"col_heading level0 col2\" >Erlöse</th>        <th class=\"col_heading level0 col3\" >Beste Universität</th>        <th class=\"col_heading level0 col4\" >Universität im Vergleich</th>    </tr>    <tr>        <th class=\"index_name level0\" >WZW</th>        <th class=\"blank\" ></th>        <th class=\"blank\" ></th>        <th class=\"blank\" ></th>        <th class=\"blank\" ></th>        <th class=\"blank\" ></th>    </tr></thead><tbody>\n",
       "                <tr>\n",
       "                        <th id=\"T_510b341a_af65_11e9_85fb_032492921ecblevel0_row0\" class=\"row_heading level0 row0\" >Biologie</th>\n",
       "                        <td id=\"T_510b341a_af65_11e9_85fb_032492921ecbrow0_col0\" class=\"data row0 col0\" >20.95%</td>\n",
       "                        <td id=\"T_510b341a_af65_11e9_85fb_032492921ecbrow0_col1\" class=\"data row0 col1\" >3. Platz</td>\n",
       "                        <td id=\"T_510b341a_af65_11e9_85fb_032492921ecbrow0_col2\" class=\"data row0 col2\" >5,870,029 €</td>\n",
       "                        <td id=\"T_510b341a_af65_11e9_85fb_032492921ecbrow0_col3\" class=\"data row0 col3\" >Universität Wien (17.0 Mio. €)</td>\n",
       "                        <td id=\"T_510b341a_af65_11e9_85fb_032492921ecbrow0_col4\" class=\"data row0 col4\" ><img src=\"UGR_Biologie.png\", width=250, height=200/></td>\n",
       "            </tr>\n",
       "            <tr>\n",
       "                        <th id=\"T_510b341a_af65_11e9_85fb_032492921ecblevel0_row1\" class=\"row_heading level0 row1\" >Wirtschaftswissenschaften</th>\n",
       "                        <td id=\"T_510b341a_af65_11e9_85fb_032492921ecbrow1_col0\" class=\"data row1 col0\" >11.55%</td>\n",
       "                        <td id=\"T_510b341a_af65_11e9_85fb_032492921ecbrow1_col1\" class=\"data row1 col1\" >3. Platz</td>\n",
       "                        <td id=\"T_510b341a_af65_11e9_85fb_032492921ecbrow1_col2\" class=\"data row1 col2\" >3,235,473 €</td>\n",
       "                        <td id=\"T_510b341a_af65_11e9_85fb_032492921ecbrow1_col3\" class=\"data row1 col3\" >Wirtschaftsuniversität Wien (7.2 Mio. €)</td>\n",
       "                        <td id=\"T_510b341a_af65_11e9_85fb_032492921ecbrow1_col4\" class=\"data row1 col4\" ><img src=\"UGR_Wirtschaftswissenschaften.png\", width=250, height=200/></td>\n",
       "            </tr>\n",
       "            <tr>\n",
       "                        <th id=\"T_510b341a_af65_11e9_85fb_032492921ecblevel0_row2\" class=\"row_heading level0 row2\" >Sprach- und Literaturwissenschaften</th>\n",
       "                        <td id=\"T_510b341a_af65_11e9_85fb_032492921ecbrow2_col0\" class=\"data row2 col0\" >10.29%</td>\n",
       "                        <td id=\"T_510b341a_af65_11e9_85fb_032492921ecbrow2_col1\" class=\"data row2 col1\" >2. Platz</td>\n",
       "                        <td id=\"T_510b341a_af65_11e9_85fb_032492921ecbrow2_col2\" class=\"data row2 col2\" >2,881,945 €</td>\n",
       "                        <td id=\"T_510b341a_af65_11e9_85fb_032492921ecbrow2_col3\" class=\"data row2 col3\" >Universität Wien (5.4 Mio. €)</td>\n",
       "                        <td id=\"T_510b341a_af65_11e9_85fb_032492921ecbrow2_col4\" class=\"data row2 col4\" ><img src=\"UGR_Sprach-_und_Literaturwissenschaften.png\", width=250, height=200/></td>\n",
       "            </tr>\n",
       "            <tr>\n",
       "                        <th id=\"T_510b341a_af65_11e9_85fb_032492921ecblevel0_row3\" class=\"row_heading level0 row3\" >Chemie</th>\n",
       "                        <td id=\"T_510b341a_af65_11e9_85fb_032492921ecbrow3_col0\" class=\"data row3 col0\" >10.07%</td>\n",
       "                        <td id=\"T_510b341a_af65_11e9_85fb_032492921ecbrow3_col1\" class=\"data row3 col1\" >6. Platz</td>\n",
       "                        <td id=\"T_510b341a_af65_11e9_85fb_032492921ecbrow3_col2\" class=\"data row3 col2\" >2,820,464 €</td>\n",
       "                        <td id=\"T_510b341a_af65_11e9_85fb_032492921ecbrow3_col3\" class=\"data row3 col3\" >Technische Universität Graz (9.0 Mio. €)</td>\n",
       "                        <td id=\"T_510b341a_af65_11e9_85fb_032492921ecbrow3_col4\" class=\"data row3 col4\" ><img src=\"UGR_Chemie.png\", width=250, height=200/></td>\n",
       "            </tr>\n",
       "            <tr>\n",
       "                        <th id=\"T_510b341a_af65_11e9_85fb_032492921ecblevel0_row4\" class=\"row_heading level0 row4\" >Physik, Astronomie</th>\n",
       "                        <td id=\"T_510b341a_af65_11e9_85fb_032492921ecbrow4_col0\" class=\"data row4 col0\" >9.06%</td>\n",
       "                        <td id=\"T_510b341a_af65_11e9_85fb_032492921ecbrow4_col1\" class=\"data row4 col1\" >6. Platz</td>\n",
       "                        <td id=\"T_510b341a_af65_11e9_85fb_032492921ecbrow4_col2\" class=\"data row4 col2\" >2,538,360 €</td>\n",
       "                        <td id=\"T_510b341a_af65_11e9_85fb_032492921ecbrow4_col3\" class=\"data row4 col3\" >Technische Universität Wien (13.4 Mio. €)</td>\n",
       "                        <td id=\"T_510b341a_af65_11e9_85fb_032492921ecbrow4_col4\" class=\"data row4 col4\" ><img src=\"UGR_Physik_Astronomie.png\", width=250, height=200/></td>\n",
       "            </tr>\n",
       "            <tr>\n",
       "                        <th id=\"T_510b341a_af65_11e9_85fb_032492921ecblevel0_row5\" class=\"row_heading level0 row5\" >Psychologie</th>\n",
       "                        <td id=\"T_510b341a_af65_11e9_85fb_032492921ecbrow5_col0\" class=\"data row5 col0\" >5.58%</td>\n",
       "                        <td id=\"T_510b341a_af65_11e9_85fb_032492921ecbrow5_col1\" class=\"data row5 col1\" >2. Platz</td>\n",
       "                        <td id=\"T_510b341a_af65_11e9_85fb_032492921ecbrow5_col2\" class=\"data row5 col2\" >1,561,844 €</td>\n",
       "                        <td id=\"T_510b341a_af65_11e9_85fb_032492921ecbrow5_col3\" class=\"data row5 col3\" >Universität Wien (1.7 Mio. €)</td>\n",
       "                        <td id=\"T_510b341a_af65_11e9_85fb_032492921ecbrow5_col4\" class=\"data row5 col4\" ><img src=\"UGR_Psychologie.png\", width=250, height=200/></td>\n",
       "            </tr>\n",
       "    </tbody></table>"
      ],
      "text/plain": [
       "<IPython.core.display.HTML object>"
      ]
     },
     "metadata": {},
     "output_type": "display_data"
    },
    {
     "data": {
      "text/html": [
       "<h4>Ähnliche Universitäten aufgrund der Drittmittel-Struktur</h3>"
      ],
      "text/plain": [
       "<IPython.core.display.HTML object>"
      ]
     },
     "metadata": {},
     "output_type": "display_data"
    },
    {
     "data": {
      "text/html": [
       "<p><strong>UWI</strong> (70.6%, wegen &auml;hnlicher Relevanz von Biologie, Physik, Astronomie, Sprach- und Literaturwissenschaften), <strong>UIN</strong> (59.7%, wegen &auml;hnlicher Relevanz von Biologie, Chemie, Wirtschaftswissenschaften), <strong>USA</strong> (57.9%, wegen &auml;hnlicher Relevanz von Biologie, Physik, Astronomie, Geschichte, Archäologie)</p>"
      ],
      "text/plain": [
       "<IPython.core.display.HTML object>"
      ]
     },
     "metadata": {},
     "output_type": "display_data"
    },
    {
     "data": {
      "text/html": [
       "<p><small>Universitäten mit einer Ähnlichkeit von weniger als 50% werden nicht angezeigt.</small></p>"
      ],
      "text/plain": [
       "<IPython.core.display.HTML object>"
      ]
     },
     "metadata": {},
     "output_type": "display_data"
    },
    {
     "data": {
      "text/html": [
       "<h3>Universität für angewandte Kunst Wien</h3>"
      ],
      "text/plain": [
       "<IPython.core.display.HTML object>"
      ]
     },
     "metadata": {},
     "output_type": "display_data"
    },
    {
     "data": {
      "text/html": [
       "<h4>Drittmittel-Struktur</h4>"
      ],
      "text/plain": [
       "<IPython.core.display.HTML object>"
      ]
     },
     "metadata": {},
     "output_type": "display_data"
    },
    {
     "data": {
      "text/html": [
       "Angezeigt werden die gr&ouml;&szlig;ten WZW, die insgesamt mehr als 66.7% der Erl&ouml;se an der Universität für angewandte Kunst Wien ausmachen (exakt: 70.1%). Jeder andere WZW tr&auml;gt weniger als 8.7% bei. Die Spalte \"Ranking\" bezieht sich  auf den &ouml;sterreichweiten Vergleich der absoluten Werte im jeweiligen WZW."
      ],
      "text/plain": [
       "<IPython.core.display.HTML object>"
      ]
     },
     "metadata": {},
     "output_type": "display_data"
    },
    {
     "data": {
      "text/html": [
       "<style  type=\"text/css\" >\n",
       "    #T_513b9772_af65_11e9_85fb_032492921ecbrow0_col0 {\n",
       "            background-color:  yellow;\n",
       "        }    #T_513b9772_af65_11e9_85fb_032492921ecbrow0_col1 {\n",
       "            background-color:  yellow;\n",
       "        }    #T_513b9772_af65_11e9_85fb_032492921ecbrow0_col2 {\n",
       "            background-color:  yellow;\n",
       "        }    #T_513b9772_af65_11e9_85fb_032492921ecbrow0_col3 {\n",
       "            background-color:  yellow;\n",
       "        }    #T_513b9772_af65_11e9_85fb_032492921ecbrow0_col4 {\n",
       "            background-color:  yellow;\n",
       "        }    #T_513b9772_af65_11e9_85fb_032492921ecbrow1_col0 {\n",
       "            background-color:  green;\n",
       "        }    #T_513b9772_af65_11e9_85fb_032492921ecbrow1_col1 {\n",
       "            background-color:  green;\n",
       "        }    #T_513b9772_af65_11e9_85fb_032492921ecbrow1_col2 {\n",
       "            background-color:  green;\n",
       "        }    #T_513b9772_af65_11e9_85fb_032492921ecbrow1_col3 {\n",
       "            background-color:  green;\n",
       "        }    #T_513b9772_af65_11e9_85fb_032492921ecbrow1_col4 {\n",
       "            background-color:  green;\n",
       "        }    #T_513b9772_af65_11e9_85fb_032492921ecbrow2_col0 {\n",
       "            background-color:  yellow;\n",
       "        }    #T_513b9772_af65_11e9_85fb_032492921ecbrow2_col1 {\n",
       "            background-color:  yellow;\n",
       "        }    #T_513b9772_af65_11e9_85fb_032492921ecbrow2_col2 {\n",
       "            background-color:  yellow;\n",
       "        }    #T_513b9772_af65_11e9_85fb_032492921ecbrow2_col3 {\n",
       "            background-color:  yellow;\n",
       "        }    #T_513b9772_af65_11e9_85fb_032492921ecbrow2_col4 {\n",
       "            background-color:  yellow;\n",
       "        }    #T_513b9772_af65_11e9_85fb_032492921ecbrow3_col0 {\n",
       "            background-color:  green;\n",
       "        }    #T_513b9772_af65_11e9_85fb_032492921ecbrow3_col1 {\n",
       "            background-color:  green;\n",
       "        }    #T_513b9772_af65_11e9_85fb_032492921ecbrow3_col2 {\n",
       "            background-color:  green;\n",
       "        }    #T_513b9772_af65_11e9_85fb_032492921ecbrow3_col3 {\n",
       "            background-color:  green;\n",
       "        }    #T_513b9772_af65_11e9_85fb_032492921ecbrow3_col4 {\n",
       "            background-color:  green;\n",
       "        }</style><table id=\"T_513b9772_af65_11e9_85fb_032492921ecb\" ><thead>    <tr>        <th class=\"blank level0\" ></th>        <th class=\"col_heading level0 col0\" >Intern</th>        <th class=\"col_heading level0 col1\" >Ranking</th>        <th class=\"col_heading level0 col2\" >Erlöse</th>        <th class=\"col_heading level0 col3\" >Beste Universität</th>        <th class=\"col_heading level0 col4\" >Universität im Vergleich</th>    </tr>    <tr>        <th class=\"index_name level0\" >WZW</th>        <th class=\"blank\" ></th>        <th class=\"blank\" ></th>        <th class=\"blank\" ></th>        <th class=\"blank\" ></th>        <th class=\"blank\" ></th>    </tr></thead><tbody>\n",
       "                <tr>\n",
       "                        <th id=\"T_513b9772_af65_11e9_85fb_032492921ecblevel0_row0\" class=\"row_heading level0 row0\" >Kunstwissenschaften</th>\n",
       "                        <td id=\"T_513b9772_af65_11e9_85fb_032492921ecbrow0_col0\" class=\"data row0 col0\" >28.24%</td>\n",
       "                        <td id=\"T_513b9772_af65_11e9_85fb_032492921ecbrow0_col1\" class=\"data row0 col1\" >2. Platz</td>\n",
       "                        <td id=\"T_513b9772_af65_11e9_85fb_032492921ecbrow0_col2\" class=\"data row0 col2\" >705,934 €</td>\n",
       "                        <td id=\"T_513b9772_af65_11e9_85fb_032492921ecbrow0_col3\" class=\"data row0 col3\" >Universität Wien (2.4 Mio. €)</td>\n",
       "                        <td id=\"T_513b9772_af65_11e9_85fb_032492921ecbrow0_col4\" class=\"data row0 col4\" ><img src=\"UAW_Kunstwissenschaften.png\", width=250, height=200/></td>\n",
       "            </tr>\n",
       "            <tr>\n",
       "                        <th id=\"T_513b9772_af65_11e9_85fb_032492921ecblevel0_row1\" class=\"row_heading level0 row1\" >Bildende Kunst</th>\n",
       "                        <td id=\"T_513b9772_af65_11e9_85fb_032492921ecbrow1_col0\" class=\"data row1 col0\" >20.04%</td>\n",
       "                        <td id=\"T_513b9772_af65_11e9_85fb_032492921ecbrow1_col1\" class=\"data row1 col1\" >1. Platz</td>\n",
       "                        <td id=\"T_513b9772_af65_11e9_85fb_032492921ecbrow1_col2\" class=\"data row1 col2\" >500,877 €</td>\n",
       "                        <td id=\"T_513b9772_af65_11e9_85fb_032492921ecbrow1_col3\" class=\"data row1 col3\" >(diese)</td>\n",
       "                        <td id=\"T_513b9772_af65_11e9_85fb_032492921ecbrow1_col4\" class=\"data row1 col4\" ><img src=\"UAW_Bildende_Kunst.png\", width=250, height=200/></td>\n",
       "            </tr>\n",
       "            <tr>\n",
       "                        <th id=\"T_513b9772_af65_11e9_85fb_032492921ecblevel0_row2\" class=\"row_heading level0 row2\" >Architektur</th>\n",
       "                        <td id=\"T_513b9772_af65_11e9_85fb_032492921ecbrow2_col0\" class=\"data row2 col0\" >13.13%</td>\n",
       "                        <td id=\"T_513b9772_af65_11e9_85fb_032492921ecbrow2_col1\" class=\"data row2 col1\" >2. Platz</td>\n",
       "                        <td id=\"T_513b9772_af65_11e9_85fb_032492921ecbrow2_col2\" class=\"data row2 col2\" >328,301 €</td>\n",
       "                        <td id=\"T_513b9772_af65_11e9_85fb_032492921ecbrow2_col3\" class=\"data row2 col3\" >Universität für künstlerische und industrielle Gestaltung Linz (0.7 Mio. €)</td>\n",
       "                        <td id=\"T_513b9772_af65_11e9_85fb_032492921ecbrow2_col4\" class=\"data row2 col4\" ><img src=\"UAW_Architektur.png\", width=250, height=200/></td>\n",
       "            </tr>\n",
       "            <tr>\n",
       "                        <th id=\"T_513b9772_af65_11e9_85fb_032492921ecblevel0_row3\" class=\"row_heading level0 row3\" >Konservierung und Restaurierung</th>\n",
       "                        <td id=\"T_513b9772_af65_11e9_85fb_032492921ecbrow3_col0\" class=\"data row3 col0\" >8.72%</td>\n",
       "                        <td id=\"T_513b9772_af65_11e9_85fb_032492921ecbrow3_col1\" class=\"data row3 col1\" >1. Platz</td>\n",
       "                        <td id=\"T_513b9772_af65_11e9_85fb_032492921ecbrow3_col2\" class=\"data row3 col2\" >217,924 €</td>\n",
       "                        <td id=\"T_513b9772_af65_11e9_85fb_032492921ecbrow3_col3\" class=\"data row3 col3\" >(diese)</td>\n",
       "                        <td id=\"T_513b9772_af65_11e9_85fb_032492921ecbrow3_col4\" class=\"data row3 col4\" ><img src=\"UAW_Konservierung_und_Restaurierung.png\", width=250, height=200/></td>\n",
       "            </tr>\n",
       "    </tbody></table>"
      ],
      "text/plain": [
       "<IPython.core.display.HTML object>"
      ]
     },
     "metadata": {},
     "output_type": "display_data"
    },
    {
     "data": {
      "text/html": [
       "<h4>Ähnliche Universitäten aufgrund der Drittmittel-Struktur</h3>"
      ],
      "text/plain": [
       "<IPython.core.display.HTML object>"
      ]
     },
     "metadata": {},
     "output_type": "display_data"
    },
    {
     "data": {
      "text/html": [
       "<p><strong>ABW</strong> (55.7%, wegen &auml;hnlicher Relevanz von Kunstwissenschaften, Architektur, Bildende Kunst)</p>"
      ],
      "text/plain": [
       "<IPython.core.display.HTML object>"
      ]
     },
     "metadata": {},
     "output_type": "display_data"
    },
    {
     "data": {
      "text/html": [
       "<p><small>Universitäten mit einer Ähnlichkeit von weniger als 50% werden nicht angezeigt.</small></p>"
      ],
      "text/plain": [
       "<IPython.core.display.HTML object>"
      ]
     },
     "metadata": {},
     "output_type": "display_data"
    },
    {
     "data": {
      "text/html": [
       "<h3>Universität für künstlerische und industrielle Gestaltung Linz</h3>"
      ],
      "text/plain": [
       "<IPython.core.display.HTML object>"
      ]
     },
     "metadata": {},
     "output_type": "display_data"
    },
    {
     "data": {
      "text/html": [
       "<h4>Drittmittel-Struktur</h4>"
      ],
      "text/plain": [
       "<IPython.core.display.HTML object>"
      ]
     },
     "metadata": {},
     "output_type": "display_data"
    },
    {
     "data": {
      "text/html": [
       "Angezeigt werden die gr&ouml;&szlig;ten WZW, die insgesamt mehr als 66.7% der Erl&ouml;se an der Universität für künstlerische und industrielle Gestaltung Linz ausmachen (exakt: 74.3%). Jeder andere WZW tr&auml;gt weniger als 14.6% bei. Die Spalte \"Ranking\" bezieht sich  auf den &ouml;sterreichweiten Vergleich der absoluten Werte im jeweiligen WZW."
      ],
      "text/plain": [
       "<IPython.core.display.HTML object>"
      ]
     },
     "metadata": {},
     "output_type": "display_data"
    },
    {
     "data": {
      "text/html": [
       "<style  type=\"text/css\" >\n",
       "    #T_5164b968_af65_11e9_85fb_032492921ecbrow0_col0 {\n",
       "            background-color:  green;\n",
       "        }    #T_5164b968_af65_11e9_85fb_032492921ecbrow0_col1 {\n",
       "            background-color:  green;\n",
       "        }    #T_5164b968_af65_11e9_85fb_032492921ecbrow0_col2 {\n",
       "            background-color:  green;\n",
       "        }    #T_5164b968_af65_11e9_85fb_032492921ecbrow0_col3 {\n",
       "            background-color:  green;\n",
       "        }    #T_5164b968_af65_11e9_85fb_032492921ecbrow0_col4 {\n",
       "            background-color:  green;\n",
       "        }    #T_5164b968_af65_11e9_85fb_032492921ecbrow1_col0 {\n",
       "            background-color:  yellow;\n",
       "        }    #T_5164b968_af65_11e9_85fb_032492921ecbrow1_col1 {\n",
       "            background-color:  yellow;\n",
       "        }    #T_5164b968_af65_11e9_85fb_032492921ecbrow1_col2 {\n",
       "            background-color:  yellow;\n",
       "        }    #T_5164b968_af65_11e9_85fb_032492921ecbrow1_col3 {\n",
       "            background-color:  yellow;\n",
       "        }    #T_5164b968_af65_11e9_85fb_032492921ecbrow1_col4 {\n",
       "            background-color:  yellow;\n",
       "        }    #T_5164b968_af65_11e9_85fb_032492921ecbrow2_col0 {\n",
       "            background-color:  green;\n",
       "        }    #T_5164b968_af65_11e9_85fb_032492921ecbrow2_col1 {\n",
       "            background-color:  green;\n",
       "        }    #T_5164b968_af65_11e9_85fb_032492921ecbrow2_col2 {\n",
       "            background-color:  green;\n",
       "        }    #T_5164b968_af65_11e9_85fb_032492921ecbrow2_col3 {\n",
       "            background-color:  green;\n",
       "        }    #T_5164b968_af65_11e9_85fb_032492921ecbrow2_col4 {\n",
       "            background-color:  green;\n",
       "        }</style><table id=\"T_5164b968_af65_11e9_85fb_032492921ecb\" ><thead>    <tr>        <th class=\"blank level0\" ></th>        <th class=\"col_heading level0 col0\" >Intern</th>        <th class=\"col_heading level0 col1\" >Ranking</th>        <th class=\"col_heading level0 col2\" >Erlöse</th>        <th class=\"col_heading level0 col3\" >Beste Universität</th>        <th class=\"col_heading level0 col4\" >Universität im Vergleich</th>    </tr>    <tr>        <th class=\"index_name level0\" >WZW</th>        <th class=\"blank\" ></th>        <th class=\"blank\" ></th>        <th class=\"blank\" ></th>        <th class=\"blank\" ></th>        <th class=\"blank\" ></th>    </tr></thead><tbody>\n",
       "                <tr>\n",
       "                        <th id=\"T_5164b968_af65_11e9_85fb_032492921ecblevel0_row0\" class=\"row_heading level0 row0\" >Architektur</th>\n",
       "                        <td id=\"T_5164b968_af65_11e9_85fb_032492921ecbrow0_col0\" class=\"data row0 col0\" >36.97%</td>\n",
       "                        <td id=\"T_5164b968_af65_11e9_85fb_032492921ecbrow0_col1\" class=\"data row0 col1\" >1. Platz</td>\n",
       "                        <td id=\"T_5164b968_af65_11e9_85fb_032492921ecbrow0_col2\" class=\"data row0 col2\" >653,979 €</td>\n",
       "                        <td id=\"T_5164b968_af65_11e9_85fb_032492921ecbrow0_col3\" class=\"data row0 col3\" >(diese)</td>\n",
       "                        <td id=\"T_5164b968_af65_11e9_85fb_032492921ecbrow0_col4\" class=\"data row0 col4\" ><img src=\"UGL_Architektur.png\", width=250, height=200/></td>\n",
       "            </tr>\n",
       "            <tr>\n",
       "                        <th id=\"T_5164b968_af65_11e9_85fb_032492921ecblevel0_row1\" class=\"row_heading level0 row1\" >Pädagogik / Vermittlung (2)</th>\n",
       "                        <td id=\"T_5164b968_af65_11e9_85fb_032492921ecbrow1_col0\" class=\"data row1 col0\" >22.81%</td>\n",
       "                        <td id=\"T_5164b968_af65_11e9_85fb_032492921ecbrow1_col1\" class=\"data row1 col1\" >2. Platz</td>\n",
       "                        <td id=\"T_5164b968_af65_11e9_85fb_032492921ecbrow1_col2\" class=\"data row1 col2\" >403,483 €</td>\n",
       "                        <td id=\"T_5164b968_af65_11e9_85fb_032492921ecbrow1_col3\" class=\"data row1 col3\" >Akademie der bildenden Künste Wien (0.6 Mio. €)</td>\n",
       "                        <td id=\"T_5164b968_af65_11e9_85fb_032492921ecbrow1_col4\" class=\"data row1 col4\" ><img src=\"UGL_Pädagogik__Vermittlung_2.png\", width=250, height=200/></td>\n",
       "            </tr>\n",
       "            <tr>\n",
       "                        <th id=\"T_5164b968_af65_11e9_85fb_032492921ecblevel0_row2\" class=\"row_heading level0 row2\" >Mediengestaltung</th>\n",
       "                        <td id=\"T_5164b968_af65_11e9_85fb_032492921ecbrow2_col0\" class=\"data row2 col0\" >14.56%</td>\n",
       "                        <td id=\"T_5164b968_af65_11e9_85fb_032492921ecbrow2_col1\" class=\"data row2 col1\" >1. Platz</td>\n",
       "                        <td id=\"T_5164b968_af65_11e9_85fb_032492921ecbrow2_col2\" class=\"data row2 col2\" >257,533 €</td>\n",
       "                        <td id=\"T_5164b968_af65_11e9_85fb_032492921ecbrow2_col3\" class=\"data row2 col3\" >(diese)</td>\n",
       "                        <td id=\"T_5164b968_af65_11e9_85fb_032492921ecbrow2_col4\" class=\"data row2 col4\" ><img src=\"UGL_Mediengestaltung.png\", width=250, height=200/></td>\n",
       "            </tr>\n",
       "    </tbody></table>"
      ],
      "text/plain": [
       "<IPython.core.display.HTML object>"
      ]
     },
     "metadata": {},
     "output_type": "display_data"
    },
    {
     "data": {
      "text/html": [
       "<h4>Ähnliche Universitäten aufgrund der Drittmittel-Struktur</h3>"
      ],
      "text/plain": [
       "<IPython.core.display.HTML object>"
      ]
     },
     "metadata": {},
     "output_type": "display_data"
    },
    {
     "data": {
      "text/html": [
       "<p>Die Universität für künstlerische und industrielle Gestaltung Linz ist stark spezialisiert.<br/><strong>Keine</strong> andere Universität ähnelt der Universität für künstlerische und industrielle Gestaltung Linz in der Drittmittel-Struktur in auffälliger Weise.</p>"
      ],
      "text/plain": [
       "<IPython.core.display.HTML object>"
      ]
     },
     "metadata": {},
     "output_type": "display_data"
    },
    {
     "data": {
      "text/html": [
       "<p><small>Universitäten mit einer Ähnlichkeit von weniger als 50% werden nicht angezeigt.</small></p>"
      ],
      "text/plain": [
       "<IPython.core.display.HTML object>"
      ]
     },
     "metadata": {},
     "output_type": "display_data"
    },
    {
     "data": {
      "text/html": [
       "<h3>Veterinärmedizinische Universität Wien</h3>"
      ],
      "text/plain": [
       "<IPython.core.display.HTML object>"
      ]
     },
     "metadata": {},
     "output_type": "display_data"
    },
    {
     "data": {
      "text/html": [
       "<h4>Drittmittel-Struktur</h4>"
      ],
      "text/plain": [
       "<IPython.core.display.HTML object>"
      ]
     },
     "metadata": {},
     "output_type": "display_data"
    },
    {
     "data": {
      "text/html": [
       "Angezeigt werden die gr&ouml;&szlig;ten WZW, die insgesamt mehr als 66.7% der Erl&ouml;se an der Veterinärmedizinische Universität Wien ausmachen (exakt: 66.9%). Jeder andere WZW tr&auml;gt weniger als 33.1% bei. Die Spalte \"Ranking\" bezieht sich  auf den &ouml;sterreichweiten Vergleich der absoluten Werte im jeweiligen WZW."
      ],
      "text/plain": [
       "<IPython.core.display.HTML object>"
      ]
     },
     "metadata": {},
     "output_type": "display_data"
    },
    {
     "data": {
      "text/html": [
       "<style  type=\"text/css\" >\n",
       "    #T_51775ba4_af65_11e9_85fb_032492921ecbrow0_col0 {\n",
       "            background-color:  green;\n",
       "        }    #T_51775ba4_af65_11e9_85fb_032492921ecbrow0_col1 {\n",
       "            background-color:  green;\n",
       "        }    #T_51775ba4_af65_11e9_85fb_032492921ecbrow0_col2 {\n",
       "            background-color:  green;\n",
       "        }    #T_51775ba4_af65_11e9_85fb_032492921ecbrow0_col3 {\n",
       "            background-color:  green;\n",
       "        }    #T_51775ba4_af65_11e9_85fb_032492921ecbrow0_col4 {\n",
       "            background-color:  green;\n",
       "        }</style><table id=\"T_51775ba4_af65_11e9_85fb_032492921ecb\" ><thead>    <tr>        <th class=\"blank level0\" ></th>        <th class=\"col_heading level0 col0\" >Intern</th>        <th class=\"col_heading level0 col1\" >Ranking</th>        <th class=\"col_heading level0 col2\" >Erlöse</th>        <th class=\"col_heading level0 col3\" >Beste Universität</th>        <th class=\"col_heading level0 col4\" >Universität im Vergleich</th>    </tr>    <tr>        <th class=\"index_name level0\" >WZW</th>        <th class=\"blank\" ></th>        <th class=\"blank\" ></th>        <th class=\"blank\" ></th>        <th class=\"blank\" ></th>        <th class=\"blank\" ></th>    </tr></thead><tbody>\n",
       "                <tr>\n",
       "                        <th id=\"T_51775ba4_af65_11e9_85fb_032492921ecblevel0_row0\" class=\"row_heading level0 row0\" >Veterinärmedizin</th>\n",
       "                        <td id=\"T_51775ba4_af65_11e9_85fb_032492921ecbrow0_col0\" class=\"data row0 col0\" >66.86%</td>\n",
       "                        <td id=\"T_51775ba4_af65_11e9_85fb_032492921ecbrow0_col1\" class=\"data row0 col1\" >1. Platz</td>\n",
       "                        <td id=\"T_51775ba4_af65_11e9_85fb_032492921ecbrow0_col2\" class=\"data row0 col2\" >11,561,660 €</td>\n",
       "                        <td id=\"T_51775ba4_af65_11e9_85fb_032492921ecbrow0_col3\" class=\"data row0 col3\" >(diese)</td>\n",
       "                        <td id=\"T_51775ba4_af65_11e9_85fb_032492921ecbrow0_col4\" class=\"data row0 col4\" ><img src=\"VMW_Veterinärmedizin.png\", width=250, height=200/></td>\n",
       "            </tr>\n",
       "    </tbody></table>"
      ],
      "text/plain": [
       "<IPython.core.display.HTML object>"
      ]
     },
     "metadata": {},
     "output_type": "display_data"
    },
    {
     "data": {
      "text/html": [
       "<h4>Ähnliche Universitäten aufgrund der Drittmittel-Struktur</h3>"
      ],
      "text/plain": [
       "<IPython.core.display.HTML object>"
      ]
     },
     "metadata": {},
     "output_type": "display_data"
    },
    {
     "data": {
      "text/html": [
       "<p>Die Veterinärmedizinische Universität Wien ist stark spezialisiert.<br/><strong>Keine</strong> andere Universität ähnelt der Veterinärmedizinische Universität Wien in der Drittmittel-Struktur in auffälliger Weise.</p>"
      ],
      "text/plain": [
       "<IPython.core.display.HTML object>"
      ]
     },
     "metadata": {},
     "output_type": "display_data"
    },
    {
     "data": {
      "text/html": [
       "<p><small>Universitäten mit einer Ähnlichkeit von weniger als 50% werden nicht angezeigt.</small></p>"
      ],
      "text/plain": [
       "<IPython.core.display.HTML object>"
      ]
     },
     "metadata": {},
     "output_type": "display_data"
    },
    {
     "data": {
      "text/html": [
       "<h3>Universität für Musik und darstellende Kunst Graz</h3>"
      ],
      "text/plain": [
       "<IPython.core.display.HTML object>"
      ]
     },
     "metadata": {},
     "output_type": "display_data"
    },
    {
     "data": {
      "text/html": [
       "<h4>Drittmittel-Struktur</h4>"
      ],
      "text/plain": [
       "<IPython.core.display.HTML object>"
      ]
     },
     "metadata": {},
     "output_type": "display_data"
    },
    {
     "data": {
      "text/html": [
       "Angezeigt werden die gr&ouml;&szlig;ten WZW, die insgesamt mehr als 66.7% der Erl&ouml;se an der Universität für Musik und darstellende Kunst Graz ausmachen (exakt: 76.8%). Jeder andere WZW tr&auml;gt weniger als 11.1% bei. Die Spalte \"Ranking\" bezieht sich  auf den &ouml;sterreichweiten Vergleich der absoluten Werte im jeweiligen WZW."
      ],
      "text/plain": [
       "<IPython.core.display.HTML object>"
      ]
     },
     "metadata": {},
     "output_type": "display_data"
    },
    {
     "data": {
      "text/html": [
       "<style  type=\"text/css\" >\n",
       "    #T_51ce77fe_af65_11e9_85fb_032492921ecbrow0_col0 {\n",
       "            background-color:  white;\n",
       "        }    #T_51ce77fe_af65_11e9_85fb_032492921ecbrow0_col1 {\n",
       "            background-color:  white;\n",
       "        }    #T_51ce77fe_af65_11e9_85fb_032492921ecbrow0_col2 {\n",
       "            background-color:  white;\n",
       "        }    #T_51ce77fe_af65_11e9_85fb_032492921ecbrow0_col3 {\n",
       "            background-color:  white;\n",
       "        }    #T_51ce77fe_af65_11e9_85fb_032492921ecbrow0_col4 {\n",
       "            background-color:  white;\n",
       "        }    #T_51ce77fe_af65_11e9_85fb_032492921ecbrow1_col0 {\n",
       "            background-color:  green;\n",
       "        }    #T_51ce77fe_af65_11e9_85fb_032492921ecbrow1_col1 {\n",
       "            background-color:  green;\n",
       "        }    #T_51ce77fe_af65_11e9_85fb_032492921ecbrow1_col2 {\n",
       "            background-color:  green;\n",
       "        }    #T_51ce77fe_af65_11e9_85fb_032492921ecbrow1_col3 {\n",
       "            background-color:  green;\n",
       "        }    #T_51ce77fe_af65_11e9_85fb_032492921ecbrow1_col4 {\n",
       "            background-color:  green;\n",
       "        }    #T_51ce77fe_af65_11e9_85fb_032492921ecbrow2_col0 {\n",
       "            background-color:  white;\n",
       "        }    #T_51ce77fe_af65_11e9_85fb_032492921ecbrow2_col1 {\n",
       "            background-color:  white;\n",
       "        }    #T_51ce77fe_af65_11e9_85fb_032492921ecbrow2_col2 {\n",
       "            background-color:  white;\n",
       "        }    #T_51ce77fe_af65_11e9_85fb_032492921ecbrow2_col3 {\n",
       "            background-color:  white;\n",
       "        }    #T_51ce77fe_af65_11e9_85fb_032492921ecbrow2_col4 {\n",
       "            background-color:  white;\n",
       "        }    #T_51ce77fe_af65_11e9_85fb_032492921ecbrow3_col0 {\n",
       "            background-color:  white;\n",
       "        }    #T_51ce77fe_af65_11e9_85fb_032492921ecbrow3_col1 {\n",
       "            background-color:  white;\n",
       "        }    #T_51ce77fe_af65_11e9_85fb_032492921ecbrow3_col2 {\n",
       "            background-color:  white;\n",
       "        }    #T_51ce77fe_af65_11e9_85fb_032492921ecbrow3_col3 {\n",
       "            background-color:  white;\n",
       "        }    #T_51ce77fe_af65_11e9_85fb_032492921ecbrow3_col4 {\n",
       "            background-color:  white;\n",
       "        }    #T_51ce77fe_af65_11e9_85fb_032492921ecbrow4_col0 {\n",
       "            background-color:  yellow;\n",
       "        }    #T_51ce77fe_af65_11e9_85fb_032492921ecbrow4_col1 {\n",
       "            background-color:  yellow;\n",
       "        }    #T_51ce77fe_af65_11e9_85fb_032492921ecbrow4_col2 {\n",
       "            background-color:  yellow;\n",
       "        }    #T_51ce77fe_af65_11e9_85fb_032492921ecbrow4_col3 {\n",
       "            background-color:  yellow;\n",
       "        }    #T_51ce77fe_af65_11e9_85fb_032492921ecbrow4_col4 {\n",
       "            background-color:  yellow;\n",
       "        }</style><table id=\"T_51ce77fe_af65_11e9_85fb_032492921ecb\" ><thead>    <tr>        <th class=\"blank level0\" ></th>        <th class=\"col_heading level0 col0\" >Intern</th>        <th class=\"col_heading level0 col1\" >Ranking</th>        <th class=\"col_heading level0 col2\" >Erlöse</th>        <th class=\"col_heading level0 col3\" >Beste Universität</th>        <th class=\"col_heading level0 col4\" >Universität im Vergleich</th>    </tr>    <tr>        <th class=\"index_name level0\" >WZW</th>        <th class=\"blank\" ></th>        <th class=\"blank\" ></th>        <th class=\"blank\" ></th>        <th class=\"blank\" ></th>        <th class=\"blank\" ></th>    </tr></thead><tbody>\n",
       "                <tr>\n",
       "                        <th id=\"T_51ce77fe_af65_11e9_85fb_032492921ecblevel0_row0\" class=\"row_heading level0 row0\" >Kunstwissenschaften</th>\n",
       "                        <td id=\"T_51ce77fe_af65_11e9_85fb_032492921ecbrow0_col0\" class=\"data row0 col0\" >20.89%</td>\n",
       "                        <td id=\"T_51ce77fe_af65_11e9_85fb_032492921ecbrow0_col1\" class=\"data row0 col1\" >7. Platz</td>\n",
       "                        <td id=\"T_51ce77fe_af65_11e9_85fb_032492921ecbrow0_col2\" class=\"data row0 col2\" >300,808 €</td>\n",
       "                        <td id=\"T_51ce77fe_af65_11e9_85fb_032492921ecbrow0_col3\" class=\"data row0 col3\" >Universität Wien (2.4 Mio. €)</td>\n",
       "                        <td id=\"T_51ce77fe_af65_11e9_85fb_032492921ecbrow0_col4\" class=\"data row0 col4\" ><img src=\"MKG_Kunstwissenschaften.png\", width=250, height=200/></td>\n",
       "            </tr>\n",
       "            <tr>\n",
       "                        <th id=\"T_51ce77fe_af65_11e9_85fb_032492921ecblevel0_row1\" class=\"row_heading level0 row1\" >Computermusik</th>\n",
       "                        <td id=\"T_51ce77fe_af65_11e9_85fb_032492921ecbrow1_col0\" class=\"data row1 col0\" >20.41%</td>\n",
       "                        <td id=\"T_51ce77fe_af65_11e9_85fb_032492921ecbrow1_col1\" class=\"data row1 col1\" >1. Platz</td>\n",
       "                        <td id=\"T_51ce77fe_af65_11e9_85fb_032492921ecbrow1_col2\" class=\"data row1 col2\" >293,888 €</td>\n",
       "                        <td id=\"T_51ce77fe_af65_11e9_85fb_032492921ecbrow1_col3\" class=\"data row1 col3\" >(diese)</td>\n",
       "                        <td id=\"T_51ce77fe_af65_11e9_85fb_032492921ecbrow1_col4\" class=\"data row1 col4\" ><img src=\"MKG_Computermusik.png\", width=250, height=200/></td>\n",
       "            </tr>\n",
       "            <tr>\n",
       "                        <th id=\"T_51ce77fe_af65_11e9_85fb_032492921ecblevel0_row2\" class=\"row_heading level0 row2\" >Elektrotechnik, Elektronik, Informationstechnik</th>\n",
       "                        <td id=\"T_51ce77fe_af65_11e9_85fb_032492921ecbrow2_col0\" class=\"data row2 col0\" >13.10%</td>\n",
       "                        <td id=\"T_51ce77fe_af65_11e9_85fb_032492921ecbrow2_col1\" class=\"data row2 col1\" >7. Platz</td>\n",
       "                        <td id=\"T_51ce77fe_af65_11e9_85fb_032492921ecbrow2_col2\" class=\"data row2 col2\" >188,632 €</td>\n",
       "                        <td id=\"T_51ce77fe_af65_11e9_85fb_032492921ecbrow2_col3\" class=\"data row2 col3\" >Technische Universität Wien (16.0 Mio. €)</td>\n",
       "                        <td id=\"T_51ce77fe_af65_11e9_85fb_032492921ecbrow2_col4\" class=\"data row2 col4\" ><img src=\"MKG_Elektrotechnik_Elektronik_Informationstechnik.png\", width=250, height=200/></td>\n",
       "            </tr>\n",
       "            <tr>\n",
       "                        <th id=\"T_51ce77fe_af65_11e9_85fb_032492921ecblevel0_row3\" class=\"row_heading level0 row3\" >Physik, Astronomie</th>\n",
       "                        <td id=\"T_51ce77fe_af65_11e9_85fb_032492921ecbrow3_col0\" class=\"data row3 col0\" >11.30%</td>\n",
       "                        <td id=\"T_51ce77fe_af65_11e9_85fb_032492921ecbrow3_col1\" class=\"data row3 col1\" >11. Platz</td>\n",
       "                        <td id=\"T_51ce77fe_af65_11e9_85fb_032492921ecbrow3_col2\" class=\"data row3 col2\" >162,715 €</td>\n",
       "                        <td id=\"T_51ce77fe_af65_11e9_85fb_032492921ecbrow3_col3\" class=\"data row3 col3\" >Technische Universität Wien (13.4 Mio. €)</td>\n",
       "                        <td id=\"T_51ce77fe_af65_11e9_85fb_032492921ecbrow3_col4\" class=\"data row3 col4\" ><img src=\"MKG_Physik_Astronomie.png\", width=250, height=200/></td>\n",
       "            </tr>\n",
       "            <tr>\n",
       "                        <th id=\"T_51ce77fe_af65_11e9_85fb_032492921ecblevel0_row4\" class=\"row_heading level0 row4\" >Nicht bekannt/nicht zuordenbar</th>\n",
       "                        <td id=\"T_51ce77fe_af65_11e9_85fb_032492921ecbrow4_col0\" class=\"data row4 col0\" >11.11%</td>\n",
       "                        <td id=\"T_51ce77fe_af65_11e9_85fb_032492921ecbrow4_col1\" class=\"data row4 col1\" >2. Platz</td>\n",
       "                        <td id=\"T_51ce77fe_af65_11e9_85fb_032492921ecbrow4_col2\" class=\"data row4 col2\" >159,981 €</td>\n",
       "                        <td id=\"T_51ce77fe_af65_11e9_85fb_032492921ecbrow4_col3\" class=\"data row4 col3\" >Universität Linz (0.3 Mio. €)</td>\n",
       "                        <td id=\"T_51ce77fe_af65_11e9_85fb_032492921ecbrow4_col4\" class=\"data row4 col4\" ><img src=\"MKG_Nicht_bekanntnicht_zuordenbar.png\", width=250, height=200/></td>\n",
       "            </tr>\n",
       "    </tbody></table>"
      ],
      "text/plain": [
       "<IPython.core.display.HTML object>"
      ]
     },
     "metadata": {},
     "output_type": "display_data"
    },
    {
     "data": {
      "text/html": [
       "<h4>Ähnliche Universitäten aufgrund der Drittmittel-Struktur</h3>"
      ],
      "text/plain": [
       "<IPython.core.display.HTML object>"
      ]
     },
     "metadata": {},
     "output_type": "display_data"
    },
    {
     "data": {
      "text/html": [
       "<p>Die Universität für Musik und darstellende Kunst Graz ist stark spezialisiert.<br/><strong>Keine</strong> andere Universität ähnelt der Universität für Musik und darstellende Kunst Graz in der Drittmittel-Struktur in auffälliger Weise.</p>"
      ],
      "text/plain": [
       "<IPython.core.display.HTML object>"
      ]
     },
     "metadata": {},
     "output_type": "display_data"
    },
    {
     "data": {
      "text/html": [
       "<p><small>Universitäten mit einer Ähnlichkeit von weniger als 50% werden nicht angezeigt.</small></p>"
      ],
      "text/plain": [
       "<IPython.core.display.HTML object>"
      ]
     },
     "metadata": {},
     "output_type": "display_data"
    },
    {
     "data": {
      "text/html": [
       "<h3>Universität Linz</h3>"
      ],
      "text/plain": [
       "<IPython.core.display.HTML object>"
      ]
     },
     "metadata": {},
     "output_type": "display_data"
    },
    {
     "data": {
      "text/html": [
       "<h4>Drittmittel-Struktur</h4>"
      ],
      "text/plain": [
       "<IPython.core.display.HTML object>"
      ]
     },
     "metadata": {},
     "output_type": "display_data"
    },
    {
     "data": {
      "text/html": [
       "Angezeigt werden die gr&ouml;&szlig;ten WZW, die insgesamt mehr als 66.7% der Erl&ouml;se an der Universität Linz ausmachen (exakt: 72.1%). Jeder andere WZW tr&auml;gt weniger als 9.5% bei. Die Spalte \"Ranking\" bezieht sich  auf den &ouml;sterreichweiten Vergleich der absoluten Werte im jeweiligen WZW."
      ],
      "text/plain": [
       "<IPython.core.display.HTML object>"
      ]
     },
     "metadata": {},
     "output_type": "display_data"
    },
    {
     "data": {
      "text/html": [
       "<style  type=\"text/css\" >\n",
       "    #T_520ba17e_af65_11e9_85fb_032492921ecbrow0_col0 {\n",
       "            background-color:  yellow;\n",
       "        }    #T_520ba17e_af65_11e9_85fb_032492921ecbrow0_col1 {\n",
       "            background-color:  yellow;\n",
       "        }    #T_520ba17e_af65_11e9_85fb_032492921ecbrow0_col2 {\n",
       "            background-color:  yellow;\n",
       "        }    #T_520ba17e_af65_11e9_85fb_032492921ecbrow0_col3 {\n",
       "            background-color:  yellow;\n",
       "        }    #T_520ba17e_af65_11e9_85fb_032492921ecbrow0_col4 {\n",
       "            background-color:  yellow;\n",
       "        }    #T_520ba17e_af65_11e9_85fb_032492921ecbrow1_col0 {\n",
       "            background-color:  yellow;\n",
       "        }    #T_520ba17e_af65_11e9_85fb_032492921ecbrow1_col1 {\n",
       "            background-color:  yellow;\n",
       "        }    #T_520ba17e_af65_11e9_85fb_032492921ecbrow1_col2 {\n",
       "            background-color:  yellow;\n",
       "        }    #T_520ba17e_af65_11e9_85fb_032492921ecbrow1_col3 {\n",
       "            background-color:  yellow;\n",
       "        }    #T_520ba17e_af65_11e9_85fb_032492921ecbrow1_col4 {\n",
       "            background-color:  yellow;\n",
       "        }    #T_520ba17e_af65_11e9_85fb_032492921ecbrow2_col0 {\n",
       "            background-color:  white;\n",
       "        }    #T_520ba17e_af65_11e9_85fb_032492921ecbrow2_col1 {\n",
       "            background-color:  white;\n",
       "        }    #T_520ba17e_af65_11e9_85fb_032492921ecbrow2_col2 {\n",
       "            background-color:  white;\n",
       "        }    #T_520ba17e_af65_11e9_85fb_032492921ecbrow2_col3 {\n",
       "            background-color:  white;\n",
       "        }    #T_520ba17e_af65_11e9_85fb_032492921ecbrow2_col4 {\n",
       "            background-color:  white;\n",
       "        }    #T_520ba17e_af65_11e9_85fb_032492921ecbrow3_col0 {\n",
       "            background-color:  white;\n",
       "        }    #T_520ba17e_af65_11e9_85fb_032492921ecbrow3_col1 {\n",
       "            background-color:  white;\n",
       "        }    #T_520ba17e_af65_11e9_85fb_032492921ecbrow3_col2 {\n",
       "            background-color:  white;\n",
       "        }    #T_520ba17e_af65_11e9_85fb_032492921ecbrow3_col3 {\n",
       "            background-color:  white;\n",
       "        }    #T_520ba17e_af65_11e9_85fb_032492921ecbrow3_col4 {\n",
       "            background-color:  white;\n",
       "        }    #T_520ba17e_af65_11e9_85fb_032492921ecbrow4_col0 {\n",
       "            background-color:  white;\n",
       "        }    #T_520ba17e_af65_11e9_85fb_032492921ecbrow4_col1 {\n",
       "            background-color:  white;\n",
       "        }    #T_520ba17e_af65_11e9_85fb_032492921ecbrow4_col2 {\n",
       "            background-color:  white;\n",
       "        }    #T_520ba17e_af65_11e9_85fb_032492921ecbrow4_col3 {\n",
       "            background-color:  white;\n",
       "        }    #T_520ba17e_af65_11e9_85fb_032492921ecbrow4_col4 {\n",
       "            background-color:  white;\n",
       "        }</style><table id=\"T_520ba17e_af65_11e9_85fb_032492921ecb\" ><thead>    <tr>        <th class=\"blank level0\" ></th>        <th class=\"col_heading level0 col0\" >Intern</th>        <th class=\"col_heading level0 col1\" >Ranking</th>        <th class=\"col_heading level0 col2\" >Erlöse</th>        <th class=\"col_heading level0 col3\" >Beste Universität</th>        <th class=\"col_heading level0 col4\" >Universität im Vergleich</th>    </tr>    <tr>        <th class=\"index_name level0\" >WZW</th>        <th class=\"blank\" ></th>        <th class=\"blank\" ></th>        <th class=\"blank\" ></th>        <th class=\"blank\" ></th>        <th class=\"blank\" ></th>    </tr></thead><tbody>\n",
       "                <tr>\n",
       "                        <th id=\"T_520ba17e_af65_11e9_85fb_032492921ecblevel0_row0\" class=\"row_heading level0 row0\" >Elektrotechnik, Elektronik, Informationstechnik</th>\n",
       "                        <td id=\"T_520ba17e_af65_11e9_85fb_032492921ecbrow0_col0\" class=\"data row0 col0\" >18.06%</td>\n",
       "                        <td id=\"T_520ba17e_af65_11e9_85fb_032492921ecbrow0_col1\" class=\"data row0 col1\" >3. Platz</td>\n",
       "                        <td id=\"T_520ba17e_af65_11e9_85fb_032492921ecbrow0_col2\" class=\"data row0 col2\" >5,283,509 €</td>\n",
       "                        <td id=\"T_520ba17e_af65_11e9_85fb_032492921ecbrow0_col3\" class=\"data row0 col3\" >Technische Universität Wien (16.0 Mio. €)</td>\n",
       "                        <td id=\"T_520ba17e_af65_11e9_85fb_032492921ecbrow0_col4\" class=\"data row0 col4\" ><img src=\"ULI_Elektrotechnik_Elektronik_Informationstechnik.png\", width=250, height=200/></td>\n",
       "            </tr>\n",
       "            <tr>\n",
       "                        <th id=\"T_520ba17e_af65_11e9_85fb_032492921ecblevel0_row1\" class=\"row_heading level0 row1\" >Informatik</th>\n",
       "                        <td id=\"T_520ba17e_af65_11e9_85fb_032492921ecbrow1_col0\" class=\"data row1 col0\" >16.54%</td>\n",
       "                        <td id=\"T_520ba17e_af65_11e9_85fb_032492921ecbrow1_col1\" class=\"data row1 col1\" >3. Platz</td>\n",
       "                        <td id=\"T_520ba17e_af65_11e9_85fb_032492921ecbrow1_col2\" class=\"data row1 col2\" >4,838,635 €</td>\n",
       "                        <td id=\"T_520ba17e_af65_11e9_85fb_032492921ecbrow1_col3\" class=\"data row1 col3\" >Technische Universität Wien (10.6 Mio. €)</td>\n",
       "                        <td id=\"T_520ba17e_af65_11e9_85fb_032492921ecbrow1_col4\" class=\"data row1 col4\" ><img src=\"ULI_Informatik.png\", width=250, height=200/></td>\n",
       "            </tr>\n",
       "            <tr>\n",
       "                        <th id=\"T_520ba17e_af65_11e9_85fb_032492921ecblevel0_row2\" class=\"row_heading level0 row2\" >Physik, Astronomie</th>\n",
       "                        <td id=\"T_520ba17e_af65_11e9_85fb_032492921ecbrow2_col0\" class=\"data row2 col0\" >14.77%</td>\n",
       "                        <td id=\"T_520ba17e_af65_11e9_85fb_032492921ecbrow2_col1\" class=\"data row2 col1\" >4. Platz</td>\n",
       "                        <td id=\"T_520ba17e_af65_11e9_85fb_032492921ecbrow2_col2\" class=\"data row2 col2\" >4,321,813 €</td>\n",
       "                        <td id=\"T_520ba17e_af65_11e9_85fb_032492921ecbrow2_col3\" class=\"data row2 col3\" >Technische Universität Wien (13.4 Mio. €)</td>\n",
       "                        <td id=\"T_520ba17e_af65_11e9_85fb_032492921ecbrow2_col4\" class=\"data row2 col4\" ><img src=\"ULI_Physik_Astronomie.png\", width=250, height=200/></td>\n",
       "            </tr>\n",
       "            <tr>\n",
       "                        <th id=\"T_520ba17e_af65_11e9_85fb_032492921ecblevel0_row3\" class=\"row_heading level0 row3\" >Mathematik</th>\n",
       "                        <td id=\"T_520ba17e_af65_11e9_85fb_032492921ecbrow3_col0\" class=\"data row3 col0\" >13.20%</td>\n",
       "                        <td id=\"T_520ba17e_af65_11e9_85fb_032492921ecbrow3_col1\" class=\"data row3 col1\" >4. Platz</td>\n",
       "                        <td id=\"T_520ba17e_af65_11e9_85fb_032492921ecbrow3_col2\" class=\"data row3 col2\" >3,861,260 €</td>\n",
       "                        <td id=\"T_520ba17e_af65_11e9_85fb_032492921ecbrow3_col3\" class=\"data row3 col3\" >Universität Wien (8.4 Mio. €)</td>\n",
       "                        <td id=\"T_520ba17e_af65_11e9_85fb_032492921ecbrow3_col4\" class=\"data row3 col4\" ><img src=\"ULI_Mathematik.png\", width=250, height=200/></td>\n",
       "            </tr>\n",
       "            <tr>\n",
       "                        <th id=\"T_520ba17e_af65_11e9_85fb_032492921ecblevel0_row4\" class=\"row_heading level0 row4\" >Maschinenbau</th>\n",
       "                        <td id=\"T_520ba17e_af65_11e9_85fb_032492921ecbrow4_col0\" class=\"data row4 col0\" >9.53%</td>\n",
       "                        <td id=\"T_520ba17e_af65_11e9_85fb_032492921ecbrow4_col1\" class=\"data row4 col1\" >4. Platz</td>\n",
       "                        <td id=\"T_520ba17e_af65_11e9_85fb_032492921ecbrow4_col2\" class=\"data row4 col2\" >2,788,752 €</td>\n",
       "                        <td id=\"T_520ba17e_af65_11e9_85fb_032492921ecbrow4_col3\" class=\"data row4 col3\" >Technische Universität Graz (21.3 Mio. €)</td>\n",
       "                        <td id=\"T_520ba17e_af65_11e9_85fb_032492921ecbrow4_col4\" class=\"data row4 col4\" ><img src=\"ULI_Maschinenbau.png\", width=250, height=200/></td>\n",
       "            </tr>\n",
       "    </tbody></table>"
      ],
      "text/plain": [
       "<IPython.core.display.HTML object>"
      ]
     },
     "metadata": {},
     "output_type": "display_data"
    },
    {
     "data": {
      "text/html": [
       "<h4>Ähnliche Universitäten aufgrund der Drittmittel-Struktur</h3>"
      ],
      "text/plain": [
       "<IPython.core.display.HTML object>"
      ]
     },
     "metadata": {},
     "output_type": "display_data"
    },
    {
     "data": {
      "text/html": [
       "<p><strong>TUW</strong> (71.0%, wegen &auml;hnlicher Relevanz von Elektrotechnik, Elektronik, Informationstechnik, Physik, Astronomie, Informatik), <strong>TUG</strong> (51.1%, wegen &auml;hnlicher Relevanz von Elektrotechnik, Elektronik, Informationstechnik, Maschinenbau, Informatik)</p>"
      ],
      "text/plain": [
       "<IPython.core.display.HTML object>"
      ]
     },
     "metadata": {},
     "output_type": "display_data"
    },
    {
     "data": {
      "text/html": [
       "<p><small>Universitäten mit einer Ähnlichkeit von weniger als 50% werden nicht angezeigt.</small></p>"
      ],
      "text/plain": [
       "<IPython.core.display.HTML object>"
      ]
     },
     "metadata": {},
     "output_type": "display_data"
    },
    {
     "data": {
      "text/html": [
       "<h3>Universität für Musik und darstellende Kunst Wien</h3>"
      ],
      "text/plain": [
       "<IPython.core.display.HTML object>"
      ]
     },
     "metadata": {},
     "output_type": "display_data"
    },
    {
     "data": {
      "text/html": [
       "<h4>Drittmittel-Struktur</h4>"
      ],
      "text/plain": [
       "<IPython.core.display.HTML object>"
      ]
     },
     "metadata": {},
     "output_type": "display_data"
    },
    {
     "data": {
      "text/html": [
       "Angezeigt werden die gr&ouml;&szlig;ten WZW, die insgesamt mehr als 66.7% der Erl&ouml;se an der Universität für Musik und darstellende Kunst Wien ausmachen (exakt: 68.5%). Jeder andere WZW tr&auml;gt weniger als 10.3% bei. Die Spalte \"Ranking\" bezieht sich  auf den &ouml;sterreichweiten Vergleich der absoluten Werte im jeweiligen WZW."
      ],
      "text/plain": [
       "<IPython.core.display.HTML object>"
      ]
     },
     "metadata": {},
     "output_type": "display_data"
    },
    {
     "data": {
      "text/html": [
       "<style  type=\"text/css\" >\n",
       "    #T_5242ef76_af65_11e9_85fb_032492921ecbrow0_col0 {\n",
       "            background-color:  white;\n",
       "        }    #T_5242ef76_af65_11e9_85fb_032492921ecbrow0_col1 {\n",
       "            background-color:  white;\n",
       "        }    #T_5242ef76_af65_11e9_85fb_032492921ecbrow0_col2 {\n",
       "            background-color:  white;\n",
       "        }    #T_5242ef76_af65_11e9_85fb_032492921ecbrow0_col3 {\n",
       "            background-color:  white;\n",
       "        }    #T_5242ef76_af65_11e9_85fb_032492921ecbrow0_col4 {\n",
       "            background-color:  white;\n",
       "        }    #T_5242ef76_af65_11e9_85fb_032492921ecbrow1_col0 {\n",
       "            background-color:  yellow;\n",
       "        }    #T_5242ef76_af65_11e9_85fb_032492921ecbrow1_col1 {\n",
       "            background-color:  yellow;\n",
       "        }    #T_5242ef76_af65_11e9_85fb_032492921ecbrow1_col2 {\n",
       "            background-color:  yellow;\n",
       "        }    #T_5242ef76_af65_11e9_85fb_032492921ecbrow1_col3 {\n",
       "            background-color:  yellow;\n",
       "        }    #T_5242ef76_af65_11e9_85fb_032492921ecbrow1_col4 {\n",
       "            background-color:  yellow;\n",
       "        }    #T_5242ef76_af65_11e9_85fb_032492921ecbrow2_col0 {\n",
       "            background-color:  yellow;\n",
       "        }    #T_5242ef76_af65_11e9_85fb_032492921ecbrow2_col1 {\n",
       "            background-color:  yellow;\n",
       "        }    #T_5242ef76_af65_11e9_85fb_032492921ecbrow2_col2 {\n",
       "            background-color:  yellow;\n",
       "        }    #T_5242ef76_af65_11e9_85fb_032492921ecbrow2_col3 {\n",
       "            background-color:  yellow;\n",
       "        }    #T_5242ef76_af65_11e9_85fb_032492921ecbrow2_col4 {\n",
       "            background-color:  yellow;\n",
       "        }    #T_5242ef76_af65_11e9_85fb_032492921ecbrow3_col0 {\n",
       "            background-color:  white;\n",
       "        }    #T_5242ef76_af65_11e9_85fb_032492921ecbrow3_col1 {\n",
       "            background-color:  white;\n",
       "        }    #T_5242ef76_af65_11e9_85fb_032492921ecbrow3_col2 {\n",
       "            background-color:  white;\n",
       "        }    #T_5242ef76_af65_11e9_85fb_032492921ecbrow3_col3 {\n",
       "            background-color:  white;\n",
       "        }    #T_5242ef76_af65_11e9_85fb_032492921ecbrow3_col4 {\n",
       "            background-color:  white;\n",
       "        }</style><table id=\"T_5242ef76_af65_11e9_85fb_032492921ecb\" ><thead>    <tr>        <th class=\"blank level0\" ></th>        <th class=\"col_heading level0 col0\" >Intern</th>        <th class=\"col_heading level0 col1\" >Ranking</th>        <th class=\"col_heading level0 col2\" >Erlöse</th>        <th class=\"col_heading level0 col3\" >Beste Universität</th>        <th class=\"col_heading level0 col4\" >Universität im Vergleich</th>    </tr>    <tr>        <th class=\"index_name level0\" >WZW</th>        <th class=\"blank\" ></th>        <th class=\"blank\" ></th>        <th class=\"blank\" ></th>        <th class=\"blank\" ></th>        <th class=\"blank\" ></th>    </tr></thead><tbody>\n",
       "                <tr>\n",
       "                        <th id=\"T_5242ef76_af65_11e9_85fb_032492921ecblevel0_row0\" class=\"row_heading level0 row0\" >Kunstwissenschaften</th>\n",
       "                        <td id=\"T_5242ef76_af65_11e9_85fb_032492921ecbrow0_col0\" class=\"data row0 col0\" >33.82%</td>\n",
       "                        <td id=\"T_5242ef76_af65_11e9_85fb_032492921ecbrow0_col1\" class=\"data row0 col1\" >4. Platz</td>\n",
       "                        <td id=\"T_5242ef76_af65_11e9_85fb_032492921ecbrow0_col2\" class=\"data row0 col2\" >392,027 €</td>\n",
       "                        <td id=\"T_5242ef76_af65_11e9_85fb_032492921ecbrow0_col3\" class=\"data row0 col3\" >Universität Wien (2.4 Mio. €)</td>\n",
       "                        <td id=\"T_5242ef76_af65_11e9_85fb_032492921ecbrow0_col4\" class=\"data row0 col4\" ><img src=\"MKW_Kunstwissenschaften.png\", width=250, height=200/></td>\n",
       "            </tr>\n",
       "            <tr>\n",
       "                        <th id=\"T_5242ef76_af65_11e9_85fb_032492921ecblevel0_row1\" class=\"row_heading level0 row1\" >Nicht bekannt/nicht zuordenbar</th>\n",
       "                        <td id=\"T_5242ef76_af65_11e9_85fb_032492921ecbrow1_col0\" class=\"data row1 col0\" >13.71%</td>\n",
       "                        <td id=\"T_5242ef76_af65_11e9_85fb_032492921ecbrow1_col1\" class=\"data row1 col1\" >3. Platz</td>\n",
       "                        <td id=\"T_5242ef76_af65_11e9_85fb_032492921ecbrow1_col2\" class=\"data row1 col2\" >158,906 €</td>\n",
       "                        <td id=\"T_5242ef76_af65_11e9_85fb_032492921ecbrow1_col3\" class=\"data row1 col3\" >Universität Linz (0.3 Mio. €)</td>\n",
       "                        <td id=\"T_5242ef76_af65_11e9_85fb_032492921ecbrow1_col4\" class=\"data row1 col4\" ><img src=\"MKW_Nicht_bekanntnicht_zuordenbar.png\", width=250, height=200/></td>\n",
       "            </tr>\n",
       "            <tr>\n",
       "                        <th id=\"T_5242ef76_af65_11e9_85fb_032492921ecblevel0_row2\" class=\"row_heading level0 row2\" >Andere Geisteswissenschaften</th>\n",
       "                        <td id=\"T_5242ef76_af65_11e9_85fb_032492921ecbrow2_col0\" class=\"data row2 col0\" >10.65%</td>\n",
       "                        <td id=\"T_5242ef76_af65_11e9_85fb_032492921ecbrow2_col1\" class=\"data row2 col1\" >2. Platz</td>\n",
       "                        <td id=\"T_5242ef76_af65_11e9_85fb_032492921ecbrow2_col2\" class=\"data row2 col2\" >123,476 €</td>\n",
       "                        <td id=\"T_5242ef76_af65_11e9_85fb_032492921ecbrow2_col3\" class=\"data row2 col3\" >Universität Wien (0.2 Mio. €)</td>\n",
       "                        <td id=\"T_5242ef76_af65_11e9_85fb_032492921ecbrow2_col4\" class=\"data row2 col4\" ><img src=\"MKW_Andere_Geisteswissenschaften.png\", width=250, height=200/></td>\n",
       "            </tr>\n",
       "            <tr>\n",
       "                        <th id=\"T_5242ef76_af65_11e9_85fb_032492921ecblevel0_row3\" class=\"row_heading level0 row3\" >Informatik</th>\n",
       "                        <td id=\"T_5242ef76_af65_11e9_85fb_032492921ecbrow3_col0\" class=\"data row3 col0\" >10.27%</td>\n",
       "                        <td id=\"T_5242ef76_af65_11e9_85fb_032492921ecbrow3_col1\" class=\"data row3 col1\" >13. Platz</td>\n",
       "                        <td id=\"T_5242ef76_af65_11e9_85fb_032492921ecbrow3_col2\" class=\"data row3 col2\" >119,097 €</td>\n",
       "                        <td id=\"T_5242ef76_af65_11e9_85fb_032492921ecbrow3_col3\" class=\"data row3 col3\" >Technische Universität Wien (10.6 Mio. €)</td>\n",
       "                        <td id=\"T_5242ef76_af65_11e9_85fb_032492921ecbrow3_col4\" class=\"data row3 col4\" ><img src=\"MKW_Informatik.png\", width=250, height=200/></td>\n",
       "            </tr>\n",
       "    </tbody></table>"
      ],
      "text/plain": [
       "<IPython.core.display.HTML object>"
      ]
     },
     "metadata": {},
     "output_type": "display_data"
    },
    {
     "data": {
      "text/html": [
       "<h4>Ähnliche Universitäten aufgrund der Drittmittel-Struktur</h3>"
      ],
      "text/plain": [
       "<IPython.core.display.HTML object>"
      ]
     },
     "metadata": {},
     "output_type": "display_data"
    },
    {
     "data": {
      "text/html": [
       "<p>Die Universität für Musik und darstellende Kunst Wien ist stark spezialisiert.<br/><strong>Keine</strong> andere Universität ähnelt der Universität für Musik und darstellende Kunst Wien in der Drittmittel-Struktur in auffälliger Weise.</p>"
      ],
      "text/plain": [
       "<IPython.core.display.HTML object>"
      ]
     },
     "metadata": {},
     "output_type": "display_data"
    },
    {
     "data": {
      "text/html": [
       "<p><small>Universitäten mit einer Ähnlichkeit von weniger als 50% werden nicht angezeigt.</small></p>"
      ],
      "text/plain": [
       "<IPython.core.display.HTML object>"
      ]
     },
     "metadata": {},
     "output_type": "display_data"
    },
    {
     "data": {
      "text/html": [
       "<h3>Wirtschaftsuniversität Wien</h3>"
      ],
      "text/plain": [
       "<IPython.core.display.HTML object>"
      ]
     },
     "metadata": {},
     "output_type": "display_data"
    },
    {
     "data": {
      "text/html": [
       "<h4>Drittmittel-Struktur</h4>"
      ],
      "text/plain": [
       "<IPython.core.display.HTML object>"
      ]
     },
     "metadata": {},
     "output_type": "display_data"
    },
    {
     "data": {
      "text/html": [
       "Angezeigt werden die gr&ouml;&szlig;ten WZW, die insgesamt mehr als 66.7% der Erl&ouml;se an der Wirtschaftsuniversität Wien ausmachen (exakt: 76.9%). Jeder andere WZW tr&auml;gt weniger als 21.0% bei. Die Spalte \"Ranking\" bezieht sich  auf den &ouml;sterreichweiten Vergleich der absoluten Werte im jeweiligen WZW."
      ],
      "text/plain": [
       "<IPython.core.display.HTML object>"
      ]
     },
     "metadata": {},
     "output_type": "display_data"
    },
    {
     "data": {
      "text/html": [
       "<style  type=\"text/css\" >\n",
       "    #T_525f482e_af65_11e9_85fb_032492921ecbrow0_col0 {\n",
       "            background-color:  green;\n",
       "        }    #T_525f482e_af65_11e9_85fb_032492921ecbrow0_col1 {\n",
       "            background-color:  green;\n",
       "        }    #T_525f482e_af65_11e9_85fb_032492921ecbrow0_col2 {\n",
       "            background-color:  green;\n",
       "        }    #T_525f482e_af65_11e9_85fb_032492921ecbrow0_col3 {\n",
       "            background-color:  green;\n",
       "        }    #T_525f482e_af65_11e9_85fb_032492921ecbrow0_col4 {\n",
       "            background-color:  green;\n",
       "        }    #T_525f482e_af65_11e9_85fb_032492921ecbrow1_col0 {\n",
       "            background-color:  green;\n",
       "        }    #T_525f482e_af65_11e9_85fb_032492921ecbrow1_col1 {\n",
       "            background-color:  green;\n",
       "        }    #T_525f482e_af65_11e9_85fb_032492921ecbrow1_col2 {\n",
       "            background-color:  green;\n",
       "        }    #T_525f482e_af65_11e9_85fb_032492921ecbrow1_col3 {\n",
       "            background-color:  green;\n",
       "        }    #T_525f482e_af65_11e9_85fb_032492921ecbrow1_col4 {\n",
       "            background-color:  green;\n",
       "        }</style><table id=\"T_525f482e_af65_11e9_85fb_032492921ecb\" ><thead>    <tr>        <th class=\"blank level0\" ></th>        <th class=\"col_heading level0 col0\" >Intern</th>        <th class=\"col_heading level0 col1\" >Ranking</th>        <th class=\"col_heading level0 col2\" >Erlöse</th>        <th class=\"col_heading level0 col3\" >Beste Universität</th>        <th class=\"col_heading level0 col4\" >Universität im Vergleich</th>    </tr>    <tr>        <th class=\"index_name level0\" >WZW</th>        <th class=\"blank\" ></th>        <th class=\"blank\" ></th>        <th class=\"blank\" ></th>        <th class=\"blank\" ></th>        <th class=\"blank\" ></th>    </tr></thead><tbody>\n",
       "                <tr>\n",
       "                        <th id=\"T_525f482e_af65_11e9_85fb_032492921ecblevel0_row0\" class=\"row_heading level0 row0\" >Wirtschaftswissenschaften</th>\n",
       "                        <td id=\"T_525f482e_af65_11e9_85fb_032492921ecbrow0_col0\" class=\"data row0 col0\" >55.96%</td>\n",
       "                        <td id=\"T_525f482e_af65_11e9_85fb_032492921ecbrow0_col1\" class=\"data row0 col1\" >1. Platz</td>\n",
       "                        <td id=\"T_525f482e_af65_11e9_85fb_032492921ecbrow0_col2\" class=\"data row0 col2\" >7,199,353 €</td>\n",
       "                        <td id=\"T_525f482e_af65_11e9_85fb_032492921ecbrow0_col3\" class=\"data row0 col3\" >(diese)</td>\n",
       "                        <td id=\"T_525f482e_af65_11e9_85fb_032492921ecbrow0_col4\" class=\"data row0 col4\" ><img src=\"WUW_Wirtschaftswissenschaften.png\", width=250, height=200/></td>\n",
       "            </tr>\n",
       "            <tr>\n",
       "                        <th id=\"T_525f482e_af65_11e9_85fb_032492921ecblevel0_row1\" class=\"row_heading level0 row1\" >Rechtswissenschaften</th>\n",
       "                        <td id=\"T_525f482e_af65_11e9_85fb_032492921ecbrow1_col0\" class=\"data row1 col0\" >20.98%</td>\n",
       "                        <td id=\"T_525f482e_af65_11e9_85fb_032492921ecbrow1_col1\" class=\"data row1 col1\" >1. Platz</td>\n",
       "                        <td id=\"T_525f482e_af65_11e9_85fb_032492921ecbrow1_col2\" class=\"data row1 col2\" >2,699,082 €</td>\n",
       "                        <td id=\"T_525f482e_af65_11e9_85fb_032492921ecbrow1_col3\" class=\"data row1 col3\" >(diese)</td>\n",
       "                        <td id=\"T_525f482e_af65_11e9_85fb_032492921ecbrow1_col4\" class=\"data row1 col4\" ><img src=\"WUW_Rechtswissenschaften.png\", width=250, height=200/></td>\n",
       "            </tr>\n",
       "    </tbody></table>"
      ],
      "text/plain": [
       "<IPython.core.display.HTML object>"
      ]
     },
     "metadata": {},
     "output_type": "display_data"
    },
    {
     "data": {
      "text/html": [
       "<h4>Ähnliche Universitäten aufgrund der Drittmittel-Struktur</h3>"
      ],
      "text/plain": [
       "<IPython.core.display.HTML object>"
      ]
     },
     "metadata": {},
     "output_type": "display_data"
    },
    {
     "data": {
      "text/html": [
       "<p>Die Wirtschaftsuniversität Wien ist stark spezialisiert.<br/><strong>Keine</strong> andere Universität ähnelt der Wirtschaftsuniversität Wien in der Drittmittel-Struktur in auffälliger Weise.</p>"
      ],
      "text/plain": [
       "<IPython.core.display.HTML object>"
      ]
     },
     "metadata": {},
     "output_type": "display_data"
    },
    {
     "data": {
      "text/html": [
       "<p><small>Universitäten mit einer Ähnlichkeit von weniger als 50% werden nicht angezeigt.</small></p>"
      ],
      "text/plain": [
       "<IPython.core.display.HTML object>"
      ]
     },
     "metadata": {},
     "output_type": "display_data"
    },
    {
     "data": {
      "text/html": [
       "<h3>Medizinische Universität Wien</h3>"
      ],
      "text/plain": [
       "<IPython.core.display.HTML object>"
      ]
     },
     "metadata": {},
     "output_type": "display_data"
    },
    {
     "data": {
      "text/html": [
       "<h4>Drittmittel-Struktur</h4>"
      ],
      "text/plain": [
       "<IPython.core.display.HTML object>"
      ]
     },
     "metadata": {},
     "output_type": "display_data"
    },
    {
     "data": {
      "text/html": [
       "Angezeigt werden die gr&ouml;&szlig;ten WZW, die insgesamt mehr als 66.7% der Erl&ouml;se an der Medizinische Universität Wien ausmachen (exakt: 81.3%). Jeder andere WZW tr&auml;gt weniger als 18.7% bei. Die Spalte \"Ranking\" bezieht sich  auf den &ouml;sterreichweiten Vergleich der absoluten Werte im jeweiligen WZW."
      ],
      "text/plain": [
       "<IPython.core.display.HTML object>"
      ]
     },
     "metadata": {},
     "output_type": "display_data"
    },
    {
     "data": {
      "text/html": [
       "<style  type=\"text/css\" >\n",
       "    #T_527e1e5c_af65_11e9_85fb_032492921ecbrow0_col0 {\n",
       "            background-color:  green;\n",
       "        }    #T_527e1e5c_af65_11e9_85fb_032492921ecbrow0_col1 {\n",
       "            background-color:  green;\n",
       "        }    #T_527e1e5c_af65_11e9_85fb_032492921ecbrow0_col2 {\n",
       "            background-color:  green;\n",
       "        }    #T_527e1e5c_af65_11e9_85fb_032492921ecbrow0_col3 {\n",
       "            background-color:  green;\n",
       "        }    #T_527e1e5c_af65_11e9_85fb_032492921ecbrow0_col4 {\n",
       "            background-color:  green;\n",
       "        }    #T_527e1e5c_af65_11e9_85fb_032492921ecbrow1_col0 {\n",
       "            background-color:  yellow;\n",
       "        }    #T_527e1e5c_af65_11e9_85fb_032492921ecbrow1_col1 {\n",
       "            background-color:  yellow;\n",
       "        }    #T_527e1e5c_af65_11e9_85fb_032492921ecbrow1_col2 {\n",
       "            background-color:  yellow;\n",
       "        }    #T_527e1e5c_af65_11e9_85fb_032492921ecbrow1_col3 {\n",
       "            background-color:  yellow;\n",
       "        }    #T_527e1e5c_af65_11e9_85fb_032492921ecbrow1_col4 {\n",
       "            background-color:  yellow;\n",
       "        }</style><table id=\"T_527e1e5c_af65_11e9_85fb_032492921ecb\" ><thead>    <tr>        <th class=\"blank level0\" ></th>        <th class=\"col_heading level0 col0\" >Intern</th>        <th class=\"col_heading level0 col1\" >Ranking</th>        <th class=\"col_heading level0 col2\" >Erlöse</th>        <th class=\"col_heading level0 col3\" >Beste Universität</th>        <th class=\"col_heading level0 col4\" >Universität im Vergleich</th>    </tr>    <tr>        <th class=\"index_name level0\" >WZW</th>        <th class=\"blank\" ></th>        <th class=\"blank\" ></th>        <th class=\"blank\" ></th>        <th class=\"blank\" ></th>        <th class=\"blank\" ></th>    </tr></thead><tbody>\n",
       "                <tr>\n",
       "                        <th id=\"T_527e1e5c_af65_11e9_85fb_032492921ecblevel0_row0\" class=\"row_heading level0 row0\" >Klinische Medizin</th>\n",
       "                        <td id=\"T_527e1e5c_af65_11e9_85fb_032492921ecbrow0_col0\" class=\"data row0 col0\" >59.00%</td>\n",
       "                        <td id=\"T_527e1e5c_af65_11e9_85fb_032492921ecbrow0_col1\" class=\"data row0 col1\" >1. Platz</td>\n",
       "                        <td id=\"T_527e1e5c_af65_11e9_85fb_032492921ecbrow0_col2\" class=\"data row0 col2\" >58,418,319 €</td>\n",
       "                        <td id=\"T_527e1e5c_af65_11e9_85fb_032492921ecbrow0_col3\" class=\"data row0 col3\" >(diese)</td>\n",
       "                        <td id=\"T_527e1e5c_af65_11e9_85fb_032492921ecbrow0_col4\" class=\"data row0 col4\" ><img src=\"MUW_Klinische_Medizin.png\", width=250, height=200/></td>\n",
       "            </tr>\n",
       "            <tr>\n",
       "                        <th id=\"T_527e1e5c_af65_11e9_85fb_032492921ecblevel0_row1\" class=\"row_heading level0 row1\" >Medizinisch-theoretische Wissenschaften, Pharmazie</th>\n",
       "                        <td id=\"T_527e1e5c_af65_11e9_85fb_032492921ecbrow1_col0\" class=\"data row1 col0\" >22.27%</td>\n",
       "                        <td id=\"T_527e1e5c_af65_11e9_85fb_032492921ecbrow1_col1\" class=\"data row1 col1\" >2. Platz</td>\n",
       "                        <td id=\"T_527e1e5c_af65_11e9_85fb_032492921ecbrow1_col2\" class=\"data row1 col2\" >22,050,940 €</td>\n",
       "                        <td id=\"T_527e1e5c_af65_11e9_85fb_032492921ecbrow1_col3\" class=\"data row1 col3\" >Medizinische Universität Graz (34.1 Mio. €)</td>\n",
       "                        <td id=\"T_527e1e5c_af65_11e9_85fb_032492921ecbrow1_col4\" class=\"data row1 col4\" ><img src=\"MUW_Medizinisch-theoretische_Wissenschaften_Pharmazie.png\", width=250, height=200/></td>\n",
       "            </tr>\n",
       "    </tbody></table>"
      ],
      "text/plain": [
       "<IPython.core.display.HTML object>"
      ]
     },
     "metadata": {},
     "output_type": "display_data"
    },
    {
     "data": {
      "text/html": [
       "<h4>Ähnliche Universitäten aufgrund der Drittmittel-Struktur</h3>"
      ],
      "text/plain": [
       "<IPython.core.display.HTML object>"
      ]
     },
     "metadata": {},
     "output_type": "display_data"
    },
    {
     "data": {
      "text/html": [
       "<p><strong>MUI</strong> (60.9%, wegen &auml;hnlicher Relevanz von Klinische Medizin, Medizinisch-theoretische Wissenschaften, Pharmazie, Gesundheitswissenschaften)</p>"
      ],
      "text/plain": [
       "<IPython.core.display.HTML object>"
      ]
     },
     "metadata": {},
     "output_type": "display_data"
    },
    {
     "data": {
      "text/html": [
       "<p><small>Universitäten mit einer Ähnlichkeit von weniger als 50% werden nicht angezeigt.</small></p>"
      ],
      "text/plain": [
       "<IPython.core.display.HTML object>"
      ]
     },
     "metadata": {},
     "output_type": "display_data"
    },
    {
     "data": {
      "text/html": [
       "<h3>Akademie der bildenden Künste Wien</h3>"
      ],
      "text/plain": [
       "<IPython.core.display.HTML object>"
      ]
     },
     "metadata": {},
     "output_type": "display_data"
    },
    {
     "data": {
      "text/html": [
       "<h4>Drittmittel-Struktur</h4>"
      ],
      "text/plain": [
       "<IPython.core.display.HTML object>"
      ]
     },
     "metadata": {},
     "output_type": "display_data"
    },
    {
     "data": {
      "text/html": [
       "Angezeigt werden die gr&ouml;&szlig;ten WZW, die insgesamt mehr als 66.7% der Erl&ouml;se an der Akademie der bildenden Künste Wien ausmachen (exakt: 70.4%). Jeder andere WZW tr&auml;gt weniger als 29.6% bei. Die Spalte \"Ranking\" bezieht sich  auf den &ouml;sterreichweiten Vergleich der absoluten Werte im jeweiligen WZW."
      ],
      "text/plain": [
       "<IPython.core.display.HTML object>"
      ]
     },
     "metadata": {},
     "output_type": "display_data"
    },
    {
     "data": {
      "text/html": [
       "<style  type=\"text/css\" >\n",
       "    #T_529b0742_af65_11e9_85fb_032492921ecbrow0_col0 {\n",
       "            background-color:  yellow;\n",
       "        }    #T_529b0742_af65_11e9_85fb_032492921ecbrow0_col1 {\n",
       "            background-color:  yellow;\n",
       "        }    #T_529b0742_af65_11e9_85fb_032492921ecbrow0_col2 {\n",
       "            background-color:  yellow;\n",
       "        }    #T_529b0742_af65_11e9_85fb_032492921ecbrow0_col3 {\n",
       "            background-color:  yellow;\n",
       "        }    #T_529b0742_af65_11e9_85fb_032492921ecbrow0_col4 {\n",
       "            background-color:  yellow;\n",
       "        }    #T_529b0742_af65_11e9_85fb_032492921ecbrow1_col0 {\n",
       "            background-color:  green;\n",
       "        }    #T_529b0742_af65_11e9_85fb_032492921ecbrow1_col1 {\n",
       "            background-color:  green;\n",
       "        }    #T_529b0742_af65_11e9_85fb_032492921ecbrow1_col2 {\n",
       "            background-color:  green;\n",
       "        }    #T_529b0742_af65_11e9_85fb_032492921ecbrow1_col3 {\n",
       "            background-color:  green;\n",
       "        }    #T_529b0742_af65_11e9_85fb_032492921ecbrow1_col4 {\n",
       "            background-color:  green;\n",
       "        }</style><table id=\"T_529b0742_af65_11e9_85fb_032492921ecb\" ><thead>    <tr>        <th class=\"blank level0\" ></th>        <th class=\"col_heading level0 col0\" >Intern</th>        <th class=\"col_heading level0 col1\" >Ranking</th>        <th class=\"col_heading level0 col2\" >Erlöse</th>        <th class=\"col_heading level0 col3\" >Beste Universität</th>        <th class=\"col_heading level0 col4\" >Universität im Vergleich</th>    </tr>    <tr>        <th class=\"index_name level0\" >WZW</th>        <th class=\"blank\" ></th>        <th class=\"blank\" ></th>        <th class=\"blank\" ></th>        <th class=\"blank\" ></th>        <th class=\"blank\" ></th>    </tr></thead><tbody>\n",
       "                <tr>\n",
       "                        <th id=\"T_529b0742_af65_11e9_85fb_032492921ecblevel0_row0\" class=\"row_heading level0 row0\" >Kunstwissenschaften</th>\n",
       "                        <td id=\"T_529b0742_af65_11e9_85fb_032492921ecbrow0_col0\" class=\"data row0 col0\" >36.19%</td>\n",
       "                        <td id=\"T_529b0742_af65_11e9_85fb_032492921ecbrow0_col1\" class=\"data row0 col1\" >3. Platz</td>\n",
       "                        <td id=\"T_529b0742_af65_11e9_85fb_032492921ecbrow0_col2\" class=\"data row0 col2\" >587,593 €</td>\n",
       "                        <td id=\"T_529b0742_af65_11e9_85fb_032492921ecbrow0_col3\" class=\"data row0 col3\" >Universität Wien (2.4 Mio. €)</td>\n",
       "                        <td id=\"T_529b0742_af65_11e9_85fb_032492921ecbrow0_col4\" class=\"data row0 col4\" ><img src=\"ABW_Kunstwissenschaften.png\", width=250, height=200/></td>\n",
       "            </tr>\n",
       "            <tr>\n",
       "                        <th id=\"T_529b0742_af65_11e9_85fb_032492921ecblevel0_row1\" class=\"row_heading level0 row1\" >Pädagogik / Vermittlung (2)</th>\n",
       "                        <td id=\"T_529b0742_af65_11e9_85fb_032492921ecbrow1_col0\" class=\"data row1 col0\" >34.23%</td>\n",
       "                        <td id=\"T_529b0742_af65_11e9_85fb_032492921ecbrow1_col1\" class=\"data row1 col1\" >1. Platz</td>\n",
       "                        <td id=\"T_529b0742_af65_11e9_85fb_032492921ecbrow1_col2\" class=\"data row1 col2\" >555,820 €</td>\n",
       "                        <td id=\"T_529b0742_af65_11e9_85fb_032492921ecbrow1_col3\" class=\"data row1 col3\" >(diese)</td>\n",
       "                        <td id=\"T_529b0742_af65_11e9_85fb_032492921ecbrow1_col4\" class=\"data row1 col4\" ><img src=\"ABW_Pädagogik__Vermittlung_2.png\", width=250, height=200/></td>\n",
       "            </tr>\n",
       "    </tbody></table>"
      ],
      "text/plain": [
       "<IPython.core.display.HTML object>"
      ]
     },
     "metadata": {},
     "output_type": "display_data"
    },
    {
     "data": {
      "text/html": [
       "<h4>Ähnliche Universitäten aufgrund der Drittmittel-Struktur</h3>"
      ],
      "text/plain": [
       "<IPython.core.display.HTML object>"
      ]
     },
     "metadata": {},
     "output_type": "display_data"
    },
    {
     "data": {
      "text/html": [
       "<p><strong>UAW</strong> (55.7%, wegen &auml;hnlicher Relevanz von Kunstwissenschaften, Architektur, Bildende Kunst)</p>"
      ],
      "text/plain": [
       "<IPython.core.display.HTML object>"
      ]
     },
     "metadata": {},
     "output_type": "display_data"
    },
    {
     "data": {
      "text/html": [
       "<p><small>Universitäten mit einer Ähnlichkeit von weniger als 50% werden nicht angezeigt.</small></p>"
      ],
      "text/plain": [
       "<IPython.core.display.HTML object>"
      ]
     },
     "metadata": {},
     "output_type": "display_data"
    }
   ],
   "source": [
    "%matplotlib inline \n",
    "\n",
    "from pandas import Series \n",
    "import pandas as pd \n",
    "import numpy as np\n",
    "from IPython.display import HTML\n",
    "from IPython.display import Image\n",
    "import matplotlib.pyplot as plt\n",
    "from io import BytesIO\n",
    "import re\n",
    "\n",
    "#data = pd.read_csv('1.C.1.csv', sep=';', index_col=[0, 1, 2, 3])\n",
    "#data.sort_index(inplace=True)\n",
    "\n",
    "#idx = pd.IndexSlice\n",
    "#tmp = data.loc[idx[:, 'Psychologie', :, 2018], :]\n",
    "\n",
    "#print(tmp.index.get_level_values('university').unique())\n",
    "#display(data.loc['FWF'].xs(2018, level='year'))\n",
    "#display(data.xs(2018, level='year'))\n",
    "\n",
    "university_short_forms = { 'Universität Wien': 'UWI',\n",
    "                           'Universität Graz': 'UGR',\n",
    "                           'Universität Innsbruck': 'UIN',\n",
    "                           'Universität Salzburg': 'USA',\n",
    "                           'Universität Klagenfurt': 'UKL',\n",
    "                           'Universität für Bodenkultur Wien': 'BKW',\n",
    "                           'Universität für künstlerische und industrielle Gestaltung Linz': 'UGL',\n",
    "                           'Universität für angewandte Kunst Wien': 'UAW',\n",
    "                           'Universität Mozarteum Salzburg': 'UMS',\n",
    "                           'Medizinische Universität Wien': 'MUW',\n",
    "                           'Medizinische Universität Graz': 'MUG',\n",
    "                           'Medizinische Universität Innsbruck': 'MUI',\n",
    "                           'Universität Linz': 'ULI',\n",
    "                           'Akademie der bildenden Künste Wien': 'ABW',\n",
    "                           'Technische Universität Wien': 'TUW',\n",
    "                           'Technische Universität Graz': 'TUG',\n",
    "                           'Veterinärmedizinische Universität Wien': 'VMW',\n",
    "                           'Montanuniversität Leoben': 'MUL',\n",
    "                           'Universität für Weiterbildung Krems': 'UWK',\n",
    "                           'Wirtschaftsuniversität Wien': 'WUW',\n",
    "                           'Universität für Musik und darstellende Kunst Wien': 'MKW',\n",
    "                           'Universität für Musik und darstellende Kunst Graz': 'MKG'\n",
    "                         }\n",
    "\n",
    "def shorten(name):\n",
    "    if name in university_short_forms:\n",
    "        return university_short_forms[name]\n",
    "    else:\n",
    "        return name\n",
    "\n",
    "\n",
    "class Dimension:\n",
    "    @classmethod\n",
    "    def create(cls, dataframe, dimensions):\n",
    "        dims = dict()\n",
    "        for dim in dimensions:\n",
    "            assert dim in dataframe.index.names, \"There is no index '\" + dim + \"'\"\n",
    "            cats = dataframe.index.get_level_values(dim).unique()\n",
    "            dims[dim] = Dimension(dim, cats.values)\n",
    "        return dims\n",
    "    \n",
    "    def __init__(self, name, categories):\n",
    "        self.__name = name\n",
    "        self.__categories = categories   \n",
    "    @property\n",
    "    def name (self):\n",
    "        return self.__name\n",
    "    @property\n",
    "    def categories(self):\n",
    "        return self.__categories  \n",
    "    def __str__(self):\n",
    "        return self.name\n",
    "        \n",
    "class Datasheet:\n",
    "    def __init__(self, filename, dimensions, timepoint_name, university_name, value_name):\n",
    "        dataframe = pd.read_csv(filename, sep=';', index_col=list(range(len(dimensions)+2)))        \n",
    "        dataframe.columns = [value_name]\n",
    "        dataframe.sort_index(inplace=True)\n",
    "\n",
    "        assert timepoint_name in dataframe.index.names, \"There is no index '\" + timepoint_name + \"'\"\n",
    "        assert university_name in dataframe.index.names, \"There is no index '\" + university_name + \"'\"\n",
    "        assert value_name in dataframe, \"There is no colum with valid data called '\" + value_name + \"'\"\n",
    "        \n",
    "        self.__dataframe = dataframe\n",
    "        self.__timepoint_idx = timepoint_name\n",
    "        self.__university_idx = university_name\n",
    "        self.__value_column = value_name       \n",
    "        self.__dimensions = Dimension.create(dataframe, dimensions + [university_name, timepoint_name])\n",
    "        self.__timepoints = dataframe.index.get_level_values(timepoint_name).unique()\n",
    "        self.__universities = dataframe.index.get_level_values(university_name).unique()\n",
    "        self.__recent_timepoint = self.__timepoints.max()\n",
    "                \n",
    "    @property\n",
    "    def value_column(self):\n",
    "        return self.__value_column\n",
    "    @property\n",
    "    def university_idx(self):\n",
    "        return self.__university_idx\n",
    "    @property\n",
    "    def timepoint_idx(self):\n",
    "        return self.__timepoint_idx\n",
    "    @property\n",
    "    def dimensions(self):\n",
    "        return self.__dimensions\n",
    "    @property\n",
    "    def most_recent(self):\n",
    "        return self.__recent_timepoint\n",
    "    @property\n",
    "    def universities(self):\n",
    "        return self.__universities\n",
    "    \n",
    "    def only(self, conditions):\n",
    "        df = self.__dataframe\n",
    "        if conditions is None:\n",
    "            return df\n",
    "        slices = list()\n",
    "        for dim in self.dimensions.keys():\n",
    "            if self.dimensions[dim].name in conditions.keys():\n",
    "                slices.append(conditions[self.dimensions[dim].name])\n",
    "            else:\n",
    "                slices.append(slice(None))\n",
    "        return df.loc[tuple(slices), :]\n",
    "        \n",
    "    def analyze(self, description, about, filtering=None):\n",
    "        return Analysis(self, description, self.dimensions[about], self.only(filtering) \\\n",
    "                            .sum(level = [self.dimensions[about].name, self.university_idx]))\n",
    "\n",
    "\n",
    "class Analysis:\n",
    "    def __init__(self, sheet, description, about, table):\n",
    "        self.__sheet = sheet\n",
    "        self.__table = table.unstack(about.name, fill_value=0)\n",
    "        self.__about = about\n",
    "        self.__desc = description\n",
    "        \n",
    "        self.__sums = table.sum(axis='columns')\n",
    "        self.__sums.name = sheet.value_column\n",
    "        self.__totals = table.sum(level=[about.name])[sheet.value_column]\n",
    "        self.__grand_total = table.sum()\n",
    "        self.__grand_total.name = 'grand total'\n",
    "        \n",
    "        assert self.__grand_total[sheet.value_column] == self.__sums.sum()\n",
    "        \n",
    "        self.__structure = Structure(self)\n",
    "        self.__ranking = Ranking(self)\n",
    "\n",
    "               \n",
    "    @property\n",
    "    def sheet(self):\n",
    "        return self.__sheet\n",
    "    @property\n",
    "    def table(self):\n",
    "        return self.__table\n",
    "    @property\n",
    "    def horizontal_sums(self):\n",
    "        return self.__sums\n",
    "    @property\n",
    "    def sums(self):\n",
    "        return self.horizontal_sums\n",
    "    @property\n",
    "    def vertical_sums(self):\n",
    "        return self.__totals\n",
    "    @property\n",
    "    def totals(self):\n",
    "        return self.vertical_sums\n",
    "    @property\n",
    "    def about(self):\n",
    "        return self.__about\n",
    "    @property\n",
    "    def description(self):\n",
    "        return self.__desc\n",
    "    @property\n",
    "    def grand_total(self):\n",
    "        return self.__grand_total\n",
    "    @property\n",
    "    def structure(self):\n",
    "        return self.__structure\n",
    "    @property\n",
    "    def ranking(self):\n",
    "        return self.__ranking\n",
    "    \n",
    "    def values(self, university):\n",
    "        tmp = self.table.loc[university]\n",
    "        tmp.name = self.sheet.value_column\n",
    "        return tmp\n",
    "\n",
    "    \n",
    "    \n",
    "class Ranking:\n",
    "    def __init__(self, analysis):\n",
    "        self.__analysis = analysis\n",
    "        self.__rankings = analysis.table.rank(axis='rows', method='max', ascending=False)\n",
    "        \n",
    "        tmp = analysis.horizontal_sums.sum(level=self.analysis.sheet.university_idx)\n",
    "        self.__total_ranking = tmp.rank(method='max', ascending=False).sort_values()\n",
    "        self.__total_ranking.name = 'rank'\n",
    "        \n",
    "    @property\n",
    "    def analysis(self):\n",
    "        return self.__analysis\n",
    "    @property\n",
    "    def table(self):\n",
    "        return self.__rankings\n",
    "    \n",
    "    def of(self, university, category=None):\n",
    "        categories = self.__analysis.about.categories\n",
    "        retval = None\n",
    "        if category == None:\n",
    "            retval = self.__total_ranking.loc[university]\n",
    "            retval.name = 'ranking'\n",
    "        else:\n",
    "            if category in categories:\n",
    "                retval = self.__rankings[self.analysis.sheet.value_column, category][university].astype(int)\n",
    "            else:\n",
    "                retval = self.__rankings.loc[university].astype(int)\n",
    "        return retval\n",
    "\n",
    "    def better_than(self, university, category=None):\n",
    "        if category == None:\n",
    "            return self.__total_ranking[self.__total_ranking < self.__total_ranking[university]]\n",
    "        else:\n",
    "            tmp = self.__rankings[self.analysis.sheet.value_column, category].sort_values()\n",
    "            return tmp[tmp[university] > tmp]\n",
    "        \n",
    "    def best(self, category, top=1):\n",
    "        tmp = self.__rankings[self.analysis.sheet.value_column, category].sort_values()[0:top]\n",
    "        return tmp\n",
    "       \n",
    "        \n",
    "            \n",
    "\n",
    "class Structure:\n",
    "    def __init__(self, analysis):\n",
    "        self.__analysis = analysis\n",
    "        tmp = analysis.sums.sum(level=[analysis.sheet.university_idx])\n",
    "        self.__table = analysis.table.divide(tmp, axis=0).droplevel(level=0, axis='columns')\n",
    "        self.__table.name = analysis.sheet.value_column    \n",
    "        \n",
    "    @property\n",
    "    def table(self):\n",
    "        return self.__table\n",
    "    @property\n",
    "    def analysis(self):\n",
    "        return self.__analysis\n",
    "    \n",
    "    def most_important_to(self, university, cutoff=0.9):\n",
    "        u = self.table.loc[university].sort_values(ascending=False)\n",
    "        u.name = 'relevance'\n",
    "        cumsum = u.cumsum()\n",
    "        cut = (cumsum > cutoff).idxmax()\n",
    "        return u[:cut]\n",
    "\n",
    "    def of(self, university):\n",
    "        tmp = self.table.loc[university].sort_values(ascending=False)\n",
    "        tmp.name = 'relevance'\n",
    "        return tmp\n",
    "    \n",
    "    def similarities_to(self, university):\n",
    "        mirror = self.table.swapaxes('columns', 'rows', copy=False)\n",
    "        uni = mirror[university]\n",
    "        tmp = pd.DataFrame(data=uni.values).reindex_like(mirror)\n",
    "        tmp.loc[:, :] = uni[:, None]\n",
    "        return mirror.combine(tmp, np.minimum)\n",
    "        \n",
    "    def most_similar_to(self, university):\n",
    "        m = self.similarities_to(university)\n",
    "        result = m.sum(axis='rows')\n",
    "        result = result.sort_values(ascending=False)[1:]\n",
    "        result.name = 'similarity'\n",
    "        return result\n",
    "        \n",
    "        \n",
    "def highlight_places(column, series):\n",
    "    if series[column] == 1:\n",
    "        return ['background-color: green']*5\n",
    "    elif series[column] == 2 or series[column] == 3:\n",
    "        return ['background-color: yellow']*5\n",
    "    else:\n",
    "        return ['background-color: white']*5\n",
    "            \n",
    "class University:\n",
    "    def __init__(self, name):\n",
    "        self.__name = name\n",
    "        self.__analyses = list()\n",
    "        \n",
    "    @property\n",
    "    def name(self):\n",
    "        return self.__name\n",
    "    \n",
    "    def add_analysis(self, analysis):\n",
    "        self.__analyses.append(analysis)\n",
    "        \n",
    "    def describe(self):\n",
    "        display(HTML(\"<h3>\" + self.name + \"</h3>\"))\n",
    "        for a in self.__analyses:\n",
    "            display(HTML(\"<h4>\" + a.description + \"-Struktur</h4>\"))\n",
    "            cutoff = 2/3\n",
    "            df = a.structure.most_important_to(self.name, cutoff)\n",
    "            identity = df\n",
    "            rest = 1 - identity.sum()\n",
    "            display(HTML(\"Angezeigt werden die gr&ouml;&szlig;ten WZW, die insgesamt mehr als \" \n",
    "                         + '{:.1%}'.format(cutoff) + ' der Erl&ouml;se an der ' + self.name + ' ausmachen ('\n",
    "                         + 'exakt: '\n",
    "                         + '{:.1%}'.format(identity.sum()) + '). Jeder andere WZW tr&auml;gt weniger als '\n",
    "                         + '{:.1%}'.format(min(rest, identity.min())) + ' bei. Die Spalte \\\"Ranking\\\" bezieht sich '\n",
    "                         + ' auf den &ouml;sterreichweiten Vergleich der absoluten Werte im jeweiligen WZW.'))\n",
    "            \n",
    "            df = df[df > 0] \\\n",
    "                .dropna()   \\\n",
    "                .to_frame()\n",
    "\n",
    "            df = df.join(a.ranking.of(self.name, 'all')) \\\n",
    "                   .join(a.values(self.name))\n",
    "            \n",
    "            best = pd.Series()\n",
    "            better = pd.Series()\n",
    "            best.name = 'best'\n",
    "            better.name = 'better'\n",
    "            plots = dict()\n",
    "            \n",
    "            def get_valid_filename(s):\n",
    "                s = str(s).strip().replace(' ', '_')\n",
    "                return re.sub(r'(?u)[^-\\w.]', '', s)\n",
    "            \n",
    "            for cat in df.index.get_level_values(level=a.about.name):\n",
    "                best_uni = a.ranking.best(cat).index.values[0]\n",
    "                if best_uni == self.name:\n",
    "                    best_uni = '(diese)'\n",
    "                else: \n",
    "                    best_uni += ' (' + '{0:,.1f} Mio. €'.format(a.values(best_uni)[a.sheet.value_column, cat]/1000000) + ')'\n",
    "                    \n",
    "                better_than_me = a.ranking.better_than(self.name, cat)\n",
    "                better_unis = ', '.join(better_than_me.index.values)\n",
    "                \n",
    "                my_rank = a.ranking.of(self.name, cat)\n",
    "                ranks = pd.DataFrame()\n",
    "                ranks.name = cat\n",
    "                for top5 in a.ranking.best(cat, top=max(my_rank+1, 4)).index.values:\n",
    "                    ranks.at[top5, 'funding'] = a.values(top5)[a.sheet.value_column, cat]/1000000\n",
    "                    \n",
    "                figure = plt.figure(figsize=(6,4))                    \n",
    "                ax = ranks.plot.bar(ax=plt.gca(), legend=False, width=1, fontsize=20)\n",
    "                for i, bar in enumerate(ax.patches):\n",
    "                    if i == my_rank-1:\n",
    "                        bar.set_facecolor('#D85010')\n",
    "                    else:\n",
    "                        bar.set_facecolor('#C0C0C0')\n",
    "                ax.set_ylabel('Millionen Euro', fontsize=20)\n",
    "                labels = ax.get_xticklabels()\n",
    "                for label in labels:\n",
    "                    label.set_text(shorten(label.get_text()))\n",
    "                ax.set_xticklabels(labels)\n",
    "                filename = get_valid_filename(shorten(self.name) + '_' + cat + '.png')\n",
    "                plt.tight_layout()\n",
    "                plt.savefig(filename, format='png', transparent=True)\n",
    "                plt.close()\n",
    "                plots[cat] = filename\n",
    "                \n",
    "                \n",
    "                if better_unis == '':\n",
    "                    better_unis = '(keine)'\n",
    "                    \n",
    "                best.at[cat] = best_uni\n",
    "                better.at[cat] = filename #ax#better_unis\n",
    "                \n",
    "            df = df.join(best, on=a.about.name).join(better, on=a.about.name)\n",
    "            df = df.droplevel(0)\n",
    "            \n",
    "            \n",
    "            df.index.name = 'WZW'\n",
    "            df.columns = ['Intern', 'Ranking', 'Erlöse', 'Beste Universität', 'Universität im Vergleich']\n",
    "            df = df.sort_values('Intern', ascending=False)\n",
    "            df['Universität im Vergleich'] = df.index.map(lambda fos: plots[fos])\n",
    "            \n",
    "            style = df.style.format({'Intern': '{:.2%}', 'Ranking': '{:}. Platz',\n",
    "                                     'Erlöse': '{:,} €'})\n",
    "                        \n",
    "            def show_image(filename):\n",
    "                return '<img src=\"' + filename + '\", width=250, height=200/>'\n",
    "                \n",
    "            style = style.apply(lambda s: highlight_places('Ranking', s), axis=1) \\\n",
    "                         .format({'Universität im Vergleich': show_image})\n",
    "            \n",
    "            display(HTML(style.render()))\n",
    "            \n",
    "            display(HTML('<h4>Ähnliche Universitäten aufgrund der ' + a.description + '-Struktur</h3>'))\n",
    "            similars = a.structure.most_similar_to(self.name)          \n",
    "            sim_strs = list()\n",
    "            sm = a.structure.similarities_to(self.name)\n",
    "            similarity_filter = 1/2\n",
    "            for i, other in enumerate(similars.index.values):\n",
    "                if similars[other] < similarity_filter or i > 5:\n",
    "                    if i == 0:\n",
    "                        sim_strs.append('Die ' + self.name + ' ist stark spezialisiert.<br/>'\n",
    "                                        '<strong>Keine</strong> andere Universität ähnelt der '\n",
    "                                        + self.name + ' in der ' \n",
    "                                        + a.description + '-Struktur in auffälliger Weise.')\n",
    "                    break\n",
    "                sim_str = '<strong>' + shorten(other) \\\n",
    "                          +  '</strong> (' + '{:.1%}'.format(similars[i]) \\\n",
    "                          + ', wegen &auml;hnlicher Relevanz von '\n",
    "                similarities = sm[other].sort_values(ascending=False)\n",
    "                sim_str += ', '.join(similarities.head(3).index.values)\n",
    "                sim_str += ')'\n",
    "                sim_strs.append(sim_str)\n",
    "           \n",
    "                \n",
    "            display(HTML('<p>' + ', '.join(sim_strs) + '</p>'))\n",
    "            display(HTML('<p><small>Universitäten mit einer Ähnlichkeit von weniger als '\n",
    "                         + '{:.0%}'.format(similarity_filter)\n",
    "                         + ' werden nicht angezeigt.</small></p>'))\n",
    "                \n",
    "\n",
    "ds = Datasheet('1.C.1.csv', ['funder', 'fos'], 'year', 'university', 'funding')\n",
    "analysis = ds.analyze(\"Drittmittel\", \"fos\", {'year': ds.most_recent})\n",
    "\n",
    "universities = list()\n",
    "\n",
    "for uni_name in ds.universities:\n",
    "    u = University(uni_name)\n",
    "    u.add_analysis(analysis)\n",
    "    universities.append(u)\n",
    "    \n",
    "for u in universities:\n",
    "    u.describe()"
   ]
  },
  {
   "cell_type": "code",
   "execution_count": null,
   "metadata": {},
   "outputs": [],
   "source": [
    "%%html\n",
    "<style>\n",
    "div.input {\n",
    "    display:none;\n",
    "}\n",
    "</style>"
   ]
  }
 ],
 "metadata": {
  "kernelspec": {
   "display_name": "Python 3",
   "language": "python",
   "name": "python3"
  },
  "language_info": {
   "codemirror_mode": {
    "name": "ipython",
    "version": 3
   },
   "file_extension": ".py",
   "mimetype": "text/x-python",
   "name": "python",
   "nbconvert_exporter": "python",
   "pygments_lexer": "ipython3",
   "version": "3.7.3"
  }
 },
 "nbformat": 4,
 "nbformat_minor": 2
}
