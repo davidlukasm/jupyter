{
 "cells": [
  {
   "cell_type": "code",
   "execution_count": 83,
   "metadata": {},
   "outputs": [
    {
     "data": {
      "text/html": [
       "<style  type=\"text/css\" >\n",
       "</style><table id=\"T_60eaf5a2_9f7d_11e9_a41f_6045cb9aca04\" ><thead>    <tr>        <th class=\"index_name level0\" >funder</th>        <th class=\"col_heading level0 col0\" >EU</th>        <th class=\"col_heading level0 col1\" >FFG</th>        <th class=\"col_heading level0 col2\" >FWF</th>        <th class=\"col_heading level0 col3\" >Unternehmen</th>        <th class=\"col_heading level0 col4\" >sonstige</th>    </tr>    <tr>        <th class=\"index_name level0\" >university</th>        <th class=\"blank\" ></th>        <th class=\"blank\" ></th>        <th class=\"blank\" ></th>        <th class=\"blank\" ></th>        <th class=\"blank\" ></th>    </tr></thead><tbody>\n",
       "                <tr>\n",
       "                        <th id=\"T_60eaf5a2_9f7d_11e9_a41f_6045cb9aca04level0_row0\" class=\"row_heading level0 row0\" >Akademie der bildenden Künste Wien</th>\n",
       "                        <td id=\"T_60eaf5a2_9f7d_11e9_a41f_6045cb9aca04row0_col0\" class=\"data row0 col0\" >2,500 €</td>\n",
       "                        <td id=\"T_60eaf5a2_9f7d_11e9_a41f_6045cb9aca04row0_col1\" class=\"data row0 col1\" >0 €</td>\n",
       "                        <td id=\"T_60eaf5a2_9f7d_11e9_a41f_6045cb9aca04row0_col2\" class=\"data row0 col2\" >724,207 €</td>\n",
       "                        <td id=\"T_60eaf5a2_9f7d_11e9_a41f_6045cb9aca04row0_col3\" class=\"data row0 col3\" >15,273 €</td>\n",
       "                        <td id=\"T_60eaf5a2_9f7d_11e9_a41f_6045cb9aca04row0_col4\" class=\"data row0 col4\" >197,870 €</td>\n",
       "            </tr>\n",
       "            <tr>\n",
       "                        <th id=\"T_60eaf5a2_9f7d_11e9_a41f_6045cb9aca04level0_row1\" class=\"row_heading level0 row1\" >Medizinische Universität Graz</th>\n",
       "                        <td id=\"T_60eaf5a2_9f7d_11e9_a41f_6045cb9aca04row1_col0\" class=\"data row1 col0\" >2,149,800 €</td>\n",
       "                        <td id=\"T_60eaf5a2_9f7d_11e9_a41f_6045cb9aca04row1_col1\" class=\"data row1 col1\" >1,477,194 €</td>\n",
       "                        <td id=\"T_60eaf5a2_9f7d_11e9_a41f_6045cb9aca04row1_col2\" class=\"data row1 col2\" >4,400,452 €</td>\n",
       "                        <td id=\"T_60eaf5a2_9f7d_11e9_a41f_6045cb9aca04row1_col3\" class=\"data row1 col3\" >32,440,938 €</td>\n",
       "                        <td id=\"T_60eaf5a2_9f7d_11e9_a41f_6045cb9aca04row1_col4\" class=\"data row1 col4\" >1,985,663 €</td>\n",
       "            </tr>\n",
       "            <tr>\n",
       "                        <th id=\"T_60eaf5a2_9f7d_11e9_a41f_6045cb9aca04level0_row2\" class=\"row_heading level0 row2\" >Medizinische Universität Innsbruck</th>\n",
       "                        <td id=\"T_60eaf5a2_9f7d_11e9_a41f_6045cb9aca04row2_col0\" class=\"data row2 col0\" >3,169,485 €</td>\n",
       "                        <td id=\"T_60eaf5a2_9f7d_11e9_a41f_6045cb9aca04row2_col1\" class=\"data row2 col1\" >939,430 €</td>\n",
       "                        <td id=\"T_60eaf5a2_9f7d_11e9_a41f_6045cb9aca04row2_col2\" class=\"data row2 col2\" >8,230,127 €</td>\n",
       "                        <td id=\"T_60eaf5a2_9f7d_11e9_a41f_6045cb9aca04row2_col3\" class=\"data row2 col3\" >21,297,441 €</td>\n",
       "                        <td id=\"T_60eaf5a2_9f7d_11e9_a41f_6045cb9aca04row2_col4\" class=\"data row2 col4\" >365,223 €</td>\n",
       "            </tr>\n",
       "            <tr>\n",
       "                        <th id=\"T_60eaf5a2_9f7d_11e9_a41f_6045cb9aca04level0_row3\" class=\"row_heading level0 row3\" >Medizinische Universität Wien</th>\n",
       "                        <td id=\"T_60eaf5a2_9f7d_11e9_a41f_6045cb9aca04row3_col0\" class=\"data row3 col0\" >8,347,843 €</td>\n",
       "                        <td id=\"T_60eaf5a2_9f7d_11e9_a41f_6045cb9aca04row3_col1\" class=\"data row3 col1\" >1,469,351 €</td>\n",
       "                        <td id=\"T_60eaf5a2_9f7d_11e9_a41f_6045cb9aca04row3_col2\" class=\"data row3 col2\" >18,825,925 €</td>\n",
       "                        <td id=\"T_60eaf5a2_9f7d_11e9_a41f_6045cb9aca04row3_col3\" class=\"data row3 col3\" >21,467,168 €</td>\n",
       "                        <td id=\"T_60eaf5a2_9f7d_11e9_a41f_6045cb9aca04row3_col4\" class=\"data row3 col4\" >33,211,761 €</td>\n",
       "            </tr>\n",
       "            <tr>\n",
       "                        <th id=\"T_60eaf5a2_9f7d_11e9_a41f_6045cb9aca04level0_row4\" class=\"row_heading level0 row4\" >Montanuniversität Leoben</th>\n",
       "                        <td id=\"T_60eaf5a2_9f7d_11e9_a41f_6045cb9aca04row4_col0\" class=\"data row4 col0\" >3,460,401 €</td>\n",
       "                        <td id=\"T_60eaf5a2_9f7d_11e9_a41f_6045cb9aca04row4_col1\" class=\"data row4 col1\" >13,384,394 €</td>\n",
       "                        <td id=\"T_60eaf5a2_9f7d_11e9_a41f_6045cb9aca04row4_col2\" class=\"data row4 col2\" >1,241,007 €</td>\n",
       "                        <td id=\"T_60eaf5a2_9f7d_11e9_a41f_6045cb9aca04row4_col3\" class=\"data row4 col3\" >14,284,451 €</td>\n",
       "                        <td id=\"T_60eaf5a2_9f7d_11e9_a41f_6045cb9aca04row4_col4\" class=\"data row4 col4\" >0 €</td>\n",
       "            </tr>\n",
       "            <tr>\n",
       "                        <th id=\"T_60eaf5a2_9f7d_11e9_a41f_6045cb9aca04level0_row5\" class=\"row_heading level0 row5\" >Technische Universität Graz</th>\n",
       "                        <td id=\"T_60eaf5a2_9f7d_11e9_a41f_6045cb9aca04row5_col0\" class=\"data row5 col0\" >11,016,518 €</td>\n",
       "                        <td id=\"T_60eaf5a2_9f7d_11e9_a41f_6045cb9aca04row5_col1\" class=\"data row5 col1\" >19,046,693 €</td>\n",
       "                        <td id=\"T_60eaf5a2_9f7d_11e9_a41f_6045cb9aca04row5_col2\" class=\"data row5 col2\" >6,572,226 €</td>\n",
       "                        <td id=\"T_60eaf5a2_9f7d_11e9_a41f_6045cb9aca04row5_col3\" class=\"data row5 col3\" >24,719,792 €</td>\n",
       "                        <td id=\"T_60eaf5a2_9f7d_11e9_a41f_6045cb9aca04row5_col4\" class=\"data row5 col4\" >1,502,675 €</td>\n",
       "            </tr>\n",
       "            <tr>\n",
       "                        <th id=\"T_60eaf5a2_9f7d_11e9_a41f_6045cb9aca04level0_row6\" class=\"row_heading level0 row6\" >Technische Universität Wien</th>\n",
       "                        <td id=\"T_60eaf5a2_9f7d_11e9_a41f_6045cb9aca04row6_col0\" class=\"data row6 col0\" >14,732,401 €</td>\n",
       "                        <td id=\"T_60eaf5a2_9f7d_11e9_a41f_6045cb9aca04row6_col1\" class=\"data row6 col1\" >16,317,706 €</td>\n",
       "                        <td id=\"T_60eaf5a2_9f7d_11e9_a41f_6045cb9aca04row6_col2\" class=\"data row6 col2\" >19,662,614 €</td>\n",
       "                        <td id=\"T_60eaf5a2_9f7d_11e9_a41f_6045cb9aca04row6_col3\" class=\"data row6 col3\" >22,101,493 €</td>\n",
       "                        <td id=\"T_60eaf5a2_9f7d_11e9_a41f_6045cb9aca04row6_col4\" class=\"data row6 col4\" >1,262,398 €</td>\n",
       "            </tr>\n",
       "            <tr>\n",
       "                        <th id=\"T_60eaf5a2_9f7d_11e9_a41f_6045cb9aca04level0_row7\" class=\"row_heading level0 row7\" >Universität Graz</th>\n",
       "                        <td id=\"T_60eaf5a2_9f7d_11e9_a41f_6045cb9aca04row7_col0\" class=\"data row7 col0\" >2,907,788 €</td>\n",
       "                        <td id=\"T_60eaf5a2_9f7d_11e9_a41f_6045cb9aca04row7_col1\" class=\"data row7 col1\" >1,520,200 €</td>\n",
       "                        <td id=\"T_60eaf5a2_9f7d_11e9_a41f_6045cb9aca04row7_col2\" class=\"data row7 col2\" >12,896,939 €</td>\n",
       "                        <td id=\"T_60eaf5a2_9f7d_11e9_a41f_6045cb9aca04row7_col3\" class=\"data row7 col3\" >1,721,040 €</td>\n",
       "                        <td id=\"T_60eaf5a2_9f7d_11e9_a41f_6045cb9aca04row7_col4\" class=\"data row7 col4\" >865,364 €</td>\n",
       "            </tr>\n",
       "            <tr>\n",
       "                        <th id=\"T_60eaf5a2_9f7d_11e9_a41f_6045cb9aca04level0_row8\" class=\"row_heading level0 row8\" >Universität Innsbruck</th>\n",
       "                        <td id=\"T_60eaf5a2_9f7d_11e9_a41f_6045cb9aca04row8_col0\" class=\"data row8 col0\" >8,544,360 €</td>\n",
       "                        <td id=\"T_60eaf5a2_9f7d_11e9_a41f_6045cb9aca04row8_col1\" class=\"data row8 col1\" >4,347,968 €</td>\n",
       "                        <td id=\"T_60eaf5a2_9f7d_11e9_a41f_6045cb9aca04row8_col2\" class=\"data row8 col2\" >16,317,638 €</td>\n",
       "                        <td id=\"T_60eaf5a2_9f7d_11e9_a41f_6045cb9aca04row8_col3\" class=\"data row8 col3\" >4,795,888 €</td>\n",
       "                        <td id=\"T_60eaf5a2_9f7d_11e9_a41f_6045cb9aca04row8_col4\" class=\"data row8 col4\" >20,815 €</td>\n",
       "            </tr>\n",
       "            <tr>\n",
       "                        <th id=\"T_60eaf5a2_9f7d_11e9_a41f_6045cb9aca04level0_row9\" class=\"row_heading level0 row9\" >Universität Klagenfurt</th>\n",
       "                        <td id=\"T_60eaf5a2_9f7d_11e9_a41f_6045cb9aca04row9_col0\" class=\"data row9 col0\" >1,024,247 €</td>\n",
       "                        <td id=\"T_60eaf5a2_9f7d_11e9_a41f_6045cb9aca04row9_col1\" class=\"data row9 col1\" >752,142 €</td>\n",
       "                        <td id=\"T_60eaf5a2_9f7d_11e9_a41f_6045cb9aca04row9_col2\" class=\"data row9 col2\" >1,378,473 €</td>\n",
       "                        <td id=\"T_60eaf5a2_9f7d_11e9_a41f_6045cb9aca04row9_col3\" class=\"data row9 col3\" >1,606,003 €</td>\n",
       "                        <td id=\"T_60eaf5a2_9f7d_11e9_a41f_6045cb9aca04row9_col4\" class=\"data row9 col4\" >120,901 €</td>\n",
       "            </tr>\n",
       "            <tr>\n",
       "                        <th id=\"T_60eaf5a2_9f7d_11e9_a41f_6045cb9aca04level0_row10\" class=\"row_heading level0 row10\" >Universität Linz</th>\n",
       "                        <td id=\"T_60eaf5a2_9f7d_11e9_a41f_6045cb9aca04row10_col0\" class=\"data row10 col0\" >2,277,619 €</td>\n",
       "                        <td id=\"T_60eaf5a2_9f7d_11e9_a41f_6045cb9aca04row10_col1\" class=\"data row10 col1\" >7,632,744 €</td>\n",
       "                        <td id=\"T_60eaf5a2_9f7d_11e9_a41f_6045cb9aca04row10_col2\" class=\"data row10 col2\" >7,769,848 €</td>\n",
       "                        <td id=\"T_60eaf5a2_9f7d_11e9_a41f_6045cb9aca04row10_col3\" class=\"data row10 col3\" >6,284,935 €</td>\n",
       "                        <td id=\"T_60eaf5a2_9f7d_11e9_a41f_6045cb9aca04row10_col4\" class=\"data row10 col4\" >0 €</td>\n",
       "            </tr>\n",
       "            <tr>\n",
       "                        <th id=\"T_60eaf5a2_9f7d_11e9_a41f_6045cb9aca04level0_row11\" class=\"row_heading level0 row11\" >Universität Mozarteum Salzburg</th>\n",
       "                        <td id=\"T_60eaf5a2_9f7d_11e9_a41f_6045cb9aca04row11_col0\" class=\"data row11 col0\" >0 €</td>\n",
       "                        <td id=\"T_60eaf5a2_9f7d_11e9_a41f_6045cb9aca04row11_col1\" class=\"data row11 col1\" >0 €</td>\n",
       "                        <td id=\"T_60eaf5a2_9f7d_11e9_a41f_6045cb9aca04row11_col2\" class=\"data row11 col2\" >38,326 €</td>\n",
       "                        <td id=\"T_60eaf5a2_9f7d_11e9_a41f_6045cb9aca04row11_col3\" class=\"data row11 col3\" >91,463 €</td>\n",
       "                        <td id=\"T_60eaf5a2_9f7d_11e9_a41f_6045cb9aca04row11_col4\" class=\"data row11 col4\" >0 €</td>\n",
       "            </tr>\n",
       "            <tr>\n",
       "                        <th id=\"T_60eaf5a2_9f7d_11e9_a41f_6045cb9aca04level0_row12\" class=\"row_heading level0 row12\" >Universität Salzburg</th>\n",
       "                        <td id=\"T_60eaf5a2_9f7d_11e9_a41f_6045cb9aca04row12_col0\" class=\"data row12 col0\" >3,069,169 €</td>\n",
       "                        <td id=\"T_60eaf5a2_9f7d_11e9_a41f_6045cb9aca04row12_col1\" class=\"data row12 col1\" >846,206 €</td>\n",
       "                        <td id=\"T_60eaf5a2_9f7d_11e9_a41f_6045cb9aca04row12_col2\" class=\"data row12 col2\" >7,666,637 €</td>\n",
       "                        <td id=\"T_60eaf5a2_9f7d_11e9_a41f_6045cb9aca04row12_col3\" class=\"data row12 col3\" >1,174,206 €</td>\n",
       "                        <td id=\"T_60eaf5a2_9f7d_11e9_a41f_6045cb9aca04row12_col4\" class=\"data row12 col4\" >1,219,963 €</td>\n",
       "            </tr>\n",
       "            <tr>\n",
       "                        <th id=\"T_60eaf5a2_9f7d_11e9_a41f_6045cb9aca04level0_row13\" class=\"row_heading level0 row13\" >Universität Wien</th>\n",
       "                        <td id=\"T_60eaf5a2_9f7d_11e9_a41f_6045cb9aca04row13_col0\" class=\"data row13 col0\" >13,633,780 €</td>\n",
       "                        <td id=\"T_60eaf5a2_9f7d_11e9_a41f_6045cb9aca04row13_col1\" class=\"data row13 col1\" >2,359,968 €</td>\n",
       "                        <td id=\"T_60eaf5a2_9f7d_11e9_a41f_6045cb9aca04row13_col2\" class=\"data row13 col2\" >41,065,705 €</td>\n",
       "                        <td id=\"T_60eaf5a2_9f7d_11e9_a41f_6045cb9aca04row13_col3\" class=\"data row13 col3\" >3,264,946 €</td>\n",
       "                        <td id=\"T_60eaf5a2_9f7d_11e9_a41f_6045cb9aca04row13_col4\" class=\"data row13 col4\" >5,587,203 €</td>\n",
       "            </tr>\n",
       "            <tr>\n",
       "                        <th id=\"T_60eaf5a2_9f7d_11e9_a41f_6045cb9aca04level0_row14\" class=\"row_heading level0 row14\" >Universität für Bodenkultur Wien</th>\n",
       "                        <td id=\"T_60eaf5a2_9f7d_11e9_a41f_6045cb9aca04row14_col0\" class=\"data row14 col0\" >7,516,953 €</td>\n",
       "                        <td id=\"T_60eaf5a2_9f7d_11e9_a41f_6045cb9aca04row14_col1\" class=\"data row14 col1\" >2,575,176 €</td>\n",
       "                        <td id=\"T_60eaf5a2_9f7d_11e9_a41f_6045cb9aca04row14_col2\" class=\"data row14 col2\" >8,173,203 €</td>\n",
       "                        <td id=\"T_60eaf5a2_9f7d_11e9_a41f_6045cb9aca04row14_col3\" class=\"data row14 col3\" >14,549,837 €</td>\n",
       "                        <td id=\"T_60eaf5a2_9f7d_11e9_a41f_6045cb9aca04row14_col4\" class=\"data row14 col4\" >267,120 €</td>\n",
       "            </tr>\n",
       "            <tr>\n",
       "                        <th id=\"T_60eaf5a2_9f7d_11e9_a41f_6045cb9aca04level0_row15\" class=\"row_heading level0 row15\" >Universität für Musik und darstellende Kunst Graz</th>\n",
       "                        <td id=\"T_60eaf5a2_9f7d_11e9_a41f_6045cb9aca04row15_col0\" class=\"data row15 col0\" >0 €</td>\n",
       "                        <td id=\"T_60eaf5a2_9f7d_11e9_a41f_6045cb9aca04row15_col1\" class=\"data row15 col1\" >63,303 €</td>\n",
       "                        <td id=\"T_60eaf5a2_9f7d_11e9_a41f_6045cb9aca04row15_col2\" class=\"data row15 col2\" >645,534 €</td>\n",
       "                        <td id=\"T_60eaf5a2_9f7d_11e9_a41f_6045cb9aca04row15_col3\" class=\"data row15 col3\" >215,121 €</td>\n",
       "                        <td id=\"T_60eaf5a2_9f7d_11e9_a41f_6045cb9aca04row15_col4\" class=\"data row15 col4\" >0 €</td>\n",
       "            </tr>\n",
       "            <tr>\n",
       "                        <th id=\"T_60eaf5a2_9f7d_11e9_a41f_6045cb9aca04level0_row16\" class=\"row_heading level0 row16\" >Universität für Musik und darstellende Kunst Wien</th>\n",
       "                        <td id=\"T_60eaf5a2_9f7d_11e9_a41f_6045cb9aca04row16_col0\" class=\"data row16 col0\" >277,190 €</td>\n",
       "                        <td id=\"T_60eaf5a2_9f7d_11e9_a41f_6045cb9aca04row16_col1\" class=\"data row16 col1\" >0 €</td>\n",
       "                        <td id=\"T_60eaf5a2_9f7d_11e9_a41f_6045cb9aca04row16_col2\" class=\"data row16 col2\" >465,349 €</td>\n",
       "                        <td id=\"T_60eaf5a2_9f7d_11e9_a41f_6045cb9aca04row16_col3\" class=\"data row16 col3\" >9,484 €</td>\n",
       "                        <td id=\"T_60eaf5a2_9f7d_11e9_a41f_6045cb9aca04row16_col4\" class=\"data row16 col4\" >0 €</td>\n",
       "            </tr>\n",
       "            <tr>\n",
       "                        <th id=\"T_60eaf5a2_9f7d_11e9_a41f_6045cb9aca04level0_row17\" class=\"row_heading level0 row17\" >Universität für Weiterbildung Krems</th>\n",
       "                        <td id=\"T_60eaf5a2_9f7d_11e9_a41f_6045cb9aca04row17_col0\" class=\"data row17 col0\" >811,092 €</td>\n",
       "                        <td id=\"T_60eaf5a2_9f7d_11e9_a41f_6045cb9aca04row17_col1\" class=\"data row17 col1\" >1,007,981 €</td>\n",
       "                        <td id=\"T_60eaf5a2_9f7d_11e9_a41f_6045cb9aca04row17_col2\" class=\"data row17 col2\" >298,713 €</td>\n",
       "                        <td id=\"T_60eaf5a2_9f7d_11e9_a41f_6045cb9aca04row17_col3\" class=\"data row17 col3\" >407,769 €</td>\n",
       "                        <td id=\"T_60eaf5a2_9f7d_11e9_a41f_6045cb9aca04row17_col4\" class=\"data row17 col4\" >235,995 €</td>\n",
       "            </tr>\n",
       "            <tr>\n",
       "                        <th id=\"T_60eaf5a2_9f7d_11e9_a41f_6045cb9aca04level0_row18\" class=\"row_heading level0 row18\" >Universität für angewandte Kunst Wien</th>\n",
       "                        <td id=\"T_60eaf5a2_9f7d_11e9_a41f_6045cb9aca04row18_col0\" class=\"data row18 col0\" >466,081 €</td>\n",
       "                        <td id=\"T_60eaf5a2_9f7d_11e9_a41f_6045cb9aca04row18_col1\" class=\"data row18 col1\" >52,064 €</td>\n",
       "                        <td id=\"T_60eaf5a2_9f7d_11e9_a41f_6045cb9aca04row18_col2\" class=\"data row18 col2\" >1,152,829 €</td>\n",
       "                        <td id=\"T_60eaf5a2_9f7d_11e9_a41f_6045cb9aca04row18_col3\" class=\"data row18 col3\" >164,807 €</td>\n",
       "                        <td id=\"T_60eaf5a2_9f7d_11e9_a41f_6045cb9aca04row18_col4\" class=\"data row18 col4\" >106,017 €</td>\n",
       "            </tr>\n",
       "            <tr>\n",
       "                        <th id=\"T_60eaf5a2_9f7d_11e9_a41f_6045cb9aca04level0_row19\" class=\"row_heading level0 row19\" >Universität für künstlerische und industrielle Gestaltung Linz</th>\n",
       "                        <td id=\"T_60eaf5a2_9f7d_11e9_a41f_6045cb9aca04row19_col0\" class=\"data row19 col0\" >0 €</td>\n",
       "                        <td id=\"T_60eaf5a2_9f7d_11e9_a41f_6045cb9aca04row19_col1\" class=\"data row19 col1\" >0 €</td>\n",
       "                        <td id=\"T_60eaf5a2_9f7d_11e9_a41f_6045cb9aca04row19_col2\" class=\"data row19 col2\" >384,336 €</td>\n",
       "                        <td id=\"T_60eaf5a2_9f7d_11e9_a41f_6045cb9aca04row19_col3\" class=\"data row19 col3\" >222,149 €</td>\n",
       "                        <td id=\"T_60eaf5a2_9f7d_11e9_a41f_6045cb9aca04row19_col4\" class=\"data row19 col4\" >173,421 €</td>\n",
       "            </tr>\n",
       "            <tr>\n",
       "                        <th id=\"T_60eaf5a2_9f7d_11e9_a41f_6045cb9aca04level0_row20\" class=\"row_heading level0 row20\" >Veterinärmedizinische Universität Wien</th>\n",
       "                        <td id=\"T_60eaf5a2_9f7d_11e9_a41f_6045cb9aca04row20_col0\" class=\"data row20 col0\" >599,004 €</td>\n",
       "                        <td id=\"T_60eaf5a2_9f7d_11e9_a41f_6045cb9aca04row20_col1\" class=\"data row20 col1\" >714,645 €</td>\n",
       "                        <td id=\"T_60eaf5a2_9f7d_11e9_a41f_6045cb9aca04row20_col2\" class=\"data row20 col2\" >4,739,233 €</td>\n",
       "                        <td id=\"T_60eaf5a2_9f7d_11e9_a41f_6045cb9aca04row20_col3\" class=\"data row20 col3\" >2,207,437 €</td>\n",
       "                        <td id=\"T_60eaf5a2_9f7d_11e9_a41f_6045cb9aca04row20_col4\" class=\"data row20 col4\" >394,791 €</td>\n",
       "            </tr>\n",
       "            <tr>\n",
       "                        <th id=\"T_60eaf5a2_9f7d_11e9_a41f_6045cb9aca04level0_row21\" class=\"row_heading level0 row21\" >Wirtschaftsuniversität Wien</th>\n",
       "                        <td id=\"T_60eaf5a2_9f7d_11e9_a41f_6045cb9aca04row21_col0\" class=\"data row21 col0\" >2,070,273 €</td>\n",
       "                        <td id=\"T_60eaf5a2_9f7d_11e9_a41f_6045cb9aca04row21_col1\" class=\"data row21 col1\" >712,935 €</td>\n",
       "                        <td id=\"T_60eaf5a2_9f7d_11e9_a41f_6045cb9aca04row21_col2\" class=\"data row21 col2\" >1,450,782 €</td>\n",
       "                        <td id=\"T_60eaf5a2_9f7d_11e9_a41f_6045cb9aca04row21_col3\" class=\"data row21 col3\" >1,386,378 €</td>\n",
       "                        <td id=\"T_60eaf5a2_9f7d_11e9_a41f_6045cb9aca04row21_col4\" class=\"data row21 col4\" >2,475,309 €</td>\n",
       "            </tr>\n",
       "    </tbody></table>"
      ],
      "text/plain": [
       "<pandas.io.formats.style.Styler at 0x7f72df5af550>"
      ]
     },
     "metadata": {},
     "output_type": "display_data"
    },
    {
     "data": {
      "text/html": [
       "<h3>Universität für Bodenkultur Wien</h3><p style=\"font-family:verdana\">"
      ],
      "text/plain": [
       "<IPython.core.display.HTML object>"
      ]
     },
     "metadata": {},
     "output_type": "display_data"
    },
    {
     "data": {
      "text/html": [
       "<br/><strong>EU</strong> ist ein wichtiger Fördergeber, sowohl intern als auch im relativen Vergleich mit anderen Universitäten. Und auch für <strong>EU</strong> ist die Universität für Bodenkultur Wien eine wichtige Partnerin. Dies lässt sich ebenso über <strong>Unternehmen</strong> sagen. <br/>Obwohl die Universität bei <strong>FWF</strong> eine erfolgreiche Fördernehmerin ist, hat <strong>FWF</strong> für die Universität für Bodenkultur Wien keine so hohe Bedeutung wie für andere. Dennoch hat <strong>FWF</strong> im Vergleich mit anderen Geldgebern innerhalb der Universität hohe Relevanz. </p>"
      ],
      "text/plain": [
       "<IPython.core.display.HTML object>"
      ]
     },
     "metadata": {},
     "output_type": "display_data"
    },
    {
     "data": {
      "text/html": [
       "<h3>Universität Wien</h3><p style=\"font-family:verdana\">"
      ],
      "text/plain": [
       "<IPython.core.display.HTML object>"
      ]
     },
     "metadata": {},
     "output_type": "display_data"
    },
    {
     "data": {
      "text/html": [
       "<br/><strong>EU</strong> ist ein wichtiger Fördergeber, sowohl intern als auch im relativen Vergleich mit anderen Universitäten. Und auch für <strong>EU</strong> ist die Universität Wien eine wichtige Partnerin. Dies lässt sich ebenso über <strong>FWF</strong> sagen. <br/>Für <strong>sonstige Fördergeber</strong> ist die Universität bedeutsam, aber innerhalb und im relativen Vergleich mit anderen Universitäten ist <strong>sonstige Fördergeber</strong> nicht relevant. </p>"
      ],
      "text/plain": [
       "<IPython.core.display.HTML object>"
      ]
     },
     "metadata": {},
     "output_type": "display_data"
    },
    {
     "data": {
      "text/html": [
       "<h3>Universität Klagenfurt</h3><p style=\"font-family:verdana\">"
      ],
      "text/plain": [
       "<IPython.core.display.HTML object>"
      ]
     },
     "metadata": {},
     "output_type": "display_data"
    },
    {
     "data": {
      "text/html": [
       "<br/><strong>EU</strong> ist sowohl innerhalb der Universität als auch im relativen Vergleich mit anderen eine wichtige Geldquelle. Für <strong>EU</strong> allerdings ist die Universität Klagenfurt nicht relevant. Dies lässt sich ebenso über <strong>Unternehmen</strong> sagen. <br/>Die Universität Klagenfurt ist von <strong>FFG</strong> stärker abhängig als andere Universitäten, auch wenn <strong>FFG</strong> uniintern keine hohe Bedeutung hat. Auch für <strong>FFG</strong> ist die Universität nicht relevant. <br/><strong>FWF</strong> ist zwar uniintern wichtig, aber andere Universitäten setzen stärker auf <strong>FWF</strong>. Für <strong>FWF</strong> ist die Universität nicht relevant. </p>"
      ],
      "text/plain": [
       "<IPython.core.display.HTML object>"
      ]
     },
     "metadata": {},
     "output_type": "display_data"
    },
    {
     "data": {
      "text/html": [
       "<h3>Universität für Musik und darstellende Kunst Wien</h3><p style=\"font-family:verdana\">"
      ],
      "text/plain": [
       "<IPython.core.display.HTML object>"
      ]
     },
     "metadata": {},
     "output_type": "display_data"
    },
    {
     "data": {
      "text/html": [
       "<br/><strong>EU</strong> ist sowohl innerhalb der Universität als auch im relativen Vergleich mit anderen eine wichtige Geldquelle. Für <strong>EU</strong> allerdings ist die Universität für Musik und darstellende Kunst Wien nicht relevant. Dies lässt sich ebenso über <strong>FWF</strong> sagen. </p>"
      ],
      "text/plain": [
       "<IPython.core.display.HTML object>"
      ]
     },
     "metadata": {},
     "output_type": "display_data"
    },
    {
     "data": {
      "text/html": [
       "<h3>Universität für Weiterbildung Krems</h3><p style=\"font-family:verdana\">"
      ],
      "text/plain": [
       "<IPython.core.display.HTML object>"
      ]
     },
     "metadata": {},
     "output_type": "display_data"
    },
    {
     "data": {
      "text/html": [
       "<br/><strong>EU</strong> ist sowohl innerhalb der Universität als auch im relativen Vergleich mit anderen eine wichtige Geldquelle. Für <strong>EU</strong> allerdings ist die Universität für Weiterbildung Krems nicht relevant. Dies lässt sich ebenso über <strong>FFG</strong> sagen. </p>"
      ],
      "text/plain": [
       "<IPython.core.display.HTML object>"
      ]
     },
     "metadata": {},
     "output_type": "display_data"
    },
    {
     "data": {
      "text/html": [
       "<h3>Medizinische Universität Wien</h3><p style=\"font-family:verdana\">"
      ],
      "text/plain": [
       "<IPython.core.display.HTML object>"
      ]
     },
     "metadata": {},
     "output_type": "display_data"
    },
    {
     "data": {
      "text/html": [
       "<br/><strong>sonstige Fördergeber</strong> ist ein wichtiger Fördergeber, sowohl intern als auch im relativen Vergleich mit anderen Universitäten. Und auch für <strong>sonstige Fördergeber</strong> ist die Medizinische Universität Wien eine wichtige Partnerin. <br/>Obwohl die Universität bei <strong>FWF</strong> eine erfolgreiche Fördernehmerin ist, hat <strong>FWF</strong> für die Medizinische Universität Wien keine so hohe Bedeutung wie für andere. Dennoch hat <strong>FWF</strong> im Vergleich mit anderen Geldgebern innerhalb der Universität hohe Relevanz. Dies lässt sich ebenso über <strong>Unternehmen</strong> sagen. <br/>Für <strong>EU</strong> ist die Universität bedeutsam, aber innerhalb und im relativen Vergleich mit anderen Universitäten ist <strong>EU</strong> nicht relevant. </p>"
      ],
      "text/plain": [
       "<IPython.core.display.HTML object>"
      ]
     },
     "metadata": {},
     "output_type": "display_data"
    },
    {
     "data": {
      "text/html": [
       "<h3>Medizinische Universität Graz</h3><p style=\"font-family:verdana\">"
      ],
      "text/plain": [
       "<IPython.core.display.HTML object>"
      ]
     },
     "metadata": {},
     "output_type": "display_data"
    },
    {
     "data": {
      "text/html": [
       "<br/><strong>Unternehmen</strong> ist ein wichtiger Fördergeber, sowohl intern als auch im relativen Vergleich mit anderen Universitäten. Und auch für <strong>Unternehmen</strong> ist die Medizinische Universität Graz eine wichtige Partnerin. </p>"
      ],
      "text/plain": [
       "<IPython.core.display.HTML object>"
      ]
     },
     "metadata": {},
     "output_type": "display_data"
    },
    {
     "data": {
      "text/html": [
       "<h3>Medizinische Universität Innsbruck</h3><p style=\"font-family:verdana\">"
      ],
      "text/plain": [
       "<IPython.core.display.HTML object>"
      ]
     },
     "metadata": {},
     "output_type": "display_data"
    },
    {
     "data": {
      "text/html": [
       "<br/><strong>Unternehmen</strong> ist ein wichtiger Fördergeber, sowohl intern als auch im relativen Vergleich mit anderen Universitäten. Und auch für <strong>Unternehmen</strong> ist die Medizinische Universität Innsbruck eine wichtige Partnerin. <br/>Obwohl die Universität bei <strong>FWF</strong> eine erfolgreiche Fördernehmerin ist, hat <strong>FWF</strong> für die Medizinische Universität Innsbruck keine so hohe Bedeutung wie für andere. Dennoch hat <strong>FWF</strong> im Vergleich mit anderen Geldgebern innerhalb der Universität hohe Relevanz. </p>"
      ],
      "text/plain": [
       "<IPython.core.display.HTML object>"
      ]
     },
     "metadata": {},
     "output_type": "display_data"
    },
    {
     "data": {
      "text/html": [
       "<h3>Technische Universität Wien</h3><p style=\"font-family:verdana\">"
      ],
      "text/plain": [
       "<IPython.core.display.HTML object>"
      ]
     },
     "metadata": {},
     "output_type": "display_data"
    },
    {
     "data": {
      "text/html": [
       "<br/><strong>FFG</strong> ist ein wichtiger Fördergeber, sowohl intern als auch im relativen Vergleich mit anderen Universitäten. Und auch für <strong>FFG</strong> ist die Technische Universität Wien eine wichtige Partnerin. <br/>Die Universität ist erfolgreich bei <strong>EU</strong> und auch für <strong>EU</strong> ist die Technische Universität Wien relevant. Nur uniintern hat <strong>EU</strong> keine große Bedeutung. <br/>Obwohl die Universität bei <strong>FWF</strong> eine erfolgreiche Fördernehmerin ist, hat <strong>FWF</strong> für die Technische Universität Wien keine so hohe Bedeutung wie für andere. Dennoch hat <strong>FWF</strong> im Vergleich mit anderen Geldgebern innerhalb der Universität hohe Relevanz. Dies lässt sich ebenso über <strong>Unternehmen</strong> sagen. </p>"
      ],
      "text/plain": [
       "<IPython.core.display.HTML object>"
      ]
     },
     "metadata": {},
     "output_type": "display_data"
    },
    {
     "data": {
      "text/html": [
       "<h3>Technische Universität Graz</h3><p style=\"font-family:verdana\">"
      ],
      "text/plain": [
       "<IPython.core.display.HTML object>"
      ]
     },
     "metadata": {},
     "output_type": "display_data"
    },
    {
     "data": {
      "text/html": [
       "<br/><strong>FFG</strong> ist ein wichtiger Fördergeber, sowohl intern als auch im relativen Vergleich mit anderen Universitäten. Und auch für <strong>FFG</strong> ist die Technische Universität Graz eine wichtige Partnerin. Dies lässt sich ebenso über <strong>Unternehmen</strong> sagen. <br/>Die Universität ist erfolgreich bei <strong>EU</strong> und auch für <strong>EU</strong> ist die Technische Universität Graz relevant. Nur uniintern hat <strong>EU</strong> keine große Bedeutung. </p>"
      ],
      "text/plain": [
       "<IPython.core.display.HTML object>"
      ]
     },
     "metadata": {},
     "output_type": "display_data"
    },
    {
     "data": {
      "text/html": [
       "<h3>Montanuniversität Leoben</h3><p style=\"font-family:verdana\">"
      ],
      "text/plain": [
       "<IPython.core.display.HTML object>"
      ]
     },
     "metadata": {},
     "output_type": "display_data"
    },
    {
     "data": {
      "text/html": [
       "<br/><strong>FFG</strong> ist ein wichtiger Fördergeber, sowohl intern als auch im relativen Vergleich mit anderen Universitäten. Und auch für <strong>FFG</strong> ist die Montanuniversität Leoben eine wichtige Partnerin. Dies lässt sich ebenso über <strong>Unternehmen</strong> sagen. </p>"
      ],
      "text/plain": [
       "<IPython.core.display.HTML object>"
      ]
     },
     "metadata": {},
     "output_type": "display_data"
    },
    {
     "data": {
      "text/html": [
       "<h3>Universität Linz</h3><p style=\"font-family:verdana\">"
      ],
      "text/plain": [
       "<IPython.core.display.HTML object>"
      ]
     },
     "metadata": {},
     "output_type": "display_data"
    },
    {
     "data": {
      "text/html": [
       "<br/><strong>FFG</strong> ist ein wichtiger Fördergeber, sowohl intern als auch im relativen Vergleich mit anderen Universitäten. Und auch für <strong>FFG</strong> ist die Universität Linz eine wichtige Partnerin. Dies lässt sich ebenso über <strong>FWF</strong> sagen. <br/><strong>Unternehmen</strong> ist zwar uniintern wichtig, aber andere Universitäten setzen stärker auf <strong>Unternehmen</strong>. Für <strong>Unternehmen</strong> ist die Universität nicht relevant. </p>"
      ],
      "text/plain": [
       "<IPython.core.display.HTML object>"
      ]
     },
     "metadata": {},
     "output_type": "display_data"
    },
    {
     "data": {
      "text/html": [
       "<h3>Universität für angewandte Kunst Wien</h3><p style=\"font-family:verdana\">"
      ],
      "text/plain": [
       "<IPython.core.display.HTML object>"
      ]
     },
     "metadata": {},
     "output_type": "display_data"
    },
    {
     "data": {
      "text/html": [
       "<br/><strong>EU</strong> ist sowohl innerhalb der Universität als auch im relativen Vergleich mit anderen eine wichtige Geldquelle. Für <strong>EU</strong> allerdings ist die Universität für angewandte Kunst Wien nicht relevant. Dies lässt sich ebenso über <strong>FWF</strong> sagen. </p>"
      ],
      "text/plain": [
       "<IPython.core.display.HTML object>"
      ]
     },
     "metadata": {},
     "output_type": "display_data"
    },
    {
     "data": {
      "text/html": [
       "<h3>Universität Salzburg</h3><p style=\"font-family:verdana\">"
      ],
      "text/plain": [
       "<IPython.core.display.HTML object>"
      ]
     },
     "metadata": {},
     "output_type": "display_data"
    },
    {
     "data": {
      "text/html": [
       "<br/><strong>FWF</strong> ist ein wichtiger Fördergeber, sowohl intern als auch im relativen Vergleich mit anderen Universitäten. Und auch für <strong>FWF</strong> ist die Universität Salzburg eine wichtige Partnerin. <br/><strong>EU</strong> ist sowohl innerhalb der Universität als auch im relativen Vergleich mit anderen eine wichtige Geldquelle. Für <strong>EU</strong> allerdings ist die Universität Salzburg nicht relevant. </p>"
      ],
      "text/plain": [
       "<IPython.core.display.HTML object>"
      ]
     },
     "metadata": {},
     "output_type": "display_data"
    },
    {
     "data": {
      "text/html": [
       "<h3>Universität Innsbruck</h3><p style=\"font-family:verdana\">"
      ],
      "text/plain": [
       "<IPython.core.display.HTML object>"
      ]
     },
     "metadata": {},
     "output_type": "display_data"
    },
    {
     "data": {
      "text/html": [
       "<br/><strong>EU</strong> ist ein wichtiger Fördergeber, sowohl intern als auch im relativen Vergleich mit anderen Universitäten. Und auch für <strong>EU</strong> ist die Universität Innsbruck eine wichtige Partnerin. Dies lässt sich ebenso über <strong>FWF</strong> sagen. <br/>Für <strong>FFG</strong> ist die Universität bedeutsam, aber innerhalb und im relativen Vergleich mit anderen Universitäten ist <strong>FFG</strong> nicht relevant. </p>"
      ],
      "text/plain": [
       "<IPython.core.display.HTML object>"
      ]
     },
     "metadata": {},
     "output_type": "display_data"
    },
    {
     "data": {
      "text/html": [
       "<h3>Universität Graz</h3><p style=\"font-family:verdana\">"
      ],
      "text/plain": [
       "<IPython.core.display.HTML object>"
      ]
     },
     "metadata": {},
     "output_type": "display_data"
    },
    {
     "data": {
      "text/html": [
       "<br/><strong>FWF</strong> ist ein wichtiger Fördergeber, sowohl intern als auch im relativen Vergleich mit anderen Universitäten. Und auch für <strong>FWF</strong> ist die Universität Graz eine wichtige Partnerin. </p>"
      ],
      "text/plain": [
       "<IPython.core.display.HTML object>"
      ]
     },
     "metadata": {},
     "output_type": "display_data"
    },
    {
     "data": {
      "text/html": [
       "<h3>Veterinärmedizinische Universität Wien</h3><p style=\"font-family:verdana\">"
      ],
      "text/plain": [
       "<IPython.core.display.HTML object>"
      ]
     },
     "metadata": {},
     "output_type": "display_data"
    },
    {
     "data": {
      "text/html": [
       "<br/><strong>FWF</strong> ist sowohl innerhalb der Universität als auch im relativen Vergleich mit anderen eine wichtige Geldquelle. Für <strong>FWF</strong> allerdings ist die Veterinärmedizinische Universität Wien nicht relevant. <br/><strong>Unternehmen</strong> ist zwar uniintern wichtig, aber andere Universitäten setzen stärker auf <strong>Unternehmen</strong>. Für <strong>Unternehmen</strong> ist die Universität nicht relevant. </p>"
      ],
      "text/plain": [
       "<IPython.core.display.HTML object>"
      ]
     },
     "metadata": {},
     "output_type": "display_data"
    },
    {
     "data": {
      "text/html": [
       "<h3>Wirtschaftsuniversität Wien</h3><p style=\"font-family:verdana\">"
      ],
      "text/plain": [
       "<IPython.core.display.HTML object>"
      ]
     },
     "metadata": {},
     "output_type": "display_data"
    },
    {
     "data": {
      "text/html": [
       "<br/><strong>sonstige Fördergeber</strong> ist ein wichtiger Fördergeber, sowohl intern als auch im relativen Vergleich mit anderen Universitäten. Und auch für <strong>sonstige Fördergeber</strong> ist die Wirtschaftsuniversität Wien eine wichtige Partnerin. <br/><strong>EU</strong> ist sowohl innerhalb der Universität als auch im relativen Vergleich mit anderen eine wichtige Geldquelle. Für <strong>EU</strong> allerdings ist die Wirtschaftsuniversität Wien nicht relevant. </p>"
      ],
      "text/plain": [
       "<IPython.core.display.HTML object>"
      ]
     },
     "metadata": {},
     "output_type": "display_data"
    },
    {
     "data": {
      "text/html": [
       "<h3>Akademie der bildenden Künste Wien</h3><p style=\"font-family:verdana\">"
      ],
      "text/plain": [
       "<IPython.core.display.HTML object>"
      ]
     },
     "metadata": {},
     "output_type": "display_data"
    },
    {
     "data": {
      "text/html": [
       "<br/><strong>FWF</strong> ist sowohl innerhalb der Universität als auch im relativen Vergleich mit anderen eine wichtige Geldquelle. Für <strong>FWF</strong> allerdings ist die Akademie der bildenden Künste Wien nicht relevant. Dies lässt sich ebenso über <strong>sonstige Fördergeber</strong> sagen. </p>"
      ],
      "text/plain": [
       "<IPython.core.display.HTML object>"
      ]
     },
     "metadata": {},
     "output_type": "display_data"
    },
    {
     "data": {
      "text/html": [
       "<h3>Universität Mozarteum Salzburg</h3><p style=\"font-family:verdana\">"
      ],
      "text/plain": [
       "<IPython.core.display.HTML object>"
      ]
     },
     "metadata": {},
     "output_type": "display_data"
    },
    {
     "data": {
      "text/html": [
       "<br/><strong>Unternehmen</strong> ist sowohl innerhalb der Universität als auch im relativen Vergleich mit anderen eine wichtige Geldquelle. Für <strong>Unternehmen</strong> allerdings ist die Universität Mozarteum Salzburg nicht relevant. <br/><strong>FWF</strong> ist zwar uniintern wichtig, aber andere Universitäten setzen stärker auf <strong>FWF</strong>. Für <strong>FWF</strong> ist die Universität nicht relevant. </p>"
      ],
      "text/plain": [
       "<IPython.core.display.HTML object>"
      ]
     },
     "metadata": {},
     "output_type": "display_data"
    },
    {
     "data": {
      "text/html": [
       "<h3>Universität für künstlerische und industrielle Gestaltung Linz</h3><p style=\"font-family:verdana\">"
      ],
      "text/plain": [
       "<IPython.core.display.HTML object>"
      ]
     },
     "metadata": {},
     "output_type": "display_data"
    },
    {
     "data": {
      "text/html": [
       "<br/><strong>FWF</strong> ist sowohl innerhalb der Universität als auch im relativen Vergleich mit anderen eine wichtige Geldquelle. Für <strong>FWF</strong> allerdings ist die Universität für künstlerische und industrielle Gestaltung Linz nicht relevant. Dies lässt sich ebenso über <strong>sonstige Fördergeber</strong> sagen. <br/><strong>Unternehmen</strong> ist zwar uniintern wichtig, aber andere Universitäten setzen stärker auf <strong>Unternehmen</strong>. Für <strong>Unternehmen</strong> ist die Universität nicht relevant. </p>"
      ],
      "text/plain": [
       "<IPython.core.display.HTML object>"
      ]
     },
     "metadata": {},
     "output_type": "display_data"
    },
    {
     "data": {
      "text/html": [
       "<h3>Universität für Musik und darstellende Kunst Graz</h3><p style=\"font-family:verdana\">"
      ],
      "text/plain": [
       "<IPython.core.display.HTML object>"
      ]
     },
     "metadata": {},
     "output_type": "display_data"
    },
    {
     "data": {
      "text/html": [
       "<br/><strong>FWF</strong> ist sowohl innerhalb der Universität als auch im relativen Vergleich mit anderen eine wichtige Geldquelle. Für <strong>FWF</strong> allerdings ist die Universität für Musik und darstellende Kunst Graz nicht relevant. <br/><strong>Unternehmen</strong> ist zwar uniintern wichtig, aber andere Universitäten setzen stärker auf <strong>Unternehmen</strong>. Für <strong>Unternehmen</strong> ist die Universität nicht relevant. </p>"
      ],
      "text/plain": [
       "<IPython.core.display.HTML object>"
      ]
     },
     "metadata": {},
     "output_type": "display_data"
    }
   ],
   "source": [
    "import numpy as np\n",
    "import pandas as pd\n",
    "from IPython.core.display import HTML\n",
    "\n",
    "def pretty(dataframe):\n",
    "    display(dataframe.style.format({'funding': '{:,} €'}))\n",
    "\n",
    "data = pd.read_csv('1.C.1.csv', delimiter=';')\n",
    "data = data[data.year == 2018].drop('year', 1)\n",
    "\n",
    "unis = dict()\n",
    "for uni in data.university.unique():\n",
    "    unis[uni] = list()\n",
    "    uni_data = data[data.university == uni].funding.sum()\n",
    "    #if not uni.startswith(\"Univ\") or uni_data < 5000000:\n",
    "    #    data = data[data.university != uni]\n",
    " \n",
    "table = pd.pivot_table(data, values='funding', index=['university'],\n",
    "                       columns=['funder'], fill_value=0, #margins=True,\n",
    "                       aggfunc=np.sum)\n",
    "\n",
    "totals_abs = table.sum()\n",
    "totals_avg = table.mean()\n",
    "totals = totals_abs/totals_abs.sum()\n",
    "\n",
    "sums = table.agg(['sum'], axis=\"columns\")['sum']\n",
    "sums_avg = table.agg(['mean'], axis=\"columns\")['mean']\n",
    "\n",
    "interesting = 1 * table.gt(sums_avg, axis=\"rows\") \\\n",
    "            + 2 * table.div(sums, axis=\"rows\").gt(totals) \\\n",
    "            + 4 * table.gt(totals_avg, axis=\"columns\") \n",
    "\n",
    "display(table.style.format('{:,} €'))\n",
    "\n",
    "#1: uniintern\n",
    "#2: vergleichend, relativ\n",
    "#3: systemisch\n",
    "\n",
    "interesting = interesting.rename(index=str, columns={'sonstige': 'sonstige Fördergeber'})\n",
    "headers = interesting.columns\n",
    "for row in interesting.itertuples():\n",
    "    (uni, *values) = row\n",
    "    for idx, element in enumerate(values):\n",
    "        funder = headers[idx]\n",
    "        switcher = [\n",
    "            '',\n",
    "            '$funder ist zwar uniintern wichtig, aber andere Universitäten setzen stärker auf $funder. Für $funder ist die Universität nicht relevant.',\n",
    "            'Die $uni ist von $funder stärker abhängig als andere Universitäten, auch wenn $funder uniintern keine hohe Bedeutung hat. Auch für $funder ist die Universität nicht relevant.',\n",
    "            '$funder ist sowohl innerhalb der Universität als auch im relativen Vergleich mit anderen eine wichtige Geldquelle. Für $funder allerdings ist die $uni nicht relevant.',\n",
    "            'Für $funder ist die Universität bedeutsam, aber innerhalb und im relativen Vergleich mit anderen Universitäten ist $funder nicht relevant.',\n",
    "            'Obwohl die Universität bei $funder eine erfolgreiche Fördernehmerin ist, konzentrieren andere Universitäten stärker auf $funder. Dennoch ist $funder einer der großen Förderer .',\n",
    "            'Die Universität ist erfolgreich bei $funder und auch für $funder ist die $uni relevant. Nur uniintern hat $funder keine große Bedeutung.',\n",
    "            '$funder ist ein wichtiger Fördergeber, sowohl intern als auch im relativen Vergleich mit anderen Universitäten. Und auch für $funder ist die $uni eine wichtige Partnerin.'           \n",
    "        ]\n",
    "        \n",
    "        text = switcher[element].replace('$uni', uni).replace('$funder', '<strong>' + funder + '</strong>')\n",
    "        if text != '':\n",
    "            text = text[0:1].capitalize() + text[1:]\n",
    "            unis[uni].append((element, text, funder))\n",
    "            \n",
    "for uni, statements in unis.items():\n",
    "    if len(statements) > 0:\n",
    "        statements.sort(key=lambda tup: tup[0], reverse=True)\n",
    "        old_importance = 0\n",
    "        display(HTML('<h3>' + uni + '</h3><p style=\"font-family:verdana\">'))\n",
    "        text = ''\n",
    "        for statement in statements:\n",
    "            importance = statement[0]\n",
    "            if importance == old_importance:\n",
    "                text += 'Dies lässt sich ebenso über <strong>' + statement[2] + '</strong> sagen.'\n",
    "            else:\n",
    "                text += '<br/>' + statement[1]\n",
    "            text += ' '\n",
    "            old_importance = importance\n",
    "            \n",
    "        display(HTML(text + '</p>'))"
   ]
  },
  {
   "cell_type": "code",
   "execution_count": null,
   "metadata": {},
   "outputs": [],
   "source": []
  }
 ],
 "metadata": {
  "kernelspec": {
   "display_name": "Python 3",
   "language": "python",
   "name": "python3"
  },
  "language_info": {
   "codemirror_mode": {
    "name": "ipython",
    "version": 3
   },
   "file_extension": ".py",
   "mimetype": "text/x-python",
   "name": "python",
   "nbconvert_exporter": "python",
   "pygments_lexer": "ipython3",
   "version": "3.7.3"
  }
 },
 "nbformat": 4,
 "nbformat_minor": 2
}
