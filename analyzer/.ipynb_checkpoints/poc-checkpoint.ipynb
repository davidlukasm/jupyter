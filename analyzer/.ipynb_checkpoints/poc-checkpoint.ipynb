{
 "cells": [
  {
   "cell_type": "code",
   "execution_count": null,
   "metadata": {
    "scrolled": false
   },
   "outputs": [
    {
     "data": {
      "text/html": [
       "<h2 style=\"page-break-before: always;\">Akademie der bildenden Künste Wien</h2>"
      ],
      "text/plain": [
       "<IPython.core.display.HTML object>"
      ]
     },
     "metadata": {},
     "output_type": "display_data"
    },
    {
     "data": {
      "text/html": [
       "<h3>Vergleichbare Universitäten in Publikationen- und Drittmittel-Struktur</h3><ul>"
      ],
      "text/plain": [
       "<IPython.core.display.HTML object>"
      ]
     },
     "metadata": {},
     "output_type": "display_data"
    },
    {
     "data": {
      "text/html": [
       "<li style=\"margin-bottom: 5px;\">Universität für angewandte Kunst Wien</li>"
      ],
      "text/plain": [
       "<IPython.core.display.HTML object>"
      ]
     },
     "metadata": {},
     "output_type": "display_data"
    },
    {
     "data": {
      "text/html": [
       "</ul>"
      ],
      "text/plain": [
       "<IPython.core.display.HTML object>"
      ]
     },
     "metadata": {},
     "output_type": "display_data"
    },
    {
     "data": {
      "text/html": [
       "<h4>Vergleichbar bei der Publikationen-Struktur</h4>"
      ],
      "text/plain": [
       "<IPython.core.display.HTML object>"
      ]
     },
     "metadata": {},
     "output_type": "display_data"
    },
    {
     "data": {
      "text/html": [
       "<p><strong>Universität für angewandte Kunst Wien</strong> (53.6%, wegen &auml;hnlicher interner Relevanz von Kunstwissenschaften, Bildende Kunst, Medien- und Kommunikationswissenschaften)</p>"
      ],
      "text/plain": [
       "<IPython.core.display.HTML object>"
      ]
     },
     "metadata": {},
     "output_type": "display_data"
    },
    {
     "data": {
      "text/html": [
       "<img src=\"ABW_Publikationen_overview.png\" width=\"1000\" height=\"200\"/>"
      ],
      "text/plain": [
       "<IPython.core.display.HTML object>"
      ]
     },
     "metadata": {},
     "output_type": "display_data"
    },
    {
     "data": {
      "text/html": [
       "<h4>Vergleichbar bei der Drittmittel-Struktur</h4>"
      ],
      "text/plain": [
       "<IPython.core.display.HTML object>"
      ]
     },
     "metadata": {},
     "output_type": "display_data"
    },
    {
     "data": {
      "text/html": [
       "<p><strong>Universität für angewandte Kunst Wien</strong> (55.7%, wegen &auml;hnlicher interner Relevanz von Kunstwissenschaften, Architektur, Bildende Kunst)</p>"
      ],
      "text/plain": [
       "<IPython.core.display.HTML object>"
      ]
     },
     "metadata": {},
     "output_type": "display_data"
    },
    {
     "data": {
      "text/html": [
       "<img src=\"ABW_Drittmittel_overview.png\" width=\"1000\" height=\"200\"/>"
      ],
      "text/plain": [
       "<IPython.core.display.HTML object>"
      ]
     },
     "metadata": {},
     "output_type": "display_data"
    },
    {
     "data": {
      "text/html": [
       "<p><small>Universitäten mit einer Ähnlichkeit von weniger als 50% werden nicht angezeigt.</small></p>"
      ],
      "text/plain": [
       "<IPython.core.display.HTML object>"
      ]
     },
     "metadata": {},
     "output_type": "display_data"
    },
    {
     "data": {
      "text/html": [
       "<h3>Publikationen-Struktur der ABW</h3>"
      ],
      "text/plain": [
       "<IPython.core.display.HTML object>"
      ]
     },
     "metadata": {},
     "output_type": "display_data"
    },
    {
     "data": {
      "text/html": [
       "Angezeigt werden WZW, die zusammen 72.0% der Publikationen an der ABW ausmachen. Alle anderen WZW tragen je weniger als 6.1% bei. Die Spalte \"Ranking\" bezieht sich  auf den &ouml;sterreichweiten Vergleich der absoluten Werte pro WZW"
      ],
      "text/plain": [
       "<IPython.core.display.HTML object>"
      ]
     },
     "metadata": {},
     "output_type": "display_data"
    },
    {
     "data": {
      "text/html": [
       "<style  type=\"text/css\" >\n",
       "    #T_5003b21e_b171_11e9_9d8c_0f4ec7a9def4row0_col0 {\n",
       "            background-color:  white;\n",
       "        }    #T_5003b21e_b171_11e9_9d8c_0f4ec7a9def4row0_col1 {\n",
       "            background-color:  white;\n",
       "        }    #T_5003b21e_b171_11e9_9d8c_0f4ec7a9def4row0_col2 {\n",
       "            background-color:  white;\n",
       "        }    #T_5003b21e_b171_11e9_9d8c_0f4ec7a9def4row0_col3 {\n",
       "            background-color:  white;\n",
       "        }    #T_5003b21e_b171_11e9_9d8c_0f4ec7a9def4row1_col0 {\n",
       "            background-color:  green;\n",
       "        }    #T_5003b21e_b171_11e9_9d8c_0f4ec7a9def4row1_col1 {\n",
       "            background-color:  green;\n",
       "        }    #T_5003b21e_b171_11e9_9d8c_0f4ec7a9def4row1_col2 {\n",
       "            background-color:  green;\n",
       "        }    #T_5003b21e_b171_11e9_9d8c_0f4ec7a9def4row1_col3 {\n",
       "            background-color:  green;\n",
       "        }    #T_5003b21e_b171_11e9_9d8c_0f4ec7a9def4row2_col0 {\n",
       "            background-color:  white;\n",
       "        }    #T_5003b21e_b171_11e9_9d8c_0f4ec7a9def4row2_col1 {\n",
       "            background-color:  white;\n",
       "        }    #T_5003b21e_b171_11e9_9d8c_0f4ec7a9def4row2_col2 {\n",
       "            background-color:  white;\n",
       "        }    #T_5003b21e_b171_11e9_9d8c_0f4ec7a9def4row2_col3 {\n",
       "            background-color:  white;\n",
       "        }    #T_5003b21e_b171_11e9_9d8c_0f4ec7a9def4row3_col0 {\n",
       "            background-color:  white;\n",
       "        }    #T_5003b21e_b171_11e9_9d8c_0f4ec7a9def4row3_col1 {\n",
       "            background-color:  white;\n",
       "        }    #T_5003b21e_b171_11e9_9d8c_0f4ec7a9def4row3_col2 {\n",
       "            background-color:  white;\n",
       "        }    #T_5003b21e_b171_11e9_9d8c_0f4ec7a9def4row3_col3 {\n",
       "            background-color:  white;\n",
       "        }    #T_5003b21e_b171_11e9_9d8c_0f4ec7a9def4row4_col0 {\n",
       "            background-color:  green;\n",
       "        }    #T_5003b21e_b171_11e9_9d8c_0f4ec7a9def4row4_col1 {\n",
       "            background-color:  green;\n",
       "        }    #T_5003b21e_b171_11e9_9d8c_0f4ec7a9def4row4_col2 {\n",
       "            background-color:  green;\n",
       "        }    #T_5003b21e_b171_11e9_9d8c_0f4ec7a9def4row4_col3 {\n",
       "            background-color:  green;\n",
       "        }    #T_5003b21e_b171_11e9_9d8c_0f4ec7a9def4row5_col0 {\n",
       "            background-color:  white;\n",
       "        }    #T_5003b21e_b171_11e9_9d8c_0f4ec7a9def4row5_col1 {\n",
       "            background-color:  white;\n",
       "        }    #T_5003b21e_b171_11e9_9d8c_0f4ec7a9def4row5_col2 {\n",
       "            background-color:  white;\n",
       "        }    #T_5003b21e_b171_11e9_9d8c_0f4ec7a9def4row5_col3 {\n",
       "            background-color:  white;\n",
       "        }</style><table id=\"T_5003b21e_b171_11e9_9d8c_0f4ec7a9def4\" ><thead>    <tr>        <th class=\"blank level0\" ></th>        <th class=\"col_heading level0 col0\" >Intern</th>        <th class=\"col_heading level0 col1\" >Publikationen</th>        <th class=\"col_heading level0 col2\" >Ranking</th>        <th class=\"col_heading level0 col3\" >Universität im Vergleich</th>    </tr>    <tr>        <th class=\"index_name level0\" >WZW</th>        <th class=\"blank\" ></th>        <th class=\"blank\" ></th>        <th class=\"blank\" ></th>        <th class=\"blank\" ></th>    </tr></thead><tbody>\n",
       "                <tr>\n",
       "                        <th id=\"T_5003b21e_b171_11e9_9d8c_0f4ec7a9def4level0_row0\" class=\"row_heading level0 row0\" >Kunstwissenschaften</th>\n",
       "                        <td id=\"T_5003b21e_b171_11e9_9d8c_0f4ec7a9def4row0_col0\" class=\"data row0 col0\" >23.48%</td>\n",
       "                        <td id=\"T_5003b21e_b171_11e9_9d8c_0f4ec7a9def4row0_col1\" class=\"data row0 col1\" >31 Publikationen</td>\n",
       "                        <td id=\"T_5003b21e_b171_11e9_9d8c_0f4ec7a9def4row0_col2\" class=\"data row0 col2\" >9. Platz</td>\n",
       "                        <td id=\"T_5003b21e_b171_11e9_9d8c_0f4ec7a9def4row0_col3\" class=\"data row0 col3\" ><img src=\"ABWKunstwissenschaften_Publikationen.png\", width=250, height=200/></td>\n",
       "            </tr>\n",
       "            <tr>\n",
       "                        <th id=\"T_5003b21e_b171_11e9_9d8c_0f4ec7a9def4level0_row1\" class=\"row_heading level0 row1\" >Bildende Kunst</th>\n",
       "                        <td id=\"T_5003b21e_b171_11e9_9d8c_0f4ec7a9def4row1_col0\" class=\"data row1 col0\" >18.18%</td>\n",
       "                        <td id=\"T_5003b21e_b171_11e9_9d8c_0f4ec7a9def4row1_col1\" class=\"data row1 col1\" >24 Publikationen</td>\n",
       "                        <td id=\"T_5003b21e_b171_11e9_9d8c_0f4ec7a9def4row1_col2\" class=\"data row1 col2\" >1. Platz</td>\n",
       "                        <td id=\"T_5003b21e_b171_11e9_9d8c_0f4ec7a9def4row1_col3\" class=\"data row1 col3\" ><img src=\"ABWBildende_Kunst_Publikationen.png\", width=250, height=200/></td>\n",
       "            </tr>\n",
       "            <tr>\n",
       "                        <th id=\"T_5003b21e_b171_11e9_9d8c_0f4ec7a9def4level0_row2\" class=\"row_heading level0 row2\" >Medien- und Kommunikationswissenschaften</th>\n",
       "                        <td id=\"T_5003b21e_b171_11e9_9d8c_0f4ec7a9def4row2_col0\" class=\"data row2 col0\" >8.33%</td>\n",
       "                        <td id=\"T_5003b21e_b171_11e9_9d8c_0f4ec7a9def4row2_col1\" class=\"data row2 col1\" >11 Publikationen</td>\n",
       "                        <td id=\"T_5003b21e_b171_11e9_9d8c_0f4ec7a9def4row2_col2\" class=\"data row2 col2\" >5. Platz</td>\n",
       "                        <td id=\"T_5003b21e_b171_11e9_9d8c_0f4ec7a9def4row2_col3\" class=\"data row2 col3\" ><img src=\"ABWMedien-_und_Kommunikationswissenschaften_Publikationen.png\", width=250, height=200/></td>\n",
       "            </tr>\n",
       "            <tr>\n",
       "                        <th id=\"T_5003b21e_b171_11e9_9d8c_0f4ec7a9def4level0_row3\" class=\"row_heading level0 row3\" >Soziologie</th>\n",
       "                        <td id=\"T_5003b21e_b171_11e9_9d8c_0f4ec7a9def4row3_col0\" class=\"data row3 col0\" >8.33%</td>\n",
       "                        <td id=\"T_5003b21e_b171_11e9_9d8c_0f4ec7a9def4row3_col1\" class=\"data row3 col1\" >11 Publikationen</td>\n",
       "                        <td id=\"T_5003b21e_b171_11e9_9d8c_0f4ec7a9def4row3_col2\" class=\"data row3 col2\" >12. Platz</td>\n",
       "                        <td id=\"T_5003b21e_b171_11e9_9d8c_0f4ec7a9def4row3_col3\" class=\"data row3 col3\" ><img src=\"ABWSoziologie_Publikationen.png\", width=250, height=200/></td>\n",
       "            </tr>\n",
       "            <tr>\n",
       "                        <th id=\"T_5003b21e_b171_11e9_9d8c_0f4ec7a9def4level0_row4\" class=\"row_heading level0 row4\" >Film und Fernsehen</th>\n",
       "                        <td id=\"T_5003b21e_b171_11e9_9d8c_0f4ec7a9def4row4_col0\" class=\"data row4 col0\" >7.58%</td>\n",
       "                        <td id=\"T_5003b21e_b171_11e9_9d8c_0f4ec7a9def4row4_col1\" class=\"data row4 col1\" >10 Publikationen</td>\n",
       "                        <td id=\"T_5003b21e_b171_11e9_9d8c_0f4ec7a9def4row4_col2\" class=\"data row4 col2\" >1. Platz</td>\n",
       "                        <td id=\"T_5003b21e_b171_11e9_9d8c_0f4ec7a9def4row4_col3\" class=\"data row4 col3\" ><img src=\"ABWFilm_und_Fernsehen_Publikationen.png\", width=250, height=200/></td>\n",
       "            </tr>\n",
       "            <tr>\n",
       "                        <th id=\"T_5003b21e_b171_11e9_9d8c_0f4ec7a9def4level0_row5\" class=\"row_heading level0 row5\" >Chemie</th>\n",
       "                        <td id=\"T_5003b21e_b171_11e9_9d8c_0f4ec7a9def4row5_col0\" class=\"data row5 col0\" >6.06%</td>\n",
       "                        <td id=\"T_5003b21e_b171_11e9_9d8c_0f4ec7a9def4row5_col1\" class=\"data row5 col1\" >8 Publikationen</td>\n",
       "                        <td id=\"T_5003b21e_b171_11e9_9d8c_0f4ec7a9def4row5_col2\" class=\"data row5 col2\" >12. Platz</td>\n",
       "                        <td id=\"T_5003b21e_b171_11e9_9d8c_0f4ec7a9def4row5_col3\" class=\"data row5 col3\" ><img src=\"ABWChemie_Publikationen.png\", width=250, height=200/></td>\n",
       "            </tr>\n",
       "    </tbody></table>"
      ],
      "text/plain": [
       "<IPython.core.display.HTML object>"
      ]
     },
     "metadata": {},
     "output_type": "display_data"
    },
    {
     "data": {
      "text/html": [
       "<h3>Drittmittel-Struktur der ABW</h3>"
      ],
      "text/plain": [
       "<IPython.core.display.HTML object>"
      ]
     },
     "metadata": {},
     "output_type": "display_data"
    },
    {
     "data": {
      "text/html": [
       "Angezeigt werden WZW, die zusammen 70.4% der Drittmittel an der ABW ausmachen. Alle anderen WZW tragen je weniger als 29.6% bei. Die Spalte \"Ranking\" bezieht sich  auf den &ouml;sterreichweiten Vergleich der absoluten Werte pro WZW"
      ],
      "text/plain": [
       "<IPython.core.display.HTML object>"
      ]
     },
     "metadata": {},
     "output_type": "display_data"
    },
    {
     "data": {
      "text/html": [
       "<style  type=\"text/css\" >\n",
       "    #T_501ccfd8_b171_11e9_9d8c_0f4ec7a9def4row0_col0 {\n",
       "            background-color:  yellow;\n",
       "        }    #T_501ccfd8_b171_11e9_9d8c_0f4ec7a9def4row0_col1 {\n",
       "            background-color:  yellow;\n",
       "        }    #T_501ccfd8_b171_11e9_9d8c_0f4ec7a9def4row0_col2 {\n",
       "            background-color:  yellow;\n",
       "        }    #T_501ccfd8_b171_11e9_9d8c_0f4ec7a9def4row0_col3 {\n",
       "            background-color:  yellow;\n",
       "        }    #T_501ccfd8_b171_11e9_9d8c_0f4ec7a9def4row1_col0 {\n",
       "            background-color:  green;\n",
       "        }    #T_501ccfd8_b171_11e9_9d8c_0f4ec7a9def4row1_col1 {\n",
       "            background-color:  green;\n",
       "        }    #T_501ccfd8_b171_11e9_9d8c_0f4ec7a9def4row1_col2 {\n",
       "            background-color:  green;\n",
       "        }    #T_501ccfd8_b171_11e9_9d8c_0f4ec7a9def4row1_col3 {\n",
       "            background-color:  green;\n",
       "        }</style><table id=\"T_501ccfd8_b171_11e9_9d8c_0f4ec7a9def4\" ><thead>    <tr>        <th class=\"blank level0\" ></th>        <th class=\"col_heading level0 col0\" >Intern</th>        <th class=\"col_heading level0 col1\" >Drittmittel</th>        <th class=\"col_heading level0 col2\" >Ranking</th>        <th class=\"col_heading level0 col3\" >Universität im Vergleich</th>    </tr>    <tr>        <th class=\"index_name level0\" >WZW</th>        <th class=\"blank\" ></th>        <th class=\"blank\" ></th>        <th class=\"blank\" ></th>        <th class=\"blank\" ></th>    </tr></thead><tbody>\n",
       "                <tr>\n",
       "                        <th id=\"T_501ccfd8_b171_11e9_9d8c_0f4ec7a9def4level0_row0\" class=\"row_heading level0 row0\" >Kunstwissenschaften</th>\n",
       "                        <td id=\"T_501ccfd8_b171_11e9_9d8c_0f4ec7a9def4row0_col0\" class=\"data row0 col0\" >36.19%</td>\n",
       "                        <td id=\"T_501ccfd8_b171_11e9_9d8c_0f4ec7a9def4row0_col1\" class=\"data row0 col1\" >587,593 €</td>\n",
       "                        <td id=\"T_501ccfd8_b171_11e9_9d8c_0f4ec7a9def4row0_col2\" class=\"data row0 col2\" >3. Platz</td>\n",
       "                        <td id=\"T_501ccfd8_b171_11e9_9d8c_0f4ec7a9def4row0_col3\" class=\"data row0 col3\" ><img src=\"ABWKunstwissenschaften_Drittmittel.png\", width=250, height=200/></td>\n",
       "            </tr>\n",
       "            <tr>\n",
       "                        <th id=\"T_501ccfd8_b171_11e9_9d8c_0f4ec7a9def4level0_row1\" class=\"row_heading level0 row1\" >Pädagogik / Vermittlung (2)</th>\n",
       "                        <td id=\"T_501ccfd8_b171_11e9_9d8c_0f4ec7a9def4row1_col0\" class=\"data row1 col0\" >34.23%</td>\n",
       "                        <td id=\"T_501ccfd8_b171_11e9_9d8c_0f4ec7a9def4row1_col1\" class=\"data row1 col1\" >555,820 €</td>\n",
       "                        <td id=\"T_501ccfd8_b171_11e9_9d8c_0f4ec7a9def4row1_col2\" class=\"data row1 col2\" >1. Platz</td>\n",
       "                        <td id=\"T_501ccfd8_b171_11e9_9d8c_0f4ec7a9def4row1_col3\" class=\"data row1 col3\" ><img src=\"ABWPädagogik__Vermittlung_2_Drittmittel.png\", width=250, height=200/></td>\n",
       "            </tr>\n",
       "    </tbody></table>"
      ],
      "text/plain": [
       "<IPython.core.display.HTML object>"
      ]
     },
     "metadata": {},
     "output_type": "display_data"
    },
    {
     "data": {
      "text/html": [
       "<h2 style=\"page-break-before: always;\">Medizinische Universität Graz</h2>"
      ],
      "text/plain": [
       "<IPython.core.display.HTML object>"
      ]
     },
     "metadata": {},
     "output_type": "display_data"
    },
    {
     "data": {
      "text/html": [
       "<h3>Vergleichbare Universitäten in Publikationen- und Drittmittel-Struktur</h3><ul>"
      ],
      "text/plain": [
       "<IPython.core.display.HTML object>"
      ]
     },
     "metadata": {},
     "output_type": "display_data"
    },
    {
     "data": {
      "text/html": [
       "<li><strong>Keine.</strong> Die Medizinische Universität Graz ist stark spezialisiert.</li>"
      ],
      "text/plain": [
       "<IPython.core.display.HTML object>"
      ]
     },
     "metadata": {},
     "output_type": "display_data"
    },
    {
     "data": {
      "text/html": [
       "</ul>"
      ],
      "text/plain": [
       "<IPython.core.display.HTML object>"
      ]
     },
     "metadata": {},
     "output_type": "display_data"
    },
    {
     "data": {
      "text/html": [
       "<h4>Vergleichbar bei der Publikationen-Struktur</h4>"
      ],
      "text/plain": [
       "<IPython.core.display.HTML object>"
      ]
     },
     "metadata": {},
     "output_type": "display_data"
    },
    {
     "data": {
      "text/html": [
       "<p><strong>Medizinische Universität Innsbruck</strong> (87.1%, wegen &auml;hnlicher interner Relevanz von Klinische Medizin, Medizinisch-theoretische Wissenschaften, Pharmazie, Biologie), <strong>Medizinische Universität Wien</strong> (86.3%, wegen &auml;hnlicher interner Relevanz von Klinische Medizin, Medizinisch-theoretische Wissenschaften, Pharmazie, Gesundheitswissenschaften)</p>"
      ],
      "text/plain": [
       "<IPython.core.display.HTML object>"
      ]
     },
     "metadata": {},
     "output_type": "display_data"
    },
    {
     "data": {
      "text/html": [
       "<img src=\"MUG_Publikationen_overview.png\" width=\"1000\" height=\"200\"/>"
      ],
      "text/plain": [
       "<IPython.core.display.HTML object>"
      ]
     },
     "metadata": {},
     "output_type": "display_data"
    },
    {
     "data": {
      "text/html": [
       "<h4>Vergleichbar bei der Drittmittel-Struktur</h4>"
      ],
      "text/plain": [
       "<IPython.core.display.HTML object>"
      ]
     },
     "metadata": {},
     "output_type": "display_data"
    },
    {
     "data": {
      "text/html": [
       "<p>Die Medizinische Universität Graz ist im Bereich Drittmittel spezialisiert.<br/><strong>Keine</strong> andere Universität ähnelt der Medizinische Universität Graz in der Drittmittel-Struktur in auffälliger Weise.</p>"
      ],
      "text/plain": [
       "<IPython.core.display.HTML object>"
      ]
     },
     "metadata": {},
     "output_type": "display_data"
    },
    {
     "data": {
      "text/html": [
       "<img src=\"MUG_Drittmittel_overview.png\" width=\"1000\" height=\"200\"/>"
      ],
      "text/plain": [
       "<IPython.core.display.HTML object>"
      ]
     },
     "metadata": {},
     "output_type": "display_data"
    },
    {
     "data": {
      "text/html": [
       "<p><small>Universitäten mit einer Ähnlichkeit von weniger als 50% werden nicht angezeigt.</small></p>"
      ],
      "text/plain": [
       "<IPython.core.display.HTML object>"
      ]
     },
     "metadata": {},
     "output_type": "display_data"
    },
    {
     "data": {
      "text/html": [
       "<h3>Publikationen-Struktur der MUG</h3>"
      ],
      "text/plain": [
       "<IPython.core.display.HTML object>"
      ]
     },
     "metadata": {},
     "output_type": "display_data"
    },
    {
     "data": {
      "text/html": [
       "Angezeigt werden WZW, die zusammen 77.8% der Publikationen an der MUG ausmachen. Alle anderen WZW tragen je weniger als 16.9% bei. Die Spalte \"Ranking\" bezieht sich  auf den &ouml;sterreichweiten Vergleich der absoluten Werte pro WZW"
      ],
      "text/plain": [
       "<IPython.core.display.HTML object>"
      ]
     },
     "metadata": {},
     "output_type": "display_data"
    },
    {
     "data": {
      "text/html": [
       "<style  type=\"text/css\" >\n",
       "    #T_50564772_b171_11e9_9d8c_0f4ec7a9def4row0_col0 {\n",
       "            background-color:  yellow;\n",
       "        }    #T_50564772_b171_11e9_9d8c_0f4ec7a9def4row0_col1 {\n",
       "            background-color:  yellow;\n",
       "        }    #T_50564772_b171_11e9_9d8c_0f4ec7a9def4row0_col2 {\n",
       "            background-color:  yellow;\n",
       "        }    #T_50564772_b171_11e9_9d8c_0f4ec7a9def4row0_col3 {\n",
       "            background-color:  yellow;\n",
       "        }    #T_50564772_b171_11e9_9d8c_0f4ec7a9def4row1_col0 {\n",
       "            background-color:  yellow;\n",
       "        }    #T_50564772_b171_11e9_9d8c_0f4ec7a9def4row1_col1 {\n",
       "            background-color:  yellow;\n",
       "        }    #T_50564772_b171_11e9_9d8c_0f4ec7a9def4row1_col2 {\n",
       "            background-color:  yellow;\n",
       "        }    #T_50564772_b171_11e9_9d8c_0f4ec7a9def4row1_col3 {\n",
       "            background-color:  yellow;\n",
       "        }</style><table id=\"T_50564772_b171_11e9_9d8c_0f4ec7a9def4\" ><thead>    <tr>        <th class=\"blank level0\" ></th>        <th class=\"col_heading level0 col0\" >Intern</th>        <th class=\"col_heading level0 col1\" >Publikationen</th>        <th class=\"col_heading level0 col2\" >Ranking</th>        <th class=\"col_heading level0 col3\" >Universität im Vergleich</th>    </tr>    <tr>        <th class=\"index_name level0\" >WZW</th>        <th class=\"blank\" ></th>        <th class=\"blank\" ></th>        <th class=\"blank\" ></th>        <th class=\"blank\" ></th>    </tr></thead><tbody>\n",
       "                <tr>\n",
       "                        <th id=\"T_50564772_b171_11e9_9d8c_0f4ec7a9def4level0_row0\" class=\"row_heading level0 row0\" >Klinische Medizin</th>\n",
       "                        <td id=\"T_50564772_b171_11e9_9d8c_0f4ec7a9def4row0_col0\" class=\"data row0 col0\" >60.94%</td>\n",
       "                        <td id=\"T_50564772_b171_11e9_9d8c_0f4ec7a9def4row0_col1\" class=\"data row0 col1\" >1521 Publikationen</td>\n",
       "                        <td id=\"T_50564772_b171_11e9_9d8c_0f4ec7a9def4row0_col2\" class=\"data row0 col2\" >2. Platz</td>\n",
       "                        <td id=\"T_50564772_b171_11e9_9d8c_0f4ec7a9def4row0_col3\" class=\"data row0 col3\" ><img src=\"MUGKlinische_Medizin_Publikationen.png\", width=250, height=200/></td>\n",
       "            </tr>\n",
       "            <tr>\n",
       "                        <th id=\"T_50564772_b171_11e9_9d8c_0f4ec7a9def4level0_row1\" class=\"row_heading level0 row1\" >Medizinisch-theoretische Wissenschaften, Pharmazie</th>\n",
       "                        <td id=\"T_50564772_b171_11e9_9d8c_0f4ec7a9def4row1_col0\" class=\"data row1 col0\" >16.91%</td>\n",
       "                        <td id=\"T_50564772_b171_11e9_9d8c_0f4ec7a9def4row1_col1\" class=\"data row1 col1\" >422 Publikationen</td>\n",
       "                        <td id=\"T_50564772_b171_11e9_9d8c_0f4ec7a9def4row1_col2\" class=\"data row1 col2\" >2. Platz</td>\n",
       "                        <td id=\"T_50564772_b171_11e9_9d8c_0f4ec7a9def4row1_col3\" class=\"data row1 col3\" ><img src=\"MUGMedizinisch-theoretische_Wissenschaften_Pharmazie_Publikationen.png\", width=250, height=200/></td>\n",
       "            </tr>\n",
       "    </tbody></table>"
      ],
      "text/plain": [
       "<IPython.core.display.HTML object>"
      ]
     },
     "metadata": {},
     "output_type": "display_data"
    },
    {
     "data": {
      "text/html": [
       "<h3>Drittmittel-Struktur der MUG</h3>"
      ],
      "text/plain": [
       "<IPython.core.display.HTML object>"
      ]
     },
     "metadata": {},
     "output_type": "display_data"
    },
    {
     "data": {
      "text/html": [
       "Angezeigt werden WZW, die zusammen 67.9% der Drittmittel an der MUG ausmachen. Alle anderen WZW tragen je weniger als 32.1% bei. Die Spalte \"Ranking\" bezieht sich  auf den &ouml;sterreichweiten Vergleich der absoluten Werte pro WZW"
      ],
      "text/plain": [
       "<IPython.core.display.HTML object>"
      ]
     },
     "metadata": {},
     "output_type": "display_data"
    },
    {
     "data": {
      "text/html": [
       "<style  type=\"text/css\" >\n",
       "    #T_506561b2_b171_11e9_9d8c_0f4ec7a9def4row0_col0 {\n",
       "            background-color:  green;\n",
       "        }    #T_506561b2_b171_11e9_9d8c_0f4ec7a9def4row0_col1 {\n",
       "            background-color:  green;\n",
       "        }    #T_506561b2_b171_11e9_9d8c_0f4ec7a9def4row0_col2 {\n",
       "            background-color:  green;\n",
       "        }    #T_506561b2_b171_11e9_9d8c_0f4ec7a9def4row0_col3 {\n",
       "            background-color:  green;\n",
       "        }</style><table id=\"T_506561b2_b171_11e9_9d8c_0f4ec7a9def4\" ><thead>    <tr>        <th class=\"blank level0\" ></th>        <th class=\"col_heading level0 col0\" >Intern</th>        <th class=\"col_heading level0 col1\" >Drittmittel</th>        <th class=\"col_heading level0 col2\" >Ranking</th>        <th class=\"col_heading level0 col3\" >Universität im Vergleich</th>    </tr>    <tr>        <th class=\"index_name level0\" >WZW</th>        <th class=\"blank\" ></th>        <th class=\"blank\" ></th>        <th class=\"blank\" ></th>        <th class=\"blank\" ></th>    </tr></thead><tbody>\n",
       "                <tr>\n",
       "                        <th id=\"T_506561b2_b171_11e9_9d8c_0f4ec7a9def4level0_row0\" class=\"row_heading level0 row0\" >Medizinisch-theoretische Wissenschaften, Pharmazie</th>\n",
       "                        <td id=\"T_506561b2_b171_11e9_9d8c_0f4ec7a9def4row0_col0\" class=\"data row0 col0\" >67.87%</td>\n",
       "                        <td id=\"T_506561b2_b171_11e9_9d8c_0f4ec7a9def4row0_col1\" class=\"data row0 col1\" >34,148,791 €</td>\n",
       "                        <td id=\"T_506561b2_b171_11e9_9d8c_0f4ec7a9def4row0_col2\" class=\"data row0 col2\" >1. Platz</td>\n",
       "                        <td id=\"T_506561b2_b171_11e9_9d8c_0f4ec7a9def4row0_col3\" class=\"data row0 col3\" ><img src=\"MUGMedizinisch-theoretische_Wissenschaften_Pharmazie_Drittmittel.png\", width=250, height=200/></td>\n",
       "            </tr>\n",
       "    </tbody></table>"
      ],
      "text/plain": [
       "<IPython.core.display.HTML object>"
      ]
     },
     "metadata": {},
     "output_type": "display_data"
    },
    {
     "data": {
      "text/html": [
       "<h2 style=\"page-break-before: always;\">Medizinische Universität Innsbruck</h2>"
      ],
      "text/plain": [
       "<IPython.core.display.HTML object>"
      ]
     },
     "metadata": {},
     "output_type": "display_data"
    },
    {
     "data": {
      "text/html": [
       "<h3>Vergleichbare Universitäten in Publikationen- und Drittmittel-Struktur</h3><ul>"
      ],
      "text/plain": [
       "<IPython.core.display.HTML object>"
      ]
     },
     "metadata": {},
     "output_type": "display_data"
    },
    {
     "data": {
      "text/html": [
       "<li style=\"margin-bottom: 5px;\">Medizinische Universität Wien</li>"
      ],
      "text/plain": [
       "<IPython.core.display.HTML object>"
      ]
     },
     "metadata": {},
     "output_type": "display_data"
    },
    {
     "data": {
      "text/html": [
       "</ul>"
      ],
      "text/plain": [
       "<IPython.core.display.HTML object>"
      ]
     },
     "metadata": {},
     "output_type": "display_data"
    },
    {
     "data": {
      "text/html": [
       "<h4>Vergleichbar bei der Publikationen-Struktur</h4>"
      ],
      "text/plain": [
       "<IPython.core.display.HTML object>"
      ]
     },
     "metadata": {},
     "output_type": "display_data"
    },
    {
     "data": {
      "text/html": [
       "<p><strong>Medizinische Universität Wien</strong> (91.9%, wegen &auml;hnlicher interner Relevanz von Klinische Medizin, Medizinisch-theoretische Wissenschaften, Pharmazie, Gesundheitswissenschaften), <strong>Medizinische Universität Graz</strong> (87.1%, wegen &auml;hnlicher interner Relevanz von Klinische Medizin, Medizinisch-theoretische Wissenschaften, Pharmazie, Biologie)</p>"
      ],
      "text/plain": [
       "<IPython.core.display.HTML object>"
      ]
     },
     "metadata": {},
     "output_type": "display_data"
    },
    {
     "data": {
      "text/html": [
       "<img src=\"MUI_Publikationen_overview.png\" width=\"1000\" height=\"200\"/>"
      ],
      "text/plain": [
       "<IPython.core.display.HTML object>"
      ]
     },
     "metadata": {},
     "output_type": "display_data"
    },
    {
     "data": {
      "text/html": [
       "<h4>Vergleichbar bei der Drittmittel-Struktur</h4>"
      ],
      "text/plain": [
       "<IPython.core.display.HTML object>"
      ]
     },
     "metadata": {},
     "output_type": "display_data"
    },
    {
     "data": {
      "text/html": [
       "<p><strong>Medizinische Universität Wien</strong> (60.9%, wegen &auml;hnlicher interner Relevanz von Klinische Medizin, Medizinisch-theoretische Wissenschaften, Pharmazie, Gesundheitswissenschaften)</p>"
      ],
      "text/plain": [
       "<IPython.core.display.HTML object>"
      ]
     },
     "metadata": {},
     "output_type": "display_data"
    },
    {
     "data": {
      "text/html": [
       "<img src=\"MUI_Drittmittel_overview.png\" width=\"1000\" height=\"200\"/>"
      ],
      "text/plain": [
       "<IPython.core.display.HTML object>"
      ]
     },
     "metadata": {},
     "output_type": "display_data"
    },
    {
     "data": {
      "text/html": [
       "<p><small>Universitäten mit einer Ähnlichkeit von weniger als 50% werden nicht angezeigt.</small></p>"
      ],
      "text/plain": [
       "<IPython.core.display.HTML object>"
      ]
     },
     "metadata": {},
     "output_type": "display_data"
    },
    {
     "data": {
      "text/html": [
       "<h3>Publikationen-Struktur der MUI</h3>"
      ],
      "text/plain": [
       "<IPython.core.display.HTML object>"
      ]
     },
     "metadata": {},
     "output_type": "display_data"
    },
    {
     "data": {
      "text/html": [
       "Angezeigt werden WZW, die zusammen 66.9% der Publikationen an der MUI ausmachen. Alle anderen WZW tragen je weniger als 33.1% bei. Die Spalte \"Ranking\" bezieht sich  auf den &ouml;sterreichweiten Vergleich der absoluten Werte pro WZW"
      ],
      "text/plain": [
       "<IPython.core.display.HTML object>"
      ]
     },
     "metadata": {},
     "output_type": "display_data"
    },
    {
     "data": {
      "text/html": [
       "<style  type=\"text/css\" >\n",
       "    #T_5078a704_b171_11e9_9d8c_0f4ec7a9def4row0_col0 {\n",
       "            background-color:  yellow;\n",
       "        }    #T_5078a704_b171_11e9_9d8c_0f4ec7a9def4row0_col1 {\n",
       "            background-color:  yellow;\n",
       "        }    #T_5078a704_b171_11e9_9d8c_0f4ec7a9def4row0_col2 {\n",
       "            background-color:  yellow;\n",
       "        }    #T_5078a704_b171_11e9_9d8c_0f4ec7a9def4row0_col3 {\n",
       "            background-color:  yellow;\n",
       "        }</style><table id=\"T_5078a704_b171_11e9_9d8c_0f4ec7a9def4\" ><thead>    <tr>        <th class=\"blank level0\" ></th>        <th class=\"col_heading level0 col0\" >Intern</th>        <th class=\"col_heading level0 col1\" >Publikationen</th>        <th class=\"col_heading level0 col2\" >Ranking</th>        <th class=\"col_heading level0 col3\" >Universität im Vergleich</th>    </tr>    <tr>        <th class=\"index_name level0\" >WZW</th>        <th class=\"blank\" ></th>        <th class=\"blank\" ></th>        <th class=\"blank\" ></th>        <th class=\"blank\" ></th>    </tr></thead><tbody>\n",
       "                <tr>\n",
       "                        <th id=\"T_5078a704_b171_11e9_9d8c_0f4ec7a9def4level0_row0\" class=\"row_heading level0 row0\" >Klinische Medizin</th>\n",
       "                        <td id=\"T_5078a704_b171_11e9_9d8c_0f4ec7a9def4row0_col0\" class=\"data row0 col0\" >66.93%</td>\n",
       "                        <td id=\"T_5078a704_b171_11e9_9d8c_0f4ec7a9def4row0_col1\" class=\"data row0 col1\" >939 Publikationen</td>\n",
       "                        <td id=\"T_5078a704_b171_11e9_9d8c_0f4ec7a9def4row0_col2\" class=\"data row0 col2\" >3. Platz</td>\n",
       "                        <td id=\"T_5078a704_b171_11e9_9d8c_0f4ec7a9def4row0_col3\" class=\"data row0 col3\" ><img src=\"MUIKlinische_Medizin_Publikationen.png\", width=250, height=200/></td>\n",
       "            </tr>\n",
       "    </tbody></table>"
      ],
      "text/plain": [
       "<IPython.core.display.HTML object>"
      ]
     },
     "metadata": {},
     "output_type": "display_data"
    },
    {
     "data": {
      "text/html": [
       "<h3>Drittmittel-Struktur der MUI</h3>"
      ],
      "text/plain": [
       "<IPython.core.display.HTML object>"
      ]
     },
     "metadata": {},
     "output_type": "display_data"
    },
    {
     "data": {
      "text/html": [
       "Angezeigt werden WZW, die zusammen 76.8% der Drittmittel an der MUI ausmachen. Alle anderen WZW tragen je weniger als 22.5% bei. Die Spalte \"Ranking\" bezieht sich  auf den &ouml;sterreichweiten Vergleich der absoluten Werte pro WZW"
      ],
      "text/plain": [
       "<IPython.core.display.HTML object>"
      ]
     },
     "metadata": {},
     "output_type": "display_data"
    },
    {
     "data": {
      "text/html": [
       "<style  type=\"text/css\" >\n",
       "    #T_509eafda_b171_11e9_9d8c_0f4ec7a9def4row0_col0 {\n",
       "            background-color:  yellow;\n",
       "        }    #T_509eafda_b171_11e9_9d8c_0f4ec7a9def4row0_col1 {\n",
       "            background-color:  yellow;\n",
       "        }    #T_509eafda_b171_11e9_9d8c_0f4ec7a9def4row0_col2 {\n",
       "            background-color:  yellow;\n",
       "        }    #T_509eafda_b171_11e9_9d8c_0f4ec7a9def4row0_col3 {\n",
       "            background-color:  yellow;\n",
       "        }    #T_509eafda_b171_11e9_9d8c_0f4ec7a9def4row1_col0 {\n",
       "            background-color:  green;\n",
       "        }    #T_509eafda_b171_11e9_9d8c_0f4ec7a9def4row1_col1 {\n",
       "            background-color:  green;\n",
       "        }    #T_509eafda_b171_11e9_9d8c_0f4ec7a9def4row1_col2 {\n",
       "            background-color:  green;\n",
       "        }    #T_509eafda_b171_11e9_9d8c_0f4ec7a9def4row1_col3 {\n",
       "            background-color:  green;\n",
       "        }    #T_509eafda_b171_11e9_9d8c_0f4ec7a9def4row2_col0 {\n",
       "            background-color:  yellow;\n",
       "        }    #T_509eafda_b171_11e9_9d8c_0f4ec7a9def4row2_col1 {\n",
       "            background-color:  yellow;\n",
       "        }    #T_509eafda_b171_11e9_9d8c_0f4ec7a9def4row2_col2 {\n",
       "            background-color:  yellow;\n",
       "        }    #T_509eafda_b171_11e9_9d8c_0f4ec7a9def4row2_col3 {\n",
       "            background-color:  yellow;\n",
       "        }</style><table id=\"T_509eafda_b171_11e9_9d8c_0f4ec7a9def4\" ><thead>    <tr>        <th class=\"blank level0\" ></th>        <th class=\"col_heading level0 col0\" >Intern</th>        <th class=\"col_heading level0 col1\" >Drittmittel</th>        <th class=\"col_heading level0 col2\" >Ranking</th>        <th class=\"col_heading level0 col3\" >Universität im Vergleich</th>    </tr>    <tr>        <th class=\"index_name level0\" >WZW</th>        <th class=\"blank\" ></th>        <th class=\"blank\" ></th>        <th class=\"blank\" ></th>        <th class=\"blank\" ></th>    </tr></thead><tbody>\n",
       "                <tr>\n",
       "                        <th id=\"T_509eafda_b171_11e9_9d8c_0f4ec7a9def4level0_row0\" class=\"row_heading level0 row0\" >Klinische Medizin</th>\n",
       "                        <td id=\"T_509eafda_b171_11e9_9d8c_0f4ec7a9def4row0_col0\" class=\"data row0 col0\" >30.75%</td>\n",
       "                        <td id=\"T_509eafda_b171_11e9_9d8c_0f4ec7a9def4row0_col1\" class=\"data row0 col1\" >12,965,389 €</td>\n",
       "                        <td id=\"T_509eafda_b171_11e9_9d8c_0f4ec7a9def4row0_col2\" class=\"data row0 col2\" >2. Platz</td>\n",
       "                        <td id=\"T_509eafda_b171_11e9_9d8c_0f4ec7a9def4row0_col3\" class=\"data row0 col3\" ><img src=\"MUIKlinische_Medizin_Drittmittel.png\", width=250, height=200/></td>\n",
       "            </tr>\n",
       "            <tr>\n",
       "                        <th id=\"T_509eafda_b171_11e9_9d8c_0f4ec7a9def4level0_row1\" class=\"row_heading level0 row1\" >Andere Humanmedizin, Gesundheitswissenschaften</th>\n",
       "                        <td id=\"T_509eafda_b171_11e9_9d8c_0f4ec7a9def4row1_col0\" class=\"data row1 col0\" >23.53%</td>\n",
       "                        <td id=\"T_509eafda_b171_11e9_9d8c_0f4ec7a9def4row1_col1\" class=\"data row1 col1\" >9,920,350 €</td>\n",
       "                        <td id=\"T_509eafda_b171_11e9_9d8c_0f4ec7a9def4row1_col2\" class=\"data row1 col2\" >1. Platz</td>\n",
       "                        <td id=\"T_509eafda_b171_11e9_9d8c_0f4ec7a9def4row1_col3\" class=\"data row1 col3\" ><img src=\"MUIAndere_Humanmedizin_Gesundheitswissenschaften_Drittmittel.png\", width=250, height=200/></td>\n",
       "            </tr>\n",
       "            <tr>\n",
       "                        <th id=\"T_509eafda_b171_11e9_9d8c_0f4ec7a9def4level0_row2\" class=\"row_heading level0 row2\" >Gesundheitswissenschaften</th>\n",
       "                        <td id=\"T_509eafda_b171_11e9_9d8c_0f4ec7a9def4row2_col0\" class=\"data row2 col0\" >22.54%</td>\n",
       "                        <td id=\"T_509eafda_b171_11e9_9d8c_0f4ec7a9def4row2_col1\" class=\"data row2 col1\" >9,502,940 €</td>\n",
       "                        <td id=\"T_509eafda_b171_11e9_9d8c_0f4ec7a9def4row2_col2\" class=\"data row2 col2\" >2. Platz</td>\n",
       "                        <td id=\"T_509eafda_b171_11e9_9d8c_0f4ec7a9def4row2_col3\" class=\"data row2 col3\" ><img src=\"MUIGesundheitswissenschaften_Drittmittel.png\", width=250, height=200/></td>\n",
       "            </tr>\n",
       "    </tbody></table>"
      ],
      "text/plain": [
       "<IPython.core.display.HTML object>"
      ]
     },
     "metadata": {},
     "output_type": "display_data"
    },
    {
     "data": {
      "text/html": [
       "<h2 style=\"page-break-before: always;\">Medizinische Universität Wien</h2>"
      ],
      "text/plain": [
       "<IPython.core.display.HTML object>"
      ]
     },
     "metadata": {},
     "output_type": "display_data"
    },
    {
     "data": {
      "text/html": [
       "<h3>Vergleichbare Universitäten in Publikationen- und Drittmittel-Struktur</h3><ul>"
      ],
      "text/plain": [
       "<IPython.core.display.HTML object>"
      ]
     },
     "metadata": {},
     "output_type": "display_data"
    },
    {
     "data": {
      "text/html": [
       "<li style=\"margin-bottom: 5px;\">Medizinische Universität Innsbruck</li>"
      ],
      "text/plain": [
       "<IPython.core.display.HTML object>"
      ]
     },
     "metadata": {},
     "output_type": "display_data"
    },
    {
     "data": {
      "text/html": [
       "</ul>"
      ],
      "text/plain": [
       "<IPython.core.display.HTML object>"
      ]
     },
     "metadata": {},
     "output_type": "display_data"
    },
    {
     "data": {
      "text/html": [
       "<h4>Vergleichbar bei der Publikationen-Struktur</h4>"
      ],
      "text/plain": [
       "<IPython.core.display.HTML object>"
      ]
     },
     "metadata": {},
     "output_type": "display_data"
    },
    {
     "data": {
      "text/html": [
       "<p><strong>Medizinische Universität Innsbruck</strong> (91.9%, wegen &auml;hnlicher interner Relevanz von Klinische Medizin, Medizinisch-theoretische Wissenschaften, Pharmazie, Gesundheitswissenschaften), <strong>Medizinische Universität Graz</strong> (86.3%, wegen &auml;hnlicher interner Relevanz von Klinische Medizin, Medizinisch-theoretische Wissenschaften, Pharmazie, Gesundheitswissenschaften)</p>"
      ],
      "text/plain": [
       "<IPython.core.display.HTML object>"
      ]
     },
     "metadata": {},
     "output_type": "display_data"
    },
    {
     "data": {
      "text/html": [
       "<img src=\"MUW_Publikationen_overview.png\" width=\"1000\" height=\"200\"/>"
      ],
      "text/plain": [
       "<IPython.core.display.HTML object>"
      ]
     },
     "metadata": {},
     "output_type": "display_data"
    },
    {
     "data": {
      "text/html": [
       "<h4>Vergleichbar bei der Drittmittel-Struktur</h4>"
      ],
      "text/plain": [
       "<IPython.core.display.HTML object>"
      ]
     },
     "metadata": {},
     "output_type": "display_data"
    },
    {
     "data": {
      "text/html": [
       "<p><strong>Medizinische Universität Innsbruck</strong> (60.9%, wegen &auml;hnlicher interner Relevanz von Klinische Medizin, Medizinisch-theoretische Wissenschaften, Pharmazie, Gesundheitswissenschaften)</p>"
      ],
      "text/plain": [
       "<IPython.core.display.HTML object>"
      ]
     },
     "metadata": {},
     "output_type": "display_data"
    },
    {
     "data": {
      "text/html": [
       "<img src=\"MUW_Drittmittel_overview.png\" width=\"1000\" height=\"200\"/>"
      ],
      "text/plain": [
       "<IPython.core.display.HTML object>"
      ]
     },
     "metadata": {},
     "output_type": "display_data"
    },
    {
     "data": {
      "text/html": [
       "<p><small>Universitäten mit einer Ähnlichkeit von weniger als 50% werden nicht angezeigt.</small></p>"
      ],
      "text/plain": [
       "<IPython.core.display.HTML object>"
      ]
     },
     "metadata": {},
     "output_type": "display_data"
    },
    {
     "data": {
      "text/html": [
       "<h3>Publikationen-Struktur der MUW</h3>"
      ],
      "text/plain": [
       "<IPython.core.display.HTML object>"
      ]
     },
     "metadata": {},
     "output_type": "display_data"
    },
    {
     "data": {
      "text/html": [
       "Angezeigt werden WZW, die zusammen 68.4% der Publikationen an der MUW ausmachen. Alle anderen WZW tragen je weniger als 31.6% bei. Die Spalte \"Ranking\" bezieht sich  auf den &ouml;sterreichweiten Vergleich der absoluten Werte pro WZW"
      ],
      "text/plain": [
       "<IPython.core.display.HTML object>"
      ]
     },
     "metadata": {},
     "output_type": "display_data"
    },
    {
     "data": {
      "text/html": [
       "<style  type=\"text/css\" >\n",
       "    #T_50b2337a_b171_11e9_9d8c_0f4ec7a9def4row0_col0 {\n",
       "            background-color:  green;\n",
       "        }    #T_50b2337a_b171_11e9_9d8c_0f4ec7a9def4row0_col1 {\n",
       "            background-color:  green;\n",
       "        }    #T_50b2337a_b171_11e9_9d8c_0f4ec7a9def4row0_col2 {\n",
       "            background-color:  green;\n",
       "        }    #T_50b2337a_b171_11e9_9d8c_0f4ec7a9def4row0_col3 {\n",
       "            background-color:  green;\n",
       "        }</style><table id=\"T_50b2337a_b171_11e9_9d8c_0f4ec7a9def4\" ><thead>    <tr>        <th class=\"blank level0\" ></th>        <th class=\"col_heading level0 col0\" >Intern</th>        <th class=\"col_heading level0 col1\" >Publikationen</th>        <th class=\"col_heading level0 col2\" >Ranking</th>        <th class=\"col_heading level0 col3\" >Universität im Vergleich</th>    </tr>    <tr>        <th class=\"index_name level0\" >WZW</th>        <th class=\"blank\" ></th>        <th class=\"blank\" ></th>        <th class=\"blank\" ></th>        <th class=\"blank\" ></th>    </tr></thead><tbody>\n",
       "                <tr>\n",
       "                        <th id=\"T_50b2337a_b171_11e9_9d8c_0f4ec7a9def4level0_row0\" class=\"row_heading level0 row0\" >Klinische Medizin</th>\n",
       "                        <td id=\"T_50b2337a_b171_11e9_9d8c_0f4ec7a9def4row0_col0\" class=\"data row0 col0\" >68.45%</td>\n",
       "                        <td id=\"T_50b2337a_b171_11e9_9d8c_0f4ec7a9def4row0_col1\" class=\"data row0 col1\" >2701 Publikationen</td>\n",
       "                        <td id=\"T_50b2337a_b171_11e9_9d8c_0f4ec7a9def4row0_col2\" class=\"data row0 col2\" >1. Platz</td>\n",
       "                        <td id=\"T_50b2337a_b171_11e9_9d8c_0f4ec7a9def4row0_col3\" class=\"data row0 col3\" ><img src=\"MUWKlinische_Medizin_Publikationen.png\", width=250, height=200/></td>\n",
       "            </tr>\n",
       "    </tbody></table>"
      ],
      "text/plain": [
       "<IPython.core.display.HTML object>"
      ]
     },
     "metadata": {},
     "output_type": "display_data"
    },
    {
     "data": {
      "text/html": [
       "<h3>Drittmittel-Struktur der MUW</h3>"
      ],
      "text/plain": [
       "<IPython.core.display.HTML object>"
      ]
     },
     "metadata": {},
     "output_type": "display_data"
    },
    {
     "data": {
      "text/html": [
       "Angezeigt werden WZW, die zusammen 81.3% der Drittmittel an der MUW ausmachen. Alle anderen WZW tragen je weniger als 18.7% bei. Die Spalte \"Ranking\" bezieht sich  auf den &ouml;sterreichweiten Vergleich der absoluten Werte pro WZW"
      ],
      "text/plain": [
       "<IPython.core.display.HTML object>"
      ]
     },
     "metadata": {},
     "output_type": "display_data"
    },
    {
     "data": {
      "text/html": [
       "<style  type=\"text/css\" >\n",
       "    #T_50d06124_b171_11e9_9d8c_0f4ec7a9def4row0_col0 {\n",
       "            background-color:  green;\n",
       "        }    #T_50d06124_b171_11e9_9d8c_0f4ec7a9def4row0_col1 {\n",
       "            background-color:  green;\n",
       "        }    #T_50d06124_b171_11e9_9d8c_0f4ec7a9def4row0_col2 {\n",
       "            background-color:  green;\n",
       "        }    #T_50d06124_b171_11e9_9d8c_0f4ec7a9def4row0_col3 {\n",
       "            background-color:  green;\n",
       "        }    #T_50d06124_b171_11e9_9d8c_0f4ec7a9def4row1_col0 {\n",
       "            background-color:  yellow;\n",
       "        }    #T_50d06124_b171_11e9_9d8c_0f4ec7a9def4row1_col1 {\n",
       "            background-color:  yellow;\n",
       "        }    #T_50d06124_b171_11e9_9d8c_0f4ec7a9def4row1_col2 {\n",
       "            background-color:  yellow;\n",
       "        }    #T_50d06124_b171_11e9_9d8c_0f4ec7a9def4row1_col3 {\n",
       "            background-color:  yellow;\n",
       "        }</style><table id=\"T_50d06124_b171_11e9_9d8c_0f4ec7a9def4\" ><thead>    <tr>        <th class=\"blank level0\" ></th>        <th class=\"col_heading level0 col0\" >Intern</th>        <th class=\"col_heading level0 col1\" >Drittmittel</th>        <th class=\"col_heading level0 col2\" >Ranking</th>        <th class=\"col_heading level0 col3\" >Universität im Vergleich</th>    </tr>    <tr>        <th class=\"index_name level0\" >WZW</th>        <th class=\"blank\" ></th>        <th class=\"blank\" ></th>        <th class=\"blank\" ></th>        <th class=\"blank\" ></th>    </tr></thead><tbody>\n",
       "                <tr>\n",
       "                        <th id=\"T_50d06124_b171_11e9_9d8c_0f4ec7a9def4level0_row0\" class=\"row_heading level0 row0\" >Klinische Medizin</th>\n",
       "                        <td id=\"T_50d06124_b171_11e9_9d8c_0f4ec7a9def4row0_col0\" class=\"data row0 col0\" >59.00%</td>\n",
       "                        <td id=\"T_50d06124_b171_11e9_9d8c_0f4ec7a9def4row0_col1\" class=\"data row0 col1\" >58,418,319 €</td>\n",
       "                        <td id=\"T_50d06124_b171_11e9_9d8c_0f4ec7a9def4row0_col2\" class=\"data row0 col2\" >1. Platz</td>\n",
       "                        <td id=\"T_50d06124_b171_11e9_9d8c_0f4ec7a9def4row0_col3\" class=\"data row0 col3\" ><img src=\"MUWKlinische_Medizin_Drittmittel.png\", width=250, height=200/></td>\n",
       "            </tr>\n",
       "            <tr>\n",
       "                        <th id=\"T_50d06124_b171_11e9_9d8c_0f4ec7a9def4level0_row1\" class=\"row_heading level0 row1\" >Medizinisch-theoretische Wissenschaften, Pharmazie</th>\n",
       "                        <td id=\"T_50d06124_b171_11e9_9d8c_0f4ec7a9def4row1_col0\" class=\"data row1 col0\" >22.27%</td>\n",
       "                        <td id=\"T_50d06124_b171_11e9_9d8c_0f4ec7a9def4row1_col1\" class=\"data row1 col1\" >22,050,940 €</td>\n",
       "                        <td id=\"T_50d06124_b171_11e9_9d8c_0f4ec7a9def4row1_col2\" class=\"data row1 col2\" >2. Platz</td>\n",
       "                        <td id=\"T_50d06124_b171_11e9_9d8c_0f4ec7a9def4row1_col3\" class=\"data row1 col3\" ><img src=\"MUWMedizinisch-theoretische_Wissenschaften_Pharmazie_Drittmittel.png\", width=250, height=200/></td>\n",
       "            </tr>\n",
       "    </tbody></table>"
      ],
      "text/plain": [
       "<IPython.core.display.HTML object>"
      ]
     },
     "metadata": {},
     "output_type": "display_data"
    },
    {
     "data": {
      "text/html": [
       "<h2 style=\"page-break-before: always;\">Montanuniversität Leoben</h2>"
      ],
      "text/plain": [
       "<IPython.core.display.HTML object>"
      ]
     },
     "metadata": {},
     "output_type": "display_data"
    },
    {
     "data": {
      "text/html": [
       "<h3>Vergleichbare Universitäten in Publikationen- und Drittmittel-Struktur</h3><ul>"
      ],
      "text/plain": [
       "<IPython.core.display.HTML object>"
      ]
     },
     "metadata": {},
     "output_type": "display_data"
    },
    {
     "data": {
      "text/html": [
       "<li><strong>Keine.</strong> Die Montanuniversität Leoben ist stark spezialisiert.</li>"
      ],
      "text/plain": [
       "<IPython.core.display.HTML object>"
      ]
     },
     "metadata": {},
     "output_type": "display_data"
    },
    {
     "data": {
      "text/html": [
       "</ul>"
      ],
      "text/plain": [
       "<IPython.core.display.HTML object>"
      ]
     },
     "metadata": {},
     "output_type": "display_data"
    },
    {
     "data": {
      "text/html": [
       "<h4>Vergleichbar bei der Publikationen-Struktur</h4>"
      ],
      "text/plain": [
       "<IPython.core.display.HTML object>"
      ]
     },
     "metadata": {},
     "output_type": "display_data"
    },
    {
     "data": {
      "text/html": [
       "<p>Die Montanuniversität Leoben ist im Bereich Publikationen spezialisiert.<br/><strong>Keine</strong> andere Universität ähnelt der Montanuniversität Leoben in der Publikationen-Struktur in auffälliger Weise.</p>"
      ],
      "text/plain": [
       "<IPython.core.display.HTML object>"
      ]
     },
     "metadata": {},
     "output_type": "display_data"
    },
    {
     "data": {
      "text/html": [
       "<img src=\"MUL_Publikationen_overview.png\" width=\"1000\" height=\"200\"/>"
      ],
      "text/plain": [
       "<IPython.core.display.HTML object>"
      ]
     },
     "metadata": {},
     "output_type": "display_data"
    },
    {
     "data": {
      "text/html": [
       "<h4>Vergleichbar bei der Drittmittel-Struktur</h4>"
      ],
      "text/plain": [
       "<IPython.core.display.HTML object>"
      ]
     },
     "metadata": {},
     "output_type": "display_data"
    },
    {
     "data": {
      "text/html": [
       "<p>Die Montanuniversität Leoben ist im Bereich Drittmittel spezialisiert.<br/><strong>Keine</strong> andere Universität ähnelt der Montanuniversität Leoben in der Drittmittel-Struktur in auffälliger Weise.</p>"
      ],
      "text/plain": [
       "<IPython.core.display.HTML object>"
      ]
     },
     "metadata": {},
     "output_type": "display_data"
    },
    {
     "data": {
      "text/html": [
       "<img src=\"MUL_Drittmittel_overview.png\" width=\"1000\" height=\"200\"/>"
      ],
      "text/plain": [
       "<IPython.core.display.HTML object>"
      ]
     },
     "metadata": {},
     "output_type": "display_data"
    },
    {
     "data": {
      "text/html": [
       "<p><small>Universitäten mit einer Ähnlichkeit von weniger als 50% werden nicht angezeigt.</small></p>"
      ],
      "text/plain": [
       "<IPython.core.display.HTML object>"
      ]
     },
     "metadata": {},
     "output_type": "display_data"
    },
    {
     "data": {
      "text/html": [
       "<h3>Publikationen-Struktur der MUL</h3>"
      ],
      "text/plain": [
       "<IPython.core.display.HTML object>"
      ]
     },
     "metadata": {},
     "output_type": "display_data"
    },
    {
     "data": {
      "text/html": [
       "Angezeigt werden WZW, die zusammen 73.8% der Publikationen an der MUL ausmachen. Alle anderen WZW tragen je weniger als 9.3% bei. Die Spalte \"Ranking\" bezieht sich  auf den &ouml;sterreichweiten Vergleich der absoluten Werte pro WZW"
      ],
      "text/plain": [
       "<IPython.core.display.HTML object>"
      ]
     },
     "metadata": {},
     "output_type": "display_data"
    },
    {
     "data": {
      "text/html": [
       "<style  type=\"text/css\" >\n",
       "    #T_511539ca_b171_11e9_9d8c_0f4ec7a9def4row0_col0 {\n",
       "            background-color:  green;\n",
       "        }    #T_511539ca_b171_11e9_9d8c_0f4ec7a9def4row0_col1 {\n",
       "            background-color:  green;\n",
       "        }    #T_511539ca_b171_11e9_9d8c_0f4ec7a9def4row0_col2 {\n",
       "            background-color:  green;\n",
       "        }    #T_511539ca_b171_11e9_9d8c_0f4ec7a9def4row0_col3 {\n",
       "            background-color:  green;\n",
       "        }    #T_511539ca_b171_11e9_9d8c_0f4ec7a9def4row1_col0 {\n",
       "            background-color:  green;\n",
       "        }    #T_511539ca_b171_11e9_9d8c_0f4ec7a9def4row1_col1 {\n",
       "            background-color:  green;\n",
       "        }    #T_511539ca_b171_11e9_9d8c_0f4ec7a9def4row1_col2 {\n",
       "            background-color:  green;\n",
       "        }    #T_511539ca_b171_11e9_9d8c_0f4ec7a9def4row1_col3 {\n",
       "            background-color:  green;\n",
       "        }    #T_511539ca_b171_11e9_9d8c_0f4ec7a9def4row2_col0 {\n",
       "            background-color:  yellow;\n",
       "        }    #T_511539ca_b171_11e9_9d8c_0f4ec7a9def4row2_col1 {\n",
       "            background-color:  yellow;\n",
       "        }    #T_511539ca_b171_11e9_9d8c_0f4ec7a9def4row2_col2 {\n",
       "            background-color:  yellow;\n",
       "        }    #T_511539ca_b171_11e9_9d8c_0f4ec7a9def4row2_col3 {\n",
       "            background-color:  yellow;\n",
       "        }    #T_511539ca_b171_11e9_9d8c_0f4ec7a9def4row3_col0 {\n",
       "            background-color:  white;\n",
       "        }    #T_511539ca_b171_11e9_9d8c_0f4ec7a9def4row3_col1 {\n",
       "            background-color:  white;\n",
       "        }    #T_511539ca_b171_11e9_9d8c_0f4ec7a9def4row3_col2 {\n",
       "            background-color:  white;\n",
       "        }    #T_511539ca_b171_11e9_9d8c_0f4ec7a9def4row3_col3 {\n",
       "            background-color:  white;\n",
       "        }    #T_511539ca_b171_11e9_9d8c_0f4ec7a9def4row4_col0 {\n",
       "            background-color:  white;\n",
       "        }    #T_511539ca_b171_11e9_9d8c_0f4ec7a9def4row4_col1 {\n",
       "            background-color:  white;\n",
       "        }    #T_511539ca_b171_11e9_9d8c_0f4ec7a9def4row4_col2 {\n",
       "            background-color:  white;\n",
       "        }    #T_511539ca_b171_11e9_9d8c_0f4ec7a9def4row4_col3 {\n",
       "            background-color:  white;\n",
       "        }</style><table id=\"T_511539ca_b171_11e9_9d8c_0f4ec7a9def4\" ><thead>    <tr>        <th class=\"blank level0\" ></th>        <th class=\"col_heading level0 col0\" >Intern</th>        <th class=\"col_heading level0 col1\" >Publikationen</th>        <th class=\"col_heading level0 col2\" >Ranking</th>        <th class=\"col_heading level0 col3\" >Universität im Vergleich</th>    </tr>    <tr>        <th class=\"index_name level0\" >WZW</th>        <th class=\"blank\" ></th>        <th class=\"blank\" ></th>        <th class=\"blank\" ></th>        <th class=\"blank\" ></th>    </tr></thead><tbody>\n",
       "                <tr>\n",
       "                        <th id=\"T_511539ca_b171_11e9_9d8c_0f4ec7a9def4level0_row0\" class=\"row_heading level0 row0\" >Werkstofftechnik</th>\n",
       "                        <td id=\"T_511539ca_b171_11e9_9d8c_0f4ec7a9def4row0_col0\" class=\"data row0 col0\" >19.73%</td>\n",
       "                        <td id=\"T_511539ca_b171_11e9_9d8c_0f4ec7a9def4row0_col1\" class=\"data row0 col1\" >190 Publikationen</td>\n",
       "                        <td id=\"T_511539ca_b171_11e9_9d8c_0f4ec7a9def4row0_col2\" class=\"data row0 col2\" >1. Platz</td>\n",
       "                        <td id=\"T_511539ca_b171_11e9_9d8c_0f4ec7a9def4row0_col3\" class=\"data row0 col3\" ><img src=\"MULWerkstofftechnik_Publikationen.png\", width=250, height=200/></td>\n",
       "            </tr>\n",
       "            <tr>\n",
       "                        <th id=\"T_511539ca_b171_11e9_9d8c_0f4ec7a9def4level0_row1\" class=\"row_heading level0 row1\" >Andere Technische Wissenschaften</th>\n",
       "                        <td id=\"T_511539ca_b171_11e9_9d8c_0f4ec7a9def4row1_col0\" class=\"data row1 col0\" >19.00%</td>\n",
       "                        <td id=\"T_511539ca_b171_11e9_9d8c_0f4ec7a9def4row1_col1\" class=\"data row1 col1\" >183 Publikationen</td>\n",
       "                        <td id=\"T_511539ca_b171_11e9_9d8c_0f4ec7a9def4row1_col2\" class=\"data row1 col2\" >1. Platz</td>\n",
       "                        <td id=\"T_511539ca_b171_11e9_9d8c_0f4ec7a9def4row1_col3\" class=\"data row1 col3\" ><img src=\"MULAndere_Technische_Wissenschaften_Publikationen.png\", width=250, height=200/></td>\n",
       "            </tr>\n",
       "            <tr>\n",
       "                        <th id=\"T_511539ca_b171_11e9_9d8c_0f4ec7a9def4level0_row2\" class=\"row_heading level0 row2\" >Umweltingenieurwesen, Angewandte Geowissenschaften</th>\n",
       "                        <td id=\"T_511539ca_b171_11e9_9d8c_0f4ec7a9def4row2_col0\" class=\"data row2 col0\" >16.20%</td>\n",
       "                        <td id=\"T_511539ca_b171_11e9_9d8c_0f4ec7a9def4row2_col1\" class=\"data row2 col1\" >156 Publikationen</td>\n",
       "                        <td id=\"T_511539ca_b171_11e9_9d8c_0f4ec7a9def4row2_col2\" class=\"data row2 col2\" >2. Platz</td>\n",
       "                        <td id=\"T_511539ca_b171_11e9_9d8c_0f4ec7a9def4row2_col3\" class=\"data row2 col3\" ><img src=\"MULUmweltingenieurwesen_Angewandte_Geowissenschaften_Publikationen.png\", width=250, height=200/></td>\n",
       "            </tr>\n",
       "            <tr>\n",
       "                        <th id=\"T_511539ca_b171_11e9_9d8c_0f4ec7a9def4level0_row3\" class=\"row_heading level0 row3\" >Physik, Astronomie</th>\n",
       "                        <td id=\"T_511539ca_b171_11e9_9d8c_0f4ec7a9def4row3_col0\" class=\"data row3 col0\" >9.55%</td>\n",
       "                        <td id=\"T_511539ca_b171_11e9_9d8c_0f4ec7a9def4row3_col1\" class=\"data row3 col1\" >92 Publikationen</td>\n",
       "                        <td id=\"T_511539ca_b171_11e9_9d8c_0f4ec7a9def4row3_col2\" class=\"data row3 col2\" >7. Platz</td>\n",
       "                        <td id=\"T_511539ca_b171_11e9_9d8c_0f4ec7a9def4row3_col3\" class=\"data row3 col3\" ><img src=\"MULPhysik_Astronomie_Publikationen.png\", width=250, height=200/></td>\n",
       "            </tr>\n",
       "            <tr>\n",
       "                        <th id=\"T_511539ca_b171_11e9_9d8c_0f4ec7a9def4level0_row4\" class=\"row_heading level0 row4\" >Geowissenschaften</th>\n",
       "                        <td id=\"T_511539ca_b171_11e9_9d8c_0f4ec7a9def4row4_col0\" class=\"data row4 col0\" >9.35%</td>\n",
       "                        <td id=\"T_511539ca_b171_11e9_9d8c_0f4ec7a9def4row4_col1\" class=\"data row4 col1\" >90 Publikationen</td>\n",
       "                        <td id=\"T_511539ca_b171_11e9_9d8c_0f4ec7a9def4row4_col2\" class=\"data row4 col2\" >6. Platz</td>\n",
       "                        <td id=\"T_511539ca_b171_11e9_9d8c_0f4ec7a9def4row4_col3\" class=\"data row4 col3\" ><img src=\"MULGeowissenschaften_Publikationen.png\", width=250, height=200/></td>\n",
       "            </tr>\n",
       "    </tbody></table>"
      ],
      "text/plain": [
       "<IPython.core.display.HTML object>"
      ]
     },
     "metadata": {},
     "output_type": "display_data"
    },
    {
     "data": {
      "text/html": [
       "<h3>Drittmittel-Struktur der MUL</h3>"
      ],
      "text/plain": [
       "<IPython.core.display.HTML object>"
      ]
     },
     "metadata": {},
     "output_type": "display_data"
    },
    {
     "data": {
      "text/html": [
       "Angezeigt werden WZW, die zusammen 73.5% der Drittmittel an der MUL ausmachen. Alle anderen WZW tragen je weniger als 10.1% bei. Die Spalte \"Ranking\" bezieht sich  auf den &ouml;sterreichweiten Vergleich der absoluten Werte pro WZW"
      ],
      "text/plain": [
       "<IPython.core.display.HTML object>"
      ]
     },
     "metadata": {},
     "output_type": "display_data"
    },
    {
     "data": {
      "text/html": [
       "<style  type=\"text/css\" >\n",
       "    #T_5145e232_b171_11e9_9d8c_0f4ec7a9def4row0_col0 {\n",
       "            background-color:  green;\n",
       "        }    #T_5145e232_b171_11e9_9d8c_0f4ec7a9def4row0_col1 {\n",
       "            background-color:  green;\n",
       "        }    #T_5145e232_b171_11e9_9d8c_0f4ec7a9def4row0_col2 {\n",
       "            background-color:  green;\n",
       "        }    #T_5145e232_b171_11e9_9d8c_0f4ec7a9def4row0_col3 {\n",
       "            background-color:  green;\n",
       "        }    #T_5145e232_b171_11e9_9d8c_0f4ec7a9def4row1_col0 {\n",
       "            background-color:  green;\n",
       "        }    #T_5145e232_b171_11e9_9d8c_0f4ec7a9def4row1_col1 {\n",
       "            background-color:  green;\n",
       "        }    #T_5145e232_b171_11e9_9d8c_0f4ec7a9def4row1_col2 {\n",
       "            background-color:  green;\n",
       "        }    #T_5145e232_b171_11e9_9d8c_0f4ec7a9def4row1_col3 {\n",
       "            background-color:  green;\n",
       "        }    #T_5145e232_b171_11e9_9d8c_0f4ec7a9def4row2_col0 {\n",
       "            background-color:  yellow;\n",
       "        }    #T_5145e232_b171_11e9_9d8c_0f4ec7a9def4row2_col1 {\n",
       "            background-color:  yellow;\n",
       "        }    #T_5145e232_b171_11e9_9d8c_0f4ec7a9def4row2_col2 {\n",
       "            background-color:  yellow;\n",
       "        }    #T_5145e232_b171_11e9_9d8c_0f4ec7a9def4row2_col3 {\n",
       "            background-color:  yellow;\n",
       "        }    #T_5145e232_b171_11e9_9d8c_0f4ec7a9def4row3_col0 {\n",
       "            background-color:  green;\n",
       "        }    #T_5145e232_b171_11e9_9d8c_0f4ec7a9def4row3_col1 {\n",
       "            background-color:  green;\n",
       "        }    #T_5145e232_b171_11e9_9d8c_0f4ec7a9def4row3_col2 {\n",
       "            background-color:  green;\n",
       "        }    #T_5145e232_b171_11e9_9d8c_0f4ec7a9def4row3_col3 {\n",
       "            background-color:  green;\n",
       "        }</style><table id=\"T_5145e232_b171_11e9_9d8c_0f4ec7a9def4\" ><thead>    <tr>        <th class=\"blank level0\" ></th>        <th class=\"col_heading level0 col0\" >Intern</th>        <th class=\"col_heading level0 col1\" >Drittmittel</th>        <th class=\"col_heading level0 col2\" >Ranking</th>        <th class=\"col_heading level0 col3\" >Universität im Vergleich</th>    </tr>    <tr>        <th class=\"index_name level0\" >WZW</th>        <th class=\"blank\" ></th>        <th class=\"blank\" ></th>        <th class=\"blank\" ></th>        <th class=\"blank\" ></th>    </tr></thead><tbody>\n",
       "                <tr>\n",
       "                        <th id=\"T_5145e232_b171_11e9_9d8c_0f4ec7a9def4level0_row0\" class=\"row_heading level0 row0\" >Andere Technische Wissenschaften</th>\n",
       "                        <td id=\"T_5145e232_b171_11e9_9d8c_0f4ec7a9def4row0_col0\" class=\"data row0 col0\" >30.78%</td>\n",
       "                        <td id=\"T_5145e232_b171_11e9_9d8c_0f4ec7a9def4row0_col1\" class=\"data row0 col1\" >13,513,716 €</td>\n",
       "                        <td id=\"T_5145e232_b171_11e9_9d8c_0f4ec7a9def4row0_col2\" class=\"data row0 col2\" >1. Platz</td>\n",
       "                        <td id=\"T_5145e232_b171_11e9_9d8c_0f4ec7a9def4row0_col3\" class=\"data row0 col3\" ><img src=\"MULAndere_Technische_Wissenschaften_Drittmittel.png\", width=250, height=200/></td>\n",
       "            </tr>\n",
       "            <tr>\n",
       "                        <th id=\"T_5145e232_b171_11e9_9d8c_0f4ec7a9def4level0_row1\" class=\"row_heading level0 row1\" >Umweltingenieurwesen, Angewandte Geowissenschaften</th>\n",
       "                        <td id=\"T_5145e232_b171_11e9_9d8c_0f4ec7a9def4row1_col0\" class=\"data row1 col0\" >19.09%</td>\n",
       "                        <td id=\"T_5145e232_b171_11e9_9d8c_0f4ec7a9def4row1_col1\" class=\"data row1 col1\" >8,380,922 €</td>\n",
       "                        <td id=\"T_5145e232_b171_11e9_9d8c_0f4ec7a9def4row1_col2\" class=\"data row1 col2\" >1. Platz</td>\n",
       "                        <td id=\"T_5145e232_b171_11e9_9d8c_0f4ec7a9def4row1_col3\" class=\"data row1 col3\" ><img src=\"MULUmweltingenieurwesen_Angewandte_Geowissenschaften_Drittmittel.png\", width=250, height=200/></td>\n",
       "            </tr>\n",
       "            <tr>\n",
       "                        <th id=\"T_5145e232_b171_11e9_9d8c_0f4ec7a9def4level0_row2\" class=\"row_heading level0 row2\" >Bauwesen</th>\n",
       "                        <td id=\"T_5145e232_b171_11e9_9d8c_0f4ec7a9def4row2_col0\" class=\"data row2 col0\" >13.49%</td>\n",
       "                        <td id=\"T_5145e232_b171_11e9_9d8c_0f4ec7a9def4row2_col1\" class=\"data row2 col1\" >5,923,955 €</td>\n",
       "                        <td id=\"T_5145e232_b171_11e9_9d8c_0f4ec7a9def4row2_col2\" class=\"data row2 col2\" >3. Platz</td>\n",
       "                        <td id=\"T_5145e232_b171_11e9_9d8c_0f4ec7a9def4row2_col3\" class=\"data row2 col3\" ><img src=\"MULBauwesen_Drittmittel.png\", width=250, height=200/></td>\n",
       "            </tr>\n",
       "            <tr>\n",
       "                        <th id=\"T_5145e232_b171_11e9_9d8c_0f4ec7a9def4level0_row3\" class=\"row_heading level0 row3\" >Werkstofftechnik</th>\n",
       "                        <td id=\"T_5145e232_b171_11e9_9d8c_0f4ec7a9def4row3_col0\" class=\"data row3 col0\" >10.12%</td>\n",
       "                        <td id=\"T_5145e232_b171_11e9_9d8c_0f4ec7a9def4row3_col1\" class=\"data row3 col1\" >4,444,882 €</td>\n",
       "                        <td id=\"T_5145e232_b171_11e9_9d8c_0f4ec7a9def4row3_col2\" class=\"data row3 col2\" >1. Platz</td>\n",
       "                        <td id=\"T_5145e232_b171_11e9_9d8c_0f4ec7a9def4row3_col3\" class=\"data row3 col3\" ><img src=\"MULWerkstofftechnik_Drittmittel.png\", width=250, height=200/></td>\n",
       "            </tr>\n",
       "    </tbody></table>"
      ],
      "text/plain": [
       "<IPython.core.display.HTML object>"
      ]
     },
     "metadata": {},
     "output_type": "display_data"
    },
    {
     "data": {
      "text/html": [
       "<h2 style=\"page-break-before: always;\">Technische Universität Graz</h2>"
      ],
      "text/plain": [
       "<IPython.core.display.HTML object>"
      ]
     },
     "metadata": {},
     "output_type": "display_data"
    },
    {
     "data": {
      "text/html": [
       "<h3>Vergleichbare Universitäten in Publikationen- und Drittmittel-Struktur</h3><ul>"
      ],
      "text/plain": [
       "<IPython.core.display.HTML object>"
      ]
     },
     "metadata": {},
     "output_type": "display_data"
    },
    {
     "data": {
      "text/html": [
       "<li style=\"margin-bottom: 5px;\">Technische Universität Wien</li>"
      ],
      "text/plain": [
       "<IPython.core.display.HTML object>"
      ]
     },
     "metadata": {},
     "output_type": "display_data"
    },
    {
     "data": {
      "text/html": [
       "</ul>"
      ],
      "text/plain": [
       "<IPython.core.display.HTML object>"
      ]
     },
     "metadata": {},
     "output_type": "display_data"
    },
    {
     "data": {
      "text/html": [
       "<h4>Vergleichbar bei der Publikationen-Struktur</h4>"
      ],
      "text/plain": [
       "<IPython.core.display.HTML object>"
      ]
     },
     "metadata": {},
     "output_type": "display_data"
    },
    {
     "data": {
      "text/html": [
       "<p><strong>Technische Universität Wien</strong> (80.2%, wegen &auml;hnlicher interner Relevanz von Informatik, Elektrotechnik, Elektronik, Informationstechnik, Bauwesen)</p>"
      ],
      "text/plain": [
       "<IPython.core.display.HTML object>"
      ]
     },
     "metadata": {},
     "output_type": "display_data"
    },
    {
     "data": {
      "text/html": [
       "<img src=\"TUG_Publikationen_overview.png\" width=\"1000\" height=\"200\"/>"
      ],
      "text/plain": [
       "<IPython.core.display.HTML object>"
      ]
     },
     "metadata": {},
     "output_type": "display_data"
    },
    {
     "data": {
      "text/html": [
       "<h4>Vergleichbar bei der Drittmittel-Struktur</h4>"
      ],
      "text/plain": [
       "<IPython.core.display.HTML object>"
      ]
     },
     "metadata": {},
     "output_type": "display_data"
    },
    {
     "data": {
      "text/html": [
       "<p><strong>Technische Universität Wien</strong> (62.4%, wegen &auml;hnlicher interner Relevanz von Elektrotechnik, Elektronik, Informationstechnik, Informatik, Bauwesen), <strong>Universität Linz</strong> (51.1%, wegen &auml;hnlicher interner Relevanz von Elektrotechnik, Elektronik, Informationstechnik, Maschinenbau, Informatik)</p>"
      ],
      "text/plain": [
       "<IPython.core.display.HTML object>"
      ]
     },
     "metadata": {},
     "output_type": "display_data"
    },
    {
     "data": {
      "text/html": [
       "<img src=\"TUG_Drittmittel_overview.png\" width=\"1000\" height=\"200\"/>"
      ],
      "text/plain": [
       "<IPython.core.display.HTML object>"
      ]
     },
     "metadata": {},
     "output_type": "display_data"
    },
    {
     "data": {
      "text/html": [
       "<p><small>Universitäten mit einer Ähnlichkeit von weniger als 50% werden nicht angezeigt.</small></p>"
      ],
      "text/plain": [
       "<IPython.core.display.HTML object>"
      ]
     },
     "metadata": {},
     "output_type": "display_data"
    },
    {
     "data": {
      "text/html": [
       "<h3>Publikationen-Struktur der TUG</h3>"
      ],
      "text/plain": [
       "<IPython.core.display.HTML object>"
      ]
     },
     "metadata": {},
     "output_type": "display_data"
    },
    {
     "data": {
      "text/html": [
       "Angezeigt werden WZW, die zusammen 67.0% der Publikationen an der TUG ausmachen. Alle anderen WZW tragen je weniger als 6.1% bei. Die Spalte \"Ranking\" bezieht sich  auf den &ouml;sterreichweiten Vergleich der absoluten Werte pro WZW"
      ],
      "text/plain": [
       "<IPython.core.display.HTML object>"
      ]
     },
     "metadata": {},
     "output_type": "display_data"
    },
    {
     "data": {
      "text/html": [
       "<style  type=\"text/css\" >\n",
       "    #T_51930d6e_b171_11e9_9d8c_0f4ec7a9def4row0_col0 {\n",
       "            background-color:  yellow;\n",
       "        }    #T_51930d6e_b171_11e9_9d8c_0f4ec7a9def4row0_col1 {\n",
       "            background-color:  yellow;\n",
       "        }    #T_51930d6e_b171_11e9_9d8c_0f4ec7a9def4row0_col2 {\n",
       "            background-color:  yellow;\n",
       "        }    #T_51930d6e_b171_11e9_9d8c_0f4ec7a9def4row0_col3 {\n",
       "            background-color:  yellow;\n",
       "        }    #T_51930d6e_b171_11e9_9d8c_0f4ec7a9def4row1_col0 {\n",
       "            background-color:  yellow;\n",
       "        }    #T_51930d6e_b171_11e9_9d8c_0f4ec7a9def4row1_col1 {\n",
       "            background-color:  yellow;\n",
       "        }    #T_51930d6e_b171_11e9_9d8c_0f4ec7a9def4row1_col2 {\n",
       "            background-color:  yellow;\n",
       "        }    #T_51930d6e_b171_11e9_9d8c_0f4ec7a9def4row1_col3 {\n",
       "            background-color:  yellow;\n",
       "        }    #T_51930d6e_b171_11e9_9d8c_0f4ec7a9def4row2_col0 {\n",
       "            background-color:  green;\n",
       "        }    #T_51930d6e_b171_11e9_9d8c_0f4ec7a9def4row2_col1 {\n",
       "            background-color:  green;\n",
       "        }    #T_51930d6e_b171_11e9_9d8c_0f4ec7a9def4row2_col2 {\n",
       "            background-color:  green;\n",
       "        }    #T_51930d6e_b171_11e9_9d8c_0f4ec7a9def4row2_col3 {\n",
       "            background-color:  green;\n",
       "        }    #T_51930d6e_b171_11e9_9d8c_0f4ec7a9def4row3_col0 {\n",
       "            background-color:  yellow;\n",
       "        }    #T_51930d6e_b171_11e9_9d8c_0f4ec7a9def4row3_col1 {\n",
       "            background-color:  yellow;\n",
       "        }    #T_51930d6e_b171_11e9_9d8c_0f4ec7a9def4row3_col2 {\n",
       "            background-color:  yellow;\n",
       "        }    #T_51930d6e_b171_11e9_9d8c_0f4ec7a9def4row3_col3 {\n",
       "            background-color:  yellow;\n",
       "        }    #T_51930d6e_b171_11e9_9d8c_0f4ec7a9def4row4_col0 {\n",
       "            background-color:  white;\n",
       "        }    #T_51930d6e_b171_11e9_9d8c_0f4ec7a9def4row4_col1 {\n",
       "            background-color:  white;\n",
       "        }    #T_51930d6e_b171_11e9_9d8c_0f4ec7a9def4row4_col2 {\n",
       "            background-color:  white;\n",
       "        }    #T_51930d6e_b171_11e9_9d8c_0f4ec7a9def4row4_col3 {\n",
       "            background-color:  white;\n",
       "        }    #T_51930d6e_b171_11e9_9d8c_0f4ec7a9def4row5_col0 {\n",
       "            background-color:  white;\n",
       "        }    #T_51930d6e_b171_11e9_9d8c_0f4ec7a9def4row5_col1 {\n",
       "            background-color:  white;\n",
       "        }    #T_51930d6e_b171_11e9_9d8c_0f4ec7a9def4row5_col2 {\n",
       "            background-color:  white;\n",
       "        }    #T_51930d6e_b171_11e9_9d8c_0f4ec7a9def4row5_col3 {\n",
       "            background-color:  white;\n",
       "        }</style><table id=\"T_51930d6e_b171_11e9_9d8c_0f4ec7a9def4\" ><thead>    <tr>        <th class=\"blank level0\" ></th>        <th class=\"col_heading level0 col0\" >Intern</th>        <th class=\"col_heading level0 col1\" >Publikationen</th>        <th class=\"col_heading level0 col2\" >Ranking</th>        <th class=\"col_heading level0 col3\" >Universität im Vergleich</th>    </tr>    <tr>        <th class=\"index_name level0\" >WZW</th>        <th class=\"blank\" ></th>        <th class=\"blank\" ></th>        <th class=\"blank\" ></th>        <th class=\"blank\" ></th>    </tr></thead><tbody>\n",
       "                <tr>\n",
       "                        <th id=\"T_51930d6e_b171_11e9_9d8c_0f4ec7a9def4level0_row0\" class=\"row_heading level0 row0\" >Informatik</th>\n",
       "                        <td id=\"T_51930d6e_b171_11e9_9d8c_0f4ec7a9def4row0_col0\" class=\"data row0 col0\" >16.75%</td>\n",
       "                        <td id=\"T_51930d6e_b171_11e9_9d8c_0f4ec7a9def4row0_col1\" class=\"data row0 col1\" >391 Publikationen</td>\n",
       "                        <td id=\"T_51930d6e_b171_11e9_9d8c_0f4ec7a9def4row0_col2\" class=\"data row0 col2\" >2. Platz</td>\n",
       "                        <td id=\"T_51930d6e_b171_11e9_9d8c_0f4ec7a9def4row0_col3\" class=\"data row0 col3\" ><img src=\"TUGInformatik_Publikationen.png\", width=250, height=200/></td>\n",
       "            </tr>\n",
       "            <tr>\n",
       "                        <th id=\"T_51930d6e_b171_11e9_9d8c_0f4ec7a9def4level0_row1\" class=\"row_heading level0 row1\" >Elektrotechnik, Elektronik, Informationstechnik</th>\n",
       "                        <td id=\"T_51930d6e_b171_11e9_9d8c_0f4ec7a9def4row1_col0\" class=\"data row1 col0\" >13.92%</td>\n",
       "                        <td id=\"T_51930d6e_b171_11e9_9d8c_0f4ec7a9def4row1_col1\" class=\"data row1 col1\" >325 Publikationen</td>\n",
       "                        <td id=\"T_51930d6e_b171_11e9_9d8c_0f4ec7a9def4row1_col2\" class=\"data row1 col2\" >2. Platz</td>\n",
       "                        <td id=\"T_51930d6e_b171_11e9_9d8c_0f4ec7a9def4row1_col3\" class=\"data row1 col3\" ><img src=\"TUGElektrotechnik_Elektronik_Informationstechnik_Publikationen.png\", width=250, height=200/></td>\n",
       "            </tr>\n",
       "            <tr>\n",
       "                        <th id=\"T_51930d6e_b171_11e9_9d8c_0f4ec7a9def4level0_row2\" class=\"row_heading level0 row2\" >Maschinenbau</th>\n",
       "                        <td id=\"T_51930d6e_b171_11e9_9d8c_0f4ec7a9def4row2_col0\" class=\"data row2 col0\" >11.70%</td>\n",
       "                        <td id=\"T_51930d6e_b171_11e9_9d8c_0f4ec7a9def4row2_col1\" class=\"data row2 col1\" >273 Publikationen</td>\n",
       "                        <td id=\"T_51930d6e_b171_11e9_9d8c_0f4ec7a9def4row2_col2\" class=\"data row2 col2\" >1. Platz</td>\n",
       "                        <td id=\"T_51930d6e_b171_11e9_9d8c_0f4ec7a9def4row2_col3\" class=\"data row2 col3\" ><img src=\"TUGMaschinenbau_Publikationen.png\", width=250, height=200/></td>\n",
       "            </tr>\n",
       "            <tr>\n",
       "                        <th id=\"T_51930d6e_b171_11e9_9d8c_0f4ec7a9def4level0_row3\" class=\"row_heading level0 row3\" >Bauwesen</th>\n",
       "                        <td id=\"T_51930d6e_b171_11e9_9d8c_0f4ec7a9def4row3_col0\" class=\"data row3 col0\" >10.50%</td>\n",
       "                        <td id=\"T_51930d6e_b171_11e9_9d8c_0f4ec7a9def4row3_col1\" class=\"data row3 col1\" >245 Publikationen</td>\n",
       "                        <td id=\"T_51930d6e_b171_11e9_9d8c_0f4ec7a9def4row3_col2\" class=\"data row3 col2\" >2. Platz</td>\n",
       "                        <td id=\"T_51930d6e_b171_11e9_9d8c_0f4ec7a9def4row3_col3\" class=\"data row3 col3\" ><img src=\"TUGBauwesen_Publikationen.png\", width=250, height=200/></td>\n",
       "            </tr>\n",
       "            <tr>\n",
       "                        <th id=\"T_51930d6e_b171_11e9_9d8c_0f4ec7a9def4level0_row4\" class=\"row_heading level0 row4\" >Chemie</th>\n",
       "                        <td id=\"T_51930d6e_b171_11e9_9d8c_0f4ec7a9def4row4_col0\" class=\"data row4 col0\" >8.01%</td>\n",
       "                        <td id=\"T_51930d6e_b171_11e9_9d8c_0f4ec7a9def4row4_col1\" class=\"data row4 col1\" >187 Publikationen</td>\n",
       "                        <td id=\"T_51930d6e_b171_11e9_9d8c_0f4ec7a9def4row4_col2\" class=\"data row4 col2\" >4. Platz</td>\n",
       "                        <td id=\"T_51930d6e_b171_11e9_9d8c_0f4ec7a9def4row4_col3\" class=\"data row4 col3\" ><img src=\"TUGChemie_Publikationen.png\", width=250, height=200/></td>\n",
       "            </tr>\n",
       "            <tr>\n",
       "                        <th id=\"T_51930d6e_b171_11e9_9d8c_0f4ec7a9def4level0_row5\" class=\"row_heading level0 row5\" >Physik, Astronomie</th>\n",
       "                        <td id=\"T_51930d6e_b171_11e9_9d8c_0f4ec7a9def4row5_col0\" class=\"data row5 col0\" >6.13%</td>\n",
       "                        <td id=\"T_51930d6e_b171_11e9_9d8c_0f4ec7a9def4row5_col1\" class=\"data row5 col1\" >143 Publikationen</td>\n",
       "                        <td id=\"T_51930d6e_b171_11e9_9d8c_0f4ec7a9def4row5_col2\" class=\"data row5 col2\" >5. Platz</td>\n",
       "                        <td id=\"T_51930d6e_b171_11e9_9d8c_0f4ec7a9def4row5_col3\" class=\"data row5 col3\" ><img src=\"TUGPhysik_Astronomie_Publikationen.png\", width=250, height=200/></td>\n",
       "            </tr>\n",
       "    </tbody></table>"
      ],
      "text/plain": [
       "<IPython.core.display.HTML object>"
      ]
     },
     "metadata": {},
     "output_type": "display_data"
    },
    {
     "data": {
      "text/html": [
       "<h3>Drittmittel-Struktur der TUG</h3>"
      ],
      "text/plain": [
       "<IPython.core.display.HTML object>"
      ]
     },
     "metadata": {},
     "output_type": "display_data"
    },
    {
     "data": {
      "text/html": [
       "Angezeigt werden WZW, die zusammen 70.5% der Drittmittel an der TUG ausmachen. Alle anderen WZW tragen je weniger als 8.1% bei. Die Spalte \"Ranking\" bezieht sich  auf den &ouml;sterreichweiten Vergleich der absoluten Werte pro WZW"
      ],
      "text/plain": [
       "<IPython.core.display.HTML object>"
      ]
     },
     "metadata": {},
     "output_type": "display_data"
    },
    {
     "data": {
      "text/html": [
       "<style  type=\"text/css\" >\n",
       "    #T_51dfcc3a_b171_11e9_9d8c_0f4ec7a9def4row0_col0 {\n",
       "            background-color:  green;\n",
       "        }    #T_51dfcc3a_b171_11e9_9d8c_0f4ec7a9def4row0_col1 {\n",
       "            background-color:  green;\n",
       "        }    #T_51dfcc3a_b171_11e9_9d8c_0f4ec7a9def4row0_col2 {\n",
       "            background-color:  green;\n",
       "        }    #T_51dfcc3a_b171_11e9_9d8c_0f4ec7a9def4row0_col3 {\n",
       "            background-color:  green;\n",
       "        }    #T_51dfcc3a_b171_11e9_9d8c_0f4ec7a9def4row1_col0 {\n",
       "            background-color:  green;\n",
       "        }    #T_51dfcc3a_b171_11e9_9d8c_0f4ec7a9def4row1_col1 {\n",
       "            background-color:  green;\n",
       "        }    #T_51dfcc3a_b171_11e9_9d8c_0f4ec7a9def4row1_col2 {\n",
       "            background-color:  green;\n",
       "        }    #T_51dfcc3a_b171_11e9_9d8c_0f4ec7a9def4row1_col3 {\n",
       "            background-color:  green;\n",
       "        }    #T_51dfcc3a_b171_11e9_9d8c_0f4ec7a9def4row2_col0 {\n",
       "            background-color:  yellow;\n",
       "        }    #T_51dfcc3a_b171_11e9_9d8c_0f4ec7a9def4row2_col1 {\n",
       "            background-color:  yellow;\n",
       "        }    #T_51dfcc3a_b171_11e9_9d8c_0f4ec7a9def4row2_col2 {\n",
       "            background-color:  yellow;\n",
       "        }    #T_51dfcc3a_b171_11e9_9d8c_0f4ec7a9def4row2_col3 {\n",
       "            background-color:  yellow;\n",
       "        }    #T_51dfcc3a_b171_11e9_9d8c_0f4ec7a9def4row3_col0 {\n",
       "            background-color:  green;\n",
       "        }    #T_51dfcc3a_b171_11e9_9d8c_0f4ec7a9def4row3_col1 {\n",
       "            background-color:  green;\n",
       "        }    #T_51dfcc3a_b171_11e9_9d8c_0f4ec7a9def4row3_col2 {\n",
       "            background-color:  green;\n",
       "        }    #T_51dfcc3a_b171_11e9_9d8c_0f4ec7a9def4row3_col3 {\n",
       "            background-color:  green;\n",
       "        }    #T_51dfcc3a_b171_11e9_9d8c_0f4ec7a9def4row4_col0 {\n",
       "            background-color:  yellow;\n",
       "        }    #T_51dfcc3a_b171_11e9_9d8c_0f4ec7a9def4row4_col1 {\n",
       "            background-color:  yellow;\n",
       "        }    #T_51dfcc3a_b171_11e9_9d8c_0f4ec7a9def4row4_col2 {\n",
       "            background-color:  yellow;\n",
       "        }    #T_51dfcc3a_b171_11e9_9d8c_0f4ec7a9def4row4_col3 {\n",
       "            background-color:  yellow;\n",
       "        }</style><table id=\"T_51dfcc3a_b171_11e9_9d8c_0f4ec7a9def4\" ><thead>    <tr>        <th class=\"blank level0\" ></th>        <th class=\"col_heading level0 col0\" >Intern</th>        <th class=\"col_heading level0 col1\" >Drittmittel</th>        <th class=\"col_heading level0 col2\" >Ranking</th>        <th class=\"col_heading level0 col3\" >Universität im Vergleich</th>    </tr>    <tr>        <th class=\"index_name level0\" >WZW</th>        <th class=\"blank\" ></th>        <th class=\"blank\" ></th>        <th class=\"blank\" ></th>        <th class=\"blank\" ></th>    </tr></thead><tbody>\n",
       "                <tr>\n",
       "                        <th id=\"T_51dfcc3a_b171_11e9_9d8c_0f4ec7a9def4level0_row0\" class=\"row_heading level0 row0\" >Maschinenbau</th>\n",
       "                        <td id=\"T_51dfcc3a_b171_11e9_9d8c_0f4ec7a9def4row0_col0\" class=\"data row0 col0\" >27.01%</td>\n",
       "                        <td id=\"T_51dfcc3a_b171_11e9_9d8c_0f4ec7a9def4row0_col1\" class=\"data row0 col1\" >21,300,246 €</td>\n",
       "                        <td id=\"T_51dfcc3a_b171_11e9_9d8c_0f4ec7a9def4row0_col2\" class=\"data row0 col2\" >1. Platz</td>\n",
       "                        <td id=\"T_51dfcc3a_b171_11e9_9d8c_0f4ec7a9def4row0_col3\" class=\"data row0 col3\" ><img src=\"TUGMaschinenbau_Drittmittel.png\", width=250, height=200/></td>\n",
       "            </tr>\n",
       "            <tr>\n",
       "                        <th id=\"T_51dfcc3a_b171_11e9_9d8c_0f4ec7a9def4level0_row1\" class=\"row_heading level0 row1\" >Bauwesen</th>\n",
       "                        <td id=\"T_51dfcc3a_b171_11e9_9d8c_0f4ec7a9def4row1_col0\" class=\"data row1 col0\" >11.98%</td>\n",
       "                        <td id=\"T_51dfcc3a_b171_11e9_9d8c_0f4ec7a9def4row1_col1\" class=\"data row1 col1\" >9,445,236 €</td>\n",
       "                        <td id=\"T_51dfcc3a_b171_11e9_9d8c_0f4ec7a9def4row1_col2\" class=\"data row1 col2\" >1. Platz</td>\n",
       "                        <td id=\"T_51dfcc3a_b171_11e9_9d8c_0f4ec7a9def4row1_col3\" class=\"data row1 col3\" ><img src=\"TUGBauwesen_Drittmittel.png\", width=250, height=200/></td>\n",
       "            </tr>\n",
       "            <tr>\n",
       "                        <th id=\"T_51dfcc3a_b171_11e9_9d8c_0f4ec7a9def4level0_row2\" class=\"row_heading level0 row2\" >Elektrotechnik, Elektronik, Informationstechnik</th>\n",
       "                        <td id=\"T_51dfcc3a_b171_11e9_9d8c_0f4ec7a9def4row2_col0\" class=\"data row2 col0\" >11.94%</td>\n",
       "                        <td id=\"T_51dfcc3a_b171_11e9_9d8c_0f4ec7a9def4row2_col1\" class=\"data row2 col1\" >9,420,414 €</td>\n",
       "                        <td id=\"T_51dfcc3a_b171_11e9_9d8c_0f4ec7a9def4row2_col2\" class=\"data row2 col2\" >2. Platz</td>\n",
       "                        <td id=\"T_51dfcc3a_b171_11e9_9d8c_0f4ec7a9def4row2_col3\" class=\"data row2 col3\" ><img src=\"TUGElektrotechnik_Elektronik_Informationstechnik_Drittmittel.png\", width=250, height=200/></td>\n",
       "            </tr>\n",
       "            <tr>\n",
       "                        <th id=\"T_51dfcc3a_b171_11e9_9d8c_0f4ec7a9def4level0_row3\" class=\"row_heading level0 row3\" >Chemie</th>\n",
       "                        <td id=\"T_51dfcc3a_b171_11e9_9d8c_0f4ec7a9def4row3_col0\" class=\"data row3 col0\" >11.42%</td>\n",
       "                        <td id=\"T_51dfcc3a_b171_11e9_9d8c_0f4ec7a9def4row3_col1\" class=\"data row3 col1\" >9,010,776 €</td>\n",
       "                        <td id=\"T_51dfcc3a_b171_11e9_9d8c_0f4ec7a9def4row3_col2\" class=\"data row3 col2\" >1. Platz</td>\n",
       "                        <td id=\"T_51dfcc3a_b171_11e9_9d8c_0f4ec7a9def4row3_col3\" class=\"data row3 col3\" ><img src=\"TUGChemie_Drittmittel.png\", width=250, height=200/></td>\n",
       "            </tr>\n",
       "            <tr>\n",
       "                        <th id=\"T_51dfcc3a_b171_11e9_9d8c_0f4ec7a9def4level0_row4\" class=\"row_heading level0 row4\" >Informatik</th>\n",
       "                        <td id=\"T_51dfcc3a_b171_11e9_9d8c_0f4ec7a9def4row4_col0\" class=\"data row4 col0\" >8.12%</td>\n",
       "                        <td id=\"T_51dfcc3a_b171_11e9_9d8c_0f4ec7a9def4row4_col1\" class=\"data row4 col1\" >6,408,343 €</td>\n",
       "                        <td id=\"T_51dfcc3a_b171_11e9_9d8c_0f4ec7a9def4row4_col2\" class=\"data row4 col2\" >2. Platz</td>\n",
       "                        <td id=\"T_51dfcc3a_b171_11e9_9d8c_0f4ec7a9def4row4_col3\" class=\"data row4 col3\" ><img src=\"TUGInformatik_Drittmittel.png\", width=250, height=200/></td>\n",
       "            </tr>\n",
       "    </tbody></table>"
      ],
      "text/plain": [
       "<IPython.core.display.HTML object>"
      ]
     },
     "metadata": {},
     "output_type": "display_data"
    },
    {
     "data": {
      "text/html": [
       "<h2 style=\"page-break-before: always;\">Technische Universität Wien</h2>"
      ],
      "text/plain": [
       "<IPython.core.display.HTML object>"
      ]
     },
     "metadata": {},
     "output_type": "display_data"
    },
    {
     "data": {
      "text/html": [
       "<h3>Vergleichbare Universitäten in Publikationen- und Drittmittel-Struktur</h3><ul>"
      ],
      "text/plain": [
       "<IPython.core.display.HTML object>"
      ]
     },
     "metadata": {},
     "output_type": "display_data"
    },
    {
     "data": {
      "text/html": [
       "<li style=\"margin-bottom: 5px;\">Technische Universität Graz</li>"
      ],
      "text/plain": [
       "<IPython.core.display.HTML object>"
      ]
     },
     "metadata": {},
     "output_type": "display_data"
    },
    {
     "data": {
      "text/html": [
       "</ul>"
      ],
      "text/plain": [
       "<IPython.core.display.HTML object>"
      ]
     },
     "metadata": {},
     "output_type": "display_data"
    },
    {
     "data": {
      "text/html": [
       "<h4>Vergleichbar bei der Publikationen-Struktur</h4>"
      ],
      "text/plain": [
       "<IPython.core.display.HTML object>"
      ]
     },
     "metadata": {},
     "output_type": "display_data"
    },
    {
     "data": {
      "text/html": [
       "<p><strong>Technische Universität Graz</strong> (80.2%, wegen &auml;hnlicher interner Relevanz von Informatik, Elektrotechnik, Elektronik, Informationstechnik, Bauwesen)</p>"
      ],
      "text/plain": [
       "<IPython.core.display.HTML object>"
      ]
     },
     "metadata": {},
     "output_type": "display_data"
    },
    {
     "data": {
      "text/html": [
       "<img src=\"TUW_Publikationen_overview.png\" width=\"1000\" height=\"200\"/>"
      ],
      "text/plain": [
       "<IPython.core.display.HTML object>"
      ]
     },
     "metadata": {},
     "output_type": "display_data"
    },
    {
     "data": {
      "text/html": [
       "<h4>Vergleichbar bei der Drittmittel-Struktur</h4>"
      ],
      "text/plain": [
       "<IPython.core.display.HTML object>"
      ]
     },
     "metadata": {},
     "output_type": "display_data"
    },
    {
     "data": {
      "text/html": [
       "<p><strong>Universität Linz</strong> (71.0%, wegen &auml;hnlicher interner Relevanz von Elektrotechnik, Elektronik, Informationstechnik, Physik, Astronomie, Informatik), <strong>Technische Universität Graz</strong> (62.4%, wegen &auml;hnlicher interner Relevanz von Elektrotechnik, Elektronik, Informationstechnik, Informatik, Bauwesen)</p>"
      ],
      "text/plain": [
       "<IPython.core.display.HTML object>"
      ]
     },
     "metadata": {},
     "output_type": "display_data"
    },
    {
     "data": {
      "text/html": [
       "<img src=\"TUW_Drittmittel_overview.png\" width=\"1000\" height=\"200\"/>"
      ],
      "text/plain": [
       "<IPython.core.display.HTML object>"
      ]
     },
     "metadata": {},
     "output_type": "display_data"
    },
    {
     "data": {
      "text/html": [
       "<p><small>Universitäten mit einer Ähnlichkeit von weniger als 50% werden nicht angezeigt.</small></p>"
      ],
      "text/plain": [
       "<IPython.core.display.HTML object>"
      ]
     },
     "metadata": {},
     "output_type": "display_data"
    },
    {
     "data": {
      "text/html": [
       "<h3>Publikationen-Struktur der TUW</h3>"
      ],
      "text/plain": [
       "<IPython.core.display.HTML object>"
      ]
     },
     "metadata": {},
     "output_type": "display_data"
    },
    {
     "data": {
      "text/html": [
       "Angezeigt werden WZW, die zusammen 69.5% der Publikationen an der TUW ausmachen. Alle anderen WZW tragen je weniger als 7.5% bei. Die Spalte \"Ranking\" bezieht sich  auf den &ouml;sterreichweiten Vergleich der absoluten Werte pro WZW"
      ],
      "text/plain": [
       "<IPython.core.display.HTML object>"
      ]
     },
     "metadata": {},
     "output_type": "display_data"
    },
    {
     "data": {
      "text/html": [
       "<style  type=\"text/css\" >\n",
       "    #T_52297e34_b171_11e9_9d8c_0f4ec7a9def4row0_col0 {\n",
       "            background-color:  green;\n",
       "        }    #T_52297e34_b171_11e9_9d8c_0f4ec7a9def4row0_col1 {\n",
       "            background-color:  green;\n",
       "        }    #T_52297e34_b171_11e9_9d8c_0f4ec7a9def4row0_col2 {\n",
       "            background-color:  green;\n",
       "        }    #T_52297e34_b171_11e9_9d8c_0f4ec7a9def4row0_col3 {\n",
       "            background-color:  green;\n",
       "        }    #T_52297e34_b171_11e9_9d8c_0f4ec7a9def4row1_col0 {\n",
       "            background-color:  green;\n",
       "        }    #T_52297e34_b171_11e9_9d8c_0f4ec7a9def4row1_col1 {\n",
       "            background-color:  green;\n",
       "        }    #T_52297e34_b171_11e9_9d8c_0f4ec7a9def4row1_col2 {\n",
       "            background-color:  green;\n",
       "        }    #T_52297e34_b171_11e9_9d8c_0f4ec7a9def4row1_col3 {\n",
       "            background-color:  green;\n",
       "        }    #T_52297e34_b171_11e9_9d8c_0f4ec7a9def4row2_col0 {\n",
       "            background-color:  green;\n",
       "        }    #T_52297e34_b171_11e9_9d8c_0f4ec7a9def4row2_col1 {\n",
       "            background-color:  green;\n",
       "        }    #T_52297e34_b171_11e9_9d8c_0f4ec7a9def4row2_col2 {\n",
       "            background-color:  green;\n",
       "        }    #T_52297e34_b171_11e9_9d8c_0f4ec7a9def4row2_col3 {\n",
       "            background-color:  green;\n",
       "        }    #T_52297e34_b171_11e9_9d8c_0f4ec7a9def4row3_col0 {\n",
       "            background-color:  yellow;\n",
       "        }    #T_52297e34_b171_11e9_9d8c_0f4ec7a9def4row3_col1 {\n",
       "            background-color:  yellow;\n",
       "        }    #T_52297e34_b171_11e9_9d8c_0f4ec7a9def4row3_col2 {\n",
       "            background-color:  yellow;\n",
       "        }    #T_52297e34_b171_11e9_9d8c_0f4ec7a9def4row3_col3 {\n",
       "            background-color:  yellow;\n",
       "        }    #T_52297e34_b171_11e9_9d8c_0f4ec7a9def4row4_col0 {\n",
       "            background-color:  green;\n",
       "        }    #T_52297e34_b171_11e9_9d8c_0f4ec7a9def4row4_col1 {\n",
       "            background-color:  green;\n",
       "        }    #T_52297e34_b171_11e9_9d8c_0f4ec7a9def4row4_col2 {\n",
       "            background-color:  green;\n",
       "        }    #T_52297e34_b171_11e9_9d8c_0f4ec7a9def4row4_col3 {\n",
       "            background-color:  green;\n",
       "        }    #T_52297e34_b171_11e9_9d8c_0f4ec7a9def4row5_col0 {\n",
       "            background-color:  green;\n",
       "        }    #T_52297e34_b171_11e9_9d8c_0f4ec7a9def4row5_col1 {\n",
       "            background-color:  green;\n",
       "        }    #T_52297e34_b171_11e9_9d8c_0f4ec7a9def4row5_col2 {\n",
       "            background-color:  green;\n",
       "        }    #T_52297e34_b171_11e9_9d8c_0f4ec7a9def4row5_col3 {\n",
       "            background-color:  green;\n",
       "        }</style><table id=\"T_52297e34_b171_11e9_9d8c_0f4ec7a9def4\" ><thead>    <tr>        <th class=\"blank level0\" ></th>        <th class=\"col_heading level0 col0\" >Intern</th>        <th class=\"col_heading level0 col1\" >Publikationen</th>        <th class=\"col_heading level0 col2\" >Ranking</th>        <th class=\"col_heading level0 col3\" >Universität im Vergleich</th>    </tr>    <tr>        <th class=\"index_name level0\" >WZW</th>        <th class=\"blank\" ></th>        <th class=\"blank\" ></th>        <th class=\"blank\" ></th>        <th class=\"blank\" ></th>    </tr></thead><tbody>\n",
       "                <tr>\n",
       "                        <th id=\"T_52297e34_b171_11e9_9d8c_0f4ec7a9def4level0_row0\" class=\"row_heading level0 row0\" >Informatik</th>\n",
       "                        <td id=\"T_52297e34_b171_11e9_9d8c_0f4ec7a9def4row0_col0\" class=\"data row0 col0\" >16.49%</td>\n",
       "                        <td id=\"T_52297e34_b171_11e9_9d8c_0f4ec7a9def4row0_col1\" class=\"data row0 col1\" >769 Publikationen</td>\n",
       "                        <td id=\"T_52297e34_b171_11e9_9d8c_0f4ec7a9def4row0_col2\" class=\"data row0 col2\" >1. Platz</td>\n",
       "                        <td id=\"T_52297e34_b171_11e9_9d8c_0f4ec7a9def4row0_col3\" class=\"data row0 col3\" ><img src=\"TUWInformatik_Publikationen.png\", width=250, height=200/></td>\n",
       "            </tr>\n",
       "            <tr>\n",
       "                        <th id=\"T_52297e34_b171_11e9_9d8c_0f4ec7a9def4level0_row1\" class=\"row_heading level0 row1\" >Elektrotechnik, Elektronik, Informationstechnik</th>\n",
       "                        <td id=\"T_52297e34_b171_11e9_9d8c_0f4ec7a9def4row1_col0\" class=\"data row1 col0\" >14.63%</td>\n",
       "                        <td id=\"T_52297e34_b171_11e9_9d8c_0f4ec7a9def4row1_col1\" class=\"data row1 col1\" >682 Publikationen</td>\n",
       "                        <td id=\"T_52297e34_b171_11e9_9d8c_0f4ec7a9def4row1_col2\" class=\"data row1 col2\" >1. Platz</td>\n",
       "                        <td id=\"T_52297e34_b171_11e9_9d8c_0f4ec7a9def4row1_col3\" class=\"data row1 col3\" ><img src=\"TUWElektrotechnik_Elektronik_Informationstechnik_Publikationen.png\", width=250, height=200/></td>\n",
       "            </tr>\n",
       "            <tr>\n",
       "                        <th id=\"T_52297e34_b171_11e9_9d8c_0f4ec7a9def4level0_row2\" class=\"row_heading level0 row2\" >Bauwesen</th>\n",
       "                        <td id=\"T_52297e34_b171_11e9_9d8c_0f4ec7a9def4row2_col0\" class=\"data row2 col0\" >11.67%</td>\n",
       "                        <td id=\"T_52297e34_b171_11e9_9d8c_0f4ec7a9def4row2_col1\" class=\"data row2 col1\" >544 Publikationen</td>\n",
       "                        <td id=\"T_52297e34_b171_11e9_9d8c_0f4ec7a9def4row2_col2\" class=\"data row2 col2\" >1. Platz</td>\n",
       "                        <td id=\"T_52297e34_b171_11e9_9d8c_0f4ec7a9def4row2_col3\" class=\"data row2 col3\" ><img src=\"TUWBauwesen_Publikationen.png\", width=250, height=200/></td>\n",
       "            </tr>\n",
       "            <tr>\n",
       "                        <th id=\"T_52297e34_b171_11e9_9d8c_0f4ec7a9def4level0_row3\" class=\"row_heading level0 row3\" >Physik, Astronomie</th>\n",
       "                        <td id=\"T_52297e34_b171_11e9_9d8c_0f4ec7a9def4row3_col0\" class=\"data row3 col0\" >10.47%</td>\n",
       "                        <td id=\"T_52297e34_b171_11e9_9d8c_0f4ec7a9def4row3_col1\" class=\"data row3 col1\" >488 Publikationen</td>\n",
       "                        <td id=\"T_52297e34_b171_11e9_9d8c_0f4ec7a9def4row3_col2\" class=\"data row3 col2\" >2. Platz</td>\n",
       "                        <td id=\"T_52297e34_b171_11e9_9d8c_0f4ec7a9def4row3_col3\" class=\"data row3 col3\" ><img src=\"TUWPhysik_Astronomie_Publikationen.png\", width=250, height=200/></td>\n",
       "            </tr>\n",
       "            <tr>\n",
       "                        <th id=\"T_52297e34_b171_11e9_9d8c_0f4ec7a9def4level0_row4\" class=\"row_heading level0 row4\" >Chemie</th>\n",
       "                        <td id=\"T_52297e34_b171_11e9_9d8c_0f4ec7a9def4row4_col0\" class=\"data row4 col0\" >8.81%</td>\n",
       "                        <td id=\"T_52297e34_b171_11e9_9d8c_0f4ec7a9def4row4_col1\" class=\"data row4 col1\" >411 Publikationen</td>\n",
       "                        <td id=\"T_52297e34_b171_11e9_9d8c_0f4ec7a9def4row4_col2\" class=\"data row4 col2\" >1. Platz</td>\n",
       "                        <td id=\"T_52297e34_b171_11e9_9d8c_0f4ec7a9def4row4_col3\" class=\"data row4 col3\" ><img src=\"TUWChemie_Publikationen.png\", width=250, height=200/></td>\n",
       "            </tr>\n",
       "            <tr>\n",
       "                        <th id=\"T_52297e34_b171_11e9_9d8c_0f4ec7a9def4level0_row5\" class=\"row_heading level0 row5\" >Chemische Verfahrenstechnik</th>\n",
       "                        <td id=\"T_52297e34_b171_11e9_9d8c_0f4ec7a9def4row5_col0\" class=\"data row5 col0\" >7.48%</td>\n",
       "                        <td id=\"T_52297e34_b171_11e9_9d8c_0f4ec7a9def4row5_col1\" class=\"data row5 col1\" >349 Publikationen</td>\n",
       "                        <td id=\"T_52297e34_b171_11e9_9d8c_0f4ec7a9def4row5_col2\" class=\"data row5 col2\" >1. Platz</td>\n",
       "                        <td id=\"T_52297e34_b171_11e9_9d8c_0f4ec7a9def4row5_col3\" class=\"data row5 col3\" ><img src=\"TUWChemische_Verfahrenstechnik_Publikationen.png\", width=250, height=200/></td>\n",
       "            </tr>\n",
       "    </tbody></table>"
      ],
      "text/plain": [
       "<IPython.core.display.HTML object>"
      ]
     },
     "metadata": {},
     "output_type": "display_data"
    },
    {
     "data": {
      "text/html": [
       "<h3>Drittmittel-Struktur der TUW</h3>"
      ],
      "text/plain": [
       "<IPython.core.display.HTML object>"
      ]
     },
     "metadata": {},
     "output_type": "display_data"
    },
    {
     "data": {
      "text/html": [
       "Angezeigt werden WZW, die zusammen 67.2% der Drittmittel an der TUW ausmachen. Alle anderen WZW tragen je weniger als 6.3% bei. Die Spalte \"Ranking\" bezieht sich  auf den &ouml;sterreichweiten Vergleich der absoluten Werte pro WZW"
      ],
      "text/plain": [
       "<IPython.core.display.HTML object>"
      ]
     },
     "metadata": {},
     "output_type": "display_data"
    },
    {
     "data": {
      "text/html": [
       "<style  type=\"text/css\" >\n",
       "    #T_526cec78_b171_11e9_9d8c_0f4ec7a9def4row0_col0 {\n",
       "            background-color:  green;\n",
       "        }    #T_526cec78_b171_11e9_9d8c_0f4ec7a9def4row0_col1 {\n",
       "            background-color:  green;\n",
       "        }    #T_526cec78_b171_11e9_9d8c_0f4ec7a9def4row0_col2 {\n",
       "            background-color:  green;\n",
       "        }    #T_526cec78_b171_11e9_9d8c_0f4ec7a9def4row0_col3 {\n",
       "            background-color:  green;\n",
       "        }    #T_526cec78_b171_11e9_9d8c_0f4ec7a9def4row1_col0 {\n",
       "            background-color:  green;\n",
       "        }    #T_526cec78_b171_11e9_9d8c_0f4ec7a9def4row1_col1 {\n",
       "            background-color:  green;\n",
       "        }    #T_526cec78_b171_11e9_9d8c_0f4ec7a9def4row1_col2 {\n",
       "            background-color:  green;\n",
       "        }    #T_526cec78_b171_11e9_9d8c_0f4ec7a9def4row1_col3 {\n",
       "            background-color:  green;\n",
       "        }    #T_526cec78_b171_11e9_9d8c_0f4ec7a9def4row2_col0 {\n",
       "            background-color:  green;\n",
       "        }    #T_526cec78_b171_11e9_9d8c_0f4ec7a9def4row2_col1 {\n",
       "            background-color:  green;\n",
       "        }    #T_526cec78_b171_11e9_9d8c_0f4ec7a9def4row2_col2 {\n",
       "            background-color:  green;\n",
       "        }    #T_526cec78_b171_11e9_9d8c_0f4ec7a9def4row2_col3 {\n",
       "            background-color:  green;\n",
       "        }    #T_526cec78_b171_11e9_9d8c_0f4ec7a9def4row3_col0 {\n",
       "            background-color:  yellow;\n",
       "        }    #T_526cec78_b171_11e9_9d8c_0f4ec7a9def4row3_col1 {\n",
       "            background-color:  yellow;\n",
       "        }    #T_526cec78_b171_11e9_9d8c_0f4ec7a9def4row3_col2 {\n",
       "            background-color:  yellow;\n",
       "        }    #T_526cec78_b171_11e9_9d8c_0f4ec7a9def4row3_col3 {\n",
       "            background-color:  yellow;\n",
       "        }    #T_526cec78_b171_11e9_9d8c_0f4ec7a9def4row4_col0 {\n",
       "            background-color:  yellow;\n",
       "        }    #T_526cec78_b171_11e9_9d8c_0f4ec7a9def4row4_col1 {\n",
       "            background-color:  yellow;\n",
       "        }    #T_526cec78_b171_11e9_9d8c_0f4ec7a9def4row4_col2 {\n",
       "            background-color:  yellow;\n",
       "        }    #T_526cec78_b171_11e9_9d8c_0f4ec7a9def4row4_col3 {\n",
       "            background-color:  yellow;\n",
       "        }    #T_526cec78_b171_11e9_9d8c_0f4ec7a9def4row5_col0 {\n",
       "            background-color:  yellow;\n",
       "        }    #T_526cec78_b171_11e9_9d8c_0f4ec7a9def4row5_col1 {\n",
       "            background-color:  yellow;\n",
       "        }    #T_526cec78_b171_11e9_9d8c_0f4ec7a9def4row5_col2 {\n",
       "            background-color:  yellow;\n",
       "        }    #T_526cec78_b171_11e9_9d8c_0f4ec7a9def4row5_col3 {\n",
       "            background-color:  yellow;\n",
       "        }</style><table id=\"T_526cec78_b171_11e9_9d8c_0f4ec7a9def4\" ><thead>    <tr>        <th class=\"blank level0\" ></th>        <th class=\"col_heading level0 col0\" >Intern</th>        <th class=\"col_heading level0 col1\" >Drittmittel</th>        <th class=\"col_heading level0 col2\" >Ranking</th>        <th class=\"col_heading level0 col3\" >Universität im Vergleich</th>    </tr>    <tr>        <th class=\"index_name level0\" >WZW</th>        <th class=\"blank\" ></th>        <th class=\"blank\" ></th>        <th class=\"blank\" ></th>        <th class=\"blank\" ></th>    </tr></thead><tbody>\n",
       "                <tr>\n",
       "                        <th id=\"T_526cec78_b171_11e9_9d8c_0f4ec7a9def4level0_row0\" class=\"row_heading level0 row0\" >Elektrotechnik, Elektronik, Informationstechnik</th>\n",
       "                        <td id=\"T_526cec78_b171_11e9_9d8c_0f4ec7a9def4row0_col0\" class=\"data row0 col0\" >18.38%</td>\n",
       "                        <td id=\"T_526cec78_b171_11e9_9d8c_0f4ec7a9def4row0_col1\" class=\"data row0 col1\" >16,047,928 €</td>\n",
       "                        <td id=\"T_526cec78_b171_11e9_9d8c_0f4ec7a9def4row0_col2\" class=\"data row0 col2\" >1. Platz</td>\n",
       "                        <td id=\"T_526cec78_b171_11e9_9d8c_0f4ec7a9def4row0_col3\" class=\"data row0 col3\" ><img src=\"TUWElektrotechnik_Elektronik_Informationstechnik_Drittmittel.png\", width=250, height=200/></td>\n",
       "            </tr>\n",
       "            <tr>\n",
       "                        <th id=\"T_526cec78_b171_11e9_9d8c_0f4ec7a9def4level0_row1\" class=\"row_heading level0 row1\" >Physik, Astronomie</th>\n",
       "                        <td id=\"T_526cec78_b171_11e9_9d8c_0f4ec7a9def4row1_col0\" class=\"data row1 col0\" >15.35%</td>\n",
       "                        <td id=\"T_526cec78_b171_11e9_9d8c_0f4ec7a9def4row1_col1\" class=\"data row1 col1\" >13,401,452 €</td>\n",
       "                        <td id=\"T_526cec78_b171_11e9_9d8c_0f4ec7a9def4row1_col2\" class=\"data row1 col2\" >1. Platz</td>\n",
       "                        <td id=\"T_526cec78_b171_11e9_9d8c_0f4ec7a9def4row1_col3\" class=\"data row1 col3\" ><img src=\"TUWPhysik_Astronomie_Drittmittel.png\", width=250, height=200/></td>\n",
       "            </tr>\n",
       "            <tr>\n",
       "                        <th id=\"T_526cec78_b171_11e9_9d8c_0f4ec7a9def4level0_row2\" class=\"row_heading level0 row2\" >Informatik</th>\n",
       "                        <td id=\"T_526cec78_b171_11e9_9d8c_0f4ec7a9def4row2_col0\" class=\"data row2 col0\" >12.17%</td>\n",
       "                        <td id=\"T_526cec78_b171_11e9_9d8c_0f4ec7a9def4row2_col1\" class=\"data row2 col1\" >10,630,304 €</td>\n",
       "                        <td id=\"T_526cec78_b171_11e9_9d8c_0f4ec7a9def4row2_col2\" class=\"data row2 col2\" >1. Platz</td>\n",
       "                        <td id=\"T_526cec78_b171_11e9_9d8c_0f4ec7a9def4row2_col3\" class=\"data row2 col3\" ><img src=\"TUWInformatik_Drittmittel.png\", width=250, height=200/></td>\n",
       "            </tr>\n",
       "            <tr>\n",
       "                        <th id=\"T_526cec78_b171_11e9_9d8c_0f4ec7a9def4level0_row3\" class=\"row_heading level0 row3\" >Andere Technische Wissenschaften</th>\n",
       "                        <td id=\"T_526cec78_b171_11e9_9d8c_0f4ec7a9def4row3_col0\" class=\"data row3 col0\" >7.64%</td>\n",
       "                        <td id=\"T_526cec78_b171_11e9_9d8c_0f4ec7a9def4row3_col1\" class=\"data row3 col1\" >6,673,316 €</td>\n",
       "                        <td id=\"T_526cec78_b171_11e9_9d8c_0f4ec7a9def4row3_col2\" class=\"data row3 col2\" >2. Platz</td>\n",
       "                        <td id=\"T_526cec78_b171_11e9_9d8c_0f4ec7a9def4row3_col3\" class=\"data row3 col3\" ><img src=\"TUWAndere_Technische_Wissenschaften_Drittmittel.png\", width=250, height=200/></td>\n",
       "            </tr>\n",
       "            <tr>\n",
       "                        <th id=\"T_526cec78_b171_11e9_9d8c_0f4ec7a9def4level0_row4\" class=\"row_heading level0 row4\" >Bauwesen</th>\n",
       "                        <td id=\"T_526cec78_b171_11e9_9d8c_0f4ec7a9def4row4_col0\" class=\"data row4 col0\" >7.32%</td>\n",
       "                        <td id=\"T_526cec78_b171_11e9_9d8c_0f4ec7a9def4row4_col1\" class=\"data row4 col1\" >6,392,114 €</td>\n",
       "                        <td id=\"T_526cec78_b171_11e9_9d8c_0f4ec7a9def4row4_col2\" class=\"data row4 col2\" >2. Platz</td>\n",
       "                        <td id=\"T_526cec78_b171_11e9_9d8c_0f4ec7a9def4row4_col3\" class=\"data row4 col3\" ><img src=\"TUWBauwesen_Drittmittel.png\", width=250, height=200/></td>\n",
       "            </tr>\n",
       "            <tr>\n",
       "                        <th id=\"T_526cec78_b171_11e9_9d8c_0f4ec7a9def4level0_row5\" class=\"row_heading level0 row5\" >Mathematik</th>\n",
       "                        <td id=\"T_526cec78_b171_11e9_9d8c_0f4ec7a9def4row5_col0\" class=\"data row5 col0\" >6.32%</td>\n",
       "                        <td id=\"T_526cec78_b171_11e9_9d8c_0f4ec7a9def4row5_col1\" class=\"data row5 col1\" >5,522,420 €</td>\n",
       "                        <td id=\"T_526cec78_b171_11e9_9d8c_0f4ec7a9def4row5_col2\" class=\"data row5 col2\" >3. Platz</td>\n",
       "                        <td id=\"T_526cec78_b171_11e9_9d8c_0f4ec7a9def4row5_col3\" class=\"data row5 col3\" ><img src=\"TUWMathematik_Drittmittel.png\", width=250, height=200/></td>\n",
       "            </tr>\n",
       "    </tbody></table>"
      ],
      "text/plain": [
       "<IPython.core.display.HTML object>"
      ]
     },
     "metadata": {},
     "output_type": "display_data"
    },
    {
     "data": {
      "text/html": [
       "<h2 style=\"page-break-before: always;\">Universität Graz</h2>"
      ],
      "text/plain": [
       "<IPython.core.display.HTML object>"
      ]
     },
     "metadata": {},
     "output_type": "display_data"
    },
    {
     "data": {
      "text/html": [
       "<h3>Vergleichbare Universitäten in Publikationen- und Drittmittel-Struktur</h3><ul>"
      ],
      "text/plain": [
       "<IPython.core.display.HTML object>"
      ]
     },
     "metadata": {},
     "output_type": "display_data"
    },
    {
     "data": {
      "text/html": [
       "<li style=\"margin-bottom: 5px;\">Universität Innsbruck</li>"
      ],
      "text/plain": [
       "<IPython.core.display.HTML object>"
      ]
     },
     "metadata": {},
     "output_type": "display_data"
    },
    {
     "data": {
      "text/html": [
       "<li style=\"margin-bottom: 5px;\">Universität Salzburg</li>"
      ],
      "text/plain": [
       "<IPython.core.display.HTML object>"
      ]
     },
     "metadata": {},
     "output_type": "display_data"
    },
    {
     "data": {
      "text/html": [
       "<li style=\"margin-bottom: 5px;\">Universität Wien</li>"
      ],
      "text/plain": [
       "<IPython.core.display.HTML object>"
      ]
     },
     "metadata": {},
     "output_type": "display_data"
    },
    {
     "data": {
      "text/html": [
       "</ul>"
      ],
      "text/plain": [
       "<IPython.core.display.HTML object>"
      ]
     },
     "metadata": {},
     "output_type": "display_data"
    },
    {
     "data": {
      "text/html": [
       "<h4>Vergleichbar bei der Publikationen-Struktur</h4>"
      ],
      "text/plain": [
       "<IPython.core.display.HTML object>"
      ]
     },
     "metadata": {},
     "output_type": "display_data"
    },
    {
     "data": {
      "text/html": [
       "<p><strong>Universität Wien</strong> (79.0%, wegen &auml;hnlicher interner Relevanz von Sprach- und Literaturwissenschaften, Rechtswissenschaften, Biologie), <strong>Universität Innsbruck</strong> (75.0%, wegen &auml;hnlicher interner Relevanz von Rechtswissenschaften, Sprach- und Literaturwissenschaften, Biologie), <strong>Universität Salzburg</strong> (68.7%, wegen &auml;hnlicher interner Relevanz von Rechtswissenschaften, Sprach- und Literaturwissenschaften, Philosophie, Ethik, Religion)</p>"
      ],
      "text/plain": [
       "<IPython.core.display.HTML object>"
      ]
     },
     "metadata": {},
     "output_type": "display_data"
    },
    {
     "data": {
      "text/html": [
       "<img src=\"UGR_Publikationen_overview.png\" width=\"1000\" height=\"200\"/>"
      ],
      "text/plain": [
       "<IPython.core.display.HTML object>"
      ]
     },
     "metadata": {},
     "output_type": "display_data"
    },
    {
     "data": {
      "text/html": [
       "<h4>Vergleichbar bei der Drittmittel-Struktur</h4>"
      ],
      "text/plain": [
       "<IPython.core.display.HTML object>"
      ]
     },
     "metadata": {},
     "output_type": "display_data"
    },
    {
     "data": {
      "text/html": [
       "<p><strong>Universität Wien</strong> (70.6%, wegen &auml;hnlicher interner Relevanz von Biologie, Physik, Astronomie, Sprach- und Literaturwissenschaften), <strong>Universität Innsbruck</strong> (59.7%, wegen &auml;hnlicher interner Relevanz von Biologie, Chemie, Wirtschaftswissenschaften), <strong>Universität Salzburg</strong> (57.9%, wegen &auml;hnlicher interner Relevanz von Biologie, Physik, Astronomie, Geschichte, Archäologie)</p>"
      ],
      "text/plain": [
       "<IPython.core.display.HTML object>"
      ]
     },
     "metadata": {},
     "output_type": "display_data"
    },
    {
     "data": {
      "text/html": [
       "<img src=\"UGR_Drittmittel_overview.png\" width=\"1000\" height=\"200\"/>"
      ],
      "text/plain": [
       "<IPython.core.display.HTML object>"
      ]
     },
     "metadata": {},
     "output_type": "display_data"
    },
    {
     "data": {
      "text/html": [
       "<p><small>Universitäten mit einer Ähnlichkeit von weniger als 50% werden nicht angezeigt.</small></p>"
      ],
      "text/plain": [
       "<IPython.core.display.HTML object>"
      ]
     },
     "metadata": {},
     "output_type": "display_data"
    },
    {
     "data": {
      "text/html": [
       "<h3>Publikationen-Struktur der UGR</h3>"
      ],
      "text/plain": [
       "<IPython.core.display.HTML object>"
      ]
     },
     "metadata": {},
     "output_type": "display_data"
    },
    {
     "data": {
      "text/html": [
       "Angezeigt werden WZW, die zusammen 70.2% der Publikationen an der UGR ausmachen. Alle anderen WZW tragen je weniger als 5.0% bei. Die Spalte \"Ranking\" bezieht sich  auf den &ouml;sterreichweiten Vergleich der absoluten Werte pro WZW"
      ],
      "text/plain": [
       "<IPython.core.display.HTML object>"
      ]
     },
     "metadata": {},
     "output_type": "display_data"
    },
    {
     "data": {
      "text/html": [
       "<style  type=\"text/css\" >\n",
       "    #T_52cfbfc4_b171_11e9_9d8c_0f4ec7a9def4row0_col0 {\n",
       "            background-color:  white;\n",
       "        }    #T_52cfbfc4_b171_11e9_9d8c_0f4ec7a9def4row0_col1 {\n",
       "            background-color:  white;\n",
       "        }    #T_52cfbfc4_b171_11e9_9d8c_0f4ec7a9def4row0_col2 {\n",
       "            background-color:  white;\n",
       "        }    #T_52cfbfc4_b171_11e9_9d8c_0f4ec7a9def4row0_col3 {\n",
       "            background-color:  white;\n",
       "        }    #T_52cfbfc4_b171_11e9_9d8c_0f4ec7a9def4row1_col0 {\n",
       "            background-color:  yellow;\n",
       "        }    #T_52cfbfc4_b171_11e9_9d8c_0f4ec7a9def4row1_col1 {\n",
       "            background-color:  yellow;\n",
       "        }    #T_52cfbfc4_b171_11e9_9d8c_0f4ec7a9def4row1_col2 {\n",
       "            background-color:  yellow;\n",
       "        }    #T_52cfbfc4_b171_11e9_9d8c_0f4ec7a9def4row1_col3 {\n",
       "            background-color:  yellow;\n",
       "        }    #T_52cfbfc4_b171_11e9_9d8c_0f4ec7a9def4row2_col0 {\n",
       "            background-color:  yellow;\n",
       "        }    #T_52cfbfc4_b171_11e9_9d8c_0f4ec7a9def4row2_col1 {\n",
       "            background-color:  yellow;\n",
       "        }    #T_52cfbfc4_b171_11e9_9d8c_0f4ec7a9def4row2_col2 {\n",
       "            background-color:  yellow;\n",
       "        }    #T_52cfbfc4_b171_11e9_9d8c_0f4ec7a9def4row2_col3 {\n",
       "            background-color:  yellow;\n",
       "        }    #T_52cfbfc4_b171_11e9_9d8c_0f4ec7a9def4row3_col0 {\n",
       "            background-color:  white;\n",
       "        }    #T_52cfbfc4_b171_11e9_9d8c_0f4ec7a9def4row3_col1 {\n",
       "            background-color:  white;\n",
       "        }    #T_52cfbfc4_b171_11e9_9d8c_0f4ec7a9def4row3_col2 {\n",
       "            background-color:  white;\n",
       "        }    #T_52cfbfc4_b171_11e9_9d8c_0f4ec7a9def4row3_col3 {\n",
       "            background-color:  white;\n",
       "        }    #T_52cfbfc4_b171_11e9_9d8c_0f4ec7a9def4row4_col0 {\n",
       "            background-color:  yellow;\n",
       "        }    #T_52cfbfc4_b171_11e9_9d8c_0f4ec7a9def4row4_col1 {\n",
       "            background-color:  yellow;\n",
       "        }    #T_52cfbfc4_b171_11e9_9d8c_0f4ec7a9def4row4_col2 {\n",
       "            background-color:  yellow;\n",
       "        }    #T_52cfbfc4_b171_11e9_9d8c_0f4ec7a9def4row4_col3 {\n",
       "            background-color:  yellow;\n",
       "        }    #T_52cfbfc4_b171_11e9_9d8c_0f4ec7a9def4row5_col0 {\n",
       "            background-color:  yellow;\n",
       "        }    #T_52cfbfc4_b171_11e9_9d8c_0f4ec7a9def4row5_col1 {\n",
       "            background-color:  yellow;\n",
       "        }    #T_52cfbfc4_b171_11e9_9d8c_0f4ec7a9def4row5_col2 {\n",
       "            background-color:  yellow;\n",
       "        }    #T_52cfbfc4_b171_11e9_9d8c_0f4ec7a9def4row5_col3 {\n",
       "            background-color:  yellow;\n",
       "        }    #T_52cfbfc4_b171_11e9_9d8c_0f4ec7a9def4row6_col0 {\n",
       "            background-color:  white;\n",
       "        }    #T_52cfbfc4_b171_11e9_9d8c_0f4ec7a9def4row6_col1 {\n",
       "            background-color:  white;\n",
       "        }    #T_52cfbfc4_b171_11e9_9d8c_0f4ec7a9def4row6_col2 {\n",
       "            background-color:  white;\n",
       "        }    #T_52cfbfc4_b171_11e9_9d8c_0f4ec7a9def4row6_col3 {\n",
       "            background-color:  white;\n",
       "        }    #T_52cfbfc4_b171_11e9_9d8c_0f4ec7a9def4row7_col0 {\n",
       "            background-color:  yellow;\n",
       "        }    #T_52cfbfc4_b171_11e9_9d8c_0f4ec7a9def4row7_col1 {\n",
       "            background-color:  yellow;\n",
       "        }    #T_52cfbfc4_b171_11e9_9d8c_0f4ec7a9def4row7_col2 {\n",
       "            background-color:  yellow;\n",
       "        }    #T_52cfbfc4_b171_11e9_9d8c_0f4ec7a9def4row7_col3 {\n",
       "            background-color:  yellow;\n",
       "        }</style><table id=\"T_52cfbfc4_b171_11e9_9d8c_0f4ec7a9def4\" ><thead>    <tr>        <th class=\"blank level0\" ></th>        <th class=\"col_heading level0 col0\" >Intern</th>        <th class=\"col_heading level0 col1\" >Publikationen</th>        <th class=\"col_heading level0 col2\" >Ranking</th>        <th class=\"col_heading level0 col3\" >Universität im Vergleich</th>    </tr>    <tr>        <th class=\"index_name level0\" >WZW</th>        <th class=\"blank\" ></th>        <th class=\"blank\" ></th>        <th class=\"blank\" ></th>        <th class=\"blank\" ></th>    </tr></thead><tbody>\n",
       "                <tr>\n",
       "                        <th id=\"T_52cfbfc4_b171_11e9_9d8c_0f4ec7a9def4level0_row0\" class=\"row_heading level0 row0\" >Rechtswissenschaften</th>\n",
       "                        <td id=\"T_52cfbfc4_b171_11e9_9d8c_0f4ec7a9def4row0_col0\" class=\"data row0 col0\" >15.82%</td>\n",
       "                        <td id=\"T_52cfbfc4_b171_11e9_9d8c_0f4ec7a9def4row0_col1\" class=\"data row0 col1\" >530 Publikationen</td>\n",
       "                        <td id=\"T_52cfbfc4_b171_11e9_9d8c_0f4ec7a9def4row0_col2\" class=\"data row0 col2\" >4. Platz</td>\n",
       "                        <td id=\"T_52cfbfc4_b171_11e9_9d8c_0f4ec7a9def4row0_col3\" class=\"data row0 col3\" ><img src=\"UGRRechtswissenschaften_Publikationen.png\", width=250, height=200/></td>\n",
       "            </tr>\n",
       "            <tr>\n",
       "                        <th id=\"T_52cfbfc4_b171_11e9_9d8c_0f4ec7a9def4level0_row1\" class=\"row_heading level0 row1\" >Sprach- und Literaturwissenschaften</th>\n",
       "                        <td id=\"T_52cfbfc4_b171_11e9_9d8c_0f4ec7a9def4row1_col0\" class=\"data row1 col0\" >12.09%</td>\n",
       "                        <td id=\"T_52cfbfc4_b171_11e9_9d8c_0f4ec7a9def4row1_col1\" class=\"data row1 col1\" >405 Publikationen</td>\n",
       "                        <td id=\"T_52cfbfc4_b171_11e9_9d8c_0f4ec7a9def4row1_col2\" class=\"data row1 col2\" >2. Platz</td>\n",
       "                        <td id=\"T_52cfbfc4_b171_11e9_9d8c_0f4ec7a9def4row1_col3\" class=\"data row1 col3\" ><img src=\"UGRSprach-_und_Literaturwissenschaften_Publikationen.png\", width=250, height=200/></td>\n",
       "            </tr>\n",
       "            <tr>\n",
       "                        <th id=\"T_52cfbfc4_b171_11e9_9d8c_0f4ec7a9def4level0_row2\" class=\"row_heading level0 row2\" >Wirtschaftswissenschaften</th>\n",
       "                        <td id=\"T_52cfbfc4_b171_11e9_9d8c_0f4ec7a9def4row2_col0\" class=\"data row2 col0\" >8.57%</td>\n",
       "                        <td id=\"T_52cfbfc4_b171_11e9_9d8c_0f4ec7a9def4row2_col1\" class=\"data row2 col1\" >287 Publikationen</td>\n",
       "                        <td id=\"T_52cfbfc4_b171_11e9_9d8c_0f4ec7a9def4row2_col2\" class=\"data row2 col2\" >3. Platz</td>\n",
       "                        <td id=\"T_52cfbfc4_b171_11e9_9d8c_0f4ec7a9def4row2_col3\" class=\"data row2 col3\" ><img src=\"UGRWirtschaftswissenschaften_Publikationen.png\", width=250, height=200/></td>\n",
       "            </tr>\n",
       "            <tr>\n",
       "                        <th id=\"T_52cfbfc4_b171_11e9_9d8c_0f4ec7a9def4level0_row3\" class=\"row_heading level0 row3\" >Biologie</th>\n",
       "                        <td id=\"T_52cfbfc4_b171_11e9_9d8c_0f4ec7a9def4row3_col0\" class=\"data row3 col0\" >8.42%</td>\n",
       "                        <td id=\"T_52cfbfc4_b171_11e9_9d8c_0f4ec7a9def4row3_col1\" class=\"data row3 col1\" >282 Publikationen</td>\n",
       "                        <td id=\"T_52cfbfc4_b171_11e9_9d8c_0f4ec7a9def4row3_col2\" class=\"data row3 col2\" >4. Platz</td>\n",
       "                        <td id=\"T_52cfbfc4_b171_11e9_9d8c_0f4ec7a9def4row3_col3\" class=\"data row3 col3\" ><img src=\"UGRBiologie_Publikationen.png\", width=250, height=200/></td>\n",
       "            </tr>\n",
       "            <tr>\n",
       "                        <th id=\"T_52cfbfc4_b171_11e9_9d8c_0f4ec7a9def4level0_row4\" class=\"row_heading level0 row4\" >Philosophie, Ethik, Religion</th>\n",
       "                        <td id=\"T_52cfbfc4_b171_11e9_9d8c_0f4ec7a9def4row4_col0\" class=\"data row4 col0\" >8.24%</td>\n",
       "                        <td id=\"T_52cfbfc4_b171_11e9_9d8c_0f4ec7a9def4row4_col1\" class=\"data row4 col1\" >276 Publikationen</td>\n",
       "                        <td id=\"T_52cfbfc4_b171_11e9_9d8c_0f4ec7a9def4row4_col2\" class=\"data row4 col2\" >2. Platz</td>\n",
       "                        <td id=\"T_52cfbfc4_b171_11e9_9d8c_0f4ec7a9def4row4_col3\" class=\"data row4 col3\" ><img src=\"UGRPhilosophie_Ethik_Religion_Publikationen.png\", width=250, height=200/></td>\n",
       "            </tr>\n",
       "            <tr>\n",
       "                        <th id=\"T_52cfbfc4_b171_11e9_9d8c_0f4ec7a9def4level0_row5\" class=\"row_heading level0 row5\" >Geschichte, Archäologie</th>\n",
       "                        <td id=\"T_52cfbfc4_b171_11e9_9d8c_0f4ec7a9def4row5_col0\" class=\"data row5 col0\" >6.39%</td>\n",
       "                        <td id=\"T_52cfbfc4_b171_11e9_9d8c_0f4ec7a9def4row5_col1\" class=\"data row5 col1\" >214 Publikationen</td>\n",
       "                        <td id=\"T_52cfbfc4_b171_11e9_9d8c_0f4ec7a9def4row5_col2\" class=\"data row5 col2\" >3. Platz</td>\n",
       "                        <td id=\"T_52cfbfc4_b171_11e9_9d8c_0f4ec7a9def4row5_col3\" class=\"data row5 col3\" ><img src=\"UGRGeschichte_Archäologie_Publikationen.png\", width=250, height=200/></td>\n",
       "            </tr>\n",
       "            <tr>\n",
       "                        <th id=\"T_52cfbfc4_b171_11e9_9d8c_0f4ec7a9def4level0_row6\" class=\"row_heading level0 row6\" >Physik, Astronomie</th>\n",
       "                        <td id=\"T_52cfbfc4_b171_11e9_9d8c_0f4ec7a9def4row6_col0\" class=\"data row6 col0\" >5.70%</td>\n",
       "                        <td id=\"T_52cfbfc4_b171_11e9_9d8c_0f4ec7a9def4row6_col1\" class=\"data row6 col1\" >191 Publikationen</td>\n",
       "                        <td id=\"T_52cfbfc4_b171_11e9_9d8c_0f4ec7a9def4row6_col2\" class=\"data row6 col2\" >4. Platz</td>\n",
       "                        <td id=\"T_52cfbfc4_b171_11e9_9d8c_0f4ec7a9def4row6_col3\" class=\"data row6 col3\" ><img src=\"UGRPhysik_Astronomie_Publikationen.png\", width=250, height=200/></td>\n",
       "            </tr>\n",
       "            <tr>\n",
       "                        <th id=\"T_52cfbfc4_b171_11e9_9d8c_0f4ec7a9def4level0_row7\" class=\"row_heading level0 row7\" >Erziehungswissenschaften</th>\n",
       "                        <td id=\"T_52cfbfc4_b171_11e9_9d8c_0f4ec7a9def4row7_col0\" class=\"data row7 col0\" >5.01%</td>\n",
       "                        <td id=\"T_52cfbfc4_b171_11e9_9d8c_0f4ec7a9def4row7_col1\" class=\"data row7 col1\" >168 Publikationen</td>\n",
       "                        <td id=\"T_52cfbfc4_b171_11e9_9d8c_0f4ec7a9def4row7_col2\" class=\"data row7 col2\" >3. Platz</td>\n",
       "                        <td id=\"T_52cfbfc4_b171_11e9_9d8c_0f4ec7a9def4row7_col3\" class=\"data row7 col3\" ><img src=\"UGRErziehungswissenschaften_Publikationen.png\", width=250, height=200/></td>\n",
       "            </tr>\n",
       "    </tbody></table>"
      ],
      "text/plain": [
       "<IPython.core.display.HTML object>"
      ]
     },
     "metadata": {},
     "output_type": "display_data"
    },
    {
     "data": {
      "text/html": [
       "<h3>Drittmittel-Struktur der UGR</h3>"
      ],
      "text/plain": [
       "<IPython.core.display.HTML object>"
      ]
     },
     "metadata": {},
     "output_type": "display_data"
    },
    {
     "data": {
      "text/html": [
       "Angezeigt werden WZW, die zusammen 67.5% der Drittmittel an der UGR ausmachen. Alle anderen WZW tragen je weniger als 5.6% bei. Die Spalte \"Ranking\" bezieht sich  auf den &ouml;sterreichweiten Vergleich der absoluten Werte pro WZW"
      ],
      "text/plain": [
       "<IPython.core.display.HTML object>"
      ]
     },
     "metadata": {},
     "output_type": "display_data"
    },
    {
     "data": {
      "text/html": [
       "<style  type=\"text/css\" >\n",
       "    #T_531a9bb6_b171_11e9_9d8c_0f4ec7a9def4row0_col0 {\n",
       "            background-color:  yellow;\n",
       "        }    #T_531a9bb6_b171_11e9_9d8c_0f4ec7a9def4row0_col1 {\n",
       "            background-color:  yellow;\n",
       "        }    #T_531a9bb6_b171_11e9_9d8c_0f4ec7a9def4row0_col2 {\n",
       "            background-color:  yellow;\n",
       "        }    #T_531a9bb6_b171_11e9_9d8c_0f4ec7a9def4row0_col3 {\n",
       "            background-color:  yellow;\n",
       "        }    #T_531a9bb6_b171_11e9_9d8c_0f4ec7a9def4row1_col0 {\n",
       "            background-color:  yellow;\n",
       "        }    #T_531a9bb6_b171_11e9_9d8c_0f4ec7a9def4row1_col1 {\n",
       "            background-color:  yellow;\n",
       "        }    #T_531a9bb6_b171_11e9_9d8c_0f4ec7a9def4row1_col2 {\n",
       "            background-color:  yellow;\n",
       "        }    #T_531a9bb6_b171_11e9_9d8c_0f4ec7a9def4row1_col3 {\n",
       "            background-color:  yellow;\n",
       "        }    #T_531a9bb6_b171_11e9_9d8c_0f4ec7a9def4row2_col0 {\n",
       "            background-color:  yellow;\n",
       "        }    #T_531a9bb6_b171_11e9_9d8c_0f4ec7a9def4row2_col1 {\n",
       "            background-color:  yellow;\n",
       "        }    #T_531a9bb6_b171_11e9_9d8c_0f4ec7a9def4row2_col2 {\n",
       "            background-color:  yellow;\n",
       "        }    #T_531a9bb6_b171_11e9_9d8c_0f4ec7a9def4row2_col3 {\n",
       "            background-color:  yellow;\n",
       "        }    #T_531a9bb6_b171_11e9_9d8c_0f4ec7a9def4row3_col0 {\n",
       "            background-color:  white;\n",
       "        }    #T_531a9bb6_b171_11e9_9d8c_0f4ec7a9def4row3_col1 {\n",
       "            background-color:  white;\n",
       "        }    #T_531a9bb6_b171_11e9_9d8c_0f4ec7a9def4row3_col2 {\n",
       "            background-color:  white;\n",
       "        }    #T_531a9bb6_b171_11e9_9d8c_0f4ec7a9def4row3_col3 {\n",
       "            background-color:  white;\n",
       "        }    #T_531a9bb6_b171_11e9_9d8c_0f4ec7a9def4row4_col0 {\n",
       "            background-color:  white;\n",
       "        }    #T_531a9bb6_b171_11e9_9d8c_0f4ec7a9def4row4_col1 {\n",
       "            background-color:  white;\n",
       "        }    #T_531a9bb6_b171_11e9_9d8c_0f4ec7a9def4row4_col2 {\n",
       "            background-color:  white;\n",
       "        }    #T_531a9bb6_b171_11e9_9d8c_0f4ec7a9def4row4_col3 {\n",
       "            background-color:  white;\n",
       "        }    #T_531a9bb6_b171_11e9_9d8c_0f4ec7a9def4row5_col0 {\n",
       "            background-color:  yellow;\n",
       "        }    #T_531a9bb6_b171_11e9_9d8c_0f4ec7a9def4row5_col1 {\n",
       "            background-color:  yellow;\n",
       "        }    #T_531a9bb6_b171_11e9_9d8c_0f4ec7a9def4row5_col2 {\n",
       "            background-color:  yellow;\n",
       "        }    #T_531a9bb6_b171_11e9_9d8c_0f4ec7a9def4row5_col3 {\n",
       "            background-color:  yellow;\n",
       "        }</style><table id=\"T_531a9bb6_b171_11e9_9d8c_0f4ec7a9def4\" ><thead>    <tr>        <th class=\"blank level0\" ></th>        <th class=\"col_heading level0 col0\" >Intern</th>        <th class=\"col_heading level0 col1\" >Drittmittel</th>        <th class=\"col_heading level0 col2\" >Ranking</th>        <th class=\"col_heading level0 col3\" >Universität im Vergleich</th>    </tr>    <tr>        <th class=\"index_name level0\" >WZW</th>        <th class=\"blank\" ></th>        <th class=\"blank\" ></th>        <th class=\"blank\" ></th>        <th class=\"blank\" ></th>    </tr></thead><tbody>\n",
       "                <tr>\n",
       "                        <th id=\"T_531a9bb6_b171_11e9_9d8c_0f4ec7a9def4level0_row0\" class=\"row_heading level0 row0\" >Biologie</th>\n",
       "                        <td id=\"T_531a9bb6_b171_11e9_9d8c_0f4ec7a9def4row0_col0\" class=\"data row0 col0\" >20.95%</td>\n",
       "                        <td id=\"T_531a9bb6_b171_11e9_9d8c_0f4ec7a9def4row0_col1\" class=\"data row0 col1\" >5,870,029 €</td>\n",
       "                        <td id=\"T_531a9bb6_b171_11e9_9d8c_0f4ec7a9def4row0_col2\" class=\"data row0 col2\" >3. Platz</td>\n",
       "                        <td id=\"T_531a9bb6_b171_11e9_9d8c_0f4ec7a9def4row0_col3\" class=\"data row0 col3\" ><img src=\"UGRBiologie_Drittmittel.png\", width=250, height=200/></td>\n",
       "            </tr>\n",
       "            <tr>\n",
       "                        <th id=\"T_531a9bb6_b171_11e9_9d8c_0f4ec7a9def4level0_row1\" class=\"row_heading level0 row1\" >Wirtschaftswissenschaften</th>\n",
       "                        <td id=\"T_531a9bb6_b171_11e9_9d8c_0f4ec7a9def4row1_col0\" class=\"data row1 col0\" >11.55%</td>\n",
       "                        <td id=\"T_531a9bb6_b171_11e9_9d8c_0f4ec7a9def4row1_col1\" class=\"data row1 col1\" >3,235,473 €</td>\n",
       "                        <td id=\"T_531a9bb6_b171_11e9_9d8c_0f4ec7a9def4row1_col2\" class=\"data row1 col2\" >3. Platz</td>\n",
       "                        <td id=\"T_531a9bb6_b171_11e9_9d8c_0f4ec7a9def4row1_col3\" class=\"data row1 col3\" ><img src=\"UGRWirtschaftswissenschaften_Drittmittel.png\", width=250, height=200/></td>\n",
       "            </tr>\n",
       "            <tr>\n",
       "                        <th id=\"T_531a9bb6_b171_11e9_9d8c_0f4ec7a9def4level0_row2\" class=\"row_heading level0 row2\" >Sprach- und Literaturwissenschaften</th>\n",
       "                        <td id=\"T_531a9bb6_b171_11e9_9d8c_0f4ec7a9def4row2_col0\" class=\"data row2 col0\" >10.29%</td>\n",
       "                        <td id=\"T_531a9bb6_b171_11e9_9d8c_0f4ec7a9def4row2_col1\" class=\"data row2 col1\" >2,881,945 €</td>\n",
       "                        <td id=\"T_531a9bb6_b171_11e9_9d8c_0f4ec7a9def4row2_col2\" class=\"data row2 col2\" >2. Platz</td>\n",
       "                        <td id=\"T_531a9bb6_b171_11e9_9d8c_0f4ec7a9def4row2_col3\" class=\"data row2 col3\" ><img src=\"UGRSprach-_und_Literaturwissenschaften_Drittmittel.png\", width=250, height=200/></td>\n",
       "            </tr>\n",
       "            <tr>\n",
       "                        <th id=\"T_531a9bb6_b171_11e9_9d8c_0f4ec7a9def4level0_row3\" class=\"row_heading level0 row3\" >Chemie</th>\n",
       "                        <td id=\"T_531a9bb6_b171_11e9_9d8c_0f4ec7a9def4row3_col0\" class=\"data row3 col0\" >10.07%</td>\n",
       "                        <td id=\"T_531a9bb6_b171_11e9_9d8c_0f4ec7a9def4row3_col1\" class=\"data row3 col1\" >2,820,464 €</td>\n",
       "                        <td id=\"T_531a9bb6_b171_11e9_9d8c_0f4ec7a9def4row3_col2\" class=\"data row3 col2\" >6. Platz</td>\n",
       "                        <td id=\"T_531a9bb6_b171_11e9_9d8c_0f4ec7a9def4row3_col3\" class=\"data row3 col3\" ><img src=\"UGRChemie_Drittmittel.png\", width=250, height=200/></td>\n",
       "            </tr>\n",
       "            <tr>\n",
       "                        <th id=\"T_531a9bb6_b171_11e9_9d8c_0f4ec7a9def4level0_row4\" class=\"row_heading level0 row4\" >Physik, Astronomie</th>\n",
       "                        <td id=\"T_531a9bb6_b171_11e9_9d8c_0f4ec7a9def4row4_col0\" class=\"data row4 col0\" >9.06%</td>\n",
       "                        <td id=\"T_531a9bb6_b171_11e9_9d8c_0f4ec7a9def4row4_col1\" class=\"data row4 col1\" >2,538,360 €</td>\n",
       "                        <td id=\"T_531a9bb6_b171_11e9_9d8c_0f4ec7a9def4row4_col2\" class=\"data row4 col2\" >6. Platz</td>\n",
       "                        <td id=\"T_531a9bb6_b171_11e9_9d8c_0f4ec7a9def4row4_col3\" class=\"data row4 col3\" ><img src=\"UGRPhysik_Astronomie_Drittmittel.png\", width=250, height=200/></td>\n",
       "            </tr>\n",
       "            <tr>\n",
       "                        <th id=\"T_531a9bb6_b171_11e9_9d8c_0f4ec7a9def4level0_row5\" class=\"row_heading level0 row5\" >Psychologie</th>\n",
       "                        <td id=\"T_531a9bb6_b171_11e9_9d8c_0f4ec7a9def4row5_col0\" class=\"data row5 col0\" >5.58%</td>\n",
       "                        <td id=\"T_531a9bb6_b171_11e9_9d8c_0f4ec7a9def4row5_col1\" class=\"data row5 col1\" >1,561,844 €</td>\n",
       "                        <td id=\"T_531a9bb6_b171_11e9_9d8c_0f4ec7a9def4row5_col2\" class=\"data row5 col2\" >2. Platz</td>\n",
       "                        <td id=\"T_531a9bb6_b171_11e9_9d8c_0f4ec7a9def4row5_col3\" class=\"data row5 col3\" ><img src=\"UGRPsychologie_Drittmittel.png\", width=250, height=200/></td>\n",
       "            </tr>\n",
       "    </tbody></table>"
      ],
      "text/plain": [
       "<IPython.core.display.HTML object>"
      ]
     },
     "metadata": {},
     "output_type": "display_data"
    },
    {
     "data": {
      "text/html": [
       "<h2 style=\"page-break-before: always;\">Universität Innsbruck</h2>"
      ],
      "text/plain": [
       "<IPython.core.display.HTML object>"
      ]
     },
     "metadata": {},
     "output_type": "display_data"
    },
    {
     "data": {
      "text/html": [
       "<h3>Vergleichbare Universitäten in Publikationen- und Drittmittel-Struktur</h3><ul>"
      ],
      "text/plain": [
       "<IPython.core.display.HTML object>"
      ]
     },
     "metadata": {},
     "output_type": "display_data"
    },
    {
     "data": {
      "text/html": [
       "<li style=\"margin-bottom: 5px;\">Universität Salzburg</li>"
      ],
      "text/plain": [
       "<IPython.core.display.HTML object>"
      ]
     },
     "metadata": {},
     "output_type": "display_data"
    },
    {
     "data": {
      "text/html": [
       "<li style=\"margin-bottom: 5px;\">Universität Graz</li>"
      ],
      "text/plain": [
       "<IPython.core.display.HTML object>"
      ]
     },
     "metadata": {},
     "output_type": "display_data"
    },
    {
     "data": {
      "text/html": [
       "<li style=\"margin-bottom: 5px;\">Universität Wien</li>"
      ],
      "text/plain": [
       "<IPython.core.display.HTML object>"
      ]
     },
     "metadata": {},
     "output_type": "display_data"
    },
    {
     "data": {
      "text/html": [
       "</ul>"
      ],
      "text/plain": [
       "<IPython.core.display.HTML object>"
      ]
     },
     "metadata": {},
     "output_type": "display_data"
    },
    {
     "data": {
      "text/html": [
       "<h4>Vergleichbar bei der Publikationen-Struktur</h4>"
      ],
      "text/plain": [
       "<IPython.core.display.HTML object>"
      ]
     },
     "metadata": {},
     "output_type": "display_data"
    },
    {
     "data": {
      "text/html": [
       "<p><strong>Universität Graz</strong> (75.0%, wegen &auml;hnlicher interner Relevanz von Rechtswissenschaften, Sprach- und Literaturwissenschaften, Biologie), <strong>Universität Salzburg</strong> (74.7%, wegen &auml;hnlicher interner Relevanz von Rechtswissenschaften, Sprach- und Literaturwissenschaften, Erziehungswissenschaften), <strong>Universität Wien</strong> (73.1%, wegen &auml;hnlicher interner Relevanz von Rechtswissenschaften, Sprach- und Literaturwissenschaften, Biologie), <strong>Universität Linz</strong> (53.2%, wegen &auml;hnlicher interner Relevanz von Rechtswissenschaften, Physik, Astronomie, Erziehungswissenschaften), <strong>Universität für Weiterbildung Krems</strong> (50.5%, wegen &auml;hnlicher interner Relevanz von Rechtswissenschaften, Geschichte, Archäologie, Wirtschaftswissenschaften)</p>"
      ],
      "text/plain": [
       "<IPython.core.display.HTML object>"
      ]
     },
     "metadata": {},
     "output_type": "display_data"
    },
    {
     "data": {
      "text/html": [
       "<img src=\"UIN_Publikationen_overview.png\" width=\"1000\" height=\"200\"/>"
      ],
      "text/plain": [
       "<IPython.core.display.HTML object>"
      ]
     },
     "metadata": {},
     "output_type": "display_data"
    },
    {
     "data": {
      "text/html": [
       "<h4>Vergleichbar bei der Drittmittel-Struktur</h4>"
      ],
      "text/plain": [
       "<IPython.core.display.HTML object>"
      ]
     },
     "metadata": {},
     "output_type": "display_data"
    },
    {
     "data": {
      "text/html": [
       "<p><strong>Universität Wien</strong> (62.7%, wegen &auml;hnlicher interner Relevanz von Physik, Astronomie, Biologie, Chemie), <strong>Universität Graz</strong> (59.7%, wegen &auml;hnlicher interner Relevanz von Biologie, Chemie, Wirtschaftswissenschaften), <strong>Universität Salzburg</strong> (50.9%, wegen &auml;hnlicher interner Relevanz von Biologie, Geowissenschaften, Informatik)</p>"
      ],
      "text/plain": [
       "<IPython.core.display.HTML object>"
      ]
     },
     "metadata": {},
     "output_type": "display_data"
    },
    {
     "data": {
      "text/html": [
       "<img src=\"UIN_Drittmittel_overview.png\" width=\"1000\" height=\"200\"/>"
      ],
      "text/plain": [
       "<IPython.core.display.HTML object>"
      ]
     },
     "metadata": {},
     "output_type": "display_data"
    },
    {
     "data": {
      "text/html": [
       "<p><small>Universitäten mit einer Ähnlichkeit von weniger als 50% werden nicht angezeigt.</small></p>"
      ],
      "text/plain": [
       "<IPython.core.display.HTML object>"
      ]
     },
     "metadata": {},
     "output_type": "display_data"
    },
    {
     "data": {
      "text/html": [
       "<h3>Publikationen-Struktur der UIN</h3>"
      ],
      "text/plain": [
       "<IPython.core.display.HTML object>"
      ]
     },
     "metadata": {},
     "output_type": "display_data"
    },
    {
     "data": {
      "text/html": [
       "Angezeigt werden WZW, die zusammen 69.3% der Publikationen an der UIN ausmachen. Alle anderen WZW tragen je weniger als 5.1% bei. Die Spalte \"Ranking\" bezieht sich  auf den &ouml;sterreichweiten Vergleich der absoluten Werte pro WZW"
      ],
      "text/plain": [
       "<IPython.core.display.HTML object>"
      ]
     },
     "metadata": {},
     "output_type": "display_data"
    },
    {
     "data": {
      "text/html": [
       "<style  type=\"text/css\" >\n",
       "    #T_5396720e_b171_11e9_9d8c_0f4ec7a9def4row0_col0 {\n",
       "            background-color:  green;\n",
       "        }    #T_5396720e_b171_11e9_9d8c_0f4ec7a9def4row0_col1 {\n",
       "            background-color:  green;\n",
       "        }    #T_5396720e_b171_11e9_9d8c_0f4ec7a9def4row0_col2 {\n",
       "            background-color:  green;\n",
       "        }    #T_5396720e_b171_11e9_9d8c_0f4ec7a9def4row0_col3 {\n",
       "            background-color:  green;\n",
       "        }    #T_5396720e_b171_11e9_9d8c_0f4ec7a9def4row1_col0 {\n",
       "            background-color:  yellow;\n",
       "        }    #T_5396720e_b171_11e9_9d8c_0f4ec7a9def4row1_col1 {\n",
       "            background-color:  yellow;\n",
       "        }    #T_5396720e_b171_11e9_9d8c_0f4ec7a9def4row1_col2 {\n",
       "            background-color:  yellow;\n",
       "        }    #T_5396720e_b171_11e9_9d8c_0f4ec7a9def4row1_col3 {\n",
       "            background-color:  yellow;\n",
       "        }    #T_5396720e_b171_11e9_9d8c_0f4ec7a9def4row2_col0 {\n",
       "            background-color:  yellow;\n",
       "        }    #T_5396720e_b171_11e9_9d8c_0f4ec7a9def4row2_col1 {\n",
       "            background-color:  yellow;\n",
       "        }    #T_5396720e_b171_11e9_9d8c_0f4ec7a9def4row2_col2 {\n",
       "            background-color:  yellow;\n",
       "        }    #T_5396720e_b171_11e9_9d8c_0f4ec7a9def4row2_col3 {\n",
       "            background-color:  yellow;\n",
       "        }    #T_5396720e_b171_11e9_9d8c_0f4ec7a9def4row3_col0 {\n",
       "            background-color:  yellow;\n",
       "        }    #T_5396720e_b171_11e9_9d8c_0f4ec7a9def4row3_col1 {\n",
       "            background-color:  yellow;\n",
       "        }    #T_5396720e_b171_11e9_9d8c_0f4ec7a9def4row3_col2 {\n",
       "            background-color:  yellow;\n",
       "        }    #T_5396720e_b171_11e9_9d8c_0f4ec7a9def4row3_col3 {\n",
       "            background-color:  yellow;\n",
       "        }    #T_5396720e_b171_11e9_9d8c_0f4ec7a9def4row4_col0 {\n",
       "            background-color:  yellow;\n",
       "        }    #T_5396720e_b171_11e9_9d8c_0f4ec7a9def4row4_col1 {\n",
       "            background-color:  yellow;\n",
       "        }    #T_5396720e_b171_11e9_9d8c_0f4ec7a9def4row4_col2 {\n",
       "            background-color:  yellow;\n",
       "        }    #T_5396720e_b171_11e9_9d8c_0f4ec7a9def4row4_col3 {\n",
       "            background-color:  yellow;\n",
       "        }    #T_5396720e_b171_11e9_9d8c_0f4ec7a9def4row5_col0 {\n",
       "            background-color:  yellow;\n",
       "        }    #T_5396720e_b171_11e9_9d8c_0f4ec7a9def4row5_col1 {\n",
       "            background-color:  yellow;\n",
       "        }    #T_5396720e_b171_11e9_9d8c_0f4ec7a9def4row5_col2 {\n",
       "            background-color:  yellow;\n",
       "        }    #T_5396720e_b171_11e9_9d8c_0f4ec7a9def4row5_col3 {\n",
       "            background-color:  yellow;\n",
       "        }    #T_5396720e_b171_11e9_9d8c_0f4ec7a9def4row6_col0 {\n",
       "            background-color:  yellow;\n",
       "        }    #T_5396720e_b171_11e9_9d8c_0f4ec7a9def4row6_col1 {\n",
       "            background-color:  yellow;\n",
       "        }    #T_5396720e_b171_11e9_9d8c_0f4ec7a9def4row6_col2 {\n",
       "            background-color:  yellow;\n",
       "        }    #T_5396720e_b171_11e9_9d8c_0f4ec7a9def4row6_col3 {\n",
       "            background-color:  yellow;\n",
       "        }    #T_5396720e_b171_11e9_9d8c_0f4ec7a9def4row7_col0 {\n",
       "            background-color:  yellow;\n",
       "        }    #T_5396720e_b171_11e9_9d8c_0f4ec7a9def4row7_col1 {\n",
       "            background-color:  yellow;\n",
       "        }    #T_5396720e_b171_11e9_9d8c_0f4ec7a9def4row7_col2 {\n",
       "            background-color:  yellow;\n",
       "        }    #T_5396720e_b171_11e9_9d8c_0f4ec7a9def4row7_col3 {\n",
       "            background-color:  yellow;\n",
       "        }</style><table id=\"T_5396720e_b171_11e9_9d8c_0f4ec7a9def4\" ><thead>    <tr>        <th class=\"blank level0\" ></th>        <th class=\"col_heading level0 col0\" >Intern</th>        <th class=\"col_heading level0 col1\" >Publikationen</th>        <th class=\"col_heading level0 col2\" >Ranking</th>        <th class=\"col_heading level0 col3\" >Universität im Vergleich</th>    </tr>    <tr>        <th class=\"index_name level0\" >WZW</th>        <th class=\"blank\" ></th>        <th class=\"blank\" ></th>        <th class=\"blank\" ></th>        <th class=\"blank\" ></th>    </tr></thead><tbody>\n",
       "                <tr>\n",
       "                        <th id=\"T_5396720e_b171_11e9_9d8c_0f4ec7a9def4level0_row0\" class=\"row_heading level0 row0\" >Rechtswissenschaften</th>\n",
       "                        <td id=\"T_5396720e_b171_11e9_9d8c_0f4ec7a9def4row0_col0\" class=\"data row0 col0\" >21.60%</td>\n",
       "                        <td id=\"T_5396720e_b171_11e9_9d8c_0f4ec7a9def4row0_col1\" class=\"data row0 col1\" >896 Publikationen</td>\n",
       "                        <td id=\"T_5396720e_b171_11e9_9d8c_0f4ec7a9def4row0_col2\" class=\"data row0 col2\" >1. Platz</td>\n",
       "                        <td id=\"T_5396720e_b171_11e9_9d8c_0f4ec7a9def4row0_col3\" class=\"data row0 col3\" ><img src=\"UINRechtswissenschaften_Publikationen.png\", width=250, height=200/></td>\n",
       "            </tr>\n",
       "            <tr>\n",
       "                        <th id=\"T_5396720e_b171_11e9_9d8c_0f4ec7a9def4level0_row1\" class=\"row_heading level0 row1\" >Physik, Astronomie</th>\n",
       "                        <td id=\"T_5396720e_b171_11e9_9d8c_0f4ec7a9def4row1_col0\" class=\"data row1 col0\" >9.50%</td>\n",
       "                        <td id=\"T_5396720e_b171_11e9_9d8c_0f4ec7a9def4row1_col1\" class=\"data row1 col1\" >394 Publikationen</td>\n",
       "                        <td id=\"T_5396720e_b171_11e9_9d8c_0f4ec7a9def4row1_col2\" class=\"data row1 col2\" >3. Platz</td>\n",
       "                        <td id=\"T_5396720e_b171_11e9_9d8c_0f4ec7a9def4row1_col3\" class=\"data row1 col3\" ><img src=\"UINPhysik_Astronomie_Publikationen.png\", width=250, height=200/></td>\n",
       "            </tr>\n",
       "            <tr>\n",
       "                        <th id=\"T_5396720e_b171_11e9_9d8c_0f4ec7a9def4level0_row2\" class=\"row_heading level0 row2\" >Sprach- und Literaturwissenschaften</th>\n",
       "                        <td id=\"T_5396720e_b171_11e9_9d8c_0f4ec7a9def4row2_col0\" class=\"data row2 col0\" >8.58%</td>\n",
       "                        <td id=\"T_5396720e_b171_11e9_9d8c_0f4ec7a9def4row2_col1\" class=\"data row2 col1\" >356 Publikationen</td>\n",
       "                        <td id=\"T_5396720e_b171_11e9_9d8c_0f4ec7a9def4row2_col2\" class=\"data row2 col2\" >3. Platz</td>\n",
       "                        <td id=\"T_5396720e_b171_11e9_9d8c_0f4ec7a9def4row2_col3\" class=\"data row2 col3\" ><img src=\"UINSprach-_und_Literaturwissenschaften_Publikationen.png\", width=250, height=200/></td>\n",
       "            </tr>\n",
       "            <tr>\n",
       "                        <th id=\"T_5396720e_b171_11e9_9d8c_0f4ec7a9def4level0_row3\" class=\"row_heading level0 row3\" >Biologie</th>\n",
       "                        <td id=\"T_5396720e_b171_11e9_9d8c_0f4ec7a9def4row3_col0\" class=\"data row3 col0\" >7.35%</td>\n",
       "                        <td id=\"T_5396720e_b171_11e9_9d8c_0f4ec7a9def4row3_col1\" class=\"data row3 col1\" >305 Publikationen</td>\n",
       "                        <td id=\"T_5396720e_b171_11e9_9d8c_0f4ec7a9def4row3_col2\" class=\"data row3 col2\" >3. Platz</td>\n",
       "                        <td id=\"T_5396720e_b171_11e9_9d8c_0f4ec7a9def4row3_col3\" class=\"data row3 col3\" ><img src=\"UINBiologie_Publikationen.png\", width=250, height=200/></td>\n",
       "            </tr>\n",
       "            <tr>\n",
       "                        <th id=\"T_5396720e_b171_11e9_9d8c_0f4ec7a9def4level0_row4\" class=\"row_heading level0 row4\" >Geschichte, Archäologie</th>\n",
       "                        <td id=\"T_5396720e_b171_11e9_9d8c_0f4ec7a9def4row4_col0\" class=\"data row4 col0\" >5.93%</td>\n",
       "                        <td id=\"T_5396720e_b171_11e9_9d8c_0f4ec7a9def4row4_col1\" class=\"data row4 col1\" >246 Publikationen</td>\n",
       "                        <td id=\"T_5396720e_b171_11e9_9d8c_0f4ec7a9def4row4_col2\" class=\"data row4 col2\" >2. Platz</td>\n",
       "                        <td id=\"T_5396720e_b171_11e9_9d8c_0f4ec7a9def4row4_col3\" class=\"data row4 col3\" ><img src=\"UINGeschichte_Archäologie_Publikationen.png\", width=250, height=200/></td>\n",
       "            </tr>\n",
       "            <tr>\n",
       "                        <th id=\"T_5396720e_b171_11e9_9d8c_0f4ec7a9def4level0_row5\" class=\"row_heading level0 row5\" >Bauwesen</th>\n",
       "                        <td id=\"T_5396720e_b171_11e9_9d8c_0f4ec7a9def4row5_col0\" class=\"data row5 col0\" >5.81%</td>\n",
       "                        <td id=\"T_5396720e_b171_11e9_9d8c_0f4ec7a9def4row5_col1\" class=\"data row5 col1\" >241 Publikationen</td>\n",
       "                        <td id=\"T_5396720e_b171_11e9_9d8c_0f4ec7a9def4row5_col2\" class=\"data row5 col2\" >3. Platz</td>\n",
       "                        <td id=\"T_5396720e_b171_11e9_9d8c_0f4ec7a9def4row5_col3\" class=\"data row5 col3\" ><img src=\"UINBauwesen_Publikationen.png\", width=250, height=200/></td>\n",
       "            </tr>\n",
       "            <tr>\n",
       "                        <th id=\"T_5396720e_b171_11e9_9d8c_0f4ec7a9def4level0_row6\" class=\"row_heading level0 row6\" >Erziehungswissenschaften</th>\n",
       "                        <td id=\"T_5396720e_b171_11e9_9d8c_0f4ec7a9def4row6_col0\" class=\"data row6 col0\" >5.42%</td>\n",
       "                        <td id=\"T_5396720e_b171_11e9_9d8c_0f4ec7a9def4row6_col1\" class=\"data row6 col1\" >225 Publikationen</td>\n",
       "                        <td id=\"T_5396720e_b171_11e9_9d8c_0f4ec7a9def4row6_col2\" class=\"data row6 col2\" >2. Platz</td>\n",
       "                        <td id=\"T_5396720e_b171_11e9_9d8c_0f4ec7a9def4row6_col3\" class=\"data row6 col3\" ><img src=\"UINErziehungswissenschaften_Publikationen.png\", width=250, height=200/></td>\n",
       "            </tr>\n",
       "            <tr>\n",
       "                        <th id=\"T_5396720e_b171_11e9_9d8c_0f4ec7a9def4level0_row7\" class=\"row_heading level0 row7\" >Geowissenschaften</th>\n",
       "                        <td id=\"T_5396720e_b171_11e9_9d8c_0f4ec7a9def4row7_col0\" class=\"data row7 col0\" >5.11%</td>\n",
       "                        <td id=\"T_5396720e_b171_11e9_9d8c_0f4ec7a9def4row7_col1\" class=\"data row7 col1\" >212 Publikationen</td>\n",
       "                        <td id=\"T_5396720e_b171_11e9_9d8c_0f4ec7a9def4row7_col2\" class=\"data row7 col2\" >3. Platz</td>\n",
       "                        <td id=\"T_5396720e_b171_11e9_9d8c_0f4ec7a9def4row7_col3\" class=\"data row7 col3\" ><img src=\"UINGeowissenschaften_Publikationen.png\", width=250, height=200/></td>\n",
       "            </tr>\n",
       "    </tbody></table>"
      ],
      "text/plain": [
       "<IPython.core.display.HTML object>"
      ]
     },
     "metadata": {},
     "output_type": "display_data"
    },
    {
     "data": {
      "text/html": [
       "<h3>Drittmittel-Struktur der UIN</h3>"
      ],
      "text/plain": [
       "<IPython.core.display.HTML object>"
      ]
     },
     "metadata": {},
     "output_type": "display_data"
    },
    {
     "data": {
      "text/html": [
       "Angezeigt werden WZW, die zusammen 67.0% der Drittmittel an der UIN ausmachen. Alle anderen WZW tragen je weniger als 6.6% bei. Die Spalte \"Ranking\" bezieht sich  auf den &ouml;sterreichweiten Vergleich der absoluten Werte pro WZW"
      ],
      "text/plain": [
       "<IPython.core.display.HTML object>"
      ]
     },
     "metadata": {},
     "output_type": "display_data"
    },
    {
     "data": {
      "text/html": [
       "<style  type=\"text/css\" >\n",
       "    #T_53df0bea_b171_11e9_9d8c_0f4ec7a9def4row0_col0 {\n",
       "            background-color:  yellow;\n",
       "        }    #T_53df0bea_b171_11e9_9d8c_0f4ec7a9def4row0_col1 {\n",
       "            background-color:  yellow;\n",
       "        }    #T_53df0bea_b171_11e9_9d8c_0f4ec7a9def4row0_col2 {\n",
       "            background-color:  yellow;\n",
       "        }    #T_53df0bea_b171_11e9_9d8c_0f4ec7a9def4row0_col3 {\n",
       "            background-color:  yellow;\n",
       "        }    #T_53df0bea_b171_11e9_9d8c_0f4ec7a9def4row1_col0 {\n",
       "            background-color:  white;\n",
       "        }    #T_53df0bea_b171_11e9_9d8c_0f4ec7a9def4row1_col1 {\n",
       "            background-color:  white;\n",
       "        }    #T_53df0bea_b171_11e9_9d8c_0f4ec7a9def4row1_col2 {\n",
       "            background-color:  white;\n",
       "        }    #T_53df0bea_b171_11e9_9d8c_0f4ec7a9def4row1_col3 {\n",
       "            background-color:  white;\n",
       "        }    #T_53df0bea_b171_11e9_9d8c_0f4ec7a9def4row2_col0 {\n",
       "            background-color:  yellow;\n",
       "        }    #T_53df0bea_b171_11e9_9d8c_0f4ec7a9def4row2_col1 {\n",
       "            background-color:  yellow;\n",
       "        }    #T_53df0bea_b171_11e9_9d8c_0f4ec7a9def4row2_col2 {\n",
       "            background-color:  yellow;\n",
       "        }    #T_53df0bea_b171_11e9_9d8c_0f4ec7a9def4row2_col3 {\n",
       "            background-color:  yellow;\n",
       "        }    #T_53df0bea_b171_11e9_9d8c_0f4ec7a9def4row3_col0 {\n",
       "            background-color:  white;\n",
       "        }    #T_53df0bea_b171_11e9_9d8c_0f4ec7a9def4row3_col1 {\n",
       "            background-color:  white;\n",
       "        }    #T_53df0bea_b171_11e9_9d8c_0f4ec7a9def4row3_col2 {\n",
       "            background-color:  white;\n",
       "        }    #T_53df0bea_b171_11e9_9d8c_0f4ec7a9def4row3_col3 {\n",
       "            background-color:  white;\n",
       "        }    #T_53df0bea_b171_11e9_9d8c_0f4ec7a9def4row4_col0 {\n",
       "            background-color:  yellow;\n",
       "        }    #T_53df0bea_b171_11e9_9d8c_0f4ec7a9def4row4_col1 {\n",
       "            background-color:  yellow;\n",
       "        }    #T_53df0bea_b171_11e9_9d8c_0f4ec7a9def4row4_col2 {\n",
       "            background-color:  yellow;\n",
       "        }    #T_53df0bea_b171_11e9_9d8c_0f4ec7a9def4row4_col3 {\n",
       "            background-color:  yellow;\n",
       "        }    #T_53df0bea_b171_11e9_9d8c_0f4ec7a9def4row5_col0 {\n",
       "            background-color:  yellow;\n",
       "        }    #T_53df0bea_b171_11e9_9d8c_0f4ec7a9def4row5_col1 {\n",
       "            background-color:  yellow;\n",
       "        }    #T_53df0bea_b171_11e9_9d8c_0f4ec7a9def4row5_col2 {\n",
       "            background-color:  yellow;\n",
       "        }    #T_53df0bea_b171_11e9_9d8c_0f4ec7a9def4row5_col3 {\n",
       "            background-color:  yellow;\n",
       "        }</style><table id=\"T_53df0bea_b171_11e9_9d8c_0f4ec7a9def4\" ><thead>    <tr>        <th class=\"blank level0\" ></th>        <th class=\"col_heading level0 col0\" >Intern</th>        <th class=\"col_heading level0 col1\" >Drittmittel</th>        <th class=\"col_heading level0 col2\" >Ranking</th>        <th class=\"col_heading level0 col3\" >Universität im Vergleich</th>    </tr>    <tr>        <th class=\"index_name level0\" >WZW</th>        <th class=\"blank\" ></th>        <th class=\"blank\" ></th>        <th class=\"blank\" ></th>        <th class=\"blank\" ></th>    </tr></thead><tbody>\n",
       "                <tr>\n",
       "                        <th id=\"T_53df0bea_b171_11e9_9d8c_0f4ec7a9def4level0_row0\" class=\"row_heading level0 row0\" >Physik, Astronomie</th>\n",
       "                        <td id=\"T_53df0bea_b171_11e9_9d8c_0f4ec7a9def4row0_col0\" class=\"data row0 col0\" >18.77%</td>\n",
       "                        <td id=\"T_53df0bea_b171_11e9_9d8c_0f4ec7a9def4row0_col1\" class=\"data row0 col1\" >9,281,530 €</td>\n",
       "                        <td id=\"T_53df0bea_b171_11e9_9d8c_0f4ec7a9def4row0_col2\" class=\"data row0 col2\" >3. Platz</td>\n",
       "                        <td id=\"T_53df0bea_b171_11e9_9d8c_0f4ec7a9def4row0_col3\" class=\"data row0 col3\" ><img src=\"UINPhysik_Astronomie_Drittmittel.png\", width=250, height=200/></td>\n",
       "            </tr>\n",
       "            <tr>\n",
       "                        <th id=\"T_53df0bea_b171_11e9_9d8c_0f4ec7a9def4level0_row1\" class=\"row_heading level0 row1\" >Biologie</th>\n",
       "                        <td id=\"T_53df0bea_b171_11e9_9d8c_0f4ec7a9def4row1_col0\" class=\"data row1 col0\" >11.47%</td>\n",
       "                        <td id=\"T_53df0bea_b171_11e9_9d8c_0f4ec7a9def4row1_col1\" class=\"data row1 col1\" >5,673,390 €</td>\n",
       "                        <td id=\"T_53df0bea_b171_11e9_9d8c_0f4ec7a9def4row1_col2\" class=\"data row1 col2\" >4. Platz</td>\n",
       "                        <td id=\"T_53df0bea_b171_11e9_9d8c_0f4ec7a9def4row1_col3\" class=\"data row1 col3\" ><img src=\"UINBiologie_Drittmittel.png\", width=250, height=200/></td>\n",
       "            </tr>\n",
       "            <tr>\n",
       "                        <th id=\"T_53df0bea_b171_11e9_9d8c_0f4ec7a9def4level0_row2\" class=\"row_heading level0 row2\" >Chemie</th>\n",
       "                        <td id=\"T_53df0bea_b171_11e9_9d8c_0f4ec7a9def4row2_col0\" class=\"data row2 col0\" >10.49%</td>\n",
       "                        <td id=\"T_53df0bea_b171_11e9_9d8c_0f4ec7a9def4row2_col1\" class=\"data row2 col1\" >5,185,498 €</td>\n",
       "                        <td id=\"T_53df0bea_b171_11e9_9d8c_0f4ec7a9def4row2_col2\" class=\"data row2 col2\" >2. Platz</td>\n",
       "                        <td id=\"T_53df0bea_b171_11e9_9d8c_0f4ec7a9def4row2_col3\" class=\"data row2 col3\" ><img src=\"UINChemie_Drittmittel.png\", width=250, height=200/></td>\n",
       "            </tr>\n",
       "            <tr>\n",
       "                        <th id=\"T_53df0bea_b171_11e9_9d8c_0f4ec7a9def4level0_row3\" class=\"row_heading level0 row3\" >Bauwesen</th>\n",
       "                        <td id=\"T_53df0bea_b171_11e9_9d8c_0f4ec7a9def4row3_col0\" class=\"data row3 col0\" >10.31%</td>\n",
       "                        <td id=\"T_53df0bea_b171_11e9_9d8c_0f4ec7a9def4row3_col1\" class=\"data row3 col1\" >5,097,492 €</td>\n",
       "                        <td id=\"T_53df0bea_b171_11e9_9d8c_0f4ec7a9def4row3_col2\" class=\"data row3 col2\" >4. Platz</td>\n",
       "                        <td id=\"T_53df0bea_b171_11e9_9d8c_0f4ec7a9def4row3_col3\" class=\"data row3 col3\" ><img src=\"UINBauwesen_Drittmittel.png\", width=250, height=200/></td>\n",
       "            </tr>\n",
       "            <tr>\n",
       "                        <th id=\"T_53df0bea_b171_11e9_9d8c_0f4ec7a9def4level0_row4\" class=\"row_heading level0 row4\" >Wirtschaftswissenschaften</th>\n",
       "                        <td id=\"T_53df0bea_b171_11e9_9d8c_0f4ec7a9def4row4_col0\" class=\"data row4 col0\" >9.38%</td>\n",
       "                        <td id=\"T_53df0bea_b171_11e9_9d8c_0f4ec7a9def4row4_col1\" class=\"data row4 col1\" >4,638,999 €</td>\n",
       "                        <td id=\"T_53df0bea_b171_11e9_9d8c_0f4ec7a9def4row4_col2\" class=\"data row4 col2\" >2. Platz</td>\n",
       "                        <td id=\"T_53df0bea_b171_11e9_9d8c_0f4ec7a9def4row4_col3\" class=\"data row4 col3\" ><img src=\"UINWirtschaftswissenschaften_Drittmittel.png\", width=250, height=200/></td>\n",
       "            </tr>\n",
       "            <tr>\n",
       "                        <th id=\"T_53df0bea_b171_11e9_9d8c_0f4ec7a9def4level0_row5\" class=\"row_heading level0 row5\" >Geowissenschaften</th>\n",
       "                        <td id=\"T_53df0bea_b171_11e9_9d8c_0f4ec7a9def4row5_col0\" class=\"data row5 col0\" >6.56%</td>\n",
       "                        <td id=\"T_53df0bea_b171_11e9_9d8c_0f4ec7a9def4row5_col1\" class=\"data row5 col1\" >3,241,716 €</td>\n",
       "                        <td id=\"T_53df0bea_b171_11e9_9d8c_0f4ec7a9def4row5_col2\" class=\"data row5 col2\" >3. Platz</td>\n",
       "                        <td id=\"T_53df0bea_b171_11e9_9d8c_0f4ec7a9def4row5_col3\" class=\"data row5 col3\" ><img src=\"UINGeowissenschaften_Drittmittel.png\", width=250, height=200/></td>\n",
       "            </tr>\n",
       "    </tbody></table>"
      ],
      "text/plain": [
       "<IPython.core.display.HTML object>"
      ]
     },
     "metadata": {},
     "output_type": "display_data"
    },
    {
     "data": {
      "text/html": [
       "<h2 style=\"page-break-before: always;\">Universität Klagenfurt</h2>"
      ],
      "text/plain": [
       "<IPython.core.display.HTML object>"
      ]
     },
     "metadata": {},
     "output_type": "display_data"
    },
    {
     "data": {
      "text/html": [
       "<h3>Vergleichbare Universitäten in Publikationen- und Drittmittel-Struktur</h3><ul>"
      ],
      "text/plain": [
       "<IPython.core.display.HTML object>"
      ]
     },
     "metadata": {},
     "output_type": "display_data"
    },
    {
     "data": {
      "text/html": [
       "<li><strong>Keine.</strong> Die Universität Klagenfurt ist stark spezialisiert.</li>"
      ],
      "text/plain": [
       "<IPython.core.display.HTML object>"
      ]
     },
     "metadata": {},
     "output_type": "display_data"
    },
    {
     "data": {
      "text/html": [
       "</ul>"
      ],
      "text/plain": [
       "<IPython.core.display.HTML object>"
      ]
     },
     "metadata": {},
     "output_type": "display_data"
    },
    {
     "data": {
      "text/html": [
       "<h4>Vergleichbar bei der Publikationen-Struktur</h4>"
      ],
      "text/plain": [
       "<IPython.core.display.HTML object>"
      ]
     },
     "metadata": {},
     "output_type": "display_data"
    },
    {
     "data": {
      "text/html": [
       "<p><strong>Universität Linz</strong> (59.1%, wegen &auml;hnlicher interner Relevanz von Informatik, Wirtschaftswissenschaften, Mathematik)</p>"
      ],
      "text/plain": [
       "<IPython.core.display.HTML object>"
      ]
     },
     "metadata": {},
     "output_type": "display_data"
    },
    {
     "data": {
      "text/html": [
       "<img src=\"UKL_Publikationen_overview.png\" width=\"1000\" height=\"200\"/>"
      ],
      "text/plain": [
       "<IPython.core.display.HTML object>"
      ]
     },
     "metadata": {},
     "output_type": "display_data"
    },
    {
     "data": {
      "text/html": [
       "<h4>Vergleichbar bei der Drittmittel-Struktur</h4>"
      ],
      "text/plain": [
       "<IPython.core.display.HTML object>"
      ]
     },
     "metadata": {},
     "output_type": "display_data"
    },
    {
     "data": {
      "text/html": [
       "<p>Die Universität Klagenfurt ist im Bereich Drittmittel spezialisiert.<br/><strong>Keine</strong> andere Universität ähnelt der Universität Klagenfurt in der Drittmittel-Struktur in auffälliger Weise.</p>"
      ],
      "text/plain": [
       "<IPython.core.display.HTML object>"
      ]
     },
     "metadata": {},
     "output_type": "display_data"
    },
    {
     "data": {
      "text/html": [
       "<img src=\"UKL_Drittmittel_overview.png\" width=\"1000\" height=\"200\"/>"
      ],
      "text/plain": [
       "<IPython.core.display.HTML object>"
      ]
     },
     "metadata": {},
     "output_type": "display_data"
    },
    {
     "data": {
      "text/html": [
       "<p><small>Universitäten mit einer Ähnlichkeit von weniger als 50% werden nicht angezeigt.</small></p>"
      ],
      "text/plain": [
       "<IPython.core.display.HTML object>"
      ]
     },
     "metadata": {},
     "output_type": "display_data"
    },
    {
     "data": {
      "text/html": [
       "<h3>Publikationen-Struktur der UKL</h3>"
      ],
      "text/plain": [
       "<IPython.core.display.HTML object>"
      ]
     },
     "metadata": {},
     "output_type": "display_data"
    },
    {
     "data": {
      "text/html": [
       "Angezeigt werden WZW, die zusammen 71.2% der Publikationen an der UKL ausmachen. Alle anderen WZW tragen je weniger als 5.4% bei. Die Spalte \"Ranking\" bezieht sich  auf den &ouml;sterreichweiten Vergleich der absoluten Werte pro WZW"
      ],
      "text/plain": [
       "<IPython.core.display.HTML object>"
      ]
     },
     "metadata": {},
     "output_type": "display_data"
    },
    {
     "data": {
      "text/html": [
       "<style  type=\"text/css\" >\n",
       "    #T_5443aff0_b171_11e9_9d8c_0f4ec7a9def4row0_col0 {\n",
       "            background-color:  white;\n",
       "        }    #T_5443aff0_b171_11e9_9d8c_0f4ec7a9def4row0_col1 {\n",
       "            background-color:  white;\n",
       "        }    #T_5443aff0_b171_11e9_9d8c_0f4ec7a9def4row0_col2 {\n",
       "            background-color:  white;\n",
       "        }    #T_5443aff0_b171_11e9_9d8c_0f4ec7a9def4row0_col3 {\n",
       "            background-color:  white;\n",
       "        }    #T_5443aff0_b171_11e9_9d8c_0f4ec7a9def4row1_col0 {\n",
       "            background-color:  white;\n",
       "        }    #T_5443aff0_b171_11e9_9d8c_0f4ec7a9def4row1_col1 {\n",
       "            background-color:  white;\n",
       "        }    #T_5443aff0_b171_11e9_9d8c_0f4ec7a9def4row1_col2 {\n",
       "            background-color:  white;\n",
       "        }    #T_5443aff0_b171_11e9_9d8c_0f4ec7a9def4row1_col3 {\n",
       "            background-color:  white;\n",
       "        }    #T_5443aff0_b171_11e9_9d8c_0f4ec7a9def4row2_col0 {\n",
       "            background-color:  white;\n",
       "        }    #T_5443aff0_b171_11e9_9d8c_0f4ec7a9def4row2_col1 {\n",
       "            background-color:  white;\n",
       "        }    #T_5443aff0_b171_11e9_9d8c_0f4ec7a9def4row2_col2 {\n",
       "            background-color:  white;\n",
       "        }    #T_5443aff0_b171_11e9_9d8c_0f4ec7a9def4row2_col3 {\n",
       "            background-color:  white;\n",
       "        }    #T_5443aff0_b171_11e9_9d8c_0f4ec7a9def4row3_col0 {\n",
       "            background-color:  white;\n",
       "        }    #T_5443aff0_b171_11e9_9d8c_0f4ec7a9def4row3_col1 {\n",
       "            background-color:  white;\n",
       "        }    #T_5443aff0_b171_11e9_9d8c_0f4ec7a9def4row3_col2 {\n",
       "            background-color:  white;\n",
       "        }    #T_5443aff0_b171_11e9_9d8c_0f4ec7a9def4row3_col3 {\n",
       "            background-color:  white;\n",
       "        }    #T_5443aff0_b171_11e9_9d8c_0f4ec7a9def4row4_col0 {\n",
       "            background-color:  yellow;\n",
       "        }    #T_5443aff0_b171_11e9_9d8c_0f4ec7a9def4row4_col1 {\n",
       "            background-color:  yellow;\n",
       "        }    #T_5443aff0_b171_11e9_9d8c_0f4ec7a9def4row4_col2 {\n",
       "            background-color:  yellow;\n",
       "        }    #T_5443aff0_b171_11e9_9d8c_0f4ec7a9def4row4_col3 {\n",
       "            background-color:  yellow;\n",
       "        }    #T_5443aff0_b171_11e9_9d8c_0f4ec7a9def4row5_col0 {\n",
       "            background-color:  white;\n",
       "        }    #T_5443aff0_b171_11e9_9d8c_0f4ec7a9def4row5_col1 {\n",
       "            background-color:  white;\n",
       "        }    #T_5443aff0_b171_11e9_9d8c_0f4ec7a9def4row5_col2 {\n",
       "            background-color:  white;\n",
       "        }    #T_5443aff0_b171_11e9_9d8c_0f4ec7a9def4row5_col3 {\n",
       "            background-color:  white;\n",
       "        }    #T_5443aff0_b171_11e9_9d8c_0f4ec7a9def4row6_col0 {\n",
       "            background-color:  white;\n",
       "        }    #T_5443aff0_b171_11e9_9d8c_0f4ec7a9def4row6_col1 {\n",
       "            background-color:  white;\n",
       "        }    #T_5443aff0_b171_11e9_9d8c_0f4ec7a9def4row6_col2 {\n",
       "            background-color:  white;\n",
       "        }    #T_5443aff0_b171_11e9_9d8c_0f4ec7a9def4row6_col3 {\n",
       "            background-color:  white;\n",
       "        }</style><table id=\"T_5443aff0_b171_11e9_9d8c_0f4ec7a9def4\" ><thead>    <tr>        <th class=\"blank level0\" ></th>        <th class=\"col_heading level0 col0\" >Intern</th>        <th class=\"col_heading level0 col1\" >Publikationen</th>        <th class=\"col_heading level0 col2\" >Ranking</th>        <th class=\"col_heading level0 col3\" >Universität im Vergleich</th>    </tr>    <tr>        <th class=\"index_name level0\" >WZW</th>        <th class=\"blank\" ></th>        <th class=\"blank\" ></th>        <th class=\"blank\" ></th>        <th class=\"blank\" ></th>    </tr></thead><tbody>\n",
       "                <tr>\n",
       "                        <th id=\"T_5443aff0_b171_11e9_9d8c_0f4ec7a9def4level0_row0\" class=\"row_heading level0 row0\" >Wirtschaftswissenschaften</th>\n",
       "                        <td id=\"T_5443aff0_b171_11e9_9d8c_0f4ec7a9def4row0_col0\" class=\"data row0 col0\" >15.35%</td>\n",
       "                        <td id=\"T_5443aff0_b171_11e9_9d8c_0f4ec7a9def4row0_col1\" class=\"data row0 col1\" >130 Publikationen</td>\n",
       "                        <td id=\"T_5443aff0_b171_11e9_9d8c_0f4ec7a9def4row0_col2\" class=\"data row0 col2\" >6. Platz</td>\n",
       "                        <td id=\"T_5443aff0_b171_11e9_9d8c_0f4ec7a9def4row0_col3\" class=\"data row0 col3\" ><img src=\"UKLWirtschaftswissenschaften_Publikationen.png\", width=250, height=200/></td>\n",
       "            </tr>\n",
       "            <tr>\n",
       "                        <th id=\"T_5443aff0_b171_11e9_9d8c_0f4ec7a9def4level0_row1\" class=\"row_heading level0 row1\" >Informatik</th>\n",
       "                        <td id=\"T_5443aff0_b171_11e9_9d8c_0f4ec7a9def4row1_col0\" class=\"data row1 col0\" >15.11%</td>\n",
       "                        <td id=\"T_5443aff0_b171_11e9_9d8c_0f4ec7a9def4row1_col1\" class=\"data row1 col1\" >128 Publikationen</td>\n",
       "                        <td id=\"T_5443aff0_b171_11e9_9d8c_0f4ec7a9def4row1_col2\" class=\"data row1 col2\" >6. Platz</td>\n",
       "                        <td id=\"T_5443aff0_b171_11e9_9d8c_0f4ec7a9def4row1_col3\" class=\"data row1 col3\" ><img src=\"UKLInformatik_Publikationen.png\", width=250, height=200/></td>\n",
       "            </tr>\n",
       "            <tr>\n",
       "                        <th id=\"T_5443aff0_b171_11e9_9d8c_0f4ec7a9def4level0_row2\" class=\"row_heading level0 row2\" >Erziehungswissenschaften</th>\n",
       "                        <td id=\"T_5443aff0_b171_11e9_9d8c_0f4ec7a9def4row2_col0\" class=\"data row2 col0\" >11.33%</td>\n",
       "                        <td id=\"T_5443aff0_b171_11e9_9d8c_0f4ec7a9def4row2_col1\" class=\"data row2 col1\" >96 Publikationen</td>\n",
       "                        <td id=\"T_5443aff0_b171_11e9_9d8c_0f4ec7a9def4row2_col2\" class=\"data row2 col2\" >6. Platz</td>\n",
       "                        <td id=\"T_5443aff0_b171_11e9_9d8c_0f4ec7a9def4row2_col3\" class=\"data row2 col3\" ><img src=\"UKLErziehungswissenschaften_Publikationen.png\", width=250, height=200/></td>\n",
       "            </tr>\n",
       "            <tr>\n",
       "                        <th id=\"T_5443aff0_b171_11e9_9d8c_0f4ec7a9def4level0_row3\" class=\"row_heading level0 row3\" >Sprach- und Literaturwissenschaften</th>\n",
       "                        <td id=\"T_5443aff0_b171_11e9_9d8c_0f4ec7a9def4row3_col0\" class=\"data row3 col0\" >9.45%</td>\n",
       "                        <td id=\"T_5443aff0_b171_11e9_9d8c_0f4ec7a9def4row3_col1\" class=\"data row3 col1\" >80 Publikationen</td>\n",
       "                        <td id=\"T_5443aff0_b171_11e9_9d8c_0f4ec7a9def4row3_col2\" class=\"data row3 col2\" >5. Platz</td>\n",
       "                        <td id=\"T_5443aff0_b171_11e9_9d8c_0f4ec7a9def4row3_col3\" class=\"data row3 col3\" ><img src=\"UKLSprach-_und_Literaturwissenschaften_Publikationen.png\", width=250, height=200/></td>\n",
       "            </tr>\n",
       "            <tr>\n",
       "                        <th id=\"T_5443aff0_b171_11e9_9d8c_0f4ec7a9def4level0_row4\" class=\"row_heading level0 row4\" >Medien- und Kommunikationswissenschaften</th>\n",
       "                        <td id=\"T_5443aff0_b171_11e9_9d8c_0f4ec7a9def4row4_col0\" class=\"data row4 col0\" >8.03%</td>\n",
       "                        <td id=\"T_5443aff0_b171_11e9_9d8c_0f4ec7a9def4row4_col1\" class=\"data row4 col1\" >68 Publikationen</td>\n",
       "                        <td id=\"T_5443aff0_b171_11e9_9d8c_0f4ec7a9def4row4_col2\" class=\"data row4 col2\" >2. Platz</td>\n",
       "                        <td id=\"T_5443aff0_b171_11e9_9d8c_0f4ec7a9def4row4_col3\" class=\"data row4 col3\" ><img src=\"UKLMedien-_und_Kommunikationswissenschaften_Publikationen.png\", width=250, height=200/></td>\n",
       "            </tr>\n",
       "            <tr>\n",
       "                        <th id=\"T_5443aff0_b171_11e9_9d8c_0f4ec7a9def4level0_row5\" class=\"row_heading level0 row5\" >Mathematik</th>\n",
       "                        <td id=\"T_5443aff0_b171_11e9_9d8c_0f4ec7a9def4row5_col0\" class=\"data row5 col0\" >6.49%</td>\n",
       "                        <td id=\"T_5443aff0_b171_11e9_9d8c_0f4ec7a9def4row5_col1\" class=\"data row5 col1\" >55 Publikationen</td>\n",
       "                        <td id=\"T_5443aff0_b171_11e9_9d8c_0f4ec7a9def4row5_col2\" class=\"data row5 col2\" >7. Platz</td>\n",
       "                        <td id=\"T_5443aff0_b171_11e9_9d8c_0f4ec7a9def4row5_col3\" class=\"data row5 col3\" ><img src=\"UKLMathematik_Publikationen.png\", width=250, height=200/></td>\n",
       "            </tr>\n",
       "            <tr>\n",
       "                        <th id=\"T_5443aff0_b171_11e9_9d8c_0f4ec7a9def4level0_row6\" class=\"row_heading level0 row6\" >Soziologie</th>\n",
       "                        <td id=\"T_5443aff0_b171_11e9_9d8c_0f4ec7a9def4row6_col0\" class=\"data row6 col0\" >5.43%</td>\n",
       "                        <td id=\"T_5443aff0_b171_11e9_9d8c_0f4ec7a9def4row6_col1\" class=\"data row6 col1\" >46 Publikationen</td>\n",
       "                        <td id=\"T_5443aff0_b171_11e9_9d8c_0f4ec7a9def4row6_col2\" class=\"data row6 col2\" >6. Platz</td>\n",
       "                        <td id=\"T_5443aff0_b171_11e9_9d8c_0f4ec7a9def4row6_col3\" class=\"data row6 col3\" ><img src=\"UKLSoziologie_Publikationen.png\", width=250, height=200/></td>\n",
       "            </tr>\n",
       "    </tbody></table>"
      ],
      "text/plain": [
       "<IPython.core.display.HTML object>"
      ]
     },
     "metadata": {},
     "output_type": "display_data"
    },
    {
     "data": {
      "text/html": [
       "<h3>Drittmittel-Struktur der UKL</h3>"
      ],
      "text/plain": [
       "<IPython.core.display.HTML object>"
      ]
     },
     "metadata": {},
     "output_type": "display_data"
    },
    {
     "data": {
      "text/html": [
       "Angezeigt werden WZW, die zusammen 67.2% der Drittmittel an der UKL ausmachen. Alle anderen WZW tragen je weniger als 5.3% bei. Die Spalte \"Ranking\" bezieht sich  auf den &ouml;sterreichweiten Vergleich der absoluten Werte pro WZW"
      ],
      "text/plain": [
       "<IPython.core.display.HTML object>"
      ]
     },
     "metadata": {},
     "output_type": "display_data"
    },
    {
     "data": {
      "text/html": [
       "<style  type=\"text/css\" >\n",
       "    #T_5491ec2e_b171_11e9_9d8c_0f4ec7a9def4row0_col0 {\n",
       "            background-color:  white;\n",
       "        }    #T_5491ec2e_b171_11e9_9d8c_0f4ec7a9def4row0_col1 {\n",
       "            background-color:  white;\n",
       "        }    #T_5491ec2e_b171_11e9_9d8c_0f4ec7a9def4row0_col2 {\n",
       "            background-color:  white;\n",
       "        }    #T_5491ec2e_b171_11e9_9d8c_0f4ec7a9def4row0_col3 {\n",
       "            background-color:  white;\n",
       "        }    #T_5491ec2e_b171_11e9_9d8c_0f4ec7a9def4row1_col0 {\n",
       "            background-color:  white;\n",
       "        }    #T_5491ec2e_b171_11e9_9d8c_0f4ec7a9def4row1_col1 {\n",
       "            background-color:  white;\n",
       "        }    #T_5491ec2e_b171_11e9_9d8c_0f4ec7a9def4row1_col2 {\n",
       "            background-color:  white;\n",
       "        }    #T_5491ec2e_b171_11e9_9d8c_0f4ec7a9def4row1_col3 {\n",
       "            background-color:  white;\n",
       "        }    #T_5491ec2e_b171_11e9_9d8c_0f4ec7a9def4row2_col0 {\n",
       "            background-color:  white;\n",
       "        }    #T_5491ec2e_b171_11e9_9d8c_0f4ec7a9def4row2_col1 {\n",
       "            background-color:  white;\n",
       "        }    #T_5491ec2e_b171_11e9_9d8c_0f4ec7a9def4row2_col2 {\n",
       "            background-color:  white;\n",
       "        }    #T_5491ec2e_b171_11e9_9d8c_0f4ec7a9def4row2_col3 {\n",
       "            background-color:  white;\n",
       "        }    #T_5491ec2e_b171_11e9_9d8c_0f4ec7a9def4row3_col0 {\n",
       "            background-color:  white;\n",
       "        }    #T_5491ec2e_b171_11e9_9d8c_0f4ec7a9def4row3_col1 {\n",
       "            background-color:  white;\n",
       "        }    #T_5491ec2e_b171_11e9_9d8c_0f4ec7a9def4row3_col2 {\n",
       "            background-color:  white;\n",
       "        }    #T_5491ec2e_b171_11e9_9d8c_0f4ec7a9def4row3_col3 {\n",
       "            background-color:  white;\n",
       "        }    #T_5491ec2e_b171_11e9_9d8c_0f4ec7a9def4row4_col0 {\n",
       "            background-color:  yellow;\n",
       "        }    #T_5491ec2e_b171_11e9_9d8c_0f4ec7a9def4row4_col1 {\n",
       "            background-color:  yellow;\n",
       "        }    #T_5491ec2e_b171_11e9_9d8c_0f4ec7a9def4row4_col2 {\n",
       "            background-color:  yellow;\n",
       "        }    #T_5491ec2e_b171_11e9_9d8c_0f4ec7a9def4row4_col3 {\n",
       "            background-color:  yellow;\n",
       "        }    #T_5491ec2e_b171_11e9_9d8c_0f4ec7a9def4row5_col0 {\n",
       "            background-color:  white;\n",
       "        }    #T_5491ec2e_b171_11e9_9d8c_0f4ec7a9def4row5_col1 {\n",
       "            background-color:  white;\n",
       "        }    #T_5491ec2e_b171_11e9_9d8c_0f4ec7a9def4row5_col2 {\n",
       "            background-color:  white;\n",
       "        }    #T_5491ec2e_b171_11e9_9d8c_0f4ec7a9def4row5_col3 {\n",
       "            background-color:  white;\n",
       "        }</style><table id=\"T_5491ec2e_b171_11e9_9d8c_0f4ec7a9def4\" ><thead>    <tr>        <th class=\"blank level0\" ></th>        <th class=\"col_heading level0 col0\" >Intern</th>        <th class=\"col_heading level0 col1\" >Drittmittel</th>        <th class=\"col_heading level0 col2\" >Ranking</th>        <th class=\"col_heading level0 col3\" >Universität im Vergleich</th>    </tr>    <tr>        <th class=\"index_name level0\" >WZW</th>        <th class=\"blank\" ></th>        <th class=\"blank\" ></th>        <th class=\"blank\" ></th>        <th class=\"blank\" ></th>    </tr></thead><tbody>\n",
       "                <tr>\n",
       "                        <th id=\"T_5491ec2e_b171_11e9_9d8c_0f4ec7a9def4level0_row0\" class=\"row_heading level0 row0\" >Informatik</th>\n",
       "                        <td id=\"T_5491ec2e_b171_11e9_9d8c_0f4ec7a9def4row0_col0\" class=\"data row0 col0\" >17.12%</td>\n",
       "                        <td id=\"T_5491ec2e_b171_11e9_9d8c_0f4ec7a9def4row0_col1\" class=\"data row0 col1\" >1,290,693 €</td>\n",
       "                        <td id=\"T_5491ec2e_b171_11e9_9d8c_0f4ec7a9def4row0_col2\" class=\"data row0 col2\" >6. Platz</td>\n",
       "                        <td id=\"T_5491ec2e_b171_11e9_9d8c_0f4ec7a9def4row0_col3\" class=\"data row0 col3\" ><img src=\"UKLInformatik_Drittmittel.png\", width=250, height=200/></td>\n",
       "            </tr>\n",
       "            <tr>\n",
       "                        <th id=\"T_5491ec2e_b171_11e9_9d8c_0f4ec7a9def4level0_row1\" class=\"row_heading level0 row1\" >Mathematik</th>\n",
       "                        <td id=\"T_5491ec2e_b171_11e9_9d8c_0f4ec7a9def4row1_col0\" class=\"data row1 col0\" >15.60%</td>\n",
       "                        <td id=\"T_5491ec2e_b171_11e9_9d8c_0f4ec7a9def4row1_col1\" class=\"data row1 col1\" >1,176,559 €</td>\n",
       "                        <td id=\"T_5491ec2e_b171_11e9_9d8c_0f4ec7a9def4row1_col2\" class=\"data row1 col2\" >5. Platz</td>\n",
       "                        <td id=\"T_5491ec2e_b171_11e9_9d8c_0f4ec7a9def4row1_col3\" class=\"data row1 col3\" ><img src=\"UKLMathematik_Drittmittel.png\", width=250, height=200/></td>\n",
       "            </tr>\n",
       "            <tr>\n",
       "                        <th id=\"T_5491ec2e_b171_11e9_9d8c_0f4ec7a9def4level0_row2\" class=\"row_heading level0 row2\" >Wirtschaftswissenschaften</th>\n",
       "                        <td id=\"T_5491ec2e_b171_11e9_9d8c_0f4ec7a9def4row2_col0\" class=\"data row2 col0\" >13.92%</td>\n",
       "                        <td id=\"T_5491ec2e_b171_11e9_9d8c_0f4ec7a9def4row2_col1\" class=\"data row2 col1\" >1,049,891 €</td>\n",
       "                        <td id=\"T_5491ec2e_b171_11e9_9d8c_0f4ec7a9def4row2_col2\" class=\"data row2 col2\" >8. Platz</td>\n",
       "                        <td id=\"T_5491ec2e_b171_11e9_9d8c_0f4ec7a9def4row2_col3\" class=\"data row2 col3\" ><img src=\"UKLWirtschaftswissenschaften_Drittmittel.png\", width=250, height=200/></td>\n",
       "            </tr>\n",
       "            <tr>\n",
       "                        <th id=\"T_5491ec2e_b171_11e9_9d8c_0f4ec7a9def4level0_row3\" class=\"row_heading level0 row3\" >Elektrotechnik, Elektronik, Informationstechnik</th>\n",
       "                        <td id=\"T_5491ec2e_b171_11e9_9d8c_0f4ec7a9def4row3_col0\" class=\"data row3 col0\" >7.83%</td>\n",
       "                        <td id=\"T_5491ec2e_b171_11e9_9d8c_0f4ec7a9def4row3_col1\" class=\"data row3 col1\" >590,093 €</td>\n",
       "                        <td id=\"T_5491ec2e_b171_11e9_9d8c_0f4ec7a9def4row3_col2\" class=\"data row3 col2\" >6. Platz</td>\n",
       "                        <td id=\"T_5491ec2e_b171_11e9_9d8c_0f4ec7a9def4row3_col3\" class=\"data row3 col3\" ><img src=\"UKLElektrotechnik_Elektronik_Informationstechnik_Drittmittel.png\", width=250, height=200/></td>\n",
       "            </tr>\n",
       "            <tr>\n",
       "                        <th id=\"T_5491ec2e_b171_11e9_9d8c_0f4ec7a9def4level0_row4\" class=\"row_heading level0 row4\" >Andere Sozialwissenschaften</th>\n",
       "                        <td id=\"T_5491ec2e_b171_11e9_9d8c_0f4ec7a9def4row4_col0\" class=\"data row4 col0\" >7.38%</td>\n",
       "                        <td id=\"T_5491ec2e_b171_11e9_9d8c_0f4ec7a9def4row4_col1\" class=\"data row4 col1\" >556,305 €</td>\n",
       "                        <td id=\"T_5491ec2e_b171_11e9_9d8c_0f4ec7a9def4row4_col2\" class=\"data row4 col2\" >3. Platz</td>\n",
       "                        <td id=\"T_5491ec2e_b171_11e9_9d8c_0f4ec7a9def4row4_col3\" class=\"data row4 col3\" ><img src=\"UKLAndere_Sozialwissenschaften_Drittmittel.png\", width=250, height=200/></td>\n",
       "            </tr>\n",
       "            <tr>\n",
       "                        <th id=\"T_5491ec2e_b171_11e9_9d8c_0f4ec7a9def4level0_row5\" class=\"row_heading level0 row5\" >Soziologie</th>\n",
       "                        <td id=\"T_5491ec2e_b171_11e9_9d8c_0f4ec7a9def4row5_col0\" class=\"data row5 col0\" >5.31%</td>\n",
       "                        <td id=\"T_5491ec2e_b171_11e9_9d8c_0f4ec7a9def4row5_col1\" class=\"data row5 col1\" >400,554 €</td>\n",
       "                        <td id=\"T_5491ec2e_b171_11e9_9d8c_0f4ec7a9def4row5_col2\" class=\"data row5 col2\" >6. Platz</td>\n",
       "                        <td id=\"T_5491ec2e_b171_11e9_9d8c_0f4ec7a9def4row5_col3\" class=\"data row5 col3\" ><img src=\"UKLSoziologie_Drittmittel.png\", width=250, height=200/></td>\n",
       "            </tr>\n",
       "    </tbody></table>"
      ],
      "text/plain": [
       "<IPython.core.display.HTML object>"
      ]
     },
     "metadata": {},
     "output_type": "display_data"
    },
    {
     "data": {
      "text/html": [
       "<h2 style=\"page-break-before: always;\">Universität Linz</h2>"
      ],
      "text/plain": [
       "<IPython.core.display.HTML object>"
      ]
     },
     "metadata": {},
     "output_type": "display_data"
    },
    {
     "data": {
      "text/html": [
       "<h3>Vergleichbare Universitäten in Publikationen- und Drittmittel-Struktur</h3><ul>"
      ],
      "text/plain": [
       "<IPython.core.display.HTML object>"
      ]
     },
     "metadata": {},
     "output_type": "display_data"
    },
    {
     "data": {
      "text/html": [
       "<li><strong>Keine.</strong> Die Universität Linz ist stark spezialisiert.</li>"
      ],
      "text/plain": [
       "<IPython.core.display.HTML object>"
      ]
     },
     "metadata": {},
     "output_type": "display_data"
    },
    {
     "data": {
      "text/html": [
       "</ul>"
      ],
      "text/plain": [
       "<IPython.core.display.HTML object>"
      ]
     },
     "metadata": {},
     "output_type": "display_data"
    },
    {
     "data": {
      "text/html": [
       "<h4>Vergleichbar bei der Publikationen-Struktur</h4>"
      ],
      "text/plain": [
       "<IPython.core.display.HTML object>"
      ]
     },
     "metadata": {},
     "output_type": "display_data"
    },
    {
     "data": {
      "text/html": [
       "<p><strong>Universität Klagenfurt</strong> (59.1%, wegen &auml;hnlicher interner Relevanz von Informatik, Wirtschaftswissenschaften, Mathematik), <strong>Universität Innsbruck</strong> (53.2%, wegen &auml;hnlicher interner Relevanz von Rechtswissenschaften, Physik, Astronomie, Erziehungswissenschaften), <strong>Universität für Weiterbildung Krems</strong> (52.1%, wegen &auml;hnlicher interner Relevanz von Rechtswissenschaften, Elektrotechnik, Elektronik, Informationstechnik, Wirtschaftswissenschaften)</p>"
      ],
      "text/plain": [
       "<IPython.core.display.HTML object>"
      ]
     },
     "metadata": {},
     "output_type": "display_data"
    },
    {
     "data": {
      "text/html": [
       "<img src=\"ULI_Publikationen_overview.png\" width=\"1000\" height=\"200\"/>"
      ],
      "text/plain": [
       "<IPython.core.display.HTML object>"
      ]
     },
     "metadata": {},
     "output_type": "display_data"
    },
    {
     "data": {
      "text/html": [
       "<h4>Vergleichbar bei der Drittmittel-Struktur</h4>"
      ],
      "text/plain": [
       "<IPython.core.display.HTML object>"
      ]
     },
     "metadata": {},
     "output_type": "display_data"
    },
    {
     "data": {
      "text/html": [
       "<p><strong>Technische Universität Wien</strong> (71.0%, wegen &auml;hnlicher interner Relevanz von Elektrotechnik, Elektronik, Informationstechnik, Physik, Astronomie, Informatik), <strong>Technische Universität Graz</strong> (51.1%, wegen &auml;hnlicher interner Relevanz von Elektrotechnik, Elektronik, Informationstechnik, Maschinenbau, Informatik)</p>"
      ],
      "text/plain": [
       "<IPython.core.display.HTML object>"
      ]
     },
     "metadata": {},
     "output_type": "display_data"
    },
    {
     "data": {
      "text/html": [
       "<img src=\"ULI_Drittmittel_overview.png\" width=\"1000\" height=\"200\"/>"
      ],
      "text/plain": [
       "<IPython.core.display.HTML object>"
      ]
     },
     "metadata": {},
     "output_type": "display_data"
    },
    {
     "data": {
      "text/html": [
       "<p><small>Universitäten mit einer Ähnlichkeit von weniger als 50% werden nicht angezeigt.</small></p>"
      ],
      "text/plain": [
       "<IPython.core.display.HTML object>"
      ]
     },
     "metadata": {},
     "output_type": "display_data"
    },
    {
     "data": {
      "text/html": [
       "<h3>Publikationen-Struktur der ULI</h3>"
      ],
      "text/plain": [
       "<IPython.core.display.HTML object>"
      ]
     },
     "metadata": {},
     "output_type": "display_data"
    },
    {
     "data": {
      "text/html": [
       "Angezeigt werden WZW, die zusammen 69.4% der Publikationen an der ULI ausmachen. Alle anderen WZW tragen je weniger als 4.6% bei. Die Spalte \"Ranking\" bezieht sich  auf den &ouml;sterreichweiten Vergleich der absoluten Werte pro WZW"
      ],
      "text/plain": [
       "<IPython.core.display.HTML object>"
      ]
     },
     "metadata": {},
     "output_type": "display_data"
    },
    {
     "data": {
      "text/html": [
       "<style  type=\"text/css\" >\n",
       "    #T_54e224c8_b171_11e9_9d8c_0f4ec7a9def4row0_col0 {\n",
       "            background-color:  white;\n",
       "        }    #T_54e224c8_b171_11e9_9d8c_0f4ec7a9def4row0_col1 {\n",
       "            background-color:  white;\n",
       "        }    #T_54e224c8_b171_11e9_9d8c_0f4ec7a9def4row0_col2 {\n",
       "            background-color:  white;\n",
       "        }    #T_54e224c8_b171_11e9_9d8c_0f4ec7a9def4row0_col3 {\n",
       "            background-color:  white;\n",
       "        }    #T_54e224c8_b171_11e9_9d8c_0f4ec7a9def4row1_col0 {\n",
       "            background-color:  yellow;\n",
       "        }    #T_54e224c8_b171_11e9_9d8c_0f4ec7a9def4row1_col1 {\n",
       "            background-color:  yellow;\n",
       "        }    #T_54e224c8_b171_11e9_9d8c_0f4ec7a9def4row1_col2 {\n",
       "            background-color:  yellow;\n",
       "        }    #T_54e224c8_b171_11e9_9d8c_0f4ec7a9def4row1_col3 {\n",
       "            background-color:  yellow;\n",
       "        }    #T_54e224c8_b171_11e9_9d8c_0f4ec7a9def4row2_col0 {\n",
       "            background-color:  yellow;\n",
       "        }    #T_54e224c8_b171_11e9_9d8c_0f4ec7a9def4row2_col1 {\n",
       "            background-color:  yellow;\n",
       "        }    #T_54e224c8_b171_11e9_9d8c_0f4ec7a9def4row2_col2 {\n",
       "            background-color:  yellow;\n",
       "        }    #T_54e224c8_b171_11e9_9d8c_0f4ec7a9def4row2_col3 {\n",
       "            background-color:  yellow;\n",
       "        }    #T_54e224c8_b171_11e9_9d8c_0f4ec7a9def4row3_col0 {\n",
       "            background-color:  yellow;\n",
       "        }    #T_54e224c8_b171_11e9_9d8c_0f4ec7a9def4row3_col1 {\n",
       "            background-color:  yellow;\n",
       "        }    #T_54e224c8_b171_11e9_9d8c_0f4ec7a9def4row3_col2 {\n",
       "            background-color:  yellow;\n",
       "        }    #T_54e224c8_b171_11e9_9d8c_0f4ec7a9def4row3_col3 {\n",
       "            background-color:  yellow;\n",
       "        }    #T_54e224c8_b171_11e9_9d8c_0f4ec7a9def4row4_col0 {\n",
       "            background-color:  yellow;\n",
       "        }    #T_54e224c8_b171_11e9_9d8c_0f4ec7a9def4row4_col1 {\n",
       "            background-color:  yellow;\n",
       "        }    #T_54e224c8_b171_11e9_9d8c_0f4ec7a9def4row4_col2 {\n",
       "            background-color:  yellow;\n",
       "        }    #T_54e224c8_b171_11e9_9d8c_0f4ec7a9def4row4_col3 {\n",
       "            background-color:  yellow;\n",
       "        }    #T_54e224c8_b171_11e9_9d8c_0f4ec7a9def4row5_col0 {\n",
       "            background-color:  white;\n",
       "        }    #T_54e224c8_b171_11e9_9d8c_0f4ec7a9def4row5_col1 {\n",
       "            background-color:  white;\n",
       "        }    #T_54e224c8_b171_11e9_9d8c_0f4ec7a9def4row5_col2 {\n",
       "            background-color:  white;\n",
       "        }    #T_54e224c8_b171_11e9_9d8c_0f4ec7a9def4row5_col3 {\n",
       "            background-color:  white;\n",
       "        }</style><table id=\"T_54e224c8_b171_11e9_9d8c_0f4ec7a9def4\" ><thead>    <tr>        <th class=\"blank level0\" ></th>        <th class=\"col_heading level0 col0\" >Intern</th>        <th class=\"col_heading level0 col1\" >Publikationen</th>        <th class=\"col_heading level0 col2\" >Ranking</th>        <th class=\"col_heading level0 col3\" >Universität im Vergleich</th>    </tr>    <tr>        <th class=\"index_name level0\" >WZW</th>        <th class=\"blank\" ></th>        <th class=\"blank\" ></th>        <th class=\"blank\" ></th>        <th class=\"blank\" ></th>    </tr></thead><tbody>\n",
       "                <tr>\n",
       "                        <th id=\"T_54e224c8_b171_11e9_9d8c_0f4ec7a9def4level0_row0\" class=\"row_heading level0 row0\" >Rechtswissenschaften</th>\n",
       "                        <td id=\"T_54e224c8_b171_11e9_9d8c_0f4ec7a9def4row0_col0\" class=\"data row0 col0\" >21.21%</td>\n",
       "                        <td id=\"T_54e224c8_b171_11e9_9d8c_0f4ec7a9def4row0_col1\" class=\"data row0 col1\" >526 Publikationen</td>\n",
       "                        <td id=\"T_54e224c8_b171_11e9_9d8c_0f4ec7a9def4row0_col2\" class=\"data row0 col2\" >5. Platz</td>\n",
       "                        <td id=\"T_54e224c8_b171_11e9_9d8c_0f4ec7a9def4row0_col3\" class=\"data row0 col3\" ><img src=\"ULIRechtswissenschaften_Publikationen.png\", width=250, height=200/></td>\n",
       "            </tr>\n",
       "            <tr>\n",
       "                        <th id=\"T_54e224c8_b171_11e9_9d8c_0f4ec7a9def4level0_row1\" class=\"row_heading level0 row1\" >Informatik</th>\n",
       "                        <td id=\"T_54e224c8_b171_11e9_9d8c_0f4ec7a9def4row1_col0\" class=\"data row1 col0\" >13.67%</td>\n",
       "                        <td id=\"T_54e224c8_b171_11e9_9d8c_0f4ec7a9def4row1_col1\" class=\"data row1 col1\" >339 Publikationen</td>\n",
       "                        <td id=\"T_54e224c8_b171_11e9_9d8c_0f4ec7a9def4row1_col2\" class=\"data row1 col2\" >3. Platz</td>\n",
       "                        <td id=\"T_54e224c8_b171_11e9_9d8c_0f4ec7a9def4row1_col3\" class=\"data row1 col3\" ><img src=\"ULIInformatik_Publikationen.png\", width=250, height=200/></td>\n",
       "            </tr>\n",
       "            <tr>\n",
       "                        <th id=\"T_54e224c8_b171_11e9_9d8c_0f4ec7a9def4level0_row2\" class=\"row_heading level0 row2\" >Wirtschaftswissenschaften</th>\n",
       "                        <td id=\"T_54e224c8_b171_11e9_9d8c_0f4ec7a9def4row2_col0\" class=\"data row2 col0\" >12.38%</td>\n",
       "                        <td id=\"T_54e224c8_b171_11e9_9d8c_0f4ec7a9def4row2_col1\" class=\"data row2 col1\" >307 Publikationen</td>\n",
       "                        <td id=\"T_54e224c8_b171_11e9_9d8c_0f4ec7a9def4row2_col2\" class=\"data row2 col2\" >2. Platz</td>\n",
       "                        <td id=\"T_54e224c8_b171_11e9_9d8c_0f4ec7a9def4row2_col3\" class=\"data row2 col3\" ><img src=\"ULIWirtschaftswissenschaften_Publikationen.png\", width=250, height=200/></td>\n",
       "            </tr>\n",
       "            <tr>\n",
       "                        <th id=\"T_54e224c8_b171_11e9_9d8c_0f4ec7a9def4level0_row3\" class=\"row_heading level0 row3\" >Mathematik</th>\n",
       "                        <td id=\"T_54e224c8_b171_11e9_9d8c_0f4ec7a9def4row3_col0\" class=\"data row3 col0\" >9.23%</td>\n",
       "                        <td id=\"T_54e224c8_b171_11e9_9d8c_0f4ec7a9def4row3_col1\" class=\"data row3 col1\" >229 Publikationen</td>\n",
       "                        <td id=\"T_54e224c8_b171_11e9_9d8c_0f4ec7a9def4row3_col2\" class=\"data row3 col2\" >3. Platz</td>\n",
       "                        <td id=\"T_54e224c8_b171_11e9_9d8c_0f4ec7a9def4row3_col3\" class=\"data row3 col3\" ><img src=\"ULIMathematik_Publikationen.png\", width=250, height=200/></td>\n",
       "            </tr>\n",
       "            <tr>\n",
       "                        <th id=\"T_54e224c8_b171_11e9_9d8c_0f4ec7a9def4level0_row4\" class=\"row_heading level0 row4\" >Elektrotechnik, Elektronik, Informationstechnik</th>\n",
       "                        <td id=\"T_54e224c8_b171_11e9_9d8c_0f4ec7a9def4row4_col0\" class=\"data row4 col0\" >8.31%</td>\n",
       "                        <td id=\"T_54e224c8_b171_11e9_9d8c_0f4ec7a9def4row4_col1\" class=\"data row4 col1\" >206 Publikationen</td>\n",
       "                        <td id=\"T_54e224c8_b171_11e9_9d8c_0f4ec7a9def4row4_col2\" class=\"data row4 col2\" >3. Platz</td>\n",
       "                        <td id=\"T_54e224c8_b171_11e9_9d8c_0f4ec7a9def4row4_col3\" class=\"data row4 col3\" ><img src=\"ULIElektrotechnik_Elektronik_Informationstechnik_Publikationen.png\", width=250, height=200/></td>\n",
       "            </tr>\n",
       "            <tr>\n",
       "                        <th id=\"T_54e224c8_b171_11e9_9d8c_0f4ec7a9def4level0_row5\" class=\"row_heading level0 row5\" >Physik, Astronomie</th>\n",
       "                        <td id=\"T_54e224c8_b171_11e9_9d8c_0f4ec7a9def4row5_col0\" class=\"data row5 col0\" >4.64%</td>\n",
       "                        <td id=\"T_54e224c8_b171_11e9_9d8c_0f4ec7a9def4row5_col1\" class=\"data row5 col1\" >115 Publikationen</td>\n",
       "                        <td id=\"T_54e224c8_b171_11e9_9d8c_0f4ec7a9def4row5_col2\" class=\"data row5 col2\" >6. Platz</td>\n",
       "                        <td id=\"T_54e224c8_b171_11e9_9d8c_0f4ec7a9def4row5_col3\" class=\"data row5 col3\" ><img src=\"ULIPhysik_Astronomie_Publikationen.png\", width=250, height=200/></td>\n",
       "            </tr>\n",
       "    </tbody></table>"
      ],
      "text/plain": [
       "<IPython.core.display.HTML object>"
      ]
     },
     "metadata": {},
     "output_type": "display_data"
    },
    {
     "data": {
      "text/html": [
       "<h3>Drittmittel-Struktur der ULI</h3>"
      ],
      "text/plain": [
       "<IPython.core.display.HTML object>"
      ]
     },
     "metadata": {},
     "output_type": "display_data"
    },
    {
     "data": {
      "text/html": [
       "Angezeigt werden WZW, die zusammen 72.1% der Drittmittel an der ULI ausmachen. Alle anderen WZW tragen je weniger als 9.5% bei. Die Spalte \"Ranking\" bezieht sich  auf den &ouml;sterreichweiten Vergleich der absoluten Werte pro WZW"
      ],
      "text/plain": [
       "<IPython.core.display.HTML object>"
      ]
     },
     "metadata": {},
     "output_type": "display_data"
    },
    {
     "data": {
      "text/html": [
       "<style  type=\"text/css\" >\n",
       "    #T_551ff654_b171_11e9_9d8c_0f4ec7a9def4row0_col0 {\n",
       "            background-color:  yellow;\n",
       "        }    #T_551ff654_b171_11e9_9d8c_0f4ec7a9def4row0_col1 {\n",
       "            background-color:  yellow;\n",
       "        }    #T_551ff654_b171_11e9_9d8c_0f4ec7a9def4row0_col2 {\n",
       "            background-color:  yellow;\n",
       "        }    #T_551ff654_b171_11e9_9d8c_0f4ec7a9def4row0_col3 {\n",
       "            background-color:  yellow;\n",
       "        }    #T_551ff654_b171_11e9_9d8c_0f4ec7a9def4row1_col0 {\n",
       "            background-color:  yellow;\n",
       "        }    #T_551ff654_b171_11e9_9d8c_0f4ec7a9def4row1_col1 {\n",
       "            background-color:  yellow;\n",
       "        }    #T_551ff654_b171_11e9_9d8c_0f4ec7a9def4row1_col2 {\n",
       "            background-color:  yellow;\n",
       "        }    #T_551ff654_b171_11e9_9d8c_0f4ec7a9def4row1_col3 {\n",
       "            background-color:  yellow;\n",
       "        }    #T_551ff654_b171_11e9_9d8c_0f4ec7a9def4row2_col0 {\n",
       "            background-color:  white;\n",
       "        }    #T_551ff654_b171_11e9_9d8c_0f4ec7a9def4row2_col1 {\n",
       "            background-color:  white;\n",
       "        }    #T_551ff654_b171_11e9_9d8c_0f4ec7a9def4row2_col2 {\n",
       "            background-color:  white;\n",
       "        }    #T_551ff654_b171_11e9_9d8c_0f4ec7a9def4row2_col3 {\n",
       "            background-color:  white;\n",
       "        }    #T_551ff654_b171_11e9_9d8c_0f4ec7a9def4row3_col0 {\n",
       "            background-color:  white;\n",
       "        }    #T_551ff654_b171_11e9_9d8c_0f4ec7a9def4row3_col1 {\n",
       "            background-color:  white;\n",
       "        }    #T_551ff654_b171_11e9_9d8c_0f4ec7a9def4row3_col2 {\n",
       "            background-color:  white;\n",
       "        }    #T_551ff654_b171_11e9_9d8c_0f4ec7a9def4row3_col3 {\n",
       "            background-color:  white;\n",
       "        }    #T_551ff654_b171_11e9_9d8c_0f4ec7a9def4row4_col0 {\n",
       "            background-color:  white;\n",
       "        }    #T_551ff654_b171_11e9_9d8c_0f4ec7a9def4row4_col1 {\n",
       "            background-color:  white;\n",
       "        }    #T_551ff654_b171_11e9_9d8c_0f4ec7a9def4row4_col2 {\n",
       "            background-color:  white;\n",
       "        }    #T_551ff654_b171_11e9_9d8c_0f4ec7a9def4row4_col3 {\n",
       "            background-color:  white;\n",
       "        }</style><table id=\"T_551ff654_b171_11e9_9d8c_0f4ec7a9def4\" ><thead>    <tr>        <th class=\"blank level0\" ></th>        <th class=\"col_heading level0 col0\" >Intern</th>        <th class=\"col_heading level0 col1\" >Drittmittel</th>        <th class=\"col_heading level0 col2\" >Ranking</th>        <th class=\"col_heading level0 col3\" >Universität im Vergleich</th>    </tr>    <tr>        <th class=\"index_name level0\" >WZW</th>        <th class=\"blank\" ></th>        <th class=\"blank\" ></th>        <th class=\"blank\" ></th>        <th class=\"blank\" ></th>    </tr></thead><tbody>\n",
       "                <tr>\n",
       "                        <th id=\"T_551ff654_b171_11e9_9d8c_0f4ec7a9def4level0_row0\" class=\"row_heading level0 row0\" >Elektrotechnik, Elektronik, Informationstechnik</th>\n",
       "                        <td id=\"T_551ff654_b171_11e9_9d8c_0f4ec7a9def4row0_col0\" class=\"data row0 col0\" >18.06%</td>\n",
       "                        <td id=\"T_551ff654_b171_11e9_9d8c_0f4ec7a9def4row0_col1\" class=\"data row0 col1\" >5,283,509 €</td>\n",
       "                        <td id=\"T_551ff654_b171_11e9_9d8c_0f4ec7a9def4row0_col2\" class=\"data row0 col2\" >3. Platz</td>\n",
       "                        <td id=\"T_551ff654_b171_11e9_9d8c_0f4ec7a9def4row0_col3\" class=\"data row0 col3\" ><img src=\"ULIElektrotechnik_Elektronik_Informationstechnik_Drittmittel.png\", width=250, height=200/></td>\n",
       "            </tr>\n",
       "            <tr>\n",
       "                        <th id=\"T_551ff654_b171_11e9_9d8c_0f4ec7a9def4level0_row1\" class=\"row_heading level0 row1\" >Informatik</th>\n",
       "                        <td id=\"T_551ff654_b171_11e9_9d8c_0f4ec7a9def4row1_col0\" class=\"data row1 col0\" >16.54%</td>\n",
       "                        <td id=\"T_551ff654_b171_11e9_9d8c_0f4ec7a9def4row1_col1\" class=\"data row1 col1\" >4,838,635 €</td>\n",
       "                        <td id=\"T_551ff654_b171_11e9_9d8c_0f4ec7a9def4row1_col2\" class=\"data row1 col2\" >3. Platz</td>\n",
       "                        <td id=\"T_551ff654_b171_11e9_9d8c_0f4ec7a9def4row1_col3\" class=\"data row1 col3\" ><img src=\"ULIInformatik_Drittmittel.png\", width=250, height=200/></td>\n",
       "            </tr>\n",
       "            <tr>\n",
       "                        <th id=\"T_551ff654_b171_11e9_9d8c_0f4ec7a9def4level0_row2\" class=\"row_heading level0 row2\" >Physik, Astronomie</th>\n",
       "                        <td id=\"T_551ff654_b171_11e9_9d8c_0f4ec7a9def4row2_col0\" class=\"data row2 col0\" >14.77%</td>\n",
       "                        <td id=\"T_551ff654_b171_11e9_9d8c_0f4ec7a9def4row2_col1\" class=\"data row2 col1\" >4,321,813 €</td>\n",
       "                        <td id=\"T_551ff654_b171_11e9_9d8c_0f4ec7a9def4row2_col2\" class=\"data row2 col2\" >4. Platz</td>\n",
       "                        <td id=\"T_551ff654_b171_11e9_9d8c_0f4ec7a9def4row2_col3\" class=\"data row2 col3\" ><img src=\"ULIPhysik_Astronomie_Drittmittel.png\", width=250, height=200/></td>\n",
       "            </tr>\n",
       "            <tr>\n",
       "                        <th id=\"T_551ff654_b171_11e9_9d8c_0f4ec7a9def4level0_row3\" class=\"row_heading level0 row3\" >Mathematik</th>\n",
       "                        <td id=\"T_551ff654_b171_11e9_9d8c_0f4ec7a9def4row3_col0\" class=\"data row3 col0\" >13.20%</td>\n",
       "                        <td id=\"T_551ff654_b171_11e9_9d8c_0f4ec7a9def4row3_col1\" class=\"data row3 col1\" >3,861,260 €</td>\n",
       "                        <td id=\"T_551ff654_b171_11e9_9d8c_0f4ec7a9def4row3_col2\" class=\"data row3 col2\" >4. Platz</td>\n",
       "                        <td id=\"T_551ff654_b171_11e9_9d8c_0f4ec7a9def4row3_col3\" class=\"data row3 col3\" ><img src=\"ULIMathematik_Drittmittel.png\", width=250, height=200/></td>\n",
       "            </tr>\n",
       "            <tr>\n",
       "                        <th id=\"T_551ff654_b171_11e9_9d8c_0f4ec7a9def4level0_row4\" class=\"row_heading level0 row4\" >Maschinenbau</th>\n",
       "                        <td id=\"T_551ff654_b171_11e9_9d8c_0f4ec7a9def4row4_col0\" class=\"data row4 col0\" >9.53%</td>\n",
       "                        <td id=\"T_551ff654_b171_11e9_9d8c_0f4ec7a9def4row4_col1\" class=\"data row4 col1\" >2,788,752 €</td>\n",
       "                        <td id=\"T_551ff654_b171_11e9_9d8c_0f4ec7a9def4row4_col2\" class=\"data row4 col2\" >4. Platz</td>\n",
       "                        <td id=\"T_551ff654_b171_11e9_9d8c_0f4ec7a9def4row4_col3\" class=\"data row4 col3\" ><img src=\"ULIMaschinenbau_Drittmittel.png\", width=250, height=200/></td>\n",
       "            </tr>\n",
       "    </tbody></table>"
      ],
      "text/plain": [
       "<IPython.core.display.HTML object>"
      ]
     },
     "metadata": {},
     "output_type": "display_data"
    },
    {
     "data": {
      "text/html": [
       "<h2 style=\"page-break-before: always;\">Universität Mozarteum Salzburg</h2>"
      ],
      "text/plain": [
       "<IPython.core.display.HTML object>"
      ]
     },
     "metadata": {},
     "output_type": "display_data"
    },
    {
     "data": {
      "text/html": [
       "<h3>Vergleichbare Universitäten in Publikationen- und Drittmittel-Struktur</h3><ul>"
      ],
      "text/plain": [
       "<IPython.core.display.HTML object>"
      ]
     },
     "metadata": {},
     "output_type": "display_data"
    },
    {
     "data": {
      "text/html": [
       "<li><strong>Keine.</strong> Die Universität Mozarteum Salzburg ist stark spezialisiert.</li>"
      ],
      "text/plain": [
       "<IPython.core.display.HTML object>"
      ]
     },
     "metadata": {},
     "output_type": "display_data"
    },
    {
     "data": {
      "text/html": [
       "</ul>"
      ],
      "text/plain": [
       "<IPython.core.display.HTML object>"
      ]
     },
     "metadata": {},
     "output_type": "display_data"
    },
    {
     "data": {
      "text/html": [
       "<h4>Vergleichbar bei der Publikationen-Struktur</h4>"
      ],
      "text/plain": [
       "<IPython.core.display.HTML object>"
      ]
     },
     "metadata": {},
     "output_type": "display_data"
    },
    {
     "data": {
      "text/html": [
       "<p>Die Universität Mozarteum Salzburg ist im Bereich Publikationen spezialisiert.<br/><strong>Keine</strong> andere Universität ähnelt der Universität Mozarteum Salzburg in der Publikationen-Struktur in auffälliger Weise.</p>"
      ],
      "text/plain": [
       "<IPython.core.display.HTML object>"
      ]
     },
     "metadata": {},
     "output_type": "display_data"
    },
    {
     "data": {
      "text/html": [
       "<img src=\"UMS_Publikationen_overview.png\" width=\"1000\" height=\"200\"/>"
      ],
      "text/plain": [
       "<IPython.core.display.HTML object>"
      ]
     },
     "metadata": {},
     "output_type": "display_data"
    },
    {
     "data": {
      "text/html": [
       "<h4>Vergleichbar bei der Drittmittel-Struktur</h4>"
      ],
      "text/plain": [
       "<IPython.core.display.HTML object>"
      ]
     },
     "metadata": {},
     "output_type": "display_data"
    },
    {
     "data": {
      "text/html": [
       "<p>Die Universität Mozarteum Salzburg ist im Bereich Drittmittel spezialisiert.<br/><strong>Keine</strong> andere Universität ähnelt der Universität Mozarteum Salzburg in der Drittmittel-Struktur in auffälliger Weise.</p>"
      ],
      "text/plain": [
       "<IPython.core.display.HTML object>"
      ]
     },
     "metadata": {},
     "output_type": "display_data"
    },
    {
     "data": {
      "text/html": [
       "<img src=\"UMS_Drittmittel_overview.png\" width=\"1000\" height=\"200\"/>"
      ],
      "text/plain": [
       "<IPython.core.display.HTML object>"
      ]
     },
     "metadata": {},
     "output_type": "display_data"
    },
    {
     "data": {
      "text/html": [
       "<p><small>Universitäten mit einer Ähnlichkeit von weniger als 50% werden nicht angezeigt.</small></p>"
      ],
      "text/plain": [
       "<IPython.core.display.HTML object>"
      ]
     },
     "metadata": {},
     "output_type": "display_data"
    },
    {
     "data": {
      "text/html": [
       "<h3>Publikationen-Struktur der UMS</h3>"
      ],
      "text/plain": [
       "<IPython.core.display.HTML object>"
      ]
     },
     "metadata": {},
     "output_type": "display_data"
    },
    {
     "data": {
      "text/html": [
       "Angezeigt werden WZW, die zusammen 73.3% der Publikationen an der UMS ausmachen. Alle anderen WZW tragen je weniger als 11.2% bei. Die Spalte \"Ranking\" bezieht sich  auf den &ouml;sterreichweiten Vergleich der absoluten Werte pro WZW"
      ],
      "text/plain": [
       "<IPython.core.display.HTML object>"
      ]
     },
     "metadata": {},
     "output_type": "display_data"
    },
    {
     "data": {
      "text/html": [
       "<style  type=\"text/css\" >\n",
       "    #T_5554a5c0_b171_11e9_9d8c_0f4ec7a9def4row0_col0 {\n",
       "            background-color:  green;\n",
       "        }    #T_5554a5c0_b171_11e9_9d8c_0f4ec7a9def4row0_col1 {\n",
       "            background-color:  green;\n",
       "        }    #T_5554a5c0_b171_11e9_9d8c_0f4ec7a9def4row0_col2 {\n",
       "            background-color:  green;\n",
       "        }    #T_5554a5c0_b171_11e9_9d8c_0f4ec7a9def4row0_col3 {\n",
       "            background-color:  green;\n",
       "        }    #T_5554a5c0_b171_11e9_9d8c_0f4ec7a9def4row1_col0 {\n",
       "            background-color:  yellow;\n",
       "        }    #T_5554a5c0_b171_11e9_9d8c_0f4ec7a9def4row1_col1 {\n",
       "            background-color:  yellow;\n",
       "        }    #T_5554a5c0_b171_11e9_9d8c_0f4ec7a9def4row1_col2 {\n",
       "            background-color:  yellow;\n",
       "        }    #T_5554a5c0_b171_11e9_9d8c_0f4ec7a9def4row1_col3 {\n",
       "            background-color:  yellow;\n",
       "        }    #T_5554a5c0_b171_11e9_9d8c_0f4ec7a9def4row2_col0 {\n",
       "            background-color:  green;\n",
       "        }    #T_5554a5c0_b171_11e9_9d8c_0f4ec7a9def4row2_col1 {\n",
       "            background-color:  green;\n",
       "        }    #T_5554a5c0_b171_11e9_9d8c_0f4ec7a9def4row2_col2 {\n",
       "            background-color:  green;\n",
       "        }    #T_5554a5c0_b171_11e9_9d8c_0f4ec7a9def4row2_col3 {\n",
       "            background-color:  green;\n",
       "        }    #T_5554a5c0_b171_11e9_9d8c_0f4ec7a9def4row3_col0 {\n",
       "            background-color:  green;\n",
       "        }    #T_5554a5c0_b171_11e9_9d8c_0f4ec7a9def4row3_col1 {\n",
       "            background-color:  green;\n",
       "        }    #T_5554a5c0_b171_11e9_9d8c_0f4ec7a9def4row3_col2 {\n",
       "            background-color:  green;\n",
       "        }    #T_5554a5c0_b171_11e9_9d8c_0f4ec7a9def4row3_col3 {\n",
       "            background-color:  green;\n",
       "        }</style><table id=\"T_5554a5c0_b171_11e9_9d8c_0f4ec7a9def4\" ><thead>    <tr>        <th class=\"blank level0\" ></th>        <th class=\"col_heading level0 col0\" >Intern</th>        <th class=\"col_heading level0 col1\" >Publikationen</th>        <th class=\"col_heading level0 col2\" >Ranking</th>        <th class=\"col_heading level0 col3\" >Universität im Vergleich</th>    </tr>    <tr>        <th class=\"index_name level0\" >WZW</th>        <th class=\"blank\" ></th>        <th class=\"blank\" ></th>        <th class=\"blank\" ></th>        <th class=\"blank\" ></th>    </tr></thead><tbody>\n",
       "                <tr>\n",
       "                        <th id=\"T_5554a5c0_b171_11e9_9d8c_0f4ec7a9def4level0_row0\" class=\"row_heading level0 row0\" >Bühnengestaltung</th>\n",
       "                        <td id=\"T_5554a5c0_b171_11e9_9d8c_0f4ec7a9def4row0_col0\" class=\"data row0 col0\" >33.59%</td>\n",
       "                        <td id=\"T_5554a5c0_b171_11e9_9d8c_0f4ec7a9def4row0_col1\" class=\"data row0 col1\" >132 Publikationen</td>\n",
       "                        <td id=\"T_5554a5c0_b171_11e9_9d8c_0f4ec7a9def4row0_col2\" class=\"data row0 col2\" >1. Platz</td>\n",
       "                        <td id=\"T_5554a5c0_b171_11e9_9d8c_0f4ec7a9def4row0_col3\" class=\"data row0 col3\" ><img src=\"UMSBühnengestaltung_Publikationen.png\", width=250, height=200/></td>\n",
       "            </tr>\n",
       "            <tr>\n",
       "                        <th id=\"T_5554a5c0_b171_11e9_9d8c_0f4ec7a9def4level0_row1\" class=\"row_heading level0 row1\" >Kunstwissenschaften</th>\n",
       "                        <td id=\"T_5554a5c0_b171_11e9_9d8c_0f4ec7a9def4row1_col0\" class=\"data row1 col0\" >17.30%</td>\n",
       "                        <td id=\"T_5554a5c0_b171_11e9_9d8c_0f4ec7a9def4row1_col1\" class=\"data row1 col1\" >68 Publikationen</td>\n",
       "                        <td id=\"T_5554a5c0_b171_11e9_9d8c_0f4ec7a9def4row1_col2\" class=\"data row1 col2\" >3. Platz</td>\n",
       "                        <td id=\"T_5554a5c0_b171_11e9_9d8c_0f4ec7a9def4row1_col3\" class=\"data row1 col3\" ><img src=\"UMSKunstwissenschaften_Publikationen.png\", width=250, height=200/></td>\n",
       "            </tr>\n",
       "            <tr>\n",
       "                        <th id=\"T_5554a5c0_b171_11e9_9d8c_0f4ec7a9def4level0_row2\" class=\"row_heading level0 row2\" >Interpretation - instrumental</th>\n",
       "                        <td id=\"T_5554a5c0_b171_11e9_9d8c_0f4ec7a9def4row2_col0\" class=\"data row2 col0\" >11.20%</td>\n",
       "                        <td id=\"T_5554a5c0_b171_11e9_9d8c_0f4ec7a9def4row2_col1\" class=\"data row2 col1\" >44 Publikationen</td>\n",
       "                        <td id=\"T_5554a5c0_b171_11e9_9d8c_0f4ec7a9def4row2_col2\" class=\"data row2 col2\" >1. Platz</td>\n",
       "                        <td id=\"T_5554a5c0_b171_11e9_9d8c_0f4ec7a9def4row2_col3\" class=\"data row2 col3\" ><img src=\"UMSInterpretation_-_instrumental_Publikationen.png\", width=250, height=200/></td>\n",
       "            </tr>\n",
       "            <tr>\n",
       "                        <th id=\"T_5554a5c0_b171_11e9_9d8c_0f4ec7a9def4level0_row3\" class=\"row_heading level0 row3\" >Pädagogik / Vermittlung</th>\n",
       "                        <td id=\"T_5554a5c0_b171_11e9_9d8c_0f4ec7a9def4row3_col0\" class=\"data row3 col0\" >11.20%</td>\n",
       "                        <td id=\"T_5554a5c0_b171_11e9_9d8c_0f4ec7a9def4row3_col1\" class=\"data row3 col1\" >44 Publikationen</td>\n",
       "                        <td id=\"T_5554a5c0_b171_11e9_9d8c_0f4ec7a9def4row3_col2\" class=\"data row3 col2\" >1. Platz</td>\n",
       "                        <td id=\"T_5554a5c0_b171_11e9_9d8c_0f4ec7a9def4row3_col3\" class=\"data row3 col3\" ><img src=\"UMSPädagogik__Vermittlung_Publikationen.png\", width=250, height=200/></td>\n",
       "            </tr>\n",
       "    </tbody></table>"
      ],
      "text/plain": [
       "<IPython.core.display.HTML object>"
      ]
     },
     "metadata": {},
     "output_type": "display_data"
    },
    {
     "data": {
      "text/html": [
       "<h3>Drittmittel-Struktur der UMS</h3>"
      ],
      "text/plain": [
       "<IPython.core.display.HTML object>"
      ]
     },
     "metadata": {},
     "output_type": "display_data"
    },
    {
     "data": {
      "text/html": [
       "Angezeigt werden WZW, die zusammen 72.9% der Drittmittel an der UMS ausmachen. Alle anderen WZW tragen je weniger als 15.1% bei. Die Spalte \"Ranking\" bezieht sich  auf den &ouml;sterreichweiten Vergleich der absoluten Werte pro WZW"
      ],
      "text/plain": [
       "<IPython.core.display.HTML object>"
      ]
     },
     "metadata": {},
     "output_type": "display_data"
    },
    {
     "data": {
      "text/html": [
       "<style  type=\"text/css\" >\n",
       "    #T_556eb28a_b171_11e9_9d8c_0f4ec7a9def4row0_col0 {\n",
       "            background-color:  green;\n",
       "        }    #T_556eb28a_b171_11e9_9d8c_0f4ec7a9def4row0_col1 {\n",
       "            background-color:  green;\n",
       "        }    #T_556eb28a_b171_11e9_9d8c_0f4ec7a9def4row0_col2 {\n",
       "            background-color:  green;\n",
       "        }    #T_556eb28a_b171_11e9_9d8c_0f4ec7a9def4row0_col3 {\n",
       "            background-color:  green;\n",
       "        }    #T_556eb28a_b171_11e9_9d8c_0f4ec7a9def4row1_col0 {\n",
       "            background-color:  green;\n",
       "        }    #T_556eb28a_b171_11e9_9d8c_0f4ec7a9def4row1_col1 {\n",
       "            background-color:  green;\n",
       "        }    #T_556eb28a_b171_11e9_9d8c_0f4ec7a9def4row1_col2 {\n",
       "            background-color:  green;\n",
       "        }    #T_556eb28a_b171_11e9_9d8c_0f4ec7a9def4row1_col3 {\n",
       "            background-color:  green;\n",
       "        }</style><table id=\"T_556eb28a_b171_11e9_9d8c_0f4ec7a9def4\" ><thead>    <tr>        <th class=\"blank level0\" ></th>        <th class=\"col_heading level0 col0\" >Intern</th>        <th class=\"col_heading level0 col1\" >Drittmittel</th>        <th class=\"col_heading level0 col2\" >Ranking</th>        <th class=\"col_heading level0 col3\" >Universität im Vergleich</th>    </tr>    <tr>        <th class=\"index_name level0\" >WZW</th>        <th class=\"blank\" ></th>        <th class=\"blank\" ></th>        <th class=\"blank\" ></th>        <th class=\"blank\" ></th>    </tr></thead><tbody>\n",
       "                <tr>\n",
       "                        <th id=\"T_556eb28a_b171_11e9_9d8c_0f4ec7a9def4level0_row0\" class=\"row_heading level0 row0\" >Interpretation - instrumental</th>\n",
       "                        <td id=\"T_556eb28a_b171_11e9_9d8c_0f4ec7a9def4row0_col0\" class=\"data row0 col0\" >57.74%</td>\n",
       "                        <td id=\"T_556eb28a_b171_11e9_9d8c_0f4ec7a9def4row0_col1\" class=\"data row0 col1\" >798,954 €</td>\n",
       "                        <td id=\"T_556eb28a_b171_11e9_9d8c_0f4ec7a9def4row0_col2\" class=\"data row0 col2\" >1. Platz</td>\n",
       "                        <td id=\"T_556eb28a_b171_11e9_9d8c_0f4ec7a9def4row0_col3\" class=\"data row0 col3\" ><img src=\"UMSInterpretation_-_instrumental_Drittmittel.png\", width=250, height=200/></td>\n",
       "            </tr>\n",
       "            <tr>\n",
       "                        <th id=\"T_556eb28a_b171_11e9_9d8c_0f4ec7a9def4level0_row1\" class=\"row_heading level0 row1\" >Pädagogik / Vermittlung</th>\n",
       "                        <td id=\"T_556eb28a_b171_11e9_9d8c_0f4ec7a9def4row1_col0\" class=\"data row1 col0\" >15.12%</td>\n",
       "                        <td id=\"T_556eb28a_b171_11e9_9d8c_0f4ec7a9def4row1_col1\" class=\"data row1 col1\" >209,177 €</td>\n",
       "                        <td id=\"T_556eb28a_b171_11e9_9d8c_0f4ec7a9def4row1_col2\" class=\"data row1 col2\" >1. Platz</td>\n",
       "                        <td id=\"T_556eb28a_b171_11e9_9d8c_0f4ec7a9def4row1_col3\" class=\"data row1 col3\" ><img src=\"UMSPädagogik__Vermittlung_Drittmittel.png\", width=250, height=200/></td>\n",
       "            </tr>\n",
       "    </tbody></table>"
      ],
      "text/plain": [
       "<IPython.core.display.HTML object>"
      ]
     },
     "metadata": {},
     "output_type": "display_data"
    },
    {
     "data": {
      "text/html": [
       "<h2 style=\"page-break-before: always;\">Universität Salzburg</h2>"
      ],
      "text/plain": [
       "<IPython.core.display.HTML object>"
      ]
     },
     "metadata": {},
     "output_type": "display_data"
    },
    {
     "data": {
      "text/html": [
       "<h3>Vergleichbare Universitäten in Publikationen- und Drittmittel-Struktur</h3><ul>"
      ],
      "text/plain": [
       "<IPython.core.display.HTML object>"
      ]
     },
     "metadata": {},
     "output_type": "display_data"
    },
    {
     "data": {
      "text/html": [
       "<li style=\"margin-bottom: 5px;\">Universität Innsbruck</li>"
      ],
      "text/plain": [
       "<IPython.core.display.HTML object>"
      ]
     },
     "metadata": {},
     "output_type": "display_data"
    }
   ],
   "source": [
    "%matplotlib inline \n",
    "\n",
    "from pandas import Series \n",
    "import pandas as pd \n",
    "import numpy as np\n",
    "from IPython.display import HTML\n",
    "from IPython.display import Image\n",
    "import matplotlib.pyplot as plt\n",
    "from matplotlib import pyplot, transforms\n",
    "from textwrap import wrap\n",
    "import re\n",
    "\n",
    "#data = pd.read_csv('1.C.1.csv', sep=';', index_col=[0, 1, 2, 3])\n",
    "#data.sort_index(inplace=True)\n",
    "\n",
    "#idx = pd.IndexSlice\n",
    "#tmp = data.loc[idx[:, 'Psychologie', :, 2018], :]\n",
    "\n",
    "#print(tmp.index.get_level_values('university').unique())\n",
    "#display(data.loc['FWF'].xs(2018, level='year'))\n",
    "#display(data.xs(2018, level='year'))\n",
    "\n",
    "def get_valid_filename(s):\n",
    "    s = str(s).strip().replace(' ', '_')\n",
    "    return re.sub(r'(?u)[^-\\w.]', '', s)\n",
    "            \n",
    "university_short_forms = { 'Universität Wien': 'UWI',\n",
    "                           'Universität Graz': 'UGR',\n",
    "                           'Universität Innsbruck': 'UIN',\n",
    "                           'Universität Salzburg': 'USA',\n",
    "                           'Universität Klagenfurt': 'UKL',\n",
    "                           'Universität für Bodenkultur Wien': 'BKW',\n",
    "                           'Universität für künstlerische und industrielle Gestaltung Linz': 'UGL',\n",
    "                           'Universität für angewandte Kunst Wien': 'UAW',\n",
    "                           'Universität Mozarteum Salzburg': 'UMS',\n",
    "                           'Medizinische Universität Wien': 'MUW',\n",
    "                           'Medizinische Universität Graz': 'MUG',\n",
    "                           'Medizinische Universität Innsbruck': 'MUI',\n",
    "                           'Universität Linz': 'ULI',\n",
    "                           'Akademie der bildenden Künste Wien': 'ABW',\n",
    "                           'Technische Universität Wien': 'TUW',\n",
    "                           'Technische Universität Graz': 'TUG',\n",
    "                           'Veterinärmedizinische Universität Wien': 'VMW',\n",
    "                           'Montanuniversität Leoben': 'MUL',\n",
    "                           'Universität für Weiterbildung Krems': 'UWK',\n",
    "                           'Wirtschaftsuniversität Wien': 'WUW',\n",
    "                           'Universität für Musik und darstellende Kunst Wien': 'MKW',\n",
    "                           'Universität für Musik und darstellende Kunst Graz': 'MKG'\n",
    "                         }\n",
    "\n",
    "def shorten(name):\n",
    "    if name in university_short_forms:\n",
    "        return university_short_forms[name]\n",
    "    else:\n",
    "        return name\n",
    "\n",
    "\n",
    "class Dimension:\n",
    "    @classmethod\n",
    "    def create(cls, dataframe, dimensions):\n",
    "        dims = dict()\n",
    "        for dim in dimensions:\n",
    "            assert dim in dataframe.index.names, \"There is no index '\" + dim + \"'\"\n",
    "            cats = dataframe.index.get_level_values(dim).unique()\n",
    "            dims[dim] = Dimension(dim, cats.values)\n",
    "        return dims\n",
    "    \n",
    "    def __init__(self, name, categories):\n",
    "        self.__name = name\n",
    "        self.__categories = categories   \n",
    "    @property\n",
    "    def name (self):\n",
    "        return self.__name\n",
    "    @property\n",
    "    def categories(self):\n",
    "        return self.__categories  \n",
    "    def __str__(self):\n",
    "        return self.name\n",
    "        \n",
    "class Datasheet:\n",
    "    def __init__(self, filename, dimensions, timepoint_name, university_name, value_name):\n",
    "        dataframe = pd.read_csv(filename, sep=';', index_col=list(range(len(dimensions)+2)))        \n",
    "        dataframe.columns = [value_name]\n",
    "        dataframe.sort_index(inplace=True)\n",
    "\n",
    "        assert timepoint_name in dataframe.index.names, \"There is no index '\" + timepoint_name + \"'\"\n",
    "        assert university_name in dataframe.index.names, \"There is no index '\" + university_name + \"'\"\n",
    "        assert value_name in dataframe, \"There is no colum with valid data called '\" + value_name + \"'\"\n",
    "        \n",
    "        self.__dataframe = dataframe\n",
    "        self.__timepoint_idx = timepoint_name\n",
    "        self.__university_idx = university_name\n",
    "        self.__value_column = value_name       \n",
    "        self.__dimensions = Dimension.create(dataframe, dimensions + [university_name, timepoint_name])\n",
    "        self.__timepoints = dataframe.index.get_level_values(timepoint_name).unique()\n",
    "        self.__universities = dataframe.index.get_level_values(university_name).unique()\n",
    "        self.__recent_timepoint = self.__timepoints.max()\n",
    "                \n",
    "    @property\n",
    "    def value_column(self):\n",
    "        return self.__value_column\n",
    "    @property\n",
    "    def university_idx(self):\n",
    "        return self.__university_idx\n",
    "    @property\n",
    "    def timepoint_idx(self):\n",
    "        return self.__timepoint_idx\n",
    "    @property\n",
    "    def dimensions(self):\n",
    "        return self.__dimensions\n",
    "    @property\n",
    "    def most_recent(self):\n",
    "        return self.__recent_timepoint\n",
    "    @property\n",
    "    def universities(self):\n",
    "        return self.__universities\n",
    "    \n",
    "    def only(self, conditions):\n",
    "        df = self.__dataframe\n",
    "        if conditions is None:\n",
    "            return df\n",
    "        slices = list()\n",
    "        for dim in self.dimensions.keys():\n",
    "            if self.dimensions[dim].name in conditions.keys():\n",
    "                slices.append(conditions[self.dimensions[dim].name])\n",
    "            else:\n",
    "                slices.append(slice(None))\n",
    "        return df.loc[tuple(slices), :]\n",
    "        \n",
    "    def analyze(self, description, about, filtering=None):\n",
    "        return Analysis(self, description, self.dimensions[about], self.only(filtering) \\\n",
    "                            .sum(level = [self.dimensions[about].name, self.university_idx]))\n",
    "\n",
    "\n",
    "class Analysis:\n",
    "    def __init__(self, sheet, properties, about, table):\n",
    "        self.__sheet = sheet\n",
    "        self.__table = table.unstack(about.name, fill_value=0)\n",
    "        self.__about = about\n",
    "        self.__props = properties\n",
    "        \n",
    "        self.__sums = table.sum(axis='columns')\n",
    "        self.__sums.name = sheet.value_column\n",
    "        self.__totals = table.sum(level=[about.name])[sheet.value_column]\n",
    "        self.__grand_total = table.sum()\n",
    "        self.__grand_total.name = 'grand total'\n",
    "        \n",
    "        assert self.__grand_total[sheet.value_column] == self.__sums.sum()\n",
    "        \n",
    "        self.__structure = Structure(self)\n",
    "        self.__ranking = Ranking(self)\n",
    "\n",
    "               \n",
    "    @property\n",
    "    def sheet(self):\n",
    "        return self.__sheet\n",
    "    @property\n",
    "    def table(self):\n",
    "        return self.__table\n",
    "    @property\n",
    "    def horizontal_sums(self):\n",
    "        return self.__sums\n",
    "    @property\n",
    "    def sums(self):\n",
    "        return self.horizontal_sums\n",
    "    @property\n",
    "    def vertical_sums(self):\n",
    "        return self.__totals\n",
    "    @property\n",
    "    def totals(self):\n",
    "        return self.vertical_sums\n",
    "    @property\n",
    "    def dim(self):\n",
    "        return self.__about\n",
    "    @property\n",
    "    def description(self):\n",
    "        return self.__props['description']\n",
    "    @property\n",
    "    def about(self):\n",
    "        return self.__props['about']\n",
    "    @property\n",
    "    def scale_description(self):\n",
    "        return self.__props['scale_description']\n",
    "    \n",
    "    def scale(self, value):\n",
    "        return self.__props['scale'](value)\n",
    "    def scale_format(self, value):\n",
    "        return self.__props['scale_format'].format(self.scale(value))\n",
    "    def format(self, value):\n",
    "        return self.__props['format'].format(value)\n",
    "    @property\n",
    "    def value_format(self):\n",
    "        return self.__props['format']\n",
    "    \n",
    "    \n",
    "    @property\n",
    "    def grand_total(self):\n",
    "        return self.__grand_total\n",
    "    @property\n",
    "    def structure(self):\n",
    "        return self.__structure\n",
    "    @property\n",
    "    def ranking(self):\n",
    "        return self.__ranking\n",
    "    \n",
    "    def values(self, university):\n",
    "        tmp = self.table.loc[university]\n",
    "        tmp.name = self.sheet.value_column\n",
    "        return tmp\n",
    "\n",
    "    \n",
    "    \n",
    "class Ranking:\n",
    "    def __init__(self, analysis):\n",
    "        self.__analysis = analysis\n",
    "        self.__rankings = analysis.table.rank(axis='rows', method='max', ascending=False)\n",
    "        \n",
    "        tmp = analysis.horizontal_sums.sum(level=self.analysis.sheet.university_idx)\n",
    "        self.__total_ranking = tmp.rank(method='max', ascending=False).sort_values()\n",
    "        self.__total_ranking.name = 'rank'\n",
    "        \n",
    "    @property\n",
    "    def analysis(self):\n",
    "        return self.__analysis\n",
    "    @property\n",
    "    def table(self):\n",
    "        return self.__rankings\n",
    "    \n",
    "    def of(self, university, category=None):\n",
    "        categories = self.__analysis.dim.categories\n",
    "        retval = None\n",
    "        if category == None:\n",
    "            retval = self.__total_ranking.loc[university]\n",
    "            retval.name = 'ranking'\n",
    "        else:\n",
    "            if category in categories:\n",
    "                retval = self.__rankings[self.analysis.sheet.value_column, category][university].astype(int)\n",
    "            else:\n",
    "                retval = self.__rankings.loc[university].astype(int)\n",
    "        return retval\n",
    "\n",
    "    def better_than(self, university, category=None):\n",
    "        if category == None:\n",
    "            return self.__total_ranking[self.__total_ranking < self.__total_ranking[university]]\n",
    "        else:\n",
    "            tmp = self.__rankings[self.analysis.sheet.value_column, category].sort_values()\n",
    "            return tmp[tmp[university] > tmp]\n",
    "        \n",
    "    def best(self, category, top=1):\n",
    "        tmp = self.__rankings[self.analysis.sheet.value_column, category].sort_values()[0:top]\n",
    "        return tmp\n",
    "       \n",
    "        \n",
    "            \n",
    "\n",
    "class Structure:\n",
    "    def __init__(self, analysis):\n",
    "        self.__analysis = analysis\n",
    "        tmp = analysis.sums.sum(level=[analysis.sheet.university_idx])\n",
    "        self.__table = analysis.table.divide(tmp, axis=0).droplevel(level=0, axis='columns')\n",
    "        self.__table.name = analysis.sheet.value_column    \n",
    "        \n",
    "    @property\n",
    "    def table(self):\n",
    "        return self.__table\n",
    "    @property\n",
    "    def analysis(self):\n",
    "        return self.__analysis\n",
    "    \n",
    "    def most_important_to(self, university, cutoff=0.9):\n",
    "        u = self.table.loc[university].sort_values(ascending=False)\n",
    "        u.name = 'relevance'\n",
    "        cumsum = u.cumsum()\n",
    "        cut = (cumsum > cutoff).idxmax()\n",
    "        return u[:cut]\n",
    "\n",
    "    def of(self, university):\n",
    "        tmp = self.table.loc[university].sort_values(ascending=False)\n",
    "        tmp.name = 'relevance'\n",
    "        return tmp\n",
    "    \n",
    "    def similarities_to(self, university):\n",
    "        mirror = self.table.swapaxes('columns', 'rows', copy=False)\n",
    "        uni = mirror[university]\n",
    "        tmp = pd.DataFrame(data=uni.values).reindex_like(mirror)\n",
    "        tmp.loc[:, :] = uni[:, None]\n",
    "        return mirror.combine(tmp, np.minimum)\n",
    "        \n",
    "    def most_similar_to(self, university):\n",
    "        m = self.similarities_to(university)\n",
    "        result = m.sum(axis='rows')\n",
    "        result = result.sort_values(ascending=False)[1:]\n",
    "        result.name = 'similarity'\n",
    "        return result\n",
    "        \n",
    "        \n",
    "def highlight_places(column, series):\n",
    "    l = len(series.index)\n",
    "    if series[column] == 1:\n",
    "        return ['background-color: green']*l\n",
    "    elif series[column] == 2 or series[column] == 3:\n",
    "        return ['background-color: yellow']*l\n",
    "    else:\n",
    "        return ['background-color: white']*l\n",
    "            \n",
    "class University:\n",
    "    def __init__(self, name):\n",
    "        self.__name = name\n",
    "        self.__analyses = list()\n",
    "        self.__similarity_matrices = dict()\n",
    "        self.__similars = dict()\n",
    "        self.__images = dict()\n",
    "        self.__similarity_filter = 1/2\n",
    "        \n",
    "    def __lt__(self, other):\n",
    "        return self.name < other.name\n",
    "        \n",
    "    @property\n",
    "    def name(self):\n",
    "        return self.__name\n",
    "    @property\n",
    "    def short(self):\n",
    "        return shorten(self.__name)\n",
    "    @property\n",
    "    def similarity_filter(self):\n",
    "        return self.__similarity_filter\n",
    "    @property\n",
    "    def similars(self):\n",
    "        return self.__similars\n",
    "    \n",
    "    \n",
    "    def add_analysis(self, analysis):\n",
    "        a = analysis\n",
    "        self.__analyses.append(analysis)\n",
    "        self.__similarity_matrices[a.description] = a.structure.most_similar_to(self.name)\n",
    "        self.__similars[a.description] = list()\n",
    "            \n",
    "        cutoff = 2/3\n",
    "        series = a.structure.most_important_to(self.name, cutoff)\n",
    "        series.name = self.name\n",
    "        df = series.to_frame()\n",
    "            \n",
    "        similars = self.__similarity_matrices[a.description]\n",
    "        for i, other in enumerate(similars.index.values):\n",
    "            if similars[other] < self.similarity_filter:\n",
    "                if i == 0:\n",
    "                    break\n",
    "            else:\n",
    "                self.__similars[a.description].append(other)\n",
    "                series = a.structure.most_important_to(other, 0.99)\n",
    "                series.name = other\n",
    "                df = df.merge(series.to_frame(), how='left', on='fos')\n",
    "        \n",
    "        df.sort_values(by=self.name, ascending=False)\n",
    "        identity = df\n",
    "        rest = 1 - identity.sum()\n",
    "        df.loc['Andere'] = rest\n",
    "                \n",
    "        figure = plt.figure(figsize=(10*1.75, 2*1.75), frameon=False)  \n",
    "        ax = df.T.plot(kind='barh', ax=plt.gca(), legend=False, stacked=True, fontsize=14)\n",
    "        ax.invert_yaxis()\n",
    "        ax.set_xticks([0.5])\n",
    "        ax.set_xticklabels(['50%'])\n",
    "        #ax.axes.get_xaxis().set_visible(False)\n",
    "        \n",
    "        for i, rect in enumerate(ax.patches):\n",
    "            fos = i / len(df.columns)\n",
    "            if rect.get_width() > 0 and i % len(df.columns) == 0:\n",
    "                 ax.text(rect.get_x() + rect.get_width()*0.6,\n",
    "                         rect.get_y() - rect.get_height()/2,\n",
    "                         '\\n'.join(wrap(df.index[fos], 18)),\n",
    "                         rotation=55,\n",
    "                         ha='left', va='bottom', wrap=True,\n",
    "                         fontsize=12, color='#000000')\n",
    "        \n",
    "        filename = get_valid_filename(self.short + '_' + '_'.join([a.description, 'overview']) + '.png')\n",
    "        plt.tight_layout()\n",
    "        plt.savefig(filename, format='png', transparent=True)\n",
    "        plt.close()\n",
    "        self.__images[a.description] = filename\n",
    "        \n",
    "    def describe(self):\n",
    "        display(HTML('<h2 style=\"page-break-before: always;\">' + self.name + '</h2>'))\n",
    "        \n",
    "        display(HTML('<h3>Vergleichbare Universitäten in '\n",
    "                    + '- und '.join(self.similars.keys()) \n",
    "                    + '-Struktur</h3><ul>'))\n",
    "            \n",
    "        similars = None\n",
    "        for similars_list in self.similars.values():\n",
    "            if similars is None:\n",
    "                similars = set(similars_list)\n",
    "            else:\n",
    "                similars = similars.intersection(set(similars_list))\n",
    "                \n",
    "        for s in similars:\n",
    "            display(HTML('<li style=\"margin-bottom: 5px;\">' + s + '</li>'))\n",
    "        if len(similars) == 0:\n",
    "            display(HTML('<li><strong>Keine.</strong> Die ' + self.name + ' ist stark spezialisiert.</li>'))\n",
    "        display(HTML('</ul>'))\n",
    "        \n",
    "        for a in self.__analyses:            \n",
    "            display(HTML('<h4>Vergleichbar bei der ' + a.description + '-Struktur</h4>'))\n",
    "            sim_strs = list()\n",
    "            if len(self.similars[a.description]) == 0:\n",
    "                sim_strs.append('Die ' + self.name + ' ist im Bereich ' + a.description + ' spezialisiert.<br/>'\n",
    "                                + '<strong>Keine</strong> andere Universität ähnelt der '\n",
    "                                + self.name + ' in der ' \n",
    "                                + a.description + '-Struktur in auffälliger Weise.')\n",
    "            \n",
    "            similars = self.__similarity_matrices[a.description]\n",
    "            sm = a.structure.similarities_to(self.name)\n",
    "            for i, other in enumerate(self.similars[a.description]):\n",
    "                if i > 5:\n",
    "                    break\n",
    "                sim_str = '<strong>' + other \\\n",
    "                          +  '</strong> (' + '{:.1%}'.format(similars[i]) \\\n",
    "                          + ', wegen &auml;hnlicher interner Relevanz von '\n",
    "                similarities = sm[other].sort_values(ascending=False)\n",
    "                sim_str += ', '.join(similarities.head(3).index.values)\n",
    "                sim_str += ')'\n",
    "                sim_strs.append(sim_str)\n",
    "            display(HTML('<p>' + ', '.join(sim_strs) + '</p>'))\n",
    "            display(HTML('<img src=\"' + self.__images[a.description] + '\" width=\"1000\" height=\"200\"/>'))\n",
    "            \n",
    "        display(HTML('<p><small>Universitäten mit einer Ähnlichkeit von weniger als '\n",
    "                    + '{:.0%}'.format(self.similarity_filter)\n",
    "                    + ' werden nicht angezeigt.</small></p>'))\n",
    "        \n",
    "        for a in self.__analyses:\n",
    "            display(HTML(\"<h3>\" + a.description + \"-Struktur der \" + self.short + \"</h3>\"))\n",
    "            cutoff = 2/3\n",
    "            df = a.structure.most_important_to(self.name, cutoff)\n",
    "            identity = df\n",
    "            rest = 1 - identity.sum()\n",
    "            display(HTML('Angezeigt werden ' + a.about + ', die zusammen '\n",
    "                         + '{:.1%}'.format(identity.sum()) + ' der ' + a.description \n",
    "                         + ' an der ' + shorten(self.name) + ' ausmachen. '\n",
    "                         + 'Alle anderen ' + a.about + ' tragen je weniger als '\n",
    "                         + '{:.1%}'.format(min(rest, identity.min())) + ' bei. Die Spalte \\\"Ranking\\\" bezieht sich '\n",
    "                         + ' auf den &ouml;sterreichweiten Vergleich der absoluten Werte pro ' + a.about))\n",
    "            \n",
    "            df = df[df > 0] \\\n",
    "                .dropna()   \\\n",
    "                .to_frame()\n",
    "\n",
    "            df = df.join(a.ranking.of(self.name, 'all')) \\\n",
    "                   .join(a.values(self.name))\n",
    "            \n",
    "            best = pd.Series()\n",
    "            better = pd.Series()\n",
    "            best.name = 'best'\n",
    "            better.name = 'better'\n",
    "            plots = dict()\n",
    "            \n",
    "            for cat in df.index.get_level_values(level=a.dim.name):\n",
    "                best_uni = a.ranking.best(cat).index.values[0]\n",
    "                if best_uni == self.name:\n",
    "                    best_uni = '(diese)'\n",
    "                else: \n",
    "                    best_uni += ' (' + a.scale_format(a.values(best_uni)[a.sheet.value_column, cat]) + ')'\n",
    "                    \n",
    "                better_than_me = a.ranking.better_than(self.name, cat)\n",
    "                better_unis = ', '.join(better_than_me.index.values)\n",
    "                \n",
    "                my_rank = a.ranking.of(self.name, cat)\n",
    "                ranks = pd.DataFrame()\n",
    "                ranks.name = cat\n",
    "                for top5 in a.ranking.best(cat, top=max(my_rank+1, 4)).index.values:\n",
    "                    ranks.at[top5, a.sheet.value_column] = a.scale(a.values(top5)[a.sheet.value_column, cat])\n",
    "                    \n",
    "                figure = plt.figure(figsize=(6,4))                    \n",
    "                ax = ranks.plot.bar(ax=plt.gca(), legend=False, width=1, fontsize=20)\n",
    "                for i, bar in enumerate(ax.patches):\n",
    "                    if i == my_rank-1:\n",
    "                        bar.set_facecolor('#D85010')\n",
    "                    else:\n",
    "                        bar.set_facecolor('#C0C0C0')\n",
    "                ax.set_ylabel(a.scale_description, fontsize=20)\n",
    "                labels = ax.get_xticklabels()\n",
    "                for label in labels:\n",
    "                    label.set_text(shorten(label.get_text()))\n",
    "                ax.set_xticklabels(labels)\n",
    "                filename = get_valid_filename(self.short + '_'.join([cat, a.description]) + '.png')\n",
    "                plt.tight_layout()\n",
    "                plt.savefig(filename, format='png', transparent=True)\n",
    "                plt.close()\n",
    "                plots[cat] = filename\n",
    "                \n",
    "                if better_unis == '':\n",
    "                    better_unis = '(keine)'\n",
    "                    \n",
    "                best.at[cat] = best_uni\n",
    "                better.at[cat] = filename\n",
    "                \n",
    "            df = df.join(best, on=a.dim.name).join(better, on=a.dim.name)\n",
    "            df = df.droplevel(0)\n",
    "            \n",
    "            \n",
    "            df.index.name = a.about\n",
    "            df.columns = ['Intern', 'Ranking', a.description, 'Beste Universität', 'Universität im Vergleich']\n",
    "            df = df.sort_values('Intern', ascending=False)\n",
    "            df['Universität im Vergleich'] = df.index.map(lambda fos: plots[fos])\n",
    "            \n",
    "            sel = df[['Intern', a.description, 'Ranking', 'Universität im Vergleich']]\n",
    "            style = sel.style.format({'Intern': '{:.2%}', 'Ranking': '{:}. Platz',\n",
    "                                     a.description: a.value_format})\n",
    "                        \n",
    "            def show_image(filename):\n",
    "                return '<img src=\"' + filename + '\", width=250, height=200/>'\n",
    "                \n",
    "            style = style.apply(lambda s: highlight_places('Ranking', s), axis=1) \\\n",
    "                         .format({'Universität im Vergleich': show_image})\n",
    "            \n",
    "            display(HTML(style.render()))\n",
    "            \n",
    "\n",
    "            \n",
    "\n",
    "ds = Datasheet('3.B.1.csv', ['fos'], 'year', 'university', 'funding')\n",
    "analysis = ds.analyze({'description': 'Publikationen',\n",
    "                       'about': 'WZW',\n",
    "                       'format': '{:} Publikationen',\n",
    "                       'scale_description': 'Publikationen',\n",
    "                       'scale': lambda x: x,\n",
    "                       'scale_format': '{:} Publikationen'\n",
    "                      }, \"fos\", {'year': ds.most_recent})\n",
    "\n",
    "\n",
    "ds2 = Datasheet('1.C.1.csv', ['fos', 'funder'], 'year', 'university', 'funding')\n",
    "analysis2 = ds2.analyze({'description': 'Drittmittel',\n",
    "                       'about': 'WZW',\n",
    "                       'format': '{:,} €',\n",
    "                       'scale_description': 'Millionen Euro',\n",
    "                       'scale': lambda x: x/1000000,\n",
    "                       'scale_format': '{:} Mio. €'\n",
    "                      }, \"fos\", {'year': ds.most_recent})\n",
    "\n",
    "universities = list()\n",
    "\n",
    "for uni_name in ds.universities:\n",
    "    u = University(uni_name)\n",
    "    u.add_analysis(analysis)\n",
    "    u.add_analysis(analysis2)\n",
    "    universities.append(u)\n",
    "    \n",
    "for u in sorted(universities):\n",
    "    u.describe()\n",
    "    \n",
    "    \n",
    "    "
   ]
  },
  {
   "cell_type": "code",
   "execution_count": null,
   "metadata": {},
   "outputs": [],
   "source": [
    "%%html\n",
    "<style>\n",
    "div.input {\n",
    "    display:none;\n",
    "}\n",
    "</style>"
   ]
  }
 ],
 "metadata": {
  "kernelspec": {
   "display_name": "Python 3",
   "language": "python",
   "name": "python3"
  },
  "language_info": {
   "codemirror_mode": {
    "name": "ipython",
    "version": 3
   },
   "file_extension": ".py",
   "mimetype": "text/x-python",
   "name": "python",
   "nbconvert_exporter": "python",
   "pygments_lexer": "ipython3",
   "version": "3.7.3"
  }
 },
 "nbformat": 4,
 "nbformat_minor": 2
}
