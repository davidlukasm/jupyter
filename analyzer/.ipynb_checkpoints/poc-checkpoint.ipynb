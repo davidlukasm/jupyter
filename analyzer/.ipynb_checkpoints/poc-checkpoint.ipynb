{
 "cells": [
  {
   "cell_type": "code",
   "execution_count": 27,
   "metadata": {
    "scrolled": false
   },
   "outputs": [
    {
     "data": {
      "text/html": [
       "<h3>Universität für Bodenkultur Wien</h3>"
      ],
      "text/plain": [
       "<IPython.core.display.HTML object>"
      ]
     },
     "metadata": {},
     "output_type": "display_data"
    },
    {
     "data": {
      "text/html": [
       "<h4>Drittmittel-Struktur</h4>"
      ],
      "text/plain": [
       "<IPython.core.display.HTML object>"
      ]
     },
     "metadata": {},
     "output_type": "display_data"
    },
    {
     "data": {
      "text/html": [
       "Angezeigt werden die gr&ouml;&szlig;ten WZW, die insgesamt mehr als 66.7% der Erl&ouml;se an der Universität für Bodenkultur Wien ausmachen (exakt: 72.5%). Jeder andere WZW tr&auml;gt weniger als 9.4% bei. Die Spalte \"Ranking\" bezieht sich  auf den &ouml;sterreichweiten Vergleich der absoluten Werte im jeweiligen WZW."
      ],
      "text/plain": [
       "<IPython.core.display.HTML object>"
      ]
     },
     "metadata": {},
     "output_type": "display_data"
    },
    {
     "data": {
      "text/html": [
       "<style  type=\"text/css\" >\n",
       "    #T_49ab4524_af66_11e9_85fb_032492921ecbrow0_col0 {\n",
       "            background-color:  white;\n",
       "        }    #T_49ab4524_af66_11e9_85fb_032492921ecbrow0_col1 {\n",
       "            background-color:  white;\n",
       "        }    #T_49ab4524_af66_11e9_85fb_032492921ecbrow0_col2 {\n",
       "            background-color:  white;\n",
       "        }    #T_49ab4524_af66_11e9_85fb_032492921ecbrow0_col3 {\n",
       "            background-color:  white;\n",
       "        }    #T_49ab4524_af66_11e9_85fb_032492921ecbrow0_col4 {\n",
       "            background-color:  white;\n",
       "        }    #T_49ab4524_af66_11e9_85fb_032492921ecbrow1_col0 {\n",
       "            background-color:  white;\n",
       "        }    #T_49ab4524_af66_11e9_85fb_032492921ecbrow1_col1 {\n",
       "            background-color:  white;\n",
       "        }    #T_49ab4524_af66_11e9_85fb_032492921ecbrow1_col2 {\n",
       "            background-color:  white;\n",
       "        }    #T_49ab4524_af66_11e9_85fb_032492921ecbrow1_col3 {\n",
       "            background-color:  white;\n",
       "        }    #T_49ab4524_af66_11e9_85fb_032492921ecbrow1_col4 {\n",
       "            background-color:  white;\n",
       "        }    #T_49ab4524_af66_11e9_85fb_032492921ecbrow2_col0 {\n",
       "            background-color:  white;\n",
       "        }    #T_49ab4524_af66_11e9_85fb_032492921ecbrow2_col1 {\n",
       "            background-color:  white;\n",
       "        }    #T_49ab4524_af66_11e9_85fb_032492921ecbrow2_col2 {\n",
       "            background-color:  white;\n",
       "        }    #T_49ab4524_af66_11e9_85fb_032492921ecbrow2_col3 {\n",
       "            background-color:  white;\n",
       "        }    #T_49ab4524_af66_11e9_85fb_032492921ecbrow2_col4 {\n",
       "            background-color:  white;\n",
       "        }    #T_49ab4524_af66_11e9_85fb_032492921ecbrow3_col0 {\n",
       "            background-color:  yellow;\n",
       "        }    #T_49ab4524_af66_11e9_85fb_032492921ecbrow3_col1 {\n",
       "            background-color:  yellow;\n",
       "        }    #T_49ab4524_af66_11e9_85fb_032492921ecbrow3_col2 {\n",
       "            background-color:  yellow;\n",
       "        }    #T_49ab4524_af66_11e9_85fb_032492921ecbrow3_col3 {\n",
       "            background-color:  yellow;\n",
       "        }    #T_49ab4524_af66_11e9_85fb_032492921ecbrow3_col4 {\n",
       "            background-color:  yellow;\n",
       "        }</style><table id=\"T_49ab4524_af66_11e9_85fb_032492921ecb\" ><thead>    <tr>        <th class=\"blank level0\" ></th>        <th class=\"col_heading level0 col0\" >Intern</th>        <th class=\"col_heading level0 col1\" >Ranking</th>        <th class=\"col_heading level0 col2\" >Erlöse</th>        <th class=\"col_heading level0 col3\" >Beste Universität</th>        <th class=\"col_heading level0 col4\" >Universität im Vergleich</th>    </tr>    <tr>        <th class=\"index_name level0\" >WZW</th>        <th class=\"blank\" ></th>        <th class=\"blank\" ></th>        <th class=\"blank\" ></th>        <th class=\"blank\" ></th>        <th class=\"blank\" ></th>    </tr></thead><tbody>\n",
       "                <tr>\n",
       "                        <th id=\"T_49ab4524_af66_11e9_85fb_032492921ecblevel0_row0\" class=\"row_heading level0 row0\" >Unternehmen</th>\n",
       "                        <td id=\"T_49ab4524_af66_11e9_85fb_032492921ecbrow0_col0\" class=\"data row0 col0\" >30.33%</td>\n",
       "                        <td id=\"T_49ab4524_af66_11e9_85fb_032492921ecbrow0_col1\" class=\"data row0 col1\" >6. Platz</td>\n",
       "                        <td id=\"T_49ab4524_af66_11e9_85fb_032492921ecbrow0_col2\" class=\"data row0 col2\" >14,549,837 €</td>\n",
       "                        <td id=\"T_49ab4524_af66_11e9_85fb_032492921ecbrow0_col3\" class=\"data row0 col3\" >Medizinische Universität Graz (32.4 Mio. €)</td>\n",
       "                        <td id=\"T_49ab4524_af66_11e9_85fb_032492921ecbrow0_col4\" class=\"data row0 col4\" ><img src=\"BKW_Unternehmen.png\", width=250, height=200/></td>\n",
       "            </tr>\n",
       "            <tr>\n",
       "                        <th id=\"T_49ab4524_af66_11e9_85fb_032492921ecblevel0_row1\" class=\"row_heading level0 row1\" >FWF</th>\n",
       "                        <td id=\"T_49ab4524_af66_11e9_85fb_032492921ecbrow1_col0\" class=\"data row1 col0\" >17.04%</td>\n",
       "                        <td id=\"T_49ab4524_af66_11e9_85fb_032492921ecbrow1_col1\" class=\"data row1 col1\" >7. Platz</td>\n",
       "                        <td id=\"T_49ab4524_af66_11e9_85fb_032492921ecbrow1_col2\" class=\"data row1 col2\" >8,173,203 €</td>\n",
       "                        <td id=\"T_49ab4524_af66_11e9_85fb_032492921ecbrow1_col3\" class=\"data row1 col3\" >Universität Wien (41.1 Mio. €)</td>\n",
       "                        <td id=\"T_49ab4524_af66_11e9_85fb_032492921ecbrow1_col4\" class=\"data row1 col4\" ><img src=\"BKW_FWF.png\", width=250, height=200/></td>\n",
       "            </tr>\n",
       "            <tr>\n",
       "                        <th id=\"T_49ab4524_af66_11e9_85fb_032492921ecblevel0_row2\" class=\"row_heading level0 row2\" >EU</th>\n",
       "                        <td id=\"T_49ab4524_af66_11e9_85fb_032492921ecbrow2_col0\" class=\"data row2 col0\" >15.67%</td>\n",
       "                        <td id=\"T_49ab4524_af66_11e9_85fb_032492921ecbrow2_col1\" class=\"data row2 col1\" >6. Platz</td>\n",
       "                        <td id=\"T_49ab4524_af66_11e9_85fb_032492921ecbrow2_col2\" class=\"data row2 col2\" >7,516,953 €</td>\n",
       "                        <td id=\"T_49ab4524_af66_11e9_85fb_032492921ecbrow2_col3\" class=\"data row2 col3\" >Technische Universität Wien (14.7 Mio. €)</td>\n",
       "                        <td id=\"T_49ab4524_af66_11e9_85fb_032492921ecbrow2_col4\" class=\"data row2 col4\" ><img src=\"BKW_EU.png\", width=250, height=200/></td>\n",
       "            </tr>\n",
       "            <tr>\n",
       "                        <th id=\"T_49ab4524_af66_11e9_85fb_032492921ecblevel0_row3\" class=\"row_heading level0 row3\" >Private (Stiftungen, Vereine, etc.)</th>\n",
       "                        <td id=\"T_49ab4524_af66_11e9_85fb_032492921ecbrow3_col0\" class=\"data row3 col0\" >9.42%</td>\n",
       "                        <td id=\"T_49ab4524_af66_11e9_85fb_032492921ecbrow3_col1\" class=\"data row3 col1\" >3. Platz</td>\n",
       "                        <td id=\"T_49ab4524_af66_11e9_85fb_032492921ecbrow3_col2\" class=\"data row3 col2\" >4,518,593 €</td>\n",
       "                        <td id=\"T_49ab4524_af66_11e9_85fb_032492921ecbrow3_col3\" class=\"data row3 col3\" >Medizinische Universität Wien (9.1 Mio. €)</td>\n",
       "                        <td id=\"T_49ab4524_af66_11e9_85fb_032492921ecbrow3_col4\" class=\"data row3 col4\" ><img src=\"BKW_Private_Stiftungen_Vereine_etc..png\", width=250, height=200/></td>\n",
       "            </tr>\n",
       "    </tbody></table>"
      ],
      "text/plain": [
       "<IPython.core.display.HTML object>"
      ]
     },
     "metadata": {},
     "output_type": "display_data"
    },
    {
     "data": {
      "text/html": [
       "<h4>Ähnliche Universitäten aufgrund der Drittmittel-Struktur</h3>"
      ],
      "text/plain": [
       "<IPython.core.display.HTML object>"
      ]
     },
     "metadata": {},
     "output_type": "display_data"
    },
    {
     "data": {
      "text/html": [
       "<p><strong>UKL</strong> (82.0%, wegen &auml;hnlicher Relevanz von Unternehmen, FWF, EU), <strong>TUW</strong> (76.9%, wegen &auml;hnlicher Relevanz von Unternehmen, FWF, EU), <strong>MUI</strong> (74.6%, wegen &auml;hnlicher Relevanz von Unternehmen, FWF, EU), <strong>UIN</strong> (68.9%, wegen &auml;hnlicher Relevanz von FWF, EU, Unternehmen), <strong>TUG</strong> (68.9%, wegen &auml;hnlicher Relevanz von Unternehmen, EU, FWF), <strong>MUL</strong> (65.4%, wegen &auml;hnlicher Relevanz von Unternehmen, EU, Bund (Ministerien))</p>"
      ],
      "text/plain": [
       "<IPython.core.display.HTML object>"
      ]
     },
     "metadata": {},
     "output_type": "display_data"
    },
    {
     "data": {
      "text/html": [
       "<p><small>Universitäten mit einer Ähnlichkeit von weniger als 50% werden nicht angezeigt.</small></p>"
      ],
      "text/plain": [
       "<IPython.core.display.HTML object>"
      ]
     },
     "metadata": {},
     "output_type": "display_data"
    },
    {
     "data": {
      "text/html": [
       "<h3>Universität Klagenfurt</h3>"
      ],
      "text/plain": [
       "<IPython.core.display.HTML object>"
      ]
     },
     "metadata": {},
     "output_type": "display_data"
    },
    {
     "data": {
      "text/html": [
       "<h4>Drittmittel-Struktur</h4>"
      ],
      "text/plain": [
       "<IPython.core.display.HTML object>"
      ]
     },
     "metadata": {},
     "output_type": "display_data"
    },
    {
     "data": {
      "text/html": [
       "Angezeigt werden die gr&ouml;&szlig;ten WZW, die insgesamt mehr als 66.7% der Erl&ouml;se an der Universität Klagenfurt ausmachen (exakt: 75.9%). Jeder andere WZW tr&auml;gt weniger als 10.0% bei. Die Spalte \"Ranking\" bezieht sich  auf den &ouml;sterreichweiten Vergleich der absoluten Werte im jeweiligen WZW."
      ],
      "text/plain": [
       "<IPython.core.display.HTML object>"
      ]
     },
     "metadata": {},
     "output_type": "display_data"
    },
    {
     "data": {
      "text/html": [
       "<style  type=\"text/css\" >\n",
       "    #T_4a26df9a_af66_11e9_85fb_032492921ecbrow0_col0 {\n",
       "            background-color:  white;\n",
       "        }    #T_4a26df9a_af66_11e9_85fb_032492921ecbrow0_col1 {\n",
       "            background-color:  white;\n",
       "        }    #T_4a26df9a_af66_11e9_85fb_032492921ecbrow0_col2 {\n",
       "            background-color:  white;\n",
       "        }    #T_4a26df9a_af66_11e9_85fb_032492921ecbrow0_col3 {\n",
       "            background-color:  white;\n",
       "        }    #T_4a26df9a_af66_11e9_85fb_032492921ecbrow0_col4 {\n",
       "            background-color:  white;\n",
       "        }    #T_4a26df9a_af66_11e9_85fb_032492921ecbrow1_col0 {\n",
       "            background-color:  white;\n",
       "        }    #T_4a26df9a_af66_11e9_85fb_032492921ecbrow1_col1 {\n",
       "            background-color:  white;\n",
       "        }    #T_4a26df9a_af66_11e9_85fb_032492921ecbrow1_col2 {\n",
       "            background-color:  white;\n",
       "        }    #T_4a26df9a_af66_11e9_85fb_032492921ecbrow1_col3 {\n",
       "            background-color:  white;\n",
       "        }    #T_4a26df9a_af66_11e9_85fb_032492921ecbrow1_col4 {\n",
       "            background-color:  white;\n",
       "        }    #T_4a26df9a_af66_11e9_85fb_032492921ecbrow2_col0 {\n",
       "            background-color:  white;\n",
       "        }    #T_4a26df9a_af66_11e9_85fb_032492921ecbrow2_col1 {\n",
       "            background-color:  white;\n",
       "        }    #T_4a26df9a_af66_11e9_85fb_032492921ecbrow2_col2 {\n",
       "            background-color:  white;\n",
       "        }    #T_4a26df9a_af66_11e9_85fb_032492921ecbrow2_col3 {\n",
       "            background-color:  white;\n",
       "        }    #T_4a26df9a_af66_11e9_85fb_032492921ecbrow2_col4 {\n",
       "            background-color:  white;\n",
       "        }    #T_4a26df9a_af66_11e9_85fb_032492921ecbrow3_col0 {\n",
       "            background-color:  white;\n",
       "        }    #T_4a26df9a_af66_11e9_85fb_032492921ecbrow3_col1 {\n",
       "            background-color:  white;\n",
       "        }    #T_4a26df9a_af66_11e9_85fb_032492921ecbrow3_col2 {\n",
       "            background-color:  white;\n",
       "        }    #T_4a26df9a_af66_11e9_85fb_032492921ecbrow3_col3 {\n",
       "            background-color:  white;\n",
       "        }    #T_4a26df9a_af66_11e9_85fb_032492921ecbrow3_col4 {\n",
       "            background-color:  white;\n",
       "        }    #T_4a26df9a_af66_11e9_85fb_032492921ecbrow4_col0 {\n",
       "            background-color:  white;\n",
       "        }    #T_4a26df9a_af66_11e9_85fb_032492921ecbrow4_col1 {\n",
       "            background-color:  white;\n",
       "        }    #T_4a26df9a_af66_11e9_85fb_032492921ecbrow4_col2 {\n",
       "            background-color:  white;\n",
       "        }    #T_4a26df9a_af66_11e9_85fb_032492921ecbrow4_col3 {\n",
       "            background-color:  white;\n",
       "        }    #T_4a26df9a_af66_11e9_85fb_032492921ecbrow4_col4 {\n",
       "            background-color:  white;\n",
       "        }</style><table id=\"T_4a26df9a_af66_11e9_85fb_032492921ecb\" ><thead>    <tr>        <th class=\"blank level0\" ></th>        <th class=\"col_heading level0 col0\" >Intern</th>        <th class=\"col_heading level0 col1\" >Ranking</th>        <th class=\"col_heading level0 col2\" >Erlöse</th>        <th class=\"col_heading level0 col3\" >Beste Universität</th>        <th class=\"col_heading level0 col4\" >Universität im Vergleich</th>    </tr>    <tr>        <th class=\"index_name level0\" >WZW</th>        <th class=\"blank\" ></th>        <th class=\"blank\" ></th>        <th class=\"blank\" ></th>        <th class=\"blank\" ></th>        <th class=\"blank\" ></th>    </tr></thead><tbody>\n",
       "                <tr>\n",
       "                        <th id=\"T_4a26df9a_af66_11e9_85fb_032492921ecblevel0_row0\" class=\"row_heading level0 row0\" >Unternehmen</th>\n",
       "                        <td id=\"T_4a26df9a_af66_11e9_85fb_032492921ecbrow0_col0\" class=\"data row0 col0\" >21.30%</td>\n",
       "                        <td id=\"T_4a26df9a_af66_11e9_85fb_032492921ecbrow0_col1\" class=\"data row0 col1\" >13. Platz</td>\n",
       "                        <td id=\"T_4a26df9a_af66_11e9_85fb_032492921ecbrow0_col2\" class=\"data row0 col2\" >1,606,003 €</td>\n",
       "                        <td id=\"T_4a26df9a_af66_11e9_85fb_032492921ecbrow0_col3\" class=\"data row0 col3\" >Medizinische Universität Graz (32.4 Mio. €)</td>\n",
       "                        <td id=\"T_4a26df9a_af66_11e9_85fb_032492921ecbrow0_col4\" class=\"data row0 col4\" ><img src=\"UKL_Unternehmen.png\", width=250, height=200/></td>\n",
       "            </tr>\n",
       "            <tr>\n",
       "                        <th id=\"T_4a26df9a_af66_11e9_85fb_032492921ecblevel0_row1\" class=\"row_heading level0 row1\" >FWF</th>\n",
       "                        <td id=\"T_4a26df9a_af66_11e9_85fb_032492921ecbrow1_col0\" class=\"data row1 col0\" >18.28%</td>\n",
       "                        <td id=\"T_4a26df9a_af66_11e9_85fb_032492921ecbrow1_col1\" class=\"data row1 col1\" >14. Platz</td>\n",
       "                        <td id=\"T_4a26df9a_af66_11e9_85fb_032492921ecbrow1_col2\" class=\"data row1 col2\" >1,378,473 €</td>\n",
       "                        <td id=\"T_4a26df9a_af66_11e9_85fb_032492921ecbrow1_col3\" class=\"data row1 col3\" >Universität Wien (41.1 Mio. €)</td>\n",
       "                        <td id=\"T_4a26df9a_af66_11e9_85fb_032492921ecbrow1_col4\" class=\"data row1 col4\" ><img src=\"UKL_FWF.png\", width=250, height=200/></td>\n",
       "            </tr>\n",
       "            <tr>\n",
       "                        <th id=\"T_4a26df9a_af66_11e9_85fb_032492921ecblevel0_row2\" class=\"row_heading level0 row2\" >EU</th>\n",
       "                        <td id=\"T_4a26df9a_af66_11e9_85fb_032492921ecbrow2_col0\" class=\"data row2 col0\" >13.58%</td>\n",
       "                        <td id=\"T_4a26df9a_af66_11e9_85fb_032492921ecbrow2_col1\" class=\"data row2 col1\" >14. Platz</td>\n",
       "                        <td id=\"T_4a26df9a_af66_11e9_85fb_032492921ecbrow2_col2\" class=\"data row2 col2\" >1,024,247 €</td>\n",
       "                        <td id=\"T_4a26df9a_af66_11e9_85fb_032492921ecbrow2_col3\" class=\"data row2 col3\" >Technische Universität Wien (14.7 Mio. €)</td>\n",
       "                        <td id=\"T_4a26df9a_af66_11e9_85fb_032492921ecbrow2_col4\" class=\"data row2 col4\" ><img src=\"UKL_EU.png\", width=250, height=200/></td>\n",
       "            </tr>\n",
       "            <tr>\n",
       "                        <th id=\"T_4a26df9a_af66_11e9_85fb_032492921ecblevel0_row3\" class=\"row_heading level0 row3\" >Bund (Ministerien)</th>\n",
       "                        <td id=\"T_4a26df9a_af66_11e9_85fb_032492921ecbrow3_col0\" class=\"data row3 col0\" >12.74%</td>\n",
       "                        <td id=\"T_4a26df9a_af66_11e9_85fb_032492921ecbrow3_col1\" class=\"data row3 col1\" >9. Platz</td>\n",
       "                        <td id=\"T_4a26df9a_af66_11e9_85fb_032492921ecbrow3_col2\" class=\"data row3 col2\" >960,387 €</td>\n",
       "                        <td id=\"T_4a26df9a_af66_11e9_85fb_032492921ecbrow3_col3\" class=\"data row3 col3\" >Medizinische Universität Innsbruck (3.7 Mio. €)</td>\n",
       "                        <td id=\"T_4a26df9a_af66_11e9_85fb_032492921ecbrow3_col4\" class=\"data row3 col4\" ><img src=\"UKL_Bund_Ministerien.png\", width=250, height=200/></td>\n",
       "            </tr>\n",
       "            <tr>\n",
       "                        <th id=\"T_4a26df9a_af66_11e9_85fb_032492921ecblevel0_row4\" class=\"row_heading level0 row4\" >FFG</th>\n",
       "                        <td id=\"T_4a26df9a_af66_11e9_85fb_032492921ecbrow4_col0\" class=\"data row4 col0\" >9.97%</td>\n",
       "                        <td id=\"T_4a26df9a_af66_11e9_85fb_032492921ecbrow4_col1\" class=\"data row4 col1\" >14. Platz</td>\n",
       "                        <td id=\"T_4a26df9a_af66_11e9_85fb_032492921ecbrow4_col2\" class=\"data row4 col2\" >752,142 €</td>\n",
       "                        <td id=\"T_4a26df9a_af66_11e9_85fb_032492921ecbrow4_col3\" class=\"data row4 col3\" >Technische Universität Graz (19.0 Mio. €)</td>\n",
       "                        <td id=\"T_4a26df9a_af66_11e9_85fb_032492921ecbrow4_col4\" class=\"data row4 col4\" ><img src=\"UKL_FFG.png\", width=250, height=200/></td>\n",
       "            </tr>\n",
       "    </tbody></table>"
      ],
      "text/plain": [
       "<IPython.core.display.HTML object>"
      ]
     },
     "metadata": {},
     "output_type": "display_data"
    },
    {
     "data": {
      "text/html": [
       "<h4>Ähnliche Universitäten aufgrund der Drittmittel-Struktur</h3>"
      ],
      "text/plain": [
       "<IPython.core.display.HTML object>"
      ]
     },
     "metadata": {},
     "output_type": "display_data"
    },
    {
     "data": {
      "text/html": [
       "<p><strong>BKW</strong> (82.0%, wegen &auml;hnlicher Relevanz von Unternehmen, FWF, EU), <strong>TUW</strong> (76.5%, wegen &auml;hnlicher Relevanz von Unternehmen, FWF, EU), <strong>UIN</strong> (70.4%, wegen &auml;hnlicher Relevanz von FWF, EU, Unternehmen), <strong>ULI</strong> (69.7%, wegen &auml;hnlicher Relevanz von Unternehmen, FWF, FFG), <strong>MUI</strong> (69.5%, wegen &auml;hnlicher Relevanz von Unternehmen, FWF, Bund (Ministerien)), <strong>UWK</strong> (65.2%, wegen &auml;hnlicher Relevanz von EU, Bund (Ministerien), FFG)</p>"
      ],
      "text/plain": [
       "<IPython.core.display.HTML object>"
      ]
     },
     "metadata": {},
     "output_type": "display_data"
    },
    {
     "data": {
      "text/html": [
       "<p><small>Universitäten mit einer Ähnlichkeit von weniger als 50% werden nicht angezeigt.</small></p>"
      ],
      "text/plain": [
       "<IPython.core.display.HTML object>"
      ]
     },
     "metadata": {},
     "output_type": "display_data"
    },
    {
     "data": {
      "text/html": [
       "<h3>Universität Wien</h3>"
      ],
      "text/plain": [
       "<IPython.core.display.HTML object>"
      ]
     },
     "metadata": {},
     "output_type": "display_data"
    },
    {
     "data": {
      "text/html": [
       "<h4>Drittmittel-Struktur</h4>"
      ],
      "text/plain": [
       "<IPython.core.display.HTML object>"
      ]
     },
     "metadata": {},
     "output_type": "display_data"
    },
    {
     "data": {
      "text/html": [
       "Angezeigt werden die gr&ouml;&szlig;ten WZW, die insgesamt mehr als 66.7% der Erl&ouml;se an der Universität Wien ausmachen (exakt: 70.9%). Jeder andere WZW tr&auml;gt weniger als 6.6% bei. Die Spalte \"Ranking\" bezieht sich  auf den &ouml;sterreichweiten Vergleich der absoluten Werte im jeweiligen WZW."
      ],
      "text/plain": [
       "<IPython.core.display.HTML object>"
      ]
     },
     "metadata": {},
     "output_type": "display_data"
    },
    {
     "data": {
      "text/html": [
       "<style  type=\"text/css\" >\n",
       "    #T_4a5190be_af66_11e9_85fb_032492921ecbrow0_col0 {\n",
       "            background-color:  green;\n",
       "        }    #T_4a5190be_af66_11e9_85fb_032492921ecbrow0_col1 {\n",
       "            background-color:  green;\n",
       "        }    #T_4a5190be_af66_11e9_85fb_032492921ecbrow0_col2 {\n",
       "            background-color:  green;\n",
       "        }    #T_4a5190be_af66_11e9_85fb_032492921ecbrow0_col3 {\n",
       "            background-color:  green;\n",
       "        }    #T_4a5190be_af66_11e9_85fb_032492921ecbrow0_col4 {\n",
       "            background-color:  green;\n",
       "        }    #T_4a5190be_af66_11e9_85fb_032492921ecbrow1_col0 {\n",
       "            background-color:  yellow;\n",
       "        }    #T_4a5190be_af66_11e9_85fb_032492921ecbrow1_col1 {\n",
       "            background-color:  yellow;\n",
       "        }    #T_4a5190be_af66_11e9_85fb_032492921ecbrow1_col2 {\n",
       "            background-color:  yellow;\n",
       "        }    #T_4a5190be_af66_11e9_85fb_032492921ecbrow1_col3 {\n",
       "            background-color:  yellow;\n",
       "        }    #T_4a5190be_af66_11e9_85fb_032492921ecbrow1_col4 {\n",
       "            background-color:  yellow;\n",
       "        }    #T_4a5190be_af66_11e9_85fb_032492921ecbrow2_col0 {\n",
       "            background-color:  green;\n",
       "        }    #T_4a5190be_af66_11e9_85fb_032492921ecbrow2_col1 {\n",
       "            background-color:  green;\n",
       "        }    #T_4a5190be_af66_11e9_85fb_032492921ecbrow2_col2 {\n",
       "            background-color:  green;\n",
       "        }    #T_4a5190be_af66_11e9_85fb_032492921ecbrow2_col3 {\n",
       "            background-color:  green;\n",
       "        }    #T_4a5190be_af66_11e9_85fb_032492921ecbrow2_col4 {\n",
       "            background-color:  green;\n",
       "        }</style><table id=\"T_4a5190be_af66_11e9_85fb_032492921ecb\" ><thead>    <tr>        <th class=\"blank level0\" ></th>        <th class=\"col_heading level0 col0\" >Intern</th>        <th class=\"col_heading level0 col1\" >Ranking</th>        <th class=\"col_heading level0 col2\" >Erlöse</th>        <th class=\"col_heading level0 col3\" >Beste Universität</th>        <th class=\"col_heading level0 col4\" >Universität im Vergleich</th>    </tr>    <tr>        <th class=\"index_name level0\" >WZW</th>        <th class=\"blank\" ></th>        <th class=\"blank\" ></th>        <th class=\"blank\" ></th>        <th class=\"blank\" ></th>        <th class=\"blank\" ></th>    </tr></thead><tbody>\n",
       "                <tr>\n",
       "                        <th id=\"T_4a5190be_af66_11e9_85fb_032492921ecblevel0_row0\" class=\"row_heading level0 row0\" >FWF</th>\n",
       "                        <td id=\"T_4a5190be_af66_11e9_85fb_032492921ecbrow0_col0\" class=\"data row0 col0\" >48.27%</td>\n",
       "                        <td id=\"T_4a5190be_af66_11e9_85fb_032492921ecbrow0_col1\" class=\"data row0 col1\" >1. Platz</td>\n",
       "                        <td id=\"T_4a5190be_af66_11e9_85fb_032492921ecbrow0_col2\" class=\"data row0 col2\" >41,065,705 €</td>\n",
       "                        <td id=\"T_4a5190be_af66_11e9_85fb_032492921ecbrow0_col3\" class=\"data row0 col3\" >(diese)</td>\n",
       "                        <td id=\"T_4a5190be_af66_11e9_85fb_032492921ecbrow0_col4\" class=\"data row0 col4\" ><img src=\"UWI_FWF.png\", width=250, height=200/></td>\n",
       "            </tr>\n",
       "            <tr>\n",
       "                        <th id=\"T_4a5190be_af66_11e9_85fb_032492921ecblevel0_row1\" class=\"row_heading level0 row1\" >EU</th>\n",
       "                        <td id=\"T_4a5190be_af66_11e9_85fb_032492921ecbrow1_col0\" class=\"data row1 col0\" >16.02%</td>\n",
       "                        <td id=\"T_4a5190be_af66_11e9_85fb_032492921ecbrow1_col1\" class=\"data row1 col1\" >2. Platz</td>\n",
       "                        <td id=\"T_4a5190be_af66_11e9_85fb_032492921ecbrow1_col2\" class=\"data row1 col2\" >13,633,780 €</td>\n",
       "                        <td id=\"T_4a5190be_af66_11e9_85fb_032492921ecbrow1_col3\" class=\"data row1 col3\" >Technische Universität Wien (14.7 Mio. €)</td>\n",
       "                        <td id=\"T_4a5190be_af66_11e9_85fb_032492921ecbrow1_col4\" class=\"data row1 col4\" ><img src=\"UWI_EU.png\", width=250, height=200/></td>\n",
       "            </tr>\n",
       "            <tr>\n",
       "                        <th id=\"T_4a5190be_af66_11e9_85fb_032492921ecblevel0_row2\" class=\"row_heading level0 row2\" >Länder (inkl. deren Stiftungen und Einrichtungen)</th>\n",
       "                        <td id=\"T_4a5190be_af66_11e9_85fb_032492921ecbrow2_col0\" class=\"data row2 col0\" >6.63%</td>\n",
       "                        <td id=\"T_4a5190be_af66_11e9_85fb_032492921ecbrow2_col1\" class=\"data row2 col1\" >1. Platz</td>\n",
       "                        <td id=\"T_4a5190be_af66_11e9_85fb_032492921ecbrow2_col2\" class=\"data row2 col2\" >5,636,763 €</td>\n",
       "                        <td id=\"T_4a5190be_af66_11e9_85fb_032492921ecbrow2_col3\" class=\"data row2 col3\" >(diese)</td>\n",
       "                        <td id=\"T_4a5190be_af66_11e9_85fb_032492921ecbrow2_col4\" class=\"data row2 col4\" ><img src=\"UWI_Länder_inkl._deren_Stiftungen_und_Einrichtungen.png\", width=250, height=200/></td>\n",
       "            </tr>\n",
       "    </tbody></table>"
      ],
      "text/plain": [
       "<IPython.core.display.HTML object>"
      ]
     },
     "metadata": {},
     "output_type": "display_data"
    },
    {
     "data": {
      "text/html": [
       "<h4>Ähnliche Universitäten aufgrund der Drittmittel-Struktur</h3>"
      ],
      "text/plain": [
       "<IPython.core.display.HTML object>"
      ]
     },
     "metadata": {},
     "output_type": "display_data"
    },
    {
     "data": {
      "text/html": [
       "<p><strong>UAW</strong> (88.7%, wegen &auml;hnlicher Relevanz von FWF, EU, Private (Stiftungen, Vereine, etc.)), <strong>USA</strong> (83.5%, wegen &auml;hnlicher Relevanz von FWF, EU, Länder (inkl. deren Stiftungen und Einrichtungen)), <strong>UGR</strong> (83.4%, wegen &auml;hnlicher Relevanz von FWF, EU, Länder (inkl. deren Stiftungen und Einrichtungen)), <strong>UIN</strong> (74.9%, wegen &auml;hnlicher Relevanz von FWF, EU, Länder (inkl. deren Stiftungen und Einrichtungen)), <strong>MKW</strong> (73.9%, wegen &auml;hnlicher Relevanz von FWF, EU, Länder (inkl. deren Stiftungen und Einrichtungen)), <strong>ABW</strong> (67.4%, wegen &auml;hnlicher Relevanz von FWF, sonstige, Private (Stiftungen, Vereine, etc.))</p>"
      ],
      "text/plain": [
       "<IPython.core.display.HTML object>"
      ]
     },
     "metadata": {},
     "output_type": "display_data"
    },
    {
     "data": {
      "text/html": [
       "<p><small>Universitäten mit einer Ähnlichkeit von weniger als 50% werden nicht angezeigt.</small></p>"
      ],
      "text/plain": [
       "<IPython.core.display.HTML object>"
      ]
     },
     "metadata": {},
     "output_type": "display_data"
    },
    {
     "data": {
      "text/html": [
       "<h3>Technische Universität Wien</h3>"
      ],
      "text/plain": [
       "<IPython.core.display.HTML object>"
      ]
     },
     "metadata": {},
     "output_type": "display_data"
    },
    {
     "data": {
      "text/html": [
       "<h4>Drittmittel-Struktur</h4>"
      ],
      "text/plain": [
       "<IPython.core.display.HTML object>"
      ]
     },
     "metadata": {},
     "output_type": "display_data"
    },
    {
     "data": {
      "text/html": [
       "Angezeigt werden die gr&ouml;&szlig;ten WZW, die insgesamt mehr als 66.7% der Erl&ouml;se an der Technische Universität Wien ausmachen (exakt: 83.4%). Jeder andere WZW tr&auml;gt weniger als 16.6% bei. Die Spalte \"Ranking\" bezieht sich  auf den &ouml;sterreichweiten Vergleich der absoluten Werte im jeweiligen WZW."
      ],
      "text/plain": [
       "<IPython.core.display.HTML object>"
      ]
     },
     "metadata": {},
     "output_type": "display_data"
    },
    {
     "data": {
      "text/html": [
       "<style  type=\"text/css\" >\n",
       "    #T_4a87df48_af66_11e9_85fb_032492921ecbrow0_col0 {\n",
       "            background-color:  yellow;\n",
       "        }    #T_4a87df48_af66_11e9_85fb_032492921ecbrow0_col1 {\n",
       "            background-color:  yellow;\n",
       "        }    #T_4a87df48_af66_11e9_85fb_032492921ecbrow0_col2 {\n",
       "            background-color:  yellow;\n",
       "        }    #T_4a87df48_af66_11e9_85fb_032492921ecbrow0_col3 {\n",
       "            background-color:  yellow;\n",
       "        }    #T_4a87df48_af66_11e9_85fb_032492921ecbrow0_col4 {\n",
       "            background-color:  yellow;\n",
       "        }    #T_4a87df48_af66_11e9_85fb_032492921ecbrow1_col0 {\n",
       "            background-color:  yellow;\n",
       "        }    #T_4a87df48_af66_11e9_85fb_032492921ecbrow1_col1 {\n",
       "            background-color:  yellow;\n",
       "        }    #T_4a87df48_af66_11e9_85fb_032492921ecbrow1_col2 {\n",
       "            background-color:  yellow;\n",
       "        }    #T_4a87df48_af66_11e9_85fb_032492921ecbrow1_col3 {\n",
       "            background-color:  yellow;\n",
       "        }    #T_4a87df48_af66_11e9_85fb_032492921ecbrow1_col4 {\n",
       "            background-color:  yellow;\n",
       "        }    #T_4a87df48_af66_11e9_85fb_032492921ecbrow2_col0 {\n",
       "            background-color:  yellow;\n",
       "        }    #T_4a87df48_af66_11e9_85fb_032492921ecbrow2_col1 {\n",
       "            background-color:  yellow;\n",
       "        }    #T_4a87df48_af66_11e9_85fb_032492921ecbrow2_col2 {\n",
       "            background-color:  yellow;\n",
       "        }    #T_4a87df48_af66_11e9_85fb_032492921ecbrow2_col3 {\n",
       "            background-color:  yellow;\n",
       "        }    #T_4a87df48_af66_11e9_85fb_032492921ecbrow2_col4 {\n",
       "            background-color:  yellow;\n",
       "        }    #T_4a87df48_af66_11e9_85fb_032492921ecbrow3_col0 {\n",
       "            background-color:  green;\n",
       "        }    #T_4a87df48_af66_11e9_85fb_032492921ecbrow3_col1 {\n",
       "            background-color:  green;\n",
       "        }    #T_4a87df48_af66_11e9_85fb_032492921ecbrow3_col2 {\n",
       "            background-color:  green;\n",
       "        }    #T_4a87df48_af66_11e9_85fb_032492921ecbrow3_col3 {\n",
       "            background-color:  green;\n",
       "        }    #T_4a87df48_af66_11e9_85fb_032492921ecbrow3_col4 {\n",
       "            background-color:  green;\n",
       "        }</style><table id=\"T_4a87df48_af66_11e9_85fb_032492921ecb\" ><thead>    <tr>        <th class=\"blank level0\" ></th>        <th class=\"col_heading level0 col0\" >Intern</th>        <th class=\"col_heading level0 col1\" >Ranking</th>        <th class=\"col_heading level0 col2\" >Erlöse</th>        <th class=\"col_heading level0 col3\" >Beste Universität</th>        <th class=\"col_heading level0 col4\" >Universität im Vergleich</th>    </tr>    <tr>        <th class=\"index_name level0\" >WZW</th>        <th class=\"blank\" ></th>        <th class=\"blank\" ></th>        <th class=\"blank\" ></th>        <th class=\"blank\" ></th>        <th class=\"blank\" ></th>    </tr></thead><tbody>\n",
       "                <tr>\n",
       "                        <th id=\"T_4a87df48_af66_11e9_85fb_032492921ecblevel0_row0\" class=\"row_heading level0 row0\" >Unternehmen</th>\n",
       "                        <td id=\"T_4a87df48_af66_11e9_85fb_032492921ecbrow0_col0\" class=\"data row0 col0\" >25.31%</td>\n",
       "                        <td id=\"T_4a87df48_af66_11e9_85fb_032492921ecbrow0_col1\" class=\"data row0 col1\" >3. Platz</td>\n",
       "                        <td id=\"T_4a87df48_af66_11e9_85fb_032492921ecbrow0_col2\" class=\"data row0 col2\" >22,101,493 €</td>\n",
       "                        <td id=\"T_4a87df48_af66_11e9_85fb_032492921ecbrow0_col3\" class=\"data row0 col3\" >Medizinische Universität Graz (32.4 Mio. €)</td>\n",
       "                        <td id=\"T_4a87df48_af66_11e9_85fb_032492921ecbrow0_col4\" class=\"data row0 col4\" ><img src=\"TUW_Unternehmen.png\", width=250, height=200/></td>\n",
       "            </tr>\n",
       "            <tr>\n",
       "                        <th id=\"T_4a87df48_af66_11e9_85fb_032492921ecblevel0_row1\" class=\"row_heading level0 row1\" >FWF</th>\n",
       "                        <td id=\"T_4a87df48_af66_11e9_85fb_032492921ecbrow1_col0\" class=\"data row1 col0\" >22.52%</td>\n",
       "                        <td id=\"T_4a87df48_af66_11e9_85fb_032492921ecbrow1_col1\" class=\"data row1 col1\" >2. Platz</td>\n",
       "                        <td id=\"T_4a87df48_af66_11e9_85fb_032492921ecbrow1_col2\" class=\"data row1 col2\" >19,662,614 €</td>\n",
       "                        <td id=\"T_4a87df48_af66_11e9_85fb_032492921ecbrow1_col3\" class=\"data row1 col3\" >Universität Wien (41.1 Mio. €)</td>\n",
       "                        <td id=\"T_4a87df48_af66_11e9_85fb_032492921ecbrow1_col4\" class=\"data row1 col4\" ><img src=\"TUW_FWF.png\", width=250, height=200/></td>\n",
       "            </tr>\n",
       "            <tr>\n",
       "                        <th id=\"T_4a87df48_af66_11e9_85fb_032492921ecblevel0_row2\" class=\"row_heading level0 row2\" >FFG</th>\n",
       "                        <td id=\"T_4a87df48_af66_11e9_85fb_032492921ecbrow2_col0\" class=\"data row2 col0\" >18.69%</td>\n",
       "                        <td id=\"T_4a87df48_af66_11e9_85fb_032492921ecbrow2_col1\" class=\"data row2 col1\" >2. Platz</td>\n",
       "                        <td id=\"T_4a87df48_af66_11e9_85fb_032492921ecbrow2_col2\" class=\"data row2 col2\" >16,317,706 €</td>\n",
       "                        <td id=\"T_4a87df48_af66_11e9_85fb_032492921ecbrow2_col3\" class=\"data row2 col3\" >Technische Universität Graz (19.0 Mio. €)</td>\n",
       "                        <td id=\"T_4a87df48_af66_11e9_85fb_032492921ecbrow2_col4\" class=\"data row2 col4\" ><img src=\"TUW_FFG.png\", width=250, height=200/></td>\n",
       "            </tr>\n",
       "            <tr>\n",
       "                        <th id=\"T_4a87df48_af66_11e9_85fb_032492921ecblevel0_row3\" class=\"row_heading level0 row3\" >EU</th>\n",
       "                        <td id=\"T_4a87df48_af66_11e9_85fb_032492921ecbrow3_col0\" class=\"data row3 col0\" >16.87%</td>\n",
       "                        <td id=\"T_4a87df48_af66_11e9_85fb_032492921ecbrow3_col1\" class=\"data row3 col1\" >1. Platz</td>\n",
       "                        <td id=\"T_4a87df48_af66_11e9_85fb_032492921ecbrow3_col2\" class=\"data row3 col2\" >14,732,401 €</td>\n",
       "                        <td id=\"T_4a87df48_af66_11e9_85fb_032492921ecbrow3_col3\" class=\"data row3 col3\" >(diese)</td>\n",
       "                        <td id=\"T_4a87df48_af66_11e9_85fb_032492921ecbrow3_col4\" class=\"data row3 col4\" ><img src=\"TUW_EU.png\", width=250, height=200/></td>\n",
       "            </tr>\n",
       "    </tbody></table>"
      ],
      "text/plain": [
       "<IPython.core.display.HTML object>"
      ]
     },
     "metadata": {},
     "output_type": "display_data"
    },
    {
     "data": {
      "text/html": [
       "<h4>Ähnliche Universitäten aufgrund der Drittmittel-Struktur</h3>"
      ],
      "text/plain": [
       "<IPython.core.display.HTML object>"
      ]
     },
     "metadata": {},
     "output_type": "display_data"
    },
    {
     "data": {
      "text/html": [
       "<p><strong>ULI</strong> (82.7%, wegen &auml;hnlicher Relevanz von FWF, Unternehmen, FFG), <strong>TUG</strong> (78.1%, wegen &auml;hnlicher Relevanz von Unternehmen, FFG, EU), <strong>BKW</strong> (76.9%, wegen &auml;hnlicher Relevanz von Unternehmen, FWF, EU), <strong>UKL</strong> (76.5%, wegen &auml;hnlicher Relevanz von Unternehmen, FWF, EU), <strong>UIN</strong> (71.5%, wegen &auml;hnlicher Relevanz von FWF, EU, Unternehmen), <strong>MUL</strong> (67.5%, wegen &auml;hnlicher Relevanz von Unternehmen, FFG, EU)</p>"
      ],
      "text/plain": [
       "<IPython.core.display.HTML object>"
      ]
     },
     "metadata": {},
     "output_type": "display_data"
    },
    {
     "data": {
      "text/html": [
       "<p><small>Universitäten mit einer Ähnlichkeit von weniger als 50% werden nicht angezeigt.</small></p>"
      ],
      "text/plain": [
       "<IPython.core.display.HTML object>"
      ]
     },
     "metadata": {},
     "output_type": "display_data"
    },
    {
     "data": {
      "text/html": [
       "<h3>Universität Innsbruck</h3>"
      ],
      "text/plain": [
       "<IPython.core.display.HTML object>"
      ]
     },
     "metadata": {},
     "output_type": "display_data"
    },
    {
     "data": {
      "text/html": [
       "<h4>Drittmittel-Struktur</h4>"
      ],
      "text/plain": [
       "<IPython.core.display.HTML object>"
      ]
     },
     "metadata": {},
     "output_type": "display_data"
    },
    {
     "data": {
      "text/html": [
       "Angezeigt werden die gr&ouml;&szlig;ten WZW, die insgesamt mehr als 66.7% der Erl&ouml;se an der Universität Innsbruck ausmachen (exakt: 71.1%). Jeder andere WZW tr&auml;gt weniger als 9.7% bei. Die Spalte \"Ranking\" bezieht sich  auf den &ouml;sterreichweiten Vergleich der absoluten Werte im jeweiligen WZW."
      ],
      "text/plain": [
       "<IPython.core.display.HTML object>"
      ]
     },
     "metadata": {},
     "output_type": "display_data"
    },
    {
     "data": {
      "text/html": [
       "<style  type=\"text/css\" >\n",
       "    #T_4ac5d9d8_af66_11e9_85fb_032492921ecbrow0_col0 {\n",
       "            background-color:  white;\n",
       "        }    #T_4ac5d9d8_af66_11e9_85fb_032492921ecbrow0_col1 {\n",
       "            background-color:  white;\n",
       "        }    #T_4ac5d9d8_af66_11e9_85fb_032492921ecbrow0_col2 {\n",
       "            background-color:  white;\n",
       "        }    #T_4ac5d9d8_af66_11e9_85fb_032492921ecbrow0_col3 {\n",
       "            background-color:  white;\n",
       "        }    #T_4ac5d9d8_af66_11e9_85fb_032492921ecbrow0_col4 {\n",
       "            background-color:  white;\n",
       "        }    #T_4ac5d9d8_af66_11e9_85fb_032492921ecbrow1_col0 {\n",
       "            background-color:  white;\n",
       "        }    #T_4ac5d9d8_af66_11e9_85fb_032492921ecbrow1_col1 {\n",
       "            background-color:  white;\n",
       "        }    #T_4ac5d9d8_af66_11e9_85fb_032492921ecbrow1_col2 {\n",
       "            background-color:  white;\n",
       "        }    #T_4ac5d9d8_af66_11e9_85fb_032492921ecbrow1_col3 {\n",
       "            background-color:  white;\n",
       "        }    #T_4ac5d9d8_af66_11e9_85fb_032492921ecbrow1_col4 {\n",
       "            background-color:  white;\n",
       "        }    #T_4ac5d9d8_af66_11e9_85fb_032492921ecbrow2_col0 {\n",
       "            background-color:  yellow;\n",
       "        }    #T_4ac5d9d8_af66_11e9_85fb_032492921ecbrow2_col1 {\n",
       "            background-color:  yellow;\n",
       "        }    #T_4ac5d9d8_af66_11e9_85fb_032492921ecbrow2_col2 {\n",
       "            background-color:  yellow;\n",
       "        }    #T_4ac5d9d8_af66_11e9_85fb_032492921ecbrow2_col3 {\n",
       "            background-color:  yellow;\n",
       "        }    #T_4ac5d9d8_af66_11e9_85fb_032492921ecbrow2_col4 {\n",
       "            background-color:  yellow;\n",
       "        }    #T_4ac5d9d8_af66_11e9_85fb_032492921ecbrow3_col0 {\n",
       "            background-color:  white;\n",
       "        }    #T_4ac5d9d8_af66_11e9_85fb_032492921ecbrow3_col1 {\n",
       "            background-color:  white;\n",
       "        }    #T_4ac5d9d8_af66_11e9_85fb_032492921ecbrow3_col2 {\n",
       "            background-color:  white;\n",
       "        }    #T_4ac5d9d8_af66_11e9_85fb_032492921ecbrow3_col3 {\n",
       "            background-color:  white;\n",
       "        }    #T_4ac5d9d8_af66_11e9_85fb_032492921ecbrow3_col4 {\n",
       "            background-color:  white;\n",
       "        }</style><table id=\"T_4ac5d9d8_af66_11e9_85fb_032492921ecb\" ><thead>    <tr>        <th class=\"blank level0\" ></th>        <th class=\"col_heading level0 col0\" >Intern</th>        <th class=\"col_heading level0 col1\" >Ranking</th>        <th class=\"col_heading level0 col2\" >Erlöse</th>        <th class=\"col_heading level0 col3\" >Beste Universität</th>        <th class=\"col_heading level0 col4\" >Universität im Vergleich</th>    </tr>    <tr>        <th class=\"index_name level0\" >WZW</th>        <th class=\"blank\" ></th>        <th class=\"blank\" ></th>        <th class=\"blank\" ></th>        <th class=\"blank\" ></th>        <th class=\"blank\" ></th>    </tr></thead><tbody>\n",
       "                <tr>\n",
       "                        <th id=\"T_4ac5d9d8_af66_11e9_85fb_032492921ecblevel0_row0\" class=\"row_heading level0 row0\" >FWF</th>\n",
       "                        <td id=\"T_4ac5d9d8_af66_11e9_85fb_032492921ecbrow0_col0\" class=\"data row0 col0\" >33.00%</td>\n",
       "                        <td id=\"T_4ac5d9d8_af66_11e9_85fb_032492921ecbrow0_col1\" class=\"data row0 col1\" >4. Platz</td>\n",
       "                        <td id=\"T_4ac5d9d8_af66_11e9_85fb_032492921ecbrow0_col2\" class=\"data row0 col2\" >16,317,638 €</td>\n",
       "                        <td id=\"T_4ac5d9d8_af66_11e9_85fb_032492921ecbrow0_col3\" class=\"data row0 col3\" >Universität Wien (41.1 Mio. €)</td>\n",
       "                        <td id=\"T_4ac5d9d8_af66_11e9_85fb_032492921ecbrow0_col4\" class=\"data row0 col4\" ><img src=\"UIN_FWF.png\", width=250, height=200/></td>\n",
       "            </tr>\n",
       "            <tr>\n",
       "                        <th id=\"T_4ac5d9d8_af66_11e9_85fb_032492921ecblevel0_row1\" class=\"row_heading level0 row1\" >EU</th>\n",
       "                        <td id=\"T_4ac5d9d8_af66_11e9_85fb_032492921ecbrow1_col0\" class=\"data row1 col0\" >17.28%</td>\n",
       "                        <td id=\"T_4ac5d9d8_af66_11e9_85fb_032492921ecbrow1_col1\" class=\"data row1 col1\" >4. Platz</td>\n",
       "                        <td id=\"T_4ac5d9d8_af66_11e9_85fb_032492921ecbrow1_col2\" class=\"data row1 col2\" >8,544,360 €</td>\n",
       "                        <td id=\"T_4ac5d9d8_af66_11e9_85fb_032492921ecbrow1_col3\" class=\"data row1 col3\" >Technische Universität Wien (14.7 Mio. €)</td>\n",
       "                        <td id=\"T_4ac5d9d8_af66_11e9_85fb_032492921ecbrow1_col4\" class=\"data row1 col4\" ><img src=\"UIN_EU.png\", width=250, height=200/></td>\n",
       "            </tr>\n",
       "            <tr>\n",
       "                        <th id=\"T_4ac5d9d8_af66_11e9_85fb_032492921ecblevel0_row2\" class=\"row_heading level0 row2\" >Länder (inkl. deren Stiftungen und Einrichtungen)</th>\n",
       "                        <td id=\"T_4ac5d9d8_af66_11e9_85fb_032492921ecbrow2_col0\" class=\"data row2 col0\" >11.12%</td>\n",
       "                        <td id=\"T_4ac5d9d8_af66_11e9_85fb_032492921ecbrow2_col1\" class=\"data row2 col1\" >2. Platz</td>\n",
       "                        <td id=\"T_4ac5d9d8_af66_11e9_85fb_032492921ecbrow2_col2\" class=\"data row2 col2\" >5,495,536 €</td>\n",
       "                        <td id=\"T_4ac5d9d8_af66_11e9_85fb_032492921ecbrow2_col3\" class=\"data row2 col3\" >Universität Wien (5.6 Mio. €)</td>\n",
       "                        <td id=\"T_4ac5d9d8_af66_11e9_85fb_032492921ecbrow2_col4\" class=\"data row2 col4\" ><img src=\"UIN_Länder_inkl._deren_Stiftungen_und_Einrichtungen.png\", width=250, height=200/></td>\n",
       "            </tr>\n",
       "            <tr>\n",
       "                        <th id=\"T_4ac5d9d8_af66_11e9_85fb_032492921ecblevel0_row3\" class=\"row_heading level0 row3\" >Unternehmen</th>\n",
       "                        <td id=\"T_4ac5d9d8_af66_11e9_85fb_032492921ecbrow3_col0\" class=\"data row3 col0\" >9.70%</td>\n",
       "                        <td id=\"T_4ac5d9d8_af66_11e9_85fb_032492921ecbrow3_col1\" class=\"data row3 col1\" >9. Platz</td>\n",
       "                        <td id=\"T_4ac5d9d8_af66_11e9_85fb_032492921ecbrow3_col2\" class=\"data row3 col2\" >4,795,888 €</td>\n",
       "                        <td id=\"T_4ac5d9d8_af66_11e9_85fb_032492921ecbrow3_col3\" class=\"data row3 col3\" >Medizinische Universität Graz (32.4 Mio. €)</td>\n",
       "                        <td id=\"T_4ac5d9d8_af66_11e9_85fb_032492921ecbrow3_col4\" class=\"data row3 col4\" ><img src=\"UIN_Unternehmen.png\", width=250, height=200/></td>\n",
       "            </tr>\n",
       "    </tbody></table>"
      ],
      "text/plain": [
       "<IPython.core.display.HTML object>"
      ]
     },
     "metadata": {},
     "output_type": "display_data"
    },
    {
     "data": {
      "text/html": [
       "<h4>Ähnliche Universitäten aufgrund der Drittmittel-Struktur</h3>"
      ],
      "text/plain": [
       "<IPython.core.display.HTML object>"
      ]
     },
     "metadata": {},
     "output_type": "display_data"
    },
    {
     "data": {
      "text/html": [
       "<p><strong>USA</strong> (79.4%, wegen &auml;hnlicher Relevanz von FWF, EU, sonstige öffentlich-rechtliche Einrichtungen (Körperschaften, Stiftungen, Fonds etc.)), <strong>UGR</strong> (75.5%, wegen &auml;hnlicher Relevanz von FWF, EU, Länder (inkl. deren Stiftungen und Einrichtungen)), <strong>UWI</strong> (74.9%, wegen &auml;hnlicher Relevanz von FWF, EU, Länder (inkl. deren Stiftungen und Einrichtungen)), <strong>UAW</strong> (74.9%, wegen &auml;hnlicher Relevanz von FWF, EU, Unternehmen), <strong>TUW</strong> (71.5%, wegen &auml;hnlicher Relevanz von FWF, EU, Unternehmen), <strong>UKL</strong> (70.4%, wegen &auml;hnlicher Relevanz von FWF, EU, Unternehmen)</p>"
      ],
      "text/plain": [
       "<IPython.core.display.HTML object>"
      ]
     },
     "metadata": {},
     "output_type": "display_data"
    },
    {
     "data": {
      "text/html": [
       "<p><small>Universitäten mit einer Ähnlichkeit von weniger als 50% werden nicht angezeigt.</small></p>"
      ],
      "text/plain": [
       "<IPython.core.display.HTML object>"
      ]
     },
     "metadata": {},
     "output_type": "display_data"
    },
    {
     "data": {
      "text/html": [
       "<h3>Universität Mozarteum Salzburg</h3>"
      ],
      "text/plain": [
       "<IPython.core.display.HTML object>"
      ]
     },
     "metadata": {},
     "output_type": "display_data"
    },
    {
     "data": {
      "text/html": [
       "<h4>Drittmittel-Struktur</h4>"
      ],
      "text/plain": [
       "<IPython.core.display.HTML object>"
      ]
     },
     "metadata": {},
     "output_type": "display_data"
    },
    {
     "data": {
      "text/html": [
       "Angezeigt werden die gr&ouml;&szlig;ten WZW, die insgesamt mehr als 66.7% der Erl&ouml;se an der Universität Mozarteum Salzburg ausmachen (exakt: 72.8%). Jeder andere WZW tr&auml;gt weniger als 13.7% bei. Die Spalte \"Ranking\" bezieht sich  auf den &ouml;sterreichweiten Vergleich der absoluten Werte im jeweiligen WZW."
      ],
      "text/plain": [
       "<IPython.core.display.HTML object>"
      ]
     },
     "metadata": {},
     "output_type": "display_data"
    },
    {
     "data": {
      "text/html": [
       "<style  type=\"text/css\" >\n",
       "    #T_4aee8c5c_af66_11e9_85fb_032492921ecbrow0_col0 {\n",
       "            background-color:  white;\n",
       "        }    #T_4aee8c5c_af66_11e9_85fb_032492921ecbrow0_col1 {\n",
       "            background-color:  white;\n",
       "        }    #T_4aee8c5c_af66_11e9_85fb_032492921ecbrow0_col2 {\n",
       "            background-color:  white;\n",
       "        }    #T_4aee8c5c_af66_11e9_85fb_032492921ecbrow0_col3 {\n",
       "            background-color:  white;\n",
       "        }    #T_4aee8c5c_af66_11e9_85fb_032492921ecbrow0_col4 {\n",
       "            background-color:  white;\n",
       "        }    #T_4aee8c5c_af66_11e9_85fb_032492921ecbrow1_col0 {\n",
       "            background-color:  white;\n",
       "        }    #T_4aee8c5c_af66_11e9_85fb_032492921ecbrow1_col1 {\n",
       "            background-color:  white;\n",
       "        }    #T_4aee8c5c_af66_11e9_85fb_032492921ecbrow1_col2 {\n",
       "            background-color:  white;\n",
       "        }    #T_4aee8c5c_af66_11e9_85fb_032492921ecbrow1_col3 {\n",
       "            background-color:  white;\n",
       "        }    #T_4aee8c5c_af66_11e9_85fb_032492921ecbrow1_col4 {\n",
       "            background-color:  white;\n",
       "        }</style><table id=\"T_4aee8c5c_af66_11e9_85fb_032492921ecb\" ><thead>    <tr>        <th class=\"blank level0\" ></th>        <th class=\"col_heading level0 col0\" >Intern</th>        <th class=\"col_heading level0 col1\" >Ranking</th>        <th class=\"col_heading level0 col2\" >Erlöse</th>        <th class=\"col_heading level0 col3\" >Beste Universität</th>        <th class=\"col_heading level0 col4\" >Universität im Vergleich</th>    </tr>    <tr>        <th class=\"index_name level0\" >WZW</th>        <th class=\"blank\" ></th>        <th class=\"blank\" ></th>        <th class=\"blank\" ></th>        <th class=\"blank\" ></th>        <th class=\"blank\" ></th>    </tr></thead><tbody>\n",
       "                <tr>\n",
       "                        <th id=\"T_4aee8c5c_af66_11e9_85fb_032492921ecblevel0_row0\" class=\"row_heading level0 row0\" >Private (Stiftungen, Vereine, etc.)</th>\n",
       "                        <td id=\"T_4aee8c5c_af66_11e9_85fb_032492921ecbrow0_col0\" class=\"data row0 col0\" >59.10%</td>\n",
       "                        <td id=\"T_4aee8c5c_af66_11e9_85fb_032492921ecbrow0_col1\" class=\"data row0 col1\" >10. Platz</td>\n",
       "                        <td id=\"T_4aee8c5c_af66_11e9_85fb_032492921ecbrow0_col2\" class=\"data row0 col2\" >817,783 €</td>\n",
       "                        <td id=\"T_4aee8c5c_af66_11e9_85fb_032492921ecbrow0_col3\" class=\"data row0 col3\" >Medizinische Universität Wien (9.1 Mio. €)</td>\n",
       "                        <td id=\"T_4aee8c5c_af66_11e9_85fb_032492921ecbrow0_col4\" class=\"data row0 col4\" ><img src=\"UMS_Private_Stiftungen_Vereine_etc..png\", width=250, height=200/></td>\n",
       "            </tr>\n",
       "            <tr>\n",
       "                        <th id=\"T_4aee8c5c_af66_11e9_85fb_032492921ecblevel0_row1\" class=\"row_heading level0 row1\" >Bund (Ministerien)</th>\n",
       "                        <td id=\"T_4aee8c5c_af66_11e9_85fb_032492921ecbrow1_col0\" class=\"data row1 col0\" >13.69%</td>\n",
       "                        <td id=\"T_4aee8c5c_af66_11e9_85fb_032492921ecbrow1_col1\" class=\"data row1 col1\" >18. Platz</td>\n",
       "                        <td id=\"T_4aee8c5c_af66_11e9_85fb_032492921ecbrow1_col2\" class=\"data row1 col2\" >189,434 €</td>\n",
       "                        <td id=\"T_4aee8c5c_af66_11e9_85fb_032492921ecbrow1_col3\" class=\"data row1 col3\" >Medizinische Universität Innsbruck (3.7 Mio. €)</td>\n",
       "                        <td id=\"T_4aee8c5c_af66_11e9_85fb_032492921ecbrow1_col4\" class=\"data row1 col4\" ><img src=\"UMS_Bund_Ministerien.png\", width=250, height=200/></td>\n",
       "            </tr>\n",
       "    </tbody></table>"
      ],
      "text/plain": [
       "<IPython.core.display.HTML object>"
      ]
     },
     "metadata": {},
     "output_type": "display_data"
    },
    {
     "data": {
      "text/html": [
       "<h4>Ähnliche Universitäten aufgrund der Drittmittel-Struktur</h3>"
      ],
      "text/plain": [
       "<IPython.core.display.HTML object>"
      ]
     },
     "metadata": {},
     "output_type": "display_data"
    },
    {
     "data": {
      "text/html": [
       "<p><strong>VMW</strong> (56.8%, wegen &auml;hnlicher Relevanz von Private (Stiftungen, Vereine, etc.), sonstige öffentlich-rechtliche Einrichtungen (Körperschaften, Stiftungen, Fonds etc.), Unternehmen)</p>"
      ],
      "text/plain": [
       "<IPython.core.display.HTML object>"
      ]
     },
     "metadata": {},
     "output_type": "display_data"
    },
    {
     "data": {
      "text/html": [
       "<p><small>Universitäten mit einer Ähnlichkeit von weniger als 50% werden nicht angezeigt.</small></p>"
      ],
      "text/plain": [
       "<IPython.core.display.HTML object>"
      ]
     },
     "metadata": {},
     "output_type": "display_data"
    },
    {
     "data": {
      "text/html": [
       "<h3>Universität für Weiterbildung Krems</h3>"
      ],
      "text/plain": [
       "<IPython.core.display.HTML object>"
      ]
     },
     "metadata": {},
     "output_type": "display_data"
    },
    {
     "data": {
      "text/html": [
       "<h4>Drittmittel-Struktur</h4>"
      ],
      "text/plain": [
       "<IPython.core.display.HTML object>"
      ]
     },
     "metadata": {},
     "output_type": "display_data"
    },
    {
     "data": {
      "text/html": [
       "Angezeigt werden die gr&ouml;&szlig;ten WZW, die insgesamt mehr als 66.7% der Erl&ouml;se an der Universität für Weiterbildung Krems ausmachen (exakt: 73.7%). Jeder andere WZW tr&auml;gt weniger als 11.5% bei. Die Spalte \"Ranking\" bezieht sich  auf den &ouml;sterreichweiten Vergleich der absoluten Werte im jeweiligen WZW."
      ],
      "text/plain": [
       "<IPython.core.display.HTML object>"
      ]
     },
     "metadata": {},
     "output_type": "display_data"
    },
    {
     "data": {
      "text/html": [
       "<style  type=\"text/css\" >\n",
       "    #T_4b34db80_af66_11e9_85fb_032492921ecbrow0_col0 {\n",
       "            background-color:  white;\n",
       "        }    #T_4b34db80_af66_11e9_85fb_032492921ecbrow0_col1 {\n",
       "            background-color:  white;\n",
       "        }    #T_4b34db80_af66_11e9_85fb_032492921ecbrow0_col2 {\n",
       "            background-color:  white;\n",
       "        }    #T_4b34db80_af66_11e9_85fb_032492921ecbrow0_col3 {\n",
       "            background-color:  white;\n",
       "        }    #T_4b34db80_af66_11e9_85fb_032492921ecbrow0_col4 {\n",
       "            background-color:  white;\n",
       "        }    #T_4b34db80_af66_11e9_85fb_032492921ecbrow1_col0 {\n",
       "            background-color:  white;\n",
       "        }    #T_4b34db80_af66_11e9_85fb_032492921ecbrow1_col1 {\n",
       "            background-color:  white;\n",
       "        }    #T_4b34db80_af66_11e9_85fb_032492921ecbrow1_col2 {\n",
       "            background-color:  white;\n",
       "        }    #T_4b34db80_af66_11e9_85fb_032492921ecbrow1_col3 {\n",
       "            background-color:  white;\n",
       "        }    #T_4b34db80_af66_11e9_85fb_032492921ecbrow1_col4 {\n",
       "            background-color:  white;\n",
       "        }    #T_4b34db80_af66_11e9_85fb_032492921ecbrow2_col0 {\n",
       "            background-color:  white;\n",
       "        }    #T_4b34db80_af66_11e9_85fb_032492921ecbrow2_col1 {\n",
       "            background-color:  white;\n",
       "        }    #T_4b34db80_af66_11e9_85fb_032492921ecbrow2_col2 {\n",
       "            background-color:  white;\n",
       "        }    #T_4b34db80_af66_11e9_85fb_032492921ecbrow2_col3 {\n",
       "            background-color:  white;\n",
       "        }    #T_4b34db80_af66_11e9_85fb_032492921ecbrow2_col4 {\n",
       "            background-color:  white;\n",
       "        }    #T_4b34db80_af66_11e9_85fb_032492921ecbrow3_col0 {\n",
       "            background-color:  white;\n",
       "        }    #T_4b34db80_af66_11e9_85fb_032492921ecbrow3_col1 {\n",
       "            background-color:  white;\n",
       "        }    #T_4b34db80_af66_11e9_85fb_032492921ecbrow3_col2 {\n",
       "            background-color:  white;\n",
       "        }    #T_4b34db80_af66_11e9_85fb_032492921ecbrow3_col3 {\n",
       "            background-color:  white;\n",
       "        }    #T_4b34db80_af66_11e9_85fb_032492921ecbrow3_col4 {\n",
       "            background-color:  white;\n",
       "        }</style><table id=\"T_4b34db80_af66_11e9_85fb_032492921ecb\" ><thead>    <tr>        <th class=\"blank level0\" ></th>        <th class=\"col_heading level0 col0\" >Intern</th>        <th class=\"col_heading level0 col1\" >Ranking</th>        <th class=\"col_heading level0 col2\" >Erlöse</th>        <th class=\"col_heading level0 col3\" >Beste Universität</th>        <th class=\"col_heading level0 col4\" >Universität im Vergleich</th>    </tr>    <tr>        <th class=\"index_name level0\" >WZW</th>        <th class=\"blank\" ></th>        <th class=\"blank\" ></th>        <th class=\"blank\" ></th>        <th class=\"blank\" ></th>        <th class=\"blank\" ></th>    </tr></thead><tbody>\n",
       "                <tr>\n",
       "                        <th id=\"T_4b34db80_af66_11e9_85fb_032492921ecblevel0_row0\" class=\"row_heading level0 row0\" >Länder (inkl. deren Stiftungen und Einrichtungen)</th>\n",
       "                        <td id=\"T_4b34db80_af66_11e9_85fb_032492921ecbrow0_col0\" class=\"data row0 col0\" >34.67%</td>\n",
       "                        <td id=\"T_4b34db80_af66_11e9_85fb_032492921ecbrow0_col1\" class=\"data row0 col1\" >7. Platz</td>\n",
       "                        <td id=\"T_4b34db80_af66_11e9_85fb_032492921ecbrow0_col2\" class=\"data row0 col2\" >2,291,288 €</td>\n",
       "                        <td id=\"T_4b34db80_af66_11e9_85fb_032492921ecbrow0_col3\" class=\"data row0 col3\" >Universität Wien (5.6 Mio. €)</td>\n",
       "                        <td id=\"T_4b34db80_af66_11e9_85fb_032492921ecbrow0_col4\" class=\"data row0 col4\" ><img src=\"UWK_Länder_inkl._deren_Stiftungen_und_Einrichtungen.png\", width=250, height=200/></td>\n",
       "            </tr>\n",
       "            <tr>\n",
       "                        <th id=\"T_4b34db80_af66_11e9_85fb_032492921ecblevel0_row1\" class=\"row_heading level0 row1\" >FFG</th>\n",
       "                        <td id=\"T_4b34db80_af66_11e9_85fb_032492921ecbrow1_col0\" class=\"data row1 col0\" >15.25%</td>\n",
       "                        <td id=\"T_4b34db80_af66_11e9_85fb_032492921ecbrow1_col1\" class=\"data row1 col1\" >11. Platz</td>\n",
       "                        <td id=\"T_4b34db80_af66_11e9_85fb_032492921ecbrow1_col2\" class=\"data row1 col2\" >1,007,981 €</td>\n",
       "                        <td id=\"T_4b34db80_af66_11e9_85fb_032492921ecbrow1_col3\" class=\"data row1 col3\" >Technische Universität Graz (19.0 Mio. €)</td>\n",
       "                        <td id=\"T_4b34db80_af66_11e9_85fb_032492921ecbrow1_col4\" class=\"data row1 col4\" ><img src=\"UWK_FFG.png\", width=250, height=200/></td>\n",
       "            </tr>\n",
       "            <tr>\n",
       "                        <th id=\"T_4b34db80_af66_11e9_85fb_032492921ecblevel0_row2\" class=\"row_heading level0 row2\" >EU</th>\n",
       "                        <td id=\"T_4b34db80_af66_11e9_85fb_032492921ecbrow2_col0\" class=\"data row2 col0\" >12.27%</td>\n",
       "                        <td id=\"T_4b34db80_af66_11e9_85fb_032492921ecbrow2_col1\" class=\"data row2 col1\" >15. Platz</td>\n",
       "                        <td id=\"T_4b34db80_af66_11e9_85fb_032492921ecbrow2_col2\" class=\"data row2 col2\" >811,092 €</td>\n",
       "                        <td id=\"T_4b34db80_af66_11e9_85fb_032492921ecbrow2_col3\" class=\"data row2 col3\" >Technische Universität Wien (14.7 Mio. €)</td>\n",
       "                        <td id=\"T_4b34db80_af66_11e9_85fb_032492921ecbrow2_col4\" class=\"data row2 col4\" ><img src=\"UWK_EU.png\", width=250, height=200/></td>\n",
       "            </tr>\n",
       "            <tr>\n",
       "                        <th id=\"T_4b34db80_af66_11e9_85fb_032492921ecblevel0_row3\" class=\"row_heading level0 row3\" >Bund (Ministerien)</th>\n",
       "                        <td id=\"T_4b34db80_af66_11e9_85fb_032492921ecbrow3_col0\" class=\"data row3 col0\" >11.49%</td>\n",
       "                        <td id=\"T_4b34db80_af66_11e9_85fb_032492921ecbrow3_col1\" class=\"data row3 col1\" >12. Platz</td>\n",
       "                        <td id=\"T_4b34db80_af66_11e9_85fb_032492921ecbrow3_col2\" class=\"data row3 col2\" >759,462 €</td>\n",
       "                        <td id=\"T_4b34db80_af66_11e9_85fb_032492921ecbrow3_col3\" class=\"data row3 col3\" >Medizinische Universität Innsbruck (3.7 Mio. €)</td>\n",
       "                        <td id=\"T_4b34db80_af66_11e9_85fb_032492921ecbrow3_col4\" class=\"data row3 col4\" ><img src=\"UWK_Bund_Ministerien.png\", width=250, height=200/></td>\n",
       "            </tr>\n",
       "    </tbody></table>"
      ],
      "text/plain": [
       "<IPython.core.display.HTML object>"
      ]
     },
     "metadata": {},
     "output_type": "display_data"
    },
    {
     "data": {
      "text/html": [
       "<h4>Ähnliche Universitäten aufgrund der Drittmittel-Struktur</h3>"
      ],
      "text/plain": [
       "<IPython.core.display.HTML object>"
      ]
     },
     "metadata": {},
     "output_type": "display_data"
    },
    {
     "data": {
      "text/html": [
       "<p><strong>UKL</strong> (65.2%, wegen &auml;hnlicher Relevanz von EU, Bund (Ministerien), FFG), <strong>MUL</strong> (56.5%, wegen &auml;hnlicher Relevanz von FFG, Länder (inkl. deren Stiftungen und Einrichtungen), EU), <strong>UIN</strong> (54.4%, wegen &auml;hnlicher Relevanz von EU, Länder (inkl. deren Stiftungen und Einrichtungen), FFG), <strong>BKW</strong> (52.5%, wegen &auml;hnlicher Relevanz von EU, Bund (Ministerien), Länder (inkl. deren Stiftungen und Einrichtungen)), <strong>USA</strong> (51.2%, wegen &auml;hnlicher Relevanz von EU, Länder (inkl. deren Stiftungen und Einrichtungen), Bund (Ministerien)), <strong>TUW</strong> (51.1%, wegen &auml;hnlicher Relevanz von FFG, EU, Unternehmen)</p>"
      ],
      "text/plain": [
       "<IPython.core.display.HTML object>"
      ]
     },
     "metadata": {},
     "output_type": "display_data"
    },
    {
     "data": {
      "text/html": [
       "<p><small>Universitäten mit einer Ähnlichkeit von weniger als 50% werden nicht angezeigt.</small></p>"
      ],
      "text/plain": [
       "<IPython.core.display.HTML object>"
      ]
     },
     "metadata": {},
     "output_type": "display_data"
    },
    {
     "data": {
      "text/html": [
       "<h3>Medizinische Universität Graz</h3>"
      ],
      "text/plain": [
       "<IPython.core.display.HTML object>"
      ]
     },
     "metadata": {},
     "output_type": "display_data"
    },
    {
     "data": {
      "text/html": [
       "<h4>Drittmittel-Struktur</h4>"
      ],
      "text/plain": [
       "<IPython.core.display.HTML object>"
      ]
     },
     "metadata": {},
     "output_type": "display_data"
    },
    {
     "data": {
      "text/html": [
       "Angezeigt werden die gr&ouml;&szlig;ten WZW, die insgesamt mehr als 66.7% der Erl&ouml;se an der Medizinische Universität Graz ausmachen (exakt: 73.6%). Jeder andere WZW tr&auml;gt weniger als 9.1% bei. Die Spalte \"Ranking\" bezieht sich  auf den &ouml;sterreichweiten Vergleich der absoluten Werte im jeweiligen WZW."
      ],
      "text/plain": [
       "<IPython.core.display.HTML object>"
      ]
     },
     "metadata": {},
     "output_type": "display_data"
    },
    {
     "data": {
      "text/html": [
       "<style  type=\"text/css\" >\n",
       "    #T_4b526218_af66_11e9_85fb_032492921ecbrow0_col0 {\n",
       "            background-color:  green;\n",
       "        }    #T_4b526218_af66_11e9_85fb_032492921ecbrow0_col1 {\n",
       "            background-color:  green;\n",
       "        }    #T_4b526218_af66_11e9_85fb_032492921ecbrow0_col2 {\n",
       "            background-color:  green;\n",
       "        }    #T_4b526218_af66_11e9_85fb_032492921ecbrow0_col3 {\n",
       "            background-color:  green;\n",
       "        }    #T_4b526218_af66_11e9_85fb_032492921ecbrow0_col4 {\n",
       "            background-color:  green;\n",
       "        }    #T_4b526218_af66_11e9_85fb_032492921ecbrow1_col0 {\n",
       "            background-color:  white;\n",
       "        }    #T_4b526218_af66_11e9_85fb_032492921ecbrow1_col1 {\n",
       "            background-color:  white;\n",
       "        }    #T_4b526218_af66_11e9_85fb_032492921ecbrow1_col2 {\n",
       "            background-color:  white;\n",
       "        }    #T_4b526218_af66_11e9_85fb_032492921ecbrow1_col3 {\n",
       "            background-color:  white;\n",
       "        }    #T_4b526218_af66_11e9_85fb_032492921ecbrow1_col4 {\n",
       "            background-color:  white;\n",
       "        }</style><table id=\"T_4b526218_af66_11e9_85fb_032492921ecb\" ><thead>    <tr>        <th class=\"blank level0\" ></th>        <th class=\"col_heading level0 col0\" >Intern</th>        <th class=\"col_heading level0 col1\" >Ranking</th>        <th class=\"col_heading level0 col2\" >Erlöse</th>        <th class=\"col_heading level0 col3\" >Beste Universität</th>        <th class=\"col_heading level0 col4\" >Universität im Vergleich</th>    </tr>    <tr>        <th class=\"index_name level0\" >WZW</th>        <th class=\"blank\" ></th>        <th class=\"blank\" ></th>        <th class=\"blank\" ></th>        <th class=\"blank\" ></th>        <th class=\"blank\" ></th>    </tr></thead><tbody>\n",
       "                <tr>\n",
       "                        <th id=\"T_4b526218_af66_11e9_85fb_032492921ecblevel0_row0\" class=\"row_heading level0 row0\" >Unternehmen</th>\n",
       "                        <td id=\"T_4b526218_af66_11e9_85fb_032492921ecbrow0_col0\" class=\"data row0 col0\" >64.48%</td>\n",
       "                        <td id=\"T_4b526218_af66_11e9_85fb_032492921ecbrow0_col1\" class=\"data row0 col1\" >1. Platz</td>\n",
       "                        <td id=\"T_4b526218_af66_11e9_85fb_032492921ecbrow0_col2\" class=\"data row0 col2\" >32,440,938 €</td>\n",
       "                        <td id=\"T_4b526218_af66_11e9_85fb_032492921ecbrow0_col3\" class=\"data row0 col3\" >(diese)</td>\n",
       "                        <td id=\"T_4b526218_af66_11e9_85fb_032492921ecbrow0_col4\" class=\"data row0 col4\" ><img src=\"MUG_Unternehmen.png\", width=250, height=200/></td>\n",
       "            </tr>\n",
       "            <tr>\n",
       "                        <th id=\"T_4b526218_af66_11e9_85fb_032492921ecblevel0_row1\" class=\"row_heading level0 row1\" >Länder (inkl. deren Stiftungen und Einrichtungen)</th>\n",
       "                        <td id=\"T_4b526218_af66_11e9_85fb_032492921ecbrow1_col0\" class=\"data row1 col0\" >9.11%</td>\n",
       "                        <td id=\"T_4b526218_af66_11e9_85fb_032492921ecbrow1_col1\" class=\"data row1 col1\" >4. Platz</td>\n",
       "                        <td id=\"T_4b526218_af66_11e9_85fb_032492921ecbrow1_col2\" class=\"data row1 col2\" >4,585,606 €</td>\n",
       "                        <td id=\"T_4b526218_af66_11e9_85fb_032492921ecbrow1_col3\" class=\"data row1 col3\" >Universität Wien (5.6 Mio. €)</td>\n",
       "                        <td id=\"T_4b526218_af66_11e9_85fb_032492921ecbrow1_col4\" class=\"data row1 col4\" ><img src=\"MUG_Länder_inkl._deren_Stiftungen_und_Einrichtungen.png\", width=250, height=200/></td>\n",
       "            </tr>\n",
       "    </tbody></table>"
      ],
      "text/plain": [
       "<IPython.core.display.HTML object>"
      ]
     },
     "metadata": {},
     "output_type": "display_data"
    },
    {
     "data": {
      "text/html": [
       "<h4>Ähnliche Universitäten aufgrund der Drittmittel-Struktur</h3>"
      ],
      "text/plain": [
       "<IPython.core.display.HTML object>"
      ]
     },
     "metadata": {},
     "output_type": "display_data"
    },
    {
     "data": {
      "text/html": [
       "<p><strong>MUI</strong> (73.4%, wegen &auml;hnlicher Relevanz von Unternehmen, FWF, EU), <strong>BKW</strong> (58.5%, wegen &auml;hnlicher Relevanz von Unternehmen, FWF, Länder (inkl. deren Stiftungen und Einrichtungen)), <strong>TUG</strong> (54.4%, wegen &auml;hnlicher Relevanz von Unternehmen, FWF, EU), <strong>MUL</strong> (54.3%, wegen &auml;hnlicher Relevanz von Unternehmen, Länder (inkl. deren Stiftungen und Einrichtungen), EU), <strong>UKL</strong> (53.0%, wegen &auml;hnlicher Relevanz von Unternehmen, FWF, Länder (inkl. deren Stiftungen und Einrichtungen))</p>"
      ],
      "text/plain": [
       "<IPython.core.display.HTML object>"
      ]
     },
     "metadata": {},
     "output_type": "display_data"
    },
    {
     "data": {
      "text/html": [
       "<p><small>Universitäten mit einer Ähnlichkeit von weniger als 50% werden nicht angezeigt.</small></p>"
      ],
      "text/plain": [
       "<IPython.core.display.HTML object>"
      ]
     },
     "metadata": {},
     "output_type": "display_data"
    },
    {
     "data": {
      "text/html": [
       "<h3>Medizinische Universität Innsbruck</h3>"
      ],
      "text/plain": [
       "<IPython.core.display.HTML object>"
      ]
     },
     "metadata": {},
     "output_type": "display_data"
    },
    {
     "data": {
      "text/html": [
       "<h4>Drittmittel-Struktur</h4>"
      ],
      "text/plain": [
       "<IPython.core.display.HTML object>"
      ]
     },
     "metadata": {},
     "output_type": "display_data"
    },
    {
     "data": {
      "text/html": [
       "Angezeigt werden die gr&ouml;&szlig;ten WZW, die insgesamt mehr als 66.7% der Erl&ouml;se an der Medizinische Universität Innsbruck ausmachen (exakt: 70.0%). Jeder andere WZW tr&auml;gt weniger als 19.5% bei. Die Spalte \"Ranking\" bezieht sich  auf den &ouml;sterreichweiten Vergleich der absoluten Werte im jeweiligen WZW."
      ],
      "text/plain": [
       "<IPython.core.display.HTML object>"
      ]
     },
     "metadata": {},
     "output_type": "display_data"
    },
    {
     "data": {
      "text/html": [
       "<style  type=\"text/css\" >\n",
       "    #T_4b7440b8_af66_11e9_85fb_032492921ecbrow0_col0 {\n",
       "            background-color:  white;\n",
       "        }    #T_4b7440b8_af66_11e9_85fb_032492921ecbrow0_col1 {\n",
       "            background-color:  white;\n",
       "        }    #T_4b7440b8_af66_11e9_85fb_032492921ecbrow0_col2 {\n",
       "            background-color:  white;\n",
       "        }    #T_4b7440b8_af66_11e9_85fb_032492921ecbrow0_col3 {\n",
       "            background-color:  white;\n",
       "        }    #T_4b7440b8_af66_11e9_85fb_032492921ecbrow0_col4 {\n",
       "            background-color:  white;\n",
       "        }    #T_4b7440b8_af66_11e9_85fb_032492921ecbrow1_col0 {\n",
       "            background-color:  white;\n",
       "        }    #T_4b7440b8_af66_11e9_85fb_032492921ecbrow1_col1 {\n",
       "            background-color:  white;\n",
       "        }    #T_4b7440b8_af66_11e9_85fb_032492921ecbrow1_col2 {\n",
       "            background-color:  white;\n",
       "        }    #T_4b7440b8_af66_11e9_85fb_032492921ecbrow1_col3 {\n",
       "            background-color:  white;\n",
       "        }    #T_4b7440b8_af66_11e9_85fb_032492921ecbrow1_col4 {\n",
       "            background-color:  white;\n",
       "        }</style><table id=\"T_4b7440b8_af66_11e9_85fb_032492921ecb\" ><thead>    <tr>        <th class=\"blank level0\" ></th>        <th class=\"col_heading level0 col0\" >Intern</th>        <th class=\"col_heading level0 col1\" >Ranking</th>        <th class=\"col_heading level0 col2\" >Erlöse</th>        <th class=\"col_heading level0 col3\" >Beste Universität</th>        <th class=\"col_heading level0 col4\" >Universität im Vergleich</th>    </tr>    <tr>        <th class=\"index_name level0\" >WZW</th>        <th class=\"blank\" ></th>        <th class=\"blank\" ></th>        <th class=\"blank\" ></th>        <th class=\"blank\" ></th>        <th class=\"blank\" ></th>    </tr></thead><tbody>\n",
       "                <tr>\n",
       "                        <th id=\"T_4b7440b8_af66_11e9_85fb_032492921ecblevel0_row0\" class=\"row_heading level0 row0\" >Unternehmen</th>\n",
       "                        <td id=\"T_4b7440b8_af66_11e9_85fb_032492921ecbrow0_col0\" class=\"data row0 col0\" >50.51%</td>\n",
       "                        <td id=\"T_4b7440b8_af66_11e9_85fb_032492921ecbrow0_col1\" class=\"data row0 col1\" >5. Platz</td>\n",
       "                        <td id=\"T_4b7440b8_af66_11e9_85fb_032492921ecbrow0_col2\" class=\"data row0 col2\" >21,297,441 €</td>\n",
       "                        <td id=\"T_4b7440b8_af66_11e9_85fb_032492921ecbrow0_col3\" class=\"data row0 col3\" >Medizinische Universität Graz (32.4 Mio. €)</td>\n",
       "                        <td id=\"T_4b7440b8_af66_11e9_85fb_032492921ecbrow0_col4\" class=\"data row0 col4\" ><img src=\"MUI_Unternehmen.png\", width=250, height=200/></td>\n",
       "            </tr>\n",
       "            <tr>\n",
       "                        <th id=\"T_4b7440b8_af66_11e9_85fb_032492921ecblevel0_row1\" class=\"row_heading level0 row1\" >FWF</th>\n",
       "                        <td id=\"T_4b7440b8_af66_11e9_85fb_032492921ecbrow1_col0\" class=\"data row1 col0\" >19.52%</td>\n",
       "                        <td id=\"T_4b7440b8_af66_11e9_85fb_032492921ecbrow1_col1\" class=\"data row1 col1\" >6. Platz</td>\n",
       "                        <td id=\"T_4b7440b8_af66_11e9_85fb_032492921ecbrow1_col2\" class=\"data row1 col2\" >8,230,127 €</td>\n",
       "                        <td id=\"T_4b7440b8_af66_11e9_85fb_032492921ecbrow1_col3\" class=\"data row1 col3\" >Universität Wien (41.1 Mio. €)</td>\n",
       "                        <td id=\"T_4b7440b8_af66_11e9_85fb_032492921ecbrow1_col4\" class=\"data row1 col4\" ><img src=\"MUI_FWF.png\", width=250, height=200/></td>\n",
       "            </tr>\n",
       "    </tbody></table>"
      ],
      "text/plain": [
       "<IPython.core.display.HTML object>"
      ]
     },
     "metadata": {},
     "output_type": "display_data"
    },
    {
     "data": {
      "text/html": [
       "<h4>Ähnliche Universitäten aufgrund der Drittmittel-Struktur</h3>"
      ],
      "text/plain": [
       "<IPython.core.display.HTML object>"
      ]
     },
     "metadata": {},
     "output_type": "display_data"
    },
    {
     "data": {
      "text/html": [
       "<p><strong>BKW</strong> (74.6%, wegen &auml;hnlicher Relevanz von Unternehmen, FWF, EU), <strong>MUG</strong> (73.4%, wegen &auml;hnlicher Relevanz von Unternehmen, FWF, EU), <strong>UKL</strong> (69.5%, wegen &auml;hnlicher Relevanz von Unternehmen, FWF, Bund (Ministerien)), <strong>TUW</strong> (64.1%, wegen &auml;hnlicher Relevanz von Unternehmen, FWF, EU), <strong>ULI</strong> (59.3%, wegen &auml;hnlicher Relevanz von Unternehmen, FWF, EU), <strong>TUG</strong> (59.3%, wegen &auml;hnlicher Relevanz von Unternehmen, FWF, EU)</p>"
      ],
      "text/plain": [
       "<IPython.core.display.HTML object>"
      ]
     },
     "metadata": {},
     "output_type": "display_data"
    },
    {
     "data": {
      "text/html": [
       "<p><small>Universitäten mit einer Ähnlichkeit von weniger als 50% werden nicht angezeigt.</small></p>"
      ],
      "text/plain": [
       "<IPython.core.display.HTML object>"
      ]
     },
     "metadata": {},
     "output_type": "display_data"
    },
    {
     "data": {
      "text/html": [
       "<h3>Universität Salzburg</h3>"
      ],
      "text/plain": [
       "<IPython.core.display.HTML object>"
      ]
     },
     "metadata": {},
     "output_type": "display_data"
    },
    {
     "data": {
      "text/html": [
       "<h4>Drittmittel-Struktur</h4>"
      ],
      "text/plain": [
       "<IPython.core.display.HTML object>"
      ]
     },
     "metadata": {},
     "output_type": "display_data"
    },
    {
     "data": {
      "text/html": [
       "Angezeigt werden die gr&ouml;&szlig;ten WZW, die insgesamt mehr als 66.7% der Erl&ouml;se an der Universität Salzburg ausmachen (exakt: 73.7%). Jeder andere WZW tr&auml;gt weniger als 7.6% bei. Die Spalte \"Ranking\" bezieht sich  auf den &ouml;sterreichweiten Vergleich der absoluten Werte im jeweiligen WZW."
      ],
      "text/plain": [
       "<IPython.core.display.HTML object>"
      ]
     },
     "metadata": {},
     "output_type": "display_data"
    },
    {
     "data": {
      "text/html": [
       "<style  type=\"text/css\" >\n",
       "    #T_4bbd6018_af66_11e9_85fb_032492921ecbrow0_col0 {\n",
       "            background-color:  white;\n",
       "        }    #T_4bbd6018_af66_11e9_85fb_032492921ecbrow0_col1 {\n",
       "            background-color:  white;\n",
       "        }    #T_4bbd6018_af66_11e9_85fb_032492921ecbrow0_col2 {\n",
       "            background-color:  white;\n",
       "        }    #T_4bbd6018_af66_11e9_85fb_032492921ecbrow0_col3 {\n",
       "            background-color:  white;\n",
       "        }    #T_4bbd6018_af66_11e9_85fb_032492921ecbrow0_col4 {\n",
       "            background-color:  white;\n",
       "        }    #T_4bbd6018_af66_11e9_85fb_032492921ecbrow1_col0 {\n",
       "            background-color:  white;\n",
       "        }    #T_4bbd6018_af66_11e9_85fb_032492921ecbrow1_col1 {\n",
       "            background-color:  white;\n",
       "        }    #T_4bbd6018_af66_11e9_85fb_032492921ecbrow1_col2 {\n",
       "            background-color:  white;\n",
       "        }    #T_4bbd6018_af66_11e9_85fb_032492921ecbrow1_col3 {\n",
       "            background-color:  white;\n",
       "        }    #T_4bbd6018_af66_11e9_85fb_032492921ecbrow1_col4 {\n",
       "            background-color:  white;\n",
       "        }    #T_4bbd6018_af66_11e9_85fb_032492921ecbrow2_col0 {\n",
       "            background-color:  white;\n",
       "        }    #T_4bbd6018_af66_11e9_85fb_032492921ecbrow2_col1 {\n",
       "            background-color:  white;\n",
       "        }    #T_4bbd6018_af66_11e9_85fb_032492921ecbrow2_col2 {\n",
       "            background-color:  white;\n",
       "        }    #T_4bbd6018_af66_11e9_85fb_032492921ecbrow2_col3 {\n",
       "            background-color:  white;\n",
       "        }    #T_4bbd6018_af66_11e9_85fb_032492921ecbrow2_col4 {\n",
       "            background-color:  white;\n",
       "        }    #T_4bbd6018_af66_11e9_85fb_032492921ecbrow3_col0 {\n",
       "            background-color:  white;\n",
       "        }    #T_4bbd6018_af66_11e9_85fb_032492921ecbrow3_col1 {\n",
       "            background-color:  white;\n",
       "        }    #T_4bbd6018_af66_11e9_85fb_032492921ecbrow3_col2 {\n",
       "            background-color:  white;\n",
       "        }    #T_4bbd6018_af66_11e9_85fb_032492921ecbrow3_col3 {\n",
       "            background-color:  white;\n",
       "        }    #T_4bbd6018_af66_11e9_85fb_032492921ecbrow3_col4 {\n",
       "            background-color:  white;\n",
       "        }</style><table id=\"T_4bbd6018_af66_11e9_85fb_032492921ecb\" ><thead>    <tr>        <th class=\"blank level0\" ></th>        <th class=\"col_heading level0 col0\" >Intern</th>        <th class=\"col_heading level0 col1\" >Ranking</th>        <th class=\"col_heading level0 col2\" >Erlöse</th>        <th class=\"col_heading level0 col3\" >Beste Universität</th>        <th class=\"col_heading level0 col4\" >Universität im Vergleich</th>    </tr>    <tr>        <th class=\"index_name level0\" >WZW</th>        <th class=\"blank\" ></th>        <th class=\"blank\" ></th>        <th class=\"blank\" ></th>        <th class=\"blank\" ></th>        <th class=\"blank\" ></th>    </tr></thead><tbody>\n",
       "                <tr>\n",
       "                        <th id=\"T_4bbd6018_af66_11e9_85fb_032492921ecblevel0_row0\" class=\"row_heading level0 row0\" >FWF</th>\n",
       "                        <td id=\"T_4bbd6018_af66_11e9_85fb_032492921ecbrow0_col0\" class=\"data row0 col0\" >40.29%</td>\n",
       "                        <td id=\"T_4bbd6018_af66_11e9_85fb_032492921ecbrow0_col1\" class=\"data row0 col1\" >9. Platz</td>\n",
       "                        <td id=\"T_4bbd6018_af66_11e9_85fb_032492921ecbrow0_col2\" class=\"data row0 col2\" >7,666,637 €</td>\n",
       "                        <td id=\"T_4bbd6018_af66_11e9_85fb_032492921ecbrow0_col3\" class=\"data row0 col3\" >Universität Wien (41.1 Mio. €)</td>\n",
       "                        <td id=\"T_4bbd6018_af66_11e9_85fb_032492921ecbrow0_col4\" class=\"data row0 col4\" ><img src=\"USA_FWF.png\", width=250, height=200/></td>\n",
       "            </tr>\n",
       "            <tr>\n",
       "                        <th id=\"T_4bbd6018_af66_11e9_85fb_032492921ecblevel0_row1\" class=\"row_heading level0 row1\" >EU</th>\n",
       "                        <td id=\"T_4bbd6018_af66_11e9_85fb_032492921ecbrow1_col0\" class=\"data row1 col0\" >16.13%</td>\n",
       "                        <td id=\"T_4bbd6018_af66_11e9_85fb_032492921ecbrow1_col1\" class=\"data row1 col1\" >9. Platz</td>\n",
       "                        <td id=\"T_4bbd6018_af66_11e9_85fb_032492921ecbrow1_col2\" class=\"data row1 col2\" >3,069,169 €</td>\n",
       "                        <td id=\"T_4bbd6018_af66_11e9_85fb_032492921ecbrow1_col3\" class=\"data row1 col3\" >Technische Universität Wien (14.7 Mio. €)</td>\n",
       "                        <td id=\"T_4bbd6018_af66_11e9_85fb_032492921ecbrow1_col4\" class=\"data row1 col4\" ><img src=\"USA_EU.png\", width=250, height=200/></td>\n",
       "            </tr>\n",
       "            <tr>\n",
       "                        <th id=\"T_4bbd6018_af66_11e9_85fb_032492921ecblevel0_row2\" class=\"row_heading level0 row2\" >sonstige öffentlich-rechtliche Einrichtungen (Körperschaften, Stiftungen, Fonds etc.)</th>\n",
       "                        <td id=\"T_4bbd6018_af66_11e9_85fb_032492921ecbrow2_col0\" class=\"data row2 col0\" >9.67%</td>\n",
       "                        <td id=\"T_4bbd6018_af66_11e9_85fb_032492921ecbrow2_col1\" class=\"data row2 col1\" >9. Platz</td>\n",
       "                        <td id=\"T_4bbd6018_af66_11e9_85fb_032492921ecbrow2_col2\" class=\"data row2 col2\" >1,840,426 €</td>\n",
       "                        <td id=\"T_4bbd6018_af66_11e9_85fb_032492921ecbrow2_col3\" class=\"data row2 col3\" >Technische Universität Graz (11.9 Mio. €)</td>\n",
       "                        <td id=\"T_4bbd6018_af66_11e9_85fb_032492921ecbrow2_col4\" class=\"data row2 col4\" ><img src=\"USA_sonstige_öffentlich-rechtliche_Einrichtungen_Körperschaften_Stiftungen_Fonds_etc..png\", width=250, height=200/></td>\n",
       "            </tr>\n",
       "            <tr>\n",
       "                        <th id=\"T_4bbd6018_af66_11e9_85fb_032492921ecblevel0_row3\" class=\"row_heading level0 row3\" >Länder (inkl. deren Stiftungen und Einrichtungen)</th>\n",
       "                        <td id=\"T_4bbd6018_af66_11e9_85fb_032492921ecbrow3_col0\" class=\"data row3 col0\" >7.61%</td>\n",
       "                        <td id=\"T_4bbd6018_af66_11e9_85fb_032492921ecbrow3_col1\" class=\"data row3 col1\" >10. Platz</td>\n",
       "                        <td id=\"T_4bbd6018_af66_11e9_85fb_032492921ecbrow3_col2\" class=\"data row3 col2\" >1,447,449 €</td>\n",
       "                        <td id=\"T_4bbd6018_af66_11e9_85fb_032492921ecbrow3_col3\" class=\"data row3 col3\" >Universität Wien (5.6 Mio. €)</td>\n",
       "                        <td id=\"T_4bbd6018_af66_11e9_85fb_032492921ecbrow3_col4\" class=\"data row3 col4\" ><img src=\"USA_Länder_inkl._deren_Stiftungen_und_Einrichtungen.png\", width=250, height=200/></td>\n",
       "            </tr>\n",
       "    </tbody></table>"
      ],
      "text/plain": [
       "<IPython.core.display.HTML object>"
      ]
     },
     "metadata": {},
     "output_type": "display_data"
    },
    {
     "data": {
      "text/html": [
       "<h4>Ähnliche Universitäten aufgrund der Drittmittel-Struktur</h3>"
      ],
      "text/plain": [
       "<IPython.core.display.HTML object>"
      ]
     },
     "metadata": {},
     "output_type": "display_data"
    },
    {
     "data": {
      "text/html": [
       "<p><strong>UGR</strong> (84.1%, wegen &auml;hnlicher Relevanz von FWF, EU, Länder (inkl. deren Stiftungen und Einrichtungen)), <strong>UWI</strong> (83.5%, wegen &auml;hnlicher Relevanz von FWF, EU, Länder (inkl. deren Stiftungen und Einrichtungen)), <strong>UAW</strong> (81.9%, wegen &auml;hnlicher Relevanz von FWF, EU, Bund (Ministerien)), <strong>UIN</strong> (79.4%, wegen &auml;hnlicher Relevanz von FWF, EU, sonstige öffentlich-rechtliche Einrichtungen (Körperschaften, Stiftungen, Fonds etc.)), <strong>MKW</strong> (72.4%, wegen &auml;hnlicher Relevanz von FWF, EU, Länder (inkl. deren Stiftungen und Einrichtungen)), <strong>MKG</strong> (70.3%, wegen &auml;hnlicher Relevanz von FWF, Länder (inkl. deren Stiftungen und Einrichtungen), Bund (Ministerien))</p>"
      ],
      "text/plain": [
       "<IPython.core.display.HTML object>"
      ]
     },
     "metadata": {},
     "output_type": "display_data"
    },
    {
     "data": {
      "text/html": [
       "<p><small>Universitäten mit einer Ähnlichkeit von weniger als 50% werden nicht angezeigt.</small></p>"
      ],
      "text/plain": [
       "<IPython.core.display.HTML object>"
      ]
     },
     "metadata": {},
     "output_type": "display_data"
    },
    {
     "data": {
      "text/html": [
       "<h3>Montanuniversität Leoben</h3>"
      ],
      "text/plain": [
       "<IPython.core.display.HTML object>"
      ]
     },
     "metadata": {},
     "output_type": "display_data"
    },
    {
     "data": {
      "text/html": [
       "<h4>Drittmittel-Struktur</h4>"
      ],
      "text/plain": [
       "<IPython.core.display.HTML object>"
      ]
     },
     "metadata": {},
     "output_type": "display_data"
    },
    {
     "data": {
      "text/html": [
       "Angezeigt werden die gr&ouml;&szlig;ten WZW, die insgesamt mehr als 66.7% der Erl&ouml;se an der Montanuniversität Leoben ausmachen (exakt: 75.2%). Jeder andere WZW tr&auml;gt weniger als 12.2% bei. Die Spalte \"Ranking\" bezieht sich  auf den &ouml;sterreichweiten Vergleich der absoluten Werte im jeweiligen WZW."
      ],
      "text/plain": [
       "<IPython.core.display.HTML object>"
      ]
     },
     "metadata": {},
     "output_type": "display_data"
    },
    {
     "data": {
      "text/html": [
       "<style  type=\"text/css\" >\n",
       "    #T_4beac38c_af66_11e9_85fb_032492921ecbrow0_col0 {\n",
       "            background-color:  white;\n",
       "        }    #T_4beac38c_af66_11e9_85fb_032492921ecbrow0_col1 {\n",
       "            background-color:  white;\n",
       "        }    #T_4beac38c_af66_11e9_85fb_032492921ecbrow0_col2 {\n",
       "            background-color:  white;\n",
       "        }    #T_4beac38c_af66_11e9_85fb_032492921ecbrow0_col3 {\n",
       "            background-color:  white;\n",
       "        }    #T_4beac38c_af66_11e9_85fb_032492921ecbrow0_col4 {\n",
       "            background-color:  white;\n",
       "        }    #T_4beac38c_af66_11e9_85fb_032492921ecbrow1_col0 {\n",
       "            background-color:  yellow;\n",
       "        }    #T_4beac38c_af66_11e9_85fb_032492921ecbrow1_col1 {\n",
       "            background-color:  yellow;\n",
       "        }    #T_4beac38c_af66_11e9_85fb_032492921ecbrow1_col2 {\n",
       "            background-color:  yellow;\n",
       "        }    #T_4beac38c_af66_11e9_85fb_032492921ecbrow1_col3 {\n",
       "            background-color:  yellow;\n",
       "        }    #T_4beac38c_af66_11e9_85fb_032492921ecbrow1_col4 {\n",
       "            background-color:  yellow;\n",
       "        }    #T_4beac38c_af66_11e9_85fb_032492921ecbrow2_col0 {\n",
       "            background-color:  yellow;\n",
       "        }    #T_4beac38c_af66_11e9_85fb_032492921ecbrow2_col1 {\n",
       "            background-color:  yellow;\n",
       "        }    #T_4beac38c_af66_11e9_85fb_032492921ecbrow2_col2 {\n",
       "            background-color:  yellow;\n",
       "        }    #T_4beac38c_af66_11e9_85fb_032492921ecbrow2_col3 {\n",
       "            background-color:  yellow;\n",
       "        }    #T_4beac38c_af66_11e9_85fb_032492921ecbrow2_col4 {\n",
       "            background-color:  yellow;\n",
       "        }</style><table id=\"T_4beac38c_af66_11e9_85fb_032492921ecb\" ><thead>    <tr>        <th class=\"blank level0\" ></th>        <th class=\"col_heading level0 col0\" >Intern</th>        <th class=\"col_heading level0 col1\" >Ranking</th>        <th class=\"col_heading level0 col2\" >Erlöse</th>        <th class=\"col_heading level0 col3\" >Beste Universität</th>        <th class=\"col_heading level0 col4\" >Universität im Vergleich</th>    </tr>    <tr>        <th class=\"index_name level0\" >WZW</th>        <th class=\"blank\" ></th>        <th class=\"blank\" ></th>        <th class=\"blank\" ></th>        <th class=\"blank\" ></th>        <th class=\"blank\" ></th>    </tr></thead><tbody>\n",
       "                <tr>\n",
       "                        <th id=\"T_4beac38c_af66_11e9_85fb_032492921ecblevel0_row0\" class=\"row_heading level0 row0\" >Unternehmen</th>\n",
       "                        <td id=\"T_4beac38c_af66_11e9_85fb_032492921ecbrow0_col0\" class=\"data row0 col0\" >32.53%</td>\n",
       "                        <td id=\"T_4beac38c_af66_11e9_85fb_032492921ecbrow0_col1\" class=\"data row0 col1\" >7. Platz</td>\n",
       "                        <td id=\"T_4beac38c_af66_11e9_85fb_032492921ecbrow0_col2\" class=\"data row0 col2\" >14,284,451 €</td>\n",
       "                        <td id=\"T_4beac38c_af66_11e9_85fb_032492921ecbrow0_col3\" class=\"data row0 col3\" >Medizinische Universität Graz (32.4 Mio. €)</td>\n",
       "                        <td id=\"T_4beac38c_af66_11e9_85fb_032492921ecbrow0_col4\" class=\"data row0 col4\" ><img src=\"MUL_Unternehmen.png\", width=250, height=200/></td>\n",
       "            </tr>\n",
       "            <tr>\n",
       "                        <th id=\"T_4beac38c_af66_11e9_85fb_032492921ecblevel0_row1\" class=\"row_heading level0 row1\" >FFG</th>\n",
       "                        <td id=\"T_4beac38c_af66_11e9_85fb_032492921ecbrow1_col0\" class=\"data row1 col0\" >30.48%</td>\n",
       "                        <td id=\"T_4beac38c_af66_11e9_85fb_032492921ecbrow1_col1\" class=\"data row1 col1\" >3. Platz</td>\n",
       "                        <td id=\"T_4beac38c_af66_11e9_85fb_032492921ecbrow1_col2\" class=\"data row1 col2\" >13,384,394 €</td>\n",
       "                        <td id=\"T_4beac38c_af66_11e9_85fb_032492921ecbrow1_col3\" class=\"data row1 col3\" >Technische Universität Graz (19.0 Mio. €)</td>\n",
       "                        <td id=\"T_4beac38c_af66_11e9_85fb_032492921ecbrow1_col4\" class=\"data row1 col4\" ><img src=\"MUL_FFG.png\", width=250, height=200/></td>\n",
       "            </tr>\n",
       "            <tr>\n",
       "                        <th id=\"T_4beac38c_af66_11e9_85fb_032492921ecblevel0_row2\" class=\"row_heading level0 row2\" >Länder (inkl. deren Stiftungen und Einrichtungen)</th>\n",
       "                        <td id=\"T_4beac38c_af66_11e9_85fb_032492921ecbrow2_col0\" class=\"data row2 col0\" >12.16%</td>\n",
       "                        <td id=\"T_4beac38c_af66_11e9_85fb_032492921ecbrow2_col1\" class=\"data row2 col1\" >3. Platz</td>\n",
       "                        <td id=\"T_4beac38c_af66_11e9_85fb_032492921ecbrow2_col2\" class=\"data row2 col2\" >5,337,531 €</td>\n",
       "                        <td id=\"T_4beac38c_af66_11e9_85fb_032492921ecbrow2_col3\" class=\"data row2 col3\" >Universität Wien (5.6 Mio. €)</td>\n",
       "                        <td id=\"T_4beac38c_af66_11e9_85fb_032492921ecbrow2_col4\" class=\"data row2 col4\" ><img src=\"MUL_Länder_inkl._deren_Stiftungen_und_Einrichtungen.png\", width=250, height=200/></td>\n",
       "            </tr>\n",
       "    </tbody></table>"
      ],
      "text/plain": [
       "<IPython.core.display.HTML object>"
      ]
     },
     "metadata": {},
     "output_type": "display_data"
    },
    {
     "data": {
      "text/html": [
       "<h4>Ähnliche Universitäten aufgrund der Drittmittel-Struktur</h3>"
      ],
      "text/plain": [
       "<IPython.core.display.HTML object>"
      ]
     },
     "metadata": {},
     "output_type": "display_data"
    },
    {
     "data": {
      "text/html": [
       "<p><strong>TUG</strong> (76.1%, wegen &auml;hnlicher Relevanz von Unternehmen, FFG, EU), <strong>ULI</strong> (70.9%, wegen &auml;hnlicher Relevanz von FFG, Unternehmen, EU), <strong>TUW</strong> (67.5%, wegen &auml;hnlicher Relevanz von Unternehmen, FFG, EU), <strong>BKW</strong> (65.4%, wegen &auml;hnlicher Relevanz von Unternehmen, EU, Bund (Ministerien)), <strong>UKL</strong> (62.0%, wegen &auml;hnlicher Relevanz von Unternehmen, FFG, EU), <strong>MUI</strong> (58.3%, wegen &auml;hnlicher Relevanz von Unternehmen, EU, Bund (Ministerien))</p>"
      ],
      "text/plain": [
       "<IPython.core.display.HTML object>"
      ]
     },
     "metadata": {},
     "output_type": "display_data"
    },
    {
     "data": {
      "text/html": [
       "<p><small>Universitäten mit einer Ähnlichkeit von weniger als 50% werden nicht angezeigt.</small></p>"
      ],
      "text/plain": [
       "<IPython.core.display.HTML object>"
      ]
     },
     "metadata": {},
     "output_type": "display_data"
    },
    {
     "data": {
      "text/html": [
       "<h3>Technische Universität Graz</h3>"
      ],
      "text/plain": [
       "<IPython.core.display.HTML object>"
      ]
     },
     "metadata": {},
     "output_type": "display_data"
    },
    {
     "data": {
      "text/html": [
       "<h4>Drittmittel-Struktur</h4>"
      ],
      "text/plain": [
       "<IPython.core.display.HTML object>"
      ]
     },
     "metadata": {},
     "output_type": "display_data"
    },
    {
     "data": {
      "text/html": [
       "Angezeigt werden die gr&ouml;&szlig;ten WZW, die insgesamt mehr als 66.7% der Erl&ouml;se an der Technische Universität Graz ausmachen (exakt: 70.6%). Jeder andere WZW tr&auml;gt weniger als 15.1% bei. Die Spalte \"Ranking\" bezieht sich  auf den &ouml;sterreichweiten Vergleich der absoluten Werte im jeweiligen WZW."
      ],
      "text/plain": [
       "<IPython.core.display.HTML object>"
      ]
     },
     "metadata": {},
     "output_type": "display_data"
    },
    {
     "data": {
      "text/html": [
       "<style  type=\"text/css\" >\n",
       "    #T_4c146386_af66_11e9_85fb_032492921ecbrow0_col0 {\n",
       "            background-color:  yellow;\n",
       "        }    #T_4c146386_af66_11e9_85fb_032492921ecbrow0_col1 {\n",
       "            background-color:  yellow;\n",
       "        }    #T_4c146386_af66_11e9_85fb_032492921ecbrow0_col2 {\n",
       "            background-color:  yellow;\n",
       "        }    #T_4c146386_af66_11e9_85fb_032492921ecbrow0_col3 {\n",
       "            background-color:  yellow;\n",
       "        }    #T_4c146386_af66_11e9_85fb_032492921ecbrow0_col4 {\n",
       "            background-color:  yellow;\n",
       "        }    #T_4c146386_af66_11e9_85fb_032492921ecbrow1_col0 {\n",
       "            background-color:  green;\n",
       "        }    #T_4c146386_af66_11e9_85fb_032492921ecbrow1_col1 {\n",
       "            background-color:  green;\n",
       "        }    #T_4c146386_af66_11e9_85fb_032492921ecbrow1_col2 {\n",
       "            background-color:  green;\n",
       "        }    #T_4c146386_af66_11e9_85fb_032492921ecbrow1_col3 {\n",
       "            background-color:  green;\n",
       "        }    #T_4c146386_af66_11e9_85fb_032492921ecbrow1_col4 {\n",
       "            background-color:  green;\n",
       "        }    #T_4c146386_af66_11e9_85fb_032492921ecbrow2_col0 {\n",
       "            background-color:  green;\n",
       "        }    #T_4c146386_af66_11e9_85fb_032492921ecbrow2_col1 {\n",
       "            background-color:  green;\n",
       "        }    #T_4c146386_af66_11e9_85fb_032492921ecbrow2_col2 {\n",
       "            background-color:  green;\n",
       "        }    #T_4c146386_af66_11e9_85fb_032492921ecbrow2_col3 {\n",
       "            background-color:  green;\n",
       "        }    #T_4c146386_af66_11e9_85fb_032492921ecbrow2_col4 {\n",
       "            background-color:  green;\n",
       "        }</style><table id=\"T_4c146386_af66_11e9_85fb_032492921ecb\" ><thead>    <tr>        <th class=\"blank level0\" ></th>        <th class=\"col_heading level0 col0\" >Intern</th>        <th class=\"col_heading level0 col1\" >Ranking</th>        <th class=\"col_heading level0 col2\" >Erlöse</th>        <th class=\"col_heading level0 col3\" >Beste Universität</th>        <th class=\"col_heading level0 col4\" >Universität im Vergleich</th>    </tr>    <tr>        <th class=\"index_name level0\" >WZW</th>        <th class=\"blank\" ></th>        <th class=\"blank\" ></th>        <th class=\"blank\" ></th>        <th class=\"blank\" ></th>        <th class=\"blank\" ></th>    </tr></thead><tbody>\n",
       "                <tr>\n",
       "                        <th id=\"T_4c146386_af66_11e9_85fb_032492921ecblevel0_row0\" class=\"row_heading level0 row0\" >Unternehmen</th>\n",
       "                        <td id=\"T_4c146386_af66_11e9_85fb_032492921ecbrow0_col0\" class=\"data row0 col0\" >31.34%</td>\n",
       "                        <td id=\"T_4c146386_af66_11e9_85fb_032492921ecbrow0_col1\" class=\"data row0 col1\" >2. Platz</td>\n",
       "                        <td id=\"T_4c146386_af66_11e9_85fb_032492921ecbrow0_col2\" class=\"data row0 col2\" >24,719,792 €</td>\n",
       "                        <td id=\"T_4c146386_af66_11e9_85fb_032492921ecbrow0_col3\" class=\"data row0 col3\" >Medizinische Universität Graz (32.4 Mio. €)</td>\n",
       "                        <td id=\"T_4c146386_af66_11e9_85fb_032492921ecbrow0_col4\" class=\"data row0 col4\" ><img src=\"TUG_Unternehmen.png\", width=250, height=200/></td>\n",
       "            </tr>\n",
       "            <tr>\n",
       "                        <th id=\"T_4c146386_af66_11e9_85fb_032492921ecblevel0_row1\" class=\"row_heading level0 row1\" >FFG</th>\n",
       "                        <td id=\"T_4c146386_af66_11e9_85fb_032492921ecbrow1_col0\" class=\"data row1 col0\" >24.15%</td>\n",
       "                        <td id=\"T_4c146386_af66_11e9_85fb_032492921ecbrow1_col1\" class=\"data row1 col1\" >1. Platz</td>\n",
       "                        <td id=\"T_4c146386_af66_11e9_85fb_032492921ecbrow1_col2\" class=\"data row1 col2\" >19,046,693 €</td>\n",
       "                        <td id=\"T_4c146386_af66_11e9_85fb_032492921ecbrow1_col3\" class=\"data row1 col3\" >(diese)</td>\n",
       "                        <td id=\"T_4c146386_af66_11e9_85fb_032492921ecbrow1_col4\" class=\"data row1 col4\" ><img src=\"TUG_FFG.png\", width=250, height=200/></td>\n",
       "            </tr>\n",
       "            <tr>\n",
       "                        <th id=\"T_4c146386_af66_11e9_85fb_032492921ecblevel0_row2\" class=\"row_heading level0 row2\" >sonstige öffentlich-rechtliche Einrichtungen (Körperschaften, Stiftungen, Fonds etc.)</th>\n",
       "                        <td id=\"T_4c146386_af66_11e9_85fb_032492921ecbrow2_col0\" class=\"data row2 col0\" >15.10%</td>\n",
       "                        <td id=\"T_4c146386_af66_11e9_85fb_032492921ecbrow2_col1\" class=\"data row2 col1\" >1. Platz</td>\n",
       "                        <td id=\"T_4c146386_af66_11e9_85fb_032492921ecbrow2_col2\" class=\"data row2 col2\" >11,908,658 €</td>\n",
       "                        <td id=\"T_4c146386_af66_11e9_85fb_032492921ecbrow2_col3\" class=\"data row2 col3\" >(diese)</td>\n",
       "                        <td id=\"T_4c146386_af66_11e9_85fb_032492921ecbrow2_col4\" class=\"data row2 col4\" ><img src=\"TUG_sonstige_öffentlich-rechtliche_Einrichtungen_Körperschaften_Stiftungen_Fonds_etc..png\", width=250, height=200/></td>\n",
       "            </tr>\n",
       "    </tbody></table>"
      ],
      "text/plain": [
       "<IPython.core.display.HTML object>"
      ]
     },
     "metadata": {},
     "output_type": "display_data"
    },
    {
     "data": {
      "text/html": [
       "<h4>Ähnliche Universitäten aufgrund der Drittmittel-Struktur</h3>"
      ],
      "text/plain": [
       "<IPython.core.display.HTML object>"
      ]
     },
     "metadata": {},
     "output_type": "display_data"
    },
    {
     "data": {
      "text/html": [
       "<p><strong>TUW</strong> (78.1%, wegen &auml;hnlicher Relevanz von Unternehmen, FFG, EU), <strong>MUL</strong> (76.1%, wegen &auml;hnlicher Relevanz von Unternehmen, FFG, EU), <strong>ULI</strong> (76.0%, wegen &auml;hnlicher Relevanz von FFG, Unternehmen, sonstige öffentlich-rechtliche Einrichtungen (Körperschaften, Stiftungen, Fonds etc.)), <strong>BKW</strong> (68.9%, wegen &auml;hnlicher Relevanz von Unternehmen, EU, FWF), <strong>UKL</strong> (64.6%, wegen &auml;hnlicher Relevanz von Unternehmen, EU, FFG), <strong>MUI</strong> (59.3%, wegen &auml;hnlicher Relevanz von Unternehmen, FWF, EU)</p>"
      ],
      "text/plain": [
       "<IPython.core.display.HTML object>"
      ]
     },
     "metadata": {},
     "output_type": "display_data"
    },
    {
     "data": {
      "text/html": [
       "<p><small>Universitäten mit einer Ähnlichkeit von weniger als 50% werden nicht angezeigt.</small></p>"
      ],
      "text/plain": [
       "<IPython.core.display.HTML object>"
      ]
     },
     "metadata": {},
     "output_type": "display_data"
    },
    {
     "data": {
      "text/html": [
       "<h3>Universität Graz</h3>"
      ],
      "text/plain": [
       "<IPython.core.display.HTML object>"
      ]
     },
     "metadata": {},
     "output_type": "display_data"
    },
    {
     "data": {
      "text/html": [
       "<h4>Drittmittel-Struktur</h4>"
      ],
      "text/plain": [
       "<IPython.core.display.HTML object>"
      ]
     },
     "metadata": {},
     "output_type": "display_data"
    },
    {
     "data": {
      "text/html": [
       "Angezeigt werden die gr&ouml;&szlig;ten WZW, die insgesamt mehr als 66.7% der Erl&ouml;se an der Universität Graz ausmachen (exakt: 70.4%). Jeder andere WZW tr&auml;gt weniger als 6.4% bei. Die Spalte \"Ranking\" bezieht sich  auf den &ouml;sterreichweiten Vergleich der absoluten Werte im jeweiligen WZW."
      ],
      "text/plain": [
       "<IPython.core.display.HTML object>"
      ]
     },
     "metadata": {},
     "output_type": "display_data"
    },
    {
     "data": {
      "text/html": [
       "<style  type=\"text/css\" >\n",
       "    #T_4c5551de_af66_11e9_85fb_032492921ecbrow0_col0 {\n",
       "            background-color:  white;\n",
       "        }    #T_4c5551de_af66_11e9_85fb_032492921ecbrow0_col1 {\n",
       "            background-color:  white;\n",
       "        }    #T_4c5551de_af66_11e9_85fb_032492921ecbrow0_col2 {\n",
       "            background-color:  white;\n",
       "        }    #T_4c5551de_af66_11e9_85fb_032492921ecbrow0_col3 {\n",
       "            background-color:  white;\n",
       "        }    #T_4c5551de_af66_11e9_85fb_032492921ecbrow0_col4 {\n",
       "            background-color:  white;\n",
       "        }    #T_4c5551de_af66_11e9_85fb_032492921ecbrow1_col0 {\n",
       "            background-color:  white;\n",
       "        }    #T_4c5551de_af66_11e9_85fb_032492921ecbrow1_col1 {\n",
       "            background-color:  white;\n",
       "        }    #T_4c5551de_af66_11e9_85fb_032492921ecbrow1_col2 {\n",
       "            background-color:  white;\n",
       "        }    #T_4c5551de_af66_11e9_85fb_032492921ecbrow1_col3 {\n",
       "            background-color:  white;\n",
       "        }    #T_4c5551de_af66_11e9_85fb_032492921ecbrow1_col4 {\n",
       "            background-color:  white;\n",
       "        }    #T_4c5551de_af66_11e9_85fb_032492921ecbrow2_col0 {\n",
       "            background-color:  white;\n",
       "        }    #T_4c5551de_af66_11e9_85fb_032492921ecbrow2_col1 {\n",
       "            background-color:  white;\n",
       "        }    #T_4c5551de_af66_11e9_85fb_032492921ecbrow2_col2 {\n",
       "            background-color:  white;\n",
       "        }    #T_4c5551de_af66_11e9_85fb_032492921ecbrow2_col3 {\n",
       "            background-color:  white;\n",
       "        }    #T_4c5551de_af66_11e9_85fb_032492921ecbrow2_col4 {\n",
       "            background-color:  white;\n",
       "        }    #T_4c5551de_af66_11e9_85fb_032492921ecbrow3_col0 {\n",
       "            background-color:  white;\n",
       "        }    #T_4c5551de_af66_11e9_85fb_032492921ecbrow3_col1 {\n",
       "            background-color:  white;\n",
       "        }    #T_4c5551de_af66_11e9_85fb_032492921ecbrow3_col2 {\n",
       "            background-color:  white;\n",
       "        }    #T_4c5551de_af66_11e9_85fb_032492921ecbrow3_col3 {\n",
       "            background-color:  white;\n",
       "        }    #T_4c5551de_af66_11e9_85fb_032492921ecbrow3_col4 {\n",
       "            background-color:  white;\n",
       "        }</style><table id=\"T_4c5551de_af66_11e9_85fb_032492921ecb\" ><thead>    <tr>        <th class=\"blank level0\" ></th>        <th class=\"col_heading level0 col0\" >Intern</th>        <th class=\"col_heading level0 col1\" >Ranking</th>        <th class=\"col_heading level0 col2\" >Erlöse</th>        <th class=\"col_heading level0 col3\" >Beste Universität</th>        <th class=\"col_heading level0 col4\" >Universität im Vergleich</th>    </tr>    <tr>        <th class=\"index_name level0\" >WZW</th>        <th class=\"blank\" ></th>        <th class=\"blank\" ></th>        <th class=\"blank\" ></th>        <th class=\"blank\" ></th>        <th class=\"blank\" ></th>    </tr></thead><tbody>\n",
       "                <tr>\n",
       "                        <th id=\"T_4c5551de_af66_11e9_85fb_032492921ecblevel0_row0\" class=\"row_heading level0 row0\" >FWF</th>\n",
       "                        <td id=\"T_4c5551de_af66_11e9_85fb_032492921ecbrow0_col0\" class=\"data row0 col0\" >46.04%</td>\n",
       "                        <td id=\"T_4c5551de_af66_11e9_85fb_032492921ecbrow0_col1\" class=\"data row0 col1\" >5. Platz</td>\n",
       "                        <td id=\"T_4c5551de_af66_11e9_85fb_032492921ecbrow0_col2\" class=\"data row0 col2\" >12,896,939 €</td>\n",
       "                        <td id=\"T_4c5551de_af66_11e9_85fb_032492921ecbrow0_col3\" class=\"data row0 col3\" >Universität Wien (41.1 Mio. €)</td>\n",
       "                        <td id=\"T_4c5551de_af66_11e9_85fb_032492921ecbrow0_col4\" class=\"data row0 col4\" ><img src=\"UGR_FWF.png\", width=250, height=200/></td>\n",
       "            </tr>\n",
       "            <tr>\n",
       "                        <th id=\"T_4c5551de_af66_11e9_85fb_032492921ecblevel0_row1\" class=\"row_heading level0 row1\" >EU</th>\n",
       "                        <td id=\"T_4c5551de_af66_11e9_85fb_032492921ecbrow1_col0\" class=\"data row1 col0\" >10.38%</td>\n",
       "                        <td id=\"T_4c5551de_af66_11e9_85fb_032492921ecbrow1_col1\" class=\"data row1 col1\" >10. Platz</td>\n",
       "                        <td id=\"T_4c5551de_af66_11e9_85fb_032492921ecbrow1_col2\" class=\"data row1 col2\" >2,907,788 €</td>\n",
       "                        <td id=\"T_4c5551de_af66_11e9_85fb_032492921ecbrow1_col3\" class=\"data row1 col3\" >Technische Universität Wien (14.7 Mio. €)</td>\n",
       "                        <td id=\"T_4c5551de_af66_11e9_85fb_032492921ecbrow1_col4\" class=\"data row1 col4\" ><img src=\"UGR_EU.png\", width=250, height=200/></td>\n",
       "            </tr>\n",
       "            <tr>\n",
       "                        <th id=\"T_4c5551de_af66_11e9_85fb_032492921ecblevel0_row2\" class=\"row_heading level0 row2\" >Länder (inkl. deren Stiftungen und Einrichtungen)</th>\n",
       "                        <td id=\"T_4c5551de_af66_11e9_85fb_032492921ecbrow2_col0\" class=\"data row2 col0\" >7.58%</td>\n",
       "                        <td id=\"T_4c5551de_af66_11e9_85fb_032492921ecbrow2_col1\" class=\"data row2 col1\" >8. Platz</td>\n",
       "                        <td id=\"T_4c5551de_af66_11e9_85fb_032492921ecbrow2_col2\" class=\"data row2 col2\" >2,123,043 €</td>\n",
       "                        <td id=\"T_4c5551de_af66_11e9_85fb_032492921ecbrow2_col3\" class=\"data row2 col3\" >Universität Wien (5.6 Mio. €)</td>\n",
       "                        <td id=\"T_4c5551de_af66_11e9_85fb_032492921ecbrow2_col4\" class=\"data row2 col4\" ><img src=\"UGR_Länder_inkl._deren_Stiftungen_und_Einrichtungen.png\", width=250, height=200/></td>\n",
       "            </tr>\n",
       "            <tr>\n",
       "                        <th id=\"T_4c5551de_af66_11e9_85fb_032492921ecblevel0_row3\" class=\"row_heading level0 row3\" >sonstige öffentlich-rechtliche Einrichtungen (Körperschaften, Stiftungen, Fonds etc.)</th>\n",
       "                        <td id=\"T_4c5551de_af66_11e9_85fb_032492921ecbrow3_col0\" class=\"data row3 col0\" >6.45%</td>\n",
       "                        <td id=\"T_4c5551de_af66_11e9_85fb_032492921ecbrow3_col1\" class=\"data row3 col1\" >10. Platz</td>\n",
       "                        <td id=\"T_4c5551de_af66_11e9_85fb_032492921ecbrow3_col2\" class=\"data row3 col2\" >1,806,704 €</td>\n",
       "                        <td id=\"T_4c5551de_af66_11e9_85fb_032492921ecbrow3_col3\" class=\"data row3 col3\" >Technische Universität Graz (11.9 Mio. €)</td>\n",
       "                        <td id=\"T_4c5551de_af66_11e9_85fb_032492921ecbrow3_col4\" class=\"data row3 col4\" ><img src=\"UGR_sonstige_öffentlich-rechtliche_Einrichtungen_Körperschaften_Stiftungen_Fonds_etc..png\", width=250, height=200/></td>\n",
       "            </tr>\n",
       "    </tbody></table>"
      ],
      "text/plain": [
       "<IPython.core.display.HTML object>"
      ]
     },
     "metadata": {},
     "output_type": "display_data"
    },
    {
     "data": {
      "text/html": [
       "<h4>Ähnliche Universitäten aufgrund der Drittmittel-Struktur</h3>"
      ],
      "text/plain": [
       "<IPython.core.display.HTML object>"
      ]
     },
     "metadata": {},
     "output_type": "display_data"
    },
    {
     "data": {
      "text/html": [
       "<p><strong>USA</strong> (84.1%, wegen &auml;hnlicher Relevanz von FWF, EU, Länder (inkl. deren Stiftungen und Einrichtungen)), <strong>UWI</strong> (83.4%, wegen &auml;hnlicher Relevanz von FWF, EU, Länder (inkl. deren Stiftungen und Einrichtungen)), <strong>UAW</strong> (80.7%, wegen &auml;hnlicher Relevanz von FWF, EU, Unternehmen), <strong>UIN</strong> (75.5%, wegen &auml;hnlicher Relevanz von FWF, EU, Länder (inkl. deren Stiftungen und Einrichtungen)), <strong>MKG</strong> (72.5%, wegen &auml;hnlicher Relevanz von FWF, Länder (inkl. deren Stiftungen und Einrichtungen), Unternehmen), <strong>MKW</strong> (65.5%, wegen &auml;hnlicher Relevanz von FWF, EU, Länder (inkl. deren Stiftungen und Einrichtungen))</p>"
      ],
      "text/plain": [
       "<IPython.core.display.HTML object>"
      ]
     },
     "metadata": {},
     "output_type": "display_data"
    },
    {
     "data": {
      "text/html": [
       "<p><small>Universitäten mit einer Ähnlichkeit von weniger als 50% werden nicht angezeigt.</small></p>"
      ],
      "text/plain": [
       "<IPython.core.display.HTML object>"
      ]
     },
     "metadata": {},
     "output_type": "display_data"
    },
    {
     "data": {
      "text/html": [
       "<h3>Universität für angewandte Kunst Wien</h3>"
      ],
      "text/plain": [
       "<IPython.core.display.HTML object>"
      ]
     },
     "metadata": {},
     "output_type": "display_data"
    },
    {
     "data": {
      "text/html": [
       "<h4>Drittmittel-Struktur</h4>"
      ],
      "text/plain": [
       "<IPython.core.display.HTML object>"
      ]
     },
     "metadata": {},
     "output_type": "display_data"
    },
    {
     "data": {
      "text/html": [
       "Angezeigt werden die gr&ouml;&szlig;ten WZW, die insgesamt mehr als 66.7% der Erl&ouml;se an der Universität für angewandte Kunst Wien ausmachen (exakt: 71.5%). Jeder andere WZW tr&auml;gt weniger als 6.8% bei. Die Spalte \"Ranking\" bezieht sich  auf den &ouml;sterreichweiten Vergleich der absoluten Werte im jeweiligen WZW."
      ],
      "text/plain": [
       "<IPython.core.display.HTML object>"
      ]
     },
     "metadata": {},
     "output_type": "display_data"
    },
    {
     "data": {
      "text/html": [
       "<style  type=\"text/css\" >\n",
       "    #T_4c952520_af66_11e9_85fb_032492921ecbrow0_col0 {\n",
       "            background-color:  white;\n",
       "        }    #T_4c952520_af66_11e9_85fb_032492921ecbrow0_col1 {\n",
       "            background-color:  white;\n",
       "        }    #T_4c952520_af66_11e9_85fb_032492921ecbrow0_col2 {\n",
       "            background-color:  white;\n",
       "        }    #T_4c952520_af66_11e9_85fb_032492921ecbrow0_col3 {\n",
       "            background-color:  white;\n",
       "        }    #T_4c952520_af66_11e9_85fb_032492921ecbrow0_col4 {\n",
       "            background-color:  white;\n",
       "        }    #T_4c952520_af66_11e9_85fb_032492921ecbrow1_col0 {\n",
       "            background-color:  white;\n",
       "        }    #T_4c952520_af66_11e9_85fb_032492921ecbrow1_col1 {\n",
       "            background-color:  white;\n",
       "        }    #T_4c952520_af66_11e9_85fb_032492921ecbrow1_col2 {\n",
       "            background-color:  white;\n",
       "        }    #T_4c952520_af66_11e9_85fb_032492921ecbrow1_col3 {\n",
       "            background-color:  white;\n",
       "        }    #T_4c952520_af66_11e9_85fb_032492921ecbrow1_col4 {\n",
       "            background-color:  white;\n",
       "        }    #T_4c952520_af66_11e9_85fb_032492921ecbrow2_col0 {\n",
       "            background-color:  white;\n",
       "        }    #T_4c952520_af66_11e9_85fb_032492921ecbrow2_col1 {\n",
       "            background-color:  white;\n",
       "        }    #T_4c952520_af66_11e9_85fb_032492921ecbrow2_col2 {\n",
       "            background-color:  white;\n",
       "        }    #T_4c952520_af66_11e9_85fb_032492921ecbrow2_col3 {\n",
       "            background-color:  white;\n",
       "        }    #T_4c952520_af66_11e9_85fb_032492921ecbrow2_col4 {\n",
       "            background-color:  white;\n",
       "        }</style><table id=\"T_4c952520_af66_11e9_85fb_032492921ecb\" ><thead>    <tr>        <th class=\"blank level0\" ></th>        <th class=\"col_heading level0 col0\" >Intern</th>        <th class=\"col_heading level0 col1\" >Ranking</th>        <th class=\"col_heading level0 col2\" >Erlöse</th>        <th class=\"col_heading level0 col3\" >Beste Universität</th>        <th class=\"col_heading level0 col4\" >Universität im Vergleich</th>    </tr>    <tr>        <th class=\"index_name level0\" >WZW</th>        <th class=\"blank\" ></th>        <th class=\"blank\" ></th>        <th class=\"blank\" ></th>        <th class=\"blank\" ></th>        <th class=\"blank\" ></th>    </tr></thead><tbody>\n",
       "                <tr>\n",
       "                        <th id=\"T_4c952520_af66_11e9_85fb_032492921ecblevel0_row0\" class=\"row_heading level0 row0\" >FWF</th>\n",
       "                        <td id=\"T_4c952520_af66_11e9_85fb_032492921ecbrow0_col0\" class=\"data row0 col0\" >46.12%</td>\n",
       "                        <td id=\"T_4c952520_af66_11e9_85fb_032492921ecbrow0_col1\" class=\"data row0 col1\" >16. Platz</td>\n",
       "                        <td id=\"T_4c952520_af66_11e9_85fb_032492921ecbrow0_col2\" class=\"data row0 col2\" >1,152,829 €</td>\n",
       "                        <td id=\"T_4c952520_af66_11e9_85fb_032492921ecbrow0_col3\" class=\"data row0 col3\" >Universität Wien (41.1 Mio. €)</td>\n",
       "                        <td id=\"T_4c952520_af66_11e9_85fb_032492921ecbrow0_col4\" class=\"data row0 col4\" ><img src=\"UAW_FWF.png\", width=250, height=200/></td>\n",
       "            </tr>\n",
       "            <tr>\n",
       "                        <th id=\"T_4c952520_af66_11e9_85fb_032492921ecblevel0_row1\" class=\"row_heading level0 row1\" >EU</th>\n",
       "                        <td id=\"T_4c952520_af66_11e9_85fb_032492921ecbrow1_col0\" class=\"data row1 col0\" >18.65%</td>\n",
       "                        <td id=\"T_4c952520_af66_11e9_85fb_032492921ecbrow1_col1\" class=\"data row1 col1\" >17. Platz</td>\n",
       "                        <td id=\"T_4c952520_af66_11e9_85fb_032492921ecbrow1_col2\" class=\"data row1 col2\" >466,081 €</td>\n",
       "                        <td id=\"T_4c952520_af66_11e9_85fb_032492921ecbrow1_col3\" class=\"data row1 col3\" >Technische Universität Wien (14.7 Mio. €)</td>\n",
       "                        <td id=\"T_4c952520_af66_11e9_85fb_032492921ecbrow1_col4\" class=\"data row1 col4\" ><img src=\"UAW_EU.png\", width=250, height=200/></td>\n",
       "            </tr>\n",
       "            <tr>\n",
       "                        <th id=\"T_4c952520_af66_11e9_85fb_032492921ecblevel0_row2\" class=\"row_heading level0 row2\" >Bund (Ministerien)</th>\n",
       "                        <td id=\"T_4c952520_af66_11e9_85fb_032492921ecbrow2_col0\" class=\"data row2 col0\" >6.77%</td>\n",
       "                        <td id=\"T_4c952520_af66_11e9_85fb_032492921ecbrow2_col1\" class=\"data row2 col1\" >20. Platz</td>\n",
       "                        <td id=\"T_4c952520_af66_11e9_85fb_032492921ecbrow2_col2\" class=\"data row2 col2\" >169,276 €</td>\n",
       "                        <td id=\"T_4c952520_af66_11e9_85fb_032492921ecbrow2_col3\" class=\"data row2 col3\" >Medizinische Universität Innsbruck (3.7 Mio. €)</td>\n",
       "                        <td id=\"T_4c952520_af66_11e9_85fb_032492921ecbrow2_col4\" class=\"data row2 col4\" ><img src=\"UAW_Bund_Ministerien.png\", width=250, height=200/></td>\n",
       "            </tr>\n",
       "    </tbody></table>"
      ],
      "text/plain": [
       "<IPython.core.display.HTML object>"
      ]
     },
     "metadata": {},
     "output_type": "display_data"
    },
    {
     "data": {
      "text/html": [
       "<h4>Ähnliche Universitäten aufgrund der Drittmittel-Struktur</h3>"
      ],
      "text/plain": [
       "<IPython.core.display.HTML object>"
      ]
     },
     "metadata": {},
     "output_type": "display_data"
    },
    {
     "data": {
      "text/html": [
       "<p><strong>UWI</strong> (88.7%, wegen &auml;hnlicher Relevanz von FWF, EU, Private (Stiftungen, Vereine, etc.)), <strong>USA</strong> (81.9%, wegen &auml;hnlicher Relevanz von FWF, EU, Bund (Ministerien)), <strong>UGR</strong> (80.7%, wegen &auml;hnlicher Relevanz von FWF, EU, Unternehmen), <strong>UIN</strong> (74.9%, wegen &auml;hnlicher Relevanz von FWF, EU, Unternehmen), <strong>MKW</strong> (73.7%, wegen &auml;hnlicher Relevanz von FWF, EU, Bund (Ministerien)), <strong>ABW</strong> (68.3%, wegen &auml;hnlicher Relevanz von FWF, Private (Stiftungen, Vereine, etc.), sonstige)</p>"
      ],
      "text/plain": [
       "<IPython.core.display.HTML object>"
      ]
     },
     "metadata": {},
     "output_type": "display_data"
    },
    {
     "data": {
      "text/html": [
       "<p><small>Universitäten mit einer Ähnlichkeit von weniger als 50% werden nicht angezeigt.</small></p>"
      ],
      "text/plain": [
       "<IPython.core.display.HTML object>"
      ]
     },
     "metadata": {},
     "output_type": "display_data"
    },
    {
     "data": {
      "text/html": [
       "<h3>Universität für künstlerische und industrielle Gestaltung Linz</h3>"
      ],
      "text/plain": [
       "<IPython.core.display.HTML object>"
      ]
     },
     "metadata": {},
     "output_type": "display_data"
    },
    {
     "data": {
      "text/html": [
       "<h4>Drittmittel-Struktur</h4>"
      ],
      "text/plain": [
       "<IPython.core.display.HTML object>"
      ]
     },
     "metadata": {},
     "output_type": "display_data"
    },
    {
     "data": {
      "text/html": [
       "Angezeigt werden die gr&ouml;&szlig;ten WZW, die insgesamt mehr als 66.7% der Erl&ouml;se an der Universität für künstlerische und industrielle Gestaltung Linz ausmachen (exakt: 67.4%). Jeder andere WZW tr&auml;gt weniger als 12.6% bei. Die Spalte \"Ranking\" bezieht sich  auf den &ouml;sterreichweiten Vergleich der absoluten Werte im jeweiligen WZW."
      ],
      "text/plain": [
       "<IPython.core.display.HTML object>"
      ]
     },
     "metadata": {},
     "output_type": "display_data"
    },
    {
     "data": {
      "text/html": [
       "<style  type=\"text/css\" >\n",
       "    #T_4ce4a866_af66_11e9_85fb_032492921ecbrow0_col0 {\n",
       "            background-color:  white;\n",
       "        }    #T_4ce4a866_af66_11e9_85fb_032492921ecbrow0_col1 {\n",
       "            background-color:  white;\n",
       "        }    #T_4ce4a866_af66_11e9_85fb_032492921ecbrow0_col2 {\n",
       "            background-color:  white;\n",
       "        }    #T_4ce4a866_af66_11e9_85fb_032492921ecbrow0_col3 {\n",
       "            background-color:  white;\n",
       "        }    #T_4ce4a866_af66_11e9_85fb_032492921ecbrow0_col4 {\n",
       "            background-color:  white;\n",
       "        }    #T_4ce4a866_af66_11e9_85fb_032492921ecbrow1_col0 {\n",
       "            background-color:  white;\n",
       "        }    #T_4ce4a866_af66_11e9_85fb_032492921ecbrow1_col1 {\n",
       "            background-color:  white;\n",
       "        }    #T_4ce4a866_af66_11e9_85fb_032492921ecbrow1_col2 {\n",
       "            background-color:  white;\n",
       "        }    #T_4ce4a866_af66_11e9_85fb_032492921ecbrow1_col3 {\n",
       "            background-color:  white;\n",
       "        }    #T_4ce4a866_af66_11e9_85fb_032492921ecbrow1_col4 {\n",
       "            background-color:  white;\n",
       "        }    #T_4ce4a866_af66_11e9_85fb_032492921ecbrow2_col0 {\n",
       "            background-color:  white;\n",
       "        }    #T_4ce4a866_af66_11e9_85fb_032492921ecbrow2_col1 {\n",
       "            background-color:  white;\n",
       "        }    #T_4ce4a866_af66_11e9_85fb_032492921ecbrow2_col2 {\n",
       "            background-color:  white;\n",
       "        }    #T_4ce4a866_af66_11e9_85fb_032492921ecbrow2_col3 {\n",
       "            background-color:  white;\n",
       "        }    #T_4ce4a866_af66_11e9_85fb_032492921ecbrow2_col4 {\n",
       "            background-color:  white;\n",
       "        }</style><table id=\"T_4ce4a866_af66_11e9_85fb_032492921ecb\" ><thead>    <tr>        <th class=\"blank level0\" ></th>        <th class=\"col_heading level0 col0\" >Intern</th>        <th class=\"col_heading level0 col1\" >Ranking</th>        <th class=\"col_heading level0 col2\" >Erlöse</th>        <th class=\"col_heading level0 col3\" >Beste Universität</th>        <th class=\"col_heading level0 col4\" >Universität im Vergleich</th>    </tr>    <tr>        <th class=\"index_name level0\" >WZW</th>        <th class=\"blank\" ></th>        <th class=\"blank\" ></th>        <th class=\"blank\" ></th>        <th class=\"blank\" ></th>        <th class=\"blank\" ></th>    </tr></thead><tbody>\n",
       "                <tr>\n",
       "                        <th id=\"T_4ce4a866_af66_11e9_85fb_032492921ecblevel0_row0\" class=\"row_heading level0 row0\" >Bund (Ministerien)</th>\n",
       "                        <td id=\"T_4ce4a866_af66_11e9_85fb_032492921ecbrow0_col0\" class=\"data row0 col0\" >33.11%</td>\n",
       "                        <td id=\"T_4ce4a866_af66_11e9_85fb_032492921ecbrow0_col1\" class=\"data row0 col1\" >14. Platz</td>\n",
       "                        <td id=\"T_4ce4a866_af66_11e9_85fb_032492921ecbrow0_col2\" class=\"data row0 col2\" >585,690 €</td>\n",
       "                        <td id=\"T_4ce4a866_af66_11e9_85fb_032492921ecbrow0_col3\" class=\"data row0 col3\" >Medizinische Universität Innsbruck (3.7 Mio. €)</td>\n",
       "                        <td id=\"T_4ce4a866_af66_11e9_85fb_032492921ecbrow0_col4\" class=\"data row0 col4\" ><img src=\"UGL_Bund_Ministerien.png\", width=250, height=200/></td>\n",
       "            </tr>\n",
       "            <tr>\n",
       "                        <th id=\"T_4ce4a866_af66_11e9_85fb_032492921ecblevel0_row1\" class=\"row_heading level0 row1\" >FWF</th>\n",
       "                        <td id=\"T_4ce4a866_af66_11e9_85fb_032492921ecbrow1_col0\" class=\"data row1 col0\" >21.73%</td>\n",
       "                        <td id=\"T_4ce4a866_af66_11e9_85fb_032492921ecbrow1_col1\" class=\"data row1 col1\" >20. Platz</td>\n",
       "                        <td id=\"T_4ce4a866_af66_11e9_85fb_032492921ecbrow1_col2\" class=\"data row1 col2\" >384,336 €</td>\n",
       "                        <td id=\"T_4ce4a866_af66_11e9_85fb_032492921ecbrow1_col3\" class=\"data row1 col3\" >Universität Wien (41.1 Mio. €)</td>\n",
       "                        <td id=\"T_4ce4a866_af66_11e9_85fb_032492921ecbrow1_col4\" class=\"data row1 col4\" ><img src=\"UGL_FWF.png\", width=250, height=200/></td>\n",
       "            </tr>\n",
       "            <tr>\n",
       "                        <th id=\"T_4ce4a866_af66_11e9_85fb_032492921ecblevel0_row2\" class=\"row_heading level0 row2\" >Unternehmen</th>\n",
       "                        <td id=\"T_4ce4a866_af66_11e9_85fb_032492921ecbrow2_col0\" class=\"data row2 col0\" >12.56%</td>\n",
       "                        <td id=\"T_4ce4a866_af66_11e9_85fb_032492921ecbrow2_col1\" class=\"data row2 col1\" >17. Platz</td>\n",
       "                        <td id=\"T_4ce4a866_af66_11e9_85fb_032492921ecbrow2_col2\" class=\"data row2 col2\" >222,149 €</td>\n",
       "                        <td id=\"T_4ce4a866_af66_11e9_85fb_032492921ecbrow2_col3\" class=\"data row2 col3\" >Medizinische Universität Graz (32.4 Mio. €)</td>\n",
       "                        <td id=\"T_4ce4a866_af66_11e9_85fb_032492921ecbrow2_col4\" class=\"data row2 col4\" ><img src=\"UGL_Unternehmen.png\", width=250, height=200/></td>\n",
       "            </tr>\n",
       "    </tbody></table>"
      ],
      "text/plain": [
       "<IPython.core.display.HTML object>"
      ]
     },
     "metadata": {},
     "output_type": "display_data"
    },
    {
     "data": {
      "text/html": [
       "<h4>Ähnliche Universitäten aufgrund der Drittmittel-Struktur</h3>"
      ],
      "text/plain": [
       "<IPython.core.display.HTML object>"
      ]
     },
     "metadata": {},
     "output_type": "display_data"
    },
    {
     "data": {
      "text/html": [
       "<p><strong>MKG</strong> (59.2%, wegen &auml;hnlicher Relevanz von FWF, Unternehmen, Bund (Ministerien)), <strong>UKL</strong> (58.1%, wegen &auml;hnlicher Relevanz von FWF, Bund (Ministerien), Unternehmen), <strong>USA</strong> (54.0%, wegen &auml;hnlicher Relevanz von FWF, Länder (inkl. deren Stiftungen und Einrichtungen), Bund (Ministerien))</p>"
      ],
      "text/plain": [
       "<IPython.core.display.HTML object>"
      ]
     },
     "metadata": {},
     "output_type": "display_data"
    },
    {
     "data": {
      "text/html": [
       "<p><small>Universitäten mit einer Ähnlichkeit von weniger als 50% werden nicht angezeigt.</small></p>"
      ],
      "text/plain": [
       "<IPython.core.display.HTML object>"
      ]
     },
     "metadata": {},
     "output_type": "display_data"
    },
    {
     "data": {
      "text/html": [
       "<h3>Veterinärmedizinische Universität Wien</h3>"
      ],
      "text/plain": [
       "<IPython.core.display.HTML object>"
      ]
     },
     "metadata": {},
     "output_type": "display_data"
    },
    {
     "data": {
      "text/html": [
       "<h4>Drittmittel-Struktur</h4>"
      ],
      "text/plain": [
       "<IPython.core.display.HTML object>"
      ]
     },
     "metadata": {},
     "output_type": "display_data"
    },
    {
     "data": {
      "text/html": [
       "Angezeigt werden die gr&ouml;&szlig;ten WZW, die insgesamt mehr als 66.7% der Erl&ouml;se an der Veterinärmedizinische Universität Wien ausmachen (exakt: 75.6%). Jeder andere WZW tr&auml;gt weniger als 12.8% bei. Die Spalte \"Ranking\" bezieht sich  auf den &ouml;sterreichweiten Vergleich der absoluten Werte im jeweiligen WZW."
      ],
      "text/plain": [
       "<IPython.core.display.HTML object>"
      ]
     },
     "metadata": {},
     "output_type": "display_data"
    },
    {
     "data": {
      "text/html": [
       "<style  type=\"text/css\" >\n",
       "    #T_4d17e5b4_af66_11e9_85fb_032492921ecbrow0_col0 {\n",
       "            background-color:  yellow;\n",
       "        }    #T_4d17e5b4_af66_11e9_85fb_032492921ecbrow0_col1 {\n",
       "            background-color:  yellow;\n",
       "        }    #T_4d17e5b4_af66_11e9_85fb_032492921ecbrow0_col2 {\n",
       "            background-color:  yellow;\n",
       "        }    #T_4d17e5b4_af66_11e9_85fb_032492921ecbrow0_col3 {\n",
       "            background-color:  yellow;\n",
       "        }    #T_4d17e5b4_af66_11e9_85fb_032492921ecbrow0_col4 {\n",
       "            background-color:  yellow;\n",
       "        }    #T_4d17e5b4_af66_11e9_85fb_032492921ecbrow1_col0 {\n",
       "            background-color:  white;\n",
       "        }    #T_4d17e5b4_af66_11e9_85fb_032492921ecbrow1_col1 {\n",
       "            background-color:  white;\n",
       "        }    #T_4d17e5b4_af66_11e9_85fb_032492921ecbrow1_col2 {\n",
       "            background-color:  white;\n",
       "        }    #T_4d17e5b4_af66_11e9_85fb_032492921ecbrow1_col3 {\n",
       "            background-color:  white;\n",
       "        }    #T_4d17e5b4_af66_11e9_85fb_032492921ecbrow1_col4 {\n",
       "            background-color:  white;\n",
       "        }    #T_4d17e5b4_af66_11e9_85fb_032492921ecbrow2_col0 {\n",
       "            background-color:  white;\n",
       "        }    #T_4d17e5b4_af66_11e9_85fb_032492921ecbrow2_col1 {\n",
       "            background-color:  white;\n",
       "        }    #T_4d17e5b4_af66_11e9_85fb_032492921ecbrow2_col2 {\n",
       "            background-color:  white;\n",
       "        }    #T_4d17e5b4_af66_11e9_85fb_032492921ecbrow2_col3 {\n",
       "            background-color:  white;\n",
       "        }    #T_4d17e5b4_af66_11e9_85fb_032492921ecbrow2_col4 {\n",
       "            background-color:  white;\n",
       "        }</style><table id=\"T_4d17e5b4_af66_11e9_85fb_032492921ecb\" ><thead>    <tr>        <th class=\"blank level0\" ></th>        <th class=\"col_heading level0 col0\" >Intern</th>        <th class=\"col_heading level0 col1\" >Ranking</th>        <th class=\"col_heading level0 col2\" >Erlöse</th>        <th class=\"col_heading level0 col3\" >Beste Universität</th>        <th class=\"col_heading level0 col4\" >Universität im Vergleich</th>    </tr>    <tr>        <th class=\"index_name level0\" >WZW</th>        <th class=\"blank\" ></th>        <th class=\"blank\" ></th>        <th class=\"blank\" ></th>        <th class=\"blank\" ></th>        <th class=\"blank\" ></th>    </tr></thead><tbody>\n",
       "                <tr>\n",
       "                        <th id=\"T_4d17e5b4_af66_11e9_85fb_032492921ecblevel0_row0\" class=\"row_heading level0 row0\" >Private (Stiftungen, Vereine, etc.)</th>\n",
       "                        <td id=\"T_4d17e5b4_af66_11e9_85fb_032492921ecbrow0_col0\" class=\"data row0 col0\" >35.46%</td>\n",
       "                        <td id=\"T_4d17e5b4_af66_11e9_85fb_032492921ecbrow0_col1\" class=\"data row0 col1\" >2. Platz</td>\n",
       "                        <td id=\"T_4d17e5b4_af66_11e9_85fb_032492921ecbrow0_col2\" class=\"data row0 col2\" >6,131,569 €</td>\n",
       "                        <td id=\"T_4d17e5b4_af66_11e9_85fb_032492921ecbrow0_col3\" class=\"data row0 col3\" >Medizinische Universität Wien (9.1 Mio. €)</td>\n",
       "                        <td id=\"T_4d17e5b4_af66_11e9_85fb_032492921ecbrow0_col4\" class=\"data row0 col4\" ><img src=\"VMW_Private_Stiftungen_Vereine_etc..png\", width=250, height=200/></td>\n",
       "            </tr>\n",
       "            <tr>\n",
       "                        <th id=\"T_4d17e5b4_af66_11e9_85fb_032492921ecblevel0_row1\" class=\"row_heading level0 row1\" >FWF</th>\n",
       "                        <td id=\"T_4d17e5b4_af66_11e9_85fb_032492921ecbrow1_col0\" class=\"data row1 col0\" >27.41%</td>\n",
       "                        <td id=\"T_4d17e5b4_af66_11e9_85fb_032492921ecbrow1_col1\" class=\"data row1 col1\" >11. Platz</td>\n",
       "                        <td id=\"T_4d17e5b4_af66_11e9_85fb_032492921ecbrow1_col2\" class=\"data row1 col2\" >4,739,233 €</td>\n",
       "                        <td id=\"T_4d17e5b4_af66_11e9_85fb_032492921ecbrow1_col3\" class=\"data row1 col3\" >Universität Wien (41.1 Mio. €)</td>\n",
       "                        <td id=\"T_4d17e5b4_af66_11e9_85fb_032492921ecbrow1_col4\" class=\"data row1 col4\" ><img src=\"VMW_FWF.png\", width=250, height=200/></td>\n",
       "            </tr>\n",
       "            <tr>\n",
       "                        <th id=\"T_4d17e5b4_af66_11e9_85fb_032492921ecblevel0_row2\" class=\"row_heading level0 row2\" >Unternehmen</th>\n",
       "                        <td id=\"T_4d17e5b4_af66_11e9_85fb_032492921ecbrow2_col0\" class=\"data row2 col0\" >12.77%</td>\n",
       "                        <td id=\"T_4d17e5b4_af66_11e9_85fb_032492921ecbrow2_col1\" class=\"data row2 col1\" >11. Platz</td>\n",
       "                        <td id=\"T_4d17e5b4_af66_11e9_85fb_032492921ecbrow2_col2\" class=\"data row2 col2\" >2,207,437 €</td>\n",
       "                        <td id=\"T_4d17e5b4_af66_11e9_85fb_032492921ecbrow2_col3\" class=\"data row2 col3\" >Medizinische Universität Graz (32.4 Mio. €)</td>\n",
       "                        <td id=\"T_4d17e5b4_af66_11e9_85fb_032492921ecbrow2_col4\" class=\"data row2 col4\" ><img src=\"VMW_Unternehmen.png\", width=250, height=200/></td>\n",
       "            </tr>\n",
       "    </tbody></table>"
      ],
      "text/plain": [
       "<IPython.core.display.HTML object>"
      ]
     },
     "metadata": {},
     "output_type": "display_data"
    },
    {
     "data": {
      "text/html": [
       "<h4>Ähnliche Universitäten aufgrund der Drittmittel-Struktur</h3>"
      ],
      "text/plain": [
       "<IPython.core.display.HTML object>"
      ]
     },
     "metadata": {},
     "output_type": "display_data"
    },
    {
     "data": {
      "text/html": [
       "<p><strong>UIN</strong> (63.6%, wegen &auml;hnlicher Relevanz von FWF, Unternehmen, sonstige öffentlich-rechtliche Einrichtungen (Körperschaften, Stiftungen, Fonds etc.)), <strong>ULI</strong> (59.7%, wegen &auml;hnlicher Relevanz von FWF, Unternehmen, sonstige öffentlich-rechtliche Einrichtungen (Körperschaften, Stiftungen, Fonds etc.)), <strong>WUW</strong> (58.6%, wegen &auml;hnlicher Relevanz von Private (Stiftungen, Vereine, etc.), FWF, Unternehmen), <strong>BKW</strong> (58.4%, wegen &auml;hnlicher Relevanz von FWF, Unternehmen, Private (Stiftungen, Vereine, etc.)), <strong>UGR</strong> (58.0%, wegen &auml;hnlicher Relevanz von FWF, sonstige öffentlich-rechtliche Einrichtungen (Körperschaften, Stiftungen, Fonds etc.), Unternehmen), <strong>USA</strong> (57.4%, wegen &auml;hnlicher Relevanz von FWF, sonstige öffentlich-rechtliche Einrichtungen (Körperschaften, Stiftungen, Fonds etc.), Unternehmen)</p>"
      ],
      "text/plain": [
       "<IPython.core.display.HTML object>"
      ]
     },
     "metadata": {},
     "output_type": "display_data"
    },
    {
     "data": {
      "text/html": [
       "<p><small>Universitäten mit einer Ähnlichkeit von weniger als 50% werden nicht angezeigt.</small></p>"
      ],
      "text/plain": [
       "<IPython.core.display.HTML object>"
      ]
     },
     "metadata": {},
     "output_type": "display_data"
    },
    {
     "data": {
      "text/html": [
       "<h3>Universität für Musik und darstellende Kunst Graz</h3>"
      ],
      "text/plain": [
       "<IPython.core.display.HTML object>"
      ]
     },
     "metadata": {},
     "output_type": "display_data"
    },
    {
     "data": {
      "text/html": [
       "<h4>Drittmittel-Struktur</h4>"
      ],
      "text/plain": [
       "<IPython.core.display.HTML object>"
      ]
     },
     "metadata": {},
     "output_type": "display_data"
    },
    {
     "data": {
      "text/html": [
       "Angezeigt werden die gr&ouml;&szlig;ten WZW, die insgesamt mehr als 66.7% der Erl&ouml;se an der Universität für Musik und darstellende Kunst Graz ausmachen (exakt: 72.0%). Jeder andere WZW tr&auml;gt weniger als 12.3% bei. Die Spalte \"Ranking\" bezieht sich  auf den &ouml;sterreichweiten Vergleich der absoluten Werte im jeweiligen WZW."
      ],
      "text/plain": [
       "<IPython.core.display.HTML object>"
      ]
     },
     "metadata": {},
     "output_type": "display_data"
    },
    {
     "data": {
      "text/html": [
       "<style  type=\"text/css\" >\n",
       "    #T_4d598f78_af66_11e9_85fb_032492921ecbrow0_col0 {\n",
       "            background-color:  white;\n",
       "        }    #T_4d598f78_af66_11e9_85fb_032492921ecbrow0_col1 {\n",
       "            background-color:  white;\n",
       "        }    #T_4d598f78_af66_11e9_85fb_032492921ecbrow0_col2 {\n",
       "            background-color:  white;\n",
       "        }    #T_4d598f78_af66_11e9_85fb_032492921ecbrow0_col3 {\n",
       "            background-color:  white;\n",
       "        }    #T_4d598f78_af66_11e9_85fb_032492921ecbrow0_col4 {\n",
       "            background-color:  white;\n",
       "        }    #T_4d598f78_af66_11e9_85fb_032492921ecbrow1_col0 {\n",
       "            background-color:  white;\n",
       "        }    #T_4d598f78_af66_11e9_85fb_032492921ecbrow1_col1 {\n",
       "            background-color:  white;\n",
       "        }    #T_4d598f78_af66_11e9_85fb_032492921ecbrow1_col2 {\n",
       "            background-color:  white;\n",
       "        }    #T_4d598f78_af66_11e9_85fb_032492921ecbrow1_col3 {\n",
       "            background-color:  white;\n",
       "        }    #T_4d598f78_af66_11e9_85fb_032492921ecbrow1_col4 {\n",
       "            background-color:  white;\n",
       "        }    #T_4d598f78_af66_11e9_85fb_032492921ecbrow2_col0 {\n",
       "            background-color:  white;\n",
       "        }    #T_4d598f78_af66_11e9_85fb_032492921ecbrow2_col1 {\n",
       "            background-color:  white;\n",
       "        }    #T_4d598f78_af66_11e9_85fb_032492921ecbrow2_col2 {\n",
       "            background-color:  white;\n",
       "        }    #T_4d598f78_af66_11e9_85fb_032492921ecbrow2_col3 {\n",
       "            background-color:  white;\n",
       "        }    #T_4d598f78_af66_11e9_85fb_032492921ecbrow2_col4 {\n",
       "            background-color:  white;\n",
       "        }</style><table id=\"T_4d598f78_af66_11e9_85fb_032492921ecb\" ><thead>    <tr>        <th class=\"blank level0\" ></th>        <th class=\"col_heading level0 col0\" >Intern</th>        <th class=\"col_heading level0 col1\" >Ranking</th>        <th class=\"col_heading level0 col2\" >Erlöse</th>        <th class=\"col_heading level0 col3\" >Beste Universität</th>        <th class=\"col_heading level0 col4\" >Universität im Vergleich</th>    </tr>    <tr>        <th class=\"index_name level0\" >WZW</th>        <th class=\"blank\" ></th>        <th class=\"blank\" ></th>        <th class=\"blank\" ></th>        <th class=\"blank\" ></th>        <th class=\"blank\" ></th>    </tr></thead><tbody>\n",
       "                <tr>\n",
       "                        <th id=\"T_4d598f78_af66_11e9_85fb_032492921ecblevel0_row0\" class=\"row_heading level0 row0\" >FWF</th>\n",
       "                        <td id=\"T_4d598f78_af66_11e9_85fb_032492921ecbrow0_col0\" class=\"data row0 col0\" >44.83%</td>\n",
       "                        <td id=\"T_4d598f78_af66_11e9_85fb_032492921ecbrow0_col1\" class=\"data row0 col1\" >18. Platz</td>\n",
       "                        <td id=\"T_4d598f78_af66_11e9_85fb_032492921ecbrow0_col2\" class=\"data row0 col2\" >645,534 €</td>\n",
       "                        <td id=\"T_4d598f78_af66_11e9_85fb_032492921ecbrow0_col3\" class=\"data row0 col3\" >Universität Wien (41.1 Mio. €)</td>\n",
       "                        <td id=\"T_4d598f78_af66_11e9_85fb_032492921ecbrow0_col4\" class=\"data row0 col4\" ><img src=\"MKG_FWF.png\", width=250, height=200/></td>\n",
       "            </tr>\n",
       "            <tr>\n",
       "                        <th id=\"T_4d598f78_af66_11e9_85fb_032492921ecblevel0_row1\" class=\"row_heading level0 row1\" >Unternehmen</th>\n",
       "                        <td id=\"T_4d598f78_af66_11e9_85fb_032492921ecbrow1_col0\" class=\"data row1 col0\" >14.94%</td>\n",
       "                        <td id=\"T_4d598f78_af66_11e9_85fb_032492921ecbrow1_col1\" class=\"data row1 col1\" >18. Platz</td>\n",
       "                        <td id=\"T_4d598f78_af66_11e9_85fb_032492921ecbrow1_col2\" class=\"data row1 col2\" >215,121 €</td>\n",
       "                        <td id=\"T_4d598f78_af66_11e9_85fb_032492921ecbrow1_col3\" class=\"data row1 col3\" >Medizinische Universität Graz (32.4 Mio. €)</td>\n",
       "                        <td id=\"T_4d598f78_af66_11e9_85fb_032492921ecbrow1_col4\" class=\"data row1 col4\" ><img src=\"MKG_Unternehmen.png\", width=250, height=200/></td>\n",
       "            </tr>\n",
       "            <tr>\n",
       "                        <th id=\"T_4d598f78_af66_11e9_85fb_032492921ecblevel0_row2\" class=\"row_heading level0 row2\" >Bund (Ministerien)</th>\n",
       "                        <td id=\"T_4d598f78_af66_11e9_85fb_032492921ecbrow2_col0\" class=\"data row2 col0\" >12.26%</td>\n",
       "                        <td id=\"T_4d598f78_af66_11e9_85fb_032492921ecbrow2_col1\" class=\"data row2 col1\" >19. Platz</td>\n",
       "                        <td id=\"T_4d598f78_af66_11e9_85fb_032492921ecbrow2_col2\" class=\"data row2 col2\" >176,520 €</td>\n",
       "                        <td id=\"T_4d598f78_af66_11e9_85fb_032492921ecbrow2_col3\" class=\"data row2 col3\" >Medizinische Universität Innsbruck (3.7 Mio. €)</td>\n",
       "                        <td id=\"T_4d598f78_af66_11e9_85fb_032492921ecbrow2_col4\" class=\"data row2 col4\" ><img src=\"MKG_Bund_Ministerien.png\", width=250, height=200/></td>\n",
       "            </tr>\n",
       "    </tbody></table>"
      ],
      "text/plain": [
       "<IPython.core.display.HTML object>"
      ]
     },
     "metadata": {},
     "output_type": "display_data"
    },
    {
     "data": {
      "text/html": [
       "<h4>Ähnliche Universitäten aufgrund der Drittmittel-Struktur</h3>"
      ],
      "text/plain": [
       "<IPython.core.display.HTML object>"
      ]
     },
     "metadata": {},
     "output_type": "display_data"
    },
    {
     "data": {
      "text/html": [
       "<p><strong>UGR</strong> (72.5%, wegen &auml;hnlicher Relevanz von FWF, Länder (inkl. deren Stiftungen und Einrichtungen), Unternehmen), <strong>USA</strong> (70.3%, wegen &auml;hnlicher Relevanz von FWF, Länder (inkl. deren Stiftungen und Einrichtungen), Bund (Ministerien)), <strong>UAW</strong> (66.3%, wegen &auml;hnlicher Relevanz von FWF, Bund (Ministerien), Unternehmen), <strong>UWI</strong> (65.3%, wegen &auml;hnlicher Relevanz von FWF, Länder (inkl. deren Stiftungen und Einrichtungen), Bund (Ministerien)), <strong>MKW</strong> (64.3%, wegen &auml;hnlicher Relevanz von FWF, Bund (Ministerien), Länder (inkl. deren Stiftungen und Einrichtungen)), <strong>UIN</strong> (63.8%, wegen &auml;hnlicher Relevanz von FWF, Länder (inkl. deren Stiftungen und Einrichtungen), Unternehmen)</p>"
      ],
      "text/plain": [
       "<IPython.core.display.HTML object>"
      ]
     },
     "metadata": {},
     "output_type": "display_data"
    },
    {
     "data": {
      "text/html": [
       "<p><small>Universitäten mit einer Ähnlichkeit von weniger als 50% werden nicht angezeigt.</small></p>"
      ],
      "text/plain": [
       "<IPython.core.display.HTML object>"
      ]
     },
     "metadata": {},
     "output_type": "display_data"
    },
    {
     "data": {
      "text/html": [
       "<h3>Universität Linz</h3>"
      ],
      "text/plain": [
       "<IPython.core.display.HTML object>"
      ]
     },
     "metadata": {},
     "output_type": "display_data"
    },
    {
     "data": {
      "text/html": [
       "<h4>Drittmittel-Struktur</h4>"
      ],
      "text/plain": [
       "<IPython.core.display.HTML object>"
      ]
     },
     "metadata": {},
     "output_type": "display_data"
    },
    {
     "data": {
      "text/html": [
       "Angezeigt werden die gr&ouml;&szlig;ten WZW, die insgesamt mehr als 66.7% der Erl&ouml;se an der Universität Linz ausmachen (exakt: 74.1%). Jeder andere WZW tr&auml;gt weniger als 21.5% bei. Die Spalte \"Ranking\" bezieht sich  auf den &ouml;sterreichweiten Vergleich der absoluten Werte im jeweiligen WZW."
      ],
      "text/plain": [
       "<IPython.core.display.HTML object>"
      ]
     },
     "metadata": {},
     "output_type": "display_data"
    },
    {
     "data": {
      "text/html": [
       "<style  type=\"text/css\" >\n",
       "    #T_4d87430a_af66_11e9_85fb_032492921ecbrow0_col0 {\n",
       "            background-color:  white;\n",
       "        }    #T_4d87430a_af66_11e9_85fb_032492921ecbrow0_col1 {\n",
       "            background-color:  white;\n",
       "        }    #T_4d87430a_af66_11e9_85fb_032492921ecbrow0_col2 {\n",
       "            background-color:  white;\n",
       "        }    #T_4d87430a_af66_11e9_85fb_032492921ecbrow0_col3 {\n",
       "            background-color:  white;\n",
       "        }    #T_4d87430a_af66_11e9_85fb_032492921ecbrow0_col4 {\n",
       "            background-color:  white;\n",
       "        }    #T_4d87430a_af66_11e9_85fb_032492921ecbrow1_col0 {\n",
       "            background-color:  white;\n",
       "        }    #T_4d87430a_af66_11e9_85fb_032492921ecbrow1_col1 {\n",
       "            background-color:  white;\n",
       "        }    #T_4d87430a_af66_11e9_85fb_032492921ecbrow1_col2 {\n",
       "            background-color:  white;\n",
       "        }    #T_4d87430a_af66_11e9_85fb_032492921ecbrow1_col3 {\n",
       "            background-color:  white;\n",
       "        }    #T_4d87430a_af66_11e9_85fb_032492921ecbrow1_col4 {\n",
       "            background-color:  white;\n",
       "        }    #T_4d87430a_af66_11e9_85fb_032492921ecbrow2_col0 {\n",
       "            background-color:  white;\n",
       "        }    #T_4d87430a_af66_11e9_85fb_032492921ecbrow2_col1 {\n",
       "            background-color:  white;\n",
       "        }    #T_4d87430a_af66_11e9_85fb_032492921ecbrow2_col2 {\n",
       "            background-color:  white;\n",
       "        }    #T_4d87430a_af66_11e9_85fb_032492921ecbrow2_col3 {\n",
       "            background-color:  white;\n",
       "        }    #T_4d87430a_af66_11e9_85fb_032492921ecbrow2_col4 {\n",
       "            background-color:  white;\n",
       "        }</style><table id=\"T_4d87430a_af66_11e9_85fb_032492921ecb\" ><thead>    <tr>        <th class=\"blank level0\" ></th>        <th class=\"col_heading level0 col0\" >Intern</th>        <th class=\"col_heading level0 col1\" >Ranking</th>        <th class=\"col_heading level0 col2\" >Erlöse</th>        <th class=\"col_heading level0 col3\" >Beste Universität</th>        <th class=\"col_heading level0 col4\" >Universität im Vergleich</th>    </tr>    <tr>        <th class=\"index_name level0\" >WZW</th>        <th class=\"blank\" ></th>        <th class=\"blank\" ></th>        <th class=\"blank\" ></th>        <th class=\"blank\" ></th>        <th class=\"blank\" ></th>    </tr></thead><tbody>\n",
       "                <tr>\n",
       "                        <th id=\"T_4d87430a_af66_11e9_85fb_032492921ecblevel0_row0\" class=\"row_heading level0 row0\" >FWF</th>\n",
       "                        <td id=\"T_4d87430a_af66_11e9_85fb_032492921ecbrow0_col0\" class=\"data row0 col0\" >26.56%</td>\n",
       "                        <td id=\"T_4d87430a_af66_11e9_85fb_032492921ecbrow0_col1\" class=\"data row0 col1\" >8. Platz</td>\n",
       "                        <td id=\"T_4d87430a_af66_11e9_85fb_032492921ecbrow0_col2\" class=\"data row0 col2\" >7,769,848 €</td>\n",
       "                        <td id=\"T_4d87430a_af66_11e9_85fb_032492921ecbrow0_col3\" class=\"data row0 col3\" >Universität Wien (41.1 Mio. €)</td>\n",
       "                        <td id=\"T_4d87430a_af66_11e9_85fb_032492921ecbrow0_col4\" class=\"data row0 col4\" ><img src=\"ULI_FWF.png\", width=250, height=200/></td>\n",
       "            </tr>\n",
       "            <tr>\n",
       "                        <th id=\"T_4d87430a_af66_11e9_85fb_032492921ecblevel0_row1\" class=\"row_heading level0 row1\" >FFG</th>\n",
       "                        <td id=\"T_4d87430a_af66_11e9_85fb_032492921ecbrow1_col0\" class=\"data row1 col0\" >26.09%</td>\n",
       "                        <td id=\"T_4d87430a_af66_11e9_85fb_032492921ecbrow1_col1\" class=\"data row1 col1\" >4. Platz</td>\n",
       "                        <td id=\"T_4d87430a_af66_11e9_85fb_032492921ecbrow1_col2\" class=\"data row1 col2\" >7,632,744 €</td>\n",
       "                        <td id=\"T_4d87430a_af66_11e9_85fb_032492921ecbrow1_col3\" class=\"data row1 col3\" >Technische Universität Graz (19.0 Mio. €)</td>\n",
       "                        <td id=\"T_4d87430a_af66_11e9_85fb_032492921ecbrow1_col4\" class=\"data row1 col4\" ><img src=\"ULI_FFG.png\", width=250, height=200/></td>\n",
       "            </tr>\n",
       "            <tr>\n",
       "                        <th id=\"T_4d87430a_af66_11e9_85fb_032492921ecblevel0_row2\" class=\"row_heading level0 row2\" >Unternehmen</th>\n",
       "                        <td id=\"T_4d87430a_af66_11e9_85fb_032492921ecbrow2_col0\" class=\"data row2 col0\" >21.48%</td>\n",
       "                        <td id=\"T_4d87430a_af66_11e9_85fb_032492921ecbrow2_col1\" class=\"data row2 col1\" >8. Platz</td>\n",
       "                        <td id=\"T_4d87430a_af66_11e9_85fb_032492921ecbrow2_col2\" class=\"data row2 col2\" >6,284,935 €</td>\n",
       "                        <td id=\"T_4d87430a_af66_11e9_85fb_032492921ecbrow2_col3\" class=\"data row2 col3\" >Medizinische Universität Graz (32.4 Mio. €)</td>\n",
       "                        <td id=\"T_4d87430a_af66_11e9_85fb_032492921ecbrow2_col4\" class=\"data row2 col4\" ><img src=\"ULI_Unternehmen.png\", width=250, height=200/></td>\n",
       "            </tr>\n",
       "    </tbody></table>"
      ],
      "text/plain": [
       "<IPython.core.display.HTML object>"
      ]
     },
     "metadata": {},
     "output_type": "display_data"
    },
    {
     "data": {
      "text/html": [
       "<h4>Ähnliche Universitäten aufgrund der Drittmittel-Struktur</h3>"
      ],
      "text/plain": [
       "<IPython.core.display.HTML object>"
      ]
     },
     "metadata": {},
     "output_type": "display_data"
    },
    {
     "data": {
      "text/html": [
       "<p><strong>TUW</strong> (82.7%, wegen &auml;hnlicher Relevanz von FWF, Unternehmen, FFG), <strong>TUG</strong> (76.0%, wegen &auml;hnlicher Relevanz von FFG, Unternehmen, sonstige öffentlich-rechtliche Einrichtungen (Körperschaften, Stiftungen, Fonds etc.)), <strong>MUL</strong> (70.9%, wegen &auml;hnlicher Relevanz von FFG, Unternehmen, EU), <strong>UKL</strong> (69.7%, wegen &auml;hnlicher Relevanz von Unternehmen, FWF, FFG), <strong>UIN</strong> (69.2%, wegen &auml;hnlicher Relevanz von FWF, Unternehmen, sonstige öffentlich-rechtliche Einrichtungen (Körperschaften, Stiftungen, Fonds etc.)), <strong>BKW</strong> (63.8%, wegen &auml;hnlicher Relevanz von Unternehmen, FWF, EU)</p>"
      ],
      "text/plain": [
       "<IPython.core.display.HTML object>"
      ]
     },
     "metadata": {},
     "output_type": "display_data"
    },
    {
     "data": {
      "text/html": [
       "<p><small>Universitäten mit einer Ähnlichkeit von weniger als 50% werden nicht angezeigt.</small></p>"
      ],
      "text/plain": [
       "<IPython.core.display.HTML object>"
      ]
     },
     "metadata": {},
     "output_type": "display_data"
    },
    {
     "data": {
      "text/html": [
       "<h3>Universität für Musik und darstellende Kunst Wien</h3>"
      ],
      "text/plain": [
       "<IPython.core.display.HTML object>"
      ]
     },
     "metadata": {},
     "output_type": "display_data"
    },
    {
     "data": {
      "text/html": [
       "<h4>Drittmittel-Struktur</h4>"
      ],
      "text/plain": [
       "<IPython.core.display.HTML object>"
      ]
     },
     "metadata": {},
     "output_type": "display_data"
    },
    {
     "data": {
      "text/html": [
       "Angezeigt werden die gr&ouml;&szlig;ten WZW, die insgesamt mehr als 66.7% der Erl&ouml;se an der Universität für Musik und darstellende Kunst Wien ausmachen (exakt: 80.1%). Jeder andere WZW tr&auml;gt weniger als 16.1% bei. Die Spalte \"Ranking\" bezieht sich  auf den &ouml;sterreichweiten Vergleich der absoluten Werte im jeweiligen WZW."
      ],
      "text/plain": [
       "<IPython.core.display.HTML object>"
      ]
     },
     "metadata": {},
     "output_type": "display_data"
    },
    {
     "data": {
      "text/html": [
       "<style  type=\"text/css\" >\n",
       "    #T_4dc84990_af66_11e9_85fb_032492921ecbrow0_col0 {\n",
       "            background-color:  white;\n",
       "        }    #T_4dc84990_af66_11e9_85fb_032492921ecbrow0_col1 {\n",
       "            background-color:  white;\n",
       "        }    #T_4dc84990_af66_11e9_85fb_032492921ecbrow0_col2 {\n",
       "            background-color:  white;\n",
       "        }    #T_4dc84990_af66_11e9_85fb_032492921ecbrow0_col3 {\n",
       "            background-color:  white;\n",
       "        }    #T_4dc84990_af66_11e9_85fb_032492921ecbrow0_col4 {\n",
       "            background-color:  white;\n",
       "        }    #T_4dc84990_af66_11e9_85fb_032492921ecbrow1_col0 {\n",
       "            background-color:  white;\n",
       "        }    #T_4dc84990_af66_11e9_85fb_032492921ecbrow1_col1 {\n",
       "            background-color:  white;\n",
       "        }    #T_4dc84990_af66_11e9_85fb_032492921ecbrow1_col2 {\n",
       "            background-color:  white;\n",
       "        }    #T_4dc84990_af66_11e9_85fb_032492921ecbrow1_col3 {\n",
       "            background-color:  white;\n",
       "        }    #T_4dc84990_af66_11e9_85fb_032492921ecbrow1_col4 {\n",
       "            background-color:  white;\n",
       "        }    #T_4dc84990_af66_11e9_85fb_032492921ecbrow2_col0 {\n",
       "            background-color:  white;\n",
       "        }    #T_4dc84990_af66_11e9_85fb_032492921ecbrow2_col1 {\n",
       "            background-color:  white;\n",
       "        }    #T_4dc84990_af66_11e9_85fb_032492921ecbrow2_col2 {\n",
       "            background-color:  white;\n",
       "        }    #T_4dc84990_af66_11e9_85fb_032492921ecbrow2_col3 {\n",
       "            background-color:  white;\n",
       "        }    #T_4dc84990_af66_11e9_85fb_032492921ecbrow2_col4 {\n",
       "            background-color:  white;\n",
       "        }</style><table id=\"T_4dc84990_af66_11e9_85fb_032492921ecb\" ><thead>    <tr>        <th class=\"blank level0\" ></th>        <th class=\"col_heading level0 col0\" >Intern</th>        <th class=\"col_heading level0 col1\" >Ranking</th>        <th class=\"col_heading level0 col2\" >Erlöse</th>        <th class=\"col_heading level0 col3\" >Beste Universität</th>        <th class=\"col_heading level0 col4\" >Universität im Vergleich</th>    </tr>    <tr>        <th class=\"index_name level0\" >WZW</th>        <th class=\"blank\" ></th>        <th class=\"blank\" ></th>        <th class=\"blank\" ></th>        <th class=\"blank\" ></th>        <th class=\"blank\" ></th>    </tr></thead><tbody>\n",
       "                <tr>\n",
       "                        <th id=\"T_4dc84990_af66_11e9_85fb_032492921ecblevel0_row0\" class=\"row_heading level0 row0\" >FWF</th>\n",
       "                        <td id=\"T_4dc84990_af66_11e9_85fb_032492921ecbrow0_col0\" class=\"data row0 col0\" >40.14%</td>\n",
       "                        <td id=\"T_4dc84990_af66_11e9_85fb_032492921ecbrow0_col1\" class=\"data row0 col1\" >19. Platz</td>\n",
       "                        <td id=\"T_4dc84990_af66_11e9_85fb_032492921ecbrow0_col2\" class=\"data row0 col2\" >465,349 €</td>\n",
       "                        <td id=\"T_4dc84990_af66_11e9_85fb_032492921ecbrow0_col3\" class=\"data row0 col3\" >Universität Wien (41.1 Mio. €)</td>\n",
       "                        <td id=\"T_4dc84990_af66_11e9_85fb_032492921ecbrow0_col4\" class=\"data row0 col4\" ><img src=\"MKW_FWF.png\", width=250, height=200/></td>\n",
       "            </tr>\n",
       "            <tr>\n",
       "                        <th id=\"T_4dc84990_af66_11e9_85fb_032492921ecblevel0_row1\" class=\"row_heading level0 row1\" >EU</th>\n",
       "                        <td id=\"T_4dc84990_af66_11e9_85fb_032492921ecbrow1_col0\" class=\"data row1 col0\" >23.91%</td>\n",
       "                        <td id=\"T_4dc84990_af66_11e9_85fb_032492921ecbrow1_col1\" class=\"data row1 col1\" >18. Platz</td>\n",
       "                        <td id=\"T_4dc84990_af66_11e9_85fb_032492921ecbrow1_col2\" class=\"data row1 col2\" >277,190 €</td>\n",
       "                        <td id=\"T_4dc84990_af66_11e9_85fb_032492921ecbrow1_col3\" class=\"data row1 col3\" >Technische Universität Wien (14.7 Mio. €)</td>\n",
       "                        <td id=\"T_4dc84990_af66_11e9_85fb_032492921ecbrow1_col4\" class=\"data row1 col4\" ><img src=\"MKW_EU.png\", width=250, height=200/></td>\n",
       "            </tr>\n",
       "            <tr>\n",
       "                        <th id=\"T_4dc84990_af66_11e9_85fb_032492921ecblevel0_row2\" class=\"row_heading level0 row2\" >Länder (inkl. deren Stiftungen und Einrichtungen)</th>\n",
       "                        <td id=\"T_4dc84990_af66_11e9_85fb_032492921ecbrow2_col0\" class=\"data row2 col0\" >16.05%</td>\n",
       "                        <td id=\"T_4dc84990_af66_11e9_85fb_032492921ecbrow2_col1\" class=\"data row2 col1\" >16. Platz</td>\n",
       "                        <td id=\"T_4dc84990_af66_11e9_85fb_032492921ecbrow2_col2\" class=\"data row2 col2\" >186,055 €</td>\n",
       "                        <td id=\"T_4dc84990_af66_11e9_85fb_032492921ecbrow2_col3\" class=\"data row2 col3\" >Universität Wien (5.6 Mio. €)</td>\n",
       "                        <td id=\"T_4dc84990_af66_11e9_85fb_032492921ecbrow2_col4\" class=\"data row2 col4\" ><img src=\"MKW_Länder_inkl._deren_Stiftungen_und_Einrichtungen.png\", width=250, height=200/></td>\n",
       "            </tr>\n",
       "    </tbody></table>"
      ],
      "text/plain": [
       "<IPython.core.display.HTML object>"
      ]
     },
     "metadata": {},
     "output_type": "display_data"
    },
    {
     "data": {
      "text/html": [
       "<h4>Ähnliche Universitäten aufgrund der Drittmittel-Struktur</h3>"
      ],
      "text/plain": [
       "<IPython.core.display.HTML object>"
      ]
     },
     "metadata": {},
     "output_type": "display_data"
    },
    {
     "data": {
      "text/html": [
       "<p><strong>UWI</strong> (73.9%, wegen &auml;hnlicher Relevanz von FWF, EU, Länder (inkl. deren Stiftungen und Einrichtungen)), <strong>UAW</strong> (73.7%, wegen &auml;hnlicher Relevanz von FWF, EU, Bund (Ministerien)), <strong>USA</strong> (72.4%, wegen &auml;hnlicher Relevanz von FWF, EU, Länder (inkl. deren Stiftungen und Einrichtungen)), <strong>UIN</strong> (69.8%, wegen &auml;hnlicher Relevanz von FWF, EU, Länder (inkl. deren Stiftungen und Einrichtungen)), <strong>UGR</strong> (65.5%, wegen &auml;hnlicher Relevanz von FWF, EU, Länder (inkl. deren Stiftungen und Einrichtungen)), <strong>MKG</strong> (64.3%, wegen &auml;hnlicher Relevanz von FWF, Bund (Ministerien), Länder (inkl. deren Stiftungen und Einrichtungen))</p>"
      ],
      "text/plain": [
       "<IPython.core.display.HTML object>"
      ]
     },
     "metadata": {},
     "output_type": "display_data"
    },
    {
     "data": {
      "text/html": [
       "<p><small>Universitäten mit einer Ähnlichkeit von weniger als 50% werden nicht angezeigt.</small></p>"
      ],
      "text/plain": [
       "<IPython.core.display.HTML object>"
      ]
     },
     "metadata": {},
     "output_type": "display_data"
    },
    {
     "data": {
      "text/html": [
       "<h3>Wirtschaftsuniversität Wien</h3>"
      ],
      "text/plain": [
       "<IPython.core.display.HTML object>"
      ]
     },
     "metadata": {},
     "output_type": "display_data"
    },
    {
     "data": {
      "text/html": [
       "<h4>Drittmittel-Struktur</h4>"
      ],
      "text/plain": [
       "<IPython.core.display.HTML object>"
      ]
     },
     "metadata": {},
     "output_type": "display_data"
    },
    {
     "data": {
      "text/html": [
       "Angezeigt werden die gr&ouml;&szlig;ten WZW, die insgesamt mehr als 66.7% der Erl&ouml;se an der Wirtschaftsuniversität Wien ausmachen (exakt: 72.6%). Jeder andere WZW tr&auml;gt weniger als 10.8% bei. Die Spalte \"Ranking\" bezieht sich  auf den &ouml;sterreichweiten Vergleich der absoluten Werte im jeweiligen WZW."
      ],
      "text/plain": [
       "<IPython.core.display.HTML object>"
      ]
     },
     "metadata": {},
     "output_type": "display_data"
    },
    {
     "data": {
      "text/html": [
       "<style  type=\"text/css\" >\n",
       "    #T_4e142842_af66_11e9_85fb_032492921ecbrow0_col0 {\n",
       "            background-color:  yellow;\n",
       "        }    #T_4e142842_af66_11e9_85fb_032492921ecbrow0_col1 {\n",
       "            background-color:  yellow;\n",
       "        }    #T_4e142842_af66_11e9_85fb_032492921ecbrow0_col2 {\n",
       "            background-color:  yellow;\n",
       "        }    #T_4e142842_af66_11e9_85fb_032492921ecbrow0_col3 {\n",
       "            background-color:  yellow;\n",
       "        }    #T_4e142842_af66_11e9_85fb_032492921ecbrow0_col4 {\n",
       "            background-color:  yellow;\n",
       "        }    #T_4e142842_af66_11e9_85fb_032492921ecbrow1_col0 {\n",
       "            background-color:  white;\n",
       "        }    #T_4e142842_af66_11e9_85fb_032492921ecbrow1_col1 {\n",
       "            background-color:  white;\n",
       "        }    #T_4e142842_af66_11e9_85fb_032492921ecbrow1_col2 {\n",
       "            background-color:  white;\n",
       "        }    #T_4e142842_af66_11e9_85fb_032492921ecbrow1_col3 {\n",
       "            background-color:  white;\n",
       "        }    #T_4e142842_af66_11e9_85fb_032492921ecbrow1_col4 {\n",
       "            background-color:  white;\n",
       "        }    #T_4e142842_af66_11e9_85fb_032492921ecbrow2_col0 {\n",
       "            background-color:  white;\n",
       "        }    #T_4e142842_af66_11e9_85fb_032492921ecbrow2_col1 {\n",
       "            background-color:  white;\n",
       "        }    #T_4e142842_af66_11e9_85fb_032492921ecbrow2_col2 {\n",
       "            background-color:  white;\n",
       "        }    #T_4e142842_af66_11e9_85fb_032492921ecbrow2_col3 {\n",
       "            background-color:  white;\n",
       "        }    #T_4e142842_af66_11e9_85fb_032492921ecbrow2_col4 {\n",
       "            background-color:  white;\n",
       "        }    #T_4e142842_af66_11e9_85fb_032492921ecbrow3_col0 {\n",
       "            background-color:  white;\n",
       "        }    #T_4e142842_af66_11e9_85fb_032492921ecbrow3_col1 {\n",
       "            background-color:  white;\n",
       "        }    #T_4e142842_af66_11e9_85fb_032492921ecbrow3_col2 {\n",
       "            background-color:  white;\n",
       "        }    #T_4e142842_af66_11e9_85fb_032492921ecbrow3_col3 {\n",
       "            background-color:  white;\n",
       "        }    #T_4e142842_af66_11e9_85fb_032492921ecbrow3_col4 {\n",
       "            background-color:  white;\n",
       "        }    #T_4e142842_af66_11e9_85fb_032492921ecbrow4_col0 {\n",
       "            background-color:  white;\n",
       "        }    #T_4e142842_af66_11e9_85fb_032492921ecbrow4_col1 {\n",
       "            background-color:  white;\n",
       "        }    #T_4e142842_af66_11e9_85fb_032492921ecbrow4_col2 {\n",
       "            background-color:  white;\n",
       "        }    #T_4e142842_af66_11e9_85fb_032492921ecbrow4_col3 {\n",
       "            background-color:  white;\n",
       "        }    #T_4e142842_af66_11e9_85fb_032492921ecbrow4_col4 {\n",
       "            background-color:  white;\n",
       "        }</style><table id=\"T_4e142842_af66_11e9_85fb_032492921ecb\" ><thead>    <tr>        <th class=\"blank level0\" ></th>        <th class=\"col_heading level0 col0\" >Intern</th>        <th class=\"col_heading level0 col1\" >Ranking</th>        <th class=\"col_heading level0 col2\" >Erlöse</th>        <th class=\"col_heading level0 col3\" >Beste Universität</th>        <th class=\"col_heading level0 col4\" >Universität im Vergleich</th>    </tr>    <tr>        <th class=\"index_name level0\" >WZW</th>        <th class=\"blank\" ></th>        <th class=\"blank\" ></th>        <th class=\"blank\" ></th>        <th class=\"blank\" ></th>        <th class=\"blank\" ></th>    </tr></thead><tbody>\n",
       "                <tr>\n",
       "                        <th id=\"T_4e142842_af66_11e9_85fb_032492921ecblevel0_row0\" class=\"row_heading level0 row0\" >sonstige</th>\n",
       "                        <td id=\"T_4e142842_af66_11e9_85fb_032492921ecbrow0_col0\" class=\"data row0 col0\" >19.24%</td>\n",
       "                        <td id=\"T_4e142842_af66_11e9_85fb_032492921ecbrow0_col1\" class=\"data row0 col1\" >3. Platz</td>\n",
       "                        <td id=\"T_4e142842_af66_11e9_85fb_032492921ecbrow0_col2\" class=\"data row0 col2\" >2,475,309 €</td>\n",
       "                        <td id=\"T_4e142842_af66_11e9_85fb_032492921ecbrow0_col3\" class=\"data row0 col3\" >Medizinische Universität Wien (33.2 Mio. €)</td>\n",
       "                        <td id=\"T_4e142842_af66_11e9_85fb_032492921ecbrow0_col4\" class=\"data row0 col4\" ><img src=\"WUW_sonstige.png\", width=250, height=200/></td>\n",
       "            </tr>\n",
       "            <tr>\n",
       "                        <th id=\"T_4e142842_af66_11e9_85fb_032492921ecblevel0_row1\" class=\"row_heading level0 row1\" >EU</th>\n",
       "                        <td id=\"T_4e142842_af66_11e9_85fb_032492921ecbrow1_col0\" class=\"data row1 col0\" >16.09%</td>\n",
       "                        <td id=\"T_4e142842_af66_11e9_85fb_032492921ecbrow1_col1\" class=\"data row1 col1\" >13. Platz</td>\n",
       "                        <td id=\"T_4e142842_af66_11e9_85fb_032492921ecbrow1_col2\" class=\"data row1 col2\" >2,070,273 €</td>\n",
       "                        <td id=\"T_4e142842_af66_11e9_85fb_032492921ecbrow1_col3\" class=\"data row1 col3\" >Technische Universität Wien (14.7 Mio. €)</td>\n",
       "                        <td id=\"T_4e142842_af66_11e9_85fb_032492921ecbrow1_col4\" class=\"data row1 col4\" ><img src=\"WUW_EU.png\", width=250, height=200/></td>\n",
       "            </tr>\n",
       "            <tr>\n",
       "                        <th id=\"T_4e142842_af66_11e9_85fb_032492921ecblevel0_row2\" class=\"row_heading level0 row2\" >Private (Stiftungen, Vereine, etc.)</th>\n",
       "                        <td id=\"T_4e142842_af66_11e9_85fb_032492921ecbrow2_col0\" class=\"data row2 col0\" >15.23%</td>\n",
       "                        <td id=\"T_4e142842_af66_11e9_85fb_032492921ecbrow2_col1\" class=\"data row2 col1\" >6. Platz</td>\n",
       "                        <td id=\"T_4e142842_af66_11e9_85fb_032492921ecbrow2_col2\" class=\"data row2 col2\" >1,959,377 €</td>\n",
       "                        <td id=\"T_4e142842_af66_11e9_85fb_032492921ecbrow2_col3\" class=\"data row2 col3\" >Medizinische Universität Wien (9.1 Mio. €)</td>\n",
       "                        <td id=\"T_4e142842_af66_11e9_85fb_032492921ecbrow2_col4\" class=\"data row2 col4\" ><img src=\"WUW_Private_Stiftungen_Vereine_etc..png\", width=250, height=200/></td>\n",
       "            </tr>\n",
       "            <tr>\n",
       "                        <th id=\"T_4e142842_af66_11e9_85fb_032492921ecblevel0_row3\" class=\"row_heading level0 row3\" >FWF</th>\n",
       "                        <td id=\"T_4e142842_af66_11e9_85fb_032492921ecbrow3_col0\" class=\"data row3 col0\" >11.28%</td>\n",
       "                        <td id=\"T_4e142842_af66_11e9_85fb_032492921ecbrow3_col1\" class=\"data row3 col1\" >13. Platz</td>\n",
       "                        <td id=\"T_4e142842_af66_11e9_85fb_032492921ecbrow3_col2\" class=\"data row3 col2\" >1,450,782 €</td>\n",
       "                        <td id=\"T_4e142842_af66_11e9_85fb_032492921ecbrow3_col3\" class=\"data row3 col3\" >Universität Wien (41.1 Mio. €)</td>\n",
       "                        <td id=\"T_4e142842_af66_11e9_85fb_032492921ecbrow3_col4\" class=\"data row3 col4\" ><img src=\"WUW_FWF.png\", width=250, height=200/></td>\n",
       "            </tr>\n",
       "            <tr>\n",
       "                        <th id=\"T_4e142842_af66_11e9_85fb_032492921ecblevel0_row4\" class=\"row_heading level0 row4\" >Unternehmen</th>\n",
       "                        <td id=\"T_4e142842_af66_11e9_85fb_032492921ecbrow4_col0\" class=\"data row4 col0\" >10.78%</td>\n",
       "                        <td id=\"T_4e142842_af66_11e9_85fb_032492921ecbrow4_col1\" class=\"data row4 col1\" >14. Platz</td>\n",
       "                        <td id=\"T_4e142842_af66_11e9_85fb_032492921ecbrow4_col2\" class=\"data row4 col2\" >1,386,378 €</td>\n",
       "                        <td id=\"T_4e142842_af66_11e9_85fb_032492921ecbrow4_col3\" class=\"data row4 col3\" >Medizinische Universität Graz (32.4 Mio. €)</td>\n",
       "                        <td id=\"T_4e142842_af66_11e9_85fb_032492921ecbrow4_col4\" class=\"data row4 col4\" ><img src=\"WUW_Unternehmen.png\", width=250, height=200/></td>\n",
       "            </tr>\n",
       "    </tbody></table>"
      ],
      "text/plain": [
       "<IPython.core.display.HTML object>"
      ]
     },
     "metadata": {},
     "output_type": "display_data"
    },
    {
     "data": {
      "text/html": [
       "<h4>Ähnliche Universitäten aufgrund der Drittmittel-Struktur</h3>"
      ],
      "text/plain": [
       "<IPython.core.display.HTML object>"
      ]
     },
     "metadata": {},
     "output_type": "display_data"
    },
    {
     "data": {
      "text/html": [
       "<p><strong>MUW</strong> (65.6%, wegen &auml;hnlicher Relevanz von sonstige, FWF, Unternehmen), <strong>BKW</strong> (63.2%, wegen &auml;hnlicher Relevanz von EU, FWF, Unternehmen), <strong>UKL</strong> (61.1%, wegen &auml;hnlicher Relevanz von EU, FWF, Unternehmen), <strong>UIN</strong> (59.0%, wegen &auml;hnlicher Relevanz von EU, FWF, Unternehmen), <strong>VMW</strong> (58.6%, wegen &auml;hnlicher Relevanz von Private (Stiftungen, Vereine, etc.), FWF, Unternehmen), <strong>TUW</strong> (57.0%, wegen &auml;hnlicher Relevanz von EU, FWF, Unternehmen)</p>"
      ],
      "text/plain": [
       "<IPython.core.display.HTML object>"
      ]
     },
     "metadata": {},
     "output_type": "display_data"
    },
    {
     "data": {
      "text/html": [
       "<p><small>Universitäten mit einer Ähnlichkeit von weniger als 50% werden nicht angezeigt.</small></p>"
      ],
      "text/plain": [
       "<IPython.core.display.HTML object>"
      ]
     },
     "metadata": {},
     "output_type": "display_data"
    },
    {
     "data": {
      "text/html": [
       "<h3>Medizinische Universität Wien</h3>"
      ],
      "text/plain": [
       "<IPython.core.display.HTML object>"
      ]
     },
     "metadata": {},
     "output_type": "display_data"
    },
    {
     "data": {
      "text/html": [
       "<h4>Drittmittel-Struktur</h4>"
      ],
      "text/plain": [
       "<IPython.core.display.HTML object>"
      ]
     },
     "metadata": {},
     "output_type": "display_data"
    },
    {
     "data": {
      "text/html": [
       "Angezeigt werden die gr&ouml;&szlig;ten WZW, die insgesamt mehr als 66.7% der Erl&ouml;se an der Medizinische Universität Wien ausmachen (exakt: 74.2%). Jeder andere WZW tr&auml;gt weniger als 19.0% bei. Die Spalte \"Ranking\" bezieht sich  auf den &ouml;sterreichweiten Vergleich der absoluten Werte im jeweiligen WZW."
      ],
      "text/plain": [
       "<IPython.core.display.HTML object>"
      ]
     },
     "metadata": {},
     "output_type": "display_data"
    },
    {
     "data": {
      "text/html": [
       "<style  type=\"text/css\" >\n",
       "    #T_4e5002cc_af66_11e9_85fb_032492921ecbrow0_col0 {\n",
       "            background-color:  green;\n",
       "        }    #T_4e5002cc_af66_11e9_85fb_032492921ecbrow0_col1 {\n",
       "            background-color:  green;\n",
       "        }    #T_4e5002cc_af66_11e9_85fb_032492921ecbrow0_col2 {\n",
       "            background-color:  green;\n",
       "        }    #T_4e5002cc_af66_11e9_85fb_032492921ecbrow0_col3 {\n",
       "            background-color:  green;\n",
       "        }    #T_4e5002cc_af66_11e9_85fb_032492921ecbrow0_col4 {\n",
       "            background-color:  green;\n",
       "        }    #T_4e5002cc_af66_11e9_85fb_032492921ecbrow1_col0 {\n",
       "            background-color:  white;\n",
       "        }    #T_4e5002cc_af66_11e9_85fb_032492921ecbrow1_col1 {\n",
       "            background-color:  white;\n",
       "        }    #T_4e5002cc_af66_11e9_85fb_032492921ecbrow1_col2 {\n",
       "            background-color:  white;\n",
       "        }    #T_4e5002cc_af66_11e9_85fb_032492921ecbrow1_col3 {\n",
       "            background-color:  white;\n",
       "        }    #T_4e5002cc_af66_11e9_85fb_032492921ecbrow1_col4 {\n",
       "            background-color:  white;\n",
       "        }    #T_4e5002cc_af66_11e9_85fb_032492921ecbrow2_col0 {\n",
       "            background-color:  yellow;\n",
       "        }    #T_4e5002cc_af66_11e9_85fb_032492921ecbrow2_col1 {\n",
       "            background-color:  yellow;\n",
       "        }    #T_4e5002cc_af66_11e9_85fb_032492921ecbrow2_col2 {\n",
       "            background-color:  yellow;\n",
       "        }    #T_4e5002cc_af66_11e9_85fb_032492921ecbrow2_col3 {\n",
       "            background-color:  yellow;\n",
       "        }    #T_4e5002cc_af66_11e9_85fb_032492921ecbrow2_col4 {\n",
       "            background-color:  yellow;\n",
       "        }</style><table id=\"T_4e5002cc_af66_11e9_85fb_032492921ecb\" ><thead>    <tr>        <th class=\"blank level0\" ></th>        <th class=\"col_heading level0 col0\" >Intern</th>        <th class=\"col_heading level0 col1\" >Ranking</th>        <th class=\"col_heading level0 col2\" >Erlöse</th>        <th class=\"col_heading level0 col3\" >Beste Universität</th>        <th class=\"col_heading level0 col4\" >Universität im Vergleich</th>    </tr>    <tr>        <th class=\"index_name level0\" >WZW</th>        <th class=\"blank\" ></th>        <th class=\"blank\" ></th>        <th class=\"blank\" ></th>        <th class=\"blank\" ></th>        <th class=\"blank\" ></th>    </tr></thead><tbody>\n",
       "                <tr>\n",
       "                        <th id=\"T_4e5002cc_af66_11e9_85fb_032492921ecblevel0_row0\" class=\"row_heading level0 row0\" >sonstige</th>\n",
       "                        <td id=\"T_4e5002cc_af66_11e9_85fb_032492921ecbrow0_col0\" class=\"data row0 col0\" >33.55%</td>\n",
       "                        <td id=\"T_4e5002cc_af66_11e9_85fb_032492921ecbrow0_col1\" class=\"data row0 col1\" >1. Platz</td>\n",
       "                        <td id=\"T_4e5002cc_af66_11e9_85fb_032492921ecbrow0_col2\" class=\"data row0 col2\" >33,211,761 €</td>\n",
       "                        <td id=\"T_4e5002cc_af66_11e9_85fb_032492921ecbrow0_col3\" class=\"data row0 col3\" >(diese)</td>\n",
       "                        <td id=\"T_4e5002cc_af66_11e9_85fb_032492921ecbrow0_col4\" class=\"data row0 col4\" ><img src=\"MUW_sonstige.png\", width=250, height=200/></td>\n",
       "            </tr>\n",
       "            <tr>\n",
       "                        <th id=\"T_4e5002cc_af66_11e9_85fb_032492921ecblevel0_row1\" class=\"row_heading level0 row1\" >Unternehmen</th>\n",
       "                        <td id=\"T_4e5002cc_af66_11e9_85fb_032492921ecbrow1_col0\" class=\"data row1 col0\" >21.68%</td>\n",
       "                        <td id=\"T_4e5002cc_af66_11e9_85fb_032492921ecbrow1_col1\" class=\"data row1 col1\" >4. Platz</td>\n",
       "                        <td id=\"T_4e5002cc_af66_11e9_85fb_032492921ecbrow1_col2\" class=\"data row1 col2\" >21,467,168 €</td>\n",
       "                        <td id=\"T_4e5002cc_af66_11e9_85fb_032492921ecbrow1_col3\" class=\"data row1 col3\" >Medizinische Universität Graz (32.4 Mio. €)</td>\n",
       "                        <td id=\"T_4e5002cc_af66_11e9_85fb_032492921ecbrow1_col4\" class=\"data row1 col4\" ><img src=\"MUW_Unternehmen.png\", width=250, height=200/></td>\n",
       "            </tr>\n",
       "            <tr>\n",
       "                        <th id=\"T_4e5002cc_af66_11e9_85fb_032492921ecblevel0_row2\" class=\"row_heading level0 row2\" >FWF</th>\n",
       "                        <td id=\"T_4e5002cc_af66_11e9_85fb_032492921ecbrow2_col0\" class=\"data row2 col0\" >19.01%</td>\n",
       "                        <td id=\"T_4e5002cc_af66_11e9_85fb_032492921ecbrow2_col1\" class=\"data row2 col1\" >3. Platz</td>\n",
       "                        <td id=\"T_4e5002cc_af66_11e9_85fb_032492921ecbrow2_col2\" class=\"data row2 col2\" >18,825,925 €</td>\n",
       "                        <td id=\"T_4e5002cc_af66_11e9_85fb_032492921ecbrow2_col3\" class=\"data row2 col3\" >Universität Wien (41.1 Mio. €)</td>\n",
       "                        <td id=\"T_4e5002cc_af66_11e9_85fb_032492921ecbrow2_col4\" class=\"data row2 col4\" ><img src=\"MUW_FWF.png\", width=250, height=200/></td>\n",
       "            </tr>\n",
       "    </tbody></table>"
      ],
      "text/plain": [
       "<IPython.core.display.HTML object>"
      ]
     },
     "metadata": {},
     "output_type": "display_data"
    },
    {
     "data": {
      "text/html": [
       "<h4>Ähnliche Universitäten aufgrund der Drittmittel-Struktur</h3>"
      ],
      "text/plain": [
       "<IPython.core.display.HTML object>"
      ]
     },
     "metadata": {},
     "output_type": "display_data"
    },
    {
     "data": {
      "text/html": [
       "<p><strong>WUW</strong> (65.6%, wegen &auml;hnlicher Relevanz von sonstige, FWF, Unternehmen), <strong>BKW</strong> (63.9%, wegen &auml;hnlicher Relevanz von Unternehmen, FWF, Private (Stiftungen, Vereine, etc.)), <strong>UKL</strong> (62.2%, wegen &auml;hnlicher Relevanz von Unternehmen, FWF, EU), <strong>MUI</strong> (58.6%, wegen &auml;hnlicher Relevanz von Unternehmen, FWF, EU), <strong>TUW</strong> (57.5%, wegen &auml;hnlicher Relevanz von Unternehmen, FWF, EU), <strong>ULI</strong> (55.2%, wegen &auml;hnlicher Relevanz von Unternehmen, FWF, EU)</p>"
      ],
      "text/plain": [
       "<IPython.core.display.HTML object>"
      ]
     },
     "metadata": {},
     "output_type": "display_data"
    },
    {
     "data": {
      "text/html": [
       "<p><small>Universitäten mit einer Ähnlichkeit von weniger als 50% werden nicht angezeigt.</small></p>"
      ],
      "text/plain": [
       "<IPython.core.display.HTML object>"
      ]
     },
     "metadata": {},
     "output_type": "display_data"
    },
    {
     "data": {
      "text/html": [
       "<h3>Akademie der bildenden Künste Wien</h3>"
      ],
      "text/plain": [
       "<IPython.core.display.HTML object>"
      ]
     },
     "metadata": {},
     "output_type": "display_data"
    },
    {
     "data": {
      "text/html": [
       "<h4>Drittmittel-Struktur</h4>"
      ],
      "text/plain": [
       "<IPython.core.display.HTML object>"
      ]
     },
     "metadata": {},
     "output_type": "display_data"
    },
    {
     "data": {
      "text/html": [
       "Angezeigt werden die gr&ouml;&szlig;ten WZW, die insgesamt mehr als 66.7% der Erl&ouml;se an der Akademie der bildenden Künste Wien ausmachen (exakt: 71.7%). Jeder andere WZW tr&auml;gt weniger als 12.5% bei. Die Spalte \"Ranking\" bezieht sich  auf den &ouml;sterreichweiten Vergleich der absoluten Werte im jeweiligen WZW."
      ],
      "text/plain": [
       "<IPython.core.display.HTML object>"
      ]
     },
     "metadata": {},
     "output_type": "display_data"
    },
    {
     "data": {
      "text/html": [
       "<style  type=\"text/css\" >\n",
       "    #T_4e8cff6a_af66_11e9_85fb_032492921ecbrow0_col0 {\n",
       "            background-color:  white;\n",
       "        }    #T_4e8cff6a_af66_11e9_85fb_032492921ecbrow0_col1 {\n",
       "            background-color:  white;\n",
       "        }    #T_4e8cff6a_af66_11e9_85fb_032492921ecbrow0_col2 {\n",
       "            background-color:  white;\n",
       "        }    #T_4e8cff6a_af66_11e9_85fb_032492921ecbrow0_col3 {\n",
       "            background-color:  white;\n",
       "        }    #T_4e8cff6a_af66_11e9_85fb_032492921ecbrow0_col4 {\n",
       "            background-color:  white;\n",
       "        }    #T_4e8cff6a_af66_11e9_85fb_032492921ecbrow1_col0 {\n",
       "            background-color:  white;\n",
       "        }    #T_4e8cff6a_af66_11e9_85fb_032492921ecbrow1_col1 {\n",
       "            background-color:  white;\n",
       "        }    #T_4e8cff6a_af66_11e9_85fb_032492921ecbrow1_col2 {\n",
       "            background-color:  white;\n",
       "        }    #T_4e8cff6a_af66_11e9_85fb_032492921ecbrow1_col3 {\n",
       "            background-color:  white;\n",
       "        }    #T_4e8cff6a_af66_11e9_85fb_032492921ecbrow1_col4 {\n",
       "            background-color:  white;\n",
       "        }    #T_4e8cff6a_af66_11e9_85fb_032492921ecbrow2_col0 {\n",
       "            background-color:  white;\n",
       "        }    #T_4e8cff6a_af66_11e9_85fb_032492921ecbrow2_col1 {\n",
       "            background-color:  white;\n",
       "        }    #T_4e8cff6a_af66_11e9_85fb_032492921ecbrow2_col2 {\n",
       "            background-color:  white;\n",
       "        }    #T_4e8cff6a_af66_11e9_85fb_032492921ecbrow2_col3 {\n",
       "            background-color:  white;\n",
       "        }    #T_4e8cff6a_af66_11e9_85fb_032492921ecbrow2_col4 {\n",
       "            background-color:  white;\n",
       "        }</style><table id=\"T_4e8cff6a_af66_11e9_85fb_032492921ecb\" ><thead>    <tr>        <th class=\"blank level0\" ></th>        <th class=\"col_heading level0 col0\" >Intern</th>        <th class=\"col_heading level0 col1\" >Ranking</th>        <th class=\"col_heading level0 col2\" >Erlöse</th>        <th class=\"col_heading level0 col3\" >Beste Universität</th>        <th class=\"col_heading level0 col4\" >Universität im Vergleich</th>    </tr>    <tr>        <th class=\"index_name level0\" >WZW</th>        <th class=\"blank\" ></th>        <th class=\"blank\" ></th>        <th class=\"blank\" ></th>        <th class=\"blank\" ></th>        <th class=\"blank\" ></th>    </tr></thead><tbody>\n",
       "                <tr>\n",
       "                        <th id=\"T_4e8cff6a_af66_11e9_85fb_032492921ecblevel0_row0\" class=\"row_heading level0 row0\" >FWF</th>\n",
       "                        <td id=\"T_4e8cff6a_af66_11e9_85fb_032492921ecbrow0_col0\" class=\"data row0 col0\" >44.60%</td>\n",
       "                        <td id=\"T_4e8cff6a_af66_11e9_85fb_032492921ecbrow0_col1\" class=\"data row0 col1\" >17. Platz</td>\n",
       "                        <td id=\"T_4e8cff6a_af66_11e9_85fb_032492921ecbrow0_col2\" class=\"data row0 col2\" >724,207 €</td>\n",
       "                        <td id=\"T_4e8cff6a_af66_11e9_85fb_032492921ecbrow0_col3\" class=\"data row0 col3\" >Universität Wien (41.1 Mio. €)</td>\n",
       "                        <td id=\"T_4e8cff6a_af66_11e9_85fb_032492921ecbrow0_col4\" class=\"data row0 col4\" ><img src=\"ABW_FWF.png\", width=250, height=200/></td>\n",
       "            </tr>\n",
       "            <tr>\n",
       "                        <th id=\"T_4e8cff6a_af66_11e9_85fb_032492921ecblevel0_row1\" class=\"row_heading level0 row1\" >sonstige öffentlich-rechtliche Einrichtungen (Körperschaften, Stiftungen, Fonds etc.)</th>\n",
       "                        <td id=\"T_4e8cff6a_af66_11e9_85fb_032492921ecbrow1_col0\" class=\"data row1 col0\" >14.63%</td>\n",
       "                        <td id=\"T_4e8cff6a_af66_11e9_85fb_032492921ecbrow1_col1\" class=\"data row1 col1\" >17. Platz</td>\n",
       "                        <td id=\"T_4e8cff6a_af66_11e9_85fb_032492921ecbrow1_col2\" class=\"data row1 col2\" >237,590 €</td>\n",
       "                        <td id=\"T_4e8cff6a_af66_11e9_85fb_032492921ecbrow1_col3\" class=\"data row1 col3\" >Technische Universität Graz (11.9 Mio. €)</td>\n",
       "                        <td id=\"T_4e8cff6a_af66_11e9_85fb_032492921ecbrow1_col4\" class=\"data row1 col4\" ><img src=\"ABW_sonstige_öffentlich-rechtliche_Einrichtungen_Körperschaften_Stiftungen_Fonds_etc..png\", width=250, height=200/></td>\n",
       "            </tr>\n",
       "            <tr>\n",
       "                        <th id=\"T_4e8cff6a_af66_11e9_85fb_032492921ecblevel0_row2\" class=\"row_heading level0 row2\" >ÖAW</th>\n",
       "                        <td id=\"T_4e8cff6a_af66_11e9_85fb_032492921ecbrow2_col0\" class=\"data row2 col0\" >12.47%</td>\n",
       "                        <td id=\"T_4e8cff6a_af66_11e9_85fb_032492921ecbrow2_col1\" class=\"data row2 col1\" >7. Platz</td>\n",
       "                        <td id=\"T_4e8cff6a_af66_11e9_85fb_032492921ecbrow2_col2\" class=\"data row2 col2\" >202,474 €</td>\n",
       "                        <td id=\"T_4e8cff6a_af66_11e9_85fb_032492921ecbrow2_col3\" class=\"data row2 col3\" >Universität Wien (2.2 Mio. €)</td>\n",
       "                        <td id=\"T_4e8cff6a_af66_11e9_85fb_032492921ecbrow2_col4\" class=\"data row2 col4\" ><img src=\"ABW_ÖAW.png\", width=250, height=200/></td>\n",
       "            </tr>\n",
       "    </tbody></table>"
      ],
      "text/plain": [
       "<IPython.core.display.HTML object>"
      ]
     },
     "metadata": {},
     "output_type": "display_data"
    },
    {
     "data": {
      "text/html": [
       "<h4>Ähnliche Universitäten aufgrund der Drittmittel-Struktur</h3>"
      ],
      "text/plain": [
       "<IPython.core.display.HTML object>"
      ]
     },
     "metadata": {},
     "output_type": "display_data"
    },
    {
     "data": {
      "text/html": [
       "<p><strong>UAW</strong> (68.3%, wegen &auml;hnlicher Relevanz von FWF, Private (Stiftungen, Vereine, etc.), sonstige), <strong>UWI</strong> (67.4%, wegen &auml;hnlicher Relevanz von FWF, sonstige, Private (Stiftungen, Vereine, etc.)), <strong>UGR</strong> (63.1%, wegen &auml;hnlicher Relevanz von FWF, sonstige öffentlich-rechtliche Einrichtungen (Körperschaften, Stiftungen, Fonds etc.), sonstige), <strong>USA</strong> (62.8%, wegen &auml;hnlicher Relevanz von FWF, sonstige öffentlich-rechtliche Einrichtungen (Körperschaften, Stiftungen, Fonds etc.), sonstige), <strong>MKG</strong> (54.6%, wegen &auml;hnlicher Relevanz von FWF, Bund (Ministerien), sonstige öffentlich-rechtliche Einrichtungen (Körperschaften, Stiftungen, Fonds etc.)), <strong>UIN</strong> (54.2%, wegen &auml;hnlicher Relevanz von FWF, sonstige öffentlich-rechtliche Einrichtungen (Körperschaften, Stiftungen, Fonds etc.), Private (Stiftungen, Vereine, etc.))</p>"
      ],
      "text/plain": [
       "<IPython.core.display.HTML object>"
      ]
     },
     "metadata": {},
     "output_type": "display_data"
    },
    {
     "data": {
      "text/html": [
       "<p><small>Universitäten mit einer Ähnlichkeit von weniger als 50% werden nicht angezeigt.</small></p>"
      ],
      "text/plain": [
       "<IPython.core.display.HTML object>"
      ]
     },
     "metadata": {},
     "output_type": "display_data"
    }
   ],
   "source": [
    "%matplotlib inline \n",
    "\n",
    "from pandas import Series \n",
    "import pandas as pd \n",
    "import numpy as np\n",
    "from IPython.display import HTML\n",
    "from IPython.display import Image\n",
    "import matplotlib.pyplot as plt\n",
    "from io import BytesIO\n",
    "import re\n",
    "\n",
    "#data = pd.read_csv('1.C.1.csv', sep=';', index_col=[0, 1, 2, 3])\n",
    "#data.sort_index(inplace=True)\n",
    "\n",
    "#idx = pd.IndexSlice\n",
    "#tmp = data.loc[idx[:, 'Psychologie', :, 2018], :]\n",
    "\n",
    "#print(tmp.index.get_level_values('university').unique())\n",
    "#display(data.loc['FWF'].xs(2018, level='year'))\n",
    "#display(data.xs(2018, level='year'))\n",
    "\n",
    "university_short_forms = { 'Universität Wien': 'UWI',\n",
    "                           'Universität Graz': 'UGR',\n",
    "                           'Universität Innsbruck': 'UIN',\n",
    "                           'Universität Salzburg': 'USA',\n",
    "                           'Universität Klagenfurt': 'UKL',\n",
    "                           'Universität für Bodenkultur Wien': 'BKW',\n",
    "                           'Universität für künstlerische und industrielle Gestaltung Linz': 'UGL',\n",
    "                           'Universität für angewandte Kunst Wien': 'UAW',\n",
    "                           'Universität Mozarteum Salzburg': 'UMS',\n",
    "                           'Medizinische Universität Wien': 'MUW',\n",
    "                           'Medizinische Universität Graz': 'MUG',\n",
    "                           'Medizinische Universität Innsbruck': 'MUI',\n",
    "                           'Universität Linz': 'ULI',\n",
    "                           'Akademie der bildenden Künste Wien': 'ABW',\n",
    "                           'Technische Universität Wien': 'TUW',\n",
    "                           'Technische Universität Graz': 'TUG',\n",
    "                           'Veterinärmedizinische Universität Wien': 'VMW',\n",
    "                           'Montanuniversität Leoben': 'MUL',\n",
    "                           'Universität für Weiterbildung Krems': 'UWK',\n",
    "                           'Wirtschaftsuniversität Wien': 'WUW',\n",
    "                           'Universität für Musik und darstellende Kunst Wien': 'MKW',\n",
    "                           'Universität für Musik und darstellende Kunst Graz': 'MKG'\n",
    "                         }\n",
    "\n",
    "def shorten(name):\n",
    "    if name in university_short_forms:\n",
    "        return university_short_forms[name]\n",
    "    else:\n",
    "        return name\n",
    "\n",
    "\n",
    "class Dimension:\n",
    "    @classmethod\n",
    "    def create(cls, dataframe, dimensions):\n",
    "        dims = dict()\n",
    "        for dim in dimensions:\n",
    "            assert dim in dataframe.index.names, \"There is no index '\" + dim + \"'\"\n",
    "            cats = dataframe.index.get_level_values(dim).unique()\n",
    "            dims[dim] = Dimension(dim, cats.values)\n",
    "        return dims\n",
    "    \n",
    "    def __init__(self, name, categories):\n",
    "        self.__name = name\n",
    "        self.__categories = categories   \n",
    "    @property\n",
    "    def name (self):\n",
    "        return self.__name\n",
    "    @property\n",
    "    def categories(self):\n",
    "        return self.__categories  \n",
    "    def __str__(self):\n",
    "        return self.name\n",
    "        \n",
    "class Datasheet:\n",
    "    def __init__(self, filename, dimensions, timepoint_name, university_name, value_name):\n",
    "        dataframe = pd.read_csv(filename, sep=';', index_col=list(range(len(dimensions)+2)))        \n",
    "        dataframe.columns = [value_name]\n",
    "        dataframe.sort_index(inplace=True)\n",
    "\n",
    "        assert timepoint_name in dataframe.index.names, \"There is no index '\" + timepoint_name + \"'\"\n",
    "        assert university_name in dataframe.index.names, \"There is no index '\" + university_name + \"'\"\n",
    "        assert value_name in dataframe, \"There is no colum with valid data called '\" + value_name + \"'\"\n",
    "        \n",
    "        self.__dataframe = dataframe\n",
    "        self.__timepoint_idx = timepoint_name\n",
    "        self.__university_idx = university_name\n",
    "        self.__value_column = value_name       \n",
    "        self.__dimensions = Dimension.create(dataframe, dimensions + [university_name, timepoint_name])\n",
    "        self.__timepoints = dataframe.index.get_level_values(timepoint_name).unique()\n",
    "        self.__universities = dataframe.index.get_level_values(university_name).unique()\n",
    "        self.__recent_timepoint = self.__timepoints.max()\n",
    "                \n",
    "    @property\n",
    "    def value_column(self):\n",
    "        return self.__value_column\n",
    "    @property\n",
    "    def university_idx(self):\n",
    "        return self.__university_idx\n",
    "    @property\n",
    "    def timepoint_idx(self):\n",
    "        return self.__timepoint_idx\n",
    "    @property\n",
    "    def dimensions(self):\n",
    "        return self.__dimensions\n",
    "    @property\n",
    "    def most_recent(self):\n",
    "        return self.__recent_timepoint\n",
    "    @property\n",
    "    def universities(self):\n",
    "        return self.__universities\n",
    "    \n",
    "    def only(self, conditions):\n",
    "        df = self.__dataframe\n",
    "        if conditions is None:\n",
    "            return df\n",
    "        slices = list()\n",
    "        for dim in self.dimensions.keys():\n",
    "            if self.dimensions[dim].name in conditions.keys():\n",
    "                slices.append(conditions[self.dimensions[dim].name])\n",
    "            else:\n",
    "                slices.append(slice(None))\n",
    "        return df.loc[tuple(slices), :]\n",
    "        \n",
    "    def analyze(self, description, about, filtering=None):\n",
    "        return Analysis(self, description, self.dimensions[about], self.only(filtering) \\\n",
    "                            .sum(level = [self.dimensions[about].name, self.university_idx]))\n",
    "\n",
    "\n",
    "class Analysis:\n",
    "    def __init__(self, sheet, description, about, table):\n",
    "        self.__sheet = sheet\n",
    "        self.__table = table.unstack(about.name, fill_value=0)\n",
    "        self.__about = about\n",
    "        self.__desc = description\n",
    "        \n",
    "        self.__sums = table.sum(axis='columns')\n",
    "        self.__sums.name = sheet.value_column\n",
    "        self.__totals = table.sum(level=[about.name])[sheet.value_column]\n",
    "        self.__grand_total = table.sum()\n",
    "        self.__grand_total.name = 'grand total'\n",
    "        \n",
    "        assert self.__grand_total[sheet.value_column] == self.__sums.sum()\n",
    "        \n",
    "        self.__structure = Structure(self)\n",
    "        self.__ranking = Ranking(self)\n",
    "\n",
    "               \n",
    "    @property\n",
    "    def sheet(self):\n",
    "        return self.__sheet\n",
    "    @property\n",
    "    def table(self):\n",
    "        return self.__table\n",
    "    @property\n",
    "    def horizontal_sums(self):\n",
    "        return self.__sums\n",
    "    @property\n",
    "    def sums(self):\n",
    "        return self.horizontal_sums\n",
    "    @property\n",
    "    def vertical_sums(self):\n",
    "        return self.__totals\n",
    "    @property\n",
    "    def totals(self):\n",
    "        return self.vertical_sums\n",
    "    @property\n",
    "    def about(self):\n",
    "        return self.__about\n",
    "    @property\n",
    "    def description(self):\n",
    "        return self.__desc\n",
    "    @property\n",
    "    def grand_total(self):\n",
    "        return self.__grand_total\n",
    "    @property\n",
    "    def structure(self):\n",
    "        return self.__structure\n",
    "    @property\n",
    "    def ranking(self):\n",
    "        return self.__ranking\n",
    "    \n",
    "    def values(self, university):\n",
    "        tmp = self.table.loc[university]\n",
    "        tmp.name = self.sheet.value_column\n",
    "        return tmp\n",
    "\n",
    "    \n",
    "    \n",
    "class Ranking:\n",
    "    def __init__(self, analysis):\n",
    "        self.__analysis = analysis\n",
    "        self.__rankings = analysis.table.rank(axis='rows', method='max', ascending=False)\n",
    "        \n",
    "        tmp = analysis.horizontal_sums.sum(level=self.analysis.sheet.university_idx)\n",
    "        self.__total_ranking = tmp.rank(method='max', ascending=False).sort_values()\n",
    "        self.__total_ranking.name = 'rank'\n",
    "        \n",
    "    @property\n",
    "    def analysis(self):\n",
    "        return self.__analysis\n",
    "    @property\n",
    "    def table(self):\n",
    "        return self.__rankings\n",
    "    \n",
    "    def of(self, university, category=None):\n",
    "        categories = self.__analysis.about.categories\n",
    "        retval = None\n",
    "        if category == None:\n",
    "            retval = self.__total_ranking.loc[university]\n",
    "            retval.name = 'ranking'\n",
    "        else:\n",
    "            if category in categories:\n",
    "                retval = self.__rankings[self.analysis.sheet.value_column, category][university].astype(int)\n",
    "            else:\n",
    "                retval = self.__rankings.loc[university].astype(int)\n",
    "        return retval\n",
    "\n",
    "    def better_than(self, university, category=None):\n",
    "        if category == None:\n",
    "            return self.__total_ranking[self.__total_ranking < self.__total_ranking[university]]\n",
    "        else:\n",
    "            tmp = self.__rankings[self.analysis.sheet.value_column, category].sort_values()\n",
    "            return tmp[tmp[university] > tmp]\n",
    "        \n",
    "    def best(self, category, top=1):\n",
    "        tmp = self.__rankings[self.analysis.sheet.value_column, category].sort_values()[0:top]\n",
    "        return tmp\n",
    "       \n",
    "        \n",
    "            \n",
    "\n",
    "class Structure:\n",
    "    def __init__(self, analysis):\n",
    "        self.__analysis = analysis\n",
    "        tmp = analysis.sums.sum(level=[analysis.sheet.university_idx])\n",
    "        self.__table = analysis.table.divide(tmp, axis=0).droplevel(level=0, axis='columns')\n",
    "        self.__table.name = analysis.sheet.value_column    \n",
    "        \n",
    "    @property\n",
    "    def table(self):\n",
    "        return self.__table\n",
    "    @property\n",
    "    def analysis(self):\n",
    "        return self.__analysis\n",
    "    \n",
    "    def most_important_to(self, university, cutoff=0.9):\n",
    "        u = self.table.loc[university].sort_values(ascending=False)\n",
    "        u.name = 'relevance'\n",
    "        cumsum = u.cumsum()\n",
    "        cut = (cumsum > cutoff).idxmax()\n",
    "        return u[:cut]\n",
    "\n",
    "    def of(self, university):\n",
    "        tmp = self.table.loc[university].sort_values(ascending=False)\n",
    "        tmp.name = 'relevance'\n",
    "        return tmp\n",
    "    \n",
    "    def similarities_to(self, university):\n",
    "        mirror = self.table.swapaxes('columns', 'rows', copy=False)\n",
    "        uni = mirror[university]\n",
    "        tmp = pd.DataFrame(data=uni.values).reindex_like(mirror)\n",
    "        tmp.loc[:, :] = uni[:, None]\n",
    "        return mirror.combine(tmp, np.minimum)\n",
    "        \n",
    "    def most_similar_to(self, university):\n",
    "        m = self.similarities_to(university)\n",
    "        result = m.sum(axis='rows')\n",
    "        result = result.sort_values(ascending=False)[1:]\n",
    "        result.name = 'similarity'\n",
    "        return result\n",
    "        \n",
    "        \n",
    "def highlight_places(column, series):\n",
    "    if series[column] == 1:\n",
    "        return ['background-color: green']*5\n",
    "    elif series[column] == 2 or series[column] == 3:\n",
    "        return ['background-color: yellow']*5\n",
    "    else:\n",
    "        return ['background-color: white']*5\n",
    "            \n",
    "class University:\n",
    "    def __init__(self, name):\n",
    "        self.__name = name\n",
    "        self.__analyses = list()\n",
    "        \n",
    "    @property\n",
    "    def name(self):\n",
    "        return self.__name\n",
    "    \n",
    "    def add_analysis(self, analysis):\n",
    "        self.__analyses.append(analysis)\n",
    "        \n",
    "    def describe(self):\n",
    "        display(HTML(\"<h3>\" + self.name + \"</h3>\"))\n",
    "        for a in self.__analyses:\n",
    "            display(HTML(\"<h4>\" + a.description + \"-Struktur</h4>\"))\n",
    "            cutoff = 2/3\n",
    "            df = a.structure.most_important_to(self.name, cutoff)\n",
    "            identity = df\n",
    "            rest = 1 - identity.sum()\n",
    "            display(HTML(\"Angezeigt werden die WZW, die zusammen \" \n",
    "                         + '{:.1%}'.format(identity.sum()) + ' der Erl&ouml;se an der ' + shorten(self.name) + ' ausmachen. '\n",
    "                         + 'Jeder andere WZW tr&auml;gt weniger als '\n",
    "                         + '{:.1%}'.format(min(rest, identity.min())) + ' bei. Die Spalte \\\"Ranking\\\" bezieht sich '\n",
    "                         + ' auf den &ouml;sterreichweiten Vergleich der absoluten Werte im jeweiligen WZW.'))\n",
    "            \n",
    "            df = df[df > 0] \\\n",
    "                .dropna()   \\\n",
    "                .to_frame()\n",
    "\n",
    "            df = df.join(a.ranking.of(self.name, 'all')) \\\n",
    "                   .join(a.values(self.name))\n",
    "            \n",
    "            best = pd.Series()\n",
    "            better = pd.Series()\n",
    "            best.name = 'best'\n",
    "            better.name = 'better'\n",
    "            plots = dict()\n",
    "            \n",
    "            def get_valid_filename(s):\n",
    "                s = str(s).strip().replace(' ', '_')\n",
    "                return re.sub(r'(?u)[^-\\w.]', '', s)\n",
    "            \n",
    "            for cat in df.index.get_level_values(level=a.about.name):\n",
    "                best_uni = a.ranking.best(cat).index.values[0]\n",
    "                if best_uni == self.name:\n",
    "                    best_uni = '(diese)'\n",
    "                else: \n",
    "                    best_uni += ' (' + '{0:,.1f} Mio. €'.format(a.values(best_uni)[a.sheet.value_column, cat]/1000000) + ')'\n",
    "                    \n",
    "                better_than_me = a.ranking.better_than(self.name, cat)\n",
    "                better_unis = ', '.join(better_than_me.index.values)\n",
    "                \n",
    "                my_rank = a.ranking.of(self.name, cat)\n",
    "                ranks = pd.DataFrame()\n",
    "                ranks.name = cat\n",
    "                for top5 in a.ranking.best(cat, top=max(my_rank+1, 4)).index.values:\n",
    "                    ranks.at[top5, 'funding'] = a.values(top5)[a.sheet.value_column, cat]/1000000\n",
    "                    \n",
    "                figure = plt.figure(figsize=(6,4))                    \n",
    "                ax = ranks.plot.bar(ax=plt.gca(), legend=False, width=1, fontsize=20)\n",
    "                for i, bar in enumerate(ax.patches):\n",
    "                    if i == my_rank-1:\n",
    "                        bar.set_facecolor('#D85010')\n",
    "                    else:\n",
    "                        bar.set_facecolor('#C0C0C0')\n",
    "                ax.set_ylabel('Millionen Euro', fontsize=20)\n",
    "                labels = ax.get_xticklabels()\n",
    "                for label in labels:\n",
    "                    label.set_text(shorten(label.get_text()))\n",
    "                ax.set_xticklabels(labels)\n",
    "                filename = get_valid_filename(shorten(self.name) + '_' + cat + '.png')\n",
    "                plt.tight_layout()\n",
    "                plt.savefig(filename, format='png', transparent=True)\n",
    "                plt.close()\n",
    "                plots[cat] = filename\n",
    "                \n",
    "                \n",
    "                if better_unis == '':\n",
    "                    better_unis = '(keine)'\n",
    "                    \n",
    "                best.at[cat] = best_uni\n",
    "                better.at[cat] = filename #ax#better_unis\n",
    "                \n",
    "            df = df.join(best, on=a.about.name).join(better, on=a.about.name)\n",
    "            df = df.droplevel(0)\n",
    "            \n",
    "            \n",
    "            df.index.name = 'WZW'\n",
    "            df.columns = ['Intern', 'Ranking', 'Erlöse', 'Beste Universität', 'Universität im Vergleich']\n",
    "            df = df.sort_values('Intern', ascending=False)\n",
    "            df['Universität im Vergleich'] = df.index.map(lambda fos: plots[fos])\n",
    "            \n",
    "            style = df.style.format({'Intern': '{:.2%}', 'Ranking': '{:}. Platz',\n",
    "                                     'Erlöse': '{:,} €'})\n",
    "                        \n",
    "            def show_image(filename):\n",
    "                return '<img src=\"' + filename + '\", width=250, height=200/>'\n",
    "                \n",
    "            style = style.apply(lambda s: highlight_places('Ranking', s), axis=1) \\\n",
    "                         .format({'Universität im Vergleich': show_image})\n",
    "            \n",
    "            display(HTML(style.render()))\n",
    "            \n",
    "            display(HTML('<h4>Ähnliche Universitäten aufgrund der ' + a.description + '-Struktur</h3>'))\n",
    "            similars = a.structure.most_similar_to(self.name)          \n",
    "            sim_strs = list()\n",
    "            sm = a.structure.similarities_to(self.name)\n",
    "            similarity_filter = 1/2\n",
    "            for i, other in enumerate(similars.index.values):\n",
    "                if similars[other] < similarity_filter or i > 5:\n",
    "                    if i == 0:\n",
    "                        sim_strs.append('Die ' + self.name + ' ist stark spezialisiert.<br/>'\n",
    "                                        '<strong>Keine</strong> andere Universität ähnelt der '\n",
    "                                        + self.name + ' in der ' \n",
    "                                        + a.description + '-Struktur in auffälliger Weise.')\n",
    "                    break\n",
    "                sim_str = '<strong>' + shorten(other) \\\n",
    "                          +  '</strong> (' + '{:.1%}'.format(similars[i]) \\\n",
    "                          + ', wegen &auml;hnlicher Relevanz von '\n",
    "                similarities = sm[other].sort_values(ascending=False)\n",
    "                sim_str += ', '.join(similarities.head(3).index.values)\n",
    "                sim_str += ')'\n",
    "                sim_strs.append(sim_str)\n",
    "           \n",
    "                \n",
    "            display(HTML('<p>' + ', '.join(sim_strs) + '</p>'))\n",
    "            display(HTML('<p><small>Universitäten mit einer Ähnlichkeit von weniger als '\n",
    "                         + '{:.0%}'.format(similarity_filter)\n",
    "                         + ' werden nicht angezeigt.</small></p>'))\n",
    "                \n",
    "\n",
    "ds = Datasheet('1.C.1.csv', ['funder', 'fos'], 'year', 'university', 'funding')\n",
    "analysis = ds.analyze(\"Drittmittel\", \"funder\", {'year': ds.most_recent})\n",
    "\n",
    "universities = list()\n",
    "\n",
    "for uni_name in ds.universities:\n",
    "    u = University(uni_name)\n",
    "    u.add_analysis(analysis)\n",
    "    universities.append(u)\n",
    "    \n",
    "for u in universities:\n",
    "    u.describe()"
   ]
  },
  {
   "cell_type": "code",
   "execution_count": null,
   "metadata": {},
   "outputs": [],
   "source": [
    "%%html\n",
    "<style>\n",
    "div.input {\n",
    "    display:none;\n",
    "}\n",
    "</style>"
   ]
  }
 ],
 "metadata": {
  "kernelspec": {
   "display_name": "Python 3",
   "language": "python",
   "name": "python3"
  },
  "language_info": {
   "codemirror_mode": {
    "name": "ipython",
    "version": 3
   },
   "file_extension": ".py",
   "mimetype": "text/x-python",
   "name": "python",
   "nbconvert_exporter": "python",
   "pygments_lexer": "ipython3",
   "version": "3.7.3"
  }
 },
 "nbformat": 4,
 "nbformat_minor": 2
}
