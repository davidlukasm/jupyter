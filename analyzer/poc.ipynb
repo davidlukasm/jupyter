{
 "cells": [
  {
   "cell_type": "code",
   "execution_count": null,
   "metadata": {},
   "outputs": [],
   "source": [
    "%%html\n",
    "<style>\n",
    "div.input {\n",
    "    display:none;\n",
    "}\n",
    "li {\n",
    "    line-height: 1;\n",
    "}\n",
    "</style>"
   ]
  },
  {
   "cell_type": "code",
   "execution_count": 3,
   "metadata": {
    "scrolled": false
   },
   "outputs": [
    {
     "data": {
      "application/vnd.jupyter.widget-view+json": {
       "model_id": "89b61598d2db4db1892325892be3aef6",
       "version_major": 2,
       "version_minor": 0
      },
      "text/plain": [
       "HTML(value='<h2 style=\"page-break-before: always;\">Akademie der bildenden Künste Wien</h2>')"
      ]
     },
     "metadata": {},
     "output_type": "display_data"
    },
    {
     "data": {
      "application/vnd.jupyter.widget-view+json": {
       "model_id": "59a652d939df49d9b73b0d856fcb6572",
       "version_major": 2,
       "version_minor": 0
      },
      "text/plain": [
       "HTML(value='<h3>Vergleichbare Universitäten in Publikationen- und Drittmittel-Struktur</h3><ul style=\"line-hei…"
      ]
     },
     "metadata": {},
     "output_type": "display_data"
    },
    {
     "data": {
      "application/vnd.jupyter.widget-view+json": {
       "model_id": "31f94914917d4fc186e7a1b2c97638af",
       "version_major": 2,
       "version_minor": 0
      },
      "text/plain": [
       "HTML(value='<li style=\"margin-bottom: 5px;\">Universität für angewandte Kunst Wien</li>')"
      ]
     },
     "metadata": {},
     "output_type": "display_data"
    },
    {
     "data": {
      "application/vnd.jupyter.widget-view+json": {
       "model_id": "666bcf24385c467b90cdcb863005b9a6",
       "version_major": 2,
       "version_minor": 0
      },
      "text/plain": [
       "HTML(value='</ul>')"
      ]
     },
     "metadata": {},
     "output_type": "display_data"
    },
    {
     "data": {
      "application/vnd.jupyter.widget-view+json": {
       "model_id": "1b3d4071fa1747f7ab503602252bfc34",
       "version_major": 2,
       "version_minor": 0
      },
      "text/plain": [
       "HTML(value='<h4>Vergleichbar bei der Publikationen-Struktur</h4><p style=\"line-height: 1;\">')"
      ]
     },
     "metadata": {},
     "output_type": "display_data"
    },
    {
     "data": {
      "application/vnd.jupyter.widget-view+json": {
       "model_id": "9b8213f94576425ca264fcdc72672c37",
       "version_major": 2,
       "version_minor": 0
      },
      "text/plain": [
       "HTML(value='<strong>Universität für angewandte Kunst Wien</strong> (53.6%, wegen &auml;hnlicher interner Relev…"
      ]
     },
     "metadata": {},
     "output_type": "display_data"
    },
    {
     "data": {
      "application/vnd.jupyter.widget-view+json": {
       "model_id": "9846d2cd63634287ada68ed1d2963893",
       "version_major": 2,
       "version_minor": 0
      },
      "text/plain": [
       "Image(value=b'\\x89PNG\\r\\n\\x1a\\n\\x00\\x00\\x00\\rIHDR\\x00\\x00\\x03\\xf0\\x00\\x00\\x00\\xfc\\x08\\x06\\x00\\x00\\x00\\xd0uO\\xe…"
      ]
     },
     "metadata": {},
     "output_type": "display_data"
    },
    {
     "data": {
      "application/vnd.jupyter.widget-view+json": {
       "model_id": "c787abbf2f3c43e783934a7bf56cb8c5",
       "version_major": 2,
       "version_minor": 0
      },
      "text/plain": [
       "HTML(value='<h4>Vergleichbar bei der Drittmittel-Struktur</h4><p style=\"line-height: 1;\">')"
      ]
     },
     "metadata": {},
     "output_type": "display_data"
    },
    {
     "data": {
      "application/vnd.jupyter.widget-view+json": {
       "model_id": "d91dd2aeff4646e1b0061105bb414bb6",
       "version_major": 2,
       "version_minor": 0
      },
      "text/plain": [
       "HTML(value='<strong>Universität für angewandte Kunst Wien</strong> (55.7%, wegen &auml;hnlicher interner Relev…"
      ]
     },
     "metadata": {},
     "output_type": "display_data"
    },
    {
     "data": {
      "application/vnd.jupyter.widget-view+json": {
       "model_id": "5c5311f79c2d4c68b52ba7602aa70bcb",
       "version_major": 2,
       "version_minor": 0
      },
      "text/plain": [
       "Image(value=b'\\x89PNG\\r\\n\\x1a\\n\\x00\\x00\\x00\\rIHDR\\x00\\x00\\x03\\xf0\\x00\\x00\\x00\\xfc\\x08\\x06\\x00\\x00\\x00\\xd0uO\\xe…"
      ]
     },
     "metadata": {},
     "output_type": "display_data"
    },
    {
     "data": {
      "application/vnd.jupyter.widget-view+json": {
       "model_id": "ea519ef2559143f69ddaaf1928548aee",
       "version_major": 2,
       "version_minor": 0
      },
      "text/plain": [
       "HTML(value='</p><small>Universitäten mit einer Ähnlichkeit von weniger als 50% werden nicht angezeigt.</small>…"
      ]
     },
     "metadata": {},
     "output_type": "display_data"
    },
    {
     "data": {
      "application/vnd.jupyter.widget-view+json": {
       "model_id": "6802a05dc1fb4c218fab32c6b5f1123a",
       "version_major": 2,
       "version_minor": 0
      },
      "text/plain": [
       "HTML(value='<h3>Publikationen-Struktur der ABW</h3>')"
      ]
     },
     "metadata": {},
     "output_type": "display_data"
    },
    {
     "data": {
      "application/vnd.jupyter.widget-view+json": {
       "model_id": "9d512a8825ca4d2db0929941ebdb233c",
       "version_major": 2,
       "version_minor": 0
      },
      "text/plain": [
       "HTML(value='Angezeigt werden WZW, die zusammen 72.0% der Publikationen an der ABW ausmachen. Alle anderen WZW …"
      ]
     },
     "metadata": {},
     "output_type": "display_data"
    },
    {
     "data": {
      "application/vnd.jupyter.widget-view+json": {
       "model_id": "c238c6926fa3455aa4d7785716bca2c7",
       "version_major": 2,
       "version_minor": 0
      },
      "text/plain": [
       "GridBox(children=(VBox(children=(HTML(value='<h4>Kunstwissenschaften</h4><ul style=\"line-height: 1;\"><li>23.5%…"
      ]
     },
     "metadata": {},
     "output_type": "display_data"
    },
    {
     "data": {
      "application/vnd.jupyter.widget-view+json": {
       "model_id": "f0ea554f2137408d89965aeac3a01352",
       "version_major": 2,
       "version_minor": 0
      },
      "text/plain": [
       "HTML(value='<h3>Drittmittel-Struktur der ABW</h3>')"
      ]
     },
     "metadata": {},
     "output_type": "display_data"
    },
    {
     "data": {
      "application/vnd.jupyter.widget-view+json": {
       "model_id": "7c8ab5544373499aa50d502c5652990c",
       "version_major": 2,
       "version_minor": 0
      },
      "text/plain": [
       "HTML(value='Angezeigt werden WZW, die zusammen 70.4% der Drittmittel an der ABW ausmachen. Alle anderen WZW tr…"
      ]
     },
     "metadata": {},
     "output_type": "display_data"
    },
    {
     "data": {
      "application/vnd.jupyter.widget-view+json": {
       "model_id": "23b0e2bdc42d4b51919ff588bc264fd8",
       "version_major": 2,
       "version_minor": 0
      },
      "text/plain": [
       "GridBox(children=(VBox(children=(HTML(value='<h4>Kunstwissenschaften</h4><ul style=\"line-height: 1;\"><li>36.2%…"
      ]
     },
     "metadata": {},
     "output_type": "display_data"
    },
    {
     "data": {
      "application/vnd.jupyter.widget-view+json": {
       "model_id": "25626d5f941f4988be3640aa640c0dc5",
       "version_major": 2,
       "version_minor": 0
      },
      "text/plain": [
       "HTML(value='<h2 style=\"page-break-before: always;\">Medizinische Universität Graz</h2>')"
      ]
     },
     "metadata": {},
     "output_type": "display_data"
    },
    {
     "data": {
      "application/vnd.jupyter.widget-view+json": {
       "model_id": "162c173a2db84cb0bf18379caf40a097",
       "version_major": 2,
       "version_minor": 0
      },
      "text/plain": [
       "HTML(value='<h3>Vergleichbare Universitäten in Publikationen- und Drittmittel-Struktur</h3><ul style=\"line-hei…"
      ]
     },
     "metadata": {},
     "output_type": "display_data"
    },
    {
     "data": {
      "application/vnd.jupyter.widget-view+json": {
       "model_id": "29fd5eb62ab141e09c84f07520021216",
       "version_major": 2,
       "version_minor": 0
      },
      "text/plain": [
       "HTML(value='<li><strong>Keine.</strong> Die Medizinische Universität Graz ist stark spezialisiert.</li>')"
      ]
     },
     "metadata": {},
     "output_type": "display_data"
    },
    {
     "data": {
      "application/vnd.jupyter.widget-view+json": {
       "model_id": "01e2cc5f37de49b4808d12298d147ba0",
       "version_major": 2,
       "version_minor": 0
      },
      "text/plain": [
       "HTML(value='</ul>')"
      ]
     },
     "metadata": {},
     "output_type": "display_data"
    },
    {
     "data": {
      "application/vnd.jupyter.widget-view+json": {
       "model_id": "e6e034e9374048e4b8a6c04ba95f223f",
       "version_major": 2,
       "version_minor": 0
      },
      "text/plain": [
       "HTML(value='<h4>Vergleichbar bei der Publikationen-Struktur</h4><p style=\"line-height: 1;\">')"
      ]
     },
     "metadata": {},
     "output_type": "display_data"
    },
    {
     "data": {
      "application/vnd.jupyter.widget-view+json": {
       "model_id": "074a28d2cad546f7af57483b245a3790",
       "version_major": 2,
       "version_minor": 0
      },
      "text/plain": [
       "HTML(value='<strong>Medizinische Universität Innsbruck</strong> (87.1%, wegen &auml;hnlicher interner Relevanz…"
      ]
     },
     "metadata": {},
     "output_type": "display_data"
    },
    {
     "data": {
      "application/vnd.jupyter.widget-view+json": {
       "model_id": "c3db1c05b8ec4343aed8ed1d021231c6",
       "version_major": 2,
       "version_minor": 0
      },
      "text/plain": [
       "Image(value=b'\\x89PNG\\r\\n\\x1a\\n\\x00\\x00\\x00\\rIHDR\\x00\\x00\\x03\\xf0\\x00\\x00\\x00\\xfc\\x08\\x06\\x00\\x00\\x00\\xd0uO\\xe…"
      ]
     },
     "metadata": {},
     "output_type": "display_data"
    },
    {
     "data": {
      "application/vnd.jupyter.widget-view+json": {
       "model_id": "b4db806cea234cc78a06bece724883b5",
       "version_major": 2,
       "version_minor": 0
      },
      "text/plain": [
       "HTML(value='<h4>Vergleichbar bei der Drittmittel-Struktur</h4><p style=\"line-height: 1;\">')"
      ]
     },
     "metadata": {},
     "output_type": "display_data"
    },
    {
     "data": {
      "application/vnd.jupyter.widget-view+json": {
       "model_id": "977fa5d2e0ef48a49ac235b6d616d749",
       "version_major": 2,
       "version_minor": 0
      },
      "text/plain": [
       "HTML(value='Die Medizinische Universität Graz ist im Bereich Drittmittel spezialisiert.<br/><strong>Keine</str…"
      ]
     },
     "metadata": {},
     "output_type": "display_data"
    },
    {
     "data": {
      "application/vnd.jupyter.widget-view+json": {
       "model_id": "40ca823c64354ffb8a9906d1647a0009",
       "version_major": 2,
       "version_minor": 0
      },
      "text/plain": [
       "HTML(value='</p><small>Universitäten mit einer Ähnlichkeit von weniger als 50% werden nicht angezeigt.</small>…"
      ]
     },
     "metadata": {},
     "output_type": "display_data"
    },
    {
     "data": {
      "application/vnd.jupyter.widget-view+json": {
       "model_id": "e8c883a0999a470095fdab7c59ce6ada",
       "version_major": 2,
       "version_minor": 0
      },
      "text/plain": [
       "HTML(value='<h3>Publikationen-Struktur der MUG</h3>')"
      ]
     },
     "metadata": {},
     "output_type": "display_data"
    },
    {
     "data": {
      "application/vnd.jupyter.widget-view+json": {
       "model_id": "b982b81f9599455a8a730f7d254dd0f5",
       "version_major": 2,
       "version_minor": 0
      },
      "text/plain": [
       "HTML(value='Angezeigt werden WZW, die zusammen 77.8% der Publikationen an der MUG ausmachen. Alle anderen WZW …"
      ]
     },
     "metadata": {},
     "output_type": "display_data"
    },
    {
     "data": {
      "application/vnd.jupyter.widget-view+json": {
       "model_id": "35a79a752d3e46f48abd78f6067146c0",
       "version_major": 2,
       "version_minor": 0
      },
      "text/plain": [
       "GridBox(children=(VBox(children=(HTML(value='<h4>Klinische Medizin</h4><ul style=\"line-height: 1;\"><li>60.9% d…"
      ]
     },
     "metadata": {},
     "output_type": "display_data"
    },
    {
     "data": {
      "application/vnd.jupyter.widget-view+json": {
       "model_id": "ced97923587a423cb316ba4639b43e79",
       "version_major": 2,
       "version_minor": 0
      },
      "text/plain": [
       "HTML(value='<h3>Drittmittel-Struktur der MUG</h3>')"
      ]
     },
     "metadata": {},
     "output_type": "display_data"
    },
    {
     "data": {
      "application/vnd.jupyter.widget-view+json": {
       "model_id": "1adefcdd0d874d36ada3bde8d9825143",
       "version_major": 2,
       "version_minor": 0
      },
      "text/plain": [
       "HTML(value='Angezeigt werden WZW, die zusammen 67.9% der Drittmittel an der MUG ausmachen. Alle anderen WZW tr…"
      ]
     },
     "metadata": {},
     "output_type": "display_data"
    },
    {
     "data": {
      "application/vnd.jupyter.widget-view+json": {
       "model_id": "ab0d2630e7804d1b9c2553e959051dd7",
       "version_major": 2,
       "version_minor": 0
      },
      "text/plain": [
       "GridBox(children=(VBox(children=(HTML(value='<h4>Medizinisch-theoretische Wissenschaften, Pharmazie</h4><ul st…"
      ]
     },
     "metadata": {},
     "output_type": "display_data"
    },
    {
     "data": {
      "application/vnd.jupyter.widget-view+json": {
       "model_id": "53b373fc430e4c3ab71f2ab3fd1cd807",
       "version_major": 2,
       "version_minor": 0
      },
      "text/plain": [
       "HTML(value='<h2 style=\"page-break-before: always;\">Medizinische Universität Innsbruck</h2>')"
      ]
     },
     "metadata": {},
     "output_type": "display_data"
    },
    {
     "data": {
      "application/vnd.jupyter.widget-view+json": {
       "model_id": "42c6ab62d94943ddab931defb1a61a69",
       "version_major": 2,
       "version_minor": 0
      },
      "text/plain": [
       "HTML(value='<h3>Vergleichbare Universitäten in Publikationen- und Drittmittel-Struktur</h3><ul style=\"line-hei…"
      ]
     },
     "metadata": {},
     "output_type": "display_data"
    },
    {
     "data": {
      "application/vnd.jupyter.widget-view+json": {
       "model_id": "6f6c57bf80ad4231924aa4e39c83bc9e",
       "version_major": 2,
       "version_minor": 0
      },
      "text/plain": [
       "HTML(value='<li style=\"margin-bottom: 5px;\">Medizinische Universität Wien</li>')"
      ]
     },
     "metadata": {},
     "output_type": "display_data"
    },
    {
     "data": {
      "application/vnd.jupyter.widget-view+json": {
       "model_id": "3972b1355e1f477f8669e38032811a27",
       "version_major": 2,
       "version_minor": 0
      },
      "text/plain": [
       "HTML(value='</ul>')"
      ]
     },
     "metadata": {},
     "output_type": "display_data"
    },
    {
     "data": {
      "application/vnd.jupyter.widget-view+json": {
       "model_id": "59b211acc9fa43a5b3eaddbb78a6d341",
       "version_major": 2,
       "version_minor": 0
      },
      "text/plain": [
       "HTML(value='<h4>Vergleichbar bei der Publikationen-Struktur</h4><p style=\"line-height: 1;\">')"
      ]
     },
     "metadata": {},
     "output_type": "display_data"
    },
    {
     "data": {
      "application/vnd.jupyter.widget-view+json": {
       "model_id": "04760b896fc340008d911c34ce4930c6",
       "version_major": 2,
       "version_minor": 0
      },
      "text/plain": [
       "HTML(value='<strong>Medizinische Universität Wien</strong> (91.9%, wegen &auml;hnlicher interner Relevanz von …"
      ]
     },
     "metadata": {},
     "output_type": "display_data"
    },
    {
     "data": {
      "application/vnd.jupyter.widget-view+json": {
       "model_id": "e6c714407578411fa7c63ad2ea3bb420",
       "version_major": 2,
       "version_minor": 0
      },
      "text/plain": [
       "Image(value=b'\\x89PNG\\r\\n\\x1a\\n\\x00\\x00\\x00\\rIHDR\\x00\\x00\\x03\\xf0\\x00\\x00\\x00\\xfc\\x08\\x06\\x00\\x00\\x00\\xd0uO\\xe…"
      ]
     },
     "metadata": {},
     "output_type": "display_data"
    },
    {
     "data": {
      "application/vnd.jupyter.widget-view+json": {
       "model_id": "cd20117e2e1848448cba423d9c8fae1c",
       "version_major": 2,
       "version_minor": 0
      },
      "text/plain": [
       "HTML(value='<h4>Vergleichbar bei der Drittmittel-Struktur</h4><p style=\"line-height: 1;\">')"
      ]
     },
     "metadata": {},
     "output_type": "display_data"
    },
    {
     "data": {
      "application/vnd.jupyter.widget-view+json": {
       "model_id": "bdfa0274b2ee4971adb182e611615df9",
       "version_major": 2,
       "version_minor": 0
      },
      "text/plain": [
       "HTML(value='<strong>Medizinische Universität Wien</strong> (60.9%, wegen &auml;hnlicher interner Relevanz von …"
      ]
     },
     "metadata": {},
     "output_type": "display_data"
    },
    {
     "data": {
      "application/vnd.jupyter.widget-view+json": {
       "model_id": "0c8b33f8262e418693fe6236b72574c3",
       "version_major": 2,
       "version_minor": 0
      },
      "text/plain": [
       "Image(value=b'\\x89PNG\\r\\n\\x1a\\n\\x00\\x00\\x00\\rIHDR\\x00\\x00\\x03\\xf0\\x00\\x00\\x00\\xfc\\x08\\x06\\x00\\x00\\x00\\xd0uO\\xe…"
      ]
     },
     "metadata": {},
     "output_type": "display_data"
    },
    {
     "data": {
      "application/vnd.jupyter.widget-view+json": {
       "model_id": "46143c6f343d4f93b53338a4bc9b0634",
       "version_major": 2,
       "version_minor": 0
      },
      "text/plain": [
       "HTML(value='</p><small>Universitäten mit einer Ähnlichkeit von weniger als 50% werden nicht angezeigt.</small>…"
      ]
     },
     "metadata": {},
     "output_type": "display_data"
    },
    {
     "data": {
      "application/vnd.jupyter.widget-view+json": {
       "model_id": "d30792ecca4d41cbbe80b5d116a7df67",
       "version_major": 2,
       "version_minor": 0
      },
      "text/plain": [
       "HTML(value='<h3>Publikationen-Struktur der MUI</h3>')"
      ]
     },
     "metadata": {},
     "output_type": "display_data"
    },
    {
     "data": {
      "application/vnd.jupyter.widget-view+json": {
       "model_id": "61d4732f828d4963b37723a3419565e9",
       "version_major": 2,
       "version_minor": 0
      },
      "text/plain": [
       "HTML(value='Angezeigt werden WZW, die zusammen 66.9% der Publikationen an der MUI ausmachen. Alle anderen WZW …"
      ]
     },
     "metadata": {},
     "output_type": "display_data"
    },
    {
     "data": {
      "application/vnd.jupyter.widget-view+json": {
       "model_id": "f21ace0ff5dd4861a4bca67ed1119085",
       "version_major": 2,
       "version_minor": 0
      },
      "text/plain": [
       "GridBox(children=(VBox(children=(HTML(value='<h4>Klinische Medizin</h4><ul style=\"line-height: 1;\"><li>66.9% d…"
      ]
     },
     "metadata": {},
     "output_type": "display_data"
    },
    {
     "data": {
      "application/vnd.jupyter.widget-view+json": {
       "model_id": "110901313f924b53b53bceda549a9a55",
       "version_major": 2,
       "version_minor": 0
      },
      "text/plain": [
       "HTML(value='<h3>Drittmittel-Struktur der MUI</h3>')"
      ]
     },
     "metadata": {},
     "output_type": "display_data"
    },
    {
     "data": {
      "application/vnd.jupyter.widget-view+json": {
       "model_id": "8c1562cdf4ef49b68005826535a98c1a",
       "version_major": 2,
       "version_minor": 0
      },
      "text/plain": [
       "HTML(value='Angezeigt werden WZW, die zusammen 76.8% der Drittmittel an der MUI ausmachen. Alle anderen WZW tr…"
      ]
     },
     "metadata": {},
     "output_type": "display_data"
    },
    {
     "data": {
      "application/vnd.jupyter.widget-view+json": {
       "model_id": "768acbb30897455f9b162bc23f0314e8",
       "version_major": 2,
       "version_minor": 0
      },
      "text/plain": [
       "GridBox(children=(VBox(children=(HTML(value='<h4>Klinische Medizin</h4><ul style=\"line-height: 1;\"><li>30.8% d…"
      ]
     },
     "metadata": {},
     "output_type": "display_data"
    },
    {
     "data": {
      "application/vnd.jupyter.widget-view+json": {
       "model_id": "a1239a52e10b4558be49ad2511b0e413",
       "version_major": 2,
       "version_minor": 0
      },
      "text/plain": [
       "HTML(value='<h2 style=\"page-break-before: always;\">Medizinische Universität Wien</h2>')"
      ]
     },
     "metadata": {},
     "output_type": "display_data"
    },
    {
     "data": {
      "application/vnd.jupyter.widget-view+json": {
       "model_id": "d1970e482efe4bb7bf3a7b38d015e256",
       "version_major": 2,
       "version_minor": 0
      },
      "text/plain": [
       "HTML(value='<h3>Vergleichbare Universitäten in Publikationen- und Drittmittel-Struktur</h3><ul style=\"line-hei…"
      ]
     },
     "metadata": {},
     "output_type": "display_data"
    },
    {
     "data": {
      "application/vnd.jupyter.widget-view+json": {
       "model_id": "b7142735d86e468f9c7e7ee02be609e6",
       "version_major": 2,
       "version_minor": 0
      },
      "text/plain": [
       "HTML(value='<li style=\"margin-bottom: 5px;\">Medizinische Universität Innsbruck</li>')"
      ]
     },
     "metadata": {},
     "output_type": "display_data"
    },
    {
     "data": {
      "application/vnd.jupyter.widget-view+json": {
       "model_id": "4aee65d2a9fc40d5abf25c138912d4ca",
       "version_major": 2,
       "version_minor": 0
      },
      "text/plain": [
       "HTML(value='</ul>')"
      ]
     },
     "metadata": {},
     "output_type": "display_data"
    },
    {
     "data": {
      "application/vnd.jupyter.widget-view+json": {
       "model_id": "a50fdf5a273d481a981485c705205c04",
       "version_major": 2,
       "version_minor": 0
      },
      "text/plain": [
       "HTML(value='<h4>Vergleichbar bei der Publikationen-Struktur</h4><p style=\"line-height: 1;\">')"
      ]
     },
     "metadata": {},
     "output_type": "display_data"
    },
    {
     "data": {
      "application/vnd.jupyter.widget-view+json": {
       "model_id": "ecc0692955cd44a4849c193e5737d953",
       "version_major": 2,
       "version_minor": 0
      },
      "text/plain": [
       "HTML(value='<strong>Medizinische Universität Innsbruck</strong> (91.9%, wegen &auml;hnlicher interner Relevanz…"
      ]
     },
     "metadata": {},
     "output_type": "display_data"
    },
    {
     "data": {
      "application/vnd.jupyter.widget-view+json": {
       "model_id": "556e9c7ae906449087b2b607a15ea319",
       "version_major": 2,
       "version_minor": 0
      },
      "text/plain": [
       "Image(value=b'\\x89PNG\\r\\n\\x1a\\n\\x00\\x00\\x00\\rIHDR\\x00\\x00\\x03\\xf0\\x00\\x00\\x00\\xfc\\x08\\x06\\x00\\x00\\x00\\xd0uO\\xe…"
      ]
     },
     "metadata": {},
     "output_type": "display_data"
    },
    {
     "data": {
      "application/vnd.jupyter.widget-view+json": {
       "model_id": "45846479cf844caa9c8779d5d3cffe08",
       "version_major": 2,
       "version_minor": 0
      },
      "text/plain": [
       "HTML(value='<h4>Vergleichbar bei der Drittmittel-Struktur</h4><p style=\"line-height: 1;\">')"
      ]
     },
     "metadata": {},
     "output_type": "display_data"
    },
    {
     "data": {
      "application/vnd.jupyter.widget-view+json": {
       "model_id": "ccd07bb6761d4af2a2e433a18b973ef1",
       "version_major": 2,
       "version_minor": 0
      },
      "text/plain": [
       "HTML(value='<strong>Medizinische Universität Innsbruck</strong> (60.9%, wegen &auml;hnlicher interner Relevanz…"
      ]
     },
     "metadata": {},
     "output_type": "display_data"
    },
    {
     "data": {
      "application/vnd.jupyter.widget-view+json": {
       "model_id": "b2732a6347fb4a8ba02712f214fe033a",
       "version_major": 2,
       "version_minor": 0
      },
      "text/plain": [
       "Image(value=b'\\x89PNG\\r\\n\\x1a\\n\\x00\\x00\\x00\\rIHDR\\x00\\x00\\x03\\xf0\\x00\\x00\\x00\\xfc\\x08\\x06\\x00\\x00\\x00\\xd0uO\\xe…"
      ]
     },
     "metadata": {},
     "output_type": "display_data"
    },
    {
     "data": {
      "application/vnd.jupyter.widget-view+json": {
       "model_id": "26a0563115c342cc9eb8d076003bbca6",
       "version_major": 2,
       "version_minor": 0
      },
      "text/plain": [
       "HTML(value='</p><small>Universitäten mit einer Ähnlichkeit von weniger als 50% werden nicht angezeigt.</small>…"
      ]
     },
     "metadata": {},
     "output_type": "display_data"
    },
    {
     "data": {
      "application/vnd.jupyter.widget-view+json": {
       "model_id": "679ae381db524ac5ab1d56bf8f393ede",
       "version_major": 2,
       "version_minor": 0
      },
      "text/plain": [
       "HTML(value='<h3>Publikationen-Struktur der MUW</h3>')"
      ]
     },
     "metadata": {},
     "output_type": "display_data"
    },
    {
     "data": {
      "application/vnd.jupyter.widget-view+json": {
       "model_id": "9acd1e35fc744d6582610115b0830c1d",
       "version_major": 2,
       "version_minor": 0
      },
      "text/plain": [
       "HTML(value='Angezeigt werden WZW, die zusammen 68.4% der Publikationen an der MUW ausmachen. Alle anderen WZW …"
      ]
     },
     "metadata": {},
     "output_type": "display_data"
    },
    {
     "data": {
      "application/vnd.jupyter.widget-view+json": {
       "model_id": "a73e885aeced457baa7b34915cb975a9",
       "version_major": 2,
       "version_minor": 0
      },
      "text/plain": [
       "GridBox(children=(VBox(children=(HTML(value='<h4>Klinische Medizin</h4><ul style=\"line-height: 1;\"><li>68.4% d…"
      ]
     },
     "metadata": {},
     "output_type": "display_data"
    },
    {
     "data": {
      "application/vnd.jupyter.widget-view+json": {
       "model_id": "d4388ae9f2e0490da394c302915da581",
       "version_major": 2,
       "version_minor": 0
      },
      "text/plain": [
       "HTML(value='<h3>Drittmittel-Struktur der MUW</h3>')"
      ]
     },
     "metadata": {},
     "output_type": "display_data"
    },
    {
     "data": {
      "application/vnd.jupyter.widget-view+json": {
       "model_id": "c0f742d28d444c318521ab7f371b13db",
       "version_major": 2,
       "version_minor": 0
      },
      "text/plain": [
       "HTML(value='Angezeigt werden WZW, die zusammen 81.3% der Drittmittel an der MUW ausmachen. Alle anderen WZW tr…"
      ]
     },
     "metadata": {},
     "output_type": "display_data"
    },
    {
     "data": {
      "application/vnd.jupyter.widget-view+json": {
       "model_id": "f5558ecda25b48c49197d85b6631b5e1",
       "version_major": 2,
       "version_minor": 0
      },
      "text/plain": [
       "GridBox(children=(VBox(children=(HTML(value='<h4>Klinische Medizin</h4><ul style=\"line-height: 1;\"><li>59.0% d…"
      ]
     },
     "metadata": {},
     "output_type": "display_data"
    },
    {
     "data": {
      "application/vnd.jupyter.widget-view+json": {
       "model_id": "cc382feca525433d96c325d2c28174b0",
       "version_major": 2,
       "version_minor": 0
      },
      "text/plain": [
       "HTML(value='<h2 style=\"page-break-before: always;\">Montanuniversität Leoben</h2>')"
      ]
     },
     "metadata": {},
     "output_type": "display_data"
    },
    {
     "data": {
      "application/vnd.jupyter.widget-view+json": {
       "model_id": "f1cece1eaa234b8da96cd28e03ff2d6f",
       "version_major": 2,
       "version_minor": 0
      },
      "text/plain": [
       "HTML(value='<h3>Vergleichbare Universitäten in Publikationen- und Drittmittel-Struktur</h3><ul style=\"line-hei…"
      ]
     },
     "metadata": {},
     "output_type": "display_data"
    },
    {
     "data": {
      "application/vnd.jupyter.widget-view+json": {
       "model_id": "87c67cfebb9e47b799f602f87bdbbc15",
       "version_major": 2,
       "version_minor": 0
      },
      "text/plain": [
       "HTML(value='<li><strong>Keine.</strong> Die Montanuniversität Leoben ist stark spezialisiert.</li>')"
      ]
     },
     "metadata": {},
     "output_type": "display_data"
    },
    {
     "data": {
      "application/vnd.jupyter.widget-view+json": {
       "model_id": "e57e400d9c0844849ae695e7a50865ab",
       "version_major": 2,
       "version_minor": 0
      },
      "text/plain": [
       "HTML(value='</ul>')"
      ]
     },
     "metadata": {},
     "output_type": "display_data"
    },
    {
     "data": {
      "application/vnd.jupyter.widget-view+json": {
       "model_id": "9bfd62c6c49f444a89f3d8bb51cf7ab4",
       "version_major": 2,
       "version_minor": 0
      },
      "text/plain": [
       "HTML(value='<h4>Vergleichbar bei der Publikationen-Struktur</h4><p style=\"line-height: 1;\">')"
      ]
     },
     "metadata": {},
     "output_type": "display_data"
    },
    {
     "data": {
      "application/vnd.jupyter.widget-view+json": {
       "model_id": "b8174084ad8d48a2a7aa556cfc81bfbf",
       "version_major": 2,
       "version_minor": 0
      },
      "text/plain": [
       "HTML(value='Die Montanuniversität Leoben ist im Bereich Publikationen spezialisiert.<br/><strong>Keine</strong…"
      ]
     },
     "metadata": {},
     "output_type": "display_data"
    },
    {
     "data": {
      "application/vnd.jupyter.widget-view+json": {
       "model_id": "edb21f985677491ca699ff4d7cc5c694",
       "version_major": 2,
       "version_minor": 0
      },
      "text/plain": [
       "HTML(value='<h4>Vergleichbar bei der Drittmittel-Struktur</h4><p style=\"line-height: 1;\">')"
      ]
     },
     "metadata": {},
     "output_type": "display_data"
    },
    {
     "data": {
      "application/vnd.jupyter.widget-view+json": {
       "model_id": "ba12b331f906463da5cdb4689d3b5a00",
       "version_major": 2,
       "version_minor": 0
      },
      "text/plain": [
       "HTML(value='Die Montanuniversität Leoben ist im Bereich Drittmittel spezialisiert.<br/><strong>Keine</strong> …"
      ]
     },
     "metadata": {},
     "output_type": "display_data"
    },
    {
     "data": {
      "application/vnd.jupyter.widget-view+json": {
       "model_id": "057fef2115b1440ab1fab834967e2d2a",
       "version_major": 2,
       "version_minor": 0
      },
      "text/plain": [
       "HTML(value='</p><small>Universitäten mit einer Ähnlichkeit von weniger als 50% werden nicht angezeigt.</small>…"
      ]
     },
     "metadata": {},
     "output_type": "display_data"
    },
    {
     "data": {
      "application/vnd.jupyter.widget-view+json": {
       "model_id": "9be6f6f4227f4afeb56755527126903b",
       "version_major": 2,
       "version_minor": 0
      },
      "text/plain": [
       "HTML(value='<h3>Publikationen-Struktur der MUL</h3>')"
      ]
     },
     "metadata": {},
     "output_type": "display_data"
    },
    {
     "data": {
      "application/vnd.jupyter.widget-view+json": {
       "model_id": "70914040b6e84ef09e0b65be78c849dc",
       "version_major": 2,
       "version_minor": 0
      },
      "text/plain": [
       "HTML(value='Angezeigt werden WZW, die zusammen 73.8% der Publikationen an der MUL ausmachen. Alle anderen WZW …"
      ]
     },
     "metadata": {},
     "output_type": "display_data"
    },
    {
     "data": {
      "application/vnd.jupyter.widget-view+json": {
       "model_id": "b5a7c143430743fb9c93766004d7602c",
       "version_major": 2,
       "version_minor": 0
      },
      "text/plain": [
       "GridBox(children=(VBox(children=(HTML(value='<h4>Werkstofftechnik</h4><ul style=\"line-height: 1;\"><li>19.7% de…"
      ]
     },
     "metadata": {},
     "output_type": "display_data"
    },
    {
     "data": {
      "application/vnd.jupyter.widget-view+json": {
       "model_id": "8dc61c4f79d2438d840f6f90ad187a7e",
       "version_major": 2,
       "version_minor": 0
      },
      "text/plain": [
       "HTML(value='<h3>Drittmittel-Struktur der MUL</h3>')"
      ]
     },
     "metadata": {},
     "output_type": "display_data"
    },
    {
     "data": {
      "application/vnd.jupyter.widget-view+json": {
       "model_id": "167eca4661414180a196f926e8c39461",
       "version_major": 2,
       "version_minor": 0
      },
      "text/plain": [
       "HTML(value='Angezeigt werden WZW, die zusammen 73.5% der Drittmittel an der MUL ausmachen. Alle anderen WZW tr…"
      ]
     },
     "metadata": {},
     "output_type": "display_data"
    },
    {
     "data": {
      "application/vnd.jupyter.widget-view+json": {
       "model_id": "20133bdd9dc44829a32b484ed5df95e6",
       "version_major": 2,
       "version_minor": 0
      },
      "text/plain": [
       "GridBox(children=(VBox(children=(HTML(value='<h4>Andere Technische Wissenschaften</h4><ul style=\"line-height: …"
      ]
     },
     "metadata": {},
     "output_type": "display_data"
    },
    {
     "data": {
      "application/vnd.jupyter.widget-view+json": {
       "model_id": "3261841e17bf4ece85656f5a671fed3e",
       "version_major": 2,
       "version_minor": 0
      },
      "text/plain": [
       "HTML(value='<h2 style=\"page-break-before: always;\">Technische Universität Graz</h2>')"
      ]
     },
     "metadata": {},
     "output_type": "display_data"
    },
    {
     "data": {
      "application/vnd.jupyter.widget-view+json": {
       "model_id": "52762163fc5d409797b491c3183eeb9a",
       "version_major": 2,
       "version_minor": 0
      },
      "text/plain": [
       "HTML(value='<h3>Vergleichbare Universitäten in Publikationen- und Drittmittel-Struktur</h3><ul style=\"line-hei…"
      ]
     },
     "metadata": {},
     "output_type": "display_data"
    },
    {
     "data": {
      "application/vnd.jupyter.widget-view+json": {
       "model_id": "cc0e1b99013d4c0a8ef3eb65f5547b5d",
       "version_major": 2,
       "version_minor": 0
      },
      "text/plain": [
       "HTML(value='<li style=\"margin-bottom: 5px;\">Technische Universität Wien</li>')"
      ]
     },
     "metadata": {},
     "output_type": "display_data"
    },
    {
     "data": {
      "application/vnd.jupyter.widget-view+json": {
       "model_id": "b234b86f5e474695a9615469dde56a4b",
       "version_major": 2,
       "version_minor": 0
      },
      "text/plain": [
       "HTML(value='</ul>')"
      ]
     },
     "metadata": {},
     "output_type": "display_data"
    },
    {
     "data": {
      "application/vnd.jupyter.widget-view+json": {
       "model_id": "8471d2b98bff45db93c94a0be19c65a9",
       "version_major": 2,
       "version_minor": 0
      },
      "text/plain": [
       "HTML(value='<h4>Vergleichbar bei der Publikationen-Struktur</h4><p style=\"line-height: 1;\">')"
      ]
     },
     "metadata": {},
     "output_type": "display_data"
    },
    {
     "data": {
      "application/vnd.jupyter.widget-view+json": {
       "model_id": "e21c452c0b5348be96ecdef9f04bb317",
       "version_major": 2,
       "version_minor": 0
      },
      "text/plain": [
       "HTML(value='<strong>Technische Universität Wien</strong> (80.2%, wegen &auml;hnlicher interner Relevanz von In…"
      ]
     },
     "metadata": {},
     "output_type": "display_data"
    },
    {
     "data": {
      "application/vnd.jupyter.widget-view+json": {
       "model_id": "bc4037745c9148359ff1b7713ffe95a6",
       "version_major": 2,
       "version_minor": 0
      },
      "text/plain": [
       "Image(value=b'\\x89PNG\\r\\n\\x1a\\n\\x00\\x00\\x00\\rIHDR\\x00\\x00\\x03\\xf0\\x00\\x00\\x00\\xfc\\x08\\x06\\x00\\x00\\x00\\xd0uO\\xe…"
      ]
     },
     "metadata": {},
     "output_type": "display_data"
    },
    {
     "data": {
      "application/vnd.jupyter.widget-view+json": {
       "model_id": "f3ef198060c94867b74b769a13d330bb",
       "version_major": 2,
       "version_minor": 0
      },
      "text/plain": [
       "HTML(value='<h4>Vergleichbar bei der Drittmittel-Struktur</h4><p style=\"line-height: 1;\">')"
      ]
     },
     "metadata": {},
     "output_type": "display_data"
    },
    {
     "data": {
      "application/vnd.jupyter.widget-view+json": {
       "model_id": "43fa70951afe44f6861bb718141e4b0e",
       "version_major": 2,
       "version_minor": 0
      },
      "text/plain": [
       "HTML(value='<strong>Technische Universität Wien</strong> (62.4%, wegen &auml;hnlicher interner Relevanz von El…"
      ]
     },
     "metadata": {},
     "output_type": "display_data"
    },
    {
     "data": {
      "application/vnd.jupyter.widget-view+json": {
       "model_id": "f6bcb6ec2ee8428eb20e4a28c8ddde0c",
       "version_major": 2,
       "version_minor": 0
      },
      "text/plain": [
       "Image(value=b'\\x89PNG\\r\\n\\x1a\\n\\x00\\x00\\x00\\rIHDR\\x00\\x00\\x03\\xf0\\x00\\x00\\x00\\xfc\\x08\\x06\\x00\\x00\\x00\\xd0uO\\xe…"
      ]
     },
     "metadata": {},
     "output_type": "display_data"
    },
    {
     "data": {
      "application/vnd.jupyter.widget-view+json": {
       "model_id": "a04d8396953b463381ceb2d534124b5e",
       "version_major": 2,
       "version_minor": 0
      },
      "text/plain": [
       "HTML(value='</p><small>Universitäten mit einer Ähnlichkeit von weniger als 50% werden nicht angezeigt.</small>…"
      ]
     },
     "metadata": {},
     "output_type": "display_data"
    },
    {
     "data": {
      "application/vnd.jupyter.widget-view+json": {
       "model_id": "d6c67476cc53412282f2bfc81c0a5453",
       "version_major": 2,
       "version_minor": 0
      },
      "text/plain": [
       "HTML(value='<h3>Publikationen-Struktur der TUG</h3>')"
      ]
     },
     "metadata": {},
     "output_type": "display_data"
    },
    {
     "data": {
      "application/vnd.jupyter.widget-view+json": {
       "model_id": "909ba05a1eda410fa8c7ba31f5538e58",
       "version_major": 2,
       "version_minor": 0
      },
      "text/plain": [
       "HTML(value='Angezeigt werden WZW, die zusammen 67.0% der Publikationen an der TUG ausmachen. Alle anderen WZW …"
      ]
     },
     "metadata": {},
     "output_type": "display_data"
    },
    {
     "data": {
      "application/vnd.jupyter.widget-view+json": {
       "model_id": "b3825a52fdc44cae9cb8fb9233562b55",
       "version_major": 2,
       "version_minor": 0
      },
      "text/plain": [
       "GridBox(children=(VBox(children=(HTML(value='<h4>Informatik</h4><ul style=\"line-height: 1;\"><li>16.8% der Publ…"
      ]
     },
     "metadata": {},
     "output_type": "display_data"
    },
    {
     "data": {
      "application/vnd.jupyter.widget-view+json": {
       "model_id": "a3e58fe6056045a9b88883102af6f9c6",
       "version_major": 2,
       "version_minor": 0
      },
      "text/plain": [
       "HTML(value='<h3>Drittmittel-Struktur der TUG</h3>')"
      ]
     },
     "metadata": {},
     "output_type": "display_data"
    },
    {
     "data": {
      "application/vnd.jupyter.widget-view+json": {
       "model_id": "653c2a3c05124f7a87683153d462874b",
       "version_major": 2,
       "version_minor": 0
      },
      "text/plain": [
       "HTML(value='Angezeigt werden WZW, die zusammen 70.5% der Drittmittel an der TUG ausmachen. Alle anderen WZW tr…"
      ]
     },
     "metadata": {},
     "output_type": "display_data"
    },
    {
     "data": {
      "application/vnd.jupyter.widget-view+json": {
       "model_id": "95038cec831340e2b232056fa76b17e9",
       "version_major": 2,
       "version_minor": 0
      },
      "text/plain": [
       "GridBox(children=(VBox(children=(HTML(value='<h4>Maschinenbau</h4><ul style=\"line-height: 1;\"><li>27.0% der Dr…"
      ]
     },
     "metadata": {},
     "output_type": "display_data"
    },
    {
     "data": {
      "application/vnd.jupyter.widget-view+json": {
       "model_id": "aa7542618ba74190b548be1218e07e78",
       "version_major": 2,
       "version_minor": 0
      },
      "text/plain": [
       "HTML(value='<h2 style=\"page-break-before: always;\">Technische Universität Wien</h2>')"
      ]
     },
     "metadata": {},
     "output_type": "display_data"
    },
    {
     "data": {
      "application/vnd.jupyter.widget-view+json": {
       "model_id": "3881b5111d104334aab351d308c30ee5",
       "version_major": 2,
       "version_minor": 0
      },
      "text/plain": [
       "HTML(value='<h3>Vergleichbare Universitäten in Publikationen- und Drittmittel-Struktur</h3><ul style=\"line-hei…"
      ]
     },
     "metadata": {},
     "output_type": "display_data"
    },
    {
     "data": {
      "application/vnd.jupyter.widget-view+json": {
       "model_id": "7857684389a749e3bbf1c2c8d62797ee",
       "version_major": 2,
       "version_minor": 0
      },
      "text/plain": [
       "HTML(value='<li style=\"margin-bottom: 5px;\">Technische Universität Graz</li>')"
      ]
     },
     "metadata": {},
     "output_type": "display_data"
    },
    {
     "data": {
      "application/vnd.jupyter.widget-view+json": {
       "model_id": "120326b41af140838e1e9512a8fc341a",
       "version_major": 2,
       "version_minor": 0
      },
      "text/plain": [
       "HTML(value='</ul>')"
      ]
     },
     "metadata": {},
     "output_type": "display_data"
    },
    {
     "data": {
      "application/vnd.jupyter.widget-view+json": {
       "model_id": "e7b1a0f78f874e269622d53d43982415",
       "version_major": 2,
       "version_minor": 0
      },
      "text/plain": [
       "HTML(value='<h4>Vergleichbar bei der Publikationen-Struktur</h4><p style=\"line-height: 1;\">')"
      ]
     },
     "metadata": {},
     "output_type": "display_data"
    },
    {
     "data": {
      "application/vnd.jupyter.widget-view+json": {
       "model_id": "19c4dadd3947416f9fbd69ec2f817530",
       "version_major": 2,
       "version_minor": 0
      },
      "text/plain": [
       "HTML(value='<strong>Technische Universität Graz</strong> (80.2%, wegen &auml;hnlicher interner Relevanz von In…"
      ]
     },
     "metadata": {},
     "output_type": "display_data"
    },
    {
     "data": {
      "application/vnd.jupyter.widget-view+json": {
       "model_id": "129c36af24c14f8b9372bb853e2f994b",
       "version_major": 2,
       "version_minor": 0
      },
      "text/plain": [
       "Image(value=b'\\x89PNG\\r\\n\\x1a\\n\\x00\\x00\\x00\\rIHDR\\x00\\x00\\x03\\xf0\\x00\\x00\\x00\\xfc\\x08\\x06\\x00\\x00\\x00\\xd0uO\\xe…"
      ]
     },
     "metadata": {},
     "output_type": "display_data"
    },
    {
     "data": {
      "application/vnd.jupyter.widget-view+json": {
       "model_id": "05644a0d7c8c4578be1dd4dbf57515f7",
       "version_major": 2,
       "version_minor": 0
      },
      "text/plain": [
       "HTML(value='<h4>Vergleichbar bei der Drittmittel-Struktur</h4><p style=\"line-height: 1;\">')"
      ]
     },
     "metadata": {},
     "output_type": "display_data"
    },
    {
     "data": {
      "application/vnd.jupyter.widget-view+json": {
       "model_id": "dc8fbba3353d4cd490923e2305a5f7f3",
       "version_major": 2,
       "version_minor": 0
      },
      "text/plain": [
       "HTML(value='<strong>Universität Linz</strong> (71.0%, wegen &auml;hnlicher interner Relevanz von Elektrotechni…"
      ]
     },
     "metadata": {},
     "output_type": "display_data"
    },
    {
     "data": {
      "application/vnd.jupyter.widget-view+json": {
       "model_id": "f5d7b7c9f50342c4b169220216ca55c2",
       "version_major": 2,
       "version_minor": 0
      },
      "text/plain": [
       "Image(value=b'\\x89PNG\\r\\n\\x1a\\n\\x00\\x00\\x00\\rIHDR\\x00\\x00\\x03\\xf0\\x00\\x00\\x00\\xfc\\x08\\x06\\x00\\x00\\x00\\xd0uO\\xe…"
      ]
     },
     "metadata": {},
     "output_type": "display_data"
    },
    {
     "data": {
      "application/vnd.jupyter.widget-view+json": {
       "model_id": "25af0e8594f547f2b31dcdf6826abdc3",
       "version_major": 2,
       "version_minor": 0
      },
      "text/plain": [
       "HTML(value='</p><small>Universitäten mit einer Ähnlichkeit von weniger als 50% werden nicht angezeigt.</small>…"
      ]
     },
     "metadata": {},
     "output_type": "display_data"
    },
    {
     "data": {
      "application/vnd.jupyter.widget-view+json": {
       "model_id": "1408fd7a95ea46e8952a39ae9ba7ba70",
       "version_major": 2,
       "version_minor": 0
      },
      "text/plain": [
       "HTML(value='<h3>Publikationen-Struktur der TUW</h3>')"
      ]
     },
     "metadata": {},
     "output_type": "display_data"
    },
    {
     "data": {
      "application/vnd.jupyter.widget-view+json": {
       "model_id": "150a2ada8d6647719dd4fa1693b2781f",
       "version_major": 2,
       "version_minor": 0
      },
      "text/plain": [
       "HTML(value='Angezeigt werden WZW, die zusammen 69.5% der Publikationen an der TUW ausmachen. Alle anderen WZW …"
      ]
     },
     "metadata": {},
     "output_type": "display_data"
    },
    {
     "data": {
      "application/vnd.jupyter.widget-view+json": {
       "model_id": "3cd6bd4210d2439bbe856835267387b9",
       "version_major": 2,
       "version_minor": 0
      },
      "text/plain": [
       "GridBox(children=(VBox(children=(HTML(value='<h4>Informatik</h4><ul style=\"line-height: 1;\"><li>16.5% der Publ…"
      ]
     },
     "metadata": {},
     "output_type": "display_data"
    },
    {
     "data": {
      "application/vnd.jupyter.widget-view+json": {
       "model_id": "8e747fa673be44d5b4fc9294dd5160e9",
       "version_major": 2,
       "version_minor": 0
      },
      "text/plain": [
       "HTML(value='<h3>Drittmittel-Struktur der TUW</h3>')"
      ]
     },
     "metadata": {},
     "output_type": "display_data"
    },
    {
     "data": {
      "application/vnd.jupyter.widget-view+json": {
       "model_id": "6dba49fed28448479c567fc70d905952",
       "version_major": 2,
       "version_minor": 0
      },
      "text/plain": [
       "HTML(value='Angezeigt werden WZW, die zusammen 67.2% der Drittmittel an der TUW ausmachen. Alle anderen WZW tr…"
      ]
     },
     "metadata": {},
     "output_type": "display_data"
    },
    {
     "data": {
      "application/vnd.jupyter.widget-view+json": {
       "model_id": "c6e37219e1ad4f5b8d3f79627aa7c83a",
       "version_major": 2,
       "version_minor": 0
      },
      "text/plain": [
       "GridBox(children=(VBox(children=(HTML(value='<h4>Elektrotechnik, Elektronik, Informationstechnik</h4><ul style…"
      ]
     },
     "metadata": {},
     "output_type": "display_data"
    },
    {
     "data": {
      "application/vnd.jupyter.widget-view+json": {
       "model_id": "0b98fc2532e94b30b6fb7ab4e78f5af4",
       "version_major": 2,
       "version_minor": 0
      },
      "text/plain": [
       "HTML(value='<h2 style=\"page-break-before: always;\">Universität Graz</h2>')"
      ]
     },
     "metadata": {},
     "output_type": "display_data"
    },
    {
     "data": {
      "application/vnd.jupyter.widget-view+json": {
       "model_id": "7eb7c831ee1a4e18b268c88fc1842188",
       "version_major": 2,
       "version_minor": 0
      },
      "text/plain": [
       "HTML(value='<h3>Vergleichbare Universitäten in Publikationen- und Drittmittel-Struktur</h3><ul style=\"line-hei…"
      ]
     },
     "metadata": {},
     "output_type": "display_data"
    },
    {
     "data": {
      "application/vnd.jupyter.widget-view+json": {
       "model_id": "7ceb8925d3ef484a9f5e83377113445e",
       "version_major": 2,
       "version_minor": 0
      },
      "text/plain": [
       "HTML(value='<li style=\"margin-bottom: 5px;\">Universität Salzburg</li>')"
      ]
     },
     "metadata": {},
     "output_type": "display_data"
    },
    {
     "data": {
      "application/vnd.jupyter.widget-view+json": {
       "model_id": "9d29772df1e149fea633133df9e99708",
       "version_major": 2,
       "version_minor": 0
      },
      "text/plain": [
       "HTML(value='<li style=\"margin-bottom: 5px;\">Universität Innsbruck</li>')"
      ]
     },
     "metadata": {},
     "output_type": "display_data"
    },
    {
     "data": {
      "application/vnd.jupyter.widget-view+json": {
       "model_id": "e946a873d29645fdb47f6cb844b47f64",
       "version_major": 2,
       "version_minor": 0
      },
      "text/plain": [
       "HTML(value='<li style=\"margin-bottom: 5px;\">Universität Wien</li>')"
      ]
     },
     "metadata": {},
     "output_type": "display_data"
    },
    {
     "data": {
      "application/vnd.jupyter.widget-view+json": {
       "model_id": "a3d9d813974745db9ccd47274979bcf5",
       "version_major": 2,
       "version_minor": 0
      },
      "text/plain": [
       "HTML(value='</ul>')"
      ]
     },
     "metadata": {},
     "output_type": "display_data"
    },
    {
     "data": {
      "application/vnd.jupyter.widget-view+json": {
       "model_id": "0e16f598f4b349f391dc1ce07c195d70",
       "version_major": 2,
       "version_minor": 0
      },
      "text/plain": [
       "HTML(value='<h4>Vergleichbar bei der Publikationen-Struktur</h4><p style=\"line-height: 1;\">')"
      ]
     },
     "metadata": {},
     "output_type": "display_data"
    },
    {
     "data": {
      "application/vnd.jupyter.widget-view+json": {
       "model_id": "4ea7850fdbf04ce78a59aa89c22d6177",
       "version_major": 2,
       "version_minor": 0
      },
      "text/plain": [
       "HTML(value='<strong>Universität Wien</strong> (79.0%, wegen &auml;hnlicher interner Relevanz von Sprach- und L…"
      ]
     },
     "metadata": {},
     "output_type": "display_data"
    },
    {
     "data": {
      "application/vnd.jupyter.widget-view+json": {
       "model_id": "8647d016708c47f8950c643c8841a802",
       "version_major": 2,
       "version_minor": 0
      },
      "text/plain": [
       "Image(value=b'\\x89PNG\\r\\n\\x1a\\n\\x00\\x00\\x00\\rIHDR\\x00\\x00\\x03\\xf0\\x00\\x00\\x00\\xfc\\x08\\x06\\x00\\x00\\x00\\xd0uO\\xe…"
      ]
     },
     "metadata": {},
     "output_type": "display_data"
    },
    {
     "data": {
      "application/vnd.jupyter.widget-view+json": {
       "model_id": "0b4f68ae270f46828ae1889645f04eec",
       "version_major": 2,
       "version_minor": 0
      },
      "text/plain": [
       "HTML(value='<h4>Vergleichbar bei der Drittmittel-Struktur</h4><p style=\"line-height: 1;\">')"
      ]
     },
     "metadata": {},
     "output_type": "display_data"
    },
    {
     "data": {
      "application/vnd.jupyter.widget-view+json": {
       "model_id": "55cbec3c70e443ceabaecebaf0fcef57",
       "version_major": 2,
       "version_minor": 0
      },
      "text/plain": [
       "HTML(value='<strong>Universität Wien</strong> (70.6%, wegen &auml;hnlicher interner Relevanz von Biologie, Phy…"
      ]
     },
     "metadata": {},
     "output_type": "display_data"
    },
    {
     "data": {
      "application/vnd.jupyter.widget-view+json": {
       "model_id": "b0fc3423eeba4789952953b7c73e8824",
       "version_major": 2,
       "version_minor": 0
      },
      "text/plain": [
       "Image(value=b'\\x89PNG\\r\\n\\x1a\\n\\x00\\x00\\x00\\rIHDR\\x00\\x00\\x03\\xf0\\x00\\x00\\x00\\xfc\\x08\\x06\\x00\\x00\\x00\\xd0uO\\xe…"
      ]
     },
     "metadata": {},
     "output_type": "display_data"
    },
    {
     "data": {
      "application/vnd.jupyter.widget-view+json": {
       "model_id": "4a2b787d69a4403194380b6b4a82aee5",
       "version_major": 2,
       "version_minor": 0
      },
      "text/plain": [
       "HTML(value='</p><small>Universitäten mit einer Ähnlichkeit von weniger als 50% werden nicht angezeigt.</small>…"
      ]
     },
     "metadata": {},
     "output_type": "display_data"
    },
    {
     "data": {
      "application/vnd.jupyter.widget-view+json": {
       "model_id": "f080a2e6b0f04c8d9462788092a99c3a",
       "version_major": 2,
       "version_minor": 0
      },
      "text/plain": [
       "HTML(value='<h3>Publikationen-Struktur der UGR</h3>')"
      ]
     },
     "metadata": {},
     "output_type": "display_data"
    },
    {
     "data": {
      "application/vnd.jupyter.widget-view+json": {
       "model_id": "77227718ba1d4e7686c4db727dc02398",
       "version_major": 2,
       "version_minor": 0
      },
      "text/plain": [
       "HTML(value='Angezeigt werden WZW, die zusammen 70.2% der Publikationen an der UGR ausmachen. Alle anderen WZW …"
      ]
     },
     "metadata": {},
     "output_type": "display_data"
    },
    {
     "data": {
      "application/vnd.jupyter.widget-view+json": {
       "model_id": "e19e55bbfbb14bc7a4e0c485a7776d69",
       "version_major": 2,
       "version_minor": 0
      },
      "text/plain": [
       "GridBox(children=(VBox(children=(HTML(value='<h4>Rechtswissenschaften</h4><ul style=\"line-height: 1;\"><li>15.8…"
      ]
     },
     "metadata": {},
     "output_type": "display_data"
    },
    {
     "data": {
      "application/vnd.jupyter.widget-view+json": {
       "model_id": "bad462ea342544ff925f68c66fbe2c1a",
       "version_major": 2,
       "version_minor": 0
      },
      "text/plain": [
       "HTML(value='<h3>Drittmittel-Struktur der UGR</h3>')"
      ]
     },
     "metadata": {},
     "output_type": "display_data"
    },
    {
     "data": {
      "application/vnd.jupyter.widget-view+json": {
       "model_id": "2b023829dd554289af8faac1a688eaaa",
       "version_major": 2,
       "version_minor": 0
      },
      "text/plain": [
       "HTML(value='Angezeigt werden WZW, die zusammen 67.5% der Drittmittel an der UGR ausmachen. Alle anderen WZW tr…"
      ]
     },
     "metadata": {},
     "output_type": "display_data"
    },
    {
     "data": {
      "application/vnd.jupyter.widget-view+json": {
       "model_id": "b4545392de454f7dab1b5b4ea4686e55",
       "version_major": 2,
       "version_minor": 0
      },
      "text/plain": [
       "GridBox(children=(VBox(children=(HTML(value='<h4>Biologie</h4><ul style=\"line-height: 1;\"><li>21.0% der Drittm…"
      ]
     },
     "metadata": {},
     "output_type": "display_data"
    },
    {
     "data": {
      "application/vnd.jupyter.widget-view+json": {
       "model_id": "ee5836491851471db3cd114f5d529f22",
       "version_major": 2,
       "version_minor": 0
      },
      "text/plain": [
       "HTML(value='<h2 style=\"page-break-before: always;\">Universität Innsbruck</h2>')"
      ]
     },
     "metadata": {},
     "output_type": "display_data"
    },
    {
     "data": {
      "application/vnd.jupyter.widget-view+json": {
       "model_id": "715b11ec76e7445ab3b8b02bfced03b8",
       "version_major": 2,
       "version_minor": 0
      },
      "text/plain": [
       "HTML(value='<h3>Vergleichbare Universitäten in Publikationen- und Drittmittel-Struktur</h3><ul style=\"line-hei…"
      ]
     },
     "metadata": {},
     "output_type": "display_data"
    },
    {
     "data": {
      "application/vnd.jupyter.widget-view+json": {
       "model_id": "e810664b42e14e5b8ebde6078e887621",
       "version_major": 2,
       "version_minor": 0
      },
      "text/plain": [
       "HTML(value='<li style=\"margin-bottom: 5px;\">Universität Wien</li>')"
      ]
     },
     "metadata": {},
     "output_type": "display_data"
    },
    {
     "data": {
      "application/vnd.jupyter.widget-view+json": {
       "model_id": "09d220ec23d7482d8554838fba26aba4",
       "version_major": 2,
       "version_minor": 0
      },
      "text/plain": [
       "HTML(value='<li style=\"margin-bottom: 5px;\">Universität Salzburg</li>')"
      ]
     },
     "metadata": {},
     "output_type": "display_data"
    },
    {
     "data": {
      "application/vnd.jupyter.widget-view+json": {
       "model_id": "688aab5bf1b84d6da4416002df6cbcf7",
       "version_major": 2,
       "version_minor": 0
      },
      "text/plain": [
       "HTML(value='<li style=\"margin-bottom: 5px;\">Universität Graz</li>')"
      ]
     },
     "metadata": {},
     "output_type": "display_data"
    },
    {
     "data": {
      "application/vnd.jupyter.widget-view+json": {
       "model_id": "5bf6dae079d84d1bb6b5f0ddc93181a1",
       "version_major": 2,
       "version_minor": 0
      },
      "text/plain": [
       "HTML(value='</ul>')"
      ]
     },
     "metadata": {},
     "output_type": "display_data"
    },
    {
     "data": {
      "application/vnd.jupyter.widget-view+json": {
       "model_id": "79cbc540a2404a84821da91c7cb8b685",
       "version_major": 2,
       "version_minor": 0
      },
      "text/plain": [
       "HTML(value='<h4>Vergleichbar bei der Publikationen-Struktur</h4><p style=\"line-height: 1;\">')"
      ]
     },
     "metadata": {},
     "output_type": "display_data"
    },
    {
     "data": {
      "application/vnd.jupyter.widget-view+json": {
       "model_id": "b6a4e763386243d88fe50d95c3ee5d65",
       "version_major": 2,
       "version_minor": 0
      },
      "text/plain": [
       "HTML(value='<strong>Universität Graz</strong> (75.0%, wegen &auml;hnlicher interner Relevanz von Rechtswissens…"
      ]
     },
     "metadata": {},
     "output_type": "display_data"
    },
    {
     "data": {
      "application/vnd.jupyter.widget-view+json": {
       "model_id": "05183e8de59749c4b462f604b4b3255f",
       "version_major": 2,
       "version_minor": 0
      },
      "text/plain": [
       "Image(value=b'\\x89PNG\\r\\n\\x1a\\n\\x00\\x00\\x00\\rIHDR\\x00\\x00\\x03\\xf0\\x00\\x00\\x00\\xfc\\x08\\x06\\x00\\x00\\x00\\xd0uO\\xe…"
      ]
     },
     "metadata": {},
     "output_type": "display_data"
    },
    {
     "data": {
      "application/vnd.jupyter.widget-view+json": {
       "model_id": "b7cd0e229c70467baa24701bd7d5fc8b",
       "version_major": 2,
       "version_minor": 0
      },
      "text/plain": [
       "HTML(value='<h4>Vergleichbar bei der Drittmittel-Struktur</h4><p style=\"line-height: 1;\">')"
      ]
     },
     "metadata": {},
     "output_type": "display_data"
    },
    {
     "data": {
      "application/vnd.jupyter.widget-view+json": {
       "model_id": "3f5611bf98ee42b1b76a6a5c3c48a798",
       "version_major": 2,
       "version_minor": 0
      },
      "text/plain": [
       "HTML(value='<strong>Universität Wien</strong> (62.7%, wegen &auml;hnlicher interner Relevanz von Physik, Astro…"
      ]
     },
     "metadata": {},
     "output_type": "display_data"
    },
    {
     "data": {
      "application/vnd.jupyter.widget-view+json": {
       "model_id": "86cc1b5ae2a743199a0b22b7ef10a9db",
       "version_major": 2,
       "version_minor": 0
      },
      "text/plain": [
       "Image(value=b'\\x89PNG\\r\\n\\x1a\\n\\x00\\x00\\x00\\rIHDR\\x00\\x00\\x03\\xf0\\x00\\x00\\x00\\xfc\\x08\\x06\\x00\\x00\\x00\\xd0uO\\xe…"
      ]
     },
     "metadata": {},
     "output_type": "display_data"
    },
    {
     "data": {
      "application/vnd.jupyter.widget-view+json": {
       "model_id": "e161e5d5deb64e838774e31bb316a105",
       "version_major": 2,
       "version_minor": 0
      },
      "text/plain": [
       "HTML(value='</p><small>Universitäten mit einer Ähnlichkeit von weniger als 50% werden nicht angezeigt.</small>…"
      ]
     },
     "metadata": {},
     "output_type": "display_data"
    },
    {
     "data": {
      "application/vnd.jupyter.widget-view+json": {
       "model_id": "e825cd30f5a949d4b0c12d91be55ff9c",
       "version_major": 2,
       "version_minor": 0
      },
      "text/plain": [
       "HTML(value='<h3>Publikationen-Struktur der UIN</h3>')"
      ]
     },
     "metadata": {},
     "output_type": "display_data"
    },
    {
     "data": {
      "application/vnd.jupyter.widget-view+json": {
       "model_id": "a763b520c1094263ba21e93f069aa88c",
       "version_major": 2,
       "version_minor": 0
      },
      "text/plain": [
       "HTML(value='Angezeigt werden WZW, die zusammen 69.3% der Publikationen an der UIN ausmachen. Alle anderen WZW …"
      ]
     },
     "metadata": {},
     "output_type": "display_data"
    },
    {
     "data": {
      "application/vnd.jupyter.widget-view+json": {
       "model_id": "ea7c7163fc6b4adf93270a7b18d56624",
       "version_major": 2,
       "version_minor": 0
      },
      "text/plain": [
       "GridBox(children=(VBox(children=(HTML(value='<h4>Rechtswissenschaften</h4><ul style=\"line-height: 1;\"><li>21.6…"
      ]
     },
     "metadata": {},
     "output_type": "display_data"
    },
    {
     "data": {
      "application/vnd.jupyter.widget-view+json": {
       "model_id": "2574f43c814e45f3860a3a2144f0eda0",
       "version_major": 2,
       "version_minor": 0
      },
      "text/plain": [
       "HTML(value='<h3>Drittmittel-Struktur der UIN</h3>')"
      ]
     },
     "metadata": {},
     "output_type": "display_data"
    },
    {
     "data": {
      "application/vnd.jupyter.widget-view+json": {
       "model_id": "e6ff049e650b4d8ebff4789cc3cb30d9",
       "version_major": 2,
       "version_minor": 0
      },
      "text/plain": [
       "HTML(value='Angezeigt werden WZW, die zusammen 67.0% der Drittmittel an der UIN ausmachen. Alle anderen WZW tr…"
      ]
     },
     "metadata": {},
     "output_type": "display_data"
    },
    {
     "data": {
      "application/vnd.jupyter.widget-view+json": {
       "model_id": "6a6238c202d542afbfe2babbeef0dda5",
       "version_major": 2,
       "version_minor": 0
      },
      "text/plain": [
       "GridBox(children=(VBox(children=(HTML(value='<h4>Physik, Astronomie</h4><ul style=\"line-height: 1;\"><li>18.8% …"
      ]
     },
     "metadata": {},
     "output_type": "display_data"
    },
    {
     "data": {
      "application/vnd.jupyter.widget-view+json": {
       "model_id": "e8478c62b8d746019e60deba02a30842",
       "version_major": 2,
       "version_minor": 0
      },
      "text/plain": [
       "HTML(value='<h2 style=\"page-break-before: always;\">Universität Klagenfurt</h2>')"
      ]
     },
     "metadata": {},
     "output_type": "display_data"
    },
    {
     "data": {
      "application/vnd.jupyter.widget-view+json": {
       "model_id": "65406ee2b5ae4808a95e8c05830a809f",
       "version_major": 2,
       "version_minor": 0
      },
      "text/plain": [
       "HTML(value='<h3>Vergleichbare Universitäten in Publikationen- und Drittmittel-Struktur</h3><ul style=\"line-hei…"
      ]
     },
     "metadata": {},
     "output_type": "display_data"
    },
    {
     "data": {
      "application/vnd.jupyter.widget-view+json": {
       "model_id": "2564eb313fd24effa284e9451db88df6",
       "version_major": 2,
       "version_minor": 0
      },
      "text/plain": [
       "HTML(value='<li><strong>Keine.</strong> Die Universität Klagenfurt ist stark spezialisiert.</li>')"
      ]
     },
     "metadata": {},
     "output_type": "display_data"
    },
    {
     "data": {
      "application/vnd.jupyter.widget-view+json": {
       "model_id": "3dda8b7bf49041be86a3ab3abf4bce99",
       "version_major": 2,
       "version_minor": 0
      },
      "text/plain": [
       "HTML(value='</ul>')"
      ]
     },
     "metadata": {},
     "output_type": "display_data"
    },
    {
     "data": {
      "application/vnd.jupyter.widget-view+json": {
       "model_id": "04b7a3389b9f49fbaf7ff576818d6bdd",
       "version_major": 2,
       "version_minor": 0
      },
      "text/plain": [
       "HTML(value='<h4>Vergleichbar bei der Publikationen-Struktur</h4><p style=\"line-height: 1;\">')"
      ]
     },
     "metadata": {},
     "output_type": "display_data"
    },
    {
     "data": {
      "application/vnd.jupyter.widget-view+json": {
       "model_id": "dec0b738d8994c51a8b679bf9c874485",
       "version_major": 2,
       "version_minor": 0
      },
      "text/plain": [
       "HTML(value='<strong>Universität Linz</strong> (59.1%, wegen &auml;hnlicher interner Relevanz von Informatik, W…"
      ]
     },
     "metadata": {},
     "output_type": "display_data"
    },
    {
     "data": {
      "application/vnd.jupyter.widget-view+json": {
       "model_id": "42b1d548d408414f83f064ee941275e9",
       "version_major": 2,
       "version_minor": 0
      },
      "text/plain": [
       "Image(value=b'\\x89PNG\\r\\n\\x1a\\n\\x00\\x00\\x00\\rIHDR\\x00\\x00\\x03\\xf0\\x00\\x00\\x00\\xfc\\x08\\x06\\x00\\x00\\x00\\xd0uO\\xe…"
      ]
     },
     "metadata": {},
     "output_type": "display_data"
    },
    {
     "data": {
      "application/vnd.jupyter.widget-view+json": {
       "model_id": "f6eb4c95f78a40369dabdef0df169412",
       "version_major": 2,
       "version_minor": 0
      },
      "text/plain": [
       "HTML(value='<h4>Vergleichbar bei der Drittmittel-Struktur</h4><p style=\"line-height: 1;\">')"
      ]
     },
     "metadata": {},
     "output_type": "display_data"
    },
    {
     "data": {
      "application/vnd.jupyter.widget-view+json": {
       "model_id": "278231bbad3948dbad2e5bee93a1f542",
       "version_major": 2,
       "version_minor": 0
      },
      "text/plain": [
       "HTML(value='Die Universität Klagenfurt ist im Bereich Drittmittel spezialisiert.<br/><strong>Keine</strong> an…"
      ]
     },
     "metadata": {},
     "output_type": "display_data"
    },
    {
     "data": {
      "application/vnd.jupyter.widget-view+json": {
       "model_id": "3c86ec5f1e804332a51a0357f71edba8",
       "version_major": 2,
       "version_minor": 0
      },
      "text/plain": [
       "HTML(value='</p><small>Universitäten mit einer Ähnlichkeit von weniger als 50% werden nicht angezeigt.</small>…"
      ]
     },
     "metadata": {},
     "output_type": "display_data"
    },
    {
     "data": {
      "application/vnd.jupyter.widget-view+json": {
       "model_id": "e820aed3d24f439397b26b1dab33c91b",
       "version_major": 2,
       "version_minor": 0
      },
      "text/plain": [
       "HTML(value='<h3>Publikationen-Struktur der UKL</h3>')"
      ]
     },
     "metadata": {},
     "output_type": "display_data"
    },
    {
     "data": {
      "application/vnd.jupyter.widget-view+json": {
       "model_id": "5e8658da49b54d07a8314674ef9cc7e8",
       "version_major": 2,
       "version_minor": 0
      },
      "text/plain": [
       "HTML(value='Angezeigt werden WZW, die zusammen 71.2% der Publikationen an der UKL ausmachen. Alle anderen WZW …"
      ]
     },
     "metadata": {},
     "output_type": "display_data"
    },
    {
     "data": {
      "application/vnd.jupyter.widget-view+json": {
       "model_id": "577720ce24564fc6971b3eed670fde2e",
       "version_major": 2,
       "version_minor": 0
      },
      "text/plain": [
       "GridBox(children=(VBox(children=(HTML(value='<h4>Wirtschaftswissenschaften</h4><ul style=\"line-height: 1;\"><li…"
      ]
     },
     "metadata": {},
     "output_type": "display_data"
    },
    {
     "data": {
      "application/vnd.jupyter.widget-view+json": {
       "model_id": "0a827e1c6b1f4ca2be46bb0ec2c77241",
       "version_major": 2,
       "version_minor": 0
      },
      "text/plain": [
       "HTML(value='<h3>Drittmittel-Struktur der UKL</h3>')"
      ]
     },
     "metadata": {},
     "output_type": "display_data"
    },
    {
     "data": {
      "application/vnd.jupyter.widget-view+json": {
       "model_id": "95bc7b6d8e8742c2b561bf6201f038bc",
       "version_major": 2,
       "version_minor": 0
      },
      "text/plain": [
       "HTML(value='Angezeigt werden WZW, die zusammen 67.2% der Drittmittel an der UKL ausmachen. Alle anderen WZW tr…"
      ]
     },
     "metadata": {},
     "output_type": "display_data"
    },
    {
     "data": {
      "application/vnd.jupyter.widget-view+json": {
       "model_id": "e55fc0156811469585b7e3138e1dc75e",
       "version_major": 2,
       "version_minor": 0
      },
      "text/plain": [
       "GridBox(children=(VBox(children=(HTML(value='<h4>Informatik</h4><ul style=\"line-height: 1;\"><li>17.1% der Drit…"
      ]
     },
     "metadata": {},
     "output_type": "display_data"
    },
    {
     "data": {
      "application/vnd.jupyter.widget-view+json": {
       "model_id": "0ca1b26f2e2e41fa9e847658d51b5816",
       "version_major": 2,
       "version_minor": 0
      },
      "text/plain": [
       "HTML(value='<h2 style=\"page-break-before: always;\">Universität Linz</h2>')"
      ]
     },
     "metadata": {},
     "output_type": "display_data"
    },
    {
     "data": {
      "application/vnd.jupyter.widget-view+json": {
       "model_id": "47536964a2984dbf98ddc5caed685a40",
       "version_major": 2,
       "version_minor": 0
      },
      "text/plain": [
       "HTML(value='<h3>Vergleichbare Universitäten in Publikationen- und Drittmittel-Struktur</h3><ul style=\"line-hei…"
      ]
     },
     "metadata": {},
     "output_type": "display_data"
    },
    {
     "data": {
      "application/vnd.jupyter.widget-view+json": {
       "model_id": "bd803ee37ec54f8cba448283a117abe1",
       "version_major": 2,
       "version_minor": 0
      },
      "text/plain": [
       "HTML(value='<li><strong>Keine.</strong> Die Universität Linz ist stark spezialisiert.</li>')"
      ]
     },
     "metadata": {},
     "output_type": "display_data"
    },
    {
     "data": {
      "application/vnd.jupyter.widget-view+json": {
       "model_id": "5a5ae6d73fd3445e96a2ce1df92247f9",
       "version_major": 2,
       "version_minor": 0
      },
      "text/plain": [
       "HTML(value='</ul>')"
      ]
     },
     "metadata": {},
     "output_type": "display_data"
    },
    {
     "data": {
      "application/vnd.jupyter.widget-view+json": {
       "model_id": "5cfe9fbb00eb43e7a1494067ec00fa40",
       "version_major": 2,
       "version_minor": 0
      },
      "text/plain": [
       "HTML(value='<h4>Vergleichbar bei der Publikationen-Struktur</h4><p style=\"line-height: 1;\">')"
      ]
     },
     "metadata": {},
     "output_type": "display_data"
    },
    {
     "data": {
      "application/vnd.jupyter.widget-view+json": {
       "model_id": "2a3949b1751446db865f309b756c8c3b",
       "version_major": 2,
       "version_minor": 0
      },
      "text/plain": [
       "HTML(value='<strong>Universität Klagenfurt</strong> (59.1%, wegen &auml;hnlicher interner Relevanz von Informa…"
      ]
     },
     "metadata": {},
     "output_type": "display_data"
    },
    {
     "data": {
      "application/vnd.jupyter.widget-view+json": {
       "model_id": "f753cdbd644b49979c8d17b1b962e86d",
       "version_major": 2,
       "version_minor": 0
      },
      "text/plain": [
       "Image(value=b'\\x89PNG\\r\\n\\x1a\\n\\x00\\x00\\x00\\rIHDR\\x00\\x00\\x03\\xf0\\x00\\x00\\x00\\xfc\\x08\\x06\\x00\\x00\\x00\\xd0uO\\xe…"
      ]
     },
     "metadata": {},
     "output_type": "display_data"
    },
    {
     "data": {
      "application/vnd.jupyter.widget-view+json": {
       "model_id": "dfb243593313401e84f6ac88d9b66f26",
       "version_major": 2,
       "version_minor": 0
      },
      "text/plain": [
       "HTML(value='<h4>Vergleichbar bei der Drittmittel-Struktur</h4><p style=\"line-height: 1;\">')"
      ]
     },
     "metadata": {},
     "output_type": "display_data"
    },
    {
     "data": {
      "application/vnd.jupyter.widget-view+json": {
       "model_id": "dba232005690453697808f090f27d087",
       "version_major": 2,
       "version_minor": 0
      },
      "text/plain": [
       "HTML(value='<strong>Technische Universität Wien</strong> (71.0%, wegen &auml;hnlicher interner Relevanz von El…"
      ]
     },
     "metadata": {},
     "output_type": "display_data"
    },
    {
     "data": {
      "application/vnd.jupyter.widget-view+json": {
       "model_id": "9b2c27269f254d1cb955e3b35d7ca0a1",
       "version_major": 2,
       "version_minor": 0
      },
      "text/plain": [
       "Image(value=b'\\x89PNG\\r\\n\\x1a\\n\\x00\\x00\\x00\\rIHDR\\x00\\x00\\x03\\xf0\\x00\\x00\\x00\\xfc\\x08\\x06\\x00\\x00\\x00\\xd0uO\\xe…"
      ]
     },
     "metadata": {},
     "output_type": "display_data"
    },
    {
     "data": {
      "application/vnd.jupyter.widget-view+json": {
       "model_id": "c6ddcb7539f141b09e087afcc1e5b740",
       "version_major": 2,
       "version_minor": 0
      },
      "text/plain": [
       "HTML(value='</p><small>Universitäten mit einer Ähnlichkeit von weniger als 50% werden nicht angezeigt.</small>…"
      ]
     },
     "metadata": {},
     "output_type": "display_data"
    },
    {
     "data": {
      "application/vnd.jupyter.widget-view+json": {
       "model_id": "eac238091f35479982b0a6ada4827e9d",
       "version_major": 2,
       "version_minor": 0
      },
      "text/plain": [
       "HTML(value='<h3>Publikationen-Struktur der ULI</h3>')"
      ]
     },
     "metadata": {},
     "output_type": "display_data"
    },
    {
     "data": {
      "application/vnd.jupyter.widget-view+json": {
       "model_id": "6c815784064b46129682363b1362fa9f",
       "version_major": 2,
       "version_minor": 0
      },
      "text/plain": [
       "HTML(value='Angezeigt werden WZW, die zusammen 69.4% der Publikationen an der ULI ausmachen. Alle anderen WZW …"
      ]
     },
     "metadata": {},
     "output_type": "display_data"
    },
    {
     "data": {
      "application/vnd.jupyter.widget-view+json": {
       "model_id": "bcee1fb9a22442ecb6f5bcf880f5dc10",
       "version_major": 2,
       "version_minor": 0
      },
      "text/plain": [
       "GridBox(children=(VBox(children=(HTML(value='<h4>Rechtswissenschaften</h4><ul style=\"line-height: 1;\"><li>21.2…"
      ]
     },
     "metadata": {},
     "output_type": "display_data"
    },
    {
     "data": {
      "application/vnd.jupyter.widget-view+json": {
       "model_id": "7f7b27212b2346cd80f46523d13f5eec",
       "version_major": 2,
       "version_minor": 0
      },
      "text/plain": [
       "HTML(value='<h3>Drittmittel-Struktur der ULI</h3>')"
      ]
     },
     "metadata": {},
     "output_type": "display_data"
    },
    {
     "data": {
      "application/vnd.jupyter.widget-view+json": {
       "model_id": "428e25a604cc4bb3a22882467ed87bbf",
       "version_major": 2,
       "version_minor": 0
      },
      "text/plain": [
       "HTML(value='Angezeigt werden WZW, die zusammen 72.1% der Drittmittel an der ULI ausmachen. Alle anderen WZW tr…"
      ]
     },
     "metadata": {},
     "output_type": "display_data"
    },
    {
     "data": {
      "application/vnd.jupyter.widget-view+json": {
       "model_id": "0fd371f6c73a479698a95325b42e6f76",
       "version_major": 2,
       "version_minor": 0
      },
      "text/plain": [
       "GridBox(children=(VBox(children=(HTML(value='<h4>Elektrotechnik, Elektronik, Informationstechnik</h4><ul style…"
      ]
     },
     "metadata": {},
     "output_type": "display_data"
    },
    {
     "data": {
      "application/vnd.jupyter.widget-view+json": {
       "model_id": "6a22475ac5814cf5a9e9864bee9c0c6f",
       "version_major": 2,
       "version_minor": 0
      },
      "text/plain": [
       "HTML(value='<h2 style=\"page-break-before: always;\">Universität Mozarteum Salzburg</h2>')"
      ]
     },
     "metadata": {},
     "output_type": "display_data"
    },
    {
     "data": {
      "application/vnd.jupyter.widget-view+json": {
       "model_id": "a09862a55c6a454aa43e72e76d7b1ebd",
       "version_major": 2,
       "version_minor": 0
      },
      "text/plain": [
       "HTML(value='<h3>Vergleichbare Universitäten in Publikationen- und Drittmittel-Struktur</h3><ul style=\"line-hei…"
      ]
     },
     "metadata": {},
     "output_type": "display_data"
    },
    {
     "data": {
      "application/vnd.jupyter.widget-view+json": {
       "model_id": "8541595ec9f74fbd8283d7ee6a75ffdb",
       "version_major": 2,
       "version_minor": 0
      },
      "text/plain": [
       "HTML(value='<li><strong>Keine.</strong> Die Universität Mozarteum Salzburg ist stark spezialisiert.</li>')"
      ]
     },
     "metadata": {},
     "output_type": "display_data"
    },
    {
     "data": {
      "application/vnd.jupyter.widget-view+json": {
       "model_id": "6bf5a65f195d4351be8451b08ebe1c99",
       "version_major": 2,
       "version_minor": 0
      },
      "text/plain": [
       "HTML(value='</ul>')"
      ]
     },
     "metadata": {},
     "output_type": "display_data"
    },
    {
     "data": {
      "application/vnd.jupyter.widget-view+json": {
       "model_id": "3e1b43ae158a41dea027ca8cca4d1634",
       "version_major": 2,
       "version_minor": 0
      },
      "text/plain": [
       "HTML(value='<h4>Vergleichbar bei der Publikationen-Struktur</h4><p style=\"line-height: 1;\">')"
      ]
     },
     "metadata": {},
     "output_type": "display_data"
    },
    {
     "data": {
      "application/vnd.jupyter.widget-view+json": {
       "model_id": "db041e434b2941299669adaf6a2562c3",
       "version_major": 2,
       "version_minor": 0
      },
      "text/plain": [
       "HTML(value='Die Universität Mozarteum Salzburg ist im Bereich Publikationen spezialisiert.<br/><strong>Keine</…"
      ]
     },
     "metadata": {},
     "output_type": "display_data"
    },
    {
     "data": {
      "application/vnd.jupyter.widget-view+json": {
       "model_id": "9986889c474c43aa937ec9d9d5f98415",
       "version_major": 2,
       "version_minor": 0
      },
      "text/plain": [
       "HTML(value='<h4>Vergleichbar bei der Drittmittel-Struktur</h4><p style=\"line-height: 1;\">')"
      ]
     },
     "metadata": {},
     "output_type": "display_data"
    },
    {
     "data": {
      "application/vnd.jupyter.widget-view+json": {
       "model_id": "74210d2b62294481b8b25865c8cf0db9",
       "version_major": 2,
       "version_minor": 0
      },
      "text/plain": [
       "HTML(value='Die Universität Mozarteum Salzburg ist im Bereich Drittmittel spezialisiert.<br/><strong>Keine</st…"
      ]
     },
     "metadata": {},
     "output_type": "display_data"
    },
    {
     "data": {
      "application/vnd.jupyter.widget-view+json": {
       "model_id": "b5b35bf8fed74c16b8b97275c3e03d85",
       "version_major": 2,
       "version_minor": 0
      },
      "text/plain": [
       "HTML(value='</p><small>Universitäten mit einer Ähnlichkeit von weniger als 50% werden nicht angezeigt.</small>…"
      ]
     },
     "metadata": {},
     "output_type": "display_data"
    },
    {
     "data": {
      "application/vnd.jupyter.widget-view+json": {
       "model_id": "f89797a1d7b34f6fb726541f89a0925d",
       "version_major": 2,
       "version_minor": 0
      },
      "text/plain": [
       "HTML(value='<h3>Publikationen-Struktur der UMS</h3>')"
      ]
     },
     "metadata": {},
     "output_type": "display_data"
    },
    {
     "data": {
      "application/vnd.jupyter.widget-view+json": {
       "model_id": "48748603f0e54133b3d53b8190614707",
       "version_major": 2,
       "version_minor": 0
      },
      "text/plain": [
       "HTML(value='Angezeigt werden WZW, die zusammen 73.3% der Publikationen an der UMS ausmachen. Alle anderen WZW …"
      ]
     },
     "metadata": {},
     "output_type": "display_data"
    },
    {
     "data": {
      "application/vnd.jupyter.widget-view+json": {
       "model_id": "42a427bf24d34f72be957a26878c1015",
       "version_major": 2,
       "version_minor": 0
      },
      "text/plain": [
       "GridBox(children=(VBox(children=(HTML(value='<h4>Bühnengestaltung</h4><ul style=\"line-height: 1;\"><li>33.6% de…"
      ]
     },
     "metadata": {},
     "output_type": "display_data"
    },
    {
     "data": {
      "application/vnd.jupyter.widget-view+json": {
       "model_id": "017d239090a64223b932522e22584c84",
       "version_major": 2,
       "version_minor": 0
      },
      "text/plain": [
       "HTML(value='<h3>Drittmittel-Struktur der UMS</h3>')"
      ]
     },
     "metadata": {},
     "output_type": "display_data"
    },
    {
     "data": {
      "application/vnd.jupyter.widget-view+json": {
       "model_id": "ad81b77285bc4f29abb38ea6e8439d29",
       "version_major": 2,
       "version_minor": 0
      },
      "text/plain": [
       "HTML(value='Angezeigt werden WZW, die zusammen 72.9% der Drittmittel an der UMS ausmachen. Alle anderen WZW tr…"
      ]
     },
     "metadata": {},
     "output_type": "display_data"
    },
    {
     "data": {
      "application/vnd.jupyter.widget-view+json": {
       "model_id": "4757f42baa7a44508d86e4a418aab527",
       "version_major": 2,
       "version_minor": 0
      },
      "text/plain": [
       "GridBox(children=(VBox(children=(HTML(value='<h4>Interpretation - instrumental</h4><ul style=\"line-height: 1;\"…"
      ]
     },
     "metadata": {},
     "output_type": "display_data"
    },
    {
     "data": {
      "application/vnd.jupyter.widget-view+json": {
       "model_id": "ef0c1187023440ef91d149cec5cb9c47",
       "version_major": 2,
       "version_minor": 0
      },
      "text/plain": [
       "HTML(value='<h2 style=\"page-break-before: always;\">Universität Salzburg</h2>')"
      ]
     },
     "metadata": {},
     "output_type": "display_data"
    },
    {
     "data": {
      "application/vnd.jupyter.widget-view+json": {
       "model_id": "e01bf944b9734ef7b2b2a4681379a58a",
       "version_major": 2,
       "version_minor": 0
      },
      "text/plain": [
       "HTML(value='<h3>Vergleichbare Universitäten in Publikationen- und Drittmittel-Struktur</h3><ul style=\"line-hei…"
      ]
     },
     "metadata": {},
     "output_type": "display_data"
    },
    {
     "data": {
      "application/vnd.jupyter.widget-view+json": {
       "model_id": "ef887200b44b4903a57f36e9e80c49d3",
       "version_major": 2,
       "version_minor": 0
      },
      "text/plain": [
       "HTML(value='<li style=\"margin-bottom: 5px;\">Universität Wien</li>')"
      ]
     },
     "metadata": {},
     "output_type": "display_data"
    },
    {
     "data": {
      "application/vnd.jupyter.widget-view+json": {
       "model_id": "9f8f631ee6314cb6a107f0b9c619e81a",
       "version_major": 2,
       "version_minor": 0
      },
      "text/plain": [
       "HTML(value='<li style=\"margin-bottom: 5px;\">Universität Innsbruck</li>')"
      ]
     },
     "metadata": {},
     "output_type": "display_data"
    },
    {
     "data": {
      "application/vnd.jupyter.widget-view+json": {
       "model_id": "c5c04519c5744492b0b71a9e5c40994c",
       "version_major": 2,
       "version_minor": 0
      },
      "text/plain": [
       "HTML(value='<li style=\"margin-bottom: 5px;\">Universität Graz</li>')"
      ]
     },
     "metadata": {},
     "output_type": "display_data"
    },
    {
     "data": {
      "application/vnd.jupyter.widget-view+json": {
       "model_id": "087030617ef8434cbf0674c20e9a6b67",
       "version_major": 2,
       "version_minor": 0
      },
      "text/plain": [
       "HTML(value='</ul>')"
      ]
     },
     "metadata": {},
     "output_type": "display_data"
    },
    {
     "data": {
      "application/vnd.jupyter.widget-view+json": {
       "model_id": "0974d4c0fa2c416b814e27738739ada2",
       "version_major": 2,
       "version_minor": 0
      },
      "text/plain": [
       "HTML(value='<h4>Vergleichbar bei der Publikationen-Struktur</h4><p style=\"line-height: 1;\">')"
      ]
     },
     "metadata": {},
     "output_type": "display_data"
    },
    {
     "data": {
      "application/vnd.jupyter.widget-view+json": {
       "model_id": "c3978897b92e4789bf5db0a277c9e492",
       "version_major": 2,
       "version_minor": 0
      },
      "text/plain": [
       "HTML(value='<strong>Universität Innsbruck</strong> (74.7%, wegen &auml;hnlicher interner Relevanz von Rechtswi…"
      ]
     },
     "metadata": {},
     "output_type": "display_data"
    },
    {
     "data": {
      "application/vnd.jupyter.widget-view+json": {
       "model_id": "037ed996f3bd489b9fde8e024935763f",
       "version_major": 2,
       "version_minor": 0
      },
      "text/plain": [
       "Image(value=b'\\x89PNG\\r\\n\\x1a\\n\\x00\\x00\\x00\\rIHDR\\x00\\x00\\x03\\xf0\\x00\\x00\\x00\\xfc\\x08\\x06\\x00\\x00\\x00\\xd0uO\\xe…"
      ]
     },
     "metadata": {},
     "output_type": "display_data"
    },
    {
     "data": {
      "application/vnd.jupyter.widget-view+json": {
       "model_id": "c2a707dbf9024fc7943a739f8210f79d",
       "version_major": 2,
       "version_minor": 0
      },
      "text/plain": [
       "HTML(value='<h4>Vergleichbar bei der Drittmittel-Struktur</h4><p style=\"line-height: 1;\">')"
      ]
     },
     "metadata": {},
     "output_type": "display_data"
    },
    {
     "data": {
      "application/vnd.jupyter.widget-view+json": {
       "model_id": "bc70f2cc930f49aeb225e13b760084a0",
       "version_major": 2,
       "version_minor": 0
      },
      "text/plain": [
       "HTML(value='<strong>Universität Wien</strong> (63.1%, wegen &auml;hnlicher interner Relevanz von Biologie, Phy…"
      ]
     },
     "metadata": {},
     "output_type": "display_data"
    },
    {
     "data": {
      "application/vnd.jupyter.widget-view+json": {
       "model_id": "9b08114ef1254c6ab8eba663ac9d68a0",
       "version_major": 2,
       "version_minor": 0
      },
      "text/plain": [
       "Image(value=b'\\x89PNG\\r\\n\\x1a\\n\\x00\\x00\\x00\\rIHDR\\x00\\x00\\x03\\xf0\\x00\\x00\\x00\\xfc\\x08\\x06\\x00\\x00\\x00\\xd0uO\\xe…"
      ]
     },
     "metadata": {},
     "output_type": "display_data"
    },
    {
     "data": {
      "application/vnd.jupyter.widget-view+json": {
       "model_id": "6611f81733e54b4680f73afb101db550",
       "version_major": 2,
       "version_minor": 0
      },
      "text/plain": [
       "HTML(value='</p><small>Universitäten mit einer Ähnlichkeit von weniger als 50% werden nicht angezeigt.</small>…"
      ]
     },
     "metadata": {},
     "output_type": "display_data"
    },
    {
     "data": {
      "application/vnd.jupyter.widget-view+json": {
       "model_id": "34c38e0f758643e4ae6b1a9ee81eee77",
       "version_major": 2,
       "version_minor": 0
      },
      "text/plain": [
       "HTML(value='<h3>Publikationen-Struktur der USA</h3>')"
      ]
     },
     "metadata": {},
     "output_type": "display_data"
    },
    {
     "data": {
      "application/vnd.jupyter.widget-view+json": {
       "model_id": "7d4464320502439fb0225884e5813627",
       "version_major": 2,
       "version_minor": 0
      },
      "text/plain": [
       "HTML(value='Angezeigt werden WZW, die zusammen 68.7% der Publikationen an der USA ausmachen. Alle anderen WZW …"
      ]
     },
     "metadata": {},
     "output_type": "display_data"
    },
    {
     "data": {
      "application/vnd.jupyter.widget-view+json": {
       "model_id": "33eb40887af042b5acaba319d35e7d29",
       "version_major": 2,
       "version_minor": 0
      },
      "text/plain": [
       "GridBox(children=(VBox(children=(HTML(value='<h4>Rechtswissenschaften</h4><ul style=\"line-height: 1;\"><li>26.9…"
      ]
     },
     "metadata": {},
     "output_type": "display_data"
    },
    {
     "data": {
      "application/vnd.jupyter.widget-view+json": {
       "model_id": "f316b47bd376484898489fc28ae33f6d",
       "version_major": 2,
       "version_minor": 0
      },
      "text/plain": [
       "HTML(value='<h3>Drittmittel-Struktur der USA</h3>')"
      ]
     },
     "metadata": {},
     "output_type": "display_data"
    },
    {
     "data": {
      "application/vnd.jupyter.widget-view+json": {
       "model_id": "cb2805b4d158453fbfe2729f1ae653b5",
       "version_major": 2,
       "version_minor": 0
      },
      "text/plain": [
       "HTML(value='Angezeigt werden WZW, die zusammen 68.6% der Drittmittel an der USA ausmachen. Alle anderen WZW tr…"
      ]
     },
     "metadata": {},
     "output_type": "display_data"
    },
    {
     "data": {
      "application/vnd.jupyter.widget-view+json": {
       "model_id": "715438018b6b49f2892c10bb7475251e",
       "version_major": 2,
       "version_minor": 0
      },
      "text/plain": [
       "GridBox(children=(VBox(children=(HTML(value='<h4>Biologie</h4><ul style=\"line-height: 1;\"><li>22.7% der Drittm…"
      ]
     },
     "metadata": {},
     "output_type": "display_data"
    },
    {
     "data": {
      "application/vnd.jupyter.widget-view+json": {
       "model_id": "88627dec9c7e4291b10553e6f1fd86eb",
       "version_major": 2,
       "version_minor": 0
      },
      "text/plain": [
       "HTML(value='<h2 style=\"page-break-before: always;\">Universität Wien</h2>')"
      ]
     },
     "metadata": {},
     "output_type": "display_data"
    },
    {
     "data": {
      "application/vnd.jupyter.widget-view+json": {
       "model_id": "f3156d70e8914d92bf0c3d639e99ec37",
       "version_major": 2,
       "version_minor": 0
      },
      "text/plain": [
       "HTML(value='<h3>Vergleichbare Universitäten in Publikationen- und Drittmittel-Struktur</h3><ul style=\"line-hei…"
      ]
     },
     "metadata": {},
     "output_type": "display_data"
    },
    {
     "data": {
      "application/vnd.jupyter.widget-view+json": {
       "model_id": "6a6695da9ec941d4abaa314f906d9f28",
       "version_major": 2,
       "version_minor": 0
      },
      "text/plain": [
       "HTML(value='<li style=\"margin-bottom: 5px;\">Universität Salzburg</li>')"
      ]
     },
     "metadata": {},
     "output_type": "display_data"
    },
    {
     "data": {
      "application/vnd.jupyter.widget-view+json": {
       "model_id": "cf5c3e34a3f347a782b961e472ae71da",
       "version_major": 2,
       "version_minor": 0
      },
      "text/plain": [
       "HTML(value='<li style=\"margin-bottom: 5px;\">Universität Innsbruck</li>')"
      ]
     },
     "metadata": {},
     "output_type": "display_data"
    },
    {
     "data": {
      "application/vnd.jupyter.widget-view+json": {
       "model_id": "275125a9366446e0ac7420f7d113c1c7",
       "version_major": 2,
       "version_minor": 0
      },
      "text/plain": [
       "HTML(value='<li style=\"margin-bottom: 5px;\">Universität Graz</li>')"
      ]
     },
     "metadata": {},
     "output_type": "display_data"
    },
    {
     "data": {
      "application/vnd.jupyter.widget-view+json": {
       "model_id": "aeedb06d668a43429ab3d1419bf826f8",
       "version_major": 2,
       "version_minor": 0
      },
      "text/plain": [
       "HTML(value='</ul>')"
      ]
     },
     "metadata": {},
     "output_type": "display_data"
    },
    {
     "data": {
      "application/vnd.jupyter.widget-view+json": {
       "model_id": "029e601bc0b64b98a53bcadd60aa1154",
       "version_major": 2,
       "version_minor": 0
      },
      "text/plain": [
       "HTML(value='<h4>Vergleichbar bei der Publikationen-Struktur</h4><p style=\"line-height: 1;\">')"
      ]
     },
     "metadata": {},
     "output_type": "display_data"
    },
    {
     "data": {
      "application/vnd.jupyter.widget-view+json": {
       "model_id": "2b74d6ebb808442aae7c158dc4b9b22b",
       "version_major": 2,
       "version_minor": 0
      },
      "text/plain": [
       "HTML(value='<strong>Universität Graz</strong> (79.0%, wegen &auml;hnlicher interner Relevanz von Sprach- und L…"
      ]
     },
     "metadata": {},
     "output_type": "display_data"
    },
    {
     "data": {
      "application/vnd.jupyter.widget-view+json": {
       "model_id": "9638ed0148b14e5eae4821d0e685aa73",
       "version_major": 2,
       "version_minor": 0
      },
      "text/plain": [
       "Image(value=b'\\x89PNG\\r\\n\\x1a\\n\\x00\\x00\\x00\\rIHDR\\x00\\x00\\x03\\xf0\\x00\\x00\\x00\\xfc\\x08\\x06\\x00\\x00\\x00\\xd0uO\\xe…"
      ]
     },
     "metadata": {},
     "output_type": "display_data"
    },
    {
     "data": {
      "application/vnd.jupyter.widget-view+json": {
       "model_id": "dd0c174538574cee8e82f6f7b2a10282",
       "version_major": 2,
       "version_minor": 0
      },
      "text/plain": [
       "HTML(value='<h4>Vergleichbar bei der Drittmittel-Struktur</h4><p style=\"line-height: 1;\">')"
      ]
     },
     "metadata": {},
     "output_type": "display_data"
    },
    {
     "data": {
      "application/vnd.jupyter.widget-view+json": {
       "model_id": "f5e819bd005c4c8fa7d35d73bfba9c53",
       "version_major": 2,
       "version_minor": 0
      },
      "text/plain": [
       "HTML(value='<strong>Universität Graz</strong> (70.6%, wegen &auml;hnlicher interner Relevanz von Biologie, Phy…"
      ]
     },
     "metadata": {},
     "output_type": "display_data"
    },
    {
     "data": {
      "application/vnd.jupyter.widget-view+json": {
       "model_id": "5249ed570e4b4428a9d8c885521f0691",
       "version_major": 2,
       "version_minor": 0
      },
      "text/plain": [
       "Image(value=b'\\x89PNG\\r\\n\\x1a\\n\\x00\\x00\\x00\\rIHDR\\x00\\x00\\x03\\xf0\\x00\\x00\\x00\\xfc\\x08\\x06\\x00\\x00\\x00\\xd0uO\\xe…"
      ]
     },
     "metadata": {},
     "output_type": "display_data"
    },
    {
     "data": {
      "application/vnd.jupyter.widget-view+json": {
       "model_id": "bc15841b061149bebb697b13c6c448a8",
       "version_major": 2,
       "version_minor": 0
      },
      "text/plain": [
       "HTML(value='</p><small>Universitäten mit einer Ähnlichkeit von weniger als 50% werden nicht angezeigt.</small>…"
      ]
     },
     "metadata": {},
     "output_type": "display_data"
    },
    {
     "data": {
      "application/vnd.jupyter.widget-view+json": {
       "model_id": "b67ee6835111418188c2edf58dd5229e",
       "version_major": 2,
       "version_minor": 0
      },
      "text/plain": [
       "HTML(value='<h3>Publikationen-Struktur der UWI</h3>')"
      ]
     },
     "metadata": {},
     "output_type": "display_data"
    },
    {
     "data": {
      "application/vnd.jupyter.widget-view+json": {
       "model_id": "7402b96dda7d43cab7c7a042fcb9b612",
       "version_major": 2,
       "version_minor": 0
      },
      "text/plain": [
       "HTML(value='Angezeigt werden WZW, die zusammen 66.7% der Publikationen an der UWI ausmachen. Alle anderen WZW …"
      ]
     },
     "metadata": {},
     "output_type": "display_data"
    },
    {
     "data": {
      "application/vnd.jupyter.widget-view+json": {
       "model_id": "6dfd63d87df04f43b2d2625417316ad3",
       "version_major": 2,
       "version_minor": 0
      },
      "text/plain": [
       "GridBox(children=(VBox(children=(HTML(value='<h4>Philosophie, Ethik, Religion</h4><ul style=\"line-height: 1;\">…"
      ]
     },
     "metadata": {},
     "output_type": "display_data"
    },
    {
     "data": {
      "application/vnd.jupyter.widget-view+json": {
       "model_id": "df19cc9c16ee4647917e3725f35349d4",
       "version_major": 2,
       "version_minor": 0
      },
      "text/plain": [
       "HTML(value='<h3>Drittmittel-Struktur der UWI</h3>')"
      ]
     },
     "metadata": {},
     "output_type": "display_data"
    },
    {
     "data": {
      "application/vnd.jupyter.widget-view+json": {
       "model_id": "bc396189c7314de180240bb9dbe06731",
       "version_major": 2,
       "version_minor": 0
      },
      "text/plain": [
       "HTML(value='Angezeigt werden WZW, die zusammen 67.8% der Drittmittel an der UWI ausmachen. Alle anderen WZW tr…"
      ]
     },
     "metadata": {},
     "output_type": "display_data"
    },
    {
     "data": {
      "application/vnd.jupyter.widget-view+json": {
       "model_id": "fc57e68833934eebb6cd5283cac763c6",
       "version_major": 2,
       "version_minor": 0
      },
      "text/plain": [
       "GridBox(children=(VBox(children=(HTML(value='<h4>Biologie</h4><ul style=\"line-height: 1;\"><li>20.0% der Drittm…"
      ]
     },
     "metadata": {},
     "output_type": "display_data"
    },
    {
     "data": {
      "application/vnd.jupyter.widget-view+json": {
       "model_id": "6a29390523fc464d8666e21160f30719",
       "version_major": 2,
       "version_minor": 0
      },
      "text/plain": [
       "HTML(value='<h2 style=\"page-break-before: always;\">Universität für Bodenkultur Wien</h2>')"
      ]
     },
     "metadata": {},
     "output_type": "display_data"
    },
    {
     "data": {
      "application/vnd.jupyter.widget-view+json": {
       "model_id": "aea36cfd2ac848e78159a1a3087b81f0",
       "version_major": 2,
       "version_minor": 0
      },
      "text/plain": [
       "HTML(value='<h3>Vergleichbare Universitäten in Publikationen- und Drittmittel-Struktur</h3><ul style=\"line-hei…"
      ]
     },
     "metadata": {},
     "output_type": "display_data"
    },
    {
     "data": {
      "application/vnd.jupyter.widget-view+json": {
       "model_id": "3ad439da96744e18baf5ddf6526bc81d",
       "version_major": 2,
       "version_minor": 0
      },
      "text/plain": [
       "HTML(value='<li><strong>Keine.</strong> Die Universität für Bodenkultur Wien ist stark spezialisiert.</li>')"
      ]
     },
     "metadata": {},
     "output_type": "display_data"
    },
    {
     "data": {
      "application/vnd.jupyter.widget-view+json": {
       "model_id": "e6a9d4f171794bf3a75b91ac1e4fff09",
       "version_major": 2,
       "version_minor": 0
      },
      "text/plain": [
       "HTML(value='</ul>')"
      ]
     },
     "metadata": {},
     "output_type": "display_data"
    },
    {
     "data": {
      "application/vnd.jupyter.widget-view+json": {
       "model_id": "a5a64d795cfb4099b7a6f149cf7fab03",
       "version_major": 2,
       "version_minor": 0
      },
      "text/plain": [
       "HTML(value='<h4>Vergleichbar bei der Publikationen-Struktur</h4><p style=\"line-height: 1;\">')"
      ]
     },
     "metadata": {},
     "output_type": "display_data"
    },
    {
     "data": {
      "application/vnd.jupyter.widget-view+json": {
       "model_id": "f8be7ef3b36640c0804e069d4924936c",
       "version_major": 2,
       "version_minor": 0
      },
      "text/plain": [
       "HTML(value='Die Universität für Bodenkultur Wien ist im Bereich Publikationen spezialisiert.<br/><strong>Keine…"
      ]
     },
     "metadata": {},
     "output_type": "display_data"
    },
    {
     "data": {
      "application/vnd.jupyter.widget-view+json": {
       "model_id": "64ff7ccf3c204256a2fc75ed70386051",
       "version_major": 2,
       "version_minor": 0
      },
      "text/plain": [
       "HTML(value='<h4>Vergleichbar bei der Drittmittel-Struktur</h4><p style=\"line-height: 1;\">')"
      ]
     },
     "metadata": {},
     "output_type": "display_data"
    },
    {
     "data": {
      "application/vnd.jupyter.widget-view+json": {
       "model_id": "e8a6c25d9990413283b8d936136a8063",
       "version_major": 2,
       "version_minor": 0
      },
      "text/plain": [
       "HTML(value='Die Universität für Bodenkultur Wien ist im Bereich Drittmittel spezialisiert.<br/><strong>Keine</…"
      ]
     },
     "metadata": {},
     "output_type": "display_data"
    },
    {
     "data": {
      "application/vnd.jupyter.widget-view+json": {
       "model_id": "dd5428b4720f4e0aade3ab1d1ea5e4b9",
       "version_major": 2,
       "version_minor": 0
      },
      "text/plain": [
       "HTML(value='</p><small>Universitäten mit einer Ähnlichkeit von weniger als 50% werden nicht angezeigt.</small>…"
      ]
     },
     "metadata": {},
     "output_type": "display_data"
    },
    {
     "data": {
      "application/vnd.jupyter.widget-view+json": {
       "model_id": "1167f78a54ba4d54834a1ae3cb40c448",
       "version_major": 2,
       "version_minor": 0
      },
      "text/plain": [
       "HTML(value='<h3>Publikationen-Struktur der BKW</h3>')"
      ]
     },
     "metadata": {},
     "output_type": "display_data"
    },
    {
     "data": {
      "application/vnd.jupyter.widget-view+json": {
       "model_id": "99994192e11f4155bd92169f9c7c5d86",
       "version_major": 2,
       "version_minor": 0
      },
      "text/plain": [
       "HTML(value='Angezeigt werden WZW, die zusammen 69.3% der Publikationen an der BKW ausmachen. Alle anderen WZW …"
      ]
     },
     "metadata": {},
     "output_type": "display_data"
    },
    {
     "data": {
      "application/vnd.jupyter.widget-view+json": {
       "model_id": "0bfd73cc7d6d43309b0c743a6b60bbfb",
       "version_major": 2,
       "version_minor": 0
      },
      "text/plain": [
       "GridBox(children=(VBox(children=(HTML(value='<h4>Biologie</h4><ul style=\"line-height: 1;\"><li>14.8% der Publik…"
      ]
     },
     "metadata": {},
     "output_type": "display_data"
    },
    {
     "data": {
      "application/vnd.jupyter.widget-view+json": {
       "model_id": "bce41bc1df6a41a2a1114518dcc6126a",
       "version_major": 2,
       "version_minor": 0
      },
      "text/plain": [
       "HTML(value='<h3>Drittmittel-Struktur der BKW</h3>')"
      ]
     },
     "metadata": {},
     "output_type": "display_data"
    },
    {
     "data": {
      "application/vnd.jupyter.widget-view+json": {
       "model_id": "6936ebecad8946f8a5709eb418abec23",
       "version_major": 2,
       "version_minor": 0
      },
      "text/plain": [
       "HTML(value='Angezeigt werden WZW, die zusammen 67.0% der Drittmittel an der BKW ausmachen. Alle anderen WZW tr…"
      ]
     },
     "metadata": {},
     "output_type": "display_data"
    },
    {
     "data": {
      "application/vnd.jupyter.widget-view+json": {
       "model_id": "e7b1553e41064b8089cb3a59f5b72fab",
       "version_major": 2,
       "version_minor": 0
      },
      "text/plain": [
       "GridBox(children=(VBox(children=(HTML(value='<h4>Biologie</h4><ul style=\"line-height: 1;\"><li>18.4% der Drittm…"
      ]
     },
     "metadata": {},
     "output_type": "display_data"
    },
    {
     "data": {
      "application/vnd.jupyter.widget-view+json": {
       "model_id": "5d41e98fd06b476498cfae66cc26c876",
       "version_major": 2,
       "version_minor": 0
      },
      "text/plain": [
       "HTML(value='<h2 style=\"page-break-before: always;\">Universität für Musik und darstellende Kunst Graz</h2>')"
      ]
     },
     "metadata": {},
     "output_type": "display_data"
    },
    {
     "data": {
      "application/vnd.jupyter.widget-view+json": {
       "model_id": "1f1941b038234ace8deb6220b62223f7",
       "version_major": 2,
       "version_minor": 0
      },
      "text/plain": [
       "HTML(value='<h3>Vergleichbare Universitäten in Publikationen- und Drittmittel-Struktur</h3><ul style=\"line-hei…"
      ]
     },
     "metadata": {},
     "output_type": "display_data"
    },
    {
     "data": {
      "application/vnd.jupyter.widget-view+json": {
       "model_id": "ef3217ff0c934efc92c481f083912160",
       "version_major": 2,
       "version_minor": 0
      },
      "text/plain": [
       "HTML(value='<li><strong>Keine.</strong> Die Universität für Musik und darstellende Kunst Graz ist stark spezia…"
      ]
     },
     "metadata": {},
     "output_type": "display_data"
    },
    {
     "data": {
      "application/vnd.jupyter.widget-view+json": {
       "model_id": "512735c6662e4485a01d553b8d67d458",
       "version_major": 2,
       "version_minor": 0
      },
      "text/plain": [
       "HTML(value='</ul>')"
      ]
     },
     "metadata": {},
     "output_type": "display_data"
    },
    {
     "data": {
      "application/vnd.jupyter.widget-view+json": {
       "model_id": "4fe0682a69b343688673b39680ac5ac7",
       "version_major": 2,
       "version_minor": 0
      },
      "text/plain": [
       "HTML(value='<h4>Vergleichbar bei der Publikationen-Struktur</h4><p style=\"line-height: 1;\">')"
      ]
     },
     "metadata": {},
     "output_type": "display_data"
    },
    {
     "data": {
      "application/vnd.jupyter.widget-view+json": {
       "model_id": "4b97e7aaf9364d5f98074a3d516be85a",
       "version_major": 2,
       "version_minor": 0
      },
      "text/plain": [
       "HTML(value='<strong>Universität für Musik und darstellende Kunst Wien</strong> (50.6%, wegen &auml;hnlicher in…"
      ]
     },
     "metadata": {},
     "output_type": "display_data"
    },
    {
     "data": {
      "application/vnd.jupyter.widget-view+json": {
       "model_id": "e1feb64e31be4eabb7d038094f2a24ff",
       "version_major": 2,
       "version_minor": 0
      },
      "text/plain": [
       "Image(value=b'\\x89PNG\\r\\n\\x1a\\n\\x00\\x00\\x00\\rIHDR\\x00\\x00\\x03\\xf0\\x00\\x00\\x00\\xfc\\x08\\x06\\x00\\x00\\x00\\xd0uO\\xe…"
      ]
     },
     "metadata": {},
     "output_type": "display_data"
    },
    {
     "data": {
      "application/vnd.jupyter.widget-view+json": {
       "model_id": "5d569be881644e409293d0f5ef3b2e4c",
       "version_major": 2,
       "version_minor": 0
      },
      "text/plain": [
       "HTML(value='<h4>Vergleichbar bei der Drittmittel-Struktur</h4><p style=\"line-height: 1;\">')"
      ]
     },
     "metadata": {},
     "output_type": "display_data"
    },
    {
     "data": {
      "application/vnd.jupyter.widget-view+json": {
       "model_id": "4363f99487bb406ca0d6d038748c08bf",
       "version_major": 2,
       "version_minor": 0
      },
      "text/plain": [
       "HTML(value='Die Universität für Musik und darstellende Kunst Graz ist im Bereich Drittmittel spezialisiert.<br…"
      ]
     },
     "metadata": {},
     "output_type": "display_data"
    },
    {
     "data": {
      "application/vnd.jupyter.widget-view+json": {
       "model_id": "bdc52bcb8006468096bb3e16b017e7fe",
       "version_major": 2,
       "version_minor": 0
      },
      "text/plain": [
       "HTML(value='</p><small>Universitäten mit einer Ähnlichkeit von weniger als 50% werden nicht angezeigt.</small>…"
      ]
     },
     "metadata": {},
     "output_type": "display_data"
    },
    {
     "data": {
      "application/vnd.jupyter.widget-view+json": {
       "model_id": "3277977113424e89b3968296e1526a45",
       "version_major": 2,
       "version_minor": 0
      },
      "text/plain": [
       "HTML(value='<h3>Publikationen-Struktur der MKG</h3>')"
      ]
     },
     "metadata": {},
     "output_type": "display_data"
    },
    {
     "data": {
      "application/vnd.jupyter.widget-view+json": {
       "model_id": "9d9a62e0117d4c63a3c26c15f8934715",
       "version_major": 2,
       "version_minor": 0
      },
      "text/plain": [
       "HTML(value='Angezeigt werden WZW, die zusammen 67.4% der Publikationen an der MKG ausmachen. Alle anderen WZW …"
      ]
     },
     "metadata": {},
     "output_type": "display_data"
    },
    {
     "data": {
      "application/vnd.jupyter.widget-view+json": {
       "model_id": "7b8befbdfb0444b28f961361916809f0",
       "version_major": 2,
       "version_minor": 0
      },
      "text/plain": [
       "GridBox(children=(VBox(children=(HTML(value='<h4>Kunstwissenschaften</h4><ul style=\"line-height: 1;\"><li>31.2%…"
      ]
     },
     "metadata": {},
     "output_type": "display_data"
    },
    {
     "data": {
      "application/vnd.jupyter.widget-view+json": {
       "model_id": "a95accef8acf47df97f49d9a3e626156",
       "version_major": 2,
       "version_minor": 0
      },
      "text/plain": [
       "HTML(value='<h3>Drittmittel-Struktur der MKG</h3>')"
      ]
     },
     "metadata": {},
     "output_type": "display_data"
    },
    {
     "data": {
      "application/vnd.jupyter.widget-view+json": {
       "model_id": "ef8df585e02f4c3697ffd23770ba2e22",
       "version_major": 2,
       "version_minor": 0
      },
      "text/plain": [
       "HTML(value='Angezeigt werden WZW, die zusammen 76.8% der Drittmittel an der MKG ausmachen. Alle anderen WZW tr…"
      ]
     },
     "metadata": {},
     "output_type": "display_data"
    },
    {
     "data": {
      "application/vnd.jupyter.widget-view+json": {
       "model_id": "e15090df7a934ac08a91a8f03cf83c1e",
       "version_major": 2,
       "version_minor": 0
      },
      "text/plain": [
       "GridBox(children=(VBox(children=(HTML(value='<h4>Kunstwissenschaften</h4><ul style=\"line-height: 1;\"><li>20.9%…"
      ]
     },
     "metadata": {},
     "output_type": "display_data"
    },
    {
     "data": {
      "application/vnd.jupyter.widget-view+json": {
       "model_id": "6f4cd298d59e471eb045c15fd2379d98",
       "version_major": 2,
       "version_minor": 0
      },
      "text/plain": [
       "HTML(value='<h2 style=\"page-break-before: always;\">Universität für Musik und darstellende Kunst Wien</h2>')"
      ]
     },
     "metadata": {},
     "output_type": "display_data"
    },
    {
     "data": {
      "application/vnd.jupyter.widget-view+json": {
       "model_id": "cdd7973da0b54351af772eb764369404",
       "version_major": 2,
       "version_minor": 0
      },
      "text/plain": [
       "HTML(value='<h3>Vergleichbare Universitäten in Publikationen- und Drittmittel-Struktur</h3><ul style=\"line-hei…"
      ]
     },
     "metadata": {},
     "output_type": "display_data"
    },
    {
     "data": {
      "application/vnd.jupyter.widget-view+json": {
       "model_id": "cbde29edac284955b414a7b22c7ec835",
       "version_major": 2,
       "version_minor": 0
      },
      "text/plain": [
       "HTML(value='<li><strong>Keine.</strong> Die Universität für Musik und darstellende Kunst Wien ist stark spezia…"
      ]
     },
     "metadata": {},
     "output_type": "display_data"
    },
    {
     "data": {
      "application/vnd.jupyter.widget-view+json": {
       "model_id": "45ca6794500e48ee826e2572e7a1c280",
       "version_major": 2,
       "version_minor": 0
      },
      "text/plain": [
       "HTML(value='</ul>')"
      ]
     },
     "metadata": {},
     "output_type": "display_data"
    },
    {
     "data": {
      "application/vnd.jupyter.widget-view+json": {
       "model_id": "d774fe9c28ad409c8fb7ec4ee6e7967d",
       "version_major": 2,
       "version_minor": 0
      },
      "text/plain": [
       "HTML(value='<h4>Vergleichbar bei der Publikationen-Struktur</h4><p style=\"line-height: 1;\">')"
      ]
     },
     "metadata": {},
     "output_type": "display_data"
    },
    {
     "data": {
      "application/vnd.jupyter.widget-view+json": {
       "model_id": "686aba23cc374cffa47f2bda80c0cc9e",
       "version_major": 2,
       "version_minor": 0
      },
      "text/plain": [
       "HTML(value='<strong>Universität für Musik und darstellende Kunst Graz</strong> (50.6%, wegen &auml;hnlicher in…"
      ]
     },
     "metadata": {},
     "output_type": "display_data"
    },
    {
     "data": {
      "application/vnd.jupyter.widget-view+json": {
       "model_id": "e41f324eb31c4b63ad58a87101425a39",
       "version_major": 2,
       "version_minor": 0
      },
      "text/plain": [
       "Image(value=b'\\x89PNG\\r\\n\\x1a\\n\\x00\\x00\\x00\\rIHDR\\x00\\x00\\x03\\xf0\\x00\\x00\\x00\\xfc\\x08\\x06\\x00\\x00\\x00\\xd0uO\\xe…"
      ]
     },
     "metadata": {},
     "output_type": "display_data"
    },
    {
     "data": {
      "application/vnd.jupyter.widget-view+json": {
       "model_id": "e3aaf9cdc0534df9b7c530ea77957c72",
       "version_major": 2,
       "version_minor": 0
      },
      "text/plain": [
       "HTML(value='<h4>Vergleichbar bei der Drittmittel-Struktur</h4><p style=\"line-height: 1;\">')"
      ]
     },
     "metadata": {},
     "output_type": "display_data"
    },
    {
     "data": {
      "application/vnd.jupyter.widget-view+json": {
       "model_id": "355c99f148a24c1a81c3ad17aec4ac9f",
       "version_major": 2,
       "version_minor": 0
      },
      "text/plain": [
       "HTML(value='Die Universität für Musik und darstellende Kunst Wien ist im Bereich Drittmittel spezialisiert.<br…"
      ]
     },
     "metadata": {},
     "output_type": "display_data"
    },
    {
     "data": {
      "application/vnd.jupyter.widget-view+json": {
       "model_id": "e74f0122dbab47e3b472dbb50a61a318",
       "version_major": 2,
       "version_minor": 0
      },
      "text/plain": [
       "HTML(value='</p><small>Universitäten mit einer Ähnlichkeit von weniger als 50% werden nicht angezeigt.</small>…"
      ]
     },
     "metadata": {},
     "output_type": "display_data"
    },
    {
     "data": {
      "application/vnd.jupyter.widget-view+json": {
       "model_id": "849385d3319b49fc991cd1849ef814de",
       "version_major": 2,
       "version_minor": 0
      },
      "text/plain": [
       "HTML(value='<h3>Publikationen-Struktur der MKW</h3>')"
      ]
     },
     "metadata": {},
     "output_type": "display_data"
    },
    {
     "data": {
      "application/vnd.jupyter.widget-view+json": {
       "model_id": "b354c99e0b61499686f4b4968040342a",
       "version_major": 2,
       "version_minor": 0
      },
      "text/plain": [
       "HTML(value='Angezeigt werden WZW, die zusammen 71.0% der Publikationen an der MKW ausmachen. Alle anderen WZW …"
      ]
     },
     "metadata": {},
     "output_type": "display_data"
    },
    {
     "data": {
      "application/vnd.jupyter.widget-view+json": {
       "model_id": "f9d0a148c2dd41ce8e775aa9f6899ec6",
       "version_major": 2,
       "version_minor": 0
      },
      "text/plain": [
       "GridBox(children=(VBox(children=(HTML(value='<h4>Kunstwissenschaften</h4><ul style=\"line-height: 1;\"><li>27.6%…"
      ]
     },
     "metadata": {},
     "output_type": "display_data"
    },
    {
     "data": {
      "application/vnd.jupyter.widget-view+json": {
       "model_id": "b0ac89c4dfd94340af385d701355de0f",
       "version_major": 2,
       "version_minor": 0
      },
      "text/plain": [
       "HTML(value='<h3>Drittmittel-Struktur der MKW</h3>')"
      ]
     },
     "metadata": {},
     "output_type": "display_data"
    },
    {
     "data": {
      "application/vnd.jupyter.widget-view+json": {
       "model_id": "531c0e1451c34b5495237e96cdc1de34",
       "version_major": 2,
       "version_minor": 0
      },
      "text/plain": [
       "HTML(value='Angezeigt werden WZW, die zusammen 68.5% der Drittmittel an der MKW ausmachen. Alle anderen WZW tr…"
      ]
     },
     "metadata": {},
     "output_type": "display_data"
    },
    {
     "data": {
      "application/vnd.jupyter.widget-view+json": {
       "model_id": "f22bdafee6554bd1864b793ce2f8ad7e",
       "version_major": 2,
       "version_minor": 0
      },
      "text/plain": [
       "GridBox(children=(VBox(children=(HTML(value='<h4>Kunstwissenschaften</h4><ul style=\"line-height: 1;\"><li>33.8%…"
      ]
     },
     "metadata": {},
     "output_type": "display_data"
    },
    {
     "data": {
      "application/vnd.jupyter.widget-view+json": {
       "model_id": "526c8238c20b4cfa9b86489ac05d69f8",
       "version_major": 2,
       "version_minor": 0
      },
      "text/plain": [
       "HTML(value='<h2 style=\"page-break-before: always;\">Universität für Weiterbildung Krems</h2>')"
      ]
     },
     "metadata": {},
     "output_type": "display_data"
    },
    {
     "data": {
      "application/vnd.jupyter.widget-view+json": {
       "model_id": "eefd60bc24324b2eb78417ee47fbf0b0",
       "version_major": 2,
       "version_minor": 0
      },
      "text/plain": [
       "HTML(value='<h3>Vergleichbare Universitäten in Publikationen- und Drittmittel-Struktur</h3><ul style=\"line-hei…"
      ]
     },
     "metadata": {},
     "output_type": "display_data"
    },
    {
     "data": {
      "application/vnd.jupyter.widget-view+json": {
       "model_id": "bbb507ede28d4c629f952ead5689bbae",
       "version_major": 2,
       "version_minor": 0
      },
      "text/plain": [
       "HTML(value='<li><strong>Keine.</strong> Die Universität für Weiterbildung Krems ist stark spezialisiert.</li>'…"
      ]
     },
     "metadata": {},
     "output_type": "display_data"
    },
    {
     "data": {
      "application/vnd.jupyter.widget-view+json": {
       "model_id": "af5f0b97382148e48f54eae6136052b2",
       "version_major": 2,
       "version_minor": 0
      },
      "text/plain": [
       "HTML(value='</ul>')"
      ]
     },
     "metadata": {},
     "output_type": "display_data"
    },
    {
     "data": {
      "application/vnd.jupyter.widget-view+json": {
       "model_id": "19ed0216f9e74a1e9f558862422cbd3c",
       "version_major": 2,
       "version_minor": 0
      },
      "text/plain": [
       "HTML(value='<h4>Vergleichbar bei der Publikationen-Struktur</h4><p style=\"line-height: 1;\">')"
      ]
     },
     "metadata": {},
     "output_type": "display_data"
    },
    {
     "data": {
      "application/vnd.jupyter.widget-view+json": {
       "model_id": "150a5f74f09e4a69a766e7654de03e3b",
       "version_major": 2,
       "version_minor": 0
      },
      "text/plain": [
       "HTML(value='<strong>Universität Salzburg</strong> (54.6%, wegen &auml;hnlicher interner Relevanz von Rechtswis…"
      ]
     },
     "metadata": {},
     "output_type": "display_data"
    },
    {
     "data": {
      "application/vnd.jupyter.widget-view+json": {
       "model_id": "67d4baac464a4cbaa64cc92829100390",
       "version_major": 2,
       "version_minor": 0
      },
      "text/plain": [
       "Image(value=b'\\x89PNG\\r\\n\\x1a\\n\\x00\\x00\\x00\\rIHDR\\x00\\x00\\x03\\xf0\\x00\\x00\\x00\\xfc\\x08\\x06\\x00\\x00\\x00\\xd0uO\\xe…"
      ]
     },
     "metadata": {},
     "output_type": "display_data"
    },
    {
     "data": {
      "application/vnd.jupyter.widget-view+json": {
       "model_id": "27ca5914cde04c90b52a009615ed4530",
       "version_major": 2,
       "version_minor": 0
      },
      "text/plain": [
       "HTML(value='<h4>Vergleichbar bei der Drittmittel-Struktur</h4><p style=\"line-height: 1;\">')"
      ]
     },
     "metadata": {},
     "output_type": "display_data"
    },
    {
     "data": {
      "application/vnd.jupyter.widget-view+json": {
       "model_id": "4f3f08fb6b1143b7b7361d7a3dbf490b",
       "version_major": 2,
       "version_minor": 0
      },
      "text/plain": [
       "HTML(value='Die Universität für Weiterbildung Krems ist im Bereich Drittmittel spezialisiert.<br/><strong>Kein…"
      ]
     },
     "metadata": {},
     "output_type": "display_data"
    },
    {
     "data": {
      "application/vnd.jupyter.widget-view+json": {
       "model_id": "383c2f8c6bc340c4a434d88c1aaf22aa",
       "version_major": 2,
       "version_minor": 0
      },
      "text/plain": [
       "HTML(value='</p><small>Universitäten mit einer Ähnlichkeit von weniger als 50% werden nicht angezeigt.</small>…"
      ]
     },
     "metadata": {},
     "output_type": "display_data"
    },
    {
     "data": {
      "application/vnd.jupyter.widget-view+json": {
       "model_id": "fb01a65db76d4262879c8d3e8f0f1d4b",
       "version_major": 2,
       "version_minor": 0
      },
      "text/plain": [
       "HTML(value='<h3>Publikationen-Struktur der UWK</h3>')"
      ]
     },
     "metadata": {},
     "output_type": "display_data"
    },
    {
     "data": {
      "application/vnd.jupyter.widget-view+json": {
       "model_id": "479a72c21cbf4cbaaa53a2d7e08ed0b3",
       "version_major": 2,
       "version_minor": 0
      },
      "text/plain": [
       "HTML(value='Angezeigt werden WZW, die zusammen 69.9% der Publikationen an der UWK ausmachen. Alle anderen WZW …"
      ]
     },
     "metadata": {},
     "output_type": "display_data"
    },
    {
     "data": {
      "application/vnd.jupyter.widget-view+json": {
       "model_id": "15b91be02fed4959b4c7eb88cd9dcfb4",
       "version_major": 2,
       "version_minor": 0
      },
      "text/plain": [
       "GridBox(children=(VBox(children=(HTML(value='<h4>Rechtswissenschaften</h4><ul style=\"line-height: 1;\"><li>15.6…"
      ]
     },
     "metadata": {},
     "output_type": "display_data"
    },
    {
     "data": {
      "application/vnd.jupyter.widget-view+json": {
       "model_id": "600fc1eee8b64562b346d9534692dd5f",
       "version_major": 2,
       "version_minor": 0
      },
      "text/plain": [
       "HTML(value='<h3>Drittmittel-Struktur der UWK</h3>')"
      ]
     },
     "metadata": {},
     "output_type": "display_data"
    },
    {
     "data": {
      "application/vnd.jupyter.widget-view+json": {
       "model_id": "7ac8cd3322d749c594963e4565a6e07b",
       "version_major": 2,
       "version_minor": 0
      },
      "text/plain": [
       "HTML(value='Angezeigt werden WZW, die zusammen 67.1% der Drittmittel an der UWK ausmachen. Alle anderen WZW tr…"
      ]
     },
     "metadata": {},
     "output_type": "display_data"
    },
    {
     "data": {
      "application/vnd.jupyter.widget-view+json": {
       "model_id": "59b0995293af455daa1b13ee2fc1686d",
       "version_major": 2,
       "version_minor": 0
      },
      "text/plain": [
       "GridBox(children=(VBox(children=(HTML(value='<h4>Gesundheitswissenschaften</h4><ul style=\"line-height: 1;\"><li…"
      ]
     },
     "metadata": {},
     "output_type": "display_data"
    },
    {
     "data": {
      "application/vnd.jupyter.widget-view+json": {
       "model_id": "c394466c865a46a582eb23072ed197d4",
       "version_major": 2,
       "version_minor": 0
      },
      "text/plain": [
       "HTML(value='<h2 style=\"page-break-before: always;\">Universität für angewandte Kunst Wien</h2>')"
      ]
     },
     "metadata": {},
     "output_type": "display_data"
    },
    {
     "data": {
      "application/vnd.jupyter.widget-view+json": {
       "model_id": "f1a8a15a73fc408f9996eedd187fdfe9",
       "version_major": 2,
       "version_minor": 0
      },
      "text/plain": [
       "HTML(value='<h3>Vergleichbare Universitäten in Publikationen- und Drittmittel-Struktur</h3><ul style=\"line-hei…"
      ]
     },
     "metadata": {},
     "output_type": "display_data"
    },
    {
     "data": {
      "application/vnd.jupyter.widget-view+json": {
       "model_id": "3f12a077404d471ba21cf7c7606d2f44",
       "version_major": 2,
       "version_minor": 0
      },
      "text/plain": [
       "HTML(value='<li style=\"margin-bottom: 5px;\">Akademie der bildenden Künste Wien</li>')"
      ]
     },
     "metadata": {},
     "output_type": "display_data"
    },
    {
     "data": {
      "application/vnd.jupyter.widget-view+json": {
       "model_id": "eb619f227f1b406da2cf074c53cae646",
       "version_major": 2,
       "version_minor": 0
      },
      "text/plain": [
       "HTML(value='</ul>')"
      ]
     },
     "metadata": {},
     "output_type": "display_data"
    },
    {
     "data": {
      "application/vnd.jupyter.widget-view+json": {
       "model_id": "780e2b2628914f8c8e9a94268068431e",
       "version_major": 2,
       "version_minor": 0
      },
      "text/plain": [
       "HTML(value='<h4>Vergleichbar bei der Publikationen-Struktur</h4><p style=\"line-height: 1;\">')"
      ]
     },
     "metadata": {},
     "output_type": "display_data"
    },
    {
     "data": {
      "application/vnd.jupyter.widget-view+json": {
       "model_id": "60bd3c571d674d04bf1f0882565f3d24",
       "version_major": 2,
       "version_minor": 0
      },
      "text/plain": [
       "HTML(value='<strong>Akademie der bildenden Künste Wien</strong> (53.6%, wegen &auml;hnlicher interner Relevanz…"
      ]
     },
     "metadata": {},
     "output_type": "display_data"
    },
    {
     "data": {
      "application/vnd.jupyter.widget-view+json": {
       "model_id": "eeedbe8f1db24cecad9d946ca56e1e35",
       "version_major": 2,
       "version_minor": 0
      },
      "text/plain": [
       "Image(value=b'\\x89PNG\\r\\n\\x1a\\n\\x00\\x00\\x00\\rIHDR\\x00\\x00\\x03\\xf0\\x00\\x00\\x00\\xfc\\x08\\x06\\x00\\x00\\x00\\xd0uO\\xe…"
      ]
     },
     "metadata": {},
     "output_type": "display_data"
    },
    {
     "data": {
      "application/vnd.jupyter.widget-view+json": {
       "model_id": "d4704377d8054b7985233daf08e7b377",
       "version_major": 2,
       "version_minor": 0
      },
      "text/plain": [
       "HTML(value='<h4>Vergleichbar bei der Drittmittel-Struktur</h4><p style=\"line-height: 1;\">')"
      ]
     },
     "metadata": {},
     "output_type": "display_data"
    },
    {
     "data": {
      "application/vnd.jupyter.widget-view+json": {
       "model_id": "b39e5fa781324aa2bc790020033867c8",
       "version_major": 2,
       "version_minor": 0
      },
      "text/plain": [
       "HTML(value='<strong>Akademie der bildenden Künste Wien</strong> (55.7%, wegen &auml;hnlicher interner Relevanz…"
      ]
     },
     "metadata": {},
     "output_type": "display_data"
    },
    {
     "data": {
      "application/vnd.jupyter.widget-view+json": {
       "model_id": "668f6703cf2d4874ad3132f89483c0f4",
       "version_major": 2,
       "version_minor": 0
      },
      "text/plain": [
       "Image(value=b'\\x89PNG\\r\\n\\x1a\\n\\x00\\x00\\x00\\rIHDR\\x00\\x00\\x03\\xf0\\x00\\x00\\x00\\xfc\\x08\\x06\\x00\\x00\\x00\\xd0uO\\xe…"
      ]
     },
     "metadata": {},
     "output_type": "display_data"
    },
    {
     "data": {
      "application/vnd.jupyter.widget-view+json": {
       "model_id": "26b2a81fc9a04f138b018f875a7c1036",
       "version_major": 2,
       "version_minor": 0
      },
      "text/plain": [
       "HTML(value='</p><small>Universitäten mit einer Ähnlichkeit von weniger als 50% werden nicht angezeigt.</small>…"
      ]
     },
     "metadata": {},
     "output_type": "display_data"
    },
    {
     "data": {
      "application/vnd.jupyter.widget-view+json": {
       "model_id": "e7165ec15e83410e9c375e61954f4d3a",
       "version_major": 2,
       "version_minor": 0
      },
      "text/plain": [
       "HTML(value='<h3>Publikationen-Struktur der UAW</h3>')"
      ]
     },
     "metadata": {},
     "output_type": "display_data"
    },
    {
     "data": {
      "application/vnd.jupyter.widget-view+json": {
       "model_id": "ea0ac04c68434b8aa05699de39059ad5",
       "version_major": 2,
       "version_minor": 0
      },
      "text/plain": [
       "HTML(value='Angezeigt werden WZW, die zusammen 69.4% der Publikationen an der UAW ausmachen. Alle anderen WZW …"
      ]
     },
     "metadata": {},
     "output_type": "display_data"
    },
    {
     "data": {
      "application/vnd.jupyter.widget-view+json": {
       "model_id": "9ec7749f8771426db0d5cbb2f998b917",
       "version_major": 2,
       "version_minor": 0
      },
      "text/plain": [
       "GridBox(children=(VBox(children=(HTML(value='<h4>Kunstwissenschaften</h4><ul style=\"line-height: 1;\"><li>26.2%…"
      ]
     },
     "metadata": {},
     "output_type": "display_data"
    },
    {
     "data": {
      "application/vnd.jupyter.widget-view+json": {
       "model_id": "df495814a80c4c13a68edeb2055d66a1",
       "version_major": 2,
       "version_minor": 0
      },
      "text/plain": [
       "HTML(value='<h3>Drittmittel-Struktur der UAW</h3>')"
      ]
     },
     "metadata": {},
     "output_type": "display_data"
    },
    {
     "data": {
      "application/vnd.jupyter.widget-view+json": {
       "model_id": "86d96219111a4e748ca4b871b22672e9",
       "version_major": 2,
       "version_minor": 0
      },
      "text/plain": [
       "HTML(value='Angezeigt werden WZW, die zusammen 70.1% der Drittmittel an der UAW ausmachen. Alle anderen WZW tr…"
      ]
     },
     "metadata": {},
     "output_type": "display_data"
    },
    {
     "data": {
      "application/vnd.jupyter.widget-view+json": {
       "model_id": "fd82cb24c2f34ed3a184d066ec79efc5",
       "version_major": 2,
       "version_minor": 0
      },
      "text/plain": [
       "GridBox(children=(VBox(children=(HTML(value='<h4>Kunstwissenschaften</h4><ul style=\"line-height: 1;\"><li>28.2%…"
      ]
     },
     "metadata": {},
     "output_type": "display_data"
    },
    {
     "data": {
      "application/vnd.jupyter.widget-view+json": {
       "model_id": "efa48ae6dd424b8095a040b7ebabce3a",
       "version_major": 2,
       "version_minor": 0
      },
      "text/plain": [
       "HTML(value='<h2 style=\"page-break-before: always;\">Universität für künstlerische und industrielle Gestaltung L…"
      ]
     },
     "metadata": {},
     "output_type": "display_data"
    },
    {
     "data": {
      "application/vnd.jupyter.widget-view+json": {
       "model_id": "b2ffb48abb37422cb6c1444d8b41dfb7",
       "version_major": 2,
       "version_minor": 0
      },
      "text/plain": [
       "HTML(value='<h3>Vergleichbare Universitäten in Publikationen- und Drittmittel-Struktur</h3><ul style=\"line-hei…"
      ]
     },
     "metadata": {},
     "output_type": "display_data"
    },
    {
     "data": {
      "application/vnd.jupyter.widget-view+json": {
       "model_id": "4bf37ab198bc42ae8824cff1c801d778",
       "version_major": 2,
       "version_minor": 0
      },
      "text/plain": [
       "HTML(value='<li><strong>Keine.</strong> Die Universität für künstlerische und industrielle Gestaltung Linz ist…"
      ]
     },
     "metadata": {},
     "output_type": "display_data"
    },
    {
     "data": {
      "application/vnd.jupyter.widget-view+json": {
       "model_id": "22367659efd54d65932a23c26ea9d4b6",
       "version_major": 2,
       "version_minor": 0
      },
      "text/plain": [
       "HTML(value='</ul>')"
      ]
     },
     "metadata": {},
     "output_type": "display_data"
    },
    {
     "data": {
      "application/vnd.jupyter.widget-view+json": {
       "model_id": "4cd0f71d266c418b8be587a41d293277",
       "version_major": 2,
       "version_minor": 0
      },
      "text/plain": [
       "HTML(value='<h4>Vergleichbar bei der Publikationen-Struktur</h4><p style=\"line-height: 1;\">')"
      ]
     },
     "metadata": {},
     "output_type": "display_data"
    },
    {
     "data": {
      "application/vnd.jupyter.widget-view+json": {
       "model_id": "028b2f96a1ce49f0b3d5ed11c2e823f9",
       "version_major": 2,
       "version_minor": 0
      },
      "text/plain": [
       "HTML(value='Die Universität für künstlerische und industrielle Gestaltung Linz ist im Bereich Publikationen sp…"
      ]
     },
     "metadata": {},
     "output_type": "display_data"
    },
    {
     "data": {
      "application/vnd.jupyter.widget-view+json": {
       "model_id": "b445e3ec22c546259a4ae950d11bd053",
       "version_major": 2,
       "version_minor": 0
      },
      "text/plain": [
       "HTML(value='<h4>Vergleichbar bei der Drittmittel-Struktur</h4><p style=\"line-height: 1;\">')"
      ]
     },
     "metadata": {},
     "output_type": "display_data"
    },
    {
     "data": {
      "application/vnd.jupyter.widget-view+json": {
       "model_id": "0e723797ce6545838ff47e7e4578c64e",
       "version_major": 2,
       "version_minor": 0
      },
      "text/plain": [
       "HTML(value='Die Universität für künstlerische und industrielle Gestaltung Linz ist im Bereich Drittmittel spez…"
      ]
     },
     "metadata": {},
     "output_type": "display_data"
    },
    {
     "data": {
      "application/vnd.jupyter.widget-view+json": {
       "model_id": "488a2133cbcc48658392b9ac2bcb7f1f",
       "version_major": 2,
       "version_minor": 0
      },
      "text/plain": [
       "HTML(value='</p><small>Universitäten mit einer Ähnlichkeit von weniger als 50% werden nicht angezeigt.</small>…"
      ]
     },
     "metadata": {},
     "output_type": "display_data"
    },
    {
     "data": {
      "application/vnd.jupyter.widget-view+json": {
       "model_id": "f622523b19e141fcaf6fd5ba82ee5d73",
       "version_major": 2,
       "version_minor": 0
      },
      "text/plain": [
       "HTML(value='<h3>Publikationen-Struktur der UGL</h3>')"
      ]
     },
     "metadata": {},
     "output_type": "display_data"
    },
    {
     "data": {
      "application/vnd.jupyter.widget-view+json": {
       "model_id": "d316619cb94a4fdda2d57ab64e8f9907",
       "version_major": 2,
       "version_minor": 0
      },
      "text/plain": [
       "HTML(value='Angezeigt werden WZW, die zusammen 71.7% der Publikationen an der UGL ausmachen. Alle anderen WZW …"
      ]
     },
     "metadata": {},
     "output_type": "display_data"
    },
    {
     "data": {
      "application/vnd.jupyter.widget-view+json": {
       "model_id": "69d73091dc2a45a99ac9d0d714cceebe",
       "version_major": 2,
       "version_minor": 0
      },
      "text/plain": [
       "GridBox(children=(VBox(children=(HTML(value='<h4>Soziologie</h4><ul style=\"line-height: 1;\"><li>34.1% der Publ…"
      ]
     },
     "metadata": {},
     "output_type": "display_data"
    },
    {
     "data": {
      "application/vnd.jupyter.widget-view+json": {
       "model_id": "3ede2fbe834f4414b6e9e528307f750a",
       "version_major": 2,
       "version_minor": 0
      },
      "text/plain": [
       "HTML(value='<h3>Drittmittel-Struktur der UGL</h3>')"
      ]
     },
     "metadata": {},
     "output_type": "display_data"
    },
    {
     "data": {
      "application/vnd.jupyter.widget-view+json": {
       "model_id": "0f3d3ba6397745daa12d321c4733122f",
       "version_major": 2,
       "version_minor": 0
      },
      "text/plain": [
       "HTML(value='Angezeigt werden WZW, die zusammen 74.3% der Drittmittel an der UGL ausmachen. Alle anderen WZW tr…"
      ]
     },
     "metadata": {},
     "output_type": "display_data"
    },
    {
     "data": {
      "application/vnd.jupyter.widget-view+json": {
       "model_id": "984dc51b9e1e4fe1806fb7eb6556ad64",
       "version_major": 2,
       "version_minor": 0
      },
      "text/plain": [
       "GridBox(children=(VBox(children=(HTML(value='<h4>Architektur</h4><ul style=\"line-height: 1;\"><li>37.0% der Dri…"
      ]
     },
     "metadata": {},
     "output_type": "display_data"
    },
    {
     "data": {
      "application/vnd.jupyter.widget-view+json": {
       "model_id": "b657c5054f644abea98b7e27fb530514",
       "version_major": 2,
       "version_minor": 0
      },
      "text/plain": [
       "HTML(value='<h2 style=\"page-break-before: always;\">Veterinärmedizinische Universität Wien</h2>')"
      ]
     },
     "metadata": {},
     "output_type": "display_data"
    },
    {
     "data": {
      "application/vnd.jupyter.widget-view+json": {
       "model_id": "6d8228aadb45495d897d9cd10126575e",
       "version_major": 2,
       "version_minor": 0
      },
      "text/plain": [
       "HTML(value='<h3>Vergleichbare Universitäten in Publikationen- und Drittmittel-Struktur</h3><ul style=\"line-hei…"
      ]
     },
     "metadata": {},
     "output_type": "display_data"
    },
    {
     "data": {
      "application/vnd.jupyter.widget-view+json": {
       "model_id": "c5c6f80043c34cf5b2822898e27f2fb8",
       "version_major": 2,
       "version_minor": 0
      },
      "text/plain": [
       "HTML(value='<li><strong>Keine.</strong> Die Veterinärmedizinische Universität Wien ist stark spezialisiert.</l…"
      ]
     },
     "metadata": {},
     "output_type": "display_data"
    },
    {
     "data": {
      "application/vnd.jupyter.widget-view+json": {
       "model_id": "96663852668b4b0bae023b3d543d1f54",
       "version_major": 2,
       "version_minor": 0
      },
      "text/plain": [
       "HTML(value='</ul>')"
      ]
     },
     "metadata": {},
     "output_type": "display_data"
    },
    {
     "data": {
      "application/vnd.jupyter.widget-view+json": {
       "model_id": "0c1c7a7e88ff4ea4a4c247ec7022d556",
       "version_major": 2,
       "version_minor": 0
      },
      "text/plain": [
       "HTML(value='<h4>Vergleichbar bei der Publikationen-Struktur</h4><p style=\"line-height: 1;\">')"
      ]
     },
     "metadata": {},
     "output_type": "display_data"
    },
    {
     "data": {
      "application/vnd.jupyter.widget-view+json": {
       "model_id": "31da6ae6fb6c4bacad422c9c31e69f80",
       "version_major": 2,
       "version_minor": 0
      },
      "text/plain": [
       "HTML(value='Die Veterinärmedizinische Universität Wien ist im Bereich Publikationen spezialisiert.<br/><strong…"
      ]
     },
     "metadata": {},
     "output_type": "display_data"
    },
    {
     "data": {
      "application/vnd.jupyter.widget-view+json": {
       "model_id": "0d4d24ecc071496db61954482d097957",
       "version_major": 2,
       "version_minor": 0
      },
      "text/plain": [
       "HTML(value='<h4>Vergleichbar bei der Drittmittel-Struktur</h4><p style=\"line-height: 1;\">')"
      ]
     },
     "metadata": {},
     "output_type": "display_data"
    },
    {
     "data": {
      "application/vnd.jupyter.widget-view+json": {
       "model_id": "4fe6da9873a54fdaa73385e25c81beb0",
       "version_major": 2,
       "version_minor": 0
      },
      "text/plain": [
       "HTML(value='Die Veterinärmedizinische Universität Wien ist im Bereich Drittmittel spezialisiert.<br/><strong>K…"
      ]
     },
     "metadata": {},
     "output_type": "display_data"
    },
    {
     "data": {
      "application/vnd.jupyter.widget-view+json": {
       "model_id": "202f342dcb9040248ca7e9ed8db90829",
       "version_major": 2,
       "version_minor": 0
      },
      "text/plain": [
       "HTML(value='</p><small>Universitäten mit einer Ähnlichkeit von weniger als 50% werden nicht angezeigt.</small>…"
      ]
     },
     "metadata": {},
     "output_type": "display_data"
    },
    {
     "data": {
      "application/vnd.jupyter.widget-view+json": {
       "model_id": "b9deff3751d7476380793fa09ffcc9bf",
       "version_major": 2,
       "version_minor": 0
      },
      "text/plain": [
       "HTML(value='<h3>Publikationen-Struktur der VMW</h3>')"
      ]
     },
     "metadata": {},
     "output_type": "display_data"
    },
    {
     "data": {
      "application/vnd.jupyter.widget-view+json": {
       "model_id": "c430d4e375794d819127d9c7a6d7ae2e",
       "version_major": 2,
       "version_minor": 0
      },
      "text/plain": [
       "HTML(value='Angezeigt werden WZW, die zusammen 79.3% der Publikationen an der VMW ausmachen. Alle anderen WZW …"
      ]
     },
     "metadata": {},
     "output_type": "display_data"
    },
    {
     "data": {
      "application/vnd.jupyter.widget-view+json": {
       "model_id": "530212691ebb428aa297931a80f305f3",
       "version_major": 2,
       "version_minor": 0
      },
      "text/plain": [
       "GridBox(children=(VBox(children=(HTML(value='<h4>Veterinärmedizin</h4><ul style=\"line-height: 1;\"><li>79.3% de…"
      ]
     },
     "metadata": {},
     "output_type": "display_data"
    },
    {
     "data": {
      "application/vnd.jupyter.widget-view+json": {
       "model_id": "bf824c3b2f854ed3bb3bda8f09d15695",
       "version_major": 2,
       "version_minor": 0
      },
      "text/plain": [
       "HTML(value='<h3>Drittmittel-Struktur der VMW</h3>')"
      ]
     },
     "metadata": {},
     "output_type": "display_data"
    },
    {
     "data": {
      "application/vnd.jupyter.widget-view+json": {
       "model_id": "f93e1208f360445e8814ae12d7cc7f1b",
       "version_major": 2,
       "version_minor": 0
      },
      "text/plain": [
       "HTML(value='Angezeigt werden WZW, die zusammen 66.9% der Drittmittel an der VMW ausmachen. Alle anderen WZW tr…"
      ]
     },
     "metadata": {},
     "output_type": "display_data"
    },
    {
     "data": {
      "application/vnd.jupyter.widget-view+json": {
       "model_id": "74a215b2a5b647448547e2b76eb5f206",
       "version_major": 2,
       "version_minor": 0
      },
      "text/plain": [
       "GridBox(children=(VBox(children=(HTML(value='<h4>Veterinärmedizin</h4><ul style=\"line-height: 1;\"><li>66.9% de…"
      ]
     },
     "metadata": {},
     "output_type": "display_data"
    },
    {
     "data": {
      "application/vnd.jupyter.widget-view+json": {
       "model_id": "82b71637e45e4ef8adb43b2a298e9a64",
       "version_major": 2,
       "version_minor": 0
      },
      "text/plain": [
       "HTML(value='<h2 style=\"page-break-before: always;\">Wirtschaftsuniversität Wien</h2>')"
      ]
     },
     "metadata": {},
     "output_type": "display_data"
    },
    {
     "data": {
      "application/vnd.jupyter.widget-view+json": {
       "model_id": "6be75c1d09564be7a6c4de60bce52f2c",
       "version_major": 2,
       "version_minor": 0
      },
      "text/plain": [
       "HTML(value='<h3>Vergleichbare Universitäten in Publikationen- und Drittmittel-Struktur</h3><ul style=\"line-hei…"
      ]
     },
     "metadata": {},
     "output_type": "display_data"
    },
    {
     "data": {
      "application/vnd.jupyter.widget-view+json": {
       "model_id": "fb2d33c50eb5435ea69a9b9a8f6b3172",
       "version_major": 2,
       "version_minor": 0
      },
      "text/plain": [
       "HTML(value='<li><strong>Keine.</strong> Die Wirtschaftsuniversität Wien ist stark spezialisiert.</li>')"
      ]
     },
     "metadata": {},
     "output_type": "display_data"
    },
    {
     "data": {
      "application/vnd.jupyter.widget-view+json": {
       "model_id": "09ea58e460e842189e3c1a43ed6a37f5",
       "version_major": 2,
       "version_minor": 0
      },
      "text/plain": [
       "HTML(value='</ul>')"
      ]
     },
     "metadata": {},
     "output_type": "display_data"
    },
    {
     "data": {
      "application/vnd.jupyter.widget-view+json": {
       "model_id": "63a96673ae4f4006a116c61c9f09470e",
       "version_major": 2,
       "version_minor": 0
      },
      "text/plain": [
       "HTML(value='<h4>Vergleichbar bei der Publikationen-Struktur</h4><p style=\"line-height: 1;\">')"
      ]
     },
     "metadata": {},
     "output_type": "display_data"
    },
    {
     "data": {
      "application/vnd.jupyter.widget-view+json": {
       "model_id": "a21e92de78d642868e898246c6206c87",
       "version_major": 2,
       "version_minor": 0
      },
      "text/plain": [
       "HTML(value='Die Wirtschaftsuniversität Wien ist im Bereich Publikationen spezialisiert.<br/><strong>Keine</str…"
      ]
     },
     "metadata": {},
     "output_type": "display_data"
    },
    {
     "data": {
      "application/vnd.jupyter.widget-view+json": {
       "model_id": "b5aa421d6bd94c07a8cebfc9e01d5223",
       "version_major": 2,
       "version_minor": 0
      },
      "text/plain": [
       "HTML(value='<h4>Vergleichbar bei der Drittmittel-Struktur</h4><p style=\"line-height: 1;\">')"
      ]
     },
     "metadata": {},
     "output_type": "display_data"
    },
    {
     "data": {
      "application/vnd.jupyter.widget-view+json": {
       "model_id": "8272a055f00c4b6e970320356fc6b6b0",
       "version_major": 2,
       "version_minor": 0
      },
      "text/plain": [
       "HTML(value='Die Wirtschaftsuniversität Wien ist im Bereich Drittmittel spezialisiert.<br/><strong>Keine</stron…"
      ]
     },
     "metadata": {},
     "output_type": "display_data"
    },
    {
     "data": {
      "application/vnd.jupyter.widget-view+json": {
       "model_id": "7f1817e60d2648cf988ca951339ad1d6",
       "version_major": 2,
       "version_minor": 0
      },
      "text/plain": [
       "HTML(value='</p><small>Universitäten mit einer Ähnlichkeit von weniger als 50% werden nicht angezeigt.</small>…"
      ]
     },
     "metadata": {},
     "output_type": "display_data"
    },
    {
     "data": {
      "application/vnd.jupyter.widget-view+json": {
       "model_id": "1d92601f381843379cbecba8c2be1afa",
       "version_major": 2,
       "version_minor": 0
      },
      "text/plain": [
       "HTML(value='<h3>Publikationen-Struktur der WUW</h3>')"
      ]
     },
     "metadata": {},
     "output_type": "display_data"
    },
    {
     "data": {
      "application/vnd.jupyter.widget-view+json": {
       "model_id": "db57940a15084625ac8afcabd9f0a76a",
       "version_major": 2,
       "version_minor": 0
      },
      "text/plain": [
       "HTML(value='Angezeigt werden WZW, die zusammen 85.0% der Publikationen an der WUW ausmachen. Alle anderen WZW …"
      ]
     },
     "metadata": {},
     "output_type": "display_data"
    },
    {
     "data": {
      "application/vnd.jupyter.widget-view+json": {
       "model_id": "144cf514b4074f24a722385f452b5466",
       "version_major": 2,
       "version_minor": 0
      },
      "text/plain": [
       "GridBox(children=(VBox(children=(HTML(value='<h4>Wirtschaftswissenschaften</h4><ul style=\"line-height: 1;\"><li…"
      ]
     },
     "metadata": {},
     "output_type": "display_data"
    },
    {
     "data": {
      "application/vnd.jupyter.widget-view+json": {
       "model_id": "98a76bb1839846b696cbf95df7452a33",
       "version_major": 2,
       "version_minor": 0
      },
      "text/plain": [
       "HTML(value='<h3>Drittmittel-Struktur der WUW</h3>')"
      ]
     },
     "metadata": {},
     "output_type": "display_data"
    },
    {
     "data": {
      "application/vnd.jupyter.widget-view+json": {
       "model_id": "c496544e56e5458d9c53773155779482",
       "version_major": 2,
       "version_minor": 0
      },
      "text/plain": [
       "HTML(value='Angezeigt werden WZW, die zusammen 76.9% der Drittmittel an der WUW ausmachen. Alle anderen WZW tr…"
      ]
     },
     "metadata": {},
     "output_type": "display_data"
    },
    {
     "data": {
      "application/vnd.jupyter.widget-view+json": {
       "model_id": "1cd1414eac284ccdadf173a12fa31f89",
       "version_major": 2,
       "version_minor": 0
      },
      "text/plain": [
       "GridBox(children=(VBox(children=(HTML(value='<h4>Wirtschaftswissenschaften</h4><ul style=\"line-height: 1;\"><li…"
      ]
     },
     "metadata": {},
     "output_type": "display_data"
    }
   ],
   "source": [
    "%matplotlib inline \n",
    "\n",
    "from pandas import Series \n",
    "import pandas as pd \n",
    "import numpy as np\n",
    "import matplotlib.pyplot as plt\n",
    "from matplotlib import pyplot, transforms\n",
    "from textwrap import wrap\n",
    "\n",
    "import re\n",
    "import ipywidgets as widgets\n",
    "import PIL as pil\n",
    "\n",
    "#data = pd.read_csv('1.C.1.csv', sep=';', index_col=[0, 1, 2, 3])\n",
    "#data.sort_index(inplace=True)\n",
    "\n",
    "#idx = pd.IndexSlice\n",
    "#tmp = data.loc[idx[:, 'Psychologie', :, 2018], :]\n",
    "\n",
    "#print(tmp.index.get_level_values('university').unique())\n",
    "#display(data.loc['FWF'].xs(2018, level='year'))\n",
    "#display(data.xs(2018, level='year'))\n",
    "\n",
    "def get_valid_filename(s):\n",
    "    s = str(s).strip().replace(' ', '_')\n",
    "    return re.sub(r'(?u)[^-\\w.]', '', s)\n",
    "            \n",
    "university_short_forms = { 'Universität Wien': 'UWI',\n",
    "                           'Universität Graz': 'UGR',\n",
    "                           'Universität Innsbruck': 'UIN',\n",
    "                           'Universität Salzburg': 'USA',\n",
    "                           'Universität Klagenfurt': 'UKL',\n",
    "                           'Universität für Bodenkultur Wien': 'BKW',\n",
    "                           'Universität für künstlerische und industrielle Gestaltung Linz': 'UGL',\n",
    "                           'Universität für angewandte Kunst Wien': 'UAW',\n",
    "                           'Universität Mozarteum Salzburg': 'UMS',\n",
    "                           'Medizinische Universität Wien': 'MUW',\n",
    "                           'Medizinische Universität Graz': 'MUG',\n",
    "                           'Medizinische Universität Innsbruck': 'MUI',\n",
    "                           'Universität Linz': 'ULI',\n",
    "                           'Akademie der bildenden Künste Wien': 'ABW',\n",
    "                           'Technische Universität Wien': 'TUW',\n",
    "                           'Technische Universität Graz': 'TUG',\n",
    "                           'Veterinärmedizinische Universität Wien': 'VMW',\n",
    "                           'Montanuniversität Leoben': 'MUL',\n",
    "                           'Universität für Weiterbildung Krems': 'UWK',\n",
    "                           'Wirtschaftsuniversität Wien': 'WUW',\n",
    "                           'Universität für Musik und darstellende Kunst Wien': 'MKW',\n",
    "                           'Universität für Musik und darstellende Kunst Graz': 'MKG'\n",
    "                         }\n",
    "\n",
    "def shorten(name):\n",
    "    if name in university_short_forms:\n",
    "        return university_short_forms[name]\n",
    "    else:\n",
    "        return name\n",
    "\n",
    "\n",
    "class Dimension:\n",
    "    @classmethod\n",
    "    def create(cls, dataframe, dimensions):\n",
    "        dims = dict()\n",
    "        for dim in dimensions:\n",
    "            assert dim in dataframe.index.names, \"There is no index '\" + dim + \"'\"\n",
    "            cats = dataframe.index.get_level_values(dim).unique()\n",
    "            dims[dim] = Dimension(dim, cats.values)\n",
    "        return dims\n",
    "    \n",
    "    def __init__(self, name, categories):\n",
    "        self.__name = name\n",
    "        self.__categories = categories   \n",
    "    @property\n",
    "    def name (self):\n",
    "        return self.__name\n",
    "    @property\n",
    "    def categories(self):\n",
    "        return self.__categories  \n",
    "    def __str__(self):\n",
    "        return self.name\n",
    "        \n",
    "class Datasheet:\n",
    "    def __init__(self, filename, dimensions, timepoint_name, university_name, value_name):\n",
    "        dataframe = pd.read_csv(filename, sep=';', index_col=list(range(len(dimensions)+2)))        \n",
    "        dataframe.columns = [value_name]\n",
    "        dataframe.sort_index(inplace=True)\n",
    "\n",
    "        assert timepoint_name in dataframe.index.names, \"There is no index '\" + timepoint_name + \"'\"\n",
    "        assert university_name in dataframe.index.names, \"There is no index '\" + university_name + \"'\"\n",
    "        assert value_name in dataframe, \"There is no colum with valid data called '\" + value_name + \"'\"\n",
    "        \n",
    "        self.__dataframe = dataframe\n",
    "        self.__timepoint_idx = timepoint_name\n",
    "        self.__university_idx = university_name\n",
    "        self.__value_column = value_name       \n",
    "        self.__dimensions = Dimension.create(dataframe, dimensions + [university_name, timepoint_name])\n",
    "        self.__timepoints = dataframe.index.get_level_values(timepoint_name).unique()\n",
    "        self.__universities = dataframe.index.get_level_values(university_name).unique()\n",
    "        self.__recent_timepoint = self.__timepoints.max()\n",
    "                \n",
    "    @property\n",
    "    def value_column(self):\n",
    "        return self.__value_column\n",
    "    @property\n",
    "    def university_idx(self):\n",
    "        return self.__university_idx\n",
    "    @property\n",
    "    def timepoint_idx(self):\n",
    "        return self.__timepoint_idx\n",
    "    @property\n",
    "    def dimensions(self):\n",
    "        return self.__dimensions\n",
    "    @property\n",
    "    def most_recent(self):\n",
    "        return self.__recent_timepoint\n",
    "    @property\n",
    "    def universities(self):\n",
    "        return self.__universities\n",
    "    \n",
    "    def only(self, conditions):\n",
    "        df = self.__dataframe\n",
    "        if conditions is None:\n",
    "            return df\n",
    "        slices = list()\n",
    "        for dim in self.dimensions.keys():\n",
    "            if self.dimensions[dim].name in conditions.keys():\n",
    "                slices.append(conditions[self.dimensions[dim].name])\n",
    "            else:\n",
    "                slices.append(slice(None))\n",
    "        return df.loc[tuple(slices), :]\n",
    "        \n",
    "    def analyze(self, description, about, filtering=None):\n",
    "        return Analysis(self, description, self.dimensions[about], self.only(filtering) \\\n",
    "                            .sum(level = [self.dimensions[about].name, self.university_idx]))\n",
    "\n",
    "\n",
    "class Analysis:\n",
    "    def __init__(self, sheet, properties, about, table):\n",
    "        self.__sheet = sheet\n",
    "        self.__table = table.unstack(about.name, fill_value=0)\n",
    "        self.__about = about\n",
    "        self.__props = properties\n",
    "        \n",
    "        self.__sums = table.sum(axis='columns')\n",
    "        self.__sums.name = sheet.value_column\n",
    "        self.__totals = table.sum(level=[about.name])[sheet.value_column]\n",
    "        self.__grand_total = table.sum()\n",
    "        self.__grand_total.name = 'grand total'\n",
    "        \n",
    "        assert self.__grand_total[sheet.value_column] == self.__sums.sum()\n",
    "        \n",
    "        self.__structure = Structure(self)\n",
    "        self.__ranking = Ranking(self)\n",
    "\n",
    "               \n",
    "    @property\n",
    "    def sheet(self):\n",
    "        return self.__sheet\n",
    "    @property\n",
    "    def table(self):\n",
    "        return self.__table\n",
    "    @property\n",
    "    def horizontal_sums(self):\n",
    "        return self.__sums\n",
    "    @property\n",
    "    def sums(self):\n",
    "        return self.horizontal_sums\n",
    "    @property\n",
    "    def vertical_sums(self):\n",
    "        return self.__totals\n",
    "    @property\n",
    "    def totals(self):\n",
    "        return self.vertical_sums\n",
    "    @property\n",
    "    def dim(self):\n",
    "        return self.__about\n",
    "    @property\n",
    "    def description(self):\n",
    "        return self.__props['description']\n",
    "    @property\n",
    "    def about(self):\n",
    "        return self.__props['about']\n",
    "    @property\n",
    "    def scale_description(self):\n",
    "        return self.__props['scale_description']\n",
    "    \n",
    "    def scale(self, value):\n",
    "        return self.__props['scale'](value)\n",
    "    def scale_format(self, value):\n",
    "        return self.__props['scale_format'].format(self.scale(value))\n",
    "    def format(self, value):\n",
    "        return self.__props['format'].format(value)\n",
    "    @property\n",
    "    def value_format(self):\n",
    "        return self.__props['format']\n",
    "    \n",
    "    \n",
    "    @property\n",
    "    def grand_total(self):\n",
    "        return self.__grand_total\n",
    "    @property\n",
    "    def structure(self):\n",
    "        return self.__structure\n",
    "    @property\n",
    "    def ranking(self):\n",
    "        return self.__ranking\n",
    "    \n",
    "    def values(self, university):\n",
    "        tmp = self.table.loc[university]\n",
    "        tmp.name = self.sheet.value_column\n",
    "        return tmp\n",
    "\n",
    "    \n",
    "    \n",
    "class Ranking:\n",
    "    def __init__(self, analysis):\n",
    "        self.__analysis = analysis\n",
    "        self.__rankings = analysis.table.rank(axis='rows', method='max', ascending=False)\n",
    "        \n",
    "        tmp = analysis.horizontal_sums.sum(level=self.analysis.sheet.university_idx)\n",
    "        self.__total_ranking = tmp.rank(method='max', ascending=False).sort_values()\n",
    "        self.__total_ranking.name = 'rank'\n",
    "        \n",
    "    @property\n",
    "    def analysis(self):\n",
    "        return self.__analysis\n",
    "    @property\n",
    "    def table(self):\n",
    "        return self.__rankings\n",
    "    \n",
    "    def of(self, university, category=None):\n",
    "        categories = self.__analysis.dim.categories\n",
    "        retval = None\n",
    "        if category == None:\n",
    "            retval = self.__total_ranking.loc[university]\n",
    "            retval.name = 'ranking'\n",
    "        else:\n",
    "            if category in categories:\n",
    "                retval = self.__rankings[self.analysis.sheet.value_column, category][university].astype(int)\n",
    "            else:\n",
    "                retval = self.__rankings.loc[university].astype(int)\n",
    "        return retval\n",
    "\n",
    "    def better_than(self, university, category=None):\n",
    "        if category == None:\n",
    "            return self.__total_ranking[self.__total_ranking < self.__total_ranking[university]]\n",
    "        else:\n",
    "            tmp = self.__rankings[self.analysis.sheet.value_column, category].sort_values()\n",
    "            return tmp[tmp[university] > tmp]\n",
    "        \n",
    "    def best(self, category, top=1):\n",
    "        tmp = self.__rankings[self.analysis.sheet.value_column, category].sort_values()[0:top]\n",
    "        return tmp\n",
    "       \n",
    "        \n",
    "            \n",
    "\n",
    "class Structure:\n",
    "    def __init__(self, analysis):\n",
    "        self.__analysis = analysis\n",
    "        tmp = analysis.sums.sum(level=[analysis.sheet.university_idx])\n",
    "        self.__table = analysis.table.divide(tmp, axis=0).droplevel(level=0, axis='columns')\n",
    "        self.__table.name = analysis.sheet.value_column    \n",
    "        \n",
    "    @property\n",
    "    def table(self):\n",
    "        return self.__table\n",
    "    @property\n",
    "    def analysis(self):\n",
    "        return self.__analysis\n",
    "    \n",
    "    def most_important_to(self, university, cutoff=0.9):\n",
    "        u = self.table.loc[university].sort_values(ascending=False)\n",
    "        u.name = 'relevance'\n",
    "        cumsum = u.cumsum()\n",
    "        cut = (cumsum > cutoff).idxmax()\n",
    "        return u[:cut]\n",
    "\n",
    "    def of(self, university):\n",
    "        tmp = self.table.loc[university].sort_values(ascending=False)\n",
    "        tmp.name = 'relevance'\n",
    "        return tmp\n",
    "    \n",
    "    def similarities_to(self, university):\n",
    "        mirror = self.table.swapaxes('columns', 'rows', copy=False)\n",
    "        uni = mirror[university]\n",
    "        tmp = pd.DataFrame(data=uni.values).reindex_like(mirror)\n",
    "        tmp.loc[:, :] = uni[:, None]\n",
    "        return mirror.combine(tmp, np.minimum)\n",
    "        \n",
    "    def most_similar_to(self, university):\n",
    "        m = self.similarities_to(university)\n",
    "        result = m.sum(axis='rows')\n",
    "        result = result.sort_values(ascending=False)[1:]\n",
    "        result.name = 'similarity'\n",
    "        return result\n",
    "        \n",
    "        \n",
    "def highlight_places(column, series):\n",
    "    l = len(series.index)\n",
    "    if series[column] == 1:\n",
    "        return ['background-color: green']*l\n",
    "    elif series[column] == 2 or series[column] == 3:\n",
    "        return ['background-color: yellow']*l\n",
    "    else:\n",
    "        return ['background-color: white']*l\n",
    "            \n",
    "class University:\n",
    "    def __init__(self, name):\n",
    "        self.__name = name\n",
    "        self.__analyses = list()\n",
    "        self.__similarity_matrices = dict()\n",
    "        self.__similars = dict()\n",
    "        self.__images = dict()\n",
    "        self.__similarity_filter = 1/2\n",
    "        \n",
    "    def __lt__(self, other):\n",
    "        return self.name < other.name\n",
    "        \n",
    "    @property\n",
    "    def name(self):\n",
    "        return self.__name\n",
    "    @property\n",
    "    def short(self):\n",
    "        return shorten(self.__name)\n",
    "    @property\n",
    "    def similarity_filter(self):\n",
    "        return self.__similarity_filter\n",
    "    @property\n",
    "    def similars(self):\n",
    "        return self.__similars\n",
    "    \n",
    "    \n",
    "    def add_analysis(self, analysis):\n",
    "        a = analysis\n",
    "        self.__analyses.append(analysis)\n",
    "        self.__similarity_matrices[a.description] = a.structure.most_similar_to(self.name)\n",
    "        self.__similars[a.description] = list()\n",
    "            \n",
    "        cutoff = 2/3\n",
    "        series = a.structure.most_important_to(self.name, cutoff)\n",
    "        series.name = self.name\n",
    "        df = series.to_frame()\n",
    "            \n",
    "        similars = self.__similarity_matrices[a.description]\n",
    "        tmp = list()\n",
    "        for i, other in enumerate(similars.index.values):\n",
    "            if similars[other] < self.similarity_filter:\n",
    "                if i == 0:\n",
    "                    break\n",
    "            else:\n",
    "                self.__similars[a.description].append(other)\n",
    "                tmp.append((shorten(other) + '\\n{:.0%}'.format(similars[other]), similars[other]))\n",
    "                series = a.structure.most_important_to(other, 0.99)\n",
    "                series.name = other\n",
    "                df = df.merge(series.to_frame(), how='left', on='fos')\n",
    "        \n",
    "        df.sort_values(by=self.name, ascending=False)\n",
    "        identity = df\n",
    "        rest = 1 - identity.sum()\n",
    "        df.loc['Andere'] = rest\n",
    "                \n",
    "        figure = plt.figure(figsize=(8*1.75, 2*1.75), frameon=False)  \n",
    "        ax = df.T.plot(kind='barh', ax=plt.gca(), legend=False, stacked=True, fontsize=14)\n",
    "        ax.invert_yaxis()\n",
    "        ax.set_xticks([0.5, 2/3, 4/5])#[sim for _, sim in tmp])#[0.5, 0.8])\n",
    "        ax.set_xticklabels(['{:.1%}'.format(0.5),\n",
    "                            '{:.1%}'.format(2/3),\n",
    "                            '{:.1%}'.format(4/5)])#other for other, _ in tmp)#['50%', '80%'])\n",
    "        \n",
    "        for i, rect in enumerate(ax.patches):\n",
    "            fos = i / len(df.columns)\n",
    "            if rect.get_width() > 0 and i % len(df.columns) == 0:\n",
    "                 ax.text(rect.get_x() + rect.get_width()*0.6,\n",
    "                         rect.get_y() - rect.get_height()/2,\n",
    "                         '\\n'.join(wrap(df.index[fos], 20)),\n",
    "                         rotation=55,\n",
    "                         ha='left', va='bottom', wrap=True,\n",
    "                         fontsize=12, color='#000000')\n",
    "        \n",
    "        filename = get_valid_filename(self.short + '_' + '_'.join([a.description, 'overview']) + '.png')\n",
    "        plt.tight_layout()\n",
    "        plt.savefig(filename, format='png', transparent=True)\n",
    "        plt.close()\n",
    "        self.__images[a.description] = filename\n",
    "        \n",
    "    def describe(self):\n",
    "        display(widgets.HTML('<h2 style=\"page-break-before: always;\">' + self.name + '</h2>'))\n",
    "        \n",
    "        display(widgets.HTML('<h3>Vergleichbare Universitäten in '\n",
    "                    + '- und '.join(self.similars.keys()) \n",
    "                    + '-Struktur</h3><ul style=\"line-height: 1;\">'))\n",
    "            \n",
    "        similars = None\n",
    "        for similars_list in self.similars.values():\n",
    "            if similars is None:\n",
    "                similars = set(similars_list)\n",
    "            else:\n",
    "                similars = similars.intersection(set(similars_list))\n",
    "                \n",
    "        for s in similars:\n",
    "            display(widgets.HTML('<li style=\"margin-bottom: 5px;\">' + s + '</li>'))\n",
    "        if len(similars) == 0:\n",
    "            display(widgets.HTML('<li><strong>Keine.</strong> Die ' + self.name + ' ist stark spezialisiert.</li>'))\n",
    "        display(widgets.HTML('</ul>'))\n",
    "        \n",
    "        for a in self.__analyses:            \n",
    "            display(widgets.HTML('<h4>Vergleichbar bei der ' + a.description + '-Struktur</h4><p style=\"line-height: 1;\">'))\n",
    "            sim_strs = list()\n",
    "            if len(self.similars[a.description]) == 0:\n",
    "                sim_strs.append('Die ' + self.name + ' ist im Bereich ' + a.description + ' spezialisiert.<br/>'\n",
    "                                + '<strong>Keine</strong> andere Universität ähnelt der '\n",
    "                                + self.name + ' in der ' \n",
    "                                + a.description + '-Struktur in auffälliger Weise.')\n",
    "            \n",
    "            similars = self.__similarity_matrices[a.description]\n",
    "            sm = a.structure.similarities_to(self.name)\n",
    "    \n",
    "            for i, other in enumerate(self.similars[a.description]):\n",
    "                if i > 5:\n",
    "                    break\n",
    "                sim_str = '<strong>' + other \\\n",
    "                          +  '</strong> (' + '{:.1%}'.format(similars[i]) \\\n",
    "                          + ', wegen &auml;hnlicher interner Relevanz von '\n",
    "                similarities = sm[other].sort_values(ascending=False)\n",
    "                sim_str += ', '.join(similarities.head(3).index.values)\n",
    "                sim_str += ')'\n",
    "                sim_strs.append(sim_str)\n",
    "            display(widgets.HTML(', '.join(sim_strs)))\n",
    "            if len(self.similars[a.description]):\n",
    "                display(widgets.Image(value=open(self.__images[a.description], 'rb').read(), width=800, height=200))\n",
    "                \n",
    "        display(widgets.HTML('</p><small>Universitäten mit einer Ähnlichkeit von weniger als '\n",
    "                    + '{:.0%}'.format(self.similarity_filter)\n",
    "                    + ' werden nicht angezeigt.</small>'))\n",
    "        \n",
    "        for a in self.__analyses:\n",
    "            display(widgets.HTML(\"<h3>\" + a.description + \"-Struktur der \" + self.short + \"</h3>\"))\n",
    "            cutoff = 2/3\n",
    "            df = a.structure.most_important_to(self.name, cutoff)\n",
    "            identity = df\n",
    "            rest = 1 - identity.sum()\n",
    "            display(widgets.HTML('Angezeigt werden ' + a.about + ', die zusammen '\n",
    "                         + '{:.1%}'.format(identity.sum()) + ' der ' + a.description \n",
    "                         + ' an der ' + shorten(self.name) + ' ausmachen. '\n",
    "                         + 'Alle anderen ' + a.about + ' tragen je weniger als '\n",
    "                         + '{:.1%}'.format(min(rest, identity.min())) + ' bei.'))\n",
    "            \n",
    "            df = df[df > 0].dropna().to_frame()\n",
    "            df = df.join(a.ranking.of(self.name, 'all')) \\\n",
    "                   .join(a.values(self.name))\n",
    "            \n",
    "            best = pd.Series()\n",
    "            better = pd.Series()\n",
    "            best.name = 'best'\n",
    "            better.name = 'better'\n",
    "            plots = dict()\n",
    "            \n",
    "            for cat in df.index.get_level_values(level=a.dim.name):\n",
    "                best_uni = a.ranking.best(cat).index.values[0]\n",
    "                if best_uni == self.name:\n",
    "                    best_uni = '(diese)'\n",
    "                else: \n",
    "                    best_uni += ' (' + a.scale_format(a.values(best_uni)[a.sheet.value_column, cat]) + ')'\n",
    "                    \n",
    "                better_than_me = a.ranking.better_than(self.name, cat)\n",
    "                better_unis = ', '.join(better_than_me.index.values)\n",
    "                \n",
    "                my_rank = a.ranking.of(self.name, cat)\n",
    "                ranks = pd.DataFrame()\n",
    "                ranks.name = cat\n",
    "                for top5 in a.ranking.best(cat, top=max(my_rank+1, 4)).index.values:\n",
    "                    ranks.at[top5, a.sheet.value_column] = a.scale(a.values(top5)[a.sheet.value_column, cat])\n",
    "                    \n",
    "                figure = plt.figure(figsize=(6,4))                    \n",
    "                ax = ranks.plot.bar(ax=plt.gca(), legend=False, width=1, fontsize=20)\n",
    "                for i, bar in enumerate(ax.patches):\n",
    "                    if i == my_rank-1:\n",
    "                        if my_rank == 1:\n",
    "                            bar.set_facecolor('#10C860')\n",
    "                        elif 2 <= my_rank <= 3:\n",
    "                            bar.set_facecolor('#D0D820')\n",
    "                        else:\n",
    "                            bar.set_facecolor('#D85010')\n",
    "                    else:\n",
    "                        bar.set_facecolor('#C0C0C0')\n",
    "                ax.set_ylabel(a.scale_description, fontsize=20)\n",
    "                labels = ax.get_xticklabels()\n",
    "                for label in labels:\n",
    "                    label.set_text(shorten(label.get_text()))\n",
    "                ax.set_xticklabels(labels)\n",
    "                filename = get_valid_filename(self.short + '_'.join([cat, a.description]) + '.png')\n",
    "                plt.tight_layout()\n",
    "                plt.savefig(filename, format='png', transparent=True)\n",
    "                plt.close()\n",
    "                plots[cat] = filename\n",
    "                \n",
    "                if better_unis == '':\n",
    "                    better_unis = '(keine)'\n",
    "                    \n",
    "                best.at[cat] = best_uni\n",
    "                better.at[cat] = filename\n",
    "                \n",
    "            df = df.join(best, on=a.dim.name).join(better, on=a.dim.name)\n",
    "            df = df.droplevel(0)\n",
    "            \n",
    "            \n",
    "            df.index.name = a.about\n",
    "            df.columns = ['Intern', 'Ranking', a.description, 'Beste Universität', 'Universität im Vergleich']\n",
    "            df = df.sort_values('Intern', ascending=False)\n",
    "            df['Universität im Vergleich'] = df.index.map(lambda fos: plots[fos])\n",
    "            \n",
    "            boxes = list()\n",
    "            for entry in df.index:\n",
    "                boxes.append(widgets.VBox(                    \n",
    "                      (widgets.HTML(('<h4>{entry}</h4><ul style=\"line-height: 1;\">' + \n",
    "                                     '<li>{intern:.1%} der {name} an der {uni}</li>' +\n",
    "                                     '<li>{system:.1%} aller {name} in {entry} ({rank}. Platz)</li></ul>')\n",
    "                             .format(entry=str(entry),\n",
    "                                     intern=df['Intern'].loc[entry], \n",
    "                                     name=a.description,\n",
    "                                     system=df[a.description].loc[entry] / a.vertical_sums[str(entry)],\n",
    "                                     rank=df['Ranking'].loc[entry],\n",
    "                                     uni=self.short)),\n",
    "                      widgets.Image(value=open(df['Universität im Vergleich'].loc[entry], \"rb\").read(), width=6*50, height=4*50),\n",
    "                      )))\n",
    "                \n",
    "            display(widgets.GridBox(children=boxes,\n",
    "                                    layout=widgets.Layout(grid_template_rows='auto auto auto',\n",
    "                                                          grid_template_columns='50% 50%')))\n",
    "                                     \n",
    "            \n",
    "            \n",
    "\n",
    "ds = Datasheet('3.B.1.csv', ['fos'], 'year', 'university', 'funding')\n",
    "analysis = ds.analyze({'description': 'Publikationen',\n",
    "                       'about': 'WZW',\n",
    "                       'format': '{:} Publikationen',\n",
    "                       'scale_description': 'Publikationen',\n",
    "                       'scale': lambda x: x,\n",
    "                       'scale_format': '{:} Publikationen'\n",
    "                      }, \"fos\", {'year': ds.most_recent})\n",
    "\n",
    "\n",
    "ds2 = Datasheet('1.C.1.csv', ['fos', 'funder'], 'year', 'university', 'funding')\n",
    "analysis2 = ds2.analyze({'description': 'Drittmittel',\n",
    "                       'about': 'WZW',\n",
    "                       'format': '{:,} €',\n",
    "                       'scale_description': 'Millionen Euro',\n",
    "                       'scale': lambda x: x/1000000,\n",
    "                       'scale_format': '{:} Mio. €'\n",
    "                      }, \"fos\", {'year': ds.most_recent})\n",
    "\n",
    "universities = list()\n",
    "\n",
    "for uni_name in ds.universities:\n",
    "    u = University(uni_name)\n",
    "    u.add_analysis(analysis)\n",
    "    u.add_analysis(analysis2)\n",
    "    universities.append(u)\n",
    "    \n",
    "for u in sorted(universities):\n",
    "    u.describe()\n",
    "    \n",
    "    \n",
    "    "
   ]
  }
 ],
 "metadata": {
  "kernelspec": {
   "display_name": "Python 3",
   "language": "python",
   "name": "python3"
  },
  "language_info": {
   "codemirror_mode": {
    "name": "ipython",
    "version": 3
   },
   "file_extension": ".py",
   "mimetype": "text/x-python",
   "name": "python",
   "nbconvert_exporter": "python",
   "pygments_lexer": "ipython3",
   "version": "3.7.3"
  }
 },
 "nbformat": 4,
 "nbformat_minor": 2
}
